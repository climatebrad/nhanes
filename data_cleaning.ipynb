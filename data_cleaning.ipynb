{
 "cells": [
  {
   "cell_type": "markdown",
   "id": "interested-bottom",
   "metadata": {},
   "source": [
    "## Import Libraries"
   ]
  },
  {
   "cell_type": "code",
   "execution_count": 1,
   "id": "varying-weight",
   "metadata": {},
   "outputs": [],
   "source": [
    "import pandas as pd\n",
    "import nhanes_loader\n"
   ]
  },
  {
   "cell_type": "markdown",
   "id": "falling-fisher",
   "metadata": {},
   "source": [
    "## Import Household Adult File"
   ]
  },
  {
   "cell_type": "code",
   "execution_count": 2,
   "id": "floral-relay",
   "metadata": {},
   "outputs": [],
   "source": [
    "from nhanes.household_adult_file import HouseholdAdultFile\n",
    "nh = HouseholdAdultFile()"
   ]
  },
  {
   "cell_type": "markdown",
   "id": "recovered-cloud",
   "metadata": {},
   "source": [
    "## Import Exam File"
   ]
  },
  {
   "cell_type": "code",
   "execution_count": 3,
   "id": "complete-duncan",
   "metadata": {},
   "outputs": [],
   "source": [
    "from nhanes.exam_file import ExamFile"
   ]
  },
  {
   "cell_type": "code",
   "execution_count": 4,
   "id": "collect-might",
   "metadata": {},
   "outputs": [],
   "source": [
    "exam = ExamFile()"
   ]
  },
  {
   "cell_type": "markdown",
   "id": "stopped-deficit",
   "metadata": {},
   "source": [
    "## Import Household Youth File"
   ]
  },
  {
   "cell_type": "code",
   "execution_count": 5,
   "id": "legitimate-recipe",
   "metadata": {},
   "outputs": [],
   "source": [
    "from nhanes.household_youth_file import HouseholdYouthFile"
   ]
  },
  {
   "cell_type": "code",
   "execution_count": 6,
   "id": "endless-drunk",
   "metadata": {},
   "outputs": [],
   "source": [
    "youth = HouseholdYouthFile()"
   ]
  },
  {
   "cell_type": "markdown",
   "id": "addressed-render",
   "metadata": {},
   "source": [
    "## Combine adult and exam files - adult_exam"
   ]
  },
  {
   "cell_type": "markdown",
   "id": "earned-flight",
   "metadata": {},
   "source": [
    "match files on the SEQN field "
   ]
  },
  {
   "cell_type": "code",
   "execution_count": 7,
   "id": "visible-python",
   "metadata": {},
   "outputs": [],
   "source": [
    "adult_exam = nh.data.set_index('SEQN').join(exam.data.set_index('SEQN'),rsuffix='_exam')"
   ]
  },
  {
   "cell_type": "markdown",
   "id": "worldwide-talent",
   "metadata": {},
   "source": [
    "## Combine youth and exam files - youth_exam"
   ]
  },
  {
   "cell_type": "code",
   "execution_count": 8,
   "id": "headed-shade",
   "metadata": {},
   "outputs": [],
   "source": [
    "youth_exam = youth.data.set_index('SEQN').join(exam.data.set_index('SEQN'),rsuffix='_exam')"
   ]
  },
  {
   "cell_type": "markdown",
   "id": "robust-console",
   "metadata": {},
   "source": [
    "## Perform exclusions on adult_exam"
   ]
  },
  {
   "cell_type": "code",
   "execution_count": 9,
   "id": "eleven-scene",
   "metadata": {},
   "outputs": [],
   "source": [
    "adult_final = (adult_exam.query('(SPPMANEU > 1 & SPPMANEU < 88) & (SPPREPRO == 4 | SPPREPRO == 1)')\n",
    " .query('MXPAXTMR < 1080').query('DMARETHN < 4').query('not HAR1 ==1')\n",
    " .query('not HAR23 == 1').query('not HAR26 == 1' )\n",
    " .query('not (0 < HXPG1 < 888 | 0 < HXPG2A < 88 | 0 < HXPG2B < 88)')\n",
    " .query('not HAR26 == 1'). query('not HAC1E == 1')\n",
    " .query('not HAC1F == 1')\n",
    " .query('not HAC1G == 1')\n",
    " .query('not HAL6 == 1')\n",
    " .query('not HAL10 == 1')\n",
    " .query('not HAL1 == 1')\n",
    " .query('not HAL3 == 1')\n",
    " .query('not HAL5 == 1')\n",
    " .query('not SPPFEV3 == 88888')\n",
    " .query('not MXPAXTMR == 9999'))"
   ]
  },
  {
   "cell_type": "markdown",
   "id": "diagnostic-brief",
   "metadata": {},
   "source": [
    "## Perform exclusions on youth_exam"
   ]
  },
  {
   "cell_type": "code",
   "execution_count": 10,
   "id": "frequent-fashion",
   "metadata": {},
   "outputs": [],
   "source": [
    "youth_final = (youth_exam.query('MXPAXTMR > 95')\n",
    ".query('(SPPMANEU > 1 & SPPMANEU < 88) & (SPPREPRO == 4 | SPPREPRO == 1)')\n",
    ".query('DMARETHN < 4')\n",
    ".query('not MYPB3 == 1')\n",
    ".query('not MYPB11 >0').query('not MYPB27A >0')\n",
    ".query('not HYE1G == 1')\n",
    ".query('not HYE1H == 1')\n",
    ".query('not HYG8 == 1')\n",
    ".query('not HYG12 == 1')\n",
    ".query('not HYG2 == 1')\n",
    ".query('not HYG4 == 1') \n",
    ".query('not HYG7 == 555')\n",
    ".query('BMPHT > 114')\n",
    ".query('not SPPFEV3 == 88888')\n",
    ".query('not MXPAXTMR == 9999'))"
   ]
  },
  {
   "cell_type": "code",
   "execution_count": 61,
   "id": "competitive-partner",
   "metadata": {},
   "outputs": [],
   "source": [
    "adult_final = adult_final.replace({'HSAITMOR' : 9999}, {'HSAITMOR' : np.nan})"
   ]
  },
  {
   "cell_type": "markdown",
   "id": "statewide-cigarette",
   "metadata": {},
   "source": [
    "## Feature creation"
   ]
  },
  {
   "cell_type": "code",
   "execution_count": 60,
   "id": "civic-digit",
   "metadata": {},
   "outputs": [],
   "source": [
    "def ratio_feature(df, feature, numerator, denominator, multiplication_factor=1):\n",
    "    '''generate new dataframe feature as a ratio between numerator and denominator'''\n",
    "    if pd.isnull(multiplication_factor):\n",
    "        multiplication_factor = 1\n",
    "        \n",
    "    if pd.isnull(denominator):\n",
    "        df[feature] = df[numerator] * multiplication_factor\n",
    "    else:\n",
    "        df[feature] = df[numerator] / df[denominator] * multiplication_factor\n",
    "    \n",
    "def createvariables(df, features_csv='data/features.csv'):\n",
    "    \"\"\"Load feature information from csv for use by ratio_feature\"\"\"\n",
    "    variable_list = pd.read_csv(features_csv)\n",
    "    for index, row in variable_list.iterrows():\n",
    "        ratio_feature(adult_final, row.feature, row.numerator, row.denominator, row.multiplication_factor)\n"
   ]
  },
  {
   "cell_type": "code",
   "execution_count": 52,
   "id": "relevant-republican",
   "metadata": {},
   "outputs": [],
   "source": [
    "createvariables(adult_final)"
   ]
  },
  {
   "cell_type": "code",
   "execution_count": 53,
   "id": "informed-desktop",
   "metadata": {},
   "outputs": [],
   "source": [
    "createvariables(youth_final)"
   ]
  },
  {
   "cell_type": "markdown",
   "id": "knowing-spyware",
   "metadata": {},
   "source": [
    "## Save cleaned dataframes"
   ]
  },
  {
   "cell_type": "code",
   "execution_count": 58,
   "id": "hollywood-brother",
   "metadata": {},
   "outputs": [],
   "source": [
    "adult_final.to_pickle('data/adult_final.pkl.gz')"
   ]
  },
  {
   "cell_type": "code",
   "execution_count": 59,
   "id": "chemical-frank",
   "metadata": {},
   "outputs": [],
   "source": [
    "youth_final.to_pickle('data/youth_final.pkl.gz')"
   ]
  }
 ],
 "metadata": {
  "kernelspec": {
   "display_name": "Python 3",
   "language": "python",
   "name": "python3"
  },
  "language_info": {
   "codemirror_mode": {
    "name": "ipython",
    "version": 3
   },
   "file_extension": ".py",
   "mimetype": "text/x-python",
   "name": "python",
   "nbconvert_exporter": "python",
   "pygments_lexer": "ipython3",
   "version": "3.9.1"
  }
 },
 "nbformat": 4,
 "nbformat_minor": 5
}

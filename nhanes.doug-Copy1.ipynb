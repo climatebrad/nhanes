{
 "cells": [
  {
   "cell_type": "markdown",
   "metadata": {},
   "source": [
    "Doug Johnson document"
   ]
  },
  {
   "cell_type": "markdown",
   "metadata": {},
   "source": [
    "We're trying to replicate and update Hankinson"
   ]
  },
  {
   "cell_type": "markdown",
   "metadata": {},
   "source": [
    "Import pandas - pd, matplotlib.pyplot - plt"
   ]
  },
  {
   "cell_type": "markdown",
   "metadata": {},
   "source": [
    "Not sure what nhanes_loader does\n",
    "Not sure what importlib does\n",
    "Not sure what importlib.reload(nhanes_loader) does"
   ]
  },
  {
   "cell_type": "markdown",
   "metadata": {},
   "source": [
    "Import nhanes Household_adult_file; then importlib.reload"
   ]
  },
  {
   "cell_type": "markdown",
   "metadata": {},
   "source": [
    "I accidently wiped out next section.  I think it was\n",
    "import pandas as pd\n",
    "import matplotlib as plt\n",
    "%matplotlib inline\n",
    "\n",
    "on master was\n",
    "import pandas as pd\n",
    "import matplotlib.pyplot as plt\n",
    "%matplotlib inline\n",
    "import nhanes_loader\n",
    "import importlib\n",
    "importlib.reload(nhanes_loader)\n",
    "\n",
    "On Doug was\n",
    "import numpy as np\n",
    "import pandas as pd\n",
    "import matplotlib.pyplot as plt\n",
    "%matplotlib inline\n"
   ]
  },
  {
   "cell_type": "markdown",
   "metadata": {},
   "source": [
    "## Import Pandas as pd; matplotlib.pyplot as plt, HouseholdAdultFile"
   ]
  },
  {
   "cell_type": "code",
   "execution_count": 54,
   "metadata": {},
   "outputs": [
    {
     "name": "stdout",
     "output_type": "stream",
     "text": [
      "The autoreload extension is already loaded. To reload it, use:\n",
      "  %reload_ext autoreload\n"
     ]
    }
   ],
   "source": [
    "import pandas as pd\n",
    "import matplotlib.pyplot as plt\n",
    "%matplotlib inline\n",
    "import nhanes_loader\n",
    "import importlib\n",
    "importlib.reload(nhanes_loader)"
   ]
  },
  {
   "cell_type": "markdown",
   "metadata": {},
   "source": [
    "## Import Household Adult File"
   ]
  },
  {
   "cell_type": "markdown",
   "metadata": {},
   "source": [
    "from nhanes.household_adult_file import HouseholdAdultFile\n",
    "nh = HouseholdAdultFile()"
   ]
  },
  {
   "cell_type": "code",
   "execution_count": 236,
   "metadata": {},
   "outputs": [],
   "source": [
    "from nhanes.household_adult_file import HouseholdAdultFile\n",
    "nh = HouseholdAdultFile()"
   ]
  },
  {
   "cell_type": "markdown",
   "metadata": {},
   "source": [
    "## Import exam file - exam"
   ]
  },
  {
   "cell_type": "markdown",
   "metadata": {},
   "source": [
    "import nhanes.exam_file\n",
    "importlib.reload(nhanes.exam_file)\n",
    "from nhanes.exam_file import ExamFile"
   ]
  },
  {
   "cell_type": "code",
   "execution_count": 298,
   "metadata": {},
   "outputs": [],
   "source": [
    "import nhanes.exam_file\n",
    "importlib.reload(nhanes.exam_file)\n",
    "from nhanes.exam_file import ExamFile"
   ]
  },
  {
   "cell_type": "code",
   "execution_count": 299,
   "metadata": {},
   "outputs": [],
   "source": [
    "exam = ExamFile()"
   ]
  },
  {
   "cell_type": "code",
   "execution_count": 300,
   "metadata": {},
   "outputs": [
    {
     "data": {
      "text/plain": [
       "(31311, 40)"
      ]
     },
     "execution_count": 300,
     "metadata": {},
     "output_type": "execute_result"
    }
   ],
   "source": [
    "exam.data.shape"
   ]
  },
  {
   "cell_type": "code",
   "execution_count": 301,
   "metadata": {},
   "outputs": [
    {
     "data": {
      "text/html": [
       "<div>\n",
       "<style scoped>\n",
       "    .dataframe tbody tr th:only-of-type {\n",
       "        vertical-align: middle;\n",
       "    }\n",
       "\n",
       "    .dataframe tbody tr th {\n",
       "        vertical-align: top;\n",
       "    }\n",
       "\n",
       "    .dataframe thead th {\n",
       "        text-align: right;\n",
       "    }\n",
       "</style>\n",
       "<table border=\"1\" class=\"dataframe\">\n",
       "  <thead>\n",
       "    <tr style=\"text-align: right;\">\n",
       "      <th></th>\n",
       "      <th>description</th>\n",
       "      <th>variable</th>\n",
       "      <th>position</th>\n",
       "      <th>end position</th>\n",
       "      <th>length</th>\n",
       "    </tr>\n",
       "  </thead>\n",
       "  <tbody>\n",
       "    <tr>\n",
       "      <th>0</th>\n",
       "      <td>Respondent identification number</td>\n",
       "      <td>SEQN</td>\n",
       "      <td>1</td>\n",
       "      <td>5.0</td>\n",
       "      <td>5</td>\n",
       "    </tr>\n",
       "    <tr>\n",
       "      <th>1</th>\n",
       "      <td>Family sequence number</td>\n",
       "      <td>DMPFSEQ</td>\n",
       "      <td>6</td>\n",
       "      <td>10.0</td>\n",
       "      <td>5</td>\n",
       "    </tr>\n",
       "    <tr>\n",
       "      <th>2</th>\n",
       "      <td>Examination/interview status</td>\n",
       "      <td>DMPSTAT</td>\n",
       "      <td>11</td>\n",
       "      <td>NaN</td>\n",
       "      <td>1</td>\n",
       "    </tr>\n",
       "    <tr>\n",
       "      <th>3</th>\n",
       "      <td>Race-ethnicity</td>\n",
       "      <td>DMARETHN</td>\n",
       "      <td>12</td>\n",
       "      <td>NaN</td>\n",
       "      <td>1</td>\n",
       "    </tr>\n",
       "    <tr>\n",
       "      <th>4</th>\n",
       "      <td>Race</td>\n",
       "      <td>DMARACER</td>\n",
       "      <td>13</td>\n",
       "      <td>NaN</td>\n",
       "      <td>1</td>\n",
       "    </tr>\n",
       "    <tr>\n",
       "      <th>...</th>\n",
       "      <td>...</td>\n",
       "      <td>...</td>\n",
       "      <td>...</td>\n",
       "      <td>...</td>\n",
       "      <td>...</td>\n",
       "    </tr>\n",
       "    <tr>\n",
       "      <th>2363</th>\n",
       "      <td>Time to complete 8-ft walk--trial B(sec)</td>\n",
       "      <td>PFPTWLKB</td>\n",
       "      <td>6221</td>\n",
       "      <td>6224.0</td>\n",
       "      <td>4</td>\n",
       "    </tr>\n",
       "    <tr>\n",
       "      <th>2364</th>\n",
       "      <td>Number of steps--trial B</td>\n",
       "      <td>PFPNSTPB</td>\n",
       "      <td>6225</td>\n",
       "      <td>6226.0</td>\n",
       "      <td>2</td>\n",
       "    </tr>\n",
       "    <tr>\n",
       "      <th>2365</th>\n",
       "      <td>Pain reported on walking</td>\n",
       "      <td>PFPPAIN</td>\n",
       "      <td>6227</td>\n",
       "      <td>NaN</td>\n",
       "      <td>1</td>\n",
       "    </tr>\n",
       "    <tr>\n",
       "      <th>2366</th>\n",
       "      <td>Type of device used</td>\n",
       "      <td>PFPDEVIC</td>\n",
       "      <td>6228</td>\n",
       "      <td>NaN</td>\n",
       "      <td>1</td>\n",
       "    </tr>\n",
       "    <tr>\n",
       "      <th>2367</th>\n",
       "      <td>Examiner number</td>\n",
       "      <td>PFPTECH</td>\n",
       "      <td>6229</td>\n",
       "      <td>6233.0</td>\n",
       "      <td>5</td>\n",
       "    </tr>\n",
       "  </tbody>\n",
       "</table>\n",
       "<p>2368 rows × 5 columns</p>\n",
       "</div>"
      ],
      "text/plain": [
       "                                   description  variable  position  \\\n",
       "0             Respondent identification number      SEQN         1   \n",
       "1                       Family sequence number   DMPFSEQ         6   \n",
       "2                 Examination/interview status   DMPSTAT        11   \n",
       "3                               Race-ethnicity  DMARETHN        12   \n",
       "4                                         Race  DMARACER        13   \n",
       "...                                        ...       ...       ...   \n",
       "2363  Time to complete 8-ft walk--trial B(sec)  PFPTWLKB      6221   \n",
       "2364                  Number of steps--trial B  PFPNSTPB      6225   \n",
       "2365                  Pain reported on walking   PFPPAIN      6227   \n",
       "2366                       Type of device used  PFPDEVIC      6228   \n",
       "2367                           Examiner number   PFPTECH      6229   \n",
       "\n",
       "      end position  length  \n",
       "0              5.0       5  \n",
       "1             10.0       5  \n",
       "2              NaN       1  \n",
       "3              NaN       1  \n",
       "4              NaN       1  \n",
       "...            ...     ...  \n",
       "2363        6224.0       4  \n",
       "2364        6226.0       2  \n",
       "2365           NaN       1  \n",
       "2366           NaN       1  \n",
       "2367        6233.0       5  \n",
       "\n",
       "[2368 rows x 5 columns]"
      ]
     },
     "execution_count": 301,
     "metadata": {},
     "output_type": "execute_result"
    }
   ],
   "source": [
    "exam.cols"
   ]
  },
  {
   "cell_type": "markdown",
   "metadata": {},
   "source": [
    "## Import Household Youth File - youth"
   ]
  },
  {
   "cell_type": "markdown",
   "metadata": {},
   "source": [
    "import nhanes.household_youth_file\n",
    "importlib.reload(nhanes.household_youth_file)\n",
    "from nhanes.household_youth_file import HouseholdYouthFile"
   ]
  },
  {
   "cell_type": "code",
   "execution_count": 159,
   "metadata": {},
   "outputs": [],
   "source": [
    "import nhanes.household_youth_file\n",
    "importlib.reload(nhanes.household_youth_file)\n",
    "from nhanes.household_youth_file import HouseholdYouthFile"
   ]
  },
  {
   "cell_type": "code",
   "execution_count": 160,
   "metadata": {},
   "outputs": [],
   "source": [
    "youth = HouseholdYouthFile()"
   ]
  },
  {
   "cell_type": "code",
   "execution_count": 161,
   "metadata": {},
   "outputs": [
    {
     "data": {
      "text/html": [
       "<div>\n",
       "<style scoped>\n",
       "    .dataframe tbody tr th:only-of-type {\n",
       "        vertical-align: middle;\n",
       "    }\n",
       "\n",
       "    .dataframe tbody tr th {\n",
       "        vertical-align: top;\n",
       "    }\n",
       "\n",
       "    .dataframe thead th {\n",
       "        text-align: right;\n",
       "    }\n",
       "</style>\n",
       "<table border=\"1\" class=\"dataframe\">\n",
       "  <thead>\n",
       "    <tr style=\"text-align: right;\">\n",
       "      <th></th>\n",
       "      <th>description</th>\n",
       "      <th>variable</th>\n",
       "      <th>position</th>\n",
       "      <th>end position</th>\n",
       "      <th>length</th>\n",
       "    </tr>\n",
       "  </thead>\n",
       "  <tbody>\n",
       "    <tr>\n",
       "      <th>0</th>\n",
       "      <td>Sequence number</td>\n",
       "      <td>SEQN</td>\n",
       "      <td>1</td>\n",
       "      <td>5.0</td>\n",
       "      <td>5</td>\n",
       "    </tr>\n",
       "    <tr>\n",
       "      <th>1</th>\n",
       "      <td>Family sequence number</td>\n",
       "      <td>DMPFSEQ</td>\n",
       "      <td>6</td>\n",
       "      <td>10.0</td>\n",
       "      <td>5</td>\n",
       "    </tr>\n",
       "    <tr>\n",
       "      <th>2</th>\n",
       "      <td>Examination/interview status</td>\n",
       "      <td>DMPSTAT</td>\n",
       "      <td>11</td>\n",
       "      <td>NaN</td>\n",
       "      <td>1</td>\n",
       "    </tr>\n",
       "    <tr>\n",
       "      <th>3</th>\n",
       "      <td>Race-ethnicity</td>\n",
       "      <td>DMARETHN</td>\n",
       "      <td>12</td>\n",
       "      <td>NaN</td>\n",
       "      <td>1</td>\n",
       "    </tr>\n",
       "    <tr>\n",
       "      <th>4</th>\n",
       "      <td>Race</td>\n",
       "      <td>DMARACER</td>\n",
       "      <td>13</td>\n",
       "      <td>NaN</td>\n",
       "      <td>1</td>\n",
       "    </tr>\n",
       "    <tr>\n",
       "      <th>...</th>\n",
       "      <td>...</td>\n",
       "      <td>...</td>\n",
       "      <td>...</td>\n",
       "      <td>...</td>\n",
       "      <td>...</td>\n",
       "    </tr>\n",
       "    <tr>\n",
       "      <th>682</th>\n",
       "      <td>ICD-9-CM code-9th</td>\n",
       "      <td>HYK11AO</td>\n",
       "      <td>2087</td>\n",
       "      <td>2092.0</td>\n",
       "      <td>6</td>\n",
       "    </tr>\n",
       "    <tr>\n",
       "      <th>683</th>\n",
       "      <td>For how long been taking (days)-9th</td>\n",
       "      <td>HYK12SO</td>\n",
       "      <td>2093</td>\n",
       "      <td>2097.0</td>\n",
       "      <td>5</td>\n",
       "    </tr>\n",
       "    <tr>\n",
       "      <th>684</th>\n",
       "      <td>Main respondents relationship to SP</td>\n",
       "      <td>HYM1</td>\n",
       "      <td>2098</td>\n",
       "      <td>2099.0</td>\n",
       "      <td>2</td>\n",
       "    </tr>\n",
       "    <tr>\n",
       "      <th>685</th>\n",
       "      <td>Was SP present during any of interview</td>\n",
       "      <td>HYM2</td>\n",
       "      <td>2100</td>\n",
       "      <td>NaN</td>\n",
       "      <td>1</td>\n",
       "    </tr>\n",
       "    <tr>\n",
       "      <th>686</th>\n",
       "      <td>Quality of interview</td>\n",
       "      <td>HYM3</td>\n",
       "      <td>2101</td>\n",
       "      <td>NaN</td>\n",
       "      <td>1</td>\n",
       "    </tr>\n",
       "  </tbody>\n",
       "</table>\n",
       "<p>687 rows × 5 columns</p>\n",
       "</div>"
      ],
      "text/plain": [
       "                                description  variable  position  end position  \\\n",
       "0                           Sequence number      SEQN         1           5.0   \n",
       "1                    Family sequence number   DMPFSEQ         6          10.0   \n",
       "2              Examination/interview status   DMPSTAT        11           NaN   \n",
       "3                            Race-ethnicity  DMARETHN        12           NaN   \n",
       "4                                      Race  DMARACER        13           NaN   \n",
       "..                                      ...       ...       ...           ...   \n",
       "682                       ICD-9-CM code-9th   HYK11AO      2087        2092.0   \n",
       "683     For how long been taking (days)-9th   HYK12SO      2093        2097.0   \n",
       "684     Main respondents relationship to SP      HYM1      2098        2099.0   \n",
       "685  Was SP present during any of interview      HYM2      2100           NaN   \n",
       "686                    Quality of interview      HYM3      2101           NaN   \n",
       "\n",
       "     length  \n",
       "0         5  \n",
       "1         5  \n",
       "2         1  \n",
       "3         1  \n",
       "4         1  \n",
       "..      ...  \n",
       "682       6  \n",
       "683       5  \n",
       "684       2  \n",
       "685       1  \n",
       "686       1  \n",
       "\n",
       "[687 rows x 5 columns]"
      ]
     },
     "execution_count": 161,
     "metadata": {},
     "output_type": "execute_result"
    }
   ],
   "source": [
    "youth.cols"
   ]
  },
  {
   "cell_type": "markdown",
   "metadata": {},
   "source": [
    "## Combine adult and exam files - adult_exam"
   ]
  },
  {
   "cell_type": "markdown",
   "metadata": {},
   "source": [
    "match files on the SEQN field  adult_exam = nh.data.set_index('SEQN').join(exam.data.set_index('SEQN'),rsuffix='_exam')"
   ]
  },
  {
   "cell_type": "code",
   "execution_count": 302,
   "metadata": {},
   "outputs": [],
   "source": [
    "adult_exam = nh.data.set_index('SEQN').join(exam.data.set_index('SEQN'),rsuffix='_exam')"
   ]
  },
  {
   "cell_type": "code",
   "execution_count": 303,
   "metadata": {},
   "outputs": [
    {
     "name": "stdout",
     "output_type": "stream",
     "text": [
      "<class 'pandas.core.frame.DataFrame'>\n",
      "Int64Index: 20050 entries, 3 to 53623\n",
      "Data columns (total 61 columns):\n",
      " #   Column         Non-Null Count  Dtype  \n",
      "---  ------         --------------  -----  \n",
      " 0   HAR1           20050 non-null  int64  \n",
      " 1   HAR23          20050 non-null  int64  \n",
      " 2   HAR26          20050 non-null  int64  \n",
      " 3   HAC1E          20050 non-null  int64  \n",
      " 4   HAC1F          20050 non-null  int64  \n",
      " 5   HAC1G          20050 non-null  int64  \n",
      " 6   HAC1O          20050 non-null  int64  \n",
      " 7   HAL6           20050 non-null  int64  \n",
      " 8   HAL10          20050 non-null  int64  \n",
      " 9   HAL1           20050 non-null  int64  \n",
      " 10  HAL3           20050 non-null  int64  \n",
      " 11  HAL5           20050 non-null  int64  \n",
      " 12  DMARACER       20050 non-null  int64  \n",
      " 13  DMARETHN       20050 non-null  int64  \n",
      " 14  DMAETHNR       20050 non-null  int64  \n",
      " 15  HSSEX          20050 non-null  int64  \n",
      " 16  HSAGEIR        20050 non-null  int64  \n",
      " 17  HSAGEU         20050 non-null  int64  \n",
      " 18  HXPAXTMR       457 non-null    float64\n",
      " 19  HXPSESSR       457 non-null    float64\n",
      " 20  HSAITMOR       20050 non-null  int64  \n",
      " 21  HAR4S          5008 non-null   float64\n",
      " 22  SPPQ5          18150 non-null  float64\n",
      " 23  SPPQ4          18150 non-null  float64\n",
      " 24  SPPMANEU       18150 non-null  float64\n",
      " 25  MYPB1          0 non-null      float64\n",
      " 26  MYPB3          0 non-null      float64\n",
      " 27  MYPB11         0 non-null      float64\n",
      " 28  MYPB27A        0 non-null      float64\n",
      " 29  MYPB27B        0 non-null      float64\n",
      " 30  HSAGEIR_exam   18162 non-null  float64\n",
      " 31  HSAGEU_exam    18162 non-null  float64\n",
      " 32  HXPAXTMR_exam  457 non-null    float64\n",
      " 33  HXPSESSR_exam  457 non-null    float64\n",
      " 34  HXPEJ6A2       445 non-null    float64\n",
      " 35  SPPTECH1       18150 non-null  float64\n",
      " 36  SPPTRIAL       18150 non-null  float64\n",
      " 37  SPPPEAK        18150 non-null  float64\n",
      " 38  SPPFEV05       18150 non-null  float64\n",
      " 39  SPPFEV1        18150 non-null  float64\n",
      " 40  SPPFEV3        18150 non-null  float64\n",
      " 41  SPPFEV6        18150 non-null  float64\n",
      " 42  SPPFVC         18150 non-null  float64\n",
      " 43  SPPMMEF        18150 non-null  float64\n",
      " 44  SPPFEF75       18150 non-null  float64\n",
      " 45  SPPTYPE        18150 non-null  float64\n",
      " 46  SPPREPRO       18150 non-null  float64\n",
      " 47  SPPTIME        18150 non-null  object \n",
      " 48  SPPEXPIR       18150 non-null  float64\n",
      " 49  SPPTEMP        18150 non-null  float64\n",
      " 50  HSSEX_exam     18162 non-null  float64\n",
      " 51  WTPFHX6        18162 non-null  float64\n",
      " 52  MXPAXTMR       17705 non-null  float64\n",
      " 53  BMPHT          18162 non-null  float64\n",
      " 54  BMPSITHT       17705 non-null  float64\n",
      " 55  BMPWT          18162 non-null  float64\n",
      " 56  DMARACER_exam  18162 non-null  Int64  \n",
      " 57  DMARETHN_exam  18162 non-null  float64\n",
      " 58  SPPQ3          18150 non-null  float64\n",
      " 59  DMAETHNR_exam  18162 non-null  float64\n",
      " 60  HSAITMOR_exam  18162 non-null  float64\n",
      "dtypes: Int64(1), float64(40), int64(19), object(1)\n",
      "memory usage: 10.1+ MB\n"
     ]
    }
   ],
   "source": [
    "adult_exam.info()"
   ]
  },
  {
   "cell_type": "markdown",
   "metadata": {},
   "source": [
    "## Combine youth and exam files - youth_exam"
   ]
  },
  {
   "cell_type": "markdown",
   "metadata": {},
   "source": [
    "youth_exam = youth.data.set_index('SEQN').join(exam.data.set_index('SEQN'),rsuffix='_exam')"
   ]
  },
  {
   "cell_type": "code",
   "execution_count": 304,
   "metadata": {},
   "outputs": [],
   "source": [
    "youth_exam = youth.data.set_index('SEQN').join(exam.data.set_index('SEQN'),rsuffix='_exam')"
   ]
  },
  {
   "cell_type": "code",
   "execution_count": 358,
   "metadata": {},
   "outputs": [
    {
     "name": "stdout",
     "output_type": "stream",
     "text": [
      "<class 'pandas.core.frame.DataFrame'>\n",
      "Int64Index: 13944 entries, 7 to 53622\n",
      "Data columns (total 54 columns):\n",
      " #   Column         Non-Null Count  Dtype  \n",
      "---  ------         --------------  -----  \n",
      " 0   HSSEX          13944 non-null  int64  \n",
      " 1   HSAGEIR        13944 non-null  int64  \n",
      " 2   HSAGEU         13944 non-null  int64  \n",
      " 3   DMARACER       13944 non-null  int64  \n",
      " 4   DMARETHN       13944 non-null  int64  \n",
      " 5   DMAETHNR       13944 non-null  int64  \n",
      " 6   HXPAXTMR       36 non-null     float64\n",
      " 7   HXPSESSR       36 non-null     float64\n",
      " 8   HYE1G          13944 non-null  int64  \n",
      " 9   HYG2           2216 non-null   float64\n",
      " 10  HYG4           2216 non-null   float64\n",
      " 11  HYG7           3690 non-null   float64\n",
      " 12  HYG12          13944 non-null  int64  \n",
      " 13  HYG8           13944 non-null  int64  \n",
      " 14  HYE1H          13944 non-null  int64  \n",
      " 15  SPPQ5          4281 non-null   float64\n",
      " 16  SPPQ4          4281 non-null   float64\n",
      " 17  SPPMANEU       4281 non-null   float64\n",
      " 18  MYPB1          4281 non-null   float64\n",
      " 19  MYPB3          887 non-null    float64\n",
      " 20  MYPB11         859 non-null    float64\n",
      " 21  MYPB27A        4281 non-null   float64\n",
      " 22  MYPB27B        4281 non-null   float64\n",
      " 23  HSAGEIR_exam   13149 non-null  float64\n",
      " 24  HSAGEU_exam    13149 non-null  float64\n",
      " 25  HXPAXTMR_exam  36 non-null     float64\n",
      " 26  HXPSESSR_exam  36 non-null     float64\n",
      " 27  HXPEJ6A2       0 non-null      float64\n",
      " 28  SPPTECH1       4281 non-null   float64\n",
      " 29  SPPTRIAL       4281 non-null   float64\n",
      " 30  SPPPEAK        4281 non-null   float64\n",
      " 31  SPPFEV05       4281 non-null   float64\n",
      " 32  SPPFEV1        4281 non-null   float64\n",
      " 33  SPPFEV3        4281 non-null   float64\n",
      " 34  SPPFEV6        4281 non-null   float64\n",
      " 35  SPPFVC         4281 non-null   float64\n",
      " 36  SPPMMEF        4281 non-null   float64\n",
      " 37  SPPFEF75       4281 non-null   float64\n",
      " 38  SPPTYPE        4281 non-null   float64\n",
      " 39  SPPREPRO       4281 non-null   float64\n",
      " 40  SPPTIME        4281 non-null   object \n",
      " 41  SPPEXPIR       4281 non-null   float64\n",
      " 42  SPPTEMP        4281 non-null   float64\n",
      " 43  HSSEX_exam     13149 non-null  float64\n",
      " 44  WTPFHX6        13149 non-null  float64\n",
      " 45  MXPAXTMR       13113 non-null  float64\n",
      " 46  BMPHT          9895 non-null   float64\n",
      " 47  BMPSITHT       9894 non-null   float64\n",
      " 48  BMPWT          13149 non-null  float64\n",
      " 49  DMARACER_exam  13149 non-null  Int64  \n",
      " 50  DMARETHN_exam  13149 non-null  float64\n",
      " 51  SPPQ3          4281 non-null   float64\n",
      " 52  DMAETHNR_exam  13149 non-null  float64\n",
      " 53  HSAITMOR       13149 non-null  float64\n",
      "dtypes: Int64(1), float64(42), int64(10), object(1)\n",
      "memory usage: 6.5+ MB\n"
     ]
    }
   ],
   "source": [
    "youth_exam.info()"
   ]
  },
  {
   "cell_type": "code",
   "execution_count": 306,
   "metadata": {},
   "outputs": [
    {
     "data": {
      "text/plain": [
       "(13944, 54)"
      ]
     },
     "execution_count": 306,
     "metadata": {},
     "output_type": "execute_result"
    }
   ],
   "source": [
    "youth_exam.query('HSAGEIR < 18').shape"
   ]
  },
  {
   "cell_type": "markdown",
   "metadata": {},
   "source": [
    "## Hankinson Exclusion"
   ]
  },
  {
   "cell_type": "markdown",
   "metadata": {},
   "source": [
    "Ages - have none over 89; 17-89"
   ]
  },
  {
   "cell_type": "code",
   "execution_count": 15,
   "metadata": {},
   "outputs": [
    {
     "data": {
      "text/plain": [
       "17    432\n",
       "23    423\n",
       "24    407\n",
       "31    403\n",
       "18    403\n",
       "     ... \n",
       "85    138\n",
       "86    128\n",
       "87    110\n",
       "88     70\n",
       "89     56\n",
       "Name: HSAGEIR, Length: 74, dtype: int64"
      ]
     },
     "execution_count": 15,
     "metadata": {},
     "output_type": "execute_result"
    }
   ],
   "source": [
    "adult_exam.HSAGEIR.value_counts()"
   ]
  },
  {
   "cell_type": "markdown",
   "metadata": {},
   "source": [
    "Check for age of 16"
   ]
  },
  {
   "cell_type": "code",
   "execution_count": 16,
   "metadata": {},
   "outputs": [
    {
     "data": {
      "text/plain": [
       "(0, 54)"
      ]
     },
     "execution_count": 16,
     "metadata": {},
     "output_type": "execute_result"
    }
   ],
   "source": [
    "adult_exam.query('HSAGEIR < 17').shape"
   ]
  },
  {
   "cell_type": "markdown",
   "metadata": {},
   "source": [
    "Any age  .shape - returns row and column count of a dataset"
   ]
  },
  {
   "cell_type": "markdown",
   "metadata": {},
   "source": [
    ".describe() - returns statistics about numerical columns"
   ]
  },
  {
   "cell_type": "markdown",
   "metadata": {},
   "source": [
    ".dtypes - returns the data type of each column"
   ]
  },
  {
   "cell_type": "markdown",
   "metadata": {},
   "source": [
    ".count() - number of total values in column"
   ]
  },
  {
   "cell_type": "markdown",
   "metadata": {},
   "source": [
    ".value_counts() - returns object counting counts of unique values"
   ]
  },
  {
   "cell_type": "code",
   "execution_count": 17,
   "metadata": {},
   "outputs": [
    {
     "data": {
      "text/plain": [
       "(20050, 54)"
      ]
     },
     "execution_count": 17,
     "metadata": {},
     "output_type": "execute_result"
    }
   ],
   "source": [
    "adult_exam.query('HSAGEIR>0').shape"
   ]
  },
  {
   "cell_type": "markdown",
   "metadata": {},
   "source": [
    "Check have Height"
   ]
  },
  {
   "cell_type": "code",
   "execution_count": 22,
   "metadata": {},
   "outputs": [
    {
     "data": {
      "text/plain": [
       "(18162, 54)"
      ]
     },
     "execution_count": 22,
     "metadata": {},
     "output_type": "execute_result"
    }
   ],
   "source": [
    "adult_exam.query('BMPHT>0').shape"
   ]
  },
  {
   "cell_type": "markdown",
   "metadata": {},
   "source": [
    "describe SPPMANEU"
   ]
  },
  {
   "cell_type": "markdown",
   "metadata": {},
   "source": [
    "Any spirometry  H 16484 "
   ]
  },
  {
   "cell_type": "code",
   "execution_count": 23,
   "metadata": {},
   "outputs": [
    {
     "data": {
      "text/plain": [
       "5.0     7569\n",
       "6.0     2553\n",
       "4.0     1932\n",
       "7.0     1544\n",
       "88.0    1310\n",
       "8.0     1238\n",
       "3.0      668\n",
       "9.0      400\n",
       "2.0      292\n",
       "10.0     233\n",
       "1.0      226\n",
       "0.0      144\n",
       "11.0      23\n",
       "13.0       8\n",
       "12.0       8\n",
       "14.0       1\n",
       "16.0       1\n",
       "Name: SPPMANEU, dtype: int64"
      ]
     },
     "execution_count": 23,
     "metadata": {},
     "output_type": "execute_result"
    }
   ],
   "source": [
    "adult_exam.SPPMANEU.value_counts()"
   ]
  },
  {
   "cell_type": "markdown",
   "metadata": {},
   "source": [
    "SPPMANEU: successful spirometries -should=16840-370=16470\n",
    "    "
   ]
  },
  {
   "cell_type": "markdown",
   "metadata": {},
   "source": [
    "adult_exam.SPPMANEU.value_counts()"
   ]
  },
  {
   "cell_type": "markdown",
   "metadata": {},
   "source": [
    "any spirometry (in adult age >=17  H 16484  not=88"
   ]
  },
  {
   "cell_type": "code",
   "execution_count": 24,
   "metadata": {},
   "outputs": [
    {
     "data": {
      "text/plain": [
       "(18740, 54)"
      ]
     },
     "execution_count": 24,
     "metadata": {},
     "output_type": "execute_result"
    }
   ],
   "source": [
    "adult_exam.query('SPPMANEU != 88').shape"
   ]
  },
  {
   "cell_type": "code",
   "execution_count": 25,
   "metadata": {},
   "outputs": [
    {
     "data": {
      "text/plain": [
       "(16840, 54)"
      ]
     },
     "execution_count": 25,
     "metadata": {},
     "output_type": "execute_result"
    }
   ],
   "source": [
    "adult_exam.query('SPPMANEU < 88').shape"
   ]
  },
  {
   "cell_type": "code",
   "execution_count": 26,
   "metadata": {},
   "outputs": [
    {
     "data": {
      "text/plain": [
       "(18150, 54)"
      ]
     },
     "execution_count": 26,
     "metadata": {},
     "output_type": "execute_result"
    }
   ],
   "source": [
    "adult_exam.query('SPPMANEU > -1').shape"
   ]
  },
  {
   "cell_type": "markdown",
   "metadata": {},
   "source": [
    "number 2 or more tests  H 277, 16207  we have 16470 (+263)"
   ]
  },
  {
   "cell_type": "code",
   "execution_count": 27,
   "metadata": {},
   "outputs": [
    {
     "data": {
      "text/plain": [
       "(16470, 54)"
      ]
     },
     "execution_count": 27,
     "metadata": {},
     "output_type": "execute_result"
    }
   ],
   "source": [
    "adult_exam.query('2 <= SPPMANEU < 88').shape"
   ]
  },
  {
   "cell_type": "markdown",
   "metadata": {},
   "source": [
    "and age < 90 H 68,16139  we have 84  16386 (+26, +247)"
   ]
  },
  {
   "cell_type": "code",
   "execution_count": 28,
   "metadata": {},
   "outputs": [
    {
     "data": {
      "text/plain": [
       "(84, 54)"
      ]
     },
     "execution_count": 28,
     "metadata": {},
     "output_type": "execute_result"
    }
   ],
   "source": [
    "adult_exam.query('2 <= SPPMANEU < 88').query('HSAGEIR >89').shape"
   ]
  },
  {
   "cell_type": "code",
   "execution_count": 29,
   "metadata": {},
   "outputs": [
    {
     "data": {
      "text/plain": [
       "(16386, 54)"
      ]
     },
     "execution_count": 29,
     "metadata": {},
     "output_type": "execute_result"
    }
   ],
   "source": [
    "adult_exam.query('2 <= SPPMANEU < 88').query('HSAGEIR < 90').shape"
   ]
  },
  {
   "cell_type": "markdown",
   "metadata": {},
   "source": [
    "adult_exam.query('HSAGEIR >= 90').shape"
   ]
  },
  {
   "cell_type": "markdown",
   "metadata": {},
   "source": [
    "and race/ethnicity not other  H 636, 15503"
   ]
  },
  {
   "cell_type": "markdown",
   "metadata": {},
   "source": [
    "adult_exam.query('HSAGEIR > 0').shape"
   ]
  },
  {
   "cell_type": "markdown",
   "metadata": {},
   "source": [
    "and race/ethnicity not other  H 636  15503  we have 639, 15747 (+3, +244)"
   ]
  },
  {
   "cell_type": "code",
   "execution_count": 31,
   "metadata": {},
   "outputs": [
    {
     "data": {
      "text/plain": [
       "1    8483\n",
       "2    5486\n",
       "3    5306\n",
       "4     775\n",
       "Name: DMARETHN, dtype: int64"
      ]
     },
     "execution_count": 31,
     "metadata": {},
     "output_type": "execute_result"
    }
   ],
   "source": [
    "adult_exam.DMARETHN.value_counts()"
   ]
  },
  {
   "cell_type": "code",
   "execution_count": 32,
   "metadata": {},
   "outputs": [
    {
     "data": {
      "text/plain": [
       "(639, 54)"
      ]
     },
     "execution_count": 32,
     "metadata": {},
     "output_type": "execute_result"
    }
   ],
   "source": [
    "adult_exam.query('2 <= SPPMANEU < 88').query('HSAGEIR < 90').query('DMARETHN == 4').shape"
   ]
  },
  {
   "cell_type": "code",
   "execution_count": 33,
   "metadata": {},
   "outputs": [
    {
     "data": {
      "text/plain": [
       "(15747, 54)"
      ]
     },
     "execution_count": 33,
     "metadata": {},
     "output_type": "execute_result"
    }
   ],
   "source": [
    "adult_exam.query('2 <= SPPMANEU < 88').query('HSAGEIR < 90').query('DMARETHN < 4').shape"
   ]
  },
  {
   "cell_type": "markdown",
   "metadata": {},
   "source": [
    "and cigarette smoker H 7,667  7,836  We have  7787 7960 (+120  +124)\n"
   ]
  },
  {
   "cell_type": "code",
   "execution_count": 34,
   "metadata": {},
   "outputs": [
    {
     "data": {
      "text/plain": [
       "2    10235\n",
       "1     9799\n",
       "8       16\n",
       "Name: HAR1, dtype: int64"
      ]
     },
     "execution_count": 34,
     "metadata": {},
     "output_type": "execute_result"
    }
   ],
   "source": [
    "adult_exam.HAR1.value_counts()"
   ]
  },
  {
   "cell_type": "markdown",
   "metadata": {},
   "source": [
    "or statement not work, so need HAR1 = 2"
   ]
  },
  {
   "cell_type": "code",
   "execution_count": 35,
   "metadata": {},
   "outputs": [
    {
     "data": {
      "text/plain": [
       "(9799, 54)"
      ]
     },
     "execution_count": 35,
     "metadata": {},
     "output_type": "execute_result"
    }
   ],
   "source": [
    "adult_exam.query('HAR1 == 1' or 'HAR1 == 8').shape"
   ]
  },
  {
   "cell_type": "code",
   "execution_count": 36,
   "metadata": {},
   "outputs": [
    {
     "data": {
      "text/plain": [
       "(10235, 54)"
      ]
     },
     "execution_count": 36,
     "metadata": {},
     "output_type": "execute_result"
    }
   ],
   "source": [
    "adult_exam.query('HAR1 == 2').shape"
   ]
  },
  {
   "cell_type": "code",
   "execution_count": 37,
   "metadata": {},
   "outputs": [
    {
     "data": {
      "text/plain": [
       "(7960, 54)"
      ]
     },
     "execution_count": 37,
     "metadata": {},
     "output_type": "execute_result"
    }
   ],
   "source": [
    "adult_exam.query('2 <= SPPMANEU < 88').query('HSAGEIR < 90').query('DMARETHN < 4').query('HAR1 ==2').shape"
   ]
  },
  {
   "cell_type": "markdown",
   "metadata": {},
   "source": [
    "and cigar or pipe smoker  H 313, 7523  for cigar we have 284, 7676 "
   ]
  },
  {
   "cell_type": "markdown",
   "metadata": {},
   "source": [
    "cigar HAR23  2 is not cigar"
   ]
  },
  {
   "cell_type": "code",
   "execution_count": 38,
   "metadata": {},
   "outputs": [
    {
     "data": {
      "text/plain": [
       "2    17951\n",
       "1     2073\n",
       "8       21\n",
       "9        5\n",
       "Name: HAR23, dtype: int64"
      ]
     },
     "execution_count": 38,
     "metadata": {},
     "output_type": "execute_result"
    }
   ],
   "source": [
    "adult_exam.HAR23.value_counts()"
   ]
  },
  {
   "cell_type": "code",
   "execution_count": 39,
   "metadata": {},
   "outputs": [
    {
     "data": {
      "text/plain": [
       "(7676, 54)"
      ]
     },
     "execution_count": 39,
     "metadata": {},
     "output_type": "execute_result"
    }
   ],
   "source": [
    "adult_exam.query('2 <= SPPMANEU < 88').query('HSAGEIR < 90').query('DMARETHN < 4').query('HAR1 ==2').query('HAR23 == 2').shape"
   ]
  },
  {
   "cell_type": "markdown",
   "metadata": {},
   "source": [
    "and pipe smoker with above H 313 7523  We have 326 7634 (+13 +111)"
   ]
  },
  {
   "cell_type": "code",
   "execution_count": 40,
   "metadata": {},
   "outputs": [
    {
     "data": {
      "text/plain": [
       "2    18411\n",
       "1     1609\n",
       "8       26\n",
       "9        4\n",
       "Name: HAR26, dtype: int64"
      ]
     },
     "execution_count": 40,
     "metadata": {},
     "output_type": "execute_result"
    }
   ],
   "source": [
    "adult_exam.HAR26.value_counts()"
   ]
  },
  {
   "cell_type": "code",
   "execution_count": 45,
   "metadata": {},
   "outputs": [
    {
     "data": {
      "text/plain": [
       "(7634, 54)"
      ]
     },
     "execution_count": 45,
     "metadata": {},
     "output_type": "execute_result"
    }
   ],
   "source": [
    "adult_exam.query('2 <= SPPMANEU < 88').query('HSAGEIR < 90').query('DMARETHN < 4').query('HAR1 == 2').query('HAR23 == 2').query('HAR26 == 2').shape"
   ]
  },
  {
   "cell_type": "markdown",
   "metadata": {},
   "source": [
    "and smoked cigarettes/cigar/pipes in 5 d prior to exam  H 408 7115  BUT this question only on Youth.  Adult has question SPPQ3 smoked, heavy meal, meds to help breathing past hour; also SPPQ4 past few day cough/cold/other acute illness; also SPPQ5 past 3 weeks respiratory infection (so want these = 2)"
   ]
  },
  {
   "cell_type": "markdown",
   "metadata": {},
   "source": [
    "We have 5965 1669 when exclude all 3"
   ]
  },
  {
   "cell_type": "code",
   "execution_count": 65,
   "metadata": {},
   "outputs": [
    {
     "data": {
      "text/plain": [
       "2.0    16565\n",
       "8.0     1320\n",
       "1.0      265\n",
       "Name: SPPQ3, dtype: int64"
      ]
     },
     "execution_count": 65,
     "metadata": {},
     "output_type": "execute_result"
    }
   ],
   "source": [
    "adult_exam.SPPQ3.value_counts()"
   ]
  },
  {
   "cell_type": "markdown",
   "metadata": {},
   "source": [
    "exclude just Q3 (past hour smoked/heavy meal/med for breathing - H not smoke 5d 7115 408 we have 7406 228 lower (+291, -180)"
   ]
  },
  {
   "cell_type": "code",
   "execution_count": 66,
   "metadata": {},
   "outputs": [
    {
     "data": {
      "text/plain": [
       "(7406, 55)"
      ]
     },
     "execution_count": 66,
     "metadata": {},
     "output_type": "execute_result"
    }
   ],
   "source": [
    "adult_exam.query('2 <= SPPMANEU < 88').query('HSAGEIR < 90').query('DMARETHN < 4').query('HAR1 == 2').query('HAR23 == 2').query('HAR26 == 2').query('SPPQ3 == 2').shape"
   ]
  },
  {
   "cell_type": "code",
   "execution_count": 113,
   "metadata": {},
   "outputs": [
    {
     "data": {
      "text/plain": [
       "2.0    13557\n",
       "1.0     3273\n",
       "8.0     1320\n",
       "Name: SPPQ4, dtype: int64"
      ]
     },
     "execution_count": 113,
     "metadata": {},
     "output_type": "execute_result"
    }
   ],
   "source": [
    "adult_exam.SPPQ4.value_counts()"
   ]
  },
  {
   "cell_type": "markdown",
   "metadata": {},
   "source": [
    "exclude Q3 and Q4"
   ]
  },
  {
   "cell_type": "code",
   "execution_count": 114,
   "metadata": {},
   "outputs": [
    {
     "data": {
      "text/plain": [
       "(6120, 58)"
      ]
     },
     "execution_count": 114,
     "metadata": {},
     "output_type": "execute_result"
    }
   ],
   "source": [
    "adult_exam.query('2 <= SPPMANEU < 88').query('HSAGEIR < 90').query('DMARETHN < 4').query('HAR1 == 2').query('HAR23 == 2').query('HAR26 == 2').query('SPPQ3 == 2').query('SPPQ4 == 2').shape"
   ]
  },
  {
   "cell_type": "markdown",
   "metadata": {},
   "source": [
    "We have 6120 1286 for exclude Q3 and Q4"
   ]
  },
  {
   "cell_type": "code",
   "execution_count": 115,
   "metadata": {},
   "outputs": [
    {
     "data": {
      "text/plain": [
       "2.0    15970\n",
       "8.0     1320\n",
       "1.0      860\n",
       "Name: SPPQ5, dtype: int64"
      ]
     },
     "execution_count": 115,
     "metadata": {},
     "output_type": "execute_result"
    }
   ],
   "source": [
    "adult_exam.SPPQ5.value_counts()"
   ]
  },
  {
   "cell_type": "code",
   "execution_count": 116,
   "metadata": {},
   "outputs": [
    {
     "data": {
      "text/plain": [
       "(5965, 58)"
      ]
     },
     "execution_count": 116,
     "metadata": {},
     "output_type": "execute_result"
    }
   ],
   "source": [
    "adult_exam.query('2 <= SPPMANEU < 88').query('HSAGEIR < 90').query('DMARETHN < 4').query('HAR1 == 2').query('HAR23 == 2').query('HAR26 == 2').query('SPPQ3 == 2').query('SPPQ4 == 2').query('SPPQ5 == 2').shape"
   ]
  },
  {
   "cell_type": "markdown",
   "metadata": {},
   "source": [
    "So go back to not excluding based on Q3 Q4 Q5 "
   ]
  },
  {
   "cell_type": "code",
   "execution_count": 117,
   "metadata": {},
   "outputs": [
    {
     "data": {
      "text/plain": [
       "(7634, 58)"
      ]
     },
     "execution_count": 117,
     "metadata": {},
     "output_type": "execute_result"
    }
   ],
   "source": [
    "(adult_exam.query('2 <= SPPMANEU < 88')\n",
    " .query('HSAGEIR < 90').query('DMARETHN < 4')\n",
    " .query('HAR1 == 2').query('HAR23 == 2').query('HAR26 == 2').shape)"
   ]
  },
  {
   "cell_type": "markdown",
   "metadata": {},
   "source": [
    "and asthma H  454  6661  query('HAC1E == 2') (which gives different that > 1"
   ]
  },
  {
   "cell_type": "code",
   "execution_count": 118,
   "metadata": {},
   "outputs": [
    {
     "data": {
      "text/plain": [
       "(7158, 58)"
      ]
     },
     "execution_count": 118,
     "metadata": {},
     "output_type": "execute_result"
    }
   ],
   "source": [
    "(adult_exam.query('2 <= SPPMANEU < 88').query('HSAGEIR < 90')\n",
    " .query('DMARETHN < 4').query('HAR1 == 2').query('HAR23 == 2')\n",
    " .query('HAR26 == 2'). query('HAC1E == 2').shape)"
   ]
  },
  {
   "cell_type": "markdown",
   "metadata": {},
   "source": [
    "and chronic bronchitis H  181, 6480  HAC1F == 2"
   ]
  },
  {
   "cell_type": "code",
   "execution_count": 119,
   "metadata": {},
   "outputs": [
    {
     "data": {
      "text/plain": [
       "(6962, 58)"
      ]
     },
     "execution_count": 119,
     "metadata": {},
     "output_type": "execute_result"
    }
   ],
   "source": [
    "(adult_exam.query('2 <= SPPMANEU < 88').query('HSAGEIR < 90')\n",
    " .query('DMARETHN < 4').query('HAR1 == 2').query('HAR23 == 2')\n",
    " .query('HAR26 == 2'). query('HAC1E == 2'). query('HAC1F == 2').shape)"
   ]
  },
  {
   "cell_type": "markdown",
   "metadata": {},
   "source": [
    "and emphysema  H 15, 6465  HAC1G == 2\n"
   ]
  },
  {
   "cell_type": "code",
   "execution_count": 120,
   "metadata": {},
   "outputs": [
    {
     "data": {
      "text/plain": [
       "(6945, 58)"
      ]
     },
     "execution_count": 120,
     "metadata": {},
     "output_type": "execute_result"
    }
   ],
   "source": [
    "adult_exam.query('2 <= SPPMANEU < 88').query('HSAGEIR < 90').query('DMARETHN < 4').query('HAR1 == 2').query('HAR23 == 2').query('HAR26 == 2'). query('HAC1E == 2'). query('HAC1F == 2').query('HAC1G == 2').shape"
   ]
  },
  {
   "cell_type": "markdown",
   "metadata": {},
   "source": [
    "and cancer H 0 6465"
   ]
  },
  {
   "cell_type": "markdown",
   "metadata": {},
   "source": [
    "## When add cancer excludes many, but Hankinson none (when lung cancer), so exclude this future analyses"
   ]
  },
  {
   "cell_type": "code",
   "execution_count": 121,
   "metadata": {},
   "outputs": [
    {
     "data": {
      "text/plain": [
       "2    19266\n",
       "1      780\n",
       "9        3\n",
       "8        1\n",
       "Name: HAC1O, dtype: int64"
      ]
     },
     "execution_count": 121,
     "metadata": {},
     "output_type": "execute_result"
    }
   ],
   "source": [
    "adult_exam.HAC1O.value_counts()"
   ]
  },
  {
   "cell_type": "code",
   "execution_count": 122,
   "metadata": {},
   "outputs": [
    {
     "data": {
      "text/plain": [
       "(6756, 58)"
      ]
     },
     "execution_count": 122,
     "metadata": {},
     "output_type": "execute_result"
    }
   ],
   "source": [
    "adult_exam.query('2 <= SPPMANEU < 88').query('HSAGEIR < 90').query('DMARETHN < 4').query('HAR1 == 2').query('HAR23 == 2').query('HAR26 == 2'). query('HAC1E == 2'). query('HAC1F == 2').query('HAC1G == 2').query('HAC1O == 2').shape"
   ]
  },
  {
   "cell_type": "markdown",
   "metadata": {},
   "source": [
    "and wheezing 6 month  H 419 6046  HAL6"
   ]
  },
  {
   "cell_type": "code",
   "execution_count": 123,
   "metadata": {},
   "outputs": [
    {
     "data": {
      "text/plain": [
       "2    17097\n",
       "1     2942\n",
       "8        8\n",
       "9        3\n",
       "Name: HAL6, dtype: int64"
      ]
     },
     "execution_count": 123,
     "metadata": {},
     "output_type": "execute_result"
    }
   ],
   "source": [
    "adult_exam.HAL6.value_counts()"
   ]
  },
  {
   "cell_type": "code",
   "execution_count": 124,
   "metadata": {},
   "outputs": [
    {
     "data": {
      "text/plain": [
       "(6495, 58)"
      ]
     },
     "execution_count": 124,
     "metadata": {},
     "output_type": "execute_result"
    }
   ],
   "source": [
    "adult_exam.query('2 <= SPPMANEU < 88').query('HSAGEIR < 90').query('DMARETHN < 4').query('HAR1 == 2').query('HAR23 == 2').query('HAR26 == 2'). query('HAC1E == 2'). query('HAC1F == 2').query('HAC1G == 2').query('HAL6 == 2').shape"
   ]
  },
  {
   "cell_type": "markdown",
   "metadata": {},
   "source": [
    "and whistling or wheezing  H 112 5934  HAL10"
   ]
  },
  {
   "cell_type": "code",
   "execution_count": 125,
   "metadata": {},
   "outputs": [
    {
     "data": {
      "text/plain": [
       "(6368, 58)"
      ]
     },
     "execution_count": 125,
     "metadata": {},
     "output_type": "execute_result"
    }
   ],
   "source": [
    "adult_exam.query('2 <= SPPMANEU < 88').query('HSAGEIR < 90').query('DMARETHN < 4').query('HAR1 == 2').query('HAR23 == 2').query('HAR26 == 2'). query('HAC1E == 2'). query('HAC1F == 2').query('HAC1G == 2').query('HAL6 == 2').query('HAL10 == 2').shape"
   ]
  },
  {
   "cell_type": "markdown",
   "metadata": {},
   "source": [
    "and persistent cough H 158, 5776  HAL1"
   ]
  },
  {
   "cell_type": "code",
   "execution_count": 126,
   "metadata": {},
   "outputs": [
    {
     "data": {
      "text/plain": [
       "(6200, 58)"
      ]
     },
     "execution_count": 126,
     "metadata": {},
     "output_type": "execute_result"
    }
   ],
   "source": [
    "adult_exam.query('2 <= SPPMANEU < 88').query('HSAGEIR < 90').query('DMARETHN < 4').query('HAR1 == 2').query('HAR23 == 2').query('HAR26 == 2'). query('HAC1E == 2'). query('HAC1F == 2').query('HAC1G == 2').query('HAL6 == 2').query('HAL10 == 2').query('HAL1 == 2').shape"
   ]
  },
  {
   "cell_type": "markdown",
   "metadata": {},
   "source": [
    "and persistent phlegm H 125  5776  HAL 3"
   ]
  },
  {
   "cell_type": "code",
   "execution_count": 127,
   "metadata": {},
   "outputs": [
    {
     "data": {
      "text/plain": [
       "(6065, 58)"
      ]
     },
     "execution_count": 127,
     "metadata": {},
     "output_type": "execute_result"
    }
   ],
   "source": [
    "adult_exam.query('2 <= SPPMANEU < 88').query('HSAGEIR < 90').query('DMARETHN < 4').query('HAR1 == 2').query('HAR23 == 2').query('HAR26 == 2'). query('HAC1E == 2'). query('HAC1F == 2').query('HAC1G == 2').query('HAL6 == 2').query('HAL10 == 2').query('HAL1 == 2').query('HAL3 == 2').shape"
   ]
  },
  {
   "cell_type": "markdown",
   "metadata": {},
   "source": [
    "and moderate shortness of breath H  848  4803  HAL5"
   ]
  },
  {
   "cell_type": "code",
   "execution_count": 128,
   "metadata": {},
   "outputs": [
    {
     "data": {
      "text/plain": [
       "2    14910\n",
       "1     5030\n",
       "8       64\n",
       "9       46\n",
       "Name: HAL5, dtype: int64"
      ]
     },
     "execution_count": 128,
     "metadata": {},
     "output_type": "execute_result"
    }
   ],
   "source": [
    "adult_exam.HAL5.value_counts()"
   ]
  },
  {
   "cell_type": "code",
   "execution_count": 129,
   "metadata": {},
   "outputs": [
    {
     "data": {
      "text/plain": [
       "(5151, 58)"
      ]
     },
     "execution_count": 129,
     "metadata": {},
     "output_type": "execute_result"
    }
   ],
   "source": [
    "adult_exam.query('2 <= SPPMANEU < 88').query('HSAGEIR < 90').query('DMARETHN < 4').query('HAR1 == 2').query('HAR23 == 2').query('HAR26 == 2'). query('HAC1E == 2'). query('HAC1F == 2').query('HAC1G == 2').query('HAL6 == 2').query('HAL10 == 2').query('HAL1 == 2').query('HAL3 == 2').query('HAL5 == 2').shape"
   ]
  },
  {
   "cell_type": "code",
   "execution_count": 130,
   "metadata": {},
   "outputs": [
    {
     "data": {
      "text/plain": [
       "(5122, 58)"
      ]
     },
     "execution_count": 130,
     "metadata": {},
     "output_type": "execute_result"
    }
   ],
   "source": [
    "adult_exam.query('2 <= SPPMANEU < 88').query('HSAGEIR < 90').query('DMARETHN < 4').query('HAR1 == 2').query('HAR23 > 1').query('HAR26 > 1').query('HAC1E > 1').query('HAC1F > 1').query('HAC1G > 1').query('HAC1O > 1').query('HAL6 > 1').query('HAL1 > 1').query('HAL3 > 1').query('HAL5 == 2').shape"
   ]
  },
  {
   "cell_type": "markdown",
   "metadata": {},
   "source": [
    "and age > 80  H  139 4634  HSAGEIR\n"
   ]
  },
  {
   "cell_type": "markdown",
   "metadata": {},
   "source": [
    "adult_exam.query('2 <= SPPMANEU < 88').query('HSAGEIR < 90').query('DMARETHN < 4').query('HAR1 == 2').query('HAR23 > 1').query('HAR26 > 1').query('HAC1E > 1').query('HAC1F > 1').query('HAC1G > 1').query('HAC1O > 1').query('HAL6 > 1').query('HAL1 > 1').query('HAL3 > 1').query('HAL5 == 2').query('HSAGEIR < 81').shape"
   ]
  },
  {
   "cell_type": "code",
   "execution_count": 131,
   "metadata": {},
   "outputs": [
    {
     "data": {
      "text/plain": [
       "(4944, 58)"
      ]
     },
     "execution_count": 131,
     "metadata": {},
     "output_type": "execute_result"
    }
   ],
   "source": [
    "(adult_exam.query('2 <= SPPMANEU < 88')\n",
    ".query('HSAGEIR < 90').query('DMARETHN < 4')\n",
    ".query('HAR1 == 2').query('HAR23 > 1')\n",
    ".query('HAR26 > 1').query('HAC1E > 1')\n",
    ".query('HAC1F > 1').query('HAC1G > 1')\n",
    ".query('HAC1O > 1').query('HAL6 > 1')\n",
    ".query('HAL1 > 1').query('HAL3 > 1')\n",
    ".query('HAL5 == 2').query('HSAGEIR < 81').shape)"
   ]
  },
  {
   "cell_type": "markdown",
   "metadata": {},
   "source": [
    "## Now create DataFrame adult_final of the final rows selected"
   ]
  },
  {
   "cell_type": "markdown",
   "metadata": {},
   "source": [
    "set AdultFinal = adult_exam.query('2 <= SPPMANEU < 88').query('HSAGEIR < 90').query('DMARETHN < 4').query('HAR1 == 2').query('HAR23 > 1').query('HAR26 > 1').query('HAC1E > 1').query('HAC1F > 1').query('HAC1G > 1').query('HAC1O > 1').query('HAL6 > 1').query('HAL1 > 1').query('HAL3 > 1').query('HAL5 == 2').query('HSAGEIR < 81').shape"
   ]
  },
  {
   "cell_type": "markdown",
   "metadata": {},
   "source": [
    "adult_final = (adult_exam.query('2 <= SPPMANEU < 88')\n",
    "                         .query('HSAGEIR < 90').query('DMARETHN < 4')\n",
    "                           .query('HAR1 == 2').query('HAR23 > 1').query('HAR26 > 1')\n",
    "                           .query('HAC1E > 1').query('HAC1F > 1').query('HAC1G > 1')\n",
    "                           .query('HAC1O > 1').query('HAL6 > 1').query('HAL1 > 1')\n",
    "                           .query('HAL3 > 1').query('HAL5 == 2').query('HSAGEIR < 81'))"
   ]
  },
  {
   "cell_type": "code",
   "execution_count": 307,
   "metadata": {},
   "outputs": [],
   "source": [
    "adult_final = (adult_exam.query('2 <= SPPMANEU < 88')\n",
    "                         .query('HSAGEIR < 90').query('DMARETHN < 4')\n",
    "                           .query('HAR1 == 2').query('HAR23 > 1').query('HAR26 > 1')\n",
    "                           .query('HAC1E > 1').query('HAC1F > 1').query('HAC1G > 1')\n",
    "                           .query('HAC1O > 1').query('HAL6 > 1').query('HAL1 > 1')\n",
    "                           .query('HAL3 > 1').query('HAL5 == 2').query('HSAGEIR < 81'))"
   ]
  },
  {
   "cell_type": "code",
   "execution_count": 308,
   "metadata": {},
   "outputs": [],
   "source": [
    "af = adult_final"
   ]
  },
  {
   "cell_type": "code",
   "execution_count": 309,
   "metadata": {},
   "outputs": [
    {
     "name": "stdout",
     "output_type": "stream",
     "text": [
      "<class 'pandas.core.frame.DataFrame'>\n",
      "Int64Index: 4944 entries, 3 to 53623\n",
      "Data columns (total 61 columns):\n",
      " #   Column         Non-Null Count  Dtype  \n",
      "---  ------         --------------  -----  \n",
      " 0   HAR1           4944 non-null   int64  \n",
      " 1   HAR23          4944 non-null   int64  \n",
      " 2   HAR26          4944 non-null   int64  \n",
      " 3   HAC1E          4944 non-null   int64  \n",
      " 4   HAC1F          4944 non-null   int64  \n",
      " 5   HAC1G          4944 non-null   int64  \n",
      " 6   HAC1O          4944 non-null   int64  \n",
      " 7   HAL6           4944 non-null   int64  \n",
      " 8   HAL10          4944 non-null   int64  \n",
      " 9   HAL1           4944 non-null   int64  \n",
      " 10  HAL3           4944 non-null   int64  \n",
      " 11  HAL5           4944 non-null   int64  \n",
      " 12  DMARACER       4944 non-null   int64  \n",
      " 13  DMARETHN       4944 non-null   int64  \n",
      " 14  DMAETHNR       4944 non-null   int64  \n",
      " 15  HSSEX          4944 non-null   int64  \n",
      " 16  HSAGEIR        4944 non-null   int64  \n",
      " 17  HSAGEU         4944 non-null   int64  \n",
      " 18  HXPAXTMR       24 non-null     float64\n",
      " 19  HXPSESSR       24 non-null     float64\n",
      " 20  HSAITMOR       4944 non-null   int64  \n",
      " 21  HAR4S          0 non-null      float64\n",
      " 22  SPPQ5          4944 non-null   float64\n",
      " 23  SPPQ4          4944 non-null   float64\n",
      " 24  SPPMANEU       4944 non-null   float64\n",
      " 25  MYPB1          0 non-null      float64\n",
      " 26  MYPB3          0 non-null      float64\n",
      " 27  MYPB11         0 non-null      float64\n",
      " 28  MYPB27A        0 non-null      float64\n",
      " 29  MYPB27B        0 non-null      float64\n",
      " 30  HSAGEIR_exam   4944 non-null   float64\n",
      " 31  HSAGEU_exam    4944 non-null   float64\n",
      " 32  HXPAXTMR_exam  24 non-null     float64\n",
      " 33  HXPSESSR_exam  24 non-null     float64\n",
      " 34  HXPEJ6A2       24 non-null     float64\n",
      " 35  SPPTECH1       4944 non-null   float64\n",
      " 36  SPPTRIAL       4944 non-null   float64\n",
      " 37  SPPPEAK        4944 non-null   float64\n",
      " 38  SPPFEV05       4944 non-null   float64\n",
      " 39  SPPFEV1        4944 non-null   float64\n",
      " 40  SPPFEV3        4944 non-null   float64\n",
      " 41  SPPFEV6        4944 non-null   float64\n",
      " 42  SPPFVC         4944 non-null   float64\n",
      " 43  SPPMMEF        4944 non-null   float64\n",
      " 44  SPPFEF75       4944 non-null   float64\n",
      " 45  SPPTYPE        4944 non-null   float64\n",
      " 46  SPPREPRO       4944 non-null   float64\n",
      " 47  SPPTIME        4944 non-null   object \n",
      " 48  SPPEXPIR       4944 non-null   float64\n",
      " 49  SPPTEMP        4944 non-null   float64\n",
      " 50  HSSEX_exam     4944 non-null   float64\n",
      " 51  WTPFHX6        4944 non-null   float64\n",
      " 52  MXPAXTMR       4920 non-null   float64\n",
      " 53  BMPHT          4944 non-null   float64\n",
      " 54  BMPSITHT       4920 non-null   float64\n",
      " 55  BMPWT          4944 non-null   float64\n",
      " 56  DMARACER_exam  4944 non-null   Int64  \n",
      " 57  DMARETHN_exam  4944 non-null   float64\n",
      " 58  SPPQ3          4944 non-null   float64\n",
      " 59  DMAETHNR_exam  4944 non-null   float64\n",
      " 60  HSAITMOR_exam  4944 non-null   float64\n",
      "dtypes: Int64(1), float64(40), int64(19), object(1)\n",
      "memory usage: 2.3+ MB\n"
     ]
    }
   ],
   "source": [
    "af.info()"
   ]
  },
  {
   "cell_type": "code",
   "execution_count": 310,
   "metadata": {},
   "outputs": [
    {
     "data": {
      "text/html": [
       "<div>\n",
       "<style scoped>\n",
       "    .dataframe tbody tr th:only-of-type {\n",
       "        vertical-align: middle;\n",
       "    }\n",
       "\n",
       "    .dataframe tbody tr th {\n",
       "        vertical-align: top;\n",
       "    }\n",
       "\n",
       "    .dataframe thead th {\n",
       "        text-align: right;\n",
       "    }\n",
       "</style>\n",
       "<table border=\"1\" class=\"dataframe\">\n",
       "  <thead>\n",
       "    <tr style=\"text-align: right;\">\n",
       "      <th></th>\n",
       "      <th>description</th>\n",
       "      <th>variable</th>\n",
       "      <th>position</th>\n",
       "      <th>end position</th>\n",
       "      <th>length</th>\n",
       "    </tr>\n",
       "  </thead>\n",
       "  <tbody>\n",
       "    <tr>\n",
       "      <th>157</th>\n",
       "      <td>Language used by SP in MEC</td>\n",
       "      <td>MXPLANG</td>\n",
       "      <td>1232</td>\n",
       "      <td>NaN</td>\n",
       "      <td>1</td>\n",
       "    </tr>\n",
       "    <tr>\n",
       "      <th>168</th>\n",
       "      <td>Language of family interview</td>\n",
       "      <td>HFLANG</td>\n",
       "      <td>1254</td>\n",
       "      <td>NaN</td>\n",
       "      <td>1</td>\n",
       "    </tr>\n",
       "    <tr>\n",
       "      <th>175</th>\n",
       "      <td>Type of Medicare coverage</td>\n",
       "      <td>HFB3</td>\n",
       "      <td>1263</td>\n",
       "      <td>NaN</td>\n",
       "      <td>1</td>\n",
       "    </tr>\n",
       "    <tr>\n",
       "      <th>190</th>\n",
       "      <td>Insurance coverage check item</td>\n",
       "      <td>HFB13</td>\n",
       "      <td>1278</td>\n",
       "      <td>NaN</td>\n",
       "      <td>1</td>\n",
       "    </tr>\n",
       "    <tr>\n",
       "      <th>192</th>\n",
       "      <td>No insur: poor health, illness, age(ph1)</td>\n",
       "      <td>HFB14AC</td>\n",
       "      <td>1280</td>\n",
       "      <td>NaN</td>\n",
       "      <td>1</td>\n",
       "    </tr>\n",
       "    <tr>\n",
       "      <th>218</th>\n",
       "      <td>Parent high blood cholesterol at any age</td>\n",
       "      <td>HFC6C</td>\n",
       "      <td>1308</td>\n",
       "      <td>NaN</td>\n",
       "      <td>1</td>\n",
       "    </tr>\n",
       "    <tr>\n",
       "      <th>220</th>\n",
       "      <td>Parent asthma or hay fever at any age</td>\n",
       "      <td>HFC6D</td>\n",
       "      <td>1310</td>\n",
       "      <td>NaN</td>\n",
       "      <td>1</td>\n",
       "    </tr>\n",
       "    <tr>\n",
       "      <th>222</th>\n",
       "      <td>Parent diabetes at any age</td>\n",
       "      <td>HFC6E</td>\n",
       "      <td>1312</td>\n",
       "      <td>NaN</td>\n",
       "      <td>1</td>\n",
       "    </tr>\n",
       "    <tr>\n",
       "      <th>300</th>\n",
       "      <td>Family reference person age - years</td>\n",
       "      <td>HFHAGER</td>\n",
       "      <td>1418</td>\n",
       "      <td>1420.0</td>\n",
       "      <td>3</td>\n",
       "    </tr>\n",
       "    <tr>\n",
       "      <th>308</th>\n",
       "      <td>Respondent age in years</td>\n",
       "      <td>HFAGERR</td>\n",
       "      <td>1431</td>\n",
       "      <td>1433.0</td>\n",
       "      <td>3</td>\n",
       "    </tr>\n",
       "    <tr>\n",
       "      <th>311</th>\n",
       "      <td>Language of interview</td>\n",
       "      <td>HALANG</td>\n",
       "      <td>1439</td>\n",
       "      <td>NaN</td>\n",
       "      <td>1</td>\n",
       "    </tr>\n",
       "    <tr>\n",
       "      <th>315</th>\n",
       "      <td>Check Item. Refer to age of SP</td>\n",
       "      <td>HAA3</td>\n",
       "      <td>1444</td>\n",
       "      <td>NaN</td>\n",
       "      <td>1</td>\n",
       "    </tr>\n",
       "    <tr>\n",
       "      <th>401</th>\n",
       "      <td>On average, how many units per day taken</td>\n",
       "      <td>HAD8</td>\n",
       "      <td>1571</td>\n",
       "      <td>1573.0</td>\n",
       "      <td>3</td>\n",
       "    </tr>\n",
       "    <tr>\n",
       "      <th>479</th>\n",
       "      <td>Check item. Refer to age of SP</td>\n",
       "      <td>HAG1</td>\n",
       "      <td>1671</td>\n",
       "      <td>NaN</td>\n",
       "      <td>1</td>\n",
       "    </tr>\n",
       "    <tr>\n",
       "      <th>512</th>\n",
       "      <td>Check item. Refer to age of SP</td>\n",
       "      <td>HAG13</td>\n",
       "      <td>1719</td>\n",
       "      <td>NaN</td>\n",
       "      <td>1</td>\n",
       "    </tr>\n",
       "    <tr>\n",
       "      <th>613</th>\n",
       "      <td>Check item. Refer to age of SP</td>\n",
       "      <td>HAJ0</td>\n",
       "      <td>1821</td>\n",
       "      <td>NaN</td>\n",
       "      <td>1</td>\n",
       "    </tr>\n",
       "    <tr>\n",
       "      <th>650</th>\n",
       "      <td>Check item. Refer to sex and age of SP</td>\n",
       "      <td>HAK12</td>\n",
       "      <td>1881</td>\n",
       "      <td>NaN</td>\n",
       "      <td>1</td>\n",
       "    </tr>\n",
       "    <tr>\n",
       "      <th>695</th>\n",
       "      <td>Check item. Refer to age of SP</td>\n",
       "      <td>HAM1</td>\n",
       "      <td>1944</td>\n",
       "      <td>NaN</td>\n",
       "      <td>1</td>\n",
       "    </tr>\n",
       "    <tr>\n",
       "      <th>701</th>\n",
       "      <td>Check item. Refer to age of SP</td>\n",
       "      <td>HAM7</td>\n",
       "      <td>1954</td>\n",
       "      <td>NaN</td>\n",
       "      <td>1</td>\n",
       "    </tr>\n",
       "    <tr>\n",
       "      <th>703</th>\n",
       "      <td>How much did you weigh at age 25 - lbs</td>\n",
       "      <td>HAM9S</td>\n",
       "      <td>1958</td>\n",
       "      <td>1960.0</td>\n",
       "      <td>3</td>\n",
       "    </tr>\n",
       "    <tr>\n",
       "      <th>744</th>\n",
       "      <td>Bacon/sausage/processed meats - times/mo</td>\n",
       "      <td>HAN2CS</td>\n",
       "      <td>2023</td>\n",
       "      <td>2026.0</td>\n",
       "      <td>4</td>\n",
       "    </tr>\n",
       "    <tr>\n",
       "      <th>766</th>\n",
       "      <td>Cabbage, cole slaw, sauerkraut-times/mo</td>\n",
       "      <td>HAN4IS</td>\n",
       "      <td>2090</td>\n",
       "      <td>2092.0</td>\n",
       "      <td>3</td>\n",
       "    </tr>\n",
       "    <tr>\n",
       "      <th>796</th>\n",
       "      <td>1st other food or beverage - specified</td>\n",
       "      <td>HAN8ACD</td>\n",
       "      <td>2183</td>\n",
       "      <td>2184.0</td>\n",
       "      <td>2</td>\n",
       "    </tr>\n",
       "    <tr>\n",
       "      <th>797</th>\n",
       "      <td>1st other food or beverage - times/month</td>\n",
       "      <td>HAN8AS</td>\n",
       "      <td>2185</td>\n",
       "      <td>2188.0</td>\n",
       "      <td>4</td>\n",
       "    </tr>\n",
       "    <tr>\n",
       "      <th>798</th>\n",
       "      <td>2nd other food or beverage - specified</td>\n",
       "      <td>HAN8BCD</td>\n",
       "      <td>2189</td>\n",
       "      <td>2190.0</td>\n",
       "      <td>2</td>\n",
       "    </tr>\n",
       "    <tr>\n",
       "      <th>799</th>\n",
       "      <td>2nd other food or beverage - times/month</td>\n",
       "      <td>HAN8BS</td>\n",
       "      <td>2191</td>\n",
       "      <td>2194.0</td>\n",
       "      <td>4</td>\n",
       "    </tr>\n",
       "    <tr>\n",
       "      <th>800</th>\n",
       "      <td>3rd other food or beverage - specified</td>\n",
       "      <td>HAN8CCD</td>\n",
       "      <td>2195</td>\n",
       "      <td>2196.0</td>\n",
       "      <td>2</td>\n",
       "    </tr>\n",
       "    <tr>\n",
       "      <th>801</th>\n",
       "      <td>3rd other food or beverage - times/month</td>\n",
       "      <td>HAN8CS</td>\n",
       "      <td>2197</td>\n",
       "      <td>2199.0</td>\n",
       "      <td>3</td>\n",
       "    </tr>\n",
       "    <tr>\n",
       "      <th>802</th>\n",
       "      <td>4th other food or beverage - specified</td>\n",
       "      <td>HAN8DCD</td>\n",
       "      <td>2200</td>\n",
       "      <td>2201.0</td>\n",
       "      <td>2</td>\n",
       "    </tr>\n",
       "    <tr>\n",
       "      <th>803</th>\n",
       "      <td>4th other food or beverage - times/month</td>\n",
       "      <td>HAN8DS</td>\n",
       "      <td>2202</td>\n",
       "      <td>2204.0</td>\n",
       "      <td>3</td>\n",
       "    </tr>\n",
       "    <tr>\n",
       "      <th>804</th>\n",
       "      <td>5th other food or beverage - specified</td>\n",
       "      <td>HAN8ECD</td>\n",
       "      <td>2205</td>\n",
       "      <td>2206.0</td>\n",
       "      <td>2</td>\n",
       "    </tr>\n",
       "    <tr>\n",
       "      <th>805</th>\n",
       "      <td>5th other food or beverage - times/month</td>\n",
       "      <td>HAN8ES</td>\n",
       "      <td>2207</td>\n",
       "      <td>2209.0</td>\n",
       "      <td>3</td>\n",
       "    </tr>\n",
       "    <tr>\n",
       "      <th>806</th>\n",
       "      <td>6th other food or beverage - specified</td>\n",
       "      <td>HAN8FCD</td>\n",
       "      <td>2210</td>\n",
       "      <td>2211.0</td>\n",
       "      <td>2</td>\n",
       "    </tr>\n",
       "    <tr>\n",
       "      <th>807</th>\n",
       "      <td>6th other food or beverage - times/month</td>\n",
       "      <td>HAN8FS</td>\n",
       "      <td>2212</td>\n",
       "      <td>2214.0</td>\n",
       "      <td>3</td>\n",
       "    </tr>\n",
       "    <tr>\n",
       "      <th>808</th>\n",
       "      <td>Check item. Refer to age of SP</td>\n",
       "      <td>HAN9</td>\n",
       "      <td>2215</td>\n",
       "      <td>NaN</td>\n",
       "      <td>1</td>\n",
       "    </tr>\n",
       "    <tr>\n",
       "      <th>810</th>\n",
       "      <td>How often drnk milk when teenager(13-17)</td>\n",
       "      <td>HAN10B</td>\n",
       "      <td>2217</td>\n",
       "      <td>NaN</td>\n",
       "      <td>1</td>\n",
       "    </tr>\n",
       "    <tr>\n",
       "      <th>812</th>\n",
       "      <td>How often drnk milk,mid-age adult(36-65)</td>\n",
       "      <td>HAN10D</td>\n",
       "      <td>2219</td>\n",
       "      <td>NaN</td>\n",
       "      <td>1</td>\n",
       "    </tr>\n",
       "    <tr>\n",
       "      <th>831</th>\n",
       "      <td>Check item. Refer to age of SP</td>\n",
       "      <td>HAP16</td>\n",
       "      <td>2238</td>\n",
       "      <td>NaN</td>\n",
       "      <td>1</td>\n",
       "    </tr>\n",
       "    <tr>\n",
       "      <th>859</th>\n",
       "      <td>Check item. Refer to age of SP</td>\n",
       "      <td>HAQ7</td>\n",
       "      <td>2277</td>\n",
       "      <td>NaN</td>\n",
       "      <td>1</td>\n",
       "    </tr>\n",
       "    <tr>\n",
       "      <th>928</th>\n",
       "      <td>Language you mainly speak at home</td>\n",
       "      <td>HAS28</td>\n",
       "      <td>2386</td>\n",
       "      <td>NaN</td>\n",
       "      <td>1</td>\n",
       "    </tr>\n",
       "    <tr>\n",
       "      <th>929</th>\n",
       "      <td>Language you mainly speak at work/school</td>\n",
       "      <td>HAS29</td>\n",
       "      <td>2387</td>\n",
       "      <td>2388.0</td>\n",
       "      <td>2</td>\n",
       "    </tr>\n",
       "    <tr>\n",
       "      <th>970</th>\n",
       "      <td>Active compared with men/women your age</td>\n",
       "      <td>HAT28</td>\n",
       "      <td>2499</td>\n",
       "      <td>NaN</td>\n",
       "      <td>1</td>\n",
       "    </tr>\n",
       "    <tr>\n",
       "      <th>971</th>\n",
       "      <td>Check item. Refer to age of SP</td>\n",
       "      <td>HAT29</td>\n",
       "      <td>2500</td>\n",
       "      <td>NaN</td>\n",
       "      <td>1</td>\n",
       "    </tr>\n",
       "    <tr>\n",
       "      <th>1189</th>\n",
       "      <td>Observe SP:speech problems(not language)</td>\n",
       "      <td>HAY11G</td>\n",
       "      <td>3229</td>\n",
       "      <td>NaN</td>\n",
       "      <td>1</td>\n",
       "    </tr>\n",
       "    <tr>\n",
       "      <th>1192</th>\n",
       "      <td>Observed SP:overweight, average, or thin</td>\n",
       "      <td>HAY11J</td>\n",
       "      <td>3232</td>\n",
       "      <td>NaN</td>\n",
       "      <td>1</td>\n",
       "    </tr>\n",
       "    <tr>\n",
       "      <th>1229</th>\n",
       "      <td>Average K1 BP (survey years 5 and 6)</td>\n",
       "      <td>HAZA11A</td>\n",
       "      <td>3324</td>\n",
       "      <td>3326.0</td>\n",
       "      <td>3</td>\n",
       "    </tr>\n",
       "    <tr>\n",
       "      <th>1230</th>\n",
       "      <td>Average K1 BP after data edits</td>\n",
       "      <td>HAZA11AR</td>\n",
       "      <td>3327</td>\n",
       "      <td>3329.0</td>\n",
       "      <td>3</td>\n",
       "    </tr>\n",
       "    <tr>\n",
       "      <th>1231</th>\n",
       "      <td>Average K5 BP (survey years 5-6)</td>\n",
       "      <td>HAZA11B</td>\n",
       "      <td>3330</td>\n",
       "      <td>3332.0</td>\n",
       "      <td>3</td>\n",
       "    </tr>\n",
       "    <tr>\n",
       "      <th>1232</th>\n",
       "      <td>Average K5 BP after data edits</td>\n",
       "      <td>HAZA11BR</td>\n",
       "      <td>3333</td>\n",
       "      <td>3335.0</td>\n",
       "      <td>3</td>\n",
       "    </tr>\n",
       "    <tr>\n",
       "      <th>1234</th>\n",
       "      <td>Average K1 BP from household and MEC</td>\n",
       "      <td>HAZMNK1R</td>\n",
       "      <td>3337</td>\n",
       "      <td>3339.0</td>\n",
       "      <td>3</td>\n",
       "    </tr>\n",
       "    <tr>\n",
       "      <th>1235</th>\n",
       "      <td>Number of BP's used for average K1</td>\n",
       "      <td>HAZNOK1R</td>\n",
       "      <td>3340</td>\n",
       "      <td>3341.0</td>\n",
       "      <td>2</td>\n",
       "    </tr>\n",
       "    <tr>\n",
       "      <th>1236</th>\n",
       "      <td>Average K5 BP from household and MEC</td>\n",
       "      <td>HAZMNK5R</td>\n",
       "      <td>3342</td>\n",
       "      <td>3344.0</td>\n",
       "      <td>3</td>\n",
       "    </tr>\n",
       "    <tr>\n",
       "      <th>1237</th>\n",
       "      <td>Number of BP's used for average K5</td>\n",
       "      <td>HAZNOK5R</td>\n",
       "      <td>3345</td>\n",
       "      <td>3346.0</td>\n",
       "      <td>2</td>\n",
       "    </tr>\n",
       "  </tbody>\n",
       "</table>\n",
       "</div>"
      ],
      "text/plain": [
       "                                   description  variable  position  \\\n",
       "157                 Language used by SP in MEC   MXPLANG      1232   \n",
       "168               Language of family interview    HFLANG      1254   \n",
       "175                  Type of Medicare coverage      HFB3      1263   \n",
       "190              Insurance coverage check item     HFB13      1278   \n",
       "192   No insur: poor health, illness, age(ph1)   HFB14AC      1280   \n",
       "218   Parent high blood cholesterol at any age     HFC6C      1308   \n",
       "220      Parent asthma or hay fever at any age     HFC6D      1310   \n",
       "222                 Parent diabetes at any age     HFC6E      1312   \n",
       "300        Family reference person age - years   HFHAGER      1418   \n",
       "308                    Respondent age in years   HFAGERR      1431   \n",
       "311                      Language of interview    HALANG      1439   \n",
       "315             Check Item. Refer to age of SP      HAA3      1444   \n",
       "401   On average, how many units per day taken      HAD8      1571   \n",
       "479             Check item. Refer to age of SP      HAG1      1671   \n",
       "512             Check item. Refer to age of SP     HAG13      1719   \n",
       "613             Check item. Refer to age of SP      HAJ0      1821   \n",
       "650     Check item. Refer to sex and age of SP     HAK12      1881   \n",
       "695             Check item. Refer to age of SP      HAM1      1944   \n",
       "701             Check item. Refer to age of SP      HAM7      1954   \n",
       "703     How much did you weigh at age 25 - lbs     HAM9S      1958   \n",
       "744   Bacon/sausage/processed meats - times/mo    HAN2CS      2023   \n",
       "766    Cabbage, cole slaw, sauerkraut-times/mo    HAN4IS      2090   \n",
       "796     1st other food or beverage - specified   HAN8ACD      2183   \n",
       "797   1st other food or beverage - times/month    HAN8AS      2185   \n",
       "798     2nd other food or beverage - specified   HAN8BCD      2189   \n",
       "799   2nd other food or beverage - times/month    HAN8BS      2191   \n",
       "800     3rd other food or beverage - specified   HAN8CCD      2195   \n",
       "801   3rd other food or beverage - times/month    HAN8CS      2197   \n",
       "802     4th other food or beverage - specified   HAN8DCD      2200   \n",
       "803   4th other food or beverage - times/month    HAN8DS      2202   \n",
       "804     5th other food or beverage - specified   HAN8ECD      2205   \n",
       "805   5th other food or beverage - times/month    HAN8ES      2207   \n",
       "806     6th other food or beverage - specified   HAN8FCD      2210   \n",
       "807   6th other food or beverage - times/month    HAN8FS      2212   \n",
       "808             Check item. Refer to age of SP      HAN9      2215   \n",
       "810   How often drnk milk when teenager(13-17)    HAN10B      2217   \n",
       "812   How often drnk milk,mid-age adult(36-65)    HAN10D      2219   \n",
       "831             Check item. Refer to age of SP     HAP16      2238   \n",
       "859             Check item. Refer to age of SP      HAQ7      2277   \n",
       "928          Language you mainly speak at home     HAS28      2386   \n",
       "929   Language you mainly speak at work/school     HAS29      2387   \n",
       "970    Active compared with men/women your age     HAT28      2499   \n",
       "971             Check item. Refer to age of SP     HAT29      2500   \n",
       "1189  Observe SP:speech problems(not language)    HAY11G      3229   \n",
       "1192  Observed SP:overweight, average, or thin    HAY11J      3232   \n",
       "1229      Average K1 BP (survey years 5 and 6)   HAZA11A      3324   \n",
       "1230            Average K1 BP after data edits  HAZA11AR      3327   \n",
       "1231          Average K5 BP (survey years 5-6)   HAZA11B      3330   \n",
       "1232            Average K5 BP after data edits  HAZA11BR      3333   \n",
       "1234      Average K1 BP from household and MEC  HAZMNK1R      3337   \n",
       "1235        Number of BP's used for average K1  HAZNOK1R      3340   \n",
       "1236      Average K5 BP from household and MEC  HAZMNK5R      3342   \n",
       "1237        Number of BP's used for average K5  HAZNOK5R      3345   \n",
       "\n",
       "      end position  length  \n",
       "157            NaN       1  \n",
       "168            NaN       1  \n",
       "175            NaN       1  \n",
       "190            NaN       1  \n",
       "192            NaN       1  \n",
       "218            NaN       1  \n",
       "220            NaN       1  \n",
       "222            NaN       1  \n",
       "300         1420.0       3  \n",
       "308         1433.0       3  \n",
       "311            NaN       1  \n",
       "315            NaN       1  \n",
       "401         1573.0       3  \n",
       "479            NaN       1  \n",
       "512            NaN       1  \n",
       "613            NaN       1  \n",
       "650            NaN       1  \n",
       "695            NaN       1  \n",
       "701            NaN       1  \n",
       "703         1960.0       3  \n",
       "744         2026.0       4  \n",
       "766         2092.0       3  \n",
       "796         2184.0       2  \n",
       "797         2188.0       4  \n",
       "798         2190.0       2  \n",
       "799         2194.0       4  \n",
       "800         2196.0       2  \n",
       "801         2199.0       3  \n",
       "802         2201.0       2  \n",
       "803         2204.0       3  \n",
       "804         2206.0       2  \n",
       "805         2209.0       3  \n",
       "806         2211.0       2  \n",
       "807         2214.0       3  \n",
       "808            NaN       1  \n",
       "810            NaN       1  \n",
       "812            NaN       1  \n",
       "831            NaN       1  \n",
       "859            NaN       1  \n",
       "928            NaN       1  \n",
       "929         2388.0       2  \n",
       "970            NaN       1  \n",
       "971            NaN       1  \n",
       "1189           NaN       1  \n",
       "1192           NaN       1  \n",
       "1229        3326.0       3  \n",
       "1230        3329.0       3  \n",
       "1231        3332.0       3  \n",
       "1232        3335.0       3  \n",
       "1234        3339.0       3  \n",
       "1235        3341.0       2  \n",
       "1236        3344.0       3  \n",
       "1237        3346.0       2  "
      ]
     },
     "execution_count": 310,
     "metadata": {},
     "output_type": "execute_result"
    }
   ],
   "source": [
    "nh.cols[nh.cols.description.str.contains('age')]"
   ]
  },
  {
   "cell_type": "code",
   "execution_count": 311,
   "metadata": {},
   "outputs": [
    {
     "data": {
      "text/plain": [
       "SEQN\n",
       "3        4640.0\n",
       "4        3089.0\n",
       "45       1840.0\n",
       "52       4658.0\n",
       "60       3651.0\n",
       "          ...  \n",
       "53558    2626.0\n",
       "53567    3348.0\n",
       "53592    3642.0\n",
       "53593    5214.0\n",
       "53623    3196.0\n",
       "Name: SPPFEV1, Length: 4944, dtype: float64"
      ]
     },
     "execution_count": 311,
     "metadata": {},
     "output_type": "execute_result"
    }
   ],
   "source": [
    "af.SPPFEV1"
   ]
  },
  {
   "cell_type": "markdown",
   "metadata": {},
   "source": [
    "## Now do youth exclusion"
   ]
  },
  {
   "cell_type": "code",
   "execution_count": 312,
   "metadata": {},
   "outputs": [
    {
     "data": {
      "text/plain": [
       "(13944, 54)"
      ]
     },
     "execution_count": 312,
     "metadata": {},
     "output_type": "execute_result"
    }
   ],
   "source": [
    "youth_exam.shape"
   ]
  },
  {
   "cell_type": "markdown",
   "metadata": {},
   "source": [
    "age 8-17"
   ]
  },
  {
   "cell_type": "code",
   "execution_count": 313,
   "metadata": {},
   "outputs": [
    {
     "data": {
      "text/plain": [
       "(5365, 54)"
      ]
     },
     "execution_count": 313,
     "metadata": {},
     "output_type": "execute_result"
    }
   ],
   "source": [
    "youth_exam.query('7 < HSAGEIR < 18').shape"
   ]
  },
  {
   "cell_type": "markdown",
   "metadata": {},
   "source": [
    "Youth ethnicity"
   ]
  },
  {
   "cell_type": "code",
   "execution_count": 314,
   "metadata": {},
   "outputs": [
    {
     "data": {
      "text/plain": [
       "1    4602\n",
       "3    4445\n",
       "2    4141\n",
       "4     756\n",
       "Name: DMARETHN, dtype: int64"
      ]
     },
     "execution_count": 314,
     "metadata": {},
     "output_type": "execute_result"
    }
   ],
   "source": [
    "youth_exam.DMARETHN.value_counts()"
   ]
  },
  {
   "cell_type": "markdown",
   "metadata": {},
   "source": [
    "spirometry unusable <2 curves"
   ]
  },
  {
   "cell_type": "code",
   "execution_count": 315,
   "metadata": {},
   "outputs": [
    {
     "data": {
      "text/plain": [
       "(4114, 54)"
      ]
     },
     "execution_count": 315,
     "metadata": {},
     "output_type": "execute_result"
    }
   ],
   "source": [
    "youth_exam.query('7 < HSAGEIR < 18').query('2 <= SPPMANEU < 88').shape"
   ]
  },
  {
   "cell_type": "markdown",
   "metadata": {},
   "source": [
    "ethnicity other"
   ]
  },
  {
   "cell_type": "code",
   "execution_count": 316,
   "metadata": {},
   "outputs": [
    {
     "data": {
      "text/plain": [
       "(3928, 54)"
      ]
     },
     "execution_count": 316,
     "metadata": {},
     "output_type": "execute_result"
    }
   ],
   "source": [
    "youth_exam.query('7 < HSAGEIR < 18').query('2 <= SPPMANEU < 88').query('DMARETHN < 4').shape"
   ]
  },
  {
   "cell_type": "markdown",
   "metadata": {},
   "source": [
    "try B1 ever smoker  not work exclude too many"
   ]
  },
  {
   "cell_type": "code",
   "execution_count": 317,
   "metadata": {},
   "outputs": [
    {
     "data": {
      "text/plain": [
       "(3238, 54)"
      ]
     },
     "execution_count": 317,
     "metadata": {},
     "output_type": "execute_result"
    }
   ],
   "source": [
    "youth_exam.query('7 < HSAGEIR < 18').query('2 <= SPPMANEU < 88').query('DMARETHN < 4').query('not MYPB1 == 1').shape"
   ]
  },
  {
   "cell_type": "markdown",
   "metadata": {},
   "source": [
    "smoker B1 and B3 ** B1 too many; B3 (>5 pks) OK"
   ]
  },
  {
   "cell_type": "code",
   "execution_count": 318,
   "metadata": {},
   "outputs": [
    {
     "data": {
      "text/plain": [
       "(3813, 54)"
      ]
     },
     "execution_count": 318,
     "metadata": {},
     "output_type": "execute_result"
    }
   ],
   "source": [
    "youth_exam.query('7 < HSAGEIR < 18').query('2 <= SPPMANEU < 88').query('DMARETHN < 4').query('not MYPB3 == 1').shape"
   ]
  },
  {
   "cell_type": "markdown",
   "metadata": {},
   "source": [
    "smoked 5 days B11 and B27"
   ]
  },
  {
   "cell_type": "code",
   "execution_count": 319,
   "metadata": {},
   "outputs": [
    {
     "data": {
      "text/plain": [
       "(3594, 54)"
      ]
     },
     "execution_count": 319,
     "metadata": {},
     "output_type": "execute_result"
    }
   ],
   "source": [
    "youth_exam.query('7 < HSAGEIR < 18').query('2 <= SPPMANEU < 88').query('DMARETHN < 4').query('not MYPB3 == 1').query('not MYPB11 >0').shape"
   ]
  },
  {
   "cell_type": "markdown",
   "metadata": {},
   "source": [
    "and B27"
   ]
  },
  {
   "cell_type": "code",
   "execution_count": 320,
   "metadata": {},
   "outputs": [
    {
     "data": {
      "text/plain": [
       "(3593, 54)"
      ]
     },
     "execution_count": 320,
     "metadata": {},
     "output_type": "execute_result"
    }
   ],
   "source": [
    "youth_exam.query('7 < HSAGEIR < 18').query('2 <= SPPMANEU < 88').query('DMARETHN < 4').query('not MYPB3 == 1').query('not MYPB11 >0').query('not MYPB27A >0').shape"
   ]
  },
  {
   "cell_type": "markdown",
   "metadata": {},
   "source": [
    "asthma E1g"
   ]
  },
  {
   "cell_type": "code",
   "execution_count": 321,
   "metadata": {},
   "outputs": [
    {
     "data": {
      "text/plain": [
       "(3268, 54)"
      ]
     },
     "execution_count": 321,
     "metadata": {},
     "output_type": "execute_result"
    }
   ],
   "source": [
    "youth_exam.query('7 < HSAGEIR < 18').query('2 <= SPPMANEU < 88').query('DMARETHN < 4').query('not MYPB3 == 1').query('not MYPB11 >0').query('not MYPB27A >0').query('not HYE1G == 1').shape"
   ]
  },
  {
   "cell_type": "markdown",
   "metadata": {},
   "source": [
    "chronic bronchitis E1h"
   ]
  },
  {
   "cell_type": "code",
   "execution_count": 322,
   "metadata": {},
   "outputs": [
    {
     "data": {
      "text/plain": [
       "(3180, 54)"
      ]
     },
     "execution_count": 322,
     "metadata": {},
     "output_type": "execute_result"
    }
   ],
   "source": [
    "youth_exam.query('7 < HSAGEIR < 18').query('2 <= SPPMANEU < 88').query('DMARETHN < 4').query('not MYPB3 == 1').query('not MYPB11 >0').query('not MYPB27A >0').query('not HYE1G == 1').query('not HYE1H == 1').shape"
   ]
  },
  {
   "cell_type": "markdown",
   "metadata": {},
   "source": [
    "wheezing 12 months"
   ]
  },
  {
   "cell_type": "code",
   "execution_count": 323,
   "metadata": {},
   "outputs": [
    {
     "data": {
      "text/plain": [
       "(2899, 54)"
      ]
     },
     "execution_count": 323,
     "metadata": {},
     "output_type": "execute_result"
    }
   ],
   "source": [
    "youth_exam.query('7 < HSAGEIR < 18').query('2 <= SPPMANEU < 88').query('DMARETHN < 4').query('not MYPB3 == 1').query('not MYPB11 >0').query('not MYPB27A >0').query('not HYE1G == 1').query('not HYE1H == 1').query('not HYG8 == 1').shape"
   ]
  },
  {
   "cell_type": "markdown",
   "metadata": {},
   "source": [
    "wheezing apart from colds"
   ]
  },
  {
   "cell_type": "code",
   "execution_count": 324,
   "metadata": {
    "scrolled": true
   },
   "outputs": [
    {
     "data": {
      "text/plain": [
       "(2848, 54)"
      ]
     },
     "execution_count": 324,
     "metadata": {},
     "output_type": "execute_result"
    }
   ],
   "source": [
    "youth_exam.query('7 < HSAGEIR < 18').query('2 <= SPPMANEU < 88').query('DMARETHN < 4').query('not MYPB3 == 1').query('not MYPB11 >0').query('not MYPB27A >0').query('not HYE1G == 1').query('not HYE1H == 1').query('not HYG8 == 1').query('not HYG12 == 1').shape"
   ]
  },
  {
   "cell_type": "markdown",
   "metadata": {},
   "source": [
    "Youth 12 years and older with above H 1298"
   ]
  },
  {
   "cell_type": "code",
   "execution_count": 325,
   "metadata": {},
   "outputs": [
    {
     "data": {
      "text/plain": [
       "(1305, 54)"
      ]
     },
     "execution_count": 325,
     "metadata": {},
     "output_type": "execute_result"
    }
   ],
   "source": [
    "youth_exam.query('7 < HSAGEIR < 18').query('2 <= SPPMANEU < 88').query('DMARETHN < 4').query('not MYPB3 == 1').query('not MYPB11 >0').query('not MYPB27A >0').query('not HYE1G == 1').query('not HYE1H == 1').query('not HYG8 == 1').query('not HYG12 == 1').query('HSAGEIR > 11').shape"
   ]
  },
  {
   "cell_type": "markdown",
   "metadata": {},
   "source": [
    "and not persistent cough G2 H 2816 **I all age"
   ]
  },
  {
   "cell_type": "code",
   "execution_count": 326,
   "metadata": {},
   "outputs": [
    {
     "data": {
      "text/plain": [
       "(2832, 54)"
      ]
     },
     "execution_count": 326,
     "metadata": {},
     "output_type": "execute_result"
    }
   ],
   "source": [
    "youth_exam.query('7 < HSAGEIR < 18').query('2 <= SPPMANEU < 88').query('DMARETHN < 4').query('not MYPB3 == 1').query('not MYPB11 >0').query('not MYPB27A >0').query('not HYE1G == 1').query('not HYE1H == 1').query('not HYG8 == 1').query('not HYG12 == 1').query('not HYG2 == 1').shape"
   ]
  },
  {
   "cell_type": "markdown",
   "metadata": {},
   "source": [
    "and not persistent phlegm G4 H 2806"
   ]
  },
  {
   "cell_type": "code",
   "execution_count": 327,
   "metadata": {},
   "outputs": [
    {
     "data": {
      "text/plain": [
       "(2822, 54)"
      ]
     },
     "execution_count": 327,
     "metadata": {},
     "output_type": "execute_result"
    }
   ],
   "source": [
    "youth_exam.query('7 < HSAGEIR < 18').query('2 <= SPPMANEU < 88').query('DMARETHN < 4').query('not MYPB3 == 1').query('not MYPB11 >0').query('not MYPB27A >0').query('not HYE1G == 1').query('not HYE1H == 1').query('not HYG8 == 1').query('not HYG12 == 1').query('not HYG2 == 1').query('not HYG4 == 1').shape"
   ]
  },
  {
   "cell_type": "markdown",
   "metadata": {},
   "source": [
    "and Youth age 8-under 12"
   ]
  },
  {
   "cell_type": "code",
   "execution_count": 328,
   "metadata": {},
   "outputs": [
    {
     "data": {
      "text/plain": [
       "(1543, 54)"
      ]
     },
     "execution_count": 328,
     "metadata": {},
     "output_type": "execute_result"
    }
   ],
   "source": [
    "youth_exam.query('7 < HSAGEIR < 18').query('2 <= SPPMANEU < 88').query('DMARETHN < 4').query('not MYPB3 == 1').query('not MYPB11 >0').query('not MYPB27A >0').query('not HYE1G == 1').query('not HYE1H == 1').query('not HYG8 == 1').query('not HYG12 == 1').query('not HYG2 == 1').query('not HYG4 == 1').query('HSAGEIR < 12').shape"
   ]
  },
  {
   "cell_type": "markdown",
   "metadata": {},
   "source": [
    "and not persistent cough G6 and G7"
   ]
  },
  {
   "cell_type": "code",
   "execution_count": 329,
   "metadata": {},
   "outputs": [
    {
     "data": {
      "text/plain": [
       "(2812, 54)"
      ]
     },
     "execution_count": 329,
     "metadata": {},
     "output_type": "execute_result"
    }
   ],
   "source": [
    "youth_exam.query('7 < HSAGEIR < 18').query('2 <= SPPMANEU < 88').query('DMARETHN < 4').query('not MYPB3 == 1').query('not MYPB11 >0').query('not MYPB27A >0').query('not HYE1G == 1').query('not HYE1H == 1').query('not HYG8 == 1').query('not HYG12 == 1').query('not HYG2 == 1').query('not HYG4 == 1').query('not HYG7 == 555').shape"
   ]
  },
  {
   "cell_type": "markdown",
   "metadata": {},
   "source": [
    "## Create youth_final"
   ]
  },
  {
   "cell_type": "markdown",
   "metadata": {},
   "source": [
    "youth_exam.query('7 < HSAGEIR < 18').query('2 <= SPPMANEU < 88').query('DMARETHN < 4').query('not MYPB3 == 1').query('not MYPB11 >0').query('not MYPB27A >0').query('not HYE1G == 1').query('not HYE1H == 1').query('not HYG8 == 1').query('not HYG12 == 1').query('not HYG2 == 1').query('not HYG4 == 1').query('not HYG7 == 555').shape"
   ]
  },
  {
   "cell_type": "markdown",
   "metadata": {},
   "source": [
    "youth_exam.query('7 < HSAGEIR < 18').query('2 <= SPPMANEU < 88').query('DMARETHN < 4').query('not MYPB3 == 1').query('not MYPB11 >0').query('not MYPB27A >0').query('not HYE1G == 1').query('not HYE1H == 1').query('not HYG8 == 1').query('not HYG12 == 1').query('not HYG2 == 1').query('not HYG4 == 1').query('not HYG7 == 555').shape"
   ]
  },
  {
   "cell_type": "markdown",
   "metadata": {},
   "source": [
    "youth_final = (youth_exam.query('7 < HSAGEIR < 18').query('2 <= SPPMANEU < 88')\n",
    "               .query('DMARETHN < 4').query('not MYPB3 == 1')\n",
    "               .query('not MYPB11 >0').query('not MYPB27A >0')\n",
    "               .query('not HYE1G == 1').query('not HYE1H == 1')\n",
    "               .query('not HYG8 == 1').query('not HYG12 == 1')\n",
    "               .query('not HYG2 == 1').query('not HYG4 == 1')\n",
    "               .query('not HYG7 == 555'))"
   ]
  },
  {
   "cell_type": "code",
   "execution_count": 330,
   "metadata": {},
   "outputs": [],
   "source": [
    "youth_final = (youth_exam.query('7 < HSAGEIR < 18').query('2 <= SPPMANEU < 88')\n",
    "               .query('DMARETHN < 4').query('not MYPB3 == 1')\n",
    "               .query('not MYPB11 >0').query('not MYPB27A >0')\n",
    "               .query('not HYE1G == 1').query('not HYE1H == 1')\n",
    "               .query('not HYG8 == 1').query('not HYG12 == 1')\n",
    "               .query('not HYG2 == 1').query('not HYG4 == 1')\n",
    "               .query('not HYG7 == 555'))"
   ]
  },
  {
   "cell_type": "code",
   "execution_count": 331,
   "metadata": {},
   "outputs": [
    {
     "data": {
      "text/plain": [
       "(2812, 54)"
      ]
     },
     "execution_count": 331,
     "metadata": {},
     "output_type": "execute_result"
    }
   ],
   "source": [
    "youth_final.shape"
   ]
  },
  {
   "cell_type": "code",
   "execution_count": 332,
   "metadata": {},
   "outputs": [
    {
     "data": {
      "text/html": [
       "<div>\n",
       "<style scoped>\n",
       "    .dataframe tbody tr th:only-of-type {\n",
       "        vertical-align: middle;\n",
       "    }\n",
       "\n",
       "    .dataframe tbody tr th {\n",
       "        vertical-align: top;\n",
       "    }\n",
       "\n",
       "    .dataframe thead th {\n",
       "        text-align: right;\n",
       "    }\n",
       "</style>\n",
       "<table border=\"1\" class=\"dataframe\">\n",
       "  <thead>\n",
       "    <tr style=\"text-align: right;\">\n",
       "      <th></th>\n",
       "      <th>HSSEX</th>\n",
       "      <th>HSAGEIR</th>\n",
       "      <th>HSAGEU</th>\n",
       "      <th>DMARACER</th>\n",
       "      <th>DMARETHN</th>\n",
       "      <th>DMAETHNR</th>\n",
       "      <th>HXPAXTMR</th>\n",
       "      <th>HXPSESSR</th>\n",
       "      <th>HYE1G</th>\n",
       "      <th>HYG2</th>\n",
       "      <th>...</th>\n",
       "      <th>WTPFHX6</th>\n",
       "      <th>MXPAXTMR</th>\n",
       "      <th>BMPHT</th>\n",
       "      <th>BMPSITHT</th>\n",
       "      <th>BMPWT</th>\n",
       "      <th>DMARACER_exam</th>\n",
       "      <th>DMARETHN_exam</th>\n",
       "      <th>SPPQ3</th>\n",
       "      <th>DMAETHNR_exam</th>\n",
       "      <th>HSAITMOR</th>\n",
       "    </tr>\n",
       "    <tr>\n",
       "      <th>SEQN</th>\n",
       "      <th></th>\n",
       "      <th></th>\n",
       "      <th></th>\n",
       "      <th></th>\n",
       "      <th></th>\n",
       "      <th></th>\n",
       "      <th></th>\n",
       "      <th></th>\n",
       "      <th></th>\n",
       "      <th></th>\n",
       "      <th></th>\n",
       "      <th></th>\n",
       "      <th></th>\n",
       "      <th></th>\n",
       "      <th></th>\n",
       "      <th></th>\n",
       "      <th></th>\n",
       "      <th></th>\n",
       "      <th></th>\n",
       "      <th></th>\n",
       "      <th></th>\n",
       "    </tr>\n",
       "  </thead>\n",
       "  <tbody>\n",
       "    <tr>\n",
       "      <th>14</th>\n",
       "      <td>2</td>\n",
       "      <td>16</td>\n",
       "      <td>2</td>\n",
       "      <td>1</td>\n",
       "      <td>1</td>\n",
       "      <td>3</td>\n",
       "      <td>NaN</td>\n",
       "      <td>NaN</td>\n",
       "      <td>2</td>\n",
       "      <td>2.0</td>\n",
       "      <td>...</td>\n",
       "      <td>13749.61</td>\n",
       "      <td>197.0</td>\n",
       "      <td>166.9</td>\n",
       "      <td>87.0</td>\n",
       "      <td>47.50</td>\n",
       "      <td>1</td>\n",
       "      <td>1.0</td>\n",
       "      <td>2.0</td>\n",
       "      <td>3.0</td>\n",
       "      <td>196.0</td>\n",
       "    </tr>\n",
       "    <tr>\n",
       "      <th>16</th>\n",
       "      <td>1</td>\n",
       "      <td>16</td>\n",
       "      <td>2</td>\n",
       "      <td>1</td>\n",
       "      <td>3</td>\n",
       "      <td>1</td>\n",
       "      <td>NaN</td>\n",
       "      <td>NaN</td>\n",
       "      <td>2</td>\n",
       "      <td>2.0</td>\n",
       "      <td>...</td>\n",
       "      <td>1792.14</td>\n",
       "      <td>200.0</td>\n",
       "      <td>167.6</td>\n",
       "      <td>89.2</td>\n",
       "      <td>62.65</td>\n",
       "      <td>1</td>\n",
       "      <td>3.0</td>\n",
       "      <td>2.0</td>\n",
       "      <td>1.0</td>\n",
       "      <td>198.0</td>\n",
       "    </tr>\n",
       "  </tbody>\n",
       "</table>\n",
       "<p>2 rows × 54 columns</p>\n",
       "</div>"
      ],
      "text/plain": [
       "      HSSEX  HSAGEIR  HSAGEU  DMARACER  DMARETHN  DMAETHNR  HXPAXTMR  \\\n",
       "SEQN                                                                   \n",
       "14        2       16       2         1         1         3       NaN   \n",
       "16        1       16       2         1         3         1       NaN   \n",
       "\n",
       "      HXPSESSR  HYE1G  HYG2  ...   WTPFHX6  MXPAXTMR  BMPHT  BMPSITHT  BMPWT  \\\n",
       "SEQN                         ...                                               \n",
       "14         NaN      2   2.0  ...  13749.61     197.0  166.9      87.0  47.50   \n",
       "16         NaN      2   2.0  ...   1792.14     200.0  167.6      89.2  62.65   \n",
       "\n",
       "      DMARACER_exam  DMARETHN_exam  SPPQ3  DMAETHNR_exam  HSAITMOR  \n",
       "SEQN                                                                \n",
       "14                1            1.0    2.0            3.0     196.0  \n",
       "16                1            3.0    2.0            1.0     198.0  \n",
       "\n",
       "[2 rows x 54 columns]"
      ]
     },
     "execution_count": 332,
     "metadata": {},
     "output_type": "execute_result"
    }
   ],
   "source": [
    "youth_final.head(2)"
   ]
  },
  {
   "cell_type": "markdown",
   "metadata": {},
   "source": [
    "After all of the exclusions, the youth_final dataframe has 2812 entries."
   ]
  },
  {
   "cell_type": "code",
   "execution_count": 333,
   "metadata": {},
   "outputs": [
    {
     "data": {
      "text/html": [
       "<div>\n",
       "<style scoped>\n",
       "    .dataframe tbody tr th:only-of-type {\n",
       "        vertical-align: middle;\n",
       "    }\n",
       "\n",
       "    .dataframe tbody tr th {\n",
       "        vertical-align: top;\n",
       "    }\n",
       "\n",
       "    .dataframe thead th {\n",
       "        text-align: right;\n",
       "    }\n",
       "</style>\n",
       "<table border=\"1\" class=\"dataframe\">\n",
       "  <thead>\n",
       "    <tr style=\"text-align: right;\">\n",
       "      <th></th>\n",
       "      <th>description</th>\n",
       "      <th>variable</th>\n",
       "      <th>position</th>\n",
       "      <th>end position</th>\n",
       "      <th>length</th>\n",
       "    </tr>\n",
       "  </thead>\n",
       "  <tbody>\n",
       "    <tr>\n",
       "      <th>0</th>\n",
       "      <td>Sequence number</td>\n",
       "      <td>SEQN</td>\n",
       "      <td>1</td>\n",
       "      <td>5.0</td>\n",
       "      <td>5</td>\n",
       "    </tr>\n",
       "    <tr>\n",
       "      <th>1</th>\n",
       "      <td>Family sequence number</td>\n",
       "      <td>DMPFSEQ</td>\n",
       "      <td>6</td>\n",
       "      <td>10.0</td>\n",
       "      <td>5</td>\n",
       "    </tr>\n",
       "    <tr>\n",
       "      <th>2</th>\n",
       "      <td>Examination/interview status</td>\n",
       "      <td>DMPSTAT</td>\n",
       "      <td>11</td>\n",
       "      <td>NaN</td>\n",
       "      <td>1</td>\n",
       "    </tr>\n",
       "    <tr>\n",
       "      <th>3</th>\n",
       "      <td>Race-ethnicity</td>\n",
       "      <td>DMARETHN</td>\n",
       "      <td>12</td>\n",
       "      <td>NaN</td>\n",
       "      <td>1</td>\n",
       "    </tr>\n",
       "    <tr>\n",
       "      <th>4</th>\n",
       "      <td>Race</td>\n",
       "      <td>DMARACER</td>\n",
       "      <td>13</td>\n",
       "      <td>NaN</td>\n",
       "      <td>1</td>\n",
       "    </tr>\n",
       "    <tr>\n",
       "      <th>...</th>\n",
       "      <td>...</td>\n",
       "      <td>...</td>\n",
       "      <td>...</td>\n",
       "      <td>...</td>\n",
       "      <td>...</td>\n",
       "    </tr>\n",
       "    <tr>\n",
       "      <th>682</th>\n",
       "      <td>ICD-9-CM code-9th</td>\n",
       "      <td>HYK11AO</td>\n",
       "      <td>2087</td>\n",
       "      <td>2092.0</td>\n",
       "      <td>6</td>\n",
       "    </tr>\n",
       "    <tr>\n",
       "      <th>683</th>\n",
       "      <td>For how long been taking (days)-9th</td>\n",
       "      <td>HYK12SO</td>\n",
       "      <td>2093</td>\n",
       "      <td>2097.0</td>\n",
       "      <td>5</td>\n",
       "    </tr>\n",
       "    <tr>\n",
       "      <th>684</th>\n",
       "      <td>Main respondents relationship to SP</td>\n",
       "      <td>HYM1</td>\n",
       "      <td>2098</td>\n",
       "      <td>2099.0</td>\n",
       "      <td>2</td>\n",
       "    </tr>\n",
       "    <tr>\n",
       "      <th>685</th>\n",
       "      <td>Was SP present during any of interview</td>\n",
       "      <td>HYM2</td>\n",
       "      <td>2100</td>\n",
       "      <td>NaN</td>\n",
       "      <td>1</td>\n",
       "    </tr>\n",
       "    <tr>\n",
       "      <th>686</th>\n",
       "      <td>Quality of interview</td>\n",
       "      <td>HYM3</td>\n",
       "      <td>2101</td>\n",
       "      <td>NaN</td>\n",
       "      <td>1</td>\n",
       "    </tr>\n",
       "  </tbody>\n",
       "</table>\n",
       "<p>687 rows × 5 columns</p>\n",
       "</div>"
      ],
      "text/plain": [
       "                                description  variable  position  end position  \\\n",
       "0                           Sequence number      SEQN         1           5.0   \n",
       "1                    Family sequence number   DMPFSEQ         6          10.0   \n",
       "2              Examination/interview status   DMPSTAT        11           NaN   \n",
       "3                            Race-ethnicity  DMARETHN        12           NaN   \n",
       "4                                      Race  DMARACER        13           NaN   \n",
       "..                                      ...       ...       ...           ...   \n",
       "682                       ICD-9-CM code-9th   HYK11AO      2087        2092.0   \n",
       "683     For how long been taking (days)-9th   HYK12SO      2093        2097.0   \n",
       "684     Main respondents relationship to SP      HYM1      2098        2099.0   \n",
       "685  Was SP present during any of interview      HYM2      2100           NaN   \n",
       "686                    Quality of interview      HYM3      2101           NaN   \n",
       "\n",
       "     length  \n",
       "0         5  \n",
       "1         5  \n",
       "2         1  \n",
       "3         1  \n",
       "4         1  \n",
       "..      ...  \n",
       "682       6  \n",
       "683       5  \n",
       "684       2  \n",
       "685       1  \n",
       "686       1  \n",
       "\n",
       "[687 rows x 5 columns]"
      ]
     },
     "execution_count": 333,
     "metadata": {},
     "output_type": "execute_result"
    }
   ],
   "source": [
    "youth.cols"
   ]
  },
  {
   "cell_type": "markdown",
   "metadata": {},
   "source": [
    "## Add attribute data to youth_final"
   ]
  },
  {
   "cell_type": "markdown",
   "metadata": {},
   "source": [
    "youth_final['PEFROVERFVC'] = youth_final.SPPPEAK / youth_final.SPPFVC"
   ]
  },
  {
   "cell_type": "code",
   "execution_count": 334,
   "metadata": {},
   "outputs": [],
   "source": [
    "youth_final['PEFROVERFVC'] = youth_final.SPPPEAK / youth_final.SPPFVC"
   ]
  },
  {
   "cell_type": "code",
   "execution_count": 335,
   "metadata": {},
   "outputs": [
    {
     "data": {
      "text/plain": [
       "<matplotlib.axes._subplots.AxesSubplot at 0x11167ea10>"
      ]
     },
     "execution_count": 335,
     "metadata": {},
     "output_type": "execute_result"
    },
    {
     "data": {
      "image/png": "[encoded data removed]",
      "text/plain": [
       "<Figure size 432x288 with 1 Axes>"
      ]
     },
     "metadata": {
      "needs_background": "light"
     },
     "output_type": "display_data"
    }
   ],
   "source": [
    "youth_final.PEFROVERFVC.hist(bins='auto', range=(0,5))"
   ]
  },
  {
   "cell_type": "markdown",
   "metadata": {},
   "source": [
    "## Reviewing adult file"
   ]
  },
  {
   "cell_type": "code",
   "execution_count": 336,
   "metadata": {},
   "outputs": [
    {
     "data": {
      "text/html": [
       "<div>\n",
       "<style scoped>\n",
       "    .dataframe tbody tr th:only-of-type {\n",
       "        vertical-align: middle;\n",
       "    }\n",
       "\n",
       "    .dataframe tbody tr th {\n",
       "        vertical-align: top;\n",
       "    }\n",
       "\n",
       "    .dataframe thead th {\n",
       "        text-align: right;\n",
       "    }\n",
       "</style>\n",
       "<table border=\"1\" class=\"dataframe\">\n",
       "  <thead>\n",
       "    <tr style=\"text-align: right;\">\n",
       "      <th></th>\n",
       "      <th>description</th>\n",
       "      <th>variable</th>\n",
       "      <th>position</th>\n",
       "      <th>end position</th>\n",
       "      <th>length</th>\n",
       "    </tr>\n",
       "  </thead>\n",
       "  <tbody>\n",
       "    <tr>\n",
       "      <th>0</th>\n",
       "      <td>Sequence number</td>\n",
       "      <td>SEQN</td>\n",
       "      <td>1</td>\n",
       "      <td>5.0</td>\n",
       "      <td>5</td>\n",
       "    </tr>\n",
       "    <tr>\n",
       "      <th>1</th>\n",
       "      <td>Family sequence number</td>\n",
       "      <td>DMPFSEQ</td>\n",
       "      <td>6</td>\n",
       "      <td>10.0</td>\n",
       "      <td>5</td>\n",
       "    </tr>\n",
       "    <tr>\n",
       "      <th>2</th>\n",
       "      <td>Examination/interview status</td>\n",
       "      <td>DMPSTAT</td>\n",
       "      <td>11</td>\n",
       "      <td>NaN</td>\n",
       "      <td>1</td>\n",
       "    </tr>\n",
       "    <tr>\n",
       "      <th>3</th>\n",
       "      <td>Race-ethnicity</td>\n",
       "      <td>DMARETHN</td>\n",
       "      <td>12</td>\n",
       "      <td>NaN</td>\n",
       "      <td>1</td>\n",
       "    </tr>\n",
       "    <tr>\n",
       "      <th>4</th>\n",
       "      <td>Race</td>\n",
       "      <td>DMARACER</td>\n",
       "      <td>13</td>\n",
       "      <td>NaN</td>\n",
       "      <td>1</td>\n",
       "    </tr>\n",
       "    <tr>\n",
       "      <th>...</th>\n",
       "      <td>...</td>\n",
       "      <td>...</td>\n",
       "      <td>...</td>\n",
       "      <td>...</td>\n",
       "      <td>...</td>\n",
       "    </tr>\n",
       "    <tr>\n",
       "      <th>1233</th>\n",
       "      <td>BP statement read to SP (years 5 and 6)</td>\n",
       "      <td>HAZA12</td>\n",
       "      <td>3336</td>\n",
       "      <td>NaN</td>\n",
       "      <td>1</td>\n",
       "    </tr>\n",
       "    <tr>\n",
       "      <th>1234</th>\n",
       "      <td>Average K1 BP from household and MEC</td>\n",
       "      <td>HAZMNK1R</td>\n",
       "      <td>3337</td>\n",
       "      <td>3339.0</td>\n",
       "      <td>3</td>\n",
       "    </tr>\n",
       "    <tr>\n",
       "      <th>1235</th>\n",
       "      <td>Number of BP's used for average K1</td>\n",
       "      <td>HAZNOK1R</td>\n",
       "      <td>3340</td>\n",
       "      <td>3341.0</td>\n",
       "      <td>2</td>\n",
       "    </tr>\n",
       "    <tr>\n",
       "      <th>1236</th>\n",
       "      <td>Average K5 BP from household and MEC</td>\n",
       "      <td>HAZMNK5R</td>\n",
       "      <td>3342</td>\n",
       "      <td>3344.0</td>\n",
       "      <td>3</td>\n",
       "    </tr>\n",
       "    <tr>\n",
       "      <th>1237</th>\n",
       "      <td>Number of BP's used for average K5</td>\n",
       "      <td>HAZNOK5R</td>\n",
       "      <td>3345</td>\n",
       "      <td>3346.0</td>\n",
       "      <td>2</td>\n",
       "    </tr>\n",
       "  </tbody>\n",
       "</table>\n",
       "<p>1238 rows × 5 columns</p>\n",
       "</div>"
      ],
      "text/plain": [
       "                                  description  variable  position  \\\n",
       "0                             Sequence number      SEQN         1   \n",
       "1                      Family sequence number   DMPFSEQ         6   \n",
       "2                Examination/interview status   DMPSTAT        11   \n",
       "3                              Race-ethnicity  DMARETHN        12   \n",
       "4                                        Race  DMARACER        13   \n",
       "...                                       ...       ...       ...   \n",
       "1233  BP statement read to SP (years 5 and 6)    HAZA12      3336   \n",
       "1234     Average K1 BP from household and MEC  HAZMNK1R      3337   \n",
       "1235       Number of BP's used for average K1  HAZNOK1R      3340   \n",
       "1236     Average K5 BP from household and MEC  HAZMNK5R      3342   \n",
       "1237       Number of BP's used for average K5  HAZNOK5R      3345   \n",
       "\n",
       "      end position  length  \n",
       "0              5.0       5  \n",
       "1             10.0       5  \n",
       "2              NaN       1  \n",
       "3              NaN       1  \n",
       "4              NaN       1  \n",
       "...            ...     ...  \n",
       "1233           NaN       1  \n",
       "1234        3339.0       3  \n",
       "1235        3341.0       2  \n",
       "1236        3344.0       3  \n",
       "1237        3346.0       2  \n",
       "\n",
       "[1238 rows x 5 columns]"
      ]
     },
     "execution_count": 336,
     "metadata": {},
     "output_type": "execute_result"
    }
   ],
   "source": [
    "cols = nh.cols\n",
    "cols"
   ]
  },
  {
   "cell_type": "code",
   "execution_count": 337,
   "metadata": {},
   "outputs": [
    {
     "data": {
      "text/html": [
       "<div>\n",
       "<style scoped>\n",
       "    .dataframe tbody tr th:only-of-type {\n",
       "        vertical-align: middle;\n",
       "    }\n",
       "\n",
       "    .dataframe tbody tr th {\n",
       "        vertical-align: top;\n",
       "    }\n",
       "\n",
       "    .dataframe thead th {\n",
       "        text-align: right;\n",
       "    }\n",
       "</style>\n",
       "<table border=\"1\" class=\"dataframe\">\n",
       "  <thead>\n",
       "    <tr style=\"text-align: right;\">\n",
       "      <th></th>\n",
       "      <th>description</th>\n",
       "      <th>variable</th>\n",
       "      <th>position</th>\n",
       "      <th>end position</th>\n",
       "      <th>length</th>\n",
       "    </tr>\n",
       "  </thead>\n",
       "  <tbody>\n",
       "    <tr>\n",
       "      <th>259</th>\n",
       "      <td>Anyone living here smoke cigs in home</td>\n",
       "      <td>HFF1</td>\n",
       "      <td>1356</td>\n",
       "      <td>NaN</td>\n",
       "      <td>1</td>\n",
       "    </tr>\n",
       "    <tr>\n",
       "      <th>260</th>\n",
       "      <td># persons who smoke cigarettes in home</td>\n",
       "      <td>HFF2R</td>\n",
       "      <td>1357</td>\n",
       "      <td>1358.0</td>\n",
       "      <td>2</td>\n",
       "    </tr>\n",
       "    <tr>\n",
       "      <th>261</th>\n",
       "      <td>Cigarettes per day person 1 smokes</td>\n",
       "      <td>HFF3A</td>\n",
       "      <td>1359</td>\n",
       "      <td>1361.0</td>\n",
       "      <td>3</td>\n",
       "    </tr>\n",
       "    <tr>\n",
       "      <th>262</th>\n",
       "      <td>Cigarettes per day person 2 smokes</td>\n",
       "      <td>HFF3B</td>\n",
       "      <td>1362</td>\n",
       "      <td>1364.0</td>\n",
       "      <td>3</td>\n",
       "    </tr>\n",
       "    <tr>\n",
       "      <th>263</th>\n",
       "      <td>Cigarettes per day person 3 smokes</td>\n",
       "      <td>HFF3C</td>\n",
       "      <td>1365</td>\n",
       "      <td>1367.0</td>\n",
       "      <td>3</td>\n",
       "    </tr>\n",
       "    <tr>\n",
       "      <th>264</th>\n",
       "      <td>Cigarettes per day person 4 smokes</td>\n",
       "      <td>HFF3D</td>\n",
       "      <td>1368</td>\n",
       "      <td>1370.0</td>\n",
       "      <td>3</td>\n",
       "    </tr>\n",
       "    <tr>\n",
       "      <th>265</th>\n",
       "      <td>Cigarettes per day person 5 smokes</td>\n",
       "      <td>HFF3E</td>\n",
       "      <td>1371</td>\n",
       "      <td>1373.0</td>\n",
       "      <td>3</td>\n",
       "    </tr>\n",
       "    <tr>\n",
       "      <th>266</th>\n",
       "      <td>Cigarettes per day person 6 smokes</td>\n",
       "      <td>HFF3F</td>\n",
       "      <td>1374</td>\n",
       "      <td>1376.0</td>\n",
       "      <td>3</td>\n",
       "    </tr>\n",
       "    <tr>\n",
       "      <th>419</th>\n",
       "      <td>Doctor told stop smoking for HBP</td>\n",
       "      <td>HAE4D3</td>\n",
       "      <td>1606</td>\n",
       "      <td>NaN</td>\n",
       "      <td>1</td>\n",
       "    </tr>\n",
       "    <tr>\n",
       "      <th>428</th>\n",
       "      <td>Now quit smoking for high blood pressure</td>\n",
       "      <td>HAE5D3</td>\n",
       "      <td>1615</td>\n",
       "      <td>NaN</td>\n",
       "      <td>1</td>\n",
       "    </tr>\n",
       "    <tr>\n",
       "      <th>862</th>\n",
       "      <td>Have you smoked 100+ cigarettes in life</td>\n",
       "      <td>HAR1</td>\n",
       "      <td>2281</td>\n",
       "      <td>NaN</td>\n",
       "      <td>1</td>\n",
       "    </tr>\n",
       "    <tr>\n",
       "      <th>863</th>\n",
       "      <td>Age when you started smoking regularly</td>\n",
       "      <td>HAR2</td>\n",
       "      <td>2282</td>\n",
       "      <td>2284.0</td>\n",
       "      <td>3</td>\n",
       "    </tr>\n",
       "    <tr>\n",
       "      <th>864</th>\n",
       "      <td>Do you smoke cigarettes now</td>\n",
       "      <td>HAR3</td>\n",
       "      <td>2285</td>\n",
       "      <td>NaN</td>\n",
       "      <td>1</td>\n",
       "    </tr>\n",
       "    <tr>\n",
       "      <th>865</th>\n",
       "      <td># cigarettes smoked per day</td>\n",
       "      <td>HAR4S</td>\n",
       "      <td>2286</td>\n",
       "      <td>2288.0</td>\n",
       "      <td>3</td>\n",
       "    </tr>\n",
       "    <tr>\n",
       "      <th>866</th>\n",
       "      <td>How many yrs have you smoked this amount</td>\n",
       "      <td>HAR5</td>\n",
       "      <td>2289</td>\n",
       "      <td>2291.0</td>\n",
       "      <td>3</td>\n",
       "    </tr>\n",
       "    <tr>\n",
       "      <th>867</th>\n",
       "      <td>Ever period of 1+ years when smoked more</td>\n",
       "      <td>HAR6</td>\n",
       "      <td>2292</td>\n",
       "      <td>NaN</td>\n",
       "      <td>1</td>\n",
       "    </tr>\n",
       "    <tr>\n",
       "      <th>868</th>\n",
       "      <td># cigarettes per day when smoking most</td>\n",
       "      <td>HAR7S</td>\n",
       "      <td>2293</td>\n",
       "      <td>2296.0</td>\n",
       "      <td>4</td>\n",
       "    </tr>\n",
       "    <tr>\n",
       "      <th>869</th>\n",
       "      <td>How many years did you smoke that amount</td>\n",
       "      <td>HAR8</td>\n",
       "      <td>2297</td>\n",
       "      <td>2299.0</td>\n",
       "      <td>3</td>\n",
       "    </tr>\n",
       "    <tr>\n",
       "      <th>870</th>\n",
       "      <td>Ever quit smoking for one year or longer</td>\n",
       "      <td>HAR9</td>\n",
       "      <td>2300</td>\n",
       "      <td>NaN</td>\n",
       "      <td>1</td>\n",
       "    </tr>\n",
       "    <tr>\n",
       "      <th>871</th>\n",
       "      <td>How many years not smoked since started</td>\n",
       "      <td>HAR10</td>\n",
       "      <td>2301</td>\n",
       "      <td>2303.0</td>\n",
       "      <td>3</td>\n",
       "    </tr>\n",
       "    <tr>\n",
       "      <th>872</th>\n",
       "      <td>Age last smoke cigarettes reg -- yrs</td>\n",
       "      <td>HAR11R</td>\n",
       "      <td>2304</td>\n",
       "      <td>2306.0</td>\n",
       "      <td>3</td>\n",
       "    </tr>\n",
       "    <tr>\n",
       "      <th>873</th>\n",
       "      <td># cigarettes smoked per day at that time</td>\n",
       "      <td>HAR12S</td>\n",
       "      <td>2307</td>\n",
       "      <td>2309.0</td>\n",
       "      <td>3</td>\n",
       "    </tr>\n",
       "    <tr>\n",
       "      <th>874</th>\n",
       "      <td>Quit smoking,health problem from smoking</td>\n",
       "      <td>HAR13</td>\n",
       "      <td>2310</td>\n",
       "      <td>NaN</td>\n",
       "      <td>1</td>\n",
       "    </tr>\n",
       "    <tr>\n",
       "      <th>886</th>\n",
       "      <td>Ever smoke at least 20 cigars in life</td>\n",
       "      <td>HAR23</td>\n",
       "      <td>2330</td>\n",
       "      <td>NaN</td>\n",
       "      <td>1</td>\n",
       "    </tr>\n",
       "    <tr>\n",
       "      <th>887</th>\n",
       "      <td>Do you now smoke cigars</td>\n",
       "      <td>HAR24</td>\n",
       "      <td>2331</td>\n",
       "      <td>NaN</td>\n",
       "      <td>1</td>\n",
       "    </tr>\n",
       "    <tr>\n",
       "      <th>888</th>\n",
       "      <td>How many cigars do you smoke per day</td>\n",
       "      <td>HAR25</td>\n",
       "      <td>2332</td>\n",
       "      <td>2333.0</td>\n",
       "      <td>2</td>\n",
       "    </tr>\n",
       "    <tr>\n",
       "      <th>889</th>\n",
       "      <td>Ever smoke 20 pipes of tobacco in life</td>\n",
       "      <td>HAR26</td>\n",
       "      <td>2334</td>\n",
       "      <td>NaN</td>\n",
       "      <td>1</td>\n",
       "    </tr>\n",
       "    <tr>\n",
       "      <th>890</th>\n",
       "      <td>Do you now smoke a pipe</td>\n",
       "      <td>HAR27</td>\n",
       "      <td>2335</td>\n",
       "      <td>NaN</td>\n",
       "      <td>1</td>\n",
       "    </tr>\n",
       "    <tr>\n",
       "      <th>891</th>\n",
       "      <td>How many pipefuls tobacco smoke per day</td>\n",
       "      <td>HAR28</td>\n",
       "      <td>2336</td>\n",
       "      <td>2337.0</td>\n",
       "      <td>2</td>\n",
       "    </tr>\n",
       "    <tr>\n",
       "      <th>902</th>\n",
       "      <td>At work, hours per day can smell smoking</td>\n",
       "      <td>HAS14</td>\n",
       "      <td>2354</td>\n",
       "      <td>2355.0</td>\n",
       "      <td>2</td>\n",
       "    </tr>\n",
       "    <tr>\n",
       "      <th>1200</th>\n",
       "      <td>Have you smoked cigarettes last 30 min</td>\n",
       "      <td>HAZA2A4</td>\n",
       "      <td>3269</td>\n",
       "      <td>NaN</td>\n",
       "      <td>1</td>\n",
       "    </tr>\n",
       "  </tbody>\n",
       "</table>\n",
       "</div>"
      ],
      "text/plain": [
       "                                   description variable  position  \\\n",
       "259      Anyone living here smoke cigs in home     HFF1      1356   \n",
       "260     # persons who smoke cigarettes in home    HFF2R      1357   \n",
       "261         Cigarettes per day person 1 smokes    HFF3A      1359   \n",
       "262         Cigarettes per day person 2 smokes    HFF3B      1362   \n",
       "263         Cigarettes per day person 3 smokes    HFF3C      1365   \n",
       "264         Cigarettes per day person 4 smokes    HFF3D      1368   \n",
       "265         Cigarettes per day person 5 smokes    HFF3E      1371   \n",
       "266         Cigarettes per day person 6 smokes    HFF3F      1374   \n",
       "419           Doctor told stop smoking for HBP   HAE4D3      1606   \n",
       "428   Now quit smoking for high blood pressure   HAE5D3      1615   \n",
       "862    Have you smoked 100+ cigarettes in life     HAR1      2281   \n",
       "863     Age when you started smoking regularly     HAR2      2282   \n",
       "864                Do you smoke cigarettes now     HAR3      2285   \n",
       "865                # cigarettes smoked per day    HAR4S      2286   \n",
       "866   How many yrs have you smoked this amount     HAR5      2289   \n",
       "867   Ever period of 1+ years when smoked more     HAR6      2292   \n",
       "868     # cigarettes per day when smoking most    HAR7S      2293   \n",
       "869   How many years did you smoke that amount     HAR8      2297   \n",
       "870   Ever quit smoking for one year or longer     HAR9      2300   \n",
       "871    How many years not smoked since started    HAR10      2301   \n",
       "872       Age last smoke cigarettes reg -- yrs   HAR11R      2304   \n",
       "873   # cigarettes smoked per day at that time   HAR12S      2307   \n",
       "874   Quit smoking,health problem from smoking    HAR13      2310   \n",
       "886      Ever smoke at least 20 cigars in life    HAR23      2330   \n",
       "887                    Do you now smoke cigars    HAR24      2331   \n",
       "888       How many cigars do you smoke per day    HAR25      2332   \n",
       "889     Ever smoke 20 pipes of tobacco in life    HAR26      2334   \n",
       "890                    Do you now smoke a pipe    HAR27      2335   \n",
       "891    How many pipefuls tobacco smoke per day    HAR28      2336   \n",
       "902   At work, hours per day can smell smoking    HAS14      2354   \n",
       "1200    Have you smoked cigarettes last 30 min  HAZA2A4      3269   \n",
       "\n",
       "      end position  length  \n",
       "259            NaN       1  \n",
       "260         1358.0       2  \n",
       "261         1361.0       3  \n",
       "262         1364.0       3  \n",
       "263         1367.0       3  \n",
       "264         1370.0       3  \n",
       "265         1373.0       3  \n",
       "266         1376.0       3  \n",
       "419            NaN       1  \n",
       "428            NaN       1  \n",
       "862            NaN       1  \n",
       "863         2284.0       3  \n",
       "864            NaN       1  \n",
       "865         2288.0       3  \n",
       "866         2291.0       3  \n",
       "867            NaN       1  \n",
       "868         2296.0       4  \n",
       "869         2299.0       3  \n",
       "870            NaN       1  \n",
       "871         2303.0       3  \n",
       "872         2306.0       3  \n",
       "873         2309.0       3  \n",
       "874            NaN       1  \n",
       "886            NaN       1  \n",
       "887            NaN       1  \n",
       "888         2333.0       2  \n",
       "889            NaN       1  \n",
       "890            NaN       1  \n",
       "891         2337.0       2  \n",
       "902         2355.0       2  \n",
       "1200           NaN       1  "
      ]
     },
     "execution_count": 337,
     "metadata": {},
     "output_type": "execute_result"
    }
   ],
   "source": [
    "cols[cols.description.str.contains('(?:smok|cig)')]"
   ]
  },
  {
   "cell_type": "code",
   "execution_count": 338,
   "metadata": {},
   "outputs": [
    {
     "data": {
      "image/png": "[encoded data removed]",
      "text/plain": [
       "<Figure size 432x288 with 1 Axes>"
      ]
     },
     "metadata": {
      "needs_background": "light"
     },
     "output_type": "display_data"
    }
   ],
   "source": [
    "nh.hist_amount('HAR4S');"
   ]
  },
  {
   "cell_type": "code",
   "execution_count": 339,
   "metadata": {},
   "outputs": [
    {
     "data": {
      "image/png": "[encoded data removed]",
      "text/plain": [
       "<Figure size 432x288 with 1 Axes>"
      ]
     },
     "metadata": {
      "needs_background": "light"
     },
     "output_type": "display_data"
    }
   ],
   "source": [
    "nh.hist_amount('HSAITMOR',outliers=1200);"
   ]
  },
  {
   "cell_type": "code",
   "execution_count": 340,
   "metadata": {},
   "outputs": [
    {
     "data": {
      "image/png": "[encoded data removed]",
      "text/plain": [
       "<Figure size 432x288 with 1 Axes>"
      ]
     },
     "metadata": {
      "needs_background": "light"
     },
     "output_type": "display_data"
    }
   ],
   "source": [
    "nh.hist_amount('DMARETHN', outliers=25);"
   ]
  },
  {
   "cell_type": "code",
   "execution_count": 341,
   "metadata": {},
   "outputs": [
    {
     "name": "stderr",
     "output_type": "stream",
     "text": [
      "/usr/local/lib/python3.7/site-packages/pandas/core/strings.py:1952: UserWarning: This pattern has match groups. To actually get the groups, use str.extract.\n",
      "  return func(self, *args, **kwargs)\n"
     ]
    },
    {
     "data": {
      "text/html": [
       "<div>\n",
       "<style scoped>\n",
       "    .dataframe tbody tr th:only-of-type {\n",
       "        vertical-align: middle;\n",
       "    }\n",
       "\n",
       "    .dataframe tbody tr th {\n",
       "        vertical-align: top;\n",
       "    }\n",
       "\n",
       "    .dataframe thead th {\n",
       "        text-align: right;\n",
       "    }\n",
       "</style>\n",
       "<table border=\"1\" class=\"dataframe\">\n",
       "  <thead>\n",
       "    <tr style=\"text-align: right;\">\n",
       "      <th></th>\n",
       "      <th>description</th>\n",
       "      <th>variable</th>\n",
       "      <th>position</th>\n",
       "      <th>end position</th>\n",
       "      <th>length</th>\n",
       "    </tr>\n",
       "  </thead>\n",
       "  <tbody>\n",
       "    <tr>\n",
       "      <th>210</th>\n",
       "      <td>Mother's weight calculated in pounds</td>\n",
       "      <td>HFC2S</td>\n",
       "      <td>1300</td>\n",
       "      <td>NaN</td>\n",
       "      <td>1</td>\n",
       "    </tr>\n",
       "    <tr>\n",
       "      <th>212</th>\n",
       "      <td>Father's weight calculated in pounds</td>\n",
       "      <td>HFC4S</td>\n",
       "      <td>1302</td>\n",
       "      <td>NaN</td>\n",
       "      <td>1</td>\n",
       "    </tr>\n",
       "    <tr>\n",
       "      <th>414</th>\n",
       "      <td>Doctor told control/lose weight for HBP</td>\n",
       "      <td>HAE4B</td>\n",
       "      <td>1601</td>\n",
       "      <td>NaN</td>\n",
       "      <td>1</td>\n",
       "    </tr>\n",
       "    <tr>\n",
       "      <th>424</th>\n",
       "      <td>Now controlling or losing weight for HBP</td>\n",
       "      <td>HAE5B</td>\n",
       "      <td>1611</td>\n",
       "      <td>NaN</td>\n",
       "      <td>1</td>\n",
       "    </tr>\n",
       "    <tr>\n",
       "      <th>435</th>\n",
       "      <td>Doctor told lose weight for HBC</td>\n",
       "      <td>HAE8B</td>\n",
       "      <td>1622</td>\n",
       "      <td>NaN</td>\n",
       "      <td>1</td>\n",
       "    </tr>\n",
       "    <tr>\n",
       "      <th>439</th>\n",
       "      <td>Now losing weight to lower cholesterol</td>\n",
       "      <td>HAE9B</td>\n",
       "      <td>1626</td>\n",
       "      <td>NaN</td>\n",
       "      <td>1</td>\n",
       "    </tr>\n",
       "    <tr>\n",
       "      <th>444</th>\n",
       "      <td>On own for HBC, controlled/lost weight</td>\n",
       "      <td>HAE11B</td>\n",
       "      <td>1631</td>\n",
       "      <td>NaN</td>\n",
       "      <td>1</td>\n",
       "    </tr>\n",
       "    <tr>\n",
       "      <th>599</th>\n",
       "      <td>Difficulty lifting or carrying 10 pounds</td>\n",
       "      <td>HAH4</td>\n",
       "      <td>1807</td>\n",
       "      <td>NaN</td>\n",
       "      <td>1</td>\n",
       "    </tr>\n",
       "    <tr>\n",
       "      <th>705</th>\n",
       "      <td>Consider self over/under/right weight</td>\n",
       "      <td>HAM11</td>\n",
       "      <td>1964</td>\n",
       "      <td>NaN</td>\n",
       "      <td>1</td>\n",
       "    </tr>\n",
       "    <tr>\n",
       "      <th>707</th>\n",
       "      <td>Tried to lose weight in past 12 months</td>\n",
       "      <td>HAM13</td>\n",
       "      <td>1966</td>\n",
       "      <td>NaN</td>\n",
       "      <td>1</td>\n",
       "    </tr>\n",
       "    <tr>\n",
       "      <th>953</th>\n",
       "      <td>In the past month, did you lift weights</td>\n",
       "      <td>HAT16</td>\n",
       "      <td>2442</td>\n",
       "      <td>NaN</td>\n",
       "      <td>1</td>\n",
       "    </tr>\n",
       "    <tr>\n",
       "      <th>954</th>\n",
       "      <td>Lift weights activity - intensity rating</td>\n",
       "      <td>HAT16MET</td>\n",
       "      <td>2443</td>\n",
       "      <td>NaN</td>\n",
       "      <td>1</td>\n",
       "    </tr>\n",
       "    <tr>\n",
       "      <th>955</th>\n",
       "      <td>Past mo, how often did you lift weights</td>\n",
       "      <td>HAT17S</td>\n",
       "      <td>2444</td>\n",
       "      <td>2447.0</td>\n",
       "      <td>4</td>\n",
       "    </tr>\n",
       "    <tr>\n",
       "      <th>1192</th>\n",
       "      <td>Observed SP:overweight, average, or thin</td>\n",
       "      <td>HAY11J</td>\n",
       "      <td>3232</td>\n",
       "      <td>NaN</td>\n",
       "      <td>1</td>\n",
       "    </tr>\n",
       "  </tbody>\n",
       "</table>\n",
       "</div>"
      ],
      "text/plain": [
       "                                   description  variable  position  \\\n",
       "210       Mother's weight calculated in pounds     HFC2S      1300   \n",
       "212       Father's weight calculated in pounds     HFC4S      1302   \n",
       "414    Doctor told control/lose weight for HBP     HAE4B      1601   \n",
       "424   Now controlling or losing weight for HBP     HAE5B      1611   \n",
       "435            Doctor told lose weight for HBC     HAE8B      1622   \n",
       "439     Now losing weight to lower cholesterol     HAE9B      1626   \n",
       "444     On own for HBC, controlled/lost weight    HAE11B      1631   \n",
       "599   Difficulty lifting or carrying 10 pounds      HAH4      1807   \n",
       "705      Consider self over/under/right weight     HAM11      1964   \n",
       "707     Tried to lose weight in past 12 months     HAM13      1966   \n",
       "953    In the past month, did you lift weights     HAT16      2442   \n",
       "954   Lift weights activity - intensity rating  HAT16MET      2443   \n",
       "955    Past mo, how often did you lift weights    HAT17S      2444   \n",
       "1192  Observed SP:overweight, average, or thin    HAY11J      3232   \n",
       "\n",
       "      end position  length  \n",
       "210            NaN       1  \n",
       "212            NaN       1  \n",
       "414            NaN       1  \n",
       "424            NaN       1  \n",
       "435            NaN       1  \n",
       "439            NaN       1  \n",
       "444            NaN       1  \n",
       "599            NaN       1  \n",
       "705            NaN       1  \n",
       "707            NaN       1  \n",
       "953            NaN       1  \n",
       "954            NaN       1  \n",
       "955         2447.0       4  \n",
       "1192           NaN       1  "
      ]
     },
     "execution_count": 341,
     "metadata": {},
     "output_type": "execute_result"
    }
   ],
   "source": [
    "cols[cols.description.str.contains('weight|pounds') & ~cols.description.str.contains('(sample|interview|weighting|exam)')]"
   ]
  },
  {
   "cell_type": "code",
   "execution_count": 342,
   "metadata": {},
   "outputs": [
    {
     "name": "stderr",
     "output_type": "stream",
     "text": [
      "/usr/local/lib/python3.7/site-packages/pandas/core/strings.py:1952: UserWarning: This pattern has match groups. To actually get the groups, use str.extract.\n",
      "  return func(self, *args, **kwargs)\n"
     ]
    },
    {
     "data": {
      "text/html": [
       "<div>\n",
       "<style scoped>\n",
       "    .dataframe tbody tr th:only-of-type {\n",
       "        vertical-align: middle;\n",
       "    }\n",
       "\n",
       "    .dataframe tbody tr th {\n",
       "        vertical-align: top;\n",
       "    }\n",
       "\n",
       "    .dataframe thead th {\n",
       "        text-align: right;\n",
       "    }\n",
       "</style>\n",
       "<table border=\"1\" class=\"dataframe\">\n",
       "  <thead>\n",
       "    <tr style=\"text-align: right;\">\n",
       "      <th></th>\n",
       "      <th>description</th>\n",
       "      <th>variable</th>\n",
       "      <th>position</th>\n",
       "      <th>end position</th>\n",
       "      <th>length</th>\n",
       "    </tr>\n",
       "  </thead>\n",
       "  <tbody>\n",
       "    <tr>\n",
       "      <th>211</th>\n",
       "      <td>Mother's height calculated in inches</td>\n",
       "      <td>HFC3S</td>\n",
       "      <td>1301</td>\n",
       "      <td>NaN</td>\n",
       "      <td>1</td>\n",
       "    </tr>\n",
       "    <tr>\n",
       "      <th>213</th>\n",
       "      <td>Father's height calculated in inches</td>\n",
       "      <td>HFC5S</td>\n",
       "      <td>1303</td>\n",
       "      <td>NaN</td>\n",
       "      <td>1</td>\n",
       "    </tr>\n",
       "  </tbody>\n",
       "</table>\n",
       "</div>"
      ],
      "text/plain": [
       "                              description variable  position  end position  \\\n",
       "211  Mother's height calculated in inches    HFC3S      1301           NaN   \n",
       "213  Father's height calculated in inches    HFC5S      1303           NaN   \n",
       "\n",
       "     length  \n",
       "211       1  \n",
       "213       1  "
      ]
     },
     "execution_count": 342,
     "metadata": {},
     "output_type": "execute_result"
    }
   ],
   "source": [
    "cols[cols.description.str.contains('height|cm') & ~cols.description.str.contains('(sample|interview|weighting|exam)')]"
   ]
  },
  {
   "cell_type": "code",
   "execution_count": 343,
   "metadata": {},
   "outputs": [
    {
     "data": {
      "text/html": [
       "<div>\n",
       "<style scoped>\n",
       "    .dataframe tbody tr th:only-of-type {\n",
       "        vertical-align: middle;\n",
       "    }\n",
       "\n",
       "    .dataframe tbody tr th {\n",
       "        vertical-align: top;\n",
       "    }\n",
       "\n",
       "    .dataframe thead th {\n",
       "        text-align: right;\n",
       "    }\n",
       "</style>\n",
       "<table border=\"1\" class=\"dataframe\">\n",
       "  <thead>\n",
       "    <tr style=\"text-align: right;\">\n",
       "      <th></th>\n",
       "      <th>description</th>\n",
       "      <th>variable</th>\n",
       "      <th>position</th>\n",
       "      <th>end position</th>\n",
       "      <th>length</th>\n",
       "    </tr>\n",
       "  </thead>\n",
       "  <tbody>\n",
       "    <tr>\n",
       "      <th>450</th>\n",
       "      <td>If stand still is chest pain relieved</td>\n",
       "      <td>HAF5</td>\n",
       "      <td>1637</td>\n",
       "      <td>NaN</td>\n",
       "      <td>1</td>\n",
       "    </tr>\n",
       "    <tr>\n",
       "      <th>466</th>\n",
       "      <td>Leg pain begin while stand still/sitting</td>\n",
       "      <td>HAF15</td>\n",
       "      <td>1658</td>\n",
       "      <td>NaN</td>\n",
       "      <td>1</td>\n",
       "    </tr>\n",
       "    <tr>\n",
       "      <th>472</th>\n",
       "      <td>Is leg pain relieved if you stand still</td>\n",
       "      <td>HAF21</td>\n",
       "      <td>1664</td>\n",
       "      <td>NaN</td>\n",
       "      <td>1</td>\n",
       "    </tr>\n",
       "    <tr>\n",
       "      <th>478</th>\n",
       "      <td>Problem with ability to speak/understand</td>\n",
       "      <td>HAF27</td>\n",
       "      <td>1670</td>\n",
       "      <td>NaN</td>\n",
       "      <td>1</td>\n",
       "    </tr>\n",
       "    <tr>\n",
       "      <th>604</th>\n",
       "      <td>Difficulty standing from armless chair</td>\n",
       "      <td>HAH9</td>\n",
       "      <td>1812</td>\n",
       "      <td>NaN</td>\n",
       "      <td>1</td>\n",
       "    </tr>\n",
       "  </tbody>\n",
       "</table>\n",
       "</div>"
      ],
      "text/plain": [
       "                                  description variable  position  \\\n",
       "450     If stand still is chest pain relieved     HAF5      1637   \n",
       "466  Leg pain begin while stand still/sitting    HAF15      1658   \n",
       "472   Is leg pain relieved if you stand still    HAF21      1664   \n",
       "478  Problem with ability to speak/understand    HAF27      1670   \n",
       "604    Difficulty standing from armless chair     HAH9      1812   \n",
       "\n",
       "     end position  length  \n",
       "450           NaN       1  \n",
       "466           NaN       1  \n",
       "472           NaN       1  \n",
       "478           NaN       1  \n",
       "604           NaN       1  "
      ]
     },
     "execution_count": 343,
     "metadata": {},
     "output_type": "execute_result"
    }
   ],
   "source": [
    "cols[cols.description.str.contains('stand') ]"
   ]
  },
  {
   "cell_type": "code",
   "execution_count": 344,
   "metadata": {},
   "outputs": [
    {
     "ename": "AttributeError",
     "evalue": "'HouseholdAdultFile' object has no attribute 'HAR1'",
     "output_type": "error",
     "traceback": [
      "\u001b[0;31m---------------------------------------------------------------------------\u001b[0m",
      "\u001b[0;31mAttributeError\u001b[0m                            Traceback (most recent call last)",
      "\u001b[0;32m<ipython-input-344-59384055549e>\u001b[0m in \u001b[0;36m<module>\u001b[0;34m\u001b[0m\n\u001b[0;32m----> 1\u001b[0;31m \u001b[0mnh\u001b[0m\u001b[0;34m.\u001b[0m\u001b[0mHAR1\u001b[0m\u001b[0;34m.\u001b[0m\u001b[0mvalue_counts\u001b[0m\u001b[0;34m(\u001b[0m\u001b[0;34m)\u001b[0m\u001b[0;34m;\u001b[0m\u001b[0;34m\u001b[0m\u001b[0;34m\u001b[0m\u001b[0m\n\u001b[0m",
      "\u001b[0;31mAttributeError\u001b[0m: 'HouseholdAdultFile' object has no attribute 'HAR1'"
     ]
    }
   ],
   "source": [
    "nh.HAR1.value_counts();"
   ]
  },
  {
   "cell_type": "markdown",
   "metadata": {},
   "source": [
    "Test Markdown"
   ]
  },
  {
   "cell_type": "code",
   "execution_count": 345,
   "metadata": {},
   "outputs": [
    {
     "data": {
      "image/png": "[encoded data removed]",
      "text/plain": [
       "<Figure size 432x288 with 1 Axes>"
      ]
     },
     "metadata": {
      "needs_background": "light"
     },
     "output_type": "display_data"
    }
   ],
   "source": [
    "nh.hist_amount('HAR4S');"
   ]
  },
  {
   "cell_type": "code",
   "execution_count": 346,
   "metadata": {},
   "outputs": [
    {
     "data": {
      "image/png": "[encoded data removed]",
      "text/plain": [
       "<Figure size 432x288 with 1 Axes>"
      ]
     },
     "metadata": {
      "needs_background": "light"
     },
     "output_type": "display_data"
    }
   ],
   "source": [
    "nh.hist_amount('HSAITMOR',outliers=1200);"
   ]
  },
  {
   "cell_type": "code",
   "execution_count": 347,
   "metadata": {},
   "outputs": [
    {
     "name": "stderr",
     "output_type": "stream",
     "text": [
      "/usr/local/lib/python3.7/site-packages/pandas/core/strings.py:1952: UserWarning: This pattern has match groups. To actually get the groups, use str.extract.\n",
      "  return func(self, *args, **kwargs)\n"
     ]
    },
    {
     "data": {
      "text/html": [
       "<div>\n",
       "<style scoped>\n",
       "    .dataframe tbody tr th:only-of-type {\n",
       "        vertical-align: middle;\n",
       "    }\n",
       "\n",
       "    .dataframe tbody tr th {\n",
       "        vertical-align: top;\n",
       "    }\n",
       "\n",
       "    .dataframe thead th {\n",
       "        text-align: right;\n",
       "    }\n",
       "</style>\n",
       "<table border=\"1\" class=\"dataframe\">\n",
       "  <thead>\n",
       "    <tr style=\"text-align: right;\">\n",
       "      <th></th>\n",
       "      <th>description</th>\n",
       "      <th>variable</th>\n",
       "      <th>position</th>\n",
       "      <th>end position</th>\n",
       "      <th>length</th>\n",
       "    </tr>\n",
       "  </thead>\n",
       "  <tbody>\n",
       "    <tr>\n",
       "      <th>210</th>\n",
       "      <td>Mother's weight calculated in pounds</td>\n",
       "      <td>HFC2S</td>\n",
       "      <td>1300</td>\n",
       "      <td>NaN</td>\n",
       "      <td>1</td>\n",
       "    </tr>\n",
       "    <tr>\n",
       "      <th>212</th>\n",
       "      <td>Father's weight calculated in pounds</td>\n",
       "      <td>HFC4S</td>\n",
       "      <td>1302</td>\n",
       "      <td>NaN</td>\n",
       "      <td>1</td>\n",
       "    </tr>\n",
       "    <tr>\n",
       "      <th>414</th>\n",
       "      <td>Doctor told control/lose weight for HBP</td>\n",
       "      <td>HAE4B</td>\n",
       "      <td>1601</td>\n",
       "      <td>NaN</td>\n",
       "      <td>1</td>\n",
       "    </tr>\n",
       "    <tr>\n",
       "      <th>424</th>\n",
       "      <td>Now controlling or losing weight for HBP</td>\n",
       "      <td>HAE5B</td>\n",
       "      <td>1611</td>\n",
       "      <td>NaN</td>\n",
       "      <td>1</td>\n",
       "    </tr>\n",
       "    <tr>\n",
       "      <th>435</th>\n",
       "      <td>Doctor told lose weight for HBC</td>\n",
       "      <td>HAE8B</td>\n",
       "      <td>1622</td>\n",
       "      <td>NaN</td>\n",
       "      <td>1</td>\n",
       "    </tr>\n",
       "    <tr>\n",
       "      <th>439</th>\n",
       "      <td>Now losing weight to lower cholesterol</td>\n",
       "      <td>HAE9B</td>\n",
       "      <td>1626</td>\n",
       "      <td>NaN</td>\n",
       "      <td>1</td>\n",
       "    </tr>\n",
       "    <tr>\n",
       "      <th>444</th>\n",
       "      <td>On own for HBC, controlled/lost weight</td>\n",
       "      <td>HAE11B</td>\n",
       "      <td>1631</td>\n",
       "      <td>NaN</td>\n",
       "      <td>1</td>\n",
       "    </tr>\n",
       "    <tr>\n",
       "      <th>599</th>\n",
       "      <td>Difficulty lifting or carrying 10 pounds</td>\n",
       "      <td>HAH4</td>\n",
       "      <td>1807</td>\n",
       "      <td>NaN</td>\n",
       "      <td>1</td>\n",
       "    </tr>\n",
       "    <tr>\n",
       "      <th>705</th>\n",
       "      <td>Consider self over/under/right weight</td>\n",
       "      <td>HAM11</td>\n",
       "      <td>1964</td>\n",
       "      <td>NaN</td>\n",
       "      <td>1</td>\n",
       "    </tr>\n",
       "    <tr>\n",
       "      <th>707</th>\n",
       "      <td>Tried to lose weight in past 12 months</td>\n",
       "      <td>HAM13</td>\n",
       "      <td>1966</td>\n",
       "      <td>NaN</td>\n",
       "      <td>1</td>\n",
       "    </tr>\n",
       "    <tr>\n",
       "      <th>953</th>\n",
       "      <td>In the past month, did you lift weights</td>\n",
       "      <td>HAT16</td>\n",
       "      <td>2442</td>\n",
       "      <td>NaN</td>\n",
       "      <td>1</td>\n",
       "    </tr>\n",
       "    <tr>\n",
       "      <th>954</th>\n",
       "      <td>Lift weights activity - intensity rating</td>\n",
       "      <td>HAT16MET</td>\n",
       "      <td>2443</td>\n",
       "      <td>NaN</td>\n",
       "      <td>1</td>\n",
       "    </tr>\n",
       "    <tr>\n",
       "      <th>955</th>\n",
       "      <td>Past mo, how often did you lift weights</td>\n",
       "      <td>HAT17S</td>\n",
       "      <td>2444</td>\n",
       "      <td>2447.0</td>\n",
       "      <td>4</td>\n",
       "    </tr>\n",
       "    <tr>\n",
       "      <th>1192</th>\n",
       "      <td>Observed SP:overweight, average, or thin</td>\n",
       "      <td>HAY11J</td>\n",
       "      <td>3232</td>\n",
       "      <td>NaN</td>\n",
       "      <td>1</td>\n",
       "    </tr>\n",
       "  </tbody>\n",
       "</table>\n",
       "</div>"
      ],
      "text/plain": [
       "                                   description  variable  position  \\\n",
       "210       Mother's weight calculated in pounds     HFC2S      1300   \n",
       "212       Father's weight calculated in pounds     HFC4S      1302   \n",
       "414    Doctor told control/lose weight for HBP     HAE4B      1601   \n",
       "424   Now controlling or losing weight for HBP     HAE5B      1611   \n",
       "435            Doctor told lose weight for HBC     HAE8B      1622   \n",
       "439     Now losing weight to lower cholesterol     HAE9B      1626   \n",
       "444     On own for HBC, controlled/lost weight    HAE11B      1631   \n",
       "599   Difficulty lifting or carrying 10 pounds      HAH4      1807   \n",
       "705      Consider self over/under/right weight     HAM11      1964   \n",
       "707     Tried to lose weight in past 12 months     HAM13      1966   \n",
       "953    In the past month, did you lift weights     HAT16      2442   \n",
       "954   Lift weights activity - intensity rating  HAT16MET      2443   \n",
       "955    Past mo, how often did you lift weights    HAT17S      2444   \n",
       "1192  Observed SP:overweight, average, or thin    HAY11J      3232   \n",
       "\n",
       "      end position  length  \n",
       "210            NaN       1  \n",
       "212            NaN       1  \n",
       "414            NaN       1  \n",
       "424            NaN       1  \n",
       "435            NaN       1  \n",
       "439            NaN       1  \n",
       "444            NaN       1  \n",
       "599            NaN       1  \n",
       "705            NaN       1  \n",
       "707            NaN       1  \n",
       "953            NaN       1  \n",
       "954            NaN       1  \n",
       "955         2447.0       4  \n",
       "1192           NaN       1  "
      ]
     },
     "execution_count": 347,
     "metadata": {},
     "output_type": "execute_result"
    }
   ],
   "source": [
    "cols[cols.description.str.contains('weight|pounds') & ~cols.description.str.contains('(sample|interview|weighting|exam)')]"
   ]
  },
  {
   "cell_type": "code",
   "execution_count": 348,
   "metadata": {},
   "outputs": [],
   "source": [
    "exam.data['PEFROVERFVC'] = exam.data.SPPPEAK / exam.data.SPPFVC"
   ]
  },
  {
   "cell_type": "code",
   "execution_count": 349,
   "metadata": {},
   "outputs": [
    {
     "data": {
      "text/plain": [
       "<matplotlib.axes._subplots.AxesSubplot at 0x1139f1a90>"
      ]
     },
     "execution_count": 349,
     "metadata": {},
     "output_type": "execute_result"
    },
    {
     "data": {
      "image/png": "[encoded data removed]",
      "text/plain": [
       "<Figure size 432x288 with 1 Axes>"
      ]
     },
     "metadata": {
      "needs_background": "light"
     },
     "output_type": "display_data"
    }
   ],
   "source": [
    "exam.data.PEFROVERFVC.hist(bins='auto', range=(0,5))"
   ]
  },
  {
   "cell_type": "markdown",
   "metadata": {},
   "source": [
    "## Now analyze adult_final"
   ]
  },
  {
   "cell_type": "code",
   "execution_count": 350,
   "metadata": {},
   "outputs": [],
   "source": [
    "adult_final['PEFROVERFVC'] = adult_final.SPPPEAK / adult_final.SPPFVC"
   ]
  },
  {
   "cell_type": "code",
   "execution_count": 351,
   "metadata": {},
   "outputs": [
    {
     "data": {
      "text/plain": [
       "<matplotlib.axes._subplots.AxesSubplot at 0x10f869fd0>"
      ]
     },
     "execution_count": 351,
     "metadata": {},
     "output_type": "execute_result"
    },
    {
     "data": {
      "image/png": "[encoded data removed]",
      "text/plain": [
       "<Figure size 432x288 with 1 Axes>"
      ]
     },
     "metadata": {
      "needs_background": "light"
     },
     "output_type": "display_data"
    }
   ],
   "source": [
    "adult_final.PEFROVERFVC.hist(bins='auto', range=(0,5))"
   ]
  },
  {
   "cell_type": "code",
   "execution_count": 352,
   "metadata": {},
   "outputs": [
    {
     "data": {
      "text/plain": [
       "<matplotlib.axes._subplots.AxesSubplot at 0x10e6c8750>"
      ]
     },
     "execution_count": 352,
     "metadata": {},
     "output_type": "execute_result"
    },
    {
     "data": {
      "image/png": "[encoded data removed]",
      "text/plain": [
       "<Figure size 432x288 with 1 Axes>"
      ]
     },
     "metadata": {
      "needs_background": "light"
     },
     "output_type": "display_data"
    }
   ],
   "source": [
    "adult_final.HSAITMOR.hist(bins='auto', range=(0,1200))"
   ]
  },
  {
   "cell_type": "markdown",
   "metadata": {},
   "source": [
    "## Create new fields in adult_final and youth_final"
   ]
  },
  {
   "cell_type": "markdown",
   "metadata": {},
   "source": [
    "Create new fields (XoY = X/Y) in youth_final and adult_final"
   ]
  },
  {
   "cell_type": "code",
   "execution_count": 260,
   "metadata": {},
   "outputs": [],
   "source": [
    "oldvariables = [ 'SPPFEV1', 'SPPFEV3', 'SPPFEV6', 'SPPFVC','SPPPEAK','SPPMMEF', 'SPPFEF75', 'SPPEXPIR']"
   ]
  },
  {
   "cell_type": "code",
   "execution_count": null,
   "metadata": {},
   "outputs": [],
   "source": []
  },
  {
   "cell_type": "markdown",
   "metadata": {},
   "source": [
    "## Create new variables"
   ]
  },
  {
   "cell_type": "markdown",
   "metadata": {},
   "source": [
    "newvariables = ['FEV1OFVC', 'FEV1OFEV6', 'PEFROFVC', 'PEFROFEV6', 'PEFROFEV1', 'FEV3OFVC', 'FEV6OFVC']"
   ]
  },
  {
   "cell_type": "markdown",
   "metadata": {},
   "source": [
    "def createvariables(df):\n",
    "    df['FEV1OFVC'] = df.SPPFEV1 / df.SPPFVC\n",
    "    df['FEV1OFEV6']= df.SPPFEV1 / df.SPPFEV6\n",
    "    df['PEFROFVC'] = df.SPPPEAK / df.SPPFVC\n",
    "    df['PEFROFEV6']= df.SPPPEAK / df.SPPFEV6\n",
    "    df['PEFROFEV1'] = df.SPPPEAK / df.SPPFEV1\n",
    "    df['FEV3OFVC'] = df.SPPFEV3 / df.SPPFVC\n",
    "    df['FEV6OFVC'] = df.SPPFEV6 / df.SPPFVC\n",
    "    return"
   ]
  },
  {
   "cell_type": "code",
   "execution_count": 261,
   "metadata": {},
   "outputs": [],
   "source": [
    "def createvariables(df):\n",
    "    df['FEV1OFVC'] = df.SPPFEV1 / df.SPPFVC\n",
    "    df['FEV1OFEV6']= df.SPPFEV1 / df.SPPFEV6\n",
    "    df['PEFROFVC'] = df.SPPPEAK / df.SPPFVC\n",
    "    df['PEFROFEV6']= df.SPPPEAK / df.SPPFEV6\n",
    "    df['PEFROFEV1'] = df.SPPPEAK / df.SPPFEV1\n",
    "    df['FEV3OFVC'] = df.SPPFEV3 / df.SPPFVC\n",
    "    df['FEV6OFVC'] = df.SPPFEV6 / df.SPPFVC\n",
    "    return\n",
    "    "
   ]
  },
  {
   "cell_type": "markdown",
   "metadata": {},
   "source": [
    "createvariables(adult_final)"
   ]
  },
  {
   "cell_type": "code",
   "execution_count": 262,
   "metadata": {},
   "outputs": [],
   "source": [
    "createvariables(adult_final)"
   ]
  },
  {
   "cell_type": "code",
   "execution_count": 263,
   "metadata": {},
   "outputs": [
    {
     "data": {
      "text/plain": [
       "<matplotlib.axes._subplots.AxesSubplot at 0x113816b50>"
      ]
     },
     "execution_count": 263,
     "metadata": {},
     "output_type": "execute_result"
    },
    {
     "data": {
      "image/png": "[encoded data removed]",
      "text/plain": [
       "<Figure size 432x288 with 1 Axes>"
      ]
     },
     "metadata": {
      "needs_background": "light"
     },
     "output_type": "display_data"
    }
   ],
   "source": [
    "adult_final.FEV1OFVC.hist(bins='auto')"
   ]
  },
  {
   "cell_type": "code",
   "execution_count": 197,
   "metadata": {},
   "outputs": [],
   "source": [
    "createvariables(youth_final)"
   ]
  },
  {
   "cell_type": "markdown",
   "metadata": {},
   "source": [
    "## Make dataframes m20over and f18over from adult final"
   ]
  },
  {
   "cell_type": "markdown",
   "metadata": {},
   "source": [
    "m20over = adult_final.query('HSAGEIR >=20 and HSSEX == 1')\n",
    "f18over = adult_final.query('HSAGEIR >=18 and HSSEX == 2')"
   ]
  },
  {
   "cell_type": "code",
   "execution_count": 202,
   "metadata": {},
   "outputs": [],
   "source": [
    "m20over = adult_final.query('HSAGEIR >=20 and HSSEX == 1')\n",
    "f18over = adult_final.query('HSAGEIR >=18 and HSSEX == 2')"
   ]
  },
  {
   "cell_type": "code",
   "execution_count": 203,
   "metadata": {},
   "outputs": [
    {
     "data": {
      "text/plain": [
       "(1577, 66)"
      ]
     },
     "execution_count": 203,
     "metadata": {},
     "output_type": "execute_result"
    }
   ],
   "source": [
    "m20over.shape"
   ]
  },
  {
   "cell_type": "code",
   "execution_count": null,
   "metadata": {},
   "outputs": [],
   "source": []
  },
  {
   "cell_type": "code",
   "execution_count": 204,
   "metadata": {},
   "outputs": [
    {
     "data": {
      "text/plain": [
       "(2951, 66)"
      ]
     },
     "execution_count": 204,
     "metadata": {},
     "output_type": "execute_result"
    }
   ],
   "source": [
    "f18over.shape"
   ]
  },
  {
   "cell_type": "markdown",
   "metadata": {},
   "source": [
    "## Make dataframes maleall and femaleall (used for ratios)"
   ]
  },
  {
   "cell_type": "markdown",
   "metadata": {},
   "source": [
    "maleall = pd.concat([adult_final.query('HSSEX == 1'), youth_final.query('HSSEX == 1')])"
   ]
  },
  {
   "cell_type": "code",
   "execution_count": 355,
   "metadata": {},
   "outputs": [],
   "source": [
    "maleall = pd.concat([adult_final.query('HSSEX == 1'), youth_final.query('HSSEX == 1')])"
   ]
  },
  {
   "cell_type": "markdown",
   "metadata": {},
   "source": [
    "femaleall = pd.concat([adult_final.query('HSSEX == 2'), youth_final.query('HSSEX == 2')])"
   ]
  },
  {
   "cell_type": "code",
   "execution_count": 356,
   "metadata": {},
   "outputs": [],
   "source": [
    "femaleall = pd.concat([adult_final.query('HSSEX == 2'), youth_final.query('HSSEX == 2')])"
   ]
  },
  {
   "cell_type": "markdown",
   "metadata": {},
   "source": [
    "## Make dataframes mlt20 and flt18 combining adult final and youth final"
   ]
  },
  {
   "cell_type": "code",
   "execution_count": null,
   "metadata": {},
   "outputs": [],
   "source": []
  },
  {
   "cell_type": "code",
   "execution_count": null,
   "metadata": {},
   "outputs": [],
   "source": []
  },
  {
   "cell_type": "code",
   "execution_count": 280,
   "metadata": {},
   "outputs": [],
   "source": [
    "df1 = adult_final.query('HSAGEIR < 20 and HSSEX == 1')"
   ]
  },
  {
   "cell_type": "code",
   "execution_count": 281,
   "metadata": {},
   "outputs": [],
   "source": [
    "df2 = youth_final.query('HSSEX == 1')"
   ]
  },
  {
   "cell_type": "code",
   "execution_count": 282,
   "metadata": {},
   "outputs": [],
   "source": [
    "frames = [df1, df2]"
   ]
  },
  {
   "cell_type": "code",
   "execution_count": 283,
   "metadata": {},
   "outputs": [],
   "source": [
    "mlt20 = pd.concat(frames)"
   ]
  },
  {
   "cell_type": "code",
   "execution_count": 284,
   "metadata": {},
   "outputs": [
    {
     "data": {
      "text/plain": [
       "(1638, 73)"
      ]
     },
     "execution_count": 284,
     "metadata": {},
     "output_type": "execute_result"
    }
   ],
   "source": [
    "mlt20.shape"
   ]
  },
  {
   "cell_type": "markdown",
   "metadata": {},
   "source": [
    "mlt20 = pd.concat([adult_final.query('HSAGEIR < 20 and HSSEX == 1'), youth_final.query('HSSEX == 1')])"
   ]
  },
  {
   "cell_type": "code",
   "execution_count": 285,
   "metadata": {},
   "outputs": [],
   "source": [
    "mlt20 = pd.concat([adult_final.query('HSAGEIR < 20 and HSSEX == 1'), youth_final.query('HSSEX == 1')])"
   ]
  },
  {
   "cell_type": "code",
   "execution_count": 286,
   "metadata": {},
   "outputs": [
    {
     "data": {
      "text/plain": [
       "(1638, 73)"
      ]
     },
     "execution_count": 286,
     "metadata": {},
     "output_type": "execute_result"
    }
   ],
   "source": [
    "mlt20.shape"
   ]
  },
  {
   "cell_type": "markdown",
   "metadata": {},
   "source": [
    "flt18 = pd.concat([adult_final.query('HSAGEIR< 18 and HSSEX == 2'), youth_final.query('HSSEX == 2')])"
   ]
  },
  {
   "cell_type": "code",
   "execution_count": 287,
   "metadata": {},
   "outputs": [],
   "source": [
    "flt18 = pd.concat([adult_final.query('HSAGEIR< 18 and HSSEX == 2'), youth_final.query('HSSEX == 2')])"
   ]
  },
  {
   "cell_type": "code",
   "execution_count": 288,
   "metadata": {},
   "outputs": [
    {
     "data": {
      "text/plain": [
       "(1590, 73)"
      ]
     },
     "execution_count": 288,
     "metadata": {},
     "output_type": "execute_result"
    }
   ],
   "source": [
    "flt18.shape"
   ]
  },
  {
   "cell_type": "code",
   "execution_count": 289,
   "metadata": {},
   "outputs": [],
   "source": [
    "createvariables (adult_final)"
   ]
  },
  {
   "cell_type": "markdown",
   "metadata": {},
   "source": [
    "## Check variable created"
   ]
  },
  {
   "cell_type": "code",
   "execution_count": 353,
   "metadata": {},
   "outputs": [
    {
     "data": {
      "text/plain": [
       "<matplotlib.axes._subplots.AxesSubplot at 0x114f8f050>"
      ]
     },
     "execution_count": 353,
     "metadata": {},
     "output_type": "execute_result"
    },
    {
     "data": {
      "image/png": "[encoded data removed]",
      "text/plain": [
       "<Figure size 432x288 with 1 Axes>"
      ]
     },
     "metadata": {
      "needs_background": "light"
     },
     "output_type": "display_data"
    }
   ],
   "source": [
    "flt18.SPPFEV1.hist(bins='auto')"
   ]
  },
  {
   "cell_type": "code",
   "execution_count": 359,
   "metadata": {},
   "outputs": [
    {
     "data": {
      "text/plain": [
       "<matplotlib.axes._subplots.AxesSubplot at 0x114080390>"
      ]
     },
     "execution_count": 359,
     "metadata": {},
     "output_type": "execute_result"
    },
    {
     "data": {
      "image/png": "[encoded data removed]",
      "text/plain": [
       "<Figure size 432x288 with 1 Axes>"
      ]
     },
     "metadata": {
      "needs_background": "light"
     },
     "output_type": "display_data"
    }
   ],
   "source": [
    "flt18.PEFROFVC.hist(bins='auto', range=(0,5))"
   ]
  },
  {
   "cell_type": "code",
   "execution_count": 360,
   "metadata": {},
   "outputs": [
    {
     "ename": "AttributeError",
     "evalue": "'DataFrame' object has no attribute 'HSAITMOR'",
     "output_type": "error",
     "traceback": [
      "\u001b[0;31m---------------------------------------------------------------------------\u001b[0m",
      "\u001b[0;31mAttributeError\u001b[0m                            Traceback (most recent call last)",
      "\u001b[0;32m<ipython-input-360-68a1026075ad>\u001b[0m in \u001b[0;36m<module>\u001b[0;34m\u001b[0m\n\u001b[0;32m----> 1\u001b[0;31m \u001b[0mflt18\u001b[0m\u001b[0;34m.\u001b[0m\u001b[0mHSAITMOR\u001b[0m\u001b[0;34m.\u001b[0m\u001b[0mhist\u001b[0m\u001b[0;34m(\u001b[0m\u001b[0mbins\u001b[0m\u001b[0;34m=\u001b[0m\u001b[0;34m'auto'\u001b[0m\u001b[0;34m,\u001b[0m \u001b[0mrange\u001b[0m\u001b[0;34m=\u001b[0m\u001b[0;34m(\u001b[0m\u001b[0;36m0\u001b[0m\u001b[0;34m,\u001b[0m\u001b[0;36m300\u001b[0m\u001b[0;34m)\u001b[0m\u001b[0;34m)\u001b[0m\u001b[0;34m\u001b[0m\u001b[0;34m\u001b[0m\u001b[0m\n\u001b[0m",
      "\u001b[0;32m/usr/local/lib/python3.7/site-packages/pandas/core/generic.py\u001b[0m in \u001b[0;36m__getattr__\u001b[0;34m(self, name)\u001b[0m\n\u001b[1;32m   5272\u001b[0m             \u001b[0;32mif\u001b[0m \u001b[0mself\u001b[0m\u001b[0;34m.\u001b[0m\u001b[0m_info_axis\u001b[0m\u001b[0;34m.\u001b[0m\u001b[0m_can_hold_identifiers_and_holds_name\u001b[0m\u001b[0;34m(\u001b[0m\u001b[0mname\u001b[0m\u001b[0;34m)\u001b[0m\u001b[0;34m:\u001b[0m\u001b[0;34m\u001b[0m\u001b[0;34m\u001b[0m\u001b[0m\n\u001b[1;32m   5273\u001b[0m                 \u001b[0;32mreturn\u001b[0m \u001b[0mself\u001b[0m\u001b[0;34m[\u001b[0m\u001b[0mname\u001b[0m\u001b[0;34m]\u001b[0m\u001b[0;34m\u001b[0m\u001b[0;34m\u001b[0m\u001b[0m\n\u001b[0;32m-> 5274\u001b[0;31m             \u001b[0;32mreturn\u001b[0m \u001b[0mobject\u001b[0m\u001b[0;34m.\u001b[0m\u001b[0m__getattribute__\u001b[0m\u001b[0;34m(\u001b[0m\u001b[0mself\u001b[0m\u001b[0;34m,\u001b[0m \u001b[0mname\u001b[0m\u001b[0;34m)\u001b[0m\u001b[0;34m\u001b[0m\u001b[0;34m\u001b[0m\u001b[0m\n\u001b[0m\u001b[1;32m   5275\u001b[0m \u001b[0;34m\u001b[0m\u001b[0m\n\u001b[1;32m   5276\u001b[0m     \u001b[0;32mdef\u001b[0m \u001b[0m__setattr__\u001b[0m\u001b[0;34m(\u001b[0m\u001b[0mself\u001b[0m\u001b[0;34m,\u001b[0m \u001b[0mname\u001b[0m\u001b[0;34m:\u001b[0m \u001b[0mstr\u001b[0m\u001b[0;34m,\u001b[0m \u001b[0mvalue\u001b[0m\u001b[0;34m)\u001b[0m \u001b[0;34m->\u001b[0m \u001b[0;32mNone\u001b[0m\u001b[0;34m:\u001b[0m\u001b[0;34m\u001b[0m\u001b[0;34m\u001b[0m\u001b[0m\n",
      "\u001b[0;31mAttributeError\u001b[0m: 'DataFrame' object has no attribute 'HSAITMOR'"
     ]
    }
   ],
   "source": [
    "flt18.HSAITMOR.hist(bins='auto', range=(0,300))"
   ]
  },
  {
   "cell_type": "code",
   "execution_count": 266,
   "metadata": {},
   "outputs": [
    {
     "data": {
      "text/plain": [
       "<matplotlib.axes._subplots.AxesSubplot at 0x1150ad0d0>"
      ]
     },
     "execution_count": 266,
     "metadata": {},
     "output_type": "execute_result"
    },
    {
     "data": {
      "image/png": "[encoded data removed]",
      "text/plain": [
       "<Figure size 432x288 with 1 Axes>"
      ]
     },
     "metadata": {
      "needs_background": "light"
     },
     "output_type": "display_data"
    }
   ],
   "source": [
    "flt18.BMPHT.hist(bins='auto', range=(0,300))"
   ]
  },
  {
   "cell_type": "markdown",
   "metadata": {},
   "source": [
    "## Frames to Analyze"
   ]
  },
  {
   "cell_type": "code",
   "execution_count": 222,
   "metadata": {},
   "outputs": [],
   "source": [
    "framestoanalyze = [m20over, f18over, mlt20, flt18]"
   ]
  },
  {
   "cell_type": "code",
   "execution_count": null,
   "metadata": {},
   "outputs": [],
   "source": []
  },
  {
   "cell_type": "markdown",
   "metadata": {},
   "source": [
    "Example code"
   ]
  },
  {
   "cell_type": "code",
   "execution_count": 223,
   "metadata": {},
   "outputs": [],
   "source": [
    "def do_some_regression(dataframe, sex, age_over, variable):       \n",
    "    my_df = dataframe.query(query)\n",
    "    analyze(my_df)\n",
    "    return output"
   ]
  },
  {
   "cell_type": "code",
   "execution_count": 224,
   "metadata": {},
   "outputs": [
    {
     "ename": "TypeError",
     "evalue": "do_some_regression() missing 2 required positional arguments: 'age_over' and 'variable'",
     "output_type": "error",
     "traceback": [
      "\u001b[0;31m---------------------------------------------------------------------------\u001b[0m",
      "\u001b[0;31mTypeError\u001b[0m                                 Traceback (most recent call last)",
      "\u001b[0;32m<ipython-input-224-c74c332e47cb>\u001b[0m in \u001b[0;36m<module>\u001b[0;34m\u001b[0m\n\u001b[0;32m----> 1\u001b[0;31m \u001b[0mdo_some_regression\u001b[0m\u001b[0;34m(\u001b[0m\u001b[0madult_final\u001b[0m\u001b[0;34m,\u001b[0m \u001b[0;34m'HSAGEIR >=20 and HSSEX == 1'\u001b[0m\u001b[0;34m)\u001b[0m\u001b[0;34m\u001b[0m\u001b[0;34m\u001b[0m\u001b[0m\n\u001b[0m\u001b[1;32m      2\u001b[0m \u001b[0mdo_some_regression\u001b[0m\u001b[0;34m(\u001b[0m\u001b[0madult_final\u001b[0m\u001b[0;34m,\u001b[0m \u001b[0;34m'HSAGEIR >=18 and HSSEX == 2'\u001b[0m\u001b[0;34m)\u001b[0m\u001b[0;34m\u001b[0m\u001b[0;34m\u001b[0m\u001b[0m\n",
      "\u001b[0;31mTypeError\u001b[0m: do_some_regression() missing 2 required positional arguments: 'age_over' and 'variable'"
     ]
    }
   ],
   "source": [
    "do_some_regression(adult_final, 'HSAGEIR >=20 and HSSEX == 1')\n",
    "do_some_regression(adult_final, 'HSAGEIR >=18 and HSSEX == 2')\n"
   ]
  },
  {
   "cell_type": "markdown",
   "metadata": {},
   "source": [
    "Hankinson equations are functions of age and height:"
   ]
  },
  {
   "cell_type": "code",
   "execution_count": 46,
   "metadata": {},
   "outputs": [],
   "source": [
    "# what are the age and height variables"
   ]
  },
  {
   "cell_type": "markdown",
   "metadata": {},
   "source": [
    "The Y variables are FEV1, FEV6, FVC, PEF, FEF25-75:"
   ]
  },
  {
   "cell_type": "code",
   "execution_count": 47,
   "metadata": {},
   "outputs": [],
   "source": [
    "# what are the names of these variables"
   ]
  },
  {
   "cell_type": "markdown",
   "metadata": {},
   "source": [
    "## Now fit curves"
   ]
  },
  {
   "cell_type": "markdown",
   "metadata": {},
   "source": [
    "using example in lmfit.github.io/lmfit-py/model.html"
   ]
  },
  {
   "cell_type": "markdown",
   "metadata": {},
   "source": [
    "import matplotlib.pyplot as plt"
   ]
  },
  {
   "cell_type": "code",
   "execution_count": 268,
   "metadata": {},
   "outputs": [],
   "source": [
    "import matplotlib.pyplot as plt"
   ]
  },
  {
   "cell_type": "markdown",
   "metadata": {},
   "source": [
    "from sklearn.linear_model import LinearRegression"
   ]
  },
  {
   "cell_type": "code",
   "execution_count": 269,
   "metadata": {},
   "outputs": [],
   "source": [
    "from sklearn.linear_model import LinearRegression"
   ]
  },
  {
   "cell_type": "markdown",
   "metadata": {},
   "source": [
    "def spiro_parameters(data, y):\n",
    "    \"\"\"data is the dataframe you're taking X from; y is the name of the y variable\"\"\"\n",
    "    # age = HSAITMOR / 12\n",
    "    height = 'BMPHT'\n",
    "    age = 'HSAGER'\n",
    "    X = data[age, height]\n",
    "    # add age^2 and height^2 to X\n",
    "    new_X = np.hstack((X, X**2))\n",
    "    lr = LinearRegression().fit(new_X,y)\n",
    "    # do linear regression fit on X, y\n",
    "    lr.score(new_X, y)\n",
    "    lr.coef_\n",
    "    lr.intercept_\n",
    "    print (coefficients)"
   ]
  },
  {
   "cell_type": "code",
   "execution_count": 270,
   "metadata": {},
   "outputs": [],
   "source": [
    "def spiro_parameters(data, y):\n",
    "    \"\"\"data is the dataframe you're taking X from; y is the name of the y variable\"\"\"\n",
    "    # age = HSAITMOR / 12\n",
    "    height = 'BMPHT'\n",
    "    age = 'HSAGER'\n",
    "    X = data[age, height]\n",
    "    # add age^2 and height^2 to X\n",
    "    new_X = np.hstack((X, X**2))\n",
    "    lr = LinearRegression().fit(new_X,y)\n",
    "    # do linear regression fit on X, y\n",
    "    lr.score(new_X, y)\n",
    "    lr.coef_\n",
    "    lr.intercept_\n",
    "    print (coefficients)"
   ]
  },
  {
   "cell_type": "markdown",
   "metadata": {},
   "source": [
    "def spiro2_parameters(data, y):\n",
    "    \"\"\"data is the dataframe you're taking X from; y is the name of the y variable\"\"\"\n",
    "    # want to do b0 + b1*age + b2 *age *age + b3 * ht * ht\n",
    "    # age = HSAITMOR / 12\n",
    "    height = 'BMPHT'\n",
    "    age = 'HSAGER'\n",
    "    X = data[age, height]\n",
    "    # add age^2 and height^2 to X\n",
    "    # new_X = np.hstack((X, X**2))\n",
    "    lr = LinearRegression().fit(X,y)\n",
    "    # do linear regression fit on X, y\n",
    "    reg.score(X,y)\n",
    "    reg.coef(X,y)\n",
    "    print (coefficients)"
   ]
  },
  {
   "cell_type": "code",
   "execution_count": 271,
   "metadata": {},
   "outputs": [],
   "source": [
    "def spiro2_parameters(data, y):\n",
    "    \"\"\"data is the dataframe you're taking X from; y is the name of the y variable\"\"\"\n",
    "    # want to do b0 + b1*age + b2 *age *age + b3 * ht * ht\n",
    "    # age = HSAITMOR / 12\n",
    "    height = 'BMPHT'\n",
    "    age = 'HSAGER'\n",
    "    X = data[age, height]\n",
    "    # add age^2 and height^2 to X\n",
    "    # new_X = np.hstack((X, X**2))\n",
    "    lr = LinearRegression().fit(X,y)\n",
    "    # do linear regression fit on X, y\n",
    "    reg.score(X,y)\n",
    "    reg.coef(X,y)\n",
    "    print (coefficients)"
   ]
  },
  {
   "cell_type": "code",
   "execution_count": 272,
   "metadata": {},
   "outputs": [
    {
     "data": {
      "text/plain": [
       "array([0.5, 0.5])"
      ]
     },
     "execution_count": 272,
     "metadata": {},
     "output_type": "execute_result"
    }
   ],
   "source": [
    "# example from sklearn - add data points\n",
    "from sklearn import linear_model\n",
    "reg = linear_model.LinearRegression()\n",
    "reg.fit([[0, 0], [1, 1], [2, 2], [3,3]], [1, 2, 3, 4])\n",
    "LinearRegression()\n",
    "reg.coef_\n",
    "# array([0.5, 0.5])"
   ]
  },
  {
   "cell_type": "code",
   "execution_count": 273,
   "metadata": {},
   "outputs": [
    {
     "data": {
      "text/plain": [
       "0.13636363636363638"
      ]
     },
     "execution_count": 273,
     "metadata": {},
     "output_type": "execute_result"
    }
   ],
   "source": [
    "# example from sklearn\n",
    "from sklearn import linear_model\n",
    "reg = linear_model.Ridge(alpha=.5)\n",
    "reg.fit([[0, 0], [0, 0], [1, 1]], [0, .1, 1])\n",
    "# Ridge(alpha=0.5)\n",
    "reg.coef_\n",
    "# array([0.34545455, 0.34545455])\n",
    "reg.intercept_\n",
    "# 0.13636...   "
   ]
  },
  {
   "cell_type": "code",
   "execution_count": 274,
   "metadata": {},
   "outputs": [
    {
     "data": {
      "text/plain": [
       "Index(['HAR1', 'HAR23', 'HAR26', 'HAC1E', 'HAC1F', 'HAC1G', 'HAC1O', 'HAL6',\n",
       "       'HAL10', 'HAL1', 'HAL3', 'HAL5', 'DMARACER', 'DMARETHN', 'DMAETHNR',\n",
       "       'HSSEX', 'HSAGEIR', 'HSAGEU', 'HXPAXTMR', 'HXPSESSR', 'SPPQ5', 'SPPQ4',\n",
       "       'SPPMANEU', 'MYPB1', 'MYPB3', 'MYPB11', 'MYPB27A', 'MYPB27B',\n",
       "       'HSAGEIR_exam', 'HSAGEU_exam', 'HXPAXTMR_exam', 'HXPSESSR_exam',\n",
       "       'HXPEJ6A2', 'SPPTECH1', 'SPPTRIAL', 'SPPPEAK', 'SPPFEV05', 'SPPFEV1',\n",
       "       'SPPFEV3', 'SPPFEV6', 'SPPFVC', 'SPPMMEF', 'SPPFEF75', 'SPPTYPE',\n",
       "       'SPPREPRO', 'SPPTIME', 'SPPEXPIR', 'SPPTEMP', 'HSSEX_exam', 'WTPFHX6',\n",
       "       'MXPAXTMR', 'BMPHT', 'BMPSITHT', 'BMPWT', 'DMARACER_exam',\n",
       "       'DMARETHN_exam', 'SPPQ3', 'DMAETHNR_exam', 'PEFROVERFVC', 'FEV1OFVC',\n",
       "       'FEV1OFEV6', 'PEFROFVC', 'PEFROFEV6', 'PEFROFEV1', 'FEV3OFVC',\n",
       "       'FEV6OFVC', 'HYE1G', 'HYG2', 'HYG4', 'HYG7', 'HYG12', 'HYG8', 'HYE1H'],\n",
       "      dtype='object')"
      ]
     },
     "execution_count": 274,
     "metadata": {},
     "output_type": "execute_result"
    }
   ],
   "source": [
    "flt18.columns"
   ]
  },
  {
   "cell_type": "code",
   "execution_count": 275,
   "metadata": {},
   "outputs": [
    {
     "name": "stdout",
     "output_type": "stream",
     "text": [
      "R^2 =  0.508912931662478\n",
      "Intercept:  5505.572645532058\n",
      "Coefficients:  [-33.99413138]\n"
     ]
    },
    {
     "data": {
      "text/plain": [
       "array([-33.99413138])"
      ]
     },
     "execution_count": 275,
     "metadata": {},
     "output_type": "execute_result"
    }
   ],
   "source": [
    "# try just do for age in this example male caucasian age in years and FEV1OFVC\n",
    "  #  height = 'BMPHT'\n",
    "# age = 'HSAGEIR'\n",
    "def linear_reg(data, X_var, y_var):\n",
    "    X = data[X_var]\n",
    "    X = np.array(X).reshape(-1, 1)\n",
    "    y = data[y_var]\n",
    "    lr = LinearRegression().fit(X, y)\n",
    "        # do linear regression fit on X, y\n",
    "    print(\"R^2 = \",lr.score(X, y))\n",
    "    print(\"Intercept: \",  lr.intercept_)\n",
    "    print(\"Coefficients: \",\n",
    "          lr.coef_)\n",
    "    return lr\n",
    "\n",
    "reg = linear_reg(m20over.query('DMARETHN == 1'), 'HSAGEIR', 'SPPFEV1')\n",
    "reg.coef_"
   ]
  },
  {
   "cell_type": "code",
   "execution_count": 276,
   "metadata": {},
   "outputs": [
    {
     "name": "stdout",
     "output_type": "stream",
     "text": [
      "R^2 =  0.508912931662478\n",
      "Intercept:  5505.572645532058\n",
      "Coefficients:  [-33.99413138]\n"
     ]
    },
    {
     "data": {
      "text/plain": [
       "array([-33.99413138])"
      ]
     },
     "execution_count": 276,
     "metadata": {},
     "output_type": "execute_result"
    }
   ],
   "source": [
    "# try just do for age in months in this example male caucasian age in years and FEV1OFVC\n",
    "  #  height = 'BMPHT'\n",
    "# age = 'HSAGEIR'\n",
    "def linear_reg(data, X_var, y_var):\n",
    "    X = data[X_var]\n",
    "    X = np.array(X).reshape(-1, 1)\n",
    "    y = data[y_var]\n",
    "    lr = LinearRegression().fit(X, y)\n",
    "        # do linear regression fit on X, y\n",
    "    print(\"R^2 = \",lr.score(X, y))\n",
    "    print(\"Intercept: \",  lr.intercept_)\n",
    "    print(\"Coefficients: \",\n",
    "          lr.coef_)\n",
    "    return lr\n",
    "\n",
    "reg = linear_reg(m20over.query('DMARETHN == 1'), 'HSAGEIR', 'SPPFEV1')\n",
    "reg.coef_"
   ]
  },
  {
   "cell_type": "code",
   "execution_count": 357,
   "metadata": {},
   "outputs": [
    {
     "ename": "KeyError",
     "evalue": "'FEV1OFVC'",
     "output_type": "error",
     "traceback": [
      "\u001b[0;31m---------------------------------------------------------------------------\u001b[0m",
      "\u001b[0;31mKeyError\u001b[0m                                  Traceback (most recent call last)",
      "\u001b[0;32m/usr/local/lib/python3.7/site-packages/pandas/core/indexes/base.py\u001b[0m in \u001b[0;36mget_loc\u001b[0;34m(self, key, method, tolerance)\u001b[0m\n\u001b[1;32m   2645\u001b[0m             \u001b[0;32mtry\u001b[0m\u001b[0;34m:\u001b[0m\u001b[0;34m\u001b[0m\u001b[0;34m\u001b[0m\u001b[0m\n\u001b[0;32m-> 2646\u001b[0;31m                 \u001b[0;32mreturn\u001b[0m \u001b[0mself\u001b[0m\u001b[0;34m.\u001b[0m\u001b[0m_engine\u001b[0m\u001b[0;34m.\u001b[0m\u001b[0mget_loc\u001b[0m\u001b[0;34m(\u001b[0m\u001b[0mkey\u001b[0m\u001b[0;34m)\u001b[0m\u001b[0;34m\u001b[0m\u001b[0;34m\u001b[0m\u001b[0m\n\u001b[0m\u001b[1;32m   2647\u001b[0m             \u001b[0;32mexcept\u001b[0m \u001b[0mKeyError\u001b[0m\u001b[0;34m:\u001b[0m\u001b[0;34m\u001b[0m\u001b[0;34m\u001b[0m\u001b[0m\n",
      "\u001b[0;32mpandas/_libs/index.pyx\u001b[0m in \u001b[0;36mpandas._libs.index.IndexEngine.get_loc\u001b[0;34m()\u001b[0m\n",
      "\u001b[0;32mpandas/_libs/index.pyx\u001b[0m in \u001b[0;36mpandas._libs.index.IndexEngine.get_loc\u001b[0;34m()\u001b[0m\n",
      "\u001b[0;32mpandas/_libs/hashtable_class_helper.pxi\u001b[0m in \u001b[0;36mpandas._libs.hashtable.PyObjectHashTable.get_item\u001b[0;34m()\u001b[0m\n",
      "\u001b[0;32mpandas/_libs/hashtable_class_helper.pxi\u001b[0m in \u001b[0;36mpandas._libs.hashtable.PyObjectHashTable.get_item\u001b[0;34m()\u001b[0m\n",
      "\u001b[0;31mKeyError\u001b[0m: 'FEV1OFVC'",
      "\nDuring handling of the above exception, another exception occurred:\n",
      "\u001b[0;31mKeyError\u001b[0m                                  Traceback (most recent call last)",
      "\u001b[0;32m<ipython-input-357-8850450acc71>\u001b[0m in \u001b[0;36m<module>\u001b[0;34m\u001b[0m\n\u001b[1;32m     13\u001b[0m     \u001b[0;32mreturn\u001b[0m \u001b[0mlr\u001b[0m\u001b[0;34m\u001b[0m\u001b[0;34m\u001b[0m\u001b[0m\n\u001b[1;32m     14\u001b[0m \u001b[0;34m\u001b[0m\u001b[0m\n\u001b[0;32m---> 15\u001b[0;31m \u001b[0mreg\u001b[0m \u001b[0;34m=\u001b[0m \u001b[0mlinear_reg\u001b[0m\u001b[0;34m(\u001b[0m\u001b[0mmaleall\u001b[0m\u001b[0;34m.\u001b[0m\u001b[0mquery\u001b[0m\u001b[0;34m(\u001b[0m\u001b[0;34m'DMARETHN == 1'\u001b[0m\u001b[0;34m)\u001b[0m\u001b[0;34m,\u001b[0m \u001b[0;34m'HSAITMOR'\u001b[0m\u001b[0;34m,\u001b[0m \u001b[0;34m'FEV1OFVC'\u001b[0m\u001b[0;34m)\u001b[0m\u001b[0;34m\u001b[0m\u001b[0;34m\u001b[0m\u001b[0m\n\u001b[0m\u001b[1;32m     16\u001b[0m \u001b[0mreg\u001b[0m\u001b[0;34m.\u001b[0m\u001b[0mcoef_\u001b[0m\u001b[0;34m\u001b[0m\u001b[0;34m\u001b[0m\u001b[0m\n",
      "\u001b[0;32m<ipython-input-357-8850450acc71>\u001b[0m in \u001b[0;36mlinear_reg\u001b[0;34m(data, X_var, y_var)\u001b[0m\n\u001b[1;32m      5\u001b[0m     \u001b[0mX\u001b[0m \u001b[0;34m=\u001b[0m \u001b[0mdata\u001b[0m\u001b[0;34m[\u001b[0m\u001b[0mX_var\u001b[0m\u001b[0;34m]\u001b[0m\u001b[0;34m/\u001b[0m\u001b[0;36m12\u001b[0m\u001b[0;34m\u001b[0m\u001b[0;34m\u001b[0m\u001b[0m\n\u001b[1;32m      6\u001b[0m     \u001b[0mX\u001b[0m \u001b[0;34m=\u001b[0m \u001b[0mnp\u001b[0m\u001b[0;34m.\u001b[0m\u001b[0marray\u001b[0m\u001b[0;34m(\u001b[0m\u001b[0mX\u001b[0m\u001b[0;34m)\u001b[0m\u001b[0;34m.\u001b[0m\u001b[0mreshape\u001b[0m\u001b[0;34m(\u001b[0m\u001b[0;34m-\u001b[0m\u001b[0;36m1\u001b[0m\u001b[0;34m,\u001b[0m \u001b[0;36m1\u001b[0m\u001b[0;34m)\u001b[0m\u001b[0;34m\u001b[0m\u001b[0;34m\u001b[0m\u001b[0m\n\u001b[0;32m----> 7\u001b[0;31m     \u001b[0my\u001b[0m \u001b[0;34m=\u001b[0m \u001b[0mdata\u001b[0m\u001b[0;34m[\u001b[0m\u001b[0my_var\u001b[0m\u001b[0;34m]\u001b[0m\u001b[0;34m\u001b[0m\u001b[0;34m\u001b[0m\u001b[0m\n\u001b[0m\u001b[1;32m      8\u001b[0m     \u001b[0mlr\u001b[0m \u001b[0;34m=\u001b[0m \u001b[0mLinearRegression\u001b[0m\u001b[0;34m(\u001b[0m\u001b[0;34m)\u001b[0m\u001b[0;34m.\u001b[0m\u001b[0mfit\u001b[0m\u001b[0;34m(\u001b[0m\u001b[0mX\u001b[0m\u001b[0;34m,\u001b[0m \u001b[0my\u001b[0m\u001b[0;34m)\u001b[0m\u001b[0;34m\u001b[0m\u001b[0;34m\u001b[0m\u001b[0m\n\u001b[1;32m      9\u001b[0m         \u001b[0;31m# do linear regression fit on X, y\u001b[0m\u001b[0;34m\u001b[0m\u001b[0;34m\u001b[0m\u001b[0;34m\u001b[0m\u001b[0m\n",
      "\u001b[0;32m/usr/local/lib/python3.7/site-packages/pandas/core/frame.py\u001b[0m in \u001b[0;36m__getitem__\u001b[0;34m(self, key)\u001b[0m\n\u001b[1;32m   2798\u001b[0m             \u001b[0;32mif\u001b[0m \u001b[0mself\u001b[0m\u001b[0;34m.\u001b[0m\u001b[0mcolumns\u001b[0m\u001b[0;34m.\u001b[0m\u001b[0mnlevels\u001b[0m \u001b[0;34m>\u001b[0m \u001b[0;36m1\u001b[0m\u001b[0;34m:\u001b[0m\u001b[0;34m\u001b[0m\u001b[0;34m\u001b[0m\u001b[0m\n\u001b[1;32m   2799\u001b[0m                 \u001b[0;32mreturn\u001b[0m \u001b[0mself\u001b[0m\u001b[0;34m.\u001b[0m\u001b[0m_getitem_multilevel\u001b[0m\u001b[0;34m(\u001b[0m\u001b[0mkey\u001b[0m\u001b[0;34m)\u001b[0m\u001b[0;34m\u001b[0m\u001b[0;34m\u001b[0m\u001b[0m\n\u001b[0;32m-> 2800\u001b[0;31m             \u001b[0mindexer\u001b[0m \u001b[0;34m=\u001b[0m \u001b[0mself\u001b[0m\u001b[0;34m.\u001b[0m\u001b[0mcolumns\u001b[0m\u001b[0;34m.\u001b[0m\u001b[0mget_loc\u001b[0m\u001b[0;34m(\u001b[0m\u001b[0mkey\u001b[0m\u001b[0;34m)\u001b[0m\u001b[0;34m\u001b[0m\u001b[0;34m\u001b[0m\u001b[0m\n\u001b[0m\u001b[1;32m   2801\u001b[0m             \u001b[0;32mif\u001b[0m \u001b[0mis_integer\u001b[0m\u001b[0;34m(\u001b[0m\u001b[0mindexer\u001b[0m\u001b[0;34m)\u001b[0m\u001b[0;34m:\u001b[0m\u001b[0;34m\u001b[0m\u001b[0;34m\u001b[0m\u001b[0m\n\u001b[1;32m   2802\u001b[0m                 \u001b[0mindexer\u001b[0m \u001b[0;34m=\u001b[0m \u001b[0;34m[\u001b[0m\u001b[0mindexer\u001b[0m\u001b[0;34m]\u001b[0m\u001b[0;34m\u001b[0m\u001b[0;34m\u001b[0m\u001b[0m\n",
      "\u001b[0;32m/usr/local/lib/python3.7/site-packages/pandas/core/indexes/base.py\u001b[0m in \u001b[0;36mget_loc\u001b[0;34m(self, key, method, tolerance)\u001b[0m\n\u001b[1;32m   2646\u001b[0m                 \u001b[0;32mreturn\u001b[0m \u001b[0mself\u001b[0m\u001b[0;34m.\u001b[0m\u001b[0m_engine\u001b[0m\u001b[0;34m.\u001b[0m\u001b[0mget_loc\u001b[0m\u001b[0;34m(\u001b[0m\u001b[0mkey\u001b[0m\u001b[0;34m)\u001b[0m\u001b[0;34m\u001b[0m\u001b[0;34m\u001b[0m\u001b[0m\n\u001b[1;32m   2647\u001b[0m             \u001b[0;32mexcept\u001b[0m \u001b[0mKeyError\u001b[0m\u001b[0;34m:\u001b[0m\u001b[0;34m\u001b[0m\u001b[0;34m\u001b[0m\u001b[0m\n\u001b[0;32m-> 2648\u001b[0;31m                 \u001b[0;32mreturn\u001b[0m \u001b[0mself\u001b[0m\u001b[0;34m.\u001b[0m\u001b[0m_engine\u001b[0m\u001b[0;34m.\u001b[0m\u001b[0mget_loc\u001b[0m\u001b[0;34m(\u001b[0m\u001b[0mself\u001b[0m\u001b[0;34m.\u001b[0m\u001b[0m_maybe_cast_indexer\u001b[0m\u001b[0;34m(\u001b[0m\u001b[0mkey\u001b[0m\u001b[0;34m)\u001b[0m\u001b[0;34m)\u001b[0m\u001b[0;34m\u001b[0m\u001b[0;34m\u001b[0m\u001b[0m\n\u001b[0m\u001b[1;32m   2649\u001b[0m         \u001b[0mindexer\u001b[0m \u001b[0;34m=\u001b[0m \u001b[0mself\u001b[0m\u001b[0;34m.\u001b[0m\u001b[0mget_indexer\u001b[0m\u001b[0;34m(\u001b[0m\u001b[0;34m[\u001b[0m\u001b[0mkey\u001b[0m\u001b[0;34m]\u001b[0m\u001b[0;34m,\u001b[0m \u001b[0mmethod\u001b[0m\u001b[0;34m=\u001b[0m\u001b[0mmethod\u001b[0m\u001b[0;34m,\u001b[0m \u001b[0mtolerance\u001b[0m\u001b[0;34m=\u001b[0m\u001b[0mtolerance\u001b[0m\u001b[0;34m)\u001b[0m\u001b[0;34m\u001b[0m\u001b[0;34m\u001b[0m\u001b[0m\n\u001b[1;32m   2650\u001b[0m         \u001b[0;32mif\u001b[0m \u001b[0mindexer\u001b[0m\u001b[0;34m.\u001b[0m\u001b[0mndim\u001b[0m \u001b[0;34m>\u001b[0m \u001b[0;36m1\u001b[0m \u001b[0;32mor\u001b[0m \u001b[0mindexer\u001b[0m\u001b[0;34m.\u001b[0m\u001b[0msize\u001b[0m \u001b[0;34m>\u001b[0m \u001b[0;36m1\u001b[0m\u001b[0;34m:\u001b[0m\u001b[0;34m\u001b[0m\u001b[0;34m\u001b[0m\u001b[0m\n",
      "\u001b[0;32mpandas/_libs/index.pyx\u001b[0m in \u001b[0;36mpandas._libs.index.IndexEngine.get_loc\u001b[0;34m()\u001b[0m\n",
      "\u001b[0;32mpandas/_libs/index.pyx\u001b[0m in \u001b[0;36mpandas._libs.index.IndexEngine.get_loc\u001b[0;34m()\u001b[0m\n",
      "\u001b[0;32mpandas/_libs/hashtable_class_helper.pxi\u001b[0m in \u001b[0;36mpandas._libs.hashtable.PyObjectHashTable.get_item\u001b[0;34m()\u001b[0m\n",
      "\u001b[0;32mpandas/_libs/hashtable_class_helper.pxi\u001b[0m in \u001b[0;36mpandas._libs.hashtable.PyObjectHashTable.get_item\u001b[0;34m()\u001b[0m\n",
      "\u001b[0;31mKeyError\u001b[0m: 'FEV1OFVC'"
     ]
    }
   ],
   "source": [
    "# try just do for age in months\n",
    "    # age = HSAITMOR / 12\n",
    "  #  height = 'BMPHT'\n",
    "def linear_reg(data, X_var, y_var):\n",
    "    X = data[X_var]/12\n",
    "    X = np.array(X).reshape(-1, 1)\n",
    "    y = data[y_var]\n",
    "    lr = LinearRegression().fit(X, y)\n",
    "        # do linear regression fit on X, y\n",
    "    print(\"R^2 = \",lr.score(X, y))\n",
    "    print(\"Intercept: \",  lr.intercept_)\n",
    "    print(\"Coefficients: \", lr.coef_)\n",
    "    return lr\n",
    "\n",
    "reg = linear_reg(maleall.query('DMARETHN == 1'), 'HSAITMOR', 'FEV1OFVC')\n",
    "reg.coef_"
   ]
  },
  {
   "cell_type": "code",
   "execution_count": 279,
   "metadata": {},
   "outputs": [
    {
     "data": {
      "text/plain": [
       "<matplotlib.collections.PathCollection at 0x17e8814d0>"
      ]
     },
     "execution_count": 279,
     "metadata": {},
     "output_type": "execute_result"
    },
    {
     "data": {
      "image/png": "[encoded data removed]",
      "text/plain": [
       "<Figure size 432x288 with 1 Axes>"
      ]
     },
     "metadata": {
      "needs_background": "light"
     },
     "output_type": "display_data"
    }
   ],
   "source": [
    "plt.scatter(X, y)"
   ]
  },
  {
   "cell_type": "code",
   "execution_count": 251,
   "metadata": {},
   "outputs": [
    {
     "data": {
      "text/plain": [
       "(2951, 3)"
      ]
     },
     "execution_count": 251,
     "metadata": {},
     "output_type": "execute_result"
    }
   ],
   "source": [
    "data = f18over\n",
    "X_age = data['HSAGEIR']\n",
    "X_age = np.array(X_age).reshape(-1, 1)\n",
    "X_age = np.hstack((X_age, X_age**2))\n",
    "X_height = data['BMPHT']\n",
    "X_height = np.array(X_height).reshape(-1, 1)\n",
    "np.concatenate((X_age, X_height),axis=1).shape"
   ]
  },
  {
   "cell_type": "code",
   "execution_count": 281,
   "metadata": {},
   "outputs": [],
   "source": [
    "from scipy import stats"
   ]
  },
  {
   "cell_type": "code",
   "execution_count": 284,
   "metadata": {},
   "outputs": [
    {
     "name": "stdout",
     "output_type": "stream",
     "text": [
      "R^2 =  0.6570829036019223\n",
      "Intercept:  526.103544368515\n",
      "Coefficients:  [-8.03742318 -0.21484788  0.13764914]\n"
     ]
    },
    {
     "data": {
      "text/plain": [
       "LinearRegression(copy_X=True, fit_intercept=True, n_jobs=None, normalize=False)"
      ]
     },
     "execution_count": 284,
     "metadata": {},
     "output_type": "execute_result"
    }
   ],
   "source": [
    "def height_age_reg(data, y_var):\n",
    "    X_age = data['HSAGEIR']\n",
    "    X_age = np.array(X_age).reshape(-1, 1)\n",
    "    X_age = np.hstack((X_age, X_age**2))\n",
    "    X_height = data['BMPHT']**2\n",
    "    X_height = np.array(X_height).reshape(-1, 1)\n",
    "    X = np.concatenate((X_age, X_height), axis=1)\n",
    "    y = data[y_var]\n",
    "    lr = LinearRegression().fit(X, y)\n",
    "        # do linear regression fit on X, y\n",
    "    print(\"R^2 = \",lr.score(X, y))\n",
    "    print(\"Intercept: \",  lr.intercept_)\n",
    "    print(\"Coefficients: \", lr.coef_)\n",
    "    # slope_1, intercept_1, r_val_1, p_val_1, stderr_1 = stats.linregress(X, y)\n",
    "    # print(\"Std error: \", lr.stderr_1)\n",
    "    return lr\n",
    "\n",
    "height_age_reg(m20over.query('DMARETHN == 1'), 'SPPFEV1')"
   ]
  },
  {
   "cell_type": "markdown",
   "metadata": {},
   "source": [
    "# now plot y actual value (e.g. of PEFR/FVC) vs predicted PEFR/FVC\n",
    "first need new value PEFROFVCPRED = the regression for predicted\n",
    "  and PEFROFVCPP - %predicted of PEF\n",
    "then do linear regression of x = PEFROFVCPRED and y = PEFROFVCROFVC\n",
    "do scatter plot of X,y to see if \n",
    "do histogram of PEFROFVC\n",
    "do linear regression and scatter plot of PEFROFVCPP (y) versus age to see if the SDev varies by age\n",
    "need see if normal distribution of \n",
    "\n",
    "Also have new variables PEFRPP/FVCPP - or PEFRPP-FVCPP\n",
    "  then see if one or other has normal distribution and what is variance\n",
    "  ratio should be centered around 1; and difference around 0\n",
    "  I have been using PEFRPP-FVCPP >30 as indicator, but ratio may be better (e.g. if more than 1.3,"
   ]
  },
  {
   "cell_type": "markdown",
   "metadata": {},
   "source": [
    "do plot of actual FEV1 vs predicted FEV1 ( x vs y)\n",
    "to get lower limit, need standard deviation - first see if normal distribution\n",
    "  then fit to gaussian and sdev from that\n",
    "  \n",
    "  need check whether same sdev for each age; whether same for each height, for each height**2, for each predicted FEV1\n",
    "    by categories\n"
   ]
  },
  {
   "cell_type": "code",
   "execution_count": 2,
   "metadata": {},
   "outputs": [
    {
     "ename": "NameError",
     "evalue": "name 'm20over' is not defined",
     "output_type": "error",
     "traceback": [
      "\u001b[0;31m---------------------------------------------------------------------------\u001b[0m",
      "\u001b[0;31mNameError\u001b[0m                                 Traceback (most recent call last)",
      "\u001b[0;32m<ipython-input-2-dcb1139969d9>\u001b[0m in \u001b[0;36m<module>\u001b[0;34m\u001b[0m\n\u001b[1;32m     14\u001b[0m     \u001b[0;32mreturn\u001b[0m \u001b[0mlr\u001b[0m\u001b[0;34m\u001b[0m\u001b[0;34m\u001b[0m\u001b[0m\n\u001b[1;32m     15\u001b[0m \u001b[0;34m\u001b[0m\u001b[0m\n\u001b[0;32m---> 16\u001b[0;31m \u001b[0mreg\u001b[0m \u001b[0;34m=\u001b[0m \u001b[0mlinear_reg\u001b[0m\u001b[0;34m(\u001b[0m\u001b[0mm20over\u001b[0m\u001b[0;34m.\u001b[0m\u001b[0mquery\u001b[0m\u001b[0;34m(\u001b[0m\u001b[0;34m'DMARETHN == 1'\u001b[0m\u001b[0;34m)\u001b[0m\u001b[0;34m,\u001b[0m \u001b[0;34m'HSAGEIR'\u001b[0m\u001b[0;34m,\u001b[0m \u001b[0;34m'SPPFEV1'\u001b[0m\u001b[0;34m)\u001b[0m\u001b[0;34m\u001b[0m\u001b[0;34m\u001b[0m\u001b[0m\n\u001b[0m\u001b[1;32m     17\u001b[0m \u001b[0mreg\u001b[0m\u001b[0;34m.\u001b[0m\u001b[0mcoef_\u001b[0m\u001b[0;34m\u001b[0m\u001b[0;34m\u001b[0m\u001b[0m\n",
      "\u001b[0;31mNameError\u001b[0m: name 'm20over' is not defined"
     ]
    }
   ],
   "source": [
    "#  just do for age in this example male caucasian age in years and FEV1OFVC\n",
    "  #  height = 'BMPHT'\n",
    "# age = 'HSAGEIR'\n",
    "def linear_reg(data, X_var, y_var):\n",
    "    X = data[X_var]\n",
    "    X = np.array(X).reshape(-1, 1)\n",
    "    y = data[y_var]\n",
    "    lr = LinearRegression().fit(X, y)\n",
    "        # do linear regression fit on X, y\n",
    "    print(\"R^2 = \",lr.score(X, y))\n",
    "    print(\"Intercept: \",  lr.intercept_)\n",
    "    print(\"Coefficients: \",\n",
    "          lr.coef_)\n",
    "    return lr\n",
    "\n",
    "reg = linear_reg(m20over.query('DMARETHN == 1'), 'HSAGEIR', 'SPPFEV1')\n",
    "reg.coef_"
   ]
  },
  {
   "cell_type": "code",
   "execution_count": 196,
   "metadata": {},
   "outputs": [
    {
     "ename": "KeyError",
     "evalue": "('HSAGER', 'BMPHT')",
     "output_type": "error",
     "traceback": [
      "\u001b[0;31m---------------------------------------------------------------------------\u001b[0m",
      "\u001b[0;31mKeyError\u001b[0m                                  Traceback (most recent call last)",
      "\u001b[0;32m/usr/local/lib/python3.7/site-packages/pandas/core/indexes/base.py\u001b[0m in \u001b[0;36mget_loc\u001b[0;34m(self, key, method, tolerance)\u001b[0m\n\u001b[1;32m   2645\u001b[0m             \u001b[0;32mtry\u001b[0m\u001b[0;34m:\u001b[0m\u001b[0;34m\u001b[0m\u001b[0;34m\u001b[0m\u001b[0m\n\u001b[0;32m-> 2646\u001b[0;31m                 \u001b[0;32mreturn\u001b[0m \u001b[0mself\u001b[0m\u001b[0;34m.\u001b[0m\u001b[0m_engine\u001b[0m\u001b[0;34m.\u001b[0m\u001b[0mget_loc\u001b[0m\u001b[0;34m(\u001b[0m\u001b[0mkey\u001b[0m\u001b[0;34m)\u001b[0m\u001b[0;34m\u001b[0m\u001b[0;34m\u001b[0m\u001b[0m\n\u001b[0m\u001b[1;32m   2647\u001b[0m             \u001b[0;32mexcept\u001b[0m \u001b[0mKeyError\u001b[0m\u001b[0;34m:\u001b[0m\u001b[0;34m\u001b[0m\u001b[0;34m\u001b[0m\u001b[0m\n",
      "\u001b[0;32mpandas/_libs/index.pyx\u001b[0m in \u001b[0;36mpandas._libs.index.IndexEngine.get_loc\u001b[0;34m()\u001b[0m\n",
      "\u001b[0;32mpandas/_libs/index.pyx\u001b[0m in \u001b[0;36mpandas._libs.index.IndexEngine.get_loc\u001b[0;34m()\u001b[0m\n",
      "\u001b[0;32mpandas/_libs/hashtable_class_helper.pxi\u001b[0m in \u001b[0;36mpandas._libs.hashtable.PyObjectHashTable.get_item\u001b[0;34m()\u001b[0m\n",
      "\u001b[0;32mpandas/_libs/hashtable_class_helper.pxi\u001b[0m in \u001b[0;36mpandas._libs.hashtable.PyObjectHashTable.get_item\u001b[0;34m()\u001b[0m\n",
      "\u001b[0;31mKeyError\u001b[0m: ('HSAGER', 'BMPHT')",
      "\nDuring handling of the above exception, another exception occurred:\n",
      "\u001b[0;31mKeyError\u001b[0m                                  Traceback (most recent call last)",
      "\u001b[0;32m<ipython-input-196-cfe884672d1a>\u001b[0m in \u001b[0;36m<module>\u001b[0;34m\u001b[0m\n\u001b[0;32m----> 1\u001b[0;31m \u001b[0mspiro2_parameters\u001b[0m\u001b[0;34m(\u001b[0m\u001b[0mflt18\u001b[0m\u001b[0;34m,\u001b[0m\u001b[0;34m'PEFROFVC'\u001b[0m\u001b[0;34m)\u001b[0m\u001b[0;34m\u001b[0m\u001b[0;34m\u001b[0m\u001b[0m\n\u001b[0m",
      "\u001b[0;32m<ipython-input-195-08d8ea42821e>\u001b[0m in \u001b[0;36mspiro2_parameters\u001b[0;34m(data, y)\u001b[0m\n\u001b[1;32m      4\u001b[0m     \u001b[0mheight\u001b[0m \u001b[0;34m=\u001b[0m \u001b[0;34m'BMPHT'\u001b[0m\u001b[0;34m\u001b[0m\u001b[0;34m\u001b[0m\u001b[0m\n\u001b[1;32m      5\u001b[0m     \u001b[0mage\u001b[0m \u001b[0;34m=\u001b[0m \u001b[0;34m'HSAGER'\u001b[0m\u001b[0;34m\u001b[0m\u001b[0;34m\u001b[0m\u001b[0m\n\u001b[0;32m----> 6\u001b[0;31m     \u001b[0mX\u001b[0m \u001b[0;34m=\u001b[0m \u001b[0mdata\u001b[0m\u001b[0;34m[\u001b[0m\u001b[0mage\u001b[0m\u001b[0;34m,\u001b[0m \u001b[0mheight\u001b[0m\u001b[0;34m]\u001b[0m\u001b[0;34m\u001b[0m\u001b[0;34m\u001b[0m\u001b[0m\n\u001b[0m\u001b[1;32m      7\u001b[0m     \u001b[0;31m# add age^2 and height^2 to X\u001b[0m\u001b[0;34m\u001b[0m\u001b[0;34m\u001b[0m\u001b[0;34m\u001b[0m\u001b[0m\n\u001b[1;32m      8\u001b[0m     \u001b[0;31m# new_X = np.hstack((X, X**2))\u001b[0m\u001b[0;34m\u001b[0m\u001b[0;34m\u001b[0m\u001b[0;34m\u001b[0m\u001b[0m\n",
      "\u001b[0;32m/usr/local/lib/python3.7/site-packages/pandas/core/frame.py\u001b[0m in \u001b[0;36m__getitem__\u001b[0;34m(self, key)\u001b[0m\n\u001b[1;32m   2798\u001b[0m             \u001b[0;32mif\u001b[0m \u001b[0mself\u001b[0m\u001b[0;34m.\u001b[0m\u001b[0mcolumns\u001b[0m\u001b[0;34m.\u001b[0m\u001b[0mnlevels\u001b[0m \u001b[0;34m>\u001b[0m \u001b[0;36m1\u001b[0m\u001b[0;34m:\u001b[0m\u001b[0;34m\u001b[0m\u001b[0;34m\u001b[0m\u001b[0m\n\u001b[1;32m   2799\u001b[0m                 \u001b[0;32mreturn\u001b[0m \u001b[0mself\u001b[0m\u001b[0;34m.\u001b[0m\u001b[0m_getitem_multilevel\u001b[0m\u001b[0;34m(\u001b[0m\u001b[0mkey\u001b[0m\u001b[0;34m)\u001b[0m\u001b[0;34m\u001b[0m\u001b[0;34m\u001b[0m\u001b[0m\n\u001b[0;32m-> 2800\u001b[0;31m             \u001b[0mindexer\u001b[0m \u001b[0;34m=\u001b[0m \u001b[0mself\u001b[0m\u001b[0;34m.\u001b[0m\u001b[0mcolumns\u001b[0m\u001b[0;34m.\u001b[0m\u001b[0mget_loc\u001b[0m\u001b[0;34m(\u001b[0m\u001b[0mkey\u001b[0m\u001b[0;34m)\u001b[0m\u001b[0;34m\u001b[0m\u001b[0;34m\u001b[0m\u001b[0m\n\u001b[0m\u001b[1;32m   2801\u001b[0m             \u001b[0;32mif\u001b[0m \u001b[0mis_integer\u001b[0m\u001b[0;34m(\u001b[0m\u001b[0mindexer\u001b[0m\u001b[0;34m)\u001b[0m\u001b[0;34m:\u001b[0m\u001b[0;34m\u001b[0m\u001b[0;34m\u001b[0m\u001b[0m\n\u001b[1;32m   2802\u001b[0m                 \u001b[0mindexer\u001b[0m \u001b[0;34m=\u001b[0m \u001b[0;34m[\u001b[0m\u001b[0mindexer\u001b[0m\u001b[0;34m]\u001b[0m\u001b[0;34m\u001b[0m\u001b[0;34m\u001b[0m\u001b[0m\n",
      "\u001b[0;32m/usr/local/lib/python3.7/site-packages/pandas/core/indexes/base.py\u001b[0m in \u001b[0;36mget_loc\u001b[0;34m(self, key, method, tolerance)\u001b[0m\n\u001b[1;32m   2646\u001b[0m                 \u001b[0;32mreturn\u001b[0m \u001b[0mself\u001b[0m\u001b[0;34m.\u001b[0m\u001b[0m_engine\u001b[0m\u001b[0;34m.\u001b[0m\u001b[0mget_loc\u001b[0m\u001b[0;34m(\u001b[0m\u001b[0mkey\u001b[0m\u001b[0;34m)\u001b[0m\u001b[0;34m\u001b[0m\u001b[0;34m\u001b[0m\u001b[0m\n\u001b[1;32m   2647\u001b[0m             \u001b[0;32mexcept\u001b[0m \u001b[0mKeyError\u001b[0m\u001b[0;34m:\u001b[0m\u001b[0;34m\u001b[0m\u001b[0;34m\u001b[0m\u001b[0m\n\u001b[0;32m-> 2648\u001b[0;31m                 \u001b[0;32mreturn\u001b[0m \u001b[0mself\u001b[0m\u001b[0;34m.\u001b[0m\u001b[0m_engine\u001b[0m\u001b[0;34m.\u001b[0m\u001b[0mget_loc\u001b[0m\u001b[0;34m(\u001b[0m\u001b[0mself\u001b[0m\u001b[0;34m.\u001b[0m\u001b[0m_maybe_cast_indexer\u001b[0m\u001b[0;34m(\u001b[0m\u001b[0mkey\u001b[0m\u001b[0;34m)\u001b[0m\u001b[0;34m)\u001b[0m\u001b[0;34m\u001b[0m\u001b[0;34m\u001b[0m\u001b[0m\n\u001b[0m\u001b[1;32m   2649\u001b[0m         \u001b[0mindexer\u001b[0m \u001b[0;34m=\u001b[0m \u001b[0mself\u001b[0m\u001b[0;34m.\u001b[0m\u001b[0mget_indexer\u001b[0m\u001b[0;34m(\u001b[0m\u001b[0;34m[\u001b[0m\u001b[0mkey\u001b[0m\u001b[0;34m]\u001b[0m\u001b[0;34m,\u001b[0m \u001b[0mmethod\u001b[0m\u001b[0;34m=\u001b[0m\u001b[0mmethod\u001b[0m\u001b[0;34m,\u001b[0m \u001b[0mtolerance\u001b[0m\u001b[0;34m=\u001b[0m\u001b[0mtolerance\u001b[0m\u001b[0;34m)\u001b[0m\u001b[0;34m\u001b[0m\u001b[0;34m\u001b[0m\u001b[0m\n\u001b[1;32m   2650\u001b[0m         \u001b[0;32mif\u001b[0m \u001b[0mindexer\u001b[0m\u001b[0;34m.\u001b[0m\u001b[0mndim\u001b[0m \u001b[0;34m>\u001b[0m \u001b[0;36m1\u001b[0m \u001b[0;32mor\u001b[0m \u001b[0mindexer\u001b[0m\u001b[0;34m.\u001b[0m\u001b[0msize\u001b[0m \u001b[0;34m>\u001b[0m \u001b[0;36m1\u001b[0m\u001b[0;34m:\u001b[0m\u001b[0;34m\u001b[0m\u001b[0;34m\u001b[0m\u001b[0m\n",
      "\u001b[0;32mpandas/_libs/index.pyx\u001b[0m in \u001b[0;36mpandas._libs.index.IndexEngine.get_loc\u001b[0;34m()\u001b[0m\n",
      "\u001b[0;32mpandas/_libs/index.pyx\u001b[0m in \u001b[0;36mpandas._libs.index.IndexEngine.get_loc\u001b[0;34m()\u001b[0m\n",
      "\u001b[0;32mpandas/_libs/hashtable_class_helper.pxi\u001b[0m in \u001b[0;36mpandas._libs.hashtable.PyObjectHashTable.get_item\u001b[0;34m()\u001b[0m\n",
      "\u001b[0;32mpandas/_libs/hashtable_class_helper.pxi\u001b[0m in \u001b[0;36mpandas._libs.hashtable.PyObjectHashTable.get_item\u001b[0;34m()\u001b[0m\n",
      "\u001b[0;31mKeyError\u001b[0m: ('HSAGER', 'BMPHT')"
     ]
    }
   ],
   "source": [
    "spiro2_parameters(flt18,'PEFROFVC')"
   ]
  },
  {
   "cell_type": "markdown",
   "metadata": {},
   "source": [
    "# Create other data bases to analyze adult cma and black male20over female 18 over"
   ]
  },
  {
   "cell_type": "markdown",
   "metadata": {},
   "source": [
    "male 20 over. female 18 over; and cma (Caucasian-Mexican American) or b (black)\n",
    "NOT NEED m20over = adult_final.query('HSAGEIR >=20 and HSSEX == 1’)\n",
    "NOT NEED f18over = adult_final.query('HSAGEIR >=18 and HSSEX == 2’)\n",
    "m20overcma = adult_final.query('HSAGEIR >=20 and HSSEX == 1 and (DMARETHN == 1 or DMARETHN ==3)’)\n",
    "m20overb  = adult_final.query('HSAGEIR >=20 and HSSEX == 1 and DMARETHN == 2’)\n",
    "f18overcma adult_final.query('HSAGEIR >=18 and HSSEX == 2’ and (DMARETHN == 1 or DMARETHN ==3)’)\n",
    "f18overb adult_final.query('HSAGEIR >=18 and HSSEX == 2’ and DMARETHN == 2’)\n",
    "\n",
    "DMARETHN – 1 non-Hispanic white, 2 non-hispanic black, 3 Mexican American, 4 other\n"
   ]
  },
  {
   "cell_type": "code",
   "execution_count": 361,
   "metadata": {},
   "outputs": [
    {
     "ename": "SyntaxError",
     "evalue": "EOL while scanning string literal (<ipython-input-361-a22bc48b655d>, line 1)",
     "output_type": "error",
     "traceback": [
      "\u001b[0;36m  File \u001b[0;32m\"<ipython-input-361-a22bc48b655d>\"\u001b[0;36m, line \u001b[0;32m1\u001b[0m\n\u001b[0;31m    m20overcma = adult_final.query('HSAGEIR >=20 and HSSEX == 1 and (DMARETHN == 1 or DMARETHN ==3)’)\u001b[0m\n\u001b[0m                                                                                                     ^\u001b[0m\n\u001b[0;31mSyntaxError\u001b[0m\u001b[0;31m:\u001b[0m EOL while scanning string literal\n"
     ]
    }
   ],
   "source": [
    "m20overcma = adult_final.query('HSAGEIR >=20 and HSSEX == 1 and (DMARETHN == 1 or DMARETHN ==3)’)\n",
    "m20overb  = adult_final.query('HSAGEIR >=20 and HSSEX == 1 and DMARETHN == 2’)\n",
    "f18overcma adult_final.query('HSAGEIR >=18 and HSSEX == 2’ and (DMARETHN == 1 or DMARETHN ==3)’)\n",
    "f18overb adult_final.query('HSAGEIR >=18 and HSSEX == 2’ and DMARETHN == 2’)"
   ]
  },
  {
   "cell_type": "markdown",
   "metadata": {},
   "source": [
    "# It worked below with & and extra ()"
   ]
  },
  {
   "cell_type": "code",
   "execution_count": 373,
   "metadata": {},
   "outputs": [],
   "source": [
    "m20overb  = adult_final.query(('HSAGEIR >= 20 & HSSEX == 1 & DMARETHN == 2'))"
   ]
  },
  {
   "cell_type": "code",
   "execution_count": 374,
   "metadata": {
    "collapsed": true,
    "jupyter": {
     "outputs_hidden": true
    }
   },
   "outputs": [
    {
     "data": {
      "text/plain": [
       "(479, 62)"
      ]
     },
     "execution_count": 374,
     "metadata": {},
     "output_type": "execute_result"
    }
   ],
   "source": [
    "m20overb.shape"
   ]
  },
  {
   "cell_type": "code",
   "execution_count": 380,
   "metadata": {},
   "outputs": [
    {
     "ename": "SyntaxError",
     "evalue": "invalid syntax (<unknown>, line 1)",
     "output_type": "error",
     "traceback": [
      "Traceback \u001b[0;36m(most recent call last)\u001b[0m:\n",
      "  File \u001b[1;32m\"/usr/local/lib/python3.7/site-packages/IPython/core/interactiveshell.py\"\u001b[0m, line \u001b[1;32m3331\u001b[0m, in \u001b[1;35mrun_code\u001b[0m\n    exec(code_obj, self.user_global_ns, self.user_ns)\n",
      "  File \u001b[1;32m\"<ipython-input-380-4ea84adbfbc5>\"\u001b[0m, line \u001b[1;32m1\u001b[0m, in \u001b[1;35m<module>\u001b[0m\n    m20overb  = adult_final.query(('HSAGEIR >= 20 AND HSSEX == 1 AND DMARETHN == 2'))\n",
      "  File \u001b[1;32m\"/usr/local/lib/python3.7/site-packages/pandas/core/frame.py\"\u001b[0m, line \u001b[1;32m3231\u001b[0m, in \u001b[1;35mquery\u001b[0m\n    res = self.eval(expr, **kwargs)\n",
      "  File \u001b[1;32m\"/usr/local/lib/python3.7/site-packages/pandas/core/frame.py\"\u001b[0m, line \u001b[1;32m3346\u001b[0m, in \u001b[1;35meval\u001b[0m\n    return _eval(expr, inplace=inplace, **kwargs)\n",
      "  File \u001b[1;32m\"/usr/local/lib/python3.7/site-packages/pandas/core/computation/eval.py\"\u001b[0m, line \u001b[1;32m332\u001b[0m, in \u001b[1;35meval\u001b[0m\n    parsed_expr = Expr(expr, engine=engine, parser=parser, env=env)\n",
      "  File \u001b[1;32m\"/usr/local/lib/python3.7/site-packages/pandas/core/computation/expr.py\"\u001b[0m, line \u001b[1;32m764\u001b[0m, in \u001b[1;35m__init__\u001b[0m\n    self.terms = self.parse()\n",
      "  File \u001b[1;32m\"/usr/local/lib/python3.7/site-packages/pandas/core/computation/expr.py\"\u001b[0m, line \u001b[1;32m781\u001b[0m, in \u001b[1;35mparse\u001b[0m\n    return self._visitor.visit(self.expr)\n",
      "  File \u001b[1;32m\"/usr/local/lib/python3.7/site-packages/pandas/core/computation/expr.py\"\u001b[0m, line \u001b[1;32m371\u001b[0m, in \u001b[1;35mvisit\u001b[0m\n    raise e\n",
      "  File \u001b[1;32m\"/usr/local/lib/python3.7/site-packages/pandas/core/computation/expr.py\"\u001b[0m, line \u001b[1;32m367\u001b[0m, in \u001b[1;35mvisit\u001b[0m\n    node = ast.fix_missing_locations(ast.parse(clean))\n",
      "\u001b[0;36m  File \u001b[0;32m\"/usr/local/Cellar/python/3.7.6_1/Frameworks/Python.framework/Versions/3.7/lib/python3.7/ast.py\"\u001b[0;36m, line \u001b[0;32m35\u001b[0;36m, in \u001b[0;35mparse\u001b[0;36m\u001b[0m\n\u001b[0;31m    return compile(source, filename, mode, PyCF_ONLY_AST)\u001b[0m\n",
      "\u001b[0;36m  File \u001b[0;32m\"<unknown>\"\u001b[0;36m, line \u001b[0;32m1\u001b[0m\n\u001b[0;31m    HSAGEIR >=20 AND HSSEX ==1 AND DMARETHN ==2\u001b[0m\n\u001b[0m                   ^\u001b[0m\n\u001b[0;31mSyntaxError\u001b[0m\u001b[0;31m:\u001b[0m invalid syntax\n"
     ]
    }
   ],
   "source": [
    "m20overb  = adult_final.query(('HSAGEIR >= 20 AND HSSEX == 1 AND DMARETHN == 2'))"
   ]
  },
  {
   "cell_type": "code",
   "execution_count": 376,
   "metadata": {},
   "outputs": [
    {
     "ename": "SyntaxError",
     "evalue": "EOL while scanning string literal (<ipython-input-376-5d3476696308>, line 1)",
     "output_type": "error",
     "traceback": [
      "\u001b[0;36m  File \u001b[0;32m\"<ipython-input-376-5d3476696308>\"\u001b[0;36m, line \u001b[0;32m1\u001b[0m\n\u001b[0;31m    m20overcma = adult_final.query('HSAGEIR >=20 & HSSEX == 1 & (DMARETHN == 1 OR DMARETHN == 3)'')\u001b[0m\n\u001b[0m                                                                                                   ^\u001b[0m\n\u001b[0;31mSyntaxError\u001b[0m\u001b[0;31m:\u001b[0m EOL while scanning string literal\n"
     ]
    }
   ],
   "source": [
    "m20overcma = adult_final.query('HSAGEIR >=20 & HSSEX == 1 & (DMARETHN == 1 OR DMARETHN == 3)'')"
   ]
  },
  {
   "cell_type": "code",
   "execution_count": null,
   "metadata": {},
   "outputs": [],
   "source": []
  },
  {
   "cell_type": "code",
   "execution_count": 368,
   "metadata": {},
   "outputs": [
    {
     "ename": "SyntaxError",
     "evalue": "EOL while scanning string literal (<ipython-input-368-0ac88e71318b>, line 1)",
     "output_type": "error",
     "traceback": [
      "\u001b[0;36m  File \u001b[0;32m\"<ipython-input-368-0ac88e71318b>\"\u001b[0;36m, line \u001b[0;32m1\u001b[0m\n\u001b[0;31m    m20overb  = adult_final.query('HSAGEIR >=20, HSSEX == 1, DMARETHN == 2’)\u001b[0m\n\u001b[0m                                                                            ^\u001b[0m\n\u001b[0;31mSyntaxError\u001b[0m\u001b[0;31m:\u001b[0m EOL while scanning string literal\n"
     ]
    }
   ],
   "source": [
    "m20overb  = adult_final.query('HSAGEIR >=20, HSSEX == 1, DMARETHN == 2’)"
   ]
  },
  {
   "cell_type": "markdown",
   "metadata": {},
   "source": [
    "It works if only one and as below"
   ]
  },
  {
   "cell_type": "code",
   "execution_count": 364,
   "metadata": {},
   "outputs": [],
   "source": [
    "m20over = adult_final.query('HSAGEIR >=20 and HSSEX == 1')\n",
    "f18over = adult_final.query('HSAGEIR >=18 and HSSEX == 2')"
   ]
  },
  {
   "cell_type": "markdown",
   "metadata": {},
   "source": [
    "# Create other databases youth cma and b for mlt20 flt18"
   ]
  },
  {
   "cell_type": "markdown",
   "metadata": {},
   "source": [
    "\n",
    "male<20,female<18\n",
    "NOT NEED mlt20 = pd.concat([adult_final.query('HSAGEIR < 20 and HSSEX == 1'), youth_final.query('HSSEX == 1')])\n",
    "NOT NEED flt18 = pd.concat([adult_final.query('HSAGEIR< 18 and HSSEX == 2'), youth_final.query('HSSEX == 2')]) \n",
    "mlt20cma = pd.concat([adult_final.query('HSAGEIR < 20 and HSSEX == 1 and (DMARETHN == 1 or DMARETHN == 3) '), youth_final.query('HSSEX == 1 and (DMARETHN == 1 or DMARETHN ==3)’) ])\n",
    "mlt20b = pd.concat([adult_final.query('HSAGEIR < 20 and HSSEX == 1 and DMARETHN == 2 '), youth_final.query('HSSEX == 1 and DMARETHN == 2')])\n",
    "flt18cma = pd.concat([adult_final.query('HSAGEIR< 18 and HSSEX == 2 and (DMARETHN == 1 or DMARETHN == 3)'), youth_final.query('HSSEX == 2 and (DMARETHN == 1 or DMARETHN == 3)’)]) \n",
    "flt18b = pd.concat([adult_final.query('HSAGEIR< 18 and HSSEX == 2 and DMARETHN == 2’), youth_final.query('HSSEX == 2 and DMARETHN == 2')]) \n",
    "\n",
    "DMARETHN – 1 non-Hispanic white, 2 non-hispanic black, 3 Mexican American, 4 other\n"
   ]
  },
  {
   "cell_type": "code",
   "execution_count": 366,
   "metadata": {},
   "outputs": [
    {
     "ename": "SyntaxError",
     "evalue": "EOL while scanning string literal (<ipython-input-366-f4ded748cf4d>, line 1)",
     "output_type": "error",
     "traceback": [
      "\u001b[0;36m  File \u001b[0;32m\"<ipython-input-366-f4ded748cf4d>\"\u001b[0;36m, line \u001b[0;32m1\u001b[0m\n\u001b[0;31m    mlt20cma = pd.concat([adult_final.query('HSAGEIR < 20 and HSSEX == 1 and (DMARETHN == 1 or DMARETHN == 3) '), youth_final.query('HSSEX == 1 and (DMARETHN == 1 or DMARETHN ==3)’) ])\u001b[0m\n\u001b[0m                                                                                                                                                                                        ^\u001b[0m\n\u001b[0;31mSyntaxError\u001b[0m\u001b[0;31m:\u001b[0m EOL while scanning string literal\n"
     ]
    }
   ],
   "source": [
    "\n",
    "mlt20cma = pd.concat([adult_final.query('HSAGEIR < 20 and HSSEX == 1 and (DMARETHN == 1 or DMARETHN == 3) '), youth_final.query('HSSEX == 1 and (DMARETHN == 1 or DMARETHN ==3)’) ])\n",
    "mlt20b = pd.concat([adult_final.query('HSAGEIR < 20 and HSSEX == 1 and DMARETHN == 2 '), youth_final.query('HSSEX == 1 and DMARETHN == 2')])\n",
    "flt18cma = pd.concat([adult_final.query('HSAGEIR< 18 and HSSEX == 2 and (DMARETHN == 1 or DMARETHN == 3)'), youth_final.query('HSSEX == 2 and (DMARETHN == 1 or DMARETHN == 3)’)]) \n",
    "flt18b = pd.concat([adult_final.query('HSAGEIR< 18 and HSSEX == 2 and DMARETHN == 2’), youth_final.query('HSSEX == 2 and DMARETHN == 2')]) \n",
    "\n"
   ]
  },
  {
   "cell_type": "markdown",
   "metadata": {},
   "source": [
    "# Create data bases for all male/female cma, black for ratios"
   ]
  },
  {
   "cell_type": "markdown",
   "metadata": {},
   "source": [
    "Groups for ratios\n",
    "All male cma  mallcma = pd.concat([m20overcma, mlt20cma])\n",
    "All male black  mallb = pd.concat([m20overb, mlt20b])\n",
    "All female cma  fallcma = pd.concat([f18overcma, flt18cma])\n",
    "All female black  fallb = pd.concat([f18overb, flt18b])\n"
   ]
  },
  {
   "cell_type": "code",
   "execution_count": 365,
   "metadata": {},
   "outputs": [
    {
     "ename": "NameError",
     "evalue": "name 'm20overcma' is not defined",
     "output_type": "error",
     "traceback": [
      "\u001b[0;31m---------------------------------------------------------------------------\u001b[0m",
      "\u001b[0;31mNameError\u001b[0m                                 Traceback (most recent call last)",
      "\u001b[0;32m<ipython-input-365-74a28c3ad8eb>\u001b[0m in \u001b[0;36m<module>\u001b[0;34m\u001b[0m\n\u001b[0;32m----> 1\u001b[0;31m \u001b[0mmallcma\u001b[0m \u001b[0;34m=\u001b[0m \u001b[0mpd\u001b[0m\u001b[0;34m.\u001b[0m\u001b[0mconcat\u001b[0m\u001b[0;34m(\u001b[0m\u001b[0;34m[\u001b[0m\u001b[0mm20overcma\u001b[0m\u001b[0;34m,\u001b[0m \u001b[0mmlt20cma\u001b[0m\u001b[0;34m]\u001b[0m\u001b[0;34m)\u001b[0m\u001b[0;34m\u001b[0m\u001b[0;34m\u001b[0m\u001b[0m\n\u001b[0m\u001b[1;32m      2\u001b[0m \u001b[0mmallb\u001b[0m \u001b[0;34m=\u001b[0m \u001b[0mpd\u001b[0m\u001b[0;34m.\u001b[0m\u001b[0mconcat\u001b[0m\u001b[0;34m(\u001b[0m\u001b[0;34m[\u001b[0m\u001b[0mm20overb\u001b[0m\u001b[0;34m,\u001b[0m \u001b[0mmlt20b\u001b[0m\u001b[0;34m]\u001b[0m\u001b[0;34m)\u001b[0m\u001b[0;34m\u001b[0m\u001b[0;34m\u001b[0m\u001b[0m\n\u001b[1;32m      3\u001b[0m \u001b[0mfallcma\u001b[0m \u001b[0;34m=\u001b[0m \u001b[0mpd\u001b[0m\u001b[0;34m.\u001b[0m\u001b[0mconcat\u001b[0m\u001b[0;34m(\u001b[0m\u001b[0;34m[\u001b[0m\u001b[0mf18overcma\u001b[0m\u001b[0;34m,\u001b[0m \u001b[0mflt18cma\u001b[0m\u001b[0;34m]\u001b[0m\u001b[0;34m)\u001b[0m\u001b[0;34m\u001b[0m\u001b[0;34m\u001b[0m\u001b[0m\n\u001b[1;32m      4\u001b[0m \u001b[0mfallb\u001b[0m \u001b[0;34m=\u001b[0m \u001b[0mpd\u001b[0m\u001b[0;34m.\u001b[0m\u001b[0mconcat\u001b[0m\u001b[0;34m(\u001b[0m\u001b[0;34m[\u001b[0m\u001b[0mf18overb\u001b[0m\u001b[0;34m,\u001b[0m \u001b[0mflt18b\u001b[0m\u001b[0;34m]\u001b[0m\u001b[0;34m)\u001b[0m\u001b[0;34m\u001b[0m\u001b[0;34m\u001b[0m\u001b[0m\n",
      "\u001b[0;31mNameError\u001b[0m: name 'm20overcma' is not defined"
     ]
    }
   ],
   "source": [
    "mallcma = pd.concat([m20overcma, mlt20cma])\n",
    "mallb = pd.concat([m20overb, mlt20b])\n",
    "fallcma = pd.concat([f18overcma, flt18cma])\n",
    "fallb = pd.concat([f18overb, flt18b])"
   ]
  },
  {
   "cell_type": "markdown",
   "metadata": {},
   "source": [
    "For each non-ratio variable, \n",
    "FEV1, FEV6, FVC, PEFR, FEF25-75 as Hankinson\n",
    "FEV3\n",
    "for each data set \n",
    "m20overcma, m20overb, f18overcma,f18overb, mlt20cma, mlt20b, flt18cma, flt18b\n",
    "do linear regression form b0+b1*age+b2*age2+b3*height2\n",
    "Then compare that to Hankinson’s Caucasian\n",
    "For male, female, varying age, height\n"
   ]
  },
  {
   "cell_type": "markdown",
   "metadata": {},
   "source": [
    "For each ratio variable, \n",
    "FEV1/FVC, FEV1/FEV6 as Hankinson\n",
    "PEFR/FVC, PEFR/FEV6, FEV3/FVC, FEV6/FVC\n",
    "    df['FEV1OFVC'] = df.SPPFEV1 / df.SPPFVC\u000b",
    "    df['FEV1OFEV6']= df.SPPFEV1 / df.SPPFEV6\u000b",
    "    df['PEFROFVC'] = df.SPPPEAK / df.SPPFVC\u000b",
    "    df['PEFROFEV6']= df.SPPPEAK / df.SPPFEV6\u000b",
    "    df['PEFROFEV1'] = df.SPPPEAK / df.SPPFEV1\u000b",
    "    df['FEV3OFVC'] = df.SPPFEV3 / df.SPPFVC\u000b",
    "    df['FEV6OFVC'] = df.SPPFEV6 / df.SPPFVC\n",
    "for data sets\n",
    "mallcma, mallb, fallcma, fallb\n",
    "do linear regression form b0+b1*age\n",
    "Then compare that to Hankinson’s Caucasian and black\n",
    "For male, female, varying age, height\n"
   ]
  },
  {
   "cell_type": "markdown",
   "metadata": {},
   "source": [
    "Determine lower limit of normal\n",
    "  can do this if get starndard deviation for each variable\n",
    "Assuming normal distribution get standard deviation for each variable\n",
    "Could create variable as %predicted, then do normal distribution of the %predicteds\n",
    "Would want to check if the standard deviation varied by age ?height\n",
    "Alternatively is there a way to get lower 5%\n"
   ]
  },
  {
   "cell_type": "code",
   "execution_count": null,
   "metadata": {},
   "outputs": [],
   "source": []
  },
  {
   "cell_type": "code",
   "execution_count": null,
   "metadata": {},
   "outputs": [],
   "source": []
  }
 ],
 "metadata": {
  "kernelspec": {
   "display_name": "Python 3",
   "language": "python",
   "name": "python3"
  },
  "language_info": {
   "codemirror_mode": {
    "name": "ipython",
    "version": 3
   },
   "file_extension": ".py",
   "mimetype": "text/x-python",
   "name": "python",
   "nbconvert_exporter": "python",
   "pygments_lexer": "ipython3",
   "version": "3.7.6"
  }
 },
 "nbformat": 4,
 "nbformat_minor": 4
}

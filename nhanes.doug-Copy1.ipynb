{
 "cells": [
  {
   "cell_type": "markdown",
   "metadata": {},
   "source": [
    "Import pandas - pd, matplotlib.pyplot - plt"
   ]
  },
  {
   "cell_type": "markdown",
   "metadata": {},
   "source": [
    "Not sure what nhanes_loader does\n",
    "Not sure what importlib does\n",
    "Not sure what importlib.reload(nhanes_loader) does"
   ]
  },
  {
   "cell_type": "markdown",
   "metadata": {},
   "source": [
    "Import nhanes Household_adult_file; then importlib.reload"
   ]
  },
  {
   "cell_type": "markdown",
   "metadata": {},
   "source": [
    "I accidently wiped out next section.  I think it was\n",
    "import pandas as pd\n",
    "import matplotlib as plt\n",
    "%matplotlib inline\n",
    "\n",
    "on master was\n",
    "import pandas as pd\n",
    "import matplotlib.pyplot as plt\n",
    "%matplotlib inline\n",
    "import nhanes_loader\n",
    "import importlib\n",
    "importlib.reload(nhanes_loader)\n",
    "\n",
    "On Doug was\n",
    "import numpy as np\n",
    "import pandas as pd\n",
    "import matplotlib.pyplot as plt\n",
    "%matplotlib inline\n"
   ]
  },
  {
   "cell_type": "markdown",
   "metadata": {},
   "source": [
    "Revise below to include import numpy as np"
   ]
  },
  {
   "cell_type": "markdown",
   "metadata": {},
   "source": [
    "## Import Pandas as pd; matplotlib.pyplot as plt, HouseholdAdultFile"
   ]
  },
  {
   "cell_type": "code",
   "execution_count": 2,
   "metadata": {},
   "outputs": [],
   "source": [
    "import pandas as pd\n",
    "import matplotlib.pyplot as plt\n",
    "%matplotlib inline\n",
    "import nhanes_loader\n",
    "import importlib\n",
    "importlib.reload(nhanes_loader)\n",
    "import numpy as np"
   ]
  },
  {
   "cell_type": "markdown",
   "metadata": {},
   "source": [
    "## Import Household Adult File"
   ]
  },
  {
   "cell_type": "markdown",
   "metadata": {},
   "source": [
    "from nhanes.household_adult_file import HouseholdAdultFile\n",
    "nh = HouseholdAdultFile()"
   ]
  },
  {
   "cell_type": "code",
   "execution_count": 3,
   "metadata": {},
   "outputs": [],
   "source": [
    "from nhanes.household_adult_file import HouseholdAdultFile\n",
    "nh = HouseholdAdultFile()"
   ]
  },
  {
   "cell_type": "markdown",
   "metadata": {},
   "source": [
    "## Import exam file - exam"
   ]
  },
  {
   "cell_type": "markdown",
   "metadata": {},
   "source": [
    "import nhanes.exam_file\n",
    "importlib.reload(nhanes.exam_file)\n",
    "from nhanes.exam_file import ExamFile"
   ]
  },
  {
   "cell_type": "code",
   "execution_count": 4,
   "metadata": {},
   "outputs": [],
   "source": [
    "import nhanes.exam_file\n",
    "importlib.reload(nhanes.exam_file)\n",
    "from nhanes.exam_file import ExamFile"
   ]
  },
  {
   "cell_type": "code",
   "execution_count": 5,
   "metadata": {},
   "outputs": [],
   "source": [
    "exam = ExamFile()"
   ]
  },
  {
   "cell_type": "code",
   "execution_count": 6,
   "metadata": {},
   "outputs": [
    {
     "data": {
      "text/plain": [
       "(31311, 40)"
      ]
     },
     "execution_count": 6,
     "metadata": {},
     "output_type": "execute_result"
    }
   ],
   "source": [
    "exam.data.shape"
   ]
  },
  {
   "cell_type": "code",
   "execution_count": 7,
   "metadata": {},
   "outputs": [
    {
     "data": {
      "text/html": [
       "<div>\n",
       "<style scoped>\n",
       "    .dataframe tbody tr th:only-of-type {\n",
       "        vertical-align: middle;\n",
       "    }\n",
       "\n",
       "    .dataframe tbody tr th {\n",
       "        vertical-align: top;\n",
       "    }\n",
       "\n",
       "    .dataframe thead th {\n",
       "        text-align: right;\n",
       "    }\n",
       "</style>\n",
       "<table border=\"1\" class=\"dataframe\">\n",
       "  <thead>\n",
       "    <tr style=\"text-align: right;\">\n",
       "      <th></th>\n",
       "      <th>description</th>\n",
       "      <th>variable</th>\n",
       "      <th>position</th>\n",
       "      <th>end position</th>\n",
       "      <th>length</th>\n",
       "    </tr>\n",
       "  </thead>\n",
       "  <tbody>\n",
       "    <tr>\n",
       "      <th>0</th>\n",
       "      <td>Respondent identification number</td>\n",
       "      <td>SEQN</td>\n",
       "      <td>1</td>\n",
       "      <td>5.0</td>\n",
       "      <td>5</td>\n",
       "    </tr>\n",
       "    <tr>\n",
       "      <th>1</th>\n",
       "      <td>Family sequence number</td>\n",
       "      <td>DMPFSEQ</td>\n",
       "      <td>6</td>\n",
       "      <td>10.0</td>\n",
       "      <td>5</td>\n",
       "    </tr>\n",
       "    <tr>\n",
       "      <th>2</th>\n",
       "      <td>Examination/interview status</td>\n",
       "      <td>DMPSTAT</td>\n",
       "      <td>11</td>\n",
       "      <td>NaN</td>\n",
       "      <td>1</td>\n",
       "    </tr>\n",
       "    <tr>\n",
       "      <th>3</th>\n",
       "      <td>Race-ethnicity</td>\n",
       "      <td>DMARETHN</td>\n",
       "      <td>12</td>\n",
       "      <td>NaN</td>\n",
       "      <td>1</td>\n",
       "    </tr>\n",
       "    <tr>\n",
       "      <th>4</th>\n",
       "      <td>Race</td>\n",
       "      <td>DMARACER</td>\n",
       "      <td>13</td>\n",
       "      <td>NaN</td>\n",
       "      <td>1</td>\n",
       "    </tr>\n",
       "    <tr>\n",
       "      <th>...</th>\n",
       "      <td>...</td>\n",
       "      <td>...</td>\n",
       "      <td>...</td>\n",
       "      <td>...</td>\n",
       "      <td>...</td>\n",
       "    </tr>\n",
       "    <tr>\n",
       "      <th>2363</th>\n",
       "      <td>Time to complete 8-ft walk--trial B(sec)</td>\n",
       "      <td>PFPTWLKB</td>\n",
       "      <td>6221</td>\n",
       "      <td>6224.0</td>\n",
       "      <td>4</td>\n",
       "    </tr>\n",
       "    <tr>\n",
       "      <th>2364</th>\n",
       "      <td>Number of steps--trial B</td>\n",
       "      <td>PFPNSTPB</td>\n",
       "      <td>6225</td>\n",
       "      <td>6226.0</td>\n",
       "      <td>2</td>\n",
       "    </tr>\n",
       "    <tr>\n",
       "      <th>2365</th>\n",
       "      <td>Pain reported on walking</td>\n",
       "      <td>PFPPAIN</td>\n",
       "      <td>6227</td>\n",
       "      <td>NaN</td>\n",
       "      <td>1</td>\n",
       "    </tr>\n",
       "    <tr>\n",
       "      <th>2366</th>\n",
       "      <td>Type of device used</td>\n",
       "      <td>PFPDEVIC</td>\n",
       "      <td>6228</td>\n",
       "      <td>NaN</td>\n",
       "      <td>1</td>\n",
       "    </tr>\n",
       "    <tr>\n",
       "      <th>2367</th>\n",
       "      <td>Examiner number</td>\n",
       "      <td>PFPTECH</td>\n",
       "      <td>6229</td>\n",
       "      <td>6233.0</td>\n",
       "      <td>5</td>\n",
       "    </tr>\n",
       "  </tbody>\n",
       "</table>\n",
       "<p>2368 rows × 5 columns</p>\n",
       "</div>"
      ],
      "text/plain": [
       "                                   description  variable  position  \\\n",
       "0             Respondent identification number      SEQN         1   \n",
       "1                       Family sequence number   DMPFSEQ         6   \n",
       "2                 Examination/interview status   DMPSTAT        11   \n",
       "3                               Race-ethnicity  DMARETHN        12   \n",
       "4                                         Race  DMARACER        13   \n",
       "...                                        ...       ...       ...   \n",
       "2363  Time to complete 8-ft walk--trial B(sec)  PFPTWLKB      6221   \n",
       "2364                  Number of steps--trial B  PFPNSTPB      6225   \n",
       "2365                  Pain reported on walking   PFPPAIN      6227   \n",
       "2366                       Type of device used  PFPDEVIC      6228   \n",
       "2367                           Examiner number   PFPTECH      6229   \n",
       "\n",
       "      end position  length  \n",
       "0              5.0       5  \n",
       "1             10.0       5  \n",
       "2              NaN       1  \n",
       "3              NaN       1  \n",
       "4              NaN       1  \n",
       "...            ...     ...  \n",
       "2363        6224.0       4  \n",
       "2364        6226.0       2  \n",
       "2365           NaN       1  \n",
       "2366           NaN       1  \n",
       "2367        6233.0       5  \n",
       "\n",
       "[2368 rows x 5 columns]"
      ]
     },
     "execution_count": 7,
     "metadata": {},
     "output_type": "execute_result"
    }
   ],
   "source": [
    "exam.cols"
   ]
  },
  {
   "cell_type": "markdown",
   "metadata": {},
   "source": [
    "## Import Household Youth File - youth"
   ]
  },
  {
   "cell_type": "markdown",
   "metadata": {},
   "source": [
    "import nhanes.household_youth_file\n",
    "importlib.reload(nhanes.household_youth_file)\n",
    "from nhanes.household_youth_file import HouseholdYouthFile"
   ]
  },
  {
   "cell_type": "code",
   "execution_count": 8,
   "metadata": {},
   "outputs": [],
   "source": [
    "import nhanes.household_youth_file\n",
    "importlib.reload(nhanes.household_youth_file)\n",
    "from nhanes.household_youth_file import HouseholdYouthFile"
   ]
  },
  {
   "cell_type": "code",
   "execution_count": 9,
   "metadata": {},
   "outputs": [],
   "source": [
    "youth = HouseholdYouthFile()"
   ]
  },
  {
   "cell_type": "code",
   "execution_count": 10,
   "metadata": {},
   "outputs": [
    {
     "data": {
      "text/html": [
       "<div>\n",
       "<style scoped>\n",
       "    .dataframe tbody tr th:only-of-type {\n",
       "        vertical-align: middle;\n",
       "    }\n",
       "\n",
       "    .dataframe tbody tr th {\n",
       "        vertical-align: top;\n",
       "    }\n",
       "\n",
       "    .dataframe thead th {\n",
       "        text-align: right;\n",
       "    }\n",
       "</style>\n",
       "<table border=\"1\" class=\"dataframe\">\n",
       "  <thead>\n",
       "    <tr style=\"text-align: right;\">\n",
       "      <th></th>\n",
       "      <th>description</th>\n",
       "      <th>variable</th>\n",
       "      <th>position</th>\n",
       "      <th>end position</th>\n",
       "      <th>length</th>\n",
       "    </tr>\n",
       "  </thead>\n",
       "  <tbody>\n",
       "    <tr>\n",
       "      <th>0</th>\n",
       "      <td>Sequence number</td>\n",
       "      <td>SEQN</td>\n",
       "      <td>1</td>\n",
       "      <td>5.0</td>\n",
       "      <td>5</td>\n",
       "    </tr>\n",
       "    <tr>\n",
       "      <th>1</th>\n",
       "      <td>Family sequence number</td>\n",
       "      <td>DMPFSEQ</td>\n",
       "      <td>6</td>\n",
       "      <td>10.0</td>\n",
       "      <td>5</td>\n",
       "    </tr>\n",
       "    <tr>\n",
       "      <th>2</th>\n",
       "      <td>Examination/interview status</td>\n",
       "      <td>DMPSTAT</td>\n",
       "      <td>11</td>\n",
       "      <td>NaN</td>\n",
       "      <td>1</td>\n",
       "    </tr>\n",
       "    <tr>\n",
       "      <th>3</th>\n",
       "      <td>Race-ethnicity</td>\n",
       "      <td>DMARETHN</td>\n",
       "      <td>12</td>\n",
       "      <td>NaN</td>\n",
       "      <td>1</td>\n",
       "    </tr>\n",
       "    <tr>\n",
       "      <th>4</th>\n",
       "      <td>Race</td>\n",
       "      <td>DMARACER</td>\n",
       "      <td>13</td>\n",
       "      <td>NaN</td>\n",
       "      <td>1</td>\n",
       "    </tr>\n",
       "    <tr>\n",
       "      <th>...</th>\n",
       "      <td>...</td>\n",
       "      <td>...</td>\n",
       "      <td>...</td>\n",
       "      <td>...</td>\n",
       "      <td>...</td>\n",
       "    </tr>\n",
       "    <tr>\n",
       "      <th>682</th>\n",
       "      <td>ICD-9-CM code-9th</td>\n",
       "      <td>HYK11AO</td>\n",
       "      <td>2087</td>\n",
       "      <td>2092.0</td>\n",
       "      <td>6</td>\n",
       "    </tr>\n",
       "    <tr>\n",
       "      <th>683</th>\n",
       "      <td>For how long been taking (days)-9th</td>\n",
       "      <td>HYK12SO</td>\n",
       "      <td>2093</td>\n",
       "      <td>2097.0</td>\n",
       "      <td>5</td>\n",
       "    </tr>\n",
       "    <tr>\n",
       "      <th>684</th>\n",
       "      <td>Main respondents relationship to SP</td>\n",
       "      <td>HYM1</td>\n",
       "      <td>2098</td>\n",
       "      <td>2099.0</td>\n",
       "      <td>2</td>\n",
       "    </tr>\n",
       "    <tr>\n",
       "      <th>685</th>\n",
       "      <td>Was SP present during any of interview</td>\n",
       "      <td>HYM2</td>\n",
       "      <td>2100</td>\n",
       "      <td>NaN</td>\n",
       "      <td>1</td>\n",
       "    </tr>\n",
       "    <tr>\n",
       "      <th>686</th>\n",
       "      <td>Quality of interview</td>\n",
       "      <td>HYM3</td>\n",
       "      <td>2101</td>\n",
       "      <td>NaN</td>\n",
       "      <td>1</td>\n",
       "    </tr>\n",
       "  </tbody>\n",
       "</table>\n",
       "<p>687 rows × 5 columns</p>\n",
       "</div>"
      ],
      "text/plain": [
       "                                description  variable  position  end position  \\\n",
       "0                           Sequence number      SEQN         1           5.0   \n",
       "1                    Family sequence number   DMPFSEQ         6          10.0   \n",
       "2              Examination/interview status   DMPSTAT        11           NaN   \n",
       "3                            Race-ethnicity  DMARETHN        12           NaN   \n",
       "4                                      Race  DMARACER        13           NaN   \n",
       "..                                      ...       ...       ...           ...   \n",
       "682                       ICD-9-CM code-9th   HYK11AO      2087        2092.0   \n",
       "683     For how long been taking (days)-9th   HYK12SO      2093        2097.0   \n",
       "684     Main respondents relationship to SP      HYM1      2098        2099.0   \n",
       "685  Was SP present during any of interview      HYM2      2100           NaN   \n",
       "686                    Quality of interview      HYM3      2101           NaN   \n",
       "\n",
       "     length  \n",
       "0         5  \n",
       "1         5  \n",
       "2         1  \n",
       "3         1  \n",
       "4         1  \n",
       "..      ...  \n",
       "682       6  \n",
       "683       5  \n",
       "684       2  \n",
       "685       1  \n",
       "686       1  \n",
       "\n",
       "[687 rows x 5 columns]"
      ]
     },
     "execution_count": 10,
     "metadata": {},
     "output_type": "execute_result"
    }
   ],
   "source": [
    "youth.cols"
   ]
  },
  {
   "cell_type": "markdown",
   "metadata": {},
   "source": [
    "## Combine adult and exam files - adult_exam"
   ]
  },
  {
   "cell_type": "markdown",
   "metadata": {},
   "source": [
    "match files on the SEQN field  adult_exam = nh.data.set_index('SEQN').join(exam.data.set_index('SEQN'),rsuffix='_exam')"
   ]
  },
  {
   "cell_type": "code",
   "execution_count": 11,
   "metadata": {},
   "outputs": [],
   "source": [
    "adult_exam = nh.data.set_index('SEQN').join(exam.data.set_index('SEQN'),rsuffix='_exam')"
   ]
  },
  {
   "cell_type": "code",
   "execution_count": 12,
   "metadata": {},
   "outputs": [
    {
     "name": "stdout",
     "output_type": "stream",
     "text": [
      "<class 'pandas.core.frame.DataFrame'>\n",
      "Int64Index: 20050 entries, 3 to 53623\n",
      "Data columns (total 61 columns):\n",
      " #   Column         Non-Null Count  Dtype  \n",
      "---  ------         --------------  -----  \n",
      " 0   HAR1           20050 non-null  int64  \n",
      " 1   HAR23          20050 non-null  int64  \n",
      " 2   HAR26          20050 non-null  int64  \n",
      " 3   HAC1E          20050 non-null  int64  \n",
      " 4   HAC1F          20050 non-null  int64  \n",
      " 5   HAC1G          20050 non-null  int64  \n",
      " 6   HAC1O          20050 non-null  int64  \n",
      " 7   HAL6           20050 non-null  int64  \n",
      " 8   HAL10          20050 non-null  int64  \n",
      " 9   HAL1           20050 non-null  int64  \n",
      " 10  HAL3           20050 non-null  int64  \n",
      " 11  HAL5           20050 non-null  int64  \n",
      " 12  DMARACER       20050 non-null  int64  \n",
      " 13  DMARETHN       20050 non-null  int64  \n",
      " 14  DMAETHNR       20050 non-null  int64  \n",
      " 15  HSSEX          20050 non-null  int64  \n",
      " 16  HSAGEIR        20050 non-null  int64  \n",
      " 17  HSAGEU         20050 non-null  int64  \n",
      " 18  HXPAXTMR       457 non-null    float64\n",
      " 19  HXPSESSR       457 non-null    float64\n",
      " 20  HSAITMOR       20050 non-null  int64  \n",
      " 21  HAR4S          5008 non-null   float64\n",
      " 22  SPPQ5          18150 non-null  float64\n",
      " 23  SPPQ4          18150 non-null  float64\n",
      " 24  SPPMANEU       18150 non-null  float64\n",
      " 25  MYPB1          0 non-null      float64\n",
      " 26  MYPB3          0 non-null      float64\n",
      " 27  MYPB11         0 non-null      float64\n",
      " 28  MYPB27A        0 non-null      float64\n",
      " 29  MYPB27B        0 non-null      float64\n",
      " 30  HSAGEIR_exam   18162 non-null  float64\n",
      " 31  HSAGEU_exam    18162 non-null  float64\n",
      " 32  HXPAXTMR_exam  457 non-null    float64\n",
      " 33  HXPSESSR_exam  457 non-null    float64\n",
      " 34  HXPEJ6A2       445 non-null    float64\n",
      " 35  SPPTECH1       18150 non-null  float64\n",
      " 36  SPPTRIAL       18150 non-null  float64\n",
      " 37  SPPPEAK        18150 non-null  float64\n",
      " 38  SPPFEV05       18150 non-null  float64\n",
      " 39  SPPFEV1        18150 non-null  float64\n",
      " 40  SPPFEV3        18150 non-null  float64\n",
      " 41  SPPFEV6        18150 non-null  float64\n",
      " 42  SPPFVC         18150 non-null  float64\n",
      " 43  SPPMMEF        18150 non-null  float64\n",
      " 44  SPPFEF75       18150 non-null  float64\n",
      " 45  SPPTYPE        18150 non-null  float64\n",
      " 46  SPPREPRO       18150 non-null  float64\n",
      " 47  SPPTIME        18150 non-null  object \n",
      " 48  SPPEXPIR       18150 non-null  float64\n",
      " 49  SPPTEMP        18150 non-null  float64\n",
      " 50  HSSEX_exam     18162 non-null  float64\n",
      " 51  WTPFHX6        18162 non-null  float64\n",
      " 52  MXPAXTMR       17705 non-null  float64\n",
      " 53  BMPHT          18162 non-null  float64\n",
      " 54  BMPSITHT       17705 non-null  float64\n",
      " 55  BMPWT          18162 non-null  float64\n",
      " 56  DMARACER_exam  18162 non-null  Int64  \n",
      " 57  DMARETHN_exam  18162 non-null  float64\n",
      " 58  SPPQ3          18150 non-null  float64\n",
      " 59  DMAETHNR_exam  18162 non-null  float64\n",
      " 60  HSAITMOR_exam  18162 non-null  float64\n",
      "dtypes: Int64(1), float64(40), int64(19), object(1)\n",
      "memory usage: 10.1+ MB\n"
     ]
    }
   ],
   "source": [
    "adult_exam.info()"
   ]
  },
  {
   "cell_type": "markdown",
   "metadata": {},
   "source": [
    "## Combine youth and exam files - youth_exam"
   ]
  },
  {
   "cell_type": "markdown",
   "metadata": {},
   "source": [
    "youth_exam = youth.data.set_index('SEQN').join(exam.data.set_index('SEQN'),rsuffix='_exam')"
   ]
  },
  {
   "cell_type": "code",
   "execution_count": 13,
   "metadata": {},
   "outputs": [],
   "source": [
    "youth_exam = youth.data.set_index('SEQN').join(exam.data.set_index('SEQN'),rsuffix='_exam')"
   ]
  },
  {
   "cell_type": "code",
   "execution_count": 14,
   "metadata": {},
   "outputs": [
    {
     "name": "stdout",
     "output_type": "stream",
     "text": [
      "<class 'pandas.core.frame.DataFrame'>\n",
      "Int64Index: 13944 entries, 7 to 53622\n",
      "Data columns (total 55 columns):\n",
      " #   Column         Non-Null Count  Dtype  \n",
      "---  ------         --------------  -----  \n",
      " 0   HSSEX          13944 non-null  int64  \n",
      " 1   HSAGEIR        13944 non-null  int64  \n",
      " 2   HSAGEU         13944 non-null  int64  \n",
      " 3   DMARACER       13944 non-null  int64  \n",
      " 4   DMARETHN       13944 non-null  int64  \n",
      " 5   DMAETHNR       13944 non-null  int64  \n",
      " 6   HXPAXTMR       36 non-null     float64\n",
      " 7   HXPSESSR       36 non-null     float64\n",
      " 8   HYE1G          13944 non-null  int64  \n",
      " 9   HYG2           2216 non-null   float64\n",
      " 10  HYG4           2216 non-null   float64\n",
      " 11  HYG7           3690 non-null   float64\n",
      " 12  HYG12          13944 non-null  int64  \n",
      " 13  HYG8           13944 non-null  int64  \n",
      " 14  HYE1H          13944 non-null  int64  \n",
      " 15  HSAITMOR       13944 non-null  int64  \n",
      " 16  SPPQ5          4281 non-null   float64\n",
      " 17  SPPQ4          4281 non-null   float64\n",
      " 18  SPPMANEU       4281 non-null   float64\n",
      " 19  MYPB1          4281 non-null   float64\n",
      " 20  MYPB3          887 non-null    float64\n",
      " 21  MYPB11         859 non-null    float64\n",
      " 22  MYPB27A        4281 non-null   float64\n",
      " 23  MYPB27B        4281 non-null   float64\n",
      " 24  HSAGEIR_exam   13149 non-null  float64\n",
      " 25  HSAGEU_exam    13149 non-null  float64\n",
      " 26  HXPAXTMR_exam  36 non-null     float64\n",
      " 27  HXPSESSR_exam  36 non-null     float64\n",
      " 28  HXPEJ6A2       0 non-null      float64\n",
      " 29  SPPTECH1       4281 non-null   float64\n",
      " 30  SPPTRIAL       4281 non-null   float64\n",
      " 31  SPPPEAK        4281 non-null   float64\n",
      " 32  SPPFEV05       4281 non-null   float64\n",
      " 33  SPPFEV1        4281 non-null   float64\n",
      " 34  SPPFEV3        4281 non-null   float64\n",
      " 35  SPPFEV6        4281 non-null   float64\n",
      " 36  SPPFVC         4281 non-null   float64\n",
      " 37  SPPMMEF        4281 non-null   float64\n",
      " 38  SPPFEF75       4281 non-null   float64\n",
      " 39  SPPTYPE        4281 non-null   float64\n",
      " 40  SPPREPRO       4281 non-null   float64\n",
      " 41  SPPTIME        4281 non-null   object \n",
      " 42  SPPEXPIR       4281 non-null   float64\n",
      " 43  SPPTEMP        4281 non-null   float64\n",
      " 44  HSSEX_exam     13149 non-null  float64\n",
      " 45  WTPFHX6        13149 non-null  float64\n",
      " 46  MXPAXTMR       13113 non-null  float64\n",
      " 47  BMPHT          9895 non-null   float64\n",
      " 48  BMPSITHT       9894 non-null   float64\n",
      " 49  BMPWT          13149 non-null  float64\n",
      " 50  DMARACER_exam  13149 non-null  Int64  \n",
      " 51  DMARETHN_exam  13149 non-null  float64\n",
      " 52  SPPQ3          4281 non-null   float64\n",
      " 53  DMAETHNR_exam  13149 non-null  float64\n",
      " 54  HSAITMOR_exam  13149 non-null  float64\n",
      "dtypes: Int64(1), float64(42), int64(11), object(1)\n",
      "memory usage: 6.6+ MB\n"
     ]
    }
   ],
   "source": [
    "youth_exam.info()"
   ]
  },
  {
   "cell_type": "code",
   "execution_count": 15,
   "metadata": {},
   "outputs": [
    {
     "data": {
      "text/plain": [
       "(13944, 55)"
      ]
     },
     "execution_count": 15,
     "metadata": {},
     "output_type": "execute_result"
    }
   ],
   "source": [
    "youth_exam.query('HSAGEIR < 18').shape"
   ]
  },
  {
   "cell_type": "markdown",
   "metadata": {},
   "source": [
    "## Hankinson Exclusion"
   ]
  },
  {
   "cell_type": "markdown",
   "metadata": {},
   "source": [
    "Ages - have none over 89; 17-89"
   ]
  },
  {
   "cell_type": "code",
   "execution_count": 16,
   "metadata": {},
   "outputs": [
    {
     "data": {
      "text/plain": [
       "17    432\n",
       "23    423\n",
       "24    407\n",
       "31    403\n",
       "18    403\n",
       "     ... \n",
       "85    138\n",
       "86    128\n",
       "87    110\n",
       "88     70\n",
       "89     56\n",
       "Name: HSAGEIR, Length: 74, dtype: int64"
      ]
     },
     "execution_count": 16,
     "metadata": {},
     "output_type": "execute_result"
    }
   ],
   "source": [
    "adult_exam.HSAGEIR.value_counts()"
   ]
  },
  {
   "cell_type": "markdown",
   "metadata": {},
   "source": [
    "Check for age of 16"
   ]
  },
  {
   "cell_type": "code",
   "execution_count": 17,
   "metadata": {},
   "outputs": [
    {
     "data": {
      "text/plain": [
       "(0, 61)"
      ]
     },
     "execution_count": 17,
     "metadata": {},
     "output_type": "execute_result"
    }
   ],
   "source": [
    "adult_exam.query('HSAGEIR < 17').shape"
   ]
  },
  {
   "cell_type": "markdown",
   "metadata": {},
   "source": [
    "Any age  .shape - returns row and column count of a dataset"
   ]
  },
  {
   "cell_type": "markdown",
   "metadata": {},
   "source": [
    ".describe() - returns statistics about numerical columns"
   ]
  },
  {
   "cell_type": "markdown",
   "metadata": {},
   "source": [
    ".dtypes - returns the data type of each column"
   ]
  },
  {
   "cell_type": "markdown",
   "metadata": {},
   "source": [
    ".count() - number of total values in column"
   ]
  },
  {
   "cell_type": "markdown",
   "metadata": {},
   "source": [
    ".value_counts() - returns object counting counts of unique values"
   ]
  },
  {
   "cell_type": "code",
   "execution_count": 18,
   "metadata": {},
   "outputs": [
    {
     "data": {
      "text/plain": [
       "(20050, 61)"
      ]
     },
     "execution_count": 18,
     "metadata": {},
     "output_type": "execute_result"
    }
   ],
   "source": [
    "adult_exam.query('HSAGEIR>0').shape"
   ]
  },
  {
   "cell_type": "markdown",
   "metadata": {},
   "source": [
    "Check have Height"
   ]
  },
  {
   "cell_type": "code",
   "execution_count": 19,
   "metadata": {},
   "outputs": [
    {
     "data": {
      "text/plain": [
       "(18162, 61)"
      ]
     },
     "execution_count": 19,
     "metadata": {},
     "output_type": "execute_result"
    }
   ],
   "source": [
    "adult_exam.query('BMPHT>0').shape"
   ]
  },
  {
   "cell_type": "markdown",
   "metadata": {},
   "source": [
    "describe SPPMANEU"
   ]
  },
  {
   "cell_type": "markdown",
   "metadata": {},
   "source": [
    "Any spirometry  H 16484 "
   ]
  },
  {
   "cell_type": "code",
   "execution_count": 20,
   "metadata": {},
   "outputs": [
    {
     "data": {
      "text/plain": [
       "5.0     7569\n",
       "6.0     2553\n",
       "4.0     1932\n",
       "7.0     1544\n",
       "88.0    1310\n",
       "8.0     1238\n",
       "3.0      668\n",
       "9.0      400\n",
       "2.0      292\n",
       "10.0     233\n",
       "1.0      226\n",
       "0.0      144\n",
       "11.0      23\n",
       "13.0       8\n",
       "12.0       8\n",
       "14.0       1\n",
       "16.0       1\n",
       "Name: SPPMANEU, dtype: int64"
      ]
     },
     "execution_count": 20,
     "metadata": {},
     "output_type": "execute_result"
    }
   ],
   "source": [
    "adult_exam.SPPMANEU.value_counts()"
   ]
  },
  {
   "cell_type": "markdown",
   "metadata": {},
   "source": [
    "SPPMANEU: successful spirometries -should=16840-370=16470\n",
    "    "
   ]
  },
  {
   "cell_type": "markdown",
   "metadata": {},
   "source": [
    "adult_exam.SPPMANEU.value_counts()"
   ]
  },
  {
   "cell_type": "markdown",
   "metadata": {},
   "source": [
    "any spirometry (in adult age >=17  H 16484  not=88"
   ]
  },
  {
   "cell_type": "code",
   "execution_count": 21,
   "metadata": {},
   "outputs": [
    {
     "data": {
      "text/plain": [
       "(18740, 61)"
      ]
     },
     "execution_count": 21,
     "metadata": {},
     "output_type": "execute_result"
    }
   ],
   "source": [
    "adult_exam.query('SPPMANEU != 88').shape"
   ]
  },
  {
   "cell_type": "code",
   "execution_count": 22,
   "metadata": {},
   "outputs": [
    {
     "data": {
      "text/plain": [
       "(16840, 61)"
      ]
     },
     "execution_count": 22,
     "metadata": {},
     "output_type": "execute_result"
    }
   ],
   "source": [
    "adult_exam.query('SPPMANEU < 88').shape"
   ]
  },
  {
   "cell_type": "code",
   "execution_count": 23,
   "metadata": {},
   "outputs": [
    {
     "data": {
      "text/plain": [
       "(18150, 61)"
      ]
     },
     "execution_count": 23,
     "metadata": {},
     "output_type": "execute_result"
    }
   ],
   "source": [
    "adult_exam.query('SPPMANEU > -1').shape"
   ]
  },
  {
   "cell_type": "markdown",
   "metadata": {},
   "source": [
    "number 2 or more tests  H 277, 16207  we have 16470 (+263)"
   ]
  },
  {
   "cell_type": "code",
   "execution_count": 24,
   "metadata": {},
   "outputs": [
    {
     "data": {
      "text/plain": [
       "(16470, 61)"
      ]
     },
     "execution_count": 24,
     "metadata": {},
     "output_type": "execute_result"
    }
   ],
   "source": [
    "adult_exam.query('2 <= SPPMANEU < 88').shape"
   ]
  },
  {
   "cell_type": "markdown",
   "metadata": {},
   "source": [
    "and age < 90 H 68,16139  we have 84  16386 (+26, +247)"
   ]
  },
  {
   "cell_type": "code",
   "execution_count": 25,
   "metadata": {},
   "outputs": [
    {
     "data": {
      "text/plain": [
       "(84, 61)"
      ]
     },
     "execution_count": 25,
     "metadata": {},
     "output_type": "execute_result"
    }
   ],
   "source": [
    "adult_exam.query('2 <= SPPMANEU < 88').query('HSAGEIR >89').shape"
   ]
  },
  {
   "cell_type": "code",
   "execution_count": 26,
   "metadata": {},
   "outputs": [
    {
     "data": {
      "text/plain": [
       "(16386, 61)"
      ]
     },
     "execution_count": 26,
     "metadata": {},
     "output_type": "execute_result"
    }
   ],
   "source": [
    "adult_exam.query('2 <= SPPMANEU < 88').query('HSAGEIR < 90').shape"
   ]
  },
  {
   "cell_type": "markdown",
   "metadata": {},
   "source": [
    "adult_exam.query('HSAGEIR >= 90').shape"
   ]
  },
  {
   "cell_type": "markdown",
   "metadata": {},
   "source": [
    "and race/ethnicity not other  H 636, 15503"
   ]
  },
  {
   "cell_type": "markdown",
   "metadata": {},
   "source": [
    "adult_exam.query('HSAGEIR > 0').shape"
   ]
  },
  {
   "cell_type": "markdown",
   "metadata": {},
   "source": [
    "and race/ethnicity not other  H 636  15503  we have 639, 15747 (+3, +244)"
   ]
  },
  {
   "cell_type": "code",
   "execution_count": 27,
   "metadata": {},
   "outputs": [
    {
     "data": {
      "text/plain": [
       "1    8483\n",
       "2    5486\n",
       "3    5306\n",
       "4     775\n",
       "Name: DMARETHN, dtype: int64"
      ]
     },
     "execution_count": 27,
     "metadata": {},
     "output_type": "execute_result"
    }
   ],
   "source": [
    "adult_exam.DMARETHN.value_counts()"
   ]
  },
  {
   "cell_type": "code",
   "execution_count": 28,
   "metadata": {},
   "outputs": [
    {
     "data": {
      "text/plain": [
       "(639, 61)"
      ]
     },
     "execution_count": 28,
     "metadata": {},
     "output_type": "execute_result"
    }
   ],
   "source": [
    "adult_exam.query('2 <= SPPMANEU < 88').query('HSAGEIR < 90').query('DMARETHN == 4').shape"
   ]
  },
  {
   "cell_type": "code",
   "execution_count": 29,
   "metadata": {},
   "outputs": [
    {
     "data": {
      "text/plain": [
       "(15747, 61)"
      ]
     },
     "execution_count": 29,
     "metadata": {},
     "output_type": "execute_result"
    }
   ],
   "source": [
    "adult_exam.query('2 <= SPPMANEU < 88').query('HSAGEIR < 90').query('DMARETHN < 4').shape"
   ]
  },
  {
   "cell_type": "markdown",
   "metadata": {},
   "source": [
    "and cigarette smoker H 7,667  7,836  We have  7787 7960 (+120  +124)\n"
   ]
  },
  {
   "cell_type": "code",
   "execution_count": 30,
   "metadata": {},
   "outputs": [
    {
     "data": {
      "text/plain": [
       "2    10235\n",
       "1     9799\n",
       "8       16\n",
       "Name: HAR1, dtype: int64"
      ]
     },
     "execution_count": 30,
     "metadata": {},
     "output_type": "execute_result"
    }
   ],
   "source": [
    "adult_exam.HAR1.value_counts()"
   ]
  },
  {
   "cell_type": "markdown",
   "metadata": {},
   "source": [
    "or statement not work, so need HAR1 = 2"
   ]
  },
  {
   "cell_type": "code",
   "execution_count": 31,
   "metadata": {},
   "outputs": [
    {
     "data": {
      "text/plain": [
       "(9799, 61)"
      ]
     },
     "execution_count": 31,
     "metadata": {},
     "output_type": "execute_result"
    }
   ],
   "source": [
    "adult_exam.query('HAR1 == 1' or 'HAR1 == 8').shape"
   ]
  },
  {
   "cell_type": "code",
   "execution_count": 32,
   "metadata": {},
   "outputs": [
    {
     "data": {
      "text/plain": [
       "(10235, 61)"
      ]
     },
     "execution_count": 32,
     "metadata": {},
     "output_type": "execute_result"
    }
   ],
   "source": [
    "adult_exam.query('HAR1 == 2').shape"
   ]
  },
  {
   "cell_type": "code",
   "execution_count": 33,
   "metadata": {},
   "outputs": [
    {
     "data": {
      "text/plain": [
       "(7960, 61)"
      ]
     },
     "execution_count": 33,
     "metadata": {},
     "output_type": "execute_result"
    }
   ],
   "source": [
    "adult_exam.query('2 <= SPPMANEU < 88').query('HSAGEIR < 90').query('DMARETHN < 4').query('HAR1 ==2').shape"
   ]
  },
  {
   "cell_type": "markdown",
   "metadata": {},
   "source": [
    "and cigar or pipe smoker  H 313, 7523  for cigar we have 284, 7676 "
   ]
  },
  {
   "cell_type": "markdown",
   "metadata": {},
   "source": [
    "cigar HAR23  2 is not cigar"
   ]
  },
  {
   "cell_type": "code",
   "execution_count": 34,
   "metadata": {},
   "outputs": [
    {
     "data": {
      "text/plain": [
       "2    17951\n",
       "1     2073\n",
       "8       21\n",
       "9        5\n",
       "Name: HAR23, dtype: int64"
      ]
     },
     "execution_count": 34,
     "metadata": {},
     "output_type": "execute_result"
    }
   ],
   "source": [
    "adult_exam.HAR23.value_counts()"
   ]
  },
  {
   "cell_type": "code",
   "execution_count": 35,
   "metadata": {},
   "outputs": [
    {
     "data": {
      "text/plain": [
       "(7676, 61)"
      ]
     },
     "execution_count": 35,
     "metadata": {},
     "output_type": "execute_result"
    }
   ],
   "source": [
    "adult_exam.query('2 <= SPPMANEU < 88').query('HSAGEIR < 90').query('DMARETHN < 4').query('HAR1 ==2').query('HAR23 == 2').shape"
   ]
  },
  {
   "cell_type": "markdown",
   "metadata": {},
   "source": [
    "and pipe smoker with above H 313 7523  We have 326 7634 (+13 +111)"
   ]
  },
  {
   "cell_type": "code",
   "execution_count": 36,
   "metadata": {},
   "outputs": [
    {
     "data": {
      "text/plain": [
       "2    18411\n",
       "1     1609\n",
       "8       26\n",
       "9        4\n",
       "Name: HAR26, dtype: int64"
      ]
     },
     "execution_count": 36,
     "metadata": {},
     "output_type": "execute_result"
    }
   ],
   "source": [
    "adult_exam.HAR26.value_counts()"
   ]
  },
  {
   "cell_type": "code",
   "execution_count": 37,
   "metadata": {},
   "outputs": [
    {
     "data": {
      "text/plain": [
       "(7634, 61)"
      ]
     },
     "execution_count": 37,
     "metadata": {},
     "output_type": "execute_result"
    }
   ],
   "source": [
    "adult_exam.query('2 <= SPPMANEU < 88').query('HSAGEIR < 90').query('DMARETHN < 4').query('HAR1 == 2').query('HAR23 == 2').query('HAR26 == 2').shape"
   ]
  },
  {
   "cell_type": "markdown",
   "metadata": {},
   "source": [
    "and smoked cigarettes/cigar/pipes in 5 d prior to exam  H 408 7115  BUT this question only on Youth.  Adult has question SPPQ3 smoked, heavy meal, meds to help breathing past hour; also SPPQ4 past few day cough/cold/other acute illness; also SPPQ5 past 3 weeks respiratory infection (so want these = 2)"
   ]
  },
  {
   "cell_type": "markdown",
   "metadata": {},
   "source": [
    "We have 5965 1669 when exclude all 3"
   ]
  },
  {
   "cell_type": "code",
   "execution_count": 38,
   "metadata": {},
   "outputs": [
    {
     "data": {
      "text/plain": [
       "2.0    16565\n",
       "8.0     1320\n",
       "1.0      265\n",
       "Name: SPPQ3, dtype: int64"
      ]
     },
     "execution_count": 38,
     "metadata": {},
     "output_type": "execute_result"
    }
   ],
   "source": [
    "adult_exam.SPPQ3.value_counts()"
   ]
  },
  {
   "cell_type": "markdown",
   "metadata": {},
   "source": [
    "exclude just Q3 (past hour smoked/heavy meal/med for breathing - H not smoke 5d 7115 408 we have 7406 228 lower (+291, -180)"
   ]
  },
  {
   "cell_type": "code",
   "execution_count": 39,
   "metadata": {},
   "outputs": [
    {
     "data": {
      "text/plain": [
       "(7406, 61)"
      ]
     },
     "execution_count": 39,
     "metadata": {},
     "output_type": "execute_result"
    }
   ],
   "source": [
    "adult_exam.query('2 <= SPPMANEU < 88').query('HSAGEIR < 90').query('DMARETHN < 4').query('HAR1 == 2').query('HAR23 == 2').query('HAR26 == 2').query('SPPQ3 == 2').shape"
   ]
  },
  {
   "cell_type": "code",
   "execution_count": 40,
   "metadata": {},
   "outputs": [
    {
     "data": {
      "text/plain": [
       "2.0    13557\n",
       "1.0     3273\n",
       "8.0     1320\n",
       "Name: SPPQ4, dtype: int64"
      ]
     },
     "execution_count": 40,
     "metadata": {},
     "output_type": "execute_result"
    }
   ],
   "source": [
    "adult_exam.SPPQ4.value_counts()"
   ]
  },
  {
   "cell_type": "markdown",
   "metadata": {},
   "source": [
    "exclude Q3 and Q4"
   ]
  },
  {
   "cell_type": "code",
   "execution_count": 41,
   "metadata": {},
   "outputs": [
    {
     "data": {
      "text/plain": [
       "(6120, 61)"
      ]
     },
     "execution_count": 41,
     "metadata": {},
     "output_type": "execute_result"
    }
   ],
   "source": [
    "adult_exam.query('2 <= SPPMANEU < 88').query('HSAGEIR < 90').query('DMARETHN < 4').query('HAR1 == 2').query('HAR23 == 2').query('HAR26 == 2').query('SPPQ3 == 2').query('SPPQ4 == 2').shape"
   ]
  },
  {
   "cell_type": "markdown",
   "metadata": {},
   "source": [
    "We have 6120 1286 for exclude Q3 and Q4"
   ]
  },
  {
   "cell_type": "code",
   "execution_count": 42,
   "metadata": {},
   "outputs": [
    {
     "data": {
      "text/plain": [
       "2.0    15970\n",
       "8.0     1320\n",
       "1.0      860\n",
       "Name: SPPQ5, dtype: int64"
      ]
     },
     "execution_count": 42,
     "metadata": {},
     "output_type": "execute_result"
    }
   ],
   "source": [
    "adult_exam.SPPQ5.value_counts()"
   ]
  },
  {
   "cell_type": "code",
   "execution_count": 43,
   "metadata": {},
   "outputs": [
    {
     "data": {
      "text/plain": [
       "(5965, 61)"
      ]
     },
     "execution_count": 43,
     "metadata": {},
     "output_type": "execute_result"
    }
   ],
   "source": [
    "adult_exam.query('2 <= SPPMANEU < 88').query('HSAGEIR < 90').query('DMARETHN < 4').query('HAR1 == 2').query('HAR23 == 2').query('HAR26 == 2').query('SPPQ3 == 2').query('SPPQ4 == 2').query('SPPQ5 == 2').shape"
   ]
  },
  {
   "cell_type": "markdown",
   "metadata": {},
   "source": [
    "So go back to not excluding based on Q3 Q4 Q5 "
   ]
  },
  {
   "cell_type": "code",
   "execution_count": 44,
   "metadata": {},
   "outputs": [
    {
     "data": {
      "text/plain": [
       "(7634, 61)"
      ]
     },
     "execution_count": 44,
     "metadata": {},
     "output_type": "execute_result"
    }
   ],
   "source": [
    "(adult_exam.query('2 <= SPPMANEU < 88')\n",
    " .query('HSAGEIR < 90').query('DMARETHN < 4')\n",
    " .query('HAR1 == 2').query('HAR23 == 2').query('HAR26 == 2').shape)"
   ]
  },
  {
   "cell_type": "markdown",
   "metadata": {},
   "source": [
    "and asthma H  454  6661  query('HAC1E == 2') (which gives different that > 1"
   ]
  },
  {
   "cell_type": "code",
   "execution_count": 45,
   "metadata": {},
   "outputs": [
    {
     "data": {
      "text/plain": [
       "(7158, 61)"
      ]
     },
     "execution_count": 45,
     "metadata": {},
     "output_type": "execute_result"
    }
   ],
   "source": [
    "(adult_exam.query('2 <= SPPMANEU < 88').query('HSAGEIR < 90')\n",
    " .query('DMARETHN < 4').query('HAR1 == 2').query('HAR23 == 2')\n",
    " .query('HAR26 == 2'). query('HAC1E == 2').shape)"
   ]
  },
  {
   "cell_type": "markdown",
   "metadata": {},
   "source": [
    "and chronic bronchitis H  181, 6480  HAC1F == 2"
   ]
  },
  {
   "cell_type": "code",
   "execution_count": 46,
   "metadata": {},
   "outputs": [
    {
     "data": {
      "text/plain": [
       "(6962, 61)"
      ]
     },
     "execution_count": 46,
     "metadata": {},
     "output_type": "execute_result"
    }
   ],
   "source": [
    "(adult_exam.query('2 <= SPPMANEU < 88').query('HSAGEIR < 90')\n",
    " .query('DMARETHN < 4').query('HAR1 == 2').query('HAR23 == 2')\n",
    " .query('HAR26 == 2'). query('HAC1E == 2'). query('HAC1F == 2').shape)"
   ]
  },
  {
   "cell_type": "markdown",
   "metadata": {},
   "source": [
    "and emphysema  H 15, 6465  HAC1G == 2\n"
   ]
  },
  {
   "cell_type": "code",
   "execution_count": 47,
   "metadata": {},
   "outputs": [
    {
     "data": {
      "text/plain": [
       "(6945, 61)"
      ]
     },
     "execution_count": 47,
     "metadata": {},
     "output_type": "execute_result"
    }
   ],
   "source": [
    "adult_exam.query('2 <= SPPMANEU < 88').query('HSAGEIR < 90').query('DMARETHN < 4').query('HAR1 == 2').query('HAR23 == 2').query('HAR26 == 2'). query('HAC1E == 2'). query('HAC1F == 2').query('HAC1G == 2').shape"
   ]
  },
  {
   "cell_type": "markdown",
   "metadata": {},
   "source": [
    "and cancer H 0 6465"
   ]
  },
  {
   "cell_type": "markdown",
   "metadata": {},
   "source": [
    "## When add cancer excludes many, but Hankinson none (when lung cancer), so exclude this future analyses"
   ]
  },
  {
   "cell_type": "code",
   "execution_count": 48,
   "metadata": {},
   "outputs": [
    {
     "data": {
      "text/plain": [
       "2    19266\n",
       "1      780\n",
       "9        3\n",
       "8        1\n",
       "Name: HAC1O, dtype: int64"
      ]
     },
     "execution_count": 48,
     "metadata": {},
     "output_type": "execute_result"
    }
   ],
   "source": [
    "adult_exam.HAC1O.value_counts()"
   ]
  },
  {
   "cell_type": "code",
   "execution_count": 49,
   "metadata": {},
   "outputs": [
    {
     "data": {
      "text/plain": [
       "(6756, 61)"
      ]
     },
     "execution_count": 49,
     "metadata": {},
     "output_type": "execute_result"
    }
   ],
   "source": [
    "adult_exam.query('2 <= SPPMANEU < 88').query('HSAGEIR < 90').query('DMARETHN < 4').query('HAR1 == 2').query('HAR23 == 2').query('HAR26 == 2'). query('HAC1E == 2'). query('HAC1F == 2').query('HAC1G == 2').query('HAC1O == 2').shape"
   ]
  },
  {
   "cell_type": "markdown",
   "metadata": {},
   "source": [
    "and wheezing 6 month  H 419 6046  HAL6"
   ]
  },
  {
   "cell_type": "code",
   "execution_count": 50,
   "metadata": {},
   "outputs": [
    {
     "data": {
      "text/plain": [
       "2    17097\n",
       "1     2942\n",
       "8        8\n",
       "9        3\n",
       "Name: HAL6, dtype: int64"
      ]
     },
     "execution_count": 50,
     "metadata": {},
     "output_type": "execute_result"
    }
   ],
   "source": [
    "adult_exam.HAL6.value_counts()"
   ]
  },
  {
   "cell_type": "code",
   "execution_count": 51,
   "metadata": {},
   "outputs": [
    {
     "data": {
      "text/plain": [
       "(6495, 61)"
      ]
     },
     "execution_count": 51,
     "metadata": {},
     "output_type": "execute_result"
    }
   ],
   "source": [
    "adult_exam.query('2 <= SPPMANEU < 88').query('HSAGEIR < 90').query('DMARETHN < 4').query('HAR1 == 2').query('HAR23 == 2').query('HAR26 == 2'). query('HAC1E == 2'). query('HAC1F == 2').query('HAC1G == 2').query('HAL6 == 2').shape"
   ]
  },
  {
   "cell_type": "markdown",
   "metadata": {},
   "source": [
    "and whistling or wheezing  H 112 5934  HAL10"
   ]
  },
  {
   "cell_type": "code",
   "execution_count": 52,
   "metadata": {},
   "outputs": [
    {
     "data": {
      "text/plain": [
       "(6368, 61)"
      ]
     },
     "execution_count": 52,
     "metadata": {},
     "output_type": "execute_result"
    }
   ],
   "source": [
    "adult_exam.query('2 <= SPPMANEU < 88').query('HSAGEIR < 90').query('DMARETHN < 4').query('HAR1 == 2').query('HAR23 == 2').query('HAR26 == 2'). query('HAC1E == 2'). query('HAC1F == 2').query('HAC1G == 2').query('HAL6 == 2').query('HAL10 == 2').shape"
   ]
  },
  {
   "cell_type": "markdown",
   "metadata": {},
   "source": [
    "and persistent cough H 158, 5776  HAL1"
   ]
  },
  {
   "cell_type": "code",
   "execution_count": 53,
   "metadata": {},
   "outputs": [
    {
     "data": {
      "text/plain": [
       "(6200, 61)"
      ]
     },
     "execution_count": 53,
     "metadata": {},
     "output_type": "execute_result"
    }
   ],
   "source": [
    "adult_exam.query('2 <= SPPMANEU < 88').query('HSAGEIR < 90').query('DMARETHN < 4').query('HAR1 == 2').query('HAR23 == 2').query('HAR26 == 2'). query('HAC1E == 2'). query('HAC1F == 2').query('HAC1G == 2').query('HAL6 == 2').query('HAL10 == 2').query('HAL1 == 2').shape"
   ]
  },
  {
   "cell_type": "markdown",
   "metadata": {},
   "source": [
    "and persistent phlegm H 125  5776  HAL 3"
   ]
  },
  {
   "cell_type": "code",
   "execution_count": 54,
   "metadata": {},
   "outputs": [
    {
     "data": {
      "text/plain": [
       "(6065, 61)"
      ]
     },
     "execution_count": 54,
     "metadata": {},
     "output_type": "execute_result"
    }
   ],
   "source": [
    "adult_exam.query('2 <= SPPMANEU < 88').query('HSAGEIR < 90').query('DMARETHN < 4').query('HAR1 == 2').query('HAR23 == 2').query('HAR26 == 2'). query('HAC1E == 2'). query('HAC1F == 2').query('HAC1G == 2').query('HAL6 == 2').query('HAL10 == 2').query('HAL1 == 2').query('HAL3 == 2').shape"
   ]
  },
  {
   "cell_type": "markdown",
   "metadata": {},
   "source": [
    "and moderate shortness of breath H  848  4803  HAL5"
   ]
  },
  {
   "cell_type": "code",
   "execution_count": 55,
   "metadata": {},
   "outputs": [
    {
     "data": {
      "text/plain": [
       "2    14910\n",
       "1     5030\n",
       "8       64\n",
       "9       46\n",
       "Name: HAL5, dtype: int64"
      ]
     },
     "execution_count": 55,
     "metadata": {},
     "output_type": "execute_result"
    }
   ],
   "source": [
    "adult_exam.HAL5.value_counts()"
   ]
  },
  {
   "cell_type": "code",
   "execution_count": 56,
   "metadata": {},
   "outputs": [
    {
     "data": {
      "text/plain": [
       "(5151, 61)"
      ]
     },
     "execution_count": 56,
     "metadata": {},
     "output_type": "execute_result"
    }
   ],
   "source": [
    "adult_exam.query('2 <= SPPMANEU < 88').query('HSAGEIR < 90').query('DMARETHN < 4').query('HAR1 == 2').query('HAR23 == 2').query('HAR26 == 2'). query('HAC1E == 2'). query('HAC1F == 2').query('HAC1G == 2').query('HAL6 == 2').query('HAL10 == 2').query('HAL1 == 2').query('HAL3 == 2').query('HAL5 == 2').shape"
   ]
  },
  {
   "cell_type": "code",
   "execution_count": 57,
   "metadata": {},
   "outputs": [
    {
     "data": {
      "text/plain": [
       "(5122, 61)"
      ]
     },
     "execution_count": 57,
     "metadata": {},
     "output_type": "execute_result"
    }
   ],
   "source": [
    "adult_exam.query('2 <= SPPMANEU < 88').query('HSAGEIR < 90').query('DMARETHN < 4').query('HAR1 == 2').query('HAR23 > 1').query('HAR26 > 1').query('HAC1E > 1').query('HAC1F > 1').query('HAC1G > 1').query('HAC1O > 1').query('HAL6 > 1').query('HAL1 > 1').query('HAL3 > 1').query('HAL5 == 2').shape"
   ]
  },
  {
   "cell_type": "markdown",
   "metadata": {},
   "source": [
    "and age > 80  H  139 4634  HSAGEIR\n"
   ]
  },
  {
   "cell_type": "markdown",
   "metadata": {},
   "source": [
    "adult_exam.query('2 <= SPPMANEU < 88').query('HSAGEIR < 90').query('DMARETHN < 4').query('HAR1 == 2').query('HAR23 > 1').query('HAR26 > 1').query('HAC1E > 1').query('HAC1F > 1').query('HAC1G > 1').query('HAC1O > 1').query('HAL6 > 1').query('HAL1 > 1').query('HAL3 > 1').query('HAL5 == 2').query('HSAGEIR < 81').shape"
   ]
  },
  {
   "cell_type": "code",
   "execution_count": 58,
   "metadata": {},
   "outputs": [
    {
     "data": {
      "text/plain": [
       "(4944, 61)"
      ]
     },
     "execution_count": 58,
     "metadata": {},
     "output_type": "execute_result"
    }
   ],
   "source": [
    "(adult_exam.query('2 <= SPPMANEU < 88')\n",
    ".query('HSAGEIR < 90').query('DMARETHN < 4')\n",
    ".query('HAR1 == 2').query('HAR23 > 1')\n",
    ".query('HAR26 > 1').query('HAC1E > 1')\n",
    ".query('HAC1F > 1').query('HAC1G > 1')\n",
    ".query('HAC1O > 1').query('HAL6 > 1')\n",
    ".query('HAL1 > 1').query('HAL3 > 1')\n",
    ".query('HAL5 == 2').query('HSAGEIR < 81').shape)"
   ]
  },
  {
   "cell_type": "markdown",
   "metadata": {},
   "source": [
    "## Now create DataFrame adult_final of the final rows selected"
   ]
  },
  {
   "cell_type": "markdown",
   "metadata": {},
   "source": [
    "set AdultFinal = adult_exam.query('2 <= SPPMANEU < 88').query('HSAGEIR < 90').query('DMARETHN < 4').query('HAR1 == 2').query('HAR23 > 1').query('HAR26 > 1').query('HAC1E > 1').query('HAC1F > 1').query('HAC1G > 1').query('HAC1O > 1').query('HAL6 > 1').query('HAL1 > 1').query('HAL3 > 1').query('HAL5 == 2').query('HSAGEIR < 81').shape"
   ]
  },
  {
   "cell_type": "markdown",
   "metadata": {},
   "source": [
    "adult_final = (adult_exam.query('2 <= SPPMANEU < 88')\n",
    "                         .query('HSAGEIR < 90').query('DMARETHN < 4')\n",
    "                           .query('HAR1 == 2').query('HAR23 > 1').query('HAR26 > 1')\n",
    "                           .query('HAC1E > 1').query('HAC1F > 1').query('HAC1G > 1')\n",
    "                           .query('HAC1O > 1').query('HAL6 > 1').query('HAL1 > 1')\n",
    "                           .query('HAL3 > 1').query('HAL5 == 2').query('HSAGEIR < 81'))"
   ]
  },
  {
   "cell_type": "code",
   "execution_count": 59,
   "metadata": {},
   "outputs": [],
   "source": [
    "adult_final = (adult_exam.query('2 <= SPPMANEU < 88')\n",
    "                         .query('HSAGEIR < 90').query('DMARETHN < 4')\n",
    "                           .query('HAR1 == 2').query('HAR23 > 1').query('HAR26 > 1')\n",
    "                           .query('HAC1E > 1').query('HAC1F > 1').query('HAC1G > 1')\n",
    "                           .query('HAC1O > 1').query('HAL6 > 1').query('HAL1 > 1')\n",
    "                           .query('HAL3 > 1').query('HAL5 == 2').query('HSAGEIR < 81'))"
   ]
  },
  {
   "cell_type": "code",
   "execution_count": 60,
   "metadata": {},
   "outputs": [],
   "source": [
    "af = adult_final"
   ]
  },
  {
   "cell_type": "code",
   "execution_count": 61,
   "metadata": {},
   "outputs": [
    {
     "name": "stdout",
     "output_type": "stream",
     "text": [
      "<class 'pandas.core.frame.DataFrame'>\n",
      "Int64Index: 4944 entries, 3 to 53623\n",
      "Data columns (total 61 columns):\n",
      " #   Column         Non-Null Count  Dtype  \n",
      "---  ------         --------------  -----  \n",
      " 0   HAR1           4944 non-null   int64  \n",
      " 1   HAR23          4944 non-null   int64  \n",
      " 2   HAR26          4944 non-null   int64  \n",
      " 3   HAC1E          4944 non-null   int64  \n",
      " 4   HAC1F          4944 non-null   int64  \n",
      " 5   HAC1G          4944 non-null   int64  \n",
      " 6   HAC1O          4944 non-null   int64  \n",
      " 7   HAL6           4944 non-null   int64  \n",
      " 8   HAL10          4944 non-null   int64  \n",
      " 9   HAL1           4944 non-null   int64  \n",
      " 10  HAL3           4944 non-null   int64  \n",
      " 11  HAL5           4944 non-null   int64  \n",
      " 12  DMARACER       4944 non-null   int64  \n",
      " 13  DMARETHN       4944 non-null   int64  \n",
      " 14  DMAETHNR       4944 non-null   int64  \n",
      " 15  HSSEX          4944 non-null   int64  \n",
      " 16  HSAGEIR        4944 non-null   int64  \n",
      " 17  HSAGEU         4944 non-null   int64  \n",
      " 18  HXPAXTMR       24 non-null     float64\n",
      " 19  HXPSESSR       24 non-null     float64\n",
      " 20  HSAITMOR       4944 non-null   int64  \n",
      " 21  HAR4S          0 non-null      float64\n",
      " 22  SPPQ5          4944 non-null   float64\n",
      " 23  SPPQ4          4944 non-null   float64\n",
      " 24  SPPMANEU       4944 non-null   float64\n",
      " 25  MYPB1          0 non-null      float64\n",
      " 26  MYPB3          0 non-null      float64\n",
      " 27  MYPB11         0 non-null      float64\n",
      " 28  MYPB27A        0 non-null      float64\n",
      " 29  MYPB27B        0 non-null      float64\n",
      " 30  HSAGEIR_exam   4944 non-null   float64\n",
      " 31  HSAGEU_exam    4944 non-null   float64\n",
      " 32  HXPAXTMR_exam  24 non-null     float64\n",
      " 33  HXPSESSR_exam  24 non-null     float64\n",
      " 34  HXPEJ6A2       24 non-null     float64\n",
      " 35  SPPTECH1       4944 non-null   float64\n",
      " 36  SPPTRIAL       4944 non-null   float64\n",
      " 37  SPPPEAK        4944 non-null   float64\n",
      " 38  SPPFEV05       4944 non-null   float64\n",
      " 39  SPPFEV1        4944 non-null   float64\n",
      " 40  SPPFEV3        4944 non-null   float64\n",
      " 41  SPPFEV6        4944 non-null   float64\n",
      " 42  SPPFVC         4944 non-null   float64\n",
      " 43  SPPMMEF        4944 non-null   float64\n",
      " 44  SPPFEF75       4944 non-null   float64\n",
      " 45  SPPTYPE        4944 non-null   float64\n",
      " 46  SPPREPRO       4944 non-null   float64\n",
      " 47  SPPTIME        4944 non-null   object \n",
      " 48  SPPEXPIR       4944 non-null   float64\n",
      " 49  SPPTEMP        4944 non-null   float64\n",
      " 50  HSSEX_exam     4944 non-null   float64\n",
      " 51  WTPFHX6        4944 non-null   float64\n",
      " 52  MXPAXTMR       4920 non-null   float64\n",
      " 53  BMPHT          4944 non-null   float64\n",
      " 54  BMPSITHT       4920 non-null   float64\n",
      " 55  BMPWT          4944 non-null   float64\n",
      " 56  DMARACER_exam  4944 non-null   Int64  \n",
      " 57  DMARETHN_exam  4944 non-null   float64\n",
      " 58  SPPQ3          4944 non-null   float64\n",
      " 59  DMAETHNR_exam  4944 non-null   float64\n",
      " 60  HSAITMOR_exam  4944 non-null   float64\n",
      "dtypes: Int64(1), float64(40), int64(19), object(1)\n",
      "memory usage: 2.3+ MB\n"
     ]
    }
   ],
   "source": [
    "af.info()"
   ]
  },
  {
   "cell_type": "code",
   "execution_count": 62,
   "metadata": {},
   "outputs": [
    {
     "data": {
      "text/html": [
       "<div>\n",
       "<style scoped>\n",
       "    .dataframe tbody tr th:only-of-type {\n",
       "        vertical-align: middle;\n",
       "    }\n",
       "\n",
       "    .dataframe tbody tr th {\n",
       "        vertical-align: top;\n",
       "    }\n",
       "\n",
       "    .dataframe thead th {\n",
       "        text-align: right;\n",
       "    }\n",
       "</style>\n",
       "<table border=\"1\" class=\"dataframe\">\n",
       "  <thead>\n",
       "    <tr style=\"text-align: right;\">\n",
       "      <th></th>\n",
       "      <th>description</th>\n",
       "      <th>variable</th>\n",
       "      <th>position</th>\n",
       "      <th>end position</th>\n",
       "      <th>length</th>\n",
       "    </tr>\n",
       "  </thead>\n",
       "  <tbody>\n",
       "    <tr>\n",
       "      <th>157</th>\n",
       "      <td>Language used by SP in MEC</td>\n",
       "      <td>MXPLANG</td>\n",
       "      <td>1232</td>\n",
       "      <td>NaN</td>\n",
       "      <td>1</td>\n",
       "    </tr>\n",
       "    <tr>\n",
       "      <th>168</th>\n",
       "      <td>Language of family interview</td>\n",
       "      <td>HFLANG</td>\n",
       "      <td>1254</td>\n",
       "      <td>NaN</td>\n",
       "      <td>1</td>\n",
       "    </tr>\n",
       "    <tr>\n",
       "      <th>175</th>\n",
       "      <td>Type of Medicare coverage</td>\n",
       "      <td>HFB3</td>\n",
       "      <td>1263</td>\n",
       "      <td>NaN</td>\n",
       "      <td>1</td>\n",
       "    </tr>\n",
       "    <tr>\n",
       "      <th>190</th>\n",
       "      <td>Insurance coverage check item</td>\n",
       "      <td>HFB13</td>\n",
       "      <td>1278</td>\n",
       "      <td>NaN</td>\n",
       "      <td>1</td>\n",
       "    </tr>\n",
       "    <tr>\n",
       "      <th>192</th>\n",
       "      <td>No insur: poor health, illness, age(ph1)</td>\n",
       "      <td>HFB14AC</td>\n",
       "      <td>1280</td>\n",
       "      <td>NaN</td>\n",
       "      <td>1</td>\n",
       "    </tr>\n",
       "    <tr>\n",
       "      <th>218</th>\n",
       "      <td>Parent high blood cholesterol at any age</td>\n",
       "      <td>HFC6C</td>\n",
       "      <td>1308</td>\n",
       "      <td>NaN</td>\n",
       "      <td>1</td>\n",
       "    </tr>\n",
       "    <tr>\n",
       "      <th>220</th>\n",
       "      <td>Parent asthma or hay fever at any age</td>\n",
       "      <td>HFC6D</td>\n",
       "      <td>1310</td>\n",
       "      <td>NaN</td>\n",
       "      <td>1</td>\n",
       "    </tr>\n",
       "    <tr>\n",
       "      <th>222</th>\n",
       "      <td>Parent diabetes at any age</td>\n",
       "      <td>HFC6E</td>\n",
       "      <td>1312</td>\n",
       "      <td>NaN</td>\n",
       "      <td>1</td>\n",
       "    </tr>\n",
       "    <tr>\n",
       "      <th>300</th>\n",
       "      <td>Family reference person age - years</td>\n",
       "      <td>HFHAGER</td>\n",
       "      <td>1418</td>\n",
       "      <td>1420.0</td>\n",
       "      <td>3</td>\n",
       "    </tr>\n",
       "    <tr>\n",
       "      <th>308</th>\n",
       "      <td>Respondent age in years</td>\n",
       "      <td>HFAGERR</td>\n",
       "      <td>1431</td>\n",
       "      <td>1433.0</td>\n",
       "      <td>3</td>\n",
       "    </tr>\n",
       "    <tr>\n",
       "      <th>311</th>\n",
       "      <td>Language of interview</td>\n",
       "      <td>HALANG</td>\n",
       "      <td>1439</td>\n",
       "      <td>NaN</td>\n",
       "      <td>1</td>\n",
       "    </tr>\n",
       "    <tr>\n",
       "      <th>315</th>\n",
       "      <td>Check Item. Refer to age of SP</td>\n",
       "      <td>HAA3</td>\n",
       "      <td>1444</td>\n",
       "      <td>NaN</td>\n",
       "      <td>1</td>\n",
       "    </tr>\n",
       "    <tr>\n",
       "      <th>401</th>\n",
       "      <td>On average, how many units per day taken</td>\n",
       "      <td>HAD8</td>\n",
       "      <td>1571</td>\n",
       "      <td>1573.0</td>\n",
       "      <td>3</td>\n",
       "    </tr>\n",
       "    <tr>\n",
       "      <th>479</th>\n",
       "      <td>Check item. Refer to age of SP</td>\n",
       "      <td>HAG1</td>\n",
       "      <td>1671</td>\n",
       "      <td>NaN</td>\n",
       "      <td>1</td>\n",
       "    </tr>\n",
       "    <tr>\n",
       "      <th>512</th>\n",
       "      <td>Check item. Refer to age of SP</td>\n",
       "      <td>HAG13</td>\n",
       "      <td>1719</td>\n",
       "      <td>NaN</td>\n",
       "      <td>1</td>\n",
       "    </tr>\n",
       "    <tr>\n",
       "      <th>613</th>\n",
       "      <td>Check item. Refer to age of SP</td>\n",
       "      <td>HAJ0</td>\n",
       "      <td>1821</td>\n",
       "      <td>NaN</td>\n",
       "      <td>1</td>\n",
       "    </tr>\n",
       "    <tr>\n",
       "      <th>650</th>\n",
       "      <td>Check item. Refer to sex and age of SP</td>\n",
       "      <td>HAK12</td>\n",
       "      <td>1881</td>\n",
       "      <td>NaN</td>\n",
       "      <td>1</td>\n",
       "    </tr>\n",
       "    <tr>\n",
       "      <th>695</th>\n",
       "      <td>Check item. Refer to age of SP</td>\n",
       "      <td>HAM1</td>\n",
       "      <td>1944</td>\n",
       "      <td>NaN</td>\n",
       "      <td>1</td>\n",
       "    </tr>\n",
       "    <tr>\n",
       "      <th>701</th>\n",
       "      <td>Check item. Refer to age of SP</td>\n",
       "      <td>HAM7</td>\n",
       "      <td>1954</td>\n",
       "      <td>NaN</td>\n",
       "      <td>1</td>\n",
       "    </tr>\n",
       "    <tr>\n",
       "      <th>703</th>\n",
       "      <td>How much did you weigh at age 25 - lbs</td>\n",
       "      <td>HAM9S</td>\n",
       "      <td>1958</td>\n",
       "      <td>1960.0</td>\n",
       "      <td>3</td>\n",
       "    </tr>\n",
       "    <tr>\n",
       "      <th>744</th>\n",
       "      <td>Bacon/sausage/processed meats - times/mo</td>\n",
       "      <td>HAN2CS</td>\n",
       "      <td>2023</td>\n",
       "      <td>2026.0</td>\n",
       "      <td>4</td>\n",
       "    </tr>\n",
       "    <tr>\n",
       "      <th>766</th>\n",
       "      <td>Cabbage, cole slaw, sauerkraut-times/mo</td>\n",
       "      <td>HAN4IS</td>\n",
       "      <td>2090</td>\n",
       "      <td>2092.0</td>\n",
       "      <td>3</td>\n",
       "    </tr>\n",
       "    <tr>\n",
       "      <th>796</th>\n",
       "      <td>1st other food or beverage - specified</td>\n",
       "      <td>HAN8ACD</td>\n",
       "      <td>2183</td>\n",
       "      <td>2184.0</td>\n",
       "      <td>2</td>\n",
       "    </tr>\n",
       "    <tr>\n",
       "      <th>797</th>\n",
       "      <td>1st other food or beverage - times/month</td>\n",
       "      <td>HAN8AS</td>\n",
       "      <td>2185</td>\n",
       "      <td>2188.0</td>\n",
       "      <td>4</td>\n",
       "    </tr>\n",
       "    <tr>\n",
       "      <th>798</th>\n",
       "      <td>2nd other food or beverage - specified</td>\n",
       "      <td>HAN8BCD</td>\n",
       "      <td>2189</td>\n",
       "      <td>2190.0</td>\n",
       "      <td>2</td>\n",
       "    </tr>\n",
       "    <tr>\n",
       "      <th>799</th>\n",
       "      <td>2nd other food or beverage - times/month</td>\n",
       "      <td>HAN8BS</td>\n",
       "      <td>2191</td>\n",
       "      <td>2194.0</td>\n",
       "      <td>4</td>\n",
       "    </tr>\n",
       "    <tr>\n",
       "      <th>800</th>\n",
       "      <td>3rd other food or beverage - specified</td>\n",
       "      <td>HAN8CCD</td>\n",
       "      <td>2195</td>\n",
       "      <td>2196.0</td>\n",
       "      <td>2</td>\n",
       "    </tr>\n",
       "    <tr>\n",
       "      <th>801</th>\n",
       "      <td>3rd other food or beverage - times/month</td>\n",
       "      <td>HAN8CS</td>\n",
       "      <td>2197</td>\n",
       "      <td>2199.0</td>\n",
       "      <td>3</td>\n",
       "    </tr>\n",
       "    <tr>\n",
       "      <th>802</th>\n",
       "      <td>4th other food or beverage - specified</td>\n",
       "      <td>HAN8DCD</td>\n",
       "      <td>2200</td>\n",
       "      <td>2201.0</td>\n",
       "      <td>2</td>\n",
       "    </tr>\n",
       "    <tr>\n",
       "      <th>803</th>\n",
       "      <td>4th other food or beverage - times/month</td>\n",
       "      <td>HAN8DS</td>\n",
       "      <td>2202</td>\n",
       "      <td>2204.0</td>\n",
       "      <td>3</td>\n",
       "    </tr>\n",
       "    <tr>\n",
       "      <th>804</th>\n",
       "      <td>5th other food or beverage - specified</td>\n",
       "      <td>HAN8ECD</td>\n",
       "      <td>2205</td>\n",
       "      <td>2206.0</td>\n",
       "      <td>2</td>\n",
       "    </tr>\n",
       "    <tr>\n",
       "      <th>805</th>\n",
       "      <td>5th other food or beverage - times/month</td>\n",
       "      <td>HAN8ES</td>\n",
       "      <td>2207</td>\n",
       "      <td>2209.0</td>\n",
       "      <td>3</td>\n",
       "    </tr>\n",
       "    <tr>\n",
       "      <th>806</th>\n",
       "      <td>6th other food or beverage - specified</td>\n",
       "      <td>HAN8FCD</td>\n",
       "      <td>2210</td>\n",
       "      <td>2211.0</td>\n",
       "      <td>2</td>\n",
       "    </tr>\n",
       "    <tr>\n",
       "      <th>807</th>\n",
       "      <td>6th other food or beverage - times/month</td>\n",
       "      <td>HAN8FS</td>\n",
       "      <td>2212</td>\n",
       "      <td>2214.0</td>\n",
       "      <td>3</td>\n",
       "    </tr>\n",
       "    <tr>\n",
       "      <th>808</th>\n",
       "      <td>Check item. Refer to age of SP</td>\n",
       "      <td>HAN9</td>\n",
       "      <td>2215</td>\n",
       "      <td>NaN</td>\n",
       "      <td>1</td>\n",
       "    </tr>\n",
       "    <tr>\n",
       "      <th>810</th>\n",
       "      <td>How often drnk milk when teenager(13-17)</td>\n",
       "      <td>HAN10B</td>\n",
       "      <td>2217</td>\n",
       "      <td>NaN</td>\n",
       "      <td>1</td>\n",
       "    </tr>\n",
       "    <tr>\n",
       "      <th>812</th>\n",
       "      <td>How often drnk milk,mid-age adult(36-65)</td>\n",
       "      <td>HAN10D</td>\n",
       "      <td>2219</td>\n",
       "      <td>NaN</td>\n",
       "      <td>1</td>\n",
       "    </tr>\n",
       "    <tr>\n",
       "      <th>831</th>\n",
       "      <td>Check item. Refer to age of SP</td>\n",
       "      <td>HAP16</td>\n",
       "      <td>2238</td>\n",
       "      <td>NaN</td>\n",
       "      <td>1</td>\n",
       "    </tr>\n",
       "    <tr>\n",
       "      <th>859</th>\n",
       "      <td>Check item. Refer to age of SP</td>\n",
       "      <td>HAQ7</td>\n",
       "      <td>2277</td>\n",
       "      <td>NaN</td>\n",
       "      <td>1</td>\n",
       "    </tr>\n",
       "    <tr>\n",
       "      <th>928</th>\n",
       "      <td>Language you mainly speak at home</td>\n",
       "      <td>HAS28</td>\n",
       "      <td>2386</td>\n",
       "      <td>NaN</td>\n",
       "      <td>1</td>\n",
       "    </tr>\n",
       "    <tr>\n",
       "      <th>929</th>\n",
       "      <td>Language you mainly speak at work/school</td>\n",
       "      <td>HAS29</td>\n",
       "      <td>2387</td>\n",
       "      <td>2388.0</td>\n",
       "      <td>2</td>\n",
       "    </tr>\n",
       "    <tr>\n",
       "      <th>970</th>\n",
       "      <td>Active compared with men/women your age</td>\n",
       "      <td>HAT28</td>\n",
       "      <td>2499</td>\n",
       "      <td>NaN</td>\n",
       "      <td>1</td>\n",
       "    </tr>\n",
       "    <tr>\n",
       "      <th>971</th>\n",
       "      <td>Check item. Refer to age of SP</td>\n",
       "      <td>HAT29</td>\n",
       "      <td>2500</td>\n",
       "      <td>NaN</td>\n",
       "      <td>1</td>\n",
       "    </tr>\n",
       "    <tr>\n",
       "      <th>1189</th>\n",
       "      <td>Observe SP:speech problems(not language)</td>\n",
       "      <td>HAY11G</td>\n",
       "      <td>3229</td>\n",
       "      <td>NaN</td>\n",
       "      <td>1</td>\n",
       "    </tr>\n",
       "    <tr>\n",
       "      <th>1192</th>\n",
       "      <td>Observed SP:overweight, average, or thin</td>\n",
       "      <td>HAY11J</td>\n",
       "      <td>3232</td>\n",
       "      <td>NaN</td>\n",
       "      <td>1</td>\n",
       "    </tr>\n",
       "    <tr>\n",
       "      <th>1229</th>\n",
       "      <td>Average K1 BP (survey years 5 and 6)</td>\n",
       "      <td>HAZA11A</td>\n",
       "      <td>3324</td>\n",
       "      <td>3326.0</td>\n",
       "      <td>3</td>\n",
       "    </tr>\n",
       "    <tr>\n",
       "      <th>1230</th>\n",
       "      <td>Average K1 BP after data edits</td>\n",
       "      <td>HAZA11AR</td>\n",
       "      <td>3327</td>\n",
       "      <td>3329.0</td>\n",
       "      <td>3</td>\n",
       "    </tr>\n",
       "    <tr>\n",
       "      <th>1231</th>\n",
       "      <td>Average K5 BP (survey years 5-6)</td>\n",
       "      <td>HAZA11B</td>\n",
       "      <td>3330</td>\n",
       "      <td>3332.0</td>\n",
       "      <td>3</td>\n",
       "    </tr>\n",
       "    <tr>\n",
       "      <th>1232</th>\n",
       "      <td>Average K5 BP after data edits</td>\n",
       "      <td>HAZA11BR</td>\n",
       "      <td>3333</td>\n",
       "      <td>3335.0</td>\n",
       "      <td>3</td>\n",
       "    </tr>\n",
       "    <tr>\n",
       "      <th>1234</th>\n",
       "      <td>Average K1 BP from household and MEC</td>\n",
       "      <td>HAZMNK1R</td>\n",
       "      <td>3337</td>\n",
       "      <td>3339.0</td>\n",
       "      <td>3</td>\n",
       "    </tr>\n",
       "    <tr>\n",
       "      <th>1235</th>\n",
       "      <td>Number of BP's used for average K1</td>\n",
       "      <td>HAZNOK1R</td>\n",
       "      <td>3340</td>\n",
       "      <td>3341.0</td>\n",
       "      <td>2</td>\n",
       "    </tr>\n",
       "    <tr>\n",
       "      <th>1236</th>\n",
       "      <td>Average K5 BP from household and MEC</td>\n",
       "      <td>HAZMNK5R</td>\n",
       "      <td>3342</td>\n",
       "      <td>3344.0</td>\n",
       "      <td>3</td>\n",
       "    </tr>\n",
       "    <tr>\n",
       "      <th>1237</th>\n",
       "      <td>Number of BP's used for average K5</td>\n",
       "      <td>HAZNOK5R</td>\n",
       "      <td>3345</td>\n",
       "      <td>3346.0</td>\n",
       "      <td>2</td>\n",
       "    </tr>\n",
       "  </tbody>\n",
       "</table>\n",
       "</div>"
      ],
      "text/plain": [
       "                                   description  variable  position  \\\n",
       "157                 Language used by SP in MEC   MXPLANG      1232   \n",
       "168               Language of family interview    HFLANG      1254   \n",
       "175                  Type of Medicare coverage      HFB3      1263   \n",
       "190              Insurance coverage check item     HFB13      1278   \n",
       "192   No insur: poor health, illness, age(ph1)   HFB14AC      1280   \n",
       "218   Parent high blood cholesterol at any age     HFC6C      1308   \n",
       "220      Parent asthma or hay fever at any age     HFC6D      1310   \n",
       "222                 Parent diabetes at any age     HFC6E      1312   \n",
       "300        Family reference person age - years   HFHAGER      1418   \n",
       "308                    Respondent age in years   HFAGERR      1431   \n",
       "311                      Language of interview    HALANG      1439   \n",
       "315             Check Item. Refer to age of SP      HAA3      1444   \n",
       "401   On average, how many units per day taken      HAD8      1571   \n",
       "479             Check item. Refer to age of SP      HAG1      1671   \n",
       "512             Check item. Refer to age of SP     HAG13      1719   \n",
       "613             Check item. Refer to age of SP      HAJ0      1821   \n",
       "650     Check item. Refer to sex and age of SP     HAK12      1881   \n",
       "695             Check item. Refer to age of SP      HAM1      1944   \n",
       "701             Check item. Refer to age of SP      HAM7      1954   \n",
       "703     How much did you weigh at age 25 - lbs     HAM9S      1958   \n",
       "744   Bacon/sausage/processed meats - times/mo    HAN2CS      2023   \n",
       "766    Cabbage, cole slaw, sauerkraut-times/mo    HAN4IS      2090   \n",
       "796     1st other food or beverage - specified   HAN8ACD      2183   \n",
       "797   1st other food or beverage - times/month    HAN8AS      2185   \n",
       "798     2nd other food or beverage - specified   HAN8BCD      2189   \n",
       "799   2nd other food or beverage - times/month    HAN8BS      2191   \n",
       "800     3rd other food or beverage - specified   HAN8CCD      2195   \n",
       "801   3rd other food or beverage - times/month    HAN8CS      2197   \n",
       "802     4th other food or beverage - specified   HAN8DCD      2200   \n",
       "803   4th other food or beverage - times/month    HAN8DS      2202   \n",
       "804     5th other food or beverage - specified   HAN8ECD      2205   \n",
       "805   5th other food or beverage - times/month    HAN8ES      2207   \n",
       "806     6th other food or beverage - specified   HAN8FCD      2210   \n",
       "807   6th other food or beverage - times/month    HAN8FS      2212   \n",
       "808             Check item. Refer to age of SP      HAN9      2215   \n",
       "810   How often drnk milk when teenager(13-17)    HAN10B      2217   \n",
       "812   How often drnk milk,mid-age adult(36-65)    HAN10D      2219   \n",
       "831             Check item. Refer to age of SP     HAP16      2238   \n",
       "859             Check item. Refer to age of SP      HAQ7      2277   \n",
       "928          Language you mainly speak at home     HAS28      2386   \n",
       "929   Language you mainly speak at work/school     HAS29      2387   \n",
       "970    Active compared with men/women your age     HAT28      2499   \n",
       "971             Check item. Refer to age of SP     HAT29      2500   \n",
       "1189  Observe SP:speech problems(not language)    HAY11G      3229   \n",
       "1192  Observed SP:overweight, average, or thin    HAY11J      3232   \n",
       "1229      Average K1 BP (survey years 5 and 6)   HAZA11A      3324   \n",
       "1230            Average K1 BP after data edits  HAZA11AR      3327   \n",
       "1231          Average K5 BP (survey years 5-6)   HAZA11B      3330   \n",
       "1232            Average K5 BP after data edits  HAZA11BR      3333   \n",
       "1234      Average K1 BP from household and MEC  HAZMNK1R      3337   \n",
       "1235        Number of BP's used for average K1  HAZNOK1R      3340   \n",
       "1236      Average K5 BP from household and MEC  HAZMNK5R      3342   \n",
       "1237        Number of BP's used for average K5  HAZNOK5R      3345   \n",
       "\n",
       "      end position  length  \n",
       "157            NaN       1  \n",
       "168            NaN       1  \n",
       "175            NaN       1  \n",
       "190            NaN       1  \n",
       "192            NaN       1  \n",
       "218            NaN       1  \n",
       "220            NaN       1  \n",
       "222            NaN       1  \n",
       "300         1420.0       3  \n",
       "308         1433.0       3  \n",
       "311            NaN       1  \n",
       "315            NaN       1  \n",
       "401         1573.0       3  \n",
       "479            NaN       1  \n",
       "512            NaN       1  \n",
       "613            NaN       1  \n",
       "650            NaN       1  \n",
       "695            NaN       1  \n",
       "701            NaN       1  \n",
       "703         1960.0       3  \n",
       "744         2026.0       4  \n",
       "766         2092.0       3  \n",
       "796         2184.0       2  \n",
       "797         2188.0       4  \n",
       "798         2190.0       2  \n",
       "799         2194.0       4  \n",
       "800         2196.0       2  \n",
       "801         2199.0       3  \n",
       "802         2201.0       2  \n",
       "803         2204.0       3  \n",
       "804         2206.0       2  \n",
       "805         2209.0       3  \n",
       "806         2211.0       2  \n",
       "807         2214.0       3  \n",
       "808            NaN       1  \n",
       "810            NaN       1  \n",
       "812            NaN       1  \n",
       "831            NaN       1  \n",
       "859            NaN       1  \n",
       "928            NaN       1  \n",
       "929         2388.0       2  \n",
       "970            NaN       1  \n",
       "971            NaN       1  \n",
       "1189           NaN       1  \n",
       "1192           NaN       1  \n",
       "1229        3326.0       3  \n",
       "1230        3329.0       3  \n",
       "1231        3332.0       3  \n",
       "1232        3335.0       3  \n",
       "1234        3339.0       3  \n",
       "1235        3341.0       2  \n",
       "1236        3344.0       3  \n",
       "1237        3346.0       2  "
      ]
     },
     "execution_count": 62,
     "metadata": {},
     "output_type": "execute_result"
    }
   ],
   "source": [
    "nh.cols[nh.cols.description.str.contains('age')]"
   ]
  },
  {
   "cell_type": "code",
   "execution_count": 63,
   "metadata": {},
   "outputs": [
    {
     "data": {
      "text/plain": [
       "SEQN\n",
       "3        4640.0\n",
       "4        3089.0\n",
       "45       1840.0\n",
       "52       4658.0\n",
       "60       3651.0\n",
       "          ...  \n",
       "53558    2626.0\n",
       "53567    3348.0\n",
       "53592    3642.0\n",
       "53593    5214.0\n",
       "53623    3196.0\n",
       "Name: SPPFEV1, Length: 4944, dtype: float64"
      ]
     },
     "execution_count": 63,
     "metadata": {},
     "output_type": "execute_result"
    }
   ],
   "source": [
    "af.SPPFEV1"
   ]
  },
  {
   "cell_type": "markdown",
   "metadata": {},
   "source": [
    "## Now do youth exclusion"
   ]
  },
  {
   "cell_type": "code",
   "execution_count": 64,
   "metadata": {},
   "outputs": [
    {
     "data": {
      "text/plain": [
       "(13944, 55)"
      ]
     },
     "execution_count": 64,
     "metadata": {},
     "output_type": "execute_result"
    }
   ],
   "source": [
    "youth_exam.shape"
   ]
  },
  {
   "cell_type": "markdown",
   "metadata": {},
   "source": [
    "age 8-17"
   ]
  },
  {
   "cell_type": "code",
   "execution_count": 65,
   "metadata": {},
   "outputs": [
    {
     "data": {
      "text/plain": [
       "(5365, 55)"
      ]
     },
     "execution_count": 65,
     "metadata": {},
     "output_type": "execute_result"
    }
   ],
   "source": [
    "youth_exam.query('7 < HSAGEIR < 18').shape"
   ]
  },
  {
   "cell_type": "markdown",
   "metadata": {},
   "source": [
    "Youth ethnicity"
   ]
  },
  {
   "cell_type": "code",
   "execution_count": 66,
   "metadata": {},
   "outputs": [
    {
     "data": {
      "text/plain": [
       "1    4602\n",
       "3    4445\n",
       "2    4141\n",
       "4     756\n",
       "Name: DMARETHN, dtype: int64"
      ]
     },
     "execution_count": 66,
     "metadata": {},
     "output_type": "execute_result"
    }
   ],
   "source": [
    "youth_exam.DMARETHN.value_counts()"
   ]
  },
  {
   "cell_type": "markdown",
   "metadata": {},
   "source": [
    "spirometry unusable <2 curves"
   ]
  },
  {
   "cell_type": "code",
   "execution_count": 67,
   "metadata": {},
   "outputs": [
    {
     "data": {
      "text/plain": [
       "(4114, 55)"
      ]
     },
     "execution_count": 67,
     "metadata": {},
     "output_type": "execute_result"
    }
   ],
   "source": [
    "youth_exam.query('7 < HSAGEIR < 18').query('2 <= SPPMANEU < 88').shape"
   ]
  },
  {
   "cell_type": "markdown",
   "metadata": {},
   "source": [
    "ethnicity other"
   ]
  },
  {
   "cell_type": "code",
   "execution_count": 68,
   "metadata": {},
   "outputs": [
    {
     "data": {
      "text/plain": [
       "(3928, 55)"
      ]
     },
     "execution_count": 68,
     "metadata": {},
     "output_type": "execute_result"
    }
   ],
   "source": [
    "youth_exam.query('7 < HSAGEIR < 18').query('2 <= SPPMANEU < 88').query('DMARETHN < 4').shape"
   ]
  },
  {
   "cell_type": "markdown",
   "metadata": {},
   "source": [
    "try B1 ever smoker  not work exclude too many"
   ]
  },
  {
   "cell_type": "code",
   "execution_count": 69,
   "metadata": {},
   "outputs": [
    {
     "data": {
      "text/plain": [
       "(3238, 55)"
      ]
     },
     "execution_count": 69,
     "metadata": {},
     "output_type": "execute_result"
    }
   ],
   "source": [
    "youth_exam.query('7 < HSAGEIR < 18').query('2 <= SPPMANEU < 88').query('DMARETHN < 4').query('not MYPB1 == 1').shape"
   ]
  },
  {
   "cell_type": "markdown",
   "metadata": {},
   "source": [
    "smoker B1 and B3 ** B1 too many; B3 (>5 pks) OK"
   ]
  },
  {
   "cell_type": "code",
   "execution_count": 70,
   "metadata": {},
   "outputs": [
    {
     "data": {
      "text/plain": [
       "(3813, 55)"
      ]
     },
     "execution_count": 70,
     "metadata": {},
     "output_type": "execute_result"
    }
   ],
   "source": [
    "youth_exam.query('7 < HSAGEIR < 18').query('2 <= SPPMANEU < 88').query('DMARETHN < 4').query('not MYPB3 == 1').shape"
   ]
  },
  {
   "cell_type": "markdown",
   "metadata": {},
   "source": [
    "smoked 5 days B11 and B27"
   ]
  },
  {
   "cell_type": "code",
   "execution_count": 71,
   "metadata": {},
   "outputs": [
    {
     "data": {
      "text/plain": [
       "(3594, 55)"
      ]
     },
     "execution_count": 71,
     "metadata": {},
     "output_type": "execute_result"
    }
   ],
   "source": [
    "youth_exam.query('7 < HSAGEIR < 18').query('2 <= SPPMANEU < 88').query('DMARETHN < 4').query('not MYPB3 == 1').query('not MYPB11 >0').shape"
   ]
  },
  {
   "cell_type": "markdown",
   "metadata": {},
   "source": [
    "and B27"
   ]
  },
  {
   "cell_type": "code",
   "execution_count": 72,
   "metadata": {},
   "outputs": [
    {
     "data": {
      "text/plain": [
       "(3593, 55)"
      ]
     },
     "execution_count": 72,
     "metadata": {},
     "output_type": "execute_result"
    }
   ],
   "source": [
    "youth_exam.query('7 < HSAGEIR < 18').query('2 <= SPPMANEU < 88').query('DMARETHN < 4').query('not MYPB3 == 1').query('not MYPB11 >0').query('not MYPB27A >0').shape"
   ]
  },
  {
   "cell_type": "markdown",
   "metadata": {},
   "source": [
    "asthma E1g"
   ]
  },
  {
   "cell_type": "code",
   "execution_count": 73,
   "metadata": {},
   "outputs": [
    {
     "data": {
      "text/plain": [
       "(3268, 55)"
      ]
     },
     "execution_count": 73,
     "metadata": {},
     "output_type": "execute_result"
    }
   ],
   "source": [
    "youth_exam.query('7 < HSAGEIR < 18').query('2 <= SPPMANEU < 88').query('DMARETHN < 4').query('not MYPB3 == 1').query('not MYPB11 >0').query('not MYPB27A >0').query('not HYE1G == 1').shape"
   ]
  },
  {
   "cell_type": "markdown",
   "metadata": {},
   "source": [
    "chronic bronchitis E1h"
   ]
  },
  {
   "cell_type": "code",
   "execution_count": 74,
   "metadata": {},
   "outputs": [
    {
     "data": {
      "text/plain": [
       "(3180, 55)"
      ]
     },
     "execution_count": 74,
     "metadata": {},
     "output_type": "execute_result"
    }
   ],
   "source": [
    "youth_exam.query('7 < HSAGEIR < 18').query('2 <= SPPMANEU < 88').query('DMARETHN < 4').query('not MYPB3 == 1').query('not MYPB11 >0').query('not MYPB27A >0').query('not HYE1G == 1').query('not HYE1H == 1').shape"
   ]
  },
  {
   "cell_type": "markdown",
   "metadata": {},
   "source": [
    "wheezing 12 months"
   ]
  },
  {
   "cell_type": "code",
   "execution_count": 75,
   "metadata": {},
   "outputs": [
    {
     "data": {
      "text/plain": [
       "(2899, 55)"
      ]
     },
     "execution_count": 75,
     "metadata": {},
     "output_type": "execute_result"
    }
   ],
   "source": [
    "youth_exam.query('7 < HSAGEIR < 18').query('2 <= SPPMANEU < 88').query('DMARETHN < 4').query('not MYPB3 == 1').query('not MYPB11 >0').query('not MYPB27A >0').query('not HYE1G == 1').query('not HYE1H == 1').query('not HYG8 == 1').shape"
   ]
  },
  {
   "cell_type": "markdown",
   "metadata": {},
   "source": [
    "wheezing apart from colds"
   ]
  },
  {
   "cell_type": "code",
   "execution_count": 76,
   "metadata": {
    "scrolled": true
   },
   "outputs": [
    {
     "data": {
      "text/plain": [
       "(2848, 55)"
      ]
     },
     "execution_count": 76,
     "metadata": {},
     "output_type": "execute_result"
    }
   ],
   "source": [
    "youth_exam.query('7 < HSAGEIR < 18').query('2 <= SPPMANEU < 88').query('DMARETHN < 4').query('not MYPB3 == 1').query('not MYPB11 >0').query('not MYPB27A >0').query('not HYE1G == 1').query('not HYE1H == 1').query('not HYG8 == 1').query('not HYG12 == 1').shape"
   ]
  },
  {
   "cell_type": "markdown",
   "metadata": {},
   "source": [
    "Youth 12 years and older with above H 1298"
   ]
  },
  {
   "cell_type": "code",
   "execution_count": 77,
   "metadata": {},
   "outputs": [
    {
     "data": {
      "text/plain": [
       "(1305, 55)"
      ]
     },
     "execution_count": 77,
     "metadata": {},
     "output_type": "execute_result"
    }
   ],
   "source": [
    "youth_exam.query('7 < HSAGEIR < 18').query('2 <= SPPMANEU < 88').query('DMARETHN < 4').query('not MYPB3 == 1').query('not MYPB11 >0').query('not MYPB27A >0').query('not HYE1G == 1').query('not HYE1H == 1').query('not HYG8 == 1').query('not HYG12 == 1').query('HSAGEIR > 11').shape"
   ]
  },
  {
   "cell_type": "markdown",
   "metadata": {},
   "source": [
    "and not persistent cough G2 H 2816 **I all age"
   ]
  },
  {
   "cell_type": "code",
   "execution_count": 78,
   "metadata": {},
   "outputs": [
    {
     "data": {
      "text/plain": [
       "(2832, 55)"
      ]
     },
     "execution_count": 78,
     "metadata": {},
     "output_type": "execute_result"
    }
   ],
   "source": [
    "youth_exam.query('7 < HSAGEIR < 18').query('2 <= SPPMANEU < 88').query('DMARETHN < 4').query('not MYPB3 == 1').query('not MYPB11 >0').query('not MYPB27A >0').query('not HYE1G == 1').query('not HYE1H == 1').query('not HYG8 == 1').query('not HYG12 == 1').query('not HYG2 == 1').shape"
   ]
  },
  {
   "cell_type": "markdown",
   "metadata": {},
   "source": [
    "and not persistent phlegm G4 H 2806"
   ]
  },
  {
   "cell_type": "code",
   "execution_count": 79,
   "metadata": {},
   "outputs": [
    {
     "data": {
      "text/plain": [
       "(2822, 55)"
      ]
     },
     "execution_count": 79,
     "metadata": {},
     "output_type": "execute_result"
    }
   ],
   "source": [
    "youth_exam.query('7 < HSAGEIR < 18').query('2 <= SPPMANEU < 88').query('DMARETHN < 4').query('not MYPB3 == 1').query('not MYPB11 >0').query('not MYPB27A >0').query('not HYE1G == 1').query('not HYE1H == 1').query('not HYG8 == 1').query('not HYG12 == 1').query('not HYG2 == 1').query('not HYG4 == 1').shape"
   ]
  },
  {
   "cell_type": "markdown",
   "metadata": {},
   "source": [
    "and Youth age 8-under 12"
   ]
  },
  {
   "cell_type": "code",
   "execution_count": 80,
   "metadata": {},
   "outputs": [
    {
     "data": {
      "text/plain": [
       "(1543, 55)"
      ]
     },
     "execution_count": 80,
     "metadata": {},
     "output_type": "execute_result"
    }
   ],
   "source": [
    "youth_exam.query('7 < HSAGEIR < 18').query('2 <= SPPMANEU < 88').query('DMARETHN < 4').query('not MYPB3 == 1').query('not MYPB11 >0').query('not MYPB27A >0').query('not HYE1G == 1').query('not HYE1H == 1').query('not HYG8 == 1').query('not HYG12 == 1').query('not HYG2 == 1').query('not HYG4 == 1').query('HSAGEIR < 12').shape"
   ]
  },
  {
   "cell_type": "markdown",
   "metadata": {},
   "source": [
    "and not persistent cough G6 and G7"
   ]
  },
  {
   "cell_type": "code",
   "execution_count": 81,
   "metadata": {},
   "outputs": [
    {
     "data": {
      "text/plain": [
       "(2812, 55)"
      ]
     },
     "execution_count": 81,
     "metadata": {},
     "output_type": "execute_result"
    }
   ],
   "source": [
    "youth_exam.query('7 < HSAGEIR < 18').query('2 <= SPPMANEU < 88').query('DMARETHN < 4').query('not MYPB3 == 1').query('not MYPB11 >0').query('not MYPB27A >0').query('not HYE1G == 1').query('not HYE1H == 1').query('not HYG8 == 1').query('not HYG12 == 1').query('not HYG2 == 1').query('not HYG4 == 1').query('not HYG7 == 555').shape"
   ]
  },
  {
   "cell_type": "markdown",
   "metadata": {},
   "source": [
    "## Create youth_final"
   ]
  },
  {
   "cell_type": "markdown",
   "metadata": {},
   "source": [
    "youth_exam.query('7 < HSAGEIR < 18').query('2 <= SPPMANEU < 88').query('DMARETHN < 4').query('not MYPB3 == 1').query('not MYPB11 >0').query('not MYPB27A >0').query('not HYE1G == 1').query('not HYE1H == 1').query('not HYG8 == 1').query('not HYG12 == 1').query('not HYG2 == 1').query('not HYG4 == 1').query('not HYG7 == 555').shape"
   ]
  },
  {
   "cell_type": "markdown",
   "metadata": {},
   "source": [
    "youth_exam.query('7 < HSAGEIR < 18').query('2 <= SPPMANEU < 88').query('DMARETHN < 4').query('not MYPB3 == 1').query('not MYPB11 >0').query('not MYPB27A >0').query('not HYE1G == 1').query('not HYE1H == 1').query('not HYG8 == 1').query('not HYG12 == 1').query('not HYG2 == 1').query('not HYG4 == 1').query('not HYG7 == 555').shape"
   ]
  },
  {
   "cell_type": "markdown",
   "metadata": {},
   "source": [
    "youth_final = (youth_exam.query('7 < HSAGEIR < 18').query('2 <= SPPMANEU < 88')\n",
    "               .query('DMARETHN < 4').query('not MYPB3 == 1')\n",
    "               .query('not MYPB11 >0').query('not MYPB27A >0')\n",
    "               .query('not HYE1G == 1').query('not HYE1H == 1')\n",
    "               .query('not HYG8 == 1').query('not HYG12 == 1')\n",
    "               .query('not HYG2 == 1').query('not HYG4 == 1')\n",
    "               .query('not HYG7 == 555'))"
   ]
  },
  {
   "cell_type": "code",
   "execution_count": 82,
   "metadata": {},
   "outputs": [],
   "source": [
    "youth_final = (youth_exam.query('7 < HSAGEIR < 18').query('2 <= SPPMANEU < 88')\n",
    "               .query('DMARETHN < 4').query('not MYPB3 == 1')\n",
    "               .query('not MYPB11 >0').query('not MYPB27A >0')\n",
    "               .query('not HYE1G == 1').query('not HYE1H == 1')\n",
    "               .query('not HYG8 == 1').query('not HYG12 == 1')\n",
    "               .query('not HYG2 == 1').query('not HYG4 == 1')\n",
    "               .query('not HYG7 == 555'))"
   ]
  },
  {
   "cell_type": "code",
   "execution_count": 83,
   "metadata": {},
   "outputs": [
    {
     "data": {
      "text/plain": [
       "(2812, 55)"
      ]
     },
     "execution_count": 83,
     "metadata": {},
     "output_type": "execute_result"
    }
   ],
   "source": [
    "youth_final.shape"
   ]
  },
  {
   "cell_type": "code",
   "execution_count": 84,
   "metadata": {},
   "outputs": [
    {
     "data": {
      "text/html": [
       "<div>\n",
       "<style scoped>\n",
       "    .dataframe tbody tr th:only-of-type {\n",
       "        vertical-align: middle;\n",
       "    }\n",
       "\n",
       "    .dataframe tbody tr th {\n",
       "        vertical-align: top;\n",
       "    }\n",
       "\n",
       "    .dataframe thead th {\n",
       "        text-align: right;\n",
       "    }\n",
       "</style>\n",
       "<table border=\"1\" class=\"dataframe\">\n",
       "  <thead>\n",
       "    <tr style=\"text-align: right;\">\n",
       "      <th></th>\n",
       "      <th>HSSEX</th>\n",
       "      <th>HSAGEIR</th>\n",
       "      <th>HSAGEU</th>\n",
       "      <th>DMARACER</th>\n",
       "      <th>DMARETHN</th>\n",
       "      <th>DMAETHNR</th>\n",
       "      <th>HXPAXTMR</th>\n",
       "      <th>HXPSESSR</th>\n",
       "      <th>HYE1G</th>\n",
       "      <th>HYG2</th>\n",
       "      <th>...</th>\n",
       "      <th>WTPFHX6</th>\n",
       "      <th>MXPAXTMR</th>\n",
       "      <th>BMPHT</th>\n",
       "      <th>BMPSITHT</th>\n",
       "      <th>BMPWT</th>\n",
       "      <th>DMARACER_exam</th>\n",
       "      <th>DMARETHN_exam</th>\n",
       "      <th>SPPQ3</th>\n",
       "      <th>DMAETHNR_exam</th>\n",
       "      <th>HSAITMOR_exam</th>\n",
       "    </tr>\n",
       "    <tr>\n",
       "      <th>SEQN</th>\n",
       "      <th></th>\n",
       "      <th></th>\n",
       "      <th></th>\n",
       "      <th></th>\n",
       "      <th></th>\n",
       "      <th></th>\n",
       "      <th></th>\n",
       "      <th></th>\n",
       "      <th></th>\n",
       "      <th></th>\n",
       "      <th></th>\n",
       "      <th></th>\n",
       "      <th></th>\n",
       "      <th></th>\n",
       "      <th></th>\n",
       "      <th></th>\n",
       "      <th></th>\n",
       "      <th></th>\n",
       "      <th></th>\n",
       "      <th></th>\n",
       "      <th></th>\n",
       "    </tr>\n",
       "  </thead>\n",
       "  <tbody>\n",
       "    <tr>\n",
       "      <th>14</th>\n",
       "      <td>2</td>\n",
       "      <td>16</td>\n",
       "      <td>2</td>\n",
       "      <td>1</td>\n",
       "      <td>1</td>\n",
       "      <td>3</td>\n",
       "      <td>NaN</td>\n",
       "      <td>NaN</td>\n",
       "      <td>2</td>\n",
       "      <td>2.0</td>\n",
       "      <td>...</td>\n",
       "      <td>13749.61</td>\n",
       "      <td>197.0</td>\n",
       "      <td>166.9</td>\n",
       "      <td>87.0</td>\n",
       "      <td>47.50</td>\n",
       "      <td>1</td>\n",
       "      <td>1.0</td>\n",
       "      <td>2.0</td>\n",
       "      <td>3.0</td>\n",
       "      <td>196.0</td>\n",
       "    </tr>\n",
       "    <tr>\n",
       "      <th>16</th>\n",
       "      <td>1</td>\n",
       "      <td>16</td>\n",
       "      <td>2</td>\n",
       "      <td>1</td>\n",
       "      <td>3</td>\n",
       "      <td>1</td>\n",
       "      <td>NaN</td>\n",
       "      <td>NaN</td>\n",
       "      <td>2</td>\n",
       "      <td>2.0</td>\n",
       "      <td>...</td>\n",
       "      <td>1792.14</td>\n",
       "      <td>200.0</td>\n",
       "      <td>167.6</td>\n",
       "      <td>89.2</td>\n",
       "      <td>62.65</td>\n",
       "      <td>1</td>\n",
       "      <td>3.0</td>\n",
       "      <td>2.0</td>\n",
       "      <td>1.0</td>\n",
       "      <td>198.0</td>\n",
       "    </tr>\n",
       "  </tbody>\n",
       "</table>\n",
       "<p>2 rows × 55 columns</p>\n",
       "</div>"
      ],
      "text/plain": [
       "      HSSEX  HSAGEIR  HSAGEU  DMARACER  DMARETHN  DMAETHNR  HXPAXTMR  \\\n",
       "SEQN                                                                   \n",
       "14        2       16       2         1         1         3       NaN   \n",
       "16        1       16       2         1         3         1       NaN   \n",
       "\n",
       "      HXPSESSR  HYE1G  HYG2  ...   WTPFHX6  MXPAXTMR  BMPHT  BMPSITHT  BMPWT  \\\n",
       "SEQN                         ...                                               \n",
       "14         NaN      2   2.0  ...  13749.61     197.0  166.9      87.0  47.50   \n",
       "16         NaN      2   2.0  ...   1792.14     200.0  167.6      89.2  62.65   \n",
       "\n",
       "      DMARACER_exam  DMARETHN_exam  SPPQ3  DMAETHNR_exam  HSAITMOR_exam  \n",
       "SEQN                                                                     \n",
       "14                1            1.0    2.0            3.0          196.0  \n",
       "16                1            3.0    2.0            1.0          198.0  \n",
       "\n",
       "[2 rows x 55 columns]"
      ]
     },
     "execution_count": 84,
     "metadata": {},
     "output_type": "execute_result"
    }
   ],
   "source": [
    "youth_final.head(2)"
   ]
  },
  {
   "cell_type": "markdown",
   "metadata": {},
   "source": [
    "After all of the exclusions, the youth_final dataframe has 2812 entries."
   ]
  },
  {
   "cell_type": "code",
   "execution_count": 85,
   "metadata": {},
   "outputs": [
    {
     "data": {
      "text/html": [
       "<div>\n",
       "<style scoped>\n",
       "    .dataframe tbody tr th:only-of-type {\n",
       "        vertical-align: middle;\n",
       "    }\n",
       "\n",
       "    .dataframe tbody tr th {\n",
       "        vertical-align: top;\n",
       "    }\n",
       "\n",
       "    .dataframe thead th {\n",
       "        text-align: right;\n",
       "    }\n",
       "</style>\n",
       "<table border=\"1\" class=\"dataframe\">\n",
       "  <thead>\n",
       "    <tr style=\"text-align: right;\">\n",
       "      <th></th>\n",
       "      <th>description</th>\n",
       "      <th>variable</th>\n",
       "      <th>position</th>\n",
       "      <th>end position</th>\n",
       "      <th>length</th>\n",
       "    </tr>\n",
       "  </thead>\n",
       "  <tbody>\n",
       "    <tr>\n",
       "      <th>0</th>\n",
       "      <td>Sequence number</td>\n",
       "      <td>SEQN</td>\n",
       "      <td>1</td>\n",
       "      <td>5.0</td>\n",
       "      <td>5</td>\n",
       "    </tr>\n",
       "    <tr>\n",
       "      <th>1</th>\n",
       "      <td>Family sequence number</td>\n",
       "      <td>DMPFSEQ</td>\n",
       "      <td>6</td>\n",
       "      <td>10.0</td>\n",
       "      <td>5</td>\n",
       "    </tr>\n",
       "    <tr>\n",
       "      <th>2</th>\n",
       "      <td>Examination/interview status</td>\n",
       "      <td>DMPSTAT</td>\n",
       "      <td>11</td>\n",
       "      <td>NaN</td>\n",
       "      <td>1</td>\n",
       "    </tr>\n",
       "    <tr>\n",
       "      <th>3</th>\n",
       "      <td>Race-ethnicity</td>\n",
       "      <td>DMARETHN</td>\n",
       "      <td>12</td>\n",
       "      <td>NaN</td>\n",
       "      <td>1</td>\n",
       "    </tr>\n",
       "    <tr>\n",
       "      <th>4</th>\n",
       "      <td>Race</td>\n",
       "      <td>DMARACER</td>\n",
       "      <td>13</td>\n",
       "      <td>NaN</td>\n",
       "      <td>1</td>\n",
       "    </tr>\n",
       "    <tr>\n",
       "      <th>...</th>\n",
       "      <td>...</td>\n",
       "      <td>...</td>\n",
       "      <td>...</td>\n",
       "      <td>...</td>\n",
       "      <td>...</td>\n",
       "    </tr>\n",
       "    <tr>\n",
       "      <th>682</th>\n",
       "      <td>ICD-9-CM code-9th</td>\n",
       "      <td>HYK11AO</td>\n",
       "      <td>2087</td>\n",
       "      <td>2092.0</td>\n",
       "      <td>6</td>\n",
       "    </tr>\n",
       "    <tr>\n",
       "      <th>683</th>\n",
       "      <td>For how long been taking (days)-9th</td>\n",
       "      <td>HYK12SO</td>\n",
       "      <td>2093</td>\n",
       "      <td>2097.0</td>\n",
       "      <td>5</td>\n",
       "    </tr>\n",
       "    <tr>\n",
       "      <th>684</th>\n",
       "      <td>Main respondents relationship to SP</td>\n",
       "      <td>HYM1</td>\n",
       "      <td>2098</td>\n",
       "      <td>2099.0</td>\n",
       "      <td>2</td>\n",
       "    </tr>\n",
       "    <tr>\n",
       "      <th>685</th>\n",
       "      <td>Was SP present during any of interview</td>\n",
       "      <td>HYM2</td>\n",
       "      <td>2100</td>\n",
       "      <td>NaN</td>\n",
       "      <td>1</td>\n",
       "    </tr>\n",
       "    <tr>\n",
       "      <th>686</th>\n",
       "      <td>Quality of interview</td>\n",
       "      <td>HYM3</td>\n",
       "      <td>2101</td>\n",
       "      <td>NaN</td>\n",
       "      <td>1</td>\n",
       "    </tr>\n",
       "  </tbody>\n",
       "</table>\n",
       "<p>687 rows × 5 columns</p>\n",
       "</div>"
      ],
      "text/plain": [
       "                                description  variable  position  end position  \\\n",
       "0                           Sequence number      SEQN         1           5.0   \n",
       "1                    Family sequence number   DMPFSEQ         6          10.0   \n",
       "2              Examination/interview status   DMPSTAT        11           NaN   \n",
       "3                            Race-ethnicity  DMARETHN        12           NaN   \n",
       "4                                      Race  DMARACER        13           NaN   \n",
       "..                                      ...       ...       ...           ...   \n",
       "682                       ICD-9-CM code-9th   HYK11AO      2087        2092.0   \n",
       "683     For how long been taking (days)-9th   HYK12SO      2093        2097.0   \n",
       "684     Main respondents relationship to SP      HYM1      2098        2099.0   \n",
       "685  Was SP present during any of interview      HYM2      2100           NaN   \n",
       "686                    Quality of interview      HYM3      2101           NaN   \n",
       "\n",
       "     length  \n",
       "0         5  \n",
       "1         5  \n",
       "2         1  \n",
       "3         1  \n",
       "4         1  \n",
       "..      ...  \n",
       "682       6  \n",
       "683       5  \n",
       "684       2  \n",
       "685       1  \n",
       "686       1  \n",
       "\n",
       "[687 rows x 5 columns]"
      ]
     },
     "execution_count": 85,
     "metadata": {},
     "output_type": "execute_result"
    }
   ],
   "source": [
    "youth.cols"
   ]
  },
  {
   "cell_type": "markdown",
   "metadata": {},
   "source": [
    "## Add attribute data to youth_final"
   ]
  },
  {
   "cell_type": "markdown",
   "metadata": {},
   "source": [
    "youth_final['PEFROVERFVC'] = youth_final.SPPPEAK / youth_final.SPPFVC"
   ]
  },
  {
   "cell_type": "code",
   "execution_count": 86,
   "metadata": {},
   "outputs": [],
   "source": [
    "youth_final['PEFROVERFVC'] = youth_final.SPPPEAK / youth_final.SPPFVC"
   ]
  },
  {
   "cell_type": "code",
   "execution_count": 87,
   "metadata": {},
   "outputs": [
    {
     "data": {
      "text/plain": [
       "<matplotlib.axes._subplots.AxesSubplot at 0x11c017750>"
      ]
     },
     "execution_count": 87,
     "metadata": {},
     "output_type": "execute_result"
    },
    {
     "data": {
      "image/png": "[encoded data removed]",
      "text/plain": [
       "<Figure size 432x288 with 1 Axes>"
      ]
     },
     "metadata": {
      "needs_background": "light"
     },
     "output_type": "display_data"
    }
   ],
   "source": [
    "youth_final.PEFROVERFVC.hist(bins='auto', range=(0,5))"
   ]
  },
  {
   "cell_type": "markdown",
   "metadata": {},
   "source": [
    "## Reviewing adult file"
   ]
  },
  {
   "cell_type": "code",
   "execution_count": 88,
   "metadata": {},
   "outputs": [
    {
     "data": {
      "text/html": [
       "<div>\n",
       "<style scoped>\n",
       "    .dataframe tbody tr th:only-of-type {\n",
       "        vertical-align: middle;\n",
       "    }\n",
       "\n",
       "    .dataframe tbody tr th {\n",
       "        vertical-align: top;\n",
       "    }\n",
       "\n",
       "    .dataframe thead th {\n",
       "        text-align: right;\n",
       "    }\n",
       "</style>\n",
       "<table border=\"1\" class=\"dataframe\">\n",
       "  <thead>\n",
       "    <tr style=\"text-align: right;\">\n",
       "      <th></th>\n",
       "      <th>description</th>\n",
       "      <th>variable</th>\n",
       "      <th>position</th>\n",
       "      <th>end position</th>\n",
       "      <th>length</th>\n",
       "    </tr>\n",
       "  </thead>\n",
       "  <tbody>\n",
       "    <tr>\n",
       "      <th>0</th>\n",
       "      <td>Sequence number</td>\n",
       "      <td>SEQN</td>\n",
       "      <td>1</td>\n",
       "      <td>5.0</td>\n",
       "      <td>5</td>\n",
       "    </tr>\n",
       "    <tr>\n",
       "      <th>1</th>\n",
       "      <td>Family sequence number</td>\n",
       "      <td>DMPFSEQ</td>\n",
       "      <td>6</td>\n",
       "      <td>10.0</td>\n",
       "      <td>5</td>\n",
       "    </tr>\n",
       "    <tr>\n",
       "      <th>2</th>\n",
       "      <td>Examination/interview status</td>\n",
       "      <td>DMPSTAT</td>\n",
       "      <td>11</td>\n",
       "      <td>NaN</td>\n",
       "      <td>1</td>\n",
       "    </tr>\n",
       "    <tr>\n",
       "      <th>3</th>\n",
       "      <td>Race-ethnicity</td>\n",
       "      <td>DMARETHN</td>\n",
       "      <td>12</td>\n",
       "      <td>NaN</td>\n",
       "      <td>1</td>\n",
       "    </tr>\n",
       "    <tr>\n",
       "      <th>4</th>\n",
       "      <td>Race</td>\n",
       "      <td>DMARACER</td>\n",
       "      <td>13</td>\n",
       "      <td>NaN</td>\n",
       "      <td>1</td>\n",
       "    </tr>\n",
       "    <tr>\n",
       "      <th>...</th>\n",
       "      <td>...</td>\n",
       "      <td>...</td>\n",
       "      <td>...</td>\n",
       "      <td>...</td>\n",
       "      <td>...</td>\n",
       "    </tr>\n",
       "    <tr>\n",
       "      <th>1233</th>\n",
       "      <td>BP statement read to SP (years 5 and 6)</td>\n",
       "      <td>HAZA12</td>\n",
       "      <td>3336</td>\n",
       "      <td>NaN</td>\n",
       "      <td>1</td>\n",
       "    </tr>\n",
       "    <tr>\n",
       "      <th>1234</th>\n",
       "      <td>Average K1 BP from household and MEC</td>\n",
       "      <td>HAZMNK1R</td>\n",
       "      <td>3337</td>\n",
       "      <td>3339.0</td>\n",
       "      <td>3</td>\n",
       "    </tr>\n",
       "    <tr>\n",
       "      <th>1235</th>\n",
       "      <td>Number of BP's used for average K1</td>\n",
       "      <td>HAZNOK1R</td>\n",
       "      <td>3340</td>\n",
       "      <td>3341.0</td>\n",
       "      <td>2</td>\n",
       "    </tr>\n",
       "    <tr>\n",
       "      <th>1236</th>\n",
       "      <td>Average K5 BP from household and MEC</td>\n",
       "      <td>HAZMNK5R</td>\n",
       "      <td>3342</td>\n",
       "      <td>3344.0</td>\n",
       "      <td>3</td>\n",
       "    </tr>\n",
       "    <tr>\n",
       "      <th>1237</th>\n",
       "      <td>Number of BP's used for average K5</td>\n",
       "      <td>HAZNOK5R</td>\n",
       "      <td>3345</td>\n",
       "      <td>3346.0</td>\n",
       "      <td>2</td>\n",
       "    </tr>\n",
       "  </tbody>\n",
       "</table>\n",
       "<p>1238 rows × 5 columns</p>\n",
       "</div>"
      ],
      "text/plain": [
       "                                  description  variable  position  \\\n",
       "0                             Sequence number      SEQN         1   \n",
       "1                      Family sequence number   DMPFSEQ         6   \n",
       "2                Examination/interview status   DMPSTAT        11   \n",
       "3                              Race-ethnicity  DMARETHN        12   \n",
       "4                                        Race  DMARACER        13   \n",
       "...                                       ...       ...       ...   \n",
       "1233  BP statement read to SP (years 5 and 6)    HAZA12      3336   \n",
       "1234     Average K1 BP from household and MEC  HAZMNK1R      3337   \n",
       "1235       Number of BP's used for average K1  HAZNOK1R      3340   \n",
       "1236     Average K5 BP from household and MEC  HAZMNK5R      3342   \n",
       "1237       Number of BP's used for average K5  HAZNOK5R      3345   \n",
       "\n",
       "      end position  length  \n",
       "0              5.0       5  \n",
       "1             10.0       5  \n",
       "2              NaN       1  \n",
       "3              NaN       1  \n",
       "4              NaN       1  \n",
       "...            ...     ...  \n",
       "1233           NaN       1  \n",
       "1234        3339.0       3  \n",
       "1235        3341.0       2  \n",
       "1236        3344.0       3  \n",
       "1237        3346.0       2  \n",
       "\n",
       "[1238 rows x 5 columns]"
      ]
     },
     "execution_count": 88,
     "metadata": {},
     "output_type": "execute_result"
    }
   ],
   "source": [
    "cols = nh.cols\n",
    "cols"
   ]
  },
  {
   "cell_type": "code",
   "execution_count": 89,
   "metadata": {},
   "outputs": [
    {
     "data": {
      "text/html": [
       "<div>\n",
       "<style scoped>\n",
       "    .dataframe tbody tr th:only-of-type {\n",
       "        vertical-align: middle;\n",
       "    }\n",
       "\n",
       "    .dataframe tbody tr th {\n",
       "        vertical-align: top;\n",
       "    }\n",
       "\n",
       "    .dataframe thead th {\n",
       "        text-align: right;\n",
       "    }\n",
       "</style>\n",
       "<table border=\"1\" class=\"dataframe\">\n",
       "  <thead>\n",
       "    <tr style=\"text-align: right;\">\n",
       "      <th></th>\n",
       "      <th>description</th>\n",
       "      <th>variable</th>\n",
       "      <th>position</th>\n",
       "      <th>end position</th>\n",
       "      <th>length</th>\n",
       "    </tr>\n",
       "  </thead>\n",
       "  <tbody>\n",
       "    <tr>\n",
       "      <th>259</th>\n",
       "      <td>Anyone living here smoke cigs in home</td>\n",
       "      <td>HFF1</td>\n",
       "      <td>1356</td>\n",
       "      <td>NaN</td>\n",
       "      <td>1</td>\n",
       "    </tr>\n",
       "    <tr>\n",
       "      <th>260</th>\n",
       "      <td># persons who smoke cigarettes in home</td>\n",
       "      <td>HFF2R</td>\n",
       "      <td>1357</td>\n",
       "      <td>1358.0</td>\n",
       "      <td>2</td>\n",
       "    </tr>\n",
       "    <tr>\n",
       "      <th>261</th>\n",
       "      <td>Cigarettes per day person 1 smokes</td>\n",
       "      <td>HFF3A</td>\n",
       "      <td>1359</td>\n",
       "      <td>1361.0</td>\n",
       "      <td>3</td>\n",
       "    </tr>\n",
       "    <tr>\n",
       "      <th>262</th>\n",
       "      <td>Cigarettes per day person 2 smokes</td>\n",
       "      <td>HFF3B</td>\n",
       "      <td>1362</td>\n",
       "      <td>1364.0</td>\n",
       "      <td>3</td>\n",
       "    </tr>\n",
       "    <tr>\n",
       "      <th>263</th>\n",
       "      <td>Cigarettes per day person 3 smokes</td>\n",
       "      <td>HFF3C</td>\n",
       "      <td>1365</td>\n",
       "      <td>1367.0</td>\n",
       "      <td>3</td>\n",
       "    </tr>\n",
       "    <tr>\n",
       "      <th>264</th>\n",
       "      <td>Cigarettes per day person 4 smokes</td>\n",
       "      <td>HFF3D</td>\n",
       "      <td>1368</td>\n",
       "      <td>1370.0</td>\n",
       "      <td>3</td>\n",
       "    </tr>\n",
       "    <tr>\n",
       "      <th>265</th>\n",
       "      <td>Cigarettes per day person 5 smokes</td>\n",
       "      <td>HFF3E</td>\n",
       "      <td>1371</td>\n",
       "      <td>1373.0</td>\n",
       "      <td>3</td>\n",
       "    </tr>\n",
       "    <tr>\n",
       "      <th>266</th>\n",
       "      <td>Cigarettes per day person 6 smokes</td>\n",
       "      <td>HFF3F</td>\n",
       "      <td>1374</td>\n",
       "      <td>1376.0</td>\n",
       "      <td>3</td>\n",
       "    </tr>\n",
       "    <tr>\n",
       "      <th>419</th>\n",
       "      <td>Doctor told stop smoking for HBP</td>\n",
       "      <td>HAE4D3</td>\n",
       "      <td>1606</td>\n",
       "      <td>NaN</td>\n",
       "      <td>1</td>\n",
       "    </tr>\n",
       "    <tr>\n",
       "      <th>428</th>\n",
       "      <td>Now quit smoking for high blood pressure</td>\n",
       "      <td>HAE5D3</td>\n",
       "      <td>1615</td>\n",
       "      <td>NaN</td>\n",
       "      <td>1</td>\n",
       "    </tr>\n",
       "    <tr>\n",
       "      <th>862</th>\n",
       "      <td>Have you smoked 100+ cigarettes in life</td>\n",
       "      <td>HAR1</td>\n",
       "      <td>2281</td>\n",
       "      <td>NaN</td>\n",
       "      <td>1</td>\n",
       "    </tr>\n",
       "    <tr>\n",
       "      <th>863</th>\n",
       "      <td>Age when you started smoking regularly</td>\n",
       "      <td>HAR2</td>\n",
       "      <td>2282</td>\n",
       "      <td>2284.0</td>\n",
       "      <td>3</td>\n",
       "    </tr>\n",
       "    <tr>\n",
       "      <th>864</th>\n",
       "      <td>Do you smoke cigarettes now</td>\n",
       "      <td>HAR3</td>\n",
       "      <td>2285</td>\n",
       "      <td>NaN</td>\n",
       "      <td>1</td>\n",
       "    </tr>\n",
       "    <tr>\n",
       "      <th>865</th>\n",
       "      <td># cigarettes smoked per day</td>\n",
       "      <td>HAR4S</td>\n",
       "      <td>2286</td>\n",
       "      <td>2288.0</td>\n",
       "      <td>3</td>\n",
       "    </tr>\n",
       "    <tr>\n",
       "      <th>866</th>\n",
       "      <td>How many yrs have you smoked this amount</td>\n",
       "      <td>HAR5</td>\n",
       "      <td>2289</td>\n",
       "      <td>2291.0</td>\n",
       "      <td>3</td>\n",
       "    </tr>\n",
       "    <tr>\n",
       "      <th>867</th>\n",
       "      <td>Ever period of 1+ years when smoked more</td>\n",
       "      <td>HAR6</td>\n",
       "      <td>2292</td>\n",
       "      <td>NaN</td>\n",
       "      <td>1</td>\n",
       "    </tr>\n",
       "    <tr>\n",
       "      <th>868</th>\n",
       "      <td># cigarettes per day when smoking most</td>\n",
       "      <td>HAR7S</td>\n",
       "      <td>2293</td>\n",
       "      <td>2296.0</td>\n",
       "      <td>4</td>\n",
       "    </tr>\n",
       "    <tr>\n",
       "      <th>869</th>\n",
       "      <td>How many years did you smoke that amount</td>\n",
       "      <td>HAR8</td>\n",
       "      <td>2297</td>\n",
       "      <td>2299.0</td>\n",
       "      <td>3</td>\n",
       "    </tr>\n",
       "    <tr>\n",
       "      <th>870</th>\n",
       "      <td>Ever quit smoking for one year or longer</td>\n",
       "      <td>HAR9</td>\n",
       "      <td>2300</td>\n",
       "      <td>NaN</td>\n",
       "      <td>1</td>\n",
       "    </tr>\n",
       "    <tr>\n",
       "      <th>871</th>\n",
       "      <td>How many years not smoked since started</td>\n",
       "      <td>HAR10</td>\n",
       "      <td>2301</td>\n",
       "      <td>2303.0</td>\n",
       "      <td>3</td>\n",
       "    </tr>\n",
       "    <tr>\n",
       "      <th>872</th>\n",
       "      <td>Age last smoke cigarettes reg -- yrs</td>\n",
       "      <td>HAR11R</td>\n",
       "      <td>2304</td>\n",
       "      <td>2306.0</td>\n",
       "      <td>3</td>\n",
       "    </tr>\n",
       "    <tr>\n",
       "      <th>873</th>\n",
       "      <td># cigarettes smoked per day at that time</td>\n",
       "      <td>HAR12S</td>\n",
       "      <td>2307</td>\n",
       "      <td>2309.0</td>\n",
       "      <td>3</td>\n",
       "    </tr>\n",
       "    <tr>\n",
       "      <th>874</th>\n",
       "      <td>Quit smoking,health problem from smoking</td>\n",
       "      <td>HAR13</td>\n",
       "      <td>2310</td>\n",
       "      <td>NaN</td>\n",
       "      <td>1</td>\n",
       "    </tr>\n",
       "    <tr>\n",
       "      <th>886</th>\n",
       "      <td>Ever smoke at least 20 cigars in life</td>\n",
       "      <td>HAR23</td>\n",
       "      <td>2330</td>\n",
       "      <td>NaN</td>\n",
       "      <td>1</td>\n",
       "    </tr>\n",
       "    <tr>\n",
       "      <th>887</th>\n",
       "      <td>Do you now smoke cigars</td>\n",
       "      <td>HAR24</td>\n",
       "      <td>2331</td>\n",
       "      <td>NaN</td>\n",
       "      <td>1</td>\n",
       "    </tr>\n",
       "    <tr>\n",
       "      <th>888</th>\n",
       "      <td>How many cigars do you smoke per day</td>\n",
       "      <td>HAR25</td>\n",
       "      <td>2332</td>\n",
       "      <td>2333.0</td>\n",
       "      <td>2</td>\n",
       "    </tr>\n",
       "    <tr>\n",
       "      <th>889</th>\n",
       "      <td>Ever smoke 20 pipes of tobacco in life</td>\n",
       "      <td>HAR26</td>\n",
       "      <td>2334</td>\n",
       "      <td>NaN</td>\n",
       "      <td>1</td>\n",
       "    </tr>\n",
       "    <tr>\n",
       "      <th>890</th>\n",
       "      <td>Do you now smoke a pipe</td>\n",
       "      <td>HAR27</td>\n",
       "      <td>2335</td>\n",
       "      <td>NaN</td>\n",
       "      <td>1</td>\n",
       "    </tr>\n",
       "    <tr>\n",
       "      <th>891</th>\n",
       "      <td>How many pipefuls tobacco smoke per day</td>\n",
       "      <td>HAR28</td>\n",
       "      <td>2336</td>\n",
       "      <td>2337.0</td>\n",
       "      <td>2</td>\n",
       "    </tr>\n",
       "    <tr>\n",
       "      <th>902</th>\n",
       "      <td>At work, hours per day can smell smoking</td>\n",
       "      <td>HAS14</td>\n",
       "      <td>2354</td>\n",
       "      <td>2355.0</td>\n",
       "      <td>2</td>\n",
       "    </tr>\n",
       "    <tr>\n",
       "      <th>1200</th>\n",
       "      <td>Have you smoked cigarettes last 30 min</td>\n",
       "      <td>HAZA2A4</td>\n",
       "      <td>3269</td>\n",
       "      <td>NaN</td>\n",
       "      <td>1</td>\n",
       "    </tr>\n",
       "  </tbody>\n",
       "</table>\n",
       "</div>"
      ],
      "text/plain": [
       "                                   description variable  position  \\\n",
       "259      Anyone living here smoke cigs in home     HFF1      1356   \n",
       "260     # persons who smoke cigarettes in home    HFF2R      1357   \n",
       "261         Cigarettes per day person 1 smokes    HFF3A      1359   \n",
       "262         Cigarettes per day person 2 smokes    HFF3B      1362   \n",
       "263         Cigarettes per day person 3 smokes    HFF3C      1365   \n",
       "264         Cigarettes per day person 4 smokes    HFF3D      1368   \n",
       "265         Cigarettes per day person 5 smokes    HFF3E      1371   \n",
       "266         Cigarettes per day person 6 smokes    HFF3F      1374   \n",
       "419           Doctor told stop smoking for HBP   HAE4D3      1606   \n",
       "428   Now quit smoking for high blood pressure   HAE5D3      1615   \n",
       "862    Have you smoked 100+ cigarettes in life     HAR1      2281   \n",
       "863     Age when you started smoking regularly     HAR2      2282   \n",
       "864                Do you smoke cigarettes now     HAR3      2285   \n",
       "865                # cigarettes smoked per day    HAR4S      2286   \n",
       "866   How many yrs have you smoked this amount     HAR5      2289   \n",
       "867   Ever period of 1+ years when smoked more     HAR6      2292   \n",
       "868     # cigarettes per day when smoking most    HAR7S      2293   \n",
       "869   How many years did you smoke that amount     HAR8      2297   \n",
       "870   Ever quit smoking for one year or longer     HAR9      2300   \n",
       "871    How many years not smoked since started    HAR10      2301   \n",
       "872       Age last smoke cigarettes reg -- yrs   HAR11R      2304   \n",
       "873   # cigarettes smoked per day at that time   HAR12S      2307   \n",
       "874   Quit smoking,health problem from smoking    HAR13      2310   \n",
       "886      Ever smoke at least 20 cigars in life    HAR23      2330   \n",
       "887                    Do you now smoke cigars    HAR24      2331   \n",
       "888       How many cigars do you smoke per day    HAR25      2332   \n",
       "889     Ever smoke 20 pipes of tobacco in life    HAR26      2334   \n",
       "890                    Do you now smoke a pipe    HAR27      2335   \n",
       "891    How many pipefuls tobacco smoke per day    HAR28      2336   \n",
       "902   At work, hours per day can smell smoking    HAS14      2354   \n",
       "1200    Have you smoked cigarettes last 30 min  HAZA2A4      3269   \n",
       "\n",
       "      end position  length  \n",
       "259            NaN       1  \n",
       "260         1358.0       2  \n",
       "261         1361.0       3  \n",
       "262         1364.0       3  \n",
       "263         1367.0       3  \n",
       "264         1370.0       3  \n",
       "265         1373.0       3  \n",
       "266         1376.0       3  \n",
       "419            NaN       1  \n",
       "428            NaN       1  \n",
       "862            NaN       1  \n",
       "863         2284.0       3  \n",
       "864            NaN       1  \n",
       "865         2288.0       3  \n",
       "866         2291.0       3  \n",
       "867            NaN       1  \n",
       "868         2296.0       4  \n",
       "869         2299.0       3  \n",
       "870            NaN       1  \n",
       "871         2303.0       3  \n",
       "872         2306.0       3  \n",
       "873         2309.0       3  \n",
       "874            NaN       1  \n",
       "886            NaN       1  \n",
       "887            NaN       1  \n",
       "888         2333.0       2  \n",
       "889            NaN       1  \n",
       "890            NaN       1  \n",
       "891         2337.0       2  \n",
       "902         2355.0       2  \n",
       "1200           NaN       1  "
      ]
     },
     "execution_count": 89,
     "metadata": {},
     "output_type": "execute_result"
    }
   ],
   "source": [
    "cols[cols.description.str.contains('(?:smok|cig)')]"
   ]
  },
  {
   "cell_type": "code",
   "execution_count": 90,
   "metadata": {},
   "outputs": [
    {
     "data": {
      "image/png": "[encoded data removed]",
      "text/plain": [
       "<Figure size 432x288 with 1 Axes>"
      ]
     },
     "metadata": {
      "needs_background": "light"
     },
     "output_type": "display_data"
    }
   ],
   "source": [
    "nh.hist_amount('HAR4S');"
   ]
  },
  {
   "cell_type": "code",
   "execution_count": 91,
   "metadata": {},
   "outputs": [
    {
     "data": {
      "image/png": "[encoded data removed]",
      "text/plain": [
       "<Figure size 432x288 with 1 Axes>"
      ]
     },
     "metadata": {
      "needs_background": "light"
     },
     "output_type": "display_data"
    }
   ],
   "source": [
    "nh.hist_amount('HSAITMOR',outliers=1200);"
   ]
  },
  {
   "cell_type": "code",
   "execution_count": 92,
   "metadata": {},
   "outputs": [
    {
     "data": {
      "image/png": "[encoded data removed]",
      "text/plain": [
       "<Figure size 432x288 with 1 Axes>"
      ]
     },
     "metadata": {
      "needs_background": "light"
     },
     "output_type": "display_data"
    }
   ],
   "source": [
    "nh.hist_amount('DMARETHN', outliers=25);"
   ]
  },
  {
   "cell_type": "code",
   "execution_count": 93,
   "metadata": {},
   "outputs": [
    {
     "name": "stderr",
     "output_type": "stream",
     "text": [
      "/usr/local/lib/python3.7/site-packages/pandas/core/strings.py:1952: UserWarning: This pattern has match groups. To actually get the groups, use str.extract.\n",
      "  return func(self, *args, **kwargs)\n"
     ]
    },
    {
     "data": {
      "text/html": [
       "<div>\n",
       "<style scoped>\n",
       "    .dataframe tbody tr th:only-of-type {\n",
       "        vertical-align: middle;\n",
       "    }\n",
       "\n",
       "    .dataframe tbody tr th {\n",
       "        vertical-align: top;\n",
       "    }\n",
       "\n",
       "    .dataframe thead th {\n",
       "        text-align: right;\n",
       "    }\n",
       "</style>\n",
       "<table border=\"1\" class=\"dataframe\">\n",
       "  <thead>\n",
       "    <tr style=\"text-align: right;\">\n",
       "      <th></th>\n",
       "      <th>description</th>\n",
       "      <th>variable</th>\n",
       "      <th>position</th>\n",
       "      <th>end position</th>\n",
       "      <th>length</th>\n",
       "    </tr>\n",
       "  </thead>\n",
       "  <tbody>\n",
       "    <tr>\n",
       "      <th>210</th>\n",
       "      <td>Mother's weight calculated in pounds</td>\n",
       "      <td>HFC2S</td>\n",
       "      <td>1300</td>\n",
       "      <td>NaN</td>\n",
       "      <td>1</td>\n",
       "    </tr>\n",
       "    <tr>\n",
       "      <th>212</th>\n",
       "      <td>Father's weight calculated in pounds</td>\n",
       "      <td>HFC4S</td>\n",
       "      <td>1302</td>\n",
       "      <td>NaN</td>\n",
       "      <td>1</td>\n",
       "    </tr>\n",
       "    <tr>\n",
       "      <th>414</th>\n",
       "      <td>Doctor told control/lose weight for HBP</td>\n",
       "      <td>HAE4B</td>\n",
       "      <td>1601</td>\n",
       "      <td>NaN</td>\n",
       "      <td>1</td>\n",
       "    </tr>\n",
       "    <tr>\n",
       "      <th>424</th>\n",
       "      <td>Now controlling or losing weight for HBP</td>\n",
       "      <td>HAE5B</td>\n",
       "      <td>1611</td>\n",
       "      <td>NaN</td>\n",
       "      <td>1</td>\n",
       "    </tr>\n",
       "    <tr>\n",
       "      <th>435</th>\n",
       "      <td>Doctor told lose weight for HBC</td>\n",
       "      <td>HAE8B</td>\n",
       "      <td>1622</td>\n",
       "      <td>NaN</td>\n",
       "      <td>1</td>\n",
       "    </tr>\n",
       "    <tr>\n",
       "      <th>439</th>\n",
       "      <td>Now losing weight to lower cholesterol</td>\n",
       "      <td>HAE9B</td>\n",
       "      <td>1626</td>\n",
       "      <td>NaN</td>\n",
       "      <td>1</td>\n",
       "    </tr>\n",
       "    <tr>\n",
       "      <th>444</th>\n",
       "      <td>On own for HBC, controlled/lost weight</td>\n",
       "      <td>HAE11B</td>\n",
       "      <td>1631</td>\n",
       "      <td>NaN</td>\n",
       "      <td>1</td>\n",
       "    </tr>\n",
       "    <tr>\n",
       "      <th>599</th>\n",
       "      <td>Difficulty lifting or carrying 10 pounds</td>\n",
       "      <td>HAH4</td>\n",
       "      <td>1807</td>\n",
       "      <td>NaN</td>\n",
       "      <td>1</td>\n",
       "    </tr>\n",
       "    <tr>\n",
       "      <th>705</th>\n",
       "      <td>Consider self over/under/right weight</td>\n",
       "      <td>HAM11</td>\n",
       "      <td>1964</td>\n",
       "      <td>NaN</td>\n",
       "      <td>1</td>\n",
       "    </tr>\n",
       "    <tr>\n",
       "      <th>707</th>\n",
       "      <td>Tried to lose weight in past 12 months</td>\n",
       "      <td>HAM13</td>\n",
       "      <td>1966</td>\n",
       "      <td>NaN</td>\n",
       "      <td>1</td>\n",
       "    </tr>\n",
       "    <tr>\n",
       "      <th>953</th>\n",
       "      <td>In the past month, did you lift weights</td>\n",
       "      <td>HAT16</td>\n",
       "      <td>2442</td>\n",
       "      <td>NaN</td>\n",
       "      <td>1</td>\n",
       "    </tr>\n",
       "    <tr>\n",
       "      <th>954</th>\n",
       "      <td>Lift weights activity - intensity rating</td>\n",
       "      <td>HAT16MET</td>\n",
       "      <td>2443</td>\n",
       "      <td>NaN</td>\n",
       "      <td>1</td>\n",
       "    </tr>\n",
       "    <tr>\n",
       "      <th>955</th>\n",
       "      <td>Past mo, how often did you lift weights</td>\n",
       "      <td>HAT17S</td>\n",
       "      <td>2444</td>\n",
       "      <td>2447.0</td>\n",
       "      <td>4</td>\n",
       "    </tr>\n",
       "    <tr>\n",
       "      <th>1192</th>\n",
       "      <td>Observed SP:overweight, average, or thin</td>\n",
       "      <td>HAY11J</td>\n",
       "      <td>3232</td>\n",
       "      <td>NaN</td>\n",
       "      <td>1</td>\n",
       "    </tr>\n",
       "  </tbody>\n",
       "</table>\n",
       "</div>"
      ],
      "text/plain": [
       "                                   description  variable  position  \\\n",
       "210       Mother's weight calculated in pounds     HFC2S      1300   \n",
       "212       Father's weight calculated in pounds     HFC4S      1302   \n",
       "414    Doctor told control/lose weight for HBP     HAE4B      1601   \n",
       "424   Now controlling or losing weight for HBP     HAE5B      1611   \n",
       "435            Doctor told lose weight for HBC     HAE8B      1622   \n",
       "439     Now losing weight to lower cholesterol     HAE9B      1626   \n",
       "444     On own for HBC, controlled/lost weight    HAE11B      1631   \n",
       "599   Difficulty lifting or carrying 10 pounds      HAH4      1807   \n",
       "705      Consider self over/under/right weight     HAM11      1964   \n",
       "707     Tried to lose weight in past 12 months     HAM13      1966   \n",
       "953    In the past month, did you lift weights     HAT16      2442   \n",
       "954   Lift weights activity - intensity rating  HAT16MET      2443   \n",
       "955    Past mo, how often did you lift weights    HAT17S      2444   \n",
       "1192  Observed SP:overweight, average, or thin    HAY11J      3232   \n",
       "\n",
       "      end position  length  \n",
       "210            NaN       1  \n",
       "212            NaN       1  \n",
       "414            NaN       1  \n",
       "424            NaN       1  \n",
       "435            NaN       1  \n",
       "439            NaN       1  \n",
       "444            NaN       1  \n",
       "599            NaN       1  \n",
       "705            NaN       1  \n",
       "707            NaN       1  \n",
       "953            NaN       1  \n",
       "954            NaN       1  \n",
       "955         2447.0       4  \n",
       "1192           NaN       1  "
      ]
     },
     "execution_count": 93,
     "metadata": {},
     "output_type": "execute_result"
    }
   ],
   "source": [
    "cols[cols.description.str.contains('weight|pounds') & ~cols.description.str.contains('(sample|interview|weighting|exam)')]"
   ]
  },
  {
   "cell_type": "code",
   "execution_count": 94,
   "metadata": {},
   "outputs": [
    {
     "name": "stderr",
     "output_type": "stream",
     "text": [
      "/usr/local/lib/python3.7/site-packages/pandas/core/strings.py:1952: UserWarning: This pattern has match groups. To actually get the groups, use str.extract.\n",
      "  return func(self, *args, **kwargs)\n"
     ]
    },
    {
     "data": {
      "text/html": [
       "<div>\n",
       "<style scoped>\n",
       "    .dataframe tbody tr th:only-of-type {\n",
       "        vertical-align: middle;\n",
       "    }\n",
       "\n",
       "    .dataframe tbody tr th {\n",
       "        vertical-align: top;\n",
       "    }\n",
       "\n",
       "    .dataframe thead th {\n",
       "        text-align: right;\n",
       "    }\n",
       "</style>\n",
       "<table border=\"1\" class=\"dataframe\">\n",
       "  <thead>\n",
       "    <tr style=\"text-align: right;\">\n",
       "      <th></th>\n",
       "      <th>description</th>\n",
       "      <th>variable</th>\n",
       "      <th>position</th>\n",
       "      <th>end position</th>\n",
       "      <th>length</th>\n",
       "    </tr>\n",
       "  </thead>\n",
       "  <tbody>\n",
       "    <tr>\n",
       "      <th>211</th>\n",
       "      <td>Mother's height calculated in inches</td>\n",
       "      <td>HFC3S</td>\n",
       "      <td>1301</td>\n",
       "      <td>NaN</td>\n",
       "      <td>1</td>\n",
       "    </tr>\n",
       "    <tr>\n",
       "      <th>213</th>\n",
       "      <td>Father's height calculated in inches</td>\n",
       "      <td>HFC5S</td>\n",
       "      <td>1303</td>\n",
       "      <td>NaN</td>\n",
       "      <td>1</td>\n",
       "    </tr>\n",
       "  </tbody>\n",
       "</table>\n",
       "</div>"
      ],
      "text/plain": [
       "                              description variable  position  end position  \\\n",
       "211  Mother's height calculated in inches    HFC3S      1301           NaN   \n",
       "213  Father's height calculated in inches    HFC5S      1303           NaN   \n",
       "\n",
       "     length  \n",
       "211       1  \n",
       "213       1  "
      ]
     },
     "execution_count": 94,
     "metadata": {},
     "output_type": "execute_result"
    }
   ],
   "source": [
    "cols[cols.description.str.contains('height|cm') & ~cols.description.str.contains('(sample|interview|weighting|exam)')]"
   ]
  },
  {
   "cell_type": "code",
   "execution_count": 95,
   "metadata": {},
   "outputs": [
    {
     "data": {
      "text/html": [
       "<div>\n",
       "<style scoped>\n",
       "    .dataframe tbody tr th:only-of-type {\n",
       "        vertical-align: middle;\n",
       "    }\n",
       "\n",
       "    .dataframe tbody tr th {\n",
       "        vertical-align: top;\n",
       "    }\n",
       "\n",
       "    .dataframe thead th {\n",
       "        text-align: right;\n",
       "    }\n",
       "</style>\n",
       "<table border=\"1\" class=\"dataframe\">\n",
       "  <thead>\n",
       "    <tr style=\"text-align: right;\">\n",
       "      <th></th>\n",
       "      <th>description</th>\n",
       "      <th>variable</th>\n",
       "      <th>position</th>\n",
       "      <th>end position</th>\n",
       "      <th>length</th>\n",
       "    </tr>\n",
       "  </thead>\n",
       "  <tbody>\n",
       "    <tr>\n",
       "      <th>450</th>\n",
       "      <td>If stand still is chest pain relieved</td>\n",
       "      <td>HAF5</td>\n",
       "      <td>1637</td>\n",
       "      <td>NaN</td>\n",
       "      <td>1</td>\n",
       "    </tr>\n",
       "    <tr>\n",
       "      <th>466</th>\n",
       "      <td>Leg pain begin while stand still/sitting</td>\n",
       "      <td>HAF15</td>\n",
       "      <td>1658</td>\n",
       "      <td>NaN</td>\n",
       "      <td>1</td>\n",
       "    </tr>\n",
       "    <tr>\n",
       "      <th>472</th>\n",
       "      <td>Is leg pain relieved if you stand still</td>\n",
       "      <td>HAF21</td>\n",
       "      <td>1664</td>\n",
       "      <td>NaN</td>\n",
       "      <td>1</td>\n",
       "    </tr>\n",
       "    <tr>\n",
       "      <th>478</th>\n",
       "      <td>Problem with ability to speak/understand</td>\n",
       "      <td>HAF27</td>\n",
       "      <td>1670</td>\n",
       "      <td>NaN</td>\n",
       "      <td>1</td>\n",
       "    </tr>\n",
       "    <tr>\n",
       "      <th>604</th>\n",
       "      <td>Difficulty standing from armless chair</td>\n",
       "      <td>HAH9</td>\n",
       "      <td>1812</td>\n",
       "      <td>NaN</td>\n",
       "      <td>1</td>\n",
       "    </tr>\n",
       "  </tbody>\n",
       "</table>\n",
       "</div>"
      ],
      "text/plain": [
       "                                  description variable  position  \\\n",
       "450     If stand still is chest pain relieved     HAF5      1637   \n",
       "466  Leg pain begin while stand still/sitting    HAF15      1658   \n",
       "472   Is leg pain relieved if you stand still    HAF21      1664   \n",
       "478  Problem with ability to speak/understand    HAF27      1670   \n",
       "604    Difficulty standing from armless chair     HAH9      1812   \n",
       "\n",
       "     end position  length  \n",
       "450           NaN       1  \n",
       "466           NaN       1  \n",
       "472           NaN       1  \n",
       "478           NaN       1  \n",
       "604           NaN       1  "
      ]
     },
     "execution_count": 95,
     "metadata": {},
     "output_type": "execute_result"
    }
   ],
   "source": [
    "cols[cols.description.str.contains('stand') ]"
   ]
  },
  {
   "cell_type": "markdown",
   "metadata": {},
   "source": [
    "Test Markdown"
   ]
  },
  {
   "cell_type": "code",
   "execution_count": 96,
   "metadata": {},
   "outputs": [
    {
     "data": {
      "image/png": "[encoded data removed]",
      "text/plain": [
       "<Figure size 432x288 with 1 Axes>"
      ]
     },
     "metadata": {
      "needs_background": "light"
     },
     "output_type": "display_data"
    }
   ],
   "source": [
    "nh.hist_amount('HAR4S');"
   ]
  },
  {
   "cell_type": "code",
   "execution_count": 97,
   "metadata": {},
   "outputs": [
    {
     "data": {
      "image/png": "[encoded data removed]",
      "text/plain": [
       "<Figure size 432x288 with 1 Axes>"
      ]
     },
     "metadata": {
      "needs_background": "light"
     },
     "output_type": "display_data"
    }
   ],
   "source": [
    "nh.hist_amount('HSAITMOR',outliers=1200);"
   ]
  },
  {
   "cell_type": "code",
   "execution_count": 98,
   "metadata": {},
   "outputs": [],
   "source": [
    "exam.data['PEFROVERFVC'] = exam.data.SPPPEAK / exam.data.SPPFVC"
   ]
  },
  {
   "cell_type": "code",
   "execution_count": 99,
   "metadata": {},
   "outputs": [
    {
     "data": {
      "text/plain": [
       "<matplotlib.axes._subplots.AxesSubplot at 0x11bbe9450>"
      ]
     },
     "execution_count": 99,
     "metadata": {},
     "output_type": "execute_result"
    },
    {
     "data": {
      "image/png": "[encoded data removed]",
      "text/plain": [
       "<Figure size 432x288 with 1 Axes>"
      ]
     },
     "metadata": {
      "needs_background": "light"
     },
     "output_type": "display_data"
    }
   ],
   "source": [
    "exam.data.PEFROVERFVC.hist(bins='auto', range=(0,5))"
   ]
  },
  {
   "cell_type": "markdown",
   "metadata": {},
   "source": [
    "## Now analyze adult_final"
   ]
  },
  {
   "cell_type": "code",
   "execution_count": 100,
   "metadata": {},
   "outputs": [],
   "source": [
    "adult_final['PEFROVERFVC'] = adult_final.SPPPEAK / adult_final.SPPFVC"
   ]
  },
  {
   "cell_type": "code",
   "execution_count": 101,
   "metadata": {},
   "outputs": [
    {
     "data": {
      "text/plain": [
       "<matplotlib.axes._subplots.AxesSubplot at 0x11ea23090>"
      ]
     },
     "execution_count": 101,
     "metadata": {},
     "output_type": "execute_result"
    },
    {
     "data": {
      "image/png": "[encoded data removed]",
      "text/plain": [
       "<Figure size 432x288 with 1 Axes>"
      ]
     },
     "metadata": {
      "needs_background": "light"
     },
     "output_type": "display_data"
    }
   ],
   "source": [
    "adult_final.PEFROVERFVC.hist(bins='auto', range=(0,5))"
   ]
  },
  {
   "cell_type": "code",
   "execution_count": 102,
   "metadata": {},
   "outputs": [
    {
     "data": {
      "text/plain": [
       "<matplotlib.axes._subplots.AxesSubplot at 0x11d5fc910>"
      ]
     },
     "execution_count": 102,
     "metadata": {},
     "output_type": "execute_result"
    },
    {
     "data": {
      "image/png": "[encoded data removed]",
      "text/plain": [
       "<Figure size 432x288 with 1 Axes>"
      ]
     },
     "metadata": {
      "needs_background": "light"
     },
     "output_type": "display_data"
    }
   ],
   "source": [
    "adult_final.HSAITMOR.hist(bins='auto', range=(0,1200))"
   ]
  },
  {
   "cell_type": "markdown",
   "metadata": {},
   "source": [
    "## Create new fields in adult_final and youth_final"
   ]
  },
  {
   "cell_type": "markdown",
   "metadata": {},
   "source": [
    "Create new fields (XoY = X/Y) in youth_final and adult_final"
   ]
  },
  {
   "cell_type": "code",
   "execution_count": 103,
   "metadata": {},
   "outputs": [],
   "source": [
    "oldvariables = [ 'SPPFEV1', 'SPPFEV3', 'SPPFEV6', 'SPPFVC','SPPPEAK','SPPMMEF', 'SPPFEF75', 'SPPEXPIR']"
   ]
  },
  {
   "cell_type": "markdown",
   "metadata": {},
   "source": [
    "## Create new variables in adult_final final and youth_final"
   ]
  },
  {
   "cell_type": "markdown",
   "metadata": {},
   "source": [
    "newvariables = ['FEV1OFVC', 'FEV1OFEV6', 'PEFROFVC', 'PEFROFEV6', 'PEFROFEV1', 'FEV3OFVC', 'FEV6OFVC']"
   ]
  },
  {
   "cell_type": "markdown",
   "metadata": {},
   "source": [
    "def createvariables(df):\n",
    "    df['FEV1OFVC'] = df.SPPFEV1 / df.SPPFVC\n",
    "    df['FEV1OFEV6']= df.SPPFEV1 / df.SPPFEV6\n",
    "    df['PEFROFVC'] = df.SPPPEAK / df.SPPFVC\n",
    "    df['PEFROFEV6']= df.SPPPEAK / df.SPPFEV6\n",
    "    df['PEFROFEV1'] = df.SPPPEAK / df.SPPFEV1\n",
    "    df['FEV3OFVC'] = df.SPPFEV3 / df.SPPFVC\n",
    "    df['FEV6OFVC'] = df.SPPFEV6 / df.SPPFVC\n",
    "    return"
   ]
  },
  {
   "cell_type": "code",
   "execution_count": 104,
   "metadata": {},
   "outputs": [],
   "source": [
    "def createvariables(df):\n",
    "    df['FEV1OFVC'] = df.SPPFEV1 / df.SPPFVC\n",
    "    df['FEV1OFEV6']= df.SPPFEV1 / df.SPPFEV6\n",
    "    df['PEFROFVC'] = df.SPPPEAK / df.SPPFVC\n",
    "    df['PEFROFEV6']= df.SPPPEAK / df.SPPFEV6\n",
    "    df['PEFROFEV1'] = df.SPPPEAK / df.SPPFEV1\n",
    "    df['FEV3OFVC'] = df.SPPFEV3 / df.SPPFVC\n",
    "    df['FEV6OFVC'] = df.SPPFEV6 / df.SPPFVC\n",
    "    return\n",
    "    "
   ]
  },
  {
   "cell_type": "markdown",
   "metadata": {},
   "source": [
    "createvariables(adult_final) then youth_final"
   ]
  },
  {
   "cell_type": "code",
   "execution_count": 105,
   "metadata": {},
   "outputs": [],
   "source": [
    "createvariables(adult_final)"
   ]
  },
  {
   "cell_type": "code",
   "execution_count": 106,
   "metadata": {},
   "outputs": [],
   "source": [
    "createvariables(youth_final)"
   ]
  },
  {
   "cell_type": "code",
   "execution_count": 107,
   "metadata": {},
   "outputs": [
    {
     "data": {
      "text/plain": [
       "<matplotlib.axes._subplots.AxesSubplot at 0x120b5efd0>"
      ]
     },
     "execution_count": 107,
     "metadata": {},
     "output_type": "execute_result"
    },
    {
     "data": {
      "image/png": "[encoded data removed]",
      "text/plain": [
       "<Figure size 432x288 with 1 Axes>"
      ]
     },
     "metadata": {
      "needs_background": "light"
     },
     "output_type": "display_data"
    }
   ],
   "source": [
    "adult_final.FEV1OFVC.hist(bins='auto')"
   ]
  },
  {
   "cell_type": "code",
   "execution_count": 108,
   "metadata": {},
   "outputs": [
    {
     "data": {
      "text/html": [
       "<div>\n",
       "<style scoped>\n",
       "    .dataframe tbody tr th:only-of-type {\n",
       "        vertical-align: middle;\n",
       "    }\n",
       "\n",
       "    .dataframe tbody tr th {\n",
       "        vertical-align: top;\n",
       "    }\n",
       "\n",
       "    .dataframe thead th {\n",
       "        text-align: right;\n",
       "    }\n",
       "</style>\n",
       "<table border=\"1\" class=\"dataframe\">\n",
       "  <thead>\n",
       "    <tr style=\"text-align: right;\">\n",
       "      <th></th>\n",
       "      <th>HAR1</th>\n",
       "      <th>HAR23</th>\n",
       "      <th>HAR26</th>\n",
       "      <th>HAC1E</th>\n",
       "      <th>HAC1F</th>\n",
       "      <th>HAC1G</th>\n",
       "      <th>HAC1O</th>\n",
       "      <th>HAL6</th>\n",
       "      <th>HAL10</th>\n",
       "      <th>HAL1</th>\n",
       "      <th>...</th>\n",
       "      <th>DMAETHNR_exam</th>\n",
       "      <th>HSAITMOR_exam</th>\n",
       "      <th>PEFROVERFVC</th>\n",
       "      <th>FEV1OFVC</th>\n",
       "      <th>FEV1OFEV6</th>\n",
       "      <th>PEFROFVC</th>\n",
       "      <th>PEFROFEV6</th>\n",
       "      <th>PEFROFEV1</th>\n",
       "      <th>FEV3OFVC</th>\n",
       "      <th>FEV6OFVC</th>\n",
       "    </tr>\n",
       "  </thead>\n",
       "  <tbody>\n",
       "    <tr>\n",
       "      <th>count</th>\n",
       "      <td>4944.0</td>\n",
       "      <td>4944.0</td>\n",
       "      <td>4944.000000</td>\n",
       "      <td>4944.0</td>\n",
       "      <td>4944.0</td>\n",
       "      <td>4944.000000</td>\n",
       "      <td>4944.000000</td>\n",
       "      <td>4944.000000</td>\n",
       "      <td>4944.000000</td>\n",
       "      <td>4944.0</td>\n",
       "      <td>...</td>\n",
       "      <td>4944.000000</td>\n",
       "      <td>4944.000000</td>\n",
       "      <td>4944.000000</td>\n",
       "      <td>4944.000000</td>\n",
       "      <td>4944.000000</td>\n",
       "      <td>4944.000000</td>\n",
       "      <td>4944.000000</td>\n",
       "      <td>4944.000000</td>\n",
       "      <td>4944.000000</td>\n",
       "      <td>4944.000000</td>\n",
       "    </tr>\n",
       "    <tr>\n",
       "      <th>mean</th>\n",
       "      <td>2.0</td>\n",
       "      <td>2.0</td>\n",
       "      <td>2.003641</td>\n",
       "      <td>2.0</td>\n",
       "      <td>2.0</td>\n",
       "      <td>2.001214</td>\n",
       "      <td>2.001416</td>\n",
       "      <td>2.001416</td>\n",
       "      <td>1.988269</td>\n",
       "      <td>2.0</td>\n",
       "      <td>...</td>\n",
       "      <td>2.279531</td>\n",
       "      <td>461.141181</td>\n",
       "      <td>1.976936</td>\n",
       "      <td>0.827377</td>\n",
       "      <td>0.837894</td>\n",
       "      <td>1.976936</td>\n",
       "      <td>2.003842</td>\n",
       "      <td>2.389732</td>\n",
       "      <td>1.119696</td>\n",
       "      <td>1.151874</td>\n",
       "    </tr>\n",
       "    <tr>\n",
       "      <th>std</th>\n",
       "      <td>0.0</td>\n",
       "      <td>0.0</td>\n",
       "      <td>0.147769</td>\n",
       "      <td>0.0</td>\n",
       "      <td>0.0</td>\n",
       "      <td>0.085332</td>\n",
       "      <td>0.099554</td>\n",
       "      <td>0.099554</td>\n",
       "      <td>0.169085</td>\n",
       "      <td>0.0</td>\n",
       "      <td>...</td>\n",
       "      <td>0.960234</td>\n",
       "      <td>282.861426</td>\n",
       "      <td>0.371922</td>\n",
       "      <td>0.073215</td>\n",
       "      <td>0.084317</td>\n",
       "      <td>0.371922</td>\n",
       "      <td>0.396056</td>\n",
       "      <td>0.402936</td>\n",
       "      <td>2.578364</td>\n",
       "      <td>2.575980</td>\n",
       "    </tr>\n",
       "    <tr>\n",
       "      <th>min</th>\n",
       "      <td>2.0</td>\n",
       "      <td>2.0</td>\n",
       "      <td>2.000000</td>\n",
       "      <td>2.0</td>\n",
       "      <td>2.0</td>\n",
       "      <td>2.000000</td>\n",
       "      <td>2.000000</td>\n",
       "      <td>2.000000</td>\n",
       "      <td>1.000000</td>\n",
       "      <td>2.0</td>\n",
       "      <td>...</td>\n",
       "      <td>1.000000</td>\n",
       "      <td>204.000000</td>\n",
       "      <td>0.437173</td>\n",
       "      <td>0.430769</td>\n",
       "      <td>0.014389</td>\n",
       "      <td>0.437173</td>\n",
       "      <td>0.026089</td>\n",
       "      <td>0.989630</td>\n",
       "      <td>0.689231</td>\n",
       "      <td>0.794219</td>\n",
       "    </tr>\n",
       "    <tr>\n",
       "      <th>25%</th>\n",
       "      <td>2.0</td>\n",
       "      <td>2.0</td>\n",
       "      <td>2.000000</td>\n",
       "      <td>2.0</td>\n",
       "      <td>2.0</td>\n",
       "      <td>2.000000</td>\n",
       "      <td>2.000000</td>\n",
       "      <td>2.000000</td>\n",
       "      <td>2.000000</td>\n",
       "      <td>2.0</td>\n",
       "      <td>...</td>\n",
       "      <td>1.000000</td>\n",
       "      <td>287.000000</td>\n",
       "      <td>1.727486</td>\n",
       "      <td>0.783432</td>\n",
       "      <td>0.803209</td>\n",
       "      <td>1.727486</td>\n",
       "      <td>1.757446</td>\n",
       "      <td>2.120506</td>\n",
       "      <td>0.926235</td>\n",
       "      <td>0.973650</td>\n",
       "    </tr>\n",
       "    <tr>\n",
       "      <th>50%</th>\n",
       "      <td>2.0</td>\n",
       "      <td>2.0</td>\n",
       "      <td>2.000000</td>\n",
       "      <td>2.0</td>\n",
       "      <td>2.0</td>\n",
       "      <td>2.000000</td>\n",
       "      <td>2.000000</td>\n",
       "      <td>2.000000</td>\n",
       "      <td>2.000000</td>\n",
       "      <td>2.0</td>\n",
       "      <td>...</td>\n",
       "      <td>3.000000</td>\n",
       "      <td>401.000000</td>\n",
       "      <td>1.962849</td>\n",
       "      <td>0.831555</td>\n",
       "      <td>0.842880</td>\n",
       "      <td>1.962849</td>\n",
       "      <td>1.997410</td>\n",
       "      <td>2.369035</td>\n",
       "      <td>0.958688</td>\n",
       "      <td>0.991842</td>\n",
       "    </tr>\n",
       "    <tr>\n",
       "      <th>75%</th>\n",
       "      <td>2.0</td>\n",
       "      <td>2.0</td>\n",
       "      <td>2.000000</td>\n",
       "      <td>2.0</td>\n",
       "      <td>2.0</td>\n",
       "      <td>2.000000</td>\n",
       "      <td>2.000000</td>\n",
       "      <td>2.000000</td>\n",
       "      <td>2.000000</td>\n",
       "      <td>2.0</td>\n",
       "      <td>...</td>\n",
       "      <td>3.000000</td>\n",
       "      <td>579.250000</td>\n",
       "      <td>2.210040</td>\n",
       "      <td>0.874832</td>\n",
       "      <td>0.880608</td>\n",
       "      <td>2.210040</td>\n",
       "      <td>2.245542</td>\n",
       "      <td>2.642060</td>\n",
       "      <td>0.985477</td>\n",
       "      <td>0.999456</td>\n",
       "    </tr>\n",
       "    <tr>\n",
       "      <th>max</th>\n",
       "      <td>2.0</td>\n",
       "      <td>2.0</td>\n",
       "      <td>8.000000</td>\n",
       "      <td>2.0</td>\n",
       "      <td>2.0</td>\n",
       "      <td>8.000000</td>\n",
       "      <td>9.000000</td>\n",
       "      <td>9.000000</td>\n",
       "      <td>8.000000</td>\n",
       "      <td>2.0</td>\n",
       "      <td>...</td>\n",
       "      <td>3.000000</td>\n",
       "      <td>9999.000000</td>\n",
       "      <td>3.676483</td>\n",
       "      <td>1.000000</td>\n",
       "      <td>1.000422</td>\n",
       "      <td>3.676483</td>\n",
       "      <td>3.588963</td>\n",
       "      <td>4.287374</td>\n",
       "      <td>66.682671</td>\n",
       "      <td>66.682671</td>\n",
       "    </tr>\n",
       "  </tbody>\n",
       "</table>\n",
       "<p>8 rows × 68 columns</p>\n",
       "</div>"
      ],
      "text/plain": [
       "         HAR1   HAR23        HAR26   HAC1E   HAC1F        HAC1G        HAC1O  \\\n",
       "count  4944.0  4944.0  4944.000000  4944.0  4944.0  4944.000000  4944.000000   \n",
       "mean      2.0     2.0     2.003641     2.0     2.0     2.001214     2.001416   \n",
       "std       0.0     0.0     0.147769     0.0     0.0     0.085332     0.099554   \n",
       "min       2.0     2.0     2.000000     2.0     2.0     2.000000     2.000000   \n",
       "25%       2.0     2.0     2.000000     2.0     2.0     2.000000     2.000000   \n",
       "50%       2.0     2.0     2.000000     2.0     2.0     2.000000     2.000000   \n",
       "75%       2.0     2.0     2.000000     2.0     2.0     2.000000     2.000000   \n",
       "max       2.0     2.0     8.000000     2.0     2.0     8.000000     9.000000   \n",
       "\n",
       "              HAL6        HAL10    HAL1  ...  DMAETHNR_exam  HSAITMOR_exam  \\\n",
       "count  4944.000000  4944.000000  4944.0  ...    4944.000000    4944.000000   \n",
       "mean      2.001416     1.988269     2.0  ...       2.279531     461.141181   \n",
       "std       0.099554     0.169085     0.0  ...       0.960234     282.861426   \n",
       "min       2.000000     1.000000     2.0  ...       1.000000     204.000000   \n",
       "25%       2.000000     2.000000     2.0  ...       1.000000     287.000000   \n",
       "50%       2.000000     2.000000     2.0  ...       3.000000     401.000000   \n",
       "75%       2.000000     2.000000     2.0  ...       3.000000     579.250000   \n",
       "max       9.000000     8.000000     2.0  ...       3.000000    9999.000000   \n",
       "\n",
       "       PEFROVERFVC     FEV1OFVC    FEV1OFEV6     PEFROFVC    PEFROFEV6  \\\n",
       "count  4944.000000  4944.000000  4944.000000  4944.000000  4944.000000   \n",
       "mean      1.976936     0.827377     0.837894     1.976936     2.003842   \n",
       "std       0.371922     0.073215     0.084317     0.371922     0.396056   \n",
       "min       0.437173     0.430769     0.014389     0.437173     0.026089   \n",
       "25%       1.727486     0.783432     0.803209     1.727486     1.757446   \n",
       "50%       1.962849     0.831555     0.842880     1.962849     1.997410   \n",
       "75%       2.210040     0.874832     0.880608     2.210040     2.245542   \n",
       "max       3.676483     1.000000     1.000422     3.676483     3.588963   \n",
       "\n",
       "         PEFROFEV1     FEV3OFVC     FEV6OFVC  \n",
       "count  4944.000000  4944.000000  4944.000000  \n",
       "mean      2.389732     1.119696     1.151874  \n",
       "std       0.402936     2.578364     2.575980  \n",
       "min       0.989630     0.689231     0.794219  \n",
       "25%       2.120506     0.926235     0.973650  \n",
       "50%       2.369035     0.958688     0.991842  \n",
       "75%       2.642060     0.985477     0.999456  \n",
       "max       4.287374    66.682671    66.682671  \n",
       "\n",
       "[8 rows x 68 columns]"
      ]
     },
     "execution_count": 108,
     "metadata": {},
     "output_type": "execute_result"
    }
   ],
   "source": [
    "adult_final.describe()"
   ]
  },
  {
   "cell_type": "code",
   "execution_count": 109,
   "metadata": {},
   "outputs": [
    {
     "data": {
      "text/plain": [
       "9.767452144892326"
      ]
     },
     "execution_count": 109,
     "metadata": {},
     "output_type": "execute_result"
    }
   ],
   "source": [
    "adult_final.BMPHT.std()"
   ]
  },
  {
   "cell_type": "code",
   "execution_count": 110,
   "metadata": {},
   "outputs": [
    {
     "data": {
      "text/html": [
       "<div>\n",
       "<style scoped>\n",
       "    .dataframe tbody tr th:only-of-type {\n",
       "        vertical-align: middle;\n",
       "    }\n",
       "\n",
       "    .dataframe tbody tr th {\n",
       "        vertical-align: top;\n",
       "    }\n",
       "\n",
       "    .dataframe thead th {\n",
       "        text-align: right;\n",
       "    }\n",
       "</style>\n",
       "<table border=\"1\" class=\"dataframe\">\n",
       "  <thead>\n",
       "    <tr style=\"text-align: right;\">\n",
       "      <th></th>\n",
       "      <th>HSSEX</th>\n",
       "      <th>HSAGEIR</th>\n",
       "      <th>HSAGEU</th>\n",
       "      <th>DMARACER</th>\n",
       "      <th>DMARETHN</th>\n",
       "      <th>DMAETHNR</th>\n",
       "      <th>HXPAXTMR</th>\n",
       "      <th>HXPSESSR</th>\n",
       "      <th>HYE1G</th>\n",
       "      <th>HYG2</th>\n",
       "      <th>...</th>\n",
       "      <th>DMAETHNR_exam</th>\n",
       "      <th>HSAITMOR_exam</th>\n",
       "      <th>PEFROVERFVC</th>\n",
       "      <th>FEV1OFVC</th>\n",
       "      <th>FEV1OFEV6</th>\n",
       "      <th>PEFROFVC</th>\n",
       "      <th>PEFROFEV6</th>\n",
       "      <th>PEFROFEV1</th>\n",
       "      <th>FEV3OFVC</th>\n",
       "      <th>FEV6OFVC</th>\n",
       "    </tr>\n",
       "  </thead>\n",
       "  <tbody>\n",
       "    <tr>\n",
       "      <th>count</th>\n",
       "      <td>2812.000000</td>\n",
       "      <td>2812.000000</td>\n",
       "      <td>2812.0</td>\n",
       "      <td>2812.000000</td>\n",
       "      <td>2812.000000</td>\n",
       "      <td>2812.000000</td>\n",
       "      <td>0.0</td>\n",
       "      <td>0.0</td>\n",
       "      <td>2812.0</td>\n",
       "      <td>1279.000000</td>\n",
       "      <td>...</td>\n",
       "      <td>2812.000000</td>\n",
       "      <td>2812.000000</td>\n",
       "      <td>2812.000000</td>\n",
       "      <td>2812.000000</td>\n",
       "      <td>2812.000000</td>\n",
       "      <td>2812.000000</td>\n",
       "      <td>2812.000000</td>\n",
       "      <td>2812.000000</td>\n",
       "      <td>2812.000000</td>\n",
       "      <td>2812.000000</td>\n",
       "    </tr>\n",
       "    <tr>\n",
       "      <th>mean</th>\n",
       "      <td>1.522760</td>\n",
       "      <td>11.535562</td>\n",
       "      <td>2.0</td>\n",
       "      <td>1.423898</td>\n",
       "      <td>2.100640</td>\n",
       "      <td>2.272404</td>\n",
       "      <td>NaN</td>\n",
       "      <td>NaN</td>\n",
       "      <td>2.0</td>\n",
       "      <td>2.032838</td>\n",
       "      <td>...</td>\n",
       "      <td>2.272404</td>\n",
       "      <td>143.881223</td>\n",
       "      <td>1.946408</td>\n",
       "      <td>0.880166</td>\n",
       "      <td>0.882731</td>\n",
       "      <td>1.946408</td>\n",
       "      <td>1.952059</td>\n",
       "      <td>2.206381</td>\n",
       "      <td>0.983931</td>\n",
       "      <td>0.996933</td>\n",
       "    </tr>\n",
       "    <tr>\n",
       "      <th>std</th>\n",
       "      <td>0.499571</td>\n",
       "      <td>2.485636</td>\n",
       "      <td>0.0</td>\n",
       "      <td>0.540996</td>\n",
       "      <td>0.785523</td>\n",
       "      <td>0.962354</td>\n",
       "      <td>NaN</td>\n",
       "      <td>NaN</td>\n",
       "      <td>0.0</td>\n",
       "      <td>0.442836</td>\n",
       "      <td>...</td>\n",
       "      <td>0.962354</td>\n",
       "      <td>29.997678</td>\n",
       "      <td>0.339134</td>\n",
       "      <td>0.060814</td>\n",
       "      <td>0.059107</td>\n",
       "      <td>0.339134</td>\n",
       "      <td>0.338571</td>\n",
       "      <td>0.320986</td>\n",
       "      <td>0.019944</td>\n",
       "      <td>0.007931</td>\n",
       "    </tr>\n",
       "    <tr>\n",
       "      <th>min</th>\n",
       "      <td>1.000000</td>\n",
       "      <td>8.000000</td>\n",
       "      <td>2.0</td>\n",
       "      <td>1.000000</td>\n",
       "      <td>1.000000</td>\n",
       "      <td>1.000000</td>\n",
       "      <td>NaN</td>\n",
       "      <td>NaN</td>\n",
       "      <td>2.0</td>\n",
       "      <td>2.000000</td>\n",
       "      <td>...</td>\n",
       "      <td>1.000000</td>\n",
       "      <td>96.000000</td>\n",
       "      <td>0.516216</td>\n",
       "      <td>0.316216</td>\n",
       "      <td>0.413063</td>\n",
       "      <td>0.516216</td>\n",
       "      <td>0.583065</td>\n",
       "      <td>1.127809</td>\n",
       "      <td>0.581757</td>\n",
       "      <td>0.765541</td>\n",
       "    </tr>\n",
       "    <tr>\n",
       "      <th>25%</th>\n",
       "      <td>1.000000</td>\n",
       "      <td>9.000000</td>\n",
       "      <td>2.0</td>\n",
       "      <td>1.000000</td>\n",
       "      <td>1.000000</td>\n",
       "      <td>1.000000</td>\n",
       "      <td>NaN</td>\n",
       "      <td>NaN</td>\n",
       "      <td>2.0</td>\n",
       "      <td>2.000000</td>\n",
       "      <td>...</td>\n",
       "      <td>1.000000</td>\n",
       "      <td>119.000000</td>\n",
       "      <td>1.705966</td>\n",
       "      <td>0.843177</td>\n",
       "      <td>0.846875</td>\n",
       "      <td>1.705966</td>\n",
       "      <td>1.712840</td>\n",
       "      <td>1.987114</td>\n",
       "      <td>0.975569</td>\n",
       "      <td>0.997822</td>\n",
       "    </tr>\n",
       "    <tr>\n",
       "      <th>50%</th>\n",
       "      <td>2.000000</td>\n",
       "      <td>11.000000</td>\n",
       "      <td>2.0</td>\n",
       "      <td>1.000000</td>\n",
       "      <td>2.000000</td>\n",
       "      <td>3.000000</td>\n",
       "      <td>NaN</td>\n",
       "      <td>NaN</td>\n",
       "      <td>2.0</td>\n",
       "      <td>2.000000</td>\n",
       "      <td>...</td>\n",
       "      <td>3.000000</td>\n",
       "      <td>139.000000</td>\n",
       "      <td>1.925579</td>\n",
       "      <td>0.883417</td>\n",
       "      <td>0.885147</td>\n",
       "      <td>1.925579</td>\n",
       "      <td>1.929688</td>\n",
       "      <td>2.192586</td>\n",
       "      <td>0.989124</td>\n",
       "      <td>0.999312</td>\n",
       "    </tr>\n",
       "    <tr>\n",
       "      <th>75%</th>\n",
       "      <td>2.000000</td>\n",
       "      <td>14.000000</td>\n",
       "      <td>2.0</td>\n",
       "      <td>2.000000</td>\n",
       "      <td>3.000000</td>\n",
       "      <td>3.000000</td>\n",
       "      <td>NaN</td>\n",
       "      <td>NaN</td>\n",
       "      <td>2.0</td>\n",
       "      <td>2.000000</td>\n",
       "      <td>...</td>\n",
       "      <td>3.000000</td>\n",
       "      <td>168.000000</td>\n",
       "      <td>2.153725</td>\n",
       "      <td>0.921068</td>\n",
       "      <td>0.922429</td>\n",
       "      <td>2.153725</td>\n",
       "      <td>2.161768</td>\n",
       "      <td>2.408977</td>\n",
       "      <td>0.999089</td>\n",
       "      <td>0.999575</td>\n",
       "    </tr>\n",
       "    <tr>\n",
       "      <th>max</th>\n",
       "      <td>2.000000</td>\n",
       "      <td>16.000000</td>\n",
       "      <td>2.0</td>\n",
       "      <td>3.000000</td>\n",
       "      <td>3.000000</td>\n",
       "      <td>3.000000</td>\n",
       "      <td>NaN</td>\n",
       "      <td>NaN</td>\n",
       "      <td>2.0</td>\n",
       "      <td>8.000000</td>\n",
       "      <td>...</td>\n",
       "      <td>3.000000</td>\n",
       "      <td>203.000000</td>\n",
       "      <td>3.369463</td>\n",
       "      <td>1.000000</td>\n",
       "      <td>1.001080</td>\n",
       "      <td>3.369463</td>\n",
       "      <td>3.372642</td>\n",
       "      <td>3.652091</td>\n",
       "      <td>1.000000</td>\n",
       "      <td>1.000000</td>\n",
       "    </tr>\n",
       "  </tbody>\n",
       "</table>\n",
       "<p>8 rows × 62 columns</p>\n",
       "</div>"
      ],
      "text/plain": [
       "             HSSEX      HSAGEIR  HSAGEU     DMARACER     DMARETHN  \\\n",
       "count  2812.000000  2812.000000  2812.0  2812.000000  2812.000000   \n",
       "mean      1.522760    11.535562     2.0     1.423898     2.100640   \n",
       "std       0.499571     2.485636     0.0     0.540996     0.785523   \n",
       "min       1.000000     8.000000     2.0     1.000000     1.000000   \n",
       "25%       1.000000     9.000000     2.0     1.000000     1.000000   \n",
       "50%       2.000000    11.000000     2.0     1.000000     2.000000   \n",
       "75%       2.000000    14.000000     2.0     2.000000     3.000000   \n",
       "max       2.000000    16.000000     2.0     3.000000     3.000000   \n",
       "\n",
       "          DMAETHNR  HXPAXTMR  HXPSESSR   HYE1G         HYG2  ...  \\\n",
       "count  2812.000000       0.0       0.0  2812.0  1279.000000  ...   \n",
       "mean      2.272404       NaN       NaN     2.0     2.032838  ...   \n",
       "std       0.962354       NaN       NaN     0.0     0.442836  ...   \n",
       "min       1.000000       NaN       NaN     2.0     2.000000  ...   \n",
       "25%       1.000000       NaN       NaN     2.0     2.000000  ...   \n",
       "50%       3.000000       NaN       NaN     2.0     2.000000  ...   \n",
       "75%       3.000000       NaN       NaN     2.0     2.000000  ...   \n",
       "max       3.000000       NaN       NaN     2.0     8.000000  ...   \n",
       "\n",
       "       DMAETHNR_exam  HSAITMOR_exam  PEFROVERFVC     FEV1OFVC    FEV1OFEV6  \\\n",
       "count    2812.000000    2812.000000  2812.000000  2812.000000  2812.000000   \n",
       "mean        2.272404     143.881223     1.946408     0.880166     0.882731   \n",
       "std         0.962354      29.997678     0.339134     0.060814     0.059107   \n",
       "min         1.000000      96.000000     0.516216     0.316216     0.413063   \n",
       "25%         1.000000     119.000000     1.705966     0.843177     0.846875   \n",
       "50%         3.000000     139.000000     1.925579     0.883417     0.885147   \n",
       "75%         3.000000     168.000000     2.153725     0.921068     0.922429   \n",
       "max         3.000000     203.000000     3.369463     1.000000     1.001080   \n",
       "\n",
       "          PEFROFVC    PEFROFEV6    PEFROFEV1     FEV3OFVC     FEV6OFVC  \n",
       "count  2812.000000  2812.000000  2812.000000  2812.000000  2812.000000  \n",
       "mean      1.946408     1.952059     2.206381     0.983931     0.996933  \n",
       "std       0.339134     0.338571     0.320986     0.019944     0.007931  \n",
       "min       0.516216     0.583065     1.127809     0.581757     0.765541  \n",
       "25%       1.705966     1.712840     1.987114     0.975569     0.997822  \n",
       "50%       1.925579     1.929688     2.192586     0.989124     0.999312  \n",
       "75%       2.153725     2.161768     2.408977     0.999089     0.999575  \n",
       "max       3.369463     3.372642     3.652091     1.000000     1.000000  \n",
       "\n",
       "[8 rows x 62 columns]"
      ]
     },
     "execution_count": 110,
     "metadata": {},
     "output_type": "execute_result"
    }
   ],
   "source": [
    "youth_final.describe()"
   ]
  },
  {
   "cell_type": "markdown",
   "metadata": {},
   "source": [
    "# Created other data bases to analyze"
   ]
  },
  {
   "cell_type": "markdown",
   "metadata": {},
   "source": [
    "# adult m20overb m20overcma f18overb f18overcma"
   ]
  },
  {
   "cell_type": "markdown",
   "metadata": {},
   "source": [
    "male 20 over. female 18 over; and cma (Caucasian-Mexican American) or b (black)\n",
    "NOT NEED m20over = adult_final.query('HSAGEIR >=20 & HSSEX == 1’)\n",
    "NOT NEED f18over = adult_final.query('HSAGEIR >=18 & HSSEX == 2’)\n",
    "m20overb  = adult_final.query(('HSAGEIR >= 20 & HSSEX == 1 & DMARETHN == 2'))\n",
    "m20overcma  = adult_final.query(('HSAGEIR >=20 & HSSEX == 1 & (DMARETHN == 1 | DMARETHN ==3)'))\n",
    "f18overcma = adult_final.query(('HSAGEIR >=18 & HSSEX == 2 & (DMARETHN == 1 | DMARETHN ==3)'))\n",
    "f18overb = adult_final.query(('HSAGEIR >=18 & HSSEX == 2 & DMARETHN == 2 '))\n",
    "m20overc  = adult_final.query(('HSAGEIR >= 20 & HSSEX == 1 & DMARETHN == 1'))\n",
    "m20overma  = adult_final.query(('HSAGEIR >= 20 & HSSEX == 1 & DMARETHN == 3'))\n",
    "f18overc = adult_final.query(('HSAGEIR >=18 & HSSEX == 2 & DMARETHN == 1 '))\n",
    "f18overma = adult_final.query(('HSAGEIR >=18 & HSSEX == 2 & DMARETHN == 3 '))\n",
    "\n",
    "DMARETHN – 1 non-Hispanic white, 2 non-hispanic black, 3 Mexican American, 4 other\n"
   ]
  },
  {
   "cell_type": "code",
   "execution_count": 449,
   "metadata": {},
   "outputs": [],
   "source": [
    "m20overb  = adult_final.query(('HSAGEIR >= 20 & HSSEX == 1 & DMARETHN == 2'))\n",
    "m20overcma  = adult_final.query(('HSAGEIR >=20 & HSSEX == 1 & (DMARETHN == 1 | DMARETHN ==3)'))\n",
    "f18overcma = adult_final.query(('HSAGEIR >=18 & HSSEX == 2 & (DMARETHN == 1 | DMARETHN ==3)'))\n",
    "f18overb = adult_final.query(('HSAGEIR >=18 & HSSEX == 2 & DMARETHN == 2 '))\n",
    "m20overc  = adult_final.query(('HSAGEIR >= 20 & HSSEX == 1 & DMARETHN == 1'))\n",
    "m20overma  = adult_final.query(('HSAGEIR >= 20 & HSSEX == 1 & DMARETHN == 3'))\n",
    "f18overc = adult_final.query(('HSAGEIR >=18 & HSSEX == 2 & DMARETHN == 1 '))\n",
    "f18overma = adult_final.query(('HSAGEIR >=18 & HSSEX == 2 & DMARETHN == 3 '))"
   ]
  },
  {
   "cell_type": "code",
   "execution_count": 450,
   "metadata": {},
   "outputs": [
    {
     "data": {
      "text/html": [
       "<div>\n",
       "<style scoped>\n",
       "    .dataframe tbody tr th:only-of-type {\n",
       "        vertical-align: middle;\n",
       "    }\n",
       "\n",
       "    .dataframe tbody tr th {\n",
       "        vertical-align: top;\n",
       "    }\n",
       "\n",
       "    .dataframe thead th {\n",
       "        text-align: right;\n",
       "    }\n",
       "</style>\n",
       "<table border=\"1\" class=\"dataframe\">\n",
       "  <thead>\n",
       "    <tr style=\"text-align: right;\">\n",
       "      <th></th>\n",
       "      <th>HAR1</th>\n",
       "      <th>HAR23</th>\n",
       "      <th>HAR26</th>\n",
       "      <th>HAC1E</th>\n",
       "      <th>HAC1F</th>\n",
       "      <th>HAC1G</th>\n",
       "      <th>HAC1O</th>\n",
       "      <th>HAL6</th>\n",
       "      <th>HAL10</th>\n",
       "      <th>HAL1</th>\n",
       "      <th>...</th>\n",
       "      <th>DMAETHNR_exam</th>\n",
       "      <th>HSAITMOR_exam</th>\n",
       "      <th>PEFROVERFVC</th>\n",
       "      <th>FEV1OFVC</th>\n",
       "      <th>FEV1OFEV6</th>\n",
       "      <th>PEFROFVC</th>\n",
       "      <th>PEFROFEV6</th>\n",
       "      <th>PEFROFEV1</th>\n",
       "      <th>FEV3OFVC</th>\n",
       "      <th>FEV6OFVC</th>\n",
       "    </tr>\n",
       "  </thead>\n",
       "  <tbody>\n",
       "    <tr>\n",
       "      <th>count</th>\n",
       "      <td>940.0</td>\n",
       "      <td>940.0</td>\n",
       "      <td>940.000000</td>\n",
       "      <td>940.0</td>\n",
       "      <td>940.0</td>\n",
       "      <td>940.0</td>\n",
       "      <td>940.0</td>\n",
       "      <td>940.0</td>\n",
       "      <td>940.000000</td>\n",
       "      <td>940.0</td>\n",
       "      <td>...</td>\n",
       "      <td>940.0</td>\n",
       "      <td>940.000000</td>\n",
       "      <td>940.000000</td>\n",
       "      <td>940.000000</td>\n",
       "      <td>940.000000</td>\n",
       "      <td>940.000000</td>\n",
       "      <td>940.000000</td>\n",
       "      <td>940.000000</td>\n",
       "      <td>940.000000</td>\n",
       "      <td>940.000000</td>\n",
       "    </tr>\n",
       "    <tr>\n",
       "      <th>mean</th>\n",
       "      <td>2.0</td>\n",
       "      <td>2.0</td>\n",
       "      <td>2.006383</td>\n",
       "      <td>2.0</td>\n",
       "      <td>2.0</td>\n",
       "      <td>2.0</td>\n",
       "      <td>2.0</td>\n",
       "      <td>2.0</td>\n",
       "      <td>2.001064</td>\n",
       "      <td>2.0</td>\n",
       "      <td>...</td>\n",
       "      <td>3.0</td>\n",
       "      <td>454.567021</td>\n",
       "      <td>2.126010</td>\n",
       "      <td>0.840877</td>\n",
       "      <td>0.849786</td>\n",
       "      <td>2.126010</td>\n",
       "      <td>2.149114</td>\n",
       "      <td>2.527313</td>\n",
       "      <td>1.161886</td>\n",
       "      <td>1.192515</td>\n",
       "    </tr>\n",
       "    <tr>\n",
       "      <th>std</th>\n",
       "      <td>0.0</td>\n",
       "      <td>0.0</td>\n",
       "      <td>0.195698</td>\n",
       "      <td>0.0</td>\n",
       "      <td>0.0</td>\n",
       "      <td>0.0</td>\n",
       "      <td>0.0</td>\n",
       "      <td>0.0</td>\n",
       "      <td>0.208955</td>\n",
       "      <td>0.0</td>\n",
       "      <td>...</td>\n",
       "      <td>0.0</td>\n",
       "      <td>365.326660</td>\n",
       "      <td>0.401784</td>\n",
       "      <td>0.073238</td>\n",
       "      <td>0.083404</td>\n",
       "      <td>0.401784</td>\n",
       "      <td>0.424178</td>\n",
       "      <td>0.426289</td>\n",
       "      <td>3.257199</td>\n",
       "      <td>3.255036</td>\n",
       "    </tr>\n",
       "    <tr>\n",
       "      <th>min</th>\n",
       "      <td>2.0</td>\n",
       "      <td>2.0</td>\n",
       "      <td>2.000000</td>\n",
       "      <td>2.0</td>\n",
       "      <td>2.0</td>\n",
       "      <td>2.0</td>\n",
       "      <td>2.0</td>\n",
       "      <td>2.0</td>\n",
       "      <td>1.000000</td>\n",
       "      <td>2.0</td>\n",
       "      <td>...</td>\n",
       "      <td>3.0</td>\n",
       "      <td>216.000000</td>\n",
       "      <td>0.814485</td>\n",
       "      <td>0.539349</td>\n",
       "      <td>0.014996</td>\n",
       "      <td>0.814485</td>\n",
       "      <td>0.041007</td>\n",
       "      <td>1.252341</td>\n",
       "      <td>0.763021</td>\n",
       "      <td>0.831153</td>\n",
       "    </tr>\n",
       "    <tr>\n",
       "      <th>25%</th>\n",
       "      <td>2.0</td>\n",
       "      <td>2.0</td>\n",
       "      <td>2.000000</td>\n",
       "      <td>2.0</td>\n",
       "      <td>2.0</td>\n",
       "      <td>2.0</td>\n",
       "      <td>2.0</td>\n",
       "      <td>2.0</td>\n",
       "      <td>2.000000</td>\n",
       "      <td>2.0</td>\n",
       "      <td>...</td>\n",
       "      <td>3.0</td>\n",
       "      <td>290.000000</td>\n",
       "      <td>1.877464</td>\n",
       "      <td>0.796417</td>\n",
       "      <td>0.816220</td>\n",
       "      <td>1.877464</td>\n",
       "      <td>1.904474</td>\n",
       "      <td>2.242164</td>\n",
       "      <td>0.930757</td>\n",
       "      <td>0.976982</td>\n",
       "    </tr>\n",
       "    <tr>\n",
       "      <th>50%</th>\n",
       "      <td>2.0</td>\n",
       "      <td>2.0</td>\n",
       "      <td>2.000000</td>\n",
       "      <td>2.0</td>\n",
       "      <td>2.0</td>\n",
       "      <td>2.0</td>\n",
       "      <td>2.0</td>\n",
       "      <td>2.0</td>\n",
       "      <td>2.000000</td>\n",
       "      <td>2.0</td>\n",
       "      <td>...</td>\n",
       "      <td>3.0</td>\n",
       "      <td>402.500000</td>\n",
       "      <td>2.123378</td>\n",
       "      <td>0.844470</td>\n",
       "      <td>0.855362</td>\n",
       "      <td>2.123378</td>\n",
       "      <td>2.150048</td>\n",
       "      <td>2.506843</td>\n",
       "      <td>0.961484</td>\n",
       "      <td>0.994880</td>\n",
       "    </tr>\n",
       "    <tr>\n",
       "      <th>75%</th>\n",
       "      <td>2.0</td>\n",
       "      <td>2.0</td>\n",
       "      <td>2.000000</td>\n",
       "      <td>2.0</td>\n",
       "      <td>2.0</td>\n",
       "      <td>2.0</td>\n",
       "      <td>2.0</td>\n",
       "      <td>2.0</td>\n",
       "      <td>2.000000</td>\n",
       "      <td>2.0</td>\n",
       "      <td>...</td>\n",
       "      <td>3.0</td>\n",
       "      <td>535.250000</td>\n",
       "      <td>2.366512</td>\n",
       "      <td>0.889319</td>\n",
       "      <td>0.893043</td>\n",
       "      <td>2.366512</td>\n",
       "      <td>2.396010</td>\n",
       "      <td>2.790748</td>\n",
       "      <td>0.989477</td>\n",
       "      <td>0.999417</td>\n",
       "    </tr>\n",
       "    <tr>\n",
       "      <th>max</th>\n",
       "      <td>2.0</td>\n",
       "      <td>2.0</td>\n",
       "      <td>8.000000</td>\n",
       "      <td>2.0</td>\n",
       "      <td>2.0</td>\n",
       "      <td>2.0</td>\n",
       "      <td>2.0</td>\n",
       "      <td>2.0</td>\n",
       "      <td>8.000000</td>\n",
       "      <td>2.0</td>\n",
       "      <td>...</td>\n",
       "      <td>3.0</td>\n",
       "      <td>9999.000000</td>\n",
       "      <td>3.583281</td>\n",
       "      <td>1.000000</td>\n",
       "      <td>1.000000</td>\n",
       "      <td>3.583281</td>\n",
       "      <td>3.588963</td>\n",
       "      <td>4.029915</td>\n",
       "      <td>66.682671</td>\n",
       "      <td>66.682671</td>\n",
       "    </tr>\n",
       "  </tbody>\n",
       "</table>\n",
       "<p>8 rows × 68 columns</p>\n",
       "</div>"
      ],
      "text/plain": [
       "        HAR1  HAR23       HAR26  HAC1E  HAC1F  HAC1G  HAC1O   HAL6  \\\n",
       "count  940.0  940.0  940.000000  940.0  940.0  940.0  940.0  940.0   \n",
       "mean     2.0    2.0    2.006383    2.0    2.0    2.0    2.0    2.0   \n",
       "std      0.0    0.0    0.195698    0.0    0.0    0.0    0.0    0.0   \n",
       "min      2.0    2.0    2.000000    2.0    2.0    2.0    2.0    2.0   \n",
       "25%      2.0    2.0    2.000000    2.0    2.0    2.0    2.0    2.0   \n",
       "50%      2.0    2.0    2.000000    2.0    2.0    2.0    2.0    2.0   \n",
       "75%      2.0    2.0    2.000000    2.0    2.0    2.0    2.0    2.0   \n",
       "max      2.0    2.0    8.000000    2.0    2.0    2.0    2.0    2.0   \n",
       "\n",
       "            HAL10   HAL1  ...  DMAETHNR_exam  HSAITMOR_exam  PEFROVERFVC  \\\n",
       "count  940.000000  940.0  ...          940.0     940.000000   940.000000   \n",
       "mean     2.001064    2.0  ...            3.0     454.567021     2.126010   \n",
       "std      0.208955    0.0  ...            0.0     365.326660     0.401784   \n",
       "min      1.000000    2.0  ...            3.0     216.000000     0.814485   \n",
       "25%      2.000000    2.0  ...            3.0     290.000000     1.877464   \n",
       "50%      2.000000    2.0  ...            3.0     402.500000     2.123378   \n",
       "75%      2.000000    2.0  ...            3.0     535.250000     2.366512   \n",
       "max      8.000000    2.0  ...            3.0    9999.000000     3.583281   \n",
       "\n",
       "         FEV1OFVC   FEV1OFEV6    PEFROFVC   PEFROFEV6   PEFROFEV1    FEV3OFVC  \\\n",
       "count  940.000000  940.000000  940.000000  940.000000  940.000000  940.000000   \n",
       "mean     0.840877    0.849786    2.126010    2.149114    2.527313    1.161886   \n",
       "std      0.073238    0.083404    0.401784    0.424178    0.426289    3.257199   \n",
       "min      0.539349    0.014996    0.814485    0.041007    1.252341    0.763021   \n",
       "25%      0.796417    0.816220    1.877464    1.904474    2.242164    0.930757   \n",
       "50%      0.844470    0.855362    2.123378    2.150048    2.506843    0.961484   \n",
       "75%      0.889319    0.893043    2.366512    2.396010    2.790748    0.989477   \n",
       "max      1.000000    1.000000    3.583281    3.588963    4.029915   66.682671   \n",
       "\n",
       "         FEV6OFVC  \n",
       "count  940.000000  \n",
       "mean     1.192515  \n",
       "std      3.255036  \n",
       "min      0.831153  \n",
       "25%      0.976982  \n",
       "50%      0.994880  \n",
       "75%      0.999417  \n",
       "max     66.682671  \n",
       "\n",
       "[8 rows x 68 columns]"
      ]
     },
     "execution_count": 450,
     "metadata": {},
     "output_type": "execute_result"
    }
   ],
   "source": [
    "f18overb.describe()"
   ]
  },
  {
   "cell_type": "markdown",
   "metadata": {},
   "source": [
    "## Make dataframes mlt20 and flt18 for b, c, ma and cma combining adult final and youth final"
   ]
  },
  {
   "cell_type": "markdown",
   "metadata": {},
   "source": [
    "male<20,female<18\n",
    "mlt20b = pd.concat([adult_final.query(('HSAGEIR < 20 & HSSEX == 1 & DMARETHN == 2 ')), youth_final.query(('HSSEX == 1 & DMARETHN == 2'))])\n",
    "mlt20cma = pd.concat([adult_final.query(('HSAGEIR < 20 & HSSEX == 1 & (DMARETHN == 1 | DMARETHN == 3) ')), youth_final.query(('HSSEX == 1 & (DMARETHN == 1 | DMARETHN == 3)'))])\n",
    "flt18b = pd.concat([adult_final.query(('HSAGEIR < 18 & HSSEX == 2 & DMARETHN == 2 ')), youth_final.query(('HSSEX == 2 & DMARETHN == 2'))])\n",
    "flt18cma = pd.concat([adult_final.query(('HSAGEIR < 18 & HSSEX == 2 & (DMARETHN == 1 | DMARETHN == 3) ')), youth_final.query(('HSSEX == 2 & (DMARETHN == 1 | DMARETHN == 3)'))])\n",
    "mlt20c = pd.concat([adult_final.query(('HSAGEIR < 20 & HSSEX == 1 & DMARETHN == 1 ')), youth_final.query(('HSSEX == 1 & DMARETHN == 1'))])\n",
    "mlt20ma = pd.concat([adult_final.query(('HSAGEIR < 20 & HSSEX == 1 & DMARETHN == 3 ')), youth_final.query(('HSSEX == 1 & DMARETHN == 3'))])\n",
    "flt18c = pd.concat([adult_final.query(('HSAGEIR < 18 & HSSEX == 2 & DMARETHN == 1 ')), youth_final.query(('HSSEX == 2 & DMARETHN == 1'))])\n",
    "flt18ma = pd.concat([adult_final.query(('HSAGEIR < 18 & HSSEX == 2 & DMARETHN == 3 ')), youth_final.query(('HSSEX == 2 & DMARETHN == 3'))])\n",
    "\n",
    "DMARETHN – 1 non-Hispanic white, 2 non-hispanic black, 3 Mexican American, 4 other"
   ]
  },
  {
   "cell_type": "code",
   "execution_count": 113,
   "metadata": {},
   "outputs": [],
   "source": [
    "mlt20b = pd.concat([adult_final.query(('HSAGEIR < 20 & HSSEX == 1 & DMARETHN == 2 ')), youth_final.query(('HSSEX == 1 & DMARETHN == 2'))])\n",
    "mlt20cma = pd.concat([adult_final.query(('HSAGEIR < 20 & HSSEX == 1 & (DMARETHN == 1 | DMARETHN == 3) ')), youth_final.query(('HSSEX == 1 & (DMARETHN == 1 | DMARETHN == 3)'))])\n",
    "flt18b = pd.concat([adult_final.query(('HSAGEIR < 18 & HSSEX == 2 & DMARETHN == 2 ')), youth_final.query(('HSSEX == 2 & DMARETHN == 2'))])\n",
    "flt18cma = pd.concat([adult_final.query(('HSAGEIR < 18 & HSSEX == 2 & (DMARETHN == 1 | DMARETHN == 3) ')), youth_final.query(('HSSEX == 2 & (DMARETHN == 1 | DMARETHN == 3)'))])\n",
    "mlt20c = pd.concat([adult_final.query(('HSAGEIR < 20 & HSSEX == 1 & DMARETHN == 1 ')), youth_final.query(('HSSEX == 1 & DMARETHN == 1'))])\n",
    "mlt20ma = pd.concat([adult_final.query(('HSAGEIR < 20 & HSSEX == 1 & DMARETHN == 3 ')), youth_final.query(('HSSEX == 1 & DMARETHN == 3'))])\n",
    "flt18c = pd.concat([adult_final.query(('HSAGEIR < 18 & HSSEX == 2 & DMARETHN == 1 ')), youth_final.query(('HSSEX == 2 & DMARETHN == 1'))])\n",
    "flt18ma = pd.concat([adult_final.query(('HSAGEIR < 18 & HSSEX == 2 & DMARETHN == 3 ')), youth_final.query(('HSSEX == 2 & DMARETHN == 3'))])"
   ]
  },
  {
   "cell_type": "markdown",
   "metadata": {},
   "source": [
    "# Create data bases for all male/female cma, black for ratios"
   ]
  },
  {
   "cell_type": "markdown",
   "metadata": {},
   "source": [
    "Groups for ratios\n",
    "All male cma  mallcma = pd.concat([m20overcma, mlt20cma])\n",
    "All male black  mallb = pd.concat([m20overb, mlt20b])\n",
    "All female cma  fallcma = pd.concat([f18overcma, flt18cma])\n",
    "All female black  fallb = pd.concat([f18overb, flt18b])\n",
    "All male c  mallc = pd.concat([m20overc, mlt20c])\n",
    "All male ma  mallma = pd.concat([m20overma, mlt20ma])\n",
    "All female c  fallc = pd.concat([f18overc, flt18c])\n",
    "All female ma  fallma = pd.concat([f18overma, flt18ma])"
   ]
  },
  {
   "cell_type": "code",
   "execution_count": 114,
   "metadata": {},
   "outputs": [],
   "source": [
    "mallcma = pd.concat([m20overcma, mlt20cma])\n",
    "mallb = pd.concat([m20overb, mlt20b])\n",
    "fallcma = pd.concat([f18overcma, flt18cma])\n",
    "fallb = pd.concat([f18overb, flt18b])\n",
    "mallc = pd.concat([m20overc, mlt20c])\n",
    "mallma = pd.concat([m20overma, mlt20ma])\n",
    "fallc = pd.concat([f18overc, flt18c])\n",
    "fallma = pd.concat([f18overma, flt18ma])"
   ]
  },
  {
   "cell_type": "markdown",
   "metadata": {},
   "source": [
    "## Check variable created"
   ]
  },
  {
   "cell_type": "code",
   "execution_count": 115,
   "metadata": {},
   "outputs": [
    {
     "data": {
      "text/plain": [
       "<matplotlib.axes._subplots.AxesSubplot at 0x1213b5f90>"
      ]
     },
     "execution_count": 115,
     "metadata": {},
     "output_type": "execute_result"
    },
    {
     "data": {
      "image/png": "[encoded data removed]",
      "text/plain": [
       "<Figure size 432x288 with 1 Axes>"
      ]
     },
     "metadata": {
      "needs_background": "light"
     },
     "output_type": "display_data"
    }
   ],
   "source": [
    "flt18b.SPPFEV1.hist(bins='auto')"
   ]
  },
  {
   "cell_type": "code",
   "execution_count": 116,
   "metadata": {},
   "outputs": [
    {
     "data": {
      "text/plain": [
       "<matplotlib.axes._subplots.AxesSubplot at 0x1210604d0>"
      ]
     },
     "execution_count": 116,
     "metadata": {},
     "output_type": "execute_result"
    },
    {
     "data": {
      "image/png": "[encoded data removed]",
      "text/plain": [
       "<Figure size 432x288 with 1 Axes>"
      ]
     },
     "metadata": {
      "needs_background": "light"
     },
     "output_type": "display_data"
    }
   ],
   "source": [
    "flt18b.PEFROFVC.hist(bins='auto', range=(0,5))"
   ]
  },
  {
   "cell_type": "code",
   "execution_count": 117,
   "metadata": {},
   "outputs": [
    {
     "data": {
      "text/plain": [
       "<matplotlib.axes._subplots.AxesSubplot at 0x11e9639d0>"
      ]
     },
     "execution_count": 117,
     "metadata": {},
     "output_type": "execute_result"
    },
    {
     "data": {
      "image/png": "[encoded data removed]",
      "text/plain": [
       "<Figure size 432x288 with 1 Axes>"
      ]
     },
     "metadata": {
      "needs_background": "light"
     },
     "output_type": "display_data"
    }
   ],
   "source": [
    "flt18b.HSAITMOR.hist(bins='auto', range=(0,300))"
   ]
  },
  {
   "cell_type": "code",
   "execution_count": 118,
   "metadata": {},
   "outputs": [
    {
     "data": {
      "text/plain": [
       "<matplotlib.axes._subplots.AxesSubplot at 0x120826650>"
      ]
     },
     "execution_count": 118,
     "metadata": {},
     "output_type": "execute_result"
    },
    {
     "data": {
      "image/png": "[encoded data removed]",
      "text/plain": [
       "<Figure size 432x288 with 1 Axes>"
      ]
     },
     "metadata": {
      "needs_background": "light"
     },
     "output_type": "display_data"
    }
   ],
   "source": [
    "flt18b.BMPHT.hist(bins='auto', range=(0,300))"
   ]
  },
  {
   "cell_type": "markdown",
   "metadata": {},
   "source": [
    "## Frames to Analyze"
   ]
  },
  {
   "cell_type": "markdown",
   "metadata": {},
   "source": [
    "framestoanalyze = [m20overb, m20overcma, m20overc, m20overma, f18overb, f18overcma, f18overc, f18overma, \n",
    "                   mlt20b, mlt20cma, mlt20c, mlt20ma, flt18b, flt18cma, flt18c, flt18ma, \n",
    "                   mallcma, mallb, mallc, mallma, fallcma, fallb, fallc, fallma]"
   ]
  },
  {
   "cell_type": "code",
   "execution_count": 119,
   "metadata": {},
   "outputs": [],
   "source": [
    "framestoanalyze = [m20overb, m20overcma, m20overc, m20overma, f18overb, f18overcma, f18overc, f18overma, \n",
    "                   mlt20b, mlt20cma, mlt20c, mlt20ma, flt18b, flt18cma, flt18c, flt18ma, \n",
    "                   mallcma, mallb, mallc, mallma, fallcma, fallb, fallc, fallma]"
   ]
  },
  {
   "cell_type": "markdown",
   "metadata": {},
   "source": [
    "HAD BEEN. framestoanalyze = [m20overb, m20overcma, f18overb, f18overcma, mlt20b, mlt20cma, flt18b, flt18cma, mallcma, mallb, fallcma, fallb]\n"
   ]
  },
  {
   "cell_type": "markdown",
   "metadata": {},
   "source": [
    "# framesto analyze names"
   ]
  },
  {
   "cell_type": "markdown",
   "metadata": {},
   "source": [
    "m20overb.name = 'm20overb'\n",
    "m20overcma.name = 'm20overcma'\n",
    "f18overb.name = 'f18overb'\n",
    "f18overcma.name = 'f18overcma'\n",
    "mlt20b.name = 'mlt20b'\n",
    "mlt20cma.name = 'mlt20cma'\n",
    "flt18b.name = 'flt18b'\n",
    "flt18cma.name = 'flt18cma'\n",
    "mallcma.name = 'mallcma'\n",
    "mallb.name = 'mallb'\n",
    "fallcma.name = 'fallcma'\n",
    "fallb.name = 'fallb'\n",
    "m20overc.name = 'm20overc'\n",
    "m20overma.name = 'm20ovecma'\n",
    "f18overc.name = 'f18overc'\n",
    "f18overma.name = 'f18overma'\n",
    "mlt20c.name = 'mlt20c'\n",
    "mlt20ma.name = 'mlt20ma'\n",
    "flt18c.name = 'flt18c'\n",
    "flt18ma.name = 'flt18ma'\n",
    "mallma.name = 'mallma'\n",
    "mallc.name = 'mallc'\n",
    "fallma.name = 'fallma'\n",
    "fallc.name = 'fallc'"
   ]
  },
  {
   "cell_type": "code",
   "execution_count": 460,
   "metadata": {},
   "outputs": [],
   "source": [
    "m20overb.name = 'm20overb'\n",
    "m20overcma.name = 'm20overcma'\n",
    "f18overb.name = 'f18overb'\n",
    "f18overcma.name = 'f18overcma'\n",
    "mlt20b.name = 'mlt20b'\n",
    "mlt20cma.name = 'mlt20cma'\n",
    "flt18b.name = 'flt18b'\n",
    "flt18cma.name = 'flt18cma'\n",
    "mallcma.name = 'mallcma'\n",
    "mallb.name = 'mallb'\n",
    "fallcma.name = 'fallcma'\n",
    "fallb.name = 'fallb'\n",
    "m20overc.name = 'm20overc'\n",
    "m20overma.name = 'm20ovecma'\n",
    "f18overc.name = 'f18overc'\n",
    "f18overma.name = 'f18overma'\n",
    "mlt20c.name = 'mlt20c'\n",
    "mlt20ma.name = 'mlt20ma'\n",
    "flt18c.name = 'flt18c'\n",
    "flt18ma.name = 'flt18ma'\n",
    "mallma.name = 'mallma'\n",
    "mallc.name = 'mallc'\n",
    "fallma.name = 'fallma'\n",
    "fallc.name = 'fallc'"
   ]
  },
  {
   "cell_type": "markdown",
   "metadata": {},
   "source": [
    "## Variables non-ratio"
   ]
  },
  {
   "cell_type": "markdown",
   "metadata": {},
   "source": [
    "varsnonratio = [ 'SPPFEV1', 'SPPFEV3', 'SPPFEV6', 'SPPFVC','SPPPEAK','SPPMMEF', 'SPPFEF75', 'SPPEXPIR']"
   ]
  },
  {
   "cell_type": "code",
   "execution_count": 121,
   "metadata": {},
   "outputs": [],
   "source": [
    "varsnonratio = [ 'SPPFEV1', 'SPPFEV3', 'SPPFEV6', 'SPPFVC','SPPPEAK','SPPMMEF', 'SPPFEF75', 'SPPEXPIR']"
   ]
  },
  {
   "cell_type": "code",
   "execution_count": 122,
   "metadata": {},
   "outputs": [
    {
     "name": "stdout",
     "output_type": "stream",
     "text": [
      "SPPFEV1\n"
     ]
    }
   ],
   "source": [
    "print (varsnonratio[0])"
   ]
  },
  {
   "cell_type": "markdown",
   "metadata": {},
   "source": [
    "## Variables ratio"
   ]
  },
  {
   "cell_type": "markdown",
   "metadata": {},
   "source": [
    "varsratio = ['FEV1OFVC', 'FEV1OFEV6', 'PEFROFVC', 'PEFROFEV6', 'PEFROFEV1', 'FEV3OFVC', 'FEV6OFVC']"
   ]
  },
  {
   "cell_type": "code",
   "execution_count": 123,
   "metadata": {},
   "outputs": [],
   "source": [
    "varsratio= ['FEV1OFVC', 'FEV1OFEV6', 'PEFROFVC', 'PEFROFEV6', 'PEFROFEV1', 'FEV3OFVC', 'FEV6OFVC']"
   ]
  },
  {
   "cell_type": "markdown",
   "metadata": {},
   "source": [
    "## Now fit curves"
   ]
  },
  {
   "cell_type": "markdown",
   "metadata": {},
   "source": [
    "using example in lmfit.github.io/lmfit-py/model.html"
   ]
  },
  {
   "cell_type": "markdown",
   "metadata": {},
   "source": [
    "import matplotlib.pyplot as plt"
   ]
  },
  {
   "cell_type": "code",
   "execution_count": 124,
   "metadata": {},
   "outputs": [],
   "source": [
    "import matplotlib.pyplot as plt"
   ]
  },
  {
   "cell_type": "markdown",
   "metadata": {},
   "source": [
    "from sklearn.linear_model import LinearRegression"
   ]
  },
  {
   "cell_type": "code",
   "execution_count": 125,
   "metadata": {},
   "outputs": [],
   "source": [
    "from sklearn.linear_model import LinearRegression"
   ]
  },
  {
   "cell_type": "markdown",
   "metadata": {},
   "source": [
    "def spiro_parameters(data, y):\n",
    "    \"\"\"data is the dataframe you're taking X from; y is the name of the y variable\"\"\"\n",
    "    # age = HSAITMOR / 12\n",
    "    height = 'BMPHT'\n",
    "    age = 'HSAGER'\n",
    "    X = data[age, height]\n",
    "    # add age^2 and height^2 to X\n",
    "    new_X = np.hstack((X, X**2))\n",
    "    lr = LinearRegression().fit(new_X,y)\n",
    "    # do linear regression fit on X, y\n",
    "    lr.score(new_X, y)\n",
    "    lr.coef_\n",
    "    lr.intercept_\n",
    "    print (coefficients)"
   ]
  },
  {
   "cell_type": "code",
   "execution_count": 126,
   "metadata": {},
   "outputs": [],
   "source": [
    "def spiro_parameters(data, y):\n",
    "    \"\"\"data is the dataframe you're taking X from; y is the name of the y variable\"\"\"\n",
    "    # age = HSAITMOR / 12\n",
    "    height = 'BMPHT'\n",
    "    age = 'HSAGER'\n",
    "    X = data[age, height]\n",
    "    # add age^2 and height^2 to X\n",
    "    new_X = np.hstack((X, X**2))\n",
    "    lr = LinearRegression().fit(new_X,y)\n",
    "    # do linear regression fit on X, y\n",
    "    lr.score(new_X, y)\n",
    "    lr.coef_\n",
    "    lr.intercept_\n",
    "    print (coefficients)"
   ]
  },
  {
   "cell_type": "markdown",
   "metadata": {},
   "source": [
    "def spiro2_parameters(data, y):\n",
    "    \"\"\"data is the dataframe you're taking X from; y is the name of the y variable\"\"\"\n",
    "    # want to do b0 + b1*age + b2 *age *age + b3 * ht * ht\n",
    "    # age = HSAITMOR / 12\n",
    "    height = 'BMPHT'\n",
    "    age = 'HSAGER'\n",
    "    X = data[age, height]\n",
    "    # add age^2 and height^2 to X\n",
    "    # new_X = np.hstack((X, X**2))\n",
    "    lr = LinearRegression().fit(X,y)\n",
    "    # do linear regression fit on X, y\n",
    "    reg.score(X,y)\n",
    "    reg.coef(X,y)\n",
    "    print (coefficients)"
   ]
  },
  {
   "cell_type": "code",
   "execution_count": 127,
   "metadata": {},
   "outputs": [],
   "source": [
    "def spiro2_parameters(data, y):\n",
    "    \"\"\"data is the dataframe you're taking X from; y is the name of the y variable\"\"\"\n",
    "    # want to do b0 + b1*age + b2 *age *age + b3 * ht * ht\n",
    "    # age = HSAITMOR / 12\n",
    "    height = 'BMPHT'\n",
    "    age = 'HSAGER'\n",
    "    X = data[age, height]\n",
    "    # add age^2 and height^2 to X\n",
    "    # new_X = np.hstack((X, X**2))\n",
    "    lr = LinearRegression().fit(X,y)\n",
    "    # do linear regression fit on X, y\n",
    "    reg.score(X,y)\n",
    "    reg.coef(X,y)\n",
    "    print (coefficients)"
   ]
  },
  {
   "cell_type": "code",
   "execution_count": 128,
   "metadata": {},
   "outputs": [
    {
     "data": {
      "text/plain": [
       "array([0.5, 0.5])"
      ]
     },
     "execution_count": 128,
     "metadata": {},
     "output_type": "execute_result"
    }
   ],
   "source": [
    "# example from sklearn - add data points\n",
    "from sklearn import linear_model\n",
    "reg = linear_model.LinearRegression()\n",
    "reg.fit([[0, 0], [1, 1], [2, 2], [3,3]], [1, 2, 3, 4])\n",
    "LinearRegression()\n",
    "reg.coef_\n",
    "# array([0.5, 0.5])"
   ]
  },
  {
   "cell_type": "code",
   "execution_count": 129,
   "metadata": {},
   "outputs": [
    {
     "data": {
      "text/plain": [
       "0.13636363636363638"
      ]
     },
     "execution_count": 129,
     "metadata": {},
     "output_type": "execute_result"
    }
   ],
   "source": [
    "# example from sklearn\n",
    "from sklearn import linear_model\n",
    "reg = linear_model.Ridge(alpha=.5)\n",
    "reg.fit([[0, 0], [0, 0], [1, 1]], [0, .1, 1])\n",
    "# Ridge(alpha=0.5)\n",
    "reg.coef_\n",
    "# array([0.34545455, 0.34545455])\n",
    "reg.intercept_\n",
    "# 0.13636...   "
   ]
  },
  {
   "cell_type": "code",
   "execution_count": 130,
   "metadata": {},
   "outputs": [
    {
     "data": {
      "text/plain": [
       "Index(['HAR1', 'HAR23', 'HAR26', 'HAC1E', 'HAC1F', 'HAC1G', 'HAC1O', 'HAL6',\n",
       "       'HAL10', 'HAL1', 'HAL3', 'HAL5', 'DMARACER', 'DMARETHN', 'DMAETHNR',\n",
       "       'HSSEX', 'HSAGEIR', 'HSAGEU', 'HXPAXTMR', 'HXPSESSR', 'HSAITMOR',\n",
       "       'HAR4S', 'SPPQ5', 'SPPQ4', 'SPPMANEU', 'MYPB1', 'MYPB3', 'MYPB11',\n",
       "       'MYPB27A', 'MYPB27B', 'HSAGEIR_exam', 'HSAGEU_exam', 'HXPAXTMR_exam',\n",
       "       'HXPSESSR_exam', 'HXPEJ6A2', 'SPPTECH1', 'SPPTRIAL', 'SPPPEAK',\n",
       "       'SPPFEV05', 'SPPFEV1', 'SPPFEV3', 'SPPFEV6', 'SPPFVC', 'SPPMMEF',\n",
       "       'SPPFEF75', 'SPPTYPE', 'SPPREPRO', 'SPPTIME', 'SPPEXPIR', 'SPPTEMP',\n",
       "       'HSSEX_exam', 'WTPFHX6', 'MXPAXTMR', 'BMPHT', 'BMPSITHT', 'BMPWT',\n",
       "       'DMARACER_exam', 'DMARETHN_exam', 'SPPQ3', 'DMAETHNR_exam',\n",
       "       'HSAITMOR_exam', 'PEFROVERFVC', 'FEV1OFVC', 'FEV1OFEV6', 'PEFROFVC',\n",
       "       'PEFROFEV6', 'PEFROFEV1', 'FEV3OFVC', 'FEV6OFVC', 'HYE1G', 'HYG2',\n",
       "       'HYG4', 'HYG7', 'HYG12', 'HYG8', 'HYE1H'],\n",
       "      dtype='object')"
      ]
     },
     "execution_count": 130,
     "metadata": {},
     "output_type": "execute_result"
    }
   ],
   "source": [
    "flt18b.columns"
   ]
  },
  {
   "cell_type": "code",
   "execution_count": 131,
   "metadata": {},
   "outputs": [
    {
     "data": {
      "text/html": [
       "<div>\n",
       "<style scoped>\n",
       "    .dataframe tbody tr th:only-of-type {\n",
       "        vertical-align: middle;\n",
       "    }\n",
       "\n",
       "    .dataframe tbody tr th {\n",
       "        vertical-align: top;\n",
       "    }\n",
       "\n",
       "    .dataframe thead th {\n",
       "        text-align: right;\n",
       "    }\n",
       "</style>\n",
       "<table border=\"1\" class=\"dataframe\">\n",
       "  <thead>\n",
       "    <tr style=\"text-align: right;\">\n",
       "      <th></th>\n",
       "      <th>HAR1</th>\n",
       "      <th>HAR23</th>\n",
       "      <th>HAR26</th>\n",
       "      <th>HAC1E</th>\n",
       "      <th>HAC1F</th>\n",
       "      <th>HAC1G</th>\n",
       "      <th>HAC1O</th>\n",
       "      <th>HAL6</th>\n",
       "      <th>HAL10</th>\n",
       "      <th>HAL1</th>\n",
       "      <th>...</th>\n",
       "      <th>PEFROFEV1</th>\n",
       "      <th>FEV3OFVC</th>\n",
       "      <th>FEV6OFVC</th>\n",
       "      <th>HYE1G</th>\n",
       "      <th>HYG2</th>\n",
       "      <th>HYG4</th>\n",
       "      <th>HYG7</th>\n",
       "      <th>HYG12</th>\n",
       "      <th>HYG8</th>\n",
       "      <th>HYE1H</th>\n",
       "    </tr>\n",
       "  </thead>\n",
       "  <tbody>\n",
       "    <tr>\n",
       "      <th>count</th>\n",
       "      <td>44.0</td>\n",
       "      <td>44.0</td>\n",
       "      <td>44.0</td>\n",
       "      <td>44.0</td>\n",
       "      <td>44.0</td>\n",
       "      <td>44.0</td>\n",
       "      <td>44.0</td>\n",
       "      <td>44.0</td>\n",
       "      <td>44.0</td>\n",
       "      <td>44.0</td>\n",
       "      <td>...</td>\n",
       "      <td>604.000000</td>\n",
       "      <td>604.000000</td>\n",
       "      <td>604.000000</td>\n",
       "      <td>560.0</td>\n",
       "      <td>277.000000</td>\n",
       "      <td>277.000000</td>\n",
       "      <td>38.000000</td>\n",
       "      <td>560.0</td>\n",
       "      <td>560.0</td>\n",
       "      <td>560.0</td>\n",
       "    </tr>\n",
       "    <tr>\n",
       "      <th>mean</th>\n",
       "      <td>2.0</td>\n",
       "      <td>2.0</td>\n",
       "      <td>2.0</td>\n",
       "      <td>2.0</td>\n",
       "      <td>2.0</td>\n",
       "      <td>2.0</td>\n",
       "      <td>2.0</td>\n",
       "      <td>2.0</td>\n",
       "      <td>2.0</td>\n",
       "      <td>2.0</td>\n",
       "      <td>...</td>\n",
       "      <td>2.365517</td>\n",
       "      <td>0.984810</td>\n",
       "      <td>0.996741</td>\n",
       "      <td>2.0</td>\n",
       "      <td>2.021661</td>\n",
       "      <td>2.021661</td>\n",
       "      <td>72.131579</td>\n",
       "      <td>2.0</td>\n",
       "      <td>2.0</td>\n",
       "      <td>2.0</td>\n",
       "    </tr>\n",
       "    <tr>\n",
       "      <th>std</th>\n",
       "      <td>0.0</td>\n",
       "      <td>0.0</td>\n",
       "      <td>0.0</td>\n",
       "      <td>0.0</td>\n",
       "      <td>0.0</td>\n",
       "      <td>0.0</td>\n",
       "      <td>0.0</td>\n",
       "      <td>0.0</td>\n",
       "      <td>0.0</td>\n",
       "      <td>0.0</td>\n",
       "      <td>...</td>\n",
       "      <td>0.338832</td>\n",
       "      <td>0.025043</td>\n",
       "      <td>0.011997</td>\n",
       "      <td>0.0</td>\n",
       "      <td>0.360505</td>\n",
       "      <td>0.360505</td>\n",
       "      <td>242.070368</td>\n",
       "      <td>0.0</td>\n",
       "      <td>0.0</td>\n",
       "      <td>0.0</td>\n",
       "    </tr>\n",
       "    <tr>\n",
       "      <th>min</th>\n",
       "      <td>2.0</td>\n",
       "      <td>2.0</td>\n",
       "      <td>2.0</td>\n",
       "      <td>2.0</td>\n",
       "      <td>2.0</td>\n",
       "      <td>2.0</td>\n",
       "      <td>2.0</td>\n",
       "      <td>2.0</td>\n",
       "      <td>2.0</td>\n",
       "      <td>2.0</td>\n",
       "      <td>...</td>\n",
       "      <td>1.183187</td>\n",
       "      <td>0.581757</td>\n",
       "      <td>0.765541</td>\n",
       "      <td>2.0</td>\n",
       "      <td>2.000000</td>\n",
       "      <td>2.000000</td>\n",
       "      <td>1.000000</td>\n",
       "      <td>2.0</td>\n",
       "      <td>2.0</td>\n",
       "      <td>2.0</td>\n",
       "    </tr>\n",
       "    <tr>\n",
       "      <th>25%</th>\n",
       "      <td>2.0</td>\n",
       "      <td>2.0</td>\n",
       "      <td>2.0</td>\n",
       "      <td>2.0</td>\n",
       "      <td>2.0</td>\n",
       "      <td>2.0</td>\n",
       "      <td>2.0</td>\n",
       "      <td>2.0</td>\n",
       "      <td>2.0</td>\n",
       "      <td>2.0</td>\n",
       "      <td>...</td>\n",
       "      <td>2.146893</td>\n",
       "      <td>0.977332</td>\n",
       "      <td>0.998792</td>\n",
       "      <td>2.0</td>\n",
       "      <td>2.000000</td>\n",
       "      <td>2.000000</td>\n",
       "      <td>1.250000</td>\n",
       "      <td>2.0</td>\n",
       "      <td>2.0</td>\n",
       "      <td>2.0</td>\n",
       "    </tr>\n",
       "    <tr>\n",
       "      <th>50%</th>\n",
       "      <td>2.0</td>\n",
       "      <td>2.0</td>\n",
       "      <td>2.0</td>\n",
       "      <td>2.0</td>\n",
       "      <td>2.0</td>\n",
       "      <td>2.0</td>\n",
       "      <td>2.0</td>\n",
       "      <td>2.0</td>\n",
       "      <td>2.0</td>\n",
       "      <td>2.0</td>\n",
       "      <td>...</td>\n",
       "      <td>2.351716</td>\n",
       "      <td>0.992412</td>\n",
       "      <td>0.999322</td>\n",
       "      <td>2.0</td>\n",
       "      <td>2.000000</td>\n",
       "      <td>2.000000</td>\n",
       "      <td>2.000000</td>\n",
       "      <td>2.0</td>\n",
       "      <td>2.0</td>\n",
       "      <td>2.0</td>\n",
       "    </tr>\n",
       "    <tr>\n",
       "      <th>75%</th>\n",
       "      <td>2.0</td>\n",
       "      <td>2.0</td>\n",
       "      <td>2.0</td>\n",
       "      <td>2.0</td>\n",
       "      <td>2.0</td>\n",
       "      <td>2.0</td>\n",
       "      <td>2.0</td>\n",
       "      <td>2.0</td>\n",
       "      <td>2.0</td>\n",
       "      <td>2.0</td>\n",
       "      <td>...</td>\n",
       "      <td>2.586888</td>\n",
       "      <td>0.999316</td>\n",
       "      <td>0.999574</td>\n",
       "      <td>2.0</td>\n",
       "      <td>2.000000</td>\n",
       "      <td>2.000000</td>\n",
       "      <td>3.000000</td>\n",
       "      <td>2.0</td>\n",
       "      <td>2.0</td>\n",
       "      <td>2.0</td>\n",
       "    </tr>\n",
       "    <tr>\n",
       "      <th>max</th>\n",
       "      <td>2.0</td>\n",
       "      <td>2.0</td>\n",
       "      <td>2.0</td>\n",
       "      <td>2.0</td>\n",
       "      <td>2.0</td>\n",
       "      <td>2.0</td>\n",
       "      <td>2.0</td>\n",
       "      <td>2.0</td>\n",
       "      <td>2.0</td>\n",
       "      <td>2.0</td>\n",
       "      <td>...</td>\n",
       "      <td>3.652091</td>\n",
       "      <td>1.000000</td>\n",
       "      <td>1.000000</td>\n",
       "      <td>2.0</td>\n",
       "      <td>8.000000</td>\n",
       "      <td>8.000000</td>\n",
       "      <td>888.000000</td>\n",
       "      <td>2.0</td>\n",
       "      <td>2.0</td>\n",
       "      <td>2.0</td>\n",
       "    </tr>\n",
       "  </tbody>\n",
       "</table>\n",
       "<p>8 rows × 75 columns</p>\n",
       "</div>"
      ],
      "text/plain": [
       "       HAR1  HAR23  HAR26  HAC1E  HAC1F  HAC1G  HAC1O  HAL6  HAL10  HAL1  ...  \\\n",
       "count  44.0   44.0   44.0   44.0   44.0   44.0   44.0  44.0   44.0  44.0  ...   \n",
       "mean    2.0    2.0    2.0    2.0    2.0    2.0    2.0   2.0    2.0   2.0  ...   \n",
       "std     0.0    0.0    0.0    0.0    0.0    0.0    0.0   0.0    0.0   0.0  ...   \n",
       "min     2.0    2.0    2.0    2.0    2.0    2.0    2.0   2.0    2.0   2.0  ...   \n",
       "25%     2.0    2.0    2.0    2.0    2.0    2.0    2.0   2.0    2.0   2.0  ...   \n",
       "50%     2.0    2.0    2.0    2.0    2.0    2.0    2.0   2.0    2.0   2.0  ...   \n",
       "75%     2.0    2.0    2.0    2.0    2.0    2.0    2.0   2.0    2.0   2.0  ...   \n",
       "max     2.0    2.0    2.0    2.0    2.0    2.0    2.0   2.0    2.0   2.0  ...   \n",
       "\n",
       "        PEFROFEV1    FEV3OFVC    FEV6OFVC  HYE1G        HYG2        HYG4  \\\n",
       "count  604.000000  604.000000  604.000000  560.0  277.000000  277.000000   \n",
       "mean     2.365517    0.984810    0.996741    2.0    2.021661    2.021661   \n",
       "std      0.338832    0.025043    0.011997    0.0    0.360505    0.360505   \n",
       "min      1.183187    0.581757    0.765541    2.0    2.000000    2.000000   \n",
       "25%      2.146893    0.977332    0.998792    2.0    2.000000    2.000000   \n",
       "50%      2.351716    0.992412    0.999322    2.0    2.000000    2.000000   \n",
       "75%      2.586888    0.999316    0.999574    2.0    2.000000    2.000000   \n",
       "max      3.652091    1.000000    1.000000    2.0    8.000000    8.000000   \n",
       "\n",
       "             HYG7  HYG12   HYG8  HYE1H  \n",
       "count   38.000000  560.0  560.0  560.0  \n",
       "mean    72.131579    2.0    2.0    2.0  \n",
       "std    242.070368    0.0    0.0    0.0  \n",
       "min      1.000000    2.0    2.0    2.0  \n",
       "25%      1.250000    2.0    2.0    2.0  \n",
       "50%      2.000000    2.0    2.0    2.0  \n",
       "75%      3.000000    2.0    2.0    2.0  \n",
       "max    888.000000    2.0    2.0    2.0  \n",
       "\n",
       "[8 rows x 75 columns]"
      ]
     },
     "execution_count": 131,
     "metadata": {},
     "output_type": "execute_result"
    }
   ],
   "source": [
    "flt18b.describe()\n"
   ]
  },
  {
   "cell_type": "code",
   "execution_count": 132,
   "metadata": {},
   "outputs": [
    {
     "data": {
      "text/plain": [
       "0.06995933169025223"
      ]
     },
     "execution_count": 132,
     "metadata": {},
     "output_type": "execute_result"
    }
   ],
   "source": [
    "flt18b.loc[:,\"FEV1OFVC\"].std()"
   ]
  },
  {
   "cell_type": "markdown",
   "metadata": {},
   "source": [
    "  #  height = 'BMPHT'\n",
    "# age = 'HSAGEIR'/12 - or age in months/12\n",
    "def linear_regage(data, y_var):\n",
    "    X = data['HSAGEIR']/12  # to convert to year\n",
    "    X = np.array(X).reshape(-1, 1)\n",
    "    y = data[y_var]\n",
    "    lr = LinearRegression().fit(X, y)\n",
    "        # do linear regression fit on X, y\n",
    "    print(data.name, \", \",y_var, \", \",lr.intercept_, \", \", lr.coef_, \", \", lr.score(X, y), \", \", data.loc[:,y_var].std(), \", \", data.loc[:,y_var].count())\n",
    "    return lr.intercept_, lr.coef_\n",
    "    #. prints intercept, slope, and r squared\n",
    "   # print (lr.std_)\n",
    "   # return lr\n",
    "\n",
    "# reg.coef_"
   ]
  },
  {
   "cell_type": "code",
   "execution_count": 191,
   "metadata": {},
   "outputs": [],
   "source": [
    "  #  height = 'BMPHT'\n",
    "# age = 'HSAGEIR'/12 - or age in months/12\n",
    "def linear_regage(data, y_var):\n",
    "    X = data['HSAGEIR']/12  # to convert to year\n",
    "    X = np.array(X).reshape(-1, 1)\n",
    "    y = data[y_var]\n",
    "    lr = LinearRegression().fit(X, y)\n",
    "        # do linear regression fit on X, y\n",
    " #   print(data.name, \", \",y_var, \", \",lr.intercept_, \", \", lr.coef_, \", \", lr.score(X, y), \", \", data.loc[:,y_var].std(), \", \", data.loc[:,y_var].count())\n",
    " # now returns values rather than print - intercept, slope, R2, std, count\n",
    "    return lr.intercept_, lr.coef_, lr.score(X, y),  data.loc[:,y_var].std(), data.loc[:,y_var].count()\n",
    "    #. prints intercept, slope, and r squared\n",
    "   # print (lr.std_)\n",
    "   # return lr\n",
    "\n",
    "# reg.coef_"
   ]
  },
  {
   "cell_type": "markdown",
   "metadata": {},
   "source": [
    "reg = linear_regage (m20overc,'FEV1OFVC')"
   ]
  },
  {
   "cell_type": "code",
   "execution_count": 172,
   "metadata": {},
   "outputs": [
    {
     "name": "stdout",
     "output_type": "stream",
     "text": [
      "m20overc ,  FEV1OFVC ,  0.8735761696289119 ,  [-0.0237296] ,  0.2645116997140077 ,  0.06820441306086775 ,  494\n",
      "xxx\n",
      "(0.8735761696289119, array([-0.0237296]))\n",
      "a  0.8735761696289119\n",
      "b  [-0.0237296]\n",
      "d  -0.023729595299882868\n",
      "0.8735761696289119\n",
      "[-0.0237296]\n"
     ]
    }
   ],
   "source": [
    "reg = linear_regage (m20overc,'FEV1OFVC')\n",
    "print('xxx')\n",
    "print(reg)\n",
    "a, b = reg\n",
    "print ('a ', a)\n",
    "print ('b ', b)\n",
    "d, = b\n",
    "print ('d ', d)\n",
    "a, b, = reg\n",
    "print (a)\n",
    "print (b)"
   ]
  },
  {
   "cell_type": "code",
   "execution_count": 135,
   "metadata": {},
   "outputs": [
    {
     "name": "stdout",
     "output_type": "stream",
     "text": [
      "FEV1OFVC\n",
      "FEV1OFEV6\n",
      "PEFROFVC\n",
      "PEFROFEV6\n",
      "PEFROFEV1\n",
      "FEV3OFVC\n",
      "FEV6OFVC\n"
     ]
    }
   ],
   "source": [
    "for x in varsratio:\n",
    "    print (x)"
   ]
  },
  {
   "cell_type": "markdown",
   "metadata": {},
   "source": [
    "# Now try create new variable %predicted"
   ]
  },
  {
   "cell_type": "code",
   "execution_count": 136,
   "metadata": {},
   "outputs": [],
   "source": [
    "datanametest = \"FEV1OFVC\""
   ]
  },
  {
   "cell_type": "code",
   "execution_count": 137,
   "metadata": {},
   "outputs": [
    {
     "name": "stdout",
     "output_type": "stream",
     "text": [
      "FEV1OFVC\n"
     ]
    }
   ],
   "source": [
    "print (datanametest)"
   ]
  },
  {
   "cell_type": "code",
   "execution_count": 138,
   "metadata": {},
   "outputs": [],
   "source": [
    "datanamepp = datanametest + 'PP'"
   ]
  },
  {
   "cell_type": "code",
   "execution_count": 139,
   "metadata": {},
   "outputs": [
    {
     "name": "stdout",
     "output_type": "stream",
     "text": [
      "FEV1OFVCPP\n"
     ]
    }
   ],
   "source": [
    "print (datanamepp)"
   ]
  },
  {
   "cell_type": "markdown",
   "metadata": {},
   "source": [
    "  #  height = 'BMPHT'\n",
    "# age = 'HSAGEIR'/12 - or age in months/12\n",
    "def linear_regagepp(data, y_var):\n",
    "    X = data['HSAGEIR']/12  # to convert to year\n",
    "    XOR = X\n",
    "    X = np.array(X).reshape(-1, 1)\n",
    "    y = data[y_var]\n",
    "    lr = LinearRegression().fit(X, y)\n",
    "        # do linear regression fit on X, y\n",
    "    print(data.name, \", \",y_var, \", \",lr.intercept_, \", \", lr.coef_, \", \", lr.score(X, y), \", \", data.loc[:,y_var].std(), \", \", data.loc[:,y_var].count())\n",
    "    return lr.intercept_, lr.coef_\n",
    "# create new variable percent predicted - later need have variable y_var.\"PP\"\n",
    "#    newvar = y_var + 'PP'\n",
    " #   data[newvar] = y / (lr.intercept_ + lr.coef_ * data['HSAGEIR']/12) * 100\n",
    "#. prints intercept, slope, and r squared\n",
    "   # print (lr.std_)\n",
    "   # return lr\n",
    "\n",
    "# reg.coef_"
   ]
  },
  {
   "cell_type": "code",
   "execution_count": 140,
   "metadata": {},
   "outputs": [],
   "source": [
    "  #  height = 'BMPHT'\n",
    "# age = 'HSAGEIR'/12 - or age in months/12\n",
    "def linear_regagepp(data, y_var):\n",
    "    X = data['HSAGEIR']/12  # to convert to year\n",
    "    XOR = X\n",
    "    X = np.array(X).reshape(-1, 1)\n",
    "    y = data[y_var]\n",
    "    lr = LinearRegression().fit(X, y)\n",
    "        # do linear regression fit on X, y\n",
    "    print(data.name, \", \",y_var, \", \",lr.intercept_, \", \", lr.coef_, \", \", lr.score(X, y), \", \", data.loc[:,y_var].std(), \", \", data.loc[:,y_var].count())\n",
    "    return lr.intercept_, lr.coef_\n",
    "# create new variable percent predicted - later need have variable y_var.\"PP\"\n",
    "    newvar = y_var + 'PPP'\n",
    "    data[newvar] = y / (lr.intercept_ + lr.coef_ * data['HSAGEIR']/12)\n",
    "    data[newvar] = y / (lr.intercept_ + lr.coef_ * data['HSAGEIR']/12)\n",
    "#. prints intercept, slope, and r squared\n",
    "   # print (lr.std_)\n",
    "   # return lr\n",
    "\n",
    "# reg.coef_"
   ]
  },
  {
   "cell_type": "markdown",
   "metadata": {},
   "source": [
    "Test trying percent predicted variable"
   ]
  },
  {
   "cell_type": "code",
   "execution_count": null,
   "metadata": {},
   "outputs": [],
   "source": []
  },
  {
   "cell_type": "code",
   "execution_count": 141,
   "metadata": {},
   "outputs": [],
   "source": [
    "data = m20overc\n",
    "y_var = 'FEV1OFVC'"
   ]
  },
  {
   "cell_type": "code",
   "execution_count": 142,
   "metadata": {},
   "outputs": [
    {
     "name": "stdout",
     "output_type": "stream",
     "text": [
      "m20overc ,  FEV1OFVC ,  0.8735761696289119 ,  [-0.0237296] ,  0.2645116997140077 ,  0.06820441306086775 ,  494\n"
     ]
    }
   ],
   "source": [
    "(b0, b1) = linear_regagepp (data,y_var)"
   ]
  },
  {
   "cell_type": "code",
   "execution_count": 143,
   "metadata": {},
   "outputs": [
    {
     "name": "stdout",
     "output_type": "stream",
     "text": [
      "0.8735761696289119 [-0.0237296]\n"
     ]
    }
   ],
   "source": [
    "print (b0, b1)"
   ]
  },
  {
   "cell_type": "code",
   "execution_count": 144,
   "metadata": {},
   "outputs": [
    {
     "name": "stdout",
     "output_type": "stream",
     "text": [
      "-2.372959529988287\n"
     ]
    }
   ],
   "source": [
    "print (*b1 * 100)"
   ]
  },
  {
   "cell_type": "code",
   "execution_count": 145,
   "metadata": {},
   "outputs": [
    {
     "name": "stdout",
     "output_type": "stream",
     "text": [
      "[-0.0237296]\n"
     ]
    }
   ],
   "source": [
    "(slope) = b1\n",
    "print (slope)"
   ]
  },
  {
   "cell_type": "code",
   "execution_count": null,
   "metadata": {},
   "outputs": [],
   "source": []
  },
  {
   "cell_type": "code",
   "execution_count": 146,
   "metadata": {},
   "outputs": [
    {
     "name": "stderr",
     "output_type": "stream",
     "text": [
      "/usr/local/lib/python3.7/site-packages/ipykernel_launcher.py:4: UserWarning: Pandas doesn't allow columns to be created via a new attribute name - see https://pandas.pydata.org/pandas-docs/stable/indexing.html#attribute-access\n",
      "  after removing the cwd from sys.path.\n",
      "/usr/local/lib/python3.7/site-packages/ipykernel_launcher.py:6: SettingWithCopyWarning: \n",
      "A value is trying to be set on a copy of a slice from a DataFrame.\n",
      "Try using .loc[row_indexer,col_indexer] = value instead\n",
      "\n",
      "See the caveats in the documentation: https://pandas.pydata.org/pandas-docs/stable/user_guide/indexing.html#returning-a-view-versus-a-copy\n",
      "  \n"
     ]
    }
   ],
   "source": [
    "data = m20overc\n",
    "var = 'FEV1OFVC'\n",
    "newvar = var + 'PP'\n",
    "data.FEV1OFVCPP = data.FEV1OFVC/ (b0 + b1 * data.HSAGEIR/12)\n",
    "# data.FEV1OFVC = data.var/ (b0 + b1 * data.HSAGEIR/12)\n",
    "data['newvar'] = (data[var] / (b0 + b1 * data.HSAGEIR/12))\n",
    "# data.FEV1OFVCPP = data.FEV1OFVC/ (b0 + b1 * data.HSAGEIR/12)\n",
    "#/ (b0 + b1 * data['HSAGEIR']/12)\n"
   ]
  },
  {
   "cell_type": "code",
   "execution_count": 147,
   "metadata": {},
   "outputs": [
    {
     "ename": "SyntaxError",
     "evalue": "invalid syntax (<ipython-input-147-523d66088d3a>, line 1)",
     "output_type": "error",
     "traceback": [
      "\u001b[0;36m  File \u001b[0;32m\"<ipython-input-147-523d66088d3a>\"\u001b[0;36m, line \u001b[0;32m1\u001b[0m\n\u001b[0;31m    def addppvar(data,y-var)\u001b[0m\n\u001b[0m                       ^\u001b[0m\n\u001b[0;31mSyntaxError\u001b[0m\u001b[0;31m:\u001b[0m invalid syntax\n"
     ]
    }
   ],
   "source": [
    "def addppvar(data,y-var)\n"
   ]
  },
  {
   "cell_type": "code",
   "execution_count": null,
   "metadata": {},
   "outputs": [],
   "source": []
  },
  {
   "cell_type": "code",
   "execution_count": 148,
   "metadata": {},
   "outputs": [
    {
     "data": {
      "text/plain": [
       "(494,)"
      ]
     },
     "execution_count": 148,
     "metadata": {},
     "output_type": "execute_result"
    }
   ],
   "source": [
    "m20overc.FEV1OFVC.shape"
   ]
  },
  {
   "cell_type": "code",
   "execution_count": 149,
   "metadata": {},
   "outputs": [
    {
     "data": {
      "text/plain": [
       "(494,)"
      ]
     },
     "execution_count": 149,
     "metadata": {},
     "output_type": "execute_result"
    }
   ],
   "source": [
    "m20overc.FEV1OFVCPP.shape"
   ]
  },
  {
   "cell_type": "code",
   "execution_count": 150,
   "metadata": {},
   "outputs": [
    {
     "data": {
      "text/plain": [
       "<matplotlib.axes._subplots.AxesSubplot at 0x120c543d0>"
      ]
     },
     "execution_count": 150,
     "metadata": {},
     "output_type": "execute_result"
    },
    {
     "data": {
      "image/png": "[encoded data removed]",
      "text/plain": [
       "<Figure size 432x288 with 1 Axes>"
      ]
     },
     "metadata": {
      "needs_background": "light"
     },
     "output_type": "display_data"
    }
   ],
   "source": [
    "m20overc.FEV1OFVC.hist(bins='auto')"
   ]
  },
  {
   "cell_type": "code",
   "execution_count": 151,
   "metadata": {},
   "outputs": [
    {
     "ename": "AttributeError",
     "evalue": "'DataFrame' object has no attribute 'FEV1OFVCPPP'",
     "output_type": "error",
     "traceback": [
      "\u001b[0;31m---------------------------------------------------------------------------\u001b[0m",
      "\u001b[0;31mAttributeError\u001b[0m                            Traceback (most recent call last)",
      "\u001b[0;32m<ipython-input-151-645b982aece2>\u001b[0m in \u001b[0;36m<module>\u001b[0;34m\u001b[0m\n\u001b[0;32m----> 1\u001b[0;31m \u001b[0mm20overc\u001b[0m\u001b[0;34m.\u001b[0m\u001b[0mFEV1OFVCPPP\u001b[0m\u001b[0;34m.\u001b[0m\u001b[0mhist\u001b[0m\u001b[0;34m(\u001b[0m\u001b[0mbins\u001b[0m\u001b[0;34m=\u001b[0m\u001b[0;34m'auto'\u001b[0m\u001b[0;34m)\u001b[0m\u001b[0;34m\u001b[0m\u001b[0;34m\u001b[0m\u001b[0m\n\u001b[0m",
      "\u001b[0;32m/usr/local/lib/python3.7/site-packages/pandas/core/generic.py\u001b[0m in \u001b[0;36m__getattr__\u001b[0;34m(self, name)\u001b[0m\n\u001b[1;32m   5272\u001b[0m             \u001b[0;32mif\u001b[0m \u001b[0mself\u001b[0m\u001b[0;34m.\u001b[0m\u001b[0m_info_axis\u001b[0m\u001b[0;34m.\u001b[0m\u001b[0m_can_hold_identifiers_and_holds_name\u001b[0m\u001b[0;34m(\u001b[0m\u001b[0mname\u001b[0m\u001b[0;34m)\u001b[0m\u001b[0;34m:\u001b[0m\u001b[0;34m\u001b[0m\u001b[0;34m\u001b[0m\u001b[0m\n\u001b[1;32m   5273\u001b[0m                 \u001b[0;32mreturn\u001b[0m \u001b[0mself\u001b[0m\u001b[0;34m[\u001b[0m\u001b[0mname\u001b[0m\u001b[0;34m]\u001b[0m\u001b[0;34m\u001b[0m\u001b[0;34m\u001b[0m\u001b[0m\n\u001b[0;32m-> 5274\u001b[0;31m             \u001b[0;32mreturn\u001b[0m \u001b[0mobject\u001b[0m\u001b[0;34m.\u001b[0m\u001b[0m__getattribute__\u001b[0m\u001b[0;34m(\u001b[0m\u001b[0mself\u001b[0m\u001b[0;34m,\u001b[0m \u001b[0mname\u001b[0m\u001b[0;34m)\u001b[0m\u001b[0;34m\u001b[0m\u001b[0;34m\u001b[0m\u001b[0m\n\u001b[0m\u001b[1;32m   5275\u001b[0m \u001b[0;34m\u001b[0m\u001b[0m\n\u001b[1;32m   5276\u001b[0m     \u001b[0;32mdef\u001b[0m \u001b[0m__setattr__\u001b[0m\u001b[0;34m(\u001b[0m\u001b[0mself\u001b[0m\u001b[0;34m,\u001b[0m \u001b[0mname\u001b[0m\u001b[0;34m:\u001b[0m \u001b[0mstr\u001b[0m\u001b[0;34m,\u001b[0m \u001b[0mvalue\u001b[0m\u001b[0;34m)\u001b[0m \u001b[0;34m->\u001b[0m \u001b[0;32mNone\u001b[0m\u001b[0;34m:\u001b[0m\u001b[0;34m\u001b[0m\u001b[0;34m\u001b[0m\u001b[0m\n",
      "\u001b[0;31mAttributeError\u001b[0m: 'DataFrame' object has no attribute 'FEV1OFVCPPP'"
     ]
    }
   ],
   "source": [
    "m20overc.FEV1OFVCPPP.hist(bins='auto')"
   ]
  },
  {
   "cell_type": "code",
   "execution_count": 152,
   "metadata": {},
   "outputs": [
    {
     "name": "stdout",
     "output_type": "stream",
     "text": [
      "0.788236891255396 0.08652781139466979 0.14233824974423182 0.6458986415111642\n",
      "0.6904955167397269\n"
     ]
    }
   ],
   "source": [
    "std = m20overc.FEV1OFVC.std()\n",
    "mean = m20overc.FEV1OFVC.mean()\n",
    "ratio = std / mean # m20overc.FEV1OFVC.std()/m20overc.FEV1OFVC.mean()\n",
    "print (mean, ratio, ratio* 1.645, mean - (ratio*1.645))\n",
    "print (.876 * mean)"
   ]
  },
  {
   "cell_type": "markdown",
   "metadata": {},
   "source": [
    "says mean FEV1/FVC .788, lower limit if use std for all data .645"
   ]
  },
  {
   "cell_type": "markdown",
   "metadata": {},
   "source": [
    "The std is smaller for %predicted than for actual value\n",
    "so to get 5% lower limit can use %predicted - 1.645 * std"
   ]
  },
  {
   "cell_type": "code",
   "execution_count": 153,
   "metadata": {},
   "outputs": [
    {
     "name": "stdout",
     "output_type": "stream",
     "text": [
      "0.9999914951970709 0.07509288547426683 0.12352779660516894 0.8764636985919019\n"
     ]
    }
   ],
   "source": [
    "std = m20overc.FEV1OFVCPP.std()\n",
    "mean = m20overc.FEV1OFVCPP.mean()\n",
    "ratio = std/mean # m20overc.FEV1OFVCPP.std()/m20overc.FEV1OFVCPP.mean()\n",
    "print (mean, ratio, ratio*1.645, mean - (ratio*1.645))"
   ]
  },
  {
   "cell_type": "markdown",
   "metadata": {},
   "source": [
    "says mean FEV1/FVC %pred is 100% and lower limit .876 of that\n",
    "if use prior mean FEV1/FVC of .788, .876 of that is .69 which is higher than .645"
   ]
  },
  {
   "cell_type": "code",
   "execution_count": 154,
   "metadata": {},
   "outputs": [
    {
     "name": "stdout",
     "output_type": "stream",
     "text": [
      "0.690288\n"
     ]
    }
   ],
   "source": [
    "print(.788*.876)"
   ]
  },
  {
   "cell_type": "code",
   "execution_count": null,
   "metadata": {},
   "outputs": [],
   "source": [
    "Try saving variables to array"
   ]
  },
  {
   "cell_type": "code",
   "execution_count": 214,
   "metadata": {},
   "outputs": [
    {
     "name": "stdout",
     "output_type": "stream",
     "text": [
      "m20overc\n",
      "FEV1OFEV6\n",
      "m20overcFEV1OFEV6\n"
     ]
    }
   ],
   "source": [
    "print (m20overc.name)\n",
    "print (varsratio[1])\n",
    "dfvar = m20overc.name + varsratio[1]\n",
    "print (dfvar)"
   ]
  },
  {
   "cell_type": "markdown",
   "metadata": {},
   "source": [
    "## For all frames, for all ratios to analyze, do regression vs age & save in resultsratio"
   ]
  },
  {
   "cell_type": "markdown",
   "metadata": {},
   "source": [
    "print ('Linear Regression of variables in form y = intercept + slope * age')\n",
    "print ('dataframe ,  variable,        intercept,          slope,            R squared,         standard deviation')\n",
    "for y in framestoanalyze:\n",
    "Save results in dataframe resultsratio"
   ]
  },
  {
   "cell_type": "markdown",
   "metadata": {},
   "source": [
    "# First initialize resultsratio dataframe\n",
    "column_names = [\"dfnvarn\",\"dfname\", \"var\", \"intercept\", \"slope\", \"r2\", \"std\", \"count\"]\n",
    "# print (column_names)\n",
    "resultsratio = pd.DataFrame(columns = column_names)\n",
    "resultsratio.name = 'resultsratio'\n",
    "print (resultsratio)\n",
    "print ('Linear Regression of variables in form y = intercept + slope * age')\n",
    "print ('dataframe ,  variable,        intercept,          slope,            R squared,         standard deviation,  count')\n",
    "for y in framestoanalyze:\n",
    "  #  print (y.name)\n",
    "    for xx in varsratio:\n",
    " #       print(y, \" \", xx)\n",
    "        reg = linear_regage (y,xx)\n",
    "        intercept, slope, r2, std, count = reg\n",
    "        slope, = slope\n",
    "        dfnvarn = y.name + xx\n",
    "        print (dfnvarn, ' ', y.name, ', ', xx, ', ', intercept, ', ', slope, ', ', r2, ', ', std, ', ',count)\n",
    "    #   now need save these in array of dataframe.variable, intercept slope\n",
    "        var = y.name\n",
    "    \n",
    "#  Columns: [dfnvarn, dfname, var, intercept, slope, r2, std, count] \n",
    "\n",
    "        df2 = {'dfnvarn': [dfnvarn], 'dfname': y.name, 'var': xx, 'intercept': intercept, 'slope':slope, 'r2':r2, 'std':std, 'count':count}                          \n",
    "        resultsratio = resultsratio.append(df2, ignore_index=True)    \n",
    "     \n",
    "#        varpp = xx + 'PP'\n",
    " #       print (var, ' ', dfvar, ' ', xx, ' ', varpp)\n",
    "    \n",
    " #   I think will need do for each variable unless can indirct       \n",
    " #  create new variable with PP at end = variable / predicted, where predicted = intercept + slope * Agemonth/12   \n",
    " #       y.varpp = y.xx / (intercept + slope * y.HSAGEIR/12)\n",
    " #       print (y.varpp.mean(), \" \", y.varpp.std())\n",
    "    \n",
    "    "
   ]
  },
  {
   "cell_type": "code",
   "execution_count": 416,
   "metadata": {},
   "outputs": [
    {
     "name": "stdout",
     "output_type": "stream",
     "text": [
      "Empty DataFrame\n",
      "Columns: [dfnvarn, dfname, var, intercept, slope, r2, std, count]\n",
      "Index: []\n",
      "Linear Regression of variables in form y = intercept + slope * age\n",
      "dataframe ,  variable,        intercept,          slope,            R squared,         standard deviation,  count\n",
      "m20overbFEV1OFVC   m20overb ,  FEV1OFVC ,  0.8913482374175125 ,  -0.022624013585119288 ,  0.14155898517447463 ,  0.07102988364519039 ,  479\n",
      "m20overbFEV1OFEV6   m20overb ,  FEV1OFEV6 ,  0.8868341419534119 ,  -0.016966246623556596 ,  0.07517040217989535 ,  0.0730974975479655 ,  479\n",
      "m20overbPEFROFVC   m20overb ,  PEFROFVC ,  2.145738889289958 ,  -0.007897036482044005 ,  0.0005807214222565138 ,  0.387097522219392 ,  479\n",
      "m20overbPEFROFEV6   m20overb ,  PEFROFEV6 ,  2.133793195231653 ,  0.0065580449894486565 ,  0.0003804929202341212 ,  0.3971378425223901 ,  479\n",
      "m20overbPEFROFEV1   m20overb ,  PEFROFEV1 ,  2.3915853639649622 ,  0.05959396385598296 ,  0.033090553281070356 ,  0.38698170121041886 ,  479\n",
      "m20overbFEV3OFVC   m20overb ,  FEV3OFVC ,  0.9058846072169252 ,  0.03204823173260337 ,  0.0010934231759704982 ,  1.1448539988651163 ,  479\n",
      "m20overbFEV6OFVC   m20overb ,  FEV6OFVC ,  0.9107507170576647 ,  0.041788080967764006 ,  0.0018655840230341614 ,  1.1428393651393074 ,  479\n",
      "m20overcmaFEV1OFVC   m20overcma ,  FEV1OFVC ,  0.890247426237375 ,  -0.025617167023121296 ,  0.26978229514259777 ,  0.0676176207319048 ,  1098\n",
      "m20overcmaFEV1OFEV6   m20overcma ,  FEV1OFEV6 ,  0.8819211460276103 ,  -0.018081188147709176 ,  0.12660392887887284 ,  0.06966888844702668 ,  1098\n",
      "m20overcmaPEFROFVC   m20overcma ,  PEFROFVC ,  1.8799419513438473 ,  0.017983290362413536 ,  0.005826326367736057 ,  0.32300352369008695 ,  1098\n",
      "m20overcmaPEFROFEV6   m20overcma ,  PEFROFEV6 ,  1.8551089664385563 ,  0.03831414567802346 ,  0.023584689111754154 ,  0.3420421093631369 ,  1098\n",
      "m20overcmaPEFROFEV1   m20overcma ,  PEFROFEV1 ,  2.0747443407438895 ,  0.10117282096597315 ,  0.14849069254350244 ,  0.359956276640413 ,  1098\n",
      "m20overcmaFEV3OFVC   m20overcma ,  FEV3OFVC ,  0.8995660784836649 ,  0.028184778863551863 ,  0.001549848049778646 ,  0.9815345219045638 ,  1098\n",
      "m20overcmaFEV6OFVC   m20overcma ,  FEV6OFVC ,  0.9035166517718357 ,  0.03847646783313288 ,  0.0029036526257554263 ,  0.9789451857908785 ,  1098\n",
      "m20overcFEV1OFVC   m20overc ,  FEV1OFVC ,  0.8735761696289119 ,  -0.023729595299882868 ,  0.2645116997140077 ,  0.06820441306086775 ,  494\n",
      "m20overcFEV1OFEV6   m20overc ,  FEV1OFEV6 ,  0.8689330127440761 ,  -0.017373708179221008 ,  0.11998636089011672 ,  0.07414317320870951 ,  494\n",
      "m20overcPEFROFVC   m20overc ,  PEFROFVC ,  1.8231530577217876 ,  0.02098990336186401 ,  0.011033162991686107 ,  0.29539627166423615 ,  494\n",
      "m20overcPEFROFEV6   m20overc ,  PEFROFEV6 ,  1.8061004541066397 ,  0.038470177749198774 ,  0.03081292180109707 ,  0.32396816765857145 ,  494\n",
      "m20overcPEFROFEV1   m20overc ,  PEFROFEV1 ,  2.0474561995143223 ,  0.10118560671519918 ,  0.20159211751636977 ,  0.33313982574396267 ,  494\n",
      "m20overcFEV3OFVC   m20overc ,  FEV3OFVC ,  0.7706041529102258 ,  0.06635655110847247 ,  0.0062371908810261445 ,  1.2420351173789919 ,  494\n",
      "m20overcFEV6OFVC   m20overc ,  FEV6OFVC ,  0.7756072542337797 ,  0.07663183805859741 ,  0.008362149864124757 ,  1.2387819156531723 ,  494\n",
      "m20ovecmaFEV1OFVC   m20ovecma ,  FEV1OFVC ,  0.8944021849566444 ,  -0.024282065437733213 ,  0.21382035246275366 ,  0.0630184586843625 ,  604\n",
      "m20ovecmaFEV1OFEV6   m20ovecma ,  FEV1OFEV6 ,  0.8816133215941042 ,  -0.015073497997158571 ,  0.0837327411118377 ,  0.06251339214727031 ,  604\n",
      "m20ovecmaPEFROFVC   m20ovecma ,  PEFROFVC ,  1.878193056210796 ,  0.03135769581963213 ,  0.0121934850086447 ,  0.34079003802233954 ,  604\n",
      "m20ovecmaPEFROFEV6   m20ovecma ,  PEFROFEV6 ,  1.8422714892770709 ,  0.05614412072466406 ,  0.03624788300624282 ,  0.3538910939742205 ,  604\n",
      "m20ovecmaPEFROFEV1   m20ovecma ,  PEFROFEV1 ,  2.067252197306286 ,  0.11129167013866724 ,  0.12314222710592282 ,  0.3805974115071533 ,  604\n",
      "m20ovecmaFEV3OFVC   m20ovecma ,  FEV3OFVC ,  1.0411955998806341 ,  -0.022262022635807996 ,  0.0014538758645034067 ,  0.7006604905851355 ,  604\n",
      "m20ovecmaFEV6OFVC   m20ovecma ,  FEV6OFVC ,  1.0453612511453545 ,  -0.012319606699847952 ,  0.0004479087121882497 ,  0.6985681175533375 ,  604\n",
      "f18overbFEV1OFVC   f18overb ,  FEV1OFVC ,  0.9211904177897788 ,  -0.026323777345162936 ,  0.22760879854169935 ,  0.07323812286221905 ,  940\n",
      "f18overbFEV1OFEV6   f18overb ,  FEV1OFEV6 ,  0.9195883181099571 ,  -0.022878710059895797 ,  0.13257330661062172 ,  0.08340402490114437 ,  940\n",
      "f18overbPEFROFVC   f18overb ,  PEFROFVC ,  2.1323275676682982 ,  -0.002070649520450357 ,  4.6794588729581754e-05 ,  0.40178368511466594 ,  940\n",
      "f18overbPEFROFEV6   f18overb ,  PEFROFEV6 ,  2.1270802800476534 ,  0.00722172568416626 ,  0.0005106841484200375 ,  0.42417817374615163 ,  940\n",
      "f18overbPEFROFEV1   f18overb ,  PEFROFEV1 ,  2.295179431739522 ,  0.0760850379806573 ,  0.05612521041139529 ,  0.4262886696051678 ,  940\n",
      "f18overbFEV3OFVC   f18overb ,  FEV3OFVC ,  0.7089572606215945 ,  0.14845376095667157 ,  0.0036598295322893826 ,  3.257199015771392 ,  940\n",
      "f18overbFEV6OFVC   f18overb ,  FEV6OFVC ,  0.7078044033140196 ,  0.15887064187979838 ,  0.004197037322447472 ,  3.2550356808732723 ,  940\n",
      "f18overcmaFEV1OFVC   f18overcma ,  FEV1OFVC ,  0.913374459109625 ,  -0.02578417006747318 ,  0.2783197818596034 ,  0.07276351629207112 ,  2011\n",
      "f18overcmaFEV1OFEV6   f18overcma ,  FEV1OFEV6 ,  0.9115441372818719 ,  -0.022551344170546904 ,  0.1262428377114445 ,  0.09449343089915 ,  2011\n",
      "f18overcmaPEFROFVC   f18overcma ,  PEFROFVC ,  1.8246660690992538 ,  0.021261349758747303 ,  0.008042051544054796 ,  0.3529717633114546 ,  2011\n",
      "f18overcmaPEFROFEV6   f18overcma ,  PEFROFEV6 ,  1.8170084053884228 ,  0.0304250544597216 ,  0.013431051215024857 ,  0.3908489238174634 ,  2011\n",
      "f18overcmaPEFROFEV1   f18overcma ,  PEFROFEV1 ,  1.9620876615573297 ,  0.09927238652802092 ,  0.13855280001268833 ,  0.39705746716573503 ,  2011\n",
      "f18overcmaFEV3OFVC   f18overcma ,  FEV3OFVC ,  0.388913656908626 ,  0.23846885341956836 ,  0.01197420042616859 ,  3.2444490670892683 ,  2011\n",
      "f18overcmaFEV6OFVC   f18overcma ,  FEV6OFVC ,  0.38743115113581206 ,  0.2485695296421941 ,  0.01303540562577654 ,  3.241292127736863 ,  2011\n",
      "f18overcFEV1OFVC   f18overc ,  FEV1OFVC ,  0.9024158106357322 ,  -0.02415285771545152 ,  0.25996341320957306 ,  0.07300804143907397 ,  991\n",
      "f18overcFEV1OFEV6   f18overc ,  FEV1OFEV6 ,  0.9047334324652407 ,  -0.02210172327727613 ,  0.11630855135967699 ,  0.09988001617104666 ,  991\n",
      "f18overcPEFROFVC   f18overc ,  PEFROFVC ,  1.7824210046268951 ,  0.0287954123719049 ,  0.017035661474147923 ,  0.3400181435630669 ,  991\n",
      "f18overcPEFROFEV6   f18overc ,  PEFROFEV6 ,  1.7875163134644196 ,  0.034040490307663575 ,  0.01844473082927789 ,  0.386293976481888 ,  991\n",
      "f18overcPEFROFEV1   f18overc ,  PEFROFEV1 ,  1.9348470732490097 ,  0.1061626621706396 ,  0.17358706906782784 ,  0.39270949833336777 ,  991\n",
      "f18overcFEV3OFVC   f18overc ,  FEV3OFVC ,  0.1767918780660669 ,  0.28507540711258095 ,  0.014326689598187614 ,  3.6706681003595194 ,  991\n",
      "f18overcFEV6OFVC   f18overc ,  FEV6OFVC ,  0.17430873868479035 ,  0.29540509994961117 ,  0.015416872980069328 ,  3.666723246227491 ,  991\n",
      "f18overmaFEV1OFVC   f18overma ,  FEV1OFVC ,  0.9180149375455051 ,  -0.025855332924901157 ,  0.24018598458277618 ,  0.06939331974555048 ,  1020\n",
      "f18overmaFEV1OFEV6   f18overma ,  FEV1OFEV6 ,  0.9110582727673175 ,  -0.02081719945717577 ,  0.09970756417874604 ,  0.08671607473316185 ,  1020\n",
      "f18overmaPEFROFVC   f18overma ,  PEFROFVC ,  1.8499933298310423 ,  0.017061567850311585 ,  0.003775262445223748 ,  0.3652470564501707 ,  1020\n",
      "f18overmaPEFROFEV6   f18overma ,  PEFROFEV6 ,  1.8248695114775264 ,  0.032675548890475775 ,  0.011815738892874239 ,  0.39539740074073565 ,  1020\n",
      "f18overmaPEFROFEV1   f18overma ,  PEFROFEV1 ,  1.990556370984304 ,  0.09015921055873531 ,  0.08908017187619965 ,  0.39733876552798875 ,  1020\n",
      "f18overmaFEV3OFVC   f18overma ,  FEV3OFVC ,  0.5685049446901983 ,  0.1897187652303965 ,  0.00812571632753345 ,  2.768348886147556 ,  1020\n",
      "f18overmaFEV6OFVC   f18overma ,  FEV6OFVC ,  0.5679243347837221 ,  0.19956059903545678 ,  0.00900640415063425 ,  2.76592528300145 ,  1020\n",
      "mlt20bFEV1OFVC   mlt20b ,  FEV1OFVC ,  0.872828683493324 ,  -0.0025220224894972406 ,  0.0001303152204258362 ,  0.06302595565903697 ,  609\n",
      "mlt20bFEV1OFEV6   mlt20b ,  FEV1OFEV6 ,  0.876471181719605 ,  -0.0030973838790410526 ,  0.0002062069950250489 ,  0.061533468081370904 ,  609\n",
      "mlt20bPEFROFVC   mlt20b ,  PEFROFVC ,  2.016892608887657 ,  0.03561899371244399 ,  0.0009392024136671838 ,  0.3315660854710491 ,  609\n",
      "mlt20bPEFROFEV6   mlt20b ,  PEFROFEV6 ,  2.0251428286380406 ,  0.03451494034745388 ,  0.0008884454090252181 ,  0.33033896935403406 ,  609\n",
      "mlt20bPEFROFEV1   mlt20b ,  PEFROFEV1 ,  2.308153023786803 ,  0.04478143237375617 ,  0.0018352344593436374 ,  0.29820866551088954 ,  609\n",
      "mlt20bFEV3OFVC   mlt20b ,  FEV3OFVC ,  0.9733253308350889 ,  0.006573862334984956 ,  0.008899163244916242 ,  0.019879894463398606 ,  609\n",
      "mlt20bFEV6OFVC   mlt20b ,  FEV6OFVC ,  0.9957648384374601 ,  0.0005983866717406191 ,  0.0007665798223098763 ,  0.0061655422179452335 ,  609\n",
      "mlt20cmaFEV1OFVC   mlt20cma ,  FEV1OFVC ,  0.8721521353338245 ,  -0.005114918370985122 ,  0.0006117511998766644 ,  0.05663660012882174 ,  1029\n",
      "mlt20cmaFEV1OFEV6   mlt20cma ,  FEV1OFEV6 ,  0.8764762438607216 ,  -0.0068103584207138265 ,  0.0011287949812928133 ,  0.05551474082883422 ,  1029\n",
      "mlt20cmaPEFROFVC   mlt20cma ,  PEFROFVC ,  1.8271450818710362 ,  0.0030133499759555263 ,  8.232227716953311e-06 ,  0.28763171410998895 ,  1029\n",
      "mlt20cmaPEFROFEV6   mlt20cma ,  PEFROFEV6 ,  1.8363654115476395 ,  -0.0005824713801034849 ,  3.071608577487339e-07 ,  0.2878309810432156 ,  1029\n",
      "mlt20cmaPEFROFEV1   mlt20cma ,  PEFROFEV1 ,  2.093945571231578 ,  0.013599778054467057 ,  0.0001836573394621288 ,  0.2748359620598038 ,  1029\n",
      "mlt20cmaFEV3OFVC   mlt20cma ,  FEV3OFVC ,  0.9742139238711092 ,  0.008316367767185463 ,  0.017452418608519427 ,  0.017240575492033682 ,  1029\n",
      "mlt20cmaFEV6OFVC   mlt20cma ,  FEV6OFVC ,  0.9949208980476779 ,  0.0019734904055707736 ,  0.008395527690399085 ,  0.0058987080643906715 ,  1029\n",
      "mlt20cFEV1OFVC   mlt20c ,  FEV1OFVC ,  0.8583732274421879 ,  -0.0013726332271337895 ,  4.245022438775781e-05 ,  0.057334628268342715 ,  421\n",
      "mlt20cFEV1OFEV6   mlt20c ,  FEV1OFEV6 ,  0.8635463995230658 ,  -0.004031191247218418 ,  0.00038023359733529993 ,  0.05626141449997076 ,  421\n",
      "mlt20cPEFROFVC   mlt20c ,  PEFROFVC ,  1.8582118795381677 ,  -0.04477607657053165 ,  0.001925829875075613 ,  0.27767678056739253 ,  421\n",
      "mlt20cPEFROFEV6   mlt20c ,  PEFROFEV6 ,  1.8692304012024437 ,  -0.050502562400331394 ,  0.0024607761536021844 ,  0.2770638391488662 ,  421\n",
      "mlt20cPEFROFEV1   mlt20c ,  PEFROFEV1 ,  2.1687255299418595 ,  -0.05651663363802165 ,  0.0035786517517029104 ,  0.2571100513899079 ,  421\n",
      "mlt20cFEV3OFVC   mlt20c ,  FEV3OFVC ,  0.9686176658169939 ,  0.013075829982006416 ,  0.04281694482509091 ,  0.017197444478848325 ,  421\n",
      "mlt20cFEV6OFVC   mlt20c ,  FEV6OFVC ,  0.9938828987011652 ,  0.0031165585646620512 ,  0.017391025188995712 ,  0.006431543167210254 ,  421\n",
      "mlt20maFEV1OFVC   mlt20ma ,  FEV1OFVC ,  0.883642257560138 ,  -0.009513205632266758 ,  0.0022481776421378052 ,  0.055169451798003276 ,  608\n",
      "mlt20maFEV1OFEV6   mlt20ma ,  FEV1OFEV6 ,  0.887407538543983 ,  -0.010582467013068315 ,  0.002907636095162869 ,  0.053963982663005804 ,  608\n",
      "mlt20maPEFROFVC   mlt20ma ,  PEFROFVC ,  1.8092539547861888 ,  0.03200938453516924 ,  0.0008968836257592372 ,  0.2938978253513507 ,  608\n",
      "mlt20maPEFROFEV6   mlt20ma ,  PEFROFEV6 ,  1.8173092888459108 ,  0.02978380038307389 ,  0.0007727928114196203 ,  0.29460198730732945 ,  608\n",
      "mlt20maPEFROFEV1   mlt20ma ,  PEFROFEV1 ,  2.04173181138648 ,  0.06161810987304784 ,  0.0034933635001512804 ,  0.28666427922134846 ,  608\n",
      "mlt20maFEV3OFVC   mlt20ma ,  FEV3OFVC ,  0.9782207645925742 ,  0.004959353816420457 ,  0.006240250368159894 ,  0.017262797755834988 ,  608\n",
      "mlt20maFEV6OFVC   mlt20ma ,  FEV6OFVC ,  0.9956110768872419 ,  0.0012246345531889086 ,  0.0037434887055862727 ,  0.00550370746168765 ,  608\n",
      "flt18bFEV1OFVC   flt18b ,  FEV1OFVC ,  0.8543935309323989 ,  0.035714977801218864 ,  0.014420229467931533 ,  0.06995933169025223 ,  604\n",
      "flt18bFEV1OFEV6   flt18b ,  FEV1OFEV6 ,  0.8604891435767348 ,  0.032238284669077445 ,  0.012813546070268855 ,  0.06699133179945803 ,  604\n",
      "flt18bPEFROFVC   flt18b ,  PEFROFVC ,  2.164276046073037 ,  -0.05015451586756071 ,  0.0009760145142867493 ,  0.3776271907449746 ,  604\n",
      "flt18bPEFROFEV6   flt18b ,  PEFROFEV6 ,  2.1775254687831027 ,  -0.0574303127178076 ,  0.001296043252923651 ,  0.37524316170795197 ,  604\n",
      "flt18bPEFROFEV1   flt18b ,  PEFROFEV1 ,  2.5039313779573624 ,  -0.13697759524470865 ,  0.009042602657924004 ,  0.33883180304790306 ,  604\n",
      "flt18bFEV3OFVC   flt18b ,  FEV3OFVC ,  0.9678920895694916 ,  0.01674278301646726 ,  0.02473115792092706 ,  0.025043024408277607 ,  604\n",
      "flt18bFEV6OFVC   flt18b ,  FEV6OFVC ,  0.9910967300857263 ,  0.005585409545982038 ,  0.011992865547020391 ,  0.011997061737620818 ,  604\n",
      "flt18cmaFEV1OFVC   flt18cma ,  FEV1OFVC ,  0.8926661835620278 ,  -0.0006982528174857058 ,  8.496637914134908e-06 ,  0.05578804817811622 ,  986\n",
      "flt18cmaFEV1OFEV6   flt18cma ,  FEV1OFEV6 ,  0.8958375699953671 ,  -0.001715520484323648 ,  5.384085179294118e-05 ,  0.054449258921002414 ,  986\n",
      "flt18cmaPEFROFVC   flt18cma ,  PEFROFVC ,  2.0687431629499655 ,  -0.16957622016423585 ,  0.016012605209699382 ,  0.31209440181511394 ,  986\n",
      "flt18cmaPEFROFEV6   flt18cma ,  PEFROFEV6 ,  2.0761070799759547 ,  -0.17233074485285862 ,  0.016537256663784916 ,  0.31209230285455175 ,  986\n",
      "flt18cmaPEFROFEV1   flt18cma ,  PEFROFEV1 ,  2.3127345555949046 ,  -0.1877094534646526 ,  0.021569395478512665 ,  0.29765911390338473 ,  986\n",
      "flt18cmaFEV3OFVC   flt18cma ,  FEV3OFVC ,  0.9799043448591164 ,  0.0075437640874811895 ,  0.010210500188643779 ,  0.017386678183506765 ,  986\n",
      "flt18cmaFEV6OFVC   flt18cma ,  FEV6OFVC ,  0.9965081351424021 ,  0.0009740755130315091 ,  0.0012399916566342428 ,  0.006442215827103052 ,  986\n",
      "flt18cFEV1OFVC   flt18c ,  FEV1OFVC ,  0.879480902738734 ,  0.0036510322377258943 ,  0.00021490421388803416 ,  0.0576320165088851 ,  414\n",
      "flt18cFEV1OFEV6   flt18c ,  FEV1OFEV6 ,  0.8826745855946193 ,  0.002753314318894792 ,  0.00013097031365916223 ,  0.05567240374689925 ,  414\n",
      "flt18cPEFROFVC   flt18c ,  PEFROFVC ,  1.9657394664345964 ,  -0.1025711695520924 ,  0.0069503774361249215 ,  0.2847027921328208 ,  414\n",
      "flt18cPEFROFEV6   flt18c ,  PEFROFEV6 ,  1.9728516020046916 ,  -0.1049098342668924 ,  0.007315606797805407 ,  0.28383218275278965 ,  414\n",
      "flt18cPEFROFEV1   flt18c ,  PEFROFEV1 ,  2.2281671643053738 ,  -0.12256961704226751 ,  0.01164522907361709 ,  0.262832717107825 ,  414\n",
      "flt18cFEV3OFVC   flt18c ,  FEV3OFVC ,  0.9759539183994105 ,  0.01111402246902713 ,  0.019909054703627582 ,  0.018227057516760754 ,  414\n",
      "flt18cFEV6OFVC   flt18c ,  FEV6OFVC ,  0.9964821203513624 ,  0.0007504926165386069 ,  0.0004228259742538043 ,  0.008445710843257823 ,  414\n",
      "flt18maFEV1OFVC   flt18ma ,  FEV1OFVC ,  0.9038590000896105 ,  -0.005447330993537851 ,  0.0005664593392932238 ,  0.05355268513092487 ,  572\n",
      "flt18maFEV1OFEV6   flt18ma ,  FEV1OFEV6 ,  0.9069870382620047 ,  -0.006522752130877001 ,  0.0008387312581513706 ,  0.05269887183327465 ,  572\n",
      "flt18maPEFROFVC   flt18ma ,  PEFROFVC ,  2.1498258090906788 ,  -0.22390132369279891 ,  0.025452578991032926 ,  0.3283769170626411 ,  572\n",
      "flt18maPEFROFEV6   flt18ma ,  PEFROFEV6 ,  2.157339415675654 ,  -0.22692010353716263 ,  0.026053709596243646 ,  0.3289425434075384 ,  572\n",
      "flt18maPEFROFEV1   flt18ma ,  PEFROFEV1 ,  2.3773555105232163 ,  -0.2375930133046293 ,  0.030169092921084828 ,  0.320062207516067 ,  572\n",
      "flt18maFEV3OFVC   flt18ma ,  FEV3OFVC ,  0.9828215231365589 ,  0.004938503703824949 ,  0.0047536384168774815 ,  0.0167596200520055 ,  572\n",
      "flt18maFEV6OFVC   flt18ma ,  FEV6OFVC ,  0.9965748957416682 ,  0.0010857855664336666 ,  0.003240245754256077 ,  0.004463103375010369 ,  572\n",
      "mallcmaFEV1OFVC   mallcma ,  FEV1OFVC ,  0.8928390310055394 ,  -0.02608659652644763 ,  0.3137588613079296 ,  0.06924261899322189 ,  2127\n",
      "mallcmaFEV1OFEV6   mallcma ,  FEV1OFEV6 ,  0.8879538221433179 ,  -0.019456644134722697 ,  0.18501570907495035 ,  0.06725393477946703 ,  2127\n",
      "mallcmaPEFROFVC   mallcma ,  PEFROFVC ,  1.810497498418308 ,  0.034706850399417004 ,  0.02752386661769768 ,  0.3110387848032902 ,  2127\n",
      "mallcmaPEFROFEV6   mallcma ,  PEFROFEV6 ,  1.795878004670949 ,  0.05237545375020858 ,  0.057445727271928315 ,  0.3249024583508402 ,  2127\n",
      "mallcmaPEFROFEV1   mallcma ,  PEFROFEV1 ,  2.0042260874868454 ,  0.11759367173103669 ,  0.24456759964595023 ,  0.3535399981869396 ,  2127\n",
      "mallcmaFEV3OFVC   mallcma ,  FEV3OFVC ,  0.9555014392316512 ,  0.014466854051931169 ,  0.0009303847485069294 ,  0.7051749458148584 ,  2127\n",
      "mallcmaFEV6OFVC   mallcma ,  FEV6OFVC ,  0.9594725252404714 ,  0.024624554226522797 ,  0.0027093067279952976 ,  0.7033854080966276 ,  2127\n",
      "mallbFEV1OFVC   mallb ,  FEV1OFVC ,  0.8935648368877527 ,  -0.022923409902864973 ,  0.16424526250934823 ,  0.07043695966582908 ,  1088\n",
      "mallbFEV1OFEV6   mallb ,  FEV1OFEV6 ,  0.8911052429516407 ,  -0.017902875122725197 ,  0.10355315018088629 ,  0.06928016801195618 ,  1088\n",
      "mallbPEFROFVC   mallb ,  PEFROFVC ,  2.049734508691475 ,  0.018295775014765755 ,  0.004039434329481173 ,  0.3584745617166047 ,  1088\n",
      "mallbPEFROFEV6   mallb ,  PEFROFEV6 ,  2.042730348147078 ,  0.031209967217833742 ,  0.011404569204115478 ,  0.3639332010919269 ,  1088\n",
      "mallbPEFROFEV1   mallb ,  PEFROFEV1 ,  2.2796965695624674 ,  0.0891724890931506 ,  0.0972950700644789 ,  0.35600268969718873 ,  1088\n",
      "mallbFEV3OFVC   mallb ,  FEV3OFVC ,  0.9530156494608417 ,  0.01913002248439278 ,  0.0009840608902720316 ,  0.7594029885387087 ,  1088\n",
      "mallbFEV6OFVC   mallb ,  FEV6OFVC ,  0.9596641709993193 ,  0.02816790762492928 ,  0.002140843434169204 ,  0.7581060134577727 ,  1088\n",
      "mallcFEV1OFVC   mallc ,  FEV1OFVC ,  0.8807379710308787 ,  -0.025209036958696963 ,  0.34892246900644674 ,  0.07207092166090244 ,  915\n",
      "mallcFEV1OFEV6   mallc ,  FEV1OFEV6 ,  0.8768963983107556 ,  -0.019081923305447043 ,  0.2029464140303997 ,  0.07153189731859204 ,  915\n",
      "mallcPEFROFVC   mallc ,  PEFROFVC ,  1.7924155707180602 ,  0.027505090277000956 ,  0.025576265223590244 ,  0.29044426181843874 ,  915\n",
      "mallcPEFROFEV6   mallc ,  PEFROFEV6 ,  1.7802287162198667 ,  0.043769565742844824 ,  0.0569668978858493 ,  0.3096914688384092 ,  915\n",
      "mallcPEFROFEV1   mallc ,  PEFROFEV1 ,  2.0109792009478866 ,  0.10848031789004331 ,  0.2976969389440609 ,  0.3357623950377537 ,  915\n",
      "mallcFEV3OFVC   mallc ,  FEV3OFVC ,  0.9154429433135638 ,  0.033663605457040224 ,  0.0038825998030320714 ,  0.9123628717536931 ,  915\n",
      "mallcFEV6OFVC   mallc ,  FEV6OFVC ,  0.9204715807559434 ,  0.04382216229687473 ,  0.006610615841575185 ,  0.9102090145758462 ,  915\n",
      "mallmaFEV1OFVC   mallma ,  FEV1OFVC ,  0.8988108845774837 ,  -0.025301807584574225 ,  0.25500257756339584 ,  0.06439175758667033 ,  1212\n",
      "mallmaFEV1OFEV6   mallma ,  FEV1OFEV6 ,  0.8926829394959527 ,  -0.017983531213774866 ,  0.14104789294264453 ,  0.06153790223979298 ,  1212\n",
      "mallmaPEFROFVC   mallma ,  PEFROFVC ,  1.8049180302270675 ,  0.0509464620441703 ,  0.04074920651410363 ,  0.32434370074119623 ,  1212\n",
      "mallmaPEFROFEV6   mallma ,  PEFROFEV6 ,  1.7870064919601898 ,  0.07063019118549374 ,  0.0734450264653711 ,  0.3349347448090427 ,  1212\n",
      "mallmaPEFROFEV1   mallma ,  PEFROFEV1 ,  1.9862021893721717 ,  0.13241836264882062 ,  0.21593083764171972 ,  0.36621986202380347 ,  1212\n",
      "mallmaFEV3OFVC   mallma ,  FEV3OFVC ,  1.0030249318791185 ,  -0.011769418423862052 ,  0.0009352587103822474 ,  0.4945840859742154 ,  1212\n",
      "mallmaFEV6OFVC   mallma ,  FEV6OFVC ,  1.0066062316462632 ,  -0.0018175556598631023 ,  2.2448788681184162e-05 ,  0.4929947328675404 ,  1212\n",
      "fallcmaFEV1OFVC   fallcma ,  FEV1OFVC ,  0.9165732164709329 ,  -0.026450483296469377 ,  0.3605704392579804 ,  0.07504052710549881 ,  2997\n",
      "fallcmaFEV1OFEV6   fallcma ,  FEV1OFEV6 ,  0.9154594450641076 ,  -0.02339059115637965 ,  0.20335662162801804 ,  0.08836277830887372 ,  2997\n",
      "fallcmaPEFROFVC   fallcma ,  PEFROFVC ,  1.8732665874705874 ,  0.00976569553916819 ,  0.002394018633039563 ,  0.34001395422736747 ,  2997\n",
      "fallcmaPEFROFEV6   fallcma ,  PEFROFEV6 ,  1.8684573977507175 ,  0.01825388170689737 ,  0.007184535278935256 ,  0.3668708573683089 ,  2997\n",
      "fallcmaPEFROFEV1   fallcma ,  PEFROFEV1 ,  2.0213546572333834 ,  0.08512360014054861 ,  0.14761487559734865 ,  0.37743506425191176 ,  2997\n",
      "fallcmaFEV3OFVC   fallcma ,  FEV3OFVC ,  0.6968811082646567 ,  0.16797094614371963 ,  0.01157353615591894 ,  2.659858024390102 ,  2997\n",
      "fallcmaFEV6OFVC   fallcma ,  FEV6OFVC ,  0.6969179059443869 ,  0.17768657958368367 ,  0.012971590787769107 ,  2.657757371025497 ,  2997\n",
      "fallbFEV1OFVC   fallb ,  FEV1OFVC ,  0.9159778211571398 ,  -0.024723188036378664 ,  0.22123956561768177 ,  0.07591634431104667 ,  1544\n",
      "fallbFEV1OFEV6   fallb ,  FEV1OFEV6 ,  0.9151818733123596 ,  -0.021513831610769262 ,  0.15007708292929378 ,  0.08020894215680936 ,  1544\n",
      "fallbPEFROFVC   fallb ,  PEFROFVC ,  2.118202996315582 ,  0.0013097954440777263 ,  2.3237977332057902e-05 ,  0.39243390957907665 ,  1544\n",
      "fallbPEFROFEV6   fallb ,  PEFROFEV6 ,  2.1149505780583455 ,  0.01002136911492349 ,  0.0012717485457268696 ,  0.4058715847863623 ,  1544\n",
      "fallbPEFROFEV1   fallb ,  PEFROFEV1 ,  2.2941574351200327 ,  0.07540219780265178 ,  0.07335036094617597 ,  0.4021102008184781 ,  1544\n",
      "fallbFEV3OFVC   fallb ,  FEV3OFVC ,  0.8273465394861141 ,  0.1177532621181389 ,  0.004474692952794568 ,  2.5424565557050696 ,  1544\n",
      "fallbFEV6OFVC   fallb ,  FEV6OFVC ,  0.8290405411807537 ,  0.1273504468687443 ,  0.0052395697428613275 ,  2.5410597311543017 ,  1544\n",
      "fallcFEV1OFVC   fallc ,  FEV1OFVC ,  0.9058054701393432 ,  -0.024822951949765165 ,  0.3630202028694248 ,  0.07696392757840378 ,  1405\n",
      "fallcFEV1OFEV6   fallc ,  FEV1OFEV6 ,  0.90646944434535 ,  -0.022427932356063815 ,  0.19737200229005714 ,  0.09430737514645386 ,  1405\n",
      "fallcPEFROFVC   fallc ,  PEFROFVC ,  1.8287323127703499 ,  0.018822504174079956 ,  0.011711834485023664 ,  0.32491078860320316 ,  1405\n",
      "fallcPEFROFEV6   fallc ,  PEFROFEV6 ,  1.829378440887005 ,  0.024993373989334922 ,  0.01683582957599805 ,  0.3598378312609198 ,  1405\n",
      "fallcPEFROFEV1   fallc ,  PEFROFEV1 ,  1.9939726123100532 ,  0.09333267660132095 ,  0.2147702806957419 ,  0.37622341531719 ,  1405\n",
      "fallcFEV3OFVC   fallc ,  FEV3OFVC ,  0.6199899839852653 ,  0.19120757291479565 ,  0.013400873601628227 ,  3.085586506084706 ,  1405\n",
      "fallcFEV6OFVC   fallc ,  FEV6OFVC ,  0.6199247646078329 ,  0.20099445031871374 ,  0.014833897521288608 ,  3.08287291529584 ,  1405\n",
      "fallmaFEV1OFVC   fallma ,  FEV1OFVC ,  0.9231808714018697 ,  -0.02709031147234029 ,  0.31758501588488675 ,  0.07044138847234827 ,  1592\n",
      "fallmaFEV1OFEV6   fallma ,  FEV1OFEV6 ,  0.919876158176129 ,  -0.023001124241457487 ,  0.17515294478176469 ,  0.08053492403221153 ,  1592\n",
      "fallmaPEFROFVC   fallma ,  PEFROFVC ,  1.9070522965589514 ,  0.001697549574883754 ,  4.9797225341596814e-05 ,  0.35250380150257327 ,  1592\n",
      "fallmaPEFROFEV6   fallma ,  PEFROFEV6 ,  1.8947505787016505 ,  0.013990220162979176 ,  0.0030242802259238255 ,  0.3727841555573916 ,  1592\n",
      "fallmaPEFROFEV1   fallma ,  PEFROFEV1 ,  2.049459582387337 ,  0.07400666914292667 ,  0.08290334429682278 ,  0.3766419973103177 ,  1592\n",
      "fallmaFEV3OFVC   fallma ,  FEV3OFVC ,  0.7763153733255954 ,  0.13632270666567078 ,  0.008118595326428446 ,  2.2170304822727873 ,  1592\n",
      "fallmaFEV6OFVC   fallma ,  FEV6OFVC ,  0.7765697786674843 ,  0.1459021249891099 ,  0.009312969384952074 ,  2.215447387035817 ,  1592\n",
      "at end\n",
      "                     dfname        var  intercept     slope        r2  \\\n",
      "dfnvarn                                                                 \n",
      "m20overbFEV1OFVC   m20overb   FEV1OFVC   0.891348 -0.022624  0.141559   \n",
      "m20overbFEV1OFEV6  m20overb  FEV1OFEV6   0.886834 -0.016966  0.075170   \n",
      "m20overbPEFROFVC   m20overb   PEFROFVC   2.145739 -0.007897  0.000581   \n",
      "m20overbPEFROFEV6  m20overb  PEFROFEV6   2.133793  0.006558  0.000380   \n",
      "m20overbPEFROFEV1  m20overb  PEFROFEV1   2.391585  0.059594  0.033091   \n",
      "...                     ...        ...        ...       ...       ...   \n",
      "fallmaPEFROFVC       fallma   PEFROFVC   1.907052  0.001698  0.000050   \n",
      "fallmaPEFROFEV6      fallma  PEFROFEV6   1.894751  0.013990  0.003024   \n",
      "fallmaPEFROFEV1      fallma  PEFROFEV1   2.049460  0.074007  0.082903   \n",
      "fallmaFEV3OFVC       fallma   FEV3OFVC   0.776315  0.136323  0.008119   \n",
      "fallmaFEV6OFVC       fallma   FEV6OFVC   0.776570  0.145902  0.009313   \n",
      "\n",
      "                        std count  \n",
      "dfnvarn                            \n",
      "m20overbFEV1OFVC   0.071030   479  \n",
      "m20overbFEV1OFEV6  0.073097   479  \n",
      "m20overbPEFROFVC   0.387098   479  \n",
      "m20overbPEFROFEV6  0.397138   479  \n",
      "m20overbPEFROFEV1  0.386982   479  \n",
      "...                     ...   ...  \n",
      "fallmaPEFROFVC     0.352504  1592  \n",
      "fallmaPEFROFEV6    0.372784  1592  \n",
      "fallmaPEFROFEV1    0.376642  1592  \n",
      "fallmaFEV3OFVC     2.217030  1592  \n",
      "fallmaFEV6OFVC     2.215447  1592  \n",
      "\n",
      "[168 rows x 7 columns]\n"
     ]
    }
   ],
   "source": [
    "# First initialize resultsratio dataframe\n",
    "column_names = [\"dfnvarn\",\"dfname\", \"var\", \"intercept\", \"slope\", \"r2\", \"std\", \"count\"]\n",
    "# print (column_names)\n",
    "resultsratio = pd.DataFrame(columns = column_names)\n",
    "resultsratio.name = 'resultsratio'\n",
    "print (resultsratio)\n",
    "print ('Linear Regression of variables in form y = intercept + slope * age')\n",
    "print ('dataframe ,  variable,        intercept,          slope,            R squared,         standard deviation,  count')\n",
    "for y in framestoanalyze:\n",
    "  #  print (y.name)\n",
    "    for xx in varsratio:\n",
    " #       print(y, \" \", xx)\n",
    "        reg = linear_regage (y,xx)\n",
    "        intercept, slope, r2, std, count = reg\n",
    "        slope, = slope\n",
    "        dfnvarn = y.name + xx\n",
    "        print (dfnvarn, ' ', y.name, ', ', xx, ', ', intercept, ', ', slope, ', ', r2, ', ', std, ', ',count)\n",
    "    #   now need save these in array of dataframe.variable, intercept slope\n",
    "        var = y.name\n",
    "    \n",
    "#  Columns: [dfnvarn, dfname, var, intercept, slope, r2, std, count] \n",
    "\n",
    "        df2 = {'dfnvarn': dfnvarn, 'dfname': y.name, 'var': xx, 'intercept': intercept, 'slope':slope, 'r2':r2, 'std':std, 'count':count}                          \n",
    "        resultsratio = resultsratio.append(df2, ignore_index=True)    \n",
    "print ('at end')\n",
    "resultsratio.set_index('dfnvarn', inplace=True)\n",
    "print (resultsratio)\n",
    "#        varpp = xx + 'PP'\n",
    " #       print (var, ' ', dfvar, ' ', xx, ' ', varpp)\n",
    "    \n",
    " #   I think will need do for each variable unless can indirct       \n",
    " #  create new variable with PP at end = variable / predicted, where predicted = intercept + slope * Agemonth/12   \n",
    " #       y.varpp = y.xx / (intercept + slope * y.HSAGEIR/12)\n",
    " #       print (y.varpp.mean(), \" \", y.varpp.std())\n",
    "    \n",
    "    "
   ]
  },
  {
   "cell_type": "code",
   "execution_count": 417,
   "metadata": {},
   "outputs": [
    {
     "name": "stdout",
     "output_type": "stream",
     "text": [
      "                     dfname        var  intercept     slope        r2  \\\n",
      "dfnvarn                                                                 \n",
      "m20overbFEV1OFVC   m20overb   FEV1OFVC   0.891348 -0.022624  0.141559   \n",
      "m20overbFEV1OFEV6  m20overb  FEV1OFEV6   0.886834 -0.016966  0.075170   \n",
      "m20overbPEFROFVC   m20overb   PEFROFVC   2.145739 -0.007897  0.000581   \n",
      "m20overbPEFROFEV6  m20overb  PEFROFEV6   2.133793  0.006558  0.000380   \n",
      "m20overbPEFROFEV1  m20overb  PEFROFEV1   2.391585  0.059594  0.033091   \n",
      "...                     ...        ...        ...       ...       ...   \n",
      "fallmaPEFROFVC       fallma   PEFROFVC   1.907052  0.001698  0.000050   \n",
      "fallmaPEFROFEV6      fallma  PEFROFEV6   1.894751  0.013990  0.003024   \n",
      "fallmaPEFROFEV1      fallma  PEFROFEV1   2.049460  0.074007  0.082903   \n",
      "fallmaFEV3OFVC       fallma   FEV3OFVC   0.776315  0.136323  0.008119   \n",
      "fallmaFEV6OFVC       fallma   FEV6OFVC   0.776570  0.145902  0.009313   \n",
      "\n",
      "                        std count  \n",
      "dfnvarn                            \n",
      "m20overbFEV1OFVC   0.071030   479  \n",
      "m20overbFEV1OFEV6  0.073097   479  \n",
      "m20overbPEFROFVC   0.387098   479  \n",
      "m20overbPEFROFEV6  0.397138   479  \n",
      "m20overbPEFROFEV1  0.386982   479  \n",
      "...                     ...   ...  \n",
      "fallmaPEFROFVC     0.352504  1592  \n",
      "fallmaPEFROFEV6    0.372784  1592  \n",
      "fallmaPEFROFEV1    0.376642  1592  \n",
      "fallmaFEV3OFVC     2.217030  1592  \n",
      "fallmaFEV6OFVC     2.215447  1592  \n",
      "\n",
      "[168 rows x 7 columns]\n"
     ]
    }
   ],
   "source": [
    "print (resultsratio)"
   ]
  },
  {
   "cell_type": "markdown",
   "metadata": {},
   "source": [
    "new variable %pred ratios"
   ]
  },
  {
   "cell_type": "markdown",
   "metadata": {},
   "source": [
    "data.loc['m20overbFEV1OFVC']"
   ]
  },
  {
   "cell_type": "code",
   "execution_count": 418,
   "metadata": {},
   "outputs": [
    {
     "ename": "NameError",
     "evalue": "name 'dfname' is not defined",
     "output_type": "error",
     "traceback": [
      "\u001b[0;31m---------------------------------------------------------------------------\u001b[0m",
      "\u001b[0;31mNameError\u001b[0m                                 Traceback (most recent call last)",
      "\u001b[0;32m<ipython-input-418-8e48c62071bd>\u001b[0m in \u001b[0;36m<module>\u001b[0;34m\u001b[0m\n\u001b[0;32m----> 1\u001b[0;31m \u001b[0mprint\u001b[0m \u001b[0;34m(\u001b[0m\u001b[0mdfname\u001b[0m\u001b[0;34m)\u001b[0m\u001b[0;34m\u001b[0m\u001b[0;34m\u001b[0m\u001b[0m\n\u001b[0m",
      "\u001b[0;31mNameError\u001b[0m: name 'dfname' is not defined"
     ]
    }
   ],
   "source": [
    "print (dfname)"
   ]
  },
  {
   "cell_type": "markdown",
   "metadata": {},
   "source": [
    "# Now do regression for non-ratios height_age_reg(data, y_var)"
   ]
  },
  {
   "cell_type": "markdown",
   "metadata": {},
   "source": [
    "# Height_age_reg regression y = b0 + b1 * age + b2 * age * age + b3 * height * height"
   ]
  },
  {
   "cell_type": "markdown",
   "metadata": {},
   "source": [
    "def height_age_reg(data, y_var):\n",
    "# convert agemonths to years\n",
    "    X_age = data['HSAGEIR']/12\n",
    "    X_age = np.array(X_age).reshape(-1, 1)\n",
    "    X_age = np.hstack((X_age, X_age**2))\n",
    "    X_height = data['BMPHT']**2\n",
    "    X_height = np.array(X_height).reshape(-1, 1)\n",
    "    X = np.concatenate((X_age, X_height), axis=1)\n",
    "    y = data[y_var]\n",
    "    lr = LinearRegression().fit(X, y)\n",
    "        # do linear regression fit on X, y\n",
    "    print(data.name, \", \",y_var, \", \",lr.intercept_, \",\", lr.coef_, \",\", lr.score(X, y), \",\",  data.loc[:,y_var].std(), \",\",  data.loc[:,y_var].count())"
   ]
  },
  {
   "cell_type": "code",
   "execution_count": 277,
   "metadata": {},
   "outputs": [],
   "source": [
    "def height_age_reg(data, y_var):\n",
    "# convert agemonths to years\n",
    "    X_age = data['HSAGEIR']/12\n",
    "    X_age = np.array(X_age).reshape(-1, 1)\n",
    "    X_age = np.hstack((X_age, X_age**2))\n",
    "    X_height = data['BMPHT']**2\n",
    "    X_height = np.array(X_height).reshape(-1, 1)\n",
    "    X = np.concatenate((X_age, X_height), axis=1)\n",
    "    y = data[y_var]\n",
    "    lr = LinearRegression().fit(X, y)\n",
    "        # do linear regression fit on X, y\n",
    "    print(data.name, \", \",y_var, \", \",lr.intercept_, \",\", lr.coef_, \",\", lr.score(X, y), \",\",  data.loc[:,y_var].std(), \",\",  data.loc[:,y_var].count())\n",
    "    return data.name, y_var, lr.intercept_, lr.coef_, lr.score(X, y), data.loc[:,y_var].std(), data.loc[:,y_var].count()"
   ]
  },
  {
   "cell_type": "code",
   "execution_count": 278,
   "metadata": {},
   "outputs": [
    {
     "name": "stdout",
     "output_type": "stream",
     "text": [
      "m20overb ,  SPPFEV1 ,  818.5450802528767 , [-2.99633738e+02 -5.98033876e-01  1.18232577e-01] , 0.47872744724171157 , 716.3476358369503 , 479\n"
     ]
    },
    {
     "data": {
      "text/plain": [
       "('m20overb',\n",
       " 'SPPFEV1',\n",
       " 818.5450802528767,\n",
       " array([-2.99633738e+02, -5.98033876e-01,  1.18232577e-01]),\n",
       " 0.47872744724171157,\n",
       " 716.3476358369503,\n",
       " 479)"
      ]
     },
     "execution_count": 278,
     "metadata": {},
     "output_type": "execute_result"
    }
   ],
   "source": [
    "height_age_reg(m20overb, 'SPPFEV1')"
   ]
  },
  {
   "cell_type": "markdown",
   "metadata": {},
   "source": [
    "# Now do regression for all dataframes all nonratio variables & save resultsnonratio"
   ]
  },
  {
   "cell_type": "markdown",
   "metadata": {},
   "source": [
    "# First initialize resultsratio dataframe\n",
    "column_names = [\"dfnvarn\",\"dfname\", \"var\", \"intercept\", \"b1\", \"b2\", \"b3\", \"r2\", \"std\", \"count\"]\n",
    "# print (column_names)\n",
    "resultsnonratio = pd.DataFrame(columns = column_names)\n",
    "resultsnonratio.name = 'resultsnonratio'\n",
    "print (resultsnonratio)\n",
    "print ('Linear Regression of variables in form y = intercept + b1 * age + b2 * age * age + b3 * height * height')\n",
    "print ('dataframe ,  variable,        intercept,   [b1. b2. b3]. ,            R squared,         standard deviation   count')\n",
    "for y in framestoanalyze:\n",
    "  #  print (y.name)\n",
    "    for xx in varsnonratio:\n",
    " #       print(y, \" \", xx)\n",
    "         reg = height_age_reg(y,xx)\n",
    "         dbname, var, intercept, coef, r2, std, count = reg\n",
    "         b1, b2, b3, = coef\n",
    "         print (dbname, ', ', var, ', ',intercept, ', ',b1, ', ',b2, ', ',b3, ', ',r2, ', ',std, ', ',count)\n",
    "         #  Columns: [dfnvarn, dfname, var, intercept, b1, b2, b3, r2, std, count] \n",
    "\n",
    "         dfnvarn = y.name + xx   \n",
    "            \n",
    "         df2 = {'dfnvarn': [dfnvarn], 'dfname': y.name, 'var': xx, 'intercept': intercept, 'b1': b1, 'b2': b2, 'b3': b3, 'r2':r2, 'std':std, 'count':count}                          \n",
    "         resultsnonratio = resultsnonratio.append(df2, ignore_index=True)"
   ]
  },
  {
   "cell_type": "code",
   "execution_count": null,
   "metadata": {},
   "outputs": [],
   "source": [
    "# First initialize resultsratio dataframe\n",
    "column_names = [\"dfnvarn\",\"dfname\", \"var\", \"intercept\", \"b1\", \"b2\", \"b3\", \"r2\", \"std\", \"count\"]\n",
    "# print (column_names)\n",
    "resultsnonratio = pd.DataFrame(columns = column_names)\n",
    "resultsnonratio.name = 'resultsnonratio'\n",
    "print (resultsnonratio)\n",
    "print ('Linear Regression of variables in form y = intercept + b1 * age + b2 * age * age + b3 * height * height')\n",
    "print ('dataframe ,  variable,        intercept,   [b1. b2. b3]. ,            R squared,         standard deviation   count')\n",
    "for y in framestoanalyze:\n",
    "  #  print (y.name)\n",
    "    for xx in varsnonratio:\n",
    " #       print(y, \" \", xx)\n",
    "         reg = height_age_reg(y,xx)\n",
    "         dbname, var, intercept, coef, r2, std, count = reg\n",
    "         b1, b2, b3, = coef\n",
    "         print (dbname, ', ', var, ', ',intercept, ', ',b1, ', ',b2, ', ',b3, ', ',r2, ', ',std, ', ',count)\n",
    "         #  Columns: [dfnvarn, dfname, var, intercept, b1, b2, b3, r2, std, count] \n",
    "\n",
    "         dfnvarn = y.name + xx   \n",
    "            \n",
    "         df2 = {'dfnvarn': [dfnvarn], 'dfname': y.name, 'var': xx, 'intercept': intercept, 'b1': b1, 'b2': b2, 'b3': b3, 'r2':r2, 'std':std, 'count':count}                          \n",
    "         resultsnonratio = resultsnonratio.append(df2, ignore_index=True)"
   ]
  },
  {
   "cell_type": "code",
   "execution_count": 419,
   "metadata": {},
   "outputs": [
    {
     "name": "stdout",
     "output_type": "stream",
     "text": [
      "               dfnvarn    dfname       var    intercept           b1  \\\n",
      "0    [m20overbSPPFEV1]  m20overb   SPPFEV1   818.545080  -299.633738   \n",
      "1    [m20overbSPPFEV3]  m20overb   SPPFEV3  1627.830523   687.734958   \n",
      "2    [m20overbSPPFEV6]  m20overb   SPPFEV6  1401.677139   749.324001   \n",
      "3     [m20overbSPPFVC]  m20overb    SPPFVC   147.693092  -251.166200   \n",
      "4    [m20overbSPPPEAK]  m20overb   SPPPEAK  1546.177020   104.927355   \n",
      "..                 ...       ...       ...          ...          ...   \n",
      "187     [fallmaSPPFVC]    fallma    SPPFVC -1290.278926   456.889755   \n",
      "188    [fallmaSPPPEAK]    fallma   SPPPEAK -1523.023177  1078.143765   \n",
      "189    [fallmaSPPMMEF]    fallma   SPPMMEF   346.120815  -410.209644   \n",
      "190   [fallmaSPPFEF75]    fallma  SPPFEF75  -169.933346  -322.920416   \n",
      "191   [fallmaSPPEXPIR]    fallma  SPPEXPIR     3.889928     2.121677   \n",
      "\n",
      "             b2        b3        r2          std count  \n",
      "0     -0.598034  0.118233  0.478727   716.347636   479  \n",
      "1   -116.770116  0.059819  0.007064  3950.867493   479  \n",
      "2   -120.933350  0.067264  0.006787  3945.460537   479  \n",
      "3     -0.520948  0.159871  0.445637   798.977144   479  \n",
      "4    -91.134577  0.266199  0.257933  2020.496392   479  \n",
      "..          ...       ...       ...          ...   ...  \n",
      "187  -87.201776  0.170093  0.680821   714.409576  1592  \n",
      "188 -193.679715  0.271278  0.458234  1526.530323  1592  \n",
      "189   69.295265  0.151151  0.005452  5351.043501  1592  \n",
      "190   15.559109  0.089831  0.202531   792.225846  1592  \n",
      "191   -0.151493  0.000018  0.236765     3.692565  1592  \n",
      "\n",
      "[192 rows x 10 columns]\n"
     ]
    }
   ],
   "source": [
    "print (resultsnonratio)"
   ]
  },
  {
   "cell_type": "markdown",
   "metadata": {},
   "source": [
    "# Now need calculate percent predicted variables"
   ]
  },
  {
   "cell_type": "markdown",
   "metadata": {},
   "source": [
    "#        varpp = xx + 'PP'\n",
    " #       print (var, ' ', dfvar, ' ', xx, ' ', varpp)\n",
    "    \n",
    " #   I think will need do for each variable unless can indirct       \n",
    " #  create new variable with PP at end = variable / predicted, where predicted = intercept + slope * Agemonth/12   \n",
    " #       y.varpp = y.xx / (intercept + slope * y.HSAGEIR/12)\n",
    " #       print (y.varpp.mean(), \" \", y.varpp.std())\n",
    "    \n",
    "    Need cycle through all rows in results ratio, take the database and variable and "
   ]
  },
  {
   "cell_type": "markdown",
   "metadata": {},
   "source": [
    "for each data base\n",
    "  create new variables PP pulling from resultsvar. and results nonvar\n",
    "  first resultsvar\n",
    "  "
   ]
  },
  {
   "cell_type": "markdown",
   "metadata": {},
   "source": [
    "# Try for one variable, one df"
   ]
  },
  {
   "cell_type": "code",
   "execution_count": 462,
   "metadata": {},
   "outputs": [
    {
     "name": "stdout",
     "output_type": "stream",
     "text": [
      "                     dfname        var  intercept     slope        r2  \\\n",
      "dfnvarn                                                                 \n",
      "m20overbFEV1OFVC   m20overb   FEV1OFVC   0.891348 -0.022624  0.141559   \n",
      "m20overbFEV1OFEV6  m20overb  FEV1OFEV6   0.886834 -0.016966  0.075170   \n",
      "m20overbPEFROFVC   m20overb   PEFROFVC   2.145739 -0.007897  0.000581   \n",
      "m20overbPEFROFEV6  m20overb  PEFROFEV6   2.133793  0.006558  0.000380   \n",
      "m20overbPEFROFEV1  m20overb  PEFROFEV1   2.391585  0.059594  0.033091   \n",
      "...                     ...        ...        ...       ...       ...   \n",
      "fallmaPEFROFVC       fallma   PEFROFVC   1.907052  0.001698  0.000050   \n",
      "fallmaPEFROFEV6      fallma  PEFROFEV6   1.894751  0.013990  0.003024   \n",
      "fallmaPEFROFEV1      fallma  PEFROFEV1   2.049460  0.074007  0.082903   \n",
      "fallmaFEV3OFVC       fallma   FEV3OFVC   0.776315  0.136323  0.008119   \n",
      "fallmaFEV6OFVC       fallma   FEV6OFVC   0.776570  0.145902  0.009313   \n",
      "\n",
      "                        std count  \n",
      "dfnvarn                            \n",
      "m20overbFEV1OFVC   0.071030   479  \n",
      "m20overbFEV1OFEV6  0.073097   479  \n",
      "m20overbPEFROFVC   0.387098   479  \n",
      "m20overbPEFROFEV6  0.397138   479  \n",
      "m20overbPEFROFEV1  0.386982   479  \n",
      "...                     ...   ...  \n",
      "fallmaPEFROFVC     0.352504  1592  \n",
      "fallmaPEFROFEV6    0.372784  1592  \n",
      "fallmaPEFROFEV1    0.376642  1592  \n",
      "fallmaFEV3OFVC     2.217030  1592  \n",
      "fallmaFEV6OFVC     2.215447  1592  \n",
      "\n",
      "[168 rows x 7 columns]\n"
     ]
    }
   ],
   "source": [
    "\n",
    "print (resultsratio)"
   ]
  },
  {
   "cell_type": "code",
   "execution_count": 463,
   "metadata": {},
   "outputs": [
    {
     "data": {
      "text/plain": [
       "dfnvarn\n",
       "m20overbFEV1OFVC    -0.022624\n",
       "m20overbFEV1OFEV6   -0.016966\n",
       "m20overbPEFROFVC    -0.007897\n",
       "m20overbPEFROFEV6    0.006558\n",
       "m20overbPEFROFEV1    0.059594\n",
       "                       ...   \n",
       "fallmaPEFROFVC       0.001698\n",
       "fallmaPEFROFEV6      0.013990\n",
       "fallmaPEFROFEV1      0.074007\n",
       "fallmaFEV3OFVC       0.136323\n",
       "fallmaFEV6OFVC       0.145902\n",
       "Name: slope, Length: 168, dtype: float64"
      ]
     },
     "execution_count": 463,
     "metadata": {},
     "output_type": "execute_result"
    }
   ],
   "source": [
    "resultsratio.slope"
   ]
  },
  {
   "cell_type": "code",
   "execution_count": 464,
   "metadata": {},
   "outputs": [
    {
     "data": {
      "text/plain": [
       "dfname        m20overb\n",
       "var           FEV1OFVC\n",
       "intercept     0.891348\n",
       "slope        -0.022624\n",
       "r2            0.141559\n",
       "std          0.0710299\n",
       "count              479\n",
       "Name: m20overbFEV1OFVC, dtype: object"
      ]
     },
     "execution_count": 464,
     "metadata": {},
     "output_type": "execute_result"
    }
   ],
   "source": [
    "resultsratio.loc['m20overbFEV1OFVC']"
   ]
  },
  {
   "cell_type": "markdown",
   "metadata": {},
   "source": [
    "def createvarspp(df):\n",
    "    vn = df.name + 'FEV1OFVC'\n",
    "  #  print (vn)\n",
    "    resultsratio.loc[['m20overbFEV1OFVC'], ['intercept']] \n",
    "  #  print (resultsratio.loc['m20overbFEV1OFVC', 'intercept'])\n",
    "  #  print (resultsratio.loc[vn, 'slope'])\n",
    "    a =  resultsratio.loc['m20overbFEV1OFVC', 'intercept'] \n",
    "    b = resultsratio.loc[vn, 'slope']\n",
    "  #  print (a)\n",
    "  #  print ('b ', b)\n",
    "    df['FEV1OFVCPP'] = df.FEV1OFVC / (a + b * (df.HSAGEIR / 12))\n",
    "  #  df['FEV1OFVCPP'] = df. FEV1OFVC / (resultsratio.loc [vn,intercept] + resultsratio.loc[vn,slope]) # * df.HSAGEIR/12)\n",
    "  #  df['FEV1OFVCPP'] = df.FEV1OFVC / 100\n",
    "  def createvarspp(df):\n",
    "    vn = df.name + 'FEV1OFVC'\n",
    "  #  print (vn)\n",
    "  #  resultsratio.loc[['m20overbFEV1OFVC'], ['intercept']] \n",
    "  #  print (resultsratio.loc['m20overbFEV1OFVC', 'intercept'])\n",
    "  #  print (resultsratio.loc[vn, 'slope'])\n",
    "  #  a =  resultsratio.loc['m20overbFEV1OFVC', 'intercept'] \n",
    "   # b = resultsratio.loc[vn, 'slope']\n",
    "  #  print (a)\n",
    "  #  print ('b ', b)\n",
    " #   df['FEV1OFVCPP'] = df.FEV1OFVC / (a + b * (df.HSAGEIR / 12))\n",
    "    df['FEV1OFVCPP'] = df.FEV1OFVC / (resultsratio.loc[vn, 'intercept'] + resultsratio.loc[vn, 'slope'] * (df.HSAGEIR / 12))\n"
   ]
  },
  {
   "cell_type": "code",
   "execution_count": 546,
   "metadata": {},
   "outputs": [],
   "source": [
    "def createvarsppone(df):\n",
    "    vn = df.name + 'FEV1OFVC'\n",
    "  #  print (vn)\n",
    "  #  resultsratio.loc[['m20overbFEV1OFVC'], ['intercept']] \n",
    "  #  print (resultsratio.loc['m20overbFEV1OFVC', 'intercept'])\n",
    "  #  print (resultsratio.loc[vn, 'slope'])\n",
    "  #  a =  resultsratio.loc['m20overbFEV1OFVC', 'intercept'] \n",
    "   # b = resultsratio.loc[vn, 'slope']\n",
    "  #  print (a)\n",
    "  #  print ('b ', b)\n",
    " #   df['FEV1OFVCPP'] = df.FEV1OFVC / (a + b * (df.HSAGEIR / 12))\n",
    "    df['FEV1OFVCPP'] = df.FEV1OFVC / (resultsratio.loc[vn, 'intercept'] + resultsratio.loc[vn, 'slope'] * (df.HSAGEIR / 12))\n",
    "    print (vn)"
   ]
  },
  {
   "cell_type": "code",
   "execution_count": 547,
   "metadata": {},
   "outputs": [
    {
     "name": "stdout",
     "output_type": "stream",
     "text": [
      "m20overbFEV1OFVC\n"
     ]
    },
    {
     "name": "stderr",
     "output_type": "stream",
     "text": [
      "/usr/local/lib/python3.7/site-packages/ipykernel_launcher.py:12: SettingWithCopyWarning: \n",
      "A value is trying to be set on a copy of a slice from a DataFrame.\n",
      "Try using .loc[row_indexer,col_indexer] = value instead\n",
      "\n",
      "See the caveats in the documentation: https://pandas.pydata.org/pandas-docs/stable/user_guide/indexing.html#returning-a-view-versus-a-copy\n",
      "  if sys.path[0] == '':\n"
     ]
    }
   ],
   "source": [
    "createvarsppone(m20overb)"
   ]
  },
  {
   "cell_type": "markdown",
   "metadata": {},
   "source": [
    "def createvarspp(df):\n",
    "    vn = df.name + 'FEV1OFVC'\n",
    "    df['FEV1OFVCPP'] = df.FEV1OFVC / (resultsratio.loc[vn, 'intercept'] + resultsratio.loc[vn, 'slope'] * (df.HSAGEIR / 12))\n",
    " #   print (vn)\n",
    " #   vn = df.name + 'FEV1OFEV6'\n",
    "#    print (vn)\n",
    "    vn = df.name + 'PEFROFVC'\n",
    "    df['PEFROFVCPP'] = df.PEFROFVC / (resultsratio.loc[vn, 'intercept'] + resultsratio.loc[vn, 'slope'] * (df.HSAGEIR / 12))\n",
    "    vn = df.name + 'FEV1OFEV6'\n",
    "    df['FEV1OFEV6PP']= df.FEV1OFEV6 / (resultsratio.loc[vn, 'intercept'] + resultsratio.loc[vn, 'slope'] * (df.HSAGEIR / 12))\n",
    "    vn = df.name + 'PEFROFVC'\n",
    "    df['PEFROFVCPP'] = df.PEFROFVC / (resultsratio.loc[vn, 'intercept'] + resultsratio.loc[vn, 'slope'] * (df.HSAGEIR / 12))\n",
    "    vn = df.name + 'PEFROFEV6'\n",
    "    df['PEFROFEV6PP']= df.PEFROFEV6 / (resultsratio.loc[vn, 'intercept'] + resultsratio.loc[vn, 'slope'] * (df.HSAGEIR / 12))\n",
    "    vn = df.name + 'PEFROFEV1'\n",
    "    df['PEFROFEV1PP'] = df.PEFROFEV1 / (resultsratio.loc[vn, 'intercept'] + resultsratio.loc[vn, 'slope'] * (df.HSAGEIR / 12))\n",
    "    vn = df.name + 'FEV3OFVC'\n",
    "    df['FEV3OFVCPP'] = df.FEV3OFVC / (resultsratio.loc[vn, 'intercept'] + resultsratio.loc[vn, 'slope'] * (df.HSAGEIR / 12))\n",
    "    vn = df.name + 'FEV6OFVC'\n",
    "    df['FEV6OFVCPP'] = df.FEV6OFVC / (resultsratio.loc[vn, 'intercept'] + resultsratio.loc[vn, 'slope'] * (df.HSAGEIR / 12))"
   ]
  },
  {
   "cell_type": "code",
   "execution_count": 574,
   "metadata": {},
   "outputs": [],
   "source": [
    "def createvarspp(df):\n",
    "    vn = df.name + 'FEV1OFVC'\n",
    "    df['FEV1OFVCPP'] = df.FEV1OFVC / (resultsratio.loc[vn, 'intercept'] + resultsratio.loc[vn, 'slope'] * (df.HSAGEIR / 12))\n",
    " #   print (vn)\n",
    " #   vn = df.name + 'FEV1OFEV6'\n",
    "#    print (vn)\n",
    "    vn = df.name + 'PEFROFVC'\n",
    "    df['PEFROFVCPP'] = df.PEFROFVC / (resultsratio.loc[vn, 'intercept'] + resultsratio.loc[vn, 'slope'] * (df.HSAGEIR / 12))\n",
    "    vn = df.name + 'FEV1OFEV6'\n",
    "    df['FEV1OFEV6PP']= df.FEV1OFEV6 / (resultsratio.loc[vn, 'intercept'] + resultsratio.loc[vn, 'slope'] * (df.HSAGEIR / 12))\n",
    "    vn = df.name + 'PEFROFVC'\n",
    "    df['PEFROFVCPP'] = df.PEFROFVC / (resultsratio.loc[vn, 'intercept'] + resultsratio.loc[vn, 'slope'] * (df.HSAGEIR / 12))\n",
    "    vn = df.name + 'PEFROFEV6'\n",
    "    df['PEFROFEV6PP']= df.PEFROFEV6 / (resultsratio.loc[vn, 'intercept'] + resultsratio.loc[vn, 'slope'] * (df.HSAGEIR / 12))\n",
    "    vn = df.name + 'PEFROFEV1'\n",
    "    df['PEFROFEV1PP'] = df.PEFROFEV1 / (resultsratio.loc[vn, 'intercept'] + resultsratio.loc[vn, 'slope'] * (df.HSAGEIR / 12))\n",
    "    vn = df.name + 'FEV3OFVC'\n",
    "    df['FEV3OFVCPP'] = df.FEV3OFVC / (resultsratio.loc[vn, 'intercept'] + resultsratio.loc[vn, 'slope'] * (df.HSAGEIR / 12))\n",
    "    vn = df.name + 'FEV6OFVC'\n",
    "    df['FEV6OFVCPP'] = df.FEV6OFVC / (resultsratio.loc[vn, 'intercept'] + resultsratio.loc[vn, 'slope'] * (df.HSAGEIR / 12))"
   ]
  },
  {
   "cell_type": "markdown",
   "metadata": {},
   "source": [
    "# The following gives message but works"
   ]
  },
  {
   "cell_type": "markdown",
   "metadata": {},
   "source": [
    "now want to do for all ratio dataframes"
   ]
  },
  {
   "cell_type": "code",
   "execution_count": 575,
   "metadata": {},
   "outputs": [
    {
     "name": "stderr",
     "output_type": "stream",
     "text": [
      "/usr/local/lib/python3.7/site-packages/ipykernel_launcher.py:3: SettingWithCopyWarning: \n",
      "A value is trying to be set on a copy of a slice from a DataFrame.\n",
      "Try using .loc[row_indexer,col_indexer] = value instead\n",
      "\n",
      "See the caveats in the documentation: https://pandas.pydata.org/pandas-docs/stable/user_guide/indexing.html#returning-a-view-versus-a-copy\n",
      "  This is separate from the ipykernel package so we can avoid doing imports until\n",
      "/usr/local/lib/python3.7/site-packages/ipykernel_launcher.py:8: SettingWithCopyWarning: \n",
      "A value is trying to be set on a copy of a slice from a DataFrame.\n",
      "Try using .loc[row_indexer,col_indexer] = value instead\n",
      "\n",
      "See the caveats in the documentation: https://pandas.pydata.org/pandas-docs/stable/user_guide/indexing.html#returning-a-view-versus-a-copy\n",
      "  \n",
      "/usr/local/lib/python3.7/site-packages/ipykernel_launcher.py:10: SettingWithCopyWarning: \n",
      "A value is trying to be set on a copy of a slice from a DataFrame.\n",
      "Try using .loc[row_indexer,col_indexer] = value instead\n",
      "\n",
      "See the caveats in the documentation: https://pandas.pydata.org/pandas-docs/stable/user_guide/indexing.html#returning-a-view-versus-a-copy\n",
      "  # Remove the CWD from sys.path while we load stuff.\n",
      "/usr/local/lib/python3.7/site-packages/ipykernel_launcher.py:12: SettingWithCopyWarning: \n",
      "A value is trying to be set on a copy of a slice from a DataFrame.\n",
      "Try using .loc[row_indexer,col_indexer] = value instead\n",
      "\n",
      "See the caveats in the documentation: https://pandas.pydata.org/pandas-docs/stable/user_guide/indexing.html#returning-a-view-versus-a-copy\n",
      "  if sys.path[0] == '':\n",
      "/usr/local/lib/python3.7/site-packages/ipykernel_launcher.py:14: SettingWithCopyWarning: \n",
      "A value is trying to be set on a copy of a slice from a DataFrame.\n",
      "Try using .loc[row_indexer,col_indexer] = value instead\n",
      "\n",
      "See the caveats in the documentation: https://pandas.pydata.org/pandas-docs/stable/user_guide/indexing.html#returning-a-view-versus-a-copy\n",
      "  \n",
      "/usr/local/lib/python3.7/site-packages/ipykernel_launcher.py:16: SettingWithCopyWarning: \n",
      "A value is trying to be set on a copy of a slice from a DataFrame.\n",
      "Try using .loc[row_indexer,col_indexer] = value instead\n",
      "\n",
      "See the caveats in the documentation: https://pandas.pydata.org/pandas-docs/stable/user_guide/indexing.html#returning-a-view-versus-a-copy\n",
      "  app.launch_new_instance()\n",
      "/usr/local/lib/python3.7/site-packages/ipykernel_launcher.py:18: SettingWithCopyWarning: \n",
      "A value is trying to be set on a copy of a slice from a DataFrame.\n",
      "Try using .loc[row_indexer,col_indexer] = value instead\n",
      "\n",
      "See the caveats in the documentation: https://pandas.pydata.org/pandas-docs/stable/user_guide/indexing.html#returning-a-view-versus-a-copy\n",
      "/usr/local/lib/python3.7/site-packages/ipykernel_launcher.py:20: SettingWithCopyWarning: \n",
      "A value is trying to be set on a copy of a slice from a DataFrame.\n",
      "Try using .loc[row_indexer,col_indexer] = value instead\n",
      "\n",
      "See the caveats in the documentation: https://pandas.pydata.org/pandas-docs/stable/user_guide/indexing.html#returning-a-view-versus-a-copy\n"
     ]
    }
   ],
   "source": [
    "createvarspp(m20overb)"
   ]
  },
  {
   "cell_type": "raw",
   "metadata": {},
   "source": []
  },
  {
   "cell_type": "code",
   "execution_count": null,
   "metadata": {},
   "outputs": [],
   "source": []
  },
  {
   "cell_type": "raw",
   "metadata": {},
   "source": []
  },
  {
   "cell_type": "code",
   "execution_count": 576,
   "metadata": {},
   "outputs": [
    {
     "data": {
      "text/html": [
       "<div>\n",
       "<style scoped>\n",
       "    .dataframe tbody tr th:only-of-type {\n",
       "        vertical-align: middle;\n",
       "    }\n",
       "\n",
       "    .dataframe tbody tr th {\n",
       "        vertical-align: top;\n",
       "    }\n",
       "\n",
       "    .dataframe thead th {\n",
       "        text-align: right;\n",
       "    }\n",
       "</style>\n",
       "<table border=\"1\" class=\"dataframe\">\n",
       "  <thead>\n",
       "    <tr style=\"text-align: right;\">\n",
       "      <th></th>\n",
       "      <th>HAR1</th>\n",
       "      <th>HAR23</th>\n",
       "      <th>HAR26</th>\n",
       "      <th>HAC1E</th>\n",
       "      <th>HAC1F</th>\n",
       "      <th>HAC1G</th>\n",
       "      <th>HAC1O</th>\n",
       "      <th>HAL6</th>\n",
       "      <th>HAL10</th>\n",
       "      <th>HAL1</th>\n",
       "      <th>...</th>\n",
       "      <th>FEV3OFVC</th>\n",
       "      <th>FEV6OFVC</th>\n",
       "      <th>FEV1OFVCPP</th>\n",
       "      <th>FEV1OFVCPPTEMP</th>\n",
       "      <th>PEFROFVCPP</th>\n",
       "      <th>FEV1OFEV6PP</th>\n",
       "      <th>PEFROFEV6PP</th>\n",
       "      <th>PEFROFEV1PP</th>\n",
       "      <th>FEV3OFVCPP</th>\n",
       "      <th>FEV6OFVCPP</th>\n",
       "    </tr>\n",
       "  </thead>\n",
       "  <tbody>\n",
       "    <tr>\n",
       "      <th>count</th>\n",
       "      <td>479.0</td>\n",
       "      <td>479.0</td>\n",
       "      <td>479.0</td>\n",
       "      <td>479.0</td>\n",
       "      <td>479.0</td>\n",
       "      <td>479.0</td>\n",
       "      <td>479.0</td>\n",
       "      <td>479.0</td>\n",
       "      <td>479.000000</td>\n",
       "      <td>479.0</td>\n",
       "      <td>...</td>\n",
       "      <td>479.000000</td>\n",
       "      <td>479.000000</td>\n",
       "      <td>479.000000</td>\n",
       "      <td>479.000000</td>\n",
       "      <td>479.000000</td>\n",
       "      <td>479.000000</td>\n",
       "      <td>479.000000</td>\n",
       "      <td>479.000000</td>\n",
       "      <td>479.000000</td>\n",
       "      <td>479.000000</td>\n",
       "    </tr>\n",
       "    <tr>\n",
       "      <th>mean</th>\n",
       "      <td>2.0</td>\n",
       "      <td>2.0</td>\n",
       "      <td>2.0</td>\n",
       "      <td>2.0</td>\n",
       "      <td>2.0</td>\n",
       "      <td>2.0</td>\n",
       "      <td>2.0</td>\n",
       "      <td>2.0</td>\n",
       "      <td>1.987474</td>\n",
       "      <td>2.0</td>\n",
       "      <td>...</td>\n",
       "      <td>1.001031</td>\n",
       "      <td>1.034814</td>\n",
       "      <td>0.999995</td>\n",
       "      <td>0.026543</td>\n",
       "      <td>1.000000</td>\n",
       "      <td>0.999999</td>\n",
       "      <td>1.000000</td>\n",
       "      <td>0.999988</td>\n",
       "      <td>0.999932</td>\n",
       "      <td>0.999899</td>\n",
       "    </tr>\n",
       "    <tr>\n",
       "      <th>std</th>\n",
       "      <td>0.0</td>\n",
       "      <td>0.0</td>\n",
       "      <td>0.0</td>\n",
       "      <td>0.0</td>\n",
       "      <td>0.0</td>\n",
       "      <td>0.0</td>\n",
       "      <td>0.0</td>\n",
       "      <td>0.0</td>\n",
       "      <td>0.111333</td>\n",
       "      <td>0.0</td>\n",
       "      <td>...</td>\n",
       "      <td>1.144854</td>\n",
       "      <td>1.142839</td>\n",
       "      <td>0.080004</td>\n",
       "      <td>0.009460</td>\n",
       "      <td>0.182563</td>\n",
       "      <td>0.084666</td>\n",
       "      <td>0.184186</td>\n",
       "      <td>0.146612</td>\n",
       "      <td>1.095150</td>\n",
       "      <td>1.045644</td>\n",
       "    </tr>\n",
       "    <tr>\n",
       "      <th>min</th>\n",
       "      <td>2.0</td>\n",
       "      <td>2.0</td>\n",
       "      <td>2.0</td>\n",
       "      <td>2.0</td>\n",
       "      <td>2.0</td>\n",
       "      <td>2.0</td>\n",
       "      <td>2.0</td>\n",
       "      <td>2.0</td>\n",
       "      <td>1.000000</td>\n",
       "      <td>2.0</td>\n",
       "      <td>...</td>\n",
       "      <td>0.811878</td>\n",
       "      <td>0.874781</td>\n",
       "      <td>0.574482</td>\n",
       "      <td>0.006675</td>\n",
       "      <td>0.278257</td>\n",
       "      <td>0.039837</td>\n",
       "      <td>0.047811</td>\n",
       "      <td>0.477256</td>\n",
       "      <td>0.735065</td>\n",
       "      <td>0.751832</td>\n",
       "    </tr>\n",
       "    <tr>\n",
       "      <th>25%</th>\n",
       "      <td>2.0</td>\n",
       "      <td>2.0</td>\n",
       "      <td>2.0</td>\n",
       "      <td>2.0</td>\n",
       "      <td>2.0</td>\n",
       "      <td>2.0</td>\n",
       "      <td>2.0</td>\n",
       "      <td>2.0</td>\n",
       "      <td>2.000000</td>\n",
       "      <td>2.0</td>\n",
       "      <td>...</td>\n",
       "      <td>0.927933</td>\n",
       "      <td>0.974449</td>\n",
       "      <td>0.958866</td>\n",
       "      <td>0.019168</td>\n",
       "      <td>0.883906</td>\n",
       "      <td>0.962362</td>\n",
       "      <td>0.893083</td>\n",
       "      <td>0.913377</td>\n",
       "      <td>0.913900</td>\n",
       "      <td>0.923101</td>\n",
       "    </tr>\n",
       "    <tr>\n",
       "      <th>50%</th>\n",
       "      <td>2.0</td>\n",
       "      <td>2.0</td>\n",
       "      <td>2.0</td>\n",
       "      <td>2.0</td>\n",
       "      <td>2.0</td>\n",
       "      <td>2.0</td>\n",
       "      <td>2.0</td>\n",
       "      <td>2.0</td>\n",
       "      <td>2.000000</td>\n",
       "      <td>2.0</td>\n",
       "      <td>...</td>\n",
       "      <td>0.954855</td>\n",
       "      <td>0.989978</td>\n",
       "      <td>1.005525</td>\n",
       "      <td>0.026019</td>\n",
       "      <td>1.008697</td>\n",
       "      <td>1.007739</td>\n",
       "      <td>1.007579</td>\n",
       "      <td>1.004158</td>\n",
       "      <td>0.962203</td>\n",
       "      <td>0.965623</td>\n",
       "    </tr>\n",
       "    <tr>\n",
       "      <th>75%</th>\n",
       "      <td>2.0</td>\n",
       "      <td>2.0</td>\n",
       "      <td>2.0</td>\n",
       "      <td>2.0</td>\n",
       "      <td>2.0</td>\n",
       "      <td>2.0</td>\n",
       "      <td>2.0</td>\n",
       "      <td>2.0</td>\n",
       "      <td>2.000000</td>\n",
       "      <td>2.0</td>\n",
       "      <td>...</td>\n",
       "      <td>0.979400</td>\n",
       "      <td>0.999222</td>\n",
       "      <td>1.049384</td>\n",
       "      <td>0.033769</td>\n",
       "      <td>1.115384</td>\n",
       "      <td>1.048057</td>\n",
       "      <td>1.118311</td>\n",
       "      <td>1.095056</td>\n",
       "      <td>0.998841</td>\n",
       "      <td>0.995712</td>\n",
       "    </tr>\n",
       "    <tr>\n",
       "      <th>max</th>\n",
       "      <td>2.0</td>\n",
       "      <td>2.0</td>\n",
       "      <td>2.0</td>\n",
       "      <td>2.0</td>\n",
       "      <td>2.0</td>\n",
       "      <td>2.0</td>\n",
       "      <td>2.0</td>\n",
       "      <td>2.0</td>\n",
       "      <td>2.000000</td>\n",
       "      <td>2.0</td>\n",
       "      <td>...</td>\n",
       "      <td>25.990643</td>\n",
       "      <td>25.990643</td>\n",
       "      <td>1.236974</td>\n",
       "      <td>0.048921</td>\n",
       "      <td>1.543961</td>\n",
       "      <td>1.194152</td>\n",
       "      <td>1.521171</td>\n",
       "      <td>1.369933</td>\n",
       "      <td>24.877136</td>\n",
       "      <td>23.804609</td>\n",
       "    </tr>\n",
       "  </tbody>\n",
       "</table>\n",
       "<p>8 rows × 76 columns</p>\n",
       "</div>"
      ],
      "text/plain": [
       "        HAR1  HAR23  HAR26  HAC1E  HAC1F  HAC1G  HAC1O   HAL6       HAL10  \\\n",
       "count  479.0  479.0  479.0  479.0  479.0  479.0  479.0  479.0  479.000000   \n",
       "mean     2.0    2.0    2.0    2.0    2.0    2.0    2.0    2.0    1.987474   \n",
       "std      0.0    0.0    0.0    0.0    0.0    0.0    0.0    0.0    0.111333   \n",
       "min      2.0    2.0    2.0    2.0    2.0    2.0    2.0    2.0    1.000000   \n",
       "25%      2.0    2.0    2.0    2.0    2.0    2.0    2.0    2.0    2.000000   \n",
       "50%      2.0    2.0    2.0    2.0    2.0    2.0    2.0    2.0    2.000000   \n",
       "75%      2.0    2.0    2.0    2.0    2.0    2.0    2.0    2.0    2.000000   \n",
       "max      2.0    2.0    2.0    2.0    2.0    2.0    2.0    2.0    2.000000   \n",
       "\n",
       "        HAL1  ...    FEV3OFVC    FEV6OFVC  FEV1OFVCPP  FEV1OFVCPPTEMP  \\\n",
       "count  479.0  ...  479.000000  479.000000  479.000000      479.000000   \n",
       "mean     2.0  ...    1.001031    1.034814    0.999995        0.026543   \n",
       "std      0.0  ...    1.144854    1.142839    0.080004        0.009460   \n",
       "min      2.0  ...    0.811878    0.874781    0.574482        0.006675   \n",
       "25%      2.0  ...    0.927933    0.974449    0.958866        0.019168   \n",
       "50%      2.0  ...    0.954855    0.989978    1.005525        0.026019   \n",
       "75%      2.0  ...    0.979400    0.999222    1.049384        0.033769   \n",
       "max      2.0  ...   25.990643   25.990643    1.236974        0.048921   \n",
       "\n",
       "       PEFROFVCPP  FEV1OFEV6PP  PEFROFEV6PP  PEFROFEV1PP  FEV3OFVCPP  \\\n",
       "count  479.000000   479.000000   479.000000   479.000000  479.000000   \n",
       "mean     1.000000     0.999999     1.000000     0.999988    0.999932   \n",
       "std      0.182563     0.084666     0.184186     0.146612    1.095150   \n",
       "min      0.278257     0.039837     0.047811     0.477256    0.735065   \n",
       "25%      0.883906     0.962362     0.893083     0.913377    0.913900   \n",
       "50%      1.008697     1.007739     1.007579     1.004158    0.962203   \n",
       "75%      1.115384     1.048057     1.118311     1.095056    0.998841   \n",
       "max      1.543961     1.194152     1.521171     1.369933   24.877136   \n",
       "\n",
       "       FEV6OFVCPP  \n",
       "count  479.000000  \n",
       "mean     0.999899  \n",
       "std      1.045644  \n",
       "min      0.751832  \n",
       "25%      0.923101  \n",
       "50%      0.965623  \n",
       "75%      0.995712  \n",
       "max     23.804609  \n",
       "\n",
       "[8 rows x 76 columns]"
      ]
     },
     "execution_count": 576,
     "metadata": {},
     "output_type": "execute_result"
    }
   ],
   "source": [
    "m20overb.describe()"
   ]
  },
  {
   "cell_type": "code",
   "execution_count": 160,
   "metadata": {},
   "outputs": [
    {
     "ename": "NameError",
     "evalue": "name 'X' is not defined",
     "output_type": "error",
     "traceback": [
      "\u001b[0;31m---------------------------------------------------------------------------\u001b[0m",
      "\u001b[0;31mNameError\u001b[0m                                 Traceback (most recent call last)",
      "\u001b[0;32m<ipython-input-160-d1749f3d45cc>\u001b[0m in \u001b[0;36m<module>\u001b[0;34m\u001b[0m\n\u001b[0;32m----> 1\u001b[0;31m \u001b[0mplt\u001b[0m\u001b[0;34m.\u001b[0m\u001b[0mscatter\u001b[0m\u001b[0;34m(\u001b[0m\u001b[0mX\u001b[0m\u001b[0;34m,\u001b[0m \u001b[0my\u001b[0m\u001b[0;34m)\u001b[0m\u001b[0;34m\u001b[0m\u001b[0;34m\u001b[0m\u001b[0m\n\u001b[0m",
      "\u001b[0;31mNameError\u001b[0m: name 'X' is not defined"
     ]
    }
   ],
   "source": [
    "plt.scatter(X, y)"
   ]
  },
  {
   "cell_type": "code",
   "execution_count": 161,
   "metadata": {},
   "outputs": [],
   "source": [
    "from scipy import stats"
   ]
  },
  {
   "cell_type": "markdown",
   "metadata": {},
   "source": [
    "# now plot y actual value (e.g. of PEFR/FVC) vs predicted PEFR/FVC\n",
    "first need new value PEFROFVCPRED = the regression for predicted\n",
    "  and PEFROFVCPP - %predicted of PEF\n",
    "then do linear regression of x = PEFROFVCPRED and y = PEFROFVCROFVC\n",
    "do scatter plot of X,y to see if \n",
    "do histogram of PEFROFVC\n",
    "do linear regression and scatter plot of PEFROFVCPP (y) versus age to see if the SDev varies by age\n",
    "need see if normal distribution of \n",
    "\n",
    "Also have new variables PEFRPP/FVCPP - or PEFRPP-FVCPP\n",
    "  then see if one or other has normal distribution and what is variance\n",
    "  ratio should be centered around 1; and difference around 0\n",
    "  I have been using PEFRPP-FVCPP >30 as indicator, but ratio may be better (e.g. if more than 1.3,"
   ]
  },
  {
   "cell_type": "markdown",
   "metadata": {},
   "source": [
    "do plot of actual FEV1 vs predicted FEV1 ( x vs y)\n",
    "to get lower limit, need standard deviation - first see if normal distribution\n",
    "  then fit to gaussian and sdev from that\n",
    "  \n",
    "  need check whether same sdev for each age; whether same for each height, for each height**2, for each predicted FEV1\n",
    "    by categories\n"
   ]
  },
  {
   "cell_type": "markdown",
   "metadata": {},
   "source": [
    "We're trying to replicate and update Hankinson"
   ]
  },
  {
   "cell_type": "markdown",
   "metadata": {},
   "source": [
    "We're trying to replicate and update Hankinson"
   ]
  },
  {
   "cell_type": "markdown",
   "metadata": {},
   "source": [
    "# Now need determine LLN - ?used std"
   ]
  },
  {
   "cell_type": "markdown",
   "metadata": {},
   "source": [
    "Determine lower limit of normal\n",
    "  can do this if get starndard deviation for each variable\n",
    "Assuming normal distribution get standard deviation for each variable\n",
    "Could create variable as %predicted, then do normal distribution of the %predicteds\n",
    "Would want to check if the standard deviation varied by age ?height\n",
    "Alternatively is there a way to get lower 5%\n"
   ]
  },
  {
   "cell_type": "code",
   "execution_count": null,
   "metadata": {},
   "outputs": [],
   "source": []
  },
  {
   "cell_type": "code",
   "execution_count": null,
   "metadata": {},
   "outputs": [],
   "source": []
  }
 ],
 "metadata": {
  "kernelspec": {
   "display_name": "Python 3",
   "language": "python",
   "name": "python3"
  },
  "language_info": {
   "codemirror_mode": {
    "name": "ipython",
    "version": 3
   },
   "file_extension": ".py",
   "mimetype": "text/x-python",
   "name": "python",
   "nbconvert_exporter": "python",
   "pygments_lexer": "ipython3",
   "version": "3.7.6"
  }
 },
 "nbformat": 4,
 "nbformat_minor": 4
}

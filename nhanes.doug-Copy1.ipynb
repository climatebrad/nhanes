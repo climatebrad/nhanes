{
 "cells": [
  {
   "cell_type": "markdown",
   "metadata": {},
   "source": [
    "## Import Libraries"
   ]
  },
  {
   "cell_type": "code",
   "execution_count": 1,
   "metadata": {},
   "outputs": [],
   "source": [
    "import pandas as pd\n",
    "import matplotlib.pyplot as plt\n",
    "%matplotlib inline\n",
    "import nhanes_loader\n",
    "import importlib\n",
    "importlib.reload(nhanes_loader)\n",
    "import numpy as np\n",
    "from sklearn.linear_model import LinearRegression"
   ]
  },
  {
   "cell_type": "markdown",
   "metadata": {},
   "source": [
    "## Import Household Adult File"
   ]
  },
  {
   "cell_type": "code",
   "execution_count": 2,
   "metadata": {},
   "outputs": [],
   "source": [
    "from nhanes.household_adult_file import HouseholdAdultFile\n",
    "nh = HouseholdAdultFile()"
   ]
  },
  {
   "cell_type": "code",
   "execution_count": 3,
   "metadata": {},
   "outputs": [
    {
     "data": {
      "text/html": [
       "<div>\n",
       "<style scoped>\n",
       "    .dataframe tbody tr th:only-of-type {\n",
       "        vertical-align: middle;\n",
       "    }\n",
       "\n",
       "    .dataframe tbody tr th {\n",
       "        vertical-align: top;\n",
       "    }\n",
       "\n",
       "    .dataframe thead th {\n",
       "        text-align: right;\n",
       "    }\n",
       "</style>\n",
       "<table border=\"1\" class=\"dataframe\">\n",
       "  <thead>\n",
       "    <tr style=\"text-align: right;\">\n",
       "      <th></th>\n",
       "      <th>description</th>\n",
       "      <th>variable</th>\n",
       "      <th>position</th>\n",
       "      <th>end position</th>\n",
       "      <th>length</th>\n",
       "    </tr>\n",
       "  </thead>\n",
       "  <tbody>\n",
       "    <tr>\n",
       "      <th>0</th>\n",
       "      <td>Sequence number</td>\n",
       "      <td>SEQN</td>\n",
       "      <td>1</td>\n",
       "      <td>5.0</td>\n",
       "      <td>5</td>\n",
       "    </tr>\n",
       "    <tr>\n",
       "      <th>1</th>\n",
       "      <td>Family sequence number</td>\n",
       "      <td>DMPFSEQ</td>\n",
       "      <td>6</td>\n",
       "      <td>10.0</td>\n",
       "      <td>5</td>\n",
       "    </tr>\n",
       "    <tr>\n",
       "      <th>2</th>\n",
       "      <td>Examination/interview status</td>\n",
       "      <td>DMPSTAT</td>\n",
       "      <td>11</td>\n",
       "      <td>NaN</td>\n",
       "      <td>1</td>\n",
       "    </tr>\n",
       "    <tr>\n",
       "      <th>3</th>\n",
       "      <td>Race-ethnicity</td>\n",
       "      <td>DMARETHN</td>\n",
       "      <td>12</td>\n",
       "      <td>NaN</td>\n",
       "      <td>1</td>\n",
       "    </tr>\n",
       "    <tr>\n",
       "      <th>4</th>\n",
       "      <td>Race</td>\n",
       "      <td>DMARACER</td>\n",
       "      <td>13</td>\n",
       "      <td>NaN</td>\n",
       "      <td>1</td>\n",
       "    </tr>\n",
       "    <tr>\n",
       "      <th>...</th>\n",
       "      <td>...</td>\n",
       "      <td>...</td>\n",
       "      <td>...</td>\n",
       "      <td>...</td>\n",
       "      <td>...</td>\n",
       "    </tr>\n",
       "    <tr>\n",
       "      <th>1233</th>\n",
       "      <td>BP statement read to SP (years 5 and 6)</td>\n",
       "      <td>HAZA12</td>\n",
       "      <td>3336</td>\n",
       "      <td>NaN</td>\n",
       "      <td>1</td>\n",
       "    </tr>\n",
       "    <tr>\n",
       "      <th>1234</th>\n",
       "      <td>Average K1 BP from household and MEC</td>\n",
       "      <td>HAZMNK1R</td>\n",
       "      <td>3337</td>\n",
       "      <td>3339.0</td>\n",
       "      <td>3</td>\n",
       "    </tr>\n",
       "    <tr>\n",
       "      <th>1235</th>\n",
       "      <td>Number of BP's used for average K1</td>\n",
       "      <td>HAZNOK1R</td>\n",
       "      <td>3340</td>\n",
       "      <td>3341.0</td>\n",
       "      <td>2</td>\n",
       "    </tr>\n",
       "    <tr>\n",
       "      <th>1236</th>\n",
       "      <td>Average K5 BP from household and MEC</td>\n",
       "      <td>HAZMNK5R</td>\n",
       "      <td>3342</td>\n",
       "      <td>3344.0</td>\n",
       "      <td>3</td>\n",
       "    </tr>\n",
       "    <tr>\n",
       "      <th>1237</th>\n",
       "      <td>Number of BP's used for average K5</td>\n",
       "      <td>HAZNOK5R</td>\n",
       "      <td>3345</td>\n",
       "      <td>3346.0</td>\n",
       "      <td>2</td>\n",
       "    </tr>\n",
       "  </tbody>\n",
       "</table>\n",
       "<p>1238 rows × 5 columns</p>\n",
       "</div>"
      ],
      "text/plain": [
       "                                  description  variable  position  \\\n",
       "0                             Sequence number      SEQN         1   \n",
       "1                      Family sequence number   DMPFSEQ         6   \n",
       "2                Examination/interview status   DMPSTAT        11   \n",
       "3                              Race-ethnicity  DMARETHN        12   \n",
       "4                                        Race  DMARACER        13   \n",
       "...                                       ...       ...       ...   \n",
       "1233  BP statement read to SP (years 5 and 6)    HAZA12      3336   \n",
       "1234     Average K1 BP from household and MEC  HAZMNK1R      3337   \n",
       "1235       Number of BP's used for average K1  HAZNOK1R      3340   \n",
       "1236     Average K5 BP from household and MEC  HAZMNK5R      3342   \n",
       "1237       Number of BP's used for average K5  HAZNOK5R      3345   \n",
       "\n",
       "      end position  length  \n",
       "0              5.0       5  \n",
       "1             10.0       5  \n",
       "2              NaN       1  \n",
       "3              NaN       1  \n",
       "4              NaN       1  \n",
       "...            ...     ...  \n",
       "1233           NaN       1  \n",
       "1234        3339.0       3  \n",
       "1235        3341.0       2  \n",
       "1236        3344.0       3  \n",
       "1237        3346.0       2  \n",
       "\n",
       "[1238 rows x 5 columns]"
      ]
     },
     "execution_count": 3,
     "metadata": {},
     "output_type": "execute_result"
    }
   ],
   "source": [
    "nh.cols"
   ]
  },
  {
   "cell_type": "markdown",
   "metadata": {},
   "source": [
    "## Import Exam File"
   ]
  },
  {
   "cell_type": "code",
   "execution_count": 6,
   "metadata": {},
   "outputs": [],
   "source": [
    "import nhanes.exam_file\n",
    "importlib.reload(nhanes.exam_file)\n",
    "from nhanes.exam_file import ExamFile"
   ]
  },
  {
   "cell_type": "code",
   "execution_count": 7,
   "metadata": {},
   "outputs": [],
   "source": [
    "exam = ExamFile()"
   ]
  },
  {
   "cell_type": "code",
   "execution_count": 8,
   "metadata": {},
   "outputs": [
    {
     "data": {
      "text/plain": [
       "(31311, 45)"
      ]
     },
     "execution_count": 8,
     "metadata": {},
     "output_type": "execute_result"
    }
   ],
   "source": [
    "exam.data.shape"
   ]
  },
  {
   "cell_type": "code",
   "execution_count": 9,
   "metadata": {},
   "outputs": [
    {
     "data": {
      "text/html": [
       "<div>\n",
       "<style scoped>\n",
       "    .dataframe tbody tr th:only-of-type {\n",
       "        vertical-align: middle;\n",
       "    }\n",
       "\n",
       "    .dataframe tbody tr th {\n",
       "        vertical-align: top;\n",
       "    }\n",
       "\n",
       "    .dataframe thead th {\n",
       "        text-align: right;\n",
       "    }\n",
       "</style>\n",
       "<table border=\"1\" class=\"dataframe\">\n",
       "  <thead>\n",
       "    <tr style=\"text-align: right;\">\n",
       "      <th></th>\n",
       "      <th>description</th>\n",
       "      <th>variable</th>\n",
       "      <th>position</th>\n",
       "      <th>end position</th>\n",
       "      <th>length</th>\n",
       "    </tr>\n",
       "  </thead>\n",
       "  <tbody>\n",
       "    <tr>\n",
       "      <th>0</th>\n",
       "      <td>Respondent identification number</td>\n",
       "      <td>SEQN</td>\n",
       "      <td>1</td>\n",
       "      <td>5.0</td>\n",
       "      <td>5</td>\n",
       "    </tr>\n",
       "    <tr>\n",
       "      <th>1</th>\n",
       "      <td>Family sequence number</td>\n",
       "      <td>DMPFSEQ</td>\n",
       "      <td>6</td>\n",
       "      <td>10.0</td>\n",
       "      <td>5</td>\n",
       "    </tr>\n",
       "    <tr>\n",
       "      <th>2</th>\n",
       "      <td>Examination/interview status</td>\n",
       "      <td>DMPSTAT</td>\n",
       "      <td>11</td>\n",
       "      <td>NaN</td>\n",
       "      <td>1</td>\n",
       "    </tr>\n",
       "    <tr>\n",
       "      <th>3</th>\n",
       "      <td>Race-ethnicity</td>\n",
       "      <td>DMARETHN</td>\n",
       "      <td>12</td>\n",
       "      <td>NaN</td>\n",
       "      <td>1</td>\n",
       "    </tr>\n",
       "    <tr>\n",
       "      <th>4</th>\n",
       "      <td>Race</td>\n",
       "      <td>DMARACER</td>\n",
       "      <td>13</td>\n",
       "      <td>NaN</td>\n",
       "      <td>1</td>\n",
       "    </tr>\n",
       "    <tr>\n",
       "      <th>...</th>\n",
       "      <td>...</td>\n",
       "      <td>...</td>\n",
       "      <td>...</td>\n",
       "      <td>...</td>\n",
       "      <td>...</td>\n",
       "    </tr>\n",
       "    <tr>\n",
       "      <th>2363</th>\n",
       "      <td>Time to complete 8-ft walk--trial B(sec)</td>\n",
       "      <td>PFPTWLKB</td>\n",
       "      <td>6221</td>\n",
       "      <td>6224.0</td>\n",
       "      <td>4</td>\n",
       "    </tr>\n",
       "    <tr>\n",
       "      <th>2364</th>\n",
       "      <td>Number of steps--trial B</td>\n",
       "      <td>PFPNSTPB</td>\n",
       "      <td>6225</td>\n",
       "      <td>6226.0</td>\n",
       "      <td>2</td>\n",
       "    </tr>\n",
       "    <tr>\n",
       "      <th>2365</th>\n",
       "      <td>Pain reported on walking</td>\n",
       "      <td>PFPPAIN</td>\n",
       "      <td>6227</td>\n",
       "      <td>NaN</td>\n",
       "      <td>1</td>\n",
       "    </tr>\n",
       "    <tr>\n",
       "      <th>2366</th>\n",
       "      <td>Type of device used</td>\n",
       "      <td>PFPDEVIC</td>\n",
       "      <td>6228</td>\n",
       "      <td>NaN</td>\n",
       "      <td>1</td>\n",
       "    </tr>\n",
       "    <tr>\n",
       "      <th>2367</th>\n",
       "      <td>Examiner number</td>\n",
       "      <td>PFPTECH</td>\n",
       "      <td>6229</td>\n",
       "      <td>6233.0</td>\n",
       "      <td>5</td>\n",
       "    </tr>\n",
       "  </tbody>\n",
       "</table>\n",
       "<p>2368 rows × 5 columns</p>\n",
       "</div>"
      ],
      "text/plain": [
       "                                   description  variable  position  \\\n",
       "0             Respondent identification number      SEQN         1   \n",
       "1                       Family sequence number   DMPFSEQ         6   \n",
       "2                 Examination/interview status   DMPSTAT        11   \n",
       "3                               Race-ethnicity  DMARETHN        12   \n",
       "4                                         Race  DMARACER        13   \n",
       "...                                        ...       ...       ...   \n",
       "2363  Time to complete 8-ft walk--trial B(sec)  PFPTWLKB      6221   \n",
       "2364                  Number of steps--trial B  PFPNSTPB      6225   \n",
       "2365                  Pain reported on walking   PFPPAIN      6227   \n",
       "2366                       Type of device used  PFPDEVIC      6228   \n",
       "2367                           Examiner number   PFPTECH      6229   \n",
       "\n",
       "      end position  length  \n",
       "0              5.0       5  \n",
       "1             10.0       5  \n",
       "2              NaN       1  \n",
       "3              NaN       1  \n",
       "4              NaN       1  \n",
       "...            ...     ...  \n",
       "2363        6224.0       4  \n",
       "2364        6226.0       2  \n",
       "2365           NaN       1  \n",
       "2366           NaN       1  \n",
       "2367        6233.0       5  \n",
       "\n",
       "[2368 rows x 5 columns]"
      ]
     },
     "execution_count": 9,
     "metadata": {},
     "output_type": "execute_result"
    }
   ],
   "source": [
    "exam.cols"
   ]
  },
  {
   "cell_type": "markdown",
   "metadata": {},
   "source": [
    "## Import Household Youth File"
   ]
  },
  {
   "cell_type": "code",
   "execution_count": 10,
   "metadata": {},
   "outputs": [],
   "source": [
    "import nhanes.household_youth_file\n",
    "importlib.reload(nhanes.household_youth_file)\n",
    "from nhanes.household_youth_file import HouseholdYouthFile"
   ]
  },
  {
   "cell_type": "code",
   "execution_count": 11,
   "metadata": {},
   "outputs": [],
   "source": [
    "youth = HouseholdYouthFile()"
   ]
  },
  {
   "cell_type": "code",
   "execution_count": 12,
   "metadata": {},
   "outputs": [
    {
     "data": {
      "text/html": [
       "<div>\n",
       "<style scoped>\n",
       "    .dataframe tbody tr th:only-of-type {\n",
       "        vertical-align: middle;\n",
       "    }\n",
       "\n",
       "    .dataframe tbody tr th {\n",
       "        vertical-align: top;\n",
       "    }\n",
       "\n",
       "    .dataframe thead th {\n",
       "        text-align: right;\n",
       "    }\n",
       "</style>\n",
       "<table border=\"1\" class=\"dataframe\">\n",
       "  <thead>\n",
       "    <tr style=\"text-align: right;\">\n",
       "      <th></th>\n",
       "      <th>description</th>\n",
       "      <th>variable</th>\n",
       "      <th>position</th>\n",
       "      <th>end position</th>\n",
       "      <th>length</th>\n",
       "    </tr>\n",
       "  </thead>\n",
       "  <tbody>\n",
       "    <tr>\n",
       "      <th>0</th>\n",
       "      <td>Sequence number</td>\n",
       "      <td>SEQN</td>\n",
       "      <td>1</td>\n",
       "      <td>5.0</td>\n",
       "      <td>5</td>\n",
       "    </tr>\n",
       "    <tr>\n",
       "      <th>1</th>\n",
       "      <td>Family sequence number</td>\n",
       "      <td>DMPFSEQ</td>\n",
       "      <td>6</td>\n",
       "      <td>10.0</td>\n",
       "      <td>5</td>\n",
       "    </tr>\n",
       "    <tr>\n",
       "      <th>2</th>\n",
       "      <td>Examination/interview status</td>\n",
       "      <td>DMPSTAT</td>\n",
       "      <td>11</td>\n",
       "      <td>NaN</td>\n",
       "      <td>1</td>\n",
       "    </tr>\n",
       "    <tr>\n",
       "      <th>3</th>\n",
       "      <td>Race-ethnicity</td>\n",
       "      <td>DMARETHN</td>\n",
       "      <td>12</td>\n",
       "      <td>NaN</td>\n",
       "      <td>1</td>\n",
       "    </tr>\n",
       "    <tr>\n",
       "      <th>4</th>\n",
       "      <td>Race</td>\n",
       "      <td>DMARACER</td>\n",
       "      <td>13</td>\n",
       "      <td>NaN</td>\n",
       "      <td>1</td>\n",
       "    </tr>\n",
       "    <tr>\n",
       "      <th>...</th>\n",
       "      <td>...</td>\n",
       "      <td>...</td>\n",
       "      <td>...</td>\n",
       "      <td>...</td>\n",
       "      <td>...</td>\n",
       "    </tr>\n",
       "    <tr>\n",
       "      <th>682</th>\n",
       "      <td>ICD-9-CM code-9th</td>\n",
       "      <td>HYK11AO</td>\n",
       "      <td>2087</td>\n",
       "      <td>2092.0</td>\n",
       "      <td>6</td>\n",
       "    </tr>\n",
       "    <tr>\n",
       "      <th>683</th>\n",
       "      <td>For how long been taking (days)-9th</td>\n",
       "      <td>HYK12SO</td>\n",
       "      <td>2093</td>\n",
       "      <td>2097.0</td>\n",
       "      <td>5</td>\n",
       "    </tr>\n",
       "    <tr>\n",
       "      <th>684</th>\n",
       "      <td>Main respondents relationship to SP</td>\n",
       "      <td>HYM1</td>\n",
       "      <td>2098</td>\n",
       "      <td>2099.0</td>\n",
       "      <td>2</td>\n",
       "    </tr>\n",
       "    <tr>\n",
       "      <th>685</th>\n",
       "      <td>Was SP present during any of interview</td>\n",
       "      <td>HYM2</td>\n",
       "      <td>2100</td>\n",
       "      <td>NaN</td>\n",
       "      <td>1</td>\n",
       "    </tr>\n",
       "    <tr>\n",
       "      <th>686</th>\n",
       "      <td>Quality of interview</td>\n",
       "      <td>HYM3</td>\n",
       "      <td>2101</td>\n",
       "      <td>NaN</td>\n",
       "      <td>1</td>\n",
       "    </tr>\n",
       "  </tbody>\n",
       "</table>\n",
       "<p>687 rows × 5 columns</p>\n",
       "</div>"
      ],
      "text/plain": [
       "                                description  variable  position  end position  \\\n",
       "0                           Sequence number      SEQN         1           5.0   \n",
       "1                    Family sequence number   DMPFSEQ         6          10.0   \n",
       "2              Examination/interview status   DMPSTAT        11           NaN   \n",
       "3                            Race-ethnicity  DMARETHN        12           NaN   \n",
       "4                                      Race  DMARACER        13           NaN   \n",
       "..                                      ...       ...       ...           ...   \n",
       "682                       ICD-9-CM code-9th   HYK11AO      2087        2092.0   \n",
       "683     For how long been taking (days)-9th   HYK12SO      2093        2097.0   \n",
       "684     Main respondents relationship to SP      HYM1      2098        2099.0   \n",
       "685  Was SP present during any of interview      HYM2      2100           NaN   \n",
       "686                    Quality of interview      HYM3      2101           NaN   \n",
       "\n",
       "     length  \n",
       "0         5  \n",
       "1         5  \n",
       "2         1  \n",
       "3         1  \n",
       "4         1  \n",
       "..      ...  \n",
       "682       6  \n",
       "683       5  \n",
       "684       2  \n",
       "685       1  \n",
       "686       1  \n",
       "\n",
       "[687 rows x 5 columns]"
      ]
     },
     "execution_count": 12,
     "metadata": {},
     "output_type": "execute_result"
    }
   ],
   "source": [
    "youth.cols"
   ]
  },
  {
   "cell_type": "markdown",
   "metadata": {},
   "source": [
    "## Combine adult and exam files - adult_exam"
   ]
  },
  {
   "cell_type": "markdown",
   "metadata": {},
   "source": [
    "match files on the SEQN field "
   ]
  },
  {
   "cell_type": "code",
   "execution_count": 13,
   "metadata": {},
   "outputs": [],
   "source": [
    "adult_exam = nh.data.set_index('SEQN').join(exam.data.set_index('SEQN'),rsuffix='_exam')"
   ]
  },
  {
   "cell_type": "code",
   "execution_count": 14,
   "metadata": {},
   "outputs": [
    {
     "name": "stdout",
     "output_type": "stream",
     "text": [
      "<class 'pandas.core.frame.DataFrame'>\n",
      "Int64Index: 20050 entries, 3 to 53623\n",
      "Data columns (total 66 columns):\n",
      " #   Column         Non-Null Count  Dtype  \n",
      "---  ------         --------------  -----  \n",
      " 0   HAR1           20050 non-null  int64  \n",
      " 1   HAR23          20050 non-null  int64  \n",
      " 2   HAR26          20050 non-null  int64  \n",
      " 3   HAC1E          20050 non-null  int64  \n",
      " 4   HAC1F          20050 non-null  int64  \n",
      " 5   HAC1G          20050 non-null  int64  \n",
      " 6   HAC1O          20050 non-null  int64  \n",
      " 7   HAL6           20050 non-null  int64  \n",
      " 8   HAL10          20050 non-null  int64  \n",
      " 9   HAL1           20050 non-null  int64  \n",
      " 10  HAL3           20050 non-null  int64  \n",
      " 11  HAL5           20050 non-null  int64  \n",
      " 12  DMARACER       20050 non-null  int64  \n",
      " 13  DMARETHN       20050 non-null  int64  \n",
      " 14  DMAETHNR       20050 non-null  int64  \n",
      " 15  HSSEX          20050 non-null  int64  \n",
      " 16  HSAGEIR        20050 non-null  int64  \n",
      " 17  HSAGEU         20050 non-null  int64  \n",
      " 18  HXPAXTMR       457 non-null    float64\n",
      " 19  HXPSESSR       457 non-null    float64\n",
      " 20  HSAITMOR       20050 non-null  int64  \n",
      " 21  HAR4S          5008 non-null   float64\n",
      " 22  SPPQ1          18162 non-null  float64\n",
      " 23  SPPQ2          18162 non-null  float64\n",
      " 24  SPPQ3          18150 non-null  float64\n",
      " 25  SPPQ4          18150 non-null  float64\n",
      " 26  SPPQ5          18150 non-null  float64\n",
      " 27  SPPMANEU       18150 non-null  float64\n",
      " 28  MYPB1          0 non-null      float64\n",
      " 29  MYPB3          0 non-null      float64\n",
      " 30  MYPB11         0 non-null      float64\n",
      " 31  MYPB27A        0 non-null      float64\n",
      " 32  MYPB27B        0 non-null      float64\n",
      " 33  HSAGEIR_exam   18162 non-null  float64\n",
      " 34  HSAGEU_exam    18162 non-null  float64\n",
      " 35  HXPAXTMR_exam  457 non-null    float64\n",
      " 36  HXPSESSR_exam  457 non-null    float64\n",
      " 37  HXPEJ6A2       445 non-null    float64\n",
      " 38  SPPTECH1       18150 non-null  float64\n",
      " 39  SPPTRIAL       18150 non-null  float64\n",
      " 40  SPPPEAK        18150 non-null  float64\n",
      " 41  SPPFEV05       18150 non-null  float64\n",
      " 42  SPPFEV1        18150 non-null  float64\n",
      " 43  SPPFEV3        18150 non-null  float64\n",
      " 44  SPPFEV6        18150 non-null  float64\n",
      " 45  SPPFVC         18150 non-null  float64\n",
      " 46  SPPMMEF        18150 non-null  float64\n",
      " 47  SPPFEF75       18150 non-null  float64\n",
      " 48  SPPTYPE        18150 non-null  float64\n",
      " 49  SPPREPRO       18150 non-null  float64\n",
      " 50  SPPTIME        18150 non-null  object \n",
      " 51  SPPEXPIR       18150 non-null  float64\n",
      " 52  SPPTEMP        18150 non-null  float64\n",
      " 53  HSSEX_exam     18162 non-null  float64\n",
      " 54  WTPFHX6        18162 non-null  float64\n",
      " 55  MXPAXTMR       17705 non-null  float64\n",
      " 56  BMPHT          18162 non-null  float64\n",
      " 57  BMPSITHT       17705 non-null  float64\n",
      " 58  BMPWT          18162 non-null  float64\n",
      " 59  DMARACER_exam  18162 non-null  Int64  \n",
      " 60  DMARETHN_exam  18162 non-null  float64\n",
      " 61  DMAETHNR_exam  18162 non-null  float64\n",
      " 62  HSAITMOR_exam  18162 non-null  float64\n",
      " 63  HXPG1          457 non-null    float64\n",
      " 64  HXPG2A         457 non-null    float64\n",
      " 65  HXPG2B         457 non-null    float64\n",
      "dtypes: Int64(1), float64(45), int64(19), object(1)\n",
      "memory usage: 10.9+ MB\n"
     ]
    }
   ],
   "source": [
    "adult_exam.info()"
   ]
  },
  {
   "cell_type": "markdown",
   "metadata": {},
   "source": [
    "## Combine youth and exam files - youth_exam"
   ]
  },
  {
   "cell_type": "code",
   "execution_count": 15,
   "metadata": {},
   "outputs": [],
   "source": [
    "youth_exam = youth.data.set_index('SEQN').join(exam.data.set_index('SEQN'),rsuffix='_exam')"
   ]
  },
  {
   "cell_type": "code",
   "execution_count": 16,
   "metadata": {},
   "outputs": [
    {
     "name": "stdout",
     "output_type": "stream",
     "text": [
      "<class 'pandas.core.frame.DataFrame'>\n",
      "Int64Index: 13944 entries, 7 to 53622\n",
      "Data columns (total 60 columns):\n",
      " #   Column         Non-Null Count  Dtype  \n",
      "---  ------         --------------  -----  \n",
      " 0   HYE1G          13944 non-null  int64  \n",
      " 1   HYE1H          13944 non-null  int64  \n",
      " 2   HSSEX          13944 non-null  int64  \n",
      " 3   HSAGEIR        13944 non-null  int64  \n",
      " 4   HSAGEU         13944 non-null  int64  \n",
      " 5   DMARACER       13944 non-null  int64  \n",
      " 6   DMARETHN       13944 non-null  int64  \n",
      " 7   DMAETHNR       13944 non-null  int64  \n",
      " 8   HXPAXTMR       36 non-null     float64\n",
      " 9   HXPSESSR       36 non-null     float64\n",
      " 10  HYG2           2216 non-null   float64\n",
      " 11  HYG4           2216 non-null   float64\n",
      " 12  HYG7           3690 non-null   float64\n",
      " 13  HYG8           13944 non-null  int64  \n",
      " 14  HYG12          13944 non-null  int64  \n",
      " 15  HSAITMOR       13944 non-null  int64  \n",
      " 16  SPPQ1          4281 non-null   float64\n",
      " 17  SPPQ2          4281 non-null   float64\n",
      " 18  SPPQ3          4281 non-null   float64\n",
      " 19  SPPQ4          4281 non-null   float64\n",
      " 20  SPPQ5          4281 non-null   float64\n",
      " 21  SPPMANEU       4281 non-null   float64\n",
      " 22  MYPB1          4281 non-null   float64\n",
      " 23  MYPB3          887 non-null    float64\n",
      " 24  MYPB11         859 non-null    float64\n",
      " 25  MYPB27A        4281 non-null   float64\n",
      " 26  MYPB27B        4281 non-null   float64\n",
      " 27  HSAGEIR_exam   13149 non-null  float64\n",
      " 28  HSAGEU_exam    13149 non-null  float64\n",
      " 29  HXPAXTMR_exam  36 non-null     float64\n",
      " 30  HXPSESSR_exam  36 non-null     float64\n",
      " 31  HXPEJ6A2       0 non-null      float64\n",
      " 32  SPPTECH1       4281 non-null   float64\n",
      " 33  SPPTRIAL       4281 non-null   float64\n",
      " 34  SPPPEAK        4281 non-null   float64\n",
      " 35  SPPFEV05       4281 non-null   float64\n",
      " 36  SPPFEV1        4281 non-null   float64\n",
      " 37  SPPFEV3        4281 non-null   float64\n",
      " 38  SPPFEV6        4281 non-null   float64\n",
      " 39  SPPFVC         4281 non-null   float64\n",
      " 40  SPPMMEF        4281 non-null   float64\n",
      " 41  SPPFEF75       4281 non-null   float64\n",
      " 42  SPPTYPE        4281 non-null   float64\n",
      " 43  SPPREPRO       4281 non-null   float64\n",
      " 44  SPPTIME        4281 non-null   object \n",
      " 45  SPPEXPIR       4281 non-null   float64\n",
      " 46  SPPTEMP        4281 non-null   float64\n",
      " 47  HSSEX_exam     13149 non-null  float64\n",
      " 48  WTPFHX6        13149 non-null  float64\n",
      " 49  MXPAXTMR       13113 non-null  float64\n",
      " 50  BMPHT          9895 non-null   float64\n",
      " 51  BMPSITHT       9894 non-null   float64\n",
      " 52  BMPWT          13149 non-null  float64\n",
      " 53  DMARACER_exam  13149 non-null  Int64  \n",
      " 54  DMARETHN_exam  13149 non-null  float64\n",
      " 55  DMAETHNR_exam  13149 non-null  float64\n",
      " 56  HSAITMOR_exam  13149 non-null  float64\n",
      " 57  HXPG1          0 non-null      float64\n",
      " 58  HXPG2A         0 non-null      float64\n",
      " 59  HXPG2B         0 non-null      float64\n",
      "dtypes: Int64(1), float64(47), int64(11), object(1)\n",
      "memory usage: 7.1+ MB\n"
     ]
    }
   ],
   "source": [
    "youth_exam.info()"
   ]
  },
  {
   "cell_type": "code",
   "execution_count": 17,
   "metadata": {},
   "outputs": [
    {
     "data": {
      "text/plain": [
       "(13944, 60)"
      ]
     },
     "execution_count": 17,
     "metadata": {},
     "output_type": "execute_result"
    }
   ],
   "source": [
    "youth_exam.query('HSAGEIR < 18').shape"
   ]
  },
  {
   "cell_type": "markdown",
   "metadata": {},
   "source": [
    "# Hankinson Exclusion"
   ]
  },
  {
   "cell_type": "markdown",
   "metadata": {},
   "source": [
    "Ages - have none over 89; 17-89\n",
    "20,050 patients in adult exam file (age > 0)"
   ]
  },
  {
   "cell_type": "code",
   "execution_count": 18,
   "metadata": {},
   "outputs": [
    {
     "data": {
      "text/plain": [
       "17    432\n",
       "23    423\n",
       "24    407\n",
       "31    403\n",
       "18    403\n",
       "     ... \n",
       "85    138\n",
       "86    128\n",
       "87    110\n",
       "88     70\n",
       "89     56\n",
       "Name: HSAGEIR, Length: 74, dtype: int64"
      ]
     },
     "execution_count": 18,
     "metadata": {},
     "output_type": "execute_result"
    }
   ],
   "source": [
    "adult_exam.HSAGEIR.value_counts()"
   ]
  },
  {
   "cell_type": "markdown",
   "metadata": {},
   "source": [
    "Check for age of 16"
   ]
  },
  {
   "cell_type": "code",
   "execution_count": 19,
   "metadata": {},
   "outputs": [
    {
     "data": {
      "text/plain": [
       "(0, 66)"
      ]
     },
     "execution_count": 19,
     "metadata": {},
     "output_type": "execute_result"
    }
   ],
   "source": [
    "adult_exam.query('HSAGEIR < 17').shape"
   ]
  },
  {
   "cell_type": "markdown",
   "metadata": {},
   "source": [
    "Any age  .shape - returns row and column count of a dataset"
   ]
  },
  {
   "cell_type": "markdown",
   "metadata": {},
   "source": [
    ".describe() - returns statistics about numerical columns"
   ]
  },
  {
   "cell_type": "markdown",
   "metadata": {},
   "source": [
    ".dtypes - returns the data type of each column"
   ]
  },
  {
   "cell_type": "markdown",
   "metadata": {},
   "source": [
    ".count() - number of total values in column"
   ]
  },
  {
   "cell_type": "markdown",
   "metadata": {},
   "source": [
    ".value_counts() - returns object counting counts of unique values"
   ]
  },
  {
   "cell_type": "code",
   "execution_count": 20,
   "metadata": {},
   "outputs": [
    {
     "data": {
      "text/plain": [
       "(20050, 66)"
      ]
     },
     "execution_count": 20,
     "metadata": {},
     "output_type": "execute_result"
    }
   ],
   "source": [
    "adult_exam.query('HSAGEIR>0').shape"
   ]
  },
  {
   "cell_type": "markdown",
   "metadata": {},
   "source": [
    "Any spirometry  H 16484 "
   ]
  },
  {
   "cell_type": "markdown",
   "metadata": {},
   "source": [
    "## SPPMANEU - # acceptable trials"
   ]
  },
  {
   "cell_type": "markdown",
   "metadata": {},
   "source": [
    "According to the NHANES documentation, the values for SPPMANEU (number of acceptable trials)\n",
    "\n",
    "00 150; 01-16 20836. 88 1445 blank 8880"
   ]
  },
  {
   "cell_type": "markdown",
   "metadata": {},
   "source": [
    "so total spirometry is 150 + 20836 = 20986, but this doesn't match, looking at data base values which has 16840 with SPPMANEU 0 to <88"
   ]
  },
  {
   "cell_type": "code",
   "execution_count": 22,
   "metadata": {},
   "outputs": [
    {
     "data": {
      "text/plain": [
       "5.0     7569\n",
       "6.0     2553\n",
       "4.0     1932\n",
       "7.0     1544\n",
       "88.0    1310\n",
       "8.0     1238\n",
       "3.0      668\n",
       "9.0      400\n",
       "2.0      292\n",
       "10.0     233\n",
       "1.0      226\n",
       "0.0      144\n",
       "11.0      23\n",
       "13.0       8\n",
       "12.0       8\n",
       "14.0       1\n",
       "16.0       1\n",
       "Name: SPPMANEU, dtype: int64"
      ]
     },
     "execution_count": 22,
     "metadata": {},
     "output_type": "execute_result"
    }
   ],
   "source": [
    "adult_exam.SPPMANEU.value_counts()"
   ]
  },
  {
   "cell_type": "markdown",
   "metadata": {},
   "source": [
    "adult_exam.SPPMANEU.value_counts()"
   ]
  },
  {
   "cell_type": "code",
   "execution_count": 23,
   "metadata": {},
   "outputs": [
    {
     "data": {
      "text/plain": [
       "(18740, 66)"
      ]
     },
     "execution_count": 23,
     "metadata": {},
     "output_type": "execute_result"
    }
   ],
   "source": [
    "adult_exam.query('SPPMANEU != 88').shape"
   ]
  },
  {
   "cell_type": "code",
   "execution_count": 24,
   "metadata": {},
   "outputs": [
    {
     "data": {
      "text/plain": [
       "(16840, 66)"
      ]
     },
     "execution_count": 24,
     "metadata": {},
     "output_type": "execute_result"
    }
   ],
   "source": [
    "adult_exam.query('SPPMANEU > -1 & SPPMANEU < 88').shape"
   ]
  },
  {
   "cell_type": "code",
   "execution_count": 25,
   "metadata": {},
   "outputs": [
    {
     "data": {
      "text/plain": [
       "(18150, 66)"
      ]
     },
     "execution_count": 25,
     "metadata": {},
     "output_type": "execute_result"
    }
   ],
   "source": [
    "adult_exam.query('SPPMANEU > -1').shape"
   ]
  },
  {
   "cell_type": "markdown",
   "metadata": {},
   "source": [
    "## total with spirometry 16840"
   ]
  },
  {
   "cell_type": "markdown",
   "metadata": {},
   "source": [
    ">2 should = total spirometry - 1 test ( 18740 - 226 = "
   ]
  },
  {
   "cell_type": "code",
   "execution_count": 26,
   "metadata": {},
   "outputs": [
    {
     "data": {
      "text/plain": [
       "(226, 66)"
      ]
     },
     "execution_count": 26,
     "metadata": {},
     "output_type": "execute_result"
    }
   ],
   "source": [
    "adult_exam.query('SPPMANEU == 1').shape"
   ]
  },
  {
   "cell_type": "markdown",
   "metadata": {},
   "source": [
    "## number 2 or more acceptable trials  H 277, 16207  we have 16470 (+263)"
   ]
  },
  {
   "cell_type": "code",
   "execution_count": 27,
   "metadata": {},
   "outputs": [
    {
     "data": {
      "text/plain": [
       "(16470, 66)"
      ]
     },
     "execution_count": 27,
     "metadata": {},
     "output_type": "execute_result"
    }
   ],
   "source": [
    "adult_exam.query('2 <= SPPMANEU < 88').shape"
   ]
  },
  {
   "cell_type": "code",
   "execution_count": 28,
   "metadata": {},
   "outputs": [
    {
     "data": {
      "text/plain": [
       "(16470, 66)"
      ]
     },
     "execution_count": 28,
     "metadata": {},
     "output_type": "execute_result"
    }
   ],
   "source": [
    "adult_exam.query('SPPMANEU > 1 & SPPMANEU < 88').shape"
   ]
  },
  {
   "cell_type": "markdown",
   "metadata": {},
   "source": [
    "## does it need be reproducible SPPREPRO = 4 both FVC and FEV1 reproducible; 1 FVC not repord; 2 FEV1 no reprod 3 neither FVC or FEV1 reproducible"
   ]
  },
  {
   "cell_type": "code",
   "execution_count": 29,
   "metadata": {},
   "outputs": [
    {
     "data": {
      "text/plain": [
       "4.0    15373\n",
       "8.0     1454\n",
       "1.0     1003\n",
       "3.0      267\n",
       "2.0       53\n",
       "Name: SPPREPRO, dtype: int64"
      ]
     },
     "execution_count": 29,
     "metadata": {},
     "output_type": "execute_result"
    }
   ],
   "source": [
    "adult_exam.SPPREPRO.value_counts()"
   ]
  },
  {
   "cell_type": "code",
   "execution_count": 30,
   "metadata": {},
   "outputs": [
    {
     "data": {
      "text/plain": [
       "(15286, 66)"
      ]
     },
     "execution_count": 30,
     "metadata": {},
     "output_type": "execute_result"
    }
   ],
   "source": [
    "adult_exam.query('SPPMANEU > 1 & SPPMANEU < 88 & SPPREPRO == 4').shape"
   ]
  },
  {
   "cell_type": "code",
   "execution_count": 31,
   "metadata": {},
   "outputs": [
    {
     "data": {
      "text/plain": [
       "(16289, 66)"
      ]
     },
     "execution_count": 31,
     "metadata": {},
     "output_type": "execute_result"
    }
   ],
   "source": [
    "adult_exam.query('(SPPMANEU > 1 & SPPMANEU < 88) & (SPPREPRO == 4 | SPPREPRO == 1)').shape"
   ]
  },
  {
   "cell_type": "markdown",
   "metadata": {},
   "source": [
    "## Number with spirometry 2 or more with both FEV1 reprod or FEV1 and FVC reproducible - 16289 vs Hankinson 16207"
   ]
  },
  {
   "cell_type": "markdown",
   "metadata": {},
   "source": [
    "Hankinson says 20,627 performed spirometry and eliminated 13,198 leaving 7429 (4,103 youth 16,207 adult)"
   ]
  },
  {
   "cell_type": "markdown",
   "metadata": {},
   "source": [
    "does the number of acceptable trials SPPMANEU need be more than 1 - say exclude if <2 acceptable curves"
   ]
  },
  {
   "cell_type": "markdown",
   "metadata": {},
   "source": [
    "and age < 90 H 68,16139  we have 84  16386 (+26, +247)"
   ]
  },
  {
   "cell_type": "code",
   "execution_count": 32,
   "metadata": {},
   "outputs": [
    {
     "data": {
      "text/plain": [
       "(84, 66)"
      ]
     },
     "execution_count": 32,
     "metadata": {},
     "output_type": "execute_result"
    }
   ],
   "source": [
    "adult_exam.query('2 <= SPPMANEU < 88').query('HSAGEIR >89').shape"
   ]
  },
  {
   "cell_type": "code",
   "execution_count": 33,
   "metadata": {},
   "outputs": [
    {
     "data": {
      "text/plain": [
       "(16386, 66)"
      ]
     },
     "execution_count": 33,
     "metadata": {},
     "output_type": "execute_result"
    }
   ],
   "source": [
    "adult_exam.query('2 <= SPPMANEU < 88').query('HSAGEIR < 90').shape"
   ]
  },
  {
   "cell_type": "code",
   "execution_count": 34,
   "metadata": {},
   "outputs": [
    {
     "data": {
      "text/plain": [
       "(16215, 66)"
      ]
     },
     "execution_count": 34,
     "metadata": {},
     "output_type": "execute_result"
    }
   ],
   "source": [
    "(adult_exam.query('(SPPMANEU > 1 & SPPMANEU < 88) & (SPPREPRO == 4 | SPPREPRO == 1)')\n",
    ".query('HSAGEIR < 90').shape)"
   ]
  },
  {
   "cell_type": "markdown",
   "metadata": {},
   "source": [
    "## and age <90 16386, 16215"
   ]
  },
  {
   "cell_type": "markdown",
   "metadata": {},
   "source": [
    "# first number is with 2 or more spirometries and = the parameter; 2nd is 2 or more with reproducible FEV1 with not the parameter"
   ]
  },
  {
   "cell_type": "markdown",
   "metadata": {},
   "source": [
    "adult_exam.query('HSAGEIR >= 90').shape"
   ]
  },
  {
   "cell_type": "markdown",
   "metadata": {},
   "source": [
    "and race/ethnicity not other  H 636, 15503"
   ]
  },
  {
   "cell_type": "markdown",
   "metadata": {},
   "source": [
    "adult_exam.query('HSAGEIR > 0').shape"
   ]
  },
  {
   "cell_type": "markdown",
   "metadata": {},
   "source": [
    "and race/ethnicity not other  H 636  15503  we have 639, 15747 (+3, +244)"
   ]
  },
  {
   "cell_type": "code",
   "execution_count": 35,
   "metadata": {},
   "outputs": [
    {
     "data": {
      "text/plain": [
       "1    8483\n",
       "2    5486\n",
       "3    5306\n",
       "4     775\n",
       "Name: DMARETHN, dtype: int64"
      ]
     },
     "execution_count": 35,
     "metadata": {},
     "output_type": "execute_result"
    }
   ],
   "source": [
    "adult_exam.DMARETHN.value_counts()"
   ]
  },
  {
   "cell_type": "code",
   "execution_count": 36,
   "metadata": {},
   "outputs": [
    {
     "data": {
      "text/plain": [
       "(639, 66)"
      ]
     },
     "execution_count": 36,
     "metadata": {},
     "output_type": "execute_result"
    }
   ],
   "source": [
    "adult_exam.query('2 <= SPPMANEU < 88').query('HSAGEIR < 90').query('DMARETHN == 4').shape"
   ]
  },
  {
   "cell_type": "code",
   "execution_count": 37,
   "metadata": {},
   "outputs": [
    {
     "data": {
      "text/plain": [
       "(15747, 66)"
      ]
     },
     "execution_count": 37,
     "metadata": {},
     "output_type": "execute_result"
    }
   ],
   "source": [
    "(adult_exam.query('2 <= SPPMANEU < 88').query('HSAGEIR < 90').query('DMARETHN < 4').shape)"
   ]
  },
  {
   "cell_type": "code",
   "execution_count": 38,
   "metadata": {},
   "outputs": [
    {
     "data": {
      "text/plain": [
       "(15580, 66)"
      ]
     },
     "execution_count": 38,
     "metadata": {},
     "output_type": "execute_result"
    }
   ],
   "source": [
    "(adult_exam.query('(SPPMANEU > 1 & SPPMANEU < 88) & (SPPREPRO == 4 | SPPREPRO == 1)')\n",
    " .query('HSAGEIR < 90').query('DMARETHN < 4').shape)"
   ]
  },
  {
   "cell_type": "markdown",
   "metadata": {},
   "source": [
    "# and race not other 15747, 15580"
   ]
  },
  {
   "cell_type": "markdown",
   "metadata": {},
   "source": [
    "and cigarette smoker H 7,667  7,836  We have  7787 7960 (+120  +124)\n"
   ]
  },
  {
   "cell_type": "code",
   "execution_count": 39,
   "metadata": {},
   "outputs": [
    {
     "data": {
      "text/plain": [
       "2    10235\n",
       "1     9799\n",
       "8       16\n",
       "Name: HAR1, dtype: int64"
      ]
     },
     "execution_count": 39,
     "metadata": {},
     "output_type": "execute_result"
    }
   ],
   "source": [
    "adult_exam.HAR1.value_counts()"
   ]
  },
  {
   "cell_type": "markdown",
   "metadata": {},
   "source": [
    "or statement not work, so need HAR1 = 2"
   ]
  },
  {
   "cell_type": "code",
   "execution_count": 40,
   "metadata": {},
   "outputs": [
    {
     "data": {
      "text/plain": [
       "(9799, 66)"
      ]
     },
     "execution_count": 40,
     "metadata": {},
     "output_type": "execute_result"
    }
   ],
   "source": [
    "adult_exam.query('HAR1 == 1' or 'HAR1 == 8').shape"
   ]
  },
  {
   "cell_type": "code",
   "execution_count": 41,
   "metadata": {},
   "outputs": [
    {
     "data": {
      "text/plain": [
       "(9815, 66)"
      ]
     },
     "execution_count": 41,
     "metadata": {},
     "output_type": "execute_result"
    }
   ],
   "source": [
    "adult_exam.query('HAR1 == 1 | HAR1 == 8').shape"
   ]
  },
  {
   "cell_type": "code",
   "execution_count": 42,
   "metadata": {},
   "outputs": [
    {
     "data": {
      "text/plain": [
       "(10235, 66)"
      ]
     },
     "execution_count": 42,
     "metadata": {},
     "output_type": "execute_result"
    }
   ],
   "source": [
    "adult_exam.query('HAR1 == 2').shape"
   ]
  },
  {
   "cell_type": "markdown",
   "metadata": {},
   "source": [
    "age<90 & ethnicity not other and not smoker(HAR1==2)"
   ]
  },
  {
   "cell_type": "code",
   "execution_count": 43,
   "metadata": {},
   "outputs": [
    {
     "data": {
      "text/plain": [
       "(7960, 66)"
      ]
     },
     "execution_count": 43,
     "metadata": {},
     "output_type": "execute_result"
    }
   ],
   "source": [
    "adult_exam.query('2 <= SPPMANEU < 88').query('HSAGEIR < 90').query('DMARETHN < 4').query('HAR1 ==2').shape"
   ]
  },
  {
   "cell_type": "markdown",
   "metadata": {},
   "source": [
    "# and not smoker('not HAR1==1') 7960, 7851"
   ]
  },
  {
   "cell_type": "code",
   "execution_count": 44,
   "metadata": {},
   "outputs": [
    {
     "data": {
      "text/plain": [
       "(7960, 66)"
      ]
     },
     "execution_count": 44,
     "metadata": {},
     "output_type": "execute_result"
    }
   ],
   "source": [
    "adult_exam.query('2 <= SPPMANEU < 88').query('HSAGEIR < 90').query('DMARETHN < 4').query('not HAR1 ==1').shape"
   ]
  },
  {
   "cell_type": "code",
   "execution_count": 45,
   "metadata": {},
   "outputs": [
    {
     "data": {
      "text/plain": [
       "(7851, 66)"
      ]
     },
     "execution_count": 45,
     "metadata": {},
     "output_type": "execute_result"
    }
   ],
   "source": [
    "(adult_exam.query('(SPPMANEU > 1 & SPPMANEU < 88) & (SPPREPRO == 4 | SPPREPRO == 1)')\n",
    " .query('HSAGEIR < 90').query('DMARETHN < 4').query('not HAR1 ==1').shape)"
   ]
  },
  {
   "cell_type": "markdown",
   "metadata": {},
   "source": [
    "HXPG1 how many cigarettes past 5 days. 0, #, or 888 applicable  SO '0 < HXPG1 < 888'"
   ]
  },
  {
   "cell_type": "code",
   "execution_count": 46,
   "metadata": {},
   "outputs": [
    {
     "data": {
      "text/plain": [
       "(65, 66)"
      ]
     },
     "execution_count": 46,
     "metadata": {},
     "output_type": "execute_result"
    }
   ],
   "source": [
    "adult_exam.query('0 < HXPG1 < 888').shape"
   ]
  },
  {
   "cell_type": "markdown",
   "metadata": {},
   "source": [
    "include those not smoking cigarettes 5 days"
   ]
  },
  {
   "cell_type": "code",
   "execution_count": 47,
   "metadata": {},
   "outputs": [
    {
     "data": {
      "text/plain": [
       "(19985, 66)"
      ]
     },
     "execution_count": 47,
     "metadata": {},
     "output_type": "execute_result"
    }
   ],
   "source": [
    "adult_exam.query('not (0 < HXPG1 < 888)').shape"
   ]
  },
  {
   "cell_type": "code",
   "execution_count": 48,
   "metadata": {},
   "outputs": [
    {
     "data": {
      "text/plain": [
       "(392, 66)"
      ]
     },
     "execution_count": 48,
     "metadata": {},
     "output_type": "execute_result"
    }
   ],
   "source": [
    "adult_exam.query('(HXPG1 ==0) | (HXPG1 == 888)').shape"
   ]
  },
  {
   "cell_type": "markdown",
   "metadata": {},
   "source": [
    "HXPG2A -pipes"
   ]
  },
  {
   "cell_type": "code",
   "execution_count": 49,
   "metadata": {},
   "outputs": [
    {
     "data": {
      "text/plain": [
       "(6, 66)"
      ]
     },
     "execution_count": 49,
     "metadata": {},
     "output_type": "execute_result"
    }
   ],
   "source": [
    "adult_exam.query('0 < HXPG2A < 88').shape"
   ]
  },
  {
   "cell_type": "markdown",
   "metadata": {},
   "source": [
    "HXPG2B - cigars"
   ]
  },
  {
   "cell_type": "code",
   "execution_count": 50,
   "metadata": {},
   "outputs": [
    {
     "data": {
      "text/plain": [
       "(1, 66)"
      ]
     },
     "execution_count": 50,
     "metadata": {},
     "output_type": "execute_result"
    }
   ],
   "source": [
    "adult_exam.query('0 < HXPG2B < 88').shape"
   ]
  },
  {
   "cell_type": "markdown",
   "metadata": {},
   "source": [
    "adult_exam.query('2 <= SPPMANEU < 88').query('HSAGEIR < 90').query('DMARETHN < 4').query('HAR1 ==2').shape"
   ]
  },
  {
   "cell_type": "markdown",
   "metadata": {},
   "source": [
    "cigs, pipe, cigars"
   ]
  },
  {
   "cell_type": "code",
   "execution_count": 51,
   "metadata": {},
   "outputs": [
    {
     "data": {
      "text/plain": [
       "(19979, 66)"
      ]
     },
     "execution_count": 51,
     "metadata": {},
     "output_type": "execute_result"
    }
   ],
   "source": [
    "adult_exam.query('not (0 < HXPG1 < 888 | 0 < HXPG2A < 88 | 0 < HXPG2B < 88)').shape"
   ]
  },
  {
   "cell_type": "code",
   "execution_count": 52,
   "metadata": {},
   "outputs": [
    {
     "data": {
      "text/plain": [
       "(0, 66)"
      ]
     },
     "execution_count": 52,
     "metadata": {},
     "output_type": "execute_result"
    }
   ],
   "source": [
    "adult_exam.query('2 <= SPPMANEU < 88').query('HSAGEIR < 90').query('DMARETHN < 4').query('MYPB11 ==1').shape"
   ]
  },
  {
   "cell_type": "markdown",
   "metadata": {},
   "source": [
    "and cigar or pipe smoker  H 313, 7523  for cigar we have 284, 7676 "
   ]
  },
  {
   "cell_type": "markdown",
   "metadata": {},
   "source": [
    "cigar HAR23  2 is not cigar"
   ]
  },
  {
   "cell_type": "code",
   "execution_count": 53,
   "metadata": {},
   "outputs": [
    {
     "data": {
      "text/plain": [
       "2    17951\n",
       "1     2073\n",
       "8       21\n",
       "9        5\n",
       "Name: HAR23, dtype: int64"
      ]
     },
     "execution_count": 53,
     "metadata": {},
     "output_type": "execute_result"
    }
   ],
   "source": [
    "adult_exam.HAR23.value_counts()"
   ]
  },
  {
   "cell_type": "code",
   "execution_count": 54,
   "metadata": {},
   "outputs": [
    {
     "data": {
      "text/plain": [
       "(7676, 66)"
      ]
     },
     "execution_count": 54,
     "metadata": {},
     "output_type": "execute_result"
    }
   ],
   "source": [
    "adult_exam.query('2 <= SPPMANEU < 88').query('HSAGEIR < 90').query('DMARETHN < 4').query('HAR1 ==2').query('HAR23 == 2').shape"
   ]
  },
  {
   "cell_type": "markdown",
   "metadata": {},
   "source": [
    "and pipe smoker with above H 313 7523  We have 326 7634 (+13 +111)"
   ]
  },
  {
   "cell_type": "code",
   "execution_count": 55,
   "metadata": {},
   "outputs": [
    {
     "data": {
      "text/plain": [
       "2    18411\n",
       "1     1609\n",
       "8       26\n",
       "9        4\n",
       "Name: HAR26, dtype: int64"
      ]
     },
     "execution_count": 55,
     "metadata": {},
     "output_type": "execute_result"
    }
   ],
   "source": [
    "adult_exam.HAR26.value_counts()"
   ]
  },
  {
   "cell_type": "code",
   "execution_count": 56,
   "metadata": {},
   "outputs": [
    {
     "data": {
      "text/plain": [
       "(7634, 66)"
      ]
     },
     "execution_count": 56,
     "metadata": {},
     "output_type": "execute_result"
    }
   ],
   "source": [
    "adult_exam.query('2 <= SPPMANEU < 88').query('HSAGEIR < 90').query('DMARETHN < 4').query('HAR1 == 2').query('HAR23 == 2').query('HAR26 == 2').shape"
   ]
  },
  {
   "cell_type": "code",
   "execution_count": 57,
   "metadata": {},
   "outputs": [
    {
     "data": {
      "text/plain": [
       "(7638, 66)"
      ]
     },
     "execution_count": 57,
     "metadata": {},
     "output_type": "execute_result"
    }
   ],
   "source": [
    "(adult_exam.query('2 <= SPPMANEU < 88').query('HSAGEIR < 90')\n",
    " .query('DMARETHN < 4').query('HAR1 == 2')\n",
    " .query('HAR23 == 2').query('not HAR26 == 1').shape)"
   ]
  },
  {
   "cell_type": "code",
   "execution_count": 201,
   "metadata": {},
   "outputs": [
    {
     "data": {
      "text/plain": [
       "(7531, 66)"
      ]
     },
     "execution_count": 201,
     "metadata": {},
     "output_type": "execute_result"
    }
   ],
   "source": [
    "(adult_exam.query('(SPPMANEU > 1 & SPPMANEU < 88) & (SPPREPRO == 4 | SPPREPRO == 1)')\n",
    " .query('HSAGEIR < 90').query('DMARETHN < 4').query('not HAR1 ==1')\n",
    " .query('not HAR23 == 1').query('not HAR26 == 1' ).shape)"
   ]
  },
  {
   "cell_type": "markdown",
   "metadata": {},
   "source": [
    "# and not cigar or pipe smoker 7634, 7531"
   ]
  },
  {
   "cell_type": "markdown",
   "metadata": {},
   "source": [
    "and smoked cigarettes/cigar/pipes in 5 d prior to exam  H 408 7115  "
   ]
  },
  {
   "cell_type": "markdown",
   "metadata": {},
   "source": [
    "SPQ4 cough, cold or other acute illness;  SPQ3 smoked, ate in past hour"
   ]
  },
  {
   "cell_type": "code",
   "execution_count": 58,
   "metadata": {},
   "outputs": [
    {
     "data": {
      "text/plain": [
       "2    10235\n",
       "1     9799\n",
       "8       16\n",
       "Name: HAR1, dtype: int64"
      ]
     },
     "execution_count": 58,
     "metadata": {},
     "output_type": "execute_result"
    }
   ],
   "source": [
    "adult_exam.HAR1.value_counts()"
   ]
  },
  {
   "cell_type": "code",
   "execution_count": 59,
   "metadata": {},
   "outputs": [
    {
     "data": {
      "text/plain": [
       "(5965, 66)"
      ]
     },
     "execution_count": 59,
     "metadata": {},
     "output_type": "execute_result"
    }
   ],
   "source": [
    "adult_exam.query('2 <= SPPMANEU < 88').query('HSAGEIR < 90').query('DMARETHN < 4').query('HAR1 == 2').query('HAR23 == 2').query('HAR26 == 2').query('SPPQ3 == 2').query('SPPQ4 == 2').query('SPPQ5 == 2').shape"
   ]
  },
  {
   "cell_type": "code",
   "execution_count": 202,
   "metadata": {},
   "outputs": [
    {
     "data": {
      "text/plain": [
       "(7634, 66)"
      ]
     },
     "execution_count": 202,
     "metadata": {},
     "output_type": "execute_result"
    }
   ],
   "source": [
    "(adult_exam.query('2 <= SPPMANEU < 88')\n",
    " .query('HSAGEIR < 90').query('DMARETHN < 4')\n",
    " .query('HAR1 == 2').query('HAR23 == 2').query('HAR26 == 2').shape)"
   ]
  },
  {
   "cell_type": "markdown",
   "metadata": {},
   "source": [
    "# add exclude if smoked in 5 days - only 2 more excluded 7632, 7529"
   ]
  },
  {
   "cell_type": "code",
   "execution_count": 61,
   "metadata": {},
   "outputs": [
    {
     "data": {
      "text/plain": [
       "(19979, 66)"
      ]
     },
     "execution_count": 61,
     "metadata": {},
     "output_type": "execute_result"
    }
   ],
   "source": [
    "adult_exam.query('not (0 < HXPG1 < 888 | 0 < HXPG2A < 88 | 0 < HXPG2B < 88)').shape"
   ]
  },
  {
   "cell_type": "code",
   "execution_count": 62,
   "metadata": {},
   "outputs": [
    {
     "data": {
      "text/plain": [
       "(7632, 66)"
      ]
     },
     "execution_count": 62,
     "metadata": {},
     "output_type": "execute_result"
    }
   ],
   "source": [
    "(adult_exam.query('2 <= SPPMANEU < 88')\n",
    " .query('HSAGEIR < 90').query('DMARETHN < 4')\n",
    " .query('HAR1 == 2').query('HAR23 == 2').query('HAR26 == 2')\n",
    " .query('not (0 < HXPG1 < 888 | 0 < HXPG2A < 88 | 0 < HXPG2B < 88)').shape)"
   ]
  },
  {
   "cell_type": "code",
   "execution_count": 203,
   "metadata": {},
   "outputs": [
    {
     "data": {
      "text/plain": [
       "(7529, 66)"
      ]
     },
     "execution_count": 203,
     "metadata": {},
     "output_type": "execute_result"
    }
   ],
   "source": [
    "(adult_exam.query('(SPPMANEU > 1 & SPPMANEU < 88) & (SPPREPRO == 4 | SPPREPRO == 1)')\n",
    " .query('HSAGEIR < 90').query('DMARETHN < 4').query('not HAR1 ==1')\n",
    " .query('not HAR23 == 1').query('not HAR26 == 1' )\n",
    ".query('not (0 < HXPG1 < 888 | 0 < HXPG2A < 88 | 0 < HXPG2B < 88)').shape)"
   ]
  },
  {
   "cell_type": "code",
   "execution_count": 63,
   "metadata": {},
   "outputs": [
    {
     "data": {
      "text/plain": [
       "2    18672\n",
       "1     1376\n",
       "9        1\n",
       "8        1\n",
       "Name: HAC1E, dtype: int64"
      ]
     },
     "execution_count": 63,
     "metadata": {},
     "output_type": "execute_result"
    }
   ],
   "source": [
    "adult_exam.HAC1E.value_counts()"
   ]
  },
  {
   "cell_type": "code",
   "execution_count": 205,
   "metadata": {},
   "outputs": [
    {
     "data": {
      "text/plain": [
       "2    18411\n",
       "1     1609\n",
       "8       26\n",
       "9        4\n",
       "Name: HAR26, dtype: int64"
      ]
     },
     "execution_count": 205,
     "metadata": {},
     "output_type": "execute_result"
    }
   ],
   "source": [
    "adult_exam.HAR26.value_counts()"
   ]
  },
  {
   "cell_type": "markdown",
   "metadata": {},
   "source": [
    "and asthma H  454  6661  query('HAC1E == 2') (which gives different that > 1"
   ]
  },
  {
   "cell_type": "code",
   "execution_count": 64,
   "metadata": {},
   "outputs": [
    {
     "data": {
      "text/plain": [
       "(7158, 66)"
      ]
     },
     "execution_count": 64,
     "metadata": {},
     "output_type": "execute_result"
    }
   ],
   "source": [
    "(adult_exam.query('2 <= SPPMANEU < 88').query('HSAGEIR < 90')\n",
    " .query('DMARETHN < 4').query('HAR1 == 2').query('HAR23 == 2')\n",
    " .query('HAR26 == 2'). query('HAC1E == 2').shape)"
   ]
  },
  {
   "cell_type": "markdown",
   "metadata": {},
   "source": [
    "# and asthma (7156 , 7060)"
   ]
  },
  {
   "cell_type": "code",
   "execution_count": 65,
   "metadata": {},
   "outputs": [
    {
     "data": {
      "text/plain": [
       "(7156, 66)"
      ]
     },
     "execution_count": 65,
     "metadata": {},
     "output_type": "execute_result"
    }
   ],
   "source": [
    "(adult_exam.query('2 <= SPPMANEU < 88').query('HSAGEIR < 90')\n",
    " .query('DMARETHN < 4').query('HAR1 == 2').query('HAR23 == 2')\n",
    " .query('not (0 < HXPG1 < 888 | 0 < HXPG2A < 88 | 0 < HXPG2B < 88)')\n",
    " .query('HAR26 == 2'). query('HAC1E == 2').shape)"
   ]
  },
  {
   "cell_type": "code",
   "execution_count": 206,
   "metadata": {},
   "outputs": [
    {
     "data": {
      "text/plain": [
       "(7060, 66)"
      ]
     },
     "execution_count": 206,
     "metadata": {},
     "output_type": "execute_result"
    }
   ],
   "source": [
    "(adult_exam.query('(SPPMANEU > 1 & SPPMANEU < 88) & (SPPREPRO == 4 | SPPREPRO == 1)')\n",
    " .query('HSAGEIR < 90').query('DMARETHN < 4').query('not HAR1 ==1')\n",
    " .query('not HAR23 == 1').query('not HAR26 == 1' )\n",
    ".query('not (0 < HXPG1 < 888 | 0 < HXPG2A < 88 | 0 < HXPG2B < 88)')\n",
    " .query('not HAR26 == 1'). query('not HAC1E == 1').shape)"
   ]
  },
  {
   "cell_type": "markdown",
   "metadata": {},
   "source": [
    "and chronic bronchitis H  181, 6480  HAC1F == 2"
   ]
  },
  {
   "cell_type": "code",
   "execution_count": 66,
   "metadata": {},
   "outputs": [
    {
     "data": {
      "text/plain": [
       "2    18914\n",
       "1     1134\n",
       "9        2\n",
       "Name: HAC1F, dtype: int64"
      ]
     },
     "execution_count": 66,
     "metadata": {},
     "output_type": "execute_result"
    }
   ],
   "source": [
    "adult_exam.HAC1F.value_counts()"
   ]
  },
  {
   "cell_type": "code",
   "execution_count": 67,
   "metadata": {},
   "outputs": [
    {
     "data": {
      "text/plain": [
       "(6962, 66)"
      ]
     },
     "execution_count": 67,
     "metadata": {},
     "output_type": "execute_result"
    }
   ],
   "source": [
    "(adult_exam.query('2 <= SPPMANEU < 88').query('HSAGEIR < 90')\n",
    " .query('DMARETHN < 4').query('HAR1 == 2').query('HAR23 == 2')\n",
    " .query('HAR26 == 2'). query('HAC1E == 2'). query('HAC1F == 2').shape)"
   ]
  },
  {
   "cell_type": "markdown",
   "metadata": {},
   "source": [
    "# and chronic bronchitis (6960, 6868 subjects remaining)"
   ]
  },
  {
   "cell_type": "code",
   "execution_count": 69,
   "metadata": {},
   "outputs": [
    {
     "data": {
      "text/plain": [
       "(6960, 66)"
      ]
     },
     "execution_count": 69,
     "metadata": {},
     "output_type": "execute_result"
    }
   ],
   "source": [
    "(adult_exam.query('2 <= SPPMANEU < 88').query('HSAGEIR < 90')\n",
    " .query('DMARETHN < 4').query('HAR1 == 2').query('HAR23 == 2')\n",
    " .query('not (0 < HXPG1 < 888 | 0 < HXPG2A < 88 | 0 < HXPG2B < 88)')\n",
    " .query('HAR26 == 2'). query('HAC1E == 2'). query('HAC1F == 2').shape)"
   ]
  },
  {
   "cell_type": "code",
   "execution_count": 207,
   "metadata": {},
   "outputs": [
    {
     "data": {
      "text/plain": [
       "(6868, 66)"
      ]
     },
     "execution_count": 207,
     "metadata": {},
     "output_type": "execute_result"
    }
   ],
   "source": [
    "(adult_exam.query('(SPPMANEU > 1 & SPPMANEU < 88) & (SPPREPRO == 4 | SPPREPRO == 1)')\n",
    " .query('HSAGEIR < 90').query('DMARETHN < 4').query('not HAR1 ==1')\n",
    " .query('not HAR23 == 1').query('not HAR26 == 1' )\n",
    ".query('not (0 < HXPG1 < 888 | 0 < HXPG2A < 88 | 0 < HXPG2B < 88)')\n",
    " .query('not HAR26 == 1'). query('not HAC1E == 1')\n",
    ". query('not HAC1F == 1').shape)"
   ]
  },
  {
   "cell_type": "markdown",
   "metadata": {},
   "source": [
    "and emphysema  H 15, 6465  HAC1G == 2\n"
   ]
  },
  {
   "cell_type": "code",
   "execution_count": 70,
   "metadata": {},
   "outputs": [
    {
     "data": {
      "text/plain": [
       "2    19614\n",
       "1      430\n",
       "9        5\n",
       "8        1\n",
       "Name: HAC1G, dtype: int64"
      ]
     },
     "execution_count": 70,
     "metadata": {},
     "output_type": "execute_result"
    }
   ],
   "source": [
    "adult_exam.HAC1G.value_counts()"
   ]
  },
  {
   "cell_type": "code",
   "execution_count": 71,
   "metadata": {},
   "outputs": [
    {
     "data": {
      "text/plain": [
       "(6945, 66)"
      ]
     },
     "execution_count": 71,
     "metadata": {},
     "output_type": "execute_result"
    }
   ],
   "source": [
    "adult_exam.query('2 <= SPPMANEU < 88').query('HSAGEIR < 90').query('DMARETHN < 4').query('HAR1 == 2').query('HAR23 == 2').query('HAR26 == 2'). query('HAC1E == 2'). query('HAC1F == 2').query('HAC1G == 2').shape"
   ]
  },
  {
   "cell_type": "markdown",
   "metadata": {},
   "source": [
    "# and emphysema (6943, 6852 remaining)"
   ]
  },
  {
   "cell_type": "code",
   "execution_count": 72,
   "metadata": {},
   "outputs": [
    {
     "data": {
      "text/plain": [
       "(6943, 66)"
      ]
     },
     "execution_count": 72,
     "metadata": {},
     "output_type": "execute_result"
    }
   ],
   "source": [
    "(adult_exam.query('2 <= SPPMANEU < 88').query('HSAGEIR < 90')\n",
    " .query('DMARETHN < 4').query('HAR1 == 2').query('HAR23 == 2')\n",
    " .query('not (0 < HXPG1 < 888 | 0 < HXPG2A < 88 | 0 < HXPG2B < 88)')\n",
    " .query('HAR26 == 2'). query('HAC1E == 2'). query('HAC1F == 2')\n",
    " .query('HAC1G == 2').shape)"
   ]
  },
  {
   "cell_type": "code",
   "execution_count": 208,
   "metadata": {},
   "outputs": [
    {
     "data": {
      "text/plain": [
       "(6852, 66)"
      ]
     },
     "execution_count": 208,
     "metadata": {},
     "output_type": "execute_result"
    }
   ],
   "source": [
    "(adult_exam.query('(SPPMANEU > 1 & SPPMANEU < 88) & (SPPREPRO == 4 | SPPREPRO == 1)')\n",
    " .query('HSAGEIR < 90').query('DMARETHN < 4').query('not HAR1 ==1')\n",
    " .query('not HAR23 == 1').query('not HAR26 == 1' )\n",
    " .query('not (0 < HXPG1 < 888 | 0 < HXPG2A < 88 | 0 < HXPG2B < 88)')\n",
    " .query('not HAR26 == 1'). query('not HAC1E == 1')\n",
    " .query('not HAC1F == 1')\n",
    "  .query('not HAC1G == 1').shape)"
   ]
  },
  {
   "cell_type": "markdown",
   "metadata": {},
   "source": [
    "and cancer H 0 6465"
   ]
  },
  {
   "cell_type": "markdown",
   "metadata": {},
   "source": [
    "## When add cancer excludes many, but Hankinson none (when lung cancer), so exclude this future analyses"
   ]
  },
  {
   "cell_type": "code",
   "execution_count": 73,
   "metadata": {},
   "outputs": [
    {
     "data": {
      "text/plain": [
       "2    19266\n",
       "1      780\n",
       "9        3\n",
       "8        1\n",
       "Name: HAC1O, dtype: int64"
      ]
     },
     "execution_count": 73,
     "metadata": {},
     "output_type": "execute_result"
    }
   ],
   "source": [
    "adult_exam.HAC1O.value_counts()"
   ]
  },
  {
   "cell_type": "code",
   "execution_count": 74,
   "metadata": {},
   "outputs": [
    {
     "data": {
      "text/plain": [
       "(6756, 66)"
      ]
     },
     "execution_count": 74,
     "metadata": {},
     "output_type": "execute_result"
    }
   ],
   "source": [
    "adult_exam.query('2 <= SPPMANEU < 88').query('HSAGEIR < 90').query('DMARETHN < 4').query('HAR1 == 2').query('HAR23 == 2').query('HAR26 == 2'). query('HAC1E == 2'). query('HAC1F == 2').query('HAC1G == 2').query('HAC1O == 2').shape"
   ]
  },
  {
   "cell_type": "markdown",
   "metadata": {},
   "source": [
    "and wheezing 6 month  H 419 6046  HAL6"
   ]
  },
  {
   "cell_type": "code",
   "execution_count": 75,
   "metadata": {},
   "outputs": [
    {
     "data": {
      "text/plain": [
       "2    17097\n",
       "1     2942\n",
       "8        8\n",
       "9        3\n",
       "Name: HAL6, dtype: int64"
      ]
     },
     "execution_count": 75,
     "metadata": {},
     "output_type": "execute_result"
    }
   ],
   "source": [
    "adult_exam.HAL6.value_counts()"
   ]
  },
  {
   "cell_type": "code",
   "execution_count": 76,
   "metadata": {},
   "outputs": [
    {
     "data": {
      "text/plain": [
       "(6495, 66)"
      ]
     },
     "execution_count": 76,
     "metadata": {},
     "output_type": "execute_result"
    }
   ],
   "source": [
    "adult_exam.query('2 <= SPPMANEU < 88').query('HSAGEIR < 90').query('DMARETHN < 4').query('HAR1 == 2').query('HAR23 == 2').query('HAR26 == 2'). query('HAC1E == 2'). query('HAC1F == 2').query('HAC1G == 2').query('HAL6 == 2').shape"
   ]
  },
  {
   "cell_type": "markdown",
   "metadata": {},
   "source": [
    "and whistling or wheezing  H 112 5934  HAL10"
   ]
  },
  {
   "cell_type": "code",
   "execution_count": 77,
   "metadata": {},
   "outputs": [
    {
     "data": {
      "text/plain": [
       "2    17097\n",
       "1     2942\n",
       "8        8\n",
       "9        3\n",
       "Name: HAL6, dtype: int64"
      ]
     },
     "execution_count": 77,
     "metadata": {},
     "output_type": "execute_result"
    }
   ],
   "source": [
    "adult_exam.HAL6.value_counts()"
   ]
  },
  {
   "cell_type": "markdown",
   "metadata": {},
   "source": [
    "# and wheezing 12 months 6493, 6408"
   ]
  },
  {
   "cell_type": "code",
   "execution_count": 78,
   "metadata": {},
   "outputs": [
    {
     "data": {
      "text/plain": [
       "(6493, 66)"
      ]
     },
     "execution_count": 78,
     "metadata": {},
     "output_type": "execute_result"
    }
   ],
   "source": [
    "(adult_exam.query('2 <= SPPMANEU < 88').query('HSAGEIR < 90')\n",
    " .query('DMARETHN < 4').query('HAR1 == 2').query('HAR23 == 2')\n",
    " .query('not (0 < HXPG1 < 888 | 0 < HXPG2A < 88 | 0 < HXPG2B < 88)')\n",
    " .query('HAR26 == 2'). query('HAC1E == 2'). query('HAC1F == 2')\n",
    " .query('HAC1G == 2')\n",
    " .query('HAL6 == 2').shape)"
   ]
  },
  {
   "cell_type": "code",
   "execution_count": 209,
   "metadata": {},
   "outputs": [
    {
     "data": {
      "text/plain": [
       "(6408, 66)"
      ]
     },
     "execution_count": 209,
     "metadata": {},
     "output_type": "execute_result"
    }
   ],
   "source": [
    "(adult_exam.query('(SPPMANEU > 1 & SPPMANEU < 88) & (SPPREPRO == 4 | SPPREPRO == 1)')\n",
    " .query('HSAGEIR < 90').query('DMARETHN < 4').query('not HAR1 ==1')\n",
    " .query('not HAR23 == 1').query('not HAR26 == 1' )\n",
    " .query('not (0 < HXPG1 < 888 | 0 < HXPG2A < 88 | 0 < HXPG2B < 88)')\n",
    " .query('not HAR26 == 1'). query('not HAC1E == 1')\n",
    " .query('not HAC1F == 1')\n",
    " .query('not HAC1G == 1')\n",
    " .query('not HAL6 == 1').shape)"
   ]
  },
  {
   "cell_type": "markdown",
   "metadata": {},
   "source": [
    "# and wheezing 12 months not=1"
   ]
  },
  {
   "cell_type": "code",
   "execution_count": 79,
   "metadata": {},
   "outputs": [
    {
     "data": {
      "text/plain": [
       "(6494, 66)"
      ]
     },
     "execution_count": 79,
     "metadata": {},
     "output_type": "execute_result"
    }
   ],
   "source": [
    "(adult_exam.query('2 <= SPPMANEU < 88').query('HSAGEIR < 90')\n",
    " .query('DMARETHN < 4').query('HAR1 == 2').query('HAR23 == 2')\n",
    " .query('not (0 < HXPG1 < 888 | 0 < HXPG2A < 88 | 0 < HXPG2B < 88)')\n",
    " .query('HAR26 == 2'). query('HAC1E == 2'). query('HAC1F == 2')\n",
    " .query('HAC1G == 2')\n",
    " .query('not HAL6 == 1').shape)"
   ]
  },
  {
   "cell_type": "code",
   "execution_count": 80,
   "metadata": {},
   "outputs": [
    {
     "data": {
      "text/plain": [
       "(6368, 66)"
      ]
     },
     "execution_count": 80,
     "metadata": {},
     "output_type": "execute_result"
    }
   ],
   "source": [
    "adult_exam.query('2 <= SPPMANEU < 88').query('HSAGEIR < 90').query('DMARETHN < 4').query('HAR1 == 2').query('HAR23 == 2').query('HAR26 == 2'). query('HAC1E == 2'). query('HAC1F == 2').query('HAC1G == 2').query('HAL6 == 2').query('HAL10 == 2').shape"
   ]
  },
  {
   "cell_type": "markdown",
   "metadata": {},
   "source": [
    "# and wheezing apart from colds 6366, 6285"
   ]
  },
  {
   "cell_type": "code",
   "execution_count": 81,
   "metadata": {},
   "outputs": [
    {
     "data": {
      "text/plain": [
       "(6366, 66)"
      ]
     },
     "execution_count": 81,
     "metadata": {},
     "output_type": "execute_result"
    }
   ],
   "source": [
    "(adult_exam.query('2 <= SPPMANEU < 88').query('HSAGEIR < 90')\n",
    " .query('DMARETHN < 4').query('HAR1 == 2').query('HAR23 == 2')\n",
    " .query('not (0 < HXPG1 < 888 | 0 < HXPG2A < 88 | 0 < HXPG2B < 88)')\n",
    " .query('HAR26 == 2'). query('HAC1E == 2'). query('HAC1F == 2')\n",
    " .query('HAC1G == 2')\n",
    " .query('HAL6 == 2')\n",
    " .query('HAL10 == 2').shape)"
   ]
  },
  {
   "cell_type": "code",
   "execution_count": 210,
   "metadata": {},
   "outputs": [
    {
     "data": {
      "text/plain": [
       "(6285, 66)"
      ]
     },
     "execution_count": 210,
     "metadata": {},
     "output_type": "execute_result"
    }
   ],
   "source": [
    "(adult_exam.query('(SPPMANEU > 1 & SPPMANEU < 88) & (SPPREPRO == 4 | SPPREPRO == 1)')\n",
    " .query('HSAGEIR < 90').query('DMARETHN < 4').query('not HAR1 ==1')\n",
    " .query('not HAR23 == 1').query('not HAR26 == 1' )\n",
    " .query('not (0 < HXPG1 < 888 | 0 < HXPG2A < 88 | 0 < HXPG2B < 88)')\n",
    " .query('not HAR26 == 1'). query('not HAC1E == 1')\n",
    " .query('not HAC1F == 1')\n",
    " .query('not HAC1G == 1')\n",
    " .query('not HAL6 == 1')\n",
    " .query('not HAL10 == 1')\n",
    " .shape)"
   ]
  },
  {
   "cell_type": "code",
   "execution_count": 82,
   "metadata": {},
   "outputs": [
    {
     "data": {
      "text/plain": [
       "2    17958\n",
       "1     2072\n",
       "8       14\n",
       "9        6\n",
       "Name: HAL10, dtype: int64"
      ]
     },
     "execution_count": 82,
     "metadata": {},
     "output_type": "execute_result"
    }
   ],
   "source": [
    "adult_exam.HAL10.value_counts()"
   ]
  },
  {
   "cell_type": "markdown",
   "metadata": {},
   "source": [
    "and persistent cough H 158, 5776  HAL1"
   ]
  },
  {
   "cell_type": "markdown",
   "metadata": {},
   "source": [
    "# and not persistent cough 6200, 6121"
   ]
  },
  {
   "cell_type": "code",
   "execution_count": 83,
   "metadata": {},
   "outputs": [
    {
     "data": {
      "text/plain": [
       "(6200, 66)"
      ]
     },
     "execution_count": 83,
     "metadata": {},
     "output_type": "execute_result"
    }
   ],
   "source": [
    "adult_exam.query('2 <= SPPMANEU < 88').query('HSAGEIR < 90').query('DMARETHN < 4').query('HAR1 == 2').query('HAR23 == 2').query('HAR26 == 2'). query('HAC1E == 2'). query('HAC1F == 2').query('HAC1G == 2').query('HAL6 == 2').query('HAL10 == 2').query('HAL1 == 2').shape"
   ]
  },
  {
   "cell_type": "code",
   "execution_count": 212,
   "metadata": {},
   "outputs": [
    {
     "data": {
      "text/plain": [
       "(6121, 66)"
      ]
     },
     "execution_count": 212,
     "metadata": {},
     "output_type": "execute_result"
    }
   ],
   "source": [
    "(adult_exam.query('(SPPMANEU > 1 & SPPMANEU < 88) & (SPPREPRO == 4 | SPPREPRO == 1)')\n",
    " .query('HSAGEIR < 90').query('DMARETHN < 4').query('not HAR1 ==1')\n",
    " .query('not HAR23 == 1').query('not HAR26 == 1' )\n",
    " .query('not (0 < HXPG1 < 888 | 0 < HXPG2A < 88 | 0 < HXPG2B < 88)')\n",
    " .query('not HAR26 == 1'). query('not HAC1E == 1')\n",
    " .query('not HAC1F == 1')\n",
    " .query('not HAC1G == 1')\n",
    " .query('not HAL6 == 1')\n",
    " .query('not HAL10 == 1')\n",
    " .query('not HAL1 == 1')\n",
    " .shape)"
   ]
  },
  {
   "cell_type": "code",
   "execution_count": 84,
   "metadata": {},
   "outputs": [
    {
     "data": {
      "text/plain": [
       "2    18461\n",
       "1     1582\n",
       "8        6\n",
       "9        1\n",
       "Name: HAL1, dtype: int64"
      ]
     },
     "execution_count": 84,
     "metadata": {},
     "output_type": "execute_result"
    }
   ],
   "source": [
    "adult_exam.HAL1.value_counts()"
   ]
  },
  {
   "cell_type": "markdown",
   "metadata": {},
   "source": [
    "# and not persistent phlegm H 125  5776  HAL 3, 6065,5990"
   ]
  },
  {
   "cell_type": "code",
   "execution_count": 85,
   "metadata": {},
   "outputs": [
    {
     "data": {
      "text/plain": [
       "(6065, 66)"
      ]
     },
     "execution_count": 85,
     "metadata": {},
     "output_type": "execute_result"
    }
   ],
   "source": [
    "adult_exam.query('2 <= SPPMANEU < 88').query('HSAGEIR < 90').query('DMARETHN < 4').query('HAR1 == 2').query('HAR23 == 2').query('HAR26 == 2'). query('HAC1E == 2'). query('HAC1F == 2').query('HAC1G == 2').query('HAL6 == 2').query('HAL10 == 2').query('HAL1 == 2').query('HAL3 == 2').shape"
   ]
  },
  {
   "cell_type": "code",
   "execution_count": 213,
   "metadata": {},
   "outputs": [
    {
     "data": {
      "text/plain": [
       "(5990, 66)"
      ]
     },
     "execution_count": 213,
     "metadata": {},
     "output_type": "execute_result"
    }
   ],
   "source": [
    "(adult_exam.query('(SPPMANEU > 1 & SPPMANEU < 88) & (SPPREPRO == 4 | SPPREPRO == 1)')\n",
    " .query('HSAGEIR < 90').query('DMARETHN < 4').query('not HAR1 ==1')\n",
    " .query('not HAR23 == 1').query('not HAR26 == 1' )\n",
    " .query('not (0 < HXPG1 < 888 | 0 < HXPG2A < 88 | 0 < HXPG2B < 88)')\n",
    " .query('not HAR26 == 1'). query('not HAC1E == 1')\n",
    " .query('not HAC1F == 1')\n",
    " .query('not HAC1G == 1')\n",
    " .query('not HAL6 == 1')\n",
    " .query('not HAL10 == 1')\n",
    " .query('not HAL1 == 1')\n",
    " .query('not HAL3 == 1')\n",
    " .shape)"
   ]
  },
  {
   "cell_type": "markdown",
   "metadata": {},
   "source": [
    "# and moderate shortness of breath H  848  4803  HAL5  5151 5116"
   ]
  },
  {
   "cell_type": "code",
   "execution_count": 86,
   "metadata": {},
   "outputs": [
    {
     "data": {
      "text/plain": [
       "2    18330\n",
       "1     1705\n",
       "8       12\n",
       "9        3\n",
       "Name: HAL3, dtype: int64"
      ]
     },
     "execution_count": 86,
     "metadata": {},
     "output_type": "execute_result"
    }
   ],
   "source": [
    "adult_exam.HAL3.value_counts()"
   ]
  },
  {
   "cell_type": "code",
   "execution_count": 87,
   "metadata": {},
   "outputs": [
    {
     "data": {
      "text/plain": [
       "2    14910\n",
       "1     5030\n",
       "8       64\n",
       "9       46\n",
       "Name: HAL5, dtype: int64"
      ]
     },
     "execution_count": 87,
     "metadata": {},
     "output_type": "execute_result"
    }
   ],
   "source": [
    "adult_exam.HAL5.value_counts()"
   ]
  },
  {
   "cell_type": "code",
   "execution_count": 214,
   "metadata": {},
   "outputs": [
    {
     "data": {
      "text/plain": [
       "(5116, 66)"
      ]
     },
     "execution_count": 214,
     "metadata": {},
     "output_type": "execute_result"
    }
   ],
   "source": [
    "(adult_exam.query('(SPPMANEU > 1 & SPPMANEU < 88) & (SPPREPRO == 4 | SPPREPRO == 1)')\n",
    " .query('HSAGEIR < 90').query('DMARETHN < 4').query('not HAR1 ==1')\n",
    " .query('not HAR23 == 1').query('not HAR26 == 1' )\n",
    " .query('not (0 < HXPG1 < 888 | 0 < HXPG2A < 88 | 0 < HXPG2B < 88)')\n",
    " .query('not HAR26 == 1'). query('not HAC1E == 1')\n",
    " .query('not HAC1F == 1')\n",
    " .query('not HAC1G == 1')\n",
    " .query('not HAL6 == 1')\n",
    " .query('not HAL10 == 1')\n",
    " .query('not HAL1 == 1')\n",
    " .query('not HAL3 == 1')\n",
    " .query('not HAL5 == 1')\n",
    " .shape)"
   ]
  },
  {
   "cell_type": "code",
   "execution_count": 88,
   "metadata": {},
   "outputs": [
    {
     "data": {
      "text/plain": [
       "(5151, 66)"
      ]
     },
     "execution_count": 88,
     "metadata": {},
     "output_type": "execute_result"
    }
   ],
   "source": [
    "adult_exam.query('2 <= SPPMANEU < 88').query('HSAGEIR < 90').query('DMARETHN < 4').query('HAR1 == 2').query('HAR23 == 2').query('HAR26 == 2'). query('HAC1E == 2'). query('HAC1F == 2').query('HAC1G == 2').query('HAL6 == 2').query('HAL10 == 2').query('HAL1 == 2').query('HAL3 == 2').query('HAL5 == 2').shape"
   ]
  },
  {
   "cell_type": "code",
   "execution_count": 90,
   "metadata": {},
   "outputs": [
    {
     "data": {
      "text/plain": [
       "(5122, 66)"
      ]
     },
     "execution_count": 90,
     "metadata": {},
     "output_type": "execute_result"
    }
   ],
   "source": [
    "adult_exam.query('2 <= SPPMANEU < 88').query('HSAGEIR < 90').query('DMARETHN < 4').query('HAR1 == 2').query('HAR23 > 1').query('HAR26 > 1').query('HAC1E > 1').query('HAC1F > 1').query('HAC1G > 1').query('HAC1O > 1').query('HAL6 > 1').query('HAL1 > 1').query('HAL3 > 1').query('HAL5 == 2').shape"
   ]
  },
  {
   "cell_type": "markdown",
   "metadata": {},
   "source": [
    "# and age < 81  H  139 4634  HSAGEIR 4944, 4925\n"
   ]
  },
  {
   "cell_type": "markdown",
   "metadata": {},
   "source": [
    "adult_exam.query('2 <= SPPMANEU < 88').query('HSAGEIR < 90').query('DMARETHN < 4').query('HAR1 == 2').query('HAR23 > 1').query('HAR26 > 1').query('HAC1E > 1').query('HAC1F > 1').query('HAC1G > 1').query('HAC1O > 1').query('HAL6 > 1').query('HAL1 > 1').query('HAL3 > 1').query('HAL5 == 2').query('HSAGEIR < 81').shape"
   ]
  },
  {
   "cell_type": "code",
   "execution_count": 91,
   "metadata": {},
   "outputs": [
    {
     "data": {
      "text/plain": [
       "(4944, 66)"
      ]
     },
     "execution_count": 91,
     "metadata": {},
     "output_type": "execute_result"
    }
   ],
   "source": [
    "(adult_exam.query('2 <= SPPMANEU < 88')\n",
    ".query('HSAGEIR < 90').query('DMARETHN < 4')\n",
    ".query('HAR1 == 2').query('HAR23 > 1')\n",
    ".query('HAR26 > 1').query('HAC1E > 1')\n",
    ".query('HAC1F > 1').query('HAC1G > 1')\n",
    ".query('HAC1O > 1').query('HAL6 > 1')\n",
    ".query('HAL1 > 1').query('HAL3 > 1')\n",
    ".query('HAL5 == 2').query('HSAGEIR < 81').shape)"
   ]
  },
  {
   "cell_type": "code",
   "execution_count": 215,
   "metadata": {},
   "outputs": [
    {
     "data": {
      "text/plain": [
       "(4925, 66)"
      ]
     },
     "execution_count": 215,
     "metadata": {},
     "output_type": "execute_result"
    }
   ],
   "source": [
    "(adult_exam.query('(SPPMANEU > 1 & SPPMANEU < 88) & (SPPREPRO == 4 | SPPREPRO == 1)')\n",
    " .query('HSAGEIR < 90').query('DMARETHN < 4').query('not HAR1 ==1')\n",
    " .query('not HAR23 == 1').query('not HAR26 == 1' )\n",
    " .query('not (0 < HXPG1 < 888 | 0 < HXPG2A < 88 | 0 < HXPG2B < 88)')\n",
    " .query('not HAR26 == 1'). query('not HAC1E == 1')\n",
    " .query('not HAC1F == 1')\n",
    " .query('not HAC1G == 1')\n",
    " .query('not HAL6 == 1')\n",
    " .query('not HAL10 == 1')\n",
    " .query('not HAL1 == 1')\n",
    " .query('not HAL3 == 1')\n",
    " .query('not HAL5 == 1')\n",
    " .query('HSAGEIR < 81')\n",
    " .shape)"
   ]
  },
  {
   "cell_type": "markdown",
   "metadata": {},
   "source": [
    "## Now create DataFrame adult_final of the final rows selected"
   ]
  },
  {
   "cell_type": "markdown",
   "metadata": {},
   "source": [
    "set AdultFinal = adult_exam.query('2 <= SPPMANEU < 88').query('HSAGEIR < 90').query('DMARETHN < 4').query('HAR1 == 2').query('HAR23 > 1').query('HAR26 > 1').query('HAC1E > 1').query('HAC1F > 1').query('HAC1G > 1').query('HAC1O > 1').query('HAL6 > 1').query('HAL1 > 1').query('HAL3 > 1').query('HAL5 == 2').query('HSAGEIR < 81').shape"
   ]
  },
  {
   "cell_type": "markdown",
   "metadata": {},
   "source": [
    "adult_final = (adult_exam.query('2 <= SPPMANEU < 88')\n",
    "                         .query('HSAGEIR < 90').query('DMARETHN < 4')\n",
    "                           .query('HAR1 == 2').query('HAR23 > 1').query('HAR26 > 1')\n",
    "                           .query('HAC1E > 1').query('HAC1F > 1').query('HAC1G > 1')\n",
    "                           .query('HAC1O > 1').query('HAL6 > 1').query('HAL1 > 1')\n",
    "                           .query('HAL3 > 1').query('HAL5 == 2').query('HSAGEIR < 81'))"
   ]
  },
  {
   "cell_type": "markdown",
   "metadata": {},
   "source": [
    "Not use this adult_final = (adult_exam.query('2 <= SPPMANEU < 88')\n",
    "                         .query('HSAGEIR < 90').query('DMARETHN < 4')\n",
    "                           .query('HAR1 == 2').query('HAR23 > 1').query('HAR26 > 1')\n",
    "                           .query('HAC1E > 1').query('HAC1F > 1').query('HAC1G > 1')\n",
    "                           .query('HAC1O > 1').query('HAL6 > 1').query('HAL1 > 1')\n",
    "                           .query('HAL3 > 1').query('HAL5 == 2').query('HSAGEIR < 81'))"
   ]
  },
  {
   "cell_type": "code",
   "execution_count": 216,
   "metadata": {},
   "outputs": [],
   "source": [
    "adult_final = (adult_exam.query('(SPPMANEU > 1 & SPPMANEU < 88) & (SPPREPRO == 4 | SPPREPRO == 1)')\n",
    " .query('HSAGEIR < 90').query('DMARETHN < 4').query('not HAR1 ==1')\n",
    " .query('not HAR23 == 1').query('not HAR26 == 1' )\n",
    " .query('not (0 < HXPG1 < 888 | 0 < HXPG2A < 88 | 0 < HXPG2B < 88)')\n",
    " .query('not HAR26 == 1'). query('not HAC1E == 1')\n",
    " .query('not HAC1F == 1')\n",
    " .query('not HAC1G == 1')\n",
    " .query('not HAL6 == 1')\n",
    " .query('not HAL10 == 1')\n",
    " .query('not HAL1 == 1')\n",
    " .query('not HAL3 == 1')\n",
    " .query('not HAL5 == 1')\n",
    " .query('HSAGEIR < 81'))"
   ]
  },
  {
   "cell_type": "code",
   "execution_count": 217,
   "metadata": {},
   "outputs": [],
   "source": [
    "af = adult_final"
   ]
  },
  {
   "cell_type": "code",
   "execution_count": null,
   "metadata": {},
   "outputs": [],
   "source": [
    "af.info()"
   ]
  },
  {
   "cell_type": "code",
   "execution_count": null,
   "metadata": {},
   "outputs": [],
   "source": [
    "nh.cols[nh.cols.description.str.contains('age')]"
   ]
  },
  {
   "cell_type": "code",
   "execution_count": 220,
   "metadata": {},
   "outputs": [
    {
     "data": {
      "text/plain": [
       "SEQN\n",
       "3        4640.0\n",
       "4        3089.0\n",
       "45       1840.0\n",
       "52       4658.0\n",
       "60       3651.0\n",
       "          ...  \n",
       "53558    2626.0\n",
       "53567    3348.0\n",
       "53592    3642.0\n",
       "53593    5214.0\n",
       "53623    3196.0\n",
       "Name: SPPFEV1, Length: 4925, dtype: float64"
      ]
     },
     "execution_count": 220,
     "metadata": {},
     "output_type": "execute_result"
    }
   ],
   "source": [
    "af.SPPFEV1"
   ]
  },
  {
   "cell_type": "markdown",
   "metadata": {},
   "source": [
    "## Now do youth exclusion"
   ]
  },
  {
   "cell_type": "code",
   "execution_count": 221,
   "metadata": {},
   "outputs": [
    {
     "data": {
      "text/plain": [
       "(13944, 60)"
      ]
     },
     "execution_count": 221,
     "metadata": {},
     "output_type": "execute_result"
    }
   ],
   "source": [
    "youth_exam.shape"
   ]
  },
  {
   "cell_type": "markdown",
   "metadata": {},
   "source": [
    "age 8-17"
   ]
  },
  {
   "cell_type": "code",
   "execution_count": 224,
   "metadata": {},
   "outputs": [
    {
     "data": {
      "text/plain": [
       "(5365, 60)"
      ]
     },
     "execution_count": 224,
     "metadata": {},
     "output_type": "execute_result"
    }
   ],
   "source": [
    "youth_exam.query('7 < HSAGEIR < 17').shape"
   ]
  },
  {
   "cell_type": "code",
   "execution_count": 223,
   "metadata": {},
   "outputs": [
    {
     "data": {
      "text/plain": [
       "(13944, 60)"
      ]
     },
     "execution_count": 223,
     "metadata": {},
     "output_type": "execute_result"
    }
   ],
   "source": [
    "youth_exam.query('HSAGEIR > 0').shape"
   ]
  },
  {
   "cell_type": "markdown",
   "metadata": {},
   "source": [
    "Youth ethnicity"
   ]
  },
  {
   "cell_type": "code",
   "execution_count": 99,
   "metadata": {},
   "outputs": [
    {
     "data": {
      "text/plain": [
       "1    4602\n",
       "3    4445\n",
       "2    4141\n",
       "4     756\n",
       "Name: DMARETHN, dtype: int64"
      ]
     },
     "execution_count": 99,
     "metadata": {},
     "output_type": "execute_result"
    }
   ],
   "source": [
    "youth_exam.DMARETHN.value_counts()"
   ]
  },
  {
   "cell_type": "markdown",
   "metadata": {},
   "source": [
    "spirometry unusable <2 curves"
   ]
  },
  {
   "cell_type": "code",
   "execution_count": 226,
   "metadata": {},
   "outputs": [
    {
     "data": {
      "text/plain": [
       "(4076, 60)"
      ]
     },
     "execution_count": 226,
     "metadata": {},
     "output_type": "execute_result"
    }
   ],
   "source": [
    "(youth_exam.query('7 < HSAGEIR < 18')\n",
    ".query('(SPPMANEU > 1 & SPPMANEU < 88) & (SPPREPRO == 4 | SPPREPRO == 1)')\n",
    ".shape)"
   ]
  },
  {
   "cell_type": "code",
   "execution_count": 225,
   "metadata": {},
   "outputs": [
    {
     "data": {
      "text/plain": [
       "(4114, 60)"
      ]
     },
     "execution_count": 225,
     "metadata": {},
     "output_type": "execute_result"
    }
   ],
   "source": [
    "youth_exam.query('7 < HSAGEIR < 18').query('2 <= SPPMANEU < 88').shape"
   ]
  },
  {
   "cell_type": "markdown",
   "metadata": {},
   "source": [
    "ethnicity other"
   ]
  },
  {
   "cell_type": "code",
   "execution_count": 101,
   "metadata": {},
   "outputs": [
    {
     "data": {
      "text/plain": [
       "(3928, 60)"
      ]
     },
     "execution_count": 101,
     "metadata": {},
     "output_type": "execute_result"
    }
   ],
   "source": [
    "youth_exam.query('7 < HSAGEIR < 18').query('2 <= SPPMANEU < 88').query('DMARETHN < 4').shape"
   ]
  },
  {
   "cell_type": "code",
   "execution_count": 228,
   "metadata": {},
   "outputs": [
    {
     "data": {
      "text/plain": [
       "(3890, 60)"
      ]
     },
     "execution_count": 228,
     "metadata": {},
     "output_type": "execute_result"
    }
   ],
   "source": [
    "(youth_exam.query('7 < HSAGEIR < 18')\n",
    ".query('(SPPMANEU > 1 & SPPMANEU < 88) & (SPPREPRO == 4 | SPPREPRO == 1)')\n",
    ".query('DMARETHN < 4')\n",
    ".shape)"
   ]
  },
  {
   "cell_type": "markdown",
   "metadata": {},
   "source": [
    "try B1 ever smoker  not work exclude too many"
   ]
  },
  {
   "cell_type": "code",
   "execution_count": 102,
   "metadata": {},
   "outputs": [
    {
     "data": {
      "text/plain": [
       "(3238, 60)"
      ]
     },
     "execution_count": 102,
     "metadata": {},
     "output_type": "execute_result"
    }
   ],
   "source": [
    "youth_exam.query('7 < HSAGEIR < 18').query('2 <= SPPMANEU < 88').query('DMARETHN < 4').query('not MYPB1 == 1').shape"
   ]
  },
  {
   "cell_type": "markdown",
   "metadata": {},
   "source": [
    "smoker B1 and B3 ** B1 too many; B3 (>5 pks) OK"
   ]
  },
  {
   "cell_type": "markdown",
   "metadata": {},
   "source": [
    "# now try using MYPB11 - smoked >100 cigarettes in life"
   ]
  },
  {
   "cell_type": "markdown",
   "metadata": {},
   "source": [
    "# MYPB3 youth smoked at least 100 cigarettes"
   ]
  },
  {
   "cell_type": "code",
   "execution_count": 103,
   "metadata": {},
   "outputs": [
    {
     "data": {
      "text/plain": [
       "(3813, 60)"
      ]
     },
     "execution_count": 103,
     "metadata": {},
     "output_type": "execute_result"
    }
   ],
   "source": [
    "youth_exam.query('7 < HSAGEIR < 18').query('2 <= SPPMANEU < 88').query('DMARETHN < 4').query('not MYPB3 == 1').shape"
   ]
  },
  {
   "cell_type": "code",
   "execution_count": 229,
   "metadata": {},
   "outputs": [
    {
     "data": {
      "text/plain": [
       "(3775, 60)"
      ]
     },
     "execution_count": 229,
     "metadata": {},
     "output_type": "execute_result"
    }
   ],
   "source": [
    "(youth_exam.query('7 < HSAGEIR < 18')\n",
    ".query('(SPPMANEU > 1 & SPPMANEU < 88) & (SPPREPRO == 4 | SPPREPRO == 1)')\n",
    ".query('DMARETHN < 4')\n",
    ".query('not MYPB3 == 1')\n",
    ".shape)"
   ]
  },
  {
   "cell_type": "markdown",
   "metadata": {},
   "source": [
    "smoked 5 days B11 and B27"
   ]
  },
  {
   "cell_type": "code",
   "execution_count": 104,
   "metadata": {},
   "outputs": [
    {
     "data": {
      "text/plain": [
       "(3594, 60)"
      ]
     },
     "execution_count": 104,
     "metadata": {},
     "output_type": "execute_result"
    }
   ],
   "source": [
    "youth_exam.query('7 < HSAGEIR < 18').query('2 <= SPPMANEU < 88').query('DMARETHN < 4').query('not MYPB3 == 1').query('not MYPB11 >0').shape"
   ]
  },
  {
   "cell_type": "markdown",
   "metadata": {},
   "source": [
    "and B27"
   ]
  },
  {
   "cell_type": "code",
   "execution_count": 105,
   "metadata": {},
   "outputs": [
    {
     "data": {
      "text/plain": [
       "(3593, 60)"
      ]
     },
     "execution_count": 105,
     "metadata": {},
     "output_type": "execute_result"
    }
   ],
   "source": [
    "youth_exam.query('7 < HSAGEIR < 18').query('2 <= SPPMANEU < 88').query('DMARETHN < 4').query('not MYPB3 == 1').query('not MYPB11 >0').query('not MYPB27A >0').shape"
   ]
  },
  {
   "cell_type": "code",
   "execution_count": 230,
   "metadata": {},
   "outputs": [
    {
     "data": {
      "text/plain": [
       "(3555, 60)"
      ]
     },
     "execution_count": 230,
     "metadata": {},
     "output_type": "execute_result"
    }
   ],
   "source": [
    "(youth_exam.query('7 < HSAGEIR < 18')\n",
    ".query('(SPPMANEU > 1 & SPPMANEU < 88) & (SPPREPRO == 4 | SPPREPRO == 1)')\n",
    ".query('DMARETHN < 4')\n",
    ".query('not MYPB3 == 1')\n",
    ".query('not MYPB11 >0').query('not MYPB27A >0')\n",
    ".shape)"
   ]
  },
  {
   "cell_type": "markdown",
   "metadata": {},
   "source": [
    "asthma E1g"
   ]
  },
  {
   "cell_type": "code",
   "execution_count": 106,
   "metadata": {},
   "outputs": [
    {
     "data": {
      "text/plain": [
       "(3268, 60)"
      ]
     },
     "execution_count": 106,
     "metadata": {},
     "output_type": "execute_result"
    }
   ],
   "source": [
    "youth_exam.query('7 < HSAGEIR < 18').query('2 <= SPPMANEU < 88').query('DMARETHN < 4').query('not MYPB3 == 1').query('not MYPB11 >0').query('not MYPB27A >0').query('not HYE1G == 1').shape"
   ]
  },
  {
   "cell_type": "code",
   "execution_count": 231,
   "metadata": {},
   "outputs": [
    {
     "data": {
      "text/plain": [
       "(3232, 60)"
      ]
     },
     "execution_count": 231,
     "metadata": {},
     "output_type": "execute_result"
    }
   ],
   "source": [
    "(youth_exam.query('7 < HSAGEIR < 18')\n",
    ".query('(SPPMANEU > 1 & SPPMANEU < 88) & (SPPREPRO == 4 | SPPREPRO == 1)')\n",
    ".query('DMARETHN < 4')\n",
    ".query('not MYPB3 == 1')\n",
    ".query('not MYPB11 >0').query('not MYPB27A >0')\n",
    ".query('not HYE1G == 1')\n",
    ".shape)"
   ]
  },
  {
   "cell_type": "markdown",
   "metadata": {},
   "source": [
    "chronic bronchitis E1h"
   ]
  },
  {
   "cell_type": "code",
   "execution_count": 107,
   "metadata": {},
   "outputs": [
    {
     "data": {
      "text/plain": [
       "(3180, 60)"
      ]
     },
     "execution_count": 107,
     "metadata": {},
     "output_type": "execute_result"
    }
   ],
   "source": [
    "youth_exam.query('7 < HSAGEIR < 18').query('2 <= SPPMANEU < 88').query('DMARETHN < 4').query('not MYPB3 == 1').query('not MYPB11 >0').query('not MYPB27A >0').query('not HYE1G == 1').query('not HYE1H == 1').shape"
   ]
  },
  {
   "cell_type": "code",
   "execution_count": 232,
   "metadata": {},
   "outputs": [
    {
     "data": {
      "text/plain": [
       "(3145, 60)"
      ]
     },
     "execution_count": 232,
     "metadata": {},
     "output_type": "execute_result"
    }
   ],
   "source": [
    "(youth_exam.query('7 < HSAGEIR < 18')\n",
    ".query('(SPPMANEU > 1 & SPPMANEU < 88) & (SPPREPRO == 4 | SPPREPRO == 1)')\n",
    ".query('DMARETHN < 4')\n",
    ".query('not MYPB3 == 1')\n",
    ".query('not MYPB11 >0').query('not MYPB27A >0')\n",
    ".query('not HYE1G == 1')\n",
    ".query('not HYE1H == 1')\n",
    ".shape)"
   ]
  },
  {
   "cell_type": "markdown",
   "metadata": {},
   "source": [
    "wheezing 12 months"
   ]
  },
  {
   "cell_type": "code",
   "execution_count": 108,
   "metadata": {},
   "outputs": [
    {
     "data": {
      "text/plain": [
       "(2899, 60)"
      ]
     },
     "execution_count": 108,
     "metadata": {},
     "output_type": "execute_result"
    }
   ],
   "source": [
    "youth_exam.query('7 < HSAGEIR < 18').query('2 <= SPPMANEU < 88').query('DMARETHN < 4').query('not MYPB3 == 1').query('not MYPB11 >0').query('not MYPB27A >0').query('not HYE1G == 1').query('not HYE1H == 1').query('not HYG8 == 1').shape"
   ]
  },
  {
   "cell_type": "code",
   "execution_count": 233,
   "metadata": {},
   "outputs": [
    {
     "data": {
      "text/plain": [
       "(2867, 60)"
      ]
     },
     "execution_count": 233,
     "metadata": {},
     "output_type": "execute_result"
    }
   ],
   "source": [
    "(youth_exam.query('7 < HSAGEIR < 18')\n",
    ".query('(SPPMANEU > 1 & SPPMANEU < 88) & (SPPREPRO == 4 | SPPREPRO == 1)')\n",
    ".query('DMARETHN < 4')\n",
    ".query('not MYPB3 == 1')\n",
    ".query('not MYPB11 >0').query('not MYPB27A >0')\n",
    ".query('not HYE1G == 1')\n",
    ".query('not HYE1H == 1')\n",
    ".query('not HYG8 == 1')\n",
    ".shape)"
   ]
  },
  {
   "cell_type": "markdown",
   "metadata": {},
   "source": [
    "wheezing apart from colds"
   ]
  },
  {
   "cell_type": "code",
   "execution_count": 109,
   "metadata": {
    "scrolled": true
   },
   "outputs": [
    {
     "data": {
      "text/plain": [
       "(2848, 60)"
      ]
     },
     "execution_count": 109,
     "metadata": {},
     "output_type": "execute_result"
    }
   ],
   "source": [
    "youth_exam.query('7 < HSAGEIR < 18').query('2 <= SPPMANEU < 88').query('DMARETHN < 4').query('not MYPB3 == 1').query('not MYPB11 >0').query('not MYPB27A >0').query('not HYE1G == 1').query('not HYE1H == 1').query('not HYG8 == 1').query('not HYG12 == 1').shape"
   ]
  },
  {
   "cell_type": "code",
   "execution_count": 234,
   "metadata": {},
   "outputs": [
    {
     "data": {
      "text/plain": [
       "(2816, 60)"
      ]
     },
     "execution_count": 234,
     "metadata": {},
     "output_type": "execute_result"
    }
   ],
   "source": [
    "(youth_exam.query('7 < HSAGEIR < 18')\n",
    ".query('(SPPMANEU > 1 & SPPMANEU < 88) & (SPPREPRO == 4 | SPPREPRO == 1)')\n",
    ".query('DMARETHN < 4')\n",
    ".query('not MYPB3 == 1')\n",
    ".query('not MYPB11 >0').query('not MYPB27A >0')\n",
    ".query('not HYE1G == 1')\n",
    ".query('not HYE1H == 1')\n",
    ".query('not HYG8 == 1')\n",
    ".query('not HYG12 == 1')\n",
    ".shape)"
   ]
  },
  {
   "cell_type": "markdown",
   "metadata": {},
   "source": [
    "Youth 12 years and older with above H 1298"
   ]
  },
  {
   "cell_type": "code",
   "execution_count": 110,
   "metadata": {},
   "outputs": [
    {
     "data": {
      "text/plain": [
       "(1305, 60)"
      ]
     },
     "execution_count": 110,
     "metadata": {},
     "output_type": "execute_result"
    }
   ],
   "source": [
    "youth_exam.query('7 < HSAGEIR < 18').query('2 <= SPPMANEU < 88').query('DMARETHN < 4').query('not MYPB3 == 1').query('not MYPB11 >0').query('not MYPB27A >0').query('not HYE1G == 1').query('not HYE1H == 1').query('not HYG8 == 1').query('not HYG12 == 1').query('HSAGEIR > 11').shape"
   ]
  },
  {
   "cell_type": "code",
   "execution_count": 235,
   "metadata": {},
   "outputs": [
    {
     "data": {
      "text/plain": [
       "(1294, 60)"
      ]
     },
     "execution_count": 235,
     "metadata": {},
     "output_type": "execute_result"
    }
   ],
   "source": [
    "(youth_exam.query('7 < HSAGEIR < 18')\n",
    ".query('(SPPMANEU > 1 & SPPMANEU < 88) & (SPPREPRO == 4 | SPPREPRO == 1)')\n",
    ".query('DMARETHN < 4')\n",
    ".query('not MYPB3 == 1')\n",
    ".query('not MYPB11 >0').query('not MYPB27A >0')\n",
    ".query('not HYE1G == 1')\n",
    ".query('not HYE1H == 1')\n",
    ".query('not HYG8 == 1')\n",
    ".query('not HYG12 == 1')\n",
    ".query('HSAGEIR > 11')\n",
    ".shape)"
   ]
  },
  {
   "cell_type": "markdown",
   "metadata": {},
   "source": [
    "and not persistent cough G2 H 2816 **I all age"
   ]
  },
  {
   "cell_type": "code",
   "execution_count": 236,
   "metadata": {},
   "outputs": [
    {
     "data": {
      "text/plain": [
       "(2832, 60)"
      ]
     },
     "execution_count": 236,
     "metadata": {},
     "output_type": "execute_result"
    }
   ],
   "source": [
    "youth_exam.query('7 < HSAGEIR < 18').query('2 <= SPPMANEU < 88').query('DMARETHN < 4').query('not MYPB3 == 1').query('not MYPB11 >0').query('not MYPB27A >0').query('not HYE1G == 1').query('not HYE1H == 1').query('not HYG8 == 1').query('not HYG12 == 1').query('not HYG2 == 1').shape"
   ]
  },
  {
   "cell_type": "code",
   "execution_count": 237,
   "metadata": {},
   "outputs": [
    {
     "data": {
      "text/plain": [
       "(2800, 60)"
      ]
     },
     "execution_count": 237,
     "metadata": {},
     "output_type": "execute_result"
    }
   ],
   "source": [
    "(youth_exam.query('7 < HSAGEIR < 18')\n",
    ".query('(SPPMANEU > 1 & SPPMANEU < 88) & (SPPREPRO == 4 | SPPREPRO == 1)')\n",
    ".query('DMARETHN < 4')\n",
    ".query('not MYPB3 == 1')\n",
    ".query('not MYPB11 >0').query('not MYPB27A >0')\n",
    ".query('not HYE1G == 1')\n",
    ".query('not HYE1H == 1')\n",
    ".query('not HYG8 == 1')\n",
    ".query('not HYG12 == 1')\n",
    ".query('not HYG2 == 1')\n",
    ".shape)"
   ]
  },
  {
   "cell_type": "markdown",
   "metadata": {},
   "source": [
    "and not persistent phlegm G4 H 2806"
   ]
  },
  {
   "cell_type": "code",
   "execution_count": 112,
   "metadata": {},
   "outputs": [
    {
     "data": {
      "text/plain": [
       "(2822, 60)"
      ]
     },
     "execution_count": 112,
     "metadata": {},
     "output_type": "execute_result"
    }
   ],
   "source": [
    "youth_exam.query('7 < HSAGEIR < 18').query('2 <= SPPMANEU < 88').query('DMARETHN < 4').query('not MYPB3 == 1').query('not MYPB11 >0').query('not MYPB27A >0').query('not HYE1G == 1').query('not HYE1H == 1').query('not HYG8 == 1').query('not HYG12 == 1').query('not HYG2 == 1').query('not HYG4 == 1').shape"
   ]
  },
  {
   "cell_type": "code",
   "execution_count": 238,
   "metadata": {},
   "outputs": [
    {
     "data": {
      "text/plain": [
       "(2790, 60)"
      ]
     },
     "execution_count": 238,
     "metadata": {},
     "output_type": "execute_result"
    }
   ],
   "source": [
    "(youth_exam.query('7 < HSAGEIR < 18')\n",
    ".query('(SPPMANEU > 1 & SPPMANEU < 88) & (SPPREPRO == 4 | SPPREPRO == 1)')\n",
    ".query('DMARETHN < 4')\n",
    ".query('not MYPB3 == 1')\n",
    ".query('not MYPB11 >0').query('not MYPB27A >0')\n",
    ".query('not HYE1G == 1')\n",
    ".query('not HYE1H == 1')\n",
    ".query('not HYG8 == 1')\n",
    ".query('not HYG12 == 1')\n",
    ".query('not HYG2 == 1')\n",
    ".query('not HYG4 == 1') \n",
    ".shape)"
   ]
  },
  {
   "cell_type": "markdown",
   "metadata": {},
   "source": [
    "and Youth age 8-under 12"
   ]
  },
  {
   "cell_type": "code",
   "execution_count": 113,
   "metadata": {},
   "outputs": [
    {
     "data": {
      "text/plain": [
       "(1543, 60)"
      ]
     },
     "execution_count": 113,
     "metadata": {},
     "output_type": "execute_result"
    }
   ],
   "source": [
    "youth_exam.query('7 < HSAGEIR < 18').query('2 <= SPPMANEU < 88').query('DMARETHN < 4').query('not MYPB3 == 1').query('not MYPB11 >0').query('not MYPB27A >0').query('not HYE1G == 1').query('not HYE1H == 1').query('not HYG8 == 1').query('not HYG12 == 1').query('not HYG2 == 1').query('not HYG4 == 1').query('HSAGEIR < 12').shape"
   ]
  },
  {
   "cell_type": "code",
   "execution_count": 239,
   "metadata": {},
   "outputs": [
    {
     "data": {
      "text/plain": [
       "(1522, 60)"
      ]
     },
     "execution_count": 239,
     "metadata": {},
     "output_type": "execute_result"
    }
   ],
   "source": [
    "(youth_exam.query('7 < HSAGEIR < 18')\n",
    ".query('(SPPMANEU > 1 & SPPMANEU < 88) & (SPPREPRO == 4 | SPPREPRO == 1)')\n",
    ".query('DMARETHN < 4')\n",
    ".query('not MYPB3 == 1')\n",
    ".query('not MYPB11 >0').query('not MYPB27A >0')\n",
    ".query('not HYE1G == 1')\n",
    ".query('not HYE1H == 1')\n",
    ".query('not HYG8 == 1')\n",
    ".query('not HYG12 == 1')\n",
    ".query('not HYG2 == 1')\n",
    ".query('not HYG4 == 1') \n",
    ".query('HSAGEIR < 12')\n",
    ".shape)"
   ]
  },
  {
   "cell_type": "markdown",
   "metadata": {},
   "source": [
    "and not persistent cough G6 and G7"
   ]
  },
  {
   "cell_type": "code",
   "execution_count": 241,
   "metadata": {},
   "outputs": [
    {
     "data": {
      "text/plain": [
       "1.0      1071\n",
       "2.0       959\n",
       "3.0       588\n",
       "4.0       333\n",
       "555.0     294\n",
       "6.0       117\n",
       "5.0       115\n",
       "12.0       48\n",
       "10.0       29\n",
       "8.0        26\n",
       "7.0        24\n",
       "999.0      18\n",
       "20.0       18\n",
       "888.0      16\n",
       "24.0       12\n",
       "15.0        8\n",
       "9.0         4\n",
       "30.0        2\n",
       "120.0       1\n",
       "104.0       1\n",
       "60.0        1\n",
       "13.0        1\n",
       "11.0        1\n",
       "25.0        1\n",
       "35.0        1\n",
       "14.0        1\n",
       "Name: HYG7, dtype: int64"
      ]
     },
     "execution_count": 241,
     "metadata": {},
     "output_type": "execute_result"
    }
   ],
   "source": [
    "youth_exam.HYG7.value_counts()"
   ]
  },
  {
   "cell_type": "code",
   "execution_count": 114,
   "metadata": {},
   "outputs": [
    {
     "data": {
      "text/plain": [
       "(2812, 60)"
      ]
     },
     "execution_count": 114,
     "metadata": {},
     "output_type": "execute_result"
    }
   ],
   "source": [
    "youth_exam.query('7 < HSAGEIR < 18').query('2 <= SPPMANEU < 88').query('DMARETHN < 4').query('not MYPB3 == 1').query('not MYPB11 >0').query('not MYPB27A >0').query('not HYE1G == 1').query('not HYE1H == 1').query('not HYG8 == 1').query('not HYG12 == 1').query('not HYG2 == 1').query('not HYG4 == 1').query('not HYG7 == 555').shape"
   ]
  },
  {
   "cell_type": "code",
   "execution_count": 243,
   "metadata": {},
   "outputs": [
    {
     "data": {
      "text/plain": [
       "(2780, 60)"
      ]
     },
     "execution_count": 243,
     "metadata": {},
     "output_type": "execute_result"
    }
   ],
   "source": [
    "(youth_exam.query('7 < HSAGEIR < 18')\n",
    ".query('(SPPMANEU > 1 & SPPMANEU < 88) & (SPPREPRO == 4 | SPPREPRO == 1)')\n",
    ".query('DMARETHN < 4')\n",
    ".query('not MYPB3 == 1')\n",
    ".query('not MYPB11 >0').query('not MYPB27A >0')\n",
    ".query('not HYE1G == 1')\n",
    ".query('not HYE1H == 1')\n",
    ".query('not HYG8 == 1')\n",
    ".query('not HYG12 == 1')\n",
    ".query('not HYG2 == 1')\n",
    ".query('not HYG4 == 1') \n",
    ".query('not HYG7 == 555')\n",
    ".shape)"
   ]
  },
  {
   "cell_type": "markdown",
   "metadata": {},
   "source": [
    "## Create youth_final"
   ]
  },
  {
   "cell_type": "markdown",
   "metadata": {},
   "source": [
    "youth_exam.query('7 < HSAGEIR < 18').query('2 <= SPPMANEU < 88').query('DMARETHN < 4').query('not MYPB3 == 1').query('not MYPB11 >0').query('not MYPB27A >0').query('not HYE1G == 1').query('not HYE1H == 1').query('not HYG8 == 1').query('not HYG12 == 1').query('not HYG2 == 1').query('not HYG4 == 1').query('not HYG7 == 555').shape"
   ]
  },
  {
   "cell_type": "markdown",
   "metadata": {},
   "source": [
    "youth_exam.query('7 < HSAGEIR < 18').query('2 <= SPPMANEU < 88').query('DMARETHN < 4').query('not MYPB3 == 1').query('not MYPB11 >0').query('not MYPB27A >0').query('not HYE1G == 1').query('not HYE1H == 1').query('not HYG8 == 1').query('not HYG12 == 1').query('not HYG2 == 1').query('not HYG4 == 1').query('not HYG7 == 555').shape"
   ]
  },
  {
   "cell_type": "markdown",
   "metadata": {},
   "source": [
    "youth_final = (youth_exam.query('7 < HSAGEIR < 18').query('2 <= SPPMANEU < 88')\n",
    "               .query('DMARETHN < 4').query('not MYPB3 == 1')\n",
    "               .query('not MYPB11 >0').query('not MYPB27A >0')\n",
    "               .query('not HYE1G == 1').query('not HYE1H == 1')\n",
    "               .query('not HYG8 == 1').query('not HYG12 == 1')\n",
    "               .query('not HYG2 == 1').query('not HYG4 == 1')\n",
    "               .query('not HYG7 == 555'))"
   ]
  },
  {
   "cell_type": "markdown",
   "metadata": {},
   "source": [
    "not use anymore youth_final = (youth_exam.query('7 < HSAGEIR < 18').query('2 <= SPPMANEU < 88')\n",
    "               .query('DMARETHN < 4').query('not MYPB3 == 1')\n",
    "               .query('not MYPB11 >0').query('not MYPB27A >0')\n",
    "               .query('not HYE1G == 1').query('not HYE1H == 1')\n",
    "               .query('not HYG8 == 1').query('not HYG12 == 1')\n",
    "               .query('not HYG2 == 1').query('not HYG4 == 1')\n",
    "               .query('not HYG7 == 555'))"
   ]
  },
  {
   "cell_type": "code",
   "execution_count": 246,
   "metadata": {},
   "outputs": [],
   "source": [
    "youth_final = (youth_exam.query('7 < HSAGEIR < 18')\n",
    ".query('(SPPMANEU > 1 & SPPMANEU < 88) & (SPPREPRO == 4 | SPPREPRO == 1)')\n",
    ".query('DMARETHN < 4')\n",
    ".query('not MYPB3 == 1')\n",
    ".query('not MYPB11 >0').query('not MYPB27A >0')\n",
    ".query('not HYE1G == 1')\n",
    ".query('not HYE1H == 1')\n",
    ".query('not HYG8 == 1')\n",
    ".query('not HYG12 == 1')\n",
    ".query('not HYG2 == 1')\n",
    ".query('not HYG4 == 1') \n",
    ".query('not HYG7 == 555'))"
   ]
  },
  {
   "cell_type": "code",
   "execution_count": 247,
   "metadata": {},
   "outputs": [
    {
     "data": {
      "text/plain": [
       "(2780, 60)"
      ]
     },
     "execution_count": 247,
     "metadata": {},
     "output_type": "execute_result"
    }
   ],
   "source": [
    "youth_final.shape"
   ]
  },
  {
   "cell_type": "code",
   "execution_count": 248,
   "metadata": {},
   "outputs": [
    {
     "data": {
      "text/html": [
       "<div>\n",
       "<style scoped>\n",
       "    .dataframe tbody tr th:only-of-type {\n",
       "        vertical-align: middle;\n",
       "    }\n",
       "\n",
       "    .dataframe tbody tr th {\n",
       "        vertical-align: top;\n",
       "    }\n",
       "\n",
       "    .dataframe thead th {\n",
       "        text-align: right;\n",
       "    }\n",
       "</style>\n",
       "<table border=\"1\" class=\"dataframe\">\n",
       "  <thead>\n",
       "    <tr style=\"text-align: right;\">\n",
       "      <th></th>\n",
       "      <th>HYE1G</th>\n",
       "      <th>HYE1H</th>\n",
       "      <th>HSSEX</th>\n",
       "      <th>HSAGEIR</th>\n",
       "      <th>HSAGEU</th>\n",
       "      <th>DMARACER</th>\n",
       "      <th>DMARETHN</th>\n",
       "      <th>DMAETHNR</th>\n",
       "      <th>HXPAXTMR</th>\n",
       "      <th>HXPSESSR</th>\n",
       "      <th>...</th>\n",
       "      <th>BMPHT</th>\n",
       "      <th>BMPSITHT</th>\n",
       "      <th>BMPWT</th>\n",
       "      <th>DMARACER_exam</th>\n",
       "      <th>DMARETHN_exam</th>\n",
       "      <th>DMAETHNR_exam</th>\n",
       "      <th>HSAITMOR_exam</th>\n",
       "      <th>HXPG1</th>\n",
       "      <th>HXPG2A</th>\n",
       "      <th>HXPG2B</th>\n",
       "    </tr>\n",
       "    <tr>\n",
       "      <th>SEQN</th>\n",
       "      <th></th>\n",
       "      <th></th>\n",
       "      <th></th>\n",
       "      <th></th>\n",
       "      <th></th>\n",
       "      <th></th>\n",
       "      <th></th>\n",
       "      <th></th>\n",
       "      <th></th>\n",
       "      <th></th>\n",
       "      <th></th>\n",
       "      <th></th>\n",
       "      <th></th>\n",
       "      <th></th>\n",
       "      <th></th>\n",
       "      <th></th>\n",
       "      <th></th>\n",
       "      <th></th>\n",
       "      <th></th>\n",
       "      <th></th>\n",
       "      <th></th>\n",
       "    </tr>\n",
       "  </thead>\n",
       "  <tbody>\n",
       "    <tr>\n",
       "      <th>14</th>\n",
       "      <td>2</td>\n",
       "      <td>2</td>\n",
       "      <td>2</td>\n",
       "      <td>16</td>\n",
       "      <td>2</td>\n",
       "      <td>1</td>\n",
       "      <td>1</td>\n",
       "      <td>3</td>\n",
       "      <td>NaN</td>\n",
       "      <td>NaN</td>\n",
       "      <td>...</td>\n",
       "      <td>166.9</td>\n",
       "      <td>87.0</td>\n",
       "      <td>47.50</td>\n",
       "      <td>1</td>\n",
       "      <td>1.0</td>\n",
       "      <td>3.0</td>\n",
       "      <td>196.0</td>\n",
       "      <td>NaN</td>\n",
       "      <td>NaN</td>\n",
       "      <td>NaN</td>\n",
       "    </tr>\n",
       "    <tr>\n",
       "      <th>16</th>\n",
       "      <td>2</td>\n",
       "      <td>2</td>\n",
       "      <td>1</td>\n",
       "      <td>16</td>\n",
       "      <td>2</td>\n",
       "      <td>1</td>\n",
       "      <td>3</td>\n",
       "      <td>1</td>\n",
       "      <td>NaN</td>\n",
       "      <td>NaN</td>\n",
       "      <td>...</td>\n",
       "      <td>167.6</td>\n",
       "      <td>89.2</td>\n",
       "      <td>62.65</td>\n",
       "      <td>1</td>\n",
       "      <td>3.0</td>\n",
       "      <td>1.0</td>\n",
       "      <td>198.0</td>\n",
       "      <td>NaN</td>\n",
       "      <td>NaN</td>\n",
       "      <td>NaN</td>\n",
       "    </tr>\n",
       "  </tbody>\n",
       "</table>\n",
       "<p>2 rows × 60 columns</p>\n",
       "</div>"
      ],
      "text/plain": [
       "      HYE1G  HYE1H  HSSEX  HSAGEIR  HSAGEU  DMARACER  DMARETHN  DMAETHNR  \\\n",
       "SEQN                                                                       \n",
       "14        2      2      2       16       2         1         1         3   \n",
       "16        2      2      1       16       2         1         3         1   \n",
       "\n",
       "      HXPAXTMR  HXPSESSR  ...  BMPHT  BMPSITHT  BMPWT  DMARACER_exam  \\\n",
       "SEQN                      ...                                          \n",
       "14         NaN       NaN  ...  166.9      87.0  47.50              1   \n",
       "16         NaN       NaN  ...  167.6      89.2  62.65              1   \n",
       "\n",
       "      DMARETHN_exam  DMAETHNR_exam  HSAITMOR_exam  HXPG1  HXPG2A  HXPG2B  \n",
       "SEQN                                                                      \n",
       "14              1.0            3.0          196.0    NaN     NaN     NaN  \n",
       "16              3.0            1.0          198.0    NaN     NaN     NaN  \n",
       "\n",
       "[2 rows x 60 columns]"
      ]
     },
     "execution_count": 248,
     "metadata": {},
     "output_type": "execute_result"
    }
   ],
   "source": [
    "youth_final.head(2)"
   ]
  },
  {
   "cell_type": "markdown",
   "metadata": {},
   "source": [
    "After all of the exclusions, the youth_final dataframe has 2812 entries."
   ]
  },
  {
   "cell_type": "code",
   "execution_count": 249,
   "metadata": {},
   "outputs": [
    {
     "data": {
      "text/html": [
       "<div>\n",
       "<style scoped>\n",
       "    .dataframe tbody tr th:only-of-type {\n",
       "        vertical-align: middle;\n",
       "    }\n",
       "\n",
       "    .dataframe tbody tr th {\n",
       "        vertical-align: top;\n",
       "    }\n",
       "\n",
       "    .dataframe thead th {\n",
       "        text-align: right;\n",
       "    }\n",
       "</style>\n",
       "<table border=\"1\" class=\"dataframe\">\n",
       "  <thead>\n",
       "    <tr style=\"text-align: right;\">\n",
       "      <th></th>\n",
       "      <th>description</th>\n",
       "      <th>variable</th>\n",
       "      <th>position</th>\n",
       "      <th>end position</th>\n",
       "      <th>length</th>\n",
       "    </tr>\n",
       "  </thead>\n",
       "  <tbody>\n",
       "    <tr>\n",
       "      <th>0</th>\n",
       "      <td>Sequence number</td>\n",
       "      <td>SEQN</td>\n",
       "      <td>1</td>\n",
       "      <td>5.0</td>\n",
       "      <td>5</td>\n",
       "    </tr>\n",
       "    <tr>\n",
       "      <th>1</th>\n",
       "      <td>Family sequence number</td>\n",
       "      <td>DMPFSEQ</td>\n",
       "      <td>6</td>\n",
       "      <td>10.0</td>\n",
       "      <td>5</td>\n",
       "    </tr>\n",
       "    <tr>\n",
       "      <th>2</th>\n",
       "      <td>Examination/interview status</td>\n",
       "      <td>DMPSTAT</td>\n",
       "      <td>11</td>\n",
       "      <td>NaN</td>\n",
       "      <td>1</td>\n",
       "    </tr>\n",
       "    <tr>\n",
       "      <th>3</th>\n",
       "      <td>Race-ethnicity</td>\n",
       "      <td>DMARETHN</td>\n",
       "      <td>12</td>\n",
       "      <td>NaN</td>\n",
       "      <td>1</td>\n",
       "    </tr>\n",
       "    <tr>\n",
       "      <th>4</th>\n",
       "      <td>Race</td>\n",
       "      <td>DMARACER</td>\n",
       "      <td>13</td>\n",
       "      <td>NaN</td>\n",
       "      <td>1</td>\n",
       "    </tr>\n",
       "    <tr>\n",
       "      <th>...</th>\n",
       "      <td>...</td>\n",
       "      <td>...</td>\n",
       "      <td>...</td>\n",
       "      <td>...</td>\n",
       "      <td>...</td>\n",
       "    </tr>\n",
       "    <tr>\n",
       "      <th>682</th>\n",
       "      <td>ICD-9-CM code-9th</td>\n",
       "      <td>HYK11AO</td>\n",
       "      <td>2087</td>\n",
       "      <td>2092.0</td>\n",
       "      <td>6</td>\n",
       "    </tr>\n",
       "    <tr>\n",
       "      <th>683</th>\n",
       "      <td>For how long been taking (days)-9th</td>\n",
       "      <td>HYK12SO</td>\n",
       "      <td>2093</td>\n",
       "      <td>2097.0</td>\n",
       "      <td>5</td>\n",
       "    </tr>\n",
       "    <tr>\n",
       "      <th>684</th>\n",
       "      <td>Main respondents relationship to SP</td>\n",
       "      <td>HYM1</td>\n",
       "      <td>2098</td>\n",
       "      <td>2099.0</td>\n",
       "      <td>2</td>\n",
       "    </tr>\n",
       "    <tr>\n",
       "      <th>685</th>\n",
       "      <td>Was SP present during any of interview</td>\n",
       "      <td>HYM2</td>\n",
       "      <td>2100</td>\n",
       "      <td>NaN</td>\n",
       "      <td>1</td>\n",
       "    </tr>\n",
       "    <tr>\n",
       "      <th>686</th>\n",
       "      <td>Quality of interview</td>\n",
       "      <td>HYM3</td>\n",
       "      <td>2101</td>\n",
       "      <td>NaN</td>\n",
       "      <td>1</td>\n",
       "    </tr>\n",
       "  </tbody>\n",
       "</table>\n",
       "<p>687 rows × 5 columns</p>\n",
       "</div>"
      ],
      "text/plain": [
       "                                description  variable  position  end position  \\\n",
       "0                           Sequence number      SEQN         1           5.0   \n",
       "1                    Family sequence number   DMPFSEQ         6          10.0   \n",
       "2              Examination/interview status   DMPSTAT        11           NaN   \n",
       "3                            Race-ethnicity  DMARETHN        12           NaN   \n",
       "4                                      Race  DMARACER        13           NaN   \n",
       "..                                      ...       ...       ...           ...   \n",
       "682                       ICD-9-CM code-9th   HYK11AO      2087        2092.0   \n",
       "683     For how long been taking (days)-9th   HYK12SO      2093        2097.0   \n",
       "684     Main respondents relationship to SP      HYM1      2098        2099.0   \n",
       "685  Was SP present during any of interview      HYM2      2100           NaN   \n",
       "686                    Quality of interview      HYM3      2101           NaN   \n",
       "\n",
       "     length  \n",
       "0         5  \n",
       "1         5  \n",
       "2         1  \n",
       "3         1  \n",
       "4         1  \n",
       "..      ...  \n",
       "682       6  \n",
       "683       5  \n",
       "684       2  \n",
       "685       1  \n",
       "686       1  \n",
       "\n",
       "[687 rows x 5 columns]"
      ]
     },
     "execution_count": 249,
     "metadata": {},
     "output_type": "execute_result"
    }
   ],
   "source": [
    "youth.cols"
   ]
  },
  {
   "cell_type": "markdown",
   "metadata": {},
   "source": [
    "## Reviewing adult file"
   ]
  },
  {
   "cell_type": "code",
   "execution_count": 250,
   "metadata": {},
   "outputs": [
    {
     "data": {
      "text/html": [
       "<div>\n",
       "<style scoped>\n",
       "    .dataframe tbody tr th:only-of-type {\n",
       "        vertical-align: middle;\n",
       "    }\n",
       "\n",
       "    .dataframe tbody tr th {\n",
       "        vertical-align: top;\n",
       "    }\n",
       "\n",
       "    .dataframe thead th {\n",
       "        text-align: right;\n",
       "    }\n",
       "</style>\n",
       "<table border=\"1\" class=\"dataframe\">\n",
       "  <thead>\n",
       "    <tr style=\"text-align: right;\">\n",
       "      <th></th>\n",
       "      <th>description</th>\n",
       "      <th>variable</th>\n",
       "      <th>position</th>\n",
       "      <th>end position</th>\n",
       "      <th>length</th>\n",
       "    </tr>\n",
       "  </thead>\n",
       "  <tbody>\n",
       "    <tr>\n",
       "      <th>0</th>\n",
       "      <td>Sequence number</td>\n",
       "      <td>SEQN</td>\n",
       "      <td>1</td>\n",
       "      <td>5.0</td>\n",
       "      <td>5</td>\n",
       "    </tr>\n",
       "    <tr>\n",
       "      <th>1</th>\n",
       "      <td>Family sequence number</td>\n",
       "      <td>DMPFSEQ</td>\n",
       "      <td>6</td>\n",
       "      <td>10.0</td>\n",
       "      <td>5</td>\n",
       "    </tr>\n",
       "    <tr>\n",
       "      <th>2</th>\n",
       "      <td>Examination/interview status</td>\n",
       "      <td>DMPSTAT</td>\n",
       "      <td>11</td>\n",
       "      <td>NaN</td>\n",
       "      <td>1</td>\n",
       "    </tr>\n",
       "    <tr>\n",
       "      <th>3</th>\n",
       "      <td>Race-ethnicity</td>\n",
       "      <td>DMARETHN</td>\n",
       "      <td>12</td>\n",
       "      <td>NaN</td>\n",
       "      <td>1</td>\n",
       "    </tr>\n",
       "    <tr>\n",
       "      <th>4</th>\n",
       "      <td>Race</td>\n",
       "      <td>DMARACER</td>\n",
       "      <td>13</td>\n",
       "      <td>NaN</td>\n",
       "      <td>1</td>\n",
       "    </tr>\n",
       "    <tr>\n",
       "      <th>...</th>\n",
       "      <td>...</td>\n",
       "      <td>...</td>\n",
       "      <td>...</td>\n",
       "      <td>...</td>\n",
       "      <td>...</td>\n",
       "    </tr>\n",
       "    <tr>\n",
       "      <th>1233</th>\n",
       "      <td>BP statement read to SP (years 5 and 6)</td>\n",
       "      <td>HAZA12</td>\n",
       "      <td>3336</td>\n",
       "      <td>NaN</td>\n",
       "      <td>1</td>\n",
       "    </tr>\n",
       "    <tr>\n",
       "      <th>1234</th>\n",
       "      <td>Average K1 BP from household and MEC</td>\n",
       "      <td>HAZMNK1R</td>\n",
       "      <td>3337</td>\n",
       "      <td>3339.0</td>\n",
       "      <td>3</td>\n",
       "    </tr>\n",
       "    <tr>\n",
       "      <th>1235</th>\n",
       "      <td>Number of BP's used for average K1</td>\n",
       "      <td>HAZNOK1R</td>\n",
       "      <td>3340</td>\n",
       "      <td>3341.0</td>\n",
       "      <td>2</td>\n",
       "    </tr>\n",
       "    <tr>\n",
       "      <th>1236</th>\n",
       "      <td>Average K5 BP from household and MEC</td>\n",
       "      <td>HAZMNK5R</td>\n",
       "      <td>3342</td>\n",
       "      <td>3344.0</td>\n",
       "      <td>3</td>\n",
       "    </tr>\n",
       "    <tr>\n",
       "      <th>1237</th>\n",
       "      <td>Number of BP's used for average K5</td>\n",
       "      <td>HAZNOK5R</td>\n",
       "      <td>3345</td>\n",
       "      <td>3346.0</td>\n",
       "      <td>2</td>\n",
       "    </tr>\n",
       "  </tbody>\n",
       "</table>\n",
       "<p>1238 rows × 5 columns</p>\n",
       "</div>"
      ],
      "text/plain": [
       "                                  description  variable  position  \\\n",
       "0                             Sequence number      SEQN         1   \n",
       "1                      Family sequence number   DMPFSEQ         6   \n",
       "2                Examination/interview status   DMPSTAT        11   \n",
       "3                              Race-ethnicity  DMARETHN        12   \n",
       "4                                        Race  DMARACER        13   \n",
       "...                                       ...       ...       ...   \n",
       "1233  BP statement read to SP (years 5 and 6)    HAZA12      3336   \n",
       "1234     Average K1 BP from household and MEC  HAZMNK1R      3337   \n",
       "1235       Number of BP's used for average K1  HAZNOK1R      3340   \n",
       "1236     Average K5 BP from household and MEC  HAZMNK5R      3342   \n",
       "1237       Number of BP's used for average K5  HAZNOK5R      3345   \n",
       "\n",
       "      end position  length  \n",
       "0              5.0       5  \n",
       "1             10.0       5  \n",
       "2              NaN       1  \n",
       "3              NaN       1  \n",
       "4              NaN       1  \n",
       "...            ...     ...  \n",
       "1233           NaN       1  \n",
       "1234        3339.0       3  \n",
       "1235        3341.0       2  \n",
       "1236        3344.0       3  \n",
       "1237        3346.0       2  \n",
       "\n",
       "[1238 rows x 5 columns]"
      ]
     },
     "execution_count": 250,
     "metadata": {},
     "output_type": "execute_result"
    }
   ],
   "source": [
    "cols = nh.cols\n",
    "cols"
   ]
  },
  {
   "cell_type": "code",
   "execution_count": 251,
   "metadata": {},
   "outputs": [
    {
     "data": {
      "text/html": [
       "<div>\n",
       "<style scoped>\n",
       "    .dataframe tbody tr th:only-of-type {\n",
       "        vertical-align: middle;\n",
       "    }\n",
       "\n",
       "    .dataframe tbody tr th {\n",
       "        vertical-align: top;\n",
       "    }\n",
       "\n",
       "    .dataframe thead th {\n",
       "        text-align: right;\n",
       "    }\n",
       "</style>\n",
       "<table border=\"1\" class=\"dataframe\">\n",
       "  <thead>\n",
       "    <tr style=\"text-align: right;\">\n",
       "      <th></th>\n",
       "      <th>description</th>\n",
       "      <th>variable</th>\n",
       "      <th>position</th>\n",
       "      <th>end position</th>\n",
       "      <th>length</th>\n",
       "    </tr>\n",
       "  </thead>\n",
       "  <tbody>\n",
       "    <tr>\n",
       "      <th>259</th>\n",
       "      <td>Anyone living here smoke cigs in home</td>\n",
       "      <td>HFF1</td>\n",
       "      <td>1356</td>\n",
       "      <td>NaN</td>\n",
       "      <td>1</td>\n",
       "    </tr>\n",
       "    <tr>\n",
       "      <th>260</th>\n",
       "      <td># persons who smoke cigarettes in home</td>\n",
       "      <td>HFF2R</td>\n",
       "      <td>1357</td>\n",
       "      <td>1358.0</td>\n",
       "      <td>2</td>\n",
       "    </tr>\n",
       "    <tr>\n",
       "      <th>261</th>\n",
       "      <td>Cigarettes per day person 1 smokes</td>\n",
       "      <td>HFF3A</td>\n",
       "      <td>1359</td>\n",
       "      <td>1361.0</td>\n",
       "      <td>3</td>\n",
       "    </tr>\n",
       "    <tr>\n",
       "      <th>262</th>\n",
       "      <td>Cigarettes per day person 2 smokes</td>\n",
       "      <td>HFF3B</td>\n",
       "      <td>1362</td>\n",
       "      <td>1364.0</td>\n",
       "      <td>3</td>\n",
       "    </tr>\n",
       "    <tr>\n",
       "      <th>263</th>\n",
       "      <td>Cigarettes per day person 3 smokes</td>\n",
       "      <td>HFF3C</td>\n",
       "      <td>1365</td>\n",
       "      <td>1367.0</td>\n",
       "      <td>3</td>\n",
       "    </tr>\n",
       "    <tr>\n",
       "      <th>264</th>\n",
       "      <td>Cigarettes per day person 4 smokes</td>\n",
       "      <td>HFF3D</td>\n",
       "      <td>1368</td>\n",
       "      <td>1370.0</td>\n",
       "      <td>3</td>\n",
       "    </tr>\n",
       "    <tr>\n",
       "      <th>265</th>\n",
       "      <td>Cigarettes per day person 5 smokes</td>\n",
       "      <td>HFF3E</td>\n",
       "      <td>1371</td>\n",
       "      <td>1373.0</td>\n",
       "      <td>3</td>\n",
       "    </tr>\n",
       "    <tr>\n",
       "      <th>266</th>\n",
       "      <td>Cigarettes per day person 6 smokes</td>\n",
       "      <td>HFF3F</td>\n",
       "      <td>1374</td>\n",
       "      <td>1376.0</td>\n",
       "      <td>3</td>\n",
       "    </tr>\n",
       "    <tr>\n",
       "      <th>419</th>\n",
       "      <td>Doctor told stop smoking for HBP</td>\n",
       "      <td>HAE4D3</td>\n",
       "      <td>1606</td>\n",
       "      <td>NaN</td>\n",
       "      <td>1</td>\n",
       "    </tr>\n",
       "    <tr>\n",
       "      <th>428</th>\n",
       "      <td>Now quit smoking for high blood pressure</td>\n",
       "      <td>HAE5D3</td>\n",
       "      <td>1615</td>\n",
       "      <td>NaN</td>\n",
       "      <td>1</td>\n",
       "    </tr>\n",
       "    <tr>\n",
       "      <th>862</th>\n",
       "      <td>Have you smoked 100+ cigarettes in life</td>\n",
       "      <td>HAR1</td>\n",
       "      <td>2281</td>\n",
       "      <td>NaN</td>\n",
       "      <td>1</td>\n",
       "    </tr>\n",
       "    <tr>\n",
       "      <th>863</th>\n",
       "      <td>Age when you started smoking regularly</td>\n",
       "      <td>HAR2</td>\n",
       "      <td>2282</td>\n",
       "      <td>2284.0</td>\n",
       "      <td>3</td>\n",
       "    </tr>\n",
       "    <tr>\n",
       "      <th>864</th>\n",
       "      <td>Do you smoke cigarettes now</td>\n",
       "      <td>HAR3</td>\n",
       "      <td>2285</td>\n",
       "      <td>NaN</td>\n",
       "      <td>1</td>\n",
       "    </tr>\n",
       "    <tr>\n",
       "      <th>865</th>\n",
       "      <td># cigarettes smoked per day</td>\n",
       "      <td>HAR4S</td>\n",
       "      <td>2286</td>\n",
       "      <td>2288.0</td>\n",
       "      <td>3</td>\n",
       "    </tr>\n",
       "    <tr>\n",
       "      <th>866</th>\n",
       "      <td>How many yrs have you smoked this amount</td>\n",
       "      <td>HAR5</td>\n",
       "      <td>2289</td>\n",
       "      <td>2291.0</td>\n",
       "      <td>3</td>\n",
       "    </tr>\n",
       "    <tr>\n",
       "      <th>867</th>\n",
       "      <td>Ever period of 1+ years when smoked more</td>\n",
       "      <td>HAR6</td>\n",
       "      <td>2292</td>\n",
       "      <td>NaN</td>\n",
       "      <td>1</td>\n",
       "    </tr>\n",
       "    <tr>\n",
       "      <th>868</th>\n",
       "      <td># cigarettes per day when smoking most</td>\n",
       "      <td>HAR7S</td>\n",
       "      <td>2293</td>\n",
       "      <td>2296.0</td>\n",
       "      <td>4</td>\n",
       "    </tr>\n",
       "    <tr>\n",
       "      <th>869</th>\n",
       "      <td>How many years did you smoke that amount</td>\n",
       "      <td>HAR8</td>\n",
       "      <td>2297</td>\n",
       "      <td>2299.0</td>\n",
       "      <td>3</td>\n",
       "    </tr>\n",
       "    <tr>\n",
       "      <th>870</th>\n",
       "      <td>Ever quit smoking for one year or longer</td>\n",
       "      <td>HAR9</td>\n",
       "      <td>2300</td>\n",
       "      <td>NaN</td>\n",
       "      <td>1</td>\n",
       "    </tr>\n",
       "    <tr>\n",
       "      <th>871</th>\n",
       "      <td>How many years not smoked since started</td>\n",
       "      <td>HAR10</td>\n",
       "      <td>2301</td>\n",
       "      <td>2303.0</td>\n",
       "      <td>3</td>\n",
       "    </tr>\n",
       "    <tr>\n",
       "      <th>872</th>\n",
       "      <td>Age last smoke cigarettes reg -- yrs</td>\n",
       "      <td>HAR11R</td>\n",
       "      <td>2304</td>\n",
       "      <td>2306.0</td>\n",
       "      <td>3</td>\n",
       "    </tr>\n",
       "    <tr>\n",
       "      <th>873</th>\n",
       "      <td># cigarettes smoked per day at that time</td>\n",
       "      <td>HAR12S</td>\n",
       "      <td>2307</td>\n",
       "      <td>2309.0</td>\n",
       "      <td>3</td>\n",
       "    </tr>\n",
       "    <tr>\n",
       "      <th>874</th>\n",
       "      <td>Quit smoking,health problem from smoking</td>\n",
       "      <td>HAR13</td>\n",
       "      <td>2310</td>\n",
       "      <td>NaN</td>\n",
       "      <td>1</td>\n",
       "    </tr>\n",
       "    <tr>\n",
       "      <th>886</th>\n",
       "      <td>Ever smoke at least 20 cigars in life</td>\n",
       "      <td>HAR23</td>\n",
       "      <td>2330</td>\n",
       "      <td>NaN</td>\n",
       "      <td>1</td>\n",
       "    </tr>\n",
       "    <tr>\n",
       "      <th>887</th>\n",
       "      <td>Do you now smoke cigars</td>\n",
       "      <td>HAR24</td>\n",
       "      <td>2331</td>\n",
       "      <td>NaN</td>\n",
       "      <td>1</td>\n",
       "    </tr>\n",
       "    <tr>\n",
       "      <th>888</th>\n",
       "      <td>How many cigars do you smoke per day</td>\n",
       "      <td>HAR25</td>\n",
       "      <td>2332</td>\n",
       "      <td>2333.0</td>\n",
       "      <td>2</td>\n",
       "    </tr>\n",
       "    <tr>\n",
       "      <th>889</th>\n",
       "      <td>Ever smoke 20 pipes of tobacco in life</td>\n",
       "      <td>HAR26</td>\n",
       "      <td>2334</td>\n",
       "      <td>NaN</td>\n",
       "      <td>1</td>\n",
       "    </tr>\n",
       "    <tr>\n",
       "      <th>890</th>\n",
       "      <td>Do you now smoke a pipe</td>\n",
       "      <td>HAR27</td>\n",
       "      <td>2335</td>\n",
       "      <td>NaN</td>\n",
       "      <td>1</td>\n",
       "    </tr>\n",
       "    <tr>\n",
       "      <th>891</th>\n",
       "      <td>How many pipefuls tobacco smoke per day</td>\n",
       "      <td>HAR28</td>\n",
       "      <td>2336</td>\n",
       "      <td>2337.0</td>\n",
       "      <td>2</td>\n",
       "    </tr>\n",
       "    <tr>\n",
       "      <th>902</th>\n",
       "      <td>At work, hours per day can smell smoking</td>\n",
       "      <td>HAS14</td>\n",
       "      <td>2354</td>\n",
       "      <td>2355.0</td>\n",
       "      <td>2</td>\n",
       "    </tr>\n",
       "    <tr>\n",
       "      <th>1200</th>\n",
       "      <td>Have you smoked cigarettes last 30 min</td>\n",
       "      <td>HAZA2A4</td>\n",
       "      <td>3269</td>\n",
       "      <td>NaN</td>\n",
       "      <td>1</td>\n",
       "    </tr>\n",
       "  </tbody>\n",
       "</table>\n",
       "</div>"
      ],
      "text/plain": [
       "                                   description variable  position  \\\n",
       "259      Anyone living here smoke cigs in home     HFF1      1356   \n",
       "260     # persons who smoke cigarettes in home    HFF2R      1357   \n",
       "261         Cigarettes per day person 1 smokes    HFF3A      1359   \n",
       "262         Cigarettes per day person 2 smokes    HFF3B      1362   \n",
       "263         Cigarettes per day person 3 smokes    HFF3C      1365   \n",
       "264         Cigarettes per day person 4 smokes    HFF3D      1368   \n",
       "265         Cigarettes per day person 5 smokes    HFF3E      1371   \n",
       "266         Cigarettes per day person 6 smokes    HFF3F      1374   \n",
       "419           Doctor told stop smoking for HBP   HAE4D3      1606   \n",
       "428   Now quit smoking for high blood pressure   HAE5D3      1615   \n",
       "862    Have you smoked 100+ cigarettes in life     HAR1      2281   \n",
       "863     Age when you started smoking regularly     HAR2      2282   \n",
       "864                Do you smoke cigarettes now     HAR3      2285   \n",
       "865                # cigarettes smoked per day    HAR4S      2286   \n",
       "866   How many yrs have you smoked this amount     HAR5      2289   \n",
       "867   Ever period of 1+ years when smoked more     HAR6      2292   \n",
       "868     # cigarettes per day when smoking most    HAR7S      2293   \n",
       "869   How many years did you smoke that amount     HAR8      2297   \n",
       "870   Ever quit smoking for one year or longer     HAR9      2300   \n",
       "871    How many years not smoked since started    HAR10      2301   \n",
       "872       Age last smoke cigarettes reg -- yrs   HAR11R      2304   \n",
       "873   # cigarettes smoked per day at that time   HAR12S      2307   \n",
       "874   Quit smoking,health problem from smoking    HAR13      2310   \n",
       "886      Ever smoke at least 20 cigars in life    HAR23      2330   \n",
       "887                    Do you now smoke cigars    HAR24      2331   \n",
       "888       How many cigars do you smoke per day    HAR25      2332   \n",
       "889     Ever smoke 20 pipes of tobacco in life    HAR26      2334   \n",
       "890                    Do you now smoke a pipe    HAR27      2335   \n",
       "891    How many pipefuls tobacco smoke per day    HAR28      2336   \n",
       "902   At work, hours per day can smell smoking    HAS14      2354   \n",
       "1200    Have you smoked cigarettes last 30 min  HAZA2A4      3269   \n",
       "\n",
       "      end position  length  \n",
       "259            NaN       1  \n",
       "260         1358.0       2  \n",
       "261         1361.0       3  \n",
       "262         1364.0       3  \n",
       "263         1367.0       3  \n",
       "264         1370.0       3  \n",
       "265         1373.0       3  \n",
       "266         1376.0       3  \n",
       "419            NaN       1  \n",
       "428            NaN       1  \n",
       "862            NaN       1  \n",
       "863         2284.0       3  \n",
       "864            NaN       1  \n",
       "865         2288.0       3  \n",
       "866         2291.0       3  \n",
       "867            NaN       1  \n",
       "868         2296.0       4  \n",
       "869         2299.0       3  \n",
       "870            NaN       1  \n",
       "871         2303.0       3  \n",
       "872         2306.0       3  \n",
       "873         2309.0       3  \n",
       "874            NaN       1  \n",
       "886            NaN       1  \n",
       "887            NaN       1  \n",
       "888         2333.0       2  \n",
       "889            NaN       1  \n",
       "890            NaN       1  \n",
       "891         2337.0       2  \n",
       "902         2355.0       2  \n",
       "1200           NaN       1  "
      ]
     },
     "execution_count": 251,
     "metadata": {},
     "output_type": "execute_result"
    }
   ],
   "source": [
    "cols[cols.description.str.contains('(?:smok|cig)')]"
   ]
  },
  {
   "cell_type": "code",
   "execution_count": 252,
   "metadata": {},
   "outputs": [
    {
     "data": {
      "image/png": "[encoded data removed]",
      "text/plain": [
       "<Figure size 432x288 with 1 Axes>"
      ]
     },
     "metadata": {
      "needs_background": "light"
     },
     "output_type": "display_data"
    }
   ],
   "source": [
    "nh.hist_amount('HAR4S');"
   ]
  },
  {
   "cell_type": "code",
   "execution_count": 253,
   "metadata": {},
   "outputs": [
    {
     "data": {
      "image/png": "[encoded data removed]",
      "text/plain": [
       "<Figure size 432x288 with 1 Axes>"
      ]
     },
     "metadata": {
      "needs_background": "light"
     },
     "output_type": "display_data"
    }
   ],
   "source": [
    "nh.hist_amount('HSAITMOR',outliers=1200);"
   ]
  },
  {
   "cell_type": "code",
   "execution_count": 254,
   "metadata": {},
   "outputs": [
    {
     "data": {
      "image/png": "[encoded data removed]",
      "text/plain": [
       "<Figure size 432x288 with 1 Axes>"
      ]
     },
     "metadata": {
      "needs_background": "light"
     },
     "output_type": "display_data"
    }
   ],
   "source": [
    "nh.hist_amount('DMARETHN', outliers=25);"
   ]
  },
  {
   "cell_type": "code",
   "execution_count": 255,
   "metadata": {},
   "outputs": [
    {
     "name": "stderr",
     "output_type": "stream",
     "text": [
      "/usr/local/lib/python3.7/site-packages/pandas/core/strings.py:1952: UserWarning: This pattern has match groups. To actually get the groups, use str.extract.\n",
      "  return func(self, *args, **kwargs)\n"
     ]
    },
    {
     "data": {
      "text/html": [
       "<div>\n",
       "<style scoped>\n",
       "    .dataframe tbody tr th:only-of-type {\n",
       "        vertical-align: middle;\n",
       "    }\n",
       "\n",
       "    .dataframe tbody tr th {\n",
       "        vertical-align: top;\n",
       "    }\n",
       "\n",
       "    .dataframe thead th {\n",
       "        text-align: right;\n",
       "    }\n",
       "</style>\n",
       "<table border=\"1\" class=\"dataframe\">\n",
       "  <thead>\n",
       "    <tr style=\"text-align: right;\">\n",
       "      <th></th>\n",
       "      <th>description</th>\n",
       "      <th>variable</th>\n",
       "      <th>position</th>\n",
       "      <th>end position</th>\n",
       "      <th>length</th>\n",
       "    </tr>\n",
       "  </thead>\n",
       "  <tbody>\n",
       "    <tr>\n",
       "      <th>210</th>\n",
       "      <td>Mother's weight calculated in pounds</td>\n",
       "      <td>HFC2S</td>\n",
       "      <td>1300</td>\n",
       "      <td>NaN</td>\n",
       "      <td>1</td>\n",
       "    </tr>\n",
       "    <tr>\n",
       "      <th>212</th>\n",
       "      <td>Father's weight calculated in pounds</td>\n",
       "      <td>HFC4S</td>\n",
       "      <td>1302</td>\n",
       "      <td>NaN</td>\n",
       "      <td>1</td>\n",
       "    </tr>\n",
       "    <tr>\n",
       "      <th>414</th>\n",
       "      <td>Doctor told control/lose weight for HBP</td>\n",
       "      <td>HAE4B</td>\n",
       "      <td>1601</td>\n",
       "      <td>NaN</td>\n",
       "      <td>1</td>\n",
       "    </tr>\n",
       "    <tr>\n",
       "      <th>424</th>\n",
       "      <td>Now controlling or losing weight for HBP</td>\n",
       "      <td>HAE5B</td>\n",
       "      <td>1611</td>\n",
       "      <td>NaN</td>\n",
       "      <td>1</td>\n",
       "    </tr>\n",
       "    <tr>\n",
       "      <th>435</th>\n",
       "      <td>Doctor told lose weight for HBC</td>\n",
       "      <td>HAE8B</td>\n",
       "      <td>1622</td>\n",
       "      <td>NaN</td>\n",
       "      <td>1</td>\n",
       "    </tr>\n",
       "    <tr>\n",
       "      <th>439</th>\n",
       "      <td>Now losing weight to lower cholesterol</td>\n",
       "      <td>HAE9B</td>\n",
       "      <td>1626</td>\n",
       "      <td>NaN</td>\n",
       "      <td>1</td>\n",
       "    </tr>\n",
       "    <tr>\n",
       "      <th>444</th>\n",
       "      <td>On own for HBC, controlled/lost weight</td>\n",
       "      <td>HAE11B</td>\n",
       "      <td>1631</td>\n",
       "      <td>NaN</td>\n",
       "      <td>1</td>\n",
       "    </tr>\n",
       "    <tr>\n",
       "      <th>599</th>\n",
       "      <td>Difficulty lifting or carrying 10 pounds</td>\n",
       "      <td>HAH4</td>\n",
       "      <td>1807</td>\n",
       "      <td>NaN</td>\n",
       "      <td>1</td>\n",
       "    </tr>\n",
       "    <tr>\n",
       "      <th>705</th>\n",
       "      <td>Consider self over/under/right weight</td>\n",
       "      <td>HAM11</td>\n",
       "      <td>1964</td>\n",
       "      <td>NaN</td>\n",
       "      <td>1</td>\n",
       "    </tr>\n",
       "    <tr>\n",
       "      <th>707</th>\n",
       "      <td>Tried to lose weight in past 12 months</td>\n",
       "      <td>HAM13</td>\n",
       "      <td>1966</td>\n",
       "      <td>NaN</td>\n",
       "      <td>1</td>\n",
       "    </tr>\n",
       "    <tr>\n",
       "      <th>953</th>\n",
       "      <td>In the past month, did you lift weights</td>\n",
       "      <td>HAT16</td>\n",
       "      <td>2442</td>\n",
       "      <td>NaN</td>\n",
       "      <td>1</td>\n",
       "    </tr>\n",
       "    <tr>\n",
       "      <th>954</th>\n",
       "      <td>Lift weights activity - intensity rating</td>\n",
       "      <td>HAT16MET</td>\n",
       "      <td>2443</td>\n",
       "      <td>NaN</td>\n",
       "      <td>1</td>\n",
       "    </tr>\n",
       "    <tr>\n",
       "      <th>955</th>\n",
       "      <td>Past mo, how often did you lift weights</td>\n",
       "      <td>HAT17S</td>\n",
       "      <td>2444</td>\n",
       "      <td>2447.0</td>\n",
       "      <td>4</td>\n",
       "    </tr>\n",
       "    <tr>\n",
       "      <th>1192</th>\n",
       "      <td>Observed SP:overweight, average, or thin</td>\n",
       "      <td>HAY11J</td>\n",
       "      <td>3232</td>\n",
       "      <td>NaN</td>\n",
       "      <td>1</td>\n",
       "    </tr>\n",
       "  </tbody>\n",
       "</table>\n",
       "</div>"
      ],
      "text/plain": [
       "                                   description  variable  position  \\\n",
       "210       Mother's weight calculated in pounds     HFC2S      1300   \n",
       "212       Father's weight calculated in pounds     HFC4S      1302   \n",
       "414    Doctor told control/lose weight for HBP     HAE4B      1601   \n",
       "424   Now controlling or losing weight for HBP     HAE5B      1611   \n",
       "435            Doctor told lose weight for HBC     HAE8B      1622   \n",
       "439     Now losing weight to lower cholesterol     HAE9B      1626   \n",
       "444     On own for HBC, controlled/lost weight    HAE11B      1631   \n",
       "599   Difficulty lifting or carrying 10 pounds      HAH4      1807   \n",
       "705      Consider self over/under/right weight     HAM11      1964   \n",
       "707     Tried to lose weight in past 12 months     HAM13      1966   \n",
       "953    In the past month, did you lift weights     HAT16      2442   \n",
       "954   Lift weights activity - intensity rating  HAT16MET      2443   \n",
       "955    Past mo, how often did you lift weights    HAT17S      2444   \n",
       "1192  Observed SP:overweight, average, or thin    HAY11J      3232   \n",
       "\n",
       "      end position  length  \n",
       "210            NaN       1  \n",
       "212            NaN       1  \n",
       "414            NaN       1  \n",
       "424            NaN       1  \n",
       "435            NaN       1  \n",
       "439            NaN       1  \n",
       "444            NaN       1  \n",
       "599            NaN       1  \n",
       "705            NaN       1  \n",
       "707            NaN       1  \n",
       "953            NaN       1  \n",
       "954            NaN       1  \n",
       "955         2447.0       4  \n",
       "1192           NaN       1  "
      ]
     },
     "execution_count": 255,
     "metadata": {},
     "output_type": "execute_result"
    }
   ],
   "source": [
    "cols[cols.description.str.contains('weight|pounds') & ~cols.description.str.contains('(sample|interview|weighting|exam)')]"
   ]
  },
  {
   "cell_type": "code",
   "execution_count": 256,
   "metadata": {},
   "outputs": [
    {
     "name": "stderr",
     "output_type": "stream",
     "text": [
      "/usr/local/lib/python3.7/site-packages/pandas/core/strings.py:1952: UserWarning: This pattern has match groups. To actually get the groups, use str.extract.\n",
      "  return func(self, *args, **kwargs)\n"
     ]
    },
    {
     "data": {
      "text/html": [
       "<div>\n",
       "<style scoped>\n",
       "    .dataframe tbody tr th:only-of-type {\n",
       "        vertical-align: middle;\n",
       "    }\n",
       "\n",
       "    .dataframe tbody tr th {\n",
       "        vertical-align: top;\n",
       "    }\n",
       "\n",
       "    .dataframe thead th {\n",
       "        text-align: right;\n",
       "    }\n",
       "</style>\n",
       "<table border=\"1\" class=\"dataframe\">\n",
       "  <thead>\n",
       "    <tr style=\"text-align: right;\">\n",
       "      <th></th>\n",
       "      <th>description</th>\n",
       "      <th>variable</th>\n",
       "      <th>position</th>\n",
       "      <th>end position</th>\n",
       "      <th>length</th>\n",
       "    </tr>\n",
       "  </thead>\n",
       "  <tbody>\n",
       "    <tr>\n",
       "      <th>211</th>\n",
       "      <td>Mother's height calculated in inches</td>\n",
       "      <td>HFC3S</td>\n",
       "      <td>1301</td>\n",
       "      <td>NaN</td>\n",
       "      <td>1</td>\n",
       "    </tr>\n",
       "    <tr>\n",
       "      <th>213</th>\n",
       "      <td>Father's height calculated in inches</td>\n",
       "      <td>HFC5S</td>\n",
       "      <td>1303</td>\n",
       "      <td>NaN</td>\n",
       "      <td>1</td>\n",
       "    </tr>\n",
       "  </tbody>\n",
       "</table>\n",
       "</div>"
      ],
      "text/plain": [
       "                              description variable  position  end position  \\\n",
       "211  Mother's height calculated in inches    HFC3S      1301           NaN   \n",
       "213  Father's height calculated in inches    HFC5S      1303           NaN   \n",
       "\n",
       "     length  \n",
       "211       1  \n",
       "213       1  "
      ]
     },
     "execution_count": 256,
     "metadata": {},
     "output_type": "execute_result"
    }
   ],
   "source": [
    "cols[cols.description.str.contains('height|cm') & ~cols.description.str.contains('(sample|interview|weighting|exam)')]"
   ]
  },
  {
   "cell_type": "code",
   "execution_count": 257,
   "metadata": {},
   "outputs": [
    {
     "data": {
      "text/html": [
       "<div>\n",
       "<style scoped>\n",
       "    .dataframe tbody tr th:only-of-type {\n",
       "        vertical-align: middle;\n",
       "    }\n",
       "\n",
       "    .dataframe tbody tr th {\n",
       "        vertical-align: top;\n",
       "    }\n",
       "\n",
       "    .dataframe thead th {\n",
       "        text-align: right;\n",
       "    }\n",
       "</style>\n",
       "<table border=\"1\" class=\"dataframe\">\n",
       "  <thead>\n",
       "    <tr style=\"text-align: right;\">\n",
       "      <th></th>\n",
       "      <th>description</th>\n",
       "      <th>variable</th>\n",
       "      <th>position</th>\n",
       "      <th>end position</th>\n",
       "      <th>length</th>\n",
       "    </tr>\n",
       "  </thead>\n",
       "  <tbody>\n",
       "    <tr>\n",
       "      <th>450</th>\n",
       "      <td>If stand still is chest pain relieved</td>\n",
       "      <td>HAF5</td>\n",
       "      <td>1637</td>\n",
       "      <td>NaN</td>\n",
       "      <td>1</td>\n",
       "    </tr>\n",
       "    <tr>\n",
       "      <th>466</th>\n",
       "      <td>Leg pain begin while stand still/sitting</td>\n",
       "      <td>HAF15</td>\n",
       "      <td>1658</td>\n",
       "      <td>NaN</td>\n",
       "      <td>1</td>\n",
       "    </tr>\n",
       "    <tr>\n",
       "      <th>472</th>\n",
       "      <td>Is leg pain relieved if you stand still</td>\n",
       "      <td>HAF21</td>\n",
       "      <td>1664</td>\n",
       "      <td>NaN</td>\n",
       "      <td>1</td>\n",
       "    </tr>\n",
       "    <tr>\n",
       "      <th>478</th>\n",
       "      <td>Problem with ability to speak/understand</td>\n",
       "      <td>HAF27</td>\n",
       "      <td>1670</td>\n",
       "      <td>NaN</td>\n",
       "      <td>1</td>\n",
       "    </tr>\n",
       "    <tr>\n",
       "      <th>604</th>\n",
       "      <td>Difficulty standing from armless chair</td>\n",
       "      <td>HAH9</td>\n",
       "      <td>1812</td>\n",
       "      <td>NaN</td>\n",
       "      <td>1</td>\n",
       "    </tr>\n",
       "  </tbody>\n",
       "</table>\n",
       "</div>"
      ],
      "text/plain": [
       "                                  description variable  position  \\\n",
       "450     If stand still is chest pain relieved     HAF5      1637   \n",
       "466  Leg pain begin while stand still/sitting    HAF15      1658   \n",
       "472   Is leg pain relieved if you stand still    HAF21      1664   \n",
       "478  Problem with ability to speak/understand    HAF27      1670   \n",
       "604    Difficulty standing from armless chair     HAH9      1812   \n",
       "\n",
       "     end position  length  \n",
       "450           NaN       1  \n",
       "466           NaN       1  \n",
       "472           NaN       1  \n",
       "478           NaN       1  \n",
       "604           NaN       1  "
      ]
     },
     "execution_count": 257,
     "metadata": {},
     "output_type": "execute_result"
    }
   ],
   "source": [
    "cols[cols.description.str.contains('stand') ]"
   ]
  },
  {
   "cell_type": "markdown",
   "metadata": {},
   "source": [
    "Test Markdown"
   ]
  },
  {
   "cell_type": "code",
   "execution_count": 258,
   "metadata": {},
   "outputs": [
    {
     "data": {
      "image/png": "[encoded data removed]",
      "text/plain": [
       "<Figure size 432x288 with 1 Axes>"
      ]
     },
     "metadata": {
      "needs_background": "light"
     },
     "output_type": "display_data"
    }
   ],
   "source": [
    "nh.hist_amount('HAR4S');"
   ]
  },
  {
   "cell_type": "code",
   "execution_count": 259,
   "metadata": {},
   "outputs": [
    {
     "data": {
      "image/png": "[encoded data removed]",
      "text/plain": [
       "<Figure size 432x288 with 1 Axes>"
      ]
     },
     "metadata": {
      "needs_background": "light"
     },
     "output_type": "display_data"
    }
   ],
   "source": [
    "nh.hist_amount('HSAITMOR',outliers=1200);"
   ]
  },
  {
   "cell_type": "markdown",
   "metadata": {},
   "source": [
    "## Now analyze adult_final"
   ]
  },
  {
   "cell_type": "code",
   "execution_count": 260,
   "metadata": {},
   "outputs": [
    {
     "data": {
      "text/plain": [
       "<matplotlib.axes._subplots.AxesSubplot at 0x11c6b0cd0>"
      ]
     },
     "execution_count": 260,
     "metadata": {},
     "output_type": "execute_result"
    },
    {
     "data": {
      "image/png": "[encoded data removed]",
      "text/plain": [
       "<Figure size 432x288 with 1 Axes>"
      ]
     },
     "metadata": {
      "needs_background": "light"
     },
     "output_type": "display_data"
    }
   ],
   "source": [
    "adult_final.HSAITMOR.hist(bins='auto', range=(0,1200))"
   ]
  },
  {
   "cell_type": "markdown",
   "metadata": {},
   "source": [
    "## Create new fields in adult_final and youth_final"
   ]
  },
  {
   "cell_type": "markdown",
   "metadata": {},
   "source": [
    "Create new fields (XoY = X/Y) in youth_final and adult_final"
   ]
  },
  {
   "cell_type": "code",
   "execution_count": 261,
   "metadata": {},
   "outputs": [],
   "source": [
    "oldvariables = [ 'SPPFEV1', 'SPPFEV3', 'SPPFEV6', 'SPPFVC','SPPPEAK','SPPMMEF', 'SPPFEF75', 'SPPEXPIR']"
   ]
  },
  {
   "cell_type": "markdown",
   "metadata": {},
   "source": [
    "## Create new variables in adult_final final and youth_final"
   ]
  },
  {
   "cell_type": "markdown",
   "metadata": {},
   "source": [
    "newvariables = ['FEV1OFVC', 'FEV1OFEV6', 'PEFROFVC', 'PEFROFEV6', 'PEFROFEV1', 'FEV3OFVC', 'FEV6OFVC']"
   ]
  },
  {
   "cell_type": "markdown",
   "metadata": {},
   "source": [
    "def createvariables(df):\n",
    "    df['FEV1OFVC'] = df.SPPFEV1 / df.SPPFVC\n",
    "    df['FEV1OFEV6']= df.SPPFEV1 / df.SPPFEV6\n",
    "    df['PEFROFVC'] = df.SPPPEAK / df.SPPFVC\n",
    "    df['PEFROFEV6']= df.SPPPEAK / df.SPPFEV6\n",
    "    df['PEFROFEV1'] = df.SPPPEAK / df.SPPFEV1\n",
    "    df['FEV3OFVC'] = df.SPPFEV3 / df.SPPFVC\n",
    "    df['FEV6OFVC'] = df.SPPFEV6 / df.SPPFVC\n",
    "    return"
   ]
  },
  {
   "cell_type": "code",
   "execution_count": 262,
   "metadata": {},
   "outputs": [],
   "source": [
    "def createvariables(df):\n",
    "    df['FEV1OFVC'] = df.SPPFEV1 / df.SPPFVC\n",
    "    df['FEV1OFEV6']= df.SPPFEV1 / df.SPPFEV6\n",
    "    df['PEFROFVC'] = df.SPPPEAK / df.SPPFVC\n",
    "    df['PEFROFEV6']= df.SPPPEAK / df.SPPFEV6\n",
    "    df['PEFROFEV1'] = df.SPPPEAK / df.SPPFEV1\n",
    "    df['FEV3OFVC'] = df.SPPFEV3 / df.SPPFVC\n",
    "    df['FEV6OFVC'] = df.SPPFEV6 / df.SPPFVC\n",
    "    return\n",
    "    "
   ]
  },
  {
   "cell_type": "markdown",
   "metadata": {},
   "source": [
    "createvariables(adult_final) then youth_final"
   ]
  },
  {
   "cell_type": "code",
   "execution_count": 263,
   "metadata": {},
   "outputs": [],
   "source": [
    "createvariables(adult_final)"
   ]
  },
  {
   "cell_type": "code",
   "execution_count": 264,
   "metadata": {},
   "outputs": [],
   "source": [
    "createvariables(youth_final)"
   ]
  },
  {
   "cell_type": "code",
   "execution_count": 265,
   "metadata": {},
   "outputs": [
    {
     "data": {
      "text/plain": [
       "<matplotlib.axes._subplots.AxesSubplot at 0x11c965910>"
      ]
     },
     "execution_count": 265,
     "metadata": {},
     "output_type": "execute_result"
    },
    {
     "data": {
      "image/png": "[encoded data removed]",
      "text/plain": [
       "<Figure size 432x288 with 1 Axes>"
      ]
     },
     "metadata": {
      "needs_background": "light"
     },
     "output_type": "display_data"
    }
   ],
   "source": [
    "adult_final.PEFROFVC.hist(bins='auto', range=(0,5))"
   ]
  },
  {
   "cell_type": "code",
   "execution_count": 266,
   "metadata": {},
   "outputs": [
    {
     "data": {
      "text/plain": [
       "<matplotlib.axes._subplots.AxesSubplot at 0x11ccd6550>"
      ]
     },
     "execution_count": 266,
     "metadata": {},
     "output_type": "execute_result"
    },
    {
     "data": {
      "image/png": "[encoded data removed]",
      "text/plain": [
       "<Figure size 432x288 with 1 Axes>"
      ]
     },
     "metadata": {
      "needs_background": "light"
     },
     "output_type": "display_data"
    }
   ],
   "source": [
    "youth_final.PEFROFVC.hist(bins='auto', range=(0,5))"
   ]
  },
  {
   "cell_type": "code",
   "execution_count": 267,
   "metadata": {},
   "outputs": [
    {
     "data": {
      "text/plain": [
       "<matplotlib.axes._subplots.AxesSubplot at 0x11bccaf90>"
      ]
     },
     "execution_count": 267,
     "metadata": {},
     "output_type": "execute_result"
    },
    {
     "data": {
      "image/png": "[encoded data removed]",
      "text/plain": [
       "<Figure size 432x288 with 1 Axes>"
      ]
     },
     "metadata": {
      "needs_background": "light"
     },
     "output_type": "display_data"
    }
   ],
   "source": [
    "adult_final.FEV1OFVC.hist(bins='auto')"
   ]
  },
  {
   "cell_type": "code",
   "execution_count": 268,
   "metadata": {},
   "outputs": [
    {
     "data": {
      "text/html": [
       "<div>\n",
       "<style scoped>\n",
       "    .dataframe tbody tr th:only-of-type {\n",
       "        vertical-align: middle;\n",
       "    }\n",
       "\n",
       "    .dataframe tbody tr th {\n",
       "        vertical-align: top;\n",
       "    }\n",
       "\n",
       "    .dataframe thead th {\n",
       "        text-align: right;\n",
       "    }\n",
       "</style>\n",
       "<table border=\"1\" class=\"dataframe\">\n",
       "  <thead>\n",
       "    <tr style=\"text-align: right;\">\n",
       "      <th></th>\n",
       "      <th>HAR1</th>\n",
       "      <th>HAR23</th>\n",
       "      <th>HAR26</th>\n",
       "      <th>HAC1E</th>\n",
       "      <th>HAC1F</th>\n",
       "      <th>HAC1G</th>\n",
       "      <th>HAC1O</th>\n",
       "      <th>HAL6</th>\n",
       "      <th>HAL10</th>\n",
       "      <th>HAL1</th>\n",
       "      <th>...</th>\n",
       "      <th>HXPG1</th>\n",
       "      <th>HXPG2A</th>\n",
       "      <th>HXPG2B</th>\n",
       "      <th>FEV1OFVC</th>\n",
       "      <th>FEV1OFEV6</th>\n",
       "      <th>PEFROFVC</th>\n",
       "      <th>PEFROFEV6</th>\n",
       "      <th>PEFROFEV1</th>\n",
       "      <th>FEV3OFVC</th>\n",
       "      <th>FEV6OFVC</th>\n",
       "    </tr>\n",
       "  </thead>\n",
       "  <tbody>\n",
       "    <tr>\n",
       "      <th>count</th>\n",
       "      <td>4925.0</td>\n",
       "      <td>4925.0</td>\n",
       "      <td>4925.000000</td>\n",
       "      <td>4925.0</td>\n",
       "      <td>4925.0</td>\n",
       "      <td>4925.000000</td>\n",
       "      <td>4925.000000</td>\n",
       "      <td>4925.000000</td>\n",
       "      <td>4925.000000</td>\n",
       "      <td>4925.0</td>\n",
       "      <td>...</td>\n",
       "      <td>22.0</td>\n",
       "      <td>22.0</td>\n",
       "      <td>22.000000</td>\n",
       "      <td>4925.000000</td>\n",
       "      <td>4925.000000</td>\n",
       "      <td>4925.000000</td>\n",
       "      <td>4925.000000</td>\n",
       "      <td>4925.000000</td>\n",
       "      <td>4925.000000</td>\n",
       "      <td>4925.000000</td>\n",
       "    </tr>\n",
       "    <tr>\n",
       "      <th>mean</th>\n",
       "      <td>2.0</td>\n",
       "      <td>2.0</td>\n",
       "      <td>2.003655</td>\n",
       "      <td>2.0</td>\n",
       "      <td>2.0</td>\n",
       "      <td>2.001218</td>\n",
       "      <td>1.983350</td>\n",
       "      <td>2.001421</td>\n",
       "      <td>2.002437</td>\n",
       "      <td>2.0</td>\n",
       "      <td>...</td>\n",
       "      <td>0.0</td>\n",
       "      <td>0.0</td>\n",
       "      <td>76.000000</td>\n",
       "      <td>0.826157</td>\n",
       "      <td>0.837251</td>\n",
       "      <td>1.977110</td>\n",
       "      <td>2.005007</td>\n",
       "      <td>2.393712</td>\n",
       "      <td>1.107948</td>\n",
       "      <td>1.140618</td>\n",
       "    </tr>\n",
       "    <tr>\n",
       "      <th>std</th>\n",
       "      <td>0.0</td>\n",
       "      <td>0.0</td>\n",
       "      <td>0.148054</td>\n",
       "      <td>0.0</td>\n",
       "      <td>0.0</td>\n",
       "      <td>0.085496</td>\n",
       "      <td>0.166579</td>\n",
       "      <td>0.099746</td>\n",
       "      <td>0.120898</td>\n",
       "      <td>0.0</td>\n",
       "      <td>...</td>\n",
       "      <td>0.0</td>\n",
       "      <td>0.0</td>\n",
       "      <td>30.910008</td>\n",
       "      <td>0.072924</td>\n",
       "      <td>0.082372</td>\n",
       "      <td>0.369588</td>\n",
       "      <td>0.390939</td>\n",
       "      <td>0.401715</td>\n",
       "      <td>2.506510</td>\n",
       "      <td>2.504164</td>\n",
       "    </tr>\n",
       "    <tr>\n",
       "      <th>min</th>\n",
       "      <td>2.0</td>\n",
       "      <td>2.0</td>\n",
       "      <td>2.000000</td>\n",
       "      <td>2.0</td>\n",
       "      <td>2.0</td>\n",
       "      <td>2.000000</td>\n",
       "      <td>1.000000</td>\n",
       "      <td>2.000000</td>\n",
       "      <td>2.000000</td>\n",
       "      <td>2.0</td>\n",
       "      <td>...</td>\n",
       "      <td>0.0</td>\n",
       "      <td>0.0</td>\n",
       "      <td>0.000000</td>\n",
       "      <td>0.430769</td>\n",
       "      <td>0.014389</td>\n",
       "      <td>0.437173</td>\n",
       "      <td>0.026089</td>\n",
       "      <td>0.989630</td>\n",
       "      <td>0.689231</td>\n",
       "      <td>0.794219</td>\n",
       "    </tr>\n",
       "    <tr>\n",
       "      <th>25%</th>\n",
       "      <td>2.0</td>\n",
       "      <td>2.0</td>\n",
       "      <td>2.000000</td>\n",
       "      <td>2.0</td>\n",
       "      <td>2.0</td>\n",
       "      <td>2.000000</td>\n",
       "      <td>2.000000</td>\n",
       "      <td>2.000000</td>\n",
       "      <td>2.000000</td>\n",
       "      <td>2.0</td>\n",
       "      <td>...</td>\n",
       "      <td>0.0</td>\n",
       "      <td>0.0</td>\n",
       "      <td>88.000000</td>\n",
       "      <td>0.782431</td>\n",
       "      <td>0.802104</td>\n",
       "      <td>1.729972</td>\n",
       "      <td>1.760333</td>\n",
       "      <td>2.125053</td>\n",
       "      <td>0.924968</td>\n",
       "      <td>0.972951</td>\n",
       "    </tr>\n",
       "    <tr>\n",
       "      <th>50%</th>\n",
       "      <td>2.0</td>\n",
       "      <td>2.0</td>\n",
       "      <td>2.000000</td>\n",
       "      <td>2.0</td>\n",
       "      <td>2.0</td>\n",
       "      <td>2.000000</td>\n",
       "      <td>2.000000</td>\n",
       "      <td>2.000000</td>\n",
       "      <td>2.000000</td>\n",
       "      <td>2.0</td>\n",
       "      <td>...</td>\n",
       "      <td>0.0</td>\n",
       "      <td>0.0</td>\n",
       "      <td>88.000000</td>\n",
       "      <td>0.830703</td>\n",
       "      <td>0.842105</td>\n",
       "      <td>1.961848</td>\n",
       "      <td>1.996001</td>\n",
       "      <td>2.373698</td>\n",
       "      <td>0.957725</td>\n",
       "      <td>0.991572</td>\n",
       "    </tr>\n",
       "    <tr>\n",
       "      <th>75%</th>\n",
       "      <td>2.0</td>\n",
       "      <td>2.0</td>\n",
       "      <td>2.000000</td>\n",
       "      <td>2.0</td>\n",
       "      <td>2.0</td>\n",
       "      <td>2.000000</td>\n",
       "      <td>2.000000</td>\n",
       "      <td>2.000000</td>\n",
       "      <td>2.000000</td>\n",
       "      <td>2.0</td>\n",
       "      <td>...</td>\n",
       "      <td>0.0</td>\n",
       "      <td>0.0</td>\n",
       "      <td>88.000000</td>\n",
       "      <td>0.873748</td>\n",
       "      <td>0.879573</td>\n",
       "      <td>2.208861</td>\n",
       "      <td>2.246493</td>\n",
       "      <td>2.646116</td>\n",
       "      <td>0.984545</td>\n",
       "      <td>0.999446</td>\n",
       "    </tr>\n",
       "    <tr>\n",
       "      <th>max</th>\n",
       "      <td>2.0</td>\n",
       "      <td>2.0</td>\n",
       "      <td>8.000000</td>\n",
       "      <td>2.0</td>\n",
       "      <td>2.0</td>\n",
       "      <td>8.000000</td>\n",
       "      <td>9.000000</td>\n",
       "      <td>9.000000</td>\n",
       "      <td>8.000000</td>\n",
       "      <td>2.0</td>\n",
       "      <td>...</td>\n",
       "      <td>0.0</td>\n",
       "      <td>0.0</td>\n",
       "      <td>88.000000</td>\n",
       "      <td>1.000000</td>\n",
       "      <td>1.000422</td>\n",
       "      <td>4.283804</td>\n",
       "      <td>3.588963</td>\n",
       "      <td>4.287374</td>\n",
       "      <td>66.682671</td>\n",
       "      <td>66.682671</td>\n",
       "    </tr>\n",
       "  </tbody>\n",
       "</table>\n",
       "<p>8 rows × 72 columns</p>\n",
       "</div>"
      ],
      "text/plain": [
       "         HAR1   HAR23        HAR26   HAC1E   HAC1F        HAC1G        HAC1O  \\\n",
       "count  4925.0  4925.0  4925.000000  4925.0  4925.0  4925.000000  4925.000000   \n",
       "mean      2.0     2.0     2.003655     2.0     2.0     2.001218     1.983350   \n",
       "std       0.0     0.0     0.148054     0.0     0.0     0.085496     0.166579   \n",
       "min       2.0     2.0     2.000000     2.0     2.0     2.000000     1.000000   \n",
       "25%       2.0     2.0     2.000000     2.0     2.0     2.000000     2.000000   \n",
       "50%       2.0     2.0     2.000000     2.0     2.0     2.000000     2.000000   \n",
       "75%       2.0     2.0     2.000000     2.0     2.0     2.000000     2.000000   \n",
       "max       2.0     2.0     8.000000     2.0     2.0     8.000000     9.000000   \n",
       "\n",
       "              HAL6        HAL10    HAL1  ...  HXPG1  HXPG2A     HXPG2B  \\\n",
       "count  4925.000000  4925.000000  4925.0  ...   22.0    22.0  22.000000   \n",
       "mean      2.001421     2.002437     2.0  ...    0.0     0.0  76.000000   \n",
       "std       0.099746     0.120898     0.0  ...    0.0     0.0  30.910008   \n",
       "min       2.000000     2.000000     2.0  ...    0.0     0.0   0.000000   \n",
       "25%       2.000000     2.000000     2.0  ...    0.0     0.0  88.000000   \n",
       "50%       2.000000     2.000000     2.0  ...    0.0     0.0  88.000000   \n",
       "75%       2.000000     2.000000     2.0  ...    0.0     0.0  88.000000   \n",
       "max       9.000000     8.000000     2.0  ...    0.0     0.0  88.000000   \n",
       "\n",
       "          FEV1OFVC    FEV1OFEV6     PEFROFVC    PEFROFEV6    PEFROFEV1  \\\n",
       "count  4925.000000  4925.000000  4925.000000  4925.000000  4925.000000   \n",
       "mean      0.826157     0.837251     1.977110     2.005007     2.393712   \n",
       "std       0.072924     0.082372     0.369588     0.390939     0.401715   \n",
       "min       0.430769     0.014389     0.437173     0.026089     0.989630   \n",
       "25%       0.782431     0.802104     1.729972     1.760333     2.125053   \n",
       "50%       0.830703     0.842105     1.961848     1.996001     2.373698   \n",
       "75%       0.873748     0.879573     2.208861     2.246493     2.646116   \n",
       "max       1.000000     1.000422     4.283804     3.588963     4.287374   \n",
       "\n",
       "          FEV3OFVC     FEV6OFVC  \n",
       "count  4925.000000  4925.000000  \n",
       "mean      1.107948     1.140618  \n",
       "std       2.506510     2.504164  \n",
       "min       0.689231     0.794219  \n",
       "25%       0.924968     0.972951  \n",
       "50%       0.957725     0.991572  \n",
       "75%       0.984545     0.999446  \n",
       "max      66.682671    66.682671  \n",
       "\n",
       "[8 rows x 72 columns]"
      ]
     },
     "execution_count": 268,
     "metadata": {},
     "output_type": "execute_result"
    }
   ],
   "source": [
    "adult_final.describe()"
   ]
  },
  {
   "cell_type": "code",
   "execution_count": 269,
   "metadata": {},
   "outputs": [
    {
     "data": {
      "text/plain": [
       "9.731032035139023"
      ]
     },
     "execution_count": 269,
     "metadata": {},
     "output_type": "execute_result"
    }
   ],
   "source": [
    "adult_final.BMPHT.std()"
   ]
  },
  {
   "cell_type": "code",
   "execution_count": 270,
   "metadata": {},
   "outputs": [
    {
     "data": {
      "text/html": [
       "<div>\n",
       "<style scoped>\n",
       "    .dataframe tbody tr th:only-of-type {\n",
       "        vertical-align: middle;\n",
       "    }\n",
       "\n",
       "    .dataframe tbody tr th {\n",
       "        vertical-align: top;\n",
       "    }\n",
       "\n",
       "    .dataframe thead th {\n",
       "        text-align: right;\n",
       "    }\n",
       "</style>\n",
       "<table border=\"1\" class=\"dataframe\">\n",
       "  <thead>\n",
       "    <tr style=\"text-align: right;\">\n",
       "      <th></th>\n",
       "      <th>HAR1</th>\n",
       "      <th>HAR23</th>\n",
       "      <th>HAR26</th>\n",
       "      <th>HAC1E</th>\n",
       "      <th>HAC1F</th>\n",
       "      <th>HAC1G</th>\n",
       "      <th>HAC1O</th>\n",
       "      <th>HAL6</th>\n",
       "      <th>HAL10</th>\n",
       "      <th>HAL1</th>\n",
       "      <th>...</th>\n",
       "      <th>HXPG1</th>\n",
       "      <th>HXPG2A</th>\n",
       "      <th>HXPG2B</th>\n",
       "      <th>FEV1OFVC</th>\n",
       "      <th>FEV1OFEV6</th>\n",
       "      <th>PEFROFVC</th>\n",
       "      <th>PEFROFEV6</th>\n",
       "      <th>PEFROFEV1</th>\n",
       "      <th>FEV3OFVC</th>\n",
       "      <th>FEV6OFVC</th>\n",
       "    </tr>\n",
       "  </thead>\n",
       "  <tbody>\n",
       "    <tr>\n",
       "      <th>count</th>\n",
       "      <td>4925.0</td>\n",
       "      <td>4925.0</td>\n",
       "      <td>4925.000000</td>\n",
       "      <td>4925.0</td>\n",
       "      <td>4925.0</td>\n",
       "      <td>4925.000000</td>\n",
       "      <td>4925.000000</td>\n",
       "      <td>4925.000000</td>\n",
       "      <td>4925.000000</td>\n",
       "      <td>4925.0</td>\n",
       "      <td>...</td>\n",
       "      <td>22.0</td>\n",
       "      <td>22.0</td>\n",
       "      <td>22.000000</td>\n",
       "      <td>4925.000000</td>\n",
       "      <td>4925.000000</td>\n",
       "      <td>4925.000000</td>\n",
       "      <td>4925.000000</td>\n",
       "      <td>4925.000000</td>\n",
       "      <td>4925.000000</td>\n",
       "      <td>4925.000000</td>\n",
       "    </tr>\n",
       "    <tr>\n",
       "      <th>mean</th>\n",
       "      <td>2.0</td>\n",
       "      <td>2.0</td>\n",
       "      <td>2.003655</td>\n",
       "      <td>2.0</td>\n",
       "      <td>2.0</td>\n",
       "      <td>2.001218</td>\n",
       "      <td>1.983350</td>\n",
       "      <td>2.001421</td>\n",
       "      <td>2.002437</td>\n",
       "      <td>2.0</td>\n",
       "      <td>...</td>\n",
       "      <td>0.0</td>\n",
       "      <td>0.0</td>\n",
       "      <td>76.000000</td>\n",
       "      <td>0.826157</td>\n",
       "      <td>0.837251</td>\n",
       "      <td>1.977110</td>\n",
       "      <td>2.005007</td>\n",
       "      <td>2.393712</td>\n",
       "      <td>1.107948</td>\n",
       "      <td>1.140618</td>\n",
       "    </tr>\n",
       "    <tr>\n",
       "      <th>std</th>\n",
       "      <td>0.0</td>\n",
       "      <td>0.0</td>\n",
       "      <td>0.148054</td>\n",
       "      <td>0.0</td>\n",
       "      <td>0.0</td>\n",
       "      <td>0.085496</td>\n",
       "      <td>0.166579</td>\n",
       "      <td>0.099746</td>\n",
       "      <td>0.120898</td>\n",
       "      <td>0.0</td>\n",
       "      <td>...</td>\n",
       "      <td>0.0</td>\n",
       "      <td>0.0</td>\n",
       "      <td>30.910008</td>\n",
       "      <td>0.072924</td>\n",
       "      <td>0.082372</td>\n",
       "      <td>0.369588</td>\n",
       "      <td>0.390939</td>\n",
       "      <td>0.401715</td>\n",
       "      <td>2.506510</td>\n",
       "      <td>2.504164</td>\n",
       "    </tr>\n",
       "    <tr>\n",
       "      <th>min</th>\n",
       "      <td>2.0</td>\n",
       "      <td>2.0</td>\n",
       "      <td>2.000000</td>\n",
       "      <td>2.0</td>\n",
       "      <td>2.0</td>\n",
       "      <td>2.000000</td>\n",
       "      <td>1.000000</td>\n",
       "      <td>2.000000</td>\n",
       "      <td>2.000000</td>\n",
       "      <td>2.0</td>\n",
       "      <td>...</td>\n",
       "      <td>0.0</td>\n",
       "      <td>0.0</td>\n",
       "      <td>0.000000</td>\n",
       "      <td>0.430769</td>\n",
       "      <td>0.014389</td>\n",
       "      <td>0.437173</td>\n",
       "      <td>0.026089</td>\n",
       "      <td>0.989630</td>\n",
       "      <td>0.689231</td>\n",
       "      <td>0.794219</td>\n",
       "    </tr>\n",
       "    <tr>\n",
       "      <th>25%</th>\n",
       "      <td>2.0</td>\n",
       "      <td>2.0</td>\n",
       "      <td>2.000000</td>\n",
       "      <td>2.0</td>\n",
       "      <td>2.0</td>\n",
       "      <td>2.000000</td>\n",
       "      <td>2.000000</td>\n",
       "      <td>2.000000</td>\n",
       "      <td>2.000000</td>\n",
       "      <td>2.0</td>\n",
       "      <td>...</td>\n",
       "      <td>0.0</td>\n",
       "      <td>0.0</td>\n",
       "      <td>88.000000</td>\n",
       "      <td>0.782431</td>\n",
       "      <td>0.802104</td>\n",
       "      <td>1.729972</td>\n",
       "      <td>1.760333</td>\n",
       "      <td>2.125053</td>\n",
       "      <td>0.924968</td>\n",
       "      <td>0.972951</td>\n",
       "    </tr>\n",
       "    <tr>\n",
       "      <th>50%</th>\n",
       "      <td>2.0</td>\n",
       "      <td>2.0</td>\n",
       "      <td>2.000000</td>\n",
       "      <td>2.0</td>\n",
       "      <td>2.0</td>\n",
       "      <td>2.000000</td>\n",
       "      <td>2.000000</td>\n",
       "      <td>2.000000</td>\n",
       "      <td>2.000000</td>\n",
       "      <td>2.0</td>\n",
       "      <td>...</td>\n",
       "      <td>0.0</td>\n",
       "      <td>0.0</td>\n",
       "      <td>88.000000</td>\n",
       "      <td>0.830703</td>\n",
       "      <td>0.842105</td>\n",
       "      <td>1.961848</td>\n",
       "      <td>1.996001</td>\n",
       "      <td>2.373698</td>\n",
       "      <td>0.957725</td>\n",
       "      <td>0.991572</td>\n",
       "    </tr>\n",
       "    <tr>\n",
       "      <th>75%</th>\n",
       "      <td>2.0</td>\n",
       "      <td>2.0</td>\n",
       "      <td>2.000000</td>\n",
       "      <td>2.0</td>\n",
       "      <td>2.0</td>\n",
       "      <td>2.000000</td>\n",
       "      <td>2.000000</td>\n",
       "      <td>2.000000</td>\n",
       "      <td>2.000000</td>\n",
       "      <td>2.0</td>\n",
       "      <td>...</td>\n",
       "      <td>0.0</td>\n",
       "      <td>0.0</td>\n",
       "      <td>88.000000</td>\n",
       "      <td>0.873748</td>\n",
       "      <td>0.879573</td>\n",
       "      <td>2.208861</td>\n",
       "      <td>2.246493</td>\n",
       "      <td>2.646116</td>\n",
       "      <td>0.984545</td>\n",
       "      <td>0.999446</td>\n",
       "    </tr>\n",
       "    <tr>\n",
       "      <th>max</th>\n",
       "      <td>2.0</td>\n",
       "      <td>2.0</td>\n",
       "      <td>8.000000</td>\n",
       "      <td>2.0</td>\n",
       "      <td>2.0</td>\n",
       "      <td>8.000000</td>\n",
       "      <td>9.000000</td>\n",
       "      <td>9.000000</td>\n",
       "      <td>8.000000</td>\n",
       "      <td>2.0</td>\n",
       "      <td>...</td>\n",
       "      <td>0.0</td>\n",
       "      <td>0.0</td>\n",
       "      <td>88.000000</td>\n",
       "      <td>1.000000</td>\n",
       "      <td>1.000422</td>\n",
       "      <td>4.283804</td>\n",
       "      <td>3.588963</td>\n",
       "      <td>4.287374</td>\n",
       "      <td>66.682671</td>\n",
       "      <td>66.682671</td>\n",
       "    </tr>\n",
       "  </tbody>\n",
       "</table>\n",
       "<p>8 rows × 72 columns</p>\n",
       "</div>"
      ],
      "text/plain": [
       "         HAR1   HAR23        HAR26   HAC1E   HAC1F        HAC1G        HAC1O  \\\n",
       "count  4925.0  4925.0  4925.000000  4925.0  4925.0  4925.000000  4925.000000   \n",
       "mean      2.0     2.0     2.003655     2.0     2.0     2.001218     1.983350   \n",
       "std       0.0     0.0     0.148054     0.0     0.0     0.085496     0.166579   \n",
       "min       2.0     2.0     2.000000     2.0     2.0     2.000000     1.000000   \n",
       "25%       2.0     2.0     2.000000     2.0     2.0     2.000000     2.000000   \n",
       "50%       2.0     2.0     2.000000     2.0     2.0     2.000000     2.000000   \n",
       "75%       2.0     2.0     2.000000     2.0     2.0     2.000000     2.000000   \n",
       "max       2.0     2.0     8.000000     2.0     2.0     8.000000     9.000000   \n",
       "\n",
       "              HAL6        HAL10    HAL1  ...  HXPG1  HXPG2A     HXPG2B  \\\n",
       "count  4925.000000  4925.000000  4925.0  ...   22.0    22.0  22.000000   \n",
       "mean      2.001421     2.002437     2.0  ...    0.0     0.0  76.000000   \n",
       "std       0.099746     0.120898     0.0  ...    0.0     0.0  30.910008   \n",
       "min       2.000000     2.000000     2.0  ...    0.0     0.0   0.000000   \n",
       "25%       2.000000     2.000000     2.0  ...    0.0     0.0  88.000000   \n",
       "50%       2.000000     2.000000     2.0  ...    0.0     0.0  88.000000   \n",
       "75%       2.000000     2.000000     2.0  ...    0.0     0.0  88.000000   \n",
       "max       9.000000     8.000000     2.0  ...    0.0     0.0  88.000000   \n",
       "\n",
       "          FEV1OFVC    FEV1OFEV6     PEFROFVC    PEFROFEV6    PEFROFEV1  \\\n",
       "count  4925.000000  4925.000000  4925.000000  4925.000000  4925.000000   \n",
       "mean      0.826157     0.837251     1.977110     2.005007     2.393712   \n",
       "std       0.072924     0.082372     0.369588     0.390939     0.401715   \n",
       "min       0.430769     0.014389     0.437173     0.026089     0.989630   \n",
       "25%       0.782431     0.802104     1.729972     1.760333     2.125053   \n",
       "50%       0.830703     0.842105     1.961848     1.996001     2.373698   \n",
       "75%       0.873748     0.879573     2.208861     2.246493     2.646116   \n",
       "max       1.000000     1.000422     4.283804     3.588963     4.287374   \n",
       "\n",
       "          FEV3OFVC     FEV6OFVC  \n",
       "count  4925.000000  4925.000000  \n",
       "mean      1.107948     1.140618  \n",
       "std       2.506510     2.504164  \n",
       "min       0.689231     0.794219  \n",
       "25%       0.924968     0.972951  \n",
       "50%       0.957725     0.991572  \n",
       "75%       0.984545     0.999446  \n",
       "max      66.682671    66.682671  \n",
       "\n",
       "[8 rows x 72 columns]"
      ]
     },
     "execution_count": 270,
     "metadata": {},
     "output_type": "execute_result"
    }
   ],
   "source": [
    "adult_final.describe()"
   ]
  },
  {
   "cell_type": "code",
   "execution_count": 271,
   "metadata": {},
   "outputs": [
    {
     "name": "stdout",
     "output_type": "stream",
     "text": [
      "['HAR1' 'HAR23' 'HAR26' 'HAC1E' 'HAC1F' 'HAC1G' 'HAC1O' 'HAL6' 'HAL10'\n",
      " 'HAL1' 'HAL3' 'HAL5' 'DMARACER' 'DMARETHN' 'DMAETHNR' 'HSSEX' 'HSAGEIR'\n",
      " 'HSAGEU' 'HXPAXTMR' 'HXPSESSR' 'HSAITMOR' 'HAR4S' 'SPPQ1' 'SPPQ2' 'SPPQ3'\n",
      " 'SPPQ4' 'SPPQ5' 'SPPMANEU' 'MYPB1' 'MYPB3' 'MYPB11' 'MYPB27A' 'MYPB27B'\n",
      " 'HSAGEIR_exam' 'HSAGEU_exam' 'HXPAXTMR_exam' 'HXPSESSR_exam' 'HXPEJ6A2'\n",
      " 'SPPTECH1' 'SPPTRIAL' 'SPPPEAK' 'SPPFEV05' 'SPPFEV1' 'SPPFEV3' 'SPPFEV6'\n",
      " 'SPPFVC' 'SPPMMEF' 'SPPFEF75' 'SPPTYPE' 'SPPREPRO' 'SPPTIME' 'SPPEXPIR'\n",
      " 'SPPTEMP' 'HSSEX_exam' 'WTPFHX6' 'MXPAXTMR' 'BMPHT' 'BMPSITHT' 'BMPWT'\n",
      " 'DMARACER_exam' 'DMARETHN_exam' 'DMAETHNR_exam' 'HSAITMOR_exam' 'HXPG1'\n",
      " 'HXPG2A' 'HXPG2B' 'FEV1OFVC' 'FEV1OFEV6' 'PEFROFVC' 'PEFROFEV6'\n",
      " 'PEFROFEV1' 'FEV3OFVC' 'FEV6OFVC']\n"
     ]
    }
   ],
   "source": [
    "print (adult_final.columns.values)"
   ]
  },
  {
   "cell_type": "code",
   "execution_count": 272,
   "metadata": {},
   "outputs": [
    {
     "name": "stdout",
     "output_type": "stream",
     "text": [
      "['HYE1G' 'HYE1H' 'HSSEX' 'HSAGEIR' 'HSAGEU' 'DMARACER' 'DMARETHN'\n",
      " 'DMAETHNR' 'HXPAXTMR' 'HXPSESSR' 'HYG2' 'HYG4' 'HYG7' 'HYG8' 'HYG12'\n",
      " 'HSAITMOR' 'SPPQ1' 'SPPQ2' 'SPPQ3' 'SPPQ4' 'SPPQ5' 'SPPMANEU' 'MYPB1'\n",
      " 'MYPB3' 'MYPB11' 'MYPB27A' 'MYPB27B' 'HSAGEIR_exam' 'HSAGEU_exam'\n",
      " 'HXPAXTMR_exam' 'HXPSESSR_exam' 'HXPEJ6A2' 'SPPTECH1' 'SPPTRIAL'\n",
      " 'SPPPEAK' 'SPPFEV05' 'SPPFEV1' 'SPPFEV3' 'SPPFEV6' 'SPPFVC' 'SPPMMEF'\n",
      " 'SPPFEF75' 'SPPTYPE' 'SPPREPRO' 'SPPTIME' 'SPPEXPIR' 'SPPTEMP'\n",
      " 'HSSEX_exam' 'WTPFHX6' 'MXPAXTMR' 'BMPHT' 'BMPSITHT' 'BMPWT'\n",
      " 'DMARACER_exam' 'DMARETHN_exam' 'DMAETHNR_exam' 'HSAITMOR_exam' 'HXPG1'\n",
      " 'HXPG2A' 'HXPG2B' 'FEV1OFVC' 'FEV1OFEV6' 'PEFROFVC' 'PEFROFEV6'\n",
      " 'PEFROFEV1' 'FEV3OFVC' 'FEV6OFVC']\n"
     ]
    }
   ],
   "source": [
    "print (youth_final.columns.values)"
   ]
  },
  {
   "cell_type": "code",
   "execution_count": 273,
   "metadata": {},
   "outputs": [
    {
     "data": {
      "text/html": [
       "<div>\n",
       "<style scoped>\n",
       "    .dataframe tbody tr th:only-of-type {\n",
       "        vertical-align: middle;\n",
       "    }\n",
       "\n",
       "    .dataframe tbody tr th {\n",
       "        vertical-align: top;\n",
       "    }\n",
       "\n",
       "    .dataframe thead th {\n",
       "        text-align: right;\n",
       "    }\n",
       "</style>\n",
       "<table border=\"1\" class=\"dataframe\">\n",
       "  <thead>\n",
       "    <tr style=\"text-align: right;\">\n",
       "      <th></th>\n",
       "      <th>HYE1G</th>\n",
       "      <th>HYE1H</th>\n",
       "      <th>HSSEX</th>\n",
       "      <th>HSAGEIR</th>\n",
       "      <th>HSAGEU</th>\n",
       "      <th>DMARACER</th>\n",
       "      <th>DMARETHN</th>\n",
       "      <th>DMAETHNR</th>\n",
       "      <th>HXPAXTMR</th>\n",
       "      <th>HXPSESSR</th>\n",
       "      <th>...</th>\n",
       "      <th>HXPG1</th>\n",
       "      <th>HXPG2A</th>\n",
       "      <th>HXPG2B</th>\n",
       "      <th>FEV1OFVC</th>\n",
       "      <th>FEV1OFEV6</th>\n",
       "      <th>PEFROFVC</th>\n",
       "      <th>PEFROFEV6</th>\n",
       "      <th>PEFROFEV1</th>\n",
       "      <th>FEV3OFVC</th>\n",
       "      <th>FEV6OFVC</th>\n",
       "    </tr>\n",
       "  </thead>\n",
       "  <tbody>\n",
       "    <tr>\n",
       "      <th>count</th>\n",
       "      <td>2780.0</td>\n",
       "      <td>2780.0</td>\n",
       "      <td>2780.000000</td>\n",
       "      <td>2780.000000</td>\n",
       "      <td>2780.0</td>\n",
       "      <td>2780.000000</td>\n",
       "      <td>2780.000000</td>\n",
       "      <td>2780.000000</td>\n",
       "      <td>0.0</td>\n",
       "      <td>0.0</td>\n",
       "      <td>...</td>\n",
       "      <td>0.0</td>\n",
       "      <td>0.0</td>\n",
       "      <td>0.0</td>\n",
       "      <td>2780.000000</td>\n",
       "      <td>2780.000000</td>\n",
       "      <td>2780.000000</td>\n",
       "      <td>2780.000000</td>\n",
       "      <td>2780.000000</td>\n",
       "      <td>2780.000000</td>\n",
       "      <td>2780.000000</td>\n",
       "    </tr>\n",
       "    <tr>\n",
       "      <th>mean</th>\n",
       "      <td>2.0</td>\n",
       "      <td>2.0</td>\n",
       "      <td>1.520144</td>\n",
       "      <td>11.548921</td>\n",
       "      <td>2.0</td>\n",
       "      <td>1.423022</td>\n",
       "      <td>2.097482</td>\n",
       "      <td>2.274820</td>\n",
       "      <td>NaN</td>\n",
       "      <td>NaN</td>\n",
       "      <td>...</td>\n",
       "      <td>NaN</td>\n",
       "      <td>NaN</td>\n",
       "      <td>NaN</td>\n",
       "      <td>0.879639</td>\n",
       "      <td>0.882194</td>\n",
       "      <td>1.946137</td>\n",
       "      <td>1.951788</td>\n",
       "      <td>2.207626</td>\n",
       "      <td>0.983934</td>\n",
       "      <td>0.996959</td>\n",
       "    </tr>\n",
       "    <tr>\n",
       "      <th>std</th>\n",
       "      <td>0.0</td>\n",
       "      <td>0.0</td>\n",
       "      <td>0.499684</td>\n",
       "      <td>2.485246</td>\n",
       "      <td>0.0</td>\n",
       "      <td>0.540723</td>\n",
       "      <td>0.786395</td>\n",
       "      <td>0.961669</td>\n",
       "      <td>NaN</td>\n",
       "      <td>NaN</td>\n",
       "      <td>...</td>\n",
       "      <td>NaN</td>\n",
       "      <td>NaN</td>\n",
       "      <td>NaN</td>\n",
       "      <td>0.059748</td>\n",
       "      <td>0.058176</td>\n",
       "      <td>0.335503</td>\n",
       "      <td>0.335074</td>\n",
       "      <td>0.318381</td>\n",
       "      <td>0.019405</td>\n",
       "      <td>0.007506</td>\n",
       "    </tr>\n",
       "    <tr>\n",
       "      <th>min</th>\n",
       "      <td>2.0</td>\n",
       "      <td>2.0</td>\n",
       "      <td>1.000000</td>\n",
       "      <td>8.000000</td>\n",
       "      <td>2.0</td>\n",
       "      <td>1.000000</td>\n",
       "      <td>1.000000</td>\n",
       "      <td>1.000000</td>\n",
       "      <td>NaN</td>\n",
       "      <td>NaN</td>\n",
       "      <td>...</td>\n",
       "      <td>NaN</td>\n",
       "      <td>NaN</td>\n",
       "      <td>NaN</td>\n",
       "      <td>0.316216</td>\n",
       "      <td>0.413063</td>\n",
       "      <td>0.516216</td>\n",
       "      <td>0.583065</td>\n",
       "      <td>1.172145</td>\n",
       "      <td>0.581757</td>\n",
       "      <td>0.765541</td>\n",
       "    </tr>\n",
       "    <tr>\n",
       "      <th>25%</th>\n",
       "      <td>2.0</td>\n",
       "      <td>2.0</td>\n",
       "      <td>1.000000</td>\n",
       "      <td>9.000000</td>\n",
       "      <td>2.0</td>\n",
       "      <td>1.000000</td>\n",
       "      <td>1.000000</td>\n",
       "      <td>1.000000</td>\n",
       "      <td>NaN</td>\n",
       "      <td>NaN</td>\n",
       "      <td>...</td>\n",
       "      <td>NaN</td>\n",
       "      <td>NaN</td>\n",
       "      <td>NaN</td>\n",
       "      <td>0.843086</td>\n",
       "      <td>0.846568</td>\n",
       "      <td>1.705831</td>\n",
       "      <td>1.712801</td>\n",
       "      <td>1.988659</td>\n",
       "      <td>0.975538</td>\n",
       "      <td>0.997777</td>\n",
       "    </tr>\n",
       "    <tr>\n",
       "      <th>50%</th>\n",
       "      <td>2.0</td>\n",
       "      <td>2.0</td>\n",
       "      <td>2.000000</td>\n",
       "      <td>11.000000</td>\n",
       "      <td>2.0</td>\n",
       "      <td>1.000000</td>\n",
       "      <td>2.000000</td>\n",
       "      <td>3.000000</td>\n",
       "      <td>NaN</td>\n",
       "      <td>NaN</td>\n",
       "      <td>...</td>\n",
       "      <td>NaN</td>\n",
       "      <td>NaN</td>\n",
       "      <td>NaN</td>\n",
       "      <td>0.883113</td>\n",
       "      <td>0.884615</td>\n",
       "      <td>1.925133</td>\n",
       "      <td>1.929309</td>\n",
       "      <td>2.194626</td>\n",
       "      <td>0.988779</td>\n",
       "      <td>0.999314</td>\n",
       "    </tr>\n",
       "    <tr>\n",
       "      <th>75%</th>\n",
       "      <td>2.0</td>\n",
       "      <td>2.0</td>\n",
       "      <td>2.000000</td>\n",
       "      <td>14.000000</td>\n",
       "      <td>2.0</td>\n",
       "      <td>2.000000</td>\n",
       "      <td>3.000000</td>\n",
       "      <td>3.000000</td>\n",
       "      <td>NaN</td>\n",
       "      <td>NaN</td>\n",
       "      <td>...</td>\n",
       "      <td>NaN</td>\n",
       "      <td>NaN</td>\n",
       "      <td>NaN</td>\n",
       "      <td>0.920203</td>\n",
       "      <td>0.921689</td>\n",
       "      <td>2.153150</td>\n",
       "      <td>2.161449</td>\n",
       "      <td>2.409219</td>\n",
       "      <td>0.999076</td>\n",
       "      <td>0.999576</td>\n",
       "    </tr>\n",
       "    <tr>\n",
       "      <th>max</th>\n",
       "      <td>2.0</td>\n",
       "      <td>2.0</td>\n",
       "      <td>2.000000</td>\n",
       "      <td>16.000000</td>\n",
       "      <td>2.0</td>\n",
       "      <td>3.000000</td>\n",
       "      <td>3.000000</td>\n",
       "      <td>3.000000</td>\n",
       "      <td>NaN</td>\n",
       "      <td>NaN</td>\n",
       "      <td>...</td>\n",
       "      <td>NaN</td>\n",
       "      <td>NaN</td>\n",
       "      <td>NaN</td>\n",
       "      <td>1.000000</td>\n",
       "      <td>1.001080</td>\n",
       "      <td>3.312586</td>\n",
       "      <td>3.314879</td>\n",
       "      <td>3.652091</td>\n",
       "      <td>1.000000</td>\n",
       "      <td>1.000000</td>\n",
       "    </tr>\n",
       "  </tbody>\n",
       "</table>\n",
       "<p>8 rows × 66 columns</p>\n",
       "</div>"
      ],
      "text/plain": [
       "        HYE1G   HYE1H        HSSEX      HSAGEIR  HSAGEU     DMARACER  \\\n",
       "count  2780.0  2780.0  2780.000000  2780.000000  2780.0  2780.000000   \n",
       "mean      2.0     2.0     1.520144    11.548921     2.0     1.423022   \n",
       "std       0.0     0.0     0.499684     2.485246     0.0     0.540723   \n",
       "min       2.0     2.0     1.000000     8.000000     2.0     1.000000   \n",
       "25%       2.0     2.0     1.000000     9.000000     2.0     1.000000   \n",
       "50%       2.0     2.0     2.000000    11.000000     2.0     1.000000   \n",
       "75%       2.0     2.0     2.000000    14.000000     2.0     2.000000   \n",
       "max       2.0     2.0     2.000000    16.000000     2.0     3.000000   \n",
       "\n",
       "          DMARETHN     DMAETHNR  HXPAXTMR  HXPSESSR  ...  HXPG1  HXPG2A  \\\n",
       "count  2780.000000  2780.000000       0.0       0.0  ...    0.0     0.0   \n",
       "mean      2.097482     2.274820       NaN       NaN  ...    NaN     NaN   \n",
       "std       0.786395     0.961669       NaN       NaN  ...    NaN     NaN   \n",
       "min       1.000000     1.000000       NaN       NaN  ...    NaN     NaN   \n",
       "25%       1.000000     1.000000       NaN       NaN  ...    NaN     NaN   \n",
       "50%       2.000000     3.000000       NaN       NaN  ...    NaN     NaN   \n",
       "75%       3.000000     3.000000       NaN       NaN  ...    NaN     NaN   \n",
       "max       3.000000     3.000000       NaN       NaN  ...    NaN     NaN   \n",
       "\n",
       "       HXPG2B     FEV1OFVC    FEV1OFEV6     PEFROFVC    PEFROFEV6  \\\n",
       "count     0.0  2780.000000  2780.000000  2780.000000  2780.000000   \n",
       "mean      NaN     0.879639     0.882194     1.946137     1.951788   \n",
       "std       NaN     0.059748     0.058176     0.335503     0.335074   \n",
       "min       NaN     0.316216     0.413063     0.516216     0.583065   \n",
       "25%       NaN     0.843086     0.846568     1.705831     1.712801   \n",
       "50%       NaN     0.883113     0.884615     1.925133     1.929309   \n",
       "75%       NaN     0.920203     0.921689     2.153150     2.161449   \n",
       "max       NaN     1.000000     1.001080     3.312586     3.314879   \n",
       "\n",
       "         PEFROFEV1     FEV3OFVC     FEV6OFVC  \n",
       "count  2780.000000  2780.000000  2780.000000  \n",
       "mean      2.207626     0.983934     0.996959  \n",
       "std       0.318381     0.019405     0.007506  \n",
       "min       1.172145     0.581757     0.765541  \n",
       "25%       1.988659     0.975538     0.997777  \n",
       "50%       2.194626     0.988779     0.999314  \n",
       "75%       2.409219     0.999076     0.999576  \n",
       "max       3.652091     1.000000     1.000000  \n",
       "\n",
       "[8 rows x 66 columns]"
      ]
     },
     "execution_count": 273,
     "metadata": {},
     "output_type": "execute_result"
    }
   ],
   "source": [
    "youth_final.describe()"
   ]
  },
  {
   "cell_type": "markdown",
   "metadata": {},
   "source": [
    "# Created other data bases to analyze"
   ]
  },
  {
   "cell_type": "markdown",
   "metadata": {},
   "source": [
    "# adult m20overb m20overcma f18overb f18overcma"
   ]
  },
  {
   "cell_type": "markdown",
   "metadata": {},
   "source": [
    "male 20 over. female 18 over; and cma (Caucasian-Mexican American) or b (black)\n",
    "NOT NEED m20over = adult_final.query('HSAGEIR >=20 & HSSEX == 1’)\n",
    "NOT NEED f18over = adult_final.query('HSAGEIR >=18 & HSSEX == 2’)\n",
    "m20overb  = adult_final.query(('HSAGEIR >= 20 & HSSEX == 1 & DMARETHN == 2'))\n",
    "m20overcma  = adult_final.query(('HSAGEIR >=20 & HSSEX == 1 & (DMARETHN == 1 | DMARETHN ==3)'))\n",
    "f18overcma = adult_final.query(('HSAGEIR >=18 & HSSEX == 2 & (DMARETHN == 1 | DMARETHN ==3)'))\n",
    "f18overb = adult_final.query(('HSAGEIR >=18 & HSSEX == 2 & DMARETHN == 2 '))\n",
    "m20overc  = adult_final.query(('HSAGEIR >= 20 & HSSEX == 1 & DMARETHN == 1'))\n",
    "m20overma  = adult_final.query(('HSAGEIR >= 20 & HSSEX == 1 & DMARETHN == 3'))\n",
    "f18overc = adult_final.query(('HSAGEIR >=18 & HSSEX == 2 & DMARETHN == 1 '))\n",
    "f18overma = adult_final.query(('HSAGEIR >=18 & HSSEX == 2 & DMARETHN == 3 '))\n",
    "\n",
    "DMARETHN – 1 non-Hispanic white, 2 non-hispanic black, 3 Mexican American, 4 other\n"
   ]
  },
  {
   "cell_type": "code",
   "execution_count": 274,
   "metadata": {},
   "outputs": [],
   "source": [
    "m20overb  = adult_final.query(('HSAGEIR >= 20 & HSSEX == 1 & DMARETHN == 2'))\n",
    "m20overcma  = adult_final.query(('HSAGEIR >=20 & HSSEX == 1 & (DMARETHN == 1 | DMARETHN ==3)'))\n",
    "f18overcma = adult_final.query(('HSAGEIR >=18 & HSSEX == 2 & (DMARETHN == 1 | DMARETHN ==3)'))\n",
    "f18overb = adult_final.query(('HSAGEIR >=18 & HSSEX == 2 & DMARETHN == 2 '))\n",
    "m20overc  = adult_final.query(('HSAGEIR >= 20 & HSSEX == 1 & DMARETHN == 1'))\n",
    "m20overma  = adult_final.query(('HSAGEIR >= 20 & HSSEX == 1 & DMARETHN == 3'))\n",
    "f18overc = adult_final.query(('HSAGEIR >=18 & HSSEX == 2 & DMARETHN == 1 '))\n",
    "f18overma = adult_final.query(('HSAGEIR >=18 & HSSEX == 2 & DMARETHN == 3 '))"
   ]
  },
  {
   "cell_type": "code",
   "execution_count": 275,
   "metadata": {},
   "outputs": [
    {
     "data": {
      "text/html": [
       "<div>\n",
       "<style scoped>\n",
       "    .dataframe tbody tr th:only-of-type {\n",
       "        vertical-align: middle;\n",
       "    }\n",
       "\n",
       "    .dataframe tbody tr th {\n",
       "        vertical-align: top;\n",
       "    }\n",
       "\n",
       "    .dataframe thead th {\n",
       "        text-align: right;\n",
       "    }\n",
       "</style>\n",
       "<table border=\"1\" class=\"dataframe\">\n",
       "  <thead>\n",
       "    <tr style=\"text-align: right;\">\n",
       "      <th></th>\n",
       "      <th>HAR1</th>\n",
       "      <th>HAR23</th>\n",
       "      <th>HAR26</th>\n",
       "      <th>HAC1E</th>\n",
       "      <th>HAC1F</th>\n",
       "      <th>HAC1G</th>\n",
       "      <th>HAC1O</th>\n",
       "      <th>HAL6</th>\n",
       "      <th>HAL10</th>\n",
       "      <th>HAL1</th>\n",
       "      <th>...</th>\n",
       "      <th>HXPG1</th>\n",
       "      <th>HXPG2A</th>\n",
       "      <th>HXPG2B</th>\n",
       "      <th>FEV1OFVC</th>\n",
       "      <th>FEV1OFEV6</th>\n",
       "      <th>PEFROFVC</th>\n",
       "      <th>PEFROFEV6</th>\n",
       "      <th>PEFROFEV1</th>\n",
       "      <th>FEV3OFVC</th>\n",
       "      <th>FEV6OFVC</th>\n",
       "    </tr>\n",
       "  </thead>\n",
       "  <tbody>\n",
       "    <tr>\n",
       "      <th>count</th>\n",
       "      <td>939.0</td>\n",
       "      <td>939.0</td>\n",
       "      <td>939.000000</td>\n",
       "      <td>939.0</td>\n",
       "      <td>939.0</td>\n",
       "      <td>939.0</td>\n",
       "      <td>939.000000</td>\n",
       "      <td>939.0</td>\n",
       "      <td>939.000000</td>\n",
       "      <td>939.0</td>\n",
       "      <td>...</td>\n",
       "      <td>3.0</td>\n",
       "      <td>3.0</td>\n",
       "      <td>3.0</td>\n",
       "      <td>939.000000</td>\n",
       "      <td>939.000000</td>\n",
       "      <td>939.000000</td>\n",
       "      <td>939.000000</td>\n",
       "      <td>939.000000</td>\n",
       "      <td>939.000000</td>\n",
       "      <td>939.000000</td>\n",
       "    </tr>\n",
       "    <tr>\n",
       "      <th>mean</th>\n",
       "      <td>2.0</td>\n",
       "      <td>2.0</td>\n",
       "      <td>2.006390</td>\n",
       "      <td>2.0</td>\n",
       "      <td>2.0</td>\n",
       "      <td>2.0</td>\n",
       "      <td>1.978701</td>\n",
       "      <td>2.0</td>\n",
       "      <td>2.006390</td>\n",
       "      <td>2.0</td>\n",
       "      <td>...</td>\n",
       "      <td>0.0</td>\n",
       "      <td>0.0</td>\n",
       "      <td>88.0</td>\n",
       "      <td>0.839725</td>\n",
       "      <td>0.849921</td>\n",
       "      <td>2.125443</td>\n",
       "      <td>2.152457</td>\n",
       "      <td>2.530754</td>\n",
       "      <td>1.110150</td>\n",
       "      <td>1.141231</td>\n",
       "    </tr>\n",
       "    <tr>\n",
       "      <th>std</th>\n",
       "      <td>0.0</td>\n",
       "      <td>0.0</td>\n",
       "      <td>0.195803</td>\n",
       "      <td>0.0</td>\n",
       "      <td>0.0</td>\n",
       "      <td>0.0</td>\n",
       "      <td>0.144457</td>\n",
       "      <td>0.0</td>\n",
       "      <td>0.195803</td>\n",
       "      <td>0.0</td>\n",
       "      <td>...</td>\n",
       "      <td>0.0</td>\n",
       "      <td>0.0</td>\n",
       "      <td>0.0</td>\n",
       "      <td>0.071704</td>\n",
       "      <td>0.077364</td>\n",
       "      <td>0.395039</td>\n",
       "      <td>0.412343</td>\n",
       "      <td>0.422704</td>\n",
       "      <td>2.862682</td>\n",
       "      <td>2.860745</td>\n",
       "    </tr>\n",
       "    <tr>\n",
       "      <th>min</th>\n",
       "      <td>2.0</td>\n",
       "      <td>2.0</td>\n",
       "      <td>2.000000</td>\n",
       "      <td>2.0</td>\n",
       "      <td>2.0</td>\n",
       "      <td>2.0</td>\n",
       "      <td>1.000000</td>\n",
       "      <td>2.0</td>\n",
       "      <td>2.000000</td>\n",
       "      <td>2.0</td>\n",
       "      <td>...</td>\n",
       "      <td>0.0</td>\n",
       "      <td>0.0</td>\n",
       "      <td>88.0</td>\n",
       "      <td>0.539349</td>\n",
       "      <td>0.014996</td>\n",
       "      <td>0.814485</td>\n",
       "      <td>0.041007</td>\n",
       "      <td>1.252341</td>\n",
       "      <td>0.763021</td>\n",
       "      <td>0.831153</td>\n",
       "    </tr>\n",
       "    <tr>\n",
       "      <th>25%</th>\n",
       "      <td>2.0</td>\n",
       "      <td>2.0</td>\n",
       "      <td>2.000000</td>\n",
       "      <td>2.0</td>\n",
       "      <td>2.0</td>\n",
       "      <td>2.0</td>\n",
       "      <td>2.000000</td>\n",
       "      <td>2.0</td>\n",
       "      <td>2.000000</td>\n",
       "      <td>2.0</td>\n",
       "      <td>...</td>\n",
       "      <td>0.0</td>\n",
       "      <td>0.0</td>\n",
       "      <td>88.0</td>\n",
       "      <td>0.796169</td>\n",
       "      <td>0.815995</td>\n",
       "      <td>1.879737</td>\n",
       "      <td>1.907199</td>\n",
       "      <td>2.247369</td>\n",
       "      <td>0.929135</td>\n",
       "      <td>0.975539</td>\n",
       "    </tr>\n",
       "    <tr>\n",
       "      <th>50%</th>\n",
       "      <td>2.0</td>\n",
       "      <td>2.0</td>\n",
       "      <td>2.000000</td>\n",
       "      <td>2.0</td>\n",
       "      <td>2.0</td>\n",
       "      <td>2.0</td>\n",
       "      <td>2.000000</td>\n",
       "      <td>2.0</td>\n",
       "      <td>2.000000</td>\n",
       "      <td>2.0</td>\n",
       "      <td>...</td>\n",
       "      <td>0.0</td>\n",
       "      <td>0.0</td>\n",
       "      <td>88.0</td>\n",
       "      <td>0.843328</td>\n",
       "      <td>0.853991</td>\n",
       "      <td>2.122661</td>\n",
       "      <td>2.150304</td>\n",
       "      <td>2.510473</td>\n",
       "      <td>0.960784</td>\n",
       "      <td>0.994429</td>\n",
       "    </tr>\n",
       "    <tr>\n",
       "      <th>75%</th>\n",
       "      <td>2.0</td>\n",
       "      <td>2.0</td>\n",
       "      <td>2.000000</td>\n",
       "      <td>2.0</td>\n",
       "      <td>2.0</td>\n",
       "      <td>2.0</td>\n",
       "      <td>2.000000</td>\n",
       "      <td>2.0</td>\n",
       "      <td>2.000000</td>\n",
       "      <td>2.0</td>\n",
       "      <td>...</td>\n",
       "      <td>0.0</td>\n",
       "      <td>0.0</td>\n",
       "      <td>88.0</td>\n",
       "      <td>0.887516</td>\n",
       "      <td>0.891418</td>\n",
       "      <td>2.357952</td>\n",
       "      <td>2.392393</td>\n",
       "      <td>2.793436</td>\n",
       "      <td>0.988309</td>\n",
       "      <td>0.999416</td>\n",
       "    </tr>\n",
       "    <tr>\n",
       "      <th>max</th>\n",
       "      <td>2.0</td>\n",
       "      <td>2.0</td>\n",
       "      <td>8.000000</td>\n",
       "      <td>2.0</td>\n",
       "      <td>2.0</td>\n",
       "      <td>2.0</td>\n",
       "      <td>2.000000</td>\n",
       "      <td>2.0</td>\n",
       "      <td>8.000000</td>\n",
       "      <td>2.0</td>\n",
       "      <td>...</td>\n",
       "      <td>0.0</td>\n",
       "      <td>0.0</td>\n",
       "      <td>88.0</td>\n",
       "      <td>1.000000</td>\n",
       "      <td>1.000000</td>\n",
       "      <td>3.583281</td>\n",
       "      <td>3.588963</td>\n",
       "      <td>4.029915</td>\n",
       "      <td>66.682671</td>\n",
       "      <td>66.682671</td>\n",
       "    </tr>\n",
       "  </tbody>\n",
       "</table>\n",
       "<p>8 rows × 72 columns</p>\n",
       "</div>"
      ],
      "text/plain": [
       "        HAR1  HAR23       HAR26  HAC1E  HAC1F  HAC1G       HAC1O   HAL6  \\\n",
       "count  939.0  939.0  939.000000  939.0  939.0  939.0  939.000000  939.0   \n",
       "mean     2.0    2.0    2.006390    2.0    2.0    2.0    1.978701    2.0   \n",
       "std      0.0    0.0    0.195803    0.0    0.0    0.0    0.144457    0.0   \n",
       "min      2.0    2.0    2.000000    2.0    2.0    2.0    1.000000    2.0   \n",
       "25%      2.0    2.0    2.000000    2.0    2.0    2.0    2.000000    2.0   \n",
       "50%      2.0    2.0    2.000000    2.0    2.0    2.0    2.000000    2.0   \n",
       "75%      2.0    2.0    2.000000    2.0    2.0    2.0    2.000000    2.0   \n",
       "max      2.0    2.0    8.000000    2.0    2.0    2.0    2.000000    2.0   \n",
       "\n",
       "            HAL10   HAL1  ...  HXPG1  HXPG2A  HXPG2B    FEV1OFVC   FEV1OFEV6  \\\n",
       "count  939.000000  939.0  ...    3.0     3.0     3.0  939.000000  939.000000   \n",
       "mean     2.006390    2.0  ...    0.0     0.0    88.0    0.839725    0.849921   \n",
       "std      0.195803    0.0  ...    0.0     0.0     0.0    0.071704    0.077364   \n",
       "min      2.000000    2.0  ...    0.0     0.0    88.0    0.539349    0.014996   \n",
       "25%      2.000000    2.0  ...    0.0     0.0    88.0    0.796169    0.815995   \n",
       "50%      2.000000    2.0  ...    0.0     0.0    88.0    0.843328    0.853991   \n",
       "75%      2.000000    2.0  ...    0.0     0.0    88.0    0.887516    0.891418   \n",
       "max      8.000000    2.0  ...    0.0     0.0    88.0    1.000000    1.000000   \n",
       "\n",
       "         PEFROFVC   PEFROFEV6   PEFROFEV1    FEV3OFVC    FEV6OFVC  \n",
       "count  939.000000  939.000000  939.000000  939.000000  939.000000  \n",
       "mean     2.125443    2.152457    2.530754    1.110150    1.141231  \n",
       "std      0.395039    0.412343    0.422704    2.862682    2.860745  \n",
       "min      0.814485    0.041007    1.252341    0.763021    0.831153  \n",
       "25%      1.879737    1.907199    2.247369    0.929135    0.975539  \n",
       "50%      2.122661    2.150304    2.510473    0.960784    0.994429  \n",
       "75%      2.357952    2.392393    2.793436    0.988309    0.999416  \n",
       "max      3.583281    3.588963    4.029915   66.682671   66.682671  \n",
       "\n",
       "[8 rows x 72 columns]"
      ]
     },
     "execution_count": 275,
     "metadata": {},
     "output_type": "execute_result"
    }
   ],
   "source": [
    "f18overb.describe()"
   ]
  },
  {
   "cell_type": "markdown",
   "metadata": {},
   "source": [
    "## Make dataframes mlt20 and flt18 for b, c, ma and cma combining adult final and youth final"
   ]
  },
  {
   "cell_type": "markdown",
   "metadata": {},
   "source": [
    "male<20,female<18\n",
    "mlt20b = pd.concat([adult_final.query(('HSAGEIR < 20 & HSSEX == 1 & DMARETHN == 2 ')), youth_final.query(('HSSEX == 1 & DMARETHN == 2'))])\n",
    "mlt20cma = pd.concat([adult_final.query(('HSAGEIR < 20 & HSSEX == 1 & (DMARETHN == 1 | DMARETHN == 3) ')), youth_final.query(('HSSEX == 1 & (DMARETHN == 1 | DMARETHN == 3)'))])\n",
    "flt18b = pd.concat([adult_final.query(('HSAGEIR < 18 & HSSEX == 2 & DMARETHN == 2 ')), youth_final.query(('HSSEX == 2 & DMARETHN == 2'))])\n",
    "flt18cma = pd.concat([adult_final.query(('HSAGEIR < 18 & HSSEX == 2 & (DMARETHN == 1 | DMARETHN == 3) ')), youth_final.query(('HSSEX == 2 & (DMARETHN == 1 | DMARETHN == 3)'))])\n",
    "mlt20c = pd.concat([adult_final.query(('HSAGEIR < 20 & HSSEX == 1 & DMARETHN == 1 ')), youth_final.query(('HSSEX == 1 & DMARETHN == 1'))])\n",
    "mlt20ma = pd.concat([adult_final.query(('HSAGEIR < 20 & HSSEX == 1 & DMARETHN == 3 ')), youth_final.query(('HSSEX == 1 & DMARETHN == 3'))])\n",
    "flt18c = pd.concat([adult_final.query(('HSAGEIR < 18 & HSSEX == 2 & DMARETHN == 1 ')), youth_final.query(('HSSEX == 2 & DMARETHN == 1'))])\n",
    "flt18ma = pd.concat([adult_final.query(('HSAGEIR < 18 & HSSEX == 2 & DMARETHN == 3 ')), youth_final.query(('HSSEX == 2 & DMARETHN == 3'))])\n",
    "\n",
    "DMARETHN – 1 non-Hispanic white, 2 non-hispanic black, 3 Mexican American, 4 other"
   ]
  },
  {
   "cell_type": "code",
   "execution_count": 276,
   "metadata": {},
   "outputs": [],
   "source": [
    "mlt20b = pd.concat([adult_final.query(('HSAGEIR < 20 & HSSEX == 1 & DMARETHN == 2 ')), youth_final.query(('HSSEX == 1 & DMARETHN == 2'))])\n",
    "mlt20cma = pd.concat([adult_final.query(('HSAGEIR < 20 & HSSEX == 1 & (DMARETHN == 1 | DMARETHN == 3) ')), youth_final.query(('HSSEX == 1 & (DMARETHN == 1 | DMARETHN == 3)'))])\n",
    "flt18b = pd.concat([adult_final.query(('HSAGEIR < 18 & HSSEX == 2 & DMARETHN == 2 ')), youth_final.query(('HSSEX == 2 & DMARETHN == 2'))])\n",
    "flt18cma = pd.concat([adult_final.query(('HSAGEIR < 18 & HSSEX == 2 & (DMARETHN == 1 | DMARETHN == 3) ')), youth_final.query(('HSSEX == 2 & (DMARETHN == 1 | DMARETHN == 3)'))])\n",
    "mlt20c = pd.concat([adult_final.query(('HSAGEIR < 20 & HSSEX == 1 & DMARETHN == 1 ')), youth_final.query(('HSSEX == 1 & DMARETHN == 1'))])\n",
    "mlt20ma = pd.concat([adult_final.query(('HSAGEIR < 20 & HSSEX == 1 & DMARETHN == 3 ')), youth_final.query(('HSSEX == 1 & DMARETHN == 3'))])\n",
    "flt18c = pd.concat([adult_final.query(('HSAGEIR < 18 & HSSEX == 2 & DMARETHN == 1 ')), youth_final.query(('HSSEX == 2 & DMARETHN == 1'))])\n",
    "flt18ma = pd.concat([adult_final.query(('HSAGEIR < 18 & HSSEX == 2 & DMARETHN == 3 ')), youth_final.query(('HSSEX == 2 & DMARETHN == 3'))])"
   ]
  },
  {
   "cell_type": "markdown",
   "metadata": {},
   "source": [
    "# Create data bases for all male/female cma, black for ratios"
   ]
  },
  {
   "cell_type": "markdown",
   "metadata": {},
   "source": [
    "Groups for ratios\n",
    "All male cma  mallcma = pd.concat([m20overcma, mlt20cma])\n",
    "All male black  mallb = pd.concat([m20overb, mlt20b])\n",
    "All female cma  fallcma = pd.concat([f18overcma, flt18cma])\n",
    "All female black  fallb = pd.concat([f18overb, flt18b])\n",
    "All male c  mallc = pd.concat([m20overc, mlt20c])\n",
    "All male ma  mallma = pd.concat([m20overma, mlt20ma])\n",
    "All female c  fallc = pd.concat([f18overc, flt18c])\n",
    "All female ma  fallma = pd.concat([f18overma, flt18ma])"
   ]
  },
  {
   "cell_type": "code",
   "execution_count": 277,
   "metadata": {},
   "outputs": [],
   "source": [
    "mallcma = pd.concat([m20overcma, mlt20cma])\n",
    "mallb = pd.concat([m20overb, mlt20b])\n",
    "fallcma = pd.concat([f18overcma, flt18cma])\n",
    "fallb = pd.concat([f18overb, flt18b])\n",
    "mallc = pd.concat([m20overc, mlt20c])\n",
    "mallma = pd.concat([m20overma, mlt20ma])\n",
    "fallc = pd.concat([f18overc, flt18c])\n",
    "fallma = pd.concat([f18overma, flt18ma])"
   ]
  },
  {
   "cell_type": "markdown",
   "metadata": {},
   "source": [
    "## Check variable created"
   ]
  },
  {
   "cell_type": "code",
   "execution_count": 278,
   "metadata": {},
   "outputs": [
    {
     "data": {
      "text/plain": [
       "<matplotlib.axes._subplots.AxesSubplot at 0x15fcb5390>"
      ]
     },
     "execution_count": 278,
     "metadata": {},
     "output_type": "execute_result"
    },
    {
     "data": {
      "image/png": "[encoded data removed]",
      "text/plain": [
       "<Figure size 432x288 with 1 Axes>"
      ]
     },
     "metadata": {
      "needs_background": "light"
     },
     "output_type": "display_data"
    }
   ],
   "source": [
    "flt18b.SPPFEV1.hist(bins='auto')"
   ]
  },
  {
   "cell_type": "code",
   "execution_count": 279,
   "metadata": {},
   "outputs": [
    {
     "data": {
      "text/plain": [
       "<matplotlib.axes._subplots.AxesSubplot at 0x15f0f6d50>"
      ]
     },
     "execution_count": 279,
     "metadata": {},
     "output_type": "execute_result"
    },
    {
     "data": {
      "image/png": "[encoded data removed]",
      "text/plain": [
       "<Figure size 432x288 with 1 Axes>"
      ]
     },
     "metadata": {
      "needs_background": "light"
     },
     "output_type": "display_data"
    }
   ],
   "source": [
    "flt18b.PEFROFVC.hist(bins='auto', range=(0,5))"
   ]
  },
  {
   "cell_type": "code",
   "execution_count": 280,
   "metadata": {},
   "outputs": [
    {
     "data": {
      "text/plain": [
       "<matplotlib.axes._subplots.AxesSubplot at 0x1550522d0>"
      ]
     },
     "execution_count": 280,
     "metadata": {},
     "output_type": "execute_result"
    },
    {
     "data": {
      "image/png": "[encoded data removed]",
      "text/plain": [
       "<Figure size 432x288 with 1 Axes>"
      ]
     },
     "metadata": {
      "needs_background": "light"
     },
     "output_type": "display_data"
    }
   ],
   "source": [
    "flt18b.HSAITMOR.hist(bins='auto', range=(0,300))"
   ]
  },
  {
   "cell_type": "code",
   "execution_count": 281,
   "metadata": {},
   "outputs": [
    {
     "data": {
      "text/plain": [
       "<matplotlib.axes._subplots.AxesSubplot at 0x127d46610>"
      ]
     },
     "execution_count": 281,
     "metadata": {},
     "output_type": "execute_result"
    },
    {
     "data": {
      "image/png": "[encoded data removed]",
      "text/plain": [
       "<Figure size 432x288 with 1 Axes>"
      ]
     },
     "metadata": {
      "needs_background": "light"
     },
     "output_type": "display_data"
    }
   ],
   "source": [
    "flt18b.BMPHT.hist(bins='auto', range=(0,300))"
   ]
  },
  {
   "cell_type": "markdown",
   "metadata": {},
   "source": [
    "## Frames to Analyze"
   ]
  },
  {
   "cell_type": "markdown",
   "metadata": {},
   "source": [
    "framestoanalyze = [m20overb, m20overcma, m20overc, m20overma, f18overb, f18overcma, f18overc, f18overma, \n",
    "                   mlt20b, mlt20cma, mlt20c, mlt20ma, flt18b, flt18cma, flt18c, flt18ma, \n",
    "                   mallcma, mallb, mallc, mallma, fallcma, fallb, fallc, fallma]"
   ]
  },
  {
   "cell_type": "code",
   "execution_count": 282,
   "metadata": {},
   "outputs": [],
   "source": [
    "framestoanalyze = [m20overb, m20overcma, m20overc, m20overma, f18overb, f18overcma, f18overc, f18overma, \n",
    "                   mlt20b, mlt20cma, mlt20c, mlt20ma, flt18b, flt18cma, flt18c, flt18ma, \n",
    "                   mallcma, mallb, mallc, mallma, fallcma, fallb, fallc, fallma]"
   ]
  },
  {
   "cell_type": "markdown",
   "metadata": {},
   "source": [
    "HAD BEEN. framestoanalyze = [m20overb, m20overcma, f18overb, f18overcma, mlt20b, mlt20cma, flt18b, flt18cma, mallcma, mallb, fallcma, fallb]\n"
   ]
  },
  {
   "cell_type": "markdown",
   "metadata": {},
   "source": [
    "# framesto analyze names"
   ]
  },
  {
   "cell_type": "markdown",
   "metadata": {},
   "source": [
    "m20overb.name = 'm20overb'\n",
    "m20overcma.name = 'm20overcma'\n",
    "f18overb.name = 'f18overb'\n",
    "f18overcma.name = 'f18overcma'\n",
    "mlt20b.name = 'mlt20b'\n",
    "mlt20cma.name = 'mlt20cma'\n",
    "flt18b.name = 'flt18b'\n",
    "flt18cma.name = 'flt18cma'\n",
    "mallcma.name = 'mallcma'\n",
    "mallb.name = 'mallb'\n",
    "fallcma.name = 'fallcma'\n",
    "fallb.name = 'fallb'\n",
    "m20overc.name = 'm20overc'\n",
    "m20overma.name = 'm20ovecma'\n",
    "f18overc.name = 'f18overc'\n",
    "f18overma.name = 'f18overma'\n",
    "mlt20c.name = 'mlt20c'\n",
    "mlt20ma.name = 'mlt20ma'\n",
    "flt18c.name = 'flt18c'\n",
    "flt18ma.name = 'flt18ma'\n",
    "mallma.name = 'mallma'\n",
    "mallc.name = 'mallc'\n",
    "fallma.name = 'fallma'\n",
    "fallc.name = 'fallc'"
   ]
  },
  {
   "cell_type": "code",
   "execution_count": 283,
   "metadata": {},
   "outputs": [],
   "source": [
    "m20overb.name = 'm20overb'\n",
    "m20overcma.name = 'm20overcma'\n",
    "f18overb.name = 'f18overb'\n",
    "f18overcma.name = 'f18overcma'\n",
    "mlt20b.name = 'mlt20b'\n",
    "mlt20cma.name = 'mlt20cma'\n",
    "flt18b.name = 'flt18b'\n",
    "flt18cma.name = 'flt18cma'\n",
    "mallcma.name = 'mallcma'\n",
    "mallb.name = 'mallb'\n",
    "fallcma.name = 'fallcma'\n",
    "fallb.name = 'fallb'\n",
    "m20overc.name = 'm20overc'\n",
    "m20overma.name = 'm20ovecma'\n",
    "f18overc.name = 'f18overc'\n",
    "f18overma.name = 'f18overma'\n",
    "mlt20c.name = 'mlt20c'\n",
    "mlt20ma.name = 'mlt20ma'\n",
    "flt18c.name = 'flt18c'\n",
    "flt18ma.name = 'flt18ma'\n",
    "mallma.name = 'mallma'\n",
    "mallc.name = 'mallc'\n",
    "fallma.name = 'fallma'\n",
    "fallc.name = 'fallc'"
   ]
  },
  {
   "cell_type": "markdown",
   "metadata": {},
   "source": [
    "## Variables non-ratio"
   ]
  },
  {
   "cell_type": "markdown",
   "metadata": {},
   "source": [
    "varsnonratio = [ 'SPPFEV1', 'SPPFEV3', 'SPPFEV6', 'SPPFVC','SPPPEAK','SPPMMEF', 'SPPFEF75', 'SPPEXPIR']"
   ]
  },
  {
   "cell_type": "code",
   "execution_count": 284,
   "metadata": {},
   "outputs": [],
   "source": [
    "varsnonratio = [ 'SPPFEV1', 'SPPFEV3', 'SPPFEV6', 'SPPFVC','SPPPEAK','SPPMMEF', 'SPPFEF75', 'SPPEXPIR']"
   ]
  },
  {
   "cell_type": "code",
   "execution_count": 285,
   "metadata": {},
   "outputs": [
    {
     "name": "stdout",
     "output_type": "stream",
     "text": [
      "SPPFEV1\n"
     ]
    }
   ],
   "source": [
    "print (varsnonratio[0])"
   ]
  },
  {
   "cell_type": "markdown",
   "metadata": {},
   "source": [
    "## Variables ratio"
   ]
  },
  {
   "cell_type": "markdown",
   "metadata": {},
   "source": [
    "varsratio = ['FEV1OFVC', 'FEV1OFEV6', 'PEFROFVC', 'PEFROFEV6', 'PEFROFEV1', 'FEV3OFVC', 'FEV6OFVC']"
   ]
  },
  {
   "cell_type": "code",
   "execution_count": 286,
   "metadata": {},
   "outputs": [],
   "source": [
    "varsratio= ['FEV1OFVC', 'FEV1OFEV6', 'PEFROFVC', 'PEFROFEV6', 'PEFROFEV1', 'FEV3OFVC', 'FEV6OFVC']"
   ]
  },
  {
   "cell_type": "markdown",
   "metadata": {},
   "source": [
    "## Now fit curves"
   ]
  },
  {
   "cell_type": "markdown",
   "metadata": {},
   "source": [
    "using example in lmfit.github.io/lmfit-py/model.html"
   ]
  },
  {
   "cell_type": "markdown",
   "metadata": {},
   "source": [
    "import matplotlib.pyplot as plt"
   ]
  },
  {
   "cell_type": "code",
   "execution_count": 287,
   "metadata": {},
   "outputs": [],
   "source": [
    "import matplotlib.pyplot as plt"
   ]
  },
  {
   "cell_type": "markdown",
   "metadata": {},
   "source": [
    "## from sklearn.linear_model import LinearRegression"
   ]
  },
  {
   "cell_type": "code",
   "execution_count": 288,
   "metadata": {},
   "outputs": [],
   "source": [
    "from sklearn.linear_model import LinearRegression"
   ]
  },
  {
   "cell_type": "markdown",
   "metadata": {},
   "source": [
    "# Linear Regression Age  linear_regage (data, y_var)"
   ]
  },
  {
   "cell_type": "markdown",
   "metadata": {},
   "source": [
    "  #  height = 'BMPHT'\n",
    "# age = 'HSAGEIR'/12 - or age in months/12\n",
    "def linear_regage(data, y_var):\n",
    "    X = data['HSAITMOR']/12  # to convert to year\n",
    "    X = np.array(X).reshape(-1, 1)\n",
    "    y = data[y_var]\n",
    "    lr = LinearRegression().fit(X, y)\n",
    "        # do linear regression fit on X, y\n",
    "    print(data.name, \", \",y_var, \", \",lr.intercept_, \", \", lr.coef_, \", \", lr.score(X, y), \", \", data.loc[:,y_var].std(), \", \", data.loc[:,y_var].count())\n",
    "    return lr.intercept_, lr.coef_\n",
    "    #. prints intercept, slope, and r squared\n",
    "   # print (lr.std_)\n",
    "   # return lr\n",
    "\n",
    "# reg.coef_"
   ]
  },
  {
   "cell_type": "markdown",
   "metadata": {},
   "source": [
    "# age = 'HSAGEIR'/12 - or age in months/12\n",
    "def linear_regage(data, y_var):\n",
    "    X = data['HSAITMOR_exam']/12  # to convert to year do months at exam\n",
    "    X = np.array(X).reshape(-1, 1)\n",
    "    y = data[y_var]\n",
    "    lr = LinearRegression().fit(X, y)\n",
    "        # do linear regression fit on X, y\n",
    " #   print(data.name, \", \",y_var, \", \",lr.intercept_, \", \", lr.coef_, \", \", lr.score(X, y), \", \", data.loc[:,y_var].std(), \", \", data.loc[:,y_var].count())\n",
    " # now returns values rather than print - intercept, slope, R2, std, count\n",
    "    return lr.intercept_, lr.coef_, lr.score(X, y),  data.loc[:,y_var].std(), data.loc[:,y_var].count()"
   ]
  },
  {
   "cell_type": "code",
   "execution_count": 289,
   "metadata": {},
   "outputs": [],
   "source": [
    "# age = 'HSAGEIR'/12 - or age in months/12\n",
    "def linear_regage(data, y_var):\n",
    "    X = data['HSAITMOR_exam']/12  # to convert to year do months at exam\n",
    "    X = np.array(X).reshape(-1, 1)\n",
    "    y = data[y_var]\n",
    "    lr = LinearRegression().fit(X, y)\n",
    "        # do linear regression fit on X, y\n",
    " #   print(data.name, \", \",y_var, \", \",lr.intercept_, \", \", lr.coef_, \", \", lr.score(X, y), \", \", data.loc[:,y_var].std(), \", \", data.loc[:,y_var].count())\n",
    " # now returns values rather than print - intercept, slope, R2, std, count\n",
    "    return lr.intercept_, lr.coef_, lr.score(X, y),  data.loc[:,y_var].std(), data.loc[:,y_var].count()"
   ]
  },
  {
   "cell_type": "code",
   "execution_count": 290,
   "metadata": {},
   "outputs": [
    {
     "name": "stdout",
     "output_type": "stream",
     "text": [
      "FEV1OFVC\n",
      "FEV1OFEV6\n",
      "PEFROFVC\n",
      "PEFROFEV6\n",
      "PEFROFEV1\n",
      "FEV3OFVC\n",
      "FEV6OFVC\n"
     ]
    }
   ],
   "source": [
    "for x in varsratio:\n",
    "    print (x)"
   ]
  },
  {
   "cell_type": "markdown",
   "metadata": {},
   "source": [
    "## For all frames, for all ratios to analyze, do regression vs age & save in resultsratio"
   ]
  },
  {
   "cell_type": "markdown",
   "metadata": {},
   "source": [
    "print ('Linear Regression of variables in form y = intercept + slope * age')\n",
    "print ('dataframe ,  variable,        intercept,          slope,            R squared,         standard deviation')\n",
    "for y in framestoanalyze:\n",
    "Save results in dataframe resultsratio"
   ]
  },
  {
   "cell_type": "markdown",
   "metadata": {},
   "source": [
    "# First initialize resultsratio dataframe\n",
    "column_names = [\"dfnvarn\",\"dfname\", \"var\", \"intercept\", \"slope\", \"r2\", \"std\", \"count\"]\n",
    "# print (column_names)\n",
    "resultsratio = pd.DataFrame(columns = column_names)\n",
    "resultsratio.name = 'resultsratio'\n",
    "print (resultsratio)\n",
    "print ('Linear Regression of variables in form y = intercept + slope * age')\n",
    "print ('dataframe ,  variable,        intercept,          slope,            R squared,         standard deviation,  count')\n",
    "for y in framestoanalyze:\n",
    "  #  print (y.name)\n",
    "    for xx in varsratio:\n",
    " #       print(y, \" \", xx)\n",
    "        reg = linear_regage (y,xx)\n",
    "        intercept, slope, r2, std, count = reg\n",
    "        slope, = slope\n",
    "        dfnvarn = y.name + xx\n",
    "        print (dfnvarn, ' ', y.name, ', ', xx, ', ', intercept, ', ', slope, ', ', r2, ', ', std, ', ',count)\n",
    "    #   now need save these in array of dataframe.variable, intercept slope\n",
    "        var = y.name\n",
    "    \n",
    "#  Columns: [dfnvarn, dfname, var, intercept, slope, r2, std, count] \n",
    "\n",
    "        df2 = {'dfnvarn': dfnvarn, 'dfname': y.name, 'var': xx, 'intercept': intercept, 'slope':slope, 'r2':r2, 'std':std, 'count':count}                          \n",
    "        resultsratio = resultsratio.append(df2, ignore_index=True)    \n",
    "print ('at end')\n",
    "resultsratio.set_index('dfnvarn', inplace=True)\n",
    "print (resultsratio)\n",
    "    \n",
    "    \n",
    "    \n",
    "    "
   ]
  },
  {
   "cell_type": "code",
   "execution_count": 291,
   "metadata": {},
   "outputs": [
    {
     "name": "stdout",
     "output_type": "stream",
     "text": [
      "Empty DataFrame\n",
      "Columns: [dfnvarn, dfname, var, intercept, slope, r2, std, count]\n",
      "Index: []\n",
      "Linear Regression of variables in form y = intercept + slope * age\n",
      "dfnvarn, dataframe,  variable,        intercept,          slope,            R squared,         standard deviation,  count\n",
      "m20overbFEV1OFVC , m20overb , FEV1OFVC , 0.8384926730812566 , -0.0003644199385894481 , 0.04056653728576409 , 0.07090583571752003 , 476\n",
      "m20overbFEV1OFEV6 , m20overb , FEV1OFEV6 , 0.8481609905759127 , -0.00029532642740867296 , 0.025117574365871143 , 0.07302596120014355 , 476\n",
      "m20overbPEFROFVC , m20overb , PEFROFVC , 2.1472901334155883 , -0.0006399211331422986 , 0.004285345694638121 , 0.38308693482507716 , 476\n",
      "m20overbPEFROFEV6 , m20overb , PEFROFEV6 , 2.1718098122396405 , -0.0004693335887228772 , 0.002185788308922576 , 0.3934063863571796 , 476\n",
      "m20overbPEFROFEV1 , m20overb , PEFROFEV1 , 2.5563825206669613 , 0.0003088319181968988 , 0.0009932320460798172 , 0.3840260063657779 , 476\n",
      "m20overbFEV3OFVC , m20overb , FEV3OFVC , 0.9932580799944386 , 0.00022083065088839582 , 5.6784135874954345e-05 , 1.1484435702427473 , 476\n",
      "m20overbFEV6OFVC , m20overb , FEV6OFVC , 1.019699382076469 , 0.00041029267332355537 , 0.0001967056833916958 , 1.1464341818194892 , 476\n",
      "m20overcmaFEV1OFVC , m20overcma , FEV1OFVC , 0.89091211689805 , -0.0021262242614751817 , 0.2687034110390689 , 0.06798855207506793 , 1089\n",
      "m20overcmaFEV1OFEV6 , m20overcma , FEV1OFEV6 , 0.8863635258874322 , -0.0016054700480132398 , 0.14445659068130545 , 0.07001592647658152 , 1089\n",
      "m20overcmaPEFROFVC , m20overcma , PEFROFVC , 1.8778765164311533 , 0.001562551282614181 , 0.006226019066044142 , 0.3282406539750895 , 1089\n",
      "m20overcmaPEFROFEV6 , m20overcma , PEFROFEV6 , 1.8670437296491778 , 0.0028142586797159225 , 0.01879720000538221 , 0.34023637741021173 , 1089\n",
      "m20overcmaPEFROFEV1 , m20overcma , PEFROFEV1 , 2.0717587764440304 , 0.00843351881313549 , 0.14973117771318956 , 0.36125678322190646 , 1089\n",
      "m20overcmaFEV3OFVC , m20overcma , FEV3OFVC , 0.7397273408159524 , 0.0069585558581314304 , 0.005536814988453154 , 1.5500739742177418 , 1089\n",
      "m20overcmaFEV6OFVC , m20overcma , FEV6OFVC , 0.7434366848953833 , 0.007811767873488622 , 0.0069979737922298835 , 1.5478415000137302 , 1089\n",
      "m20overcFEV1OFVC , m20overc , FEV1OFVC , 0.8760742638678942 , -0.0020010620272160815 , 0.27371723113214463 , 0.06843176537570306 , 497\n",
      "m20overcFEV1OFEV6 , m20overc , FEV1OFEV6 , 0.8706999321403579 , -0.0014608639511425978 , 0.12429673626952253 , 0.07413583304426484 , 497\n",
      "m20overcPEFROFVC , m20overc , PEFROFVC , 1.8268502539264921 , 0.0016784261004032103 , 0.010399593191598444 , 0.2944708507898861 , 497\n",
      "m20overcPEFROFEV6 , m20overc , PEFROFEV6 , 1.8079886532904421 , 0.003161069424146648 , 0.030631104606258064 , 0.32314762398398533 , 497\n",
      "m20overcPEFROFEV1 , m20overc , PEFROFEV1 , 2.045398270138765 , 0.008397972470628972 , 0.20344087281810785 , 0.33312222121311075 , 497\n",
      "m20overcFEV3OFVC , m20overc , FEV3OFVC , 0.7775805833906189 , 0.005246010082136669 , 0.005744894102476471 , 1.238329928666484 , 497\n",
      "m20overcFEV6OFVC , m20overc , FEV6OFVC , 0.7817952424364156 , 0.006106907885726908 , 0.007826322422863186 , 1.235067699094896 , 497\n",
      "m20ovecmaFEV1OFVC , m20ovecma , FEV1OFVC , 0.8933072910228054 , -0.0019740036284473295 , 0.1991472936173 , 0.06345874102892102 , 592\n",
      "m20ovecmaFEV1OFEV6 , m20ovecma , FEV1OFEV6 , 0.8896764279690836 , -0.0014796397636475875 , 0.11293778883780092 , 0.06316362743629705 , 592\n",
      "m20ovecmaPEFROFVC , m20ovecma , PEFROFVC , 1.8663398521126822 , 0.00296479359190686 , 0.014679972640819881 , 0.3510448044637167 , 592\n",
      "m20ovecmaPEFROFEV6 , m20ovecma , PEFROFEV6 , 1.8670629922587458 , 0.003842901389742816 , 0.024516438297131682 , 0.3520961380476512 , 592\n",
      "m20ovecmaPEFROFEV1 , m20ovecma , PEFROFEV1 , 2.059801219259735 , 0.009424471676802828 , 0.12438104153164486 , 0.3833633827833852 , 592\n",
      "m20ovecmaFEV3OFVC , m20ovecma , FEV3OFVC , 0.6460335784311196 , 0.010462573578882637 , 0.007183308125792376 , 1.7709528021221563 , 592\n",
      "m20ovecmaFEV6OFVC , m20ovecma , FEV6OFVC , 0.6504124586759894 , 0.011277221200029436 , 0.008361227477799327 , 1.7692849736347092 , 592\n",
      "f18overbFEV1OFVC , f18overb , FEV1OFVC , 0.9228578256349788 , -0.002241486474381289 , 0.24648296915032555 , 0.07170428570500355 , 939\n",
      "f18overbFEV1OFEV6 , f18overb , FEV1OFEV6 , 0.9165215653452593 , -0.0017957184244304857 , 0.13589583707139574 , 0.07736376762659666 , 939\n",
      "f18overbPEFROFVC , f18overb , PEFROFVC , 2.130004227388414 , -0.00012298122200089982 , 2.4445648816651122e-05 , 0.3950394515011333 , 939\n",
      "f18overbPEFROFEV6 , f18overb , PEFROFEV6 , 2.1094599467254618 , 0.0011593077411754063 , 0.001993820805425983 , 0.4123425228822854 , 939\n",
      "f18overbPEFROFEV1 , f18overb , PEFROFEV1 , 2.2863010524016145 , 0.006591102771150889 , 0.06132647776761435 , 0.42270416014776574 , 939\n",
      "f18overbFEV3OFVC , f18overb , FEV3OFVC , 0.9490106061397698 , 0.004344756738907793 , 0.0005810179867166143 , 2.862682127779562 , 939\n",
      "f18overbFEV6OFVC , f18overb , FEV6OFVC , 0.9462577555477322 , 0.005257011802413351 , 0.0008517745196163773 , 2.8607445526616773 , 939\n",
      "f18overcmaFEV1OFVC , f18overcma , FEV1OFVC , 0.9161854622952079 , -0.002216914957689294 , 0.30421385864457906 , 0.0725325059580877 , 2013\n",
      "f18overcmaFEV1OFEV6 , f18overcma , FEV1OFEV6 , 0.9119155252870339 , -0.001877716226118043 , 0.13474222060045904 , 0.09231053225966514 , 2013\n",
      "f18overcmaPEFROFVC , f18overcma , PEFROFVC , 1.8286455548343654 , 0.0016304575547191023 , 0.007105746295581361 , 0.349042085488063 , 2013\n",
      "f18overcmaPEFROFEV6 , f18overcma , PEFROFEV6 , 1.8156784582842915 , 0.0025434985987476655 , 0.014182854647111887 , 0.3854098615049353 , 2013\n",
      "f18overcmaPEFROFEV1 , f18overcma , PEFROFEV1 , 1.9571985633832507 , 0.00834746871810819 , 0.14396108137598185 , 0.39701361106470445 , 2013\n",
      "f18overcmaFEV3OFVC , f18overcma , FEV3OFVC , 0.48162755951366765 , 0.016844247119081054 , 0.009310348307748462 , 3.150226540241477 , 2013\n",
      "f18overcmaFEV6OFVC , f18overcma , FEV6OFVC , 0.47901145241150767 , 0.01771406172268507 , 0.01031727252005632 , 3.147087722086345 , 2013\n",
      "f18overcFEV1OFVC , f18overc , FEV1OFVC , 0.9057284913630307 , -0.002076297052839094 , 0.2782881442754527 , 0.07316708099962012 , 1012\n",
      "f18overcFEV1OFEV6 , f18overc , FEV1OFEV6 , 0.9042769942369535 , -0.001803191305864913 , 0.12204900426288044 , 0.09595072896319953 , 1012\n",
      "f18overcPEFROFVC , f18overc , PEFROFVC , 1.789122230705233 , 0.0022032586219794363 , 0.014651749985945761 , 0.338371925489216 , 1012\n",
      "f18overcPEFROFEV6 , f18overc , PEFROFEV6 , 1.7863895352981385 , 0.0028516271222186556 , 0.019490270651823183 , 0.3797146871898265 , 1012\n",
      "f18overcPEFROFEV1 , f18overc , PEFROFEV1 , 1.9315150841871644 , 0.008838183203523196 , 0.17417572182645458 , 0.39367948529033575 , 1012\n",
      "f18overcFEV3OFVC , f18overc , FEV3OFVC , 0.35024254871231053 , 0.018714805311790064 , 0.010068474815428274 , 3.4671853870670883 , 1012\n",
      "f18overcFEV6OFVC , f18overc , FEV6OFVC , 0.3462583916619233 , 0.019607346283706126 , 0.011076078422694646 , 3.4633740771803643 , 1012\n",
      "f18overmaFEV1OFVC , f18overma , FEV1OFVC , 0.9214647158632062 , -0.0022583946677149037 , 0.27222731441110715 , 0.06859202208047795 , 1001\n",
      "f18overmaFEV1OFEV6 , f18overma , FEV1OFEV6 , 0.9134992413175506 , -0.0018116118329270792 , 0.11061482662769884 , 0.0863173488248776 , 1001\n",
      "f18overmaPEFROFVC , f18overma , PEFROFVC , 1.8519299085981622 , 0.0013323887554402745 , 0.0034466341656871347 , 0.3596441331618007 , 1001\n",
      "f18overmaPEFROFEV6 , f18overma , PEFROFEV6 , 1.8235544913467392 , 0.002720463899529754 , 0.01213985700501341 , 0.3912693214810567 , 1001\n",
      "f18overmaPEFROFEV1 , f18overma , PEFROFEV1 , 1.9818811034965327 , 0.007748597567815674 , 0.09604974739354111 , 0.3962001248099868 , 1001\n",
      "f18overmaFEV3OFVC , f18overma , FEV3OFVC , 0.5563242290211501 , 0.01596818689476157 , 0.008199664534468187 , 2.7944553848668394 , 1001\n",
      "f18overmaFEV6OFVC , f18overma , FEV6OFVC , 0.5547478186536164 , 0.01681776914575542 , 0.00911161376153291 , 2.7919674539989536 , 1001\n",
      "mlt20bFEV1OFVC , mlt20b , FEV1OFVC , 0.8687623016820432 , 4.971258313318962e-05 , 7.2014577486845255e-06 , 0.06291928172165974 , 600\n",
      "mlt20bFEV1OFEV6 , mlt20b , FEV1OFEV6 , 0.8724972137857899 , -1.2767621406734912e-06 , 4.984725743284457e-09 , 0.0614210154583172 , 600\n",
      "mlt20bPEFROFVC , mlt20b , PEFROFVC , 2.0255316427082266 , 0.002168589794345276 , 0.0004878271310664317 , 0.333481747618603 , 600\n",
      "mlt20bPEFROFEV6 , mlt20b , PEFROFEV6 , 2.034016668694956 , 0.002067314834312332 , 0.0004466487150457388 , 0.3322394589920268 , 600\n",
      "mlt20bPEFROFEV1 , mlt20b , PEFROFEV1 , 2.328253127260287 , 0.002160308504709465 , 0.0006022719438979474 , 0.29898341180786864 , 600\n",
      "mlt20bFEV3OFVC , mlt20b , FEV3OFVC , 0.9720116905663436 , 0.0006108878301545165 , 0.010831772860128486 , 0.019936060162432722 , 600\n",
      "mlt20bFEV6OFVC , mlt20b , FEV6OFVC , 0.9956512836613846 , 5.388503026131742e-05 , 0.0008704285013426682 , 0.006203391832344121 , 600\n",
      "mlt20cmaFEV1OFVC , mlt20cma , FEV1OFVC , 0.8726323132105016 , -0.0004821614146517024 , 0.0007931847917200808 , 0.05633455662671571 , 1024\n",
      "mlt20cmaFEV1OFEV6 , mlt20cma , FEV1OFEV6 , 0.8770593740952689 , -0.0006257093703296 , 0.001390388208712512 , 0.05521718191116906 , 1024\n",
      "mlt20cmaPEFROFVC , mlt20cma , PEFROFVC , 1.8246515955802356 , 0.0004130444937858007 , 2.2391688831668866e-05 , 0.2872255231515551 , 1024\n",
      "mlt20cmaPEFROFEV6 , mlt20cma , PEFROFEV6 , 1.8340601179317444 , 0.00011097495120069823 , 1.614079754741482e-06 , 0.28742999335744523 , 1024\n",
      "mlt20cmaPEFROFEV1 , mlt20cma , PEFROFEV1 , 2.089362609203952 , 0.0015018067783108752 , 0.000324173590746879 , 0.2744699869181587 , 1024\n",
      "mlt20cmaFEV3OFVC , mlt20cma , FEV3OFVC , 0.9740219906718287 , 0.0006778704167952435 , 0.016727667259391343 , 0.017246406084837313 , 1024\n",
      "mlt20cmaFEV6OFVC , mlt20cma , FEV6OFVC , 0.9947952712295028 , 0.00016749892189604776 , 0.008696400552658412 , 0.005910331846095635 , 1024\n",
      "mlt20cFEV1OFVC , mlt20c , FEV1OFVC , 0.8611028825526887 , -0.0003490674028357903 , 0.0004035451780727284 , 0.057023199080263806 , 420\n",
      "mlt20cFEV1OFEV6 , mlt20c , FEV1OFEV6 , 0.8664108902194216 , -0.0005731569179555411 , 0.0011299589180781 , 0.05595392755500649 , 420\n",
      "mlt20cPEFROFVC , mlt20c , PEFROFVC , 1.8635069641164812 , -0.0041278515210657315 , 0.002400214247827326 , 0.27649509235976966 , 420\n",
      "mlt20cPEFROFEV6 , mlt20c , PEFROFEV6 , 1.8747928657141812 , -0.004608768790299193 , 0.0030049648215533242 , 0.2759012002478997 , 420\n",
      "mlt20cPEFROFEV1 , mlt20c , PEFROFEV1 , 2.16747150435007 , -0.004508594328513991 , 0.0033153686115878767 , 0.25695887030465664 , 420\n",
      "mlt20cFEV3OFVC , mlt20c , FEV3OFVC , 0.9685418350321909 , 0.0010549337437088851 , 0.04052851278653691 , 0.017196228807040526 , 420\n",
      "mlt20cFEV6OFVC , mlt20c , FEV6OFVC , 0.9937260230573418 , 0.000262583945560564 , 0.01791532927976136 , 0.006437898671922902 , 420\n",
      "mlt20maFEV1OFVC , mlt20ma , FEV1OFVC , 0.8828196274529359 , -0.0007391802685137017 , 0.001969555999685957 , 0.05488418108907932 , 604\n",
      "mlt20maFEV1OFEV6 , mlt20ma , FEV1OFEV6 , 0.8866586094936407 , -0.0008297258010798256 , 0.002593968708742067 , 0.05368256004928897 , 604\n",
      "mlt20maPEFROFVC , mlt20ma , PEFROFVC , 1.8013869342655686 , 0.0032194455035991377 , 0.0013025940649860068 , 0.2939392085377034 , 604\n",
      "mlt20maPEFROFEV6 , mlt20ma , PEFROFEV6 , 1.8095616950108242 , 0.0030337455580548523 , 0.0011511872727613115 , 0.2946369116328022 , 604\n",
      "mlt20maPEFROFEV1 , mlt20ma , PEFROFEV1 , 2.034162574120536 , 0.00566513266227298 , 0.0042537539178353345 , 0.2862232397674757 , 604\n",
      "mlt20maFEV3OFVC , mlt20ma , FEV3OFVC , 0.9780155482864333 , 0.0004069286425694199 , 0.006024722067924371 , 0.017275504586250434 , 604\n",
      "mlt20maFEV6OFVC , mlt20ma , FEV6OFVC , 0.9955162781547265 , 0.00010443420506880856 , 0.0038896937663469577 , 0.005517801206455595 , 604\n",
      "flt18bFEV1OFVC , flt18b , FEV1OFVC , 0.8514498012021902 , 0.003008750719054612 , 0.015002122166680842 , 0.06966973408999518 , 596\n",
      "flt18bFEV1OFEV6 , flt18b , FEV1OFEV6 , 0.857545058531358 , 0.0027318578190219747 , 0.013501990250406215 , 0.06667967773955054 , 596\n",
      "flt18bPEFROFVC , flt18b , PEFROFVC , 2.1538321176398387 , -0.0035342706727859072 , 0.0007191857809317748 , 0.37377784478506704 , 596\n",
      "flt18bPEFROFEV6 , flt18b , PEFROFEV6 , 2.1670655735248254 , -0.004112315483139913 , 0.0009863107828734785 , 0.37137599560477513 , 596\n",
      "flt18bPEFROFEV1 , flt18b , PEFROFEV1 , 2.4999898310124924 , -0.010809015225374724 , 0.008321221442077364 , 0.3360677849966151 , 596\n",
      "flt18bFEV3OFVC , flt18b , FEV3OFVC , 0.9673401758373315 , 0.0013715709726366595 , 0.023915676273657427 , 0.025154242707134494 , 596\n",
      "flt18bFEV6OFVC , flt18b , FEV6OFVC , 0.9911047320898264 , 0.00044475132081497724 , 0.010914810787914897 , 0.0120737849306309 , 596\n",
      "flt18cmaFEV1OFVC , flt18cma , FEV1OFVC , 0.8897564501768981 , 0.00018494735182490092 , 9.609489697059993e-05 , 0.05308911682558856 , 968\n",
      "flt18cmaFEV1OFEV6 , flt18cma , FEV1OFEV6 , 0.8927995628958538 , 0.00010856469414502374 , 3.422467484126557e-05 , 0.052218752688858526 , 968\n",
      "flt18cmaPEFROFVC , flt18cma , PEFROFVC , 2.0624318984079193 , -0.012794852090103904 , 0.014013080852834814 , 0.30414172301641484 , 968\n",
      "flt18cmaPEFROFEV6 , flt18cma , PEFROFEV6 , 2.069570989572507 , -0.013003536039696385 , 0.014435593459303231 , 0.30454515196584725 , 968\n",
      "flt18cmaPEFROFEV1 , flt18cma , PEFROFEV1 , 2.3123155364924073 , -0.014655419743683562 , 0.019982374265958613 , 0.29173078669401153 , 968\n",
      "flt18cmaFEV3OFVC , flt18cma , FEV3OFVC , 0.9791242956962889 , 0.0006919100399248309 , 0.016112948804754557 , 0.0153380328987548 , 968\n",
      "flt18cmaFEV6OFVC , flt18cma , FEV6OFVC , 0.9966997455234088 , 7.205063400087149e-05 , 0.0019349264498482732 , 0.004609068069969398 , 968\n",
      "flt18cFEV1OFVC , flt18c , FEV1OFVC , 0.8791354171391389 , 0.0003825945983036618 , 0.0003870267942717165 , 0.0547219493877778 , 410\n",
      "flt18cFEV1OFEV6 , flt18c , FEV1OFEV6 , 0.8821753057538961 , 0.00030708454069910637 , 0.00025703775699914555 , 0.05389552845626428 , 410\n",
      "flt18cPEFROFVC , flt18c , PEFROFVC , 1.9776585039619914 , -0.008723070925478364 , 0.007886620169458403 , 0.27638672730252 , 410\n",
      "flt18cPEFROFEV6 , flt18c , PEFROFEV6 , 1.9845823411578656 , -0.008917593108863113 , 0.008230627127430723 , 0.2765823301935484 , 410\n",
      "flt18cPEFROFEV1 , flt18c , PEFROFEV1 , 2.2429773048145023 , -0.01059054879936742 , 0.01348324942897172 , 0.2566341362738112 , 410\n",
      "flt18cFEV3OFVC , flt18c , FEV3OFVC , 0.9757289949463634 , 0.0009448999549560097 , 0.03203440873269836 , 0.014854933581796858 , 410\n",
      "flt18cFEV6OFVC , flt18c , FEV6OFVC , 0.9967439181478271 , 6.577555024441149e-05 , 0.0015218724788214066 , 0.004744261297747353 , 410\n",
      "flt18maFEV1OFVC , flt18ma , FEV1OFVC , 0.8990819961880393 , -8.037602067985228e-05 , 1.96211432965665e-05 , 0.05107181027994665 , 558\n",
      "flt18maFEV1OFEV6 , flt18ma , FEV1OFEV6 , 0.9021261896796751 , -0.00015728847432365238 , 7.791420293623563e-05 , 0.05015399006249405 , 558\n",
      "flt18maPEFROFVC , flt18ma , PEFROFVC , 2.1314934254164415 , -0.0162915287825951 , 0.020399492575489453 , 0.3210473307428493 , 558\n",
      "flt18maPEFROFEV6 , flt18ma , PEFROFEV6 , 2.138799642369393 , -0.016511204869510215 , 0.020883429943524323 , 0.321584240065792 , 558\n",
      "flt18maPEFROFEV1 , flt18ma , PEFROFEV1 , 2.3672208618956154 , -0.0179214909375769 , 0.025705638187298874 , 0.31461313298278865 , 558\n",
      "flt18maFEV3OFVC , flt18ma , FEV3OFVC , 0.981696678658345 , 0.0005021559038196732 , 0.008112483637546464 , 0.015692009482772152 , 558\n",
      "flt18maFEV6OFVC , flt18ma , FEV6OFVC , 0.9966727049041989 , 7.616888949026074e-05 , 0.0022583994872474866 , 0.004511221447619265 , 558\n",
      "mallcmaFEV1OFVC , mallcma , FEV1OFVC , 0.8932903205769572 , -0.002161044655004754 , 0.3141954523579278 , 0.06929837786906429 , 2113\n",
      "mallcmaFEV1OFEV6 , mallcma , FEV1OFEV6 , 0.8894206593193688 , -0.0016588752776170832 , 0.19620637737708224 , 0.06731571302787127 , 2113\n",
      "mallcmaPEFROFVC , mallcma , PEFROFVC , 1.8081157253463431 , 0.00294291915419289 , 0.028417846276080686 , 0.31379211503162674 , 2113\n",
      "mallcmaPEFROFEV6 , mallcma , PEFROFEV6 , 1.7980946900927735 , 0.004166614434277827 , 0.05355105458286158 , 0.3236373044063614 , 2113\n",
      "mallcmaPEFROFEV1 , mallcma , PEFROFEV1 , 2.0003793038328856 , 0.009802028680447963 , 0.24709172285303127 , 0.3544427890407208 , 2113\n",
      "mallcmaFEV3OFVC , mallcma , FEV3OFVC , 0.9003164509173472 , 0.0037128845630165497 , 0.0035971815396106392 , 1.1127293514160048 , 2113\n",
      "mallcmaFEV6OFVC , mallcma , FEV6OFVC , 0.9040163141003559 , 0.004555887766994794 , 0.005430055052504712 , 1.11129708609974 , 2113\n",
      "mallbFEV1OFVC , mallb , FEV1OFVC , 0.8645965434664553 , -0.0006201261409336773 , 0.0650182937116861 , 0.07014159590497478 , 1076\n",
      "mallbFEV1OFEV6 , mallb , FEV1OFEV6 , 0.8687768839095379 , -0.000497468343754373 , 0.04316811204796267 , 0.06905534670596676 , 1076\n",
      "mallbPEFROFVC , mallb , PEFROFVC , 2.084971317998779 , -7.1062742203034565e-06 , 3.2821582929276616e-07 , 0.3577466608767512 , 1076\n",
      "mallbPEFROFEV6 , mallb , PEFROFEV6 , 2.095162377706662 , 0.0003035781540902953 , 0.0005807050328365815 , 0.36333405752466225 , 1076\n",
      "mallbPEFROFEV1 , mallb , PEFROFEV1 , 2.4070850421618215 , 0.0017961551512308712 , 0.021303019068853235 , 0.3549250547713214 , 1076\n",
      "mallbFEV3OFVC , mallb , FEV3OFVC , 0.9814295704517871 , 0.00034010090115598927 , 0.00016500164450483634 , 0.7636195424458184 , 1076\n",
      "mallbFEV6OFVC , mallb , FEV6OFVC , 0.9986994921416705 , 0.0006158648282660471 , 0.0005429007508975792 , 0.7623222034045093 , 1076\n",
      "mallcFEV1OFVC , mallc , FEV1OFVC , 0.8816864715506337 , -0.0020951765066780895 , 0.3553925698326056 , 0.07206356414962262 , 917\n",
      "mallcFEV1OFEV6 , mallc , FEV1OFEV6 , 0.8774945335900968 , -0.001580739581099033 , 0.20609494277709983 , 0.07139634089915876 , 917\n",
      "mallcPEFROFVC , mallc , PEFROFVC , 1.7910641070490092 , 0.0023037613850993544 , 0.02658451356978686 , 0.2897159659891889 , 917\n",
      "mallcPEFROFEV6 , mallc , PEFROFEV6 , 1.7779598546020552 , 0.0036703440415243845 , 0.05921898557017269 , 0.30926130718668005 , 917\n",
      "mallcPEFROFEV1 , mallc , PEFROFEV1 , 2.0066889524258658 , 0.00903904663137737 , 0.3028574661716761 , 0.33678502974249475 , 917\n",
      "mallcFEV3OFVC , mallc , FEV3OFVC , 0.9172566840415136 , 0.0026620493601665902 , 0.0035868286527898086 , 0.9114022215321197 , 917\n",
      "mallcFEV6OFVC , mallc , FEV6OFVC , 0.9218782617305117 , 0.003506666467305155 , 0.006253698769643323 , 0.9092331792481901 , 917\n",
      "mallmaFEV1OFVC , mallma , FEV1OFVC , 0.8987335624112224 , -0.002080559330272299 , 0.24626877752358448 , 0.06439566703809058 , 1196\n",
      "mallmaFEV1OFEV6 , mallma , FEV1OFEV6 , 0.8952564198799571 , -0.001595892228156821 , 0.15778231605784943 , 0.06171000974437587 , 1196\n",
      "mallmaPEFROFVC , mallma , PEFROFVC , 1.7990984867904218 , 0.0044528028293511785 , 0.04303354545655225 , 0.3296940575082418 , 1196\n",
      "mallmaPEFROFEV6 , mallma , PEFROFEV6 , 1.7934228140188404 , 0.005460790754841775 , 0.06329819896938826 , 0.33338117864442246 , 1196\n",
      "mallmaPEFROFEV1 , mallma , PEFROFEV1 , 1.980606633794881 , 0.011133267314650816 , 0.21687590920645972 , 0.36719621757837145 , 1196\n",
      "mallmaFEV3OFVC , mallma , FEV3OFVC , 0.8702968121152703 , 0.005400588038349061 , 0.004434816354269011 , 1.2456167756123582 , 1196\n",
      "mallmaFEV6OFVC , mallma , FEV6OFVC , 0.8737225942890199 , 0.006224253137584644 , 0.0059005738424637855 , 1.2445757670230821 , 1196\n",
      "fallcmaFEV1OFVC , fallcma , FEV1OFVC , 0.9185636992085889 , -0.0022555690245037725 , 0.3906953825711127 , 0.07472922633034243 , 2981\n",
      "fallcmaFEV1OFEV6 , fallcma , FEV1OFEV6 , 0.9161963086043136 , -0.001952676827687946 , 0.21766233248335254 , 0.08667467794385524 , 2981\n",
      "fallcmaPEFROFVC , fallcma , PEFROFVC , 1.8777464128447228 , 0.0006849356853240961 , 0.001791900107095401 , 0.33507837407811303 , 2981\n",
      "fallcmaPEFROFEV6 , fallcma , PEFROFEV6 , 1.8702245563081157 , 0.0014942204928297836 , 0.007339918532933809 , 0.36117906718147075 , 2981\n",
      "fallcmaPEFROFEV1 , fallcma , PEFROFEV1 , 2.0205623910166315 , 0.007117181445348604 , 0.15334556337623906 , 0.37637947630466007 , 2981\n",
      "fallcmaFEV3OFVC , fallcma , FEV3OFVC , 0.7356697219272592 , 0.012086956823733034 , 0.00933587600903707 , 2.590555712448817 , 2981\n",
      "fallcmaFEV6OFVC , fallcma , FEV6OFVC , 0.7347875135318742 , 0.012921123884562302 , 0.010686260627854605 , 2.58845675027269 , 2981\n",
      "fallbFEV1OFVC , fallb , FEV1OFVC , 0.9164786078569783 , -0.002084462183813963 , 0.23222079707750687 , 0.07491220353307657 , 1535\n",
      "fallbFEV1OFEV6 , fallb , FEV1OFEV6 , 0.913424049616882 , -0.001710821276511602 , 0.15124506282178796 , 0.07618564460635323 , 1535\n",
      "fallbPEFROFVC , fallb , PEFROFVC , 2.1133061117209895 , 0.00021301867604717369 , 9.09288221785376e-05 , 0.3868797561241389 , 1535\n",
      "fallbPEFROFEV6 , fallb , PEFROFEV6 , 2.102849582774876 , 0.001275172395992595 , 0.00309081986391746 , 0.3972291972316828 , 1535\n",
      "fallbPEFROFEV1 , fallb , PEFROFEV1 , 2.286230461594187 , 0.006516486971181249 , 0.0797587308001162 , 0.3996073992499871 , 1535\n",
      "fallbFEV3OFVC , fallb , FEV3OFVC , 0.9322052714818571 , 0.004684925940567284 , 0.0013126658903277466 , 2.23941579434348 , 1535\n",
      "fallbFEV6OFVC , fallb , FEV6OFVC , 0.9330762360642243 , 0.005512981556900094 , 0.001819785214622005 , 2.2381314019120846 , 1535\n",
      "fallcFEV1OFVC , fallc , FEV1OFVC , 0.9083980335685399 , -0.002118576947020815 , 0.3886327962444286 , 0.07701371576361822 , 1422\n",
      "fallcFEV1OFEV6 , fallc , FEV1OFEV6 , 0.907168875238276 , -0.0018498423442888132 , 0.21030726762754226 , 0.091411563104646 , 1422\n",
      "fallcPEFROFVC , fallc , PEFROFVC , 1.83589123770472 , 0.0013796114429767319 , 0.009436944716353035 , 0.32183601466091005 , 1422\n",
      "fallcPEFROFEV6 , fallc , PEFROFEV6 , 1.8326938925699017 , 0.0020347019170749206 , 0.016995435261771497 , 0.3536944195089844 , 1422\n",
      "fallcPEFROFEV1 , fallc , PEFROFEV1 , 1.9948596833529535 , 0.007715514547189453 , 0.21588009024659197 , 0.3763155445302243 , 1422\n",
      "fallcFEV3OFVC , fallc , FEV3OFVC , 0.6919872916459726 , 0.01279166056923549 , 0.009808168958264751 , 2.927025572153955 , 1422\n",
      "fallcFEV6OFVC , fallc , FEV6OFVC , 0.690944361783775 , 0.013630738397989289 , 0.01115732571128547 , 2.9243738136188497 , 1422\n",
      "fallmaFEV1OFVC , fallma , FEV1OFVC , 0.9251909662568971 , -0.00232827277260691 , 0.3495340793096675 , 0.06956087055128281 , 1559\n",
      "fallmaFEV1OFEV6 , fallma , FEV1OFEV6 , 0.9213708293049148 , -0.0019699149717015106 , 0.1896841520764413 , 0.07989284174036536 , 1559\n",
      "fallmaPEFROFVC , fallma , PEFROFVC , 1.909966492326748 , 5.7068947587442963e-05 , 8.466249860061836e-06 , 0.3464417589436165 , 1559\n",
      "fallmaPEFROFEV6 , fallma , PEFROFEV6 , 1.8960030023177883 , 0.0011384927783545345 , 0.0029901807237813216 , 0.367754057676685 , 1559\n",
      "fallmaPEFROFEV1 , fallma , PEFROFEV1 , 2.046834236475114 , 0.006299724665643787 , 0.08836827432183648 , 0.3743253967131957 , 1559\n",
      "fallmaFEV3OFVC , fallma , FEV3OFVC , 0.7685298111539931 , 0.011482727456053643 , 0.008196219772357183 , 2.2403412290394993 , 1559\n",
      "fallmaFEV6OFVC , fallma , FEV6OFVC , 0.7678560436079294 , 0.01230884227065558 , 0.009431587180745327 , 2.2387248843803205 , 1559\n",
      "at end\n",
      "                     dfname        var  intercept     slope        r2  \\\n",
      "dfnvarn                                                                 \n",
      "m20overbFEV1OFVC   m20overb   FEV1OFVC   0.838493 -0.000364  0.040567   \n",
      "m20overbFEV1OFEV6  m20overb  FEV1OFEV6   0.848161 -0.000295  0.025118   \n",
      "m20overbPEFROFVC   m20overb   PEFROFVC   2.147290 -0.000640  0.004285   \n",
      "m20overbPEFROFEV6  m20overb  PEFROFEV6   2.171810 -0.000469  0.002186   \n",
      "m20overbPEFROFEV1  m20overb  PEFROFEV1   2.556383  0.000309  0.000993   \n",
      "...                     ...        ...        ...       ...       ...   \n",
      "fallmaPEFROFVC       fallma   PEFROFVC   1.909966  0.000057  0.000008   \n",
      "fallmaPEFROFEV6      fallma  PEFROFEV6   1.896003  0.001138  0.002990   \n",
      "fallmaPEFROFEV1      fallma  PEFROFEV1   2.046834  0.006300  0.088368   \n",
      "fallmaFEV3OFVC       fallma   FEV3OFVC   0.768530  0.011483  0.008196   \n",
      "fallmaFEV6OFVC       fallma   FEV6OFVC   0.767856  0.012309  0.009432   \n",
      "\n",
      "                        std count  \n",
      "dfnvarn                            \n",
      "m20overbFEV1OFVC   0.070906   476  \n",
      "m20overbFEV1OFEV6  0.073026   476  \n",
      "m20overbPEFROFVC   0.383087   476  \n",
      "m20overbPEFROFEV6  0.393406   476  \n",
      "m20overbPEFROFEV1  0.384026   476  \n",
      "...                     ...   ...  \n",
      "fallmaPEFROFVC     0.346442  1559  \n",
      "fallmaPEFROFEV6    0.367754  1559  \n",
      "fallmaPEFROFEV1    0.374325  1559  \n",
      "fallmaFEV3OFVC     2.240341  1559  \n",
      "fallmaFEV6OFVC     2.238725  1559  \n",
      "\n",
      "[168 rows x 7 columns]\n"
     ]
    }
   ],
   "source": [
    "# First initialize resultsratio dataframe\n",
    "column_names = [\"dfnvarn\",\"dfname\", \"var\", \"intercept\", \"slope\", \"r2\", \"std\", \"count\"]\n",
    "# print (column_names)\n",
    "resultsratio = pd.DataFrame(columns = column_names)\n",
    "resultsratio.name = 'resultsratio'\n",
    "print (resultsratio)\n",
    "print ('Linear Regression of variables in form y = intercept + slope * age')\n",
    "print ('dfnvarn, dataframe,  variable,        intercept,          slope,            R squared,         standard deviation,  count')\n",
    "for y in framestoanalyze:\n",
    "  #  print (y.name)\n",
    "    for xx in varsratio:\n",
    " #       print(y, \" \", xx)\n",
    "        reg = linear_regage (y,xx)\n",
    "        intercept, slope, r2, std, count = reg\n",
    "        slope, = slope\n",
    "        dfnvarn = y.name + xx\n",
    "        print (dfnvarn, ',', y.name, ',', xx, ',', intercept, ',', slope, ',', r2, ',', std, ',',count)\n",
    "    #   now need save these in array of dataframe.variable, intercept slope\n",
    "        var = y.name\n",
    "    \n",
    "#  Columns: [dfnvarn, dfname, var, intercept, slope, r2, std, count] \n",
    "\n",
    "        df2 = {'dfnvarn': dfnvarn, 'dfname': y.name, 'var': xx, 'intercept': intercept, 'slope':slope, 'r2':r2, 'std':std, 'count':count}                          \n",
    "        resultsratio = resultsratio.append(df2, ignore_index=True)    \n",
    "print ('at end')\n",
    "resultsratio.set_index('dfnvarn', inplace=True)\n",
    "print (resultsratio)\n",
    "    \n",
    "    "
   ]
  },
  {
   "cell_type": "markdown",
   "metadata": {},
   "source": [
    "# Now do regression for non-ratios height_age_reg(data, y_var)"
   ]
  },
  {
   "cell_type": "markdown",
   "metadata": {},
   "source": [
    "def height_age_reg(data, y_var):\n",
    "# convert agemonths to years\n",
    "    X_age = data['HSAITMOR_exam']/12\n",
    "    X_age = np.array(X_age).reshape(-1, 1)\n",
    "    X_age = np.hstack((X_age, X_age**2))\n",
    "    X_height = data['BMPHT']**2\n",
    "    X_height = np.array(X_height).reshape(-1, 1)\n",
    "    X = np.concatenate((X_age, X_height), axis=1)\n",
    "    y = data[y_var]\n",
    "    lr = LinearRegression().fit(X, y)\n",
    "        # do linear regression fit on X, y\n",
    " #   print(data.name, \", \",y_var, \", \",lr.intercept_, \",\", lr.coef_, \",\", lr.score(X, y), \",\",  data.loc[:,y_var].std(), \",\",  data.loc[:,y_var].count())\n",
    "    return data.name, y_var, lr.intercept_, lr.coef_, lr.score(X, y), data.loc[:,y_var].std(), data.loc[:,y_var].count()"
   ]
  },
  {
   "cell_type": "code",
   "execution_count": 292,
   "metadata": {},
   "outputs": [],
   "source": [
    "def height_age_reg(data, y_var):\n",
    "# convert agemonths to years\n",
    "    X_age = data['HSAITMOR_exam']/12\n",
    "    X_age = np.array(X_age).reshape(-1, 1)\n",
    "    X_age = np.hstack((X_age, X_age**2))\n",
    "    X_height = data['BMPHT']**2\n",
    "    X_height = np.array(X_height).reshape(-1, 1)\n",
    "    X = np.concatenate((X_age, X_height), axis=1)\n",
    "    y = data[y_var]\n",
    "    lr = LinearRegression().fit(X, y)\n",
    "        # do linear regression fit on X, y\n",
    " #   print(data.name, \", \",y_var, \", \",lr.intercept_, \",\", lr.coef_, \",\", lr.score(X, y), \",\",  data.loc[:,y_var].std(), \",\",  data.loc[:,y_var].count())\n",
    "    return data.name, y_var, lr.intercept_, lr.coef_, lr.score(X, y), data.loc[:,y_var].std(), data.loc[:,y_var].count()"
   ]
  },
  {
   "cell_type": "code",
   "execution_count": 293,
   "metadata": {},
   "outputs": [
    {
     "name": "stdout",
     "output_type": "stream",
     "text": [
      "SPPFEV1\n",
      "SPPFEV3\n",
      "SPPFEV6\n",
      "SPPFVC\n",
      "SPPPEAK\n",
      "SPPMMEF\n",
      "SPPFEF75\n",
      "SPPEXPIR\n"
     ]
    }
   ],
   "source": [
    "for x in varsnonratio:\n",
    "    print (x)"
   ]
  },
  {
   "cell_type": "markdown",
   "metadata": {},
   "source": [
    "# Create Resultsnonratio with all of regression results for all dataframes all nonratio variables"
   ]
  },
  {
   "cell_type": "markdown",
   "metadata": {},
   "source": [
    "# First initialize resultsratio dataframe\n",
    "column_names = [\"dfnvarn\",\"dfname\", \"var\", \"intercept\", \"b1\", \"b2\", \"b3\", \"r2\", \"std\", \"count\"]\n",
    "# print (column_names)\n",
    "resultsnonratio = pd.DataFrame(columns = column_names)\n",
    "resultsnonratio.name = 'resultsnonratio'\n",
    "print (resultsnonratio)\n",
    "print ('Linear Regression of variables in form y = intercept + b1 * age + b2 * age * age + b3 * height * height')\n",
    "print ('dfnvarn, dataframe ,  variable,        intercept,   [b1. b2. b3]. ,            R squared,         standard deviation   count')\n",
    "for y in framestoanalyze:\n",
    "  #  print (y.name)\n",
    "    for xx in varsnonratio:\n",
    "  #       print(y, \" \", xx)\n",
    "         reg = height_age_reg(y,xx)\n",
    "         dbname, var, intercept, coef, r2, std, count = reg\n",
    "         b1, b2, b3, = coef \n",
    "                  \n",
    "         dfnvarn = y.name + xx\n",
    "         print (dfnvarn, ',', dbname, ',', var, ',',intercept, ',',b1, ',',b2, ',',b3, ',',r2, ',',std, ',',count)\n",
    "         #  Columns: [dfnvarn, dfname, var, intercept, b1, b2, b3, r2, std, count]  \n",
    "            \n",
    "         df2 = {'dfnvarn': dfnvarn, 'dfname': y.name, 'var': xx, 'intercept': intercept, 'b1': b1, 'b2': b2, 'b3': b3, 'r2':r2, 'std':std, 'count':count}                          \n",
    "         resultsnonratio = resultsnonratio.append(df2, ignore_index=True)\n",
    "print ('at end')\n",
    "resultsnonratio.set_index('dfnvarn', inplace=True)\n",
    "print (resultsnonratio)                    "
   ]
  },
  {
   "cell_type": "code",
   "execution_count": 294,
   "metadata": {},
   "outputs": [
    {
     "name": "stdout",
     "output_type": "stream",
     "text": [
      "Empty DataFrame\n",
      "Columns: [dfnvarn, dfname, var, intercept, b1, b2, b3, r2, std, count]\n",
      "Index: []\n",
      "Linear Regression of variables in form y = intercept + b1 * age + b2 * age * age + b3 * height * height\n",
      "dfnvarn, dataframe ,  variable,        intercept,   [b1. b2. b3]. ,            R squared,         standard deviation   count\n",
      "m20overbSPPFEV1 , m20overb , SPPFEV1 , 834.1423936943565 , -28.091308801343292 , 0.032409272125667826 , 0.11976129519847196 , 0.4701153193977501 , 715.6058687439651 , 476\n",
      "m20overbSPPFEV3 , m20overb , SPPFEV3 , 2791.394905843993 , -14.328191698881824 , 0.016129238930341808 , 0.0653216225033313 , 0.004267816064501995 , 3962.4570009869503 , 476\n",
      "m20overbSPPFEV6 , m20overb , SPPFEV6 , 2596.011607675334 , -11.583482290765751 , 0.0135289535358119 , 0.0731752031472274 , 0.003885441076085128 , 3956.9252913144296 , 476\n",
      "m20overbSPPFVC , m20overb , SPPFVC , 197.11220124483134 , -23.746220998804965 , 0.02835600057957898 , 0.15995714190078614 , 0.43694297347027533 , 794.3444333267447 , 476\n",
      "m20overbSPPPEAK , m20overb , SPPPEAK , 2055.1599991713692 , -51.324078670738864 , 0.05771761296788734 , 0.28633164628525465 , 0.25436229009211575 , 2031.1262569097426 , 476\n",
      "m20overbSPPMMEF , m20overb , SPPMMEF , 5240.989665739512 , -33.14846299292801 , 0.035329284937484016 , -0.0024181901243934922 , 0.011093350429032922 , 4115.107481451842 , 476\n",
      "m20overbSPPFEF75 , m20overb , SPPFEF75 , 1948.9266621764345 , -27.959290427603996 , 0.03100058570222009 , 0.013924501790120631 , 0.21344473619240945 , 789.2439515004834 , 476\n",
      "m20overbSPPEXPIR , m20overb , SPPEXPIR , 2.7812889181925975 , 0.10017195547691826 , -0.00011104854907669835 , 0.00010110185976066953 , 0.12597838529482108 , 3.604211502849901 , 476\n",
      "m20overcmaSPPFEV1 , m20overcma , SPPFEV1 , 776.9452737664556 , -12.098701511215737 , -0.18246147117361347 , 0.13381713394903613 , 0.6441077813941563 , 777.057331478977 , 1089\n",
      "m20overcmaSPPFEV3 , m20overcma , SPPFEV3 , 1759.9250706944777 , -100.94025408239705 , 1.0429538347024 , 0.17292957950324916 , 0.013453317489939385 , 4506.741785201395 , 1089\n",
      "m20overcmaSPPFEV6 , m20overcma , SPPFEV6 , 1429.0870704505105 , -91.20242509398126 , 0.9703463746577686 , 0.18158020813341197 , 0.013866460277782931 , 4497.012700890122 , 1089\n",
      "m20overcmaSPPFVC , m20overcma , SPPFVC , -237.60216917785874 , 0.702954145921484 , -0.26745808037954866 , 0.18758869309959295 , 0.5915596990088154 , 873.3536140280081 , 1089\n",
      "m20overcmaSPPPEAK , m20overcma , SPPPEAK , 575.5753888188065 , 85.6907126073649 , -1.3450978800852098 , 0.26570197368867454 , 0.3363674900979827 , 1862.1411309219277 , 1089\n",
      "m20overcmaSPPMMEF , m20overcma , SPPMMEF , 4750.975641291732 , -102.49171860041541 , 0.8523709513640266 , 0.06423542237292952 , 0.01023829274116661 , 4652.483560485006 , 1089\n",
      "m20overcmaSPPFEF75 , m20overcma , SPPFEF75 , 2204.3907111607514 , -68.7960071536933 , 0.4551294150057315 , 0.036837639789088716 , 0.3137400112420291 , 829.2762620878648 , 1089\n",
      "m20overcmaSPPEXPIR , m20overcma , SPPEXPIR , 3.734727277440421 , 0.3267831180553541 , -0.002419266207874801 , -5.457683004560617e-05 , 0.16123870554182562 , 4.451449011411201 , 1089\n",
      "m20overcSPPFEV1 , m20overc , SPPFEV1 , 627.4685009245063 , -8.703931635808848 , -0.20538986384742813 , 0.1350807879200904 , 0.6622183235914574 , 851.1467374194553 , 497\n",
      "m20overcSPPFEV3 , m20overc , SPPFEV3 , 755.4603713456054 , -102.86151443175281 , 1.0535889265591543 , 0.20658282884565726 , 0.010647332692036772 , 5421.13903416617 , 497\n",
      "m20overcSPPFEV6 , m20overc , SPPFEV6 , 305.12163191065883 , -90.81431209123451 , 0.9627510684162471 , 0.21713176144870655 , 0.01070507873908144 , 5405.7140198837415 , 497\n",
      "m20overcSPPFVC , m20overc , SPPFVC , -572.659914722446 , 1.752767263391328 , -0.26252273133041265 , 0.19671746157730097 , 0.6170025220266057 , 937.4293004518033 , 497\n",
      "m20overcSPPPEAK , m20overc , SPPPEAK , 844.0576662766089 , 100.26898534185712 , -1.4440259051008992 , 0.24163425294553537 , 0.3812318431704461 , 1865.434241467033 , 497\n",
      "m20overcSPPMMEF , m20overc , SPPMMEF , 3649.611719896599 , -92.35847097336739 , 0.7663555676346688 , 0.08814999136249008 , 0.006977772122175874 , 5572.101357529881 , 497\n",
      "m20overcSPPFEF75 , m20overc , SPPFEF75 , 2276.916775408399 , -65.72409671600487 , 0.4132158085787085 , 0.032445986033567464 , 0.3135291089783585 , 877.5325729869774 , 497\n",
      "m20overcSPPEXPIR , m20overc , SPPEXPIR , 1.2972030954119358 , 0.31006633610909956 , -0.0022440394264351166 , 3.300036212029571e-05 , 0.1818818856170581 , 3.976861175211671 , 497\n",
      "m20ovecmaSPPFEV1 , m20ovecma , SPPFEV1 , 630.8897275014074 , -11.189942848611215 , -0.20325029655313603 , 0.13919024834496732 , 0.6214376846524168 , 707.0649319722183 , 592\n",
      "m20ovecmaSPPFEV3 , m20ovecma , SPPFEV3 , 2651.9068327409423 , -109.25374841023066 , 1.1685437861125205 , 0.14601431216221644 , 0.01389401761665554 , 3556.4394123117663 , 592\n",
      "m20ovecmaSPPFEV6 , m20ovecma , SPPFEV6 , 2381.1612204143476 , -99.72469700231923 , 1.0911189991705077 , 0.1530654992225307 , 0.013443152617853227 , 3550.748114307712 , 592\n",
      "m20ovecmaSPPFVC , m20ovecma , SPPFVC , 9.749402076581646 , 6.9206207289351624 , -0.36205200956478395 , 0.17587956543794778 , 0.5366281384655525 , 789.0660983473126 , 592\n",
      "m20ovecmaSPPPEAK , m20ovecma , SPPPEAK , -1083.0974011228082 , 92.60261215799609 , -1.471591758854758 , 0.32330595354718683 , 0.3057871930382071 , 1853.7226765476762 , 592\n",
      "m20ovecmaSPPMMEF , m20ovecma , SPPMMEF , 4289.728820168764 , -117.10294620364498 , 1.0528731997551157 , 0.0909575110650751 , 0.016861070970314307 , 3711.1489716317833 , 592\n",
      "m20ovecmaSPPFEF75 , m20ovecma , SPPFEF75 , 1938.3262184875857 , -79.27289219772028 , 0.6009312602629148 , 0.05230983716683088 , 0.3065692924183149 , 779.2312000366188 , 592\n",
      "m20ovecmaSPPEXPIR , m20ovecma , SPPEXPIR , 5.494442748217141 , 0.3332101281900607 , -0.0024514661171172202 , -0.00012127161665499817 , 0.14543620660574552 , 4.7978717023660336 , 592\n",
      "f18overbSPPFEV1 , f18overb , SPPFEV1 , 320.46782158620726 , -13.603307122162814 , -0.08803377495076181 , 0.11029160233395997 , 0.5778417787021543 , 580.5656588555784 , 939\n",
      "f18overbSPPFEV3 , f18overb , SPPFEV3 , 1017.3432657985368 , -27.647499323384512 , 0.2313438224259366 , 0.10788391687593965 , 0.003070766939995862 , 4893.188429337498 , 939\n",
      "f18overbSPPFEV6 , f18overb , SPPFEV6 , 803.4528904458921 , -20.944907876373087 , 0.17876845690978652 , 0.11328814632708839 , 0.0028764283488497133 , 4887.450320139502 , 939\n",
      "f18overbSPPFVC , f18overb , SPPFVC , -454.8689019034937 , 2.757874347088705 , -0.230572146207408 , 0.1439021327196812 , 0.5040999214491453 , 629.7579089666353 , 939\n",
      "f18overbSPPPEAK , f18overb , SPPPEAK , 1618.2651277098194 , 31.768343798484363 , -0.8065443596436149 , 0.18990999645914325 , 0.28721757583094865 , 1548.62241740614 , 939\n",
      "f18overbSPPMMEF , f18overb , SPPMMEF , 3651.0900403029545 , -57.85989506121261 , 0.35963403750688094 , 0.04345591460451813 , 0.008011592562431114 , 4979.672854781136 , 939\n",
      "f18overbSPPFEF75 , f18overb , SPPFEF75 , 1844.374793604762 , -56.62889895122359 , 0.39536520447365053 , 0.027063852187784967 , 0.24083841269568773 , 753.8518753614899 , 939\n",
      "f18overbSPPEXPIR , f18overb , SPPEXPIR , 1.6182085625102953 , 0.24673155478958544 , -0.0017503144218936873 , 4.020965400569572e-05 , 0.07977929609622247 , 5.339528913404067 , 939\n",
      "f18overcmaSPPFEV1 , f18overcma , SPPFEV1 , 685.6199590938004 , -5.010176156310005 , -0.18746900324518048 , 0.10700430339285663 , 0.6812123417894953 , 616.8336083617902 , 2013\n",
      "f18overcmaSPPFEV3 , f18overcma , SPPFEV3 , 4598.673877149078 , -150.3717426896713 , 1.7135959519006405 , 0.07825027051605588 , 0.0054062606983549255 , 7401.567995412441 , 2013\n",
      "f18overcmaSPPFEV6 , f18overcma , SPPFEV6 , 4368.851167976552 , -142.89900002122926 , 1.6575528629448606 , 0.08390611490457539 , 0.005521188123016052 , 7391.059712777794 , 2013\n",
      "f18overcmaSPPFVC , f18overcma , SPPFVC , -59.786287114081006 , 10.041681563118019 , -0.3064884526213504 , 0.14462054726431245 , 0.5985868562475473 , 667.4613483989211 , 2013\n",
      "f18overcmaSPPPEAK , f18overcma , SPPPEAK , 815.2268064344516 , 58.83184400612773 , -0.9532410132978212 , 0.20010346331151602 , 0.3547797656459213 , 1401.6435781972668 , 2013\n",
      "f18overcmaSPPMMEF , f18overcma , SPPMMEF , 7248.998222822191 , -166.58697004318182 , 1.7055175390286106 , -0.007145342963383761 , 0.004328545278341811 , 7471.601143396988 , 2013\n",
      "f18overcmaSPPFEF75 , f18overcma , SPPFEF75 , 2354.147973109899 , -67.17221554799872 , 0.4873167355039719 , 0.023724052447424038 , 0.19130578544069077 , 932.2579512506213 , 2013\n",
      "f18overcmaSPPEXPIR , f18overcma , SPPEXPIR , 2.8789840334840253 , 0.24992813929874727 , -0.0017621306066341453 , -7.0425444009772245e-06 , 0.11830350264814062 , 4.549734730744153 , 2013\n",
      "f18overcSPPFEV1 , f18overc , SPPFEV1 , 801.8647148898381 , -0.5018558370900508 , -0.23208222673047063 , 0.09892906882297925 , 0.7073886095783579 , 663.5555017884653 , 1012\n",
      "f18overcSPPFEV3 , f18overc , SPPFEV3 , 2926.426223725576 , -121.95169028763343 , 1.408923383829867 , 0.1205059000591211 , 0.004201179488983575 , 8080.52818599568 , 1012\n",
      "f18overcSPPFEV6 , f18overc , SPPFEV6 , 2602.744128360003 , -112.3449719958077 , 1.3352152755047797 , 0.1275439678561454 , 0.004355517298012868 , 8067.610042477064 , 1012\n",
      "f18overcSPPFVC , f18overc , SPPFVC , -144.7542247391125 , 19.27443990758111 , -0.3954494763504564 , 0.14016096124262886 , 0.62863134219353 , 726.0185237267386 , 1012\n",
      "f18overcSPPPEAK , f18overc , SPPPEAK , 1701.3797019569402 , 70.82146657258137 , -1.0617831604542456 , 0.15664915307964072 , 0.40160517015647657 , 1415.2587669446414 , 1012\n",
      "f18overcSPPMMEF , f18overc , SPPMMEF , 5631.270451505532 , -149.40406658369253 , 1.5292582131159287 , 0.038812366385504116 , 0.003059027352462662 , 8165.560067530943 , 1012\n",
      "f18overcSPPFEF75 , f18overc , SPPFEF75 , 2394.4973450818184 , -70.84966259627814 , 0.5146731972393869 , 0.026036236302662913 , 0.18028442240924247 , 980.0946082232114 , 1012\n",
      "f18overcSPPEXPIR , f18overc , SPPEXPIR , 0.861297240014812 , 0.3081356025284333 , -0.00228393895263415 , 1.2154320565864983e-05 , 0.09896477391094329 , 5.229643391242844 , 1012\n",
      "f18overmaSPPFEV1 , f18overma , SPPFEV1 , 534.7289495342998 , -8.716009499529406 , -0.15040694308171706 , 0.11626571596987599 , 0.6469156859719957 , 565.3777736850141 , 1001\n",
      "f18overmaSPPFEV3 , f18overma , SPPFEV3 , 7040.90689994448 , -207.17455341255936 , 2.38758232464973 , 0.02012892115920062 , 0.007911662717017931 , 6646.255387100126 , 1001\n",
      "f18overmaSPPFEV6 , f18overma , SPPFEV6 , 6855.641432451605 , -201.0219228606729 , 2.341934186015283 , 0.02536002255317915 , 0.007798250509010396 , 6637.943866724259 , 1001\n",
      "f18overmaSPPFVC , f18overma , SPPFVC , 65.96819577323504 , 1.0468845732774128 , -0.2166177680737954 , 0.14699481612274592 , 0.5554132970724694 , 600.3848700440594 , 1001\n",
      "f18overmaSPPPEAK , f18overma , SPPPEAK , -111.20053106544401 , 60.38774610741234 , -1.0190279699998603 , 0.23880715377576497 , 0.31741503792284087 , 1386.8752173607654 , 1001\n",
      "f18overmaSPPMMEF , f18overma , SPPMMEF , 8680.810368888458 , -204.1483246405295 , 2.172971287638459 , -0.03766789011875182 , 0.006916567002653196 , 6700.5849540586705 , 1001\n",
      "f18overmaSPPFEF75 , f18overma , SPPFEF75 , 2389.3117369915444 , -67.8379093026153 , 0.5119470857269977 , 0.021751262008751077 , 0.1897497486093529 , 872.5459965250818 , 1001\n",
      "f18overmaSPPEXPIR , f18overma , SPPEXPIR , 3.0616095304883455 , 0.19502090981055015 , -0.0011778014466286056 , 3.415059607579863e-05 , 0.14976450506634886 , 3.7131233100026066 , 1001\n",
      "mlt20bSPPFEV1 , mlt20b , SPPFEV1 , -244.63630065568077 , -148.66411703640387 , 7.355249207545083 , 0.1390016843754962 , 0.851309651807594 , 980.64010487648 , 600\n",
      "mlt20bSPPFEV3 , mlt20b , SPPFEV3 , -311.22862090077933 , -190.9056690065783 , 8.63354627539238 , 0.168331722284643 , 0.8619998685917692 , 1118.8384310884016 , 600\n",
      "mlt20bSPPFEV6 , mlt20b , SPPFEV6 , -292.7946788201775 , -196.12248320550052 , 8.765501933119582 , 0.1713032457435819 , 0.8608545414153556 , 1131.3593871505693 , 600\n",
      "mlt20bSPPFVC , mlt20b , SPPFVC , -286.7182988769832 , -197.3923863155844 , 8.818683237235206 , 0.17177409966230606 , 0.8605474766130878 , 1134.8932345174492 , 600\n",
      "mlt20bSPPPEAK , mlt20b , SPPPEAK , -203.42135803913425 , -250.617333388719 , 17.31571815663365 , 0.2591496805091502 , 0.7664728547411539 , 2382.0575244534357 , 600\n",
      "mlt20bSPPMMEF , mlt20b , SPPMMEF , -599.8935390867446 , -5.732075157460937 , 4.572822904597532 , 0.11516613231034345 , 0.5531645388689352 , 1331.7121476865973 , 600\n",
      "mlt20bSPPFEF75 , mlt20b , SPPFEF75 , -53.30219571508678 , -72.61165567970622 , 4.547120165895968 , 0.059865674722787254 , 0.4373631191796534 , 730.2547266831428 , 600\n",
      "mlt20bSPPEXPIR , mlt20b , SPPEXPIR , -1.0723944964368188 , 1.052086635120786 , -0.033450943713396575 , 8.184606990202514e-07 , 0.03837766165098322 , 2.7804448705832687 , 600\n",
      "mlt20cmaSPPFEV1 , mlt20cma , SPPFEV1 , -158.12384828004906 , -147.70954494301304 , 8.59191453190907 , 0.1455852113766536 , 0.8991028835193945 , 1063.5686223473597 , 1024\n",
      "mlt20cmaSPPFEV3 , mlt20cma , SPPFEV3 , -96.74856482532687 , -197.94624774477472 , 10.741555167872212 , 0.1712086247343798 , 0.9070681186584828 , 1222.8615967264043 , 1024\n",
      "mlt20cmaSPPFEV6 , mlt20cma , SPPFEV6 , -55.147069205965636 , -201.4965229962488 , 10.940997002919186 , 0.17184608118741984 , 0.9051756323874767 , 1233.5815831164748 , 1024\n",
      "mlt20cmaSPPFVC , mlt20cma , SPPFVC , -38.27335562886492 , -202.87038507464254 , 11.01053290992543 , 0.1717715930657775 , 0.9044175115318142 , 1235.3555246067688 , 1024\n",
      "mlt20cmaSPPPEAK , mlt20cma , SPPPEAK , 481.85713767024754 , -316.0848347397863 , 21.59134392958489 , 0.24864274779195483 , 0.807407737093485 , 2347.9907501677367 , 1024\n",
      "mlt20cmaSPPMMEF , mlt20cma , SPPMMEF , -186.6882969426415 , -97.08497370556692 , 7.85430158844456 , 0.1402884928649062 , 0.6416386636036848 , 1343.5400354032158 , 1024\n",
      "mlt20cmaSPPFEF75 , mlt20cma , SPPFEF75 , -189.54534939482937 , -84.12759328111396 , 4.423126812720979 , 0.08391440912153847 , 0.5194556073674799 , 749.9674183206528 , 1024\n",
      "mlt20cmaSPPEXPIR , mlt20cma , SPPEXPIR , 4.445751646935522 , 0.21053207641887464 , -0.0015658341837774686 , 1.3401271991514505e-06 , 0.0497739160302163 , 2.504132512803363 , 1024\n",
      "mlt20cSPPFEV1 , mlt20c , SPPFEV1 , 36.382672034779716 , -186.95401283753063 , 9.645943390055008 , 0.14785615400542973 , 0.9099887491519628 , 1099.4548017117088 , 420\n",
      "mlt20cSPPFEV3 , mlt20c , SPPFEV3 , 102.25622911645814 , -235.93647917179462 , 11.915609650422976 , 0.172728075379192 , 0.9177942249551603 , 1278.6465367330936 , 420\n",
      "mlt20cSPPFEV6 , mlt20c , SPPFEV6 , 97.39589958228544 , -231.1762187295698 , 11.780907700146152 , 0.17340336986977611 , 0.9143245211818413 , 1288.6444496815996 , 420\n",
      "mlt20cSPPFVC , mlt20c , SPPFVC , 138.0939373651372 , -237.4076253415829 , 11.99229527715797 , 0.17387250779941787 , 0.9131272259099981 , 1290.5038640718797 , 420\n",
      "mlt20cSPPPEAK , mlt20c , SPPPEAK , 895.250544234239 , -360.70416792412016 , 22.66888502256328 , 0.2426640074017321 , 0.8224198214204584 , 2349.7003089681452 , 420\n",
      "mlt20cSPPMMEF , mlt20c , SPPMMEF , -49.88744684168205 , -141.5077299027279 , 8.62182972081907 , 0.14543037877710496 , 0.6663618539253778 , 1336.0904668899805 , 420\n",
      "mlt20cSPPFEF75 , mlt20c , SPPFEF75 , 121.69294736859479 , -145.44678494344896 , 6.355392476746939 , 0.08551144564272573 , 0.572478885182363 , 735.1670864075218 , 420\n",
      "mlt20cSPPEXPIR , mlt20c , SPPEXPIR , 7.291579146767499 , -0.27051332819328117 , 0.013567610647968261 , 3.448966329016798e-05 , 0.042529109071657634 , 2.4657029168095153 , 420\n",
      "mlt20maSPPFEV1 , mlt20ma , SPPFEV1 , -175.47963241096704 , -169.81379068075458 , 8.97748349249585 , 0.15764909008391115 , 0.8970522998862682 , 1038.8034605244618 , 604\n",
      "mlt20maSPPFEV3 , mlt20ma , SPPFEV3 , -155.20901122572104 , -204.016123783986 , 10.673916788050407 , 0.17892567541166216 , 0.9004194899107144 , 1183.0240065959404 , 604\n",
      "mlt20maSPPFEV6 , mlt20ma , SPPFEV6 , -87.30311199941616 , -211.85002027837655 , 11.06014232576738 , 0.17930866879697938 , 0.8995817640433781 , 1194.2234759220605 , 604\n",
      "mlt20maSPPFVC , mlt20ma , SPPFVC , -85.72413029085646 , -210.2883823401281 , 11.039892394964456 , 0.17895592289791473 , 0.8992123049960697 , 1195.9528352546913 , 604\n",
      "mlt20maSPPPEAK , mlt20ma , SPPPEAK , 353.47050188516823 , -373.1320015846419 , 22.750996910754786 , 0.2802676703790432 , 0.8021263380950395 , 2348.6454999666116 , 604\n",
      "mlt20maSPPMMEF , mlt20ma , SPPMMEF , 17.70749013976547 , -188.31768495201496 , 10.08644906964643 , 0.1701468135980999 , 0.6450946647995206 , 1344.1597891962783 , 604\n",
      "mlt20maSPPFEF75 , mlt20ma , SPPFEF75 , -233.88347994762216 , -110.01170138592003 , 4.672200018157088 , 0.10113569922372001 , 0.5051174735220978 , 758.1687192913648 , 604\n",
      "mlt20maSPPEXPIR , mlt20ma , SPPEXPIR , 2.2364355591176786 , 0.6143804362484085 , -0.013861825955736273 , -3.8303946317867765e-05 , 0.061716417480401575 , 2.529447775330777 , 604\n",
      "flt18bSPPFEV1 , flt18b , SPPFEV1 , -1095.0301944436983 , 79.05407183982597 , -0.8007645376153395 , 0.10698448711082165 , 0.7658450229144884 , 622.2226302733402 , 596\n",
      "flt18bSPPFEV3 , flt18b , SPPFEV3 , -1103.6304630496966 , 68.6048309759762 , -0.44728042542727164 , 0.12098057362783332 , 0.7640064113330416 , 678.0081803532383 , 596\n",
      "flt18bSPPFEV6 , flt18b , SPPFEV6 , -1079.5892214520127 , 65.68163218689784 , -0.3999443011898328 , 0.12246815536809852 , 0.7600821005668913 , 681.1742953058456 , 596\n",
      "flt18bSPPFVC , flt18b , SPPFVC , -1042.5337889934572 , 61.959689546899426 , -0.2625694902109432 , 0.12224350006719095 , 0.7578418703277481 , 680.4629033878583 , 596\n",
      "flt18bSPPPEAK , flt18b , SPPPEAK , -3437.4875856456965 , 531.1205068283454 , -13.766968430529822 , 0.18763393179866839 , 0.5985777121654872 , 1503.9384065158092 , 596\n",
      "flt18bSPPMMEF , flt18b , SPPMMEF , -1469.6445878896197 , 147.95584400409658 , -2.251233309628802 , 0.12045329448002917 , 0.44695785033009994 , 1011.7635507863442 , 596\n",
      "flt18bSPPFEF75 , flt18b , SPPFEF75 , -568.0177866626568 , 12.372770146575098 , 1.303283454947006 , 0.0627205392092165 , 0.35688021895799155 , 580.4373846295633 , 596\n",
      "flt18bSPPEXPIR , flt18b , SPPEXPIR , 6.500764550539589 , -0.13284937892720902 , 0.006963262897428923 , 8.024117152216452e-06 , 0.00356188879871866 , 2.7098164690269337 , 596\n",
      "flt18cmaSPPFEV1 , flt18cma , SPPFEV1 , -1279.4952233228496 , 102.88109855433719 , -1.5920551774325709 , 0.1241442524520402 , 0.8203175669522278 , 693.497124323402 , 968\n",
      "flt18cmaSPPFEV3 , flt18cma , SPPFEV3 , -1273.6778326844183 , 75.734331616767 , -0.41808266626801016 , 0.14274917028901618 , 0.8264933952022998 , 774.340524977143 , 968\n",
      "flt18cmaSPPFEV6 , flt18cma , SPPFEV6 , -1212.2192731397167 , 65.47645554646506 , -0.06577680466865127 , 0.14436784026073818 , 0.8216335543479445 , 779.3760221906387 , 968\n",
      "flt18cmaSPPFVC , flt18cma , SPPFVC , -1212.57095076825 , 66.17324900393884 , -0.08147971336724867 , 0.14440837248683835 , 0.8215709112167582 , 780.413947765143 , 968\n",
      "flt18cmaSPPPEAK , flt18cma , SPPPEAK , -4398.686886547441 , 685.9348540795005 , -20.6975155024599 , 0.20440132666475108 , 0.6272182872204668 , 1520.1108429295891 , 968\n",
      "flt18cmaSPPMMEF , flt18cma , SPPMMEF , -2218.4270568246543 , 360.05933122914047 , -10.203088026803433 , 0.1115375848078628 , 0.4945618645997837 , 980.06487266877 , 968\n",
      "flt18cmaSPPFEF75 , flt18cma , SPPFEF75 , -762.7892292044091 , 47.31038741885321 , -0.1646823997917253 , 0.07359836750367904 , 0.4148484053655838 , 600.8143035009368 , 968\n",
      "flt18cmaSPPEXPIR , flt18cma , SPPEXPIR , 4.032576949180706 , 0.1570427644958274 , -0.007210089591839368 , 7.543469682261619e-05 , 0.009231675782143567 , 2.641228091716344 , 968\n",
      "flt18cSPPFEV1 , flt18c , SPPFEV1 , -942.4814255854976 , 11.404369418987347 , 0.8993656232818974 , 0.13970817873376873 , 0.8511094013013702 , 721.7491217289019 , 410\n",
      "flt18cSPPFEV3 , flt18c , SPPFEV3 , -721.8036942061512 , -55.2440829823197 , 3.533678090101893 , 0.16083095980982254 , 0.8569939803075872 , 812.1231619530935 , 410\n",
      "flt18cSPPFEV6 , flt18c , SPPFEV6 , -642.9549610756667 , -65.53048222491016 , 3.9025316073723038 , 0.16157758473045192 , 0.8512516506501091 , 815.3736428780054 , 410\n",
      "flt18cSPPFVC , flt18c , SPPFVC , -656.7384850987492 , -62.46623755266353 , 3.7960154061339426 , 0.16157210410556422 , 0.8514426264727775 , 816.3340448804147 , 410\n",
      "flt18cSPPPEAK , flt18c , SPPPEAK , -3868.3158824429147 , 522.5602180947342 , -15.896810081951589 , 0.23143948636718825 , 0.7225761476162861 , 1508.6110343889468 , 410\n",
      "flt18cSPPMMEF , flt18c , SPPMMEF , -2271.619955959759 , 313.3524864909271 , -10.169302281936496 , 0.13325893110543063 , 0.5313574174085058 , 969.0470050868861 , 410\n",
      "flt18cSPPFEF75 , flt18c , SPPFEF75 , -893.6536342923871 , 49.04842774880332 , -0.9797789562955547 , 0.08108721089985083 , 0.4500935369568968 , 594.5745601917132 , 410\n",
      "flt18cSPPEXPIR , flt18c , SPPEXPIR , 2.544295815191151 , 0.5895177803390934 , -0.021752166622431006 , 2.0299705581077604e-05 , 0.008794833035227656 , 2.6370491588978835 , 410\n",
      "flt18maSPPFEV1 , flt18ma , SPPFEV1 , -1433.2230239276869 , 134.106092052711 , -2.4903136282196097 , 0.12135331361375012 , 0.8010108890575133 , 672.637633939431 , 558\n",
      "flt18maSPPFEV3 , flt18ma , SPPFEV3 , -1645.883077765025 , 155.59579240288258 , -3.012949585708024 , 0.1343514308090854 , 0.8037097144501016 , 745.5230990900776 , 558\n",
      "flt18maSPPFEV6 , flt18ma , SPPFEV6 , -1592.9530363021777 , 143.71727893392864 , -2.6137930119722683 , 0.1369259873866504 , 0.7997887667714073 , 751.9789998366386 , 558\n",
      "flt18maSPPFVC , flt18ma , SPPFVC , -1583.6288549269507 , 142.70359312597776 , -2.5639114633536835 , 0.13700262009029007 , 0.7994476245985604 , 753.0743064175504 , 558\n",
      "flt18maSPPPEAK , flt18ma , SPPPEAK , -4558.302100950389 , 727.7087143411421 , -22.087885336447293 , 0.20160900762401113 , 0.5650149240607273 , 1529.0942262826627 , 558\n",
      "flt18maSPPMMEF , flt18ma , SPPMMEF , -1816.2037280333607 , 266.2380922394434 , -6.5558311961642195 , 0.1234508973443269 , 0.48863004630109097 , 982.7396842250254 , 558\n",
      "flt18maSPPFEF75 , flt18ma , SPPFEF75 , -463.250453178885 , -24.87194278844728 , 2.513633029090931 , 0.08318617500766656 , 0.4057905398248215 , 603.5685234562509 , 558\n",
      "flt18maSPPEXPIR , flt18ma , SPPEXPIR , 4.582408400047406 , 0.006152110234710198 , -0.0012175928715030377 , 8.276174076058762e-05 , 0.008795415236384718 , 2.6268258947972885 , 558\n",
      "mallcmaSPPFEV1 , mallcma , SPPFEV1 , -1566.2382115500454 , 43.6388475545833 , -0.7373736433803857 , 0.17165779718110252 , 0.8249731241098547 , 1062.393702823246 , 2113\n",
      "mallcmaSPPFEV3 , mallcma , SPPFEV3 , -1826.2563179240751 , -0.6487362395301685 , 0.048823126641518444 , 0.2192537025833875 , 0.11086239046040038 , 3430.7941337920493 , 2113\n",
      "mallcmaSPPFEV6 , mallcma , SPPFEV6 , -1891.3846742970782 , 7.569240036107889 , -0.00796625034965237 , 0.2199979880761439 , 0.12070188410266947 , 3441.5546139616717 , 2113\n",
      "mallcmaSPPFVC , mallcma , SPPFVC , -2076.6528341571984 , 62.02772108387517 , -0.8755948179467443 , 0.2040628515343066 , 0.8458429622976307 , 1308.5374645970476 , 2113\n",
      "mallcmaSPPPEAK , mallcma , SPPPEAK , -3464.9152782524197 , 203.0537102171775 , -2.5133182665821563 , 0.31531177739337046 , 0.7429513628266735 , 2673.7446867102503 , 2113\n",
      "mallcmaSPPMMEF , mallcma , SPPMMEF , -894.393310492811 , 0.783123517729656 , -0.1774589087028779 , 0.17838729854023055 , 0.06054544302928777 , 3495.9472918445604 , 2113\n",
      "mallcmaSPPFEF75 , mallcma , SPPFEF75 , -484.70191844472015 , -30.560513604242548 , 0.0699634900570374 , 0.09974778406014359 , 0.3516159876384417 , 792.8334107280846 , 2113\n",
      "mallcmaSPPEXPIR , mallcma , SPPEXPIR , 4.757533091492915 , 0.2630196868362185 , -0.0017919712145869466 , -4.1111303590440256e-05 , 0.30728370605788824 , 4.070165487532398 , 2113\n",
      "mallbSPPFEV1 , mallb , SPPFEV1 , -1603.4077853082317 , -14.136631670957158 , 0.01672432943722544 , 0.17970868560292452 , 0.7563467493452779 , 994.8746140553136 , 1076\n",
      "mallbSPPFEV3 , mallb , SPPFEV3 , -1633.329578692717 , 1.812017059482633 , -0.0017446747821494198 , 0.18648900411781633 , 0.12451449999738495 , 2842.385545597707 , 1076\n",
      "mallbSPPFEV6 , mallb , SPPFEV6 , -1684.1550651444345 , 5.001028042435656 , -0.004876785420369526 , 0.1890015239468067 , 0.1332310787658133 , 2853.4272822728735 , 1076\n",
      "mallbSPPFVC , mallb , SPPFVC , -2018.5461154589107 , -7.916218081768954 , 0.010485144703615678 , 0.2099958191538259 , 0.7876146064874472 , 1194.9694659933157 , 1076\n",
      "mallbSPPPEAK , mallb , SPPPEAK , -3891.8401155289184 , -5.190492504364057 , 0.00553065778208435 , 0.4160213812784589 , 0.6522602230456238 , 2686.3023442739527 , 1076\n",
      "mallbSPPMMEF , mallb , SPPMMEF , -1038.0998220679458 , -12.747944403165349 , 0.012820466736492626 , 0.17340708658137682 , 0.08120642886865082 , 2948.4081083128635 , 1076\n",
      "mallbSPPFEF75 , mallb , SPPFEF75 , -577.971120674747 , -22.136646709209653 , 0.024676100792376462 , 0.0882125224432293 , 0.2785473205831587 , 757.6944063539564 , 1076\n",
      "mallbSPPEXPIR , mallb , SPPEXPIR , 4.074869156505905 , 0.10709933817103796 , -0.00011920430080344305 , 4.916274776049117e-05 , 0.22387223054387959 , 3.450946372180227 , 1076\n",
      "mallcSPPFEV1 , mallc , SPPFEV1 , -1600.4065904107802 , 35.92747622560789 , -0.6183524508336399 , 0.17246668217817257 , 0.8345270546660517 , 1113.6486240203426 , 917\n",
      "mallcSPPFEV3 , mallc , SPPFEV3 , -2024.6379633748875 , -18.11506596745459 , 0.25845902550835165 , 0.23169632851882893 , 0.087993746032336 , 4170.721298059344 , 917\n",
      "mallcSPPFEV6 , mallc , SPPFEV6 , -2081.1604377121894 , -8.419646165050564 , 0.18730247716094467 , 0.2315328517178397 , 0.09636773765550533 , 4178.1060488242565 , 917\n",
      "mallcSPPFVC , mallc , SPPFVC , -2133.822622038342 , 55.0543867591983 , -0.7640232675328507 , 0.206595135556077 , 0.8559126479458028 , 1385.417377696069 , 917\n",
      "mallcSPPPEAK , mallc , SPPPEAK , -3208.527371516082 , 193.03205623794844 , -2.3083609408209003 , 0.30129356203453894 , 0.7658692369335259 , 2709.420479110869 , 917\n",
      "mallcSPPMMEF , mallc , SPPMMEF , -1068.1851814082765 , -24.795561590053012 , 0.1508461853875214 , 0.18734709299704566 , 0.04425405373607816 , 4222.113802768954 , 917\n",
      "mallcSPPFEF75 , mallc , SPPFEF75 , -561.4877622564622 , -36.49419820363879 , 0.1525739263012759 , 0.10063447280416342 , 0.3737499570963386 , 817.1678107781686 , 917\n",
      "mallcSPPEXPIR , mallc , SPPEXPIR , 4.77857349128821 , 0.23679060964451806 , -0.001567173896502787 , -2.240357613759623e-05 , 0.35572180983047036 , 3.8834174729402378 , 917\n",
      "mallmaSPPFEV1 , mallma , SPPFEV1 , -1733.3961304002987 , 46.35472536266989 , -0.8087845483170577 , 0.18030188897897292 , 0.8302331065221168 , 1019.9570959355559 , 1196\n",
      "mallmaSPPFEV3 , mallma , SPPFEV3 , -1864.0722622667845 , 6.079860339704624 , -0.040654978068651565 , 0.2200149177251266 , 0.1489146460992926 , 2725.051052204261 , 1196\n",
      "mallmaSPPFEV6 , mallma , SPPFEV6 , -1916.5192217026597 , 14.890490537690138 , -0.11053168204063943 , 0.21989543264121492 , 0.15976497446348548 , 2738.5564303571687 , 1196\n",
      "mallmaSPPFVC , mallma , SPPFVC , -2131.7342639354447 , 71.21026083941277 , -1.0386610941437164 , 0.2041856268678357 , 0.8390253429602053 , 1234.9268357019982 , 1196\n",
      "mallmaSPPPEAK , mallma , SPPPEAK , -4105.992662796648 , 208.67674181067943 , -2.7012534585167405 , 0.34556550572108913 , 0.7358609373239563 , 2641.479574295398 , 1196\n",
      "mallmaSPPMMEF , mallma , SPPMMEF , -1333.3112378203546 , -4.687111826388463 , -0.12468421747440431 , 0.20606414363696535 , 0.10106101815417734 , 2815.2179757691238 , 1196\n",
      "mallmaSPPFEF75 , mallma , SPPFEF75 , -693.1465512378697 , -40.45607288496073 , 0.1925863653523859 , 0.11659823074655191 , 0.36371147508844903 , 768.7639819114919 , 1196\n",
      "mallmaSPPEXPIR , mallma , SPPEXPIR , 4.838741240484412 , 0.2784060800773007 , -0.0018760676012352794 , -5.769938543365768e-05 , 0.27133431831889177 , 4.1909271650544975 , 1196\n",
      "fallcmaSPPFEV1 , fallcma , SPPFEV1 , -772.8807498278265 , 23.598326592379085 , -0.46179580255873254 , 0.1387422893548108 , 0.712493977775543 , 653.3586448376316 , 2981\n",
      "fallcmaSPPFEV3 , fallcma , SPPFEV3 , -490.04602324029884 , -26.90205564274636 , 0.5338957419289178 , 0.16652050658477868 , 0.011799392161420341 , 6117.170476258875 , 2981\n",
      "fallcmaSPPFEV6 , fallcma , SPPFEV6 , -544.2648997394936 , -22.024323473975198 , 0.5026258670576494 , 0.16759061451018917 , 0.013275814186679002 , 6112.147529755896 , 2981\n",
      "fallcmaSPPFVC , fallcma , SPPFVC , -1160.5803434285285 , 37.69828401236009 , -0.5723071848804258 , 0.16308959728986983 , 0.7072661238888505 , 750.1000090957901 , 2981\n",
      "fallcmaSPPPEAK , fallcma , SPPPEAK , -1054.8488267903622 , 90.18738862984812 , -1.2542351740944522 , 0.24574275707724358 , 0.4941188528376257 , 1515.5094427097333 , 2981\n",
      "fallcmaSPPMMEF , fallcma , SPPMMEF , 733.0625106876696 , -34.62056512926646 , 0.44640382378760773 , 0.12980303373673102 , 0.0038145982018624736 , 6169.143112271684 , 2981\n",
      "fallcmaSPPFEF75 , fallcma , SPPFEF75 , -8.34534669391951 , -27.713752436787566 , 0.11002020578522403 , 0.08130100064546632 , 0.20957939396081593 , 852.830659004816 , 2981\n",
      "fallcmaSPPEXPIR , fallcma , SPPEXPIR , 5.022689139798679 , 0.17999953012085632 , -0.0010831543948141584 , -2.9371008539247367e-05 , 0.20305689521615733 , 4.285345143907985 , 2981\n",
      "fallbSPPFEV1 , fallb , SPPFEV1 , -1019.280280111901 , 18.8885179469793 , -0.4174815791048883 , 0.13464495314746724 , 0.6484780470978883 , 615.7588983801943 , 1535\n",
      "fallbSPPFEV3 , fallb , SPPFEV3 , -1055.3916639704207 , 22.685975840138603 , -0.27523405265129297 , 0.14501176280916253 , 0.018254225921975564 , 3864.31324950026 , 1535\n",
      "fallbSPPFEV6 , fallb , SPPFEV6 , -1083.4695650460108 , 26.927830393575682 , -0.30305472345503187 , 0.14537338981398035 , 0.01973377418343114 , 3862.8771820211036 , 1535\n",
      "fallbSPPFVC , fallb , SPPFVC , -1244.8204210868698 , 31.32592079439168 , -0.5211290991018025 , 0.15060214531303834 , 0.6468775032084637 , 696.7795200550142 , 1535\n",
      "fallbSPPPEAK , fallb , SPPPEAK , -1502.0568470213284 , 101.33200432325594 , -1.5104955439137333 , 0.2514841364493614 , 0.4530757962031473 , 1629.1131387949802 , 1535\n",
      "fallbSPPMMEF , fallb , SPPMMEF , -595.4253847716868 , 15.918788404372343 , -0.38029799760888217 , 0.1437176135281159 , 0.016898002152664793 , 3948.934991102385 , 1535\n",
      "fallbSPPFEF75 , fallb , SPPFEF75 , -373.9091195072863 , -21.136450183096144 , 0.037214032609708333 , 0.08229308976512237 , 0.23885445448169615 , 697.0815533711486 , 1535\n",
      "fallbSPPEXPIR , fallb , SPPEXPIR , 4.79636315989705 , 0.1945976106046301 , -0.001222780313504349 , -3.802701049208121e-05 , 0.14585226620698977 , 4.707628274293765 , 1535\n",
      "fallcSPPFEV1 , fallc , SPPFEV1 , -769.9248377222507 , 21.31623010255841 , -0.4210608553370896 , 0.1373144841840457 , 0.7390223168837626 , 688.6735628826177 , 1422\n",
      "fallcSPPFEV3 , fallc , SPPFEV3 , -954.0405751146118 , -39.12803006118419 , 0.6687328621156926 , 0.18884546347490794 , 0.01184234405339979 , 6849.6124744916115 , 1422\n",
      "fallcSPPFEV6 , fallc , SPPFEV6 , -1000.6252367365009 , -33.28717945990973 , 0.6276022412059542 , 0.18903936913852415 , 0.01323794823300195 , 6842.5006007076 , 1422\n",
      "fallcSPPFVC , fallc , SPPFVC , -1151.324792606773 , 37.20377806933095 , -0.5539046691995024 , 0.16114048386860436 , 0.7263352533254008 , 793.4664746326671 , 1422\n",
      "fallcSPPPEAK , fallc , SPPPEAK , -884.6338695740296 , 95.88822408195438 , -1.2700251033080607 , 0.22962068413427905 , 0.5417065289675136 , 1524.7412723844923 , 1422\n",
      "fallcSPPMMEF , fallc , SPPMMEF , 151.15608316217322 , -56.310110215481714 , 0.709902471037637 , 0.15703598352247447 , 0.004660374614399498 , 6911.228064512907 , 1422\n",
      "fallcSPPFEF75 , fallc , SPPFEF75 , -151.42999568898153 , -34.80298224816122 , 0.20149047570535608 , 0.08763384521480555 , 0.21000306800803525 , 901.7217211566914 , 1422\n",
      "fallcSPPEXPIR , fallc , SPPEXPIR , 5.798115551066113 , 0.1825060141460499 , -0.0011481537751960303 , -5.675784450198749e-05 , 0.16216807756998908 , 4.84713176990834 , 1422\n",
      "fallmaSPPFEV1 , fallma , SPPFEV1 , -980.3172495840222 , 24.850306845237526 , -0.4910334322250151 , 0.1489263613025196 , 0.6955324979909387 , 619.5933220687307 , 1559\n",
      "fallmaSPPFEV3 , fallma , SPPFEV3 , -482.2730396097795 , -27.738477834855164 , 0.5809340099454614 , 0.1687317836761965 , 0.011322043526090786 , 5361.536744008 , 1559\n",
      "fallmaSPPFEV6 , fallma , SPPFEV6 , -528.5194163070064 , -23.26216222880124 , 0.5520143171171858 , 0.1697360720334656 , 0.012618910110106962 , 5358.196721414702 , 1559\n",
      "fallmaSPPFVC , fallma , SPPFVC , -1283.727545959407 , 38.72489296202397 , -0.6005587306784111 , 0.16928023182603358 , 0.6867037113561782 , 704.8019601411362 , 1559\n",
      "fallmaSPPPEAK , fallma , SPPPEAK , -1485.3374171260912 , 90.41900194231222 , -1.3261289901007738 , 0.2691187901215566 , 0.4595938589215735 , 1505.636872856795 , 1559\n",
      "fallmaSPPMMEF , fallma , SPPMMEF , 348.4402325479018 , -32.67473584987906 , 0.452439564721065 , 0.1510517613871153 , 0.005244997398437645 , 5405.768317420321 , 1559\n",
      "fallmaSPPFEF75 , fallma , SPPFEF75 , -225.13117256700002 , -26.598634521091586 , 0.09907243004084251 , 0.09241794450176452 , 0.2104750174372627 , 797.3611146878526 , 1559\n",
      "fallmaSPPEXPIR , fallma , SPPEXPIR , 4.358198654480156 , 0.17374904961025994 , -0.0009520966435237349 , -1.957941495179204e-06 , 0.25185823928916773 , 3.6580379378699104 , 1559\n",
      "at end\n",
      "                   dfname       var    intercept         b1        b2  \\\n",
      "dfnvarn                                                                 \n",
      "m20overbSPPFEV1  m20overb   SPPFEV1   834.142394 -28.091309  0.032409   \n",
      "m20overbSPPFEV3  m20overb   SPPFEV3  2791.394906 -14.328192  0.016129   \n",
      "m20overbSPPFEV6  m20overb   SPPFEV6  2596.011608 -11.583482  0.013529   \n",
      "m20overbSPPFVC   m20overb    SPPFVC   197.112201 -23.746221  0.028356   \n",
      "m20overbSPPPEAK  m20overb   SPPPEAK  2055.159999 -51.324079  0.057718   \n",
      "...                   ...       ...          ...        ...       ...   \n",
      "fallmaSPPFVC       fallma    SPPFVC -1283.727546  38.724893 -0.600559   \n",
      "fallmaSPPPEAK      fallma   SPPPEAK -1485.337417  90.419002 -1.326129   \n",
      "fallmaSPPMMEF      fallma   SPPMMEF   348.440233 -32.674736  0.452440   \n",
      "fallmaSPPFEF75     fallma  SPPFEF75  -225.131173 -26.598635  0.099072   \n",
      "fallmaSPPEXPIR     fallma  SPPEXPIR     4.358199   0.173749 -0.000952   \n",
      "\n",
      "                       b3        r2          std count  \n",
      "dfnvarn                                                 \n",
      "m20overbSPPFEV1  0.119761  0.470115   715.605869   476  \n",
      "m20overbSPPFEV3  0.065322  0.004268  3962.457001   476  \n",
      "m20overbSPPFEV6  0.073175  0.003885  3956.925291   476  \n",
      "m20overbSPPFVC   0.159957  0.436943   794.344433   476  \n",
      "m20overbSPPPEAK  0.286332  0.254362  2031.126257   476  \n",
      "...                   ...       ...          ...   ...  \n",
      "fallmaSPPFVC     0.169280  0.686704   704.801960  1559  \n",
      "fallmaSPPPEAK    0.269119  0.459594  1505.636873  1559  \n",
      "fallmaSPPMMEF    0.151052  0.005245  5405.768317  1559  \n",
      "fallmaSPPFEF75   0.092418  0.210475   797.361115  1559  \n",
      "fallmaSPPEXPIR  -0.000002  0.251858     3.658038  1559  \n",
      "\n",
      "[192 rows x 9 columns]\n"
     ]
    }
   ],
   "source": [
    "# First initialize resultsratio dataframe\n",
    "column_names = [\"dfnvarn\",\"dfname\", \"var\", \"intercept\", \"b1\", \"b2\", \"b3\", \"r2\", \"std\", \"count\"]\n",
    "# print (column_names)\n",
    "resultsnonratio = pd.DataFrame(columns = column_names)\n",
    "resultsnonratio.name = 'resultsnonratio'\n",
    "print (resultsnonratio)\n",
    "print ('Linear Regression of variables in form y = intercept + b1 * age + b2 * age * age + b3 * height * height')\n",
    "print ('dfnvarn, dataframe ,  variable,        intercept,   [b1. b2. b3]. ,            R squared,         standard deviation   count')\n",
    "for y in framestoanalyze:\n",
    "  #  print (y.name)\n",
    "    for xx in varsnonratio:\n",
    "  #       print(y, \" \", xx)\n",
    "         reg = height_age_reg(y,xx)\n",
    "         dbname, var, intercept, coef, r2, std, count = reg\n",
    "         b1, b2, b3, = coef \n",
    "                  \n",
    "         dfnvarn = y.name + xx\n",
    "         print (dfnvarn, ',', dbname, ',', var, ',',intercept, ',',b1, ',',b2, ',',b3, ',',r2, ',',std, ',',count)\n",
    "         #  Columns: [dfnvarn, dfname, var, intercept, b1, b2, b3, r2, std, count]  \n",
    "            \n",
    "         df2 = {'dfnvarn': dfnvarn, 'dfname': y.name, 'var': xx, 'intercept': intercept, 'b1': b1, 'b2': b2, 'b3': b3, 'r2':r2, 'std':std, 'count':count}                          \n",
    "         resultsnonratio = resultsnonratio.append(df2, ignore_index=True)\n",
    "print ('at end')\n",
    "resultsnonratio.set_index('dfnvarn', inplace=True)\n",
    "print (resultsnonratio)            "
   ]
  },
  {
   "cell_type": "markdown",
   "metadata": {},
   "source": [
    "## ****** Now percent predicted values"
   ]
  },
  {
   "cell_type": "markdown",
   "metadata": {},
   "source": [
    "First function to create PPratiovars for a dataframe, then create for all dataframes"
   ]
  },
  {
   "cell_type": "markdown",
   "metadata": {},
   "source": [
    "def createvarspp(df):\n",
    "    vn = df.name + 'FEV1OFVC'\n",
    "    df['FEV1OFVCPP'] = df.FEV1OFVC / (resultsratio.loc[vn, 'intercept'] + resultsratio.loc[vn, 'slope'] * (df.HSAGEIR / 12))\n",
    " #   print (vn)\n",
    " #   vn = df.name + 'FEV1OFEV6'\n",
    "#    print (vn)\n",
    "    vn = df.name + 'PEFROFVC'\n",
    "    df['PEFROFVCPP'] = df.PEFROFVC / (resultsratio.loc[vn, 'intercept'] + resultsratio.loc[vn, 'slope'] * (df.HSAGEIR / 12))\n",
    "    vn = df.name + 'FEV1OFEV6'\n",
    "    df['FEV1OFEV6PP']= df.FEV1OFEV6 / (resultsratio.loc[vn, 'intercept'] + resultsratio.loc[vn, 'slope'] * (df.HSAGEIR / 12))\n",
    "    vn = df.name + 'PEFROFVC'\n",
    "    df['PEFROFVCPP'] = df.PEFROFVC / (resultsratio.loc[vn, 'intercept'] + resultsratio.loc[vn, 'slope'] * (df.HSAGEIR / 12))\n",
    "    vn = df.name + 'PEFROFEV6'\n",
    "    df['PEFROFEV6PP']= df.PEFROFEV6 / (resultsratio.loc[vn, 'intercept'] + resultsratio.loc[vn, 'slope'] * (df.HSAGEIR / 12))\n",
    "    vn = df.name + 'PEFROFEV1'\n",
    "    df['PEFROFEV1PP'] = df.PEFROFEV1 / (resultsratio.loc[vn, 'intercept'] + resultsratio.loc[vn, 'slope'] * (df.HSAGEIR / 12))\n",
    "    vn = df.name + 'FEV3OFVC'\n",
    "    df['FEV3OFVCPP'] = df.FEV3OFVC / (resultsratio.loc[vn, 'intercept'] + resultsratio.loc[vn, 'slope'] * (df.HSAGEIR / 12))\n",
    "    vn = df.name + 'FEV6OFVC'\n",
    "    df['FEV6OFVCPP'] = df.FEV6OFVC / (resultsratio.loc[vn, 'intercept'] + resultsratio.loc[vn, 'slope'] * (df.HSAGEIR / 12))"
   ]
  },
  {
   "cell_type": "code",
   "execution_count": 295,
   "metadata": {},
   "outputs": [],
   "source": [
    "def createvarspp(df):\n",
    "    vn = df.name + 'FEV1OFVC'\n",
    "    df['FEV1OFVCPP'] = df.FEV1OFVC / (resultsratio.loc[vn, 'intercept'] + resultsratio.loc[vn, 'slope'] * (df.HSAITMOR_exam / 12))\n",
    " #   print (vn)\n",
    " #   vn = df.name + 'FEV1OFEV6'\n",
    "#    print (vn)\n",
    "    vn = df.name + 'PEFROFVC'\n",
    "    df['PEFROFVCPP'] = df.PEFROFVC / (resultsratio.loc[vn, 'intercept'] + resultsratio.loc[vn, 'slope'] * (df.HSAITMOR_exam / 12))\n",
    "    vn = df.name + 'FEV1OFEV6'\n",
    "    df['FEV1OFEV6PP']= df.FEV1OFEV6 / (resultsratio.loc[vn, 'intercept'] + resultsratio.loc[vn, 'slope'] * (df.HSAITMOR_exam / 12))\n",
    "    vn = df.name + 'PEFROFVC'\n",
    "    df['PEFROFVCPP'] = df.PEFROFVC / (resultsratio.loc[vn, 'intercept'] + resultsratio.loc[vn, 'slope'] * (df.HSAITMOR_exam / 12))\n",
    "    vn = df.name + 'PEFROFEV6'\n",
    "    df['PEFROFEV6PP']= df.PEFROFEV6 / (resultsratio.loc[vn, 'intercept'] + resultsratio.loc[vn, 'slope'] * (df.HSAITMOR_exam / 12))\n",
    "    vn = df.name + 'PEFROFEV1'\n",
    "    df['PEFROFEV1PP'] = df.PEFROFEV1 / (resultsratio.loc[vn, 'intercept'] + resultsratio.loc[vn, 'slope'] * (df.HSAITMOR_exam / 12))\n",
    "    vn = df.name + 'FEV3OFVC'\n",
    "    df['FEV3OFVCPP'] = df.FEV3OFVC / (resultsratio.loc[vn, 'intercept'] + resultsratio.loc[vn, 'slope'] * (df.HSAITMOR_exam / 12))\n",
    "    vn = df.name + 'FEV6OFVC'\n",
    "    df['FEV6OFVCPP'] = df.FEV6OFVC / (resultsratio.loc[vn, 'intercept'] + resultsratio.loc[vn, 'slope'] * (df.HSAITMOR_exam / 12))"
   ]
  },
  {
   "cell_type": "markdown",
   "metadata": {},
   "source": [
    "For all dataframes, create ppvar values (shows caveat but works)"
   ]
  },
  {
   "cell_type": "code",
   "execution_count": 296,
   "metadata": {},
   "outputs": [
    {
     "name": "stderr",
     "output_type": "stream",
     "text": [
      "/usr/local/lib/python3.7/site-packages/ipykernel_launcher.py:3: SettingWithCopyWarning: \n",
      "A value is trying to be set on a copy of a slice from a DataFrame.\n",
      "Try using .loc[row_indexer,col_indexer] = value instead\n",
      "\n",
      "See the caveats in the documentation: https://pandas.pydata.org/pandas-docs/stable/user_guide/indexing.html#returning-a-view-versus-a-copy\n",
      "  This is separate from the ipykernel package so we can avoid doing imports until\n",
      "/usr/local/lib/python3.7/site-packages/ipykernel_launcher.py:8: SettingWithCopyWarning: \n",
      "A value is trying to be set on a copy of a slice from a DataFrame.\n",
      "Try using .loc[row_indexer,col_indexer] = value instead\n",
      "\n",
      "See the caveats in the documentation: https://pandas.pydata.org/pandas-docs/stable/user_guide/indexing.html#returning-a-view-versus-a-copy\n",
      "  \n",
      "/usr/local/lib/python3.7/site-packages/ipykernel_launcher.py:10: SettingWithCopyWarning: \n",
      "A value is trying to be set on a copy of a slice from a DataFrame.\n",
      "Try using .loc[row_indexer,col_indexer] = value instead\n",
      "\n",
      "See the caveats in the documentation: https://pandas.pydata.org/pandas-docs/stable/user_guide/indexing.html#returning-a-view-versus-a-copy\n",
      "  # Remove the CWD from sys.path while we load stuff.\n",
      "/usr/local/lib/python3.7/site-packages/ipykernel_launcher.py:12: SettingWithCopyWarning: \n",
      "A value is trying to be set on a copy of a slice from a DataFrame.\n",
      "Try using .loc[row_indexer,col_indexer] = value instead\n",
      "\n",
      "See the caveats in the documentation: https://pandas.pydata.org/pandas-docs/stable/user_guide/indexing.html#returning-a-view-versus-a-copy\n",
      "  if sys.path[0] == '':\n",
      "/usr/local/lib/python3.7/site-packages/ipykernel_launcher.py:14: SettingWithCopyWarning: \n",
      "A value is trying to be set on a copy of a slice from a DataFrame.\n",
      "Try using .loc[row_indexer,col_indexer] = value instead\n",
      "\n",
      "See the caveats in the documentation: https://pandas.pydata.org/pandas-docs/stable/user_guide/indexing.html#returning-a-view-versus-a-copy\n",
      "  \n",
      "/usr/local/lib/python3.7/site-packages/ipykernel_launcher.py:16: SettingWithCopyWarning: \n",
      "A value is trying to be set on a copy of a slice from a DataFrame.\n",
      "Try using .loc[row_indexer,col_indexer] = value instead\n",
      "\n",
      "See the caveats in the documentation: https://pandas.pydata.org/pandas-docs/stable/user_guide/indexing.html#returning-a-view-versus-a-copy\n",
      "  app.launch_new_instance()\n",
      "/usr/local/lib/python3.7/site-packages/ipykernel_launcher.py:18: SettingWithCopyWarning: \n",
      "A value is trying to be set on a copy of a slice from a DataFrame.\n",
      "Try using .loc[row_indexer,col_indexer] = value instead\n",
      "\n",
      "See the caveats in the documentation: https://pandas.pydata.org/pandas-docs/stable/user_guide/indexing.html#returning-a-view-versus-a-copy\n",
      "/usr/local/lib/python3.7/site-packages/ipykernel_launcher.py:20: SettingWithCopyWarning: \n",
      "A value is trying to be set on a copy of a slice from a DataFrame.\n",
      "Try using .loc[row_indexer,col_indexer] = value instead\n",
      "\n",
      "See the caveats in the documentation: https://pandas.pydata.org/pandas-docs/stable/user_guide/indexing.html#returning-a-view-versus-a-copy\n"
     ]
    }
   ],
   "source": [
    "for y in framestoanalyze:\n",
    "    createvarspp(y)"
   ]
  },
  {
   "cell_type": "code",
   "execution_count": 297,
   "metadata": {},
   "outputs": [
    {
     "name": "stdout",
     "output_type": "stream",
     "text": [
      "['HAR1' 'HAR23' 'HAR26' 'HAC1E' 'HAC1F' 'HAC1G' 'HAC1O' 'HAL6' 'HAL10'\n",
      " 'HAL1' 'HAL3' 'HAL5' 'DMARACER' 'DMARETHN' 'DMAETHNR' 'HSSEX' 'HSAGEIR'\n",
      " 'HSAGEU' 'HXPAXTMR' 'HXPSESSR' 'HSAITMOR' 'HAR4S' 'SPPQ1' 'SPPQ2' 'SPPQ3'\n",
      " 'SPPQ4' 'SPPQ5' 'SPPMANEU' 'MYPB1' 'MYPB3' 'MYPB11' 'MYPB27A' 'MYPB27B'\n",
      " 'HSAGEIR_exam' 'HSAGEU_exam' 'HXPAXTMR_exam' 'HXPSESSR_exam' 'HXPEJ6A2'\n",
      " 'SPPTECH1' 'SPPTRIAL' 'SPPPEAK' 'SPPFEV05' 'SPPFEV1' 'SPPFEV3' 'SPPFEV6'\n",
      " 'SPPFVC' 'SPPMMEF' 'SPPFEF75' 'SPPTYPE' 'SPPREPRO' 'SPPTIME' 'SPPEXPIR'\n",
      " 'SPPTEMP' 'HSSEX_exam' 'WTPFHX6' 'MXPAXTMR' 'BMPHT' 'BMPSITHT' 'BMPWT'\n",
      " 'DMARACER_exam' 'DMARETHN_exam' 'DMAETHNR_exam' 'HSAITMOR_exam' 'HXPG1'\n",
      " 'HXPG2A' 'HXPG2B' 'FEV1OFVC' 'FEV1OFEV6' 'PEFROFVC' 'PEFROFEV6'\n",
      " 'PEFROFEV1' 'FEV3OFVC' 'FEV6OFVC' 'FEV1OFVCPP' 'PEFROFVCPP' 'FEV1OFEV6PP'\n",
      " 'PEFROFEV6PP' 'PEFROFEV1PP' 'FEV3OFVCPP' 'FEV6OFVCPP']\n"
     ]
    }
   ],
   "source": [
    "print (m20overb.columns.values)"
   ]
  },
  {
   "cell_type": "markdown",
   "metadata": {},
   "source": [
    "Check can refer to resultsratio value"
   ]
  },
  {
   "cell_type": "code",
   "execution_count": 298,
   "metadata": {},
   "outputs": [
    {
     "name": "stdout",
     "output_type": "stream",
     "text": [
      "                     dfname        var  intercept     slope        r2  \\\n",
      "dfnvarn                                                                 \n",
      "m20overbFEV1OFVC   m20overb   FEV1OFVC   0.838493 -0.000364  0.040567   \n",
      "m20overbFEV1OFEV6  m20overb  FEV1OFEV6   0.848161 -0.000295  0.025118   \n",
      "m20overbPEFROFVC   m20overb   PEFROFVC   2.147290 -0.000640  0.004285   \n",
      "m20overbPEFROFEV6  m20overb  PEFROFEV6   2.171810 -0.000469  0.002186   \n",
      "m20overbPEFROFEV1  m20overb  PEFROFEV1   2.556383  0.000309  0.000993   \n",
      "...                     ...        ...        ...       ...       ...   \n",
      "fallmaPEFROFVC       fallma   PEFROFVC   1.909966  0.000057  0.000008   \n",
      "fallmaPEFROFEV6      fallma  PEFROFEV6   1.896003  0.001138  0.002990   \n",
      "fallmaPEFROFEV1      fallma  PEFROFEV1   2.046834  0.006300  0.088368   \n",
      "fallmaFEV3OFVC       fallma   FEV3OFVC   0.768530  0.011483  0.008196   \n",
      "fallmaFEV6OFVC       fallma   FEV6OFVC   0.767856  0.012309  0.009432   \n",
      "\n",
      "                        std count  \n",
      "dfnvarn                            \n",
      "m20overbFEV1OFVC   0.070906   476  \n",
      "m20overbFEV1OFEV6  0.073026   476  \n",
      "m20overbPEFROFVC   0.383087   476  \n",
      "m20overbPEFROFEV6  0.393406   476  \n",
      "m20overbPEFROFEV1  0.384026   476  \n",
      "...                     ...   ...  \n",
      "fallmaPEFROFVC     0.346442  1559  \n",
      "fallmaPEFROFEV6    0.367754  1559  \n",
      "fallmaPEFROFEV1    0.374325  1559  \n",
      "fallmaFEV3OFVC     2.240341  1559  \n",
      "fallmaFEV6OFVC     2.238725  1559  \n",
      "\n",
      "[168 rows x 7 columns]\n"
     ]
    }
   ],
   "source": [
    "print(resultsratio)"
   ]
  },
  {
   "cell_type": "code",
   "execution_count": 299,
   "metadata": {},
   "outputs": [
    {
     "name": "stdout",
     "output_type": "stream",
     "text": [
      "0.8384926730812566\n"
     ]
    }
   ],
   "source": [
    "vn = 'm20overbFEV1OFVC'\n",
    "print(resultsratio.loc[vn, 'intercept'] )"
   ]
  },
  {
   "cell_type": "code",
   "execution_count": 300,
   "metadata": {},
   "outputs": [
    {
     "name": "stdout",
     "output_type": "stream",
     "text": [
      "                   dfname       var    intercept         b1        b2  \\\n",
      "dfnvarn                                                                 \n",
      "m20overbSPPFEV1  m20overb   SPPFEV1   834.142394 -28.091309  0.032409   \n",
      "m20overbSPPFEV3  m20overb   SPPFEV3  2791.394906 -14.328192  0.016129   \n",
      "m20overbSPPFEV6  m20overb   SPPFEV6  2596.011608 -11.583482  0.013529   \n",
      "m20overbSPPFVC   m20overb    SPPFVC   197.112201 -23.746221  0.028356   \n",
      "m20overbSPPPEAK  m20overb   SPPPEAK  2055.159999 -51.324079  0.057718   \n",
      "...                   ...       ...          ...        ...       ...   \n",
      "fallmaSPPFVC       fallma    SPPFVC -1283.727546  38.724893 -0.600559   \n",
      "fallmaSPPPEAK      fallma   SPPPEAK -1485.337417  90.419002 -1.326129   \n",
      "fallmaSPPMMEF      fallma   SPPMMEF   348.440233 -32.674736  0.452440   \n",
      "fallmaSPPFEF75     fallma  SPPFEF75  -225.131173 -26.598635  0.099072   \n",
      "fallmaSPPEXPIR     fallma  SPPEXPIR     4.358199   0.173749 -0.000952   \n",
      "\n",
      "                       b3        r2          std count  \n",
      "dfnvarn                                                 \n",
      "m20overbSPPFEV1  0.119761  0.470115   715.605869   476  \n",
      "m20overbSPPFEV3  0.065322  0.004268  3962.457001   476  \n",
      "m20overbSPPFEV6  0.073175  0.003885  3956.925291   476  \n",
      "m20overbSPPFVC   0.159957  0.436943   794.344433   476  \n",
      "m20overbSPPPEAK  0.286332  0.254362  2031.126257   476  \n",
      "...                   ...       ...          ...   ...  \n",
      "fallmaSPPFVC     0.169280  0.686704   704.801960  1559  \n",
      "fallmaSPPPEAK    0.269119  0.459594  1505.636873  1559  \n",
      "fallmaSPPMMEF    0.151052  0.005245  5405.768317  1559  \n",
      "fallmaSPPFEF75   0.092418  0.210475   797.361115  1559  \n",
      "fallmaSPPEXPIR  -0.000002  0.251858     3.658038  1559  \n",
      "\n",
      "[192 rows x 9 columns]\n"
     ]
    }
   ],
   "source": [
    "print(resultsnonratio)"
   ]
  },
  {
   "cell_type": "code",
   "execution_count": 301,
   "metadata": {},
   "outputs": [
    {
     "name": "stdout",
     "output_type": "stream",
     "text": [
      "834.1423936943565\n"
     ]
    }
   ],
   "source": [
    "vn = 'm20overbSPPFEV1'\n",
    "print(resultsnonratio.loc[vn, 'intercept'] )"
   ]
  },
  {
   "cell_type": "markdown",
   "metadata": {},
   "source": [
    "# Now create PP Nonratio PP  FEV1PP, PEFRPP, FVCPP, FEV3PP, FEV6PP, MMEFPP, FEF75PP, EXPIRPP  from resultsnonratio"
   ]
  },
  {
   "cell_type": "markdown",
   "metadata": {},
   "source": [
    "\n",
    "# variables in form y = intercept + b1 * age + b2 * age * age + b3 * height * height')\n",
    "\n",
    "def createvarsnonratiopp(df):\n",
    "    vn = df.name + 'SPPFEV1'\n",
    "    df['FEV1PP'] = df.SPPFEV1 / (resultsnonratio.loc[vn, 'intercept'] ) # + resultsnonratio.loc[vn, 'b1'] * (df.HSAITMOR_exam / 12)  + resultsnonratio.loc[vn, 'b2'] * (df.HSAITMOR_exam / 12)* (df.HSAITMOR_exam / 12) + resultsnonratio.loc[vn, 'b3']* df.BMPHT * df.BMPHT )\n",
    "    vn = df.name + 'SPPFVC'\n",
    "    df['FVCPP'] = df.SPPFVC / (resultsnonratio.loc[vn, 'intercept'] + resultsnonratio.loc[vn, 'b1'] * (df.HSAITMOR_exam / 12)  + resultsnonratio.loc[vn, 'b2'] * (df.HSAITMOR_exam / 12)* (df.HSAITMOR_exam / 12) + resultsnonratio.loc[vn, 'b3']* df.BMPHT * df.BMPHT )\n",
    "    vn = df.name + 'SPPPEAK'\n",
    "    df['PEFRPP'] = df.SPPPEAK / (resultsnonratio.loc[vn, 'intercept'] + resultsnonratio.loc[vn, 'b1'] * (df.HSAITMOR_exam / 12)  + resultsnonratio.loc[vn, 'b2'] * (df.HSAITMOR_exam / 12)* (df.HSAITMOR_exam / 12) + resultsnonratio.loc[vn, 'b3']* df.BMPHT * df.BMPHT )\n",
    "    vn = df.name + 'SPPFEV3'\n",
    "    df['FEV3PP'] = df.SPPFEV3 / (resultsnonratio.loc[vn, 'intercept'] + resultsnonratio.loc[vn, 'b1'] * (df.HSAITMOR_exam / 12)  + resultsnonratio.loc[vn, 'b2'] * (df.HSAITMOR_exam / 12)* (df.HSAITMOR_exam / 12) + resultsnonratio.loc[vn, 'b3']* df.BMPHT * df.BMPHT )\n",
    "    vn = df.name + 'SPPFEV6'\n",
    "    df['FEV6PP'] = df.SPPFEV6 / (resultsnonratio.loc[vn, 'intercept'] + resultsnonratio.loc[vn, 'b1'] * (df.HSAITMOR_exam / 12)  + resultsnonratio.loc[vn, 'b2'] * (df.HSAITMOR_exam / 12)* (df.HSAITMOR_exam / 12) + resultsnonratio.loc[vn, 'b3']* df.BMPHT * df.BMPHT )\n",
    "    vn = df.name + 'SPPMMEF'\n",
    "    df['MMEFPP'] = df.SPPMMEF / (resultsnonratio.loc[vn, 'intercept'] + resultsnonratio.loc[vn, 'b1'] * (df.HSAITMOR_exam / 12)  + resultsnonratio.loc[vn, 'b2'] * (df.HSAITMOR_exam / 12)* (df.HSAITMOR_exam / 12) + resultsnonratio.loc[vn, 'b3']* df.BMPHT * df.BMPHT )\n",
    "    vn = df.name + 'SPPFEF75'\n",
    "    df['FEF75PP'] = df.SPPFEF75 / (resultsnonratio.loc[vn, 'intercept'] + resultsnonratio.loc[vn, 'b1'] * (df.HSAITMOR_exam / 12)  + resultsnonratio.loc[vn, 'b2'] * (df.HSAITMOR_exam / 12)* (df.HSAITMOR_exam / 12) + resultsnonratio.loc[vn, 'b3']* df.BMPHT * df.BMPHT )\n",
    "    vn = df.name + 'SPPEXPIR'\n",
    "    df['EXPIRPP'] = df.SPPEXPIR / (resultsnonratio.loc[vn, 'intercept'] + resultsnonratio.loc[vn, 'b1'] * (df.HSAITMOR_exam / 12)  + resultsnonratio.loc[vn, 'b2'] * (df.HSAITMOR_exam / 12)* (df.HSAITMOR_exam / 12) + resultsnonratio.loc[vn, 'b3']* df.BMPHT * df.BMPHT )"
   ]
  },
  {
   "cell_type": "code",
   "execution_count": 302,
   "metadata": {},
   "outputs": [],
   "source": [
    "\n",
    "# variables in form y = intercept + b1 * age + b2 * age * age + b3 * height * height')\n",
    "\n",
    "def createvarsnonratiopp(df):\n",
    "    vn = df.name + 'SPPFEV1'\n",
    "    df['FEV1PP'] = df.SPPFEV1 / (resultsnonratio.loc[vn, 'intercept'] ) # + resultsnonratio.loc[vn, 'b1'] * (df.HSAITMOR_exam / 12)  + resultsnonratio.loc[vn, 'b2'] * (df.HSAITMOR_exam / 12)* (df.HSAITMOR_exam / 12) + resultsnonratio.loc[vn, 'b3']* df.BMPHT * df.BMPHT )\n",
    "    vn = df.name + 'SPPFVC'\n",
    "    df['FVCPP'] = df.SPPFVC / (resultsnonratio.loc[vn, 'intercept'] + resultsnonratio.loc[vn, 'b1'] * (df.HSAITMOR_exam / 12)  + resultsnonratio.loc[vn, 'b2'] * (df.HSAITMOR_exam / 12)* (df.HSAITMOR_exam / 12) + resultsnonratio.loc[vn, 'b3']* df.BMPHT * df.BMPHT )\n",
    "    vn = df.name + 'SPPPEAK'\n",
    "    df['PEFRPP'] = df.SPPPEAK / (resultsnonratio.loc[vn, 'intercept'] + resultsnonratio.loc[vn, 'b1'] * (df.HSAITMOR_exam / 12)  + resultsnonratio.loc[vn, 'b2'] * (df.HSAITMOR_exam / 12)* (df.HSAITMOR_exam / 12) + resultsnonratio.loc[vn, 'b3']* df.BMPHT * df.BMPHT )\n",
    "    vn = df.name + 'SPPFEV3'\n",
    "    df['FEV3PP'] = df.SPPFEV3 / (resultsnonratio.loc[vn, 'intercept'] + resultsnonratio.loc[vn, 'b1'] * (df.HSAITMOR_exam / 12)  + resultsnonratio.loc[vn, 'b2'] * (df.HSAITMOR_exam / 12)* (df.HSAITMOR_exam / 12) + resultsnonratio.loc[vn, 'b3']* df.BMPHT * df.BMPHT )\n",
    "    vn = df.name + 'SPPFEV6'\n",
    "    df['FEV6PP'] = df.SPPFEV6 / (resultsnonratio.loc[vn, 'intercept'] + resultsnonratio.loc[vn, 'b1'] * (df.HSAITMOR_exam / 12)  + resultsnonratio.loc[vn, 'b2'] * (df.HSAITMOR_exam / 12)* (df.HSAITMOR_exam / 12) + resultsnonratio.loc[vn, 'b3']* df.BMPHT * df.BMPHT )\n",
    "    vn = df.name + 'SPPMMEF'\n",
    "    df['MMEFPP'] = df.SPPMMEF / (resultsnonratio.loc[vn, 'intercept'] + resultsnonratio.loc[vn, 'b1'] * (df.HSAITMOR_exam / 12)  + resultsnonratio.loc[vn, 'b2'] * (df.HSAITMOR_exam / 12)* (df.HSAITMOR_exam / 12) + resultsnonratio.loc[vn, 'b3']* df.BMPHT * df.BMPHT )\n",
    "    vn = df.name + 'SPPFEF75'\n",
    "    df['FEF75PP'] = df.SPPFEF75 / (resultsnonratio.loc[vn, 'intercept'] + resultsnonratio.loc[vn, 'b1'] * (df.HSAITMOR_exam / 12)  + resultsnonratio.loc[vn, 'b2'] * (df.HSAITMOR_exam / 12)* (df.HSAITMOR_exam / 12) + resultsnonratio.loc[vn, 'b3']* df.BMPHT * df.BMPHT )\n",
    "    vn = df.name + 'SPPEXPIR'\n",
    "    df['EXPIRPP'] = df.SPPEXPIR / (resultsnonratio.loc[vn, 'intercept'] + resultsnonratio.loc[vn, 'b1'] * (df.HSAITMOR_exam / 12)  + resultsnonratio.loc[vn, 'b2'] * (df.HSAITMOR_exam / 12)* (df.HSAITMOR_exam / 12) + resultsnonratio.loc[vn, 'b3']* df.BMPHT * df.BMPHT )"
   ]
  },
  {
   "cell_type": "markdown",
   "metadata": {},
   "source": [
    "For all dataframes create varsnonratiopp"
   ]
  },
  {
   "cell_type": "code",
   "execution_count": 303,
   "metadata": {},
   "outputs": [
    {
     "name": "stderr",
     "output_type": "stream",
     "text": [
      "/usr/local/lib/python3.7/site-packages/ipykernel_launcher.py:5: SettingWithCopyWarning: \n",
      "A value is trying to be set on a copy of a slice from a DataFrame.\n",
      "Try using .loc[row_indexer,col_indexer] = value instead\n",
      "\n",
      "See the caveats in the documentation: https://pandas.pydata.org/pandas-docs/stable/user_guide/indexing.html#returning-a-view-versus-a-copy\n",
      "  \"\"\"\n",
      "/usr/local/lib/python3.7/site-packages/ipykernel_launcher.py:7: SettingWithCopyWarning: \n",
      "A value is trying to be set on a copy of a slice from a DataFrame.\n",
      "Try using .loc[row_indexer,col_indexer] = value instead\n",
      "\n",
      "See the caveats in the documentation: https://pandas.pydata.org/pandas-docs/stable/user_guide/indexing.html#returning-a-view-versus-a-copy\n",
      "  import sys\n",
      "/usr/local/lib/python3.7/site-packages/ipykernel_launcher.py:9: SettingWithCopyWarning: \n",
      "A value is trying to be set on a copy of a slice from a DataFrame.\n",
      "Try using .loc[row_indexer,col_indexer] = value instead\n",
      "\n",
      "See the caveats in the documentation: https://pandas.pydata.org/pandas-docs/stable/user_guide/indexing.html#returning-a-view-versus-a-copy\n",
      "  if __name__ == '__main__':\n",
      "/usr/local/lib/python3.7/site-packages/ipykernel_launcher.py:11: SettingWithCopyWarning: \n",
      "A value is trying to be set on a copy of a slice from a DataFrame.\n",
      "Try using .loc[row_indexer,col_indexer] = value instead\n",
      "\n",
      "See the caveats in the documentation: https://pandas.pydata.org/pandas-docs/stable/user_guide/indexing.html#returning-a-view-versus-a-copy\n",
      "  # This is added back by InteractiveShellApp.init_path()\n",
      "/usr/local/lib/python3.7/site-packages/ipykernel_launcher.py:13: SettingWithCopyWarning: \n",
      "A value is trying to be set on a copy of a slice from a DataFrame.\n",
      "Try using .loc[row_indexer,col_indexer] = value instead\n",
      "\n",
      "See the caveats in the documentation: https://pandas.pydata.org/pandas-docs/stable/user_guide/indexing.html#returning-a-view-versus-a-copy\n",
      "  del sys.path[0]\n",
      "/usr/local/lib/python3.7/site-packages/ipykernel_launcher.py:15: SettingWithCopyWarning: \n",
      "A value is trying to be set on a copy of a slice from a DataFrame.\n",
      "Try using .loc[row_indexer,col_indexer] = value instead\n",
      "\n",
      "See the caveats in the documentation: https://pandas.pydata.org/pandas-docs/stable/user_guide/indexing.html#returning-a-view-versus-a-copy\n",
      "  from ipykernel import kernelapp as app\n",
      "/usr/local/lib/python3.7/site-packages/ipykernel_launcher.py:17: SettingWithCopyWarning: \n",
      "A value is trying to be set on a copy of a slice from a DataFrame.\n",
      "Try using .loc[row_indexer,col_indexer] = value instead\n",
      "\n",
      "See the caveats in the documentation: https://pandas.pydata.org/pandas-docs/stable/user_guide/indexing.html#returning-a-view-versus-a-copy\n",
      "/usr/local/lib/python3.7/site-packages/ipykernel_launcher.py:19: SettingWithCopyWarning: \n",
      "A value is trying to be set on a copy of a slice from a DataFrame.\n",
      "Try using .loc[row_indexer,col_indexer] = value instead\n",
      "\n",
      "See the caveats in the documentation: https://pandas.pydata.org/pandas-docs/stable/user_guide/indexing.html#returning-a-view-versus-a-copy\n"
     ]
    }
   ],
   "source": [
    "for y in framestoanalyze:\n",
    "    createvarsnonratiopp(y)"
   ]
  },
  {
   "cell_type": "code",
   "execution_count": 304,
   "metadata": {},
   "outputs": [
    {
     "name": "stdout",
     "output_type": "stream",
     "text": [
      "       HAR1  HAR23  HAR26  HAC1E  HAC1F  HAC1G  HAC1O  HAL6  HAL10  HAL1  ...  \\\n",
      "SEQN                                                                      ...   \n",
      "215       2      2      2      2      2      2      2     2      2     2  ...   \n",
      "460       2      2      2      2      2      2      2     2      2     2  ...   \n",
      "576       2      2      2      2      2      2      2     2      2     2  ...   \n",
      "580       2      2      2      2      2      2      2     2      2     2  ...   \n",
      "876       2      2      2      2      2      2      2     2      2     2  ...   \n",
      "...     ...    ...    ...    ...    ...    ...    ...   ...    ...   ...  ...   \n",
      "53347     2      2      2      2      2      2      2     2      2     2  ...   \n",
      "53371     2      2      2      2      2      2      2     2      2     2  ...   \n",
      "53446     2      2      2      2      2      2      2     2      2     2  ...   \n",
      "53490     2      2      2      2      2      2      2     2      2     2  ...   \n",
      "53495     2      2      2      2      2      2      2     2      2     2  ...   \n",
      "\n",
      "       FEV3OFVCPP  FEV6OFVCPP    FEV1PP     FVCPP    PEFRPP    FEV3PP  \\\n",
      "SEQN                                                                    \n",
      "215      0.928571    0.940525  4.085633  1.007422  0.884341  0.920558   \n",
      "460      0.984037    0.952531  5.518242  1.069433  1.116788  1.065086   \n",
      "576      0.980071    0.966950  4.414114  1.028797  0.961216  0.977965   \n",
      "580      0.979740    0.971990  4.812128  1.031046  1.129526  1.002366   \n",
      "876      0.900643    0.915974  3.338758  0.902811  0.728315  0.801845   \n",
      "...           ...         ...       ...       ...       ...       ...   \n",
      "53347    0.732505    0.715498  3.863849  1.000341  1.003430  1.008132   \n",
      "53371    0.913114    0.920625  3.469432  0.998364  1.182947  0.809189   \n",
      "53446    0.993125    0.970898  5.261692  1.052258  1.150554  1.067988   \n",
      "53490    1.000073    0.969285  4.559174  0.906865  1.113274  0.927462   \n",
      "53495    0.978447    0.966624  5.110638  1.036513  1.356697  1.052147   \n",
      "\n",
      "         FEV6PP    MMEFPP   FEF75PP   EXPIRPP  \n",
      "SEQN                                           \n",
      "215    0.935636  0.784680  0.652964  1.346424  \n",
      "460    1.039022  1.307391  1.689659  1.376171  \n",
      "576    0.975578  0.936468  0.866917  1.166127  \n",
      "580    1.003762  0.979715  1.397843  0.763760  \n",
      "876    0.812837  0.543192  0.478136  1.099415  \n",
      "...         ...       ...       ...       ...  \n",
      "53347  1.007390  1.023104  0.990141  1.006104  \n",
      "53371  0.809703  1.205316  1.784084  1.273915  \n",
      "53446  1.050372  1.321048  1.385985  0.728247  \n",
      "53490  0.902192  1.192465  1.288284  0.231156  \n",
      "53495  1.041464  1.400878  1.450861  0.790077  \n",
      "\n",
      "[476 rows x 88 columns]\n"
     ]
    }
   ],
   "source": [
    "print (m20overb)"
   ]
  },
  {
   "cell_type": "code",
   "execution_count": 305,
   "metadata": {},
   "outputs": [
    {
     "name": "stdout",
     "output_type": "stream",
     "text": [
      "0.8384926730812566\n"
     ]
    }
   ],
   "source": [
    "print (resultsratio.loc['m20overbFEV1OFVC', 'intercept'])"
   ]
  },
  {
   "cell_type": "markdown",
   "metadata": {},
   "source": [
    "# For all dataframes, create vars nonratiopp values"
   ]
  },
  {
   "cell_type": "code",
   "execution_count": 306,
   "metadata": {},
   "outputs": [
    {
     "name": "stderr",
     "output_type": "stream",
     "text": [
      "/usr/local/lib/python3.7/site-packages/ipykernel_launcher.py:5: SettingWithCopyWarning: \n",
      "A value is trying to be set on a copy of a slice from a DataFrame.\n",
      "Try using .loc[row_indexer,col_indexer] = value instead\n",
      "\n",
      "See the caveats in the documentation: https://pandas.pydata.org/pandas-docs/stable/user_guide/indexing.html#returning-a-view-versus-a-copy\n",
      "  \"\"\"\n",
      "/usr/local/lib/python3.7/site-packages/ipykernel_launcher.py:7: SettingWithCopyWarning: \n",
      "A value is trying to be set on a copy of a slice from a DataFrame.\n",
      "Try using .loc[row_indexer,col_indexer] = value instead\n",
      "\n",
      "See the caveats in the documentation: https://pandas.pydata.org/pandas-docs/stable/user_guide/indexing.html#returning-a-view-versus-a-copy\n",
      "  import sys\n",
      "/usr/local/lib/python3.7/site-packages/ipykernel_launcher.py:9: SettingWithCopyWarning: \n",
      "A value is trying to be set on a copy of a slice from a DataFrame.\n",
      "Try using .loc[row_indexer,col_indexer] = value instead\n",
      "\n",
      "See the caveats in the documentation: https://pandas.pydata.org/pandas-docs/stable/user_guide/indexing.html#returning-a-view-versus-a-copy\n",
      "  if __name__ == '__main__':\n",
      "/usr/local/lib/python3.7/site-packages/ipykernel_launcher.py:11: SettingWithCopyWarning: \n",
      "A value is trying to be set on a copy of a slice from a DataFrame.\n",
      "Try using .loc[row_indexer,col_indexer] = value instead\n",
      "\n",
      "See the caveats in the documentation: https://pandas.pydata.org/pandas-docs/stable/user_guide/indexing.html#returning-a-view-versus-a-copy\n",
      "  # This is added back by InteractiveShellApp.init_path()\n",
      "/usr/local/lib/python3.7/site-packages/ipykernel_launcher.py:13: SettingWithCopyWarning: \n",
      "A value is trying to be set on a copy of a slice from a DataFrame.\n",
      "Try using .loc[row_indexer,col_indexer] = value instead\n",
      "\n",
      "See the caveats in the documentation: https://pandas.pydata.org/pandas-docs/stable/user_guide/indexing.html#returning-a-view-versus-a-copy\n",
      "  del sys.path[0]\n",
      "/usr/local/lib/python3.7/site-packages/ipykernel_launcher.py:15: SettingWithCopyWarning: \n",
      "A value is trying to be set on a copy of a slice from a DataFrame.\n",
      "Try using .loc[row_indexer,col_indexer] = value instead\n",
      "\n",
      "See the caveats in the documentation: https://pandas.pydata.org/pandas-docs/stable/user_guide/indexing.html#returning-a-view-versus-a-copy\n",
      "  from ipykernel import kernelapp as app\n",
      "/usr/local/lib/python3.7/site-packages/ipykernel_launcher.py:17: SettingWithCopyWarning: \n",
      "A value is trying to be set on a copy of a slice from a DataFrame.\n",
      "Try using .loc[row_indexer,col_indexer] = value instead\n",
      "\n",
      "See the caveats in the documentation: https://pandas.pydata.org/pandas-docs/stable/user_guide/indexing.html#returning-a-view-versus-a-copy\n",
      "/usr/local/lib/python3.7/site-packages/ipykernel_launcher.py:19: SettingWithCopyWarning: \n",
      "A value is trying to be set on a copy of a slice from a DataFrame.\n",
      "Try using .loc[row_indexer,col_indexer] = value instead\n",
      "\n",
      "See the caveats in the documentation: https://pandas.pydata.org/pandas-docs/stable/user_guide/indexing.html#returning-a-view-versus-a-copy\n"
     ]
    }
   ],
   "source": [
    "for y in framestoanalyze:\n",
    "    createvarsnonratiopp(y)"
   ]
  },
  {
   "cell_type": "code",
   "execution_count": 307,
   "metadata": {},
   "outputs": [
    {
     "name": "stdout",
     "output_type": "stream",
     "text": [
      "['HAR1' 'HAR23' 'HAR26' 'HAC1E' 'HAC1F' 'HAC1G' 'HAC1O' 'HAL6' 'HAL10'\n",
      " 'HAL1' 'HAL3' 'HAL5' 'DMARACER' 'DMARETHN' 'DMAETHNR' 'HSSEX' 'HSAGEIR'\n",
      " 'HSAGEU' 'HXPAXTMR' 'HXPSESSR' 'HSAITMOR' 'HAR4S' 'SPPQ1' 'SPPQ2' 'SPPQ3'\n",
      " 'SPPQ4' 'SPPQ5' 'SPPMANEU' 'MYPB1' 'MYPB3' 'MYPB11' 'MYPB27A' 'MYPB27B'\n",
      " 'HSAGEIR_exam' 'HSAGEU_exam' 'HXPAXTMR_exam' 'HXPSESSR_exam' 'HXPEJ6A2'\n",
      " 'SPPTECH1' 'SPPTRIAL' 'SPPPEAK' 'SPPFEV05' 'SPPFEV1' 'SPPFEV3' 'SPPFEV6'\n",
      " 'SPPFVC' 'SPPMMEF' 'SPPFEF75' 'SPPTYPE' 'SPPREPRO' 'SPPTIME' 'SPPEXPIR'\n",
      " 'SPPTEMP' 'HSSEX_exam' 'WTPFHX6' 'MXPAXTMR' 'BMPHT' 'BMPSITHT' 'BMPWT'\n",
      " 'DMARACER_exam' 'DMARETHN_exam' 'DMAETHNR_exam' 'HSAITMOR_exam' 'HXPG1'\n",
      " 'HXPG2A' 'HXPG2B' 'FEV1OFVC' 'FEV1OFEV6' 'PEFROFVC' 'PEFROFEV6'\n",
      " 'PEFROFEV1' 'FEV3OFVC' 'FEV6OFVC' 'FEV1OFVCPP' 'PEFROFVCPP' 'FEV1OFEV6PP'\n",
      " 'PEFROFEV6PP' 'PEFROFEV1PP' 'FEV3OFVCPP' 'FEV6OFVCPP' 'FEV1PP' 'FVCPP'\n",
      " 'PEFRPP' 'FEV3PP' 'FEV6PP' 'MMEFPP' 'FEF75PP' 'EXPIRPP']\n"
     ]
    }
   ],
   "source": [
    "print (m20overb.columns.values)"
   ]
  },
  {
   "cell_type": "code",
   "execution_count": null,
   "metadata": {},
   "outputs": [],
   "source": []
  },
  {
   "cell_type": "markdown",
   "metadata": {},
   "source": [
    "# Now create variables that depend on PP - PEFRPPOFVCPP, and PEFRPPOFEV1PP, \n",
    "then regression vs age in resultsppvars in form dfvartnam, bo, b1\n",
    "then new value %pred\n",
    "then "
   ]
  },
  {
   "cell_type": "markdown",
   "metadata": {},
   "source": [
    "create PEFRpp/FEV1pp and PEFRpp/FVCpp for all dataframes"
   ]
  },
  {
   "cell_type": "code",
   "execution_count": 308,
   "metadata": {},
   "outputs": [],
   "source": [
    "def createvariablespp(df):\n",
    "    df['PEFRPPOFEV1PP'] = df.PEFRPP / df.FEV1PP\n",
    "    df['PEFRPPOFVCPP']= df.PEFRPP/ df.FVCPP\n",
    "    return"
   ]
  },
  {
   "cell_type": "code",
   "execution_count": 309,
   "metadata": {},
   "outputs": [
    {
     "name": "stderr",
     "output_type": "stream",
     "text": [
      "/usr/local/lib/python3.7/site-packages/ipykernel_launcher.py:2: SettingWithCopyWarning: \n",
      "A value is trying to be set on a copy of a slice from a DataFrame.\n",
      "Try using .loc[row_indexer,col_indexer] = value instead\n",
      "\n",
      "See the caveats in the documentation: https://pandas.pydata.org/pandas-docs/stable/user_guide/indexing.html#returning-a-view-versus-a-copy\n",
      "  \n",
      "/usr/local/lib/python3.7/site-packages/ipykernel_launcher.py:3: SettingWithCopyWarning: \n",
      "A value is trying to be set on a copy of a slice from a DataFrame.\n",
      "Try using .loc[row_indexer,col_indexer] = value instead\n",
      "\n",
      "See the caveats in the documentation: https://pandas.pydata.org/pandas-docs/stable/user_guide/indexing.html#returning-a-view-versus-a-copy\n",
      "  This is separate from the ipykernel package so we can avoid doing imports until\n"
     ]
    }
   ],
   "source": [
    "for y in framestoanalyze:\n",
    "    createvariablespp(y)"
   ]
  },
  {
   "cell_type": "code",
   "execution_count": 310,
   "metadata": {},
   "outputs": [
    {
     "ename": "SyntaxError",
     "evalue": "invalid syntax (<ipython-input-310-9d646429e620>, line 1)",
     "output_type": "error",
     "traceback": [
      "\u001b[0;36m  File \u001b[0;32m\"<ipython-input-310-9d646429e620>\"\u001b[0;36m, line \u001b[0;32m1\u001b[0m\n\u001b[0;31m    linear regression of PEFRpp/FEV1pp and PEFRpp/FVCpp vs age into resultsratiopp; for all dataframes\u001b[0m\n\u001b[0m                    ^\u001b[0m\n\u001b[0;31mSyntaxError\u001b[0m\u001b[0;31m:\u001b[0m invalid syntax\n"
     ]
    }
   ],
   "source": [
    "linear regression of PEFRpp/FEV1pp and PEFRpp/FVCpp vs age into resultsratiopp; for all dataframes"
   ]
  },
  {
   "cell_type": "code",
   "execution_count": null,
   "metadata": {},
   "outputs": [],
   "source": [
    "varsratiopp= ['PEFRPPOFEV1PP', 'PEFRPPOFVCPP']"
   ]
  },
  {
   "cell_type": "markdown",
   "metadata": {},
   "source": [
    "# First initialize resultsratiopp dataframe\n",
    "column_names = [\"dfnvarn\",\"dfname\", \"var\", \"intercept\", \"slope\", \"r2\", \"std\", \"count\"]\n",
    "# print (column_names)\n",
    "resultsratiopp = pd.DataFrame(columns = column_names)\n",
    "resultsratiopp.name = 'resultsratiopp'\n",
    "print (resultsratiopp)\n",
    "print ('Linear Regression of variables in form y = intercept + slope * age')\n",
    "print ('dataframe ,  variable,        intercept,          slope,            R squared,         standard deviation,  count')\n",
    "for y in framestoanalyze:\n",
    "  #  print (y.name)\n",
    "    for xx in varsratiopp:\n",
    " #       print(y, \" \", xx)\n",
    "        reg = linear_regage (y,xx)\n",
    "        intercept, slope, r2, std, count = reg\n",
    "        slope, = slope\n",
    "        dfnvarn = y.name + xx\n",
    "        print (dfnvarn, ',', y.name, ',', xx, ',', intercept, ',', slope, ',', r2, ',', std, ',',count)\n",
    "    #   now need save these in array of dataframe.variable, intercept slope\n",
    "        var = y.name\n",
    "    \n",
    "#  Columns: [dfnvarn, dfname, var, intercept, slope, r2, std, count] \n",
    "\n",
    "        df2 = {'dfnvarn': dfnvarn, 'dfname': y.name, 'var': xx, 'intercept': intercept, 'slope':slope, 'r2':r2, 'std':std, 'count':count}                          \n",
    "        resultsratiopp = resultsratiopp.append(df2, ignore_index=True)    \n",
    "print ('at end')\n",
    "resultsratiopp.set_index('dfnvarn', inplace=True)\n",
    "print (resultsratiopp)\n",
    "    \n",
    "    "
   ]
  },
  {
   "cell_type": "code",
   "execution_count": null,
   "metadata": {},
   "outputs": [],
   "source": [
    "# First initialize resultsratiopp dataframe\n",
    "column_names = [\"dfnvarn\",\"dfname\", \"var\", \"intercept\", \"slope\", \"r2\", \"std\", \"count\"]\n",
    "# print (column_names)\n",
    "resultsratiopp = pd.DataFrame(columns = column_names)\n",
    "resultsratiopp.name = 'resultsratiopp'\n",
    "print (resultsratiopp)\n",
    "print ('Linear Regression of variables in form y = intercept + slope * age')\n",
    "print ('dataframe ,  variable,        intercept,          slope,            R squared,         standard deviation,  count')\n",
    "for y in framestoanalyze:\n",
    "  #  print (y.name)\n",
    "    for xx in varsratiopp:\n",
    " #       print(y, \" \", xx)\n",
    "        reg = linear_regage (y,xx)\n",
    "        intercept, slope, r2, std, count = reg\n",
    "        slope, = slope\n",
    "        dfnvarn = y.name + xx\n",
    "        print (dfnvarn, ',', y.name, ',', xx, ',', intercept, ',', slope, ',', r2, ',', std, ',',count)\n",
    "    #   now need save these in array of dataframe.variable, intercept slope\n",
    "        var = y.name\n",
    "    \n",
    "#  Columns: [dfnvarn, dfname, var, intercept, slope, r2, std, count] \n",
    "\n",
    "        df2 = {'dfnvarn': dfnvarn, 'dfname': y.name, 'var': xx, 'intercept': intercept, 'slope':slope, 'r2':r2, 'std':std, 'count':count}                          \n",
    "        resultsratiopp = resultsratiopp.append(df2, ignore_index=True)    \n",
    "print ('at end')\n",
    "resultsratiopp.set_index('dfnvarn', inplace=True)\n",
    "print (resultsratiopp)\n",
    "    \n",
    "    "
   ]
  },
  {
   "cell_type": "code",
   "execution_count": null,
   "metadata": {},
   "outputs": [],
   "source": [
    "for y in framestoanalyze:\n",
    "    createvariablespp(y)"
   ]
  },
  {
   "cell_type": "code",
   "execution_count": null,
   "metadata": {},
   "outputs": [],
   "source": []
  },
  {
   "cell_type": "code",
   "execution_count": 311,
   "metadata": {},
   "outputs": [
    {
     "ename": "SyntaxError",
     "evalue": "invalid syntax (<ipython-input-311-b09ebdbe9a8e>, line 1)",
     "output_type": "error",
     "traceback": [
      "\u001b[0;36m  File \u001b[0;32m\"<ipython-input-311-b09ebdbe9a8e>\"\u001b[0;36m, line \u001b[0;32m1\u001b[0m\n\u001b[0;31m    ******\u001b[0m\n\u001b[0m     ^\u001b[0m\n\u001b[0;31mSyntaxError\u001b[0m\u001b[0;31m:\u001b[0m invalid syntax\n"
     ]
    }
   ],
   "source": [
    "******"
   ]
  },
  {
   "cell_type": "code",
   "execution_count": null,
   "metadata": {},
   "outputs": [],
   "source": []
  },
  {
   "cell_type": "code",
   "execution_count": 312,
   "metadata": {},
   "outputs": [
    {
     "ename": "SyntaxError",
     "evalue": "Missing parentheses in call to 'print'. Did you mean print(results)? (<ipython-input-312-c68f8aa3fdc0>, line 1)",
     "output_type": "error",
     "traceback": [
      "\u001b[0;36m  File \u001b[0;32m\"<ipython-input-312-c68f8aa3fdc0>\"\u001b[0;36m, line \u001b[0;32m1\u001b[0m\n\u001b[0;31m    print results\u001b[0m\n\u001b[0m                ^\u001b[0m\n\u001b[0;31mSyntaxError\u001b[0m\u001b[0;31m:\u001b[0m Missing parentheses in call to 'print'. Did you mean print(results)?\n"
     ]
    }
   ],
   "source": [
    "print results "
   ]
  },
  {
   "cell_type": "markdown",
   "metadata": {},
   "source": [
    "Createvarsppopp for PEFRPPOFVCPPPP and PEFRPPOFVCPPPP"
   ]
  },
  {
   "cell_type": "code",
   "execution_count": 313,
   "metadata": {},
   "outputs": [],
   "source": [
    "def createvarsppopp(df):\n",
    "    vn = df.name + 'PEFRPPOFVCPP'\n",
    "    df['PEFRPPOFVCPPPP'] = df.PEFRPPOFVCPP / (resultsratio.loc[vn, 'intercept'] + resultsratio.loc[vn, 'slope'] * (df.HSAITMOR_exam / 12))\n",
    " #   print (vn)\n",
    " #   vn = df.name + 'FEV1OFEV6'\n",
    "#    print (vn)\n",
    "    vn = df.name + 'PEFRPPOFEV1PP'\n",
    "    df['PEFRPPOFEV1PPPP'] = df.PEFRPPOFEV1PP / (resultsratio.loc[vn, 'intercept'] + resultsratio.loc[vn, 'slope'] * (df.HSAITMOR_exam / 12))"
   ]
  },
  {
   "cell_type": "code",
   "execution_count": null,
   "metadata": {},
   "outputs": [],
   "source": []
  },
  {
   "cell_type": "code",
   "execution_count": null,
   "metadata": {},
   "outputs": [],
   "source": []
  },
  {
   "cell_type": "code",
   "execution_count": 314,
   "metadata": {},
   "outputs": [
    {
     "data": {
      "text/plain": [
       "<matplotlib.axes._subplots.AxesSubplot at 0x11dab2e90>"
      ]
     },
     "execution_count": 314,
     "metadata": {},
     "output_type": "execute_result"
    },
    {
     "data": {
      "image/png": "[encoded data removed]",
      "text/plain": [
       "<Figure size 432x288 with 1 Axes>"
      ]
     },
     "metadata": {
      "needs_background": "light"
     },
     "output_type": "display_data"
    }
   ],
   "source": [
    "m20overc.FEV1OFVC.hist(bins='auto')"
   ]
  },
  {
   "cell_type": "code",
   "execution_count": 315,
   "metadata": {},
   "outputs": [
    {
     "data": {
      "text/plain": [
       "<matplotlib.axes._subplots.AxesSubplot at 0x11b6ec950>"
      ]
     },
     "execution_count": 315,
     "metadata": {},
     "output_type": "execute_result"
    },
    {
     "data": {
      "image/png": "[encoded data removed]",
      "text/plain": [
       "<Figure size 432x288 with 1 Axes>"
      ]
     },
     "metadata": {
      "needs_background": "light"
     },
     "output_type": "display_data"
    }
   ],
   "source": [
    "m20overc.FEV1OFVCPP.hist(bins='auto')"
   ]
  },
  {
   "cell_type": "code",
   "execution_count": 316,
   "metadata": {},
   "outputs": [
    {
     "name": "stdout",
     "output_type": "stream",
     "text": [
      "0.7880228373416843 0.08683982510779856 0.14285151230232862 0.6451713250393557\n",
      "0.6903080055113154\n"
     ]
    }
   ],
   "source": [
    "std = m20overc.FEV1OFVC.std()\n",
    "mean = m20overc.FEV1OFVC.mean()\n",
    "ratio = std / mean # m20overc.FEV1OFVC.std()/m20overc.FEV1OFVC.mean()\n",
    "print (mean, ratio, ratio* 1.645, mean - (ratio*1.645))\n",
    "print (.876 * mean)"
   ]
  },
  {
   "cell_type": "markdown",
   "metadata": {},
   "source": [
    "says mean FEV1/FVC .788, lower limit if use std for all data .645"
   ]
  },
  {
   "cell_type": "markdown",
   "metadata": {},
   "source": [
    "The std is smaller for %predicted than for actual value\n",
    "so to get 5% lower limit can use %predicted - 1.645 * std"
   ]
  },
  {
   "cell_type": "code",
   "execution_count": 317,
   "metadata": {},
   "outputs": [
    {
     "name": "stdout",
     "output_type": "stream",
     "text": [
      "0.9999916002560043 0.07499932419335019 0.12337388829806106 0.8766177119579432\n"
     ]
    }
   ],
   "source": [
    "std = m20overc.FEV1OFVCPP.std()\n",
    "mean = m20overc.FEV1OFVCPP.mean()\n",
    "ratio = std/mean # m20overc.FEV1OFVCPP.std()/m20overc.FEV1OFVCPP.mean()\n",
    "print (mean, ratio, ratio*1.645, mean - (ratio*1.645))"
   ]
  },
  {
   "cell_type": "markdown",
   "metadata": {},
   "source": [
    "says mean FEV1/FVC %pred is 100% and lower limit .876 of that\n",
    "if use prior mean FEV1/FVC of .788, .876 of that is .69 which is higher than .645"
   ]
  },
  {
   "cell_type": "code",
   "execution_count": 318,
   "metadata": {},
   "outputs": [
    {
     "name": "stdout",
     "output_type": "stream",
     "text": [
      "0.690288\n"
     ]
    }
   ],
   "source": [
    "print(.788*.876)"
   ]
  },
  {
   "cell_type": "markdown",
   "metadata": {},
   "source": [
    "Try saving variables to array"
   ]
  },
  {
   "cell_type": "code",
   "execution_count": 319,
   "metadata": {},
   "outputs": [
    {
     "name": "stdout",
     "output_type": "stream",
     "text": [
      "m20overc\n",
      "FEV1OFEV6\n",
      "m20overcFEV1OFEV6\n"
     ]
    }
   ],
   "source": [
    "print (m20overc.name)\n",
    "print (varsratio[1])\n",
    "dfvar = m20overc.name + varsratio[1]\n",
    "print (dfvar)"
   ]
  },
  {
   "cell_type": "code",
   "execution_count": 320,
   "metadata": {},
   "outputs": [
    {
     "name": "stdout",
     "output_type": "stream",
     "text": [
      "                     dfname        var  intercept     slope        r2  \\\n",
      "dfnvarn                                                                 \n",
      "m20overbFEV1OFVC   m20overb   FEV1OFVC   0.838493 -0.000364  0.040567   \n",
      "m20overbFEV1OFEV6  m20overb  FEV1OFEV6   0.848161 -0.000295  0.025118   \n",
      "m20overbPEFROFVC   m20overb   PEFROFVC   2.147290 -0.000640  0.004285   \n",
      "m20overbPEFROFEV6  m20overb  PEFROFEV6   2.171810 -0.000469  0.002186   \n",
      "m20overbPEFROFEV1  m20overb  PEFROFEV1   2.556383  0.000309  0.000993   \n",
      "...                     ...        ...        ...       ...       ...   \n",
      "fallmaPEFROFVC       fallma   PEFROFVC   1.909966  0.000057  0.000008   \n",
      "fallmaPEFROFEV6      fallma  PEFROFEV6   1.896003  0.001138  0.002990   \n",
      "fallmaPEFROFEV1      fallma  PEFROFEV1   2.046834  0.006300  0.088368   \n",
      "fallmaFEV3OFVC       fallma   FEV3OFVC   0.768530  0.011483  0.008196   \n",
      "fallmaFEV6OFVC       fallma   FEV6OFVC   0.767856  0.012309  0.009432   \n",
      "\n",
      "                        std count  \n",
      "dfnvarn                            \n",
      "m20overbFEV1OFVC   0.070906   476  \n",
      "m20overbFEV1OFEV6  0.073026   476  \n",
      "m20overbPEFROFVC   0.383087   476  \n",
      "m20overbPEFROFEV6  0.393406   476  \n",
      "m20overbPEFROFEV1  0.384026   476  \n",
      "...                     ...   ...  \n",
      "fallmaPEFROFVC     0.346442  1559  \n",
      "fallmaPEFROFEV6    0.367754  1559  \n",
      "fallmaPEFROFEV1    0.374325  1559  \n",
      "fallmaFEV3OFVC     2.240341  1559  \n",
      "fallmaFEV6OFVC     2.238725  1559  \n",
      "\n",
      "[168 rows x 7 columns]\n"
     ]
    }
   ],
   "source": [
    "print (resultsratio)"
   ]
  },
  {
   "cell_type": "markdown",
   "metadata": {},
   "source": [
    "new variable %pred ratios"
   ]
  },
  {
   "cell_type": "markdown",
   "metadata": {},
   "source": [
    "data.loc['m20overbFEV1OFVC']"
   ]
  },
  {
   "cell_type": "code",
   "execution_count": 321,
   "metadata": {},
   "outputs": [],
   "source": [
    "def height_age_reg(data, y_var):\n",
    "# convert agemonths to years\n",
    "    X_age = data['HSAGEIR']/12\n",
    "    X_age = np.array(X_age).reshape(-1, 1)\n",
    "    X_age = np.hstack((X_age, X_age**2))\n",
    "    X_height = data['BMPHT']**2\n",
    "    X_height = np.array(X_height).reshape(-1, 1)\n",
    "    X = np.concatenate((X_age, X_height), axis=1)\n",
    "    y = data[y_var]\n",
    "    lr = LinearRegression().fit(X, y)\n",
    "        # do linear regression fit on X, y\n",
    "    print(data.name, \", \",y_var, \", \",lr.intercept_, \",\", lr.coef_, \",\", lr.score(X, y), \",\",  data.loc[:,y_var].std(), \",\",  data.loc[:,y_var].count())\n",
    "    return data.name, y_var, lr.intercept_, lr.coef_, lr.score(X, y), data.loc[:,y_var].std(), data.loc[:,y_var].count()"
   ]
  },
  {
   "cell_type": "code",
   "execution_count": 322,
   "metadata": {},
   "outputs": [
    {
     "name": "stdout",
     "output_type": "stream",
     "text": [
      "m20overb ,  SPPFEV1 ,  786.1354240600908 , [-2.89942909e+02 -1.60937192e+00  1.18534679e-01] , 0.46996609416906876 , 715.6058687439651 , 476\n"
     ]
    },
    {
     "data": {
      "text/plain": [
       "('m20overb',\n",
       " 'SPPFEV1',\n",
       " 786.1354240600908,\n",
       " array([-2.89942909e+02, -1.60937192e+00,  1.18534679e-01]),\n",
       " 0.46996609416906876,\n",
       " 715.6058687439651,\n",
       " 476)"
      ]
     },
     "execution_count": 322,
     "metadata": {},
     "output_type": "execute_result"
    }
   ],
   "source": [
    "height_age_reg(m20overb, 'SPPFEV1')"
   ]
  },
  {
   "cell_type": "markdown",
   "metadata": {},
   "source": [
    "# Now do regression for all dataframes all nonratio variables & save resultsnonratio"
   ]
  },
  {
   "cell_type": "markdown",
   "metadata": {},
   "source": [
    "# First initialize resultsratio dataframe\n",
    "column_names = [\"dfnvarn\",\"dfname\", \"var\", \"intercept\", \"b1\", \"b2\", \"b3\", \"r2\", \"std\", \"count\"]\n",
    "# print (column_names)\n",
    "resultsnonratio = pd.DataFrame(columns = column_names)\n",
    "resultsnonratio.name = 'resultsnonratio'\n",
    "print (resultsnonratio)\n",
    "print ('Linear Regression of variables in form y = intercept + b1 * age + b2 * age * age + b3 * height * height')\n",
    "print ('dataframe ,  variable,        intercept,   [b1. b2. b3]. ,            R squared,         standard deviation   count')\n",
    "for y in framestoanalyze:\n",
    "  #  print (y.name)\n",
    "    for xx in varsnonratio:\n",
    " #       print(y, \" \", xx)\n",
    "         reg = height_age_reg(y,xx)\n",
    "         dbname, var, intercept, coef, r2, std, count = reg\n",
    "         b1, b2, b3, = coef\n",
    "         print (dbname, ', ', var, ', ',intercept, ', ',b1, ', ',b2, ', ',b3, ', ',r2, ', ',std, ', ',count)\n",
    "         #  Columns: [dfnvarn, dfname, var, intercept, b1, b2, b3, r2, std, count] \n",
    "\n",
    "         dfnvarn = y.name + xx   \n",
    "            \n",
    "         df2 = {'dfnvarn': [dfnvarn], 'dfname': y.name, 'var': xx, 'intercept': intercept, 'b1': b1, 'b2': b2, 'b3': b3, 'r2':r2, 'std':std, 'count':count}                          \n",
    "         resultsnonratio = resultsnonratio.append(df2, ignore_index=True)"
   ]
  },
  {
   "cell_type": "code",
   "execution_count": 323,
   "metadata": {},
   "outputs": [
    {
     "name": "stdout",
     "output_type": "stream",
     "text": [
      "Empty DataFrame\n",
      "Columns: [dfnvarn, dfname, var, intercept, b1, b2, b3, r2, std, count]\n",
      "Index: []\n",
      "Linear Regression of variables in form y = intercept + b1 * age + b2 * age * age + b3 * height * height\n",
      "dataframe ,  variable,        intercept,   [b1. b2. b3]. ,            R squared,         standard deviation   count\n",
      "m20overb ,  SPPFEV1 ,  786.1354240600908 , [-2.89942909e+02 -1.60937192e+00  1.18534679e-01] , 0.46996609416906876 , 715.6058687439651 , 476\n",
      "m20overb ,  SPPFEV1 ,  786.1354240600908 ,  -289.94290908497453 ,  -1.6093719150337211 ,  0.11853467887661773 ,  0.46996609416906876 ,  715.6058687439651 ,  476\n",
      "m20overb ,  SPPFEV3 ,  1703.997847738743 , [ 7.22119739e+02 -1.20785187e+02  5.52237859e-02] , 0.006724697187893036 , 3962.4570009869503 , 476\n",
      "m20overb ,  SPPFEV3 ,  1703.997847738743 ,  722.1197386829429 ,  -120.78518659913082 ,  0.055223785872897224 ,  0.006724697187893036 ,  3962.4570009869503 ,  476\n",
      "m20overb ,  SPPFEV6 ,  1487.9798534628544 , [ 7.81210601e+02 -1.24615205e+02  6.24413723e-02] , 0.006425766286702106 , 3956.9252913144296 , 476\n",
      "m20overb ,  SPPFEV6 ,  1487.9798534628544 ,  781.2106006898109 ,  -124.61520474267623 ,  0.062441372315475974 ,  0.006425766286702106 ,  3956.9252913144296 ,  476\n",
      "m20overb ,  SPPFVC ,  174.78827040753185 , [-2.42702764e+02 -1.30368124e+00  1.58180111e-01] , 0.4329621876389559 , 794.3444333267447 , 476\n",
      "m20overb ,  SPPFVC ,  174.78827040753185 ,  -242.7027640340325 ,  -1.3036812403914693 ,  0.15818011099333984 ,  0.4329621876389559 ,  794.3444333267447 ,  476\n",
      "m20overb ,  SPPPEAK ,  1210.9065610123143 , [ 66.3250419  -85.56793735   0.27853553] , 0.2612127664004815 , 2031.1262569097426 , 476\n",
      "m20overb ,  SPPPEAK ,  1210.9065610123143 ,  66.32504189536631 ,  -85.56793735459021 ,  0.2785355347291727 ,  0.2612127664004815 ,  2031.1262569097426 ,  476\n",
      "m20overb ,  SPPMMEF ,  3539.2049924795715 , [ 9.55255664e+02 -1.81380471e+02 -1.60940914e-02] , 0.01619172397489177 , 4115.107481451842 , 476\n",
      "m20overb ,  SPPMMEF ,  3539.2049924795715 ,  955.2556640606658 ,  -181.38047054928361 ,  -0.016094091377851782 ,  0.01619172397489177 ,  4115.107481451842 ,  476\n",
      "m20overb ,  SPPFEF75 ,  2126.933368677165 , [-4.94363753e+02  2.60693238e+01  1.58673084e-02] , 0.21621851624214616 , 789.2439515004834 , 476\n",
      "m20overb ,  SPPFEF75 ,  2126.933368677165 ,  -494.36375328050246 ,  26.069323783377083 ,  0.01586730838237571 ,  0.21621851624214616 ,  789.2439515004834 ,  476\n",
      "m20overb ,  SPPEXPIR ,  0.3248857739818245 , [ 3.26497709e+00 -2.98734076e-01  7.75315826e-05] , 0.1398068301009937 , 3.604211502849901 , 476\n",
      "m20overb ,  SPPEXPIR ,  0.3248857739818245 ,  3.2649770911452274 ,  -0.29873407640523186 ,  7.75315825680134e-05 ,  0.1398068301009937 ,  3.604211502849901 ,  476\n",
      "m20overcma ,  SPPFEV1 ,  770.8106162425252 , [-1.45223066e+02 -2.65174418e+01  1.33723332e-01] , 0.6444011086455805 , 777.057331478977 , 1089\n",
      "m20overcma ,  SPPFEV1 ,  770.8106162425252 ,  -145.2230664067622 ,  -26.517441761578297 ,  0.1337233316182207 ,  0.6444011086455805 ,  777.057331478977 ,  1089\n",
      "m20overcma ,  SPPFEV3 ,  1706.7877052633712 , [-1.19944482e+03  1.50189499e+02  1.73114305e-01] , 0.013463715496853766 , 4506.741785201395 , 1089\n",
      "m20overcma ,  SPPFEV3 ,  1706.7877052633712 ,  -1199.444822435709 ,  150.18949896444468 ,  0.17311430512719994 ,  0.013463715496853766 ,  4506.741785201395 ,  1089\n",
      "m20overcma ,  SPPFEV6 ,  1380.410314065091 , [-1.08317188e+03  1.39701897e+02  1.81755150e-01] , 0.013877021223833608 , 4497.012700890122 , 1089\n",
      "m20overcma ,  SPPFEV6 ,  1380.410314065091 ,  -1083.1718754969095 ,  139.70189719863953 ,  0.18175515029849976 ,  0.013877021223833608 ,  4497.012700890122 ,  1089\n",
      "m20overcma ,  SPPFVC ,  -239.8835096298899 , [  8.99720509 -38.9552096    0.18747857] , 0.5918310344966786 , 873.3536140280081 , 1089\n",
      "m20overcma ,  SPPFVC ,  -239.8835096298899 ,  8.99720508718338 ,  -38.955209600060634 ,  0.18747857286464154 ,  0.5918310344966786 ,  873.3536140280081 ,  1089\n",
      "m20overcma ,  SPPPEAK ,  625.5313294251246 , [ 1.01260423e+03 -1.93593962e+02  2.65401925e-01] , 0.3367441213962797 , 1862.1411309219277 , 1089\n",
      "m20overcma ,  SPPPEAK ,  625.5313294251246 ,  1012.604227876147 ,  -193.5939621516461 ,  0.26540192541801844 ,  0.3367441213962797 ,  1862.1411309219277 ,  1089\n",
      "m20overcma ,  SPPMMEF ,  4704.506987919892 , [-1.22420249e+03  1.23287589e+02  6.43864174e-02] , 0.010241980766985015 , 4652.483560485006 , 1089\n",
      "m20overcma ,  SPPMMEF ,  4704.506987919892 ,  -1224.2024869483653 ,  123.28758945586564 ,  0.06438641740015782 ,  0.010241980766985015 ,  4652.483560485006 ,  1089\n",
      "m20overcma ,  SPPFEF75 ,  2169.628833218816 , [-8.19335033e+02  6.54055292e+01  3.68667506e-02] , 0.3135796773671835 , 829.2762620878648 , 1089\n",
      "m20overcma ,  SPPFEF75 ,  2169.628833218816 ,  -819.3350327510958 ,  65.40552915233093 ,  0.036866750621229016 ,  0.3135796773671835 ,  829.2762620878648 ,  1089\n",
      "m20overcma ,  SPPEXPIR ,  3.900797355683604 , [ 3.88735476e+00 -3.47335615e-01 -5.47344333e-05] , 0.16139870896122377 , 4.451449011411201 , 1089\n",
      "m20overcma ,  SPPEXPIR ,  3.900797355683604 ,  3.88735476222348 ,  -0.34733561538412716 ,  -5.473443327397298e-05 ,  0.16139870896122377 ,  4.451449011411201 ,  1089\n",
      "m20overc ,  SPPFEV1 ,  616.8719406423829 , [-101.92349974  -30.16678058    0.1350301 ] , 0.6624754616183783 , 851.1467374194553 , 497\n",
      "m20overc ,  SPPFEV1 ,  616.8719406423829 ,  -101.92349974363553 ,  -30.166780580156093 ,  0.13503010188819076 ,  0.6624754616183783 ,  851.1467374194553 ,  497\n",
      "m20overc ,  SPPFEV3 ,  699.4813804373853 , [-1.22298368e+03  1.51810731e+02  2.06858614e-01] , 0.010654364350606516 , 5421.13903416617 , 497\n",
      "m20overc ,  SPPFEV3 ,  699.4813804373853 ,  -1222.9836807223169 ,  151.81073086323045 ,  0.20685861448660603 ,  0.010654364350606516 ,  5421.13903416617 ,  497\n",
      "m20overc ,  SPPFEV6 ,  255.1851080498909 , [-1.07931698e+03  1.38714147e+02  2.17385586e-01] , 0.010716424192024787 , 5405.7140198837415 , 497\n",
      "m20overc ,  SPPFEV6 ,  255.1851080498909 ,  -1079.3169825896243 ,  138.71414719479375 ,  0.21738558642027783 ,  0.010716424192024787 ,  5405.7140198837415 ,  497\n",
      "m20overc ,  SPPFVC ,  -581.2742510151829 , [ 25.20234813 -38.68221149   0.19663321] , 0.6174727371001193 , 937.4293004518033 , 497\n",
      "m20overc ,  SPPFVC ,  -581.2742510151829 ,  25.20234812826746 ,  -38.682211494068895 ,  0.1966332130611974 ,  0.6174727371001193 ,  937.4293004518033 ,  497\n",
      "m20overc ,  SPPPEAK ,  889.7018774968456 , [ 1.19091305e+03 -2.08356459e+02  2.41424433e-01] , 0.38178448047607316 , 1865.434241467033 , 497\n",
      "m20overc ,  SPPPEAK ,  889.7018774968456 ,  1190.9130510569905 ,  -208.3564594877292 ,  0.24142443282477188 ,  0.38178448047607316 ,  1865.434241467033 ,  497\n",
      "m20overc ,  SPPMMEF ,  3605.0841434765307 , [-1.10590170e+03  1.11224468e+02  8.85034741e-02] , 0.006959858869178159 , 5572.101357529881 , 497\n",
      "m20overc ,  SPPMMEF ,  3605.0841434765307 ,  -1105.9017029511979 ,  111.2244675845913 ,  0.08850347411862458 ,  0.006959858869178159 ,  5572.101357529881 ,  497\n",
      "m20overc ,  SPPFEF75 ,  2239.519410155125 , [-7.82348673e+02  5.93190333e+01  3.25698434e-02] , 0.3124469697146339 , 877.5325729869774 , 497\n",
      "m20overc ,  SPPFEF75 ,  2239.519410155125 ,  -782.3486730336048 ,  59.319033275024815 ,  0.03256984335204294 ,  0.3124469697146339 ,  877.5325729869774 ,  497\n",
      "m20overc ,  SPPEXPIR ,  1.478238392653882 , [ 3.67305126e+00 -3.20163020e-01  3.29225484e-05] , 0.1813208344580045 , 3.976861175211671 , 497\n",
      "m20overc ,  SPPEXPIR ,  1.478238392653882 ,  3.673051257605651 ,  -0.32016301964912725 ,  3.2922548366620674e-05 ,  0.1813208344580045 ,  3.976861175211671 ,  497\n",
      "m20ovecma ,  SPPFEV1 ,  633.4226488679801 , [-137.48718308  -29.10504585    0.13896171] , 0.6217451752138834 , 707.0649319722183 , 592\n",
      "m20ovecma ,  SPPFEV1 ,  633.4226488679801 ,  -137.48718307762155 ,  -29.105045849844792 ,  0.1389617089846702 ,  0.6217451752138834 ,  707.0649319722183 ,  592\n",
      "m20ovecma ,  SPPFEV3 ,  2595.6760466575047 , [-1.29623244e+03  1.68009522e+02  1.46100266e-01] , 0.013911323828840196 , 3556.4394123117663 , 592\n",
      "m20ovecma ,  SPPFEV3 ,  2595.6760466575047 ,  -1296.2324389915975 ,  168.00952208385647 ,  0.14610026644450613 ,  0.013911323828840196 ,  3556.4394123117663 ,  592\n",
      "m20ovecma ,  SPPFEV6 ,  2328.363914503495 , [-1.18224937e+03  1.56794355e+02  1.53159224e-01] , 0.013452314424816758 , 3550.748114307712 , 592\n",
      "m20ovecma ,  SPPFEV6 ,  2328.363914503495 ,  -1182.2493678293329 ,  156.79435540413962 ,  0.15315922437093832 ,  0.013452314424816758 ,  3550.748114307712 ,  592\n",
      "m20ovecma ,  SPPFVC ,  19.73482048329788 , [ 78.36900276 -52.001328     0.17566584] , 0.5366682920826125 , 789.0660983473126 , 592\n",
      "m20ovecma ,  SPPFVC ,  19.73482048329788 ,  78.36900275743609 ,  -52.00132800069293 ,  0.17566584155440523 ,  0.5366682920826125 ,  789.0660983473126 ,  592\n",
      "m20ovecma ,  SPPPEAK ,  -1021.654371436478 , [ 1.09150901e+03 -2.11437120e+02  3.22853928e-01] , 0.30599501840463916 , 1853.7226765476762 , 592\n",
      "m20ovecma ,  SPPPEAK ,  -1021.654371436478 ,  1091.5090145401405 ,  -211.4371195726655 ,  0.32285392801657053 ,  0.30599501840463916 ,  1853.7226765476762 ,  592\n",
      "m20ovecma ,  SPPMMEF ,  4233.974910696617 , [-1.39140513e+03  1.51310272e+02  9.08842075e-02] , 0.016892708938114565 , 3711.1489716317833 , 592\n",
      "m20ovecma ,  SPPMMEF ,  4233.974910696617 ,  -1391.4051277192566 ,  151.31027174714697 ,  0.09088420746877546 ,  0.016892708938114565 ,  3711.1489716317833 ,  592\n",
      "m20ovecma ,  SPPFEF75 ,  1902.7637630255638 , [-9.42571744e+02  8.62370206e+01  5.21573502e-02] , 0.30725244829222553 , 779.2312000366188 , 592\n",
      "m20ovecma ,  SPPFEF75 ,  1902.7637630255638 ,  -942.5717435433626 ,  86.23702059894283 ,  0.05215735024864898 ,  0.30725244829222553 ,  779.2312000366188 ,  592\n",
      "m20ovecma ,  SPPEXPIR ,  5.617439775409839 , [ 3.98131093e+00 -3.54297765e-01 -1.20717366e-04] , 0.14601181081556758 , 4.7978717023660336 , 592\n",
      "m20ovecma ,  SPPEXPIR ,  5.617439775409839 ,  3.9813109299316927 ,  -0.3542977653828058 ,  -0.00012071736556562573 ,  0.14601181081556758 ,  4.7978717023660336 ,  592\n",
      "f18overb ,  SPPFEV1 ,  315.4121277290501 , [-1.66323894e+02 -1.23909786e+01  1.10367219e-01] , 0.5779243807191836 , 580.5656588555784 , 939\n",
      "f18overb ,  SPPFEV1 ,  315.4121277290501 ,  -166.3238942113373 ,  -12.390978629972933 ,  0.1103672189081557 ,  0.5779243807191836 ,  580.5656588555784 ,  939\n",
      "f18overb ,  SPPFEV3 ,  985.3183127798143 , [-3.06599746e+02  2.97673539e+01  1.07491827e-01] , 0.0030781931041813366 , 4893.188429337498 , 939\n",
      "f18overb ,  SPPFEV3 ,  985.3183127798143 ,  -306.599745799083 ,  29.7673538986257 ,  0.1074918268136571 ,  0.0030781931041813366 ,  4893.188429337498 ,  939\n",
      "f18overb ,  SPPFEV6 ,  774.2404376374584 , [-2.26514773e+02  2.21723655e+01  1.12888995e-01] , 0.002880296391806425 , 4887.450320139502 , 939\n",
      "f18overb ,  SPPFEV6 ,  774.2404376374584 ,  -226.51477333155728 ,  22.172365482583125 ,  0.11288899493028026 ,  0.002880296391806425 ,  4887.450320139502 ,  939\n",
      "f18overb ,  SPPFVC ,  -453.46660663761486 , [ 29.28307043 -33.01569799   0.14396084] , 0.5040966729138565 , 629.7579089666353 , 939\n",
      "f18overb ,  SPPFVC ,  -453.46660663761486 ,  29.283070425730447 ,  -33.01569798597065 ,  0.14396083947426064 ,  0.5040966729138565 ,  629.7579089666353 ,  939\n",
      "f18overb ,  SPPPEAK ,  1634.3521397148206 , [ 3.69948832e+02 -1.15822849e+02  1.89981570e-01] , 0.2875109454764627 , 1548.62241740614 , 939\n",
      "f18overb ,  SPPPEAK ,  1634.3521397148206 ,  369.948832261156 ,  -115.82284909554481 ,  0.18998156999545301 ,  0.2875109454764627 ,  1548.62241740614 ,  939\n",
      "f18overb ,  SPPMMEF ,  3615.272951025196 , [-6.74840590e+02  4.91565139e+01  4.31186391e-02] , 0.008122088669858418 , 4979.672854781136 , 939\n",
      "f18overb ,  SPPMMEF ,  3615.272951025196 ,  -674.840590048563 ,  49.15651389741992 ,  0.043118639148339355 ,  0.008122088669858418 ,  4979.672854781136 ,  939\n",
      "f18overb ,  SPPFEF75 ,  1821.7752977510368 , [-6.77677126e+02  5.71852534e+01  2.71178212e-02] , 0.24138976477313356 , 753.8518753614899 , 939\n",
      "f18overb ,  SPPFEF75 ,  1821.7752977510368 ,  -677.6771262075156 ,  57.18525335509068 ,  0.027117821242171658 ,  0.24138976477313356 ,  753.8518753614899 ,  939\n",
      "f18overb ,  SPPEXPIR ,  1.6630945025316795 , [ 3.00263175e+00 -2.60637818e-01  3.93327030e-05] , 0.07983124323838531 , 5.339528913404067 , 939\n",
      "f18overb ,  SPPEXPIR ,  1.6630945025316795 ,  3.002631747449805 ,  -0.2606378182961378 ,  3.93327030229762e-05 ,  0.07983124323838531 ,  5.339528913404067 ,  939\n",
      "f18overcma ,  SPPFEV1 ,  679.1075276813199 , [-60.33678279 -27.18884024   0.10703163] , 0.6809225552084743 , 616.8336083617902 , 2013\n",
      "f18overcma ,  SPPFEV1 ,  679.1075276813199 ,  -60.336782788864745 ,  -27.188840240124804 ,  0.10703162627144636 ,  0.6809225552084743 ,  616.8336083617902 ,  2013\n",
      "f18overcma ,  SPPFEV3 ,  4526.205244112467 , [-1.76888404e+03  2.44239491e+02  7.75177608e-02] , 0.005293961618291654 , 7401.567995412441 , 2013\n",
      "f18overcma ,  SPPFEV3 ,  4526.205244112467 ,  -1768.8840373834907 ,  244.23949054259592 ,  0.07751776078930561 ,  0.005293961618291654 ,  7401.567995412441 ,  2013\n",
      "f18overcma ,  SPPFEV6 ,  4299.310428135306 , [-1.67970448e+03  2.36154749e+02  8.31841296e-02] , 0.005405504818315587 , 7391.059712777794 , 2013\n",
      "f18overcma ,  SPPFEV6 ,  4299.310428135306 ,  -1679.7044766710808 ,  236.15474855096406 ,  0.08318412959675925 ,  0.005405504818315587 ,  7391.059712777794 ,  2013\n",
      "f18overcma ,  SPPFVC ,  -59.39491297217637 , [118.59636393 -44.28063692   0.14467274] , 0.5984699120587029 , 667.4613483989211 , 2013\n",
      "f18overcma ,  SPPFVC ,  -59.39491297217637 ,  118.59636393158172 ,  -44.28063691691418 ,  0.1446727386772082 ,  0.5984699120587029 ,  667.4613483989211 ,  2013\n",
      "f18overcma ,  SPPPEAK ,  825.5109843737337 , [ 7.03063007e+02 -1.38144197e+02  2.00227613e-01] , 0.3551178849676023 , 1401.6435781972668 , 2013\n",
      "f18overcma ,  SPPPEAK ,  825.5109843737337 ,  703.0630067491732 ,  -138.14419703905122 ,  0.2002276131318581 ,  0.3551178849676023 ,  1401.6435781972668 ,  2013\n",
      "f18overcma ,  SPPMMEF ,  7164.075217389667 , [-1.96083068e+03  2.42774966e+02 -7.88039868e-03] , 0.00424805352661628 , 7471.601143396988 , 2013\n",
      "f18overcma ,  SPPMMEF ,  7164.075217389667 ,  -1960.8306802316447 ,  242.77496635366708 ,  -0.007880398681919587 ,  0.00424805352661628 ,  7471.601143396988 ,  2013\n",
      "f18overcma ,  SPPFEF75 ,  2323.492421596645 , [-7.98477634e+02  6.98680555e+01  2.35898767e-02] , 0.19137502222955494 , 932.2579512506213 , 2013\n",
      "f18overcma ,  SPPFEF75 ,  2323.492421596645 ,  -798.4776341112918 ,  69.86805549205845 ,  0.023589876693890233 ,  0.19137502222955494 ,  932.2579512506213 ,  2013\n",
      "f18overcma ,  SPPEXPIR ,  2.9975055596323035 , [ 2.97264681e+00 -2.52934690e-01 -6.69532643e-06] , 0.118105236830926 , 4.549734730744153 , 2013\n",
      "f18overcma ,  SPPEXPIR ,  2.9975055596323035 ,  2.972646807570592 ,  -0.25293469024765114 ,  -6.695326428496351e-06 ,  0.118105236830926 ,  4.549734730744153 ,  2013\n",
      "f18overc ,  SPPFEV1 ,  797.5891404390768 , [ -8.66686771 -33.3668506    0.09906533] , 0.7072518478477017 , 663.5555017884653 , 1012\n",
      "f18overc ,  SPPFEV1 ,  797.5891404390768 ,  -8.666867705101913 ,  -33.36685059920451 ,  0.099065331680535 ,  0.7072518478477017 ,  663.5555017884653 ,  1012\n",
      "f18overc ,  SPPFEV3 ,  2856.0051164985093 , [-1.42009659e+03  1.99192585e+02  1.19390217e-01] , 0.004087454741591445 , 8080.52818599568 , 1012\n",
      "f18overc ,  SPPFEV3 ,  2856.0051164985093 ,  -1420.0965908316998 ,  199.19258504399335 ,  0.11939021692799656 ,  0.004087454741591445 ,  8080.52818599568 ,  1012\n",
      "f18overc ,  SPPFEV6 ,  2536.868832587095 , [-1.30583321e+03  1.88603635e+02  1.26437513e-01] , 0.004242829132563575 , 8067.610042477064 , 1012\n",
      "f18overc ,  SPPFEV6 ,  2536.868832587095 ,  -1305.8332148032669 ,  188.60363513871778 ,  0.12643751321931518 ,  0.004242829132563575 ,  8067.610042477064 ,  1012\n",
      "f18overc ,  SPPFVC ,  -137.26110951181045 , [ 2.24818663e+02 -5.66454846e+01  1.40333064e-01] , 0.6283229182681583 , 726.0185237267386 , 1012\n",
      "f18overc ,  SPPFVC ,  -137.26110951181045 ,  224.81866296748726 ,  -56.645484647627896 ,  0.14033306408844481 ,  0.6283229182681583 ,  726.0185237267386 ,  1012\n",
      "f18overc ,  SPPPEAK ,  1711.144736258625 , [ 8.47585761e+02 -1.53974381e+02  1.56853674e-01] , 0.4023126415090408 , 1415.2587669446414 , 1012\n",
      "f18overc ,  SPPPEAK ,  1711.144736258625 ,  847.5857606221042 ,  -153.9743808724978 ,  0.15685367432129738 ,  0.4023126415090408 ,  1415.2587669446414 ,  1012\n",
      "f18overc ,  SPPMMEF ,  5535.916461664738 , [-1.74172863e+03  2.15770739e+02  3.77068486e-02] , 0.0029451779470797135 , 8165.560067530943 , 1012\n",
      "f18overc ,  SPPMMEF ,  5535.916461664738 ,  -1741.7286265446974 ,  215.77073864407606 ,  0.03770684856053208 ,  0.0029451779470797135 ,  8165.560067530943 ,  1012\n",
      "f18overc ,  SPPFEF75 ,  2354.986818444267 , [-8.39180099e+02  7.34639745e+01  2.59387957e-02] , 0.1801172146370147 , 980.0946082232114 , 1012\n",
      "f18overc ,  SPPFEF75 ,  2354.986818444267 ,  -839.1800985313688 ,  73.46397451521908 ,  0.02593879566659041 ,  0.1801172146370147 ,  980.0946082232114 ,  1012\n",
      "f18overc ,  SPPEXPIR ,  1.0673447241102227 , [ 3.63889180e+00 -3.25067013e-01  1.21504927e-05] , 0.09840202179385793 , 5.229643391242844 , 1012\n",
      "f18overc ,  SPPEXPIR ,  1.0673447241102227 ,  3.638891799820015 ,  -0.3250670125799897 ,  1.2150492651130662e-05 ,  0.09840202179385793 ,  5.229643391242844 ,  1012\n",
      "f18overma ,  SPPFEV1 ,  522.9258533942575 , [-102.11410452  -22.15473392    0.11629909] , 0.6463284580912434 , 565.3777736850141 , 1001\n",
      "f18overma ,  SPPFEV1 ,  522.9258533942575 ,  -102.11410451716007 ,  -22.154733919620703 ,  0.11629909092892987 ,  0.6463284580912434 ,  565.3777736850141 ,  1001\n",
      "f18overma ,  SPPFEV3 ,  6969.287483829126 , [-2.44999598e+03  3.41744050e+02  1.89033978e-02] , 0.007796607652154065 , 6646.255387100126 , 1001\n",
      "f18overma ,  SPPFEV3 ,  6969.287483829126 ,  -2449.995984739867 ,  341.74405013733883 ,  0.018903397783503806 ,  0.007796607652154065 ,  6646.255387100126 ,  1001\n",
      "f18overma ,  SPPFEV6 ,  6786.005888902712 , [-2.37625595e+03  3.35115458e+02  2.41411408e-02] , 0.007674414783751416 , 6637.943866724259 , 1001\n",
      "f18overma ,  SPPFEV6 ,  6786.005888902712 ,  -2376.2559535376377 ,  335.1154576248236 ,  0.024141140804943007 ,  0.007674414783751416 ,  6637.943866724259 ,  1001\n",
      "f18overma ,  SPPFVC ,  56.544604125242586 , [ 15.73095529 -31.888411     0.14702453] , 0.5553215064591221 , 600.3848700440594 , 1001\n",
      "f18overma ,  SPPFVC ,  56.544604125242586 ,  15.730955292342179 ,  -31.88841100087595 ,  0.1470245348093222 ,  0.5553215064591221 ,  600.3848700440594 ,  1001\n",
      "f18overma ,  SPPPEAK ,  -98.08295659795931 , [ 7.18210393e+02 -1.47238636e+02  2.39035469e-01] , 0.3173742662626525 , 1386.8752173607654 , 1001\n",
      "f18overma ,  SPPPEAK ,  -98.08295659795931 ,  718.210392785493 ,  -147.2386360062162 ,  0.23903546927255093 ,  0.3173742662626525 ,  1386.8752173607654 ,  1001\n",
      "f18overma ,  SPPMMEF ,  8609.243031538675 , [-2.41738135e+03  3.11102238e+02 -3.87857022e-02] , 0.006877942785891822 , 6700.5849540586705 , 1001\n",
      "f18overma ,  SPPMMEF ,  8609.243031538675 ,  -2417.3813533503458 ,  311.1022378478034 ,  -0.03878570219643507 ,  0.006877942785891822 ,  6700.5849540586705 ,  1001\n",
      "f18overma ,  SPPFEF75 ,  2363.603678966978 , [-8.08638364e+02  7.36904244e+01  2.15847570e-02] , 0.19006326641708718 , 872.5459965250818 , 1001\n",
      "f18overma ,  SPPFEF75 ,  2363.603678966978 ,  -808.6383635791836 ,  73.69042437731332 ,  0.021584756997484078 ,  0.19006326641708718 ,  872.5459965250818 ,  1001\n",
      "f18overma ,  SPPEXPIR ,  3.1173535106102968 , [ 2.34449411e+00 -1.71894032e-01  3.43637186e-05] , 0.14997121474167438 , 3.7131233100026066 , 1001\n",
      "f18overma ,  SPPEXPIR ,  3.1173535106102968 ,  2.3444941124971344 ,  -0.1718940320876046 ,  3.436371855999876e-05 ,  0.14997121474167438 ,  3.7131233100026066 ,  1001\n",
      "mlt20b ,  SPPFEV1 ,  -372.2865187350035 , [-1.59436791e+03  1.00499371e+03  1.39439814e-01] , 0.850043127608827 , 980.64010487648 , 600\n",
      "mlt20b ,  SPPFEV1 ,  -372.2865187350035 ,  -1594.3679130375663 ,  1004.9937055434959 ,  0.13943981397198968 ,  0.850043127608827 ,  980.64010487648 ,  600\n",
      "mlt20b ,  SPPFEV3 ,  -519.4996165427351 , [-1.96147999e+03  1.13311289e+03  1.68588748e-01] , 0.8603399365944814 , 1118.8384310884016 , 600\n",
      "mlt20b ,  SPPFEV3 ,  -519.4996165427351 ,  -1961.4799934918194 ,  1133.1128862613716 ,  0.16858874828062653 ,  0.8603399365944814 ,  1118.8384310884016 ,  600\n",
      "mlt20b ,  SPPFEV6 ,  -500.4728282075803 , [-2.02920323e+03  1.15481952e+03  1.71590009e-01] , 0.8592438947148284 , 1131.3593871505693 , 600\n",
      "mlt20b ,  SPPFEV6 ,  -500.4728282075803 ,  -2029.2032279734792 ,  1154.8195194836787 ,  0.1715900088977378 ,  0.8592438947148284 ,  1131.3593871505693 ,  600\n",
      "mlt20b ,  SPPFVC ,  -491.350297396159 , [-2.05155489e+03  1.16578329e+03  1.72083464e-01] , 0.8589653760276169 , 1134.8932345174492 , 600\n",
      "mlt20b ,  SPPFVC ,  -491.350297396159 ,  -2051.554893835524 ,  1165.7832908622888 ,  0.17208346384336437 ,  0.8589653760276169 ,  1134.8932345174492 ,  600\n",
      "mlt20b ,  SPPPEAK ,  -244.20228112060704 , [-2.98270428e+03  2.56052513e+03  2.60146029e-01] , 0.7667302435356792 , 2382.0575244534357 , 600\n",
      "mlt20b ,  SPPPEAK ,  -244.20228112060704 ,  -2982.704283127381 ,  2560.525125899604 ,  0.26014602919849494 ,  0.7667302435356792 ,  2382.0575244534357 ,  600\n",
      "mlt20b ,  SPPMMEF ,  -547.2194590982444 , [-1.47058003e+02  7.09724635e+02  1.15996647e-01] , 0.553430727713404 , 1331.7121476865973 , 600\n",
      "mlt20b ,  SPPMMEF ,  -547.2194590982444 ,  -147.05800255118575 ,  709.7246347763887 ,  0.11599664710888646 ,  0.553430727713404 ,  1331.7121476865973 ,  600\n",
      "mlt20b ,  SPPFEF75 ,  -109.7571979160125 , [-7.81134688e+02  6.33775419e+02  6.01406651e-02] , 0.4366448290611837 , 730.2547266831428 , 600\n",
      "mlt20b ,  SPPFEF75 ,  -109.7571979160125 ,  -781.1346875796908 ,  633.7754194475251 ,  0.060140665109656766 ,  0.4366448290611837 ,  730.2547266831428 ,  600\n",
      "mlt20b ,  SPPEXPIR ,  -0.18891460501486623 , [ 1.14310775e+01 -4.44581955e+00  1.75026939e-06] , 0.03724139384831193 , 2.7804448705832687 , 600\n",
      "mlt20b ,  SPPEXPIR ,  -0.18891460501486623 ,  11.431077480807483 ,  -4.445819549956283 ,  1.7502693854254403e-06 ,  0.03724139384831193 ,  2.7804448705832687 ,  600\n",
      "mlt20cma ,  SPPFEV1 ,  -167.02396950041293 , [-1.77898787e+03  1.29114676e+03  1.45000301e-01] , 0.89983467407845 , 1063.5686223473597 , 1024\n",
      "mlt20cma ,  SPPFEV1 ,  -167.02396950041293 ,  -1778.9878660669624 ,  1291.146759960595 ,  0.14500030095678085 ,  0.89983467407845 ,  1063.5686223473597 ,  1024\n",
      "mlt20cma ,  SPPFEV3 ,  -108.49067721369647 , [-2.40189553e+03  1.61865015e+03  1.70838563e-01] , 0.9076364049812993 , 1222.8615967264043 , 1024\n",
      "mlt20cma ,  SPPFEV3 ,  -108.49067721369647 ,  -2401.895525005755 ,  1618.6501524875837 ,  0.17083856277031373 ,  0.9076364049812993 ,  1222.8615967264043 ,  1024\n",
      "mlt20cma ,  SPPFEV6 ,  -71.52615711017916 , [-2.43847350e+03  1.64464851e+03  1.71569166e-01] , 0.9056184424774579 , 1233.5815831164748 , 1024\n",
      "mlt20cma ,  SPPFEV6 ,  -71.52615711017916 ,  -2438.4735025749214 ,  1644.6485105619895 ,  0.17156916633234687 ,  0.9056184424774579 ,  1233.5815831164748 ,  1024\n",
      "mlt20cma ,  SPPFVC ,  -59.125281014768916 , [-2.44532555e+03  1.65104411e+03  1.71445187e-01] , 0.9048388995162313 , 1235.3555246067688 , 1024\n",
      "mlt20cma ,  SPPFVC ,  -59.125281014768916 ,  -2445.3255515453375 ,  1651.0441050132454 ,  0.1714451871912388 ,  0.9048388995162313 ,  1235.3555246067688 ,  1024\n",
      "mlt20cma ,  SPPPEAK ,  530.5853784713117 , [-3.98913343e+03  3.29390107e+03  2.50693565e-01] , 0.807098721246152 , 2347.9907501677367 , 1024\n",
      "mlt20cma ,  SPPPEAK ,  530.5853784713117 ,  -3989.133425474546 ,  3293.9010743471636 ,  0.2506935646802049 ,  0.807098721246152 ,  2347.9907501677367 ,  1024\n",
      "mlt20cma ,  SPPMMEF ,  -190.20753803993466 , [-1.11495385e+03  1.16987050e+03  1.38346113e-01] , 0.6431245886658237 , 1343.5400354032158 , 1024\n",
      "mlt20cma ,  SPPMMEF ,  -190.20753803993466 ,  -1114.9538476809068 ,  1169.8704981395392 ,  0.13834611264928753 ,  0.6431245886658237 ,  1343.5400354032158 ,  1024\n",
      "mlt20cma ,  SPPFEF75 ,  -206.76973909519984 , [-9.52982377e+02  6.54368843e+02  8.18785755e-02] , 0.5210253032957117 , 749.9674183206528 , 1024\n",
      "mlt20cma ,  SPPFEF75 ,  -206.76973909519984 ,  -952.9823771466203 ,  654.3688431254991 ,  0.08187857551718025 ,  0.5210253032957117 ,  749.9674183206528 ,  1024\n",
      "mlt20cma ,  SPPEXPIR ,  4.022155556331382 , [ 3.56081409e+00 -6.96050564e-01  4.48067941e-08] , 0.049601687745368994 , 2.504132512803363 , 1024\n",
      "mlt20cma ,  SPPEXPIR ,  4.022155556331382 ,  3.560814090712871 ,  -0.6960505635170269 ,  4.480679405283183e-08 ,  0.049601687745368994 ,  2.504132512803363 ,  1024\n",
      "mlt20c ,  SPPFEV1 ,  -99.84915211872385 , [-2.02613297e+03  1.34000209e+03  1.47640978e-01] , 0.9088348980516252 , 1099.4548017117088 , 420\n",
      "mlt20c ,  SPPFEV1 ,  -99.84915211872385 ,  -2026.1329727808397 ,  1340.0020948420452 ,  0.14764097841043622 ,  0.9088348980516252 ,  1099.4548017117088 ,  420\n",
      "mlt20c ,  SPPFEV3 ,  -45.30971752631376 , [-2.61948812e+03  1.67647555e+03  1.72928405e-01] , 0.9165142559798242 , 1278.6465367330936 , 420\n",
      "mlt20c ,  SPPFEV3 ,  -45.30971752631376 ,  -2619.48812412779 ,  1676.4755533877312 ,  0.17292840521827202 ,  0.9165142559798242 ,  1278.6465367330936 ,  420\n",
      "mlt20c ,  SPPFEV6 ,  -47.245395228638245 , [-2.57123709e+03  1.65813806e+03  1.73833121e-01] , 0.9129648713349965 , 1288.6444496815996 , 420\n",
      "mlt20c ,  SPPFEV6 ,  -47.245395228638245 ,  -2571.237091620624 ,  1658.1380621243413 ,  0.17383312138031215 ,  0.9129648713349965 ,  1288.6444496815996 ,  420\n",
      "mlt20c ,  SPPFVC ,  -13.637783665950337 , [-2.63316679e+03  1.68430859e+03  1.74233666e-01] , 0.911726458791534 , 1290.5038640718797 , 420\n",
      "mlt20c ,  SPPFVC ,  -13.637783665950337 ,  -2633.1667887314393 ,  1684.3085890852856 ,  0.17423366645493843 ,  0.911726458791534 ,  1290.5038640718797 ,  420\n",
      "mlt20c ,  SPPPEAK ,  681.4044379022953 , [-4.12865697e+03  3.22663114e+03  2.48765541e-01] , 0.8187258338800485 , 2349.7003089681452 , 420\n",
      "mlt20c ,  SPPPEAK ,  681.4044379022953 ,  -4128.656973962128 ,  3226.631136597166 ,  0.2487655413583525 ,  0.8187258338800485 ,  2349.7003089681452 ,  420\n",
      "mlt20c ,  SPPMMEF ,  -142.67278017067565 , [-1.50670919e+03  1.21614564e+03  1.43792034e-01] , 0.666676475885991 , 1336.0904668899805 , 420\n",
      "mlt20c ,  SPPMMEF ,  -142.67278017067565 ,  -1506.7091919875568 ,  1216.145642967958 ,  0.14379203386738482 ,  0.666676475885991 ,  1336.0904668899805 ,  420\n",
      "mlt20c ,  SPPFEF75 ,  65.44013249432169 , [-1.65334859e+03  9.20687468e+02  8.39889291e-02] , 0.5730360065044418 , 735.1670864075218 , 420\n",
      "mlt20c ,  SPPFEF75 ,  65.44013249432169 ,  -1653.3485912407525 ,  920.6874679258764 ,  0.08398892909815459 ,  0.5730360065044418 ,  735.1670864075218 ,  420\n",
      "mlt20c ,  SPPEXPIR ,  6.722850868925135 , [-2.09591805e+00  1.53250115e+00  3.02405464e-05] , 0.04142521248266662 , 2.4657029168095153 , 420\n",
      "mlt20c ,  SPPEXPIR ,  6.722850868925135 ,  -2.0959180491118756 ,  1.5325011506129327 ,  3.0240546413429215e-05 ,  0.04142521248266662 ,  2.4657029168095153 ,  420\n",
      "mlt20ma ,  SPPFEV1 ,  -133.23901255825103 , [-2.14186120e+03  1.39924377e+03  1.56349664e-01] , 0.8990187583171154 , 1038.8034605244618 , 604\n",
      "mlt20ma ,  SPPFEV1 ,  -133.23901255825103 ,  -2141.8612002842096 ,  1399.2437729865806 ,  0.1563496639960249 ,  0.8990187583171154 ,  1038.8034605244618 ,  604\n",
      "mlt20ma ,  SPPFEV3 ,  -97.57281931011676 , [-2.59976767e+03  1.67209680e+03  1.77843641e-01] , 0.9023334696504075 , 1183.0240065959404 , 604\n",
      "mlt20ma ,  SPPFEV3 ,  -97.57281931011676 ,  -2599.767669574338 ,  1672.096804924046 ,  0.1778436407580557 ,  0.9023334696504075 ,  1183.0240065959404 ,  604\n",
      "mlt20ma ,  SPPFEV6 ,  -37.93188115204657 , [-2.68074040e+03  1.72337440e+03  1.78254053e-01] , 0.901390579002901 , 1194.2234759220605 , 604\n",
      "mlt20ma ,  SPPFEV6 ,  -37.93188115204657 ,  -2680.740401722881 ,  1723.3744043279276 ,  0.17825405333087474 ,  0.901390579002901 ,  1194.2234759220605 ,  604\n",
      "mlt20ma ,  SPPFVC ,  -38.83797626873047 , [-2.65494534e+03  1.71748711e+03  1.77860842e-01] , 0.9010055737827267 , 1195.9528352546913 , 604\n",
      "mlt20ma ,  SPPFVC ,  -38.83797626873047 ,  -2654.9453372141243 ,  1717.4871117900188 ,  0.17786084219983422 ,  0.9010055737827267 ,  1195.9528352546913 ,  604\n",
      "mlt20ma ,  SPPPEAK ,  528.8552091513302 , [-4.88749100e+03  3.59091235e+03  2.79451030e-01] , 0.8041694531263649 , 2348.6454999666116 , 604\n",
      "mlt20ma ,  SPPPEAK ,  528.8552091513302 ,  -4887.490999451504 ,  3590.91234649001 ,  0.2794510298244859 ,  0.8041694531263649 ,  2348.6454999666116 ,  604\n",
      "mlt20ma ,  SPPMMEF ,  -18.361038178002673 , [-2.16136049e+03  1.49092066e+03  1.66732030e-01] , 0.6467376904843001 , 1344.1597891962783 , 604\n",
      "mlt20ma ,  SPPMMEF ,  -18.361038178002673 ,  -2161.360486656181 ,  1490.920658265259 ,  0.1667320296539856 ,  0.6467376904843001 ,  1344.1597891962783 ,  604\n",
      "mlt20ma ,  SPPFEF75 ,  -276.8055832953378 , [-1.20408063e+03  6.72630980e+02  9.79821702e-02] , 0.5062417248499321 , 758.1687192913648 , 604\n",
      "mlt20ma ,  SPPFEF75 ,  -276.8055832953378 ,  -1204.0806289085954 ,  672.6309798668633 ,  0.09798217023001143 ,  0.5062417248499321 ,  758.1687192913648 ,  604\n",
      "mlt20ma ,  SPPEXPIR ,  2.0306510199903283 , [ 8.12183324e+00 -2.42692945e+00 -3.64497833e-05] , 0.06188237852435441 , 2.529447775330777 , 604\n",
      "mlt20ma ,  SPPEXPIR ,  2.0306510199903283 ,  8.12183324447674 ,  -2.4269294539363586 ,  -3.644978325567649e-05 ,  0.06188237852435441 ,  2.529447775330777 ,  604\n",
      "flt18b ,  SPPFEV1 ,  -1076.6563913392906 , [ 9.91282637e+02 -1.33741557e+02  1.06375323e-01] , 0.7665129012875249 , 622.2226302733402 , 596\n",
      "flt18b ,  SPPFEV1 ,  -1076.6563913392906 ,  991.2826371502252 ,  -133.74155723390365 ,  0.10637532269930716 ,  0.7665129012875249 ,  622.2226302733402 ,  596\n",
      "flt18b ,  SPPFEV3 ,  -1074.867341805087 , [ 8.36270809e+02 -6.68763151e+01  1.20438624e-01] , 0.7646159045583402 , 678.0081803532383 , 596\n",
      "flt18b ,  SPPFEV3 ,  -1074.867341805087 ,  836.2708089254096 ,  -66.87631510811964 ,  0.12043862393340987 ,  0.7646159045583402 ,  678.0081803532383 ,  596\n",
      "flt18b ,  SPPFEV6 ,  -1040.2396990776479 , [ 7.71372567e+02 -4.69421870e+01  1.22121753e-01] , 0.7605538661308581 , 681.1742953058456 , 596\n",
      "flt18b ,  SPPFEV6 ,  -1040.2396990776479 ,  771.3725670892159 ,  -46.94218704717614 ,  0.12212175345456444 ,  0.7605538661308581 ,  681.1742953058456 ,  596\n",
      "flt18b ,  SPPFVC ,  -996.3690128361186 , [ 7.06385929e+02 -1.77955855e+01  1.22045088e-01] , 0.7582209274559718 , 680.4629033878583 , 596\n",
      "flt18b ,  SPPFVC ,  -996.3690128361186 ,  706.3859293227193 ,  -17.7955854849824 ,  0.12204508836243733 ,  0.7582209274559718 ,  680.4629033878583 ,  596\n",
      "flt18b ,  SPPPEAK ,  -3270.662806425531 , [ 6.41726704e+03 -2.05510737e+03  1.85695340e-01] , 0.5999472355814222 , 1503.9384065158092 , 596\n",
      "flt18b ,  SPPPEAK ,  -3270.662806425531 ,  6417.267042783468 ,  -2055.107368157461 ,  0.18569533992149445 ,  0.5999472355814222 ,  1503.9384065158092 ,  596\n",
      "flt18b ,  SPPMMEF ,  -1568.579678794937 , [ 2.19979936e+03 -5.07854734e+02  1.16654463e-01] , 0.44930551602398733 , 1011.7635507863442 , 596\n",
      "flt18b ,  SPPMMEF ,  -1568.579678794937 ,  2199.7993615867445 ,  -507.85473418477216 ,  0.11665446342198038 ,  0.44930551602398733 ,  1011.7635507863442 ,  596\n",
      "flt18b ,  SPPFEF75 ,  -661.3982858727427 , [4.07253393e+02 7.95893749e+01 6.14008476e-02] , 0.3571845972552159 , 580.4373846295633 , 596\n",
      "flt18b ,  SPPFEF75 ,  -661.3982858727427 ,  407.25339291235764 ,  79.58937493594611 ,  0.061400847565849404 ,  0.3571845972552159 ,  580.4373846295633 ,  596\n",
      "flt18b ,  SPPEXPIR ,  5.587384808279829 , [ 5.97086654e-01  6.38791310e-02 -3.47819693e-06] , 0.0035644435036246147 , 2.7098164690269337 , 596\n",
      "flt18b ,  SPPEXPIR ,  5.587384808279829 ,  0.5970866536820767 ,  0.06387913102182534 ,  -3.4781969289465753e-06 ,  0.0035644435036246147 ,  2.7098164690269337 ,  596\n",
      "flt18cma ,  SPPFEV1 ,  -1327.2776195526667 , [ 1.37928877e+03 -3.14288619e+02  1.25076471e-01] , 0.8195204334591026 , 693.497124323402 , 968\n",
      "flt18cma ,  SPPFEV1 ,  -1327.2776195526667 ,  1379.2887726257984 ,  -314.2886190907586 ,  0.12507647087102214 ,  0.8195204334591026 ,  693.497124323402 ,  968\n",
      "flt18cma ,  SPPFEV3 ,  -1347.272495322186 , [ 1.09967311e+03 -1.60715805e+02  1.43539807e-01] , 0.8256383335351585 , 774.340524977143 , 968\n",
      "flt18cma ,  SPPFEV3 ,  -1347.272495322186 ,  1099.673109027142 ,  -160.71580475754203 ,  0.14353980691970492 ,  0.8256383335351585 ,  774.340524977143 ,  968\n",
      "flt18cma ,  SPPFEV6 ,  -1294.9728406866498 , [ 9.93921430e+02 -1.15710765e+02  1.45032539e-01] , 0.8207942523882221 , 779.3760221906387 , 968\n",
      "flt18cma ,  SPPFEV6 ,  -1294.9728406866498 ,  993.9214296465269 ,  -115.71076546317349 ,  0.1450325386694118 ,  0.8207942523882221 ,  779.3760221906387 ,  968\n",
      "flt18cma ,  SPPFVC ,  -1295.0654438548195 , [ 1.00038467e+03 -1.17803185e+02  1.45143950e-01] , 0.8206693117143854 , 780.413947765143 , 968\n",
      "flt18cma ,  SPPFVC ,  -1295.0654438548195 ,  1000.3846738731777 ,  -117.80318456351024 ,  0.14514394990908386 ,  0.8206693117143854 ,  780.413947765143 ,  968\n",
      "flt18cma ,  SPPPEAK ,  -4326.441706137961 , [ 8.30091670e+03 -3.16927628e+03  2.10386143e-01] , 0.6261393385573149 , 1520.1108429295891 , 968\n",
      "flt18cma ,  SPPPEAK ,  -4326.441706137961 ,  8300.91670313688 ,  -3169.2762814490284 ,  0.21038614322560534 ,  0.6261393385573149 ,  1520.1108429295891 ,  968\n",
      "flt18cma ,  SPPMMEF ,  -2144.247761871957 , [ 4.29599028e+03 -1.52800820e+03  1.14226405e-01] , 0.4939447412929573 , 980.06487266877 , 968\n",
      "flt18cma ,  SPPMMEF ,  -2144.247761871957 ,  4295.99028182655 ,  -1528.0081957188356 ,  0.11422640509590565 ,  0.4939447412929573 ,  980.06487266877 ,  968\n",
      "flt18cma ,  SPPFEF75 ,  -802.3854935702045 , [ 6.74511582e+02 -7.93477559e+01  7.40738229e-02] , 0.41435806960757005 , 600.8143035009368 , 968\n",
      "flt18cma ,  SPPFEF75 ,  -802.3854935702045 ,  674.5115822069324 ,  -79.34775586019367 ,  0.07407382293165199 ,  0.41435806960757005 ,  600.8143035009368 ,  968\n",
      "flt18cma ,  SPPEXPIR ,  4.1584706399083515 , [ 1.42236697e+00 -9.54144922e-01  8.59947697e-05] , 0.009790124257227252 , 2.641228091716344 , 968\n",
      "flt18cma ,  SPPEXPIR ,  4.1584706399083515 ,  1.42236697009499 ,  -0.9541449223858618 ,  8.5994769736919e-05 ,  0.009790124257227252 ,  2.641228091716344 ,  968\n",
      "flt18c ,  SPPFEV1 ,  -1148.5513586366956 , [ 6.04629038e+02 -8.62021299e+01  1.38904017e-01] , 0.8507965424442778 , 721.7491217289019 , 410\n",
      "flt18c ,  SPPFEV1 ,  -1148.5513586366956 ,  604.62903846409 ,  -86.20212991253537 ,  0.13890401747600833 ,  0.8507965424442778 ,  721.7491217289019 ,  410\n",
      "flt18c ,  SPPFEV3 ,  -987.0962789840255 , [-7.59320563e+01  2.58037910e+02  1.59011475e-01] , 0.856361644954176 , 812.1231619530935 , 410\n",
      "flt18c ,  SPPFEV3 ,  -987.0962789840255 ,  -75.93205634505279 ,  258.0379096592431 ,  0.1590114754697538 ,  0.856361644954176 ,  812.1231619530935 ,  410\n",
      "flt18c ,  SPPFEV6 ,  -907.1742961296522 , [-2.04525940e+02  3.16429704e+02  1.59672220e-01] , 0.85058677530479 , 815.3736428780054 , 410\n",
      "flt18c ,  SPPFEV6 ,  -907.1742961296522 ,  -204.52593996578196 ,  316.42970446408816 ,  0.159672220494258 ,  0.85058677530479 ,  815.3736428780054 ,  410\n",
      "flt18c ,  SPPFVC ,  -918.7897324551427 , [-1.71835324e+02  3.02201874e+02  1.59707148e-01] , 0.8507993270035354 , 816.3340448804147 , 410\n",
      "flt18c ,  SPPFVC ,  -918.7897324551427 ,  -171.83532371701568 ,  302.2018735128863 ,  0.15970714829308008 ,  0.8507993270035354 ,  816.3340448804147 ,  410\n",
      "flt18c ,  SPPPEAK ,  -4018.792517900315 , [ 6.78952872e+03 -2.64322248e+03  2.34202765e-01] , 0.7231599861290579 , 1508.6110343889468 , 410\n",
      "flt18c ,  SPPPEAK ,  -4018.792517900315 ,  6789.528717914581 ,  -2643.2224769073664 ,  0.2342027652152865 ,  0.7231599861290579 ,  1508.6110343889468 ,  410\n",
      "flt18c ,  SPPMMEF ,  -2373.076607814405 , [ 4.07716216e+03 -1.69157769e+03  1.35504309e-01] , 0.5319703536944851 , 969.0470050868861 , 410\n",
      "flt18c ,  SPPMMEF ,  -2373.076607814405 ,  4077.162155346557 ,  -1691.5776945887292 ,  0.1355043088444745 ,  0.5319703536944851 ,  969.0470050868861 ,  410\n",
      "flt18c ,  SPPFEF75 ,  -1083.354788128999 , [ 1.03741681e+03 -3.58727452e+02  8.02945085e-02] , 0.4504050958270993 , 594.5745601917132 , 410\n",
      "flt18c ,  SPPFEF75 ,  -1083.354788128999 ,  1037.4168085677336 ,  -358.727452073271 ,  0.0802945084646467 ,  0.4504050958270993 ,  594.5745601917132 ,  410\n",
      "flt18c ,  SPPEXPIR ,  2.927194088886963 , [ 6.41144931e+00 -2.96755142e+00  2.58537797e-05] , 0.008371893278581899 , 2.6370491588978835 , 410\n",
      "flt18c ,  SPPEXPIR ,  2.927194088886963 ,  6.411449314650192 ,  -2.967551424886072 ,  2.5853779678453037e-05 ,  0.008371893278581899 ,  2.6370491588978835 ,  410\n",
      "flt18ma ,  SPPFEV1 ,  -1384.7787178936842 , [ 1.55315533e+03 -3.58294985e+02  1.23100686e-01] , 0.7991890087026294 , 672.637633939431 , 558\n",
      "flt18ma ,  SPPFEV1 ,  -1384.7787178936842 ,  1553.155333168571 ,  -358.29498497874846 ,  0.12310068594103996 ,  0.7991890087026294 ,  672.637633939431 ,  558\n",
      "flt18ma ,  SPPFEV3 ,  -1570.1616470181102 , [ 1.75120639e+03 -4.11614979e+02  1.36691375e-01] , 0.8016473105021287 , 745.5230990900776 , 558\n",
      "flt18ma ,  SPPFEV3 ,  -1570.1616470181102 ,  1751.2063886166875 ,  -411.61497908951026 ,  0.1366913747002627 ,  0.8016473105021287 ,  745.5230990900776 ,  558\n",
      "flt18ma ,  SPPFEV6 ,  -1534.886709161794 , [ 1.64458456e+03 -3.68546114e+02  1.39086977e-01] , 0.7977974864643407 , 751.9789998366386 , 558\n",
      "flt18ma ,  SPPFEV6 ,  -1534.886709161794 ,  1644.584561139956 ,  -368.5461135312262 ,  0.1390869768292191 ,  0.7977974864643407 ,  751.9789998366386 ,  558\n",
      "flt18ma ,  SPPFVC ,  -1527.1672625389187 , [ 1.63348213e+03 -3.62417678e+02  1.39242320e-01] , 0.7973364960264386 , 753.0743064175504 , 558\n",
      "flt18ma ,  SPPFVC ,  -1527.1672625389187 ,  1633.482133615162 ,  -362.41767829454875 ,  0.13924232002551662 ,  0.7973364960264386 ,  753.0743064175504 ,  558\n",
      "flt18ma ,  SPPPEAK ,  -4369.813503983328 , [ 8.54686814e+03 -3.26999119e+03  2.09344300e-01] , 0.5626811285298776 , 1529.0942262826627 , 558\n",
      "flt18ma ,  SPPPEAK ,  -4369.813503983328 ,  8546.868143242828 ,  -3269.9911940521392 ,  0.20934430024681205 ,  0.5626811285298776 ,  1529.0942262826627 ,  558\n",
      "flt18ma ,  SPPMMEF ,  -1737.3652019818437 , [ 3.14132304e+03 -9.67394521e+02  1.25466589e-01] , 0.4876231259399647 , 982.7396842250254 , 558\n",
      "flt18ma ,  SPPMMEF ,  -1737.3652019818437 ,  3141.323040678302 ,  -967.3945212707175 ,  0.1254665893644642 ,  0.4876231259399647 ,  982.7396842250254 ,  558\n",
      "flt18ma ,  SPPFEF75 ,  -470.86739970831263 , [-2.96963882e+02  3.67725228e+02  8.38993739e-02] , 0.40487561542723105 , 603.5685234562509 , 558\n",
      "flt18ma ,  SPPFEF75 ,  -470.86739970831263 ,  -296.9638816026689 ,  367.72522778972257 ,  0.08389937394804292 ,  0.40487561542723105 ,  603.5685234562509 ,  558\n",
      "flt18ma ,  SPPEXPIR ,  4.621187151877276 , [-3.85920623e-01 -9.45134333e-02  9.74476863e-05] , 0.00956311843068769 , 2.6268258947972885 , 558\n",
      "flt18ma ,  SPPEXPIR ,  4.621187151877276 ,  -0.3859206229561479 ,  -0.09451343326144933 ,  9.744768626390732e-05 ,  0.00956311843068769 ,  2.6268258947972885 ,  558\n",
      "mallcma ,  SPPFEV1 ,  -1547.066272194525 , [ 5.15990741e+02 -1.06217246e+02  1.71656878e-01] , 0.8250881164597794 , 1062.393702823246 , 2113\n",
      "mallcma ,  SPPFEV1 ,  -1547.066272194525 ,  515.9907406881143 ,  -106.2172456250707 ,  0.17165687754057046 ,  0.8250881164597794 ,  1062.393702823246 ,  2113\n",
      "mallcma ,  SPPFEV3 ,  -1826.4733231869795 , [-9.26543408  7.37133249  0.21932558] , 0.11086768122934186 , 3430.7941337920493 , 2113\n",
      "mallcma ,  SPPFEV3 ,  -1826.4733231869795 ,  -9.265434075403384 ,  7.37133249108378 ,  0.21932557581512846 ,  0.11086768122934186 ,  3430.7941337920493 ,  2113\n",
      "mallcma ,  SPPFEV6 ,  -1888.2685110964749 , [88.77953306 -0.81964379  0.22008429] , 0.12070857289818582 , 3441.5546139616717 , 2113\n",
      "mallcma ,  SPPFEV6 ,  -1888.2685110964749 ,  88.7795330571894 ,  -0.8196437878067921 ,  0.22008429330705515 ,  0.12070857289818582 ,  3441.5546139616717 ,  2113\n",
      "mallcma ,  SPPFVC ,  -2049.91173780609 , [ 7.35382320e+02 -1.26163056e+02  2.04083156e-01] , 0.8459715285709257 , 1308.5374645970476 , 2113\n",
      "mallcma ,  SPPFVC ,  -2049.91173780609 ,  735.3823204133429 ,  -126.16305550435358 ,  0.20408315604809957 ,  0.8459715285709257 ,  1308.5374645970476 ,  2113\n",
      "mallcma ,  SPPPEAK ,  -3380.28996535799 , [ 2.40397979e+03 -3.61194751e+02  3.15819872e-01] , 0.7428423775729263 , 2673.7446867102503 , 2113\n",
      "mallcma ,  SPPPEAK ,  -3380.28996535799 ,  2403.9797865267474 ,  -361.1947505297878 ,  0.31581987198222805 ,  0.7428423775729263 ,  2673.7446867102503 ,  2113\n",
      "mallcma ,  SPPMMEF ,  -893.1024140504396 , [  5.5414144  -25.18522113   0.17841014] , 0.06051757427683113 , 3495.9472918445604 , 2113\n",
      "mallcma ,  SPPMMEF ,  -893.1024140504396 ,  5.541414400087796 ,  -25.18522113272079 ,  0.17841014407952116 ,  0.06051757427683113 ,  3495.9472918445604 ,  2113\n",
      "mallcma ,  SPPFEF75 ,  -496.0301667423098 , [-3.63804555e+02  9.81374955e+00  9.95445060e-02] , 0.35117187169772757 , 792.8334107280846 , 2113\n",
      "mallcma ,  SPPFEF75 ,  -496.0301667423098 ,  -363.80455486266015 ,  9.813749554234839 ,  0.0995445060347322 ,  0.35117187169772757 ,  792.8334107280846 ,  2113\n",
      "mallcma ,  SPPEXPIR ,  4.864710112618178 , [ 3.13100898e+00 -2.57240349e-01 -4.04015507e-05] , 0.30729800591565215 , 4.070165487532398 , 2113\n",
      "mallcma ,  SPPEXPIR ,  4.864710112618178 ,  3.1310089839446005 ,  -0.25724034898106063 ,  -4.0401550711055556e-05 ,  0.30729800591565215 ,  4.070165487532398 ,  2113\n",
      "mallb ,  SPPFEV1 ,  -1522.2264642361333 , [ 3.89635867e+02 -8.61690919e+01  1.54733872e-01] , 0.7757725421430628 , 994.8746140553136 , 1076\n",
      "mallb ,  SPPFEV1 ,  -1522.2264642361333 ,  389.635866650358 ,  -86.16909188797159 ,  0.1547338723625984 ,  0.7757725421430628 ,  994.8746140553136 ,  1076\n",
      "mallb ,  SPPFEV3 ,  -1496.5294068410208 , [ 9.31806182e+02 -1.45137697e+02  1.46183626e-01] , 0.13092752847559141 , 2842.385545597707 , 1076\n",
      "mallb ,  SPPFEV3 ,  -1496.5294068410208 ,  931.8061822190883 ,  -145.13769713348773 ,  0.14618362555356157 ,  0.13092752847559141 ,  2842.385545597707 ,  1076\n",
      "mallb ,  SPPFEV6 ,  -1540.9325441569122 , [ 9.93100651e+02 -1.49125147e+02  1.47605383e-01] , 0.13984624236237186 , 2853.4272822728735 , 1076\n",
      "mallb ,  SPPFEV6 ,  -1540.9325441569122 ,  993.100650748457 ,  -149.12514737619173 ,  0.1476053834210802 ,  0.13984624236237186 ,  2853.4272822728735 ,  1076\n",
      "mallb ,  SPPFVC ,  -1923.8878095788655 , [ 5.18936527e+02 -9.55635569e+01  1.82485819e-01] , 0.8031408033372429 , 1194.9694659933157 , 1076\n",
      "mallb ,  SPPFVC ,  -1923.8878095788655 ,  518.9365272759618 ,  -95.56355688907763 ,  0.1824858190491483 ,  0.8031408033372429 ,  1194.9694659933157 ,  1076\n",
      "mallb ,  SPPPEAK ,  -3578.8626948120336 , [ 2.02025226e+03 -3.30136491e+02  3.23506511e-01] , 0.6899015906330593 , 2686.3023442739527 , 1076\n",
      "mallb ,  SPPPEAK ,  -3578.8626948120336 ,  2020.2522619024592 ,  -330.13649065917275 ,  0.3235065109832931 ,  0.6899015906330593 ,  2686.3023442739527 ,  1076\n",
      "mallb ,  SPPMMEF ,  -854.3481765789957 , [ 1.14179242e+03 -2.04519811e+02  1.16212820e-01] , 0.09338757744584936 , 2948.4081083128635 , 1076\n",
      "mallb ,  SPPMMEF ,  -854.3481765789957 ,  1141.7924222593035 ,  -204.5198109341147 ,  0.11621282004978184 ,  0.09338757744584936 ,  2948.4081083128635 ,  1076\n",
      "mallb ,  SPPFEF75 ,  -559.3926699162803 , [-71.32562977 -27.33598059   0.07962178] , 0.2831128944082053 , 757.6944063539564 , 1076\n",
      "mallb ,  SPPFEF75 ,  -559.3926699162803 ,  -71.32562976595867 ,  -27.33598058562913 ,  0.07962177799812409 ,  0.2831128944082053 ,  757.6944063539564 ,  1076\n",
      "mallb ,  SPPEXPIR ,  4.2852384707360365 , [ 2.32332295e+00 -1.82055011e-01  2.82167097e-06] , 0.22942719659223867 , 3.450946372180227 , 1076\n",
      "mallb ,  SPPEXPIR ,  4.2852384707360365 ,  2.3233229456727016 ,  -0.18205501069259092 ,  2.821670966796086e-06 ,  0.22942719659223867 ,  3.450946372180227 ,  1076\n",
      "mallc ,  SPPFEV1 ,  -1585.420448412674 , [ 4.25066779e+02 -8.91333926e+01  1.72475723e-01] , 0.8347121627640393 , 1113.6486240203426 , 917\n",
      "mallc ,  SPPFEV1 ,  -1585.420448412674 ,  425.06677897147506 ,  -89.13339255964907 ,  0.1724757232269667 ,  0.8347121627640393 ,  1113.6486240203426 ,  917\n",
      "mallc ,  SPPFEV3 ,  -2031.7381379344097 , [-216.39040393   37.5453472     0.23171506] , 0.08800773050080068 , 4170.721298059344 , 917\n",
      "mallc ,  SPPFEV3 ,  -2031.7381379344097 ,  -216.39040392801368 ,  37.545347198719405 ,  0.23171505777877854 ,  0.08800773050080068 ,  4170.721298059344 ,  917\n",
      "mallc ,  SPPFEV6 ,  -2084.551909335927 , [-100.98827051   27.31485059    0.23158437] , 0.09638404337558049 , 4178.1060488242565 , 917\n",
      "mallc ,  SPPFEV6 ,  -2084.551909335927 ,  -100.98827050864112 ,  27.31485058658386 ,  0.2315843714893262 ,  0.09638404337558049 ,  4178.1060488242565 ,  917\n",
      "mallc ,  SPPFVC ,  -2111.2405595610753 , [ 6.53408159e+02 -1.10176806e+02  2.06626183e-01] , 0.8561268967169311 , 1385.417377696069 , 917\n",
      "mallc ,  SPPFVC ,  -2111.2405595610753 ,  653.4081586696553 ,  -110.17680648067605 ,  0.2066261827807665 ,  0.8561268967169311 ,  1385.417377696069 ,  917\n",
      "mallc ,  SPPPEAK ,  -3134.777767290656 , [ 2.28035903e+03 -3.30949288e+02  3.02235693e-01] , 0.7656165481588812 , 2709.420479110869 , 917\n",
      "mallc ,  SPPPEAK ,  -3134.777767290656 ,  2280.3590305900884 ,  -330.9492878561029 ,  0.3022356933320225 ,  0.7656165481588812 ,  2709.420479110869 ,  917\n",
      "mallc ,  SPPMMEF ,  -1077.626560057177 , [-2.99103576e+02  2.22856555e+01  1.87385113e-01] , 0.04423246886934251 , 4222.113802768954 , 917\n",
      "mallc ,  SPPMMEF ,  -1077.626560057177 ,  -299.1035763142193 ,  22.285655463617523 ,  0.18738511321102536 ,  0.04423246886934251 ,  4222.113802768954 ,  917\n",
      "mallc ,  SPPFEF75 ,  -574.7274556620166 , [-4.34748768e+02  2.18117680e+01  1.00438499e-01] , 0.373062443608854 , 817.1678107781686 , 917\n",
      "mallc ,  SPPFEF75 ,  -574.7274556620166 ,  -434.74876767782393 ,  21.81176797662152 ,  0.10043849875115285 ,  0.373062443608854 ,  817.1678107781686 ,  917\n",
      "mallc ,  SPPEXPIR ,  4.867865683979228 , [ 2.81150090e+00 -2.23904324e-01 -2.12256777e-05] , 0.3554892017323054 , 3.8834174729402378 , 917\n",
      "mallc ,  SPPEXPIR ,  4.867865683979228 ,  2.8115009000387743 ,  -0.22390432362990667 ,  -2.1225677714287183e-05 ,  0.3554892017323054 ,  3.8834174729402378 ,  917\n",
      "mallma ,  SPPFEV1 ,  -1711.9441416798145 , [ 5.48127780e+02 -1.16517934e+02  1.80244446e-01] , 0.8302936114266711 , 1019.9570959355559 , 1196\n",
      "mallma ,  SPPFEV1 ,  -1711.9441416798145 ,  548.1277802925804 ,  -116.51793424873857 ,  0.18024444558663788 ,  0.8302936114266711 ,  1019.9570959355559 ,  1196\n",
      "mallma ,  SPPFEV3 ,  -1861.5224494447384 , [71.94320755 -5.74869672  0.22004474] , 0.148915612975281 , 2725.051052204261 , 1196\n",
      "mallma ,  SPPFEV3 ,  -1861.5224494447384 ,  71.94320755351347 ,  -5.748696720173684 ,  0.22004473719706397 ,  0.148915612975281 ,  2725.051052204261 ,  1196\n",
      "mallma ,  SPPFEV6 ,  -1910.280670438764 , [176.95749826 -15.82174092   0.21993686] , 0.15976711677613098 , 2738.5564303571687 , 1196\n",
      "mallma ,  SPPFEV6 ,  -1910.280670438764 ,  176.95749826267573 ,  -15.821740921131388 ,  0.21993685513867334 ,  0.15976711677613098 ,  2738.5564303571687 ,  1196\n",
      "mallma ,  SPPFVC ,  -2099.866147578511 , [ 8.43327911e+02 -1.49534674e+02  2.04188289e-01] , 0.8390696673198066 , 1234.9268357019982 , 1196\n",
      "mallma ,  SPPFVC ,  -2099.866147578511 ,  843.3279114394352 ,  -149.53467353647272 ,  0.20418828869586036 ,  0.8390696673198066 ,  1234.9268357019982 ,  1196\n",
      "mallma ,  SPPPEAK ,  -4014.9272424750607 , [ 2.47402921e+03 -3.88850657e+02  3.45737282e-01] , 0.7359316215640287 , 2641.479574295398 , 1196\n",
      "mallma ,  SPPPEAK ,  -4014.9272424750607 ,  2474.029206488874 ,  -388.8506569051473 ,  0.34573728181919705 ,  0.7359316215640287 ,  2641.479574295398 ,  1196\n",
      "mallma ,  SPPMMEF ,  -1333.5912923487117 , [-54.31927947 -18.40991309   0.20583795] , 0.10105194908192194 , 2815.2179757691238 , 1196\n",
      "mallma ,  SPPMMEF ,  -1333.5912923487117 ,  -54.319279466126524 ,  -18.409913094916025 ,  0.20583794777935438 ,  0.10105194908192194 ,  2815.2179757691238 ,  1196\n",
      "mallma ,  SPPFEF75 ,  -708.1714429280999 , [-4.78019042e+02  2.69487966e+01  1.16223809e-01] , 0.3632488828555075 , 768.7639819114919 , 1196\n",
      "mallma ,  SPPFEF75 ,  -708.1714429280999 ,  -478.0190416635965 ,  26.948796580429438 ,  0.11622380879276051 ,  0.3632488828555075 ,  768.7639819114919 ,  1196\n",
      "mallma ,  SPPEXPIR ,  4.954246124449351 , [ 3.31867524e+00 -2.69905359e-01 -5.71642306e-05] , 0.27151993989059353 , 4.1909271650544975 , 1196\n",
      "mallma ,  SPPEXPIR ,  4.954246124449351 ,  3.3186752435407616 ,  -0.269905358799841 ,  -5.716423059026754e-05 ,  0.27151993989059353 ,  4.1909271650544975 ,  1196\n",
      "fallcma ,  SPPFEV1 ,  -764.6283574138251 , [ 2.77607813e+02 -6.63993112e+01  1.38860336e-01] , 0.7124162183961504 , 653.3586448376316 , 2981\n",
      "fallcma ,  SPPFEV1 ,  -764.6283574138251 ,  277.6078130034258 ,  -66.39931120064354 ,  0.1388603364909642 ,  0.7124162183961504 ,  653.3586448376316 ,  2981\n",
      "fallcma ,  SPPFEV3 ,  -498.6225759182512 , [-3.07497776e+02  7.52579640e+01  1.66003927e-01] , 0.011716851591198618 , 6117.170476258875 , 2981\n",
      "fallcma ,  SPPFEV3 ,  -498.6225759182512 ,  -307.49777641716344 ,  75.2579640408979 ,  0.166003926838016 ,  0.011716851591198618 ,  6117.170476258875 ,  2981\n",
      "fallcma ,  SPPFEV6 ,  -551.1665831049004 , [-2.49227159e+02  7.07441187e+01  1.67091391e-01] , 0.013189452344271158 , 6112.147529755896 , 2981\n",
      "fallcma ,  SPPFEV6 ,  -551.1665831049004 ,  -249.22715935065364 ,  70.74411873312046 ,  0.1670913913753651 ,  0.013189452344271158 ,  6112.147529755896 ,  2981\n",
      "fallcma ,  SPPFVC ,  -1147.5698646306096 , [ 4.45491137e+02 -8.22982754e+01  1.63279382e-01] , 0.7071997915789948 , 750.1000090957901 , 2981\n",
      "fallcma ,  SPPFVC ,  -1147.5698646306096 ,  445.4911367827848 ,  -82.29827536441896 ,  0.16327938231202666 ,  0.7071997915789948 ,  750.1000090957901 ,  2981\n",
      "fallcma ,  SPPPEAK ,  -1023.9441106767999 , [ 1.06716744e+03 -1.80384567e+02  2.46208749e-01] , 0.4941096062365635 , 1515.5094427097333 , 2981\n",
      "fallcma ,  SPPPEAK ,  -1023.9441106767999 ,  1067.1674445183019 ,  -180.38456705226574 ,  0.2462087487606084 ,  0.4941096062365635 ,  1515.5094427097333 ,  2981\n",
      "fallcma ,  SPPMMEF ,  722.1108601612432 , [-4.01160346e+02  6.26958421e+01  1.29236541e-01] , 0.003778416579634069 , 6169.143112271684 , 2981\n",
      "fallcma ,  SPPMMEF ,  722.1108601612432 ,  -401.16034567121454 ,  62.695842110416216 ,  0.1292365412722063 ,  0.003778416579634069 ,  6169.143112271684 ,  2981\n",
      "fallcma ,  SPPFEF75 ,  -17.65022108041535 , [-3.30901213e+02  1.57618309e+01  8.11538907e-02] , 0.20983011825549913 , 852.830659004816 , 2981\n",
      "fallcma ,  SPPFEF75 ,  -17.65022108041535 ,  -330.90121322398267 ,  15.761830912376483 ,  0.0811538907223337 ,  0.20983011825549913 ,  852.830659004816 ,  2981\n",
      "fallcma ,  SPPEXPIR ,  5.080318424271205 , [ 2.13848177e+00 -1.54716943e-01 -2.78643655e-05] , 0.20267974621401855 , 4.285345143907985 , 2981\n",
      "fallcma ,  SPPEXPIR ,  5.080318424271205 ,  2.13848177130712 ,  -0.15471694291325344 ,  -2.7864365509278066e-05 ,  0.20267974621401855 ,  4.285345143907985 ,  2981\n",
      "fallb ,  SPPFEV1 ,  -1011.0186458418784 , [ 2.21840435e+02 -6.00617013e+01  1.34659474e-01] , 0.6485002402554731 , 615.7588983801943 , 1535\n",
      "fallb ,  SPPFEV1 ,  -1011.0186458418784 ,  221.84043483944836 ,  -60.06170134185714 ,  0.13465947407903656 ,  0.6485002402554731 ,  615.7588983801943 ,  1535\n",
      "fallb ,  SPPFEV3 ,  -1042.5112783076652 , [ 2.84130172e+02 -4.22332119e+01  1.44320746e-01] , 0.01830924166801029 , 3864.31324950026 , 1535\n",
      "fallb ,  SPPFEV3 ,  -1042.5112783076652 ,  284.1301723234387 ,  -42.23321192097169 ,  0.14432074639947956 ,  0.01830924166801029 ,  3864.31324950026 ,  1535\n",
      "fallb ,  SPPFEV6 ,  -1068.6703759937382 , [ 3.34650644e+02 -4.62246305e+01  1.44685896e-01] , 0.019783599692436815 , 3862.8771820211036 , 1535\n",
      "fallb ,  SPPFEV6 ,  -1068.6703759937382 ,  334.650643630138 ,  -46.22463053255281 ,  0.14468589635499285 ,  0.019783599692436815 ,  3862.8771820211036 ,  1535\n",
      "fallb ,  SPPFVC ,  -1230.8592979522336 , [ 3.70070441e+02 -7.49976005e+01  1.50608439e-01] , 0.6469116081957365 , 696.7795200550142 , 1535\n",
      "fallb ,  SPPFVC ,  -1230.8592979522336 ,  370.07044125818993 ,  -74.99760046442233 ,  0.15060843863112439 ,  0.6469116081957365 ,  696.7795200550142 ,  1535\n",
      "fallb ,  SPPPEAK ,  -1456.4646494698927 , [ 1.20062132e+03 -2.17657235e+02  2.51430875e-01] , 0.45336658465117136 , 1629.1131387949802 , 1535\n",
      "fallb ,  SPPPEAK ,  -1456.4646494698927 ,  1200.621320966876 ,  -217.6572354421194 ,  0.25143087498258865 ,  0.45336658465117136 ,  1629.1131387949802 ,  1535\n",
      "fallb ,  SPPMMEF ,  -585.9111011884975 , [ 2.01436577e+02 -5.73134674e+01  1.43049834e-01] , 0.017047573488160106 , 3948.934991102385 , 1535\n",
      "fallb ,  SPPMMEF ,  -585.9111011884975 ,  201.436576637743 ,  -57.31346744960364 ,  0.1430498337619639 ,  0.017047573488160106 ,  3948.934991102385 ,  1535\n",
      "fallb ,  SPPFEF75 ,  -383.75860745179625 , [-2.52956632e+02  5.28064423e+00  8.22956748e-02] , 0.23913113774261063 , 697.0815533711486 , 1535\n",
      "fallb ,  SPPFEF75 ,  -383.75860745179625 ,  -252.95663227738117 ,  5.280644233893233 ,  0.08229567482537092 ,  0.23913113774261063 ,  697.0815533711486 ,  1535\n",
      "fallb ,  SPPEXPIR ,  4.893568974184058 , [ 2.35502228e+00 -1.81436883e-01 -3.97858684e-05] , 0.14591877760670102 , 4.707628274293765 , 1535\n",
      "fallb ,  SPPEXPIR ,  4.893568974184058 ,  2.3550222757249126 ,  -0.1814368832662755 ,  -3.9785868377745226e-05 ,  0.14591877760670102 ,  4.707628274293765 ,  1535\n",
      "fallc ,  SPPFEV1 ,  -763.6846247545436 , [ 2.49660259e+02 -6.04107540e+01  1.37526975e-01] , 0.7389583926565135 , 688.6735628826177 , 1422\n",
      "fallc ,  SPPFEV1 ,  -763.6846247545436 ,  249.66025868468023 ,  -60.410753982806554 ,  0.13752697495868915 ,  0.7389583926565135 ,  688.6735628826177 ,  1422\n",
      "fallc ,  SPPFEV3 ,  -959.2305813484772 , [-4.46719272e+02  9.39761518e+01  1.87650525e-01] , 0.011758505994087232 , 6849.6124744916115 , 1422\n",
      "fallc ,  SPPFEV3 ,  -959.2305813484772 ,  -446.71927243396186 ,  93.97615176326727 ,  0.18765052534382676 ,  0.011758505994087232 ,  6849.6124744916115 ,  1422\n",
      "fallc ,  SPPFEV6 ,  -1003.9579079257742 , [-3.77146489e+02  8.80620757e+01  1.87880689e-01] , 0.013154011126825904 , 6842.5006007076 , 1422\n",
      "fallc ,  SPPFEV6 ,  -1003.9579079257742 ,  -377.14648894018586 ,  88.06207568587347 ,  0.18788068880766673 ,  0.013154011126825904 ,  6842.5006007076 ,  1422\n",
      "fallc ,  SPPFVC ,  -1140.1775436021676 , [ 4.38365311e+02 -7.94726463e+01  1.61472371e-01] , 0.7261481401777876 , 793.4664746326671 , 1422\n",
      "fallc ,  SPPFVC ,  -1140.1775436021676 ,  438.36531102294236 ,  -79.47264626419087 ,  0.16147237146675764 ,  0.7261481401777876 ,  793.4664746326671 ,  1422\n",
      "fallc ,  SPPPEAK ,  -853.9260418618014 , [ 1.13568908e+03 -1.82746676e+02  2.30208945e-01] , 0.5420283030652401 , 1524.7412723844923 , 1422\n",
      "fallc ,  SPPPEAK ,  -853.9260418618014 ,  1135.6890805654482 ,  -182.74667599400175 ,  0.23020894455021335 ,  0.5420283030652401 ,  1524.7412723844923 ,  1422\n",
      "fallc ,  SPPMMEF ,  140.56580658037592 , [-6.52185424e+02  9.98770007e+01  1.55724540e-01] , 0.004596332921535717 , 6911.228064512907 , 1422\n",
      "fallc ,  SPPMMEF ,  140.56580658037592 ,  -652.1854235962622 ,  99.8770006614652 ,  0.15572453995392266 ,  0.004596332921535717 ,  6911.228064512907 ,  1422\n",
      "fallc ,  SPPFEF75 ,  -161.75277903214692 , [-4.13550205e+02  2.87543903e+01  8.73157973e-02] , 0.21018757076455363 , 901.7217211566914 , 1422\n",
      "fallc ,  SPPFEF75 ,  -161.75277903214692 ,  -413.55020509952226 ,  28.754390277568753 ,  0.08731579725151661 ,  0.21018757076455363 ,  901.7217211566914 ,  1422\n",
      "fallc ,  SPPEXPIR ,  5.849642412350975 , [ 2.16240461e+00 -1.63440979e-01 -5.46192082e-05] , 0.16183675720466761 , 4.84713176990834 , 1422\n",
      "fallc ,  SPPEXPIR ,  5.849642412350975 ,  2.162404613736146 ,  -0.16344097892043338 ,  -5.46192082030994e-05 ,  0.16183675720466761 ,  4.84713176990834 ,  1422\n",
      "fallma ,  SPPFEV1 ,  -970.8815772941525 , [ 2.92773395e+02 -7.06526545e+01  1.48989663e-01] , 0.6954338758725095 , 619.5933220687307 , 1559\n",
      "fallma ,  SPPFEV1 ,  -970.8815772941525 ,  292.77339509225425 ,  -70.65265448044511 ,  0.14898966258881785 ,  0.6954338758725095 ,  619.5933220687307 ,  1559\n",
      "fallma ,  SPPFEV3 ,  -491.05971857735267 , [-3.17843610e+02  8.18663972e+01  1.68293898e-01] , 0.011209845982827704 , 5361.536744008 , 1559\n",
      "fallma ,  SPPFEV3 ,  -491.05971857735267 ,  -317.8436098355955 ,  81.86639717371608 ,  0.16829389753372936 ,  0.011209845982827704 ,  5361.536744008 ,  1559\n",
      "fallma ,  SPPFEV6 ,  -535.5807704997305 , [-2.64256698e+02  7.76739160e+01  1.69299915e-01] , 0.012498904495484965 , 5358.196721414702 , 1559\n",
      "fallma ,  SPPFEV6 ,  -535.5807704997305 ,  -264.2566983138991 ,  77.67391597024215 ,  0.16929991515515042 ,  0.012498904495484965 ,  5358.196721414702 ,  1559\n",
      "fallma ,  SPPFVC ,  -1269.0214613507383 , [ 4.58404095e+02 -8.64778551e+01  1.69366328e-01] , 0.6867510944706365 , 704.8019601411362 , 1559\n",
      "fallma ,  SPPFVC ,  -1269.0214613507383 ,  458.4040946804915 ,  -86.47785513197567 ,  0.16936632786129735 ,  0.6867510944706365 ,  704.8019601411362 ,  1559\n",
      "fallma ,  SPPPEAK ,  -1452.4682734011058 , [ 1.06643328e+03 -1.90244695e+02  2.69618632e-01] , 0.45915355096984545 , 1505.636872856795 , 1559\n",
      "fallma ,  SPPPEAK ,  -1452.4682734011058 ,  1066.433276747009 ,  -190.2446948689776 ,  0.2696186324528469 ,  0.45915355096984545 ,  1505.636872856795 ,  1559\n",
      "fallma ,  SPPMMEF ,  337.69803379202585 , [-3.79375966e+02  6.35506325e+01  1.50634884e-01] , 0.005206982182973108 , 5405.768317420321 , 1559\n",
      "fallma ,  SPPMMEF ,  337.69803379202585 ,  -379.3759664371834 ,  63.550632536142245 ,  0.15063488400007685 ,  0.005206982182973108 ,  5405.768317420321 ,  1559\n",
      "fallma ,  SPPFEF75 ,  -235.28506773112827 , [-3.18703405e+02  1.43167167e+01  9.23923014e-02] , 0.21080749440234714 , 797.3611146878526 , 1559\n",
      "fallma ,  SPPFEF75 ,  -235.28506773112827 ,  -318.70340455074813 ,  14.316716724596692 ,  0.09239230136968679 ,  0.21080749440234714 ,  797.3611146878526 ,  1559\n",
      "fallma ,  SPPEXPIR ,  4.421029839514379 , [ 2.06867400e+00 -1.36237489e-01 -1.04573005e-06] , 0.25141220129426645 , 3.6580379378699104 , 1559\n",
      "fallma ,  SPPEXPIR ,  4.421029839514379 ,  2.0686740006389788 ,  -0.1362374887528258 ,  -1.0457300514410406e-06 ,  0.25141220129426645 ,  3.6580379378699104 ,  1559\n"
     ]
    }
   ],
   "source": [
    "# First initialize resultsratio dataframe\n",
    "column_names = [\"dfnvarn\",\"dfname\", \"var\", \"intercept\", \"b1\", \"b2\", \"b3\", \"r2\", \"std\", \"count\"]\n",
    "# print (column_names)\n",
    "resultsnonratio = pd.DataFrame(columns = column_names)\n",
    "resultsnonratio.name = 'resultsnonratio'\n",
    "print (resultsnonratio)\n",
    "print ('Linear Regression of variables in form y = intercept + b1 * age + b2 * age * age + b3 * height * height')\n",
    "print ('dataframe ,  variable,        intercept,   [b1. b2. b3]. ,            R squared,         standard deviation   count')\n",
    "for y in framestoanalyze:\n",
    "  #  print (y.name)\n",
    "    for xx in varsnonratio:\n",
    " #       print(y, \" \", xx)\n",
    "         reg = height_age_reg(y,xx)\n",
    "         dbname, var, intercept, coef, r2, std, count = reg\n",
    "         b1, b2, b3, = coef\n",
    "         print (dbname, ', ', var, ', ',intercept, ', ',b1, ', ',b2, ', ',b3, ', ',r2, ', ',std, ', ',count)\n",
    "         #  Columns: [dfnvarn, dfname, var, intercept, b1, b2, b3, r2, std, count] \n",
    "\n",
    "         dfnvarn = y.name + xx   \n",
    "            \n",
    "         df2 = {'dfnvarn': [dfnvarn], 'dfname': y.name, 'var': xx, 'intercept': intercept, 'b1': b1, 'b2': b2, 'b3': b3, 'r2':r2, 'std':std, 'count':count}                          \n",
    "         resultsnonratio = resultsnonratio.append(df2, ignore_index=True)"
   ]
  },
  {
   "cell_type": "markdown",
   "metadata": {},
   "source": [
    "def createvarspp(df):\n",
    "    vn = df.name + 'FEV1OFVC'\n",
    "  #  print (vn)\n",
    "    resultsratio.loc[['m20overbFEV1OFVC'], ['intercept']] \n",
    "  #  print (resultsratio.loc['m20overbFEV1OFVC', 'intercept'])\n",
    "  #  print (resultsratio.loc[vn, 'slope'])\n",
    "    a =  resultsratio.loc['m20overbFEV1OFVC', 'intercept'] \n",
    "    b = resultsratio.loc[vn, 'slope']\n",
    "  #  print (a)\n",
    "  #  print ('b ', b)\n",
    "    df['FEV1OFVCPP'] = df.FEV1OFVC / (a + b * (df.HSAGEIR / 12))\n",
    "  #  df['FEV1OFVCPP'] = df. FEV1OFVC / (resultsratio.loc [vn,intercept] + resultsratio.loc[vn,slope]) # * df.HSAGEIR/12)\n",
    "  #  df['FEV1OFVCPP'] = df.FEV1OFVC / 100\n",
    "  def createvarspp(df):\n",
    "    vn = df.name + 'FEV1OFVC'\n",
    "  #  print (vn)\n",
    "  #  resultsratio.loc[['m20overbFEV1OFVC'], ['intercept']] \n",
    "  #  print (resultsratio.loc['m20overbFEV1OFVC', 'intercept'])\n",
    "  #  print (resultsratio.loc[vn, 'slope'])\n",
    "  #  a =  resultsratio.loc['m20overbFEV1OFVC', 'intercept'] \n",
    "   # b = resultsratio.loc[vn, 'slope']\n",
    "  #  print (a)\n",
    "  #  print ('b ', b)\n",
    " #   df['FEV1OFVCPP'] = df.FEV1OFVC / (a + b * (df.HSAGEIR / 12))\n",
    "    df['FEV1OFVCPP'] = df.FEV1OFVC / (resultsratio.loc[vn, 'intercept'] + resultsratio.loc[vn, 'slope'] * (df.HSAGEIR / 12))\n"
   ]
  },
  {
   "cell_type": "code",
   "execution_count": 324,
   "metadata": {},
   "outputs": [],
   "source": [
    "def createvarsppone(df):\n",
    "    vn = df.name + 'FEV1OFVC'\n",
    "  #  print (vn)\n",
    "  #  resultsratio.loc[['m20overbFEV1OFVC'], ['intercept']] \n",
    "  #  print (resultsratio.loc['m20overbFEV1OFVC', 'intercept'])\n",
    "  #  print (resultsratio.loc[vn, 'slope'])\n",
    "  #  a =  resultsratio.loc['m20overbFEV1OFVC', 'intercept'] \n",
    "   # b = resultsratio.loc[vn, 'slope']\n",
    "  #  print (a)\n",
    "  #  print ('b ', b)\n",
    " #   df['FEV1OFVCPP'] = df.FEV1OFVC / (a + b * (df.HSAGEIR / 12))\n",
    "    df['FEV1OFVCPP'] = df.FEV1OFVC / (resultsratio.loc[vn, 'intercept'] + resultsratio.loc[vn, 'slope'] * (df.HSAGEIR / 12))\n",
    "    print (vn)"
   ]
  },
  {
   "cell_type": "markdown",
   "metadata": {},
   "source": [
    "def createvarspp(df):\n",
    "    vn = df.name + 'FEV1OFVC'\n",
    "    df['FEV1OFVCPP'] = df.FEV1OFVC / (resultsratio.loc[vn, 'intercept'] + resultsratio.loc[vn, 'slope'] * (df.HSAGEIR / 12))\n",
    " #   print (vn)\n",
    " #   vn = df.name + 'FEV1OFEV6'\n",
    "#    print (vn)\n",
    "    vn = df.name + 'PEFROFVC'\n",
    "    df['PEFROFVCPP'] = df.PEFROFVC / (resultsratio.loc[vn, 'intercept'] + resultsratio.loc[vn, 'slope'] * (df.HSAGEIR / 12))\n",
    "    vn = df.name + 'FEV1OFEV6'\n",
    "    df['FEV1OFEV6PP']= df.FEV1OFEV6 / (resultsratio.loc[vn, 'intercept'] + resultsratio.loc[vn, 'slope'] * (df.HSAGEIR / 12))\n",
    "    vn = df.name + 'PEFROFVC'\n",
    "    df['PEFROFVCPP'] = df.PEFROFVC / (resultsratio.loc[vn, 'intercept'] + resultsratio.loc[vn, 'slope'] * (df.HSAGEIR / 12))\n",
    "    vn = df.name + 'PEFROFEV6'\n",
    "    df['PEFROFEV6PP']= df.PEFROFEV6 / (resultsratio.loc[vn, 'intercept'] + resultsratio.loc[vn, 'slope'] * (df.HSAGEIR / 12))\n",
    "    vn = df.name + 'PEFROFEV1'\n",
    "    df['PEFROFEV1PP'] = df.PEFROFEV1 / (resultsratio.loc[vn, 'intercept'] + resultsratio.loc[vn, 'slope'] * (df.HSAGEIR / 12))\n",
    "    vn = df.name + 'FEV3OFVC'\n",
    "    df['FEV3OFVCPP'] = df.FEV3OFVC / (resultsratio.loc[vn, 'intercept'] + resultsratio.loc[vn, 'slope'] * (df.HSAGEIR / 12))\n",
    "    vn = df.name + 'FEV6OFVC'\n",
    "    df['FEV6OFVCPP'] = df.FEV6OFVC / (resultsratio.loc[vn, 'intercept'] + resultsratio.loc[vn, 'slope'] * (df.HSAGEIR / 12))"
   ]
  },
  {
   "cell_type": "code",
   "execution_count": 325,
   "metadata": {},
   "outputs": [],
   "source": [
    "def createvarspp(df):\n",
    "    vn = df.name + 'FEV1OFVC'\n",
    "    df['FEV1OFVCPP'] = df.FEV1OFVC / (resultsratio.loc[vn, 'intercept'] + resultsratio.loc[vn, 'slope'] * (df.HSAGEIR / 12))\n",
    " #   print (vn)\n",
    " #   vn = df.name + 'FEV1OFEV6'\n",
    "#    print (vn)\n",
    "    vn = df.name + 'PEFROFVC'\n",
    "    df['PEFROFVCPP'] = df.PEFROFVC / (resultsratio.loc[vn, 'intercept'] + resultsratio.loc[vn, 'slope'] * (df.HSAGEIR / 12))\n",
    "    vn = df.name + 'FEV1OFEV6'\n",
    "    df['FEV1OFEV6PP']= df.FEV1OFEV6 / (resultsratio.loc[vn, 'intercept'] + resultsratio.loc[vn, 'slope'] * (df.HSAGEIR / 12))\n",
    "    vn = df.name + 'PEFROFVC'\n",
    "    df['PEFROFVCPP'] = df.PEFROFVC / (resultsratio.loc[vn, 'intercept'] + resultsratio.loc[vn, 'slope'] * (df.HSAGEIR / 12))\n",
    "    vn = df.name + 'PEFROFEV6'\n",
    "    df['PEFROFEV6PP']= df.PEFROFEV6 / (resultsratio.loc[vn, 'intercept'] + resultsratio.loc[vn, 'slope'] * (df.HSAGEIR / 12))\n",
    "    vn = df.name + 'PEFROFEV1'\n",
    "    df['PEFROFEV1PP'] = df.PEFROFEV1 / (resultsratio.loc[vn, 'intercept'] + resultsratio.loc[vn, 'slope'] * (df.HSAGEIR / 12))\n",
    "    vn = df.name + 'FEV3OFVC'\n",
    "    df['FEV3OFVCPP'] = df.FEV3OFVC / (resultsratio.loc[vn, 'intercept'] + resultsratio.loc[vn, 'slope'] * (df.HSAGEIR / 12))\n",
    "    vn = df.name + 'FEV6OFVC'\n",
    "    df['FEV6OFVCPP'] = df.FEV6OFVC / (resultsratio.loc[vn, 'intercept'] + resultsratio.loc[vn, 'slope'] * (df.HSAGEIR / 12))"
   ]
  },
  {
   "cell_type": "raw",
   "metadata": {},
   "source": []
  },
  {
   "cell_type": "code",
   "execution_count": null,
   "metadata": {},
   "outputs": [],
   "source": []
  },
  {
   "cell_type": "raw",
   "metadata": {},
   "source": []
  },
  {
   "cell_type": "code",
   "execution_count": null,
   "metadata": {},
   "outputs": [],
   "source": [
    "m20overb.describe()"
   ]
  },
  {
   "cell_type": "code",
   "execution_count": null,
   "metadata": {},
   "outputs": [],
   "source": [
    "plt.scatter(X, y)"
   ]
  },
  {
   "cell_type": "code",
   "execution_count": null,
   "metadata": {},
   "outputs": [],
   "source": [
    "from scipy import stats"
   ]
  },
  {
   "cell_type": "markdown",
   "metadata": {},
   "source": [
    "# now plot y actual value (e.g. of PEFR/FVC) vs predicted PEFR/FVC\n",
    "first need new value PEFROFVCPRED = the regression for predicted\n",
    "  and PEFROFVCPP - %predicted of PEF\n",
    "then do linear regression of x = PEFROFVCPRED and y = PEFROFVCROFVC\n",
    "do scatter plot of X,y to see if \n",
    "do histogram of PEFROFVC\n",
    "do linear regression and scatter plot of PEFROFVCPP (y) versus age to see if the SDev varies by age\n",
    "need see if normal distribution of \n",
    "\n",
    "Also have new variables PEFRPP/FVCPP - or PEFRPP-FVCPP\n",
    "  then see if one or other has normal distribution and what is variance\n",
    "  ratio should be centered around 1; and difference around 0\n",
    "  I have been using PEFRPP-FVCPP >30 as indicator, but ratio may be better (e.g. if more than 1.3,"
   ]
  },
  {
   "cell_type": "markdown",
   "metadata": {},
   "source": [
    "do plot of actual FEV1 vs predicted FEV1 ( x vs y)\n",
    "to get lower limit, need standard deviation - first see if normal distribution\n",
    "  then fit to gaussian and sdev from that\n",
    "  \n",
    "  need check whether same sdev for each age; whether same for each height, for each height**2, for each predicted FEV1\n",
    "    by categories\n"
   ]
  },
  {
   "cell_type": "markdown",
   "metadata": {},
   "source": [
    "We're trying to replicate and update Hankinson"
   ]
  },
  {
   "cell_type": "markdown",
   "metadata": {},
   "source": [
    "We're trying to replicate and update Hankinson"
   ]
  },
  {
   "cell_type": "markdown",
   "metadata": {},
   "source": [
    "# Now need determine LLN - ?used std"
   ]
  },
  {
   "cell_type": "markdown",
   "metadata": {},
   "source": [
    "Determine lower limit of normal\n",
    "  can do this if get starndard deviation for each variable\n",
    "Assuming normal distribution get standard deviation for each variable\n",
    "Could create variable as %predicted, then do normal distribution of the %predicteds\n",
    "Would want to check if the standard deviation varied by age ?height\n",
    "Alternatively is there a way to get lower 5%\n"
   ]
  },
  {
   "cell_type": "code",
   "execution_count": null,
   "metadata": {},
   "outputs": [],
   "source": []
  },
  {
   "cell_type": "code",
   "execution_count": null,
   "metadata": {},
   "outputs": [],
   "source": []
  }
 ],
 "metadata": {
  "kernelspec": {
   "display_name": "Python 3",
   "language": "python",
   "name": "python3"
  },
  "language_info": {
   "codemirror_mode": {
    "name": "ipython",
    "version": 3
   },
   "file_extension": ".py",
   "mimetype": "text/x-python",
   "name": "python",
   "nbconvert_exporter": "python",
   "pygments_lexer": "ipython3",
   "version": "3.7.6"
  }
 },
 "nbformat": 4,
 "nbformat_minor": 4
}

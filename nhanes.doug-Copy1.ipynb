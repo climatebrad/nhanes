{
 "cells": [
  {
   "cell_type": "markdown",
   "metadata": {},
   "source": [
    "We're trying to replicate and update Hankinson"
   ]
  },
  {
   "cell_type": "code",
   "execution_count": 581,
   "metadata": {},
   "outputs": [
    {
     "data": {
      "text/plain": [
       "(609, 76)"
      ]
     },
     "execution_count": 581,
     "metadata": {},
     "output_type": "execute_result"
    }
   ],
   "source": [
    "mlt20b.shape"
   ]
  },
  {
   "cell_type": "markdown",
   "metadata": {},
   "source": [
    "Import pandas - pd, matplotlib.pyplot - plt"
   ]
  },
  {
   "cell_type": "markdown",
   "metadata": {},
   "source": [
    "Not sure what nhanes_loader does\n",
    "Not sure what importlib does\n",
    "Not sure what importlib.reload(nhanes_loader) does"
   ]
  },
  {
   "cell_type": "markdown",
   "metadata": {},
   "source": [
    "Import nhanes Household_adult_file; then importlib.reload"
   ]
  },
  {
   "cell_type": "markdown",
   "metadata": {},
   "source": [
    "I accidently wiped out next section.  I think it was\n",
    "import pandas as pd\n",
    "import matplotlib as plt\n",
    "%matplotlib inline\n",
    "\n",
    "on master was\n",
    "import pandas as pd\n",
    "import matplotlib.pyplot as plt\n",
    "%matplotlib inline\n",
    "import nhanes_loader\n",
    "import importlib\n",
    "importlib.reload(nhanes_loader)\n",
    "\n",
    "On Doug was\n",
    "import numpy as np\n",
    "import pandas as pd\n",
    "import matplotlib.pyplot as plt\n",
    "%matplotlib inline\n"
   ]
  },
  {
   "cell_type": "markdown",
   "metadata": {},
   "source": [
    "## Import Pandas as pd; matplotlib.pyplot as plt, HouseholdAdultFile"
   ]
  },
  {
   "cell_type": "code",
   "execution_count": 54,
   "metadata": {},
   "outputs": [
    {
     "name": "stdout",
     "output_type": "stream",
     "text": [
      "The autoreload extension is already loaded. To reload it, use:\n",
      "  %reload_ext autoreload\n"
     ]
    }
   ],
   "source": [
    "import pandas as pd\n",
    "import matplotlib.pyplot as plt\n",
    "%matplotlib inline\n",
    "import nhanes_loader\n",
    "import importlib\n",
    "importlib.reload(nhanes_loader)"
   ]
  },
  {
   "cell_type": "markdown",
   "metadata": {},
   "source": [
    "## Import Household Adult File"
   ]
  },
  {
   "cell_type": "markdown",
   "metadata": {},
   "source": [
    "from nhanes.household_adult_file import HouseholdAdultFile\n",
    "nh = HouseholdAdultFile()"
   ]
  },
  {
   "cell_type": "code",
   "execution_count": 236,
   "metadata": {},
   "outputs": [],
   "source": [
    "from nhanes.household_adult_file import HouseholdAdultFile\n",
    "nh = HouseholdAdultFile()"
   ]
  },
  {
   "cell_type": "markdown",
   "metadata": {},
   "source": [
    "## Import exam file - exam"
   ]
  },
  {
   "cell_type": "markdown",
   "metadata": {},
   "source": [
    "import nhanes.exam_file\n",
    "importlib.reload(nhanes.exam_file)\n",
    "from nhanes.exam_file import ExamFile"
   ]
  },
  {
   "cell_type": "code",
   "execution_count": 298,
   "metadata": {},
   "outputs": [],
   "source": [
    "import nhanes.exam_file\n",
    "importlib.reload(nhanes.exam_file)\n",
    "from nhanes.exam_file import ExamFile"
   ]
  },
  {
   "cell_type": "code",
   "execution_count": 299,
   "metadata": {},
   "outputs": [],
   "source": [
    "exam = ExamFile()"
   ]
  },
  {
   "cell_type": "code",
   "execution_count": 300,
   "metadata": {},
   "outputs": [
    {
     "data": {
      "text/plain": [
       "(31311, 40)"
      ]
     },
     "execution_count": 300,
     "metadata": {},
     "output_type": "execute_result"
    }
   ],
   "source": [
    "exam.data.shape"
   ]
  },
  {
   "cell_type": "code",
   "execution_count": 301,
   "metadata": {},
   "outputs": [
    {
     "data": {
      "text/html": [
       "<div>\n",
       "<style scoped>\n",
       "    .dataframe tbody tr th:only-of-type {\n",
       "        vertical-align: middle;\n",
       "    }\n",
       "\n",
       "    .dataframe tbody tr th {\n",
       "        vertical-align: top;\n",
       "    }\n",
       "\n",
       "    .dataframe thead th {\n",
       "        text-align: right;\n",
       "    }\n",
       "</style>\n",
       "<table border=\"1\" class=\"dataframe\">\n",
       "  <thead>\n",
       "    <tr style=\"text-align: right;\">\n",
       "      <th></th>\n",
       "      <th>description</th>\n",
       "      <th>variable</th>\n",
       "      <th>position</th>\n",
       "      <th>end position</th>\n",
       "      <th>length</th>\n",
       "    </tr>\n",
       "  </thead>\n",
       "  <tbody>\n",
       "    <tr>\n",
       "      <th>0</th>\n",
       "      <td>Respondent identification number</td>\n",
       "      <td>SEQN</td>\n",
       "      <td>1</td>\n",
       "      <td>5.0</td>\n",
       "      <td>5</td>\n",
       "    </tr>\n",
       "    <tr>\n",
       "      <th>1</th>\n",
       "      <td>Family sequence number</td>\n",
       "      <td>DMPFSEQ</td>\n",
       "      <td>6</td>\n",
       "      <td>10.0</td>\n",
       "      <td>5</td>\n",
       "    </tr>\n",
       "    <tr>\n",
       "      <th>2</th>\n",
       "      <td>Examination/interview status</td>\n",
       "      <td>DMPSTAT</td>\n",
       "      <td>11</td>\n",
       "      <td>NaN</td>\n",
       "      <td>1</td>\n",
       "    </tr>\n",
       "    <tr>\n",
       "      <th>3</th>\n",
       "      <td>Race-ethnicity</td>\n",
       "      <td>DMARETHN</td>\n",
       "      <td>12</td>\n",
       "      <td>NaN</td>\n",
       "      <td>1</td>\n",
       "    </tr>\n",
       "    <tr>\n",
       "      <th>4</th>\n",
       "      <td>Race</td>\n",
       "      <td>DMARACER</td>\n",
       "      <td>13</td>\n",
       "      <td>NaN</td>\n",
       "      <td>1</td>\n",
       "    </tr>\n",
       "    <tr>\n",
       "      <th>...</th>\n",
       "      <td>...</td>\n",
       "      <td>...</td>\n",
       "      <td>...</td>\n",
       "      <td>...</td>\n",
       "      <td>...</td>\n",
       "    </tr>\n",
       "    <tr>\n",
       "      <th>2363</th>\n",
       "      <td>Time to complete 8-ft walk--trial B(sec)</td>\n",
       "      <td>PFPTWLKB</td>\n",
       "      <td>6221</td>\n",
       "      <td>6224.0</td>\n",
       "      <td>4</td>\n",
       "    </tr>\n",
       "    <tr>\n",
       "      <th>2364</th>\n",
       "      <td>Number of steps--trial B</td>\n",
       "      <td>PFPNSTPB</td>\n",
       "      <td>6225</td>\n",
       "      <td>6226.0</td>\n",
       "      <td>2</td>\n",
       "    </tr>\n",
       "    <tr>\n",
       "      <th>2365</th>\n",
       "      <td>Pain reported on walking</td>\n",
       "      <td>PFPPAIN</td>\n",
       "      <td>6227</td>\n",
       "      <td>NaN</td>\n",
       "      <td>1</td>\n",
       "    </tr>\n",
       "    <tr>\n",
       "      <th>2366</th>\n",
       "      <td>Type of device used</td>\n",
       "      <td>PFPDEVIC</td>\n",
       "      <td>6228</td>\n",
       "      <td>NaN</td>\n",
       "      <td>1</td>\n",
       "    </tr>\n",
       "    <tr>\n",
       "      <th>2367</th>\n",
       "      <td>Examiner number</td>\n",
       "      <td>PFPTECH</td>\n",
       "      <td>6229</td>\n",
       "      <td>6233.0</td>\n",
       "      <td>5</td>\n",
       "    </tr>\n",
       "  </tbody>\n",
       "</table>\n",
       "<p>2368 rows × 5 columns</p>\n",
       "</div>"
      ],
      "text/plain": [
       "                                   description  variable  position  \\\n",
       "0             Respondent identification number      SEQN         1   \n",
       "1                       Family sequence number   DMPFSEQ         6   \n",
       "2                 Examination/interview status   DMPSTAT        11   \n",
       "3                               Race-ethnicity  DMARETHN        12   \n",
       "4                                         Race  DMARACER        13   \n",
       "...                                        ...       ...       ...   \n",
       "2363  Time to complete 8-ft walk--trial B(sec)  PFPTWLKB      6221   \n",
       "2364                  Number of steps--trial B  PFPNSTPB      6225   \n",
       "2365                  Pain reported on walking   PFPPAIN      6227   \n",
       "2366                       Type of device used  PFPDEVIC      6228   \n",
       "2367                           Examiner number   PFPTECH      6229   \n",
       "\n",
       "      end position  length  \n",
       "0              5.0       5  \n",
       "1             10.0       5  \n",
       "2              NaN       1  \n",
       "3              NaN       1  \n",
       "4              NaN       1  \n",
       "...            ...     ...  \n",
       "2363        6224.0       4  \n",
       "2364        6226.0       2  \n",
       "2365           NaN       1  \n",
       "2366           NaN       1  \n",
       "2367        6233.0       5  \n",
       "\n",
       "[2368 rows x 5 columns]"
      ]
     },
     "execution_count": 301,
     "metadata": {},
     "output_type": "execute_result"
    }
   ],
   "source": [
    "exam.cols"
   ]
  },
  {
   "cell_type": "markdown",
   "metadata": {},
   "source": [
    "## Import Household Youth File - youth"
   ]
  },
  {
   "cell_type": "markdown",
   "metadata": {},
   "source": [
    "import nhanes.household_youth_file\n",
    "importlib.reload(nhanes.household_youth_file)\n",
    "from nhanes.household_youth_file import HouseholdYouthFile"
   ]
  },
  {
   "cell_type": "code",
   "execution_count": 159,
   "metadata": {},
   "outputs": [],
   "source": [
    "import nhanes.household_youth_file\n",
    "importlib.reload(nhanes.household_youth_file)\n",
    "from nhanes.household_youth_file import HouseholdYouthFile"
   ]
  },
  {
   "cell_type": "code",
   "execution_count": 160,
   "metadata": {},
   "outputs": [],
   "source": [
    "youth = HouseholdYouthFile()"
   ]
  },
  {
   "cell_type": "code",
   "execution_count": 161,
   "metadata": {},
   "outputs": [
    {
     "data": {
      "text/html": [
       "<div>\n",
       "<style scoped>\n",
       "    .dataframe tbody tr th:only-of-type {\n",
       "        vertical-align: middle;\n",
       "    }\n",
       "\n",
       "    .dataframe tbody tr th {\n",
       "        vertical-align: top;\n",
       "    }\n",
       "\n",
       "    .dataframe thead th {\n",
       "        text-align: right;\n",
       "    }\n",
       "</style>\n",
       "<table border=\"1\" class=\"dataframe\">\n",
       "  <thead>\n",
       "    <tr style=\"text-align: right;\">\n",
       "      <th></th>\n",
       "      <th>description</th>\n",
       "      <th>variable</th>\n",
       "      <th>position</th>\n",
       "      <th>end position</th>\n",
       "      <th>length</th>\n",
       "    </tr>\n",
       "  </thead>\n",
       "  <tbody>\n",
       "    <tr>\n",
       "      <th>0</th>\n",
       "      <td>Sequence number</td>\n",
       "      <td>SEQN</td>\n",
       "      <td>1</td>\n",
       "      <td>5.0</td>\n",
       "      <td>5</td>\n",
       "    </tr>\n",
       "    <tr>\n",
       "      <th>1</th>\n",
       "      <td>Family sequence number</td>\n",
       "      <td>DMPFSEQ</td>\n",
       "      <td>6</td>\n",
       "      <td>10.0</td>\n",
       "      <td>5</td>\n",
       "    </tr>\n",
       "    <tr>\n",
       "      <th>2</th>\n",
       "      <td>Examination/interview status</td>\n",
       "      <td>DMPSTAT</td>\n",
       "      <td>11</td>\n",
       "      <td>NaN</td>\n",
       "      <td>1</td>\n",
       "    </tr>\n",
       "    <tr>\n",
       "      <th>3</th>\n",
       "      <td>Race-ethnicity</td>\n",
       "      <td>DMARETHN</td>\n",
       "      <td>12</td>\n",
       "      <td>NaN</td>\n",
       "      <td>1</td>\n",
       "    </tr>\n",
       "    <tr>\n",
       "      <th>4</th>\n",
       "      <td>Race</td>\n",
       "      <td>DMARACER</td>\n",
       "      <td>13</td>\n",
       "      <td>NaN</td>\n",
       "      <td>1</td>\n",
       "    </tr>\n",
       "    <tr>\n",
       "      <th>...</th>\n",
       "      <td>...</td>\n",
       "      <td>...</td>\n",
       "      <td>...</td>\n",
       "      <td>...</td>\n",
       "      <td>...</td>\n",
       "    </tr>\n",
       "    <tr>\n",
       "      <th>682</th>\n",
       "      <td>ICD-9-CM code-9th</td>\n",
       "      <td>HYK11AO</td>\n",
       "      <td>2087</td>\n",
       "      <td>2092.0</td>\n",
       "      <td>6</td>\n",
       "    </tr>\n",
       "    <tr>\n",
       "      <th>683</th>\n",
       "      <td>For how long been taking (days)-9th</td>\n",
       "      <td>HYK12SO</td>\n",
       "      <td>2093</td>\n",
       "      <td>2097.0</td>\n",
       "      <td>5</td>\n",
       "    </tr>\n",
       "    <tr>\n",
       "      <th>684</th>\n",
       "      <td>Main respondents relationship to SP</td>\n",
       "      <td>HYM1</td>\n",
       "      <td>2098</td>\n",
       "      <td>2099.0</td>\n",
       "      <td>2</td>\n",
       "    </tr>\n",
       "    <tr>\n",
       "      <th>685</th>\n",
       "      <td>Was SP present during any of interview</td>\n",
       "      <td>HYM2</td>\n",
       "      <td>2100</td>\n",
       "      <td>NaN</td>\n",
       "      <td>1</td>\n",
       "    </tr>\n",
       "    <tr>\n",
       "      <th>686</th>\n",
       "      <td>Quality of interview</td>\n",
       "      <td>HYM3</td>\n",
       "      <td>2101</td>\n",
       "      <td>NaN</td>\n",
       "      <td>1</td>\n",
       "    </tr>\n",
       "  </tbody>\n",
       "</table>\n",
       "<p>687 rows × 5 columns</p>\n",
       "</div>"
      ],
      "text/plain": [
       "                                description  variable  position  end position  \\\n",
       "0                           Sequence number      SEQN         1           5.0   \n",
       "1                    Family sequence number   DMPFSEQ         6          10.0   \n",
       "2              Examination/interview status   DMPSTAT        11           NaN   \n",
       "3                            Race-ethnicity  DMARETHN        12           NaN   \n",
       "4                                      Race  DMARACER        13           NaN   \n",
       "..                                      ...       ...       ...           ...   \n",
       "682                       ICD-9-CM code-9th   HYK11AO      2087        2092.0   \n",
       "683     For how long been taking (days)-9th   HYK12SO      2093        2097.0   \n",
       "684     Main respondents relationship to SP      HYM1      2098        2099.0   \n",
       "685  Was SP present during any of interview      HYM2      2100           NaN   \n",
       "686                    Quality of interview      HYM3      2101           NaN   \n",
       "\n",
       "     length  \n",
       "0         5  \n",
       "1         5  \n",
       "2         1  \n",
       "3         1  \n",
       "4         1  \n",
       "..      ...  \n",
       "682       6  \n",
       "683       5  \n",
       "684       2  \n",
       "685       1  \n",
       "686       1  \n",
       "\n",
       "[687 rows x 5 columns]"
      ]
     },
     "execution_count": 161,
     "metadata": {},
     "output_type": "execute_result"
    }
   ],
   "source": [
    "youth.cols"
   ]
  },
  {
   "cell_type": "markdown",
   "metadata": {},
   "source": [
    "## Combine adult and exam files - adult_exam"
   ]
  },
  {
   "cell_type": "markdown",
   "metadata": {},
   "source": [
    "match files on the SEQN field  adult_exam = nh.data.set_index('SEQN').join(exam.data.set_index('SEQN'),rsuffix='_exam')"
   ]
  },
  {
   "cell_type": "code",
   "execution_count": 302,
   "metadata": {},
   "outputs": [],
   "source": [
    "adult_exam = nh.data.set_index('SEQN').join(exam.data.set_index('SEQN'),rsuffix='_exam')"
   ]
  },
  {
   "cell_type": "code",
   "execution_count": 303,
   "metadata": {},
   "outputs": [
    {
     "name": "stdout",
     "output_type": "stream",
     "text": [
      "<class 'pandas.core.frame.DataFrame'>\n",
      "Int64Index: 20050 entries, 3 to 53623\n",
      "Data columns (total 61 columns):\n",
      " #   Column         Non-Null Count  Dtype  \n",
      "---  ------         --------------  -----  \n",
      " 0   HAR1           20050 non-null  int64  \n",
      " 1   HAR23          20050 non-null  int64  \n",
      " 2   HAR26          20050 non-null  int64  \n",
      " 3   HAC1E          20050 non-null  int64  \n",
      " 4   HAC1F          20050 non-null  int64  \n",
      " 5   HAC1G          20050 non-null  int64  \n",
      " 6   HAC1O          20050 non-null  int64  \n",
      " 7   HAL6           20050 non-null  int64  \n",
      " 8   HAL10          20050 non-null  int64  \n",
      " 9   HAL1           20050 non-null  int64  \n",
      " 10  HAL3           20050 non-null  int64  \n",
      " 11  HAL5           20050 non-null  int64  \n",
      " 12  DMARACER       20050 non-null  int64  \n",
      " 13  DMARETHN       20050 non-null  int64  \n",
      " 14  DMAETHNR       20050 non-null  int64  \n",
      " 15  HSSEX          20050 non-null  int64  \n",
      " 16  HSAGEIR        20050 non-null  int64  \n",
      " 17  HSAGEU         20050 non-null  int64  \n",
      " 18  HXPAXTMR       457 non-null    float64\n",
      " 19  HXPSESSR       457 non-null    float64\n",
      " 20  HSAITMOR       20050 non-null  int64  \n",
      " 21  HAR4S          5008 non-null   float64\n",
      " 22  SPPQ5          18150 non-null  float64\n",
      " 23  SPPQ4          18150 non-null  float64\n",
      " 24  SPPMANEU       18150 non-null  float64\n",
      " 25  MYPB1          0 non-null      float64\n",
      " 26  MYPB3          0 non-null      float64\n",
      " 27  MYPB11         0 non-null      float64\n",
      " 28  MYPB27A        0 non-null      float64\n",
      " 29  MYPB27B        0 non-null      float64\n",
      " 30  HSAGEIR_exam   18162 non-null  float64\n",
      " 31  HSAGEU_exam    18162 non-null  float64\n",
      " 32  HXPAXTMR_exam  457 non-null    float64\n",
      " 33  HXPSESSR_exam  457 non-null    float64\n",
      " 34  HXPEJ6A2       445 non-null    float64\n",
      " 35  SPPTECH1       18150 non-null  float64\n",
      " 36  SPPTRIAL       18150 non-null  float64\n",
      " 37  SPPPEAK        18150 non-null  float64\n",
      " 38  SPPFEV05       18150 non-null  float64\n",
      " 39  SPPFEV1        18150 non-null  float64\n",
      " 40  SPPFEV3        18150 non-null  float64\n",
      " 41  SPPFEV6        18150 non-null  float64\n",
      " 42  SPPFVC         18150 non-null  float64\n",
      " 43  SPPMMEF        18150 non-null  float64\n",
      " 44  SPPFEF75       18150 non-null  float64\n",
      " 45  SPPTYPE        18150 non-null  float64\n",
      " 46  SPPREPRO       18150 non-null  float64\n",
      " 47  SPPTIME        18150 non-null  object \n",
      " 48  SPPEXPIR       18150 non-null  float64\n",
      " 49  SPPTEMP        18150 non-null  float64\n",
      " 50  HSSEX_exam     18162 non-null  float64\n",
      " 51  WTPFHX6        18162 non-null  float64\n",
      " 52  MXPAXTMR       17705 non-null  float64\n",
      " 53  BMPHT          18162 non-null  float64\n",
      " 54  BMPSITHT       17705 non-null  float64\n",
      " 55  BMPWT          18162 non-null  float64\n",
      " 56  DMARACER_exam  18162 non-null  Int64  \n",
      " 57  DMARETHN_exam  18162 non-null  float64\n",
      " 58  SPPQ3          18150 non-null  float64\n",
      " 59  DMAETHNR_exam  18162 non-null  float64\n",
      " 60  HSAITMOR_exam  18162 non-null  float64\n",
      "dtypes: Int64(1), float64(40), int64(19), object(1)\n",
      "memory usage: 10.1+ MB\n"
     ]
    }
   ],
   "source": [
    "adult_exam.info()"
   ]
  },
  {
   "cell_type": "markdown",
   "metadata": {},
   "source": [
    "## Combine youth and exam files - youth_exam"
   ]
  },
  {
   "cell_type": "markdown",
   "metadata": {},
   "source": [
    "youth_exam = youth.data.set_index('SEQN').join(exam.data.set_index('SEQN'),rsuffix='_exam')"
   ]
  },
  {
   "cell_type": "code",
   "execution_count": 304,
   "metadata": {},
   "outputs": [],
   "source": [
    "youth_exam = youth.data.set_index('SEQN').join(exam.data.set_index('SEQN'),rsuffix='_exam')"
   ]
  },
  {
   "cell_type": "code",
   "execution_count": 358,
   "metadata": {},
   "outputs": [
    {
     "name": "stdout",
     "output_type": "stream",
     "text": [
      "<class 'pandas.core.frame.DataFrame'>\n",
      "Int64Index: 13944 entries, 7 to 53622\n",
      "Data columns (total 54 columns):\n",
      " #   Column         Non-Null Count  Dtype  \n",
      "---  ------         --------------  -----  \n",
      " 0   HSSEX          13944 non-null  int64  \n",
      " 1   HSAGEIR        13944 non-null  int64  \n",
      " 2   HSAGEU         13944 non-null  int64  \n",
      " 3   DMARACER       13944 non-null  int64  \n",
      " 4   DMARETHN       13944 non-null  int64  \n",
      " 5   DMAETHNR       13944 non-null  int64  \n",
      " 6   HXPAXTMR       36 non-null     float64\n",
      " 7   HXPSESSR       36 non-null     float64\n",
      " 8   HYE1G          13944 non-null  int64  \n",
      " 9   HYG2           2216 non-null   float64\n",
      " 10  HYG4           2216 non-null   float64\n",
      " 11  HYG7           3690 non-null   float64\n",
      " 12  HYG12          13944 non-null  int64  \n",
      " 13  HYG8           13944 non-null  int64  \n",
      " 14  HYE1H          13944 non-null  int64  \n",
      " 15  SPPQ5          4281 non-null   float64\n",
      " 16  SPPQ4          4281 non-null   float64\n",
      " 17  SPPMANEU       4281 non-null   float64\n",
      " 18  MYPB1          4281 non-null   float64\n",
      " 19  MYPB3          887 non-null    float64\n",
      " 20  MYPB11         859 non-null    float64\n",
      " 21  MYPB27A        4281 non-null   float64\n",
      " 22  MYPB27B        4281 non-null   float64\n",
      " 23  HSAGEIR_exam   13149 non-null  float64\n",
      " 24  HSAGEU_exam    13149 non-null  float64\n",
      " 25  HXPAXTMR_exam  36 non-null     float64\n",
      " 26  HXPSESSR_exam  36 non-null     float64\n",
      " 27  HXPEJ6A2       0 non-null      float64\n",
      " 28  SPPTECH1       4281 non-null   float64\n",
      " 29  SPPTRIAL       4281 non-null   float64\n",
      " 30  SPPPEAK        4281 non-null   float64\n",
      " 31  SPPFEV05       4281 non-null   float64\n",
      " 32  SPPFEV1        4281 non-null   float64\n",
      " 33  SPPFEV3        4281 non-null   float64\n",
      " 34  SPPFEV6        4281 non-null   float64\n",
      " 35  SPPFVC         4281 non-null   float64\n",
      " 36  SPPMMEF        4281 non-null   float64\n",
      " 37  SPPFEF75       4281 non-null   float64\n",
      " 38  SPPTYPE        4281 non-null   float64\n",
      " 39  SPPREPRO       4281 non-null   float64\n",
      " 40  SPPTIME        4281 non-null   object \n",
      " 41  SPPEXPIR       4281 non-null   float64\n",
      " 42  SPPTEMP        4281 non-null   float64\n",
      " 43  HSSEX_exam     13149 non-null  float64\n",
      " 44  WTPFHX6        13149 non-null  float64\n",
      " 45  MXPAXTMR       13113 non-null  float64\n",
      " 46  BMPHT          9895 non-null   float64\n",
      " 47  BMPSITHT       9894 non-null   float64\n",
      " 48  BMPWT          13149 non-null  float64\n",
      " 49  DMARACER_exam  13149 non-null  Int64  \n",
      " 50  DMARETHN_exam  13149 non-null  float64\n",
      " 51  SPPQ3          4281 non-null   float64\n",
      " 52  DMAETHNR_exam  13149 non-null  float64\n",
      " 53  HSAITMOR       13149 non-null  float64\n",
      "dtypes: Int64(1), float64(42), int64(10), object(1)\n",
      "memory usage: 6.5+ MB\n"
     ]
    }
   ],
   "source": [
    "youth_exam.info()"
   ]
  },
  {
   "cell_type": "code",
   "execution_count": 306,
   "metadata": {},
   "outputs": [
    {
     "data": {
      "text/plain": [
       "(13944, 54)"
      ]
     },
     "execution_count": 306,
     "metadata": {},
     "output_type": "execute_result"
    }
   ],
   "source": [
    "youth_exam.query('HSAGEIR < 18').shape"
   ]
  },
  {
   "cell_type": "markdown",
   "metadata": {},
   "source": [
    "## Hankinson Exclusion"
   ]
  },
  {
   "cell_type": "markdown",
   "metadata": {},
   "source": [
    "Ages - have none over 89; 17-89"
   ]
  },
  {
   "cell_type": "code",
   "execution_count": 15,
   "metadata": {},
   "outputs": [
    {
     "data": {
      "text/plain": [
       "17    432\n",
       "23    423\n",
       "24    407\n",
       "31    403\n",
       "18    403\n",
       "     ... \n",
       "85    138\n",
       "86    128\n",
       "87    110\n",
       "88     70\n",
       "89     56\n",
       "Name: HSAGEIR, Length: 74, dtype: int64"
      ]
     },
     "execution_count": 15,
     "metadata": {},
     "output_type": "execute_result"
    }
   ],
   "source": [
    "adult_exam.HSAGEIR.value_counts()"
   ]
  },
  {
   "cell_type": "markdown",
   "metadata": {},
   "source": [
    "Check for age of 16"
   ]
  },
  {
   "cell_type": "code",
   "execution_count": 16,
   "metadata": {},
   "outputs": [
    {
     "data": {
      "text/plain": [
       "(0, 54)"
      ]
     },
     "execution_count": 16,
     "metadata": {},
     "output_type": "execute_result"
    }
   ],
   "source": [
    "adult_exam.query('HSAGEIR < 17').shape"
   ]
  },
  {
   "cell_type": "markdown",
   "metadata": {},
   "source": [
    "Any age  .shape - returns row and column count of a dataset"
   ]
  },
  {
   "cell_type": "markdown",
   "metadata": {},
   "source": [
    ".describe() - returns statistics about numerical columns"
   ]
  },
  {
   "cell_type": "markdown",
   "metadata": {},
   "source": [
    ".dtypes - returns the data type of each column"
   ]
  },
  {
   "cell_type": "markdown",
   "metadata": {},
   "source": [
    ".count() - number of total values in column"
   ]
  },
  {
   "cell_type": "markdown",
   "metadata": {},
   "source": [
    ".value_counts() - returns object counting counts of unique values"
   ]
  },
  {
   "cell_type": "code",
   "execution_count": 17,
   "metadata": {},
   "outputs": [
    {
     "data": {
      "text/plain": [
       "(20050, 54)"
      ]
     },
     "execution_count": 17,
     "metadata": {},
     "output_type": "execute_result"
    }
   ],
   "source": [
    "adult_exam.query('HSAGEIR>0').shape"
   ]
  },
  {
   "cell_type": "markdown",
   "metadata": {},
   "source": [
    "Check have Height"
   ]
  },
  {
   "cell_type": "code",
   "execution_count": 22,
   "metadata": {},
   "outputs": [
    {
     "data": {
      "text/plain": [
       "(18162, 54)"
      ]
     },
     "execution_count": 22,
     "metadata": {},
     "output_type": "execute_result"
    }
   ],
   "source": [
    "adult_exam.query('BMPHT>0').shape"
   ]
  },
  {
   "cell_type": "markdown",
   "metadata": {},
   "source": [
    "describe SPPMANEU"
   ]
  },
  {
   "cell_type": "markdown",
   "metadata": {},
   "source": [
    "Any spirometry  H 16484 "
   ]
  },
  {
   "cell_type": "code",
   "execution_count": 23,
   "metadata": {},
   "outputs": [
    {
     "data": {
      "text/plain": [
       "5.0     7569\n",
       "6.0     2553\n",
       "4.0     1932\n",
       "7.0     1544\n",
       "88.0    1310\n",
       "8.0     1238\n",
       "3.0      668\n",
       "9.0      400\n",
       "2.0      292\n",
       "10.0     233\n",
       "1.0      226\n",
       "0.0      144\n",
       "11.0      23\n",
       "13.0       8\n",
       "12.0       8\n",
       "14.0       1\n",
       "16.0       1\n",
       "Name: SPPMANEU, dtype: int64"
      ]
     },
     "execution_count": 23,
     "metadata": {},
     "output_type": "execute_result"
    }
   ],
   "source": [
    "adult_exam.SPPMANEU.value_counts()"
   ]
  },
  {
   "cell_type": "markdown",
   "metadata": {},
   "source": [
    "SPPMANEU: successful spirometries -should=16840-370=16470\n",
    "    "
   ]
  },
  {
   "cell_type": "markdown",
   "metadata": {},
   "source": [
    "adult_exam.SPPMANEU.value_counts()"
   ]
  },
  {
   "cell_type": "markdown",
   "metadata": {},
   "source": [
    "any spirometry (in adult age >=17  H 16484  not=88"
   ]
  },
  {
   "cell_type": "code",
   "execution_count": 24,
   "metadata": {},
   "outputs": [
    {
     "data": {
      "text/plain": [
       "(18740, 54)"
      ]
     },
     "execution_count": 24,
     "metadata": {},
     "output_type": "execute_result"
    }
   ],
   "source": [
    "adult_exam.query('SPPMANEU != 88').shape"
   ]
  },
  {
   "cell_type": "code",
   "execution_count": 25,
   "metadata": {},
   "outputs": [
    {
     "data": {
      "text/plain": [
       "(16840, 54)"
      ]
     },
     "execution_count": 25,
     "metadata": {},
     "output_type": "execute_result"
    }
   ],
   "source": [
    "adult_exam.query('SPPMANEU < 88').shape"
   ]
  },
  {
   "cell_type": "code",
   "execution_count": 26,
   "metadata": {},
   "outputs": [
    {
     "data": {
      "text/plain": [
       "(18150, 54)"
      ]
     },
     "execution_count": 26,
     "metadata": {},
     "output_type": "execute_result"
    }
   ],
   "source": [
    "adult_exam.query('SPPMANEU > -1').shape"
   ]
  },
  {
   "cell_type": "markdown",
   "metadata": {},
   "source": [
    "number 2 or more tests  H 277, 16207  we have 16470 (+263)"
   ]
  },
  {
   "cell_type": "code",
   "execution_count": 27,
   "metadata": {},
   "outputs": [
    {
     "data": {
      "text/plain": [
       "(16470, 54)"
      ]
     },
     "execution_count": 27,
     "metadata": {},
     "output_type": "execute_result"
    }
   ],
   "source": [
    "adult_exam.query('2 <= SPPMANEU < 88').shape"
   ]
  },
  {
   "cell_type": "markdown",
   "metadata": {},
   "source": [
    "and age < 90 H 68,16139  we have 84  16386 (+26, +247)"
   ]
  },
  {
   "cell_type": "code",
   "execution_count": 28,
   "metadata": {},
   "outputs": [
    {
     "data": {
      "text/plain": [
       "(84, 54)"
      ]
     },
     "execution_count": 28,
     "metadata": {},
     "output_type": "execute_result"
    }
   ],
   "source": [
    "adult_exam.query('2 <= SPPMANEU < 88').query('HSAGEIR >89').shape"
   ]
  },
  {
   "cell_type": "code",
   "execution_count": 29,
   "metadata": {},
   "outputs": [
    {
     "data": {
      "text/plain": [
       "(16386, 54)"
      ]
     },
     "execution_count": 29,
     "metadata": {},
     "output_type": "execute_result"
    }
   ],
   "source": [
    "adult_exam.query('2 <= SPPMANEU < 88').query('HSAGEIR < 90').shape"
   ]
  },
  {
   "cell_type": "markdown",
   "metadata": {},
   "source": [
    "adult_exam.query('HSAGEIR >= 90').shape"
   ]
  },
  {
   "cell_type": "markdown",
   "metadata": {},
   "source": [
    "and race/ethnicity not other  H 636, 15503"
   ]
  },
  {
   "cell_type": "markdown",
   "metadata": {},
   "source": [
    "adult_exam.query('HSAGEIR > 0').shape"
   ]
  },
  {
   "cell_type": "markdown",
   "metadata": {},
   "source": [
    "and race/ethnicity not other  H 636  15503  we have 639, 15747 (+3, +244)"
   ]
  },
  {
   "cell_type": "code",
   "execution_count": 31,
   "metadata": {},
   "outputs": [
    {
     "data": {
      "text/plain": [
       "1    8483\n",
       "2    5486\n",
       "3    5306\n",
       "4     775\n",
       "Name: DMARETHN, dtype: int64"
      ]
     },
     "execution_count": 31,
     "metadata": {},
     "output_type": "execute_result"
    }
   ],
   "source": [
    "adult_exam.DMARETHN.value_counts()"
   ]
  },
  {
   "cell_type": "code",
   "execution_count": 32,
   "metadata": {},
   "outputs": [
    {
     "data": {
      "text/plain": [
       "(639, 54)"
      ]
     },
     "execution_count": 32,
     "metadata": {},
     "output_type": "execute_result"
    }
   ],
   "source": [
    "adult_exam.query('2 <= SPPMANEU < 88').query('HSAGEIR < 90').query('DMARETHN == 4').shape"
   ]
  },
  {
   "cell_type": "code",
   "execution_count": 33,
   "metadata": {},
   "outputs": [
    {
     "data": {
      "text/plain": [
       "(15747, 54)"
      ]
     },
     "execution_count": 33,
     "metadata": {},
     "output_type": "execute_result"
    }
   ],
   "source": [
    "adult_exam.query('2 <= SPPMANEU < 88').query('HSAGEIR < 90').query('DMARETHN < 4').shape"
   ]
  },
  {
   "cell_type": "markdown",
   "metadata": {},
   "source": [
    "and cigarette smoker H 7,667  7,836  We have  7787 7960 (+120  +124)\n"
   ]
  },
  {
   "cell_type": "code",
   "execution_count": 34,
   "metadata": {},
   "outputs": [
    {
     "data": {
      "text/plain": [
       "2    10235\n",
       "1     9799\n",
       "8       16\n",
       "Name: HAR1, dtype: int64"
      ]
     },
     "execution_count": 34,
     "metadata": {},
     "output_type": "execute_result"
    }
   ],
   "source": [
    "adult_exam.HAR1.value_counts()"
   ]
  },
  {
   "cell_type": "markdown",
   "metadata": {},
   "source": [
    "or statement not work, so need HAR1 = 2"
   ]
  },
  {
   "cell_type": "code",
   "execution_count": 35,
   "metadata": {},
   "outputs": [
    {
     "data": {
      "text/plain": [
       "(9799, 54)"
      ]
     },
     "execution_count": 35,
     "metadata": {},
     "output_type": "execute_result"
    }
   ],
   "source": [
    "adult_exam.query('HAR1 == 1' or 'HAR1 == 8').shape"
   ]
  },
  {
   "cell_type": "code",
   "execution_count": 36,
   "metadata": {},
   "outputs": [
    {
     "data": {
      "text/plain": [
       "(10235, 54)"
      ]
     },
     "execution_count": 36,
     "metadata": {},
     "output_type": "execute_result"
    }
   ],
   "source": [
    "adult_exam.query('HAR1 == 2').shape"
   ]
  },
  {
   "cell_type": "code",
   "execution_count": 37,
   "metadata": {},
   "outputs": [
    {
     "data": {
      "text/plain": [
       "(7960, 54)"
      ]
     },
     "execution_count": 37,
     "metadata": {},
     "output_type": "execute_result"
    }
   ],
   "source": [
    "adult_exam.query('2 <= SPPMANEU < 88').query('HSAGEIR < 90').query('DMARETHN < 4').query('HAR1 ==2').shape"
   ]
  },
  {
   "cell_type": "markdown",
   "metadata": {},
   "source": [
    "and cigar or pipe smoker  H 313, 7523  for cigar we have 284, 7676 "
   ]
  },
  {
   "cell_type": "markdown",
   "metadata": {},
   "source": [
    "cigar HAR23  2 is not cigar"
   ]
  },
  {
   "cell_type": "code",
   "execution_count": 38,
   "metadata": {},
   "outputs": [
    {
     "data": {
      "text/plain": [
       "2    17951\n",
       "1     2073\n",
       "8       21\n",
       "9        5\n",
       "Name: HAR23, dtype: int64"
      ]
     },
     "execution_count": 38,
     "metadata": {},
     "output_type": "execute_result"
    }
   ],
   "source": [
    "adult_exam.HAR23.value_counts()"
   ]
  },
  {
   "cell_type": "code",
   "execution_count": 39,
   "metadata": {},
   "outputs": [
    {
     "data": {
      "text/plain": [
       "(7676, 54)"
      ]
     },
     "execution_count": 39,
     "metadata": {},
     "output_type": "execute_result"
    }
   ],
   "source": [
    "adult_exam.query('2 <= SPPMANEU < 88').query('HSAGEIR < 90').query('DMARETHN < 4').query('HAR1 ==2').query('HAR23 == 2').shape"
   ]
  },
  {
   "cell_type": "markdown",
   "metadata": {},
   "source": [
    "and pipe smoker with above H 313 7523  We have 326 7634 (+13 +111)"
   ]
  },
  {
   "cell_type": "code",
   "execution_count": 40,
   "metadata": {},
   "outputs": [
    {
     "data": {
      "text/plain": [
       "2    18411\n",
       "1     1609\n",
       "8       26\n",
       "9        4\n",
       "Name: HAR26, dtype: int64"
      ]
     },
     "execution_count": 40,
     "metadata": {},
     "output_type": "execute_result"
    }
   ],
   "source": [
    "adult_exam.HAR26.value_counts()"
   ]
  },
  {
   "cell_type": "code",
   "execution_count": 45,
   "metadata": {},
   "outputs": [
    {
     "data": {
      "text/plain": [
       "(7634, 54)"
      ]
     },
     "execution_count": 45,
     "metadata": {},
     "output_type": "execute_result"
    }
   ],
   "source": [
    "adult_exam.query('2 <= SPPMANEU < 88').query('HSAGEIR < 90').query('DMARETHN < 4').query('HAR1 == 2').query('HAR23 == 2').query('HAR26 == 2').shape"
   ]
  },
  {
   "cell_type": "markdown",
   "metadata": {},
   "source": [
    "and smoked cigarettes/cigar/pipes in 5 d prior to exam  H 408 7115  BUT this question only on Youth.  Adult has question SPPQ3 smoked, heavy meal, meds to help breathing past hour; also SPPQ4 past few day cough/cold/other acute illness; also SPPQ5 past 3 weeks respiratory infection (so want these = 2)"
   ]
  },
  {
   "cell_type": "markdown",
   "metadata": {},
   "source": [
    "We have 5965 1669 when exclude all 3"
   ]
  },
  {
   "cell_type": "code",
   "execution_count": 65,
   "metadata": {},
   "outputs": [
    {
     "data": {
      "text/plain": [
       "2.0    16565\n",
       "8.0     1320\n",
       "1.0      265\n",
       "Name: SPPQ3, dtype: int64"
      ]
     },
     "execution_count": 65,
     "metadata": {},
     "output_type": "execute_result"
    }
   ],
   "source": [
    "adult_exam.SPPQ3.value_counts()"
   ]
  },
  {
   "cell_type": "markdown",
   "metadata": {},
   "source": [
    "exclude just Q3 (past hour smoked/heavy meal/med for breathing - H not smoke 5d 7115 408 we have 7406 228 lower (+291, -180)"
   ]
  },
  {
   "cell_type": "code",
   "execution_count": 66,
   "metadata": {},
   "outputs": [
    {
     "data": {
      "text/plain": [
       "(7406, 55)"
      ]
     },
     "execution_count": 66,
     "metadata": {},
     "output_type": "execute_result"
    }
   ],
   "source": [
    "adult_exam.query('2 <= SPPMANEU < 88').query('HSAGEIR < 90').query('DMARETHN < 4').query('HAR1 == 2').query('HAR23 == 2').query('HAR26 == 2').query('SPPQ3 == 2').shape"
   ]
  },
  {
   "cell_type": "code",
   "execution_count": 113,
   "metadata": {},
   "outputs": [
    {
     "data": {
      "text/plain": [
       "2.0    13557\n",
       "1.0     3273\n",
       "8.0     1320\n",
       "Name: SPPQ4, dtype: int64"
      ]
     },
     "execution_count": 113,
     "metadata": {},
     "output_type": "execute_result"
    }
   ],
   "source": [
    "adult_exam.SPPQ4.value_counts()"
   ]
  },
  {
   "cell_type": "markdown",
   "metadata": {},
   "source": [
    "exclude Q3 and Q4"
   ]
  },
  {
   "cell_type": "code",
   "execution_count": 114,
   "metadata": {},
   "outputs": [
    {
     "data": {
      "text/plain": [
       "(6120, 58)"
      ]
     },
     "execution_count": 114,
     "metadata": {},
     "output_type": "execute_result"
    }
   ],
   "source": [
    "adult_exam.query('2 <= SPPMANEU < 88').query('HSAGEIR < 90').query('DMARETHN < 4').query('HAR1 == 2').query('HAR23 == 2').query('HAR26 == 2').query('SPPQ3 == 2').query('SPPQ4 == 2').shape"
   ]
  },
  {
   "cell_type": "markdown",
   "metadata": {},
   "source": [
    "We have 6120 1286 for exclude Q3 and Q4"
   ]
  },
  {
   "cell_type": "code",
   "execution_count": 115,
   "metadata": {},
   "outputs": [
    {
     "data": {
      "text/plain": [
       "2.0    15970\n",
       "8.0     1320\n",
       "1.0      860\n",
       "Name: SPPQ5, dtype: int64"
      ]
     },
     "execution_count": 115,
     "metadata": {},
     "output_type": "execute_result"
    }
   ],
   "source": [
    "adult_exam.SPPQ5.value_counts()"
   ]
  },
  {
   "cell_type": "code",
   "execution_count": 116,
   "metadata": {},
   "outputs": [
    {
     "data": {
      "text/plain": [
       "(5965, 58)"
      ]
     },
     "execution_count": 116,
     "metadata": {},
     "output_type": "execute_result"
    }
   ],
   "source": [
    "adult_exam.query('2 <= SPPMANEU < 88').query('HSAGEIR < 90').query('DMARETHN < 4').query('HAR1 == 2').query('HAR23 == 2').query('HAR26 == 2').query('SPPQ3 == 2').query('SPPQ4 == 2').query('SPPQ5 == 2').shape"
   ]
  },
  {
   "cell_type": "markdown",
   "metadata": {},
   "source": [
    "So go back to not excluding based on Q3 Q4 Q5 "
   ]
  },
  {
   "cell_type": "code",
   "execution_count": 117,
   "metadata": {},
   "outputs": [
    {
     "data": {
      "text/plain": [
       "(7634, 58)"
      ]
     },
     "execution_count": 117,
     "metadata": {},
     "output_type": "execute_result"
    }
   ],
   "source": [
    "(adult_exam.query('2 <= SPPMANEU < 88')\n",
    " .query('HSAGEIR < 90').query('DMARETHN < 4')\n",
    " .query('HAR1 == 2').query('HAR23 == 2').query('HAR26 == 2').shape)"
   ]
  },
  {
   "cell_type": "markdown",
   "metadata": {},
   "source": [
    "and asthma H  454  6661  query('HAC1E == 2') (which gives different that > 1"
   ]
  },
  {
   "cell_type": "code",
   "execution_count": 118,
   "metadata": {},
   "outputs": [
    {
     "data": {
      "text/plain": [
       "(7158, 58)"
      ]
     },
     "execution_count": 118,
     "metadata": {},
     "output_type": "execute_result"
    }
   ],
   "source": [
    "(adult_exam.query('2 <= SPPMANEU < 88').query('HSAGEIR < 90')\n",
    " .query('DMARETHN < 4').query('HAR1 == 2').query('HAR23 == 2')\n",
    " .query('HAR26 == 2'). query('HAC1E == 2').shape)"
   ]
  },
  {
   "cell_type": "markdown",
   "metadata": {},
   "source": [
    "and chronic bronchitis H  181, 6480  HAC1F == 2"
   ]
  },
  {
   "cell_type": "code",
   "execution_count": 119,
   "metadata": {},
   "outputs": [
    {
     "data": {
      "text/plain": [
       "(6962, 58)"
      ]
     },
     "execution_count": 119,
     "metadata": {},
     "output_type": "execute_result"
    }
   ],
   "source": [
    "(adult_exam.query('2 <= SPPMANEU < 88').query('HSAGEIR < 90')\n",
    " .query('DMARETHN < 4').query('HAR1 == 2').query('HAR23 == 2')\n",
    " .query('HAR26 == 2'). query('HAC1E == 2'). query('HAC1F == 2').shape)"
   ]
  },
  {
   "cell_type": "markdown",
   "metadata": {},
   "source": [
    "and emphysema  H 15, 6465  HAC1G == 2\n"
   ]
  },
  {
   "cell_type": "code",
   "execution_count": 120,
   "metadata": {},
   "outputs": [
    {
     "data": {
      "text/plain": [
       "(6945, 58)"
      ]
     },
     "execution_count": 120,
     "metadata": {},
     "output_type": "execute_result"
    }
   ],
   "source": [
    "adult_exam.query('2 <= SPPMANEU < 88').query('HSAGEIR < 90').query('DMARETHN < 4').query('HAR1 == 2').query('HAR23 == 2').query('HAR26 == 2'). query('HAC1E == 2'). query('HAC1F == 2').query('HAC1G == 2').shape"
   ]
  },
  {
   "cell_type": "markdown",
   "metadata": {},
   "source": [
    "and cancer H 0 6465"
   ]
  },
  {
   "cell_type": "markdown",
   "metadata": {},
   "source": [
    "## When add cancer excludes many, but Hankinson none (when lung cancer), so exclude this future analyses"
   ]
  },
  {
   "cell_type": "code",
   "execution_count": 121,
   "metadata": {},
   "outputs": [
    {
     "data": {
      "text/plain": [
       "2    19266\n",
       "1      780\n",
       "9        3\n",
       "8        1\n",
       "Name: HAC1O, dtype: int64"
      ]
     },
     "execution_count": 121,
     "metadata": {},
     "output_type": "execute_result"
    }
   ],
   "source": [
    "adult_exam.HAC1O.value_counts()"
   ]
  },
  {
   "cell_type": "code",
   "execution_count": 122,
   "metadata": {},
   "outputs": [
    {
     "data": {
      "text/plain": [
       "(6756, 58)"
      ]
     },
     "execution_count": 122,
     "metadata": {},
     "output_type": "execute_result"
    }
   ],
   "source": [
    "adult_exam.query('2 <= SPPMANEU < 88').query('HSAGEIR < 90').query('DMARETHN < 4').query('HAR1 == 2').query('HAR23 == 2').query('HAR26 == 2'). query('HAC1E == 2'). query('HAC1F == 2').query('HAC1G == 2').query('HAC1O == 2').shape"
   ]
  },
  {
   "cell_type": "markdown",
   "metadata": {},
   "source": [
    "and wheezing 6 month  H 419 6046  HAL6"
   ]
  },
  {
   "cell_type": "code",
   "execution_count": 123,
   "metadata": {},
   "outputs": [
    {
     "data": {
      "text/plain": [
       "2    17097\n",
       "1     2942\n",
       "8        8\n",
       "9        3\n",
       "Name: HAL6, dtype: int64"
      ]
     },
     "execution_count": 123,
     "metadata": {},
     "output_type": "execute_result"
    }
   ],
   "source": [
    "adult_exam.HAL6.value_counts()"
   ]
  },
  {
   "cell_type": "code",
   "execution_count": 124,
   "metadata": {},
   "outputs": [
    {
     "data": {
      "text/plain": [
       "(6495, 58)"
      ]
     },
     "execution_count": 124,
     "metadata": {},
     "output_type": "execute_result"
    }
   ],
   "source": [
    "adult_exam.query('2 <= SPPMANEU < 88').query('HSAGEIR < 90').query('DMARETHN < 4').query('HAR1 == 2').query('HAR23 == 2').query('HAR26 == 2'). query('HAC1E == 2'). query('HAC1F == 2').query('HAC1G == 2').query('HAL6 == 2').shape"
   ]
  },
  {
   "cell_type": "markdown",
   "metadata": {},
   "source": [
    "and whistling or wheezing  H 112 5934  HAL10"
   ]
  },
  {
   "cell_type": "code",
   "execution_count": 125,
   "metadata": {},
   "outputs": [
    {
     "data": {
      "text/plain": [
       "(6368, 58)"
      ]
     },
     "execution_count": 125,
     "metadata": {},
     "output_type": "execute_result"
    }
   ],
   "source": [
    "adult_exam.query('2 <= SPPMANEU < 88').query('HSAGEIR < 90').query('DMARETHN < 4').query('HAR1 == 2').query('HAR23 == 2').query('HAR26 == 2'). query('HAC1E == 2'). query('HAC1F == 2').query('HAC1G == 2').query('HAL6 == 2').query('HAL10 == 2').shape"
   ]
  },
  {
   "cell_type": "markdown",
   "metadata": {},
   "source": [
    "and persistent cough H 158, 5776  HAL1"
   ]
  },
  {
   "cell_type": "code",
   "execution_count": 126,
   "metadata": {},
   "outputs": [
    {
     "data": {
      "text/plain": [
       "(6200, 58)"
      ]
     },
     "execution_count": 126,
     "metadata": {},
     "output_type": "execute_result"
    }
   ],
   "source": [
    "adult_exam.query('2 <= SPPMANEU < 88').query('HSAGEIR < 90').query('DMARETHN < 4').query('HAR1 == 2').query('HAR23 == 2').query('HAR26 == 2'). query('HAC1E == 2'). query('HAC1F == 2').query('HAC1G == 2').query('HAL6 == 2').query('HAL10 == 2').query('HAL1 == 2').shape"
   ]
  },
  {
   "cell_type": "markdown",
   "metadata": {},
   "source": [
    "and persistent phlegm H 125  5776  HAL 3"
   ]
  },
  {
   "cell_type": "code",
   "execution_count": 127,
   "metadata": {},
   "outputs": [
    {
     "data": {
      "text/plain": [
       "(6065, 58)"
      ]
     },
     "execution_count": 127,
     "metadata": {},
     "output_type": "execute_result"
    }
   ],
   "source": [
    "adult_exam.query('2 <= SPPMANEU < 88').query('HSAGEIR < 90').query('DMARETHN < 4').query('HAR1 == 2').query('HAR23 == 2').query('HAR26 == 2'). query('HAC1E == 2'). query('HAC1F == 2').query('HAC1G == 2').query('HAL6 == 2').query('HAL10 == 2').query('HAL1 == 2').query('HAL3 == 2').shape"
   ]
  },
  {
   "cell_type": "markdown",
   "metadata": {},
   "source": [
    "and moderate shortness of breath H  848  4803  HAL5"
   ]
  },
  {
   "cell_type": "code",
   "execution_count": 128,
   "metadata": {},
   "outputs": [
    {
     "data": {
      "text/plain": [
       "2    14910\n",
       "1     5030\n",
       "8       64\n",
       "9       46\n",
       "Name: HAL5, dtype: int64"
      ]
     },
     "execution_count": 128,
     "metadata": {},
     "output_type": "execute_result"
    }
   ],
   "source": [
    "adult_exam.HAL5.value_counts()"
   ]
  },
  {
   "cell_type": "code",
   "execution_count": 129,
   "metadata": {},
   "outputs": [
    {
     "data": {
      "text/plain": [
       "(5151, 58)"
      ]
     },
     "execution_count": 129,
     "metadata": {},
     "output_type": "execute_result"
    }
   ],
   "source": [
    "adult_exam.query('2 <= SPPMANEU < 88').query('HSAGEIR < 90').query('DMARETHN < 4').query('HAR1 == 2').query('HAR23 == 2').query('HAR26 == 2'). query('HAC1E == 2'). query('HAC1F == 2').query('HAC1G == 2').query('HAL6 == 2').query('HAL10 == 2').query('HAL1 == 2').query('HAL3 == 2').query('HAL5 == 2').shape"
   ]
  },
  {
   "cell_type": "code",
   "execution_count": 130,
   "metadata": {},
   "outputs": [
    {
     "data": {
      "text/plain": [
       "(5122, 58)"
      ]
     },
     "execution_count": 130,
     "metadata": {},
     "output_type": "execute_result"
    }
   ],
   "source": [
    "adult_exam.query('2 <= SPPMANEU < 88').query('HSAGEIR < 90').query('DMARETHN < 4').query('HAR1 == 2').query('HAR23 > 1').query('HAR26 > 1').query('HAC1E > 1').query('HAC1F > 1').query('HAC1G > 1').query('HAC1O > 1').query('HAL6 > 1').query('HAL1 > 1').query('HAL3 > 1').query('HAL5 == 2').shape"
   ]
  },
  {
   "cell_type": "markdown",
   "metadata": {},
   "source": [
    "and age > 80  H  139 4634  HSAGEIR\n"
   ]
  },
  {
   "cell_type": "markdown",
   "metadata": {},
   "source": [
    "adult_exam.query('2 <= SPPMANEU < 88').query('HSAGEIR < 90').query('DMARETHN < 4').query('HAR1 == 2').query('HAR23 > 1').query('HAR26 > 1').query('HAC1E > 1').query('HAC1F > 1').query('HAC1G > 1').query('HAC1O > 1').query('HAL6 > 1').query('HAL1 > 1').query('HAL3 > 1').query('HAL5 == 2').query('HSAGEIR < 81').shape"
   ]
  },
  {
   "cell_type": "code",
   "execution_count": 131,
   "metadata": {},
   "outputs": [
    {
     "data": {
      "text/plain": [
       "(4944, 58)"
      ]
     },
     "execution_count": 131,
     "metadata": {},
     "output_type": "execute_result"
    }
   ],
   "source": [
    "(adult_exam.query('2 <= SPPMANEU < 88')\n",
    ".query('HSAGEIR < 90').query('DMARETHN < 4')\n",
    ".query('HAR1 == 2').query('HAR23 > 1')\n",
    ".query('HAR26 > 1').query('HAC1E > 1')\n",
    ".query('HAC1F > 1').query('HAC1G > 1')\n",
    ".query('HAC1O > 1').query('HAL6 > 1')\n",
    ".query('HAL1 > 1').query('HAL3 > 1')\n",
    ".query('HAL5 == 2').query('HSAGEIR < 81').shape)"
   ]
  },
  {
   "cell_type": "markdown",
   "metadata": {},
   "source": [
    "## Now create DataFrame adult_final of the final rows selected"
   ]
  },
  {
   "cell_type": "markdown",
   "metadata": {},
   "source": [
    "set AdultFinal = adult_exam.query('2 <= SPPMANEU < 88').query('HSAGEIR < 90').query('DMARETHN < 4').query('HAR1 == 2').query('HAR23 > 1').query('HAR26 > 1').query('HAC1E > 1').query('HAC1F > 1').query('HAC1G > 1').query('HAC1O > 1').query('HAL6 > 1').query('HAL1 > 1').query('HAL3 > 1').query('HAL5 == 2').query('HSAGEIR < 81').shape"
   ]
  },
  {
   "cell_type": "markdown",
   "metadata": {},
   "source": [
    "adult_final = (adult_exam.query('2 <= SPPMANEU < 88')\n",
    "                         .query('HSAGEIR < 90').query('DMARETHN < 4')\n",
    "                           .query('HAR1 == 2').query('HAR23 > 1').query('HAR26 > 1')\n",
    "                           .query('HAC1E > 1').query('HAC1F > 1').query('HAC1G > 1')\n",
    "                           .query('HAC1O > 1').query('HAL6 > 1').query('HAL1 > 1')\n",
    "                           .query('HAL3 > 1').query('HAL5 == 2').query('HSAGEIR < 81'))"
   ]
  },
  {
   "cell_type": "code",
   "execution_count": 307,
   "metadata": {},
   "outputs": [],
   "source": [
    "adult_final = (adult_exam.query('2 <= SPPMANEU < 88')\n",
    "                         .query('HSAGEIR < 90').query('DMARETHN < 4')\n",
    "                           .query('HAR1 == 2').query('HAR23 > 1').query('HAR26 > 1')\n",
    "                           .query('HAC1E > 1').query('HAC1F > 1').query('HAC1G > 1')\n",
    "                           .query('HAC1O > 1').query('HAL6 > 1').query('HAL1 > 1')\n",
    "                           .query('HAL3 > 1').query('HAL5 == 2').query('HSAGEIR < 81'))"
   ]
  },
  {
   "cell_type": "code",
   "execution_count": 308,
   "metadata": {},
   "outputs": [],
   "source": [
    "af = adult_final"
   ]
  },
  {
   "cell_type": "code",
   "execution_count": 309,
   "metadata": {},
   "outputs": [
    {
     "name": "stdout",
     "output_type": "stream",
     "text": [
      "<class 'pandas.core.frame.DataFrame'>\n",
      "Int64Index: 4944 entries, 3 to 53623\n",
      "Data columns (total 61 columns):\n",
      " #   Column         Non-Null Count  Dtype  \n",
      "---  ------         --------------  -----  \n",
      " 0   HAR1           4944 non-null   int64  \n",
      " 1   HAR23          4944 non-null   int64  \n",
      " 2   HAR26          4944 non-null   int64  \n",
      " 3   HAC1E          4944 non-null   int64  \n",
      " 4   HAC1F          4944 non-null   int64  \n",
      " 5   HAC1G          4944 non-null   int64  \n",
      " 6   HAC1O          4944 non-null   int64  \n",
      " 7   HAL6           4944 non-null   int64  \n",
      " 8   HAL10          4944 non-null   int64  \n",
      " 9   HAL1           4944 non-null   int64  \n",
      " 10  HAL3           4944 non-null   int64  \n",
      " 11  HAL5           4944 non-null   int64  \n",
      " 12  DMARACER       4944 non-null   int64  \n",
      " 13  DMARETHN       4944 non-null   int64  \n",
      " 14  DMAETHNR       4944 non-null   int64  \n",
      " 15  HSSEX          4944 non-null   int64  \n",
      " 16  HSAGEIR        4944 non-null   int64  \n",
      " 17  HSAGEU         4944 non-null   int64  \n",
      " 18  HXPAXTMR       24 non-null     float64\n",
      " 19  HXPSESSR       24 non-null     float64\n",
      " 20  HSAITMOR       4944 non-null   int64  \n",
      " 21  HAR4S          0 non-null      float64\n",
      " 22  SPPQ5          4944 non-null   float64\n",
      " 23  SPPQ4          4944 non-null   float64\n",
      " 24  SPPMANEU       4944 non-null   float64\n",
      " 25  MYPB1          0 non-null      float64\n",
      " 26  MYPB3          0 non-null      float64\n",
      " 27  MYPB11         0 non-null      float64\n",
      " 28  MYPB27A        0 non-null      float64\n",
      " 29  MYPB27B        0 non-null      float64\n",
      " 30  HSAGEIR_exam   4944 non-null   float64\n",
      " 31  HSAGEU_exam    4944 non-null   float64\n",
      " 32  HXPAXTMR_exam  24 non-null     float64\n",
      " 33  HXPSESSR_exam  24 non-null     float64\n",
      " 34  HXPEJ6A2       24 non-null     float64\n",
      " 35  SPPTECH1       4944 non-null   float64\n",
      " 36  SPPTRIAL       4944 non-null   float64\n",
      " 37  SPPPEAK        4944 non-null   float64\n",
      " 38  SPPFEV05       4944 non-null   float64\n",
      " 39  SPPFEV1        4944 non-null   float64\n",
      " 40  SPPFEV3        4944 non-null   float64\n",
      " 41  SPPFEV6        4944 non-null   float64\n",
      " 42  SPPFVC         4944 non-null   float64\n",
      " 43  SPPMMEF        4944 non-null   float64\n",
      " 44  SPPFEF75       4944 non-null   float64\n",
      " 45  SPPTYPE        4944 non-null   float64\n",
      " 46  SPPREPRO       4944 non-null   float64\n",
      " 47  SPPTIME        4944 non-null   object \n",
      " 48  SPPEXPIR       4944 non-null   float64\n",
      " 49  SPPTEMP        4944 non-null   float64\n",
      " 50  HSSEX_exam     4944 non-null   float64\n",
      " 51  WTPFHX6        4944 non-null   float64\n",
      " 52  MXPAXTMR       4920 non-null   float64\n",
      " 53  BMPHT          4944 non-null   float64\n",
      " 54  BMPSITHT       4920 non-null   float64\n",
      " 55  BMPWT          4944 non-null   float64\n",
      " 56  DMARACER_exam  4944 non-null   Int64  \n",
      " 57  DMARETHN_exam  4944 non-null   float64\n",
      " 58  SPPQ3          4944 non-null   float64\n",
      " 59  DMAETHNR_exam  4944 non-null   float64\n",
      " 60  HSAITMOR_exam  4944 non-null   float64\n",
      "dtypes: Int64(1), float64(40), int64(19), object(1)\n",
      "memory usage: 2.3+ MB\n"
     ]
    }
   ],
   "source": [
    "af.info()"
   ]
  },
  {
   "cell_type": "code",
   "execution_count": 310,
   "metadata": {},
   "outputs": [
    {
     "data": {
      "text/html": [
       "<div>\n",
       "<style scoped>\n",
       "    .dataframe tbody tr th:only-of-type {\n",
       "        vertical-align: middle;\n",
       "    }\n",
       "\n",
       "    .dataframe tbody tr th {\n",
       "        vertical-align: top;\n",
       "    }\n",
       "\n",
       "    .dataframe thead th {\n",
       "        text-align: right;\n",
       "    }\n",
       "</style>\n",
       "<table border=\"1\" class=\"dataframe\">\n",
       "  <thead>\n",
       "    <tr style=\"text-align: right;\">\n",
       "      <th></th>\n",
       "      <th>description</th>\n",
       "      <th>variable</th>\n",
       "      <th>position</th>\n",
       "      <th>end position</th>\n",
       "      <th>length</th>\n",
       "    </tr>\n",
       "  </thead>\n",
       "  <tbody>\n",
       "    <tr>\n",
       "      <th>157</th>\n",
       "      <td>Language used by SP in MEC</td>\n",
       "      <td>MXPLANG</td>\n",
       "      <td>1232</td>\n",
       "      <td>NaN</td>\n",
       "      <td>1</td>\n",
       "    </tr>\n",
       "    <tr>\n",
       "      <th>168</th>\n",
       "      <td>Language of family interview</td>\n",
       "      <td>HFLANG</td>\n",
       "      <td>1254</td>\n",
       "      <td>NaN</td>\n",
       "      <td>1</td>\n",
       "    </tr>\n",
       "    <tr>\n",
       "      <th>175</th>\n",
       "      <td>Type of Medicare coverage</td>\n",
       "      <td>HFB3</td>\n",
       "      <td>1263</td>\n",
       "      <td>NaN</td>\n",
       "      <td>1</td>\n",
       "    </tr>\n",
       "    <tr>\n",
       "      <th>190</th>\n",
       "      <td>Insurance coverage check item</td>\n",
       "      <td>HFB13</td>\n",
       "      <td>1278</td>\n",
       "      <td>NaN</td>\n",
       "      <td>1</td>\n",
       "    </tr>\n",
       "    <tr>\n",
       "      <th>192</th>\n",
       "      <td>No insur: poor health, illness, age(ph1)</td>\n",
       "      <td>HFB14AC</td>\n",
       "      <td>1280</td>\n",
       "      <td>NaN</td>\n",
       "      <td>1</td>\n",
       "    </tr>\n",
       "    <tr>\n",
       "      <th>218</th>\n",
       "      <td>Parent high blood cholesterol at any age</td>\n",
       "      <td>HFC6C</td>\n",
       "      <td>1308</td>\n",
       "      <td>NaN</td>\n",
       "      <td>1</td>\n",
       "    </tr>\n",
       "    <tr>\n",
       "      <th>220</th>\n",
       "      <td>Parent asthma or hay fever at any age</td>\n",
       "      <td>HFC6D</td>\n",
       "      <td>1310</td>\n",
       "      <td>NaN</td>\n",
       "      <td>1</td>\n",
       "    </tr>\n",
       "    <tr>\n",
       "      <th>222</th>\n",
       "      <td>Parent diabetes at any age</td>\n",
       "      <td>HFC6E</td>\n",
       "      <td>1312</td>\n",
       "      <td>NaN</td>\n",
       "      <td>1</td>\n",
       "    </tr>\n",
       "    <tr>\n",
       "      <th>300</th>\n",
       "      <td>Family reference person age - years</td>\n",
       "      <td>HFHAGER</td>\n",
       "      <td>1418</td>\n",
       "      <td>1420.0</td>\n",
       "      <td>3</td>\n",
       "    </tr>\n",
       "    <tr>\n",
       "      <th>308</th>\n",
       "      <td>Respondent age in years</td>\n",
       "      <td>HFAGERR</td>\n",
       "      <td>1431</td>\n",
       "      <td>1433.0</td>\n",
       "      <td>3</td>\n",
       "    </tr>\n",
       "    <tr>\n",
       "      <th>311</th>\n",
       "      <td>Language of interview</td>\n",
       "      <td>HALANG</td>\n",
       "      <td>1439</td>\n",
       "      <td>NaN</td>\n",
       "      <td>1</td>\n",
       "    </tr>\n",
       "    <tr>\n",
       "      <th>315</th>\n",
       "      <td>Check Item. Refer to age of SP</td>\n",
       "      <td>HAA3</td>\n",
       "      <td>1444</td>\n",
       "      <td>NaN</td>\n",
       "      <td>1</td>\n",
       "    </tr>\n",
       "    <tr>\n",
       "      <th>401</th>\n",
       "      <td>On average, how many units per day taken</td>\n",
       "      <td>HAD8</td>\n",
       "      <td>1571</td>\n",
       "      <td>1573.0</td>\n",
       "      <td>3</td>\n",
       "    </tr>\n",
       "    <tr>\n",
       "      <th>479</th>\n",
       "      <td>Check item. Refer to age of SP</td>\n",
       "      <td>HAG1</td>\n",
       "      <td>1671</td>\n",
       "      <td>NaN</td>\n",
       "      <td>1</td>\n",
       "    </tr>\n",
       "    <tr>\n",
       "      <th>512</th>\n",
       "      <td>Check item. Refer to age of SP</td>\n",
       "      <td>HAG13</td>\n",
       "      <td>1719</td>\n",
       "      <td>NaN</td>\n",
       "      <td>1</td>\n",
       "    </tr>\n",
       "    <tr>\n",
       "      <th>613</th>\n",
       "      <td>Check item. Refer to age of SP</td>\n",
       "      <td>HAJ0</td>\n",
       "      <td>1821</td>\n",
       "      <td>NaN</td>\n",
       "      <td>1</td>\n",
       "    </tr>\n",
       "    <tr>\n",
       "      <th>650</th>\n",
       "      <td>Check item. Refer to sex and age of SP</td>\n",
       "      <td>HAK12</td>\n",
       "      <td>1881</td>\n",
       "      <td>NaN</td>\n",
       "      <td>1</td>\n",
       "    </tr>\n",
       "    <tr>\n",
       "      <th>695</th>\n",
       "      <td>Check item. Refer to age of SP</td>\n",
       "      <td>HAM1</td>\n",
       "      <td>1944</td>\n",
       "      <td>NaN</td>\n",
       "      <td>1</td>\n",
       "    </tr>\n",
       "    <tr>\n",
       "      <th>701</th>\n",
       "      <td>Check item. Refer to age of SP</td>\n",
       "      <td>HAM7</td>\n",
       "      <td>1954</td>\n",
       "      <td>NaN</td>\n",
       "      <td>1</td>\n",
       "    </tr>\n",
       "    <tr>\n",
       "      <th>703</th>\n",
       "      <td>How much did you weigh at age 25 - lbs</td>\n",
       "      <td>HAM9S</td>\n",
       "      <td>1958</td>\n",
       "      <td>1960.0</td>\n",
       "      <td>3</td>\n",
       "    </tr>\n",
       "    <tr>\n",
       "      <th>744</th>\n",
       "      <td>Bacon/sausage/processed meats - times/mo</td>\n",
       "      <td>HAN2CS</td>\n",
       "      <td>2023</td>\n",
       "      <td>2026.0</td>\n",
       "      <td>4</td>\n",
       "    </tr>\n",
       "    <tr>\n",
       "      <th>766</th>\n",
       "      <td>Cabbage, cole slaw, sauerkraut-times/mo</td>\n",
       "      <td>HAN4IS</td>\n",
       "      <td>2090</td>\n",
       "      <td>2092.0</td>\n",
       "      <td>3</td>\n",
       "    </tr>\n",
       "    <tr>\n",
       "      <th>796</th>\n",
       "      <td>1st other food or beverage - specified</td>\n",
       "      <td>HAN8ACD</td>\n",
       "      <td>2183</td>\n",
       "      <td>2184.0</td>\n",
       "      <td>2</td>\n",
       "    </tr>\n",
       "    <tr>\n",
       "      <th>797</th>\n",
       "      <td>1st other food or beverage - times/month</td>\n",
       "      <td>HAN8AS</td>\n",
       "      <td>2185</td>\n",
       "      <td>2188.0</td>\n",
       "      <td>4</td>\n",
       "    </tr>\n",
       "    <tr>\n",
       "      <th>798</th>\n",
       "      <td>2nd other food or beverage - specified</td>\n",
       "      <td>HAN8BCD</td>\n",
       "      <td>2189</td>\n",
       "      <td>2190.0</td>\n",
       "      <td>2</td>\n",
       "    </tr>\n",
       "    <tr>\n",
       "      <th>799</th>\n",
       "      <td>2nd other food or beverage - times/month</td>\n",
       "      <td>HAN8BS</td>\n",
       "      <td>2191</td>\n",
       "      <td>2194.0</td>\n",
       "      <td>4</td>\n",
       "    </tr>\n",
       "    <tr>\n",
       "      <th>800</th>\n",
       "      <td>3rd other food or beverage - specified</td>\n",
       "      <td>HAN8CCD</td>\n",
       "      <td>2195</td>\n",
       "      <td>2196.0</td>\n",
       "      <td>2</td>\n",
       "    </tr>\n",
       "    <tr>\n",
       "      <th>801</th>\n",
       "      <td>3rd other food or beverage - times/month</td>\n",
       "      <td>HAN8CS</td>\n",
       "      <td>2197</td>\n",
       "      <td>2199.0</td>\n",
       "      <td>3</td>\n",
       "    </tr>\n",
       "    <tr>\n",
       "      <th>802</th>\n",
       "      <td>4th other food or beverage - specified</td>\n",
       "      <td>HAN8DCD</td>\n",
       "      <td>2200</td>\n",
       "      <td>2201.0</td>\n",
       "      <td>2</td>\n",
       "    </tr>\n",
       "    <tr>\n",
       "      <th>803</th>\n",
       "      <td>4th other food or beverage - times/month</td>\n",
       "      <td>HAN8DS</td>\n",
       "      <td>2202</td>\n",
       "      <td>2204.0</td>\n",
       "      <td>3</td>\n",
       "    </tr>\n",
       "    <tr>\n",
       "      <th>804</th>\n",
       "      <td>5th other food or beverage - specified</td>\n",
       "      <td>HAN8ECD</td>\n",
       "      <td>2205</td>\n",
       "      <td>2206.0</td>\n",
       "      <td>2</td>\n",
       "    </tr>\n",
       "    <tr>\n",
       "      <th>805</th>\n",
       "      <td>5th other food or beverage - times/month</td>\n",
       "      <td>HAN8ES</td>\n",
       "      <td>2207</td>\n",
       "      <td>2209.0</td>\n",
       "      <td>3</td>\n",
       "    </tr>\n",
       "    <tr>\n",
       "      <th>806</th>\n",
       "      <td>6th other food or beverage - specified</td>\n",
       "      <td>HAN8FCD</td>\n",
       "      <td>2210</td>\n",
       "      <td>2211.0</td>\n",
       "      <td>2</td>\n",
       "    </tr>\n",
       "    <tr>\n",
       "      <th>807</th>\n",
       "      <td>6th other food or beverage - times/month</td>\n",
       "      <td>HAN8FS</td>\n",
       "      <td>2212</td>\n",
       "      <td>2214.0</td>\n",
       "      <td>3</td>\n",
       "    </tr>\n",
       "    <tr>\n",
       "      <th>808</th>\n",
       "      <td>Check item. Refer to age of SP</td>\n",
       "      <td>HAN9</td>\n",
       "      <td>2215</td>\n",
       "      <td>NaN</td>\n",
       "      <td>1</td>\n",
       "    </tr>\n",
       "    <tr>\n",
       "      <th>810</th>\n",
       "      <td>How often drnk milk when teenager(13-17)</td>\n",
       "      <td>HAN10B</td>\n",
       "      <td>2217</td>\n",
       "      <td>NaN</td>\n",
       "      <td>1</td>\n",
       "    </tr>\n",
       "    <tr>\n",
       "      <th>812</th>\n",
       "      <td>How often drnk milk,mid-age adult(36-65)</td>\n",
       "      <td>HAN10D</td>\n",
       "      <td>2219</td>\n",
       "      <td>NaN</td>\n",
       "      <td>1</td>\n",
       "    </tr>\n",
       "    <tr>\n",
       "      <th>831</th>\n",
       "      <td>Check item. Refer to age of SP</td>\n",
       "      <td>HAP16</td>\n",
       "      <td>2238</td>\n",
       "      <td>NaN</td>\n",
       "      <td>1</td>\n",
       "    </tr>\n",
       "    <tr>\n",
       "      <th>859</th>\n",
       "      <td>Check item. Refer to age of SP</td>\n",
       "      <td>HAQ7</td>\n",
       "      <td>2277</td>\n",
       "      <td>NaN</td>\n",
       "      <td>1</td>\n",
       "    </tr>\n",
       "    <tr>\n",
       "      <th>928</th>\n",
       "      <td>Language you mainly speak at home</td>\n",
       "      <td>HAS28</td>\n",
       "      <td>2386</td>\n",
       "      <td>NaN</td>\n",
       "      <td>1</td>\n",
       "    </tr>\n",
       "    <tr>\n",
       "      <th>929</th>\n",
       "      <td>Language you mainly speak at work/school</td>\n",
       "      <td>HAS29</td>\n",
       "      <td>2387</td>\n",
       "      <td>2388.0</td>\n",
       "      <td>2</td>\n",
       "    </tr>\n",
       "    <tr>\n",
       "      <th>970</th>\n",
       "      <td>Active compared with men/women your age</td>\n",
       "      <td>HAT28</td>\n",
       "      <td>2499</td>\n",
       "      <td>NaN</td>\n",
       "      <td>1</td>\n",
       "    </tr>\n",
       "    <tr>\n",
       "      <th>971</th>\n",
       "      <td>Check item. Refer to age of SP</td>\n",
       "      <td>HAT29</td>\n",
       "      <td>2500</td>\n",
       "      <td>NaN</td>\n",
       "      <td>1</td>\n",
       "    </tr>\n",
       "    <tr>\n",
       "      <th>1189</th>\n",
       "      <td>Observe SP:speech problems(not language)</td>\n",
       "      <td>HAY11G</td>\n",
       "      <td>3229</td>\n",
       "      <td>NaN</td>\n",
       "      <td>1</td>\n",
       "    </tr>\n",
       "    <tr>\n",
       "      <th>1192</th>\n",
       "      <td>Observed SP:overweight, average, or thin</td>\n",
       "      <td>HAY11J</td>\n",
       "      <td>3232</td>\n",
       "      <td>NaN</td>\n",
       "      <td>1</td>\n",
       "    </tr>\n",
       "    <tr>\n",
       "      <th>1229</th>\n",
       "      <td>Average K1 BP (survey years 5 and 6)</td>\n",
       "      <td>HAZA11A</td>\n",
       "      <td>3324</td>\n",
       "      <td>3326.0</td>\n",
       "      <td>3</td>\n",
       "    </tr>\n",
       "    <tr>\n",
       "      <th>1230</th>\n",
       "      <td>Average K1 BP after data edits</td>\n",
       "      <td>HAZA11AR</td>\n",
       "      <td>3327</td>\n",
       "      <td>3329.0</td>\n",
       "      <td>3</td>\n",
       "    </tr>\n",
       "    <tr>\n",
       "      <th>1231</th>\n",
       "      <td>Average K5 BP (survey years 5-6)</td>\n",
       "      <td>HAZA11B</td>\n",
       "      <td>3330</td>\n",
       "      <td>3332.0</td>\n",
       "      <td>3</td>\n",
       "    </tr>\n",
       "    <tr>\n",
       "      <th>1232</th>\n",
       "      <td>Average K5 BP after data edits</td>\n",
       "      <td>HAZA11BR</td>\n",
       "      <td>3333</td>\n",
       "      <td>3335.0</td>\n",
       "      <td>3</td>\n",
       "    </tr>\n",
       "    <tr>\n",
       "      <th>1234</th>\n",
       "      <td>Average K1 BP from household and MEC</td>\n",
       "      <td>HAZMNK1R</td>\n",
       "      <td>3337</td>\n",
       "      <td>3339.0</td>\n",
       "      <td>3</td>\n",
       "    </tr>\n",
       "    <tr>\n",
       "      <th>1235</th>\n",
       "      <td>Number of BP's used for average K1</td>\n",
       "      <td>HAZNOK1R</td>\n",
       "      <td>3340</td>\n",
       "      <td>3341.0</td>\n",
       "      <td>2</td>\n",
       "    </tr>\n",
       "    <tr>\n",
       "      <th>1236</th>\n",
       "      <td>Average K5 BP from household and MEC</td>\n",
       "      <td>HAZMNK5R</td>\n",
       "      <td>3342</td>\n",
       "      <td>3344.0</td>\n",
       "      <td>3</td>\n",
       "    </tr>\n",
       "    <tr>\n",
       "      <th>1237</th>\n",
       "      <td>Number of BP's used for average K5</td>\n",
       "      <td>HAZNOK5R</td>\n",
       "      <td>3345</td>\n",
       "      <td>3346.0</td>\n",
       "      <td>2</td>\n",
       "    </tr>\n",
       "  </tbody>\n",
       "</table>\n",
       "</div>"
      ],
      "text/plain": [
       "                                   description  variable  position  \\\n",
       "157                 Language used by SP in MEC   MXPLANG      1232   \n",
       "168               Language of family interview    HFLANG      1254   \n",
       "175                  Type of Medicare coverage      HFB3      1263   \n",
       "190              Insurance coverage check item     HFB13      1278   \n",
       "192   No insur: poor health, illness, age(ph1)   HFB14AC      1280   \n",
       "218   Parent high blood cholesterol at any age     HFC6C      1308   \n",
       "220      Parent asthma or hay fever at any age     HFC6D      1310   \n",
       "222                 Parent diabetes at any age     HFC6E      1312   \n",
       "300        Family reference person age - years   HFHAGER      1418   \n",
       "308                    Respondent age in years   HFAGERR      1431   \n",
       "311                      Language of interview    HALANG      1439   \n",
       "315             Check Item. Refer to age of SP      HAA3      1444   \n",
       "401   On average, how many units per day taken      HAD8      1571   \n",
       "479             Check item. Refer to age of SP      HAG1      1671   \n",
       "512             Check item. Refer to age of SP     HAG13      1719   \n",
       "613             Check item. Refer to age of SP      HAJ0      1821   \n",
       "650     Check item. Refer to sex and age of SP     HAK12      1881   \n",
       "695             Check item. Refer to age of SP      HAM1      1944   \n",
       "701             Check item. Refer to age of SP      HAM7      1954   \n",
       "703     How much did you weigh at age 25 - lbs     HAM9S      1958   \n",
       "744   Bacon/sausage/processed meats - times/mo    HAN2CS      2023   \n",
       "766    Cabbage, cole slaw, sauerkraut-times/mo    HAN4IS      2090   \n",
       "796     1st other food or beverage - specified   HAN8ACD      2183   \n",
       "797   1st other food or beverage - times/month    HAN8AS      2185   \n",
       "798     2nd other food or beverage - specified   HAN8BCD      2189   \n",
       "799   2nd other food or beverage - times/month    HAN8BS      2191   \n",
       "800     3rd other food or beverage - specified   HAN8CCD      2195   \n",
       "801   3rd other food or beverage - times/month    HAN8CS      2197   \n",
       "802     4th other food or beverage - specified   HAN8DCD      2200   \n",
       "803   4th other food or beverage - times/month    HAN8DS      2202   \n",
       "804     5th other food or beverage - specified   HAN8ECD      2205   \n",
       "805   5th other food or beverage - times/month    HAN8ES      2207   \n",
       "806     6th other food or beverage - specified   HAN8FCD      2210   \n",
       "807   6th other food or beverage - times/month    HAN8FS      2212   \n",
       "808             Check item. Refer to age of SP      HAN9      2215   \n",
       "810   How often drnk milk when teenager(13-17)    HAN10B      2217   \n",
       "812   How often drnk milk,mid-age adult(36-65)    HAN10D      2219   \n",
       "831             Check item. Refer to age of SP     HAP16      2238   \n",
       "859             Check item. Refer to age of SP      HAQ7      2277   \n",
       "928          Language you mainly speak at home     HAS28      2386   \n",
       "929   Language you mainly speak at work/school     HAS29      2387   \n",
       "970    Active compared with men/women your age     HAT28      2499   \n",
       "971             Check item. Refer to age of SP     HAT29      2500   \n",
       "1189  Observe SP:speech problems(not language)    HAY11G      3229   \n",
       "1192  Observed SP:overweight, average, or thin    HAY11J      3232   \n",
       "1229      Average K1 BP (survey years 5 and 6)   HAZA11A      3324   \n",
       "1230            Average K1 BP after data edits  HAZA11AR      3327   \n",
       "1231          Average K5 BP (survey years 5-6)   HAZA11B      3330   \n",
       "1232            Average K5 BP after data edits  HAZA11BR      3333   \n",
       "1234      Average K1 BP from household and MEC  HAZMNK1R      3337   \n",
       "1235        Number of BP's used for average K1  HAZNOK1R      3340   \n",
       "1236      Average K5 BP from household and MEC  HAZMNK5R      3342   \n",
       "1237        Number of BP's used for average K5  HAZNOK5R      3345   \n",
       "\n",
       "      end position  length  \n",
       "157            NaN       1  \n",
       "168            NaN       1  \n",
       "175            NaN       1  \n",
       "190            NaN       1  \n",
       "192            NaN       1  \n",
       "218            NaN       1  \n",
       "220            NaN       1  \n",
       "222            NaN       1  \n",
       "300         1420.0       3  \n",
       "308         1433.0       3  \n",
       "311            NaN       1  \n",
       "315            NaN       1  \n",
       "401         1573.0       3  \n",
       "479            NaN       1  \n",
       "512            NaN       1  \n",
       "613            NaN       1  \n",
       "650            NaN       1  \n",
       "695            NaN       1  \n",
       "701            NaN       1  \n",
       "703         1960.0       3  \n",
       "744         2026.0       4  \n",
       "766         2092.0       3  \n",
       "796         2184.0       2  \n",
       "797         2188.0       4  \n",
       "798         2190.0       2  \n",
       "799         2194.0       4  \n",
       "800         2196.0       2  \n",
       "801         2199.0       3  \n",
       "802         2201.0       2  \n",
       "803         2204.0       3  \n",
       "804         2206.0       2  \n",
       "805         2209.0       3  \n",
       "806         2211.0       2  \n",
       "807         2214.0       3  \n",
       "808            NaN       1  \n",
       "810            NaN       1  \n",
       "812            NaN       1  \n",
       "831            NaN       1  \n",
       "859            NaN       1  \n",
       "928            NaN       1  \n",
       "929         2388.0       2  \n",
       "970            NaN       1  \n",
       "971            NaN       1  \n",
       "1189           NaN       1  \n",
       "1192           NaN       1  \n",
       "1229        3326.0       3  \n",
       "1230        3329.0       3  \n",
       "1231        3332.0       3  \n",
       "1232        3335.0       3  \n",
       "1234        3339.0       3  \n",
       "1235        3341.0       2  \n",
       "1236        3344.0       3  \n",
       "1237        3346.0       2  "
      ]
     },
     "execution_count": 310,
     "metadata": {},
     "output_type": "execute_result"
    }
   ],
   "source": [
    "nh.cols[nh.cols.description.str.contains('age')]"
   ]
  },
  {
   "cell_type": "code",
   "execution_count": 311,
   "metadata": {},
   "outputs": [
    {
     "data": {
      "text/plain": [
       "SEQN\n",
       "3        4640.0\n",
       "4        3089.0\n",
       "45       1840.0\n",
       "52       4658.0\n",
       "60       3651.0\n",
       "          ...  \n",
       "53558    2626.0\n",
       "53567    3348.0\n",
       "53592    3642.0\n",
       "53593    5214.0\n",
       "53623    3196.0\n",
       "Name: SPPFEV1, Length: 4944, dtype: float64"
      ]
     },
     "execution_count": 311,
     "metadata": {},
     "output_type": "execute_result"
    }
   ],
   "source": [
    "af.SPPFEV1"
   ]
  },
  {
   "cell_type": "markdown",
   "metadata": {},
   "source": [
    "## Now do youth exclusion"
   ]
  },
  {
   "cell_type": "code",
   "execution_count": 312,
   "metadata": {},
   "outputs": [
    {
     "data": {
      "text/plain": [
       "(13944, 54)"
      ]
     },
     "execution_count": 312,
     "metadata": {},
     "output_type": "execute_result"
    }
   ],
   "source": [
    "youth_exam.shape"
   ]
  },
  {
   "cell_type": "markdown",
   "metadata": {},
   "source": [
    "age 8-17"
   ]
  },
  {
   "cell_type": "code",
   "execution_count": 313,
   "metadata": {},
   "outputs": [
    {
     "data": {
      "text/plain": [
       "(5365, 54)"
      ]
     },
     "execution_count": 313,
     "metadata": {},
     "output_type": "execute_result"
    }
   ],
   "source": [
    "youth_exam.query('7 < HSAGEIR < 18').shape"
   ]
  },
  {
   "cell_type": "markdown",
   "metadata": {},
   "source": [
    "Youth ethnicity"
   ]
  },
  {
   "cell_type": "code",
   "execution_count": 314,
   "metadata": {},
   "outputs": [
    {
     "data": {
      "text/plain": [
       "1    4602\n",
       "3    4445\n",
       "2    4141\n",
       "4     756\n",
       "Name: DMARETHN, dtype: int64"
      ]
     },
     "execution_count": 314,
     "metadata": {},
     "output_type": "execute_result"
    }
   ],
   "source": [
    "youth_exam.DMARETHN.value_counts()"
   ]
  },
  {
   "cell_type": "markdown",
   "metadata": {},
   "source": [
    "spirometry unusable <2 curves"
   ]
  },
  {
   "cell_type": "code",
   "execution_count": 315,
   "metadata": {},
   "outputs": [
    {
     "data": {
      "text/plain": [
       "(4114, 54)"
      ]
     },
     "execution_count": 315,
     "metadata": {},
     "output_type": "execute_result"
    }
   ],
   "source": [
    "youth_exam.query('7 < HSAGEIR < 18').query('2 <= SPPMANEU < 88').shape"
   ]
  },
  {
   "cell_type": "markdown",
   "metadata": {},
   "source": [
    "ethnicity other"
   ]
  },
  {
   "cell_type": "code",
   "execution_count": 316,
   "metadata": {},
   "outputs": [
    {
     "data": {
      "text/plain": [
       "(3928, 54)"
      ]
     },
     "execution_count": 316,
     "metadata": {},
     "output_type": "execute_result"
    }
   ],
   "source": [
    "youth_exam.query('7 < HSAGEIR < 18').query('2 <= SPPMANEU < 88').query('DMARETHN < 4').shape"
   ]
  },
  {
   "cell_type": "markdown",
   "metadata": {},
   "source": [
    "try B1 ever smoker  not work exclude too many"
   ]
  },
  {
   "cell_type": "code",
   "execution_count": 317,
   "metadata": {},
   "outputs": [
    {
     "data": {
      "text/plain": [
       "(3238, 54)"
      ]
     },
     "execution_count": 317,
     "metadata": {},
     "output_type": "execute_result"
    }
   ],
   "source": [
    "youth_exam.query('7 < HSAGEIR < 18').query('2 <= SPPMANEU < 88').query('DMARETHN < 4').query('not MYPB1 == 1').shape"
   ]
  },
  {
   "cell_type": "markdown",
   "metadata": {},
   "source": [
    "smoker B1 and B3 ** B1 too many; B3 (>5 pks) OK"
   ]
  },
  {
   "cell_type": "code",
   "execution_count": 318,
   "metadata": {},
   "outputs": [
    {
     "data": {
      "text/plain": [
       "(3813, 54)"
      ]
     },
     "execution_count": 318,
     "metadata": {},
     "output_type": "execute_result"
    }
   ],
   "source": [
    "youth_exam.query('7 < HSAGEIR < 18').query('2 <= SPPMANEU < 88').query('DMARETHN < 4').query('not MYPB3 == 1').shape"
   ]
  },
  {
   "cell_type": "markdown",
   "metadata": {},
   "source": [
    "smoked 5 days B11 and B27"
   ]
  },
  {
   "cell_type": "code",
   "execution_count": 319,
   "metadata": {},
   "outputs": [
    {
     "data": {
      "text/plain": [
       "(3594, 54)"
      ]
     },
     "execution_count": 319,
     "metadata": {},
     "output_type": "execute_result"
    }
   ],
   "source": [
    "youth_exam.query('7 < HSAGEIR < 18').query('2 <= SPPMANEU < 88').query('DMARETHN < 4').query('not MYPB3 == 1').query('not MYPB11 >0').shape"
   ]
  },
  {
   "cell_type": "markdown",
   "metadata": {},
   "source": [
    "and B27"
   ]
  },
  {
   "cell_type": "code",
   "execution_count": 320,
   "metadata": {},
   "outputs": [
    {
     "data": {
      "text/plain": [
       "(3593, 54)"
      ]
     },
     "execution_count": 320,
     "metadata": {},
     "output_type": "execute_result"
    }
   ],
   "source": [
    "youth_exam.query('7 < HSAGEIR < 18').query('2 <= SPPMANEU < 88').query('DMARETHN < 4').query('not MYPB3 == 1').query('not MYPB11 >0').query('not MYPB27A >0').shape"
   ]
  },
  {
   "cell_type": "markdown",
   "metadata": {},
   "source": [
    "asthma E1g"
   ]
  },
  {
   "cell_type": "code",
   "execution_count": 321,
   "metadata": {},
   "outputs": [
    {
     "data": {
      "text/plain": [
       "(3268, 54)"
      ]
     },
     "execution_count": 321,
     "metadata": {},
     "output_type": "execute_result"
    }
   ],
   "source": [
    "youth_exam.query('7 < HSAGEIR < 18').query('2 <= SPPMANEU < 88').query('DMARETHN < 4').query('not MYPB3 == 1').query('not MYPB11 >0').query('not MYPB27A >0').query('not HYE1G == 1').shape"
   ]
  },
  {
   "cell_type": "markdown",
   "metadata": {},
   "source": [
    "chronic bronchitis E1h"
   ]
  },
  {
   "cell_type": "code",
   "execution_count": 322,
   "metadata": {},
   "outputs": [
    {
     "data": {
      "text/plain": [
       "(3180, 54)"
      ]
     },
     "execution_count": 322,
     "metadata": {},
     "output_type": "execute_result"
    }
   ],
   "source": [
    "youth_exam.query('7 < HSAGEIR < 18').query('2 <= SPPMANEU < 88').query('DMARETHN < 4').query('not MYPB3 == 1').query('not MYPB11 >0').query('not MYPB27A >0').query('not HYE1G == 1').query('not HYE1H == 1').shape"
   ]
  },
  {
   "cell_type": "markdown",
   "metadata": {},
   "source": [
    "wheezing 12 months"
   ]
  },
  {
   "cell_type": "code",
   "execution_count": 323,
   "metadata": {},
   "outputs": [
    {
     "data": {
      "text/plain": [
       "(2899, 54)"
      ]
     },
     "execution_count": 323,
     "metadata": {},
     "output_type": "execute_result"
    }
   ],
   "source": [
    "youth_exam.query('7 < HSAGEIR < 18').query('2 <= SPPMANEU < 88').query('DMARETHN < 4').query('not MYPB3 == 1').query('not MYPB11 >0').query('not MYPB27A >0').query('not HYE1G == 1').query('not HYE1H == 1').query('not HYG8 == 1').shape"
   ]
  },
  {
   "cell_type": "markdown",
   "metadata": {},
   "source": [
    "wheezing apart from colds"
   ]
  },
  {
   "cell_type": "code",
   "execution_count": 324,
   "metadata": {
    "scrolled": true
   },
   "outputs": [
    {
     "data": {
      "text/plain": [
       "(2848, 54)"
      ]
     },
     "execution_count": 324,
     "metadata": {},
     "output_type": "execute_result"
    }
   ],
   "source": [
    "youth_exam.query('7 < HSAGEIR < 18').query('2 <= SPPMANEU < 88').query('DMARETHN < 4').query('not MYPB3 == 1').query('not MYPB11 >0').query('not MYPB27A >0').query('not HYE1G == 1').query('not HYE1H == 1').query('not HYG8 == 1').query('not HYG12 == 1').shape"
   ]
  },
  {
   "cell_type": "markdown",
   "metadata": {},
   "source": [
    "Youth 12 years and older with above H 1298"
   ]
  },
  {
   "cell_type": "code",
   "execution_count": 325,
   "metadata": {},
   "outputs": [
    {
     "data": {
      "text/plain": [
       "(1305, 54)"
      ]
     },
     "execution_count": 325,
     "metadata": {},
     "output_type": "execute_result"
    }
   ],
   "source": [
    "youth_exam.query('7 < HSAGEIR < 18').query('2 <= SPPMANEU < 88').query('DMARETHN < 4').query('not MYPB3 == 1').query('not MYPB11 >0').query('not MYPB27A >0').query('not HYE1G == 1').query('not HYE1H == 1').query('not HYG8 == 1').query('not HYG12 == 1').query('HSAGEIR > 11').shape"
   ]
  },
  {
   "cell_type": "markdown",
   "metadata": {},
   "source": [
    "and not persistent cough G2 H 2816 **I all age"
   ]
  },
  {
   "cell_type": "code",
   "execution_count": 326,
   "metadata": {},
   "outputs": [
    {
     "data": {
      "text/plain": [
       "(2832, 54)"
      ]
     },
     "execution_count": 326,
     "metadata": {},
     "output_type": "execute_result"
    }
   ],
   "source": [
    "youth_exam.query('7 < HSAGEIR < 18').query('2 <= SPPMANEU < 88').query('DMARETHN < 4').query('not MYPB3 == 1').query('not MYPB11 >0').query('not MYPB27A >0').query('not HYE1G == 1').query('not HYE1H == 1').query('not HYG8 == 1').query('not HYG12 == 1').query('not HYG2 == 1').shape"
   ]
  },
  {
   "cell_type": "markdown",
   "metadata": {},
   "source": [
    "and not persistent phlegm G4 H 2806"
   ]
  },
  {
   "cell_type": "code",
   "execution_count": 327,
   "metadata": {},
   "outputs": [
    {
     "data": {
      "text/plain": [
       "(2822, 54)"
      ]
     },
     "execution_count": 327,
     "metadata": {},
     "output_type": "execute_result"
    }
   ],
   "source": [
    "youth_exam.query('7 < HSAGEIR < 18').query('2 <= SPPMANEU < 88').query('DMARETHN < 4').query('not MYPB3 == 1').query('not MYPB11 >0').query('not MYPB27A >0').query('not HYE1G == 1').query('not HYE1H == 1').query('not HYG8 == 1').query('not HYG12 == 1').query('not HYG2 == 1').query('not HYG4 == 1').shape"
   ]
  },
  {
   "cell_type": "markdown",
   "metadata": {},
   "source": [
    "and Youth age 8-under 12"
   ]
  },
  {
   "cell_type": "code",
   "execution_count": 328,
   "metadata": {},
   "outputs": [
    {
     "data": {
      "text/plain": [
       "(1543, 54)"
      ]
     },
     "execution_count": 328,
     "metadata": {},
     "output_type": "execute_result"
    }
   ],
   "source": [
    "youth_exam.query('7 < HSAGEIR < 18').query('2 <= SPPMANEU < 88').query('DMARETHN < 4').query('not MYPB3 == 1').query('not MYPB11 >0').query('not MYPB27A >0').query('not HYE1G == 1').query('not HYE1H == 1').query('not HYG8 == 1').query('not HYG12 == 1').query('not HYG2 == 1').query('not HYG4 == 1').query('HSAGEIR < 12').shape"
   ]
  },
  {
   "cell_type": "markdown",
   "metadata": {},
   "source": [
    "and not persistent cough G6 and G7"
   ]
  },
  {
   "cell_type": "code",
   "execution_count": 329,
   "metadata": {},
   "outputs": [
    {
     "data": {
      "text/plain": [
       "(2812, 54)"
      ]
     },
     "execution_count": 329,
     "metadata": {},
     "output_type": "execute_result"
    }
   ],
   "source": [
    "youth_exam.query('7 < HSAGEIR < 18').query('2 <= SPPMANEU < 88').query('DMARETHN < 4').query('not MYPB3 == 1').query('not MYPB11 >0').query('not MYPB27A >0').query('not HYE1G == 1').query('not HYE1H == 1').query('not HYG8 == 1').query('not HYG12 == 1').query('not HYG2 == 1').query('not HYG4 == 1').query('not HYG7 == 555').shape"
   ]
  },
  {
   "cell_type": "markdown",
   "metadata": {},
   "source": [
    "## Create youth_final"
   ]
  },
  {
   "cell_type": "markdown",
   "metadata": {},
   "source": [
    "youth_exam.query('7 < HSAGEIR < 18').query('2 <= SPPMANEU < 88').query('DMARETHN < 4').query('not MYPB3 == 1').query('not MYPB11 >0').query('not MYPB27A >0').query('not HYE1G == 1').query('not HYE1H == 1').query('not HYG8 == 1').query('not HYG12 == 1').query('not HYG2 == 1').query('not HYG4 == 1').query('not HYG7 == 555').shape"
   ]
  },
  {
   "cell_type": "markdown",
   "metadata": {},
   "source": [
    "youth_exam.query('7 < HSAGEIR < 18').query('2 <= SPPMANEU < 88').query('DMARETHN < 4').query('not MYPB3 == 1').query('not MYPB11 >0').query('not MYPB27A >0').query('not HYE1G == 1').query('not HYE1H == 1').query('not HYG8 == 1').query('not HYG12 == 1').query('not HYG2 == 1').query('not HYG4 == 1').query('not HYG7 == 555').shape"
   ]
  },
  {
   "cell_type": "markdown",
   "metadata": {},
   "source": [
    "youth_final = (youth_exam.query('7 < HSAGEIR < 18').query('2 <= SPPMANEU < 88')\n",
    "               .query('DMARETHN < 4').query('not MYPB3 == 1')\n",
    "               .query('not MYPB11 >0').query('not MYPB27A >0')\n",
    "               .query('not HYE1G == 1').query('not HYE1H == 1')\n",
    "               .query('not HYG8 == 1').query('not HYG12 == 1')\n",
    "               .query('not HYG2 == 1').query('not HYG4 == 1')\n",
    "               .query('not HYG7 == 555'))"
   ]
  },
  {
   "cell_type": "code",
   "execution_count": 330,
   "metadata": {},
   "outputs": [],
   "source": [
    "youth_final = (youth_exam.query('7 < HSAGEIR < 18').query('2 <= SPPMANEU < 88')\n",
    "               .query('DMARETHN < 4').query('not MYPB3 == 1')\n",
    "               .query('not MYPB11 >0').query('not MYPB27A >0')\n",
    "               .query('not HYE1G == 1').query('not HYE1H == 1')\n",
    "               .query('not HYG8 == 1').query('not HYG12 == 1')\n",
    "               .query('not HYG2 == 1').query('not HYG4 == 1')\n",
    "               .query('not HYG7 == 555'))"
   ]
  },
  {
   "cell_type": "code",
   "execution_count": 331,
   "metadata": {},
   "outputs": [
    {
     "data": {
      "text/plain": [
       "(2812, 54)"
      ]
     },
     "execution_count": 331,
     "metadata": {},
     "output_type": "execute_result"
    }
   ],
   "source": [
    "youth_final.shape"
   ]
  },
  {
   "cell_type": "code",
   "execution_count": 332,
   "metadata": {},
   "outputs": [
    {
     "data": {
      "text/html": [
       "<div>\n",
       "<style scoped>\n",
       "    .dataframe tbody tr th:only-of-type {\n",
       "        vertical-align: middle;\n",
       "    }\n",
       "\n",
       "    .dataframe tbody tr th {\n",
       "        vertical-align: top;\n",
       "    }\n",
       "\n",
       "    .dataframe thead th {\n",
       "        text-align: right;\n",
       "    }\n",
       "</style>\n",
       "<table border=\"1\" class=\"dataframe\">\n",
       "  <thead>\n",
       "    <tr style=\"text-align: right;\">\n",
       "      <th></th>\n",
       "      <th>HSSEX</th>\n",
       "      <th>HSAGEIR</th>\n",
       "      <th>HSAGEU</th>\n",
       "      <th>DMARACER</th>\n",
       "      <th>DMARETHN</th>\n",
       "      <th>DMAETHNR</th>\n",
       "      <th>HXPAXTMR</th>\n",
       "      <th>HXPSESSR</th>\n",
       "      <th>HYE1G</th>\n",
       "      <th>HYG2</th>\n",
       "      <th>...</th>\n",
       "      <th>WTPFHX6</th>\n",
       "      <th>MXPAXTMR</th>\n",
       "      <th>BMPHT</th>\n",
       "      <th>BMPSITHT</th>\n",
       "      <th>BMPWT</th>\n",
       "      <th>DMARACER_exam</th>\n",
       "      <th>DMARETHN_exam</th>\n",
       "      <th>SPPQ3</th>\n",
       "      <th>DMAETHNR_exam</th>\n",
       "      <th>HSAITMOR</th>\n",
       "    </tr>\n",
       "    <tr>\n",
       "      <th>SEQN</th>\n",
       "      <th></th>\n",
       "      <th></th>\n",
       "      <th></th>\n",
       "      <th></th>\n",
       "      <th></th>\n",
       "      <th></th>\n",
       "      <th></th>\n",
       "      <th></th>\n",
       "      <th></th>\n",
       "      <th></th>\n",
       "      <th></th>\n",
       "      <th></th>\n",
       "      <th></th>\n",
       "      <th></th>\n",
       "      <th></th>\n",
       "      <th></th>\n",
       "      <th></th>\n",
       "      <th></th>\n",
       "      <th></th>\n",
       "      <th></th>\n",
       "      <th></th>\n",
       "    </tr>\n",
       "  </thead>\n",
       "  <tbody>\n",
       "    <tr>\n",
       "      <th>14</th>\n",
       "      <td>2</td>\n",
       "      <td>16</td>\n",
       "      <td>2</td>\n",
       "      <td>1</td>\n",
       "      <td>1</td>\n",
       "      <td>3</td>\n",
       "      <td>NaN</td>\n",
       "      <td>NaN</td>\n",
       "      <td>2</td>\n",
       "      <td>2.0</td>\n",
       "      <td>...</td>\n",
       "      <td>13749.61</td>\n",
       "      <td>197.0</td>\n",
       "      <td>166.9</td>\n",
       "      <td>87.0</td>\n",
       "      <td>47.50</td>\n",
       "      <td>1</td>\n",
       "      <td>1.0</td>\n",
       "      <td>2.0</td>\n",
       "      <td>3.0</td>\n",
       "      <td>196.0</td>\n",
       "    </tr>\n",
       "    <tr>\n",
       "      <th>16</th>\n",
       "      <td>1</td>\n",
       "      <td>16</td>\n",
       "      <td>2</td>\n",
       "      <td>1</td>\n",
       "      <td>3</td>\n",
       "      <td>1</td>\n",
       "      <td>NaN</td>\n",
       "      <td>NaN</td>\n",
       "      <td>2</td>\n",
       "      <td>2.0</td>\n",
       "      <td>...</td>\n",
       "      <td>1792.14</td>\n",
       "      <td>200.0</td>\n",
       "      <td>167.6</td>\n",
       "      <td>89.2</td>\n",
       "      <td>62.65</td>\n",
       "      <td>1</td>\n",
       "      <td>3.0</td>\n",
       "      <td>2.0</td>\n",
       "      <td>1.0</td>\n",
       "      <td>198.0</td>\n",
       "    </tr>\n",
       "  </tbody>\n",
       "</table>\n",
       "<p>2 rows × 54 columns</p>\n",
       "</div>"
      ],
      "text/plain": [
       "      HSSEX  HSAGEIR  HSAGEU  DMARACER  DMARETHN  DMAETHNR  HXPAXTMR  \\\n",
       "SEQN                                                                   \n",
       "14        2       16       2         1         1         3       NaN   \n",
       "16        1       16       2         1         3         1       NaN   \n",
       "\n",
       "      HXPSESSR  HYE1G  HYG2  ...   WTPFHX6  MXPAXTMR  BMPHT  BMPSITHT  BMPWT  \\\n",
       "SEQN                         ...                                               \n",
       "14         NaN      2   2.0  ...  13749.61     197.0  166.9      87.0  47.50   \n",
       "16         NaN      2   2.0  ...   1792.14     200.0  167.6      89.2  62.65   \n",
       "\n",
       "      DMARACER_exam  DMARETHN_exam  SPPQ3  DMAETHNR_exam  HSAITMOR  \n",
       "SEQN                                                                \n",
       "14                1            1.0    2.0            3.0     196.0  \n",
       "16                1            3.0    2.0            1.0     198.0  \n",
       "\n",
       "[2 rows x 54 columns]"
      ]
     },
     "execution_count": 332,
     "metadata": {},
     "output_type": "execute_result"
    }
   ],
   "source": [
    "youth_final.head(2)"
   ]
  },
  {
   "cell_type": "markdown",
   "metadata": {},
   "source": [
    "After all of the exclusions, the youth_final dataframe has 2812 entries."
   ]
  },
  {
   "cell_type": "code",
   "execution_count": 333,
   "metadata": {},
   "outputs": [
    {
     "data": {
      "text/html": [
       "<div>\n",
       "<style scoped>\n",
       "    .dataframe tbody tr th:only-of-type {\n",
       "        vertical-align: middle;\n",
       "    }\n",
       "\n",
       "    .dataframe tbody tr th {\n",
       "        vertical-align: top;\n",
       "    }\n",
       "\n",
       "    .dataframe thead th {\n",
       "        text-align: right;\n",
       "    }\n",
       "</style>\n",
       "<table border=\"1\" class=\"dataframe\">\n",
       "  <thead>\n",
       "    <tr style=\"text-align: right;\">\n",
       "      <th></th>\n",
       "      <th>description</th>\n",
       "      <th>variable</th>\n",
       "      <th>position</th>\n",
       "      <th>end position</th>\n",
       "      <th>length</th>\n",
       "    </tr>\n",
       "  </thead>\n",
       "  <tbody>\n",
       "    <tr>\n",
       "      <th>0</th>\n",
       "      <td>Sequence number</td>\n",
       "      <td>SEQN</td>\n",
       "      <td>1</td>\n",
       "      <td>5.0</td>\n",
       "      <td>5</td>\n",
       "    </tr>\n",
       "    <tr>\n",
       "      <th>1</th>\n",
       "      <td>Family sequence number</td>\n",
       "      <td>DMPFSEQ</td>\n",
       "      <td>6</td>\n",
       "      <td>10.0</td>\n",
       "      <td>5</td>\n",
       "    </tr>\n",
       "    <tr>\n",
       "      <th>2</th>\n",
       "      <td>Examination/interview status</td>\n",
       "      <td>DMPSTAT</td>\n",
       "      <td>11</td>\n",
       "      <td>NaN</td>\n",
       "      <td>1</td>\n",
       "    </tr>\n",
       "    <tr>\n",
       "      <th>3</th>\n",
       "      <td>Race-ethnicity</td>\n",
       "      <td>DMARETHN</td>\n",
       "      <td>12</td>\n",
       "      <td>NaN</td>\n",
       "      <td>1</td>\n",
       "    </tr>\n",
       "    <tr>\n",
       "      <th>4</th>\n",
       "      <td>Race</td>\n",
       "      <td>DMARACER</td>\n",
       "      <td>13</td>\n",
       "      <td>NaN</td>\n",
       "      <td>1</td>\n",
       "    </tr>\n",
       "    <tr>\n",
       "      <th>...</th>\n",
       "      <td>...</td>\n",
       "      <td>...</td>\n",
       "      <td>...</td>\n",
       "      <td>...</td>\n",
       "      <td>...</td>\n",
       "    </tr>\n",
       "    <tr>\n",
       "      <th>682</th>\n",
       "      <td>ICD-9-CM code-9th</td>\n",
       "      <td>HYK11AO</td>\n",
       "      <td>2087</td>\n",
       "      <td>2092.0</td>\n",
       "      <td>6</td>\n",
       "    </tr>\n",
       "    <tr>\n",
       "      <th>683</th>\n",
       "      <td>For how long been taking (days)-9th</td>\n",
       "      <td>HYK12SO</td>\n",
       "      <td>2093</td>\n",
       "      <td>2097.0</td>\n",
       "      <td>5</td>\n",
       "    </tr>\n",
       "    <tr>\n",
       "      <th>684</th>\n",
       "      <td>Main respondents relationship to SP</td>\n",
       "      <td>HYM1</td>\n",
       "      <td>2098</td>\n",
       "      <td>2099.0</td>\n",
       "      <td>2</td>\n",
       "    </tr>\n",
       "    <tr>\n",
       "      <th>685</th>\n",
       "      <td>Was SP present during any of interview</td>\n",
       "      <td>HYM2</td>\n",
       "      <td>2100</td>\n",
       "      <td>NaN</td>\n",
       "      <td>1</td>\n",
       "    </tr>\n",
       "    <tr>\n",
       "      <th>686</th>\n",
       "      <td>Quality of interview</td>\n",
       "      <td>HYM3</td>\n",
       "      <td>2101</td>\n",
       "      <td>NaN</td>\n",
       "      <td>1</td>\n",
       "    </tr>\n",
       "  </tbody>\n",
       "</table>\n",
       "<p>687 rows × 5 columns</p>\n",
       "</div>"
      ],
      "text/plain": [
       "                                description  variable  position  end position  \\\n",
       "0                           Sequence number      SEQN         1           5.0   \n",
       "1                    Family sequence number   DMPFSEQ         6          10.0   \n",
       "2              Examination/interview status   DMPSTAT        11           NaN   \n",
       "3                            Race-ethnicity  DMARETHN        12           NaN   \n",
       "4                                      Race  DMARACER        13           NaN   \n",
       "..                                      ...       ...       ...           ...   \n",
       "682                       ICD-9-CM code-9th   HYK11AO      2087        2092.0   \n",
       "683     For how long been taking (days)-9th   HYK12SO      2093        2097.0   \n",
       "684     Main respondents relationship to SP      HYM1      2098        2099.0   \n",
       "685  Was SP present during any of interview      HYM2      2100           NaN   \n",
       "686                    Quality of interview      HYM3      2101           NaN   \n",
       "\n",
       "     length  \n",
       "0         5  \n",
       "1         5  \n",
       "2         1  \n",
       "3         1  \n",
       "4         1  \n",
       "..      ...  \n",
       "682       6  \n",
       "683       5  \n",
       "684       2  \n",
       "685       1  \n",
       "686       1  \n",
       "\n",
       "[687 rows x 5 columns]"
      ]
     },
     "execution_count": 333,
     "metadata": {},
     "output_type": "execute_result"
    }
   ],
   "source": [
    "youth.cols"
   ]
  },
  {
   "cell_type": "markdown",
   "metadata": {},
   "source": [
    "## Add attribute data to youth_final"
   ]
  },
  {
   "cell_type": "markdown",
   "metadata": {},
   "source": [
    "youth_final['PEFROVERFVC'] = youth_final.SPPPEAK / youth_final.SPPFVC"
   ]
  },
  {
   "cell_type": "code",
   "execution_count": 334,
   "metadata": {},
   "outputs": [],
   "source": [
    "youth_final['PEFROVERFVC'] = youth_final.SPPPEAK / youth_final.SPPFVC"
   ]
  },
  {
   "cell_type": "code",
   "execution_count": 335,
   "metadata": {},
   "outputs": [
    {
     "data": {
      "text/plain": [
       "<matplotlib.axes._subplots.AxesSubplot at 0x11167ea10>"
      ]
     },
     "execution_count": 335,
     "metadata": {},
     "output_type": "execute_result"
    },
    {
     "data": {
      "image/png": "[encoded data removed]",
      "text/plain": [
       "<Figure size 432x288 with 1 Axes>"
      ]
     },
     "metadata": {
      "needs_background": "light"
     },
     "output_type": "display_data"
    }
   ],
   "source": [
    "youth_final.PEFROVERFVC.hist(bins='auto', range=(0,5))"
   ]
  },
  {
   "cell_type": "markdown",
   "metadata": {},
   "source": [
    "## Reviewing adult file"
   ]
  },
  {
   "cell_type": "code",
   "execution_count": 336,
   "metadata": {},
   "outputs": [
    {
     "data": {
      "text/html": [
       "<div>\n",
       "<style scoped>\n",
       "    .dataframe tbody tr th:only-of-type {\n",
       "        vertical-align: middle;\n",
       "    }\n",
       "\n",
       "    .dataframe tbody tr th {\n",
       "        vertical-align: top;\n",
       "    }\n",
       "\n",
       "    .dataframe thead th {\n",
       "        text-align: right;\n",
       "    }\n",
       "</style>\n",
       "<table border=\"1\" class=\"dataframe\">\n",
       "  <thead>\n",
       "    <tr style=\"text-align: right;\">\n",
       "      <th></th>\n",
       "      <th>description</th>\n",
       "      <th>variable</th>\n",
       "      <th>position</th>\n",
       "      <th>end position</th>\n",
       "      <th>length</th>\n",
       "    </tr>\n",
       "  </thead>\n",
       "  <tbody>\n",
       "    <tr>\n",
       "      <th>0</th>\n",
       "      <td>Sequence number</td>\n",
       "      <td>SEQN</td>\n",
       "      <td>1</td>\n",
       "      <td>5.0</td>\n",
       "      <td>5</td>\n",
       "    </tr>\n",
       "    <tr>\n",
       "      <th>1</th>\n",
       "      <td>Family sequence number</td>\n",
       "      <td>DMPFSEQ</td>\n",
       "      <td>6</td>\n",
       "      <td>10.0</td>\n",
       "      <td>5</td>\n",
       "    </tr>\n",
       "    <tr>\n",
       "      <th>2</th>\n",
       "      <td>Examination/interview status</td>\n",
       "      <td>DMPSTAT</td>\n",
       "      <td>11</td>\n",
       "      <td>NaN</td>\n",
       "      <td>1</td>\n",
       "    </tr>\n",
       "    <tr>\n",
       "      <th>3</th>\n",
       "      <td>Race-ethnicity</td>\n",
       "      <td>DMARETHN</td>\n",
       "      <td>12</td>\n",
       "      <td>NaN</td>\n",
       "      <td>1</td>\n",
       "    </tr>\n",
       "    <tr>\n",
       "      <th>4</th>\n",
       "      <td>Race</td>\n",
       "      <td>DMARACER</td>\n",
       "      <td>13</td>\n",
       "      <td>NaN</td>\n",
       "      <td>1</td>\n",
       "    </tr>\n",
       "    <tr>\n",
       "      <th>...</th>\n",
       "      <td>...</td>\n",
       "      <td>...</td>\n",
       "      <td>...</td>\n",
       "      <td>...</td>\n",
       "      <td>...</td>\n",
       "    </tr>\n",
       "    <tr>\n",
       "      <th>1233</th>\n",
       "      <td>BP statement read to SP (years 5 and 6)</td>\n",
       "      <td>HAZA12</td>\n",
       "      <td>3336</td>\n",
       "      <td>NaN</td>\n",
       "      <td>1</td>\n",
       "    </tr>\n",
       "    <tr>\n",
       "      <th>1234</th>\n",
       "      <td>Average K1 BP from household and MEC</td>\n",
       "      <td>HAZMNK1R</td>\n",
       "      <td>3337</td>\n",
       "      <td>3339.0</td>\n",
       "      <td>3</td>\n",
       "    </tr>\n",
       "    <tr>\n",
       "      <th>1235</th>\n",
       "      <td>Number of BP's used for average K1</td>\n",
       "      <td>HAZNOK1R</td>\n",
       "      <td>3340</td>\n",
       "      <td>3341.0</td>\n",
       "      <td>2</td>\n",
       "    </tr>\n",
       "    <tr>\n",
       "      <th>1236</th>\n",
       "      <td>Average K5 BP from household and MEC</td>\n",
       "      <td>HAZMNK5R</td>\n",
       "      <td>3342</td>\n",
       "      <td>3344.0</td>\n",
       "      <td>3</td>\n",
       "    </tr>\n",
       "    <tr>\n",
       "      <th>1237</th>\n",
       "      <td>Number of BP's used for average K5</td>\n",
       "      <td>HAZNOK5R</td>\n",
       "      <td>3345</td>\n",
       "      <td>3346.0</td>\n",
       "      <td>2</td>\n",
       "    </tr>\n",
       "  </tbody>\n",
       "</table>\n",
       "<p>1238 rows × 5 columns</p>\n",
       "</div>"
      ],
      "text/plain": [
       "                                  description  variable  position  \\\n",
       "0                             Sequence number      SEQN         1   \n",
       "1                      Family sequence number   DMPFSEQ         6   \n",
       "2                Examination/interview status   DMPSTAT        11   \n",
       "3                              Race-ethnicity  DMARETHN        12   \n",
       "4                                        Race  DMARACER        13   \n",
       "...                                       ...       ...       ...   \n",
       "1233  BP statement read to SP (years 5 and 6)    HAZA12      3336   \n",
       "1234     Average K1 BP from household and MEC  HAZMNK1R      3337   \n",
       "1235       Number of BP's used for average K1  HAZNOK1R      3340   \n",
       "1236     Average K5 BP from household and MEC  HAZMNK5R      3342   \n",
       "1237       Number of BP's used for average K5  HAZNOK5R      3345   \n",
       "\n",
       "      end position  length  \n",
       "0              5.0       5  \n",
       "1             10.0       5  \n",
       "2              NaN       1  \n",
       "3              NaN       1  \n",
       "4              NaN       1  \n",
       "...            ...     ...  \n",
       "1233           NaN       1  \n",
       "1234        3339.0       3  \n",
       "1235        3341.0       2  \n",
       "1236        3344.0       3  \n",
       "1237        3346.0       2  \n",
       "\n",
       "[1238 rows x 5 columns]"
      ]
     },
     "execution_count": 336,
     "metadata": {},
     "output_type": "execute_result"
    }
   ],
   "source": [
    "cols = nh.cols\n",
    "cols"
   ]
  },
  {
   "cell_type": "code",
   "execution_count": 337,
   "metadata": {},
   "outputs": [
    {
     "data": {
      "text/html": [
       "<div>\n",
       "<style scoped>\n",
       "    .dataframe tbody tr th:only-of-type {\n",
       "        vertical-align: middle;\n",
       "    }\n",
       "\n",
       "    .dataframe tbody tr th {\n",
       "        vertical-align: top;\n",
       "    }\n",
       "\n",
       "    .dataframe thead th {\n",
       "        text-align: right;\n",
       "    }\n",
       "</style>\n",
       "<table border=\"1\" class=\"dataframe\">\n",
       "  <thead>\n",
       "    <tr style=\"text-align: right;\">\n",
       "      <th></th>\n",
       "      <th>description</th>\n",
       "      <th>variable</th>\n",
       "      <th>position</th>\n",
       "      <th>end position</th>\n",
       "      <th>length</th>\n",
       "    </tr>\n",
       "  </thead>\n",
       "  <tbody>\n",
       "    <tr>\n",
       "      <th>259</th>\n",
       "      <td>Anyone living here smoke cigs in home</td>\n",
       "      <td>HFF1</td>\n",
       "      <td>1356</td>\n",
       "      <td>NaN</td>\n",
       "      <td>1</td>\n",
       "    </tr>\n",
       "    <tr>\n",
       "      <th>260</th>\n",
       "      <td># persons who smoke cigarettes in home</td>\n",
       "      <td>HFF2R</td>\n",
       "      <td>1357</td>\n",
       "      <td>1358.0</td>\n",
       "      <td>2</td>\n",
       "    </tr>\n",
       "    <tr>\n",
       "      <th>261</th>\n",
       "      <td>Cigarettes per day person 1 smokes</td>\n",
       "      <td>HFF3A</td>\n",
       "      <td>1359</td>\n",
       "      <td>1361.0</td>\n",
       "      <td>3</td>\n",
       "    </tr>\n",
       "    <tr>\n",
       "      <th>262</th>\n",
       "      <td>Cigarettes per day person 2 smokes</td>\n",
       "      <td>HFF3B</td>\n",
       "      <td>1362</td>\n",
       "      <td>1364.0</td>\n",
       "      <td>3</td>\n",
       "    </tr>\n",
       "    <tr>\n",
       "      <th>263</th>\n",
       "      <td>Cigarettes per day person 3 smokes</td>\n",
       "      <td>HFF3C</td>\n",
       "      <td>1365</td>\n",
       "      <td>1367.0</td>\n",
       "      <td>3</td>\n",
       "    </tr>\n",
       "    <tr>\n",
       "      <th>264</th>\n",
       "      <td>Cigarettes per day person 4 smokes</td>\n",
       "      <td>HFF3D</td>\n",
       "      <td>1368</td>\n",
       "      <td>1370.0</td>\n",
       "      <td>3</td>\n",
       "    </tr>\n",
       "    <tr>\n",
       "      <th>265</th>\n",
       "      <td>Cigarettes per day person 5 smokes</td>\n",
       "      <td>HFF3E</td>\n",
       "      <td>1371</td>\n",
       "      <td>1373.0</td>\n",
       "      <td>3</td>\n",
       "    </tr>\n",
       "    <tr>\n",
       "      <th>266</th>\n",
       "      <td>Cigarettes per day person 6 smokes</td>\n",
       "      <td>HFF3F</td>\n",
       "      <td>1374</td>\n",
       "      <td>1376.0</td>\n",
       "      <td>3</td>\n",
       "    </tr>\n",
       "    <tr>\n",
       "      <th>419</th>\n",
       "      <td>Doctor told stop smoking for HBP</td>\n",
       "      <td>HAE4D3</td>\n",
       "      <td>1606</td>\n",
       "      <td>NaN</td>\n",
       "      <td>1</td>\n",
       "    </tr>\n",
       "    <tr>\n",
       "      <th>428</th>\n",
       "      <td>Now quit smoking for high blood pressure</td>\n",
       "      <td>HAE5D3</td>\n",
       "      <td>1615</td>\n",
       "      <td>NaN</td>\n",
       "      <td>1</td>\n",
       "    </tr>\n",
       "    <tr>\n",
       "      <th>862</th>\n",
       "      <td>Have you smoked 100+ cigarettes in life</td>\n",
       "      <td>HAR1</td>\n",
       "      <td>2281</td>\n",
       "      <td>NaN</td>\n",
       "      <td>1</td>\n",
       "    </tr>\n",
       "    <tr>\n",
       "      <th>863</th>\n",
       "      <td>Age when you started smoking regularly</td>\n",
       "      <td>HAR2</td>\n",
       "      <td>2282</td>\n",
       "      <td>2284.0</td>\n",
       "      <td>3</td>\n",
       "    </tr>\n",
       "    <tr>\n",
       "      <th>864</th>\n",
       "      <td>Do you smoke cigarettes now</td>\n",
       "      <td>HAR3</td>\n",
       "      <td>2285</td>\n",
       "      <td>NaN</td>\n",
       "      <td>1</td>\n",
       "    </tr>\n",
       "    <tr>\n",
       "      <th>865</th>\n",
       "      <td># cigarettes smoked per day</td>\n",
       "      <td>HAR4S</td>\n",
       "      <td>2286</td>\n",
       "      <td>2288.0</td>\n",
       "      <td>3</td>\n",
       "    </tr>\n",
       "    <tr>\n",
       "      <th>866</th>\n",
       "      <td>How many yrs have you smoked this amount</td>\n",
       "      <td>HAR5</td>\n",
       "      <td>2289</td>\n",
       "      <td>2291.0</td>\n",
       "      <td>3</td>\n",
       "    </tr>\n",
       "    <tr>\n",
       "      <th>867</th>\n",
       "      <td>Ever period of 1+ years when smoked more</td>\n",
       "      <td>HAR6</td>\n",
       "      <td>2292</td>\n",
       "      <td>NaN</td>\n",
       "      <td>1</td>\n",
       "    </tr>\n",
       "    <tr>\n",
       "      <th>868</th>\n",
       "      <td># cigarettes per day when smoking most</td>\n",
       "      <td>HAR7S</td>\n",
       "      <td>2293</td>\n",
       "      <td>2296.0</td>\n",
       "      <td>4</td>\n",
       "    </tr>\n",
       "    <tr>\n",
       "      <th>869</th>\n",
       "      <td>How many years did you smoke that amount</td>\n",
       "      <td>HAR8</td>\n",
       "      <td>2297</td>\n",
       "      <td>2299.0</td>\n",
       "      <td>3</td>\n",
       "    </tr>\n",
       "    <tr>\n",
       "      <th>870</th>\n",
       "      <td>Ever quit smoking for one year or longer</td>\n",
       "      <td>HAR9</td>\n",
       "      <td>2300</td>\n",
       "      <td>NaN</td>\n",
       "      <td>1</td>\n",
       "    </tr>\n",
       "    <tr>\n",
       "      <th>871</th>\n",
       "      <td>How many years not smoked since started</td>\n",
       "      <td>HAR10</td>\n",
       "      <td>2301</td>\n",
       "      <td>2303.0</td>\n",
       "      <td>3</td>\n",
       "    </tr>\n",
       "    <tr>\n",
       "      <th>872</th>\n",
       "      <td>Age last smoke cigarettes reg -- yrs</td>\n",
       "      <td>HAR11R</td>\n",
       "      <td>2304</td>\n",
       "      <td>2306.0</td>\n",
       "      <td>3</td>\n",
       "    </tr>\n",
       "    <tr>\n",
       "      <th>873</th>\n",
       "      <td># cigarettes smoked per day at that time</td>\n",
       "      <td>HAR12S</td>\n",
       "      <td>2307</td>\n",
       "      <td>2309.0</td>\n",
       "      <td>3</td>\n",
       "    </tr>\n",
       "    <tr>\n",
       "      <th>874</th>\n",
       "      <td>Quit smoking,health problem from smoking</td>\n",
       "      <td>HAR13</td>\n",
       "      <td>2310</td>\n",
       "      <td>NaN</td>\n",
       "      <td>1</td>\n",
       "    </tr>\n",
       "    <tr>\n",
       "      <th>886</th>\n",
       "      <td>Ever smoke at least 20 cigars in life</td>\n",
       "      <td>HAR23</td>\n",
       "      <td>2330</td>\n",
       "      <td>NaN</td>\n",
       "      <td>1</td>\n",
       "    </tr>\n",
       "    <tr>\n",
       "      <th>887</th>\n",
       "      <td>Do you now smoke cigars</td>\n",
       "      <td>HAR24</td>\n",
       "      <td>2331</td>\n",
       "      <td>NaN</td>\n",
       "      <td>1</td>\n",
       "    </tr>\n",
       "    <tr>\n",
       "      <th>888</th>\n",
       "      <td>How many cigars do you smoke per day</td>\n",
       "      <td>HAR25</td>\n",
       "      <td>2332</td>\n",
       "      <td>2333.0</td>\n",
       "      <td>2</td>\n",
       "    </tr>\n",
       "    <tr>\n",
       "      <th>889</th>\n",
       "      <td>Ever smoke 20 pipes of tobacco in life</td>\n",
       "      <td>HAR26</td>\n",
       "      <td>2334</td>\n",
       "      <td>NaN</td>\n",
       "      <td>1</td>\n",
       "    </tr>\n",
       "    <tr>\n",
       "      <th>890</th>\n",
       "      <td>Do you now smoke a pipe</td>\n",
       "      <td>HAR27</td>\n",
       "      <td>2335</td>\n",
       "      <td>NaN</td>\n",
       "      <td>1</td>\n",
       "    </tr>\n",
       "    <tr>\n",
       "      <th>891</th>\n",
       "      <td>How many pipefuls tobacco smoke per day</td>\n",
       "      <td>HAR28</td>\n",
       "      <td>2336</td>\n",
       "      <td>2337.0</td>\n",
       "      <td>2</td>\n",
       "    </tr>\n",
       "    <tr>\n",
       "      <th>902</th>\n",
       "      <td>At work, hours per day can smell smoking</td>\n",
       "      <td>HAS14</td>\n",
       "      <td>2354</td>\n",
       "      <td>2355.0</td>\n",
       "      <td>2</td>\n",
       "    </tr>\n",
       "    <tr>\n",
       "      <th>1200</th>\n",
       "      <td>Have you smoked cigarettes last 30 min</td>\n",
       "      <td>HAZA2A4</td>\n",
       "      <td>3269</td>\n",
       "      <td>NaN</td>\n",
       "      <td>1</td>\n",
       "    </tr>\n",
       "  </tbody>\n",
       "</table>\n",
       "</div>"
      ],
      "text/plain": [
       "                                   description variable  position  \\\n",
       "259      Anyone living here smoke cigs in home     HFF1      1356   \n",
       "260     # persons who smoke cigarettes in home    HFF2R      1357   \n",
       "261         Cigarettes per day person 1 smokes    HFF3A      1359   \n",
       "262         Cigarettes per day person 2 smokes    HFF3B      1362   \n",
       "263         Cigarettes per day person 3 smokes    HFF3C      1365   \n",
       "264         Cigarettes per day person 4 smokes    HFF3D      1368   \n",
       "265         Cigarettes per day person 5 smokes    HFF3E      1371   \n",
       "266         Cigarettes per day person 6 smokes    HFF3F      1374   \n",
       "419           Doctor told stop smoking for HBP   HAE4D3      1606   \n",
       "428   Now quit smoking for high blood pressure   HAE5D3      1615   \n",
       "862    Have you smoked 100+ cigarettes in life     HAR1      2281   \n",
       "863     Age when you started smoking regularly     HAR2      2282   \n",
       "864                Do you smoke cigarettes now     HAR3      2285   \n",
       "865                # cigarettes smoked per day    HAR4S      2286   \n",
       "866   How many yrs have you smoked this amount     HAR5      2289   \n",
       "867   Ever period of 1+ years when smoked more     HAR6      2292   \n",
       "868     # cigarettes per day when smoking most    HAR7S      2293   \n",
       "869   How many years did you smoke that amount     HAR8      2297   \n",
       "870   Ever quit smoking for one year or longer     HAR9      2300   \n",
       "871    How many years not smoked since started    HAR10      2301   \n",
       "872       Age last smoke cigarettes reg -- yrs   HAR11R      2304   \n",
       "873   # cigarettes smoked per day at that time   HAR12S      2307   \n",
       "874   Quit smoking,health problem from smoking    HAR13      2310   \n",
       "886      Ever smoke at least 20 cigars in life    HAR23      2330   \n",
       "887                    Do you now smoke cigars    HAR24      2331   \n",
       "888       How many cigars do you smoke per day    HAR25      2332   \n",
       "889     Ever smoke 20 pipes of tobacco in life    HAR26      2334   \n",
       "890                    Do you now smoke a pipe    HAR27      2335   \n",
       "891    How many pipefuls tobacco smoke per day    HAR28      2336   \n",
       "902   At work, hours per day can smell smoking    HAS14      2354   \n",
       "1200    Have you smoked cigarettes last 30 min  HAZA2A4      3269   \n",
       "\n",
       "      end position  length  \n",
       "259            NaN       1  \n",
       "260         1358.0       2  \n",
       "261         1361.0       3  \n",
       "262         1364.0       3  \n",
       "263         1367.0       3  \n",
       "264         1370.0       3  \n",
       "265         1373.0       3  \n",
       "266         1376.0       3  \n",
       "419            NaN       1  \n",
       "428            NaN       1  \n",
       "862            NaN       1  \n",
       "863         2284.0       3  \n",
       "864            NaN       1  \n",
       "865         2288.0       3  \n",
       "866         2291.0       3  \n",
       "867            NaN       1  \n",
       "868         2296.0       4  \n",
       "869         2299.0       3  \n",
       "870            NaN       1  \n",
       "871         2303.0       3  \n",
       "872         2306.0       3  \n",
       "873         2309.0       3  \n",
       "874            NaN       1  \n",
       "886            NaN       1  \n",
       "887            NaN       1  \n",
       "888         2333.0       2  \n",
       "889            NaN       1  \n",
       "890            NaN       1  \n",
       "891         2337.0       2  \n",
       "902         2355.0       2  \n",
       "1200           NaN       1  "
      ]
     },
     "execution_count": 337,
     "metadata": {},
     "output_type": "execute_result"
    }
   ],
   "source": [
    "cols[cols.description.str.contains('(?:smok|cig)')]"
   ]
  },
  {
   "cell_type": "code",
   "execution_count": 338,
   "metadata": {},
   "outputs": [
    {
     "data": {
      "image/png": "[encoded data removed]",
      "text/plain": [
       "<Figure size 432x288 with 1 Axes>"
      ]
     },
     "metadata": {
      "needs_background": "light"
     },
     "output_type": "display_data"
    }
   ],
   "source": [
    "nh.hist_amount('HAR4S');"
   ]
  },
  {
   "cell_type": "code",
   "execution_count": 339,
   "metadata": {},
   "outputs": [
    {
     "data": {
      "image/png": "[encoded data removed]",
      "text/plain": [
       "<Figure size 432x288 with 1 Axes>"
      ]
     },
     "metadata": {
      "needs_background": "light"
     },
     "output_type": "display_data"
    }
   ],
   "source": [
    "nh.hist_amount('HSAITMOR',outliers=1200);"
   ]
  },
  {
   "cell_type": "code",
   "execution_count": 340,
   "metadata": {},
   "outputs": [
    {
     "data": {
      "image/png": "[encoded data removed]",
      "text/plain": [
       "<Figure size 432x288 with 1 Axes>"
      ]
     },
     "metadata": {
      "needs_background": "light"
     },
     "output_type": "display_data"
    }
   ],
   "source": [
    "nh.hist_amount('DMARETHN', outliers=25);"
   ]
  },
  {
   "cell_type": "code",
   "execution_count": 341,
   "metadata": {},
   "outputs": [
    {
     "name": "stderr",
     "output_type": "stream",
     "text": [
      "/usr/local/lib/python3.7/site-packages/pandas/core/strings.py:1952: UserWarning: This pattern has match groups. To actually get the groups, use str.extract.\n",
      "  return func(self, *args, **kwargs)\n"
     ]
    },
    {
     "data": {
      "text/html": [
       "<div>\n",
       "<style scoped>\n",
       "    .dataframe tbody tr th:only-of-type {\n",
       "        vertical-align: middle;\n",
       "    }\n",
       "\n",
       "    .dataframe tbody tr th {\n",
       "        vertical-align: top;\n",
       "    }\n",
       "\n",
       "    .dataframe thead th {\n",
       "        text-align: right;\n",
       "    }\n",
       "</style>\n",
       "<table border=\"1\" class=\"dataframe\">\n",
       "  <thead>\n",
       "    <tr style=\"text-align: right;\">\n",
       "      <th></th>\n",
       "      <th>description</th>\n",
       "      <th>variable</th>\n",
       "      <th>position</th>\n",
       "      <th>end position</th>\n",
       "      <th>length</th>\n",
       "    </tr>\n",
       "  </thead>\n",
       "  <tbody>\n",
       "    <tr>\n",
       "      <th>210</th>\n",
       "      <td>Mother's weight calculated in pounds</td>\n",
       "      <td>HFC2S</td>\n",
       "      <td>1300</td>\n",
       "      <td>NaN</td>\n",
       "      <td>1</td>\n",
       "    </tr>\n",
       "    <tr>\n",
       "      <th>212</th>\n",
       "      <td>Father's weight calculated in pounds</td>\n",
       "      <td>HFC4S</td>\n",
       "      <td>1302</td>\n",
       "      <td>NaN</td>\n",
       "      <td>1</td>\n",
       "    </tr>\n",
       "    <tr>\n",
       "      <th>414</th>\n",
       "      <td>Doctor told control/lose weight for HBP</td>\n",
       "      <td>HAE4B</td>\n",
       "      <td>1601</td>\n",
       "      <td>NaN</td>\n",
       "      <td>1</td>\n",
       "    </tr>\n",
       "    <tr>\n",
       "      <th>424</th>\n",
       "      <td>Now controlling or losing weight for HBP</td>\n",
       "      <td>HAE5B</td>\n",
       "      <td>1611</td>\n",
       "      <td>NaN</td>\n",
       "      <td>1</td>\n",
       "    </tr>\n",
       "    <tr>\n",
       "      <th>435</th>\n",
       "      <td>Doctor told lose weight for HBC</td>\n",
       "      <td>HAE8B</td>\n",
       "      <td>1622</td>\n",
       "      <td>NaN</td>\n",
       "      <td>1</td>\n",
       "    </tr>\n",
       "    <tr>\n",
       "      <th>439</th>\n",
       "      <td>Now losing weight to lower cholesterol</td>\n",
       "      <td>HAE9B</td>\n",
       "      <td>1626</td>\n",
       "      <td>NaN</td>\n",
       "      <td>1</td>\n",
       "    </tr>\n",
       "    <tr>\n",
       "      <th>444</th>\n",
       "      <td>On own for HBC, controlled/lost weight</td>\n",
       "      <td>HAE11B</td>\n",
       "      <td>1631</td>\n",
       "      <td>NaN</td>\n",
       "      <td>1</td>\n",
       "    </tr>\n",
       "    <tr>\n",
       "      <th>599</th>\n",
       "      <td>Difficulty lifting or carrying 10 pounds</td>\n",
       "      <td>HAH4</td>\n",
       "      <td>1807</td>\n",
       "      <td>NaN</td>\n",
       "      <td>1</td>\n",
       "    </tr>\n",
       "    <tr>\n",
       "      <th>705</th>\n",
       "      <td>Consider self over/under/right weight</td>\n",
       "      <td>HAM11</td>\n",
       "      <td>1964</td>\n",
       "      <td>NaN</td>\n",
       "      <td>1</td>\n",
       "    </tr>\n",
       "    <tr>\n",
       "      <th>707</th>\n",
       "      <td>Tried to lose weight in past 12 months</td>\n",
       "      <td>HAM13</td>\n",
       "      <td>1966</td>\n",
       "      <td>NaN</td>\n",
       "      <td>1</td>\n",
       "    </tr>\n",
       "    <tr>\n",
       "      <th>953</th>\n",
       "      <td>In the past month, did you lift weights</td>\n",
       "      <td>HAT16</td>\n",
       "      <td>2442</td>\n",
       "      <td>NaN</td>\n",
       "      <td>1</td>\n",
       "    </tr>\n",
       "    <tr>\n",
       "      <th>954</th>\n",
       "      <td>Lift weights activity - intensity rating</td>\n",
       "      <td>HAT16MET</td>\n",
       "      <td>2443</td>\n",
       "      <td>NaN</td>\n",
       "      <td>1</td>\n",
       "    </tr>\n",
       "    <tr>\n",
       "      <th>955</th>\n",
       "      <td>Past mo, how often did you lift weights</td>\n",
       "      <td>HAT17S</td>\n",
       "      <td>2444</td>\n",
       "      <td>2447.0</td>\n",
       "      <td>4</td>\n",
       "    </tr>\n",
       "    <tr>\n",
       "      <th>1192</th>\n",
       "      <td>Observed SP:overweight, average, or thin</td>\n",
       "      <td>HAY11J</td>\n",
       "      <td>3232</td>\n",
       "      <td>NaN</td>\n",
       "      <td>1</td>\n",
       "    </tr>\n",
       "  </tbody>\n",
       "</table>\n",
       "</div>"
      ],
      "text/plain": [
       "                                   description  variable  position  \\\n",
       "210       Mother's weight calculated in pounds     HFC2S      1300   \n",
       "212       Father's weight calculated in pounds     HFC4S      1302   \n",
       "414    Doctor told control/lose weight for HBP     HAE4B      1601   \n",
       "424   Now controlling or losing weight for HBP     HAE5B      1611   \n",
       "435            Doctor told lose weight for HBC     HAE8B      1622   \n",
       "439     Now losing weight to lower cholesterol     HAE9B      1626   \n",
       "444     On own for HBC, controlled/lost weight    HAE11B      1631   \n",
       "599   Difficulty lifting or carrying 10 pounds      HAH4      1807   \n",
       "705      Consider self over/under/right weight     HAM11      1964   \n",
       "707     Tried to lose weight in past 12 months     HAM13      1966   \n",
       "953    In the past month, did you lift weights     HAT16      2442   \n",
       "954   Lift weights activity - intensity rating  HAT16MET      2443   \n",
       "955    Past mo, how often did you lift weights    HAT17S      2444   \n",
       "1192  Observed SP:overweight, average, or thin    HAY11J      3232   \n",
       "\n",
       "      end position  length  \n",
       "210            NaN       1  \n",
       "212            NaN       1  \n",
       "414            NaN       1  \n",
       "424            NaN       1  \n",
       "435            NaN       1  \n",
       "439            NaN       1  \n",
       "444            NaN       1  \n",
       "599            NaN       1  \n",
       "705            NaN       1  \n",
       "707            NaN       1  \n",
       "953            NaN       1  \n",
       "954            NaN       1  \n",
       "955         2447.0       4  \n",
       "1192           NaN       1  "
      ]
     },
     "execution_count": 341,
     "metadata": {},
     "output_type": "execute_result"
    }
   ],
   "source": [
    "cols[cols.description.str.contains('weight|pounds') & ~cols.description.str.contains('(sample|interview|weighting|exam)')]"
   ]
  },
  {
   "cell_type": "code",
   "execution_count": 342,
   "metadata": {},
   "outputs": [
    {
     "name": "stderr",
     "output_type": "stream",
     "text": [
      "/usr/local/lib/python3.7/site-packages/pandas/core/strings.py:1952: UserWarning: This pattern has match groups. To actually get the groups, use str.extract.\n",
      "  return func(self, *args, **kwargs)\n"
     ]
    },
    {
     "data": {
      "text/html": [
       "<div>\n",
       "<style scoped>\n",
       "    .dataframe tbody tr th:only-of-type {\n",
       "        vertical-align: middle;\n",
       "    }\n",
       "\n",
       "    .dataframe tbody tr th {\n",
       "        vertical-align: top;\n",
       "    }\n",
       "\n",
       "    .dataframe thead th {\n",
       "        text-align: right;\n",
       "    }\n",
       "</style>\n",
       "<table border=\"1\" class=\"dataframe\">\n",
       "  <thead>\n",
       "    <tr style=\"text-align: right;\">\n",
       "      <th></th>\n",
       "      <th>description</th>\n",
       "      <th>variable</th>\n",
       "      <th>position</th>\n",
       "      <th>end position</th>\n",
       "      <th>length</th>\n",
       "    </tr>\n",
       "  </thead>\n",
       "  <tbody>\n",
       "    <tr>\n",
       "      <th>211</th>\n",
       "      <td>Mother's height calculated in inches</td>\n",
       "      <td>HFC3S</td>\n",
       "      <td>1301</td>\n",
       "      <td>NaN</td>\n",
       "      <td>1</td>\n",
       "    </tr>\n",
       "    <tr>\n",
       "      <th>213</th>\n",
       "      <td>Father's height calculated in inches</td>\n",
       "      <td>HFC5S</td>\n",
       "      <td>1303</td>\n",
       "      <td>NaN</td>\n",
       "      <td>1</td>\n",
       "    </tr>\n",
       "  </tbody>\n",
       "</table>\n",
       "</div>"
      ],
      "text/plain": [
       "                              description variable  position  end position  \\\n",
       "211  Mother's height calculated in inches    HFC3S      1301           NaN   \n",
       "213  Father's height calculated in inches    HFC5S      1303           NaN   \n",
       "\n",
       "     length  \n",
       "211       1  \n",
       "213       1  "
      ]
     },
     "execution_count": 342,
     "metadata": {},
     "output_type": "execute_result"
    }
   ],
   "source": [
    "cols[cols.description.str.contains('height|cm') & ~cols.description.str.contains('(sample|interview|weighting|exam)')]"
   ]
  },
  {
   "cell_type": "code",
   "execution_count": 343,
   "metadata": {},
   "outputs": [
    {
     "data": {
      "text/html": [
       "<div>\n",
       "<style scoped>\n",
       "    .dataframe tbody tr th:only-of-type {\n",
       "        vertical-align: middle;\n",
       "    }\n",
       "\n",
       "    .dataframe tbody tr th {\n",
       "        vertical-align: top;\n",
       "    }\n",
       "\n",
       "    .dataframe thead th {\n",
       "        text-align: right;\n",
       "    }\n",
       "</style>\n",
       "<table border=\"1\" class=\"dataframe\">\n",
       "  <thead>\n",
       "    <tr style=\"text-align: right;\">\n",
       "      <th></th>\n",
       "      <th>description</th>\n",
       "      <th>variable</th>\n",
       "      <th>position</th>\n",
       "      <th>end position</th>\n",
       "      <th>length</th>\n",
       "    </tr>\n",
       "  </thead>\n",
       "  <tbody>\n",
       "    <tr>\n",
       "      <th>450</th>\n",
       "      <td>If stand still is chest pain relieved</td>\n",
       "      <td>HAF5</td>\n",
       "      <td>1637</td>\n",
       "      <td>NaN</td>\n",
       "      <td>1</td>\n",
       "    </tr>\n",
       "    <tr>\n",
       "      <th>466</th>\n",
       "      <td>Leg pain begin while stand still/sitting</td>\n",
       "      <td>HAF15</td>\n",
       "      <td>1658</td>\n",
       "      <td>NaN</td>\n",
       "      <td>1</td>\n",
       "    </tr>\n",
       "    <tr>\n",
       "      <th>472</th>\n",
       "      <td>Is leg pain relieved if you stand still</td>\n",
       "      <td>HAF21</td>\n",
       "      <td>1664</td>\n",
       "      <td>NaN</td>\n",
       "      <td>1</td>\n",
       "    </tr>\n",
       "    <tr>\n",
       "      <th>478</th>\n",
       "      <td>Problem with ability to speak/understand</td>\n",
       "      <td>HAF27</td>\n",
       "      <td>1670</td>\n",
       "      <td>NaN</td>\n",
       "      <td>1</td>\n",
       "    </tr>\n",
       "    <tr>\n",
       "      <th>604</th>\n",
       "      <td>Difficulty standing from armless chair</td>\n",
       "      <td>HAH9</td>\n",
       "      <td>1812</td>\n",
       "      <td>NaN</td>\n",
       "      <td>1</td>\n",
       "    </tr>\n",
       "  </tbody>\n",
       "</table>\n",
       "</div>"
      ],
      "text/plain": [
       "                                  description variable  position  \\\n",
       "450     If stand still is chest pain relieved     HAF5      1637   \n",
       "466  Leg pain begin while stand still/sitting    HAF15      1658   \n",
       "472   Is leg pain relieved if you stand still    HAF21      1664   \n",
       "478  Problem with ability to speak/understand    HAF27      1670   \n",
       "604    Difficulty standing from armless chair     HAH9      1812   \n",
       "\n",
       "     end position  length  \n",
       "450           NaN       1  \n",
       "466           NaN       1  \n",
       "472           NaN       1  \n",
       "478           NaN       1  \n",
       "604           NaN       1  "
      ]
     },
     "execution_count": 343,
     "metadata": {},
     "output_type": "execute_result"
    }
   ],
   "source": [
    "cols[cols.description.str.contains('stand') ]"
   ]
  },
  {
   "cell_type": "code",
   "execution_count": 344,
   "metadata": {},
   "outputs": [
    {
     "ename": "AttributeError",
     "evalue": "'HouseholdAdultFile' object has no attribute 'HAR1'",
     "output_type": "error",
     "traceback": [
      "\u001b[0;31m---------------------------------------------------------------------------\u001b[0m",
      "\u001b[0;31mAttributeError\u001b[0m                            Traceback (most recent call last)",
      "\u001b[0;32m<ipython-input-344-59384055549e>\u001b[0m in \u001b[0;36m<module>\u001b[0;34m\u001b[0m\n\u001b[0;32m----> 1\u001b[0;31m \u001b[0mnh\u001b[0m\u001b[0;34m.\u001b[0m\u001b[0mHAR1\u001b[0m\u001b[0;34m.\u001b[0m\u001b[0mvalue_counts\u001b[0m\u001b[0;34m(\u001b[0m\u001b[0;34m)\u001b[0m\u001b[0;34m;\u001b[0m\u001b[0;34m\u001b[0m\u001b[0;34m\u001b[0m\u001b[0m\n\u001b[0m",
      "\u001b[0;31mAttributeError\u001b[0m: 'HouseholdAdultFile' object has no attribute 'HAR1'"
     ]
    }
   ],
   "source": [
    "nh.HAR1.value_counts();"
   ]
  },
  {
   "cell_type": "markdown",
   "metadata": {},
   "source": [
    "Test Markdown"
   ]
  },
  {
   "cell_type": "code",
   "execution_count": 345,
   "metadata": {},
   "outputs": [
    {
     "data": {
      "image/png": "[encoded data removed]",
      "text/plain": [
       "<Figure size 432x288 with 1 Axes>"
      ]
     },
     "metadata": {
      "needs_background": "light"
     },
     "output_type": "display_data"
    }
   ],
   "source": [
    "nh.hist_amount('HAR4S');"
   ]
  },
  {
   "cell_type": "code",
   "execution_count": 346,
   "metadata": {},
   "outputs": [
    {
     "data": {
      "image/png": "[encoded data removed]",
      "text/plain": [
       "<Figure size 432x288 with 1 Axes>"
      ]
     },
     "metadata": {
      "needs_background": "light"
     },
     "output_type": "display_data"
    }
   ],
   "source": [
    "nh.hist_amount('HSAITMOR',outliers=1200);"
   ]
  },
  {
   "cell_type": "code",
   "execution_count": 347,
   "metadata": {},
   "outputs": [
    {
     "name": "stderr",
     "output_type": "stream",
     "text": [
      "/usr/local/lib/python3.7/site-packages/pandas/core/strings.py:1952: UserWarning: This pattern has match groups. To actually get the groups, use str.extract.\n",
      "  return func(self, *args, **kwargs)\n"
     ]
    },
    {
     "data": {
      "text/html": [
       "<div>\n",
       "<style scoped>\n",
       "    .dataframe tbody tr th:only-of-type {\n",
       "        vertical-align: middle;\n",
       "    }\n",
       "\n",
       "    .dataframe tbody tr th {\n",
       "        vertical-align: top;\n",
       "    }\n",
       "\n",
       "    .dataframe thead th {\n",
       "        text-align: right;\n",
       "    }\n",
       "</style>\n",
       "<table border=\"1\" class=\"dataframe\">\n",
       "  <thead>\n",
       "    <tr style=\"text-align: right;\">\n",
       "      <th></th>\n",
       "      <th>description</th>\n",
       "      <th>variable</th>\n",
       "      <th>position</th>\n",
       "      <th>end position</th>\n",
       "      <th>length</th>\n",
       "    </tr>\n",
       "  </thead>\n",
       "  <tbody>\n",
       "    <tr>\n",
       "      <th>210</th>\n",
       "      <td>Mother's weight calculated in pounds</td>\n",
       "      <td>HFC2S</td>\n",
       "      <td>1300</td>\n",
       "      <td>NaN</td>\n",
       "      <td>1</td>\n",
       "    </tr>\n",
       "    <tr>\n",
       "      <th>212</th>\n",
       "      <td>Father's weight calculated in pounds</td>\n",
       "      <td>HFC4S</td>\n",
       "      <td>1302</td>\n",
       "      <td>NaN</td>\n",
       "      <td>1</td>\n",
       "    </tr>\n",
       "    <tr>\n",
       "      <th>414</th>\n",
       "      <td>Doctor told control/lose weight for HBP</td>\n",
       "      <td>HAE4B</td>\n",
       "      <td>1601</td>\n",
       "      <td>NaN</td>\n",
       "      <td>1</td>\n",
       "    </tr>\n",
       "    <tr>\n",
       "      <th>424</th>\n",
       "      <td>Now controlling or losing weight for HBP</td>\n",
       "      <td>HAE5B</td>\n",
       "      <td>1611</td>\n",
       "      <td>NaN</td>\n",
       "      <td>1</td>\n",
       "    </tr>\n",
       "    <tr>\n",
       "      <th>435</th>\n",
       "      <td>Doctor told lose weight for HBC</td>\n",
       "      <td>HAE8B</td>\n",
       "      <td>1622</td>\n",
       "      <td>NaN</td>\n",
       "      <td>1</td>\n",
       "    </tr>\n",
       "    <tr>\n",
       "      <th>439</th>\n",
       "      <td>Now losing weight to lower cholesterol</td>\n",
       "      <td>HAE9B</td>\n",
       "      <td>1626</td>\n",
       "      <td>NaN</td>\n",
       "      <td>1</td>\n",
       "    </tr>\n",
       "    <tr>\n",
       "      <th>444</th>\n",
       "      <td>On own for HBC, controlled/lost weight</td>\n",
       "      <td>HAE11B</td>\n",
       "      <td>1631</td>\n",
       "      <td>NaN</td>\n",
       "      <td>1</td>\n",
       "    </tr>\n",
       "    <tr>\n",
       "      <th>599</th>\n",
       "      <td>Difficulty lifting or carrying 10 pounds</td>\n",
       "      <td>HAH4</td>\n",
       "      <td>1807</td>\n",
       "      <td>NaN</td>\n",
       "      <td>1</td>\n",
       "    </tr>\n",
       "    <tr>\n",
       "      <th>705</th>\n",
       "      <td>Consider self over/under/right weight</td>\n",
       "      <td>HAM11</td>\n",
       "      <td>1964</td>\n",
       "      <td>NaN</td>\n",
       "      <td>1</td>\n",
       "    </tr>\n",
       "    <tr>\n",
       "      <th>707</th>\n",
       "      <td>Tried to lose weight in past 12 months</td>\n",
       "      <td>HAM13</td>\n",
       "      <td>1966</td>\n",
       "      <td>NaN</td>\n",
       "      <td>1</td>\n",
       "    </tr>\n",
       "    <tr>\n",
       "      <th>953</th>\n",
       "      <td>In the past month, did you lift weights</td>\n",
       "      <td>HAT16</td>\n",
       "      <td>2442</td>\n",
       "      <td>NaN</td>\n",
       "      <td>1</td>\n",
       "    </tr>\n",
       "    <tr>\n",
       "      <th>954</th>\n",
       "      <td>Lift weights activity - intensity rating</td>\n",
       "      <td>HAT16MET</td>\n",
       "      <td>2443</td>\n",
       "      <td>NaN</td>\n",
       "      <td>1</td>\n",
       "    </tr>\n",
       "    <tr>\n",
       "      <th>955</th>\n",
       "      <td>Past mo, how often did you lift weights</td>\n",
       "      <td>HAT17S</td>\n",
       "      <td>2444</td>\n",
       "      <td>2447.0</td>\n",
       "      <td>4</td>\n",
       "    </tr>\n",
       "    <tr>\n",
       "      <th>1192</th>\n",
       "      <td>Observed SP:overweight, average, or thin</td>\n",
       "      <td>HAY11J</td>\n",
       "      <td>3232</td>\n",
       "      <td>NaN</td>\n",
       "      <td>1</td>\n",
       "    </tr>\n",
       "  </tbody>\n",
       "</table>\n",
       "</div>"
      ],
      "text/plain": [
       "                                   description  variable  position  \\\n",
       "210       Mother's weight calculated in pounds     HFC2S      1300   \n",
       "212       Father's weight calculated in pounds     HFC4S      1302   \n",
       "414    Doctor told control/lose weight for HBP     HAE4B      1601   \n",
       "424   Now controlling or losing weight for HBP     HAE5B      1611   \n",
       "435            Doctor told lose weight for HBC     HAE8B      1622   \n",
       "439     Now losing weight to lower cholesterol     HAE9B      1626   \n",
       "444     On own for HBC, controlled/lost weight    HAE11B      1631   \n",
       "599   Difficulty lifting or carrying 10 pounds      HAH4      1807   \n",
       "705      Consider self over/under/right weight     HAM11      1964   \n",
       "707     Tried to lose weight in past 12 months     HAM13      1966   \n",
       "953    In the past month, did you lift weights     HAT16      2442   \n",
       "954   Lift weights activity - intensity rating  HAT16MET      2443   \n",
       "955    Past mo, how often did you lift weights    HAT17S      2444   \n",
       "1192  Observed SP:overweight, average, or thin    HAY11J      3232   \n",
       "\n",
       "      end position  length  \n",
       "210            NaN       1  \n",
       "212            NaN       1  \n",
       "414            NaN       1  \n",
       "424            NaN       1  \n",
       "435            NaN       1  \n",
       "439            NaN       1  \n",
       "444            NaN       1  \n",
       "599            NaN       1  \n",
       "705            NaN       1  \n",
       "707            NaN       1  \n",
       "953            NaN       1  \n",
       "954            NaN       1  \n",
       "955         2447.0       4  \n",
       "1192           NaN       1  "
      ]
     },
     "execution_count": 347,
     "metadata": {},
     "output_type": "execute_result"
    }
   ],
   "source": [
    "cols[cols.description.str.contains('weight|pounds') & ~cols.description.str.contains('(sample|interview|weighting|exam)')]"
   ]
  },
  {
   "cell_type": "code",
   "execution_count": 348,
   "metadata": {},
   "outputs": [],
   "source": [
    "exam.data['PEFROVERFVC'] = exam.data.SPPPEAK / exam.data.SPPFVC"
   ]
  },
  {
   "cell_type": "code",
   "execution_count": 349,
   "metadata": {},
   "outputs": [
    {
     "data": {
      "text/plain": [
       "<matplotlib.axes._subplots.AxesSubplot at 0x1139f1a90>"
      ]
     },
     "execution_count": 349,
     "metadata": {},
     "output_type": "execute_result"
    },
    {
     "data": {
      "image/png": "[encoded data removed]",
      "text/plain": [
       "<Figure size 432x288 with 1 Axes>"
      ]
     },
     "metadata": {
      "needs_background": "light"
     },
     "output_type": "display_data"
    }
   ],
   "source": [
    "exam.data.PEFROVERFVC.hist(bins='auto', range=(0,5))"
   ]
  },
  {
   "cell_type": "markdown",
   "metadata": {},
   "source": [
    "## Now analyze adult_final"
   ]
  },
  {
   "cell_type": "code",
   "execution_count": 350,
   "metadata": {},
   "outputs": [],
   "source": [
    "adult_final['PEFROVERFVC'] = adult_final.SPPPEAK / adult_final.SPPFVC"
   ]
  },
  {
   "cell_type": "code",
   "execution_count": 351,
   "metadata": {},
   "outputs": [
    {
     "data": {
      "text/plain": [
       "<matplotlib.axes._subplots.AxesSubplot at 0x10f869fd0>"
      ]
     },
     "execution_count": 351,
     "metadata": {},
     "output_type": "execute_result"
    },
    {
     "data": {
      "image/png": "[encoded data removed]",
      "text/plain": [
       "<Figure size 432x288 with 1 Axes>"
      ]
     },
     "metadata": {
      "needs_background": "light"
     },
     "output_type": "display_data"
    }
   ],
   "source": [
    "adult_final.PEFROVERFVC.hist(bins='auto', range=(0,5))"
   ]
  },
  {
   "cell_type": "code",
   "execution_count": 391,
   "metadata": {},
   "outputs": [
    {
     "data": {
      "text/plain": [
       "<matplotlib.axes._subplots.AxesSubplot at 0x113f6b090>"
      ]
     },
     "execution_count": 391,
     "metadata": {},
     "output_type": "execute_result"
    },
    {
     "data": {
      "image/png": "[encoded data removed]",
      "text/plain": [
       "<Figure size 432x288 with 1 Axes>"
      ]
     },
     "metadata": {
      "needs_background": "light"
     },
     "output_type": "display_data"
    }
   ],
   "source": [
    "adult_final.HSAITMOR.hist(bins='auto', range=(0,1200))"
   ]
  },
  {
   "cell_type": "markdown",
   "metadata": {},
   "source": [
    "## Create new fields in adult_final and youth_final"
   ]
  },
  {
   "cell_type": "markdown",
   "metadata": {},
   "source": [
    "Create new fields (XoY = X/Y) in youth_final and adult_final"
   ]
  },
  {
   "cell_type": "code",
   "execution_count": 529,
   "metadata": {},
   "outputs": [],
   "source": [
    "oldvariables = [ 'SPPFEV1', 'SPPFEV3', 'SPPFEV6', 'SPPFVC','SPPPEAK','SPPMMEF', 'SPPFEF75', 'SPPEXPIR']"
   ]
  },
  {
   "cell_type": "markdown",
   "metadata": {},
   "source": [
    "## Create new variables in adult_final final and youth_final"
   ]
  },
  {
   "cell_type": "markdown",
   "metadata": {},
   "source": [
    "newvariables = ['FEV1OFVC', 'FEV1OFEV6', 'PEFROFVC', 'PEFROFEV6', 'PEFROFEV1', 'FEV3OFVC', 'FEV6OFVC']"
   ]
  },
  {
   "cell_type": "markdown",
   "metadata": {},
   "source": [
    "def createvariables(df):\n",
    "    df['FEV1OFVC'] = df.SPPFEV1 / df.SPPFVC\n",
    "    df['FEV1OFEV6']= df.SPPFEV1 / df.SPPFEV6\n",
    "    df['PEFROFVC'] = df.SPPPEAK / df.SPPFVC\n",
    "    df['PEFROFEV6']= df.SPPPEAK / df.SPPFEV6\n",
    "    df['PEFROFEV1'] = df.SPPPEAK / df.SPPFEV1\n",
    "    df['FEV3OFVC'] = df.SPPFEV3 / df.SPPFVC\n",
    "    df['FEV6OFVC'] = df.SPPFEV6 / df.SPPFVC\n",
    "    return"
   ]
  },
  {
   "cell_type": "code",
   "execution_count": 482,
   "metadata": {},
   "outputs": [],
   "source": [
    "def createvariables(df):\n",
    "    df['FEV1OFVC'] = df.SPPFEV1 / df.SPPFVC\n",
    "    df['FEV1OFEV6']= df.SPPFEV1 / df.SPPFEV6\n",
    "    df['PEFROFVC'] = df.SPPPEAK / df.SPPFVC\n",
    "    df['PEFROFEV6']= df.SPPPEAK / df.SPPFEV6\n",
    "    df['PEFROFEV1'] = df.SPPPEAK / df.SPPFEV1\n",
    "    df['FEV3OFVC'] = df.SPPFEV3 / df.SPPFVC\n",
    "    df['FEV6OFVC'] = df.SPPFEV6 / df.SPPFVC\n",
    "    return\n",
    "    "
   ]
  },
  {
   "cell_type": "markdown",
   "metadata": {},
   "source": [
    "createvariables(adult_final) then youth_final"
   ]
  },
  {
   "cell_type": "code",
   "execution_count": 483,
   "metadata": {},
   "outputs": [],
   "source": [
    "createvariables(adult_final)"
   ]
  },
  {
   "cell_type": "code",
   "execution_count": 484,
   "metadata": {},
   "outputs": [],
   "source": [
    "createvariables(youth_final)"
   ]
  },
  {
   "cell_type": "code",
   "execution_count": 263,
   "metadata": {},
   "outputs": [
    {
     "data": {
      "text/plain": [
       "<matplotlib.axes._subplots.AxesSubplot at 0x113816b50>"
      ]
     },
     "execution_count": 263,
     "metadata": {},
     "output_type": "execute_result"
    },
    {
     "data": {
      "image/png": "[encoded data removed]",
      "text/plain": [
       "<Figure size 432x288 with 1 Axes>"
      ]
     },
     "metadata": {
      "needs_background": "light"
     },
     "output_type": "display_data"
    }
   ],
   "source": [
    "adult_final.FEV1OFVC.hist(bins='auto')"
   ]
  },
  {
   "cell_type": "code",
   "execution_count": 485,
   "metadata": {},
   "outputs": [
    {
     "data": {
      "text/html": [
       "<div>\n",
       "<style scoped>\n",
       "    .dataframe tbody tr th:only-of-type {\n",
       "        vertical-align: middle;\n",
       "    }\n",
       "\n",
       "    .dataframe tbody tr th {\n",
       "        vertical-align: top;\n",
       "    }\n",
       "\n",
       "    .dataframe thead th {\n",
       "        text-align: right;\n",
       "    }\n",
       "</style>\n",
       "<table border=\"1\" class=\"dataframe\">\n",
       "  <thead>\n",
       "    <tr style=\"text-align: right;\">\n",
       "      <th></th>\n",
       "      <th>HAR1</th>\n",
       "      <th>HAR23</th>\n",
       "      <th>HAR26</th>\n",
       "      <th>HAC1E</th>\n",
       "      <th>HAC1F</th>\n",
       "      <th>HAC1G</th>\n",
       "      <th>HAC1O</th>\n",
       "      <th>HAL6</th>\n",
       "      <th>HAL10</th>\n",
       "      <th>HAL1</th>\n",
       "      <th>...</th>\n",
       "      <th>DMAETHNR_exam</th>\n",
       "      <th>HSAITMOR_exam</th>\n",
       "      <th>PEFROVERFVC</th>\n",
       "      <th>FEV1OFVC</th>\n",
       "      <th>FEV1OFEV6</th>\n",
       "      <th>PEFROFVC</th>\n",
       "      <th>PEFROFEV6</th>\n",
       "      <th>PEFROFEV1</th>\n",
       "      <th>FEV3OFVC</th>\n",
       "      <th>FEV6OFVC</th>\n",
       "    </tr>\n",
       "  </thead>\n",
       "  <tbody>\n",
       "    <tr>\n",
       "      <th>count</th>\n",
       "      <td>4944.0</td>\n",
       "      <td>4944.0</td>\n",
       "      <td>4944.000000</td>\n",
       "      <td>4944.0</td>\n",
       "      <td>4944.0</td>\n",
       "      <td>4944.000000</td>\n",
       "      <td>4944.000000</td>\n",
       "      <td>4944.000000</td>\n",
       "      <td>4944.000000</td>\n",
       "      <td>4944.0</td>\n",
       "      <td>...</td>\n",
       "      <td>4944.000000</td>\n",
       "      <td>4944.000000</td>\n",
       "      <td>4944.000000</td>\n",
       "      <td>4944.000000</td>\n",
       "      <td>4944.000000</td>\n",
       "      <td>4944.000000</td>\n",
       "      <td>4944.000000</td>\n",
       "      <td>4944.000000</td>\n",
       "      <td>4944.000000</td>\n",
       "      <td>4944.000000</td>\n",
       "    </tr>\n",
       "    <tr>\n",
       "      <th>mean</th>\n",
       "      <td>2.0</td>\n",
       "      <td>2.0</td>\n",
       "      <td>2.003641</td>\n",
       "      <td>2.0</td>\n",
       "      <td>2.0</td>\n",
       "      <td>2.001214</td>\n",
       "      <td>2.001416</td>\n",
       "      <td>2.001416</td>\n",
       "      <td>1.988269</td>\n",
       "      <td>2.0</td>\n",
       "      <td>...</td>\n",
       "      <td>2.279531</td>\n",
       "      <td>461.141181</td>\n",
       "      <td>1.976936</td>\n",
       "      <td>0.827377</td>\n",
       "      <td>0.837894</td>\n",
       "      <td>1.976936</td>\n",
       "      <td>2.003842</td>\n",
       "      <td>2.389732</td>\n",
       "      <td>1.119696</td>\n",
       "      <td>1.151874</td>\n",
       "    </tr>\n",
       "    <tr>\n",
       "      <th>std</th>\n",
       "      <td>0.0</td>\n",
       "      <td>0.0</td>\n",
       "      <td>0.147769</td>\n",
       "      <td>0.0</td>\n",
       "      <td>0.0</td>\n",
       "      <td>0.085332</td>\n",
       "      <td>0.099554</td>\n",
       "      <td>0.099554</td>\n",
       "      <td>0.169085</td>\n",
       "      <td>0.0</td>\n",
       "      <td>...</td>\n",
       "      <td>0.960234</td>\n",
       "      <td>282.861426</td>\n",
       "      <td>0.371922</td>\n",
       "      <td>0.073215</td>\n",
       "      <td>0.084317</td>\n",
       "      <td>0.371922</td>\n",
       "      <td>0.396056</td>\n",
       "      <td>0.402936</td>\n",
       "      <td>2.578364</td>\n",
       "      <td>2.575980</td>\n",
       "    </tr>\n",
       "    <tr>\n",
       "      <th>min</th>\n",
       "      <td>2.0</td>\n",
       "      <td>2.0</td>\n",
       "      <td>2.000000</td>\n",
       "      <td>2.0</td>\n",
       "      <td>2.0</td>\n",
       "      <td>2.000000</td>\n",
       "      <td>2.000000</td>\n",
       "      <td>2.000000</td>\n",
       "      <td>1.000000</td>\n",
       "      <td>2.0</td>\n",
       "      <td>...</td>\n",
       "      <td>1.000000</td>\n",
       "      <td>204.000000</td>\n",
       "      <td>0.437173</td>\n",
       "      <td>0.430769</td>\n",
       "      <td>0.014389</td>\n",
       "      <td>0.437173</td>\n",
       "      <td>0.026089</td>\n",
       "      <td>0.989630</td>\n",
       "      <td>0.689231</td>\n",
       "      <td>0.794219</td>\n",
       "    </tr>\n",
       "    <tr>\n",
       "      <th>25%</th>\n",
       "      <td>2.0</td>\n",
       "      <td>2.0</td>\n",
       "      <td>2.000000</td>\n",
       "      <td>2.0</td>\n",
       "      <td>2.0</td>\n",
       "      <td>2.000000</td>\n",
       "      <td>2.000000</td>\n",
       "      <td>2.000000</td>\n",
       "      <td>2.000000</td>\n",
       "      <td>2.0</td>\n",
       "      <td>...</td>\n",
       "      <td>1.000000</td>\n",
       "      <td>287.000000</td>\n",
       "      <td>1.727486</td>\n",
       "      <td>0.783432</td>\n",
       "      <td>0.803209</td>\n",
       "      <td>1.727486</td>\n",
       "      <td>1.757446</td>\n",
       "      <td>2.120506</td>\n",
       "      <td>0.926235</td>\n",
       "      <td>0.973650</td>\n",
       "    </tr>\n",
       "    <tr>\n",
       "      <th>50%</th>\n",
       "      <td>2.0</td>\n",
       "      <td>2.0</td>\n",
       "      <td>2.000000</td>\n",
       "      <td>2.0</td>\n",
       "      <td>2.0</td>\n",
       "      <td>2.000000</td>\n",
       "      <td>2.000000</td>\n",
       "      <td>2.000000</td>\n",
       "      <td>2.000000</td>\n",
       "      <td>2.0</td>\n",
       "      <td>...</td>\n",
       "      <td>3.000000</td>\n",
       "      <td>401.000000</td>\n",
       "      <td>1.962849</td>\n",
       "      <td>0.831555</td>\n",
       "      <td>0.842880</td>\n",
       "      <td>1.962849</td>\n",
       "      <td>1.997410</td>\n",
       "      <td>2.369035</td>\n",
       "      <td>0.958688</td>\n",
       "      <td>0.991842</td>\n",
       "    </tr>\n",
       "    <tr>\n",
       "      <th>75%</th>\n",
       "      <td>2.0</td>\n",
       "      <td>2.0</td>\n",
       "      <td>2.000000</td>\n",
       "      <td>2.0</td>\n",
       "      <td>2.0</td>\n",
       "      <td>2.000000</td>\n",
       "      <td>2.000000</td>\n",
       "      <td>2.000000</td>\n",
       "      <td>2.000000</td>\n",
       "      <td>2.0</td>\n",
       "      <td>...</td>\n",
       "      <td>3.000000</td>\n",
       "      <td>579.250000</td>\n",
       "      <td>2.210040</td>\n",
       "      <td>0.874832</td>\n",
       "      <td>0.880608</td>\n",
       "      <td>2.210040</td>\n",
       "      <td>2.245542</td>\n",
       "      <td>2.642060</td>\n",
       "      <td>0.985477</td>\n",
       "      <td>0.999456</td>\n",
       "    </tr>\n",
       "    <tr>\n",
       "      <th>max</th>\n",
       "      <td>2.0</td>\n",
       "      <td>2.0</td>\n",
       "      <td>8.000000</td>\n",
       "      <td>2.0</td>\n",
       "      <td>2.0</td>\n",
       "      <td>8.000000</td>\n",
       "      <td>9.000000</td>\n",
       "      <td>9.000000</td>\n",
       "      <td>8.000000</td>\n",
       "      <td>2.0</td>\n",
       "      <td>...</td>\n",
       "      <td>3.000000</td>\n",
       "      <td>9999.000000</td>\n",
       "      <td>3.676483</td>\n",
       "      <td>1.000000</td>\n",
       "      <td>1.000422</td>\n",
       "      <td>3.676483</td>\n",
       "      <td>3.588963</td>\n",
       "      <td>4.287374</td>\n",
       "      <td>66.682671</td>\n",
       "      <td>66.682671</td>\n",
       "    </tr>\n",
       "  </tbody>\n",
       "</table>\n",
       "<p>8 rows × 68 columns</p>\n",
       "</div>"
      ],
      "text/plain": [
       "         HAR1   HAR23        HAR26   HAC1E   HAC1F        HAC1G        HAC1O  \\\n",
       "count  4944.0  4944.0  4944.000000  4944.0  4944.0  4944.000000  4944.000000   \n",
       "mean      2.0     2.0     2.003641     2.0     2.0     2.001214     2.001416   \n",
       "std       0.0     0.0     0.147769     0.0     0.0     0.085332     0.099554   \n",
       "min       2.0     2.0     2.000000     2.0     2.0     2.000000     2.000000   \n",
       "25%       2.0     2.0     2.000000     2.0     2.0     2.000000     2.000000   \n",
       "50%       2.0     2.0     2.000000     2.0     2.0     2.000000     2.000000   \n",
       "75%       2.0     2.0     2.000000     2.0     2.0     2.000000     2.000000   \n",
       "max       2.0     2.0     8.000000     2.0     2.0     8.000000     9.000000   \n",
       "\n",
       "              HAL6        HAL10    HAL1  ...  DMAETHNR_exam  HSAITMOR_exam  \\\n",
       "count  4944.000000  4944.000000  4944.0  ...    4944.000000    4944.000000   \n",
       "mean      2.001416     1.988269     2.0  ...       2.279531     461.141181   \n",
       "std       0.099554     0.169085     0.0  ...       0.960234     282.861426   \n",
       "min       2.000000     1.000000     2.0  ...       1.000000     204.000000   \n",
       "25%       2.000000     2.000000     2.0  ...       1.000000     287.000000   \n",
       "50%       2.000000     2.000000     2.0  ...       3.000000     401.000000   \n",
       "75%       2.000000     2.000000     2.0  ...       3.000000     579.250000   \n",
       "max       9.000000     8.000000     2.0  ...       3.000000    9999.000000   \n",
       "\n",
       "       PEFROVERFVC     FEV1OFVC    FEV1OFEV6     PEFROFVC    PEFROFEV6  \\\n",
       "count  4944.000000  4944.000000  4944.000000  4944.000000  4944.000000   \n",
       "mean      1.976936     0.827377     0.837894     1.976936     2.003842   \n",
       "std       0.371922     0.073215     0.084317     0.371922     0.396056   \n",
       "min       0.437173     0.430769     0.014389     0.437173     0.026089   \n",
       "25%       1.727486     0.783432     0.803209     1.727486     1.757446   \n",
       "50%       1.962849     0.831555     0.842880     1.962849     1.997410   \n",
       "75%       2.210040     0.874832     0.880608     2.210040     2.245542   \n",
       "max       3.676483     1.000000     1.000422     3.676483     3.588963   \n",
       "\n",
       "         PEFROFEV1     FEV3OFVC     FEV6OFVC  \n",
       "count  4944.000000  4944.000000  4944.000000  \n",
       "mean      2.389732     1.119696     1.151874  \n",
       "std       0.402936     2.578364     2.575980  \n",
       "min       0.989630     0.689231     0.794219  \n",
       "25%       2.120506     0.926235     0.973650  \n",
       "50%       2.369035     0.958688     0.991842  \n",
       "75%       2.642060     0.985477     0.999456  \n",
       "max       4.287374    66.682671    66.682671  \n",
       "\n",
       "[8 rows x 68 columns]"
      ]
     },
     "execution_count": 485,
     "metadata": {},
     "output_type": "execute_result"
    }
   ],
   "source": [
    "adult_final.describe()"
   ]
  },
  {
   "cell_type": "code",
   "execution_count": 390,
   "metadata": {},
   "outputs": [
    {
     "data": {
      "text/plain": [
       "9.767452144892326"
      ]
     },
     "execution_count": 390,
     "metadata": {},
     "output_type": "execute_result"
    }
   ],
   "source": [
    "adult_final.BMPHT.std()"
   ]
  },
  {
   "cell_type": "code",
   "execution_count": 486,
   "metadata": {},
   "outputs": [
    {
     "data": {
      "text/html": [
       "<div>\n",
       "<style scoped>\n",
       "    .dataframe tbody tr th:only-of-type {\n",
       "        vertical-align: middle;\n",
       "    }\n",
       "\n",
       "    .dataframe tbody tr th {\n",
       "        vertical-align: top;\n",
       "    }\n",
       "\n",
       "    .dataframe thead th {\n",
       "        text-align: right;\n",
       "    }\n",
       "</style>\n",
       "<table border=\"1\" class=\"dataframe\">\n",
       "  <thead>\n",
       "    <tr style=\"text-align: right;\">\n",
       "      <th></th>\n",
       "      <th>HSSEX</th>\n",
       "      <th>HSAGEIR</th>\n",
       "      <th>HSAGEU</th>\n",
       "      <th>DMARACER</th>\n",
       "      <th>DMARETHN</th>\n",
       "      <th>DMAETHNR</th>\n",
       "      <th>HXPAXTMR</th>\n",
       "      <th>HXPSESSR</th>\n",
       "      <th>HYE1G</th>\n",
       "      <th>HYG2</th>\n",
       "      <th>...</th>\n",
       "      <th>DMAETHNR_exam</th>\n",
       "      <th>HSAITMOR</th>\n",
       "      <th>PEFROVERFVC</th>\n",
       "      <th>FEV1OFVC</th>\n",
       "      <th>FEV1OFEV6</th>\n",
       "      <th>PEFROFVC</th>\n",
       "      <th>PEFROFEV6</th>\n",
       "      <th>PEFROFEV1</th>\n",
       "      <th>FEV3OFVC</th>\n",
       "      <th>FEV6OFVC</th>\n",
       "    </tr>\n",
       "  </thead>\n",
       "  <tbody>\n",
       "    <tr>\n",
       "      <th>count</th>\n",
       "      <td>2812.000000</td>\n",
       "      <td>2812.000000</td>\n",
       "      <td>2812.0</td>\n",
       "      <td>2812.000000</td>\n",
       "      <td>2812.000000</td>\n",
       "      <td>2812.000000</td>\n",
       "      <td>0.0</td>\n",
       "      <td>0.0</td>\n",
       "      <td>2812.0</td>\n",
       "      <td>1279.000000</td>\n",
       "      <td>...</td>\n",
       "      <td>2812.000000</td>\n",
       "      <td>2812.000000</td>\n",
       "      <td>2812.000000</td>\n",
       "      <td>2812.000000</td>\n",
       "      <td>2812.000000</td>\n",
       "      <td>2812.000000</td>\n",
       "      <td>2812.000000</td>\n",
       "      <td>2812.000000</td>\n",
       "      <td>2812.000000</td>\n",
       "      <td>2812.000000</td>\n",
       "    </tr>\n",
       "    <tr>\n",
       "      <th>mean</th>\n",
       "      <td>1.522760</td>\n",
       "      <td>11.535562</td>\n",
       "      <td>2.0</td>\n",
       "      <td>1.423898</td>\n",
       "      <td>2.100640</td>\n",
       "      <td>2.272404</td>\n",
       "      <td>NaN</td>\n",
       "      <td>NaN</td>\n",
       "      <td>2.0</td>\n",
       "      <td>2.032838</td>\n",
       "      <td>...</td>\n",
       "      <td>2.272404</td>\n",
       "      <td>143.881223</td>\n",
       "      <td>1.946408</td>\n",
       "      <td>0.880166</td>\n",
       "      <td>0.882731</td>\n",
       "      <td>1.946408</td>\n",
       "      <td>1.952059</td>\n",
       "      <td>2.206381</td>\n",
       "      <td>0.983931</td>\n",
       "      <td>0.996933</td>\n",
       "    </tr>\n",
       "    <tr>\n",
       "      <th>std</th>\n",
       "      <td>0.499571</td>\n",
       "      <td>2.485636</td>\n",
       "      <td>0.0</td>\n",
       "      <td>0.540996</td>\n",
       "      <td>0.785523</td>\n",
       "      <td>0.962354</td>\n",
       "      <td>NaN</td>\n",
       "      <td>NaN</td>\n",
       "      <td>0.0</td>\n",
       "      <td>0.442836</td>\n",
       "      <td>...</td>\n",
       "      <td>0.962354</td>\n",
       "      <td>29.997678</td>\n",
       "      <td>0.339134</td>\n",
       "      <td>0.060814</td>\n",
       "      <td>0.059107</td>\n",
       "      <td>0.339134</td>\n",
       "      <td>0.338571</td>\n",
       "      <td>0.320986</td>\n",
       "      <td>0.019944</td>\n",
       "      <td>0.007931</td>\n",
       "    </tr>\n",
       "    <tr>\n",
       "      <th>min</th>\n",
       "      <td>1.000000</td>\n",
       "      <td>8.000000</td>\n",
       "      <td>2.0</td>\n",
       "      <td>1.000000</td>\n",
       "      <td>1.000000</td>\n",
       "      <td>1.000000</td>\n",
       "      <td>NaN</td>\n",
       "      <td>NaN</td>\n",
       "      <td>2.0</td>\n",
       "      <td>2.000000</td>\n",
       "      <td>...</td>\n",
       "      <td>1.000000</td>\n",
       "      <td>96.000000</td>\n",
       "      <td>0.516216</td>\n",
       "      <td>0.316216</td>\n",
       "      <td>0.413063</td>\n",
       "      <td>0.516216</td>\n",
       "      <td>0.583065</td>\n",
       "      <td>1.127809</td>\n",
       "      <td>0.581757</td>\n",
       "      <td>0.765541</td>\n",
       "    </tr>\n",
       "    <tr>\n",
       "      <th>25%</th>\n",
       "      <td>1.000000</td>\n",
       "      <td>9.000000</td>\n",
       "      <td>2.0</td>\n",
       "      <td>1.000000</td>\n",
       "      <td>1.000000</td>\n",
       "      <td>1.000000</td>\n",
       "      <td>NaN</td>\n",
       "      <td>NaN</td>\n",
       "      <td>2.0</td>\n",
       "      <td>2.000000</td>\n",
       "      <td>...</td>\n",
       "      <td>1.000000</td>\n",
       "      <td>119.000000</td>\n",
       "      <td>1.705966</td>\n",
       "      <td>0.843177</td>\n",
       "      <td>0.846875</td>\n",
       "      <td>1.705966</td>\n",
       "      <td>1.712840</td>\n",
       "      <td>1.987114</td>\n",
       "      <td>0.975569</td>\n",
       "      <td>0.997822</td>\n",
       "    </tr>\n",
       "    <tr>\n",
       "      <th>50%</th>\n",
       "      <td>2.000000</td>\n",
       "      <td>11.000000</td>\n",
       "      <td>2.0</td>\n",
       "      <td>1.000000</td>\n",
       "      <td>2.000000</td>\n",
       "      <td>3.000000</td>\n",
       "      <td>NaN</td>\n",
       "      <td>NaN</td>\n",
       "      <td>2.0</td>\n",
       "      <td>2.000000</td>\n",
       "      <td>...</td>\n",
       "      <td>3.000000</td>\n",
       "      <td>139.000000</td>\n",
       "      <td>1.925579</td>\n",
       "      <td>0.883417</td>\n",
       "      <td>0.885147</td>\n",
       "      <td>1.925579</td>\n",
       "      <td>1.929688</td>\n",
       "      <td>2.192586</td>\n",
       "      <td>0.989124</td>\n",
       "      <td>0.999312</td>\n",
       "    </tr>\n",
       "    <tr>\n",
       "      <th>75%</th>\n",
       "      <td>2.000000</td>\n",
       "      <td>14.000000</td>\n",
       "      <td>2.0</td>\n",
       "      <td>2.000000</td>\n",
       "      <td>3.000000</td>\n",
       "      <td>3.000000</td>\n",
       "      <td>NaN</td>\n",
       "      <td>NaN</td>\n",
       "      <td>2.0</td>\n",
       "      <td>2.000000</td>\n",
       "      <td>...</td>\n",
       "      <td>3.000000</td>\n",
       "      <td>168.000000</td>\n",
       "      <td>2.153725</td>\n",
       "      <td>0.921068</td>\n",
       "      <td>0.922429</td>\n",
       "      <td>2.153725</td>\n",
       "      <td>2.161768</td>\n",
       "      <td>2.408977</td>\n",
       "      <td>0.999089</td>\n",
       "      <td>0.999575</td>\n",
       "    </tr>\n",
       "    <tr>\n",
       "      <th>max</th>\n",
       "      <td>2.000000</td>\n",
       "      <td>16.000000</td>\n",
       "      <td>2.0</td>\n",
       "      <td>3.000000</td>\n",
       "      <td>3.000000</td>\n",
       "      <td>3.000000</td>\n",
       "      <td>NaN</td>\n",
       "      <td>NaN</td>\n",
       "      <td>2.0</td>\n",
       "      <td>8.000000</td>\n",
       "      <td>...</td>\n",
       "      <td>3.000000</td>\n",
       "      <td>203.000000</td>\n",
       "      <td>3.369463</td>\n",
       "      <td>1.000000</td>\n",
       "      <td>1.001080</td>\n",
       "      <td>3.369463</td>\n",
       "      <td>3.372642</td>\n",
       "      <td>3.652091</td>\n",
       "      <td>1.000000</td>\n",
       "      <td>1.000000</td>\n",
       "    </tr>\n",
       "  </tbody>\n",
       "</table>\n",
       "<p>8 rows × 61 columns</p>\n",
       "</div>"
      ],
      "text/plain": [
       "             HSSEX      HSAGEIR  HSAGEU     DMARACER     DMARETHN  \\\n",
       "count  2812.000000  2812.000000  2812.0  2812.000000  2812.000000   \n",
       "mean      1.522760    11.535562     2.0     1.423898     2.100640   \n",
       "std       0.499571     2.485636     0.0     0.540996     0.785523   \n",
       "min       1.000000     8.000000     2.0     1.000000     1.000000   \n",
       "25%       1.000000     9.000000     2.0     1.000000     1.000000   \n",
       "50%       2.000000    11.000000     2.0     1.000000     2.000000   \n",
       "75%       2.000000    14.000000     2.0     2.000000     3.000000   \n",
       "max       2.000000    16.000000     2.0     3.000000     3.000000   \n",
       "\n",
       "          DMAETHNR  HXPAXTMR  HXPSESSR   HYE1G         HYG2  ...  \\\n",
       "count  2812.000000       0.0       0.0  2812.0  1279.000000  ...   \n",
       "mean      2.272404       NaN       NaN     2.0     2.032838  ...   \n",
       "std       0.962354       NaN       NaN     0.0     0.442836  ...   \n",
       "min       1.000000       NaN       NaN     2.0     2.000000  ...   \n",
       "25%       1.000000       NaN       NaN     2.0     2.000000  ...   \n",
       "50%       3.000000       NaN       NaN     2.0     2.000000  ...   \n",
       "75%       3.000000       NaN       NaN     2.0     2.000000  ...   \n",
       "max       3.000000       NaN       NaN     2.0     8.000000  ...   \n",
       "\n",
       "       DMAETHNR_exam     HSAITMOR  PEFROVERFVC     FEV1OFVC    FEV1OFEV6  \\\n",
       "count    2812.000000  2812.000000  2812.000000  2812.000000  2812.000000   \n",
       "mean        2.272404   143.881223     1.946408     0.880166     0.882731   \n",
       "std         0.962354    29.997678     0.339134     0.060814     0.059107   \n",
       "min         1.000000    96.000000     0.516216     0.316216     0.413063   \n",
       "25%         1.000000   119.000000     1.705966     0.843177     0.846875   \n",
       "50%         3.000000   139.000000     1.925579     0.883417     0.885147   \n",
       "75%         3.000000   168.000000     2.153725     0.921068     0.922429   \n",
       "max         3.000000   203.000000     3.369463     1.000000     1.001080   \n",
       "\n",
       "          PEFROFVC    PEFROFEV6    PEFROFEV1     FEV3OFVC     FEV6OFVC  \n",
       "count  2812.000000  2812.000000  2812.000000  2812.000000  2812.000000  \n",
       "mean      1.946408     1.952059     2.206381     0.983931     0.996933  \n",
       "std       0.339134     0.338571     0.320986     0.019944     0.007931  \n",
       "min       0.516216     0.583065     1.127809     0.581757     0.765541  \n",
       "25%       1.705966     1.712840     1.987114     0.975569     0.997822  \n",
       "50%       1.925579     1.929688     2.192586     0.989124     0.999312  \n",
       "75%       2.153725     2.161768     2.408977     0.999089     0.999575  \n",
       "max       3.369463     3.372642     3.652091     1.000000     1.000000  \n",
       "\n",
       "[8 rows x 61 columns]"
      ]
     },
     "execution_count": 486,
     "metadata": {},
     "output_type": "execute_result"
    }
   ],
   "source": [
    "youth_final.describe()"
   ]
  },
  {
   "cell_type": "markdown",
   "metadata": {},
   "source": [
    "# Created other data bases to analyze"
   ]
  },
  {
   "cell_type": "markdown",
   "metadata": {},
   "source": [
    "# adult m20overb m20overcma f18overb f18overcma"
   ]
  },
  {
   "cell_type": "markdown",
   "metadata": {},
   "source": [
    "male 20 over. female 18 over; and cma (Caucasian-Mexican American) or b (black)\n",
    "NOT NEED m20over = adult_final.query('HSAGEIR >=20 & HSSEX == 1’)\n",
    "NOT NEED f18over = adult_final.query('HSAGEIR >=18 & HSSEX == 2’)\n",
    "m20overb  = adult_final.query(('HSAGEIR >= 20 & HSSEX == 1 & DMARETHN == 2'))\n",
    "m20overcma  = adult_final.query(('HSAGEIR >=20 & HSSEX == 1 & (DMARETHN == 1 | DMARETHN ==3)'))\n",
    "f18overcma = adult_final.query(('HSAGEIR >=18 & HSSEX == 2 & (DMARETHN == 1 | DMARETHN ==3)'))\n",
    "f18overb = adult_final.query(('HSAGEIR >=18 & HSSEX == 2 & DMARETHN == 2 '))\n",
    "m20overc  = adult_final.query(('HSAGEIR >= 20 & HSSEX == 1 & DMARETHN == 1'))\n",
    "m20overma  = adult_final.query(('HSAGEIR >= 20 & HSSEX == 1 & DMARETHN == 3'))\n",
    "f18overc = adult_final.query(('HSAGEIR >=18 & HSSEX == 2 & DMARETHN == 1 '))\n",
    "f18overma = adult_final.query(('HSAGEIR >=18 & HSSEX == 2 & DMARETHN == 3 '))\n",
    "\n",
    "DMARETHN – 1 non-Hispanic white, 2 non-hispanic black, 3 Mexican American, 4 other\n"
   ]
  },
  {
   "cell_type": "code",
   "execution_count": 707,
   "metadata": {},
   "outputs": [],
   "source": [
    "m20overb  = adult_final.query(('HSAGEIR >= 20 & HSSEX == 1 & DMARETHN == 2'))\n",
    "m20overcma  = adult_final.query(('HSAGEIR >=20 & HSSEX == 1 & (DMARETHN == 1 | DMARETHN ==3)'))\n",
    "f18overcma = adult_final.query(('HSAGEIR >=18 & HSSEX == 2 & (DMARETHN == 1 | DMARETHN ==3)'))\n",
    "f18overb = adult_final.query(('HSAGEIR >=18 & HSSEX == 2 & DMARETHN == 2 '))\n",
    "m20overc  = adult_final.query(('HSAGEIR >= 20 & HSSEX == 1 & DMARETHN == 1'))\n",
    "m20overma  = adult_final.query(('HSAGEIR >= 20 & HSSEX == 1 & DMARETHN == 3'))\n",
    "f18overc = adult_final.query(('HSAGEIR >=18 & HSSEX == 2 & DMARETHN == 1 '))\n",
    "f18overma = adult_final.query(('HSAGEIR >=18 & HSSEX == 2 & DMARETHN == 3 '))"
   ]
  },
  {
   "cell_type": "code",
   "execution_count": 616,
   "metadata": {},
   "outputs": [
    {
     "data": {
      "text/html": [
       "<div>\n",
       "<style scoped>\n",
       "    .dataframe tbody tr th:only-of-type {\n",
       "        vertical-align: middle;\n",
       "    }\n",
       "\n",
       "    .dataframe tbody tr th {\n",
       "        vertical-align: top;\n",
       "    }\n",
       "\n",
       "    .dataframe thead th {\n",
       "        text-align: right;\n",
       "    }\n",
       "</style>\n",
       "<table border=\"1\" class=\"dataframe\">\n",
       "  <thead>\n",
       "    <tr style=\"text-align: right;\">\n",
       "      <th></th>\n",
       "      <th>HAR1</th>\n",
       "      <th>HAR23</th>\n",
       "      <th>HAR26</th>\n",
       "      <th>HAC1E</th>\n",
       "      <th>HAC1F</th>\n",
       "      <th>HAC1G</th>\n",
       "      <th>HAC1O</th>\n",
       "      <th>HAL6</th>\n",
       "      <th>HAL10</th>\n",
       "      <th>HAL1</th>\n",
       "      <th>...</th>\n",
       "      <th>DMAETHNR_exam</th>\n",
       "      <th>HSAITMOR_exam</th>\n",
       "      <th>PEFROVERFVC</th>\n",
       "      <th>FEV1OFVC</th>\n",
       "      <th>FEV1OFEV6</th>\n",
       "      <th>PEFROFVC</th>\n",
       "      <th>PEFROFEV6</th>\n",
       "      <th>PEFROFEV1</th>\n",
       "      <th>FEV3OFVC</th>\n",
       "      <th>FEV6OFVC</th>\n",
       "    </tr>\n",
       "  </thead>\n",
       "  <tbody>\n",
       "    <tr>\n",
       "      <th>count</th>\n",
       "      <td>940.0</td>\n",
       "      <td>940.0</td>\n",
       "      <td>940.000000</td>\n",
       "      <td>940.0</td>\n",
       "      <td>940.0</td>\n",
       "      <td>940.0</td>\n",
       "      <td>940.0</td>\n",
       "      <td>940.0</td>\n",
       "      <td>940.000000</td>\n",
       "      <td>940.0</td>\n",
       "      <td>...</td>\n",
       "      <td>940.0</td>\n",
       "      <td>940.000000</td>\n",
       "      <td>940.000000</td>\n",
       "      <td>940.000000</td>\n",
       "      <td>940.000000</td>\n",
       "      <td>940.000000</td>\n",
       "      <td>940.000000</td>\n",
       "      <td>940.000000</td>\n",
       "      <td>940.000000</td>\n",
       "      <td>940.000000</td>\n",
       "    </tr>\n",
       "    <tr>\n",
       "      <th>mean</th>\n",
       "      <td>2.0</td>\n",
       "      <td>2.0</td>\n",
       "      <td>2.006383</td>\n",
       "      <td>2.0</td>\n",
       "      <td>2.0</td>\n",
       "      <td>2.0</td>\n",
       "      <td>2.0</td>\n",
       "      <td>2.0</td>\n",
       "      <td>2.001064</td>\n",
       "      <td>2.0</td>\n",
       "      <td>...</td>\n",
       "      <td>3.0</td>\n",
       "      <td>454.567021</td>\n",
       "      <td>2.126010</td>\n",
       "      <td>0.840877</td>\n",
       "      <td>0.849786</td>\n",
       "      <td>2.126010</td>\n",
       "      <td>2.149114</td>\n",
       "      <td>2.527313</td>\n",
       "      <td>1.161886</td>\n",
       "      <td>1.192515</td>\n",
       "    </tr>\n",
       "    <tr>\n",
       "      <th>std</th>\n",
       "      <td>0.0</td>\n",
       "      <td>0.0</td>\n",
       "      <td>0.195698</td>\n",
       "      <td>0.0</td>\n",
       "      <td>0.0</td>\n",
       "      <td>0.0</td>\n",
       "      <td>0.0</td>\n",
       "      <td>0.0</td>\n",
       "      <td>0.208955</td>\n",
       "      <td>0.0</td>\n",
       "      <td>...</td>\n",
       "      <td>0.0</td>\n",
       "      <td>365.326660</td>\n",
       "      <td>0.401784</td>\n",
       "      <td>0.073238</td>\n",
       "      <td>0.083404</td>\n",
       "      <td>0.401784</td>\n",
       "      <td>0.424178</td>\n",
       "      <td>0.426289</td>\n",
       "      <td>3.257199</td>\n",
       "      <td>3.255036</td>\n",
       "    </tr>\n",
       "    <tr>\n",
       "      <th>min</th>\n",
       "      <td>2.0</td>\n",
       "      <td>2.0</td>\n",
       "      <td>2.000000</td>\n",
       "      <td>2.0</td>\n",
       "      <td>2.0</td>\n",
       "      <td>2.0</td>\n",
       "      <td>2.0</td>\n",
       "      <td>2.0</td>\n",
       "      <td>1.000000</td>\n",
       "      <td>2.0</td>\n",
       "      <td>...</td>\n",
       "      <td>3.0</td>\n",
       "      <td>216.000000</td>\n",
       "      <td>0.814485</td>\n",
       "      <td>0.539349</td>\n",
       "      <td>0.014996</td>\n",
       "      <td>0.814485</td>\n",
       "      <td>0.041007</td>\n",
       "      <td>1.252341</td>\n",
       "      <td>0.763021</td>\n",
       "      <td>0.831153</td>\n",
       "    </tr>\n",
       "    <tr>\n",
       "      <th>25%</th>\n",
       "      <td>2.0</td>\n",
       "      <td>2.0</td>\n",
       "      <td>2.000000</td>\n",
       "      <td>2.0</td>\n",
       "      <td>2.0</td>\n",
       "      <td>2.0</td>\n",
       "      <td>2.0</td>\n",
       "      <td>2.0</td>\n",
       "      <td>2.000000</td>\n",
       "      <td>2.0</td>\n",
       "      <td>...</td>\n",
       "      <td>3.0</td>\n",
       "      <td>290.000000</td>\n",
       "      <td>1.877464</td>\n",
       "      <td>0.796417</td>\n",
       "      <td>0.816220</td>\n",
       "      <td>1.877464</td>\n",
       "      <td>1.904474</td>\n",
       "      <td>2.242164</td>\n",
       "      <td>0.930757</td>\n",
       "      <td>0.976982</td>\n",
       "    </tr>\n",
       "    <tr>\n",
       "      <th>50%</th>\n",
       "      <td>2.0</td>\n",
       "      <td>2.0</td>\n",
       "      <td>2.000000</td>\n",
       "      <td>2.0</td>\n",
       "      <td>2.0</td>\n",
       "      <td>2.0</td>\n",
       "      <td>2.0</td>\n",
       "      <td>2.0</td>\n",
       "      <td>2.000000</td>\n",
       "      <td>2.0</td>\n",
       "      <td>...</td>\n",
       "      <td>3.0</td>\n",
       "      <td>402.500000</td>\n",
       "      <td>2.123378</td>\n",
       "      <td>0.844470</td>\n",
       "      <td>0.855362</td>\n",
       "      <td>2.123378</td>\n",
       "      <td>2.150048</td>\n",
       "      <td>2.506843</td>\n",
       "      <td>0.961484</td>\n",
       "      <td>0.994880</td>\n",
       "    </tr>\n",
       "    <tr>\n",
       "      <th>75%</th>\n",
       "      <td>2.0</td>\n",
       "      <td>2.0</td>\n",
       "      <td>2.000000</td>\n",
       "      <td>2.0</td>\n",
       "      <td>2.0</td>\n",
       "      <td>2.0</td>\n",
       "      <td>2.0</td>\n",
       "      <td>2.0</td>\n",
       "      <td>2.000000</td>\n",
       "      <td>2.0</td>\n",
       "      <td>...</td>\n",
       "      <td>3.0</td>\n",
       "      <td>535.250000</td>\n",
       "      <td>2.366512</td>\n",
       "      <td>0.889319</td>\n",
       "      <td>0.893043</td>\n",
       "      <td>2.366512</td>\n",
       "      <td>2.396010</td>\n",
       "      <td>2.790748</td>\n",
       "      <td>0.989477</td>\n",
       "      <td>0.999417</td>\n",
       "    </tr>\n",
       "    <tr>\n",
       "      <th>max</th>\n",
       "      <td>2.0</td>\n",
       "      <td>2.0</td>\n",
       "      <td>8.000000</td>\n",
       "      <td>2.0</td>\n",
       "      <td>2.0</td>\n",
       "      <td>2.0</td>\n",
       "      <td>2.0</td>\n",
       "      <td>2.0</td>\n",
       "      <td>8.000000</td>\n",
       "      <td>2.0</td>\n",
       "      <td>...</td>\n",
       "      <td>3.0</td>\n",
       "      <td>9999.000000</td>\n",
       "      <td>3.583281</td>\n",
       "      <td>1.000000</td>\n",
       "      <td>1.000000</td>\n",
       "      <td>3.583281</td>\n",
       "      <td>3.588963</td>\n",
       "      <td>4.029915</td>\n",
       "      <td>66.682671</td>\n",
       "      <td>66.682671</td>\n",
       "    </tr>\n",
       "  </tbody>\n",
       "</table>\n",
       "<p>8 rows × 68 columns</p>\n",
       "</div>"
      ],
      "text/plain": [
       "        HAR1  HAR23       HAR26  HAC1E  HAC1F  HAC1G  HAC1O   HAL6  \\\n",
       "count  940.0  940.0  940.000000  940.0  940.0  940.0  940.0  940.0   \n",
       "mean     2.0    2.0    2.006383    2.0    2.0    2.0    2.0    2.0   \n",
       "std      0.0    0.0    0.195698    0.0    0.0    0.0    0.0    0.0   \n",
       "min      2.0    2.0    2.000000    2.0    2.0    2.0    2.0    2.0   \n",
       "25%      2.0    2.0    2.000000    2.0    2.0    2.0    2.0    2.0   \n",
       "50%      2.0    2.0    2.000000    2.0    2.0    2.0    2.0    2.0   \n",
       "75%      2.0    2.0    2.000000    2.0    2.0    2.0    2.0    2.0   \n",
       "max      2.0    2.0    8.000000    2.0    2.0    2.0    2.0    2.0   \n",
       "\n",
       "            HAL10   HAL1  ...  DMAETHNR_exam  HSAITMOR_exam  PEFROVERFVC  \\\n",
       "count  940.000000  940.0  ...          940.0     940.000000   940.000000   \n",
       "mean     2.001064    2.0  ...            3.0     454.567021     2.126010   \n",
       "std      0.208955    0.0  ...            0.0     365.326660     0.401784   \n",
       "min      1.000000    2.0  ...            3.0     216.000000     0.814485   \n",
       "25%      2.000000    2.0  ...            3.0     290.000000     1.877464   \n",
       "50%      2.000000    2.0  ...            3.0     402.500000     2.123378   \n",
       "75%      2.000000    2.0  ...            3.0     535.250000     2.366512   \n",
       "max      8.000000    2.0  ...            3.0    9999.000000     3.583281   \n",
       "\n",
       "         FEV1OFVC   FEV1OFEV6    PEFROFVC   PEFROFEV6   PEFROFEV1    FEV3OFVC  \\\n",
       "count  940.000000  940.000000  940.000000  940.000000  940.000000  940.000000   \n",
       "mean     0.840877    0.849786    2.126010    2.149114    2.527313    1.161886   \n",
       "std      0.073238    0.083404    0.401784    0.424178    0.426289    3.257199   \n",
       "min      0.539349    0.014996    0.814485    0.041007    1.252341    0.763021   \n",
       "25%      0.796417    0.816220    1.877464    1.904474    2.242164    0.930757   \n",
       "50%      0.844470    0.855362    2.123378    2.150048    2.506843    0.961484   \n",
       "75%      0.889319    0.893043    2.366512    2.396010    2.790748    0.989477   \n",
       "max      1.000000    1.000000    3.583281    3.588963    4.029915   66.682671   \n",
       "\n",
       "         FEV6OFVC  \n",
       "count  940.000000  \n",
       "mean     1.192515  \n",
       "std      3.255036  \n",
       "min      0.831153  \n",
       "25%      0.976982  \n",
       "50%      0.994880  \n",
       "75%      0.999417  \n",
       "max     66.682671  \n",
       "\n",
       "[8 rows x 68 columns]"
      ]
     },
     "execution_count": 616,
     "metadata": {},
     "output_type": "execute_result"
    }
   ],
   "source": [
    "f18overb.describe()"
   ]
  },
  {
   "cell_type": "markdown",
   "metadata": {},
   "source": [
    "## Make dataframes mlt20 and flt18 for b, c, ma and cma combining adult final and youth final"
   ]
  },
  {
   "cell_type": "markdown",
   "metadata": {},
   "source": [
    "male<20,female<18\n",
    "mlt20b = pd.concat([adult_final.query(('HSAGEIR < 20 & HSSEX == 1 & DMARETHN == 2 ')), youth_final.query(('HSSEX == 1 & DMARETHN == 2'))])\n",
    "mlt20cma = pd.concat([adult_final.query(('HSAGEIR < 20 & HSSEX == 1 & (DMARETHN == 1 | DMARETHN == 3) ')), youth_final.query(('HSSEX == 1 & (DMARETHN == 1 | DMARETHN == 3)'))])\n",
    "flt18b = pd.concat([adult_final.query(('HSAGEIR < 18 & HSSEX == 2 & DMARETHN == 2 ')), youth_final.query(('HSSEX == 2 & DMARETHN == 2'))])\n",
    "flt18cma = pd.concat([adult_final.query(('HSAGEIR < 18 & HSSEX == 2 & (DMARETHN == 1 | DMARETHN == 3) ')), youth_final.query(('HSSEX == 2 & (DMARETHN == 1 | DMARETHN == 3)'))])\n",
    "mlt20c = pd.concat([adult_final.query(('HSAGEIR < 20 & HSSEX == 1 & DMARETHN == 1 ')), youth_final.query(('HSSEX == 1 & DMARETHN == 1'))])\n",
    "mlt20ma = pd.concat([adult_final.query(('HSAGEIR < 20 & HSSEX == 1 & DMARETHN == 3 ')), youth_final.query(('HSSEX == 1 & DMARETHN == 3'))])\n",
    "flt18c = pd.concat([adult_final.query(('HSAGEIR < 18 & HSSEX == 2 & DMARETHN == 1 ')), youth_final.query(('HSSEX == 2 & DMARETHN == 1'))])\n",
    "flt18ma = pd.concat([adult_final.query(('HSAGEIR < 18 & HSSEX == 2 & DMARETHN == 3 ')), youth_final.query(('HSSEX == 2 & DMARETHN == 3'))])\n",
    "\n",
    "DMARETHN – 1 non-Hispanic white, 2 non-hispanic black, 3 Mexican American, 4 other"
   ]
  },
  {
   "cell_type": "code",
   "execution_count": 706,
   "metadata": {},
   "outputs": [],
   "source": [
    "mlt20b = pd.concat([adult_final.query(('HSAGEIR < 20 & HSSEX == 1 & DMARETHN == 2 ')), youth_final.query(('HSSEX == 1 & DMARETHN == 2'))])\n",
    "mlt20cma = pd.concat([adult_final.query(('HSAGEIR < 20 & HSSEX == 1 & (DMARETHN == 1 | DMARETHN == 3) ')), youth_final.query(('HSSEX == 1 & (DMARETHN == 1 | DMARETHN == 3)'))])\n",
    "flt18b = pd.concat([adult_final.query(('HSAGEIR < 18 & HSSEX == 2 & DMARETHN == 2 ')), youth_final.query(('HSSEX == 2 & DMARETHN == 2'))])\n",
    "flt18cma = pd.concat([adult_final.query(('HSAGEIR < 18 & HSSEX == 2 & (DMARETHN == 1 | DMARETHN == 3) ')), youth_final.query(('HSSEX == 2 & (DMARETHN == 1 | DMARETHN == 3)'))])\n",
    "mlt20c = pd.concat([adult_final.query(('HSAGEIR < 20 & HSSEX == 1 & DMARETHN == 1 ')), youth_final.query(('HSSEX == 1 & DMARETHN == 1'))])\n",
    "mlt20ma = pd.concat([adult_final.query(('HSAGEIR < 20 & HSSEX == 1 & DMARETHN == 3 ')), youth_final.query(('HSSEX == 1 & DMARETHN == 3'))])\n",
    "flt18c = pd.concat([adult_final.query(('HSAGEIR < 18 & HSSEX == 2 & DMARETHN == 1 ')), youth_final.query(('HSSEX == 2 & DMARETHN == 1'))])\n",
    "flt18ma = pd.concat([adult_final.query(('HSAGEIR < 18 & HSSEX == 2 & DMARETHN == 3 ')), youth_final.query(('HSSEX == 2 & DMARETHN == 3'))])"
   ]
  },
  {
   "cell_type": "code",
   "execution_count": 615,
   "metadata": {},
   "outputs": [
    {
     "data": {
      "text/html": [
       "<div>\n",
       "<style scoped>\n",
       "    .dataframe tbody tr th:only-of-type {\n",
       "        vertical-align: middle;\n",
       "    }\n",
       "\n",
       "    .dataframe tbody tr th {\n",
       "        vertical-align: top;\n",
       "    }\n",
       "\n",
       "    .dataframe thead th {\n",
       "        text-align: right;\n",
       "    }\n",
       "</style>\n",
       "<table border=\"1\" class=\"dataframe\">\n",
       "  <thead>\n",
       "    <tr style=\"text-align: right;\">\n",
       "      <th></th>\n",
       "      <th>HAR1</th>\n",
       "      <th>HAR23</th>\n",
       "      <th>HAR26</th>\n",
       "      <th>HAC1E</th>\n",
       "      <th>HAC1F</th>\n",
       "      <th>HAC1G</th>\n",
       "      <th>HAC1O</th>\n",
       "      <th>HAL6</th>\n",
       "      <th>HAL10</th>\n",
       "      <th>HAL1</th>\n",
       "      <th>...</th>\n",
       "      <th>PEFROFEV1</th>\n",
       "      <th>FEV3OFVC</th>\n",
       "      <th>FEV6OFVC</th>\n",
       "      <th>HYE1G</th>\n",
       "      <th>HYG2</th>\n",
       "      <th>HYG4</th>\n",
       "      <th>HYG7</th>\n",
       "      <th>HYG12</th>\n",
       "      <th>HYG8</th>\n",
       "      <th>HYE1H</th>\n",
       "    </tr>\n",
       "  </thead>\n",
       "  <tbody>\n",
       "    <tr>\n",
       "      <th>count</th>\n",
       "      <td>120.0</td>\n",
       "      <td>120.0</td>\n",
       "      <td>120.0</td>\n",
       "      <td>120.0</td>\n",
       "      <td>120.0</td>\n",
       "      <td>120.0</td>\n",
       "      <td>120.0</td>\n",
       "      <td>120.0</td>\n",
       "      <td>120.000000</td>\n",
       "      <td>120.0</td>\n",
       "      <td>...</td>\n",
       "      <td>1590.000000</td>\n",
       "      <td>1590.000000</td>\n",
       "      <td>1590.000000</td>\n",
       "      <td>1470.0</td>\n",
       "      <td>693.000000</td>\n",
       "      <td>693.000000</td>\n",
       "      <td>150.000000</td>\n",
       "      <td>1470.0</td>\n",
       "      <td>1470.0</td>\n",
       "      <td>1470.0</td>\n",
       "    </tr>\n",
       "    <tr>\n",
       "      <th>mean</th>\n",
       "      <td>2.0</td>\n",
       "      <td>2.0</td>\n",
       "      <td>2.0</td>\n",
       "      <td>2.0</td>\n",
       "      <td>2.0</td>\n",
       "      <td>2.0</td>\n",
       "      <td>2.0</td>\n",
       "      <td>2.0</td>\n",
       "      <td>1.991667</td>\n",
       "      <td>2.0</td>\n",
       "      <td>...</td>\n",
       "      <td>2.216805</td>\n",
       "      <td>0.986429</td>\n",
       "      <td>0.997198</td>\n",
       "      <td>2.0</td>\n",
       "      <td>2.025974</td>\n",
       "      <td>2.025974</td>\n",
       "      <td>37.573333</td>\n",
       "      <td>2.0</td>\n",
       "      <td>2.0</td>\n",
       "      <td>2.0</td>\n",
       "    </tr>\n",
       "    <tr>\n",
       "      <th>std</th>\n",
       "      <td>0.0</td>\n",
       "      <td>0.0</td>\n",
       "      <td>0.0</td>\n",
       "      <td>0.0</td>\n",
       "      <td>0.0</td>\n",
       "      <td>0.0</td>\n",
       "      <td>0.0</td>\n",
       "      <td>0.0</td>\n",
       "      <td>0.091287</td>\n",
       "      <td>0.0</td>\n",
       "      <td>...</td>\n",
       "      <td>0.334733</td>\n",
       "      <td>0.020664</td>\n",
       "      <td>0.008971</td>\n",
       "      <td>0.0</td>\n",
       "      <td>0.394200</td>\n",
       "      <td>0.394200</td>\n",
       "      <td>174.180434</td>\n",
       "      <td>0.0</td>\n",
       "      <td>0.0</td>\n",
       "      <td>0.0</td>\n",
       "    </tr>\n",
       "    <tr>\n",
       "      <th>min</th>\n",
       "      <td>2.0</td>\n",
       "      <td>2.0</td>\n",
       "      <td>2.0</td>\n",
       "      <td>2.0</td>\n",
       "      <td>2.0</td>\n",
       "      <td>2.0</td>\n",
       "      <td>2.0</td>\n",
       "      <td>2.0</td>\n",
       "      <td>1.000000</td>\n",
       "      <td>2.0</td>\n",
       "      <td>...</td>\n",
       "      <td>1.127809</td>\n",
       "      <td>0.581757</td>\n",
       "      <td>0.765541</td>\n",
       "      <td>2.0</td>\n",
       "      <td>2.000000</td>\n",
       "      <td>2.000000</td>\n",
       "      <td>1.000000</td>\n",
       "      <td>2.0</td>\n",
       "      <td>2.0</td>\n",
       "      <td>2.0</td>\n",
       "    </tr>\n",
       "    <tr>\n",
       "      <th>25%</th>\n",
       "      <td>2.0</td>\n",
       "      <td>2.0</td>\n",
       "      <td>2.0</td>\n",
       "      <td>2.0</td>\n",
       "      <td>2.0</td>\n",
       "      <td>2.0</td>\n",
       "      <td>2.0</td>\n",
       "      <td>2.0</td>\n",
       "      <td>2.000000</td>\n",
       "      <td>2.0</td>\n",
       "      <td>...</td>\n",
       "      <td>1.994631</td>\n",
       "      <td>0.979402</td>\n",
       "      <td>0.998734</td>\n",
       "      <td>2.0</td>\n",
       "      <td>2.000000</td>\n",
       "      <td>2.000000</td>\n",
       "      <td>1.000000</td>\n",
       "      <td>2.0</td>\n",
       "      <td>2.0</td>\n",
       "      <td>2.0</td>\n",
       "    </tr>\n",
       "    <tr>\n",
       "      <th>50%</th>\n",
       "      <td>2.0</td>\n",
       "      <td>2.0</td>\n",
       "      <td>2.0</td>\n",
       "      <td>2.0</td>\n",
       "      <td>2.0</td>\n",
       "      <td>2.0</td>\n",
       "      <td>2.0</td>\n",
       "      <td>2.0</td>\n",
       "      <td>2.000000</td>\n",
       "      <td>2.0</td>\n",
       "      <td>...</td>\n",
       "      <td>2.202700</td>\n",
       "      <td>0.992719</td>\n",
       "      <td>0.999353</td>\n",
       "      <td>2.0</td>\n",
       "      <td>2.000000</td>\n",
       "      <td>2.000000</td>\n",
       "      <td>2.000000</td>\n",
       "      <td>2.0</td>\n",
       "      <td>2.0</td>\n",
       "      <td>2.0</td>\n",
       "    </tr>\n",
       "    <tr>\n",
       "      <th>75%</th>\n",
       "      <td>2.0</td>\n",
       "      <td>2.0</td>\n",
       "      <td>2.0</td>\n",
       "      <td>2.0</td>\n",
       "      <td>2.0</td>\n",
       "      <td>2.0</td>\n",
       "      <td>2.0</td>\n",
       "      <td>2.0</td>\n",
       "      <td>2.000000</td>\n",
       "      <td>2.0</td>\n",
       "      <td>...</td>\n",
       "      <td>2.418187</td>\n",
       "      <td>0.999312</td>\n",
       "      <td>0.999594</td>\n",
       "      <td>2.0</td>\n",
       "      <td>2.000000</td>\n",
       "      <td>2.000000</td>\n",
       "      <td>3.000000</td>\n",
       "      <td>2.0</td>\n",
       "      <td>2.0</td>\n",
       "      <td>2.0</td>\n",
       "    </tr>\n",
       "    <tr>\n",
       "      <th>max</th>\n",
       "      <td>2.0</td>\n",
       "      <td>2.0</td>\n",
       "      <td>2.0</td>\n",
       "      <td>2.0</td>\n",
       "      <td>2.0</td>\n",
       "      <td>2.0</td>\n",
       "      <td>2.0</td>\n",
       "      <td>2.0</td>\n",
       "      <td>2.000000</td>\n",
       "      <td>2.0</td>\n",
       "      <td>...</td>\n",
       "      <td>3.652091</td>\n",
       "      <td>1.000000</td>\n",
       "      <td>1.000000</td>\n",
       "      <td>2.0</td>\n",
       "      <td>8.000000</td>\n",
       "      <td>8.000000</td>\n",
       "      <td>888.000000</td>\n",
       "      <td>2.0</td>\n",
       "      <td>2.0</td>\n",
       "      <td>2.0</td>\n",
       "    </tr>\n",
       "  </tbody>\n",
       "</table>\n",
       "<p>8 rows × 75 columns</p>\n",
       "</div>"
      ],
      "text/plain": [
       "        HAR1  HAR23  HAR26  HAC1E  HAC1F  HAC1G  HAC1O   HAL6       HAL10  \\\n",
       "count  120.0  120.0  120.0  120.0  120.0  120.0  120.0  120.0  120.000000   \n",
       "mean     2.0    2.0    2.0    2.0    2.0    2.0    2.0    2.0    1.991667   \n",
       "std      0.0    0.0    0.0    0.0    0.0    0.0    0.0    0.0    0.091287   \n",
       "min      2.0    2.0    2.0    2.0    2.0    2.0    2.0    2.0    1.000000   \n",
       "25%      2.0    2.0    2.0    2.0    2.0    2.0    2.0    2.0    2.000000   \n",
       "50%      2.0    2.0    2.0    2.0    2.0    2.0    2.0    2.0    2.000000   \n",
       "75%      2.0    2.0    2.0    2.0    2.0    2.0    2.0    2.0    2.000000   \n",
       "max      2.0    2.0    2.0    2.0    2.0    2.0    2.0    2.0    2.000000   \n",
       "\n",
       "        HAL1  ...    PEFROFEV1     FEV3OFVC     FEV6OFVC   HYE1G        HYG2  \\\n",
       "count  120.0  ...  1590.000000  1590.000000  1590.000000  1470.0  693.000000   \n",
       "mean     2.0  ...     2.216805     0.986429     0.997198     2.0    2.025974   \n",
       "std      0.0  ...     0.334733     0.020664     0.008971     0.0    0.394200   \n",
       "min      2.0  ...     1.127809     0.581757     0.765541     2.0    2.000000   \n",
       "25%      2.0  ...     1.994631     0.979402     0.998734     2.0    2.000000   \n",
       "50%      2.0  ...     2.202700     0.992719     0.999353     2.0    2.000000   \n",
       "75%      2.0  ...     2.418187     0.999312     0.999594     2.0    2.000000   \n",
       "max      2.0  ...     3.652091     1.000000     1.000000     2.0    8.000000   \n",
       "\n",
       "             HYG4        HYG7   HYG12    HYG8   HYE1H  \n",
       "count  693.000000  150.000000  1470.0  1470.0  1470.0  \n",
       "mean     2.025974   37.573333     2.0     2.0     2.0  \n",
       "std      0.394200  174.180434     0.0     0.0     0.0  \n",
       "min      2.000000    1.000000     2.0     2.0     2.0  \n",
       "25%      2.000000    1.000000     2.0     2.0     2.0  \n",
       "50%      2.000000    2.000000     2.0     2.0     2.0  \n",
       "75%      2.000000    3.000000     2.0     2.0     2.0  \n",
       "max      8.000000  888.000000     2.0     2.0     2.0  \n",
       "\n",
       "[8 rows x 75 columns]"
      ]
     },
     "execution_count": 615,
     "metadata": {},
     "output_type": "execute_result"
    }
   ],
   "source": [
    "flt18.describe()"
   ]
  },
  {
   "cell_type": "markdown",
   "metadata": {},
   "source": [
    "# Create data bases for all male/female cma, black for ratios"
   ]
  },
  {
   "cell_type": "markdown",
   "metadata": {},
   "source": [
    "Groups for ratios\n",
    "All male cma  mallcma = pd.concat([m20overcma, mlt20cma])\n",
    "All male black  mallb = pd.concat([m20overb, mlt20b])\n",
    "All female cma  fallcma = pd.concat([f18overcma, flt18cma])\n",
    "All female black  fallb = pd.concat([f18overb, flt18b])\n",
    "All male c  mallc = pd.concat([m20overc, mlt20c])\n",
    "All male ma  mallma = pd.concat([m20overma, mlt20ma])\n",
    "All female c  fallc = pd.concat([f18overc, flt18c])\n",
    "All female ma  fallma = pd.concat([f18overma, flt18ma])"
   ]
  },
  {
   "cell_type": "code",
   "execution_count": 708,
   "metadata": {},
   "outputs": [],
   "source": [
    "mallcma = pd.concat([m20overcma, mlt20cma])\n",
    "mallb = pd.concat([m20overb, mlt20b])\n",
    "fallcma = pd.concat([f18overcma, flt18cma])\n",
    "fallb = pd.concat([f18overb, flt18b])\n",
    "mallc = pd.concat([m20overc, mlt20c])\n",
    "mallma = pd.concat([m20overma, mlt20ma])\n",
    "fallc = pd.concat([f18overc, flt18c])\n",
    "fallma = pd.concat([f18overma, flt18ma])"
   ]
  },
  {
   "cell_type": "markdown",
   "metadata": {},
   "source": [
    "## Check variable created"
   ]
  },
  {
   "cell_type": "code",
   "execution_count": 608,
   "metadata": {},
   "outputs": [
    {
     "data": {
      "text/plain": [
       "<matplotlib.axes._subplots.AxesSubplot at 0x10e691ad0>"
      ]
     },
     "execution_count": 608,
     "metadata": {},
     "output_type": "execute_result"
    },
    {
     "data": {
      "image/png": "[encoded data removed]",
      "text/plain": [
       "<Figure size 432x288 with 1 Axes>"
      ]
     },
     "metadata": {
      "needs_background": "light"
     },
     "output_type": "display_data"
    }
   ],
   "source": [
    "flt18b.SPPFEV1.hist(bins='auto')"
   ]
  },
  {
   "cell_type": "code",
   "execution_count": 609,
   "metadata": {},
   "outputs": [
    {
     "data": {
      "text/plain": [
       "<matplotlib.axes._subplots.AxesSubplot at 0x112be6e10>"
      ]
     },
     "execution_count": 609,
     "metadata": {},
     "output_type": "execute_result"
    },
    {
     "data": {
      "image/png": "[encoded data removed]",
      "text/plain": [
       "<Figure size 432x288 with 1 Axes>"
      ]
     },
     "metadata": {
      "needs_background": "light"
     },
     "output_type": "display_data"
    }
   ],
   "source": [
    "flt18b.PEFROFVC.hist(bins='auto', range=(0,5))"
   ]
  },
  {
   "cell_type": "code",
   "execution_count": 610,
   "metadata": {},
   "outputs": [
    {
     "data": {
      "text/plain": [
       "<matplotlib.axes._subplots.AxesSubplot at 0x110dbef50>"
      ]
     },
     "execution_count": 610,
     "metadata": {},
     "output_type": "execute_result"
    },
    {
     "data": {
      "image/png": "[encoded data removed]",
      "text/plain": [
       "<Figure size 432x288 with 1 Axes>"
      ]
     },
     "metadata": {
      "needs_background": "light"
     },
     "output_type": "display_data"
    }
   ],
   "source": [
    "flt18b.HSAITMOR.hist(bins='auto', range=(0,300))"
   ]
  },
  {
   "cell_type": "code",
   "execution_count": 611,
   "metadata": {},
   "outputs": [
    {
     "data": {
      "text/plain": [
       "<matplotlib.axes._subplots.AxesSubplot at 0x1119b6250>"
      ]
     },
     "execution_count": 611,
     "metadata": {},
     "output_type": "execute_result"
    },
    {
     "data": {
      "image/png": "[encoded data removed]",
      "text/plain": [
       "<Figure size 432x288 with 1 Axes>"
      ]
     },
     "metadata": {
      "needs_background": "light"
     },
     "output_type": "display_data"
    }
   ],
   "source": [
    "flt18b.BMPHT.hist(bins='auto', range=(0,300))"
   ]
  },
  {
   "cell_type": "markdown",
   "metadata": {},
   "source": [
    "## Frames to Analyze"
   ]
  },
  {
   "cell_type": "markdown",
   "metadata": {},
   "source": [
    "framestoanalyze = [m20overb, m20overcma, m20overc, m20overma, f18overb, f18overcma, f18overc, f18overma, \n",
    "                   mlt20b, mlt20cma, mlt20c, mlt20ma, flt18b, flt18cma, flt18c, flt18ma, \n",
    "                   mallcma, mallb, mallc, mallma, fallcma, fallb, fallc, fallma]"
   ]
  },
  {
   "cell_type": "code",
   "execution_count": 712,
   "metadata": {},
   "outputs": [],
   "source": [
    "framestoanalyze = [m20overb, m20overcma, m20overc, m20overma, f18overb, f18overcma, f18overc, f18overma, \n",
    "                   mlt20b, mlt20cma, mlt20c, mlt20ma, flt18b, flt18cma, flt18c, flt18ma, \n",
    "                   mallcma, mallb, mallc, mallma, fallcma, fallb, fallc, fallma]"
   ]
  },
  {
   "cell_type": "markdown",
   "metadata": {},
   "source": [
    "HAD BEEN. framestoanalyze = [m20overb, m20overcma, f18overb, f18overcma, mlt20b, mlt20cma, flt18b, flt18cma, mallcma, mallb, fallcma, fallb]\n"
   ]
  },
  {
   "cell_type": "markdown",
   "metadata": {},
   "source": [
    "# framesto analyze names"
   ]
  },
  {
   "cell_type": "markdown",
   "metadata": {},
   "source": [
    "m20overb.name = 'm20overb'\n",
    "m20overcma.name = 'm20overcma'\n",
    "f18overb.name = 'f18overb'\n",
    "f18overcma.name = 'f18overcma'\n",
    "mlt20b.name = 'mlt20b'\n",
    "mlt20cma.name = 'mlt20cma'\n",
    "flt18b.name = 'flt18b'\n",
    "flt18cma.name = 'flt18cma'\n",
    "mallcma.name = 'mallcma'\n",
    "mallb.name = 'mallb'\n",
    "fallcma.name = 'fallcma'\n",
    "fallb.name = 'fallb'\n",
    "m20overc.name = 'm20overc'\n",
    "m20overma.name = 'm20ovecma'\n",
    "f18overc.name = 'f18overc'\n",
    "f18overma.name = 'f18overma'\n",
    "mlt20c.name = 'mlt20c'\n",
    "mlt20ma.name = 'mlt20ma'\n",
    "flt18c.name = 'flt18c'\n",
    "flt18ma.name = 'flt18ma'\n",
    "mallma.name = 'mallma'\n",
    "mallc.name = 'mallc'\n",
    "fallma.name = 'fallma'\n",
    "fallc.name = 'fallc'"
   ]
  },
  {
   "cell_type": "code",
   "execution_count": 714,
   "metadata": {},
   "outputs": [],
   "source": [
    "m20overb.name = 'm20overb'\n",
    "m20overcma.name = 'm20overcma'\n",
    "f18overb.name = 'f18overb'\n",
    "f18overcma.name = 'f18overcma'\n",
    "mlt20b.name = 'mlt20b'\n",
    "mlt20cma.name = 'mlt20cma'\n",
    "flt18b.name = 'flt18b'\n",
    "flt18cma.name = 'flt18cma'\n",
    "mallcma.name = 'mallcma'\n",
    "mallb.name = 'mallb'\n",
    "fallcma.name = 'fallcma'\n",
    "fallb.name = 'fallb'\n",
    "m20overc.name = 'm20overc'\n",
    "m20overma.name = 'm20ovecma'\n",
    "f18overc.name = 'f18overc'\n",
    "f18overma.name = 'f18overma'\n",
    "mlt20c.name = 'mlt20c'\n",
    "mlt20ma.name = 'mlt20ma'\n",
    "flt18c.name = 'flt18c'\n",
    "flt18ma.name = 'flt18ma'\n",
    "mallma.name = 'mallma'\n",
    "mallc.name = 'mallc'\n",
    "fallma.name = 'fallma'\n",
    "fallc.name = 'fallc'"
   ]
  },
  {
   "cell_type": "markdown",
   "metadata": {},
   "source": [
    "## Variables non-ratio"
   ]
  },
  {
   "cell_type": "markdown",
   "metadata": {},
   "source": [
    "varsnonratio = [ 'SPPFEV1', 'SPPFEV3', 'SPPFEV6', 'SPPFVC','SPPPEAK','SPPMMEF', 'SPPFEF75', 'SPPEXPIR']"
   ]
  },
  {
   "cell_type": "code",
   "execution_count": 542,
   "metadata": {},
   "outputs": [],
   "source": [
    "varsnonratio = [ 'SPPFEV1', 'SPPFEV3', 'SPPFEV6', 'SPPFVC','SPPPEAK','SPPMMEF', 'SPPFEF75', 'SPPEXPIR']"
   ]
  },
  {
   "cell_type": "code",
   "execution_count": 543,
   "metadata": {},
   "outputs": [
    {
     "name": "stdout",
     "output_type": "stream",
     "text": [
      "SPPFEV1\n"
     ]
    }
   ],
   "source": [
    "print (varsnonratio[0])"
   ]
  },
  {
   "cell_type": "markdown",
   "metadata": {},
   "source": [
    "## Variables ratio"
   ]
  },
  {
   "cell_type": "markdown",
   "metadata": {},
   "source": [
    "varsratio = ['FEV1OFVC', 'FEV1OFEV6', 'PEFROFVC', 'PEFROFEV6', 'PEFROFEV1', 'FEV3OFVC', 'FEV6OFVC']"
   ]
  },
  {
   "cell_type": "code",
   "execution_count": 544,
   "metadata": {},
   "outputs": [],
   "source": [
    "varsratio= ['FEV1OFVC', 'FEV1OFEV6', 'PEFROFVC', 'PEFROFEV6', 'PEFROFEV1', 'FEV3OFVC', 'FEV6OFVC']"
   ]
  },
  {
   "cell_type": "markdown",
   "metadata": {},
   "source": [
    "## Now fit curves"
   ]
  },
  {
   "cell_type": "markdown",
   "metadata": {},
   "source": [
    "using example in lmfit.github.io/lmfit-py/model.html"
   ]
  },
  {
   "cell_type": "markdown",
   "metadata": {},
   "source": [
    "import matplotlib.pyplot as plt"
   ]
  },
  {
   "cell_type": "code",
   "execution_count": 511,
   "metadata": {},
   "outputs": [],
   "source": [
    "import matplotlib.pyplot as plt"
   ]
  },
  {
   "cell_type": "markdown",
   "metadata": {},
   "source": [
    "from sklearn.linear_model import LinearRegression"
   ]
  },
  {
   "cell_type": "code",
   "execution_count": 512,
   "metadata": {},
   "outputs": [],
   "source": [
    "from sklearn.linear_model import LinearRegression"
   ]
  },
  {
   "cell_type": "markdown",
   "metadata": {},
   "source": [
    "def spiro_parameters(data, y):\n",
    "    \"\"\"data is the dataframe you're taking X from; y is the name of the y variable\"\"\"\n",
    "    # age = HSAITMOR / 12\n",
    "    height = 'BMPHT'\n",
    "    age = 'HSAGER'\n",
    "    X = data[age, height]\n",
    "    # add age^2 and height^2 to X\n",
    "    new_X = np.hstack((X, X**2))\n",
    "    lr = LinearRegression().fit(new_X,y)\n",
    "    # do linear regression fit on X, y\n",
    "    lr.score(new_X, y)\n",
    "    lr.coef_\n",
    "    lr.intercept_\n",
    "    print (coefficients)"
   ]
  },
  {
   "cell_type": "code",
   "execution_count": 545,
   "metadata": {},
   "outputs": [],
   "source": [
    "def spiro_parameters(data, y):\n",
    "    \"\"\"data is the dataframe you're taking X from; y is the name of the y variable\"\"\"\n",
    "    # age = HSAITMOR / 12\n",
    "    height = 'BMPHT'\n",
    "    age = 'HSAGER'\n",
    "    X = data[age, height]\n",
    "    # add age^2 and height^2 to X\n",
    "    new_X = np.hstack((X, X**2))\n",
    "    lr = LinearRegression().fit(new_X,y)\n",
    "    # do linear regression fit on X, y\n",
    "    lr.score(new_X, y)\n",
    "    lr.coef_\n",
    "    lr.intercept_\n",
    "    print (coefficients)"
   ]
  },
  {
   "cell_type": "markdown",
   "metadata": {},
   "source": [
    "def spiro2_parameters(data, y):\n",
    "    \"\"\"data is the dataframe you're taking X from; y is the name of the y variable\"\"\"\n",
    "    # want to do b0 + b1*age + b2 *age *age + b3 * ht * ht\n",
    "    # age = HSAITMOR / 12\n",
    "    height = 'BMPHT'\n",
    "    age = 'HSAGER'\n",
    "    X = data[age, height]\n",
    "    # add age^2 and height^2 to X\n",
    "    # new_X = np.hstack((X, X**2))\n",
    "    lr = LinearRegression().fit(X,y)\n",
    "    # do linear regression fit on X, y\n",
    "    reg.score(X,y)\n",
    "    reg.coef(X,y)\n",
    "    print (coefficients)"
   ]
  },
  {
   "cell_type": "code",
   "execution_count": 514,
   "metadata": {},
   "outputs": [],
   "source": [
    "def spiro2_parameters(data, y):\n",
    "    \"\"\"data is the dataframe you're taking X from; y is the name of the y variable\"\"\"\n",
    "    # want to do b0 + b1*age + b2 *age *age + b3 * ht * ht\n",
    "    # age = HSAITMOR / 12\n",
    "    height = 'BMPHT'\n",
    "    age = 'HSAGER'\n",
    "    X = data[age, height]\n",
    "    # add age^2 and height^2 to X\n",
    "    # new_X = np.hstack((X, X**2))\n",
    "    lr = LinearRegression().fit(X,y)\n",
    "    # do linear regression fit on X, y\n",
    "    reg.score(X,y)\n",
    "    reg.coef(X,y)\n",
    "    print (coefficients)"
   ]
  },
  {
   "cell_type": "code",
   "execution_count": 515,
   "metadata": {},
   "outputs": [
    {
     "data": {
      "text/plain": [
       "array([0.5, 0.5])"
      ]
     },
     "execution_count": 515,
     "metadata": {},
     "output_type": "execute_result"
    }
   ],
   "source": [
    "# example from sklearn - add data points\n",
    "from sklearn import linear_model\n",
    "reg = linear_model.LinearRegression()\n",
    "reg.fit([[0, 0], [1, 1], [2, 2], [3,3]], [1, 2, 3, 4])\n",
    "LinearRegression()\n",
    "reg.coef_\n",
    "# array([0.5, 0.5])"
   ]
  },
  {
   "cell_type": "code",
   "execution_count": 516,
   "metadata": {},
   "outputs": [
    {
     "data": {
      "text/plain": [
       "0.13636363636363638"
      ]
     },
     "execution_count": 516,
     "metadata": {},
     "output_type": "execute_result"
    }
   ],
   "source": [
    "# example from sklearn\n",
    "from sklearn import linear_model\n",
    "reg = linear_model.Ridge(alpha=.5)\n",
    "reg.fit([[0, 0], [0, 0], [1, 1]], [0, .1, 1])\n",
    "# Ridge(alpha=0.5)\n",
    "reg.coef_\n",
    "# array([0.34545455, 0.34545455])\n",
    "reg.intercept_\n",
    "# 0.13636...   "
   ]
  },
  {
   "cell_type": "code",
   "execution_count": 612,
   "metadata": {},
   "outputs": [
    {
     "data": {
      "text/plain": [
       "Index(['HAR1', 'HAR23', 'HAR26', 'HAC1E', 'HAC1F', 'HAC1G', 'HAC1O', 'HAL6',\n",
       "       'HAL10', 'HAL1', 'HAL3', 'HAL5', 'DMARACER', 'DMARETHN', 'DMAETHNR',\n",
       "       'HSSEX', 'HSAGEIR', 'HSAGEU', 'HXPAXTMR', 'HXPSESSR', 'HSAITMOR',\n",
       "       'HAR4S', 'SPPQ5', 'SPPQ4', 'SPPMANEU', 'MYPB1', 'MYPB3', 'MYPB11',\n",
       "       'MYPB27A', 'MYPB27B', 'HSAGEIR_exam', 'HSAGEU_exam', 'HXPAXTMR_exam',\n",
       "       'HXPSESSR_exam', 'HXPEJ6A2', 'SPPTECH1', 'SPPTRIAL', 'SPPPEAK',\n",
       "       'SPPFEV05', 'SPPFEV1', 'SPPFEV3', 'SPPFEV6', 'SPPFVC', 'SPPMMEF',\n",
       "       'SPPFEF75', 'SPPTYPE', 'SPPREPRO', 'SPPTIME', 'SPPEXPIR', 'SPPTEMP',\n",
       "       'HSSEX_exam', 'WTPFHX6', 'MXPAXTMR', 'BMPHT', 'BMPSITHT', 'BMPWT',\n",
       "       'DMARACER_exam', 'DMARETHN_exam', 'SPPQ3', 'DMAETHNR_exam',\n",
       "       'HSAITMOR_exam', 'PEFROVERFVC', 'FEV1OFVC', 'FEV1OFEV6', 'PEFROFVC',\n",
       "       'PEFROFEV6', 'PEFROFEV1', 'FEV3OFVC', 'FEV6OFVC', 'HYE1G', 'HYG2',\n",
       "       'HYG4', 'HYG7', 'HYG12', 'HYG8', 'HYE1H'],\n",
       "      dtype='object')"
      ]
     },
     "execution_count": 612,
     "metadata": {},
     "output_type": "execute_result"
    }
   ],
   "source": [
    "flt18b.columns"
   ]
  },
  {
   "cell_type": "code",
   "execution_count": 685,
   "metadata": {},
   "outputs": [
    {
     "data": {
      "text/html": [
       "<div>\n",
       "<style scoped>\n",
       "    .dataframe tbody tr th:only-of-type {\n",
       "        vertical-align: middle;\n",
       "    }\n",
       "\n",
       "    .dataframe tbody tr th {\n",
       "        vertical-align: top;\n",
       "    }\n",
       "\n",
       "    .dataframe thead th {\n",
       "        text-align: right;\n",
       "    }\n",
       "</style>\n",
       "<table border=\"1\" class=\"dataframe\">\n",
       "  <thead>\n",
       "    <tr style=\"text-align: right;\">\n",
       "      <th></th>\n",
       "      <th>HAR1</th>\n",
       "      <th>HAR23</th>\n",
       "      <th>HAR26</th>\n",
       "      <th>HAC1E</th>\n",
       "      <th>HAC1F</th>\n",
       "      <th>HAC1G</th>\n",
       "      <th>HAC1O</th>\n",
       "      <th>HAL6</th>\n",
       "      <th>HAL10</th>\n",
       "      <th>HAL1</th>\n",
       "      <th>...</th>\n",
       "      <th>PEFROFEV1</th>\n",
       "      <th>FEV3OFVC</th>\n",
       "      <th>FEV6OFVC</th>\n",
       "      <th>HYE1G</th>\n",
       "      <th>HYG2</th>\n",
       "      <th>HYG4</th>\n",
       "      <th>HYG7</th>\n",
       "      <th>HYG12</th>\n",
       "      <th>HYG8</th>\n",
       "      <th>HYE1H</th>\n",
       "    </tr>\n",
       "  </thead>\n",
       "  <tbody>\n",
       "    <tr>\n",
       "      <th>count</th>\n",
       "      <td>44.0</td>\n",
       "      <td>44.0</td>\n",
       "      <td>44.0</td>\n",
       "      <td>44.0</td>\n",
       "      <td>44.0</td>\n",
       "      <td>44.0</td>\n",
       "      <td>44.0</td>\n",
       "      <td>44.0</td>\n",
       "      <td>44.0</td>\n",
       "      <td>44.0</td>\n",
       "      <td>...</td>\n",
       "      <td>604.000000</td>\n",
       "      <td>604.000000</td>\n",
       "      <td>604.000000</td>\n",
       "      <td>560.0</td>\n",
       "      <td>277.000000</td>\n",
       "      <td>277.000000</td>\n",
       "      <td>38.000000</td>\n",
       "      <td>560.0</td>\n",
       "      <td>560.0</td>\n",
       "      <td>560.0</td>\n",
       "    </tr>\n",
       "    <tr>\n",
       "      <th>mean</th>\n",
       "      <td>2.0</td>\n",
       "      <td>2.0</td>\n",
       "      <td>2.0</td>\n",
       "      <td>2.0</td>\n",
       "      <td>2.0</td>\n",
       "      <td>2.0</td>\n",
       "      <td>2.0</td>\n",
       "      <td>2.0</td>\n",
       "      <td>2.0</td>\n",
       "      <td>2.0</td>\n",
       "      <td>...</td>\n",
       "      <td>2.365517</td>\n",
       "      <td>0.984810</td>\n",
       "      <td>0.996741</td>\n",
       "      <td>2.0</td>\n",
       "      <td>2.021661</td>\n",
       "      <td>2.021661</td>\n",
       "      <td>72.131579</td>\n",
       "      <td>2.0</td>\n",
       "      <td>2.0</td>\n",
       "      <td>2.0</td>\n",
       "    </tr>\n",
       "    <tr>\n",
       "      <th>std</th>\n",
       "      <td>0.0</td>\n",
       "      <td>0.0</td>\n",
       "      <td>0.0</td>\n",
       "      <td>0.0</td>\n",
       "      <td>0.0</td>\n",
       "      <td>0.0</td>\n",
       "      <td>0.0</td>\n",
       "      <td>0.0</td>\n",
       "      <td>0.0</td>\n",
       "      <td>0.0</td>\n",
       "      <td>...</td>\n",
       "      <td>0.338832</td>\n",
       "      <td>0.025043</td>\n",
       "      <td>0.011997</td>\n",
       "      <td>0.0</td>\n",
       "      <td>0.360505</td>\n",
       "      <td>0.360505</td>\n",
       "      <td>242.070368</td>\n",
       "      <td>0.0</td>\n",
       "      <td>0.0</td>\n",
       "      <td>0.0</td>\n",
       "    </tr>\n",
       "    <tr>\n",
       "      <th>min</th>\n",
       "      <td>2.0</td>\n",
       "      <td>2.0</td>\n",
       "      <td>2.0</td>\n",
       "      <td>2.0</td>\n",
       "      <td>2.0</td>\n",
       "      <td>2.0</td>\n",
       "      <td>2.0</td>\n",
       "      <td>2.0</td>\n",
       "      <td>2.0</td>\n",
       "      <td>2.0</td>\n",
       "      <td>...</td>\n",
       "      <td>1.183187</td>\n",
       "      <td>0.581757</td>\n",
       "      <td>0.765541</td>\n",
       "      <td>2.0</td>\n",
       "      <td>2.000000</td>\n",
       "      <td>2.000000</td>\n",
       "      <td>1.000000</td>\n",
       "      <td>2.0</td>\n",
       "      <td>2.0</td>\n",
       "      <td>2.0</td>\n",
       "    </tr>\n",
       "    <tr>\n",
       "      <th>25%</th>\n",
       "      <td>2.0</td>\n",
       "      <td>2.0</td>\n",
       "      <td>2.0</td>\n",
       "      <td>2.0</td>\n",
       "      <td>2.0</td>\n",
       "      <td>2.0</td>\n",
       "      <td>2.0</td>\n",
       "      <td>2.0</td>\n",
       "      <td>2.0</td>\n",
       "      <td>2.0</td>\n",
       "      <td>...</td>\n",
       "      <td>2.146893</td>\n",
       "      <td>0.977332</td>\n",
       "      <td>0.998792</td>\n",
       "      <td>2.0</td>\n",
       "      <td>2.000000</td>\n",
       "      <td>2.000000</td>\n",
       "      <td>1.250000</td>\n",
       "      <td>2.0</td>\n",
       "      <td>2.0</td>\n",
       "      <td>2.0</td>\n",
       "    </tr>\n",
       "    <tr>\n",
       "      <th>50%</th>\n",
       "      <td>2.0</td>\n",
       "      <td>2.0</td>\n",
       "      <td>2.0</td>\n",
       "      <td>2.0</td>\n",
       "      <td>2.0</td>\n",
       "      <td>2.0</td>\n",
       "      <td>2.0</td>\n",
       "      <td>2.0</td>\n",
       "      <td>2.0</td>\n",
       "      <td>2.0</td>\n",
       "      <td>...</td>\n",
       "      <td>2.351716</td>\n",
       "      <td>0.992412</td>\n",
       "      <td>0.999322</td>\n",
       "      <td>2.0</td>\n",
       "      <td>2.000000</td>\n",
       "      <td>2.000000</td>\n",
       "      <td>2.000000</td>\n",
       "      <td>2.0</td>\n",
       "      <td>2.0</td>\n",
       "      <td>2.0</td>\n",
       "    </tr>\n",
       "    <tr>\n",
       "      <th>75%</th>\n",
       "      <td>2.0</td>\n",
       "      <td>2.0</td>\n",
       "      <td>2.0</td>\n",
       "      <td>2.0</td>\n",
       "      <td>2.0</td>\n",
       "      <td>2.0</td>\n",
       "      <td>2.0</td>\n",
       "      <td>2.0</td>\n",
       "      <td>2.0</td>\n",
       "      <td>2.0</td>\n",
       "      <td>...</td>\n",
       "      <td>2.586888</td>\n",
       "      <td>0.999316</td>\n",
       "      <td>0.999574</td>\n",
       "      <td>2.0</td>\n",
       "      <td>2.000000</td>\n",
       "      <td>2.000000</td>\n",
       "      <td>3.000000</td>\n",
       "      <td>2.0</td>\n",
       "      <td>2.0</td>\n",
       "      <td>2.0</td>\n",
       "    </tr>\n",
       "    <tr>\n",
       "      <th>max</th>\n",
       "      <td>2.0</td>\n",
       "      <td>2.0</td>\n",
       "      <td>2.0</td>\n",
       "      <td>2.0</td>\n",
       "      <td>2.0</td>\n",
       "      <td>2.0</td>\n",
       "      <td>2.0</td>\n",
       "      <td>2.0</td>\n",
       "      <td>2.0</td>\n",
       "      <td>2.0</td>\n",
       "      <td>...</td>\n",
       "      <td>3.652091</td>\n",
       "      <td>1.000000</td>\n",
       "      <td>1.000000</td>\n",
       "      <td>2.0</td>\n",
       "      <td>8.000000</td>\n",
       "      <td>8.000000</td>\n",
       "      <td>888.000000</td>\n",
       "      <td>2.0</td>\n",
       "      <td>2.0</td>\n",
       "      <td>2.0</td>\n",
       "    </tr>\n",
       "  </tbody>\n",
       "</table>\n",
       "<p>8 rows × 75 columns</p>\n",
       "</div>"
      ],
      "text/plain": [
       "       HAR1  HAR23  HAR26  HAC1E  HAC1F  HAC1G  HAC1O  HAL6  HAL10  HAL1  ...  \\\n",
       "count  44.0   44.0   44.0   44.0   44.0   44.0   44.0  44.0   44.0  44.0  ...   \n",
       "mean    2.0    2.0    2.0    2.0    2.0    2.0    2.0   2.0    2.0   2.0  ...   \n",
       "std     0.0    0.0    0.0    0.0    0.0    0.0    0.0   0.0    0.0   0.0  ...   \n",
       "min     2.0    2.0    2.0    2.0    2.0    2.0    2.0   2.0    2.0   2.0  ...   \n",
       "25%     2.0    2.0    2.0    2.0    2.0    2.0    2.0   2.0    2.0   2.0  ...   \n",
       "50%     2.0    2.0    2.0    2.0    2.0    2.0    2.0   2.0    2.0   2.0  ...   \n",
       "75%     2.0    2.0    2.0    2.0    2.0    2.0    2.0   2.0    2.0   2.0  ...   \n",
       "max     2.0    2.0    2.0    2.0    2.0    2.0    2.0   2.0    2.0   2.0  ...   \n",
       "\n",
       "        PEFROFEV1    FEV3OFVC    FEV6OFVC  HYE1G        HYG2        HYG4  \\\n",
       "count  604.000000  604.000000  604.000000  560.0  277.000000  277.000000   \n",
       "mean     2.365517    0.984810    0.996741    2.0    2.021661    2.021661   \n",
       "std      0.338832    0.025043    0.011997    0.0    0.360505    0.360505   \n",
       "min      1.183187    0.581757    0.765541    2.0    2.000000    2.000000   \n",
       "25%      2.146893    0.977332    0.998792    2.0    2.000000    2.000000   \n",
       "50%      2.351716    0.992412    0.999322    2.0    2.000000    2.000000   \n",
       "75%      2.586888    0.999316    0.999574    2.0    2.000000    2.000000   \n",
       "max      3.652091    1.000000    1.000000    2.0    8.000000    8.000000   \n",
       "\n",
       "             HYG7  HYG12   HYG8  HYE1H  \n",
       "count   38.000000  560.0  560.0  560.0  \n",
       "mean    72.131579    2.0    2.0    2.0  \n",
       "std    242.070368    0.0    0.0    0.0  \n",
       "min      1.000000    2.0    2.0    2.0  \n",
       "25%      1.250000    2.0    2.0    2.0  \n",
       "50%      2.000000    2.0    2.0    2.0  \n",
       "75%      3.000000    2.0    2.0    2.0  \n",
       "max    888.000000    2.0    2.0    2.0  \n",
       "\n",
       "[8 rows x 75 columns]"
      ]
     },
     "execution_count": 685,
     "metadata": {},
     "output_type": "execute_result"
    }
   ],
   "source": [
    "flt18b.describe()\n"
   ]
  },
  {
   "cell_type": "code",
   "execution_count": 690,
   "metadata": {},
   "outputs": [
    {
     "data": {
      "text/plain": [
       "0.06995933169025223"
      ]
     },
     "execution_count": 690,
     "metadata": {},
     "output_type": "execute_result"
    }
   ],
   "source": [
    "flt18b.loc[:,\"FEV1OFVC\"].std()"
   ]
  },
  {
   "cell_type": "code",
   "execution_count": 518,
   "metadata": {},
   "outputs": [
    {
     "name": "stdout",
     "output_type": "stream",
     "text": [
      "R^2 =  0.508912931662478\n",
      "Intercept:  5505.572645532058\n",
      "Coefficients:  [-33.99413138]\n"
     ]
    },
    {
     "data": {
      "text/plain": [
       "array([-33.99413138])"
      ]
     },
     "execution_count": 518,
     "metadata": {},
     "output_type": "execute_result"
    }
   ],
   "source": [
    "# try just do for age in this example male caucasian age in years and FEV1OFVC\n",
    "  #  height = 'BMPHT'\n",
    "# age = 'HSAGEIR'\n",
    "def linear_reg(data, X_var, y_var):\n",
    "    X = data[X_var]\n",
    "    X = np.array(X).reshape(-1, 1)\n",
    "    y = data[y_var]\n",
    "    lr = LinearRegression().fit(X, y)\n",
    "        # do linear regression fit on X, y\n",
    "    print(\"R^2 = \",lr.score(X, y))\n",
    "    print(\"Intercept: \",  lr.intercept_)\n",
    "    print(\"Coefficients: \",\n",
    "          lr.coef_)\n",
    "    return lr\n",
    "\n",
    "reg = linear_reg(m20over.query('DMARETHN == 1'), 'HSAGEIR', 'SPPFEV1')\n",
    "reg.coef_"
   ]
  },
  {
   "cell_type": "markdown",
   "metadata": {},
   "source": [
    "# The following linear_reg(data, X-var, y-var) works, with data = dataset, X = age, y = variable"
   ]
  },
  {
   "cell_type": "code",
   "execution_count": 519,
   "metadata": {},
   "outputs": [
    {
     "name": "stdout",
     "output_type": "stream",
     "text": [
      "HSAGEIR   SPPFEV1\n",
      "R^2 =  0.508912931662478\n",
      "Intercept:  5505.572645532058\n",
      "Coefficients:  [-33.99413138]\n"
     ]
    },
    {
     "data": {
      "text/plain": [
       "array([-33.99413138])"
      ]
     },
     "execution_count": 519,
     "metadata": {},
     "output_type": "execute_result"
    }
   ],
   "source": [
    "# try just do for age in months in this example male caucasian age in years and FEV1OFVC\n",
    "  #  height = 'BMPHT'\n",
    "# age = 'HSAGEIR'\n",
    "def linear_reg(data, X_var, y_var):\n",
    "    X = data[X_var]\n",
    "    X = np.array(X).reshape(-1, 1)\n",
    "    y = data[y_var]\n",
    "    lr = LinearRegression().fit(X, y)\n",
    "        # do linear regression fit on X, y\n",
    "    print(X_var, \" \", y_var)\n",
    "    print(\"R^2 = \",lr.score(X, y))\n",
    "    print(\"Intercept: \",  lr.intercept_)\n",
    "    print(\"Coefficients: \",\n",
    "          lr.coef_)\n",
    "    return lr\n",
    "\n",
    "reg = linear_reg(m20over.query('DMARETHN == 1'), 'HSAGEIR', 'SPPFEV1')\n",
    "reg.coef_"
   ]
  },
  {
   "cell_type": "markdown",
   "metadata": {},
   "source": [
    "# Now do forlinear regression of age vs Y"
   ]
  },
  {
   "cell_type": "code",
   "execution_count": 520,
   "metadata": {},
   "outputs": [
    {
     "name": "stdout",
     "output_type": "stream",
     "text": [
      "HSAGEIR   SPPFEV1\n",
      "R^2 =  0.508912931662478\n",
      "Intercept:  5505.572645532058\n",
      "Coefficients:  [-407.92957656]\n"
     ]
    },
    {
     "data": {
      "text/plain": [
       "array([-407.92957656])"
      ]
     },
     "execution_count": 520,
     "metadata": {},
     "output_type": "execute_result"
    }
   ],
   "source": [
    "# try just do for age in months in this example male caucasian age in years and FEV1OFVC\n",
    "  #  height = 'BMPHT'\n",
    "# age = 'HSAGEIR'\n",
    "def linear_reg(data, X_var, y_var):\n",
    "    X = data['HSAGEIR']/12  # to convert to year\n",
    "    X = np.array(X).reshape(-1, 1)\n",
    "    y = data[y_var]\n",
    "    lr = LinearRegression().fit(X, y)\n",
    "        # do linear regression fit on X, y\n",
    "    print(X_var, \" \", y_var)\n",
    "    print(\"R^2 = \",lr.score(X, y))\n",
    "    print(\"Intercept: \",  lr.intercept_)\n",
    "    print(\"Coefficients: \",\n",
    "          lr.coef_)\n",
    "   # print (lr.std_)\n",
    "    return lr\n",
    "\n",
    "reg = linear_reg(m20over.query('DMARETHN == 1'), 'HSAGEIR', 'SPPFEV1')\n",
    "reg.coef_"
   ]
  },
  {
   "cell_type": "markdown",
   "metadata": {},
   "source": [
    "# Linear regression for ratios  --  linear_regage(data, y-var)"
   ]
  },
  {
   "cell_type": "markdown",
   "metadata": {},
   "source": [
    "  #  height = 'BMPHT'\n",
    "# age = 'HSAGEIR'/12 - or age in months/12\n",
    "def linear_regage(data, y_var):\n",
    "    X = data['HSAGEIR']/12  # to convert to year\n",
    "    X = np.array(X).reshape(-1, 1)\n",
    "    y = data[y_var]\n",
    "    lr = LinearRegression().fit(X, y)\n",
    "        # do linear regression fit on X, y\n",
    "    print(data.name, \", \",y_var, \", \",lr.intercept_, \", \", lr.coef_, \", \", lr.score(X, y), \", \", data.loc[:,y_var].std(), \", \", data.loc[:,y_var].count())\n",
    "#. prints intercept, slope, and r squared\n",
    "   # print (lr.std_)\n",
    "   # return lr\n",
    "\n",
    "# reg.coef_"
   ]
  },
  {
   "cell_type": "code",
   "execution_count": 721,
   "metadata": {},
   "outputs": [],
   "source": [
    "  #  height = 'BMPHT'\n",
    "# age = 'HSAGEIR'/12 - or age in months/12\n",
    "def linear_regage(data, y_var):\n",
    "    X = data['HSAGEIR']/12  # to convert to year\n",
    "    X = np.array(X).reshape(-1, 1)\n",
    "    y = data[y_var]\n",
    "    lr = LinearRegression().fit(X, y)\n",
    "        # do linear regression fit on X, y\n",
    "    print(data.name, \", \",y_var, \", \",lr.intercept_, \", \", lr.coef_, \", \", lr.score(X, y), \", \", data.loc[:,y_var].std(), \", \", data.loc[:,y_var].count())\n",
    "#. prints intercept, slope, and r squared\n",
    "   # print (lr.std_)\n",
    "   # return lr\n",
    "\n",
    "# reg.coef_"
   ]
  },
  {
   "cell_type": "code",
   "execution_count": 719,
   "metadata": {},
   "outputs": [
    {
     "name": "stdout",
     "output_type": "stream",
     "text": [
      "m20overb ,  FEV1OFVC ,  0.8913482374175125 ,  [-0.02262401] ,  0.14155898517447463 ,  0.07102988364519039 ,  479\n"
     ]
    }
   ],
   "source": [
    "reg = linear_regage (m20overb,'FEV1OFVC')"
   ]
  },
  {
   "cell_type": "code",
   "execution_count": 720,
   "metadata": {},
   "outputs": [
    {
     "name": "stdout",
     "output_type": "stream",
     "text": [
      "mallb ,  FEV1OFVC ,  0.8935648368877527 ,  [-0.02292341] ,  0.16424526250934823 ,  0.07043695966582908 ,  1088\n"
     ]
    }
   ],
   "source": [
    "reg = linear_regage (mallb,'FEV1OFVC')"
   ]
  },
  {
   "cell_type": "code",
   "execution_count": 722,
   "metadata": {},
   "outputs": [
    {
     "name": "stdout",
     "output_type": "stream",
     "text": [
      "FEV1OFVC\n",
      "FEV1OFEV6\n",
      "PEFROFVC\n",
      "PEFROFEV6\n",
      "PEFROFEV1\n",
      "FEV3OFVC\n",
      "FEV6OFVC\n"
     ]
    }
   ],
   "source": [
    "for x in varsratio:\n",
    "    print (x)"
   ]
  },
  {
   "cell_type": "markdown",
   "metadata": {},
   "source": [
    "## For all frames, for all ratios to analyze, do regression vs age"
   ]
  },
  {
   "cell_type": "markdown",
   "metadata": {},
   "source": [
    "print ('Linear Regression of variables in form y = intercept + slope * age')\n",
    "print ('dataframe ,  variable,        intercept,          slope,            R squared,         standard deviation')\n",
    "for y in framestoanalyze:\n",
    "  #  print (y.name)\n",
    "    for xx in varsratio:\n",
    " #       print(y, \" \", xx)\n",
    "        reg = linear_regage (y,xx)"
   ]
  },
  {
   "cell_type": "code",
   "execution_count": 715,
   "metadata": {},
   "outputs": [
    {
     "name": "stdout",
     "output_type": "stream",
     "text": [
      "Linear Regression of variables in form y = intercept + slope * age\n",
      "dataframe ,  variable,        intercept,          slope,            R squared,         standard deviation\n",
      "m20overb ,  FEV1OFVC ,  0.8913482374175125 ,  [-0.02262401] ,  0.14155898517447463 ,  0.07102988364519039\n",
      "m20overb ,  FEV1OFEV6 ,  0.8868341419534119 ,  [-0.01696625] ,  0.07517040217989535 ,  0.0730974975479655\n",
      "m20overb ,  PEFROFVC ,  2.145738889289958 ,  [-0.00789704] ,  0.0005807214222565138 ,  0.387097522219392\n",
      "m20overb ,  PEFROFEV6 ,  2.133793195231653 ,  [0.00655804] ,  0.0003804929202341212 ,  0.3971378425223901\n",
      "m20overb ,  PEFROFEV1 ,  2.3915853639649622 ,  [0.05959396] ,  0.033090553281070356 ,  0.38698170121041886\n",
      "m20overb ,  FEV3OFVC ,  0.9058846072169252 ,  [0.03204823] ,  0.0010934231759704982 ,  1.1448539988651163\n",
      "m20overb ,  FEV6OFVC ,  0.9107507170576647 ,  [0.04178808] ,  0.0018655840230341614 ,  1.1428393651393074\n",
      "m20overcma ,  FEV1OFVC ,  0.890247426237375 ,  [-0.02561717] ,  0.26978229514259777 ,  0.0676176207319048\n",
      "m20overcma ,  FEV1OFEV6 ,  0.8819211460276103 ,  [-0.01808119] ,  0.12660392887887284 ,  0.06966888844702668\n",
      "m20overcma ,  PEFROFVC ,  1.8799419513438473 ,  [0.01798329] ,  0.005826326367736057 ,  0.32300352369008695\n",
      "m20overcma ,  PEFROFEV6 ,  1.8551089664385563 ,  [0.03831415] ,  0.023584689111754154 ,  0.3420421093631369\n",
      "m20overcma ,  PEFROFEV1 ,  2.0747443407438895 ,  [0.10117282] ,  0.14849069254350244 ,  0.359956276640413\n",
      "m20overcma ,  FEV3OFVC ,  0.8995660784836649 ,  [0.02818478] ,  0.001549848049778646 ,  0.9815345219045638\n",
      "m20overcma ,  FEV6OFVC ,  0.9035166517718357 ,  [0.03847647] ,  0.0029036526257554263 ,  0.9789451857908785\n",
      "m20overc ,  FEV1OFVC ,  0.8735761696289119 ,  [-0.0237296] ,  0.2645116997140077 ,  0.06820441306086775\n",
      "m20overc ,  FEV1OFEV6 ,  0.8689330127440761 ,  [-0.01737371] ,  0.11998636089011672 ,  0.07414317320870951\n",
      "m20overc ,  PEFROFVC ,  1.8231530577217876 ,  [0.0209899] ,  0.011033162991686107 ,  0.29539627166423615\n",
      "m20overc ,  PEFROFEV6 ,  1.8061004541066397 ,  [0.03847018] ,  0.03081292180109707 ,  0.32396816765857145\n",
      "m20overc ,  PEFROFEV1 ,  2.0474561995143223 ,  [0.10118561] ,  0.20159211751636977 ,  0.33313982574396267\n",
      "m20overc ,  FEV3OFVC ,  0.7706041529102258 ,  [0.06635655] ,  0.0062371908810261445 ,  1.2420351173789919\n",
      "m20overc ,  FEV6OFVC ,  0.7756072542337797 ,  [0.07663184] ,  0.008362149864124757 ,  1.2387819156531723\n",
      "m20ovecma ,  FEV1OFVC ,  0.8944021849566444 ,  [-0.02428207] ,  0.21382035246275366 ,  0.0630184586843625\n",
      "m20ovecma ,  FEV1OFEV6 ,  0.8816133215941042 ,  [-0.0150735] ,  0.0837327411118377 ,  0.06251339214727031\n",
      "m20ovecma ,  PEFROFVC ,  1.878193056210796 ,  [0.0313577] ,  0.0121934850086447 ,  0.34079003802233954\n",
      "m20ovecma ,  PEFROFEV6 ,  1.8422714892770709 ,  [0.05614412] ,  0.03624788300624282 ,  0.3538910939742205\n",
      "m20ovecma ,  PEFROFEV1 ,  2.067252197306286 ,  [0.11129167] ,  0.12314222710592282 ,  0.3805974115071533\n",
      "m20ovecma ,  FEV3OFVC ,  1.0411955998806341 ,  [-0.02226202] ,  0.0014538758645034067 ,  0.7006604905851355\n",
      "m20ovecma ,  FEV6OFVC ,  1.0453612511453545 ,  [-0.01231961] ,  0.0004479087121882497 ,  0.6985681175533375\n",
      "f18overb ,  FEV1OFVC ,  0.9211904177897788 ,  [-0.02632378] ,  0.22760879854169935 ,  0.07323812286221905\n",
      "f18overb ,  FEV1OFEV6 ,  0.9195883181099571 ,  [-0.02287871] ,  0.13257330661062172 ,  0.08340402490114437\n",
      "f18overb ,  PEFROFVC ,  2.1323275676682982 ,  [-0.00207065] ,  4.6794588729581754e-05 ,  0.40178368511466594\n",
      "f18overb ,  PEFROFEV6 ,  2.1270802800476534 ,  [0.00722173] ,  0.0005106841484200375 ,  0.42417817374615163\n",
      "f18overb ,  PEFROFEV1 ,  2.295179431739522 ,  [0.07608504] ,  0.05612521041139529 ,  0.4262886696051678\n",
      "f18overb ,  FEV3OFVC ,  0.7089572606215945 ,  [0.14845376] ,  0.0036598295322893826 ,  3.257199015771392\n",
      "f18overb ,  FEV6OFVC ,  0.7078044033140196 ,  [0.15887064] ,  0.004197037322447472 ,  3.2550356808732723\n",
      "f18overcma ,  FEV1OFVC ,  0.913374459109625 ,  [-0.02578417] ,  0.2783197818596034 ,  0.07276351629207112\n",
      "f18overcma ,  FEV1OFEV6 ,  0.9115441372818719 ,  [-0.02255134] ,  0.1262428377114445 ,  0.09449343089915\n",
      "f18overcma ,  PEFROFVC ,  1.8246660690992538 ,  [0.02126135] ,  0.008042051544054796 ,  0.3529717633114546\n",
      "f18overcma ,  PEFROFEV6 ,  1.8170084053884228 ,  [0.03042505] ,  0.013431051215024857 ,  0.3908489238174634\n",
      "f18overcma ,  PEFROFEV1 ,  1.9620876615573297 ,  [0.09927239] ,  0.13855280001268833 ,  0.39705746716573503\n",
      "f18overcma ,  FEV3OFVC ,  0.388913656908626 ,  [0.23846885] ,  0.01197420042616859 ,  3.2444490670892683\n",
      "f18overcma ,  FEV6OFVC ,  0.38743115113581206 ,  [0.24856953] ,  0.01303540562577654 ,  3.241292127736863\n",
      "f18overc ,  FEV1OFVC ,  0.9024158106357322 ,  [-0.02415286] ,  0.25996341320957306 ,  0.07300804143907397\n",
      "f18overc ,  FEV1OFEV6 ,  0.9047334324652407 ,  [-0.02210172] ,  0.11630855135967699 ,  0.09988001617104666\n",
      "f18overc ,  PEFROFVC ,  1.7824210046268951 ,  [0.02879541] ,  0.017035661474147923 ,  0.3400181435630669\n",
      "f18overc ,  PEFROFEV6 ,  1.7875163134644196 ,  [0.03404049] ,  0.01844473082927789 ,  0.386293976481888\n",
      "f18overc ,  PEFROFEV1 ,  1.9348470732490097 ,  [0.10616266] ,  0.17358706906782784 ,  0.39270949833336777\n",
      "f18overc ,  FEV3OFVC ,  0.1767918780660669 ,  [0.28507541] ,  0.014326689598187614 ,  3.6706681003595194\n",
      "f18overc ,  FEV6OFVC ,  0.17430873868479035 ,  [0.2954051] ,  0.015416872980069328 ,  3.666723246227491\n",
      "f18overma ,  FEV1OFVC ,  0.9180149375455051 ,  [-0.02585533] ,  0.24018598458277618 ,  0.06939331974555048\n",
      "f18overma ,  FEV1OFEV6 ,  0.9110582727673175 ,  [-0.0208172] ,  0.09970756417874604 ,  0.08671607473316185\n",
      "f18overma ,  PEFROFVC ,  1.8499933298310423 ,  [0.01706157] ,  0.003775262445223748 ,  0.3652470564501707\n",
      "f18overma ,  PEFROFEV6 ,  1.8248695114775264 ,  [0.03267555] ,  0.011815738892874239 ,  0.39539740074073565\n",
      "f18overma ,  PEFROFEV1 ,  1.990556370984304 ,  [0.09015921] ,  0.08908017187619965 ,  0.39733876552798875\n",
      "f18overma ,  FEV3OFVC ,  0.5685049446901983 ,  [0.18971877] ,  0.00812571632753345 ,  2.768348886147556\n",
      "f18overma ,  FEV6OFVC ,  0.5679243347837221 ,  [0.1995606] ,  0.00900640415063425 ,  2.76592528300145\n",
      "mlt20b ,  FEV1OFVC ,  0.872828683493324 ,  [-0.00252202] ,  0.0001303152204258362 ,  0.06302595565903697\n",
      "mlt20b ,  FEV1OFEV6 ,  0.876471181719605 ,  [-0.00309738] ,  0.0002062069950250489 ,  0.061533468081370904\n",
      "mlt20b ,  PEFROFVC ,  2.016892608887657 ,  [0.03561899] ,  0.0009392024136671838 ,  0.3315660854710491\n",
      "mlt20b ,  PEFROFEV6 ,  2.0251428286380406 ,  [0.03451494] ,  0.0008884454090252181 ,  0.33033896935403406\n",
      "mlt20b ,  PEFROFEV1 ,  2.308153023786803 ,  [0.04478143] ,  0.0018352344593436374 ,  0.29820866551088954\n",
      "mlt20b ,  FEV3OFVC ,  0.9733253308350889 ,  [0.00657386] ,  0.008899163244916242 ,  0.019879894463398606\n",
      "mlt20b ,  FEV6OFVC ,  0.9957648384374601 ,  [0.00059839] ,  0.0007665798223098763 ,  0.0061655422179452335\n",
      "mlt20cma ,  FEV1OFVC ,  0.8721521353338245 ,  [-0.00511492] ,  0.0006117511998766644 ,  0.05663660012882174\n",
      "mlt20cma ,  FEV1OFEV6 ,  0.8764762438607216 ,  [-0.00681036] ,  0.0011287949812928133 ,  0.05551474082883422\n",
      "mlt20cma ,  PEFROFVC ,  1.8271450818710362 ,  [0.00301335] ,  8.232227716953311e-06 ,  0.28763171410998895\n",
      "mlt20cma ,  PEFROFEV6 ,  1.8363654115476395 ,  [-0.00058247] ,  3.071608577487339e-07 ,  0.2878309810432156\n",
      "mlt20cma ,  PEFROFEV1 ,  2.093945571231578 ,  [0.01359978] ,  0.0001836573394621288 ,  0.2748359620598038\n",
      "mlt20cma ,  FEV3OFVC ,  0.9742139238711092 ,  [0.00831637] ,  0.017452418608519427 ,  0.017240575492033682\n",
      "mlt20cma ,  FEV6OFVC ,  0.9949208980476779 ,  [0.00197349] ,  0.008395527690399085 ,  0.0058987080643906715\n",
      "mlt20c ,  FEV1OFVC ,  0.8583732274421879 ,  [-0.00137263] ,  4.245022438775781e-05 ,  0.057334628268342715\n",
      "mlt20c ,  FEV1OFEV6 ,  0.8635463995230658 ,  [-0.00403119] ,  0.00038023359733529993 ,  0.05626141449997076\n",
      "mlt20c ,  PEFROFVC ,  1.8582118795381677 ,  [-0.04477608] ,  0.001925829875075613 ,  0.27767678056739253\n",
      "mlt20c ,  PEFROFEV6 ,  1.8692304012024437 ,  [-0.05050256] ,  0.0024607761536021844 ,  0.2770638391488662\n",
      "mlt20c ,  PEFROFEV1 ,  2.1687255299418595 ,  [-0.05651663] ,  0.0035786517517029104 ,  0.2571100513899079\n",
      "mlt20c ,  FEV3OFVC ,  0.9686176658169939 ,  [0.01307583] ,  0.04281694482509091 ,  0.017197444478848325\n",
      "mlt20c ,  FEV6OFVC ,  0.9938828987011652 ,  [0.00311656] ,  0.017391025188995712 ,  0.006431543167210254\n",
      "mlt20ma ,  FEV1OFVC ,  0.883642257560138 ,  [-0.00951321] ,  0.0022481776421378052 ,  0.055169451798003276\n",
      "mlt20ma ,  FEV1OFEV6 ,  0.887407538543983 ,  [-0.01058247] ,  0.002907636095162869 ,  0.053963982663005804\n",
      "mlt20ma ,  PEFROFVC ,  1.8092539547861888 ,  [0.03200938] ,  0.0008968836257592372 ,  0.2938978253513507\n",
      "mlt20ma ,  PEFROFEV6 ,  1.8173092888459108 ,  [0.0297838] ,  0.0007727928114196203 ,  0.29460198730732945\n",
      "mlt20ma ,  PEFROFEV1 ,  2.04173181138648 ,  [0.06161811] ,  0.0034933635001512804 ,  0.28666427922134846\n",
      "mlt20ma ,  FEV3OFVC ,  0.9782207645925742 ,  [0.00495935] ,  0.006240250368159894 ,  0.017262797755834988\n",
      "mlt20ma ,  FEV6OFVC ,  0.9956110768872419 ,  [0.00122463] ,  0.0037434887055862727 ,  0.00550370746168765\n",
      "flt18b ,  FEV1OFVC ,  0.8543935309323989 ,  [0.03571498] ,  0.014420229467931533 ,  0.06995933169025223\n",
      "flt18b ,  FEV1OFEV6 ,  0.8604891435767348 ,  [0.03223828] ,  0.012813546070268855 ,  0.06699133179945803\n",
      "flt18b ,  PEFROFVC ,  2.164276046073037 ,  [-0.05015452] ,  0.0009760145142867493 ,  0.3776271907449746\n",
      "flt18b ,  PEFROFEV6 ,  2.1775254687831027 ,  [-0.05743031] ,  0.001296043252923651 ,  0.37524316170795197\n",
      "flt18b ,  PEFROFEV1 ,  2.5039313779573624 ,  [-0.1369776] ,  0.009042602657924004 ,  0.33883180304790306\n",
      "flt18b ,  FEV3OFVC ,  0.9678920895694916 ,  [0.01674278] ,  0.02473115792092706 ,  0.025043024408277607\n",
      "flt18b ,  FEV6OFVC ,  0.9910967300857263 ,  [0.00558541] ,  0.011992865547020391 ,  0.011997061737620818\n",
      "flt18cma ,  FEV1OFVC ,  0.8926661835620278 ,  [-0.00069825] ,  8.496637914134908e-06 ,  0.05578804817811622\n",
      "flt18cma ,  FEV1OFEV6 ,  0.8958375699953671 ,  [-0.00171552] ,  5.384085179294118e-05 ,  0.054449258921002414\n",
      "flt18cma ,  PEFROFVC ,  2.0687431629499655 ,  [-0.16957622] ,  0.016012605209699382 ,  0.31209440181511394\n",
      "flt18cma ,  PEFROFEV6 ,  2.0761070799759547 ,  [-0.17233074] ,  0.016537256663784916 ,  0.31209230285455175\n",
      "flt18cma ,  PEFROFEV1 ,  2.3127345555949046 ,  [-0.18770945] ,  0.021569395478512665 ,  0.29765911390338473\n",
      "flt18cma ,  FEV3OFVC ,  0.9799043448591164 ,  [0.00754376] ,  0.010210500188643779 ,  0.017386678183506765\n",
      "flt18cma ,  FEV6OFVC ,  0.9965081351424021 ,  [0.00097408] ,  0.0012399916566342428 ,  0.006442215827103052\n",
      "flt18c ,  FEV1OFVC ,  0.879480902738734 ,  [0.00365103] ,  0.00021490421388803416 ,  0.0576320165088851\n",
      "flt18c ,  FEV1OFEV6 ,  0.8826745855946193 ,  [0.00275331] ,  0.00013097031365916223 ,  0.05567240374689925\n",
      "flt18c ,  PEFROFVC ,  1.9657394664345964 ,  [-0.10257117] ,  0.0069503774361249215 ,  0.2847027921328208\n",
      "flt18c ,  PEFROFEV6 ,  1.9728516020046916 ,  [-0.10490983] ,  0.007315606797805407 ,  0.28383218275278965\n",
      "flt18c ,  PEFROFEV1 ,  2.2281671643053738 ,  [-0.12256962] ,  0.01164522907361709 ,  0.262832717107825\n",
      "flt18c ,  FEV3OFVC ,  0.9759539183994105 ,  [0.01111402] ,  0.019909054703627582 ,  0.018227057516760754\n",
      "flt18c ,  FEV6OFVC ,  0.9964821203513624 ,  [0.00075049] ,  0.0004228259742538043 ,  0.008445710843257823\n",
      "flt18ma ,  FEV1OFVC ,  0.9038590000896105 ,  [-0.00544733] ,  0.0005664593392932238 ,  0.05355268513092487\n",
      "flt18ma ,  FEV1OFEV6 ,  0.9069870382620047 ,  [-0.00652275] ,  0.0008387312581513706 ,  0.05269887183327465\n",
      "flt18ma ,  PEFROFVC ,  2.1498258090906788 ,  [-0.22390132] ,  0.025452578991032926 ,  0.3283769170626411\n",
      "flt18ma ,  PEFROFEV6 ,  2.157339415675654 ,  [-0.2269201] ,  0.026053709596243646 ,  0.3289425434075384\n",
      "flt18ma ,  PEFROFEV1 ,  2.3773555105232163 ,  [-0.23759301] ,  0.030169092921084828 ,  0.320062207516067\n",
      "flt18ma ,  FEV3OFVC ,  0.9828215231365589 ,  [0.0049385] ,  0.0047536384168774815 ,  0.0167596200520055\n",
      "flt18ma ,  FEV6OFVC ,  0.9965748957416682 ,  [0.00108579] ,  0.003240245754256077 ,  0.004463103375010369\n",
      "mallcma ,  FEV1OFVC ,  0.8928390310055394 ,  [-0.0260866] ,  0.3137588613079296 ,  0.06924261899322189\n",
      "mallcma ,  FEV1OFEV6 ,  0.8879538221433179 ,  [-0.01945664] ,  0.18501570907495035 ,  0.06725393477946703\n",
      "mallcma ,  PEFROFVC ,  1.810497498418308 ,  [0.03470685] ,  0.02752386661769768 ,  0.3110387848032902\n",
      "mallcma ,  PEFROFEV6 ,  1.795878004670949 ,  [0.05237545] ,  0.057445727271928315 ,  0.3249024583508402\n",
      "mallcma ,  PEFROFEV1 ,  2.0042260874868454 ,  [0.11759367] ,  0.24456759964595023 ,  0.3535399981869396\n",
      "mallcma ,  FEV3OFVC ,  0.9555014392316512 ,  [0.01446685] ,  0.0009303847485069294 ,  0.7051749458148584\n",
      "mallcma ,  FEV6OFVC ,  0.9594725252404714 ,  [0.02462455] ,  0.0027093067279952976 ,  0.7033854080966276\n",
      "mallb ,  FEV1OFVC ,  0.8935648368877527 ,  [-0.02292341] ,  0.16424526250934823 ,  0.07043695966582908\n",
      "mallb ,  FEV1OFEV6 ,  0.8911052429516407 ,  [-0.01790288] ,  0.10355315018088629 ,  0.06928016801195618\n",
      "mallb ,  PEFROFVC ,  2.049734508691475 ,  [0.01829578] ,  0.004039434329481173 ,  0.3584745617166047\n",
      "mallb ,  PEFROFEV6 ,  2.042730348147078 ,  [0.03120997] ,  0.011404569204115478 ,  0.3639332010919269\n",
      "mallb ,  PEFROFEV1 ,  2.2796965695624674 ,  [0.08917249] ,  0.0972950700644789 ,  0.35600268969718873\n",
      "mallb ,  FEV3OFVC ,  0.9530156494608417 ,  [0.01913002] ,  0.0009840608902720316 ,  0.7594029885387087\n",
      "mallb ,  FEV6OFVC ,  0.9596641709993193 ,  [0.02816791] ,  0.002140843434169204 ,  0.7581060134577727\n",
      "mallc ,  FEV1OFVC ,  0.8807379710308787 ,  [-0.02520904] ,  0.34892246900644674 ,  0.07207092166090244\n",
      "mallc ,  FEV1OFEV6 ,  0.8768963983107556 ,  [-0.01908192] ,  0.2029464140303997 ,  0.07153189731859204\n",
      "mallc ,  PEFROFVC ,  1.7924155707180602 ,  [0.02750509] ,  0.025576265223590244 ,  0.29044426181843874\n",
      "mallc ,  PEFROFEV6 ,  1.7802287162198667 ,  [0.04376957] ,  0.0569668978858493 ,  0.3096914688384092\n",
      "mallc ,  PEFROFEV1 ,  2.0109792009478866 ,  [0.10848032] ,  0.2976969389440609 ,  0.3357623950377537\n",
      "mallc ,  FEV3OFVC ,  0.9154429433135638 ,  [0.03366361] ,  0.0038825998030320714 ,  0.9123628717536931\n",
      "mallc ,  FEV6OFVC ,  0.9204715807559434 ,  [0.04382216] ,  0.006610615841575185 ,  0.9102090145758462\n",
      "mallma ,  FEV1OFVC ,  0.8988108845774837 ,  [-0.02530181] ,  0.25500257756339584 ,  0.06439175758667033\n",
      "mallma ,  FEV1OFEV6 ,  0.8926829394959527 ,  [-0.01798353] ,  0.14104789294264453 ,  0.06153790223979298\n",
      "mallma ,  PEFROFVC ,  1.8049180302270675 ,  [0.05094646] ,  0.04074920651410363 ,  0.32434370074119623\n",
      "mallma ,  PEFROFEV6 ,  1.7870064919601898 ,  [0.07063019] ,  0.0734450264653711 ,  0.3349347448090427\n",
      "mallma ,  PEFROFEV1 ,  1.9862021893721717 ,  [0.13241836] ,  0.21593083764171972 ,  0.36621986202380347\n",
      "mallma ,  FEV3OFVC ,  1.0030249318791185 ,  [-0.01176942] ,  0.0009352587103822474 ,  0.4945840859742154\n",
      "mallma ,  FEV6OFVC ,  1.0066062316462632 ,  [-0.00181756] ,  2.2448788681184162e-05 ,  0.4929947328675404\n",
      "fallcma ,  FEV1OFVC ,  0.9165732164709329 ,  [-0.02645048] ,  0.3605704392579804 ,  0.07504052710549881\n",
      "fallcma ,  FEV1OFEV6 ,  0.9154594450641076 ,  [-0.02339059] ,  0.20335662162801804 ,  0.08836277830887372\n",
      "fallcma ,  PEFROFVC ,  1.8732665874705874 ,  [0.0097657] ,  0.002394018633039563 ,  0.34001395422736747\n",
      "fallcma ,  PEFROFEV6 ,  1.8684573977507175 ,  [0.01825388] ,  0.007184535278935256 ,  0.3668708573683089\n",
      "fallcma ,  PEFROFEV1 ,  2.0213546572333834 ,  [0.0851236] ,  0.14761487559734865 ,  0.37743506425191176\n",
      "fallcma ,  FEV3OFVC ,  0.6968811082646567 ,  [0.16797095] ,  0.01157353615591894 ,  2.659858024390102\n",
      "fallcma ,  FEV6OFVC ,  0.6969179059443869 ,  [0.17768658] ,  0.012971590787769107 ,  2.657757371025497\n",
      "fallb ,  FEV1OFVC ,  0.9159778211571398 ,  [-0.02472319] ,  0.22123956561768177 ,  0.07591634431104667\n",
      "fallb ,  FEV1OFEV6 ,  0.9151818733123596 ,  [-0.02151383] ,  0.15007708292929378 ,  0.08020894215680936\n",
      "fallb ,  PEFROFVC ,  2.118202996315582 ,  [0.0013098] ,  2.3237977332057902e-05 ,  0.39243390957907665\n",
      "fallb ,  PEFROFEV6 ,  2.1149505780583455 ,  [0.01002137] ,  0.0012717485457268696 ,  0.4058715847863623\n",
      "fallb ,  PEFROFEV1 ,  2.2941574351200327 ,  [0.0754022] ,  0.07335036094617597 ,  0.4021102008184781\n",
      "fallb ,  FEV3OFVC ,  0.8273465394861141 ,  [0.11775326] ,  0.004474692952794568 ,  2.5424565557050696\n",
      "fallb ,  FEV6OFVC ,  0.8290405411807537 ,  [0.12735045] ,  0.0052395697428613275 ,  2.5410597311543017\n",
      "fallc ,  FEV1OFVC ,  0.9058054701393432 ,  [-0.02482295] ,  0.3630202028694248 ,  0.07696392757840378\n",
      "fallc ,  FEV1OFEV6 ,  0.90646944434535 ,  [-0.02242793] ,  0.19737200229005714 ,  0.09430737514645386\n",
      "fallc ,  PEFROFVC ,  1.8287323127703499 ,  [0.0188225] ,  0.011711834485023664 ,  0.32491078860320316\n",
      "fallc ,  PEFROFEV6 ,  1.829378440887005 ,  [0.02499337] ,  0.01683582957599805 ,  0.3598378312609198\n",
      "fallc ,  PEFROFEV1 ,  1.9939726123100532 ,  [0.09333268] ,  0.2147702806957419 ,  0.37622341531719\n",
      "fallc ,  FEV3OFVC ,  0.6199899839852653 ,  [0.19120757] ,  0.013400873601628227 ,  3.085586506084706\n",
      "fallc ,  FEV6OFVC ,  0.6199247646078329 ,  [0.20099445] ,  0.014833897521288608 ,  3.08287291529584\n",
      "fallma ,  FEV1OFVC ,  0.9231808714018697 ,  [-0.02709031] ,  0.31758501588488675 ,  0.07044138847234827\n",
      "fallma ,  FEV1OFEV6 ,  0.919876158176129 ,  [-0.02300112] ,  0.17515294478176469 ,  0.08053492403221153\n",
      "fallma ,  PEFROFVC ,  1.9070522965589514 ,  [0.00169755] ,  4.9797225341596814e-05 ,  0.35250380150257327\n",
      "fallma ,  PEFROFEV6 ,  1.8947505787016505 ,  [0.01399022] ,  0.0030242802259238255 ,  0.3727841555573916\n",
      "fallma ,  PEFROFEV1 ,  2.049459582387337 ,  [0.07400667] ,  0.08290334429682278 ,  0.3766419973103177\n",
      "fallma ,  FEV3OFVC ,  0.7763153733255954 ,  [0.13632271] ,  0.008118595326428446 ,  2.2170304822727873\n",
      "fallma ,  FEV6OFVC ,  0.7765697786674843 ,  [0.14590212] ,  0.009312969384952074 ,  2.215447387035817\n"
     ]
    }
   ],
   "source": [
    "print ('Linear Regression of variables in form y = intercept + slope * age')\n",
    "print ('dataframe ,  variable,        intercept,          slope,            R squared,         standard deviation')\n",
    "for y in framestoanalyze:\n",
    "  #  print (y.name)\n",
    "    for xx in varsratio:\n",
    " #       print(y, \" \", xx)\n",
    "        reg = linear_regage (y,xx)"
   ]
  },
  {
   "cell_type": "markdown",
   "metadata": {},
   "source": [
    "# Now do regression for non-ratios height_age_reg(data, y_var)"
   ]
  },
  {
   "cell_type": "markdown",
   "metadata": {},
   "source": [
    "# Height_age_reg regression y = b0 + b1 * age + b2 * age * age + b3 * height * height"
   ]
  },
  {
   "cell_type": "markdown",
   "metadata": {},
   "source": [
    "def height_age_reg(data, y_var):\n",
    "# convert agemonths to years\n",
    "    X_age = data['HSAGEIR']/12\n",
    "    X_age = np.array(X_age).reshape(-1, 1)\n",
    "    X_age = np.hstack((X_age, X_age**2))\n",
    "    X_height = data['BMPHT']**2\n",
    "    X_height = np.array(X_height).reshape(-1, 1)\n",
    "    X = np.concatenate((X_age, X_height), axis=1)\n",
    "    y = data[y_var]\n",
    "    lr = LinearRegression().fit(X, y)\n",
    "        # do linear regression fit on X, y\n",
    "    print(data.name, \", \",y_var, \", \",lr.intercept_, \",\", lr.coef_, \",\", lr.score(X, y), \",\",  data.loc[:,y_var].std(), \",\",  data.loc[:,y_var].count())"
   ]
  },
  {
   "cell_type": "code",
   "execution_count": 735,
   "metadata": {},
   "outputs": [],
   "source": [
    "def height_age_reg(data, y_var):\n",
    "# convert agemonths to years\n",
    "    X_age = data['HSAGEIR']/12\n",
    "    X_age = np.array(X_age).reshape(-1, 1)\n",
    "    X_age = np.hstack((X_age, X_age**2))\n",
    "    X_height = data['BMPHT']**2\n",
    "    X_height = np.array(X_height).reshape(-1, 1)\n",
    "    X = np.concatenate((X_age, X_height), axis=1)\n",
    "    y = data[y_var]\n",
    "    lr = LinearRegression().fit(X, y)\n",
    "        # do linear regression fit on X, y\n",
    "    print(data.name, \", \",y_var, \", \",lr.intercept_, \",\", lr.coef_, \",\", lr.score(X, y), \",\",  data.loc[:,y_var].std(), \",\",  data.loc[:,y_var].count())"
   ]
  },
  {
   "cell_type": "code",
   "execution_count": 736,
   "metadata": {},
   "outputs": [
    {
     "name": "stdout",
     "output_type": "stream",
     "text": [
      "m20overb ,  SPPFEV1 ,  818.5450802528767 , [-2.99633738e+02 -5.98033876e-01  1.18232577e-01] , 0.47872744724171157 , 716.3476358369503 , 479\n"
     ]
    }
   ],
   "source": [
    "height_age_reg(m20overb, 'SPPFEV1')"
   ]
  },
  {
   "cell_type": "markdown",
   "metadata": {},
   "source": [
    "# Now do regression for all dataframes all nonratio variables"
   ]
  },
  {
   "cell_type": "code",
   "execution_count": 737,
   "metadata": {},
   "outputs": [
    {
     "name": "stdout",
     "output_type": "stream",
     "text": [
      "Linear Regression of variables in form y = intercept + b1 * age + b2 * age * age + b3 * height * height\n",
      "dataframe ,  variable,        intercept,   [b1. b2. b3]. ,            R squared,         standard deviation   count\n",
      "m20overb ,  SPPFEV1 ,  818.5450802528767 , [-2.99633738e+02 -5.98033876e-01  1.18232577e-01] , 0.47872744724171157 , 716.3476358369503 , 479\n",
      "m20overb ,  SPPFEV3 ,  1627.8305234507325 , [ 6.87734958e+02 -1.16770116e+02  5.98187873e-02] , 0.007064260018931234 , 3950.8674926269596 , 479\n",
      "m20overb ,  SPPFEV6 ,  1401.6771393133859 , [ 7.49324001e+02 -1.20933350e+02  6.72641145e-02] , 0.006786969618664762 , 3945.460536572536 , 479\n",
      "m20overb ,  SPPFVC ,  147.6930918734388 , [-2.51166200e+02 -5.20947755e-01  1.59870763e-01] , 0.445637473937338 , 798.9771439148203 , 479\n",
      "m20overb ,  SPPPEAK ,  1546.1770195904892 , [104.92735542 -91.13457735   0.26619942] , 0.2579329745429867 , 2020.4963916346805 , 479\n",
      "m20overb ,  SPPMMEF ,  3605.598199686871 , [ 9.17369951e+02 -1.76952557e+02 -1.60860979e-02] , 0.016287872985493834 , 4104.189940828271 , 479\n",
      "m20overb ,  SPPFEF75 ,  2140.5227047810386 , [-4.98894034e+02  2.65612151e+01  1.57069621e-02] , 0.21680263092900953 , 790.1312830413451 , 479\n",
      "m20overb ,  SPPEXPIR ,  0.47455236596807104 , [ 3.10364092e+00 -2.79631987e-01  8.21134248e-05] , 0.13481239510540188 , 3.5719851519280756 , 479\n",
      "m20overcma ,  SPPFEV1 ,  781.3986780195132 , [-1.55278709e+02 -2.51565781e+01  1.33896577e-01] , 0.6379775433653347 , 772.3990272717793 , 1098\n",
      "m20overcma ,  SPPFEV3 ,  640.8137417986245 , [-8.01382810e+02  8.40872344e+01  1.93051271e-01] , 0.016658047183953917 , 4488.828061938178 , 1098\n",
      "m20overcma ,  SPPFEV6 ,  308.8000898146038 , [-6.86316589e+02  7.37399422e+01  2.01954196e-01] , 0.016758832577367655 , 4479.401173019018 , 1098\n",
      "m20overcma ,  SPPFVC ,  -254.72840599347 , [ -5.15462988 -37.1386109    0.1887659 ] , 0.588764872826024 , 870.9740124805406 , 1098\n",
      "m20overcma ,  SPPPEAK ,  697.3806127262214 , [ 9.51441844e+02 -1.85489535e+02  2.66124591e-01] , 0.32601395594720095 , 1858.8880142818177 , 1098\n",
      "m20overcma ,  SPPMMEF ,  3726.090769458637 , [-8.18308700e+02  5.62402497e+01  8.10172361e-02] , 0.016126356751951065 , 4633.056957145367 , 1098\n",
      "m20overcma ,  SPPFEF75 ,  2127.937304004031 , [-7.82910663e+02  5.93423486e+01  3.68474436e-02] , 0.3280989156751327 , 827.1831539665462 , 1098\n",
      "m20overcma ,  SPPEXPIR ,  2.794623694547595 , [ 4.20638283e+00 -4.03560001e-01 -2.90623107e-05] , 0.14261367076624432 , 4.435852548087135 , 1098\n",
      "m20overc ,  SPPFEV1 ,  526.1035443685118 , [-96.44907811 -30.93809451   0.13764914] , 0.6570829036019225 , 845.2944914031684 , 494\n",
      "m20overc ,  SPPFEV3 ,  947.622791570745 , [-1.30872649e+03  1.64235358e+02  2.03330779e-01] , 0.010585983476506411 , 5435.217438783881 , 494\n",
      "m20overc ,  SPPFEV6 ,  509.00432315437047 , [-1.16676633e+03  1.51224025e+02  2.13870439e-01] , 0.010688925929609017 , 5420.008654955912 , 494\n",
      "m20overc ,  SPPFVC ,  -654.4161842705453 , [ 20.84994962 -38.67579811   0.19956738] , 0.6131203491688136 , 936.1284816839889 , 494\n",
      "m20overc ,  SPPPEAK ,  652.1364217895207 , [ 1.20976445e+03 -2.10719924e+02  2.47897527e-01] , 0.37538432932787613 , 1855.434889542861 , 494\n",
      "m20overc ,  SPPMMEF ,  3847.4262016097505 , [-1.17338369e+03  1.21985363e+02  8.36662727e-02] , 0.006325693506888941 , 5585.147359546331 , 494\n",
      "m20overc ,  SPPFEF75 ,  2246.9906386507805 , [-7.75345216e+02  5.87729430e+01  3.16947427e-02] , 0.3051240852950323 , 875.8422710645424 , 494\n",
      "m20overc ,  SPPEXPIR ,  1.8362069143975894 , [ 3.56780615e+00 -3.07384543e-01  2.82374218e-05] , 0.18214118401127055 , 3.9640629089200203 , 494\n",
      "m20ovecma ,  SPPFEV1 ,  738.6357473530306 , [-1.80184848e+02 -2.27158067e+01  1.37449106e-01] , 0.6133110343426198 , 704.3034881607231 , 604\n",
      "m20ovecma ,  SPPFEV3 ,  -522.9008868701176 , [ 4.24055548e+02 -1.10176702e+02  1.75854903e-01] , 0.03579292640311138 , 3523.484982271625 , 604\n",
      "m20ovecma ,  SPPFEV6 ,  -786.9424847646414 , [ 5.32961067e+02 -1.20597718e+02  1.83013443e-01] , 0.034592787210759535 , 3517.832713250555 , 604\n",
      "m20ovecma ,  SPPFVC ,  114.04976772853661 , [ 22.70484305 -43.47968699   0.17502922] , 0.5300347675612503 , 783.1434782828148 , 604\n",
      "m20ovecma ,  SPPPEAK ,  -583.0168207329752 , [ 8.85572589e+02 -1.81821394e+02  3.18107003e-01] , 0.2890907638884964 , 1854.0439544339388 , 604\n",
      "m20ovecma ,  SPPMMEF ,  1215.2820164107152 , [ 3.38226346e+02 -1.28576376e+02  1.17112162e-01] , 0.049367516857869886 , 3678.6457653574657 , 604\n",
      "m20ovecma ,  SPPFEF75 ,  1688.6170977375386 , [-7.90038304e+02  6.12085462e+01  5.28901608e-02] , 0.3430017625637064 , 778.5365403359611 , 604\n",
      "m20ovecma ,  SPPEXPIR ,  2.4948788073548016 , [ 5.49213411e+00 -6.02476885e-01 -8.03595682e-05] , 0.12127779771829927 , 4.770811765216133 , 604\n",
      "f18overb ,  SPPFEV1 ,  241.0145058323933 , [-1.64371957e+02 -1.30200576e+01  1.12629146e-01] , 0.5700231999773656 , 596.049813553373 , 940\n",
      "f18overb ,  SPPFEV3 ,  1078.4501594788026 , [-1.15912150e+03  1.70374403e+02  1.46035725e-01] , 0.005834083693967984 , 5635.343867889951 , 940\n",
      "f18overb ,  SPPFEV6 ,  866.1205512458828 , [-1.07400301e+03  1.61914706e+02  1.51204826e-01] , 0.005892725932789222 , 5629.177412888808 , 940\n",
      "f18overb ,  SPPFVC ,  -523.18036664396 , [ 41.80611824 -35.37604476   0.14532928] , 0.4947939627050155 , 650.2701149099175 , 940\n",
      "f18overb ,  SPPPEAK ,  1382.23490062564 , [ 3.89427444e+02 -1.19986954e+02  1.97317481e-01] , 0.29305715557423184 , 1592.3327627366623 , 940\n",
      "f18overb ,  SPPMMEF ,  3687.939085596554 , [-1.58103167e+03  1.98621606e+02  8.53734958e-02] , 0.00604605998569685 , 5708.326570354172 , 940\n",
      "f18overb ,  SPPFEF75 ,  1854.7950215890796 , [-7.77974931e+02  7.38311482e+01  3.09997651e-02] , 0.2002144056200058 , 794.5219443053662 , 940\n",
      "f18overb ,  SPPEXPIR ,  1.534481179162821 , [ 2.41483540e+00 -1.68132951e-01  7.16634299e-05] , 0.06983043261657818 , 5.953434893794109 , 940\n",
      "f18overcma ,  SPPFEV1 ,  586.0983889127424 , [-58.74906994 -27.17287077   0.11015409] , 0.6718927728397943 , 618.3944677345147 , 2011\n",
      "f18overcma ,  SPPFEV3 ,  4419.040448448026 , [-2.42523319e+03  3.42173408e+02  1.18492230e-01] , 0.010280888313274894 , 7644.690729786063 , 2011\n",
      "f18overcma ,  SPPFEV6 ,  4180.807955972883 , [-2.33455726e+03  3.33778352e+02  1.24523043e-01] , 0.010475119097978158 , 7634.333094822271 , 2011\n",
      "f18overcma ,  SPPFVC ,  -195.13024539329626 , [117.2754576  -44.12915052   0.14966336] , 0.591750617005377 , 678.3683022915802 , 2011\n",
      "f18overcma ,  SPPPEAK ,  611.3662978283028 , [ 7.43938712e+02 -1.43418905e+02  2.05045488e-01] , 0.3521304517412259 , 1413.2023835239456 , 2011\n",
      "f18overcma ,  SPPMMEF ,  7164.511134287317 , [-2.62361003e+03  3.42441112e+02  2.89632909e-02] , 0.007623680152842206 , 7709.724619003465 , 2011\n",
      "f18overcma ,  SPPFEF75 ,  2381.2472178956523 , [-8.69570115e+02  8.07470108e+01  2.52152050e-02] , 0.17615085982573464 , 945.9800826129671 , 2011\n",
      "f18overcma ,  SPPEXPIR ,  1.7898069840517659 , [ 3.07815880e+00 -2.72513738e-01  3.41130384e-05] , 0.1259145522438535 , 4.233762364619194 , 2011\n",
      "f18overc ,  SPPFEV1 ,  696.1722782212369 , [-12.72331855 -32.54050745   0.10284368] , 0.7019000137273385 , 664.6254127795577 , 991\n",
      "f18overc ,  SPPFEV3 ,  2286.7316010968125 , [-2.43276951e+03  3.47090042e+02  1.96966718e-01] , 0.011255757767506869 , 8597.032749190636 , 991\n",
      "f18overc ,  SPPFEV6 ,  1955.1848745314173 , [-2.31570223e+03  3.36039959e+02  2.04339898e-01] , 0.011494586908042614 , 8583.77212611472 , 991\n",
      "f18overc ,  SPPFVC ,  -295.38185110206996 , [ 2.15807934e+02 -5.53526429e+01  1.46644482e-01] , 0.6265594039123443 , 734.7922722125381 , 991\n",
      "f18overc ,  SPPPEAK ,  1663.1082238529334 , [ 8.92025116e+02 -1.59362392e+02  1.55199901e-01] , 0.39963634559356037 , 1410.7712146343838 , 991\n",
      "f18overc ,  SPPMMEF ,  5100.219238002419 , [-2.76494989e+03  3.65813223e+02  1.10324290e-01] , 0.008618031756259525 , 8678.718716572734 , 991\n",
      "f18overc ,  SPPFEF75 ,  2313.0846649113555 , [-9.41841311e+02  8.88051616e+01  3.28896187e-02] , 0.15937191637628126 , 1014.1762949886286 , 991\n",
      "f18overc ,  SPPEXPIR ,  -1.0362778543894642 , [ 3.79215732e+00 -3.46731297e-01  8.04700065e-05] , 0.1187358724461789 , 4.6591210658447375 , 991\n",
      "f18overma ,  SPPFEV1 ,  455.9922027429416 , [-87.6463907  -24.15621567   0.11762006] , 0.6344369121240321 , 570.1345251996632 , 1020\n",
      "f18overma ,  SPPFEV3 ,  6747.4991941241915 , [-2.47086671e+03  3.46151937e+02  2.76709161e-02] , 0.007973180031352278 , 6586.814017641234 , 1020\n",
      "f18overma ,  SPPFEV6 ,  6554.95388647194 , [-2.39677694e+03  3.39354646e+02  3.32579943e-02] , 0.00784220938882818 , 6578.989340148012 , 1020\n",
      "f18overma ,  SPPFVC ,  -33.87309364012481 , [ 33.46701874 -34.74367172   0.14905646] , 0.5414337499051387 , 614.7085127079692 , 1020\n",
      "f18overma ,  SPPPEAK ,  -419.22551343493524 , [ 7.90266791e+02 -1.57954256e+02  2.46553845e-01] , 0.31963476352912523 , 1412.955110350493 , 1020\n",
      "f18overma ,  SPPMMEF ,  8434.520757996705 , [-2.45289763e+03  3.18763497e+02 -3.11753570e-02] , 0.0070626841691270315 , 6638.500990736473 , 1020\n",
      "f18overma ,  SPPFEF75 ,  2449.2095693199008 , [-8.30003106e+02  7.73785717e+01  1.92412845e-02] , 0.1861366357137283 , 867.741192432402 , 1020\n",
      "f18overma ,  SPPEXPIR ,  2.4341064838785673 , [ 2.45902071e+00 -1.95395111e-01  5.52397166e-05] , 0.1326893979352629 , 3.7531255294970354 , 1020\n",
      "mlt20b ,  SPPFEV1 ,  -429.99844622875617 , [-1.46755392e+03  9.49335083e+02  1.38947254e-01] , 0.8480738897877577 , 984.1557174230417 , 609\n",
      "mlt20b ,  SPPFEV3 ,  -598.9518982129903 , [-1.79646303e+03  1.06289637e+03  1.68004873e-01] , 0.8590304381587622 , 1123.7032005345077 , 609\n",
      "mlt20b ,  SPPFEV6 ,  -587.8742047696996 , [-1.85148601e+03  1.07927033e+03  1.71026418e-01] , 0.8579671903305474 , 1136.61389920641 , 609\n",
      "mlt20b ,  SPPFVC ,  -580.4836585629482 , [-1.87091902e+03  1.08887165e+03  1.71526772e-01] , 0.8576541296769504 , 1140.1983806617309 , 609\n",
      "mlt20b ,  SPPPEAK ,  -418.38503544648484 , [-2.63954228e+03  2.42428355e+03  2.58838619e-01] , 0.7674533631101567 , 2396.645276181689 , 609\n",
      "mlt20b ,  SPPMMEF ,  -581.3412177715718 , [-3.93954338e+01  6.52052989e+02  1.15555772e-01] , 0.5514718375404009 , 1330.2560229443036 , 609\n",
      "mlt20b ,  SPPFEF75 ,  -63.58831735987951 , [-8.38681171e+02  6.43394653e+02  6.03056181e-02] , 0.4286512038780309 , 726.7888151591058 , 609\n",
      "mlt20b ,  SPPEXPIR ,  -1.0753126538471829 , [ 1.28792248e+01 -5.04508385e+00  3.52443080e-06] , 0.04581768653308371 , 2.798565127056044 , 609\n",
      "mlt20cma ,  SPPFEV1 ,  -172.03049233274487 , [-1.79314974e+03  1.29645209e+03  1.45622549e-01] , 0.8995471134141912 , 1069.2014317312553 , 1029\n",
      "mlt20cma ,  SPPFEV3 ,  -136.24223993807027 , [-2.36913928e+03  1.60225753e+03  1.71374494e-01] , 0.9070435693845842 , 1228.5103348905009 , 1029\n",
      "mlt20cma ,  SPPFEV6 ,  -102.6927465560043 , [-2.39872390e+03  1.62491962e+03  1.72095777e-01] , 0.905050530517515 , 1239.1142101854923 , 1029\n",
      "mlt20cma ,  SPPFVC ,  -91.00211286096737 , [-2.40407845e+03  1.63061890e+03  1.71968156e-01] , 0.9042793024924773 , 1240.8614442694895 , 1029\n",
      "mlt20cma ,  SPPPEAK ,  514.3082848212262 , [-4.01841787e+03  3.29820275e+03  2.52433164e-01] , 0.8080077681642674 , 2356.873443605462 , 1029\n",
      "mlt20cma ,  SPPMMEF ,  -142.0305547625876 , [-1.26225202e+03  1.23668902e+03  1.39708836e-01] , 0.6453165817588213 , 1353.0879754499376 , 1029\n",
      "mlt20cma ,  SPPFEF75 ,  -164.72531410162105 , [-1.06037108e+03  7.05638573e+02  8.24721279e-02] , 0.5238185054404396 , 755.7353873526134 , 1029\n",
      "mlt20cma ,  SPPEXPIR ,  3.6217139643537273 , [ 4.27434959e+00 -1.02108269e+00  8.14952426e-07] , 0.050439856843007 , 2.5165269573220184 , 1029\n",
      "mlt20c ,  SPPFEV1 ,  -109.05903446103866 , [-2.01288416e+03  1.32951419e+03  1.47917193e-01] , 0.908850278131445 , 1099.2914919518828 , 421\n",
      "mlt20c ,  SPPFEV3 ,  -74.19598310888114 , [-2.57793399e+03  1.64358086e+03  1.73794736e-01] , 0.9152887011332572 , 1277.4807652515176 , 421\n",
      "mlt20c ,  SPPFEV6 ,  -77.85241986170786 , [-2.52720757e+03  1.62328382e+03  1.74751060e-01] , 0.9115991301969111 , 1287.410155741093 , 421\n",
      "mlt20c ,  SPPFVC ,  -44.5670913388567 , [-2.58867365e+03  1.64908735e+03  1.75161271e-01] , 0.9103343318081268 , 1289.258255266478 , 421\n",
      "mlt20c ,  SPPPEAK ,  695.7640641969165 , [-4.14931391e+03  3.24298339e+03  2.48334880e-01] , 0.8195623057846622 , 2352.939294048929 , 421\n",
      "mlt20c ,  SPPMMEF ,  -89.34621715194999 , [-1.58342174e+03  1.27687212e+03  1.42192711e-01] , 0.6671188270312493 , 1343.3207840854695 , 421\n",
      "mlt20c ,  SPPFEF75 ,  103.45546705354104 , [-1.70803528e+03  9.63978037e+02  8.28488071e-02] , 0.5734122656788303 , 740.330342523884 , 421\n",
      "mlt20c ,  SPPEXPIR ,  6.540992103944688 , [-1.83430641e+00  1.32540658e+00  3.56946922e-05] , 0.037425416936448186 , 2.4749759927039765 , 421\n",
      "mlt20ma ,  SPPFEV1 ,  -136.4396243852848 , [-2.18872549e+03  1.41802822e+03  1.57740589e-01] , 0.8991533745651632 , 1048.770111754407 , 608\n",
      "mlt20ma ,  SPPFEV3 ,  -123.94391364003422 , [-2.59879485e+03  1.67220613e+03  1.78987976e-01] , 0.902767005900421 , 1193.9523371219902 , 608\n",
      "mlt20ma ,  SPPFEV6 ,  -68.61749770725146 , [-2.67008841e+03  1.71939386e+03  1.79342923e-01] , 0.9019571149409527 , 1204.9891627098655 , 608\n",
      "mlt20ma ,  SPPFVC ,  -70.29882310636958 , [-2.64245896e+03  1.71274001e+03  1.78936978e-01] , 0.9016009888295959 , 1206.6794364204518 , 608\n",
      "mlt20ma ,  SPPPEAK ,  488.3372342510511 , [-4.91017131e+03  3.58475465e+03  2.82432203e-01] , 0.8053088261645103 , 2361.466761665317 , 608\n",
      "mlt20ma ,  SPPMMEF ,  15.290187701275954 , [-2.33293260e+03  1.55517931e+03  1.69943285e-01] , 0.6505418780226129 , 1355.430251392296 , 608\n",
      "mlt20ma ,  SPPFEF75 ,  -237.30791557544512 , [-1.33573780e+03  7.26051182e+02  9.96813142e-02] , 0.5112139444338211 , 764.3211074595138 , 608\n",
      "mlt20ma ,  SPPEXPIR ,  1.5150748026891563 , [ 8.99408830e+00 -2.79109934e+00 -3.58951910e-05] , 0.06694294911505139 , 2.5436938650605727 , 608\n",
      "flt18b ,  SPPFEV1 ,  -1030.8002901852683 , [ 9.02005927e+02 -8.66829723e+01  1.06070971e-01] , 0.7637464902235289 , 621.5703385237149 , 604\n",
      "flt18b ,  SPPFEV3 ,  -1005.1675721397755 , [6.73871996e+02 1.29581555e+01 1.20664340e-01] , 0.7606006817523739 , 678.4871622745378 , 604\n",
      "flt18b ,  SPPFEV6 ,  -968.8757250597132 , [6.02242854e+02 3.61460327e+01 1.22400780e-01] , 0.7564224683042293 , 681.91633944846 , 604\n",
      "flt18b ,  SPPFVC ,  -925.0874753397925 , [5.36240210e+02 6.57128616e+01 1.22348230e-01] , 0.754082978675112 , 681.281105364602 , 604\n",
      "flt18b ,  SPPPEAK ,  -3133.9632069895797 , [ 6.03191534e+03 -1.88861046e+03  1.88763587e-01] , 0.5978729900735211 , 1502.888282847843 , 604\n",
      "flt18b ,  SPPMMEF ,  -1549.3948641335087 , [ 2.22254806e+03 -5.00954307e+02  1.14968816e-01] , 0.4468446492253179 , 1013.9410028248869 , 604\n",
      "flt18b ,  SPPFEF75 ,  -689.0463021374908 , [5.31319434e+02 3.42173474e+01 5.96448826e-02] , 0.3533923004244366 , 582.3377048469933 , 604\n",
      "flt18b ,  SPPEXPIR ,  5.507512267101687 , [-1.49727441e-01  2.92401833e-01  1.85556192e-05] , 0.003649827014672869 , 2.7537967396608685 , 604\n",
      "flt18cma ,  SPPFEV1 ,  -1244.703947940961 , [ 1.14968441e+03 -2.18105547e+02  1.26921959e-01] , 0.8174817656482561 , 694.7502673510901 , 986\n",
      "flt18cma ,  SPPFEV3 ,  -1283.3832083085945 , [ 8.80707582e+02 -7.22180743e+01  1.46104026e-01] , 0.8261702033944006 , 776.6413027268013 , 986\n",
      "flt18cma ,  SPPFEV6 ,  -1252.1600858408588 , [ 8.24111860e+02 -4.89409617e+01  1.47392800e-01] , 0.8217505408101551 , 781.9076554739831 , 986\n",
      "flt18cma ,  SPPFVC ,  -1262.8738615468828 , [ 8.46138362e+02 -6.00155216e+01  1.47728573e-01] , 0.8206616218011396 , 783.7877853231857 , 986\n",
      "flt18cma ,  SPPPEAK ,  -4117.474892605744 , [ 7.62045368e+03 -2.90432531e+03  2.18019973e-01] , 0.6167391355630414 , 1529.7388468217375 , 986\n",
      "flt18cma ,  SPPMMEF ,  -1949.1764420115364 , [ 3.87812268e+03 -1.34783147e+03  1.15442314e-01] , 0.4827783561615345 , 981.3799795030659 , 986\n",
      "flt18cma ,  SPPFEF75 ,  -711.9284372688278 , [ 5.77601859e+02 -3.22234175e+01  7.22828482e-02] , 0.4024799066586935 , 599.1203411328579 , 986\n",
      "flt18cma ,  SPPEXPIR ,  4.267617156832063 , [ 1.48888810e-03 -4.66557647e-01  1.18823100e-04] , 0.014003124375151721 , 2.681003771232529 , 986\n",
      "flt18c ,  SPPFEV1 ,  -1122.9467578100443 , [ 5.50114373e+02 -5.71006041e+01  1.38720510e-01] , 0.8499392562948954 , 721.8485777803722 , 414\n",
      "flt18c ,  SPPFEV3 ,  -963.6539685850912 , [-1.48491423e+02  2.90384064e+02  1.59621019e-01] , 0.8570908568088553 , 812.520104314685 , 414\n",
      "flt18c ,  SPPFEV6 ,  -902.9243403852947 , [-2.42782510e+02  3.30546427e+02  1.60484540e-01] , 0.8509891295544934 , 816.310556578534 , 414\n",
      "flt18c ,  SPPFVC ,  -942.9612414116045 , [-1.59526393e+02  2.89308332e+02  1.60855305e-01] , 0.8489436044212727 , 819.0234062022432 , 414\n",
      "flt18c ,  SPPPEAK ,  -4066.79108776027 , [ 6.87221922e+03 -2.67611322e+03  2.33512906e-01] , 0.7153472707725856 , 1517.2001044549272 , 414\n",
      "flt18c ,  SPPMMEF ,  -2333.19635991824 , [ 4.02849306e+03 -1.65431872e+03  1.33911419e-01] , 0.5264244845521517 , 971.7232926439851 , 414\n",
      "flt18c ,  SPPFEF75 ,  -1046.7585014665935 , [ 1.02679509e+03 -3.47184905e+02  7.86722051e-02] , 0.4402578667400555 , 594.8567587918678 , 414\n",
      "flt18c ,  SPPEXPIR ,  2.393481390263842 , [ 7.18213434e+00 -3.44277739e+00  3.63466967e-05] , 0.009788709486322156 , 2.669035381632698 , 414\n",
      "flt18ma ,  SPPFEV1 ,  -1256.4892539564235 , [ 1.17800339e+03 -2.02910125e+02  1.26600281e-01] , 0.7959573384862603 , 675.0349008273141 , 572\n",
      "flt18ma ,  SPPFEV3 ,  -1469.7806045438751 , [ 1.40007037e+03 -2.68842537e+02  1.40917323e-01] , 0.8017622808324376 , 749.2584697332917 , 572\n",
      "flt18ma ,  SPPFEV6 ,  -1457.3169839718512 , [ 1.35506488e+03 -2.51371078e+02  1.42807697e-01] , 0.7990269371353369 , 755.6695865790554 , 572\n",
      "flt18ma ,  SPPFVC ,  -1449.3567643326069 , [ 1.34156429e+03 -2.44335375e+02  1.43012177e-01] , 0.7985398738883873 , 756.8412595502884 , 572\n",
      "flt18ma ,  SPPPEAK ,  -3974.5324886131875 , [ 7.28673834e+03 -2.76799825e+03  2.23398251e-01] , 0.552945037016029 , 1539.7574716157872 , 572\n",
      "flt18ma ,  SPPMMEF ,  -1431.9076220494367 , [ 2.45734654e+03 -6.79474823e+02  1.28619691e-01] , 0.4728763053232272 , 983.669277432128 , 572\n",
      "flt18ma ,  SPPFEF75 ,  -345.18377487631847 , [-4.44615023e+02  4.36158649e+02  8.18364135e-02] , 0.39237460819391085 , 600.5618963851966 , 572\n",
      "flt18ma ,  SPPEXPIR ,  5.133254993406961 , [-3.22550718e+00  1.03866834e+00  1.44866114e-04] , 0.0160899770483639 , 2.6671705299230597 , 572\n",
      "mallcma ,  SPPFEV1 ,  -1555.8309502255183 , [ 5.12290510e+02 -1.05974557e+02  1.72262396e-01] , 0.8239014428030123 , 1063.5561249452755 , 2127\n",
      "mallcma ,  SPPFEV3 ,  -2019.1884071523145 , [ 2.50690532e+02 -4.25251417e+01  2.18442536e-01] , 0.11606842990757471 , 3421.7359517068944 , 2127\n",
      "mallcma ,  SPPFEV6 ,  -2082.1640197840998 , [ 3.47728349e+02 -5.05697743e+01  2.19283682e-01] , 0.12541834477452685 , 3432.6666433096857 , 2127\n",
      "mallcma ,  SPPFVC ,  -2064.8224471536287 , [ 7.29461691e+02 -1.25646115e+02  2.05004454e-01] , 0.8454843226729482 , 1310.4101538402335 , 2127\n",
      "mallcma ,  SPPPEAK ,  -3399.092305183297 , [ 2.37689623e+03 -3.57818256e+02  3.17786066e-01] , 0.7403279539954062 , 2675.5989720539483 , 2127\n",
      "mallcma ,  SPPMMEF ,  -1077.5958418571504 , [ 2.73670734e+02 -7.62931913e+01  1.77012590e-01] , 0.06948598528906469 , 3486.874714977251 , 2127\n",
      "mallcma ,  SPPFEF75 ,  -512.2753457463364 , [-3.36949375e+02  4.54790505e+00  9.94396502e-02] , 0.3619069469702061 , 794.4123797635675 , 2127\n",
      "mallcma ,  SPPEXPIR ,  4.603056583651872 , [ 3.35296347e+00 -3.01268601e-01 -3.75457198e-05] , 0.2957232216704284 , 4.06633841710996 , 2127\n",
      "mallb ,  SPPFEV1 ,  -1522.5811176828151 , [ 3.96497278e+02 -8.71442973e+01  1.54472292e-01] , 0.7786301069590176 , 1000.6676653321681 , 1088\n",
      "mallb ,  SPPFEV3 ,  -1518.8762249295537 , [ 9.32072068e+02 -1.45391122e+02  1.47024008e-01] , 0.1345364967290913 , 2832.982256122517 , 1088\n",
      "mallb ,  SPPFEV6 ,  -1566.3240676352816 , [ 9.94813333e+02 -1.49585369e+02  1.48504268e-01] , 0.14376661202263175 , 2844.628226663238 , 1088\n",
      "mallb ,  SPPFVC ,  -1940.4580497673805 , [ 5.28221454e+02 -9.69495205e+01  1.82754997e-01] , 0.8066436224415531 , 1205.3003586474526 , 1088\n",
      "mallb ,  SPPPEAK ,  -3559.50925236061 , [ 2.06398379e+03 -3.36122676e+02  3.20919335e-01] , 0.6932766637939912 , 2698.4412370171385 , 1088\n",
      "mallb ,  SPPMMEF ,  -833.203095123411 , [ 1.14154976e+03 -2.04586246e+02  1.15426801e-01] , 0.09435587583294158 , 2936.3254873416863 , 1088\n",
      "mallb ,  SPPFEF75 ,  -531.0384799469614 , [-68.78221432 -27.58679983   0.07847447] , 0.2806505652425403 , 756.1439330880482 , 1088\n",
      "mallb ,  SPPEXPIR ,  4.038745858936254 , [ 2.29162847e+00 -1.79113777e-01  1.28757223e-05] , 0.23396183761010034 , 3.4525151541141645 , 1088\n",
      "mallc ,  SPPFEV1 ,  -1600.0336038424848 , [ 4.29155031e+02 -9.02498321e+01  1.72979204e-01] , 0.8355361875233752 , 1114.7395087396799 , 915\n",
      "mallc ,  SPPFEV3 ,  -2024.256429986478 , [-2.43662988e+02  4.28993239e+01  2.32446288e-01] , 0.08852849452939293 , 4175.50719002504 , 915\n",
      "mallc ,  SPPFEV6 ,  -2078.2555775936853 , [-126.93053824   32.48068954    0.23232405] , 0.09701630835851294 , 4183.292175890287 , 915\n",
      "mallc ,  SPPFVC ,  -2131.7447296169084 , [ 6.62305436e+02 -1.12059764e+02  2.07219303e-01] , 0.8558807951880917 , 1390.3134682950754 , 915\n",
      "mallc ,  SPPPEAK ,  -3167.8198143572845 , [ 2.28462589e+03 -3.32688575e+02  3.03585591e-01] , 0.7668816403617156 , 2712.6594351486783 , 915\n",
      "mallc ,  SPPMMEF ,  -1062.5078709206196 , [-3.32434114e+02  2.83801562e+01  1.88098238e-01] , 0.04391410962951481 , 4225.789483398483 , 915\n",
      "mallc ,  SPPFEF75 ,  -573.7121636874663 , [-4.34692322e+02  2.15186152e+01  1.00476951e-01] , 0.3683125265362317 , 817.9442376229727 , 915\n",
      "mallc ,  SPPEXPIR ,  4.87729485607416 , [ 2.80494214e+00 -2.21271439e-01 -2.15579744e-05] , 0.35646011835896263 , 3.878105900102491 , 915\n",
      "mallma ,  SPPFEV1 ,  -1717.0424670141479 , [ 5.18784744e+02 -1.11578619e+02  1.81697063e-01] , 0.8268234140630999 , 1021.7172358687038 , 1212\n",
      "mallma ,  SPPFEV3 ,  -2151.1941648144602 , [ 1.00061341e+03 -1.83612983e+02  1.98447735e-01] , 0.17670212435478294 , 2711.2957859846297 , 1212\n",
      "mallma ,  SPPFEV6 ,  -2199.495283102615 , [ 1.10242762e+03 -1.93142351e+02  1.98428887e-01] , 0.18620278522719158 , 2724.659571166607 , 1212\n",
      "mallma ,  SPPFVC ,  -2107.9031741558924 , [ 8.03126403e+02 -1.42753931e+02  2.06123128e-01] , 0.8373188934012141 , 1235.0091171577162 , 1212\n",
      "mallma ,  SPPPEAK ,  -4011.424281591867 , [ 2.37371177e+03 -3.72033464e+02  3.49562476e-01] , 0.7294987374615798 , 2642.599794809899 , 1212\n",
      "mallma ,  SPPMMEF ,  -1620.4004206872905 , [ 8.88649415e+02 -1.98440234e+02  1.83734776e-01] , 0.1393935038106946 , 2803.1547011524526 , 1212\n",
      "mallma ,  SPPFEF75 ,  -737.9468788564523 , [-3.96533371e+02  1.11254937e+01  1.14706489e-01] , 0.3889499077646384 , 771.595430190645 , 1212\n",
      "mallma ,  SPPEXPIR ,  4.533216141376418 , [ 4.15208682e+00 -4.32905623e-01 -7.02920055e-05] , 0.25509956447975457 , 4.186926107232574 , 1212\n",
      "fallcma ,  SPPFEV1 ,  -794.2623212862 , [ 2.70668669e+02 -6.55280188e+01  1.40236651e-01] , 0.7098699289897739 , 656.1607831775264 , 2997\n",
      "fallcma ,  SPPFEV3 ,  -799.6830083837563 , [-6.98579638e+02  1.41403639e+02  1.95445240e-01] , 0.015939964757958336 , 6298.457207122434 , 2997\n",
      "fallcma ,  SPPFEV6 ,  -855.1817591668919 , [-6.40693007e+02  1.36802292e+02  1.96699418e-01] , 0.017454427142586493 , 6293.558525071503 , 2997\n",
      "fallcma ,  SPPFVC ,  -1197.9501703668966 , [ 4.32931130e+02 -8.09978383e+01  1.65856130e-01] , 0.7051886463612982 , 759.3282300260814 , 2997\n",
      "fallcma ,  SPPPEAK ,  -1088.2680839012446 , [ 1.07175865e+03 -1.81521648e+02  2.47900162e-01] , 0.4935206782957763 , 1529.6001662300557 , 2997\n",
      "fallcma ,  SPPMMEF ,  478.40618534161285 , [-7.91218864e+02  1.29753072e+02  1.55999025e-01] , 0.006522049691134901 , 6345.629704509411 , 2997\n",
      "fallcma ,  SPPFEF75 ,  -0.36522949722825615 , [-3.69262874e+02  2.26499590e+01  8.21112824e-02] , 0.191037820494543 , 859.9756089965491 , 2997\n",
      "fallcma ,  SPPEXPIR ,  4.489484950476925 , [ 2.13989565e+00 -1.61699411e-01 -4.13388670e-06] , 0.21319538241016014 , 4.055573556397773 , 2997\n",
      "fallb ,  SPPFEV1 ,  -1018.606272897468 , [ 2.10683793e+02 -5.89572720e+01  1.35278690e-01] , 0.6407485685583441 , 623.1098899184265 , 1544\n",
      "fallb ,  SPPFEV3 ,  -1285.6460671911923 , [-2.60040794e+02  6.06691372e+01  1.74854146e-01] , 0.01742060261813505 , 4432.551030909883 , 1544\n",
      "fallb ,  SPPFEV6 ,  -1310.7495944308653 , [-2.06537722e+02  5.60411372e+01  1.75047489e-01] , 0.018886023310731304 , 4430.630009018761 , 1544\n",
      "fallb ,  SPPFVC ,  -1234.8863616314547 , [ 3.64019678e+02 -7.50098065e+01  1.50756463e-01] , 0.6349693807975682 , 705.8497498508358 , 1544\n",
      "fallb ,  SPPPEAK ,  -1498.2800884231292 , [ 1.17120284e+03 -2.15515088e+02  2.54072920e-01] , 0.4491357464157877 , 1647.724814337829 , 1544\n",
      "fallb ,  SPPMMEF ,  -842.7539273507286 , [-3.83529905e+02  5.30650053e+01  1.76161946e-01] , 0.012203692320270298 , 4503.542979106232 , 1544\n",
      "fallb ,  SPPFEF75 ,  -398.33690902041053 , [-3.18417245e+02  1.78965528e+01  8.56105983e-02] , 0.20390925850589858 , 723.6339361476712 , 1544\n",
      "fallb ,  SPPEXPIR ,  4.489074231696655 , [ 1.96863882e+00 -1.13860543e-01 -1.06936934e-05] , 0.12825306789634494 , 5.143115153710836 , 1544\n",
      "fallc ,  SPPFEV1 ,  -798.993702361036 , [ 2.40335481e+02 -5.91084426e+01  1.39314217e-01] , 0.7382705784578198 , 691.0045327096224 , 1405\n",
      "fallc ,  SPPFEV3 ,  -1551.1157458118873 , [-1.10951613e+03  2.01308482e+02  2.40374987e-01] , 0.018321683727468785 , 7255.643310836778 , 1405\n",
      "fallc ,  SPPFEV6 ,  -1598.3064594718899 , [-1.03910223e+03  1.95144154e+02  2.40699194e-01] , 0.01974712334465345 , 7248.373482291737 , 1405\n",
      "fallc ,  SPPFVC ,  -1195.9769034451524 , [ 4.22450097e+02 -7.75956478e+01  1.64568793e-01] , 0.7267838834356122 , 802.2397685031829 , 1405\n",
      "fallc ,  SPPPEAK ,  -865.8762161686236 , [ 1.15442183e+03 -1.85176089e+02  2.29167912e-01] , 0.5441465234211527 , 1530.06090960372 , 1405\n",
      "fallc ,  SPPMMEF ,  -411.74369480606947 , [-1.32177001e+03  2.09147487e+02  2.06691032e-01] , 0.009932520108323906 , 7312.8762737760835 , 1405\n",
      "fallc ,  SPPFEF75 ,  -202.28381208603332 , [-4.84843587e+02  4.04456634e+01  9.19852061e-02] , 0.18679600673430719 , 924.2797023665242 , 1405\n",
      "fallc ,  SPPEXPIR ,  5.2618633053775055 , [ 2.13103917e+00 -1.66092517e-01 -2.90258341e-05] , 0.18256438070833214 , 4.395193703593155 , 1405\n",
      "fallma ,  SPPFEV1 ,  -977.3801862565583 , [ 2.92417263e+02 -7.10501461e+01  1.49030416e-01] , 0.690758127862362 , 623.963232823418 , 1592\n",
      "fallma ,  SPPFEV3 ,  -540.5571904150584 , [-3.44867775e+02  8.57016054e+01  1.71200969e-01] , 0.011652645487778113 , 5308.700081251355 , 1592\n",
      "fallma ,  SPPFEV6 ,  -587.374401674364 , [-2.92366001e+02  8.15200541e+01  1.72375050e-01] , 0.012934484380528244 , 5305.675495129027 , 1592\n",
      "fallma ,  SPPFVC ,  -1290.2789255958892 , [ 4.56889755e+02 -8.72017758e+01  1.70093191e-01] , 0.6808210649373582 , 714.4095759483025 , 1592\n",
      "fallma ,  SPPPEAK ,  -1523.0231774613521 , [ 1.07814377e+03 -1.93679715e+02  2.71277960e-01] , 0.45823379042090473 , 1526.5303227870663 , 1592\n",
      "fallma ,  SPPMMEF ,  346.12081463692994 , [-4.10209644e+02  6.92952654e+01  1.51150655e-01] , 0.005451933436142364 , 5351.043500715606 , 1592\n",
      "fallma ,  SPPFEF75 ,  -169.93334605585574 , [-3.22920416e+02  1.55591092e+01  8.98305384e-02] , 0.20253136722854304 , 792.2258464043877 , 1592\n",
      "fallma ,  SPPEXPIR ,  3.8899277853348186 , [ 2.12167715e+00 -1.51493261e-01  1.75206372e-05] , 0.23676508467054225 , 3.692565127735447 , 1592\n"
     ]
    }
   ],
   "source": [
    "print ('Linear Regression of variables in form y = intercept + b1 * age + b2 * age * age + b3 * height * height')\n",
    "print ('dataframe ,  variable,        intercept,   [b1. b2. b3]. ,            R squared,         standard deviation   count')\n",
    "for y in framestoanalyze:\n",
    "  #  print (y.name)\n",
    "    for xx in varsnonratio:\n",
    " #       print(y, \" \", xx)\n",
    "        reg = height_age_reg(y,xx)"
   ]
  },
  {
   "cell_type": "code",
   "execution_count": 738,
   "metadata": {},
   "outputs": [
    {
     "ename": "NameError",
     "evalue": "name 'X' is not defined",
     "output_type": "error",
     "traceback": [
      "\u001b[0;31m---------------------------------------------------------------------------\u001b[0m",
      "\u001b[0;31mNameError\u001b[0m                                 Traceback (most recent call last)",
      "\u001b[0;32m<ipython-input-738-d1749f3d45cc>\u001b[0m in \u001b[0;36m<module>\u001b[0;34m\u001b[0m\n\u001b[0;32m----> 1\u001b[0;31m \u001b[0mplt\u001b[0m\u001b[0;34m.\u001b[0m\u001b[0mscatter\u001b[0m\u001b[0;34m(\u001b[0m\u001b[0mX\u001b[0m\u001b[0;34m,\u001b[0m \u001b[0my\u001b[0m\u001b[0;34m)\u001b[0m\u001b[0;34m\u001b[0m\u001b[0;34m\u001b[0m\u001b[0m\n\u001b[0m",
      "\u001b[0;31mNameError\u001b[0m: name 'X' is not defined"
     ]
    }
   ],
   "source": [
    "plt.scatter(X, y)"
   ]
  },
  {
   "cell_type": "code",
   "execution_count": 739,
   "metadata": {},
   "outputs": [
    {
     "data": {
      "text/plain": [
       "(2951, 3)"
      ]
     },
     "execution_count": 739,
     "metadata": {},
     "output_type": "execute_result"
    }
   ],
   "source": [
    "data = f18over\n",
    "X_age = data['HSAGEIR']\n",
    "X_age = np.array(X_age).reshape(-1, 1)\n",
    "X_age = np.hstack((X_age, X_age**2))\n",
    "X_height = data['BMPHT']\n",
    "X_height = np.array(X_height).reshape(-1, 1)\n",
    "np.concatenate((X_age, X_height),axis=1).shape"
   ]
  },
  {
   "cell_type": "code",
   "execution_count": 281,
   "metadata": {},
   "outputs": [],
   "source": [
    "from scipy import stats"
   ]
  },
  {
   "cell_type": "code",
   "execution_count": 284,
   "metadata": {},
   "outputs": [
    {
     "name": "stdout",
     "output_type": "stream",
     "text": [
      "R^2 =  0.6570829036019223\n",
      "Intercept:  526.103544368515\n",
      "Coefficients:  [-8.03742318 -0.21484788  0.13764914]\n"
     ]
    },
    {
     "data": {
      "text/plain": [
       "LinearRegression(copy_X=True, fit_intercept=True, n_jobs=None, normalize=False)"
      ]
     },
     "execution_count": 284,
     "metadata": {},
     "output_type": "execute_result"
    }
   ],
   "source": [
    "def height_age_reg(data, y_var):\n",
    "    X_age = data['HSAGEIR']\n",
    "    X_age = np.array(X_age).reshape(-1, 1)\n",
    "    X_age = np.hstack((X_age, X_age**2))\n",
    "    X_height = data['BMPHT']**2\n",
    "    X_height = np.array(X_height).reshape(-1, 1)\n",
    "    X = np.concatenate((X_age, X_height), axis=1)\n",
    "    y = data[y_var]\n",
    "    lr = LinearRegression().fit(X, y)\n",
    "        # do linear regression fit on X, y\n",
    "    print(\"R^2 = \",lr.score(X, y))\n",
    "    print(\"Intercept: \",  lr.intercept_)\n",
    "    print(\"Coefficients: \", lr.coef_)\n",
    "    # slope_1, intercept_1, r_val_1, p_val_1, stderr_1 = stats.linregress(X, y)\n",
    "    # print(\"Std error: \", lr.stderr_1)\n",
    "    return lr\n",
    "\n",
    "height_age_reg(m20over.query('DMARETHN == 1'), 'SPPFEV1')"
   ]
  },
  {
   "cell_type": "markdown",
   "metadata": {},
   "source": [
    "# now plot y actual value (e.g. of PEFR/FVC) vs predicted PEFR/FVC\n",
    "first need new value PEFROFVCPRED = the regression for predicted\n",
    "  and PEFROFVCPP - %predicted of PEF\n",
    "then do linear regression of x = PEFROFVCPRED and y = PEFROFVCROFVC\n",
    "do scatter plot of X,y to see if \n",
    "do histogram of PEFROFVC\n",
    "do linear regression and scatter plot of PEFROFVCPP (y) versus age to see if the SDev varies by age\n",
    "need see if normal distribution of \n",
    "\n",
    "Also have new variables PEFRPP/FVCPP - or PEFRPP-FVCPP\n",
    "  then see if one or other has normal distribution and what is variance\n",
    "  ratio should be centered around 1; and difference around 0\n",
    "  I have been using PEFRPP-FVCPP >30 as indicator, but ratio may be better (e.g. if more than 1.3,"
   ]
  },
  {
   "cell_type": "markdown",
   "metadata": {},
   "source": [
    "do plot of actual FEV1 vs predicted FEV1 ( x vs y)\n",
    "to get lower limit, need standard deviation - first see if normal distribution\n",
    "  then fit to gaussian and sdev from that\n",
    "  \n",
    "  need check whether same sdev for each age; whether same for each height, for each height**2, for each predicted FEV1\n",
    "    by categories\n"
   ]
  },
  {
   "cell_type": "code",
   "execution_count": 2,
   "metadata": {},
   "outputs": [
    {
     "ename": "NameError",
     "evalue": "name 'm20over' is not defined",
     "output_type": "error",
     "traceback": [
      "\u001b[0;31m---------------------------------------------------------------------------\u001b[0m",
      "\u001b[0;31mNameError\u001b[0m                                 Traceback (most recent call last)",
      "\u001b[0;32m<ipython-input-2-dcb1139969d9>\u001b[0m in \u001b[0;36m<module>\u001b[0;34m\u001b[0m\n\u001b[1;32m     14\u001b[0m     \u001b[0;32mreturn\u001b[0m \u001b[0mlr\u001b[0m\u001b[0;34m\u001b[0m\u001b[0;34m\u001b[0m\u001b[0m\n\u001b[1;32m     15\u001b[0m \u001b[0;34m\u001b[0m\u001b[0m\n\u001b[0;32m---> 16\u001b[0;31m \u001b[0mreg\u001b[0m \u001b[0;34m=\u001b[0m \u001b[0mlinear_reg\u001b[0m\u001b[0;34m(\u001b[0m\u001b[0mm20over\u001b[0m\u001b[0;34m.\u001b[0m\u001b[0mquery\u001b[0m\u001b[0;34m(\u001b[0m\u001b[0;34m'DMARETHN == 1'\u001b[0m\u001b[0;34m)\u001b[0m\u001b[0;34m,\u001b[0m \u001b[0;34m'HSAGEIR'\u001b[0m\u001b[0;34m,\u001b[0m \u001b[0;34m'SPPFEV1'\u001b[0m\u001b[0;34m)\u001b[0m\u001b[0;34m\u001b[0m\u001b[0;34m\u001b[0m\u001b[0m\n\u001b[0m\u001b[1;32m     17\u001b[0m \u001b[0mreg\u001b[0m\u001b[0;34m.\u001b[0m\u001b[0mcoef_\u001b[0m\u001b[0;34m\u001b[0m\u001b[0;34m\u001b[0m\u001b[0m\n",
      "\u001b[0;31mNameError\u001b[0m: name 'm20over' is not defined"
     ]
    }
   ],
   "source": [
    "#  just do for age in this example male caucasian age in years and FEV1OFVC\n",
    "  #  height = 'BMPHT'\n",
    "# age = 'HSAGEIR'\n",
    "def linear_reg(data, X_var, y_var):\n",
    "    X = data[X_var]\n",
    "    X = np.array(X).reshape(-1, 1)\n",
    "    y = data[y_var]\n",
    "    lr = LinearRegression().fit(X, y)\n",
    "        # do linear regression fit on X, y\n",
    "    print(\"R^2 = \",lr.score(X, y))\n",
    "    print(\"Intercept: \",  lr.intercept_)\n",
    "    print(\"Coefficients: \",\n",
    "          lr.coef_)\n",
    "    return lr\n",
    "\n",
    "reg = linear_reg(m20over.query('DMARETHN == 1'), 'HSAGEIR', 'SPPFEV1')\n",
    "reg.coef_"
   ]
  },
  {
   "cell_type": "code",
   "execution_count": 397,
   "metadata": {},
   "outputs": [
    {
     "ename": "KeyError",
     "evalue": "('HSAGER', 'BMPHT')",
     "output_type": "error",
     "traceback": [
      "\u001b[0;31m---------------------------------------------------------------------------\u001b[0m",
      "\u001b[0;31mKeyError\u001b[0m                                  Traceback (most recent call last)",
      "\u001b[0;32m/usr/local/lib/python3.7/site-packages/pandas/core/indexes/base.py\u001b[0m in \u001b[0;36mget_loc\u001b[0;34m(self, key, method, tolerance)\u001b[0m\n\u001b[1;32m   2645\u001b[0m             \u001b[0;32mtry\u001b[0m\u001b[0;34m:\u001b[0m\u001b[0;34m\u001b[0m\u001b[0;34m\u001b[0m\u001b[0m\n\u001b[0;32m-> 2646\u001b[0;31m                 \u001b[0;32mreturn\u001b[0m \u001b[0mself\u001b[0m\u001b[0;34m.\u001b[0m\u001b[0m_engine\u001b[0m\u001b[0;34m.\u001b[0m\u001b[0mget_loc\u001b[0m\u001b[0;34m(\u001b[0m\u001b[0mkey\u001b[0m\u001b[0;34m)\u001b[0m\u001b[0;34m\u001b[0m\u001b[0;34m\u001b[0m\u001b[0m\n\u001b[0m\u001b[1;32m   2647\u001b[0m             \u001b[0;32mexcept\u001b[0m \u001b[0mKeyError\u001b[0m\u001b[0;34m:\u001b[0m\u001b[0;34m\u001b[0m\u001b[0;34m\u001b[0m\u001b[0m\n",
      "\u001b[0;32mpandas/_libs/index.pyx\u001b[0m in \u001b[0;36mpandas._libs.index.IndexEngine.get_loc\u001b[0;34m()\u001b[0m\n",
      "\u001b[0;32mpandas/_libs/index.pyx\u001b[0m in \u001b[0;36mpandas._libs.index.IndexEngine.get_loc\u001b[0;34m()\u001b[0m\n",
      "\u001b[0;32mpandas/_libs/hashtable_class_helper.pxi\u001b[0m in \u001b[0;36mpandas._libs.hashtable.PyObjectHashTable.get_item\u001b[0;34m()\u001b[0m\n",
      "\u001b[0;32mpandas/_libs/hashtable_class_helper.pxi\u001b[0m in \u001b[0;36mpandas._libs.hashtable.PyObjectHashTable.get_item\u001b[0;34m()\u001b[0m\n",
      "\u001b[0;31mKeyError\u001b[0m: ('HSAGER', 'BMPHT')",
      "\nDuring handling of the above exception, another exception occurred:\n",
      "\u001b[0;31mKeyError\u001b[0m                                  Traceback (most recent call last)",
      "\u001b[0;32m<ipython-input-397-cfe884672d1a>\u001b[0m in \u001b[0;36m<module>\u001b[0;34m\u001b[0m\n\u001b[0;32m----> 1\u001b[0;31m \u001b[0mspiro2_parameters\u001b[0m\u001b[0;34m(\u001b[0m\u001b[0mflt18\u001b[0m\u001b[0;34m,\u001b[0m\u001b[0;34m'PEFROFVC'\u001b[0m\u001b[0;34m)\u001b[0m\u001b[0;34m\u001b[0m\u001b[0;34m\u001b[0m\u001b[0m\n\u001b[0m",
      "\u001b[0;32m<ipython-input-271-72c63f4c9f42>\u001b[0m in \u001b[0;36mspiro2_parameters\u001b[0;34m(data, y)\u001b[0m\n\u001b[1;32m      5\u001b[0m     \u001b[0mheight\u001b[0m \u001b[0;34m=\u001b[0m \u001b[0;34m'BMPHT'\u001b[0m\u001b[0;34m\u001b[0m\u001b[0;34m\u001b[0m\u001b[0m\n\u001b[1;32m      6\u001b[0m     \u001b[0mage\u001b[0m \u001b[0;34m=\u001b[0m \u001b[0;34m'HSAGER'\u001b[0m\u001b[0;34m\u001b[0m\u001b[0;34m\u001b[0m\u001b[0m\n\u001b[0;32m----> 7\u001b[0;31m     \u001b[0mX\u001b[0m \u001b[0;34m=\u001b[0m \u001b[0mdata\u001b[0m\u001b[0;34m[\u001b[0m\u001b[0mage\u001b[0m\u001b[0;34m,\u001b[0m \u001b[0mheight\u001b[0m\u001b[0;34m]\u001b[0m\u001b[0;34m\u001b[0m\u001b[0;34m\u001b[0m\u001b[0m\n\u001b[0m\u001b[1;32m      8\u001b[0m     \u001b[0;31m# add age^2 and height^2 to X\u001b[0m\u001b[0;34m\u001b[0m\u001b[0;34m\u001b[0m\u001b[0;34m\u001b[0m\u001b[0m\n\u001b[1;32m      9\u001b[0m     \u001b[0;31m# new_X = np.hstack((X, X**2))\u001b[0m\u001b[0;34m\u001b[0m\u001b[0;34m\u001b[0m\u001b[0;34m\u001b[0m\u001b[0m\n",
      "\u001b[0;32m/usr/local/lib/python3.7/site-packages/pandas/core/frame.py\u001b[0m in \u001b[0;36m__getitem__\u001b[0;34m(self, key)\u001b[0m\n\u001b[1;32m   2798\u001b[0m             \u001b[0;32mif\u001b[0m \u001b[0mself\u001b[0m\u001b[0;34m.\u001b[0m\u001b[0mcolumns\u001b[0m\u001b[0;34m.\u001b[0m\u001b[0mnlevels\u001b[0m \u001b[0;34m>\u001b[0m \u001b[0;36m1\u001b[0m\u001b[0;34m:\u001b[0m\u001b[0;34m\u001b[0m\u001b[0;34m\u001b[0m\u001b[0m\n\u001b[1;32m   2799\u001b[0m                 \u001b[0;32mreturn\u001b[0m \u001b[0mself\u001b[0m\u001b[0;34m.\u001b[0m\u001b[0m_getitem_multilevel\u001b[0m\u001b[0;34m(\u001b[0m\u001b[0mkey\u001b[0m\u001b[0;34m)\u001b[0m\u001b[0;34m\u001b[0m\u001b[0;34m\u001b[0m\u001b[0m\n\u001b[0;32m-> 2800\u001b[0;31m             \u001b[0mindexer\u001b[0m \u001b[0;34m=\u001b[0m \u001b[0mself\u001b[0m\u001b[0;34m.\u001b[0m\u001b[0mcolumns\u001b[0m\u001b[0;34m.\u001b[0m\u001b[0mget_loc\u001b[0m\u001b[0;34m(\u001b[0m\u001b[0mkey\u001b[0m\u001b[0;34m)\u001b[0m\u001b[0;34m\u001b[0m\u001b[0;34m\u001b[0m\u001b[0m\n\u001b[0m\u001b[1;32m   2801\u001b[0m             \u001b[0;32mif\u001b[0m \u001b[0mis_integer\u001b[0m\u001b[0;34m(\u001b[0m\u001b[0mindexer\u001b[0m\u001b[0;34m)\u001b[0m\u001b[0;34m:\u001b[0m\u001b[0;34m\u001b[0m\u001b[0;34m\u001b[0m\u001b[0m\n\u001b[1;32m   2802\u001b[0m                 \u001b[0mindexer\u001b[0m \u001b[0;34m=\u001b[0m \u001b[0;34m[\u001b[0m\u001b[0mindexer\u001b[0m\u001b[0;34m]\u001b[0m\u001b[0;34m\u001b[0m\u001b[0;34m\u001b[0m\u001b[0m\n",
      "\u001b[0;32m/usr/local/lib/python3.7/site-packages/pandas/core/indexes/base.py\u001b[0m in \u001b[0;36mget_loc\u001b[0;34m(self, key, method, tolerance)\u001b[0m\n\u001b[1;32m   2646\u001b[0m                 \u001b[0;32mreturn\u001b[0m \u001b[0mself\u001b[0m\u001b[0;34m.\u001b[0m\u001b[0m_engine\u001b[0m\u001b[0;34m.\u001b[0m\u001b[0mget_loc\u001b[0m\u001b[0;34m(\u001b[0m\u001b[0mkey\u001b[0m\u001b[0;34m)\u001b[0m\u001b[0;34m\u001b[0m\u001b[0;34m\u001b[0m\u001b[0m\n\u001b[1;32m   2647\u001b[0m             \u001b[0;32mexcept\u001b[0m \u001b[0mKeyError\u001b[0m\u001b[0;34m:\u001b[0m\u001b[0;34m\u001b[0m\u001b[0;34m\u001b[0m\u001b[0m\n\u001b[0;32m-> 2648\u001b[0;31m                 \u001b[0;32mreturn\u001b[0m \u001b[0mself\u001b[0m\u001b[0;34m.\u001b[0m\u001b[0m_engine\u001b[0m\u001b[0;34m.\u001b[0m\u001b[0mget_loc\u001b[0m\u001b[0;34m(\u001b[0m\u001b[0mself\u001b[0m\u001b[0;34m.\u001b[0m\u001b[0m_maybe_cast_indexer\u001b[0m\u001b[0;34m(\u001b[0m\u001b[0mkey\u001b[0m\u001b[0;34m)\u001b[0m\u001b[0;34m)\u001b[0m\u001b[0;34m\u001b[0m\u001b[0;34m\u001b[0m\u001b[0m\n\u001b[0m\u001b[1;32m   2649\u001b[0m         \u001b[0mindexer\u001b[0m \u001b[0;34m=\u001b[0m \u001b[0mself\u001b[0m\u001b[0;34m.\u001b[0m\u001b[0mget_indexer\u001b[0m\u001b[0;34m(\u001b[0m\u001b[0;34m[\u001b[0m\u001b[0mkey\u001b[0m\u001b[0;34m]\u001b[0m\u001b[0;34m,\u001b[0m \u001b[0mmethod\u001b[0m\u001b[0;34m=\u001b[0m\u001b[0mmethod\u001b[0m\u001b[0;34m,\u001b[0m \u001b[0mtolerance\u001b[0m\u001b[0;34m=\u001b[0m\u001b[0mtolerance\u001b[0m\u001b[0;34m)\u001b[0m\u001b[0;34m\u001b[0m\u001b[0;34m\u001b[0m\u001b[0m\n\u001b[1;32m   2650\u001b[0m         \u001b[0;32mif\u001b[0m \u001b[0mindexer\u001b[0m\u001b[0;34m.\u001b[0m\u001b[0mndim\u001b[0m \u001b[0;34m>\u001b[0m \u001b[0;36m1\u001b[0m \u001b[0;32mor\u001b[0m \u001b[0mindexer\u001b[0m\u001b[0;34m.\u001b[0m\u001b[0msize\u001b[0m \u001b[0;34m>\u001b[0m \u001b[0;36m1\u001b[0m\u001b[0;34m:\u001b[0m\u001b[0;34m\u001b[0m\u001b[0;34m\u001b[0m\u001b[0m\n",
      "\u001b[0;32mpandas/_libs/index.pyx\u001b[0m in \u001b[0;36mpandas._libs.index.IndexEngine.get_loc\u001b[0;34m()\u001b[0m\n",
      "\u001b[0;32mpandas/_libs/index.pyx\u001b[0m in \u001b[0;36mpandas._libs.index.IndexEngine.get_loc\u001b[0;34m()\u001b[0m\n",
      "\u001b[0;32mpandas/_libs/hashtable_class_helper.pxi\u001b[0m in \u001b[0;36mpandas._libs.hashtable.PyObjectHashTable.get_item\u001b[0;34m()\u001b[0m\n",
      "\u001b[0;32mpandas/_libs/hashtable_class_helper.pxi\u001b[0m in \u001b[0;36mpandas._libs.hashtable.PyObjectHashTable.get_item\u001b[0;34m()\u001b[0m\n",
      "\u001b[0;31mKeyError\u001b[0m: ('HSAGER', 'BMPHT')"
     ]
    }
   ],
   "source": [
    "spiro2_parameters(flt18,'PEFROFVC')"
   ]
  },
  {
   "cell_type": "markdown",
   "metadata": {},
   "source": [
    "We're trying to replicate and update Hankinson"
   ]
  },
  {
   "cell_type": "markdown",
   "metadata": {},
   "source": [
    "We're trying to replicate and update Hankinson"
   ]
  },
  {
   "cell_type": "markdown",
   "metadata": {},
   "source": [
    "# Now need determine LLN - ?used std"
   ]
  },
  {
   "cell_type": "markdown",
   "metadata": {},
   "source": [
    "Determine lower limit of normal\n",
    "  can do this if get starndard deviation for each variable\n",
    "Assuming normal distribution get standard deviation for each variable\n",
    "Could create variable as %predicted, then do normal distribution of the %predicteds\n",
    "Would want to check if the standard deviation varied by age ?height\n",
    "Alternatively is there a way to get lower 5%\n"
   ]
  }
 ],
 "metadata": {
  "kernelspec": {
   "display_name": "Python 3",
   "language": "python",
   "name": "python3"
  },
  "language_info": {
   "codemirror_mode": {
    "name": "ipython",
    "version": 3
   },
   "file_extension": ".py",
   "mimetype": "text/x-python",
   "name": "python",
   "nbconvert_exporter": "python",
   "pygments_lexer": "ipython3",
   "version": "3.7.6"
  }
 },
 "nbformat": 4,
 "nbformat_minor": 4
}

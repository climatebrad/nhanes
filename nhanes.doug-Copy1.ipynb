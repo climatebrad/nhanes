{
 "cells": [
  {
   "cell_type": "markdown",
   "metadata": {},
   "source": [
    "## Import Libraries"
   ]
  },
  {
   "cell_type": "code",
   "execution_count": null,
   "metadata": {},
   "outputs": [],
   "source": [
    "import pandas as pd\n",
    "import matplotlib.pyplot as plt\n",
    "%matplotlib inline\n",
    "import nhanes_loader\n",
    "import importlib\n",
    "importlib.reload(nhanes_loader)\n",
    "import numpy as np\n",
    "from sklearn.linear_model import LinearRegression"
   ]
  },
  {
   "cell_type": "markdown",
   "metadata": {},
   "source": [
    "## Import Household Adult File"
   ]
  },
  {
   "cell_type": "code",
   "execution_count": null,
   "metadata": {},
   "outputs": [],
   "source": [
    "from nhanes.household_adult_file import HouseholdAdultFile\n",
    "nh = HouseholdAdultFile()"
   ]
  },
  {
   "cell_type": "markdown",
   "metadata": {},
   "source": [
    "## Import Exam File"
   ]
  },
  {
   "cell_type": "code",
   "execution_count": null,
   "metadata": {},
   "outputs": [],
   "source": [
    "import nhanes.exam_file\n",
    "importlib.reload(nhanes.exam_file)\n",
    "from nhanes.exam_file import ExamFile"
   ]
  },
  {
   "cell_type": "code",
   "execution_count": null,
   "metadata": {},
   "outputs": [],
   "source": [
    "exam = ExamFile()"
   ]
  },
  {
   "cell_type": "code",
   "execution_count": null,
   "metadata": {},
   "outputs": [],
   "source": [
    "exam.data.shape"
   ]
  },
  {
   "cell_type": "code",
   "execution_count": null,
   "metadata": {},
   "outputs": [],
   "source": [
    "exam.cols"
   ]
  },
  {
   "cell_type": "markdown",
   "metadata": {},
   "source": [
    "## Import Household Youth File"
   ]
  },
  {
   "cell_type": "code",
   "execution_count": null,
   "metadata": {},
   "outputs": [],
   "source": [
    "import nhanes.household_youth_file\n",
    "importlib.reload(nhanes.household_youth_file)\n",
    "from nhanes.household_youth_file import HouseholdYouthFile"
   ]
  },
  {
   "cell_type": "code",
   "execution_count": null,
   "metadata": {},
   "outputs": [],
   "source": [
    "youth = HouseholdYouthFile()"
   ]
  },
  {
   "cell_type": "code",
   "execution_count": null,
   "metadata": {},
   "outputs": [],
   "source": [
    "youth.cols"
   ]
  },
  {
   "cell_type": "markdown",
   "metadata": {},
   "source": [
    "## Combine adult and exam files - adult_exam"
   ]
  },
  {
   "cell_type": "markdown",
   "metadata": {},
   "source": [
    "match files on the SEQN field "
   ]
  },
  {
   "cell_type": "code",
   "execution_count": null,
   "metadata": {},
   "outputs": [],
   "source": [
    "adult_exam = nh.data.set_index('SEQN').join(exam.data.set_index('SEQN'),rsuffix='_exam')"
   ]
  },
  {
   "cell_type": "code",
   "execution_count": null,
   "metadata": {},
   "outputs": [],
   "source": [
    "adult_exam.info()"
   ]
  },
  {
   "cell_type": "markdown",
   "metadata": {},
   "source": [
    "## Combine youth and exam files - youth_exam"
   ]
  },
  {
   "cell_type": "code",
   "execution_count": null,
   "metadata": {},
   "outputs": [],
   "source": [
    "youth_exam = youth.data.set_index('SEQN').join(exam.data.set_index('SEQN'),rsuffix='_exam')"
   ]
  },
  {
   "cell_type": "code",
   "execution_count": null,
   "metadata": {},
   "outputs": [],
   "source": [
    "youth_exam.info()"
   ]
  },
  {
   "cell_type": "code",
   "execution_count": null,
   "metadata": {},
   "outputs": [],
   "source": [
    "youth_exam.query('HSAGEIR < 18').shape"
   ]
  },
  {
   "cell_type": "markdown",
   "metadata": {},
   "source": [
    "# Hankinson Exclusion"
   ]
  },
  {
   "cell_type": "markdown",
   "metadata": {},
   "source": [
    "Ages - have none over 89; 17-89"
   ]
  },
  {
   "cell_type": "code",
   "execution_count": null,
   "metadata": {},
   "outputs": [],
   "source": [
    "adult_exam.HSAGEIR.value_counts()"
   ]
  },
  {
   "cell_type": "markdown",
   "metadata": {},
   "source": [
    "Check for age of 16"
   ]
  },
  {
   "cell_type": "code",
   "execution_count": null,
   "metadata": {},
   "outputs": [],
   "source": [
    "adult_exam.query('HSAGEIR < 17').shape"
   ]
  },
  {
   "cell_type": "markdown",
   "metadata": {},
   "source": [
    "Any age  .shape - returns row and column count of a dataset"
   ]
  },
  {
   "cell_type": "markdown",
   "metadata": {},
   "source": [
    ".describe() - returns statistics about numerical columns"
   ]
  },
  {
   "cell_type": "markdown",
   "metadata": {},
   "source": [
    ".dtypes - returns the data type of each column"
   ]
  },
  {
   "cell_type": "markdown",
   "metadata": {},
   "source": [
    ".count() - number of total values in column"
   ]
  },
  {
   "cell_type": "markdown",
   "metadata": {},
   "source": [
    ".value_counts() - returns object counting counts of unique values"
   ]
  },
  {
   "cell_type": "code",
   "execution_count": null,
   "metadata": {},
   "outputs": [],
   "source": [
    "adult_exam.query('HSAGEIR>0').shape"
   ]
  },
  {
   "cell_type": "markdown",
   "metadata": {},
   "source": [
    "Check have Height"
   ]
  },
  {
   "cell_type": "code",
   "execution_count": null,
   "metadata": {},
   "outputs": [],
   "source": [
    "adult_exam.query('BMPHT>0').shape"
   ]
  },
  {
   "cell_type": "markdown",
   "metadata": {},
   "source": [
    "describe SPPMANEU"
   ]
  },
  {
   "cell_type": "markdown",
   "metadata": {},
   "source": [
    "Any spirometry  H 16484 "
   ]
  },
  {
   "cell_type": "markdown",
   "metadata": {},
   "source": [
    "## SPPMANEU - # acceptable trials"
   ]
  },
  {
   "cell_type": "markdown",
   "metadata": {},
   "source": [
    "According to the NHANES documentation, the values for SPPMANEU (number of acceptable trials)\n",
    "\n",
    "00 150; 01-16 20836. 88 1445 blank 8880"
   ]
  },
  {
   "cell_type": "markdown",
   "metadata": {},
   "source": [
    "so total spirometry is 150 + 20836 = 20986, but this doesn't match, looking at data base values which has 16840 with SPPMANEU 0 to <88"
   ]
  },
  {
   "cell_type": "code",
   "execution_count": 136,
   "metadata": {},
   "outputs": [
    {
     "data": {
      "text/plain": [
       "5.0     7569\n",
       "6.0     2553\n",
       "4.0     1932\n",
       "7.0     1544\n",
       "88.0    1310\n",
       "8.0     1238\n",
       "3.0      668\n",
       "9.0      400\n",
       "2.0      292\n",
       "10.0     233\n",
       "1.0      226\n",
       "0.0      144\n",
       "11.0      23\n",
       "13.0       8\n",
       "12.0       8\n",
       "14.0       1\n",
       "16.0       1\n",
       "Name: SPPMANEU, dtype: int64"
      ]
     },
     "execution_count": 136,
     "metadata": {},
     "output_type": "execute_result"
    }
   ],
   "source": [
    "adult_exam.SPPMANEU.value_counts()"
   ]
  },
  {
   "cell_type": "markdown",
   "metadata": {},
   "source": [
    "adult_exam.SPPMANEU.value_counts()"
   ]
  },
  {
   "cell_type": "code",
   "execution_count": 118,
   "metadata": {},
   "outputs": [
    {
     "data": {
      "text/plain": [
       "(18740, 66)"
      ]
     },
     "execution_count": 118,
     "metadata": {},
     "output_type": "execute_result"
    }
   ],
   "source": [
    "adult_exam.query('SPPMANEU != 88').shape"
   ]
  },
  {
   "cell_type": "code",
   "execution_count": 141,
   "metadata": {},
   "outputs": [
    {
     "data": {
      "text/plain": [
       "(16840, 66)"
      ]
     },
     "execution_count": 141,
     "metadata": {},
     "output_type": "execute_result"
    }
   ],
   "source": [
    "adult_exam.query('SPPMANEU > -1 & SPPMANEU < 88').shape"
   ]
  },
  {
   "cell_type": "code",
   "execution_count": 140,
   "metadata": {},
   "outputs": [
    {
     "data": {
      "text/plain": [
       "(18150, 66)"
      ]
     },
     "execution_count": 140,
     "metadata": {},
     "output_type": "execute_result"
    }
   ],
   "source": [
    "adult_exam.query('SPPMANEU > -1').shape"
   ]
  },
  {
   "cell_type": "markdown",
   "metadata": {},
   "source": [
    "## total with spirometry 16840"
   ]
  },
  {
   "cell_type": "markdown",
   "metadata": {},
   "source": [
    ">2 should = total spirometry - 1 test ( 18740 - 226 = "
   ]
  },
  {
   "cell_type": "code",
   "execution_count": 123,
   "metadata": {},
   "outputs": [
    {
     "data": {
      "text/plain": [
       "(226, 66)"
      ]
     },
     "execution_count": 123,
     "metadata": {},
     "output_type": "execute_result"
    }
   ],
   "source": [
    "adult_exam.query('SPPMANEU == 1').shape"
   ]
  },
  {
   "cell_type": "markdown",
   "metadata": {},
   "source": [
    "## number 2 or more acceptable trials  H 277, 16207  we have 16470 (+263)"
   ]
  },
  {
   "cell_type": "code",
   "execution_count": 124,
   "metadata": {},
   "outputs": [
    {
     "data": {
      "text/plain": [
       "(16470, 66)"
      ]
     },
     "execution_count": 124,
     "metadata": {},
     "output_type": "execute_result"
    }
   ],
   "source": [
    "adult_exam.query('2 <= SPPMANEU < 88').shape"
   ]
  },
  {
   "cell_type": "code",
   "execution_count": 142,
   "metadata": {},
   "outputs": [
    {
     "data": {
      "text/plain": [
       "(16470, 66)"
      ]
     },
     "execution_count": 142,
     "metadata": {},
     "output_type": "execute_result"
    }
   ],
   "source": [
    "adult_exam.query('SPPMANEU > 1 & SPPMANEU < 88').shape"
   ]
  },
  {
   "cell_type": "markdown",
   "metadata": {},
   "source": [
    "## does it need be reproducible SPPREPRO = 4 both FVC and FEV1 reproducible; 1 FVC not repord; 2 FEV1 no reprod 3 neither FVC or FEV1 reproducible"
   ]
  },
  {
   "cell_type": "code",
   "execution_count": 126,
   "metadata": {},
   "outputs": [
    {
     "data": {
      "text/plain": [
       "4.0    15373\n",
       "8.0     1454\n",
       "1.0     1003\n",
       "3.0      267\n",
       "2.0       53\n",
       "Name: SPPREPRO, dtype: int64"
      ]
     },
     "execution_count": 126,
     "metadata": {},
     "output_type": "execute_result"
    }
   ],
   "source": [
    "adult_exam.SPPREPRO.value_counts()"
   ]
  },
  {
   "cell_type": "code",
   "execution_count": 127,
   "metadata": {},
   "outputs": [
    {
     "data": {
      "text/plain": [
       "(15286, 66)"
      ]
     },
     "execution_count": 127,
     "metadata": {},
     "output_type": "execute_result"
    }
   ],
   "source": [
    "adult_exam.query('SPPMANEU > 1 & SPPMANEU < 88 & SPPREPRO == 4').shape"
   ]
  },
  {
   "cell_type": "code",
   "execution_count": 143,
   "metadata": {},
   "outputs": [
    {
     "data": {
      "text/plain": [
       "(16289, 66)"
      ]
     },
     "execution_count": 143,
     "metadata": {},
     "output_type": "execute_result"
    }
   ],
   "source": [
    "adult_exam.query('(SPPMANEU > 1 & SPPMANEU < 88) & (SPPREPRO == 4 | SPPREPRO == 1)').shape"
   ]
  },
  {
   "cell_type": "markdown",
   "metadata": {},
   "source": [
    "## Number with spirometry 2 or more with both FEV1 reprod or FEV1 and FVC reproducible - 16289 vs Hankinson 16207"
   ]
  },
  {
   "cell_type": "markdown",
   "metadata": {},
   "source": [
    "Hankinson says 20,627 performed spirometry and eliminated 13,198 leaving 7429 (4,103 youth 16,207 adult)"
   ]
  },
  {
   "cell_type": "markdown",
   "metadata": {},
   "source": [
    "does the number of acceptable trials SPPMANEU need be more than 1 - say exclude if <2 acceptable curves"
   ]
  },
  {
   "cell_type": "markdown",
   "metadata": {},
   "source": [
    "and age < 90 H 68,16139  we have 84  16386 (+26, +247)"
   ]
  },
  {
   "cell_type": "code",
   "execution_count": 144,
   "metadata": {},
   "outputs": [
    {
     "data": {
      "text/plain": [
       "(84, 66)"
      ]
     },
     "execution_count": 144,
     "metadata": {},
     "output_type": "execute_result"
    }
   ],
   "source": [
    "adult_exam.query('2 <= SPPMANEU < 88').query('HSAGEIR >89').shape"
   ]
  },
  {
   "cell_type": "code",
   "execution_count": 145,
   "metadata": {},
   "outputs": [
    {
     "data": {
      "text/plain": [
       "(16386, 66)"
      ]
     },
     "execution_count": 145,
     "metadata": {},
     "output_type": "execute_result"
    }
   ],
   "source": [
    "adult_exam.query('2 <= SPPMANEU < 88').query('HSAGEIR < 90').shape"
   ]
  },
  {
   "cell_type": "code",
   "execution_count": 146,
   "metadata": {},
   "outputs": [
    {
     "data": {
      "text/plain": [
       "(16215, 66)"
      ]
     },
     "execution_count": 146,
     "metadata": {},
     "output_type": "execute_result"
    }
   ],
   "source": [
    "(adult_exam.query('(SPPMANEU > 1 & SPPMANEU < 88) & (SPPREPRO == 4 | SPPREPRO == 1)')\n",
    ".query('HSAGEIR < 90').shape)"
   ]
  },
  {
   "cell_type": "markdown",
   "metadata": {},
   "source": [
    "## and age <90 16386, 16215"
   ]
  },
  {
   "cell_type": "markdown",
   "metadata": {},
   "source": [
    "adult_exam.query('HSAGEIR >= 90').shape"
   ]
  },
  {
   "cell_type": "markdown",
   "metadata": {},
   "source": [
    "and race/ethnicity not other  H 636, 15503"
   ]
  },
  {
   "cell_type": "markdown",
   "metadata": {},
   "source": [
    "adult_exam.query('HSAGEIR > 0').shape"
   ]
  },
  {
   "cell_type": "markdown",
   "metadata": {},
   "source": [
    "and race/ethnicity not other  H 636  15503  we have 639, 15747 (+3, +244)"
   ]
  },
  {
   "cell_type": "code",
   "execution_count": 114,
   "metadata": {},
   "outputs": [
    {
     "data": {
      "text/plain": [
       "1    8483\n",
       "2    5486\n",
       "3    5306\n",
       "4     775\n",
       "Name: DMARETHN, dtype: int64"
      ]
     },
     "execution_count": 114,
     "metadata": {},
     "output_type": "execute_result"
    }
   ],
   "source": [
    "adult_exam.DMARETHN.value_counts()"
   ]
  },
  {
   "cell_type": "code",
   "execution_count": 115,
   "metadata": {},
   "outputs": [
    {
     "data": {
      "text/plain": [
       "(639, 66)"
      ]
     },
     "execution_count": 115,
     "metadata": {},
     "output_type": "execute_result"
    }
   ],
   "source": [
    "adult_exam.query('2 <= SPPMANEU < 88').query('HSAGEIR < 90').query('DMARETHN == 4').shape"
   ]
  },
  {
   "cell_type": "code",
   "execution_count": 147,
   "metadata": {},
   "outputs": [
    {
     "data": {
      "text/plain": [
       "(15747, 66)"
      ]
     },
     "execution_count": 147,
     "metadata": {},
     "output_type": "execute_result"
    }
   ],
   "source": [
    "(adult_exam.query('2 <= SPPMANEU < 88').query('HSAGEIR < 90').query('DMARETHN < 4').shape)"
   ]
  },
  {
   "cell_type": "code",
   "execution_count": 148,
   "metadata": {},
   "outputs": [
    {
     "data": {
      "text/plain": [
       "(15580, 66)"
      ]
     },
     "execution_count": 148,
     "metadata": {},
     "output_type": "execute_result"
    }
   ],
   "source": [
    "(adult_exam.query('(SPPMANEU > 1 & SPPMANEU < 88) & (SPPREPRO == 4 | SPPREPRO == 1)')\n",
    " .query('HSAGEIR < 90').query('DMARETHN < 4').shape)"
   ]
  },
  {
   "cell_type": "markdown",
   "metadata": {},
   "source": [
    "# and race not other 15747, 15580"
   ]
  },
  {
   "cell_type": "markdown",
   "metadata": {},
   "source": [
    "and cigarette smoker H 7,667  7,836  We have  7787 7960 (+120  +124)\n"
   ]
  },
  {
   "cell_type": "code",
   "execution_count": 113,
   "metadata": {},
   "outputs": [
    {
     "data": {
      "text/plain": [
       "2    10235\n",
       "1     9799\n",
       "8       16\n",
       "Name: HAR1, dtype: int64"
      ]
     },
     "execution_count": 113,
     "metadata": {},
     "output_type": "execute_result"
    }
   ],
   "source": [
    "adult_exam.HAR1.value_counts()"
   ]
  },
  {
   "cell_type": "markdown",
   "metadata": {},
   "source": [
    "or statement not work, so need HAR1 = 2"
   ]
  },
  {
   "cell_type": "code",
   "execution_count": null,
   "metadata": {},
   "outputs": [],
   "source": [
    "adult_exam.query('HAR1 == 1' or 'HAR1 == 8').shape"
   ]
  },
  {
   "cell_type": "code",
   "execution_count": null,
   "metadata": {},
   "outputs": [],
   "source": [
    "adult_exam.query('HAR1 == 1 | HAR1 == 8').shape"
   ]
  },
  {
   "cell_type": "code",
   "execution_count": null,
   "metadata": {},
   "outputs": [],
   "source": [
    "adult_exam.query('HAR1 == 2').shape"
   ]
  },
  {
   "cell_type": "markdown",
   "metadata": {},
   "source": [
    "age<90 & ethnicity not other and not smoker(HAR1==2)"
   ]
  },
  {
   "cell_type": "code",
   "execution_count": 149,
   "metadata": {},
   "outputs": [
    {
     "data": {
      "text/plain": [
       "(7960, 66)"
      ]
     },
     "execution_count": 149,
     "metadata": {},
     "output_type": "execute_result"
    }
   ],
   "source": [
    "adult_exam.query('2 <= SPPMANEU < 88').query('HSAGEIR < 90').query('DMARETHN < 4').query('HAR1 ==2').shape"
   ]
  },
  {
   "cell_type": "markdown",
   "metadata": {},
   "source": [
    "# and not smoker('not HAR1==1') 7960, 7851"
   ]
  },
  {
   "cell_type": "code",
   "execution_count": 152,
   "metadata": {},
   "outputs": [
    {
     "data": {
      "text/plain": [
       "(7960, 66)"
      ]
     },
     "execution_count": 152,
     "metadata": {},
     "output_type": "execute_result"
    }
   ],
   "source": [
    "adult_exam.query('2 <= SPPMANEU < 88').query('HSAGEIR < 90').query('DMARETHN < 4').query('not HAR1 ==1').shape"
   ]
  },
  {
   "cell_type": "code",
   "execution_count": 154,
   "metadata": {},
   "outputs": [
    {
     "data": {
      "text/plain": [
       "(7851, 66)"
      ]
     },
     "execution_count": 154,
     "metadata": {},
     "output_type": "execute_result"
    }
   ],
   "source": [
    "(adult_exam.query('(SPPMANEU > 1 & SPPMANEU < 88) & (SPPREPRO == 4 | SPPREPRO == 1)')\n",
    " .query('HSAGEIR < 90').query('DMARETHN < 4').query('not HAR1 ==1').shape)"
   ]
  },
  {
   "cell_type": "markdown",
   "metadata": {},
   "source": [
    "HXPG1 how many cigarettes past 5 days. 0, #, or 888 applicable  SO '0 < HXPG1 < 888'"
   ]
  },
  {
   "cell_type": "code",
   "execution_count": null,
   "metadata": {},
   "outputs": [],
   "source": [
    "adult_exam.query('0 < HXPG1 < 888').shape"
   ]
  },
  {
   "cell_type": "markdown",
   "metadata": {},
   "source": [
    "include those not smoking cigarettes 5 days"
   ]
  },
  {
   "cell_type": "code",
   "execution_count": null,
   "metadata": {},
   "outputs": [],
   "source": [
    "adult_exam.query('not (0 < HXPG1 < 888)').shape"
   ]
  },
  {
   "cell_type": "code",
   "execution_count": null,
   "metadata": {},
   "outputs": [],
   "source": [
    "adult_exam.query('(HXPG1 ==0) | (HXPG1 == 888)').shape"
   ]
  },
  {
   "cell_type": "markdown",
   "metadata": {},
   "source": [
    "HXPG2A -pipes"
   ]
  },
  {
   "cell_type": "code",
   "execution_count": null,
   "metadata": {},
   "outputs": [],
   "source": [
    "adult_exam.query('0 < HXPG2A < 88').shape"
   ]
  },
  {
   "cell_type": "markdown",
   "metadata": {},
   "source": [
    "HXPG2B - cigars"
   ]
  },
  {
   "cell_type": "code",
   "execution_count": null,
   "metadata": {},
   "outputs": [],
   "source": [
    "adult_exam.query('0 < HXPG2B < 88').shape"
   ]
  },
  {
   "cell_type": "markdown",
   "metadata": {},
   "source": [
    "adult_exam.query('2 <= SPPMANEU < 88').query('HSAGEIR < 90').query('DMARETHN < 4').query('HAR1 ==2').shape"
   ]
  },
  {
   "cell_type": "markdown",
   "metadata": {},
   "source": [
    "cigs, pipe, cigars"
   ]
  },
  {
   "cell_type": "code",
   "execution_count": null,
   "metadata": {},
   "outputs": [],
   "source": [
    "adult_exam.query('not (0 < HXPG1 < 888 | 0 < HXPG2A < 88 | 0 < HXPG2B < 88)').shape"
   ]
  },
  {
   "cell_type": "code",
   "execution_count": null,
   "metadata": {},
   "outputs": [],
   "source": []
  },
  {
   "cell_type": "code",
   "execution_count": null,
   "metadata": {},
   "outputs": [],
   "source": [
    "adult_exam.query('2 <= SPPMANEU < 88').query('HSAGEIR < 90').query('DMARETHN < 4').query('MYPB11 ==1').shape"
   ]
  },
  {
   "cell_type": "markdown",
   "metadata": {},
   "source": [
    "and cigar or pipe smoker  H 313, 7523  for cigar we have 284, 7676 "
   ]
  },
  {
   "cell_type": "markdown",
   "metadata": {},
   "source": [
    "cigar HAR23  2 is not cigar"
   ]
  },
  {
   "cell_type": "code",
   "execution_count": null,
   "metadata": {},
   "outputs": [],
   "source": [
    "adult_exam.HAR23.value_counts()"
   ]
  },
  {
   "cell_type": "code",
   "execution_count": null,
   "metadata": {},
   "outputs": [],
   "source": [
    "adult_exam.query('2 <= SPPMANEU < 88').query('HSAGEIR < 90').query('DMARETHN < 4').query('HAR1 ==2').query('HAR23 == 2').shape"
   ]
  },
  {
   "cell_type": "markdown",
   "metadata": {},
   "source": [
    "and pipe smoker with above H 313 7523  We have 326 7634 (+13 +111)"
   ]
  },
  {
   "cell_type": "code",
   "execution_count": 111,
   "metadata": {},
   "outputs": [
    {
     "data": {
      "text/plain": [
       "2    18411\n",
       "1     1609\n",
       "8       26\n",
       "9        4\n",
       "Name: HAR26, dtype: int64"
      ]
     },
     "execution_count": 111,
     "metadata": {},
     "output_type": "execute_result"
    }
   ],
   "source": [
    "adult_exam.HAR26.value_counts()"
   ]
  },
  {
   "cell_type": "code",
   "execution_count": 108,
   "metadata": {},
   "outputs": [
    {
     "data": {
      "text/plain": [
       "(7634, 66)"
      ]
     },
     "execution_count": 108,
     "metadata": {},
     "output_type": "execute_result"
    }
   ],
   "source": [
    "adult_exam.query('2 <= SPPMANEU < 88').query('HSAGEIR < 90').query('DMARETHN < 4').query('HAR1 == 2').query('HAR23 == 2').query('HAR26 == 2').shape"
   ]
  },
  {
   "cell_type": "code",
   "execution_count": 112,
   "metadata": {},
   "outputs": [
    {
     "data": {
      "text/plain": [
       "(7638, 66)"
      ]
     },
     "execution_count": 112,
     "metadata": {},
     "output_type": "execute_result"
    }
   ],
   "source": [
    "(adult_exam.query('2 <= SPPMANEU < 88').query('HSAGEIR < 90')\n",
    " .query('DMARETHN < 4').query('HAR1 == 2')\n",
    " .query('HAR23 == 2').query('not HAR26 == 1').shape)"
   ]
  },
  {
   "cell_type": "markdown",
   "metadata": {},
   "source": [
    "# and not cigar or pipe smoker 7634"
   ]
  },
  {
   "cell_type": "markdown",
   "metadata": {},
   "source": [
    "and smoked cigarettes/cigar/pipes in 5 d prior to exam  H 408 7115  "
   ]
  },
  {
   "cell_type": "markdown",
   "metadata": {},
   "source": [
    "SPQ4 cough, cold or other acute illness;  SPQ3 smoked, ate in past hour"
   ]
  },
  {
   "cell_type": "code",
   "execution_count": null,
   "metadata": {},
   "outputs": [],
   "source": [
    "adult_exam.HAR1.value_counts()"
   ]
  },
  {
   "cell_type": "code",
   "execution_count": 109,
   "metadata": {},
   "outputs": [
    {
     "data": {
      "text/plain": [
       "(5965, 66)"
      ]
     },
     "execution_count": 109,
     "metadata": {},
     "output_type": "execute_result"
    }
   ],
   "source": [
    "adult_exam.query('2 <= SPPMANEU < 88').query('HSAGEIR < 90').query('DMARETHN < 4').query('HAR1 == 2').query('HAR23 == 2').query('HAR26 == 2').query('SPPQ3 == 2').query('SPPQ4 == 2').query('SPPQ5 == 2').shape"
   ]
  },
  {
   "cell_type": "code",
   "execution_count": 73,
   "metadata": {},
   "outputs": [
    {
     "data": {
      "text/plain": [
       "(7634, 66)"
      ]
     },
     "execution_count": 73,
     "metadata": {},
     "output_type": "execute_result"
    }
   ],
   "source": [
    "(adult_exam.query('2 <= SPPMANEU < 88')\n",
    " .query('HSAGEIR < 90').query('DMARETHN < 4')\n",
    " .query('HAR1 == 2').query('HAR23 == 2').query('HAR26 == 2').shape)"
   ]
  },
  {
   "cell_type": "markdown",
   "metadata": {},
   "source": [
    "# add exclude if smoked in 5 days - only 2 more excluded 7632"
   ]
  },
  {
   "cell_type": "code",
   "execution_count": null,
   "metadata": {},
   "outputs": [],
   "source": [
    "adult_exam.query('not (0 < HXPG1 < 888 | 0 < HXPG2A < 88 | 0 < HXPG2B < 88)').shape"
   ]
  },
  {
   "cell_type": "code",
   "execution_count": 74,
   "metadata": {},
   "outputs": [
    {
     "data": {
      "text/plain": [
       "(7632, 66)"
      ]
     },
     "execution_count": 74,
     "metadata": {},
     "output_type": "execute_result"
    }
   ],
   "source": [
    "(adult_exam.query('2 <= SPPMANEU < 88')\n",
    " .query('HSAGEIR < 90').query('DMARETHN < 4')\n",
    " .query('HAR1 == 2').query('HAR23 == 2').query('HAR26 == 2')\n",
    " .query('not (0 < HXPG1 < 888 | 0 < HXPG2A < 88 | 0 < HXPG2B < 88)').shape)"
   ]
  },
  {
   "cell_type": "code",
   "execution_count": 95,
   "metadata": {},
   "outputs": [
    {
     "data": {
      "text/plain": [
       "2    18672\n",
       "1     1376\n",
       "9        1\n",
       "8        1\n",
       "Name: HAC1E, dtype: int64"
      ]
     },
     "execution_count": 95,
     "metadata": {},
     "output_type": "execute_result"
    }
   ],
   "source": [
    "adult_exam.HAC1E.value_counts()"
   ]
  },
  {
   "cell_type": "markdown",
   "metadata": {},
   "source": [
    "and asthma H  454  6661  query('HAC1E == 2') (which gives different that > 1"
   ]
  },
  {
   "cell_type": "code",
   "execution_count": 77,
   "metadata": {},
   "outputs": [
    {
     "data": {
      "text/plain": [
       "(7158, 66)"
      ]
     },
     "execution_count": 77,
     "metadata": {},
     "output_type": "execute_result"
    }
   ],
   "source": [
    "(adult_exam.query('2 <= SPPMANEU < 88').query('HSAGEIR < 90')\n",
    " .query('DMARETHN < 4').query('HAR1 == 2').query('HAR23 == 2')\n",
    " .query('HAR26 == 2'). query('HAC1E == 2').shape)"
   ]
  },
  {
   "cell_type": "markdown",
   "metadata": {},
   "source": [
    "# and asthma (7156 subjects remaining)"
   ]
  },
  {
   "cell_type": "code",
   "execution_count": 76,
   "metadata": {},
   "outputs": [
    {
     "data": {
      "text/plain": [
       "(7156, 66)"
      ]
     },
     "execution_count": 76,
     "metadata": {},
     "output_type": "execute_result"
    }
   ],
   "source": [
    "(adult_exam.query('2 <= SPPMANEU < 88').query('HSAGEIR < 90')\n",
    " .query('DMARETHN < 4').query('HAR1 == 2').query('HAR23 == 2')\n",
    " .query('not (0 < HXPG1 < 888 | 0 < HXPG2A < 88 | 0 < HXPG2B < 88)')\n",
    " .query('HAR26 == 2'). query('HAC1E == 2').shape)"
   ]
  },
  {
   "cell_type": "markdown",
   "metadata": {},
   "source": [
    "and chronic bronchitis H  181, 6480  HAC1F == 2"
   ]
  },
  {
   "cell_type": "code",
   "execution_count": 94,
   "metadata": {},
   "outputs": [
    {
     "data": {
      "text/plain": [
       "2    18914\n",
       "1     1134\n",
       "9        2\n",
       "Name: HAC1F, dtype: int64"
      ]
     },
     "execution_count": 94,
     "metadata": {},
     "output_type": "execute_result"
    }
   ],
   "source": [
    "adult_exam.HAC1F.value_counts()"
   ]
  },
  {
   "cell_type": "code",
   "execution_count": 81,
   "metadata": {},
   "outputs": [
    {
     "data": {
      "text/plain": [
       "(6962, 66)"
      ]
     },
     "execution_count": 81,
     "metadata": {},
     "output_type": "execute_result"
    }
   ],
   "source": [
    "(adult_exam.query('2 <= SPPMANEU < 88').query('HSAGEIR < 90')\n",
    " .query('DMARETHN < 4').query('HAR1 == 2').query('HAR23 == 2')\n",
    " .query('HAR26 == 2'). query('HAC1E == 2'). query('HAC1F == 2').shape)"
   ]
  },
  {
   "cell_type": "markdown",
   "metadata": {},
   "source": [
    "# and chronic bronchitis (6960 subjects remaining)"
   ]
  },
  {
   "cell_type": "code",
   "execution_count": 80,
   "metadata": {},
   "outputs": [
    {
     "data": {
      "text/plain": [
       "(6960, 66)"
      ]
     },
     "execution_count": 80,
     "metadata": {},
     "output_type": "execute_result"
    }
   ],
   "source": [
    "(adult_exam.query('2 <= SPPMANEU < 88').query('HSAGEIR < 90')\n",
    " .query('DMARETHN < 4').query('HAR1 == 2').query('HAR23 == 2')\n",
    " .query('not (0 < HXPG1 < 888 | 0 < HXPG2A < 88 | 0 < HXPG2B < 88)')\n",
    " .query('HAR26 == 2'). query('HAC1E == 2'). query('HAC1F == 2').shape)"
   ]
  },
  {
   "cell_type": "markdown",
   "metadata": {},
   "source": [
    "and emphysema  H 15, 6465  HAC1G == 2\n"
   ]
  },
  {
   "cell_type": "code",
   "execution_count": 93,
   "metadata": {},
   "outputs": [
    {
     "data": {
      "text/plain": [
       "2    19614\n",
       "1      430\n",
       "9        5\n",
       "8        1\n",
       "Name: HAC1G, dtype: int64"
      ]
     },
     "execution_count": 93,
     "metadata": {},
     "output_type": "execute_result"
    }
   ],
   "source": [
    "adult_exam.HAC1G.value_counts()"
   ]
  },
  {
   "cell_type": "code",
   "execution_count": 82,
   "metadata": {},
   "outputs": [
    {
     "data": {
      "text/plain": [
       "(6945, 66)"
      ]
     },
     "execution_count": 82,
     "metadata": {},
     "output_type": "execute_result"
    }
   ],
   "source": [
    "adult_exam.query('2 <= SPPMANEU < 88').query('HSAGEIR < 90').query('DMARETHN < 4').query('HAR1 == 2').query('HAR23 == 2').query('HAR26 == 2'). query('HAC1E == 2'). query('HAC1F == 2').query('HAC1G == 2').shape"
   ]
  },
  {
   "cell_type": "markdown",
   "metadata": {},
   "source": [
    "# and emphysema (6943 remaining)"
   ]
  },
  {
   "cell_type": "code",
   "execution_count": 83,
   "metadata": {},
   "outputs": [
    {
     "data": {
      "text/plain": [
       "(6943, 66)"
      ]
     },
     "execution_count": 83,
     "metadata": {},
     "output_type": "execute_result"
    }
   ],
   "source": [
    "(adult_exam.query('2 <= SPPMANEU < 88').query('HSAGEIR < 90')\n",
    " .query('DMARETHN < 4').query('HAR1 == 2').query('HAR23 == 2')\n",
    " .query('not (0 < HXPG1 < 888 | 0 < HXPG2A < 88 | 0 < HXPG2B < 88)')\n",
    " .query('HAR26 == 2'). query('HAC1E == 2'). query('HAC1F == 2')\n",
    " .query('HAC1G == 2').shape)"
   ]
  },
  {
   "cell_type": "markdown",
   "metadata": {},
   "source": [
    "and cancer H 0 6465"
   ]
  },
  {
   "cell_type": "markdown",
   "metadata": {},
   "source": [
    "## When add cancer excludes many, but Hankinson none (when lung cancer), so exclude this future analyses"
   ]
  },
  {
   "cell_type": "code",
   "execution_count": 84,
   "metadata": {},
   "outputs": [
    {
     "data": {
      "text/plain": [
       "2    19266\n",
       "1      780\n",
       "9        3\n",
       "8        1\n",
       "Name: HAC1O, dtype: int64"
      ]
     },
     "execution_count": 84,
     "metadata": {},
     "output_type": "execute_result"
    }
   ],
   "source": [
    "adult_exam.HAC1O.value_counts()"
   ]
  },
  {
   "cell_type": "code",
   "execution_count": 85,
   "metadata": {},
   "outputs": [
    {
     "data": {
      "text/plain": [
       "(6756, 66)"
      ]
     },
     "execution_count": 85,
     "metadata": {},
     "output_type": "execute_result"
    }
   ],
   "source": [
    "adult_exam.query('2 <= SPPMANEU < 88').query('HSAGEIR < 90').query('DMARETHN < 4').query('HAR1 == 2').query('HAR23 == 2').query('HAR26 == 2'). query('HAC1E == 2'). query('HAC1F == 2').query('HAC1G == 2').query('HAC1O == 2').shape"
   ]
  },
  {
   "cell_type": "markdown",
   "metadata": {},
   "source": [
    "and wheezing 6 month  H 419 6046  HAL6"
   ]
  },
  {
   "cell_type": "code",
   "execution_count": 86,
   "metadata": {},
   "outputs": [
    {
     "data": {
      "text/plain": [
       "2    17097\n",
       "1     2942\n",
       "8        8\n",
       "9        3\n",
       "Name: HAL6, dtype: int64"
      ]
     },
     "execution_count": 86,
     "metadata": {},
     "output_type": "execute_result"
    }
   ],
   "source": [
    "adult_exam.HAL6.value_counts()"
   ]
  },
  {
   "cell_type": "code",
   "execution_count": 87,
   "metadata": {},
   "outputs": [
    {
     "data": {
      "text/plain": [
       "(6495, 66)"
      ]
     },
     "execution_count": 87,
     "metadata": {},
     "output_type": "execute_result"
    }
   ],
   "source": [
    "adult_exam.query('2 <= SPPMANEU < 88').query('HSAGEIR < 90').query('DMARETHN < 4').query('HAR1 == 2').query('HAR23 == 2').query('HAR26 == 2'). query('HAC1E == 2'). query('HAC1F == 2').query('HAC1G == 2').query('HAL6 == 2').shape"
   ]
  },
  {
   "cell_type": "markdown",
   "metadata": {},
   "source": [
    "and whistling or wheezing  H 112 5934  HAL10"
   ]
  },
  {
   "cell_type": "code",
   "execution_count": 96,
   "metadata": {},
   "outputs": [
    {
     "data": {
      "text/plain": [
       "2    17097\n",
       "1     2942\n",
       "8        8\n",
       "9        3\n",
       "Name: HAL6, dtype: int64"
      ]
     },
     "execution_count": 96,
     "metadata": {},
     "output_type": "execute_result"
    }
   ],
   "source": [
    "adult_exam.HAL6.value_counts()"
   ]
  },
  {
   "cell_type": "markdown",
   "metadata": {},
   "source": [
    "# and wheezing 12 months 6493"
   ]
  },
  {
   "cell_type": "code",
   "execution_count": 90,
   "metadata": {},
   "outputs": [
    {
     "data": {
      "text/plain": [
       "(6493, 66)"
      ]
     },
     "execution_count": 90,
     "metadata": {},
     "output_type": "execute_result"
    }
   ],
   "source": [
    "(adult_exam.query('2 <= SPPMANEU < 88').query('HSAGEIR < 90')\n",
    " .query('DMARETHN < 4').query('HAR1 == 2').query('HAR23 == 2')\n",
    " .query('not (0 < HXPG1 < 888 | 0 < HXPG2A < 88 | 0 < HXPG2B < 88)')\n",
    " .query('HAR26 == 2'). query('HAC1E == 2'). query('HAC1F == 2')\n",
    " .query('HAC1G == 2')\n",
    " .query('HAL6 == 2').shape)"
   ]
  },
  {
   "cell_type": "markdown",
   "metadata": {},
   "source": [
    "# and wheezing 12 months not=1"
   ]
  },
  {
   "cell_type": "code",
   "execution_count": 101,
   "metadata": {},
   "outputs": [
    {
     "data": {
      "text/plain": [
       "(6494, 66)"
      ]
     },
     "execution_count": 101,
     "metadata": {},
     "output_type": "execute_result"
    }
   ],
   "source": [
    "(adult_exam.query('2 <= SPPMANEU < 88').query('HSAGEIR < 90')\n",
    " .query('DMARETHN < 4').query('HAR1 == 2').query('HAR23 == 2')\n",
    " .query('not (0 < HXPG1 < 888 | 0 < HXPG2A < 88 | 0 < HXPG2B < 88)')\n",
    " .query('HAR26 == 2'). query('HAC1E == 2'). query('HAC1F == 2')\n",
    " .query('HAC1G == 2')\n",
    " .query('not HAL6 == 1').shape)"
   ]
  },
  {
   "cell_type": "code",
   "execution_count": 88,
   "metadata": {},
   "outputs": [
    {
     "data": {
      "text/plain": [
       "(6368, 66)"
      ]
     },
     "execution_count": 88,
     "metadata": {},
     "output_type": "execute_result"
    }
   ],
   "source": [
    "adult_exam.query('2 <= SPPMANEU < 88').query('HSAGEIR < 90').query('DMARETHN < 4').query('HAR1 == 2').query('HAR23 == 2').query('HAR26 == 2'). query('HAC1E == 2'). query('HAC1F == 2').query('HAC1G == 2').query('HAL6 == 2').query('HAL10 == 2').shape"
   ]
  },
  {
   "cell_type": "markdown",
   "metadata": {},
   "source": [
    "# and wheezing apart from colds 6366"
   ]
  },
  {
   "cell_type": "code",
   "execution_count": 92,
   "metadata": {},
   "outputs": [
    {
     "data": {
      "text/plain": [
       "(6366, 66)"
      ]
     },
     "execution_count": 92,
     "metadata": {},
     "output_type": "execute_result"
    }
   ],
   "source": [
    "(adult_exam.query('2 <= SPPMANEU < 88').query('HSAGEIR < 90')\n",
    " .query('DMARETHN < 4').query('HAR1 == 2').query('HAR23 == 2')\n",
    " .query('not (0 < HXPG1 < 888 | 0 < HXPG2A < 88 | 0 < HXPG2B < 88)')\n",
    " .query('HAR26 == 2'). query('HAC1E == 2'). query('HAC1F == 2')\n",
    " .query('HAC1G == 2')\n",
    " .query('HAL6 == 2')\n",
    " .query('HAL10 == 2').shape)"
   ]
  },
  {
   "cell_type": "code",
   "execution_count": 97,
   "metadata": {},
   "outputs": [
    {
     "data": {
      "text/plain": [
       "2    17958\n",
       "1     2072\n",
       "8       14\n",
       "9        6\n",
       "Name: HAL10, dtype: int64"
      ]
     },
     "execution_count": 97,
     "metadata": {},
     "output_type": "execute_result"
    }
   ],
   "source": [
    "adult_exam.HAL10.value_counts()"
   ]
  },
  {
   "cell_type": "markdown",
   "metadata": {},
   "source": [
    "and persistent cough H 158, 5776  HAL1"
   ]
  },
  {
   "cell_type": "code",
   "execution_count": 89,
   "metadata": {},
   "outputs": [
    {
     "data": {
      "text/plain": [
       "(6200, 66)"
      ]
     },
     "execution_count": 89,
     "metadata": {},
     "output_type": "execute_result"
    }
   ],
   "source": [
    "adult_exam.query('2 <= SPPMANEU < 88').query('HSAGEIR < 90').query('DMARETHN < 4').query('HAR1 == 2').query('HAR23 == 2').query('HAR26 == 2'). query('HAC1E == 2'). query('HAC1F == 2').query('HAC1G == 2').query('HAL6 == 2').query('HAL10 == 2').query('HAL1 == 2').shape"
   ]
  },
  {
   "cell_type": "code",
   "execution_count": 98,
   "metadata": {},
   "outputs": [
    {
     "data": {
      "text/plain": [
       "2    18461\n",
       "1     1582\n",
       "8        6\n",
       "9        1\n",
       "Name: HAL1, dtype: int64"
      ]
     },
     "execution_count": 98,
     "metadata": {},
     "output_type": "execute_result"
    }
   ],
   "source": [
    "adult_exam.HAL1.value_counts()"
   ]
  },
  {
   "cell_type": "markdown",
   "metadata": {},
   "source": [
    "and persistent phlegm H 125  5776  HAL 3"
   ]
  },
  {
   "cell_type": "code",
   "execution_count": null,
   "metadata": {},
   "outputs": [],
   "source": [
    "adult_exam.query('2 <= SPPMANEU < 88').query('HSAGEIR < 90').query('DMARETHN < 4').query('HAR1 == 2').query('HAR23 == 2').query('HAR26 == 2'). query('HAC1E == 2'). query('HAC1F == 2').query('HAC1G == 2').query('HAL6 == 2').query('HAL10 == 2').query('HAL1 == 2').query('HAL3 == 2').shape"
   ]
  },
  {
   "cell_type": "markdown",
   "metadata": {},
   "source": [
    "and moderate shortness of breath H  848  4803  HAL5"
   ]
  },
  {
   "cell_type": "code",
   "execution_count": 99,
   "metadata": {},
   "outputs": [
    {
     "data": {
      "text/plain": [
       "2    18330\n",
       "1     1705\n",
       "8       12\n",
       "9        3\n",
       "Name: HAL3, dtype: int64"
      ]
     },
     "execution_count": 99,
     "metadata": {},
     "output_type": "execute_result"
    }
   ],
   "source": [
    "adult_exam.HAL3.value_counts()"
   ]
  },
  {
   "cell_type": "code",
   "execution_count": null,
   "metadata": {},
   "outputs": [],
   "source": [
    "adult_exam.HAL5.value_counts()"
   ]
  },
  {
   "cell_type": "code",
   "execution_count": null,
   "metadata": {},
   "outputs": [],
   "source": [
    "adult_exam.query('2 <= SPPMANEU < 88').query('HSAGEIR < 90').query('DMARETHN < 4').query('HAR1 == 2').query('HAR23 == 2').query('HAR26 == 2'). query('HAC1E == 2'). query('HAC1F == 2').query('HAC1G == 2').query('HAL6 == 2').query('HAL10 == 2').query('HAL1 == 2').query('HAL3 == 2').query('HAL5 == 2').shape"
   ]
  },
  {
   "cell_type": "code",
   "execution_count": 100,
   "metadata": {},
   "outputs": [
    {
     "data": {
      "text/plain": [
       "2    14910\n",
       "1     5030\n",
       "8       64\n",
       "9       46\n",
       "Name: HAL5, dtype: int64"
      ]
     },
     "execution_count": 100,
     "metadata": {},
     "output_type": "execute_result"
    }
   ],
   "source": [
    "adult_exam.HAL5.value_counts()"
   ]
  },
  {
   "cell_type": "code",
   "execution_count": null,
   "metadata": {},
   "outputs": [],
   "source": [
    "adult_exam.query('2 <= SPPMANEU < 88').query('HSAGEIR < 90').query('DMARETHN < 4').query('HAR1 == 2').query('HAR23 > 1').query('HAR26 > 1').query('HAC1E > 1').query('HAC1F > 1').query('HAC1G > 1').query('HAC1O > 1').query('HAL6 > 1').query('HAL1 > 1').query('HAL3 > 1').query('HAL5 == 2').shape"
   ]
  },
  {
   "cell_type": "markdown",
   "metadata": {},
   "source": [
    "and age > 80  H  139 4634  HSAGEIR\n"
   ]
  },
  {
   "cell_type": "markdown",
   "metadata": {},
   "source": [
    "adult_exam.query('2 <= SPPMANEU < 88').query('HSAGEIR < 90').query('DMARETHN < 4').query('HAR1 == 2').query('HAR23 > 1').query('HAR26 > 1').query('HAC1E > 1').query('HAC1F > 1').query('HAC1G > 1').query('HAC1O > 1').query('HAL6 > 1').query('HAL1 > 1').query('HAL3 > 1').query('HAL5 == 2').query('HSAGEIR < 81').shape"
   ]
  },
  {
   "cell_type": "code",
   "execution_count": null,
   "metadata": {},
   "outputs": [],
   "source": [
    "(adult_exam.query('2 <= SPPMANEU < 88')\n",
    ".query('HSAGEIR < 90').query('DMARETHN < 4')\n",
    ".query('HAR1 == 2').query('HAR23 > 1')\n",
    ".query('HAR26 > 1').query('HAC1E > 1')\n",
    ".query('HAC1F > 1').query('HAC1G > 1')\n",
    ".query('HAC1O > 1').query('HAL6 > 1')\n",
    ".query('HAL1 > 1').query('HAL3 > 1')\n",
    ".query('HAL5 == 2').query('HSAGEIR < 81').shape)"
   ]
  },
  {
   "cell_type": "markdown",
   "metadata": {},
   "source": [
    "## Now create DataFrame adult_final of the final rows selected"
   ]
  },
  {
   "cell_type": "markdown",
   "metadata": {},
   "source": [
    "set AdultFinal = adult_exam.query('2 <= SPPMANEU < 88').query('HSAGEIR < 90').query('DMARETHN < 4').query('HAR1 == 2').query('HAR23 > 1').query('HAR26 > 1').query('HAC1E > 1').query('HAC1F > 1').query('HAC1G > 1').query('HAC1O > 1').query('HAL6 > 1').query('HAL1 > 1').query('HAL3 > 1').query('HAL5 == 2').query('HSAGEIR < 81').shape"
   ]
  },
  {
   "cell_type": "markdown",
   "metadata": {},
   "source": [
    "adult_final = (adult_exam.query('2 <= SPPMANEU < 88')\n",
    "                         .query('HSAGEIR < 90').query('DMARETHN < 4')\n",
    "                           .query('HAR1 == 2').query('HAR23 > 1').query('HAR26 > 1')\n",
    "                           .query('HAC1E > 1').query('HAC1F > 1').query('HAC1G > 1')\n",
    "                           .query('HAC1O > 1').query('HAL6 > 1').query('HAL1 > 1')\n",
    "                           .query('HAL3 > 1').query('HAL5 == 2').query('HSAGEIR < 81'))"
   ]
  },
  {
   "cell_type": "code",
   "execution_count": null,
   "metadata": {},
   "outputs": [],
   "source": [
    "adult_final = (adult_exam.query('2 <= SPPMANEU < 88')\n",
    "                         .query('HSAGEIR < 90').query('DMARETHN < 4')\n",
    "                           .query('HAR1 == 2').query('HAR23 > 1').query('HAR26 > 1')\n",
    "                           .query('HAC1E > 1').query('HAC1F > 1').query('HAC1G > 1')\n",
    "                           .query('HAC1O > 1').query('HAL6 > 1').query('HAL1 > 1')\n",
    "                           .query('HAL3 > 1').query('HAL5 == 2').query('HSAGEIR < 81'))"
   ]
  },
  {
   "cell_type": "code",
   "execution_count": null,
   "metadata": {},
   "outputs": [],
   "source": [
    "af = adult_final"
   ]
  },
  {
   "cell_type": "code",
   "execution_count": null,
   "metadata": {},
   "outputs": [],
   "source": [
    "af.info()"
   ]
  },
  {
   "cell_type": "code",
   "execution_count": null,
   "metadata": {},
   "outputs": [],
   "source": [
    "nh.cols[nh.cols.description.str.contains('age')]"
   ]
  },
  {
   "cell_type": "code",
   "execution_count": null,
   "metadata": {},
   "outputs": [],
   "source": [
    "af.SPPFEV1"
   ]
  },
  {
   "cell_type": "markdown",
   "metadata": {},
   "source": [
    "## Now do youth exclusion"
   ]
  },
  {
   "cell_type": "code",
   "execution_count": null,
   "metadata": {},
   "outputs": [],
   "source": [
    "youth_exam.shape"
   ]
  },
  {
   "cell_type": "markdown",
   "metadata": {},
   "source": [
    "age 8-17"
   ]
  },
  {
   "cell_type": "code",
   "execution_count": null,
   "metadata": {},
   "outputs": [],
   "source": [
    "youth_exam.query('7 < HSAGEIR < 18').shape"
   ]
  },
  {
   "cell_type": "markdown",
   "metadata": {},
   "source": [
    "Youth ethnicity"
   ]
  },
  {
   "cell_type": "code",
   "execution_count": null,
   "metadata": {},
   "outputs": [],
   "source": [
    "youth_exam.DMARETHN.value_counts()"
   ]
  },
  {
   "cell_type": "markdown",
   "metadata": {},
   "source": [
    "spirometry unusable <2 curves"
   ]
  },
  {
   "cell_type": "code",
   "execution_count": null,
   "metadata": {},
   "outputs": [],
   "source": [
    "youth_exam.query('7 < HSAGEIR < 18').query('2 <= SPPMANEU < 88').shape"
   ]
  },
  {
   "cell_type": "markdown",
   "metadata": {},
   "source": [
    "ethnicity other"
   ]
  },
  {
   "cell_type": "code",
   "execution_count": null,
   "metadata": {},
   "outputs": [],
   "source": [
    "youth_exam.query('7 < HSAGEIR < 18').query('2 <= SPPMANEU < 88').query('DMARETHN < 4').shape"
   ]
  },
  {
   "cell_type": "markdown",
   "metadata": {},
   "source": [
    "try B1 ever smoker  not work exclude too many"
   ]
  },
  {
   "cell_type": "code",
   "execution_count": null,
   "metadata": {},
   "outputs": [],
   "source": [
    "youth_exam.query('7 < HSAGEIR < 18').query('2 <= SPPMANEU < 88').query('DMARETHN < 4').query('not MYPB1 == 1').shape"
   ]
  },
  {
   "cell_type": "markdown",
   "metadata": {},
   "source": [
    "smoker B1 and B3 ** B1 too many; B3 (>5 pks) OK"
   ]
  },
  {
   "cell_type": "markdown",
   "metadata": {},
   "source": [
    "# now try using MYPB11 - smoked >100 cigarettes in life"
   ]
  },
  {
   "cell_type": "markdown",
   "metadata": {},
   "source": [
    "# MYPB3 youth smoked at least 100 cigarettes"
   ]
  },
  {
   "cell_type": "code",
   "execution_count": null,
   "metadata": {},
   "outputs": [],
   "source": [
    "youth_exam.query('7 < HSAGEIR < 18').query('2 <= SPPMANEU < 88').query('DMARETHN < 4').query('not MYPB3 == 1').shape"
   ]
  },
  {
   "cell_type": "markdown",
   "metadata": {},
   "source": [
    "smoked 5 days B11 and B27"
   ]
  },
  {
   "cell_type": "code",
   "execution_count": null,
   "metadata": {},
   "outputs": [],
   "source": [
    "youth_exam.query('7 < HSAGEIR < 18').query('2 <= SPPMANEU < 88').query('DMARETHN < 4').query('not MYPB3 == 1').query('not MYPB11 >0').shape"
   ]
  },
  {
   "cell_type": "markdown",
   "metadata": {},
   "source": [
    "and B27"
   ]
  },
  {
   "cell_type": "code",
   "execution_count": null,
   "metadata": {},
   "outputs": [],
   "source": [
    "youth_exam.query('7 < HSAGEIR < 18').query('2 <= SPPMANEU < 88').query('DMARETHN < 4').query('not MYPB3 == 1').query('not MYPB11 >0').query('not MYPB27A >0').shape"
   ]
  },
  {
   "cell_type": "markdown",
   "metadata": {},
   "source": [
    "asthma E1g"
   ]
  },
  {
   "cell_type": "code",
   "execution_count": null,
   "metadata": {},
   "outputs": [],
   "source": [
    "youth_exam.query('7 < HSAGEIR < 18').query('2 <= SPPMANEU < 88').query('DMARETHN < 4').query('not MYPB3 == 1').query('not MYPB11 >0').query('not MYPB27A >0').query('not HYE1G == 1').shape"
   ]
  },
  {
   "cell_type": "markdown",
   "metadata": {},
   "source": [
    "chronic bronchitis E1h"
   ]
  },
  {
   "cell_type": "code",
   "execution_count": null,
   "metadata": {},
   "outputs": [],
   "source": [
    "youth_exam.query('7 < HSAGEIR < 18').query('2 <= SPPMANEU < 88').query('DMARETHN < 4').query('not MYPB3 == 1').query('not MYPB11 >0').query('not MYPB27A >0').query('not HYE1G == 1').query('not HYE1H == 1').shape"
   ]
  },
  {
   "cell_type": "markdown",
   "metadata": {},
   "source": [
    "wheezing 12 months"
   ]
  },
  {
   "cell_type": "code",
   "execution_count": null,
   "metadata": {},
   "outputs": [],
   "source": [
    "youth_exam.query('7 < HSAGEIR < 18').query('2 <= SPPMANEU < 88').query('DMARETHN < 4').query('not MYPB3 == 1').query('not MYPB11 >0').query('not MYPB27A >0').query('not HYE1G == 1').query('not HYE1H == 1').query('not HYG8 == 1').shape"
   ]
  },
  {
   "cell_type": "markdown",
   "metadata": {},
   "source": [
    "wheezing apart from colds"
   ]
  },
  {
   "cell_type": "code",
   "execution_count": null,
   "metadata": {
    "scrolled": true
   },
   "outputs": [],
   "source": [
    "youth_exam.query('7 < HSAGEIR < 18').query('2 <= SPPMANEU < 88').query('DMARETHN < 4').query('not MYPB3 == 1').query('not MYPB11 >0').query('not MYPB27A >0').query('not HYE1G == 1').query('not HYE1H == 1').query('not HYG8 == 1').query('not HYG12 == 1').shape"
   ]
  },
  {
   "cell_type": "markdown",
   "metadata": {},
   "source": [
    "Youth 12 years and older with above H 1298"
   ]
  },
  {
   "cell_type": "code",
   "execution_count": null,
   "metadata": {},
   "outputs": [],
   "source": [
    "youth_exam.query('7 < HSAGEIR < 18').query('2 <= SPPMANEU < 88').query('DMARETHN < 4').query('not MYPB3 == 1').query('not MYPB11 >0').query('not MYPB27A >0').query('not HYE1G == 1').query('not HYE1H == 1').query('not HYG8 == 1').query('not HYG12 == 1').query('HSAGEIR > 11').shape"
   ]
  },
  {
   "cell_type": "markdown",
   "metadata": {},
   "source": [
    "and not persistent cough G2 H 2816 **I all age"
   ]
  },
  {
   "cell_type": "code",
   "execution_count": null,
   "metadata": {},
   "outputs": [],
   "source": [
    "youth_exam.query('7 < HSAGEIR < 18').query('2 <= SPPMANEU < 88').query('DMARETHN < 4').query('not MYPB3 == 1').query('not MYPB11 >0').query('not MYPB27A >0').query('not HYE1G == 1').query('not HYE1H == 1').query('not HYG8 == 1').query('not HYG12 == 1').query('not HYG2 == 1').shape"
   ]
  },
  {
   "cell_type": "markdown",
   "metadata": {},
   "source": [
    "and not persistent phlegm G4 H 2806"
   ]
  },
  {
   "cell_type": "code",
   "execution_count": null,
   "metadata": {},
   "outputs": [],
   "source": [
    "youth_exam.query('7 < HSAGEIR < 18').query('2 <= SPPMANEU < 88').query('DMARETHN < 4').query('not MYPB3 == 1').query('not MYPB11 >0').query('not MYPB27A >0').query('not HYE1G == 1').query('not HYE1H == 1').query('not HYG8 == 1').query('not HYG12 == 1').query('not HYG2 == 1').query('not HYG4 == 1').shape"
   ]
  },
  {
   "cell_type": "markdown",
   "metadata": {},
   "source": [
    "and Youth age 8-under 12"
   ]
  },
  {
   "cell_type": "code",
   "execution_count": null,
   "metadata": {},
   "outputs": [],
   "source": [
    "youth_exam.query('7 < HSAGEIR < 18').query('2 <= SPPMANEU < 88').query('DMARETHN < 4').query('not MYPB3 == 1').query('not MYPB11 >0').query('not MYPB27A >0').query('not HYE1G == 1').query('not HYE1H == 1').query('not HYG8 == 1').query('not HYG12 == 1').query('not HYG2 == 1').query('not HYG4 == 1').query('HSAGEIR < 12').shape"
   ]
  },
  {
   "cell_type": "markdown",
   "metadata": {},
   "source": [
    "and not persistent cough G6 and G7"
   ]
  },
  {
   "cell_type": "code",
   "execution_count": null,
   "metadata": {},
   "outputs": [],
   "source": [
    "youth_exam.query('7 < HSAGEIR < 18').query('2 <= SPPMANEU < 88').query('DMARETHN < 4').query('not MYPB3 == 1').query('not MYPB11 >0').query('not MYPB27A >0').query('not HYE1G == 1').query('not HYE1H == 1').query('not HYG8 == 1').query('not HYG12 == 1').query('not HYG2 == 1').query('not HYG4 == 1').query('not HYG7 == 555').shape"
   ]
  },
  {
   "cell_type": "markdown",
   "metadata": {},
   "source": [
    "## Create youth_final"
   ]
  },
  {
   "cell_type": "markdown",
   "metadata": {},
   "source": [
    "youth_exam.query('7 < HSAGEIR < 18').query('2 <= SPPMANEU < 88').query('DMARETHN < 4').query('not MYPB3 == 1').query('not MYPB11 >0').query('not MYPB27A >0').query('not HYE1G == 1').query('not HYE1H == 1').query('not HYG8 == 1').query('not HYG12 == 1').query('not HYG2 == 1').query('not HYG4 == 1').query('not HYG7 == 555').shape"
   ]
  },
  {
   "cell_type": "markdown",
   "metadata": {},
   "source": [
    "youth_exam.query('7 < HSAGEIR < 18').query('2 <= SPPMANEU < 88').query('DMARETHN < 4').query('not MYPB3 == 1').query('not MYPB11 >0').query('not MYPB27A >0').query('not HYE1G == 1').query('not HYE1H == 1').query('not HYG8 == 1').query('not HYG12 == 1').query('not HYG2 == 1').query('not HYG4 == 1').query('not HYG7 == 555').shape"
   ]
  },
  {
   "cell_type": "markdown",
   "metadata": {},
   "source": [
    "youth_final = (youth_exam.query('7 < HSAGEIR < 18').query('2 <= SPPMANEU < 88')\n",
    "               .query('DMARETHN < 4').query('not MYPB3 == 1')\n",
    "               .query('not MYPB11 >0').query('not MYPB27A >0')\n",
    "               .query('not HYE1G == 1').query('not HYE1H == 1')\n",
    "               .query('not HYG8 == 1').query('not HYG12 == 1')\n",
    "               .query('not HYG2 == 1').query('not HYG4 == 1')\n",
    "               .query('not HYG7 == 555'))"
   ]
  },
  {
   "cell_type": "code",
   "execution_count": null,
   "metadata": {},
   "outputs": [],
   "source": [
    "youth_final = (youth_exam.query('7 < HSAGEIR < 18').query('2 <= SPPMANEU < 88')\n",
    "               .query('DMARETHN < 4').query('not MYPB3 == 1')\n",
    "               .query('not MYPB11 >0').query('not MYPB27A >0')\n",
    "               .query('not HYE1G == 1').query('not HYE1H == 1')\n",
    "               .query('not HYG8 == 1').query('not HYG12 == 1')\n",
    "               .query('not HYG2 == 1').query('not HYG4 == 1')\n",
    "               .query('not HYG7 == 555'))"
   ]
  },
  {
   "cell_type": "code",
   "execution_count": null,
   "metadata": {},
   "outputs": [],
   "source": [
    "youth_final.shape"
   ]
  },
  {
   "cell_type": "code",
   "execution_count": null,
   "metadata": {},
   "outputs": [],
   "source": [
    "youth_final.head(2)"
   ]
  },
  {
   "cell_type": "markdown",
   "metadata": {},
   "source": [
    "After all of the exclusions, the youth_final dataframe has 2812 entries."
   ]
  },
  {
   "cell_type": "code",
   "execution_count": null,
   "metadata": {},
   "outputs": [],
   "source": [
    "youth.cols"
   ]
  },
  {
   "cell_type": "markdown",
   "metadata": {},
   "source": [
    "## Reviewing adult file"
   ]
  },
  {
   "cell_type": "code",
   "execution_count": null,
   "metadata": {},
   "outputs": [],
   "source": [
    "cols = nh.cols\n",
    "cols"
   ]
  },
  {
   "cell_type": "code",
   "execution_count": null,
   "metadata": {},
   "outputs": [],
   "source": [
    "cols[cols.description.str.contains('(?:smok|cig)')]"
   ]
  },
  {
   "cell_type": "code",
   "execution_count": null,
   "metadata": {},
   "outputs": [],
   "source": [
    "nh.hist_amount('HAR4S');"
   ]
  },
  {
   "cell_type": "code",
   "execution_count": null,
   "metadata": {},
   "outputs": [],
   "source": [
    "nh.hist_amount('HSAITMOR',outliers=1200);"
   ]
  },
  {
   "cell_type": "code",
   "execution_count": null,
   "metadata": {},
   "outputs": [],
   "source": [
    "nh.hist_amount('DMARETHN', outliers=25);"
   ]
  },
  {
   "cell_type": "code",
   "execution_count": null,
   "metadata": {},
   "outputs": [],
   "source": [
    "cols[cols.description.str.contains('weight|pounds') & ~cols.description.str.contains('(sample|interview|weighting|exam)')]"
   ]
  },
  {
   "cell_type": "code",
   "execution_count": null,
   "metadata": {},
   "outputs": [],
   "source": [
    "cols[cols.description.str.contains('height|cm') & ~cols.description.str.contains('(sample|interview|weighting|exam)')]"
   ]
  },
  {
   "cell_type": "code",
   "execution_count": null,
   "metadata": {},
   "outputs": [],
   "source": [
    "cols[cols.description.str.contains('stand') ]"
   ]
  },
  {
   "cell_type": "markdown",
   "metadata": {},
   "source": [
    "Test Markdown"
   ]
  },
  {
   "cell_type": "code",
   "execution_count": null,
   "metadata": {},
   "outputs": [],
   "source": [
    "nh.hist_amount('HAR4S');"
   ]
  },
  {
   "cell_type": "code",
   "execution_count": null,
   "metadata": {},
   "outputs": [],
   "source": [
    "nh.hist_amount('HSAITMOR',outliers=1200);"
   ]
  },
  {
   "cell_type": "markdown",
   "metadata": {},
   "source": [
    "## Now analyze adult_final"
   ]
  },
  {
   "cell_type": "code",
   "execution_count": null,
   "metadata": {},
   "outputs": [],
   "source": [
    "adult_final.HSAITMOR.hist(bins='auto', range=(0,1200))"
   ]
  },
  {
   "cell_type": "markdown",
   "metadata": {},
   "source": [
    "## Create new fields in adult_final and youth_final"
   ]
  },
  {
   "cell_type": "markdown",
   "metadata": {},
   "source": [
    "Create new fields (XoY = X/Y) in youth_final and adult_final"
   ]
  },
  {
   "cell_type": "code",
   "execution_count": null,
   "metadata": {},
   "outputs": [],
   "source": [
    "oldvariables = [ 'SPPFEV1', 'SPPFEV3', 'SPPFEV6', 'SPPFVC','SPPPEAK','SPPMMEF', 'SPPFEF75', 'SPPEXPIR']"
   ]
  },
  {
   "cell_type": "markdown",
   "metadata": {},
   "source": [
    "## Create new variables in adult_final final and youth_final"
   ]
  },
  {
   "cell_type": "markdown",
   "metadata": {},
   "source": [
    "newvariables = ['FEV1OFVC', 'FEV1OFEV6', 'PEFROFVC', 'PEFROFEV6', 'PEFROFEV1', 'FEV3OFVC', 'FEV6OFVC']"
   ]
  },
  {
   "cell_type": "markdown",
   "metadata": {},
   "source": [
    "def createvariables(df):\n",
    "    df['FEV1OFVC'] = df.SPPFEV1 / df.SPPFVC\n",
    "    df['FEV1OFEV6']= df.SPPFEV1 / df.SPPFEV6\n",
    "    df['PEFROFVC'] = df.SPPPEAK / df.SPPFVC\n",
    "    df['PEFROFEV6']= df.SPPPEAK / df.SPPFEV6\n",
    "    df['PEFROFEV1'] = df.SPPPEAK / df.SPPFEV1\n",
    "    df['FEV3OFVC'] = df.SPPFEV3 / df.SPPFVC\n",
    "    df['FEV6OFVC'] = df.SPPFEV6 / df.SPPFVC\n",
    "    return"
   ]
  },
  {
   "cell_type": "code",
   "execution_count": null,
   "metadata": {},
   "outputs": [],
   "source": [
    "def createvariables(df):\n",
    "    df['FEV1OFVC'] = df.SPPFEV1 / df.SPPFVC\n",
    "    df['FEV1OFEV6']= df.SPPFEV1 / df.SPPFEV6\n",
    "    df['PEFROFVC'] = df.SPPPEAK / df.SPPFVC\n",
    "    df['PEFROFEV6']= df.SPPPEAK / df.SPPFEV6\n",
    "    df['PEFROFEV1'] = df.SPPPEAK / df.SPPFEV1\n",
    "    df['FEV3OFVC'] = df.SPPFEV3 / df.SPPFVC\n",
    "    df['FEV6OFVC'] = df.SPPFEV6 / df.SPPFVC\n",
    "    return\n",
    "    "
   ]
  },
  {
   "cell_type": "markdown",
   "metadata": {},
   "source": [
    "createvariables(adult_final) then youth_final"
   ]
  },
  {
   "cell_type": "code",
   "execution_count": null,
   "metadata": {},
   "outputs": [],
   "source": [
    "createvariables(adult_final)"
   ]
  },
  {
   "cell_type": "code",
   "execution_count": null,
   "metadata": {},
   "outputs": [],
   "source": [
    "createvariables(youth_final)"
   ]
  },
  {
   "cell_type": "code",
   "execution_count": null,
   "metadata": {},
   "outputs": [],
   "source": [
    "adult_final.PEFROFVC.hist(bins='auto', range=(0,5))"
   ]
  },
  {
   "cell_type": "code",
   "execution_count": null,
   "metadata": {},
   "outputs": [],
   "source": [
    "youth_final.PEFROFVC.hist(bins='auto', range=(0,5))"
   ]
  },
  {
   "cell_type": "code",
   "execution_count": null,
   "metadata": {},
   "outputs": [],
   "source": [
    "adult_final.FEV1OFVC.hist(bins='auto')"
   ]
  },
  {
   "cell_type": "code",
   "execution_count": null,
   "metadata": {},
   "outputs": [],
   "source": [
    "adult_final.describe()"
   ]
  },
  {
   "cell_type": "code",
   "execution_count": null,
   "metadata": {},
   "outputs": [],
   "source": [
    "adult_final.BMPHT.std()"
   ]
  },
  {
   "cell_type": "code",
   "execution_count": null,
   "metadata": {},
   "outputs": [],
   "source": [
    "adult_final.describe()"
   ]
  },
  {
   "cell_type": "code",
   "execution_count": null,
   "metadata": {},
   "outputs": [],
   "source": [
    "print (adult_final.columns.values)"
   ]
  },
  {
   "cell_type": "code",
   "execution_count": null,
   "metadata": {},
   "outputs": [],
   "source": [
    "print (youth_final.columns.values)"
   ]
  },
  {
   "cell_type": "code",
   "execution_count": null,
   "metadata": {},
   "outputs": [],
   "source": [
    "youth_final.describe()"
   ]
  },
  {
   "cell_type": "markdown",
   "metadata": {},
   "source": [
    "# Created other data bases to analyze"
   ]
  },
  {
   "cell_type": "markdown",
   "metadata": {},
   "source": [
    "# adult m20overb m20overcma f18overb f18overcma"
   ]
  },
  {
   "cell_type": "markdown",
   "metadata": {},
   "source": [
    "male 20 over. female 18 over; and cma (Caucasian-Mexican American) or b (black)\n",
    "NOT NEED m20over = adult_final.query('HSAGEIR >=20 & HSSEX == 1’)\n",
    "NOT NEED f18over = adult_final.query('HSAGEIR >=18 & HSSEX == 2’)\n",
    "m20overb  = adult_final.query(('HSAGEIR >= 20 & HSSEX == 1 & DMARETHN == 2'))\n",
    "m20overcma  = adult_final.query(('HSAGEIR >=20 & HSSEX == 1 & (DMARETHN == 1 | DMARETHN ==3)'))\n",
    "f18overcma = adult_final.query(('HSAGEIR >=18 & HSSEX == 2 & (DMARETHN == 1 | DMARETHN ==3)'))\n",
    "f18overb = adult_final.query(('HSAGEIR >=18 & HSSEX == 2 & DMARETHN == 2 '))\n",
    "m20overc  = adult_final.query(('HSAGEIR >= 20 & HSSEX == 1 & DMARETHN == 1'))\n",
    "m20overma  = adult_final.query(('HSAGEIR >= 20 & HSSEX == 1 & DMARETHN == 3'))\n",
    "f18overc = adult_final.query(('HSAGEIR >=18 & HSSEX == 2 & DMARETHN == 1 '))\n",
    "f18overma = adult_final.query(('HSAGEIR >=18 & HSSEX == 2 & DMARETHN == 3 '))\n",
    "\n",
    "DMARETHN – 1 non-Hispanic white, 2 non-hispanic black, 3 Mexican American, 4 other\n"
   ]
  },
  {
   "cell_type": "code",
   "execution_count": null,
   "metadata": {},
   "outputs": [],
   "source": [
    "m20overb  = adult_final.query(('HSAGEIR >= 20 & HSSEX == 1 & DMARETHN == 2'))\n",
    "m20overcma  = adult_final.query(('HSAGEIR >=20 & HSSEX == 1 & (DMARETHN == 1 | DMARETHN ==3)'))\n",
    "f18overcma = adult_final.query(('HSAGEIR >=18 & HSSEX == 2 & (DMARETHN == 1 | DMARETHN ==3)'))\n",
    "f18overb = adult_final.query(('HSAGEIR >=18 & HSSEX == 2 & DMARETHN == 2 '))\n",
    "m20overc  = adult_final.query(('HSAGEIR >= 20 & HSSEX == 1 & DMARETHN == 1'))\n",
    "m20overma  = adult_final.query(('HSAGEIR >= 20 & HSSEX == 1 & DMARETHN == 3'))\n",
    "f18overc = adult_final.query(('HSAGEIR >=18 & HSSEX == 2 & DMARETHN == 1 '))\n",
    "f18overma = adult_final.query(('HSAGEIR >=18 & HSSEX == 2 & DMARETHN == 3 '))"
   ]
  },
  {
   "cell_type": "code",
   "execution_count": null,
   "metadata": {},
   "outputs": [],
   "source": [
    "f18overb.describe()"
   ]
  },
  {
   "cell_type": "markdown",
   "metadata": {},
   "source": [
    "## Make dataframes mlt20 and flt18 for b, c, ma and cma combining adult final and youth final"
   ]
  },
  {
   "cell_type": "markdown",
   "metadata": {},
   "source": [
    "male<20,female<18\n",
    "mlt20b = pd.concat([adult_final.query(('HSAGEIR < 20 & HSSEX == 1 & DMARETHN == 2 ')), youth_final.query(('HSSEX == 1 & DMARETHN == 2'))])\n",
    "mlt20cma = pd.concat([adult_final.query(('HSAGEIR < 20 & HSSEX == 1 & (DMARETHN == 1 | DMARETHN == 3) ')), youth_final.query(('HSSEX == 1 & (DMARETHN == 1 | DMARETHN == 3)'))])\n",
    "flt18b = pd.concat([adult_final.query(('HSAGEIR < 18 & HSSEX == 2 & DMARETHN == 2 ')), youth_final.query(('HSSEX == 2 & DMARETHN == 2'))])\n",
    "flt18cma = pd.concat([adult_final.query(('HSAGEIR < 18 & HSSEX == 2 & (DMARETHN == 1 | DMARETHN == 3) ')), youth_final.query(('HSSEX == 2 & (DMARETHN == 1 | DMARETHN == 3)'))])\n",
    "mlt20c = pd.concat([adult_final.query(('HSAGEIR < 20 & HSSEX == 1 & DMARETHN == 1 ')), youth_final.query(('HSSEX == 1 & DMARETHN == 1'))])\n",
    "mlt20ma = pd.concat([adult_final.query(('HSAGEIR < 20 & HSSEX == 1 & DMARETHN == 3 ')), youth_final.query(('HSSEX == 1 & DMARETHN == 3'))])\n",
    "flt18c = pd.concat([adult_final.query(('HSAGEIR < 18 & HSSEX == 2 & DMARETHN == 1 ')), youth_final.query(('HSSEX == 2 & DMARETHN == 1'))])\n",
    "flt18ma = pd.concat([adult_final.query(('HSAGEIR < 18 & HSSEX == 2 & DMARETHN == 3 ')), youth_final.query(('HSSEX == 2 & DMARETHN == 3'))])\n",
    "\n",
    "DMARETHN – 1 non-Hispanic white, 2 non-hispanic black, 3 Mexican American, 4 other"
   ]
  },
  {
   "cell_type": "code",
   "execution_count": null,
   "metadata": {},
   "outputs": [],
   "source": [
    "mlt20b = pd.concat([adult_final.query(('HSAGEIR < 20 & HSSEX == 1 & DMARETHN == 2 ')), youth_final.query(('HSSEX == 1 & DMARETHN == 2'))])\n",
    "mlt20cma = pd.concat([adult_final.query(('HSAGEIR < 20 & HSSEX == 1 & (DMARETHN == 1 | DMARETHN == 3) ')), youth_final.query(('HSSEX == 1 & (DMARETHN == 1 | DMARETHN == 3)'))])\n",
    "flt18b = pd.concat([adult_final.query(('HSAGEIR < 18 & HSSEX == 2 & DMARETHN == 2 ')), youth_final.query(('HSSEX == 2 & DMARETHN == 2'))])\n",
    "flt18cma = pd.concat([adult_final.query(('HSAGEIR < 18 & HSSEX == 2 & (DMARETHN == 1 | DMARETHN == 3) ')), youth_final.query(('HSSEX == 2 & (DMARETHN == 1 | DMARETHN == 3)'))])\n",
    "mlt20c = pd.concat([adult_final.query(('HSAGEIR < 20 & HSSEX == 1 & DMARETHN == 1 ')), youth_final.query(('HSSEX == 1 & DMARETHN == 1'))])\n",
    "mlt20ma = pd.concat([adult_final.query(('HSAGEIR < 20 & HSSEX == 1 & DMARETHN == 3 ')), youth_final.query(('HSSEX == 1 & DMARETHN == 3'))])\n",
    "flt18c = pd.concat([adult_final.query(('HSAGEIR < 18 & HSSEX == 2 & DMARETHN == 1 ')), youth_final.query(('HSSEX == 2 & DMARETHN == 1'))])\n",
    "flt18ma = pd.concat([adult_final.query(('HSAGEIR < 18 & HSSEX == 2 & DMARETHN == 3 ')), youth_final.query(('HSSEX == 2 & DMARETHN == 3'))])"
   ]
  },
  {
   "cell_type": "markdown",
   "metadata": {},
   "source": [
    "# Create data bases for all male/female cma, black for ratios"
   ]
  },
  {
   "cell_type": "markdown",
   "metadata": {},
   "source": [
    "Groups for ratios\n",
    "All male cma  mallcma = pd.concat([m20overcma, mlt20cma])\n",
    "All male black  mallb = pd.concat([m20overb, mlt20b])\n",
    "All female cma  fallcma = pd.concat([f18overcma, flt18cma])\n",
    "All female black  fallb = pd.concat([f18overb, flt18b])\n",
    "All male c  mallc = pd.concat([m20overc, mlt20c])\n",
    "All male ma  mallma = pd.concat([m20overma, mlt20ma])\n",
    "All female c  fallc = pd.concat([f18overc, flt18c])\n",
    "All female ma  fallma = pd.concat([f18overma, flt18ma])"
   ]
  },
  {
   "cell_type": "code",
   "execution_count": null,
   "metadata": {},
   "outputs": [],
   "source": [
    "mallcma = pd.concat([m20overcma, mlt20cma])\n",
    "mallb = pd.concat([m20overb, mlt20b])\n",
    "fallcma = pd.concat([f18overcma, flt18cma])\n",
    "fallb = pd.concat([f18overb, flt18b])\n",
    "mallc = pd.concat([m20overc, mlt20c])\n",
    "mallma = pd.concat([m20overma, mlt20ma])\n",
    "fallc = pd.concat([f18overc, flt18c])\n",
    "fallma = pd.concat([f18overma, flt18ma])"
   ]
  },
  {
   "cell_type": "markdown",
   "metadata": {},
   "source": [
    "## Check variable created"
   ]
  },
  {
   "cell_type": "code",
   "execution_count": null,
   "metadata": {},
   "outputs": [],
   "source": [
    "flt18b.SPPFEV1.hist(bins='auto')"
   ]
  },
  {
   "cell_type": "code",
   "execution_count": null,
   "metadata": {},
   "outputs": [],
   "source": [
    "flt18b.PEFROFVC.hist(bins='auto', range=(0,5))"
   ]
  },
  {
   "cell_type": "code",
   "execution_count": null,
   "metadata": {},
   "outputs": [],
   "source": [
    "flt18b.HSAITMOR.hist(bins='auto', range=(0,300))"
   ]
  },
  {
   "cell_type": "code",
   "execution_count": null,
   "metadata": {},
   "outputs": [],
   "source": [
    "flt18b.BMPHT.hist(bins='auto', range=(0,300))"
   ]
  },
  {
   "cell_type": "markdown",
   "metadata": {},
   "source": [
    "## Frames to Analyze"
   ]
  },
  {
   "cell_type": "markdown",
   "metadata": {},
   "source": [
    "framestoanalyze = [m20overb, m20overcma, m20overc, m20overma, f18overb, f18overcma, f18overc, f18overma, \n",
    "                   mlt20b, mlt20cma, mlt20c, mlt20ma, flt18b, flt18cma, flt18c, flt18ma, \n",
    "                   mallcma, mallb, mallc, mallma, fallcma, fallb, fallc, fallma]"
   ]
  },
  {
   "cell_type": "code",
   "execution_count": null,
   "metadata": {},
   "outputs": [],
   "source": [
    "framestoanalyze = [m20overb, m20overcma, m20overc, m20overma, f18overb, f18overcma, f18overc, f18overma, \n",
    "                   mlt20b, mlt20cma, mlt20c, mlt20ma, flt18b, flt18cma, flt18c, flt18ma, \n",
    "                   mallcma, mallb, mallc, mallma, fallcma, fallb, fallc, fallma]"
   ]
  },
  {
   "cell_type": "markdown",
   "metadata": {},
   "source": [
    "HAD BEEN. framestoanalyze = [m20overb, m20overcma, f18overb, f18overcma, mlt20b, mlt20cma, flt18b, flt18cma, mallcma, mallb, fallcma, fallb]\n"
   ]
  },
  {
   "cell_type": "markdown",
   "metadata": {},
   "source": [
    "# framesto analyze names"
   ]
  },
  {
   "cell_type": "markdown",
   "metadata": {},
   "source": [
    "m20overb.name = 'm20overb'\n",
    "m20overcma.name = 'm20overcma'\n",
    "f18overb.name = 'f18overb'\n",
    "f18overcma.name = 'f18overcma'\n",
    "mlt20b.name = 'mlt20b'\n",
    "mlt20cma.name = 'mlt20cma'\n",
    "flt18b.name = 'flt18b'\n",
    "flt18cma.name = 'flt18cma'\n",
    "mallcma.name = 'mallcma'\n",
    "mallb.name = 'mallb'\n",
    "fallcma.name = 'fallcma'\n",
    "fallb.name = 'fallb'\n",
    "m20overc.name = 'm20overc'\n",
    "m20overma.name = 'm20ovecma'\n",
    "f18overc.name = 'f18overc'\n",
    "f18overma.name = 'f18overma'\n",
    "mlt20c.name = 'mlt20c'\n",
    "mlt20ma.name = 'mlt20ma'\n",
    "flt18c.name = 'flt18c'\n",
    "flt18ma.name = 'flt18ma'\n",
    "mallma.name = 'mallma'\n",
    "mallc.name = 'mallc'\n",
    "fallma.name = 'fallma'\n",
    "fallc.name = 'fallc'"
   ]
  },
  {
   "cell_type": "code",
   "execution_count": null,
   "metadata": {},
   "outputs": [],
   "source": [
    "m20overb.name = 'm20overb'\n",
    "m20overcma.name = 'm20overcma'\n",
    "f18overb.name = 'f18overb'\n",
    "f18overcma.name = 'f18overcma'\n",
    "mlt20b.name = 'mlt20b'\n",
    "mlt20cma.name = 'mlt20cma'\n",
    "flt18b.name = 'flt18b'\n",
    "flt18cma.name = 'flt18cma'\n",
    "mallcma.name = 'mallcma'\n",
    "mallb.name = 'mallb'\n",
    "fallcma.name = 'fallcma'\n",
    "fallb.name = 'fallb'\n",
    "m20overc.name = 'm20overc'\n",
    "m20overma.name = 'm20ovecma'\n",
    "f18overc.name = 'f18overc'\n",
    "f18overma.name = 'f18overma'\n",
    "mlt20c.name = 'mlt20c'\n",
    "mlt20ma.name = 'mlt20ma'\n",
    "flt18c.name = 'flt18c'\n",
    "flt18ma.name = 'flt18ma'\n",
    "mallma.name = 'mallma'\n",
    "mallc.name = 'mallc'\n",
    "fallma.name = 'fallma'\n",
    "fallc.name = 'fallc'"
   ]
  },
  {
   "cell_type": "markdown",
   "metadata": {},
   "source": [
    "## Variables non-ratio"
   ]
  },
  {
   "cell_type": "markdown",
   "metadata": {},
   "source": [
    "varsnonratio = [ 'SPPFEV1', 'SPPFEV3', 'SPPFEV6', 'SPPFVC','SPPPEAK','SPPMMEF', 'SPPFEF75', 'SPPEXPIR']"
   ]
  },
  {
   "cell_type": "code",
   "execution_count": null,
   "metadata": {},
   "outputs": [],
   "source": [
    "varsnonratio = [ 'SPPFEV1', 'SPPFEV3', 'SPPFEV6', 'SPPFVC','SPPPEAK','SPPMMEF', 'SPPFEF75', 'SPPEXPIR']"
   ]
  },
  {
   "cell_type": "code",
   "execution_count": null,
   "metadata": {},
   "outputs": [],
   "source": [
    "print (varsnonratio[0])"
   ]
  },
  {
   "cell_type": "markdown",
   "metadata": {},
   "source": [
    "## Variables ratio"
   ]
  },
  {
   "cell_type": "markdown",
   "metadata": {},
   "source": [
    "varsratio = ['FEV1OFVC', 'FEV1OFEV6', 'PEFROFVC', 'PEFROFEV6', 'PEFROFEV1', 'FEV3OFVC', 'FEV6OFVC']"
   ]
  },
  {
   "cell_type": "code",
   "execution_count": null,
   "metadata": {},
   "outputs": [],
   "source": [
    "varsratio= ['FEV1OFVC', 'FEV1OFEV6', 'PEFROFVC', 'PEFROFEV6', 'PEFROFEV1', 'FEV3OFVC', 'FEV6OFVC']"
   ]
  },
  {
   "cell_type": "markdown",
   "metadata": {},
   "source": [
    "## Now fit curves"
   ]
  },
  {
   "cell_type": "markdown",
   "metadata": {},
   "source": [
    "using example in lmfit.github.io/lmfit-py/model.html"
   ]
  },
  {
   "cell_type": "markdown",
   "metadata": {},
   "source": [
    "import matplotlib.pyplot as plt"
   ]
  },
  {
   "cell_type": "code",
   "execution_count": null,
   "metadata": {},
   "outputs": [],
   "source": [
    "import matplotlib.pyplot as plt"
   ]
  },
  {
   "cell_type": "markdown",
   "metadata": {},
   "source": [
    "## from sklearn.linear_model import LinearRegression"
   ]
  },
  {
   "cell_type": "code",
   "execution_count": null,
   "metadata": {},
   "outputs": [],
   "source": [
    "from sklearn.linear_model import LinearRegression"
   ]
  },
  {
   "cell_type": "markdown",
   "metadata": {},
   "source": [
    "# Linear Regression Age  linear_regage (data, y_var)"
   ]
  },
  {
   "cell_type": "markdown",
   "metadata": {},
   "source": [
    "  #  height = 'BMPHT'\n",
    "# age = 'HSAGEIR'/12 - or age in months/12\n",
    "def linear_regage(data, y_var):\n",
    "    X = data['HSAITMOR']/12  # to convert to year\n",
    "    X = np.array(X).reshape(-1, 1)\n",
    "    y = data[y_var]\n",
    "    lr = LinearRegression().fit(X, y)\n",
    "        # do linear regression fit on X, y\n",
    "    print(data.name, \", \",y_var, \", \",lr.intercept_, \", \", lr.coef_, \", \", lr.score(X, y), \", \", data.loc[:,y_var].std(), \", \", data.loc[:,y_var].count())\n",
    "    return lr.intercept_, lr.coef_\n",
    "    #. prints intercept, slope, and r squared\n",
    "   # print (lr.std_)\n",
    "   # return lr\n",
    "\n",
    "# reg.coef_"
   ]
  },
  {
   "cell_type": "markdown",
   "metadata": {},
   "source": [
    "# age = 'HSAGEIR'/12 - or age in months/12\n",
    "def linear_regage(data, y_var):\n",
    "    X = data['HSAITMOR_exam']/12  # to convert to year do months at exam\n",
    "    X = np.array(X).reshape(-1, 1)\n",
    "    y = data[y_var]\n",
    "    lr = LinearRegression().fit(X, y)\n",
    "        # do linear regression fit on X, y\n",
    " #   print(data.name, \", \",y_var, \", \",lr.intercept_, \", \", lr.coef_, \", \", lr.score(X, y), \", \", data.loc[:,y_var].std(), \", \", data.loc[:,y_var].count())\n",
    " # now returns values rather than print - intercept, slope, R2, std, count\n",
    "    return lr.intercept_, lr.coef_, lr.score(X, y),  data.loc[:,y_var].std(), data.loc[:,y_var].count()"
   ]
  },
  {
   "cell_type": "code",
   "execution_count": null,
   "metadata": {},
   "outputs": [],
   "source": [
    "# age = 'HSAGEIR'/12 - or age in months/12\n",
    "def linear_regage(data, y_var):\n",
    "    X = data['HSAITMOR_exam']/12  # to convert to year do months at exam\n",
    "    X = np.array(X).reshape(-1, 1)\n",
    "    y = data[y_var]\n",
    "    lr = LinearRegression().fit(X, y)\n",
    "        # do linear regression fit on X, y\n",
    " #   print(data.name, \", \",y_var, \", \",lr.intercept_, \", \", lr.coef_, \", \", lr.score(X, y), \", \", data.loc[:,y_var].std(), \", \", data.loc[:,y_var].count())\n",
    " # now returns values rather than print - intercept, slope, R2, std, count\n",
    "    return lr.intercept_, lr.coef_, lr.score(X, y),  data.loc[:,y_var].std(), data.loc[:,y_var].count()"
   ]
  },
  {
   "cell_type": "code",
   "execution_count": null,
   "metadata": {},
   "outputs": [],
   "source": [
    "for x in varsratio:\n",
    "    print (x)"
   ]
  },
  {
   "cell_type": "markdown",
   "metadata": {},
   "source": [
    "## For all frames, for all ratios to analyze, do regression vs age & save in resultsratio"
   ]
  },
  {
   "cell_type": "markdown",
   "metadata": {},
   "source": [
    "print ('Linear Regression of variables in form y = intercept + slope * age')\n",
    "print ('dataframe ,  variable,        intercept,          slope,            R squared,         standard deviation')\n",
    "for y in framestoanalyze:\n",
    "Save results in dataframe resultsratio"
   ]
  },
  {
   "cell_type": "markdown",
   "metadata": {},
   "source": [
    "# First initialize resultsratio dataframe\n",
    "column_names = [\"dfnvarn\",\"dfname\", \"var\", \"intercept\", \"slope\", \"r2\", \"std\", \"count\"]\n",
    "# print (column_names)\n",
    "resultsratio = pd.DataFrame(columns = column_names)\n",
    "resultsratio.name = 'resultsratio'\n",
    "print (resultsratio)\n",
    "print ('Linear Regression of variables in form y = intercept + slope * age')\n",
    "print ('dataframe ,  variable,        intercept,          slope,            R squared,         standard deviation,  count')\n",
    "for y in framestoanalyze:\n",
    "  #  print (y.name)\n",
    "    for xx in varsratio:\n",
    " #       print(y, \" \", xx)\n",
    "        reg = linear_regage (y,xx)\n",
    "        intercept, slope, r2, std, count = reg\n",
    "        slope, = slope\n",
    "        dfnvarn = y.name + xx\n",
    "        print (dfnvarn, ' ', y.name, ', ', xx, ', ', intercept, ', ', slope, ', ', r2, ', ', std, ', ',count)\n",
    "    #   now need save these in array of dataframe.variable, intercept slope\n",
    "        var = y.name\n",
    "    \n",
    "#  Columns: [dfnvarn, dfname, var, intercept, slope, r2, std, count] \n",
    "\n",
    "        df2 = {'dfnvarn': dfnvarn, 'dfname': y.name, 'var': xx, 'intercept': intercept, 'slope':slope, 'r2':r2, 'std':std, 'count':count}                          \n",
    "        resultsratio = resultsratio.append(df2, ignore_index=True)    \n",
    "print ('at end')\n",
    "resultsratio.set_index('dfnvarn', inplace=True)\n",
    "print (resultsratio)\n",
    "    \n",
    "    \n",
    "    \n",
    "    "
   ]
  },
  {
   "cell_type": "code",
   "execution_count": null,
   "metadata": {},
   "outputs": [],
   "source": [
    "# First initialize resultsratio dataframe\n",
    "column_names = [\"dfnvarn\",\"dfname\", \"var\", \"intercept\", \"slope\", \"r2\", \"std\", \"count\"]\n",
    "# print (column_names)\n",
    "resultsratio = pd.DataFrame(columns = column_names)\n",
    "resultsratio.name = 'resultsratio'\n",
    "print (resultsratio)\n",
    "print ('Linear Regression of variables in form y = intercept + slope * age')\n",
    "print ('dfnvarn, dataframe,  variable,        intercept,          slope,            R squared,         standard deviation,  count')\n",
    "for y in framestoanalyze:\n",
    "  #  print (y.name)\n",
    "    for xx in varsratio:\n",
    " #       print(y, \" \", xx)\n",
    "        reg = linear_regage (y,xx)\n",
    "        intercept, slope, r2, std, count = reg\n",
    "        slope, = slope\n",
    "        dfnvarn = y.name + xx\n",
    "        print (dfnvarn, ',', y.name, ',', xx, ',', intercept, ',', slope, ',', r2, ',', std, ',',count)\n",
    "    #   now need save these in array of dataframe.variable, intercept slope\n",
    "        var = y.name\n",
    "    \n",
    "#  Columns: [dfnvarn, dfname, var, intercept, slope, r2, std, count] \n",
    "\n",
    "        df2 = {'dfnvarn': dfnvarn, 'dfname': y.name, 'var': xx, 'intercept': intercept, 'slope':slope, 'r2':r2, 'std':std, 'count':count}                          \n",
    "        resultsratio = resultsratio.append(df2, ignore_index=True)    \n",
    "print ('at end')\n",
    "resultsratio.set_index('dfnvarn', inplace=True)\n",
    "print (resultsratio)\n",
    "    \n",
    "    "
   ]
  },
  {
   "cell_type": "markdown",
   "metadata": {},
   "source": [
    "# Now do regression for non-ratios height_age_reg(data, y_var)"
   ]
  },
  {
   "cell_type": "markdown",
   "metadata": {},
   "source": [
    "def height_age_reg(data, y_var):\n",
    "# convert agemonths to years\n",
    "    X_age = data['HSAITMOR_exam']/12\n",
    "    X_age = np.array(X_age).reshape(-1, 1)\n",
    "    X_age = np.hstack((X_age, X_age**2))\n",
    "    X_height = data['BMPHT']**2\n",
    "    X_height = np.array(X_height).reshape(-1, 1)\n",
    "    X = np.concatenate((X_age, X_height), axis=1)\n",
    "    y = data[y_var]\n",
    "    lr = LinearRegression().fit(X, y)\n",
    "        # do linear regression fit on X, y\n",
    " #   print(data.name, \", \",y_var, \", \",lr.intercept_, \",\", lr.coef_, \",\", lr.score(X, y), \",\",  data.loc[:,y_var].std(), \",\",  data.loc[:,y_var].count())\n",
    "    return data.name, y_var, lr.intercept_, lr.coef_, lr.score(X, y), data.loc[:,y_var].std(), data.loc[:,y_var].count()"
   ]
  },
  {
   "cell_type": "code",
   "execution_count": null,
   "metadata": {},
   "outputs": [],
   "source": [
    "def height_age_reg(data, y_var):\n",
    "# convert agemonths to years\n",
    "    X_age = data['HSAITMOR_exam']/12\n",
    "    X_age = np.array(X_age).reshape(-1, 1)\n",
    "    X_age = np.hstack((X_age, X_age**2))\n",
    "    X_height = data['BMPHT']**2\n",
    "    X_height = np.array(X_height).reshape(-1, 1)\n",
    "    X = np.concatenate((X_age, X_height), axis=1)\n",
    "    y = data[y_var]\n",
    "    lr = LinearRegression().fit(X, y)\n",
    "        # do linear regression fit on X, y\n",
    " #   print(data.name, \", \",y_var, \", \",lr.intercept_, \",\", lr.coef_, \",\", lr.score(X, y), \",\",  data.loc[:,y_var].std(), \",\",  data.loc[:,y_var].count())\n",
    "    return data.name, y_var, lr.intercept_, lr.coef_, lr.score(X, y), data.loc[:,y_var].std(), data.loc[:,y_var].count()"
   ]
  },
  {
   "cell_type": "code",
   "execution_count": null,
   "metadata": {},
   "outputs": [],
   "source": [
    "for x in varsnonratio:\n",
    "    print (x)"
   ]
  },
  {
   "cell_type": "markdown",
   "metadata": {},
   "source": [
    "# Create Resultsnonratio with all of regression results for all dataframes all nonratio variables"
   ]
  },
  {
   "cell_type": "markdown",
   "metadata": {},
   "source": [
    "# First initialize resultsratio dataframe\n",
    "column_names = [\"dfnvarn\",\"dfname\", \"var\", \"intercept\", \"b1\", \"b2\", \"b3\", \"r2\", \"std\", \"count\"]\n",
    "# print (column_names)\n",
    "resultsnonratio = pd.DataFrame(columns = column_names)\n",
    "resultsnonratio.name = 'resultsnonratio'\n",
    "print (resultsnonratio)\n",
    "print ('Linear Regression of variables in form y = intercept + b1 * age + b2 * age * age + b3 * height * height')\n",
    "print ('dfnvarn, dataframe ,  variable,        intercept,   [b1. b2. b3]. ,            R squared,         standard deviation   count')\n",
    "for y in framestoanalyze:\n",
    "  #  print (y.name)\n",
    "    for xx in varsnonratio:\n",
    "  #       print(y, \" \", xx)\n",
    "         reg = height_age_reg(y,xx)\n",
    "         dbname, var, intercept, coef, r2, std, count = reg\n",
    "         b1, b2, b3, = coef \n",
    "                  \n",
    "         dfnvarn = y.name + xx\n",
    "         print (dfnvarn, ',', dbname, ',', var, ',',intercept, ',',b1, ',',b2, ',',b3, ',',r2, ',',std, ',',count)\n",
    "         #  Columns: [dfnvarn, dfname, var, intercept, b1, b2, b3, r2, std, count]  \n",
    "            \n",
    "         df2 = {'dfnvarn': dfnvarn, 'dfname': y.name, 'var': xx, 'intercept': intercept, 'b1': b1, 'b2': b2, 'b3': b3, 'r2':r2, 'std':std, 'count':count}                          \n",
    "         resultsnonratio = resultsnonratio.append(df2, ignore_index=True)\n",
    "print ('at end')\n",
    "resultsnonratio.set_index('dfnvarn', inplace=True)\n",
    "print (resultsnonratio)                    "
   ]
  },
  {
   "cell_type": "code",
   "execution_count": null,
   "metadata": {},
   "outputs": [],
   "source": [
    "# First initialize resultsratio dataframe\n",
    "column_names = [\"dfnvarn\",\"dfname\", \"var\", \"intercept\", \"b1\", \"b2\", \"b3\", \"r2\", \"std\", \"count\"]\n",
    "# print (column_names)\n",
    "resultsnonratio = pd.DataFrame(columns = column_names)\n",
    "resultsnonratio.name = 'resultsnonratio'\n",
    "print (resultsnonratio)\n",
    "print ('Linear Regression of variables in form y = intercept + b1 * age + b2 * age * age + b3 * height * height')\n",
    "print ('dfnvarn, dataframe ,  variable,        intercept,   [b1. b2. b3]. ,            R squared,         standard deviation   count')\n",
    "for y in framestoanalyze:\n",
    "  #  print (y.name)\n",
    "    for xx in varsnonratio:\n",
    "  #       print(y, \" \", xx)\n",
    "         reg = height_age_reg(y,xx)\n",
    "         dbname, var, intercept, coef, r2, std, count = reg\n",
    "         b1, b2, b3, = coef \n",
    "                  \n",
    "         dfnvarn = y.name + xx\n",
    "         print (dfnvarn, ',', dbname, ',', var, ',',intercept, ',',b1, ',',b2, ',',b3, ',',r2, ',',std, ',',count)\n",
    "         #  Columns: [dfnvarn, dfname, var, intercept, b1, b2, b3, r2, std, count]  \n",
    "            \n",
    "         df2 = {'dfnvarn': dfnvarn, 'dfname': y.name, 'var': xx, 'intercept': intercept, 'b1': b1, 'b2': b2, 'b3': b3, 'r2':r2, 'std':std, 'count':count}                          \n",
    "         resultsnonratio = resultsnonratio.append(df2, ignore_index=True)\n",
    "print ('at end')\n",
    "resultsnonratio.set_index('dfnvarn', inplace=True)\n",
    "print (resultsnonratio)            "
   ]
  },
  {
   "cell_type": "markdown",
   "metadata": {},
   "source": [
    "## ****** Now percent predicted values"
   ]
  },
  {
   "cell_type": "markdown",
   "metadata": {},
   "source": [
    "First function to create PPratiovars for a dataframe, then create for all dataframes"
   ]
  },
  {
   "cell_type": "markdown",
   "metadata": {},
   "source": [
    "def createvarspp(df):\n",
    "    vn = df.name + 'FEV1OFVC'\n",
    "    df['FEV1OFVCPP'] = df.FEV1OFVC / (resultsratio.loc[vn, 'intercept'] + resultsratio.loc[vn, 'slope'] * (df.HSAGEIR / 12))\n",
    " #   print (vn)\n",
    " #   vn = df.name + 'FEV1OFEV6'\n",
    "#    print (vn)\n",
    "    vn = df.name + 'PEFROFVC'\n",
    "    df['PEFROFVCPP'] = df.PEFROFVC / (resultsratio.loc[vn, 'intercept'] + resultsratio.loc[vn, 'slope'] * (df.HSAGEIR / 12))\n",
    "    vn = df.name + 'FEV1OFEV6'\n",
    "    df['FEV1OFEV6PP']= df.FEV1OFEV6 / (resultsratio.loc[vn, 'intercept'] + resultsratio.loc[vn, 'slope'] * (df.HSAGEIR / 12))\n",
    "    vn = df.name + 'PEFROFVC'\n",
    "    df['PEFROFVCPP'] = df.PEFROFVC / (resultsratio.loc[vn, 'intercept'] + resultsratio.loc[vn, 'slope'] * (df.HSAGEIR / 12))\n",
    "    vn = df.name + 'PEFROFEV6'\n",
    "    df['PEFROFEV6PP']= df.PEFROFEV6 / (resultsratio.loc[vn, 'intercept'] + resultsratio.loc[vn, 'slope'] * (df.HSAGEIR / 12))\n",
    "    vn = df.name + 'PEFROFEV1'\n",
    "    df['PEFROFEV1PP'] = df.PEFROFEV1 / (resultsratio.loc[vn, 'intercept'] + resultsratio.loc[vn, 'slope'] * (df.HSAGEIR / 12))\n",
    "    vn = df.name + 'FEV3OFVC'\n",
    "    df['FEV3OFVCPP'] = df.FEV3OFVC / (resultsratio.loc[vn, 'intercept'] + resultsratio.loc[vn, 'slope'] * (df.HSAGEIR / 12))\n",
    "    vn = df.name + 'FEV6OFVC'\n",
    "    df['FEV6OFVCPP'] = df.FEV6OFVC / (resultsratio.loc[vn, 'intercept'] + resultsratio.loc[vn, 'slope'] * (df.HSAGEIR / 12))"
   ]
  },
  {
   "cell_type": "code",
   "execution_count": null,
   "metadata": {},
   "outputs": [],
   "source": [
    "def createvarspp(df):\n",
    "    vn = df.name + 'FEV1OFVC'\n",
    "    df['FEV1OFVCPP'] = df.FEV1OFVC / (resultsratio.loc[vn, 'intercept'] + resultsratio.loc[vn, 'slope'] * (df.HSAITMOR_exam / 12))\n",
    " #   print (vn)\n",
    " #   vn = df.name + 'FEV1OFEV6'\n",
    "#    print (vn)\n",
    "    vn = df.name + 'PEFROFVC'\n",
    "    df['PEFROFVCPP'] = df.PEFROFVC / (resultsratio.loc[vn, 'intercept'] + resultsratio.loc[vn, 'slope'] * (df.HSAITMOR_exam / 12))\n",
    "    vn = df.name + 'FEV1OFEV6'\n",
    "    df['FEV1OFEV6PP']= df.FEV1OFEV6 / (resultsratio.loc[vn, 'intercept'] + resultsratio.loc[vn, 'slope'] * (df.HSAITMOR_exam / 12))\n",
    "    vn = df.name + 'PEFROFVC'\n",
    "    df['PEFROFVCPP'] = df.PEFROFVC / (resultsratio.loc[vn, 'intercept'] + resultsratio.loc[vn, 'slope'] * (df.HSAITMOR_exam / 12))\n",
    "    vn = df.name + 'PEFROFEV6'\n",
    "    df['PEFROFEV6PP']= df.PEFROFEV6 / (resultsratio.loc[vn, 'intercept'] + resultsratio.loc[vn, 'slope'] * (df.HSAITMOR_exam / 12))\n",
    "    vn = df.name + 'PEFROFEV1'\n",
    "    df['PEFROFEV1PP'] = df.PEFROFEV1 / (resultsratio.loc[vn, 'intercept'] + resultsratio.loc[vn, 'slope'] * (df.HSAITMOR_exam / 12))\n",
    "    vn = df.name + 'FEV3OFVC'\n",
    "    df['FEV3OFVCPP'] = df.FEV3OFVC / (resultsratio.loc[vn, 'intercept'] + resultsratio.loc[vn, 'slope'] * (df.HSAITMOR_exam / 12))\n",
    "    vn = df.name + 'FEV6OFVC'\n",
    "    df['FEV6OFVCPP'] = df.FEV6OFVC / (resultsratio.loc[vn, 'intercept'] + resultsratio.loc[vn, 'slope'] * (df.HSAITMOR_exam / 12))"
   ]
  },
  {
   "cell_type": "markdown",
   "metadata": {},
   "source": [
    "For all dataframes, create ppvar values (shows caveat but works)"
   ]
  },
  {
   "cell_type": "code",
   "execution_count": null,
   "metadata": {},
   "outputs": [],
   "source": [
    "for y in framestoanalyze:\n",
    "    createvarspp(y)"
   ]
  },
  {
   "cell_type": "code",
   "execution_count": null,
   "metadata": {},
   "outputs": [],
   "source": [
    "print (m20overb.columns.values)"
   ]
  },
  {
   "cell_type": "markdown",
   "metadata": {},
   "source": [
    "Check can refer to resultsratio value"
   ]
  },
  {
   "cell_type": "code",
   "execution_count": null,
   "metadata": {},
   "outputs": [],
   "source": [
    "print(resultsratio)"
   ]
  },
  {
   "cell_type": "code",
   "execution_count": null,
   "metadata": {},
   "outputs": [],
   "source": [
    "vn = 'm20overbFEV1OFVC'\n",
    "print(resultsratio.loc[vn, 'intercept'] )"
   ]
  },
  {
   "cell_type": "code",
   "execution_count": null,
   "metadata": {},
   "outputs": [],
   "source": [
    "print(resultsnonratio)"
   ]
  },
  {
   "cell_type": "code",
   "execution_count": null,
   "metadata": {},
   "outputs": [],
   "source": [
    "vn = 'm20overbSPPFEV1'\n",
    "print(resultsnonratio.loc[vn, 'intercept'] )"
   ]
  },
  {
   "cell_type": "markdown",
   "metadata": {},
   "source": [
    "# Now create PP Nonratio PP  FEV1PP, PEFRPP, FVCPP, FEV3PP, FEV6PP, MMEFPP, FEF75PP, EXPIRPP  from resultsnonratio"
   ]
  },
  {
   "cell_type": "markdown",
   "metadata": {},
   "source": [
    "\n",
    "# variables in form y = intercept + b1 * age + b2 * age * age + b3 * height * height')\n",
    "\n",
    "def createvarsnonratiopp(df):\n",
    "    vn = df.name + 'SPPFEV1'\n",
    "    df['FEV1PP'] = df.SPPFEV1 / (resultsnonratio.loc[vn, 'intercept'] ) # + resultsnonratio.loc[vn, 'b1'] * (df.HSAITMOR_exam / 12)  + resultsnonratio.loc[vn, 'b2'] * (df.HSAITMOR_exam / 12)* (df.HSAITMOR_exam / 12) + resultsnonratio.loc[vn, 'b3']* df.BMPHT * df.BMPHT )\n",
    "    vn = df.name + 'SPPFVC'\n",
    "    df['FVCPP'] = df.SPPFVC / (resultsnonratio.loc[vn, 'intercept'] + resultsnonratio.loc[vn, 'b1'] * (df.HSAITMOR_exam / 12)  + resultsnonratio.loc[vn, 'b2'] * (df.HSAITMOR_exam / 12)* (df.HSAITMOR_exam / 12) + resultsnonratio.loc[vn, 'b3']* df.BMPHT * df.BMPHT )\n",
    "    vn = df.name + 'SPPPEAK'\n",
    "    df['PEFRPP'] = df.SPPPEAK / (resultsnonratio.loc[vn, 'intercept'] + resultsnonratio.loc[vn, 'b1'] * (df.HSAITMOR_exam / 12)  + resultsnonratio.loc[vn, 'b2'] * (df.HSAITMOR_exam / 12)* (df.HSAITMOR_exam / 12) + resultsnonratio.loc[vn, 'b3']* df.BMPHT * df.BMPHT )\n",
    "    vn = df.name + 'SPPFEV3'\n",
    "    df['FEV3PP'] = df.SPPFEV3 / (resultsnonratio.loc[vn, 'intercept'] + resultsnonratio.loc[vn, 'b1'] * (df.HSAITMOR_exam / 12)  + resultsnonratio.loc[vn, 'b2'] * (df.HSAITMOR_exam / 12)* (df.HSAITMOR_exam / 12) + resultsnonratio.loc[vn, 'b3']* df.BMPHT * df.BMPHT )\n",
    "    vn = df.name + 'SPPFEV6'\n",
    "    df['FEV6PP'] = df.SPPFEV6 / (resultsnonratio.loc[vn, 'intercept'] + resultsnonratio.loc[vn, 'b1'] * (df.HSAITMOR_exam / 12)  + resultsnonratio.loc[vn, 'b2'] * (df.HSAITMOR_exam / 12)* (df.HSAITMOR_exam / 12) + resultsnonratio.loc[vn, 'b3']* df.BMPHT * df.BMPHT )\n",
    "    vn = df.name + 'SPPMMEF'\n",
    "    df['MMEFPP'] = df.SPPMMEF / (resultsnonratio.loc[vn, 'intercept'] + resultsnonratio.loc[vn, 'b1'] * (df.HSAITMOR_exam / 12)  + resultsnonratio.loc[vn, 'b2'] * (df.HSAITMOR_exam / 12)* (df.HSAITMOR_exam / 12) + resultsnonratio.loc[vn, 'b3']* df.BMPHT * df.BMPHT )\n",
    "    vn = df.name + 'SPPFEF75'\n",
    "    df['FEF75PP'] = df.SPPFEF75 / (resultsnonratio.loc[vn, 'intercept'] + resultsnonratio.loc[vn, 'b1'] * (df.HSAITMOR_exam / 12)  + resultsnonratio.loc[vn, 'b2'] * (df.HSAITMOR_exam / 12)* (df.HSAITMOR_exam / 12) + resultsnonratio.loc[vn, 'b3']* df.BMPHT * df.BMPHT )\n",
    "    vn = df.name + 'SPPEXPIR'\n",
    "    df['EXPIRPP'] = df.SPPEXPIR / (resultsnonratio.loc[vn, 'intercept'] + resultsnonratio.loc[vn, 'b1'] * (df.HSAITMOR_exam / 12)  + resultsnonratio.loc[vn, 'b2'] * (df.HSAITMOR_exam / 12)* (df.HSAITMOR_exam / 12) + resultsnonratio.loc[vn, 'b3']* df.BMPHT * df.BMPHT )"
   ]
  },
  {
   "cell_type": "code",
   "execution_count": null,
   "metadata": {},
   "outputs": [],
   "source": [
    "\n",
    "# variables in form y = intercept + b1 * age + b2 * age * age + b3 * height * height')\n",
    "\n",
    "def createvarsnonratiopp(df):\n",
    "    vn = df.name + 'SPPFEV1'\n",
    "    df['FEV1PP'] = df.SPPFEV1 / (resultsnonratio.loc[vn, 'intercept'] ) # + resultsnonratio.loc[vn, 'b1'] * (df.HSAITMOR_exam / 12)  + resultsnonratio.loc[vn, 'b2'] * (df.HSAITMOR_exam / 12)* (df.HSAITMOR_exam / 12) + resultsnonratio.loc[vn, 'b3']* df.BMPHT * df.BMPHT )\n",
    "    vn = df.name + 'SPPFVC'\n",
    "    df['FVCPP'] = df.SPPFVC / (resultsnonratio.loc[vn, 'intercept'] + resultsnonratio.loc[vn, 'b1'] * (df.HSAITMOR_exam / 12)  + resultsnonratio.loc[vn, 'b2'] * (df.HSAITMOR_exam / 12)* (df.HSAITMOR_exam / 12) + resultsnonratio.loc[vn, 'b3']* df.BMPHT * df.BMPHT )\n",
    "    vn = df.name + 'SPPPEAK'\n",
    "    df['PEFRPP'] = df.SPPPEAK / (resultsnonratio.loc[vn, 'intercept'] + resultsnonratio.loc[vn, 'b1'] * (df.HSAITMOR_exam / 12)  + resultsnonratio.loc[vn, 'b2'] * (df.HSAITMOR_exam / 12)* (df.HSAITMOR_exam / 12) + resultsnonratio.loc[vn, 'b3']* df.BMPHT * df.BMPHT )\n",
    "    vn = df.name + 'SPPFEV3'\n",
    "    df['FEV3PP'] = df.SPPFEV3 / (resultsnonratio.loc[vn, 'intercept'] + resultsnonratio.loc[vn, 'b1'] * (df.HSAITMOR_exam / 12)  + resultsnonratio.loc[vn, 'b2'] * (df.HSAITMOR_exam / 12)* (df.HSAITMOR_exam / 12) + resultsnonratio.loc[vn, 'b3']* df.BMPHT * df.BMPHT )\n",
    "    vn = df.name + 'SPPFEV6'\n",
    "    df['FEV6PP'] = df.SPPFEV6 / (resultsnonratio.loc[vn, 'intercept'] + resultsnonratio.loc[vn, 'b1'] * (df.HSAITMOR_exam / 12)  + resultsnonratio.loc[vn, 'b2'] * (df.HSAITMOR_exam / 12)* (df.HSAITMOR_exam / 12) + resultsnonratio.loc[vn, 'b3']* df.BMPHT * df.BMPHT )\n",
    "    vn = df.name + 'SPPMMEF'\n",
    "    df['MMEFPP'] = df.SPPMMEF / (resultsnonratio.loc[vn, 'intercept'] + resultsnonratio.loc[vn, 'b1'] * (df.HSAITMOR_exam / 12)  + resultsnonratio.loc[vn, 'b2'] * (df.HSAITMOR_exam / 12)* (df.HSAITMOR_exam / 12) + resultsnonratio.loc[vn, 'b3']* df.BMPHT * df.BMPHT )\n",
    "    vn = df.name + 'SPPFEF75'\n",
    "    df['FEF75PP'] = df.SPPFEF75 / (resultsnonratio.loc[vn, 'intercept'] + resultsnonratio.loc[vn, 'b1'] * (df.HSAITMOR_exam / 12)  + resultsnonratio.loc[vn, 'b2'] * (df.HSAITMOR_exam / 12)* (df.HSAITMOR_exam / 12) + resultsnonratio.loc[vn, 'b3']* df.BMPHT * df.BMPHT )\n",
    "    vn = df.name + 'SPPEXPIR'\n",
    "    df['EXPIRPP'] = df.SPPEXPIR / (resultsnonratio.loc[vn, 'intercept'] + resultsnonratio.loc[vn, 'b1'] * (df.HSAITMOR_exam / 12)  + resultsnonratio.loc[vn, 'b2'] * (df.HSAITMOR_exam / 12)* (df.HSAITMOR_exam / 12) + resultsnonratio.loc[vn, 'b3']* df.BMPHT * df.BMPHT )"
   ]
  },
  {
   "cell_type": "markdown",
   "metadata": {},
   "source": [
    "For all dataframes create varsnonratiopp"
   ]
  },
  {
   "cell_type": "code",
   "execution_count": null,
   "metadata": {},
   "outputs": [],
   "source": [
    "for y in framestoanalyze:\n",
    "    createvarsnonratiopp(y)"
   ]
  },
  {
   "cell_type": "code",
   "execution_count": null,
   "metadata": {},
   "outputs": [],
   "source": [
    "print (m20overb)"
   ]
  },
  {
   "cell_type": "code",
   "execution_count": null,
   "metadata": {},
   "outputs": [],
   "source": [
    "print (resultsratio.loc['m20overbFEV1OFVC', 'intercept'])"
   ]
  },
  {
   "cell_type": "markdown",
   "metadata": {},
   "source": [
    "# For all dataframes, create vars nonratiopp values"
   ]
  },
  {
   "cell_type": "code",
   "execution_count": null,
   "metadata": {},
   "outputs": [],
   "source": [
    "for y in framestoanalyze:\n",
    "    createvarsnonratiopp(y)"
   ]
  },
  {
   "cell_type": "code",
   "execution_count": null,
   "metadata": {},
   "outputs": [],
   "source": [
    "print (m20overb.columns.values)"
   ]
  },
  {
   "cell_type": "code",
   "execution_count": null,
   "metadata": {},
   "outputs": [],
   "source": []
  },
  {
   "cell_type": "markdown",
   "metadata": {},
   "source": [
    "# Now create variables that depend on PP - PEFRPPOFVCPP, and PEFRPPOFEV1PP, \n",
    "then regression vs age in resultsppvars in form dfvartnam, bo, b1\n",
    "then new value %pred\n",
    "then "
   ]
  },
  {
   "cell_type": "markdown",
   "metadata": {},
   "source": [
    "create PEFRpp/FEV1pp and PEFRpp/FVCpp for all dataframes"
   ]
  },
  {
   "cell_type": "code",
   "execution_count": null,
   "metadata": {},
   "outputs": [],
   "source": [
    "def createvariablespp(df):\n",
    "    df['PEFRPPOFEV1PP'] = df.PEFRPP / df.FEV1PP\n",
    "    df['PEFRPPOFVCPP']= df.PEFRPP/ df.FVCPP\n",
    "    return"
   ]
  },
  {
   "cell_type": "code",
   "execution_count": null,
   "metadata": {},
   "outputs": [],
   "source": [
    "for y in framestoanalyze:\n",
    "    createvariablespp(y)"
   ]
  },
  {
   "cell_type": "code",
   "execution_count": null,
   "metadata": {},
   "outputs": [],
   "source": [
    "linear regression of PEFRpp/FEV1pp and PEFRpp/FVCpp vs age into resultsratiopp; for all dataframes"
   ]
  },
  {
   "cell_type": "code",
   "execution_count": null,
   "metadata": {},
   "outputs": [],
   "source": [
    "varsratiopp= ['PEFRPPOFEV1PP', 'PEFRPPOFVCPP']"
   ]
  },
  {
   "cell_type": "markdown",
   "metadata": {},
   "source": [
    "# First initialize resultsratiopp dataframe\n",
    "column_names = [\"dfnvarn\",\"dfname\", \"var\", \"intercept\", \"slope\", \"r2\", \"std\", \"count\"]\n",
    "# print (column_names)\n",
    "resultsratiopp = pd.DataFrame(columns = column_names)\n",
    "resultsratiopp.name = 'resultsratiopp'\n",
    "print (resultsratiopp)\n",
    "print ('Linear Regression of variables in form y = intercept + slope * age')\n",
    "print ('dataframe ,  variable,        intercept,          slope,            R squared,         standard deviation,  count')\n",
    "for y in framestoanalyze:\n",
    "  #  print (y.name)\n",
    "    for xx in varsratiopp:\n",
    " #       print(y, \" \", xx)\n",
    "        reg = linear_regage (y,xx)\n",
    "        intercept, slope, r2, std, count = reg\n",
    "        slope, = slope\n",
    "        dfnvarn = y.name + xx\n",
    "        print (dfnvarn, ',', y.name, ',', xx, ',', intercept, ',', slope, ',', r2, ',', std, ',',count)\n",
    "    #   now need save these in array of dataframe.variable, intercept slope\n",
    "        var = y.name\n",
    "    \n",
    "#  Columns: [dfnvarn, dfname, var, intercept, slope, r2, std, count] \n",
    "\n",
    "        df2 = {'dfnvarn': dfnvarn, 'dfname': y.name, 'var': xx, 'intercept': intercept, 'slope':slope, 'r2':r2, 'std':std, 'count':count}                          \n",
    "        resultsratiopp = resultsratiopp.append(df2, ignore_index=True)    \n",
    "print ('at end')\n",
    "resultsratiopp.set_index('dfnvarn', inplace=True)\n",
    "print (resultsratiopp)\n",
    "    \n",
    "    "
   ]
  },
  {
   "cell_type": "code",
   "execution_count": null,
   "metadata": {},
   "outputs": [],
   "source": [
    "# First initialize resultsratiopp dataframe\n",
    "column_names = [\"dfnvarn\",\"dfname\", \"var\", \"intercept\", \"slope\", \"r2\", \"std\", \"count\"]\n",
    "# print (column_names)\n",
    "resultsratiopp = pd.DataFrame(columns = column_names)\n",
    "resultsratiopp.name = 'resultsratiopp'\n",
    "print (resultsratiopp)\n",
    "print ('Linear Regression of variables in form y = intercept + slope * age')\n",
    "print ('dataframe ,  variable,        intercept,          slope,            R squared,         standard deviation,  count')\n",
    "for y in framestoanalyze:\n",
    "  #  print (y.name)\n",
    "    for xx in varsratiopp:\n",
    " #       print(y, \" \", xx)\n",
    "        reg = linear_regage (y,xx)\n",
    "        intercept, slope, r2, std, count = reg\n",
    "        slope, = slope\n",
    "        dfnvarn = y.name + xx\n",
    "        print (dfnvarn, ',', y.name, ',', xx, ',', intercept, ',', slope, ',', r2, ',', std, ',',count)\n",
    "    #   now need save these in array of dataframe.variable, intercept slope\n",
    "        var = y.name\n",
    "    \n",
    "#  Columns: [dfnvarn, dfname, var, intercept, slope, r2, std, count] \n",
    "\n",
    "        df2 = {'dfnvarn': dfnvarn, 'dfname': y.name, 'var': xx, 'intercept': intercept, 'slope':slope, 'r2':r2, 'std':std, 'count':count}                          \n",
    "        resultsratiopp = resultsratiopp.append(df2, ignore_index=True)    \n",
    "print ('at end')\n",
    "resultsratiopp.set_index('dfnvarn', inplace=True)\n",
    "print (resultsratiopp)\n",
    "    \n",
    "    "
   ]
  },
  {
   "cell_type": "code",
   "execution_count": null,
   "metadata": {},
   "outputs": [],
   "source": [
    "for y in framestoanalyze:\n",
    "    createvariablespp(y)"
   ]
  },
  {
   "cell_type": "code",
   "execution_count": null,
   "metadata": {},
   "outputs": [],
   "source": []
  },
  {
   "cell_type": "code",
   "execution_count": null,
   "metadata": {},
   "outputs": [],
   "source": [
    "******"
   ]
  },
  {
   "cell_type": "code",
   "execution_count": null,
   "metadata": {},
   "outputs": [],
   "source": []
  },
  {
   "cell_type": "code",
   "execution_count": null,
   "metadata": {},
   "outputs": [],
   "source": [
    "print results "
   ]
  },
  {
   "cell_type": "markdown",
   "metadata": {},
   "source": [
    "Createvarsppopp for PEFRPPOFVCPPPP and PEFRPPOFVCPPPP"
   ]
  },
  {
   "cell_type": "code",
   "execution_count": null,
   "metadata": {},
   "outputs": [],
   "source": [
    "def createvarsppopp(df):\n",
    "    vn = df.name + 'PEFRPPOFVCPP'\n",
    "    df['PEFRPPOFVCPPPP'] = df.PEFRPPOFVCPP / (resultsratio.loc[vn, 'intercept'] + resultsratio.loc[vn, 'slope'] * (df.HSAITMOR_exam / 12))\n",
    " #   print (vn)\n",
    " #   vn = df.name + 'FEV1OFEV6'\n",
    "#    print (vn)\n",
    "    vn = df.name + 'PEFRPPOFEV1PP'\n",
    "    df['PEFRPPOFEV1PPPP'] = df.PEFRPPOFEV1PP / (resultsratio.loc[vn, 'intercept'] + resultsratio.loc[vn, 'slope'] * (df.HSAITMOR_exam / 12))"
   ]
  },
  {
   "cell_type": "code",
   "execution_count": null,
   "metadata": {},
   "outputs": [],
   "source": []
  },
  {
   "cell_type": "code",
   "execution_count": null,
   "metadata": {},
   "outputs": [],
   "source": []
  },
  {
   "cell_type": "code",
   "execution_count": null,
   "metadata": {},
   "outputs": [],
   "source": [
    "m20overc.FEV1OFVC.hist(bins='auto')"
   ]
  },
  {
   "cell_type": "code",
   "execution_count": null,
   "metadata": {},
   "outputs": [],
   "source": [
    "m20overc.FEV1OFVCPP.hist(bins='auto')"
   ]
  },
  {
   "cell_type": "code",
   "execution_count": null,
   "metadata": {},
   "outputs": [],
   "source": [
    "std = m20overc.FEV1OFVC.std()\n",
    "mean = m20overc.FEV1OFVC.mean()\n",
    "ratio = std / mean # m20overc.FEV1OFVC.std()/m20overc.FEV1OFVC.mean()\n",
    "print (mean, ratio, ratio* 1.645, mean - (ratio*1.645))\n",
    "print (.876 * mean)"
   ]
  },
  {
   "cell_type": "markdown",
   "metadata": {},
   "source": [
    "says mean FEV1/FVC .788, lower limit if use std for all data .645"
   ]
  },
  {
   "cell_type": "markdown",
   "metadata": {},
   "source": [
    "The std is smaller for %predicted than for actual value\n",
    "so to get 5% lower limit can use %predicted - 1.645 * std"
   ]
  },
  {
   "cell_type": "code",
   "execution_count": null,
   "metadata": {},
   "outputs": [],
   "source": [
    "std = m20overc.FEV1OFVCPP.std()\n",
    "mean = m20overc.FEV1OFVCPP.mean()\n",
    "ratio = std/mean # m20overc.FEV1OFVCPP.std()/m20overc.FEV1OFVCPP.mean()\n",
    "print (mean, ratio, ratio*1.645, mean - (ratio*1.645))"
   ]
  },
  {
   "cell_type": "markdown",
   "metadata": {},
   "source": [
    "says mean FEV1/FVC %pred is 100% and lower limit .876 of that\n",
    "if use prior mean FEV1/FVC of .788, .876 of that is .69 which is higher than .645"
   ]
  },
  {
   "cell_type": "code",
   "execution_count": null,
   "metadata": {},
   "outputs": [],
   "source": [
    "print(.788*.876)"
   ]
  },
  {
   "cell_type": "markdown",
   "metadata": {},
   "source": [
    "Try saving variables to array"
   ]
  },
  {
   "cell_type": "code",
   "execution_count": null,
   "metadata": {},
   "outputs": [],
   "source": [
    "print (m20overc.name)\n",
    "print (varsratio[1])\n",
    "dfvar = m20overc.name + varsratio[1]\n",
    "print (dfvar)"
   ]
  },
  {
   "cell_type": "code",
   "execution_count": null,
   "metadata": {},
   "outputs": [],
   "source": [
    "print (resultsratio)"
   ]
  },
  {
   "cell_type": "markdown",
   "metadata": {},
   "source": [
    "new variable %pred ratios"
   ]
  },
  {
   "cell_type": "markdown",
   "metadata": {},
   "source": [
    "data.loc['m20overbFEV1OFVC']"
   ]
  },
  {
   "cell_type": "code",
   "execution_count": null,
   "metadata": {},
   "outputs": [],
   "source": [
    "def height_age_reg(data, y_var):\n",
    "# convert agemonths to years\n",
    "    X_age = data['HSAGEIR']/12\n",
    "    X_age = np.array(X_age).reshape(-1, 1)\n",
    "    X_age = np.hstack((X_age, X_age**2))\n",
    "    X_height = data['BMPHT']**2\n",
    "    X_height = np.array(X_height).reshape(-1, 1)\n",
    "    X = np.concatenate((X_age, X_height), axis=1)\n",
    "    y = data[y_var]\n",
    "    lr = LinearRegression().fit(X, y)\n",
    "        # do linear regression fit on X, y\n",
    "    print(data.name, \", \",y_var, \", \",lr.intercept_, \",\", lr.coef_, \",\", lr.score(X, y), \",\",  data.loc[:,y_var].std(), \",\",  data.loc[:,y_var].count())\n",
    "    return data.name, y_var, lr.intercept_, lr.coef_, lr.score(X, y), data.loc[:,y_var].std(), data.loc[:,y_var].count()"
   ]
  },
  {
   "cell_type": "code",
   "execution_count": null,
   "metadata": {},
   "outputs": [],
   "source": [
    "height_age_reg(m20overb, 'SPPFEV1')"
   ]
  },
  {
   "cell_type": "markdown",
   "metadata": {},
   "source": [
    "# Now do regression for all dataframes all nonratio variables & save resultsnonratio"
   ]
  },
  {
   "cell_type": "markdown",
   "metadata": {},
   "source": [
    "# First initialize resultsratio dataframe\n",
    "column_names = [\"dfnvarn\",\"dfname\", \"var\", \"intercept\", \"b1\", \"b2\", \"b3\", \"r2\", \"std\", \"count\"]\n",
    "# print (column_names)\n",
    "resultsnonratio = pd.DataFrame(columns = column_names)\n",
    "resultsnonratio.name = 'resultsnonratio'\n",
    "print (resultsnonratio)\n",
    "print ('Linear Regression of variables in form y = intercept + b1 * age + b2 * age * age + b3 * height * height')\n",
    "print ('dataframe ,  variable,        intercept,   [b1. b2. b3]. ,            R squared,         standard deviation   count')\n",
    "for y in framestoanalyze:\n",
    "  #  print (y.name)\n",
    "    for xx in varsnonratio:\n",
    " #       print(y, \" \", xx)\n",
    "         reg = height_age_reg(y,xx)\n",
    "         dbname, var, intercept, coef, r2, std, count = reg\n",
    "         b1, b2, b3, = coef\n",
    "         print (dbname, ', ', var, ', ',intercept, ', ',b1, ', ',b2, ', ',b3, ', ',r2, ', ',std, ', ',count)\n",
    "         #  Columns: [dfnvarn, dfname, var, intercept, b1, b2, b3, r2, std, count] \n",
    "\n",
    "         dfnvarn = y.name + xx   \n",
    "            \n",
    "         df2 = {'dfnvarn': [dfnvarn], 'dfname': y.name, 'var': xx, 'intercept': intercept, 'b1': b1, 'b2': b2, 'b3': b3, 'r2':r2, 'std':std, 'count':count}                          \n",
    "         resultsnonratio = resultsnonratio.append(df2, ignore_index=True)"
   ]
  },
  {
   "cell_type": "code",
   "execution_count": null,
   "metadata": {},
   "outputs": [],
   "source": [
    "# First initialize resultsratio dataframe\n",
    "column_names = [\"dfnvarn\",\"dfname\", \"var\", \"intercept\", \"b1\", \"b2\", \"b3\", \"r2\", \"std\", \"count\"]\n",
    "# print (column_names)\n",
    "resultsnonratio = pd.DataFrame(columns = column_names)\n",
    "resultsnonratio.name = 'resultsnonratio'\n",
    "print (resultsnonratio)\n",
    "print ('Linear Regression of variables in form y = intercept + b1 * age + b2 * age * age + b3 * height * height')\n",
    "print ('dataframe ,  variable,        intercept,   [b1. b2. b3]. ,            R squared,         standard deviation   count')\n",
    "for y in framestoanalyze:\n",
    "  #  print (y.name)\n",
    "    for xx in varsnonratio:\n",
    " #       print(y, \" \", xx)\n",
    "         reg = height_age_reg(y,xx)\n",
    "         dbname, var, intercept, coef, r2, std, count = reg\n",
    "         b1, b2, b3, = coef\n",
    "         print (dbname, ', ', var, ', ',intercept, ', ',b1, ', ',b2, ', ',b3, ', ',r2, ', ',std, ', ',count)\n",
    "         #  Columns: [dfnvarn, dfname, var, intercept, b1, b2, b3, r2, std, count] \n",
    "\n",
    "         dfnvarn = y.name + xx   \n",
    "            \n",
    "         df2 = {'dfnvarn': [dfnvarn], 'dfname': y.name, 'var': xx, 'intercept': intercept, 'b1': b1, 'b2': b2, 'b3': b3, 'r2':r2, 'std':std, 'count':count}                          \n",
    "         resultsnonratio = resultsnonratio.append(df2, ignore_index=True)"
   ]
  },
  {
   "cell_type": "markdown",
   "metadata": {},
   "source": [
    "def createvarspp(df):\n",
    "    vn = df.name + 'FEV1OFVC'\n",
    "  #  print (vn)\n",
    "    resultsratio.loc[['m20overbFEV1OFVC'], ['intercept']] \n",
    "  #  print (resultsratio.loc['m20overbFEV1OFVC', 'intercept'])\n",
    "  #  print (resultsratio.loc[vn, 'slope'])\n",
    "    a =  resultsratio.loc['m20overbFEV1OFVC', 'intercept'] \n",
    "    b = resultsratio.loc[vn, 'slope']\n",
    "  #  print (a)\n",
    "  #  print ('b ', b)\n",
    "    df['FEV1OFVCPP'] = df.FEV1OFVC / (a + b * (df.HSAGEIR / 12))\n",
    "  #  df['FEV1OFVCPP'] = df. FEV1OFVC / (resultsratio.loc [vn,intercept] + resultsratio.loc[vn,slope]) # * df.HSAGEIR/12)\n",
    "  #  df['FEV1OFVCPP'] = df.FEV1OFVC / 100\n",
    "  def createvarspp(df):\n",
    "    vn = df.name + 'FEV1OFVC'\n",
    "  #  print (vn)\n",
    "  #  resultsratio.loc[['m20overbFEV1OFVC'], ['intercept']] \n",
    "  #  print (resultsratio.loc['m20overbFEV1OFVC', 'intercept'])\n",
    "  #  print (resultsratio.loc[vn, 'slope'])\n",
    "  #  a =  resultsratio.loc['m20overbFEV1OFVC', 'intercept'] \n",
    "   # b = resultsratio.loc[vn, 'slope']\n",
    "  #  print (a)\n",
    "  #  print ('b ', b)\n",
    " #   df['FEV1OFVCPP'] = df.FEV1OFVC / (a + b * (df.HSAGEIR / 12))\n",
    "    df['FEV1OFVCPP'] = df.FEV1OFVC / (resultsratio.loc[vn, 'intercept'] + resultsratio.loc[vn, 'slope'] * (df.HSAGEIR / 12))\n"
   ]
  },
  {
   "cell_type": "code",
   "execution_count": null,
   "metadata": {},
   "outputs": [],
   "source": [
    "def createvarsppone(df):\n",
    "    vn = df.name + 'FEV1OFVC'\n",
    "  #  print (vn)\n",
    "  #  resultsratio.loc[['m20overbFEV1OFVC'], ['intercept']] \n",
    "  #  print (resultsratio.loc['m20overbFEV1OFVC', 'intercept'])\n",
    "  #  print (resultsratio.loc[vn, 'slope'])\n",
    "  #  a =  resultsratio.loc['m20overbFEV1OFVC', 'intercept'] \n",
    "   # b = resultsratio.loc[vn, 'slope']\n",
    "  #  print (a)\n",
    "  #  print ('b ', b)\n",
    " #   df['FEV1OFVCPP'] = df.FEV1OFVC / (a + b * (df.HSAGEIR / 12))\n",
    "    df['FEV1OFVCPP'] = df.FEV1OFVC / (resultsratio.loc[vn, 'intercept'] + resultsratio.loc[vn, 'slope'] * (df.HSAGEIR / 12))\n",
    "    print (vn)"
   ]
  },
  {
   "cell_type": "markdown",
   "metadata": {},
   "source": [
    "def createvarspp(df):\n",
    "    vn = df.name + 'FEV1OFVC'\n",
    "    df['FEV1OFVCPP'] = df.FEV1OFVC / (resultsratio.loc[vn, 'intercept'] + resultsratio.loc[vn, 'slope'] * (df.HSAGEIR / 12))\n",
    " #   print (vn)\n",
    " #   vn = df.name + 'FEV1OFEV6'\n",
    "#    print (vn)\n",
    "    vn = df.name + 'PEFROFVC'\n",
    "    df['PEFROFVCPP'] = df.PEFROFVC / (resultsratio.loc[vn, 'intercept'] + resultsratio.loc[vn, 'slope'] * (df.HSAGEIR / 12))\n",
    "    vn = df.name + 'FEV1OFEV6'\n",
    "    df['FEV1OFEV6PP']= df.FEV1OFEV6 / (resultsratio.loc[vn, 'intercept'] + resultsratio.loc[vn, 'slope'] * (df.HSAGEIR / 12))\n",
    "    vn = df.name + 'PEFROFVC'\n",
    "    df['PEFROFVCPP'] = df.PEFROFVC / (resultsratio.loc[vn, 'intercept'] + resultsratio.loc[vn, 'slope'] * (df.HSAGEIR / 12))\n",
    "    vn = df.name + 'PEFROFEV6'\n",
    "    df['PEFROFEV6PP']= df.PEFROFEV6 / (resultsratio.loc[vn, 'intercept'] + resultsratio.loc[vn, 'slope'] * (df.HSAGEIR / 12))\n",
    "    vn = df.name + 'PEFROFEV1'\n",
    "    df['PEFROFEV1PP'] = df.PEFROFEV1 / (resultsratio.loc[vn, 'intercept'] + resultsratio.loc[vn, 'slope'] * (df.HSAGEIR / 12))\n",
    "    vn = df.name + 'FEV3OFVC'\n",
    "    df['FEV3OFVCPP'] = df.FEV3OFVC / (resultsratio.loc[vn, 'intercept'] + resultsratio.loc[vn, 'slope'] * (df.HSAGEIR / 12))\n",
    "    vn = df.name + 'FEV6OFVC'\n",
    "    df['FEV6OFVCPP'] = df.FEV6OFVC / (resultsratio.loc[vn, 'intercept'] + resultsratio.loc[vn, 'slope'] * (df.HSAGEIR / 12))"
   ]
  },
  {
   "cell_type": "code",
   "execution_count": null,
   "metadata": {},
   "outputs": [],
   "source": [
    "def createvarspp(df):\n",
    "    vn = df.name + 'FEV1OFVC'\n",
    "    df['FEV1OFVCPP'] = df.FEV1OFVC / (resultsratio.loc[vn, 'intercept'] + resultsratio.loc[vn, 'slope'] * (df.HSAGEIR / 12))\n",
    " #   print (vn)\n",
    " #   vn = df.name + 'FEV1OFEV6'\n",
    "#    print (vn)\n",
    "    vn = df.name + 'PEFROFVC'\n",
    "    df['PEFROFVCPP'] = df.PEFROFVC / (resultsratio.loc[vn, 'intercept'] + resultsratio.loc[vn, 'slope'] * (df.HSAGEIR / 12))\n",
    "    vn = df.name + 'FEV1OFEV6'\n",
    "    df['FEV1OFEV6PP']= df.FEV1OFEV6 / (resultsratio.loc[vn, 'intercept'] + resultsratio.loc[vn, 'slope'] * (df.HSAGEIR / 12))\n",
    "    vn = df.name + 'PEFROFVC'\n",
    "    df['PEFROFVCPP'] = df.PEFROFVC / (resultsratio.loc[vn, 'intercept'] + resultsratio.loc[vn, 'slope'] * (df.HSAGEIR / 12))\n",
    "    vn = df.name + 'PEFROFEV6'\n",
    "    df['PEFROFEV6PP']= df.PEFROFEV6 / (resultsratio.loc[vn, 'intercept'] + resultsratio.loc[vn, 'slope'] * (df.HSAGEIR / 12))\n",
    "    vn = df.name + 'PEFROFEV1'\n",
    "    df['PEFROFEV1PP'] = df.PEFROFEV1 / (resultsratio.loc[vn, 'intercept'] + resultsratio.loc[vn, 'slope'] * (df.HSAGEIR / 12))\n",
    "    vn = df.name + 'FEV3OFVC'\n",
    "    df['FEV3OFVCPP'] = df.FEV3OFVC / (resultsratio.loc[vn, 'intercept'] + resultsratio.loc[vn, 'slope'] * (df.HSAGEIR / 12))\n",
    "    vn = df.name + 'FEV6OFVC'\n",
    "    df['FEV6OFVCPP'] = df.FEV6OFVC / (resultsratio.loc[vn, 'intercept'] + resultsratio.loc[vn, 'slope'] * (df.HSAGEIR / 12))"
   ]
  },
  {
   "cell_type": "raw",
   "metadata": {},
   "source": []
  },
  {
   "cell_type": "code",
   "execution_count": null,
   "metadata": {},
   "outputs": [],
   "source": []
  },
  {
   "cell_type": "raw",
   "metadata": {},
   "source": []
  },
  {
   "cell_type": "code",
   "execution_count": null,
   "metadata": {},
   "outputs": [],
   "source": [
    "m20overb.describe()"
   ]
  },
  {
   "cell_type": "code",
   "execution_count": null,
   "metadata": {},
   "outputs": [],
   "source": [
    "plt.scatter(X, y)"
   ]
  },
  {
   "cell_type": "code",
   "execution_count": null,
   "metadata": {},
   "outputs": [],
   "source": [
    "from scipy import stats"
   ]
  },
  {
   "cell_type": "markdown",
   "metadata": {},
   "source": [
    "# now plot y actual value (e.g. of PEFR/FVC) vs predicted PEFR/FVC\n",
    "first need new value PEFROFVCPRED = the regression for predicted\n",
    "  and PEFROFVCPP - %predicted of PEF\n",
    "then do linear regression of x = PEFROFVCPRED and y = PEFROFVCROFVC\n",
    "do scatter plot of X,y to see if \n",
    "do histogram of PEFROFVC\n",
    "do linear regression and scatter plot of PEFROFVCPP (y) versus age to see if the SDev varies by age\n",
    "need see if normal distribution of \n",
    "\n",
    "Also have new variables PEFRPP/FVCPP - or PEFRPP-FVCPP\n",
    "  then see if one or other has normal distribution and what is variance\n",
    "  ratio should be centered around 1; and difference around 0\n",
    "  I have been using PEFRPP-FVCPP >30 as indicator, but ratio may be better (e.g. if more than 1.3,"
   ]
  },
  {
   "cell_type": "markdown",
   "metadata": {},
   "source": [
    "do plot of actual FEV1 vs predicted FEV1 ( x vs y)\n",
    "to get lower limit, need standard deviation - first see if normal distribution\n",
    "  then fit to gaussian and sdev from that\n",
    "  \n",
    "  need check whether same sdev for each age; whether same for each height, for each height**2, for each predicted FEV1\n",
    "    by categories\n"
   ]
  },
  {
   "cell_type": "markdown",
   "metadata": {},
   "source": [
    "We're trying to replicate and update Hankinson"
   ]
  },
  {
   "cell_type": "markdown",
   "metadata": {},
   "source": [
    "We're trying to replicate and update Hankinson"
   ]
  },
  {
   "cell_type": "markdown",
   "metadata": {},
   "source": [
    "# Now need determine LLN - ?used std"
   ]
  },
  {
   "cell_type": "markdown",
   "metadata": {},
   "source": [
    "Determine lower limit of normal\n",
    "  can do this if get starndard deviation for each variable\n",
    "Assuming normal distribution get standard deviation for each variable\n",
    "Could create variable as %predicted, then do normal distribution of the %predicteds\n",
    "Would want to check if the standard deviation varied by age ?height\n",
    "Alternatively is there a way to get lower 5%\n"
   ]
  },
  {
   "cell_type": "code",
   "execution_count": null,
   "metadata": {},
   "outputs": [],
   "source": []
  },
  {
   "cell_type": "code",
   "execution_count": null,
   "metadata": {},
   "outputs": [],
   "source": []
  }
 ],
 "metadata": {
  "kernelspec": {
   "display_name": "Python 3",
   "language": "python",
   "name": "python3"
  },
  "language_info": {
   "codemirror_mode": {
    "name": "ipython",
    "version": 3
   },
   "file_extension": ".py",
   "mimetype": "text/x-python",
   "name": "python",
   "nbconvert_exporter": "python",
   "pygments_lexer": "ipython3",
   "version": "3.7.6"
  }
 },
 "nbformat": 4,
 "nbformat_minor": 4
}

{
 "cells": [
  {
   "cell_type": "markdown",
   "metadata": {},
   "source": [
    "Import pandas - pd, matplotlib.pyplot - plt"
   ]
  },
  {
   "cell_type": "markdown",
   "metadata": {},
   "source": [
    "Not sure what nhanes_loader does\n",
    "Not sure what importlib does\n",
    "Not sure what importlib.reload(nhanes_loader) does"
   ]
  },
  {
   "cell_type": "markdown",
   "metadata": {},
   "source": [
    "Import nhanes Household_adult_file; then importlib.reload"
   ]
  },
  {
   "cell_type": "markdown",
   "metadata": {},
   "source": [
    "I accidently wiped out next section.  I think it was\n",
    "import pandas as pd\n",
    "import matplotlib as plt\n",
    "%matplotlib inline\n",
    "\n",
    "on master was\n",
    "import pandas as pd\n",
    "import matplotlib.pyplot as plt\n",
    "%matplotlib inline\n",
    "import nhanes_loader\n",
    "import importlib\n",
    "importlib.reload(nhanes_loader)\n",
    "\n",
    "On Doug was\n",
    "import numpy as np\n",
    "import pandas as pd\n",
    "import matplotlib.pyplot as plt\n",
    "%matplotlib inline\n"
   ]
  },
  {
   "cell_type": "markdown",
   "metadata": {},
   "source": [
    "Revise below to include import numpy as np"
   ]
  },
  {
   "cell_type": "markdown",
   "metadata": {},
   "source": [
    "## Import Pandas as pd; matplotlib.pyplot as plt, HouseholdAdultFile"
   ]
  },
  {
   "cell_type": "code",
   "execution_count": 1,
   "metadata": {},
   "outputs": [],
   "source": [
    "import pandas as pd\n",
    "import matplotlib.pyplot as plt\n",
    "%matplotlib inline\n",
    "import nhanes_loader\n",
    "import importlib\n",
    "importlib.reload(nhanes_loader)\n",
    "import numpy as np"
   ]
  },
  {
   "cell_type": "markdown",
   "metadata": {},
   "source": [
    "## Import Household Adult File"
   ]
  },
  {
   "cell_type": "markdown",
   "metadata": {},
   "source": [
    "from nhanes.household_adult_file import HouseholdAdultFile\n",
    "nh = HouseholdAdultFile()"
   ]
  },
  {
   "cell_type": "code",
   "execution_count": 2,
   "metadata": {},
   "outputs": [],
   "source": [
    "from nhanes.household_adult_file import HouseholdAdultFile\n",
    "nh = HouseholdAdultFile()"
   ]
  },
  {
   "cell_type": "markdown",
   "metadata": {},
   "source": [
    "## Import exam file - exam"
   ]
  },
  {
   "cell_type": "markdown",
   "metadata": {},
   "source": [
    "import nhanes.exam_file\n",
    "importlib.reload(nhanes.exam_file)\n",
    "from nhanes.exam_file import ExamFile"
   ]
  },
  {
   "cell_type": "code",
   "execution_count": 3,
   "metadata": {},
   "outputs": [],
   "source": [
    "import nhanes.exam_file\n",
    "importlib.reload(nhanes.exam_file)\n",
    "from nhanes.exam_file import ExamFile"
   ]
  },
  {
   "cell_type": "code",
   "execution_count": 4,
   "metadata": {},
   "outputs": [],
   "source": [
    "exam = ExamFile()"
   ]
  },
  {
   "cell_type": "code",
   "execution_count": 5,
   "metadata": {},
   "outputs": [
    {
     "data": {
      "text/plain": [
       "(31311, 42)"
      ]
     },
     "execution_count": 5,
     "metadata": {},
     "output_type": "execute_result"
    }
   ],
   "source": [
    "exam.data.shape"
   ]
  },
  {
   "cell_type": "code",
   "execution_count": 6,
   "metadata": {},
   "outputs": [
    {
     "data": {
      "text/html": [
       "<div>\n",
       "<style scoped>\n",
       "    .dataframe tbody tr th:only-of-type {\n",
       "        vertical-align: middle;\n",
       "    }\n",
       "\n",
       "    .dataframe tbody tr th {\n",
       "        vertical-align: top;\n",
       "    }\n",
       "\n",
       "    .dataframe thead th {\n",
       "        text-align: right;\n",
       "    }\n",
       "</style>\n",
       "<table border=\"1\" class=\"dataframe\">\n",
       "  <thead>\n",
       "    <tr style=\"text-align: right;\">\n",
       "      <th></th>\n",
       "      <th>description</th>\n",
       "      <th>variable</th>\n",
       "      <th>position</th>\n",
       "      <th>end position</th>\n",
       "      <th>length</th>\n",
       "    </tr>\n",
       "  </thead>\n",
       "  <tbody>\n",
       "    <tr>\n",
       "      <th>0</th>\n",
       "      <td>Respondent identification number</td>\n",
       "      <td>SEQN</td>\n",
       "      <td>1</td>\n",
       "      <td>5.0</td>\n",
       "      <td>5</td>\n",
       "    </tr>\n",
       "    <tr>\n",
       "      <th>1</th>\n",
       "      <td>Family sequence number</td>\n",
       "      <td>DMPFSEQ</td>\n",
       "      <td>6</td>\n",
       "      <td>10.0</td>\n",
       "      <td>5</td>\n",
       "    </tr>\n",
       "    <tr>\n",
       "      <th>2</th>\n",
       "      <td>Examination/interview status</td>\n",
       "      <td>DMPSTAT</td>\n",
       "      <td>11</td>\n",
       "      <td>NaN</td>\n",
       "      <td>1</td>\n",
       "    </tr>\n",
       "    <tr>\n",
       "      <th>3</th>\n",
       "      <td>Race-ethnicity</td>\n",
       "      <td>DMARETHN</td>\n",
       "      <td>12</td>\n",
       "      <td>NaN</td>\n",
       "      <td>1</td>\n",
       "    </tr>\n",
       "    <tr>\n",
       "      <th>4</th>\n",
       "      <td>Race</td>\n",
       "      <td>DMARACER</td>\n",
       "      <td>13</td>\n",
       "      <td>NaN</td>\n",
       "      <td>1</td>\n",
       "    </tr>\n",
       "    <tr>\n",
       "      <th>...</th>\n",
       "      <td>...</td>\n",
       "      <td>...</td>\n",
       "      <td>...</td>\n",
       "      <td>...</td>\n",
       "      <td>...</td>\n",
       "    </tr>\n",
       "    <tr>\n",
       "      <th>2363</th>\n",
       "      <td>Time to complete 8-ft walk--trial B(sec)</td>\n",
       "      <td>PFPTWLKB</td>\n",
       "      <td>6221</td>\n",
       "      <td>6224.0</td>\n",
       "      <td>4</td>\n",
       "    </tr>\n",
       "    <tr>\n",
       "      <th>2364</th>\n",
       "      <td>Number of steps--trial B</td>\n",
       "      <td>PFPNSTPB</td>\n",
       "      <td>6225</td>\n",
       "      <td>6226.0</td>\n",
       "      <td>2</td>\n",
       "    </tr>\n",
       "    <tr>\n",
       "      <th>2365</th>\n",
       "      <td>Pain reported on walking</td>\n",
       "      <td>PFPPAIN</td>\n",
       "      <td>6227</td>\n",
       "      <td>NaN</td>\n",
       "      <td>1</td>\n",
       "    </tr>\n",
       "    <tr>\n",
       "      <th>2366</th>\n",
       "      <td>Type of device used</td>\n",
       "      <td>PFPDEVIC</td>\n",
       "      <td>6228</td>\n",
       "      <td>NaN</td>\n",
       "      <td>1</td>\n",
       "    </tr>\n",
       "    <tr>\n",
       "      <th>2367</th>\n",
       "      <td>Examiner number</td>\n",
       "      <td>PFPTECH</td>\n",
       "      <td>6229</td>\n",
       "      <td>6233.0</td>\n",
       "      <td>5</td>\n",
       "    </tr>\n",
       "  </tbody>\n",
       "</table>\n",
       "<p>2368 rows × 5 columns</p>\n",
       "</div>"
      ],
      "text/plain": [
       "                                   description  variable  position  \\\n",
       "0             Respondent identification number      SEQN         1   \n",
       "1                       Family sequence number   DMPFSEQ         6   \n",
       "2                 Examination/interview status   DMPSTAT        11   \n",
       "3                               Race-ethnicity  DMARETHN        12   \n",
       "4                                         Race  DMARACER        13   \n",
       "...                                        ...       ...       ...   \n",
       "2363  Time to complete 8-ft walk--trial B(sec)  PFPTWLKB      6221   \n",
       "2364                  Number of steps--trial B  PFPNSTPB      6225   \n",
       "2365                  Pain reported on walking   PFPPAIN      6227   \n",
       "2366                       Type of device used  PFPDEVIC      6228   \n",
       "2367                           Examiner number   PFPTECH      6229   \n",
       "\n",
       "      end position  length  \n",
       "0              5.0       5  \n",
       "1             10.0       5  \n",
       "2              NaN       1  \n",
       "3              NaN       1  \n",
       "4              NaN       1  \n",
       "...            ...     ...  \n",
       "2363        6224.0       4  \n",
       "2364        6226.0       2  \n",
       "2365           NaN       1  \n",
       "2366           NaN       1  \n",
       "2367        6233.0       5  \n",
       "\n",
       "[2368 rows x 5 columns]"
      ]
     },
     "execution_count": 6,
     "metadata": {},
     "output_type": "execute_result"
    }
   ],
   "source": [
    "exam.cols"
   ]
  },
  {
   "cell_type": "markdown",
   "metadata": {},
   "source": [
    "## Import Household Youth File - youth"
   ]
  },
  {
   "cell_type": "markdown",
   "metadata": {},
   "source": [
    "import nhanes.household_youth_file\n",
    "importlib.reload(nhanes.household_youth_file)\n",
    "from nhanes.household_youth_file import HouseholdYouthFile"
   ]
  },
  {
   "cell_type": "code",
   "execution_count": 7,
   "metadata": {},
   "outputs": [],
   "source": [
    "import nhanes.household_youth_file\n",
    "importlib.reload(nhanes.household_youth_file)\n",
    "from nhanes.household_youth_file import HouseholdYouthFile"
   ]
  },
  {
   "cell_type": "code",
   "execution_count": 8,
   "metadata": {},
   "outputs": [],
   "source": [
    "youth = HouseholdYouthFile()"
   ]
  },
  {
   "cell_type": "code",
   "execution_count": 9,
   "metadata": {},
   "outputs": [
    {
     "data": {
      "text/html": [
       "<div>\n",
       "<style scoped>\n",
       "    .dataframe tbody tr th:only-of-type {\n",
       "        vertical-align: middle;\n",
       "    }\n",
       "\n",
       "    .dataframe tbody tr th {\n",
       "        vertical-align: top;\n",
       "    }\n",
       "\n",
       "    .dataframe thead th {\n",
       "        text-align: right;\n",
       "    }\n",
       "</style>\n",
       "<table border=\"1\" class=\"dataframe\">\n",
       "  <thead>\n",
       "    <tr style=\"text-align: right;\">\n",
       "      <th></th>\n",
       "      <th>description</th>\n",
       "      <th>variable</th>\n",
       "      <th>position</th>\n",
       "      <th>end position</th>\n",
       "      <th>length</th>\n",
       "    </tr>\n",
       "  </thead>\n",
       "  <tbody>\n",
       "    <tr>\n",
       "      <th>0</th>\n",
       "      <td>Sequence number</td>\n",
       "      <td>SEQN</td>\n",
       "      <td>1</td>\n",
       "      <td>5.0</td>\n",
       "      <td>5</td>\n",
       "    </tr>\n",
       "    <tr>\n",
       "      <th>1</th>\n",
       "      <td>Family sequence number</td>\n",
       "      <td>DMPFSEQ</td>\n",
       "      <td>6</td>\n",
       "      <td>10.0</td>\n",
       "      <td>5</td>\n",
       "    </tr>\n",
       "    <tr>\n",
       "      <th>2</th>\n",
       "      <td>Examination/interview status</td>\n",
       "      <td>DMPSTAT</td>\n",
       "      <td>11</td>\n",
       "      <td>NaN</td>\n",
       "      <td>1</td>\n",
       "    </tr>\n",
       "    <tr>\n",
       "      <th>3</th>\n",
       "      <td>Race-ethnicity</td>\n",
       "      <td>DMARETHN</td>\n",
       "      <td>12</td>\n",
       "      <td>NaN</td>\n",
       "      <td>1</td>\n",
       "    </tr>\n",
       "    <tr>\n",
       "      <th>4</th>\n",
       "      <td>Race</td>\n",
       "      <td>DMARACER</td>\n",
       "      <td>13</td>\n",
       "      <td>NaN</td>\n",
       "      <td>1</td>\n",
       "    </tr>\n",
       "    <tr>\n",
       "      <th>...</th>\n",
       "      <td>...</td>\n",
       "      <td>...</td>\n",
       "      <td>...</td>\n",
       "      <td>...</td>\n",
       "      <td>...</td>\n",
       "    </tr>\n",
       "    <tr>\n",
       "      <th>682</th>\n",
       "      <td>ICD-9-CM code-9th</td>\n",
       "      <td>HYK11AO</td>\n",
       "      <td>2087</td>\n",
       "      <td>2092.0</td>\n",
       "      <td>6</td>\n",
       "    </tr>\n",
       "    <tr>\n",
       "      <th>683</th>\n",
       "      <td>For how long been taking (days)-9th</td>\n",
       "      <td>HYK12SO</td>\n",
       "      <td>2093</td>\n",
       "      <td>2097.0</td>\n",
       "      <td>5</td>\n",
       "    </tr>\n",
       "    <tr>\n",
       "      <th>684</th>\n",
       "      <td>Main respondents relationship to SP</td>\n",
       "      <td>HYM1</td>\n",
       "      <td>2098</td>\n",
       "      <td>2099.0</td>\n",
       "      <td>2</td>\n",
       "    </tr>\n",
       "    <tr>\n",
       "      <th>685</th>\n",
       "      <td>Was SP present during any of interview</td>\n",
       "      <td>HYM2</td>\n",
       "      <td>2100</td>\n",
       "      <td>NaN</td>\n",
       "      <td>1</td>\n",
       "    </tr>\n",
       "    <tr>\n",
       "      <th>686</th>\n",
       "      <td>Quality of interview</td>\n",
       "      <td>HYM3</td>\n",
       "      <td>2101</td>\n",
       "      <td>NaN</td>\n",
       "      <td>1</td>\n",
       "    </tr>\n",
       "  </tbody>\n",
       "</table>\n",
       "<p>687 rows × 5 columns</p>\n",
       "</div>"
      ],
      "text/plain": [
       "                                description  variable  position  end position  \\\n",
       "0                           Sequence number      SEQN         1           5.0   \n",
       "1                    Family sequence number   DMPFSEQ         6          10.0   \n",
       "2              Examination/interview status   DMPSTAT        11           NaN   \n",
       "3                            Race-ethnicity  DMARETHN        12           NaN   \n",
       "4                                      Race  DMARACER        13           NaN   \n",
       "..                                      ...       ...       ...           ...   \n",
       "682                       ICD-9-CM code-9th   HYK11AO      2087        2092.0   \n",
       "683     For how long been taking (days)-9th   HYK12SO      2093        2097.0   \n",
       "684     Main respondents relationship to SP      HYM1      2098        2099.0   \n",
       "685  Was SP present during any of interview      HYM2      2100           NaN   \n",
       "686                    Quality of interview      HYM3      2101           NaN   \n",
       "\n",
       "     length  \n",
       "0         5  \n",
       "1         5  \n",
       "2         1  \n",
       "3         1  \n",
       "4         1  \n",
       "..      ...  \n",
       "682       6  \n",
       "683       5  \n",
       "684       2  \n",
       "685       1  \n",
       "686       1  \n",
       "\n",
       "[687 rows x 5 columns]"
      ]
     },
     "execution_count": 9,
     "metadata": {},
     "output_type": "execute_result"
    }
   ],
   "source": [
    "youth.cols"
   ]
  },
  {
   "cell_type": "markdown",
   "metadata": {},
   "source": [
    "## Combine adult and exam files - adult_exam"
   ]
  },
  {
   "cell_type": "markdown",
   "metadata": {},
   "source": [
    "match files on the SEQN field  adult_exam = nh.data.set_index('SEQN').join(exam.data.set_index('SEQN'),rsuffix='_exam')"
   ]
  },
  {
   "cell_type": "code",
   "execution_count": 10,
   "metadata": {},
   "outputs": [],
   "source": [
    "adult_exam = nh.data.set_index('SEQN').join(exam.data.set_index('SEQN'),rsuffix='_exam')"
   ]
  },
  {
   "cell_type": "code",
   "execution_count": 11,
   "metadata": {},
   "outputs": [
    {
     "name": "stdout",
     "output_type": "stream",
     "text": [
      "<class 'pandas.core.frame.DataFrame'>\n",
      "Int64Index: 20050 entries, 3 to 53623\n",
      "Data columns (total 63 columns):\n",
      " #   Column         Non-Null Count  Dtype  \n",
      "---  ------         --------------  -----  \n",
      " 0   HAR1           20050 non-null  int64  \n",
      " 1   HAR23          20050 non-null  int64  \n",
      " 2   HAR26          20050 non-null  int64  \n",
      " 3   HAC1E          20050 non-null  int64  \n",
      " 4   HAC1F          20050 non-null  int64  \n",
      " 5   HAC1G          20050 non-null  int64  \n",
      " 6   HAC1O          20050 non-null  int64  \n",
      " 7   HAL6           20050 non-null  int64  \n",
      " 8   HAL10          20050 non-null  int64  \n",
      " 9   HAL1           20050 non-null  int64  \n",
      " 10  HAL3           20050 non-null  int64  \n",
      " 11  HAL5           20050 non-null  int64  \n",
      " 12  DMARACER       20050 non-null  int64  \n",
      " 13  DMARETHN       20050 non-null  int64  \n",
      " 14  DMAETHNR       20050 non-null  int64  \n",
      " 15  HSSEX          20050 non-null  int64  \n",
      " 16  HSAGEIR        20050 non-null  int64  \n",
      " 17  HSAGEU         20050 non-null  int64  \n",
      " 18  HXPAXTMR       457 non-null    float64\n",
      " 19  HXPSESSR       457 non-null    float64\n",
      " 20  HSAITMOR       20050 non-null  int64  \n",
      " 21  HAR4S          5008 non-null   float64\n",
      " 22  SPPQ1          18162 non-null  float64\n",
      " 23  SPPQ2          18162 non-null  float64\n",
      " 24  SPPQ3          18150 non-null  float64\n",
      " 25  SPPQ4          18150 non-null  float64\n",
      " 26  SPPQ5          18150 non-null  float64\n",
      " 27  SPPMANEU       18150 non-null  float64\n",
      " 28  MYPB1          0 non-null      float64\n",
      " 29  MYPB3          0 non-null      float64\n",
      " 30  MYPB11         0 non-null      float64\n",
      " 31  MYPB27A        0 non-null      float64\n",
      " 32  MYPB27B        0 non-null      float64\n",
      " 33  HSAGEIR_exam   18162 non-null  float64\n",
      " 34  HSAGEU_exam    18162 non-null  float64\n",
      " 35  HXPAXTMR_exam  457 non-null    float64\n",
      " 36  HXPSESSR_exam  457 non-null    float64\n",
      " 37  HXPEJ6A2       445 non-null    float64\n",
      " 38  SPPTECH1       18150 non-null  float64\n",
      " 39  SPPTRIAL       18150 non-null  float64\n",
      " 40  SPPPEAK        18150 non-null  float64\n",
      " 41  SPPFEV05       18150 non-null  float64\n",
      " 42  SPPFEV1        18150 non-null  float64\n",
      " 43  SPPFEV3        18150 non-null  float64\n",
      " 44  SPPFEV6        18150 non-null  float64\n",
      " 45  SPPFVC         18150 non-null  float64\n",
      " 46  SPPMMEF        18150 non-null  float64\n",
      " 47  SPPFEF75       18150 non-null  float64\n",
      " 48  SPPTYPE        18150 non-null  float64\n",
      " 49  SPPREPRO       18150 non-null  float64\n",
      " 50  SPPTIME        18150 non-null  object \n",
      " 51  SPPEXPIR       18150 non-null  float64\n",
      " 52  SPPTEMP        18150 non-null  float64\n",
      " 53  HSSEX_exam     18162 non-null  float64\n",
      " 54  WTPFHX6        18162 non-null  float64\n",
      " 55  MXPAXTMR       17705 non-null  float64\n",
      " 56  BMPHT          18162 non-null  float64\n",
      " 57  BMPSITHT       17705 non-null  float64\n",
      " 58  BMPWT          18162 non-null  float64\n",
      " 59  DMARACER_exam  18162 non-null  Int64  \n",
      " 60  DMARETHN_exam  18162 non-null  float64\n",
      " 61  DMAETHNR_exam  18162 non-null  float64\n",
      " 62  HSAITMOR_exam  18162 non-null  float64\n",
      "dtypes: Int64(1), float64(42), int64(19), object(1)\n",
      "memory usage: 10.4+ MB\n"
     ]
    }
   ],
   "source": [
    "adult_exam.info()"
   ]
  },
  {
   "cell_type": "markdown",
   "metadata": {},
   "source": [
    "## Combine youth and exam files - youth_exam"
   ]
  },
  {
   "cell_type": "markdown",
   "metadata": {},
   "source": [
    "youth_exam = youth.data.set_index('SEQN').join(exam.data.set_index('SEQN'),rsuffix='_exam')"
   ]
  },
  {
   "cell_type": "code",
   "execution_count": 12,
   "metadata": {},
   "outputs": [],
   "source": [
    "youth_exam = youth.data.set_index('SEQN').join(exam.data.set_index('SEQN'),rsuffix='_exam')"
   ]
  },
  {
   "cell_type": "code",
   "execution_count": 13,
   "metadata": {},
   "outputs": [
    {
     "name": "stdout",
     "output_type": "stream",
     "text": [
      "<class 'pandas.core.frame.DataFrame'>\n",
      "Int64Index: 13944 entries, 7 to 53622\n",
      "Data columns (total 57 columns):\n",
      " #   Column         Non-Null Count  Dtype  \n",
      "---  ------         --------------  -----  \n",
      " 0   HYE1G          13944 non-null  int64  \n",
      " 1   HYE1H          13944 non-null  int64  \n",
      " 2   HSSEX          13944 non-null  int64  \n",
      " 3   HSAGEIR        13944 non-null  int64  \n",
      " 4   HSAGEU         13944 non-null  int64  \n",
      " 5   DMARACER       13944 non-null  int64  \n",
      " 6   DMARETHN       13944 non-null  int64  \n",
      " 7   DMAETHNR       13944 non-null  int64  \n",
      " 8   HXPAXTMR       36 non-null     float64\n",
      " 9   HXPSESSR       36 non-null     float64\n",
      " 10  HYG2           2216 non-null   float64\n",
      " 11  HYG4           2216 non-null   float64\n",
      " 12  HYG7           3690 non-null   float64\n",
      " 13  HYG8           13944 non-null  int64  \n",
      " 14  HYG12          13944 non-null  int64  \n",
      " 15  HSAITMOR       13944 non-null  int64  \n",
      " 16  SPPQ1          4281 non-null   float64\n",
      " 17  SPPQ2          4281 non-null   float64\n",
      " 18  SPPQ3          4281 non-null   float64\n",
      " 19  SPPQ4          4281 non-null   float64\n",
      " 20  SPPQ5          4281 non-null   float64\n",
      " 21  SPPMANEU       4281 non-null   float64\n",
      " 22  MYPB1          4281 non-null   float64\n",
      " 23  MYPB3          887 non-null    float64\n",
      " 24  MYPB11         859 non-null    float64\n",
      " 25  MYPB27A        4281 non-null   float64\n",
      " 26  MYPB27B        4281 non-null   float64\n",
      " 27  HSAGEIR_exam   13149 non-null  float64\n",
      " 28  HSAGEU_exam    13149 non-null  float64\n",
      " 29  HXPAXTMR_exam  36 non-null     float64\n",
      " 30  HXPSESSR_exam  36 non-null     float64\n",
      " 31  HXPEJ6A2       0 non-null      float64\n",
      " 32  SPPTECH1       4281 non-null   float64\n",
      " 33  SPPTRIAL       4281 non-null   float64\n",
      " 34  SPPPEAK        4281 non-null   float64\n",
      " 35  SPPFEV05       4281 non-null   float64\n",
      " 36  SPPFEV1        4281 non-null   float64\n",
      " 37  SPPFEV3        4281 non-null   float64\n",
      " 38  SPPFEV6        4281 non-null   float64\n",
      " 39  SPPFVC         4281 non-null   float64\n",
      " 40  SPPMMEF        4281 non-null   float64\n",
      " 41  SPPFEF75       4281 non-null   float64\n",
      " 42  SPPTYPE        4281 non-null   float64\n",
      " 43  SPPREPRO       4281 non-null   float64\n",
      " 44  SPPTIME        4281 non-null   object \n",
      " 45  SPPEXPIR       4281 non-null   float64\n",
      " 46  SPPTEMP        4281 non-null   float64\n",
      " 47  HSSEX_exam     13149 non-null  float64\n",
      " 48  WTPFHX6        13149 non-null  float64\n",
      " 49  MXPAXTMR       13113 non-null  float64\n",
      " 50  BMPHT          9895 non-null   float64\n",
      " 51  BMPSITHT       9894 non-null   float64\n",
      " 52  BMPWT          13149 non-null  float64\n",
      " 53  DMARACER_exam  13149 non-null  Int64  \n",
      " 54  DMARETHN_exam  13149 non-null  float64\n",
      " 55  DMAETHNR_exam  13149 non-null  float64\n",
      " 56  HSAITMOR_exam  13149 non-null  float64\n",
      "dtypes: Int64(1), float64(44), int64(11), object(1)\n",
      "memory usage: 6.8+ MB\n"
     ]
    }
   ],
   "source": [
    "youth_exam.info()"
   ]
  },
  {
   "cell_type": "code",
   "execution_count": 14,
   "metadata": {},
   "outputs": [
    {
     "data": {
      "text/plain": [
       "(13944, 57)"
      ]
     },
     "execution_count": 14,
     "metadata": {},
     "output_type": "execute_result"
    }
   ],
   "source": [
    "youth_exam.query('HSAGEIR < 18').shape"
   ]
  },
  {
   "cell_type": "markdown",
   "metadata": {},
   "source": [
    "## Hankinson Exclusion"
   ]
  },
  {
   "cell_type": "markdown",
   "metadata": {},
   "source": [
    "Ages - have none over 89; 17-89"
   ]
  },
  {
   "cell_type": "code",
   "execution_count": 15,
   "metadata": {},
   "outputs": [
    {
     "data": {
      "text/plain": [
       "17    432\n",
       "23    423\n",
       "24    407\n",
       "31    403\n",
       "18    403\n",
       "     ... \n",
       "85    138\n",
       "86    128\n",
       "87    110\n",
       "88     70\n",
       "89     56\n",
       "Name: HSAGEIR, Length: 74, dtype: int64"
      ]
     },
     "execution_count": 15,
     "metadata": {},
     "output_type": "execute_result"
    }
   ],
   "source": [
    "adult_exam.HSAGEIR.value_counts()"
   ]
  },
  {
   "cell_type": "markdown",
   "metadata": {},
   "source": [
    "Check for age of 16"
   ]
  },
  {
   "cell_type": "code",
   "execution_count": 16,
   "metadata": {},
   "outputs": [
    {
     "data": {
      "text/plain": [
       "(0, 63)"
      ]
     },
     "execution_count": 16,
     "metadata": {},
     "output_type": "execute_result"
    }
   ],
   "source": [
    "adult_exam.query('HSAGEIR < 17').shape"
   ]
  },
  {
   "cell_type": "markdown",
   "metadata": {},
   "source": [
    "Any age  .shape - returns row and column count of a dataset"
   ]
  },
  {
   "cell_type": "markdown",
   "metadata": {},
   "source": [
    ".describe() - returns statistics about numerical columns"
   ]
  },
  {
   "cell_type": "markdown",
   "metadata": {},
   "source": [
    ".dtypes - returns the data type of each column"
   ]
  },
  {
   "cell_type": "markdown",
   "metadata": {},
   "source": [
    ".count() - number of total values in column"
   ]
  },
  {
   "cell_type": "markdown",
   "metadata": {},
   "source": [
    ".value_counts() - returns object counting counts of unique values"
   ]
  },
  {
   "cell_type": "code",
   "execution_count": 17,
   "metadata": {},
   "outputs": [
    {
     "data": {
      "text/plain": [
       "(20050, 63)"
      ]
     },
     "execution_count": 17,
     "metadata": {},
     "output_type": "execute_result"
    }
   ],
   "source": [
    "adult_exam.query('HSAGEIR>0').shape"
   ]
  },
  {
   "cell_type": "markdown",
   "metadata": {},
   "source": [
    "Check have Height"
   ]
  },
  {
   "cell_type": "code",
   "execution_count": 18,
   "metadata": {},
   "outputs": [
    {
     "data": {
      "text/plain": [
       "(18162, 63)"
      ]
     },
     "execution_count": 18,
     "metadata": {},
     "output_type": "execute_result"
    }
   ],
   "source": [
    "adult_exam.query('BMPHT>0').shape"
   ]
  },
  {
   "cell_type": "markdown",
   "metadata": {},
   "source": [
    "describe SPPMANEU"
   ]
  },
  {
   "cell_type": "markdown",
   "metadata": {},
   "source": [
    "Any spirometry  H 16484 "
   ]
  },
  {
   "cell_type": "code",
   "execution_count": 19,
   "metadata": {},
   "outputs": [
    {
     "data": {
      "text/plain": [
       "5.0     7569\n",
       "6.0     2553\n",
       "4.0     1932\n",
       "7.0     1544\n",
       "88.0    1310\n",
       "8.0     1238\n",
       "3.0      668\n",
       "9.0      400\n",
       "2.0      292\n",
       "10.0     233\n",
       "1.0      226\n",
       "0.0      144\n",
       "11.0      23\n",
       "13.0       8\n",
       "12.0       8\n",
       "14.0       1\n",
       "16.0       1\n",
       "Name: SPPMANEU, dtype: int64"
      ]
     },
     "execution_count": 19,
     "metadata": {},
     "output_type": "execute_result"
    }
   ],
   "source": [
    "adult_exam.SPPMANEU.value_counts()"
   ]
  },
  {
   "cell_type": "markdown",
   "metadata": {},
   "source": [
    "SPPMANEU: successful spirometries -should=16840-370=16470\n",
    "    "
   ]
  },
  {
   "cell_type": "markdown",
   "metadata": {},
   "source": [
    "adult_exam.SPPMANEU.value_counts()"
   ]
  },
  {
   "cell_type": "markdown",
   "metadata": {},
   "source": [
    "any spirometry (in adult age >=17  H 16484  not=88"
   ]
  },
  {
   "cell_type": "code",
   "execution_count": 20,
   "metadata": {},
   "outputs": [
    {
     "data": {
      "text/plain": [
       "(18740, 63)"
      ]
     },
     "execution_count": 20,
     "metadata": {},
     "output_type": "execute_result"
    }
   ],
   "source": [
    "adult_exam.query('SPPMANEU != 88').shape"
   ]
  },
  {
   "cell_type": "code",
   "execution_count": 21,
   "metadata": {},
   "outputs": [
    {
     "data": {
      "text/plain": [
       "(16840, 63)"
      ]
     },
     "execution_count": 21,
     "metadata": {},
     "output_type": "execute_result"
    }
   ],
   "source": [
    "adult_exam.query('SPPMANEU < 88').shape"
   ]
  },
  {
   "cell_type": "code",
   "execution_count": 22,
   "metadata": {},
   "outputs": [
    {
     "data": {
      "text/plain": [
       "(18150, 63)"
      ]
     },
     "execution_count": 22,
     "metadata": {},
     "output_type": "execute_result"
    }
   ],
   "source": [
    "adult_exam.query('SPPMANEU > -1').shape"
   ]
  },
  {
   "cell_type": "markdown",
   "metadata": {},
   "source": [
    "number 2 or more tests  H 277, 16207  we have 16470 (+263)"
   ]
  },
  {
   "cell_type": "code",
   "execution_count": 23,
   "metadata": {},
   "outputs": [
    {
     "data": {
      "text/plain": [
       "(16470, 63)"
      ]
     },
     "execution_count": 23,
     "metadata": {},
     "output_type": "execute_result"
    }
   ],
   "source": [
    "adult_exam.query('2 <= SPPMANEU < 88').shape"
   ]
  },
  {
   "cell_type": "markdown",
   "metadata": {},
   "source": [
    "and age < 90 H 68,16139  we have 84  16386 (+26, +247)"
   ]
  },
  {
   "cell_type": "code",
   "execution_count": 24,
   "metadata": {},
   "outputs": [
    {
     "data": {
      "text/plain": [
       "(84, 63)"
      ]
     },
     "execution_count": 24,
     "metadata": {},
     "output_type": "execute_result"
    }
   ],
   "source": [
    "adult_exam.query('2 <= SPPMANEU < 88').query('HSAGEIR >89').shape"
   ]
  },
  {
   "cell_type": "code",
   "execution_count": 25,
   "metadata": {},
   "outputs": [
    {
     "data": {
      "text/plain": [
       "(16386, 63)"
      ]
     },
     "execution_count": 25,
     "metadata": {},
     "output_type": "execute_result"
    }
   ],
   "source": [
    "adult_exam.query('2 <= SPPMANEU < 88').query('HSAGEIR < 90').shape"
   ]
  },
  {
   "cell_type": "markdown",
   "metadata": {},
   "source": [
    "adult_exam.query('HSAGEIR >= 90').shape"
   ]
  },
  {
   "cell_type": "markdown",
   "metadata": {},
   "source": [
    "and race/ethnicity not other  H 636, 15503"
   ]
  },
  {
   "cell_type": "markdown",
   "metadata": {},
   "source": [
    "adult_exam.query('HSAGEIR > 0').shape"
   ]
  },
  {
   "cell_type": "markdown",
   "metadata": {},
   "source": [
    "and race/ethnicity not other  H 636  15503  we have 639, 15747 (+3, +244)"
   ]
  },
  {
   "cell_type": "code",
   "execution_count": 26,
   "metadata": {},
   "outputs": [
    {
     "data": {
      "text/plain": [
       "1    8483\n",
       "2    5486\n",
       "3    5306\n",
       "4     775\n",
       "Name: DMARETHN, dtype: int64"
      ]
     },
     "execution_count": 26,
     "metadata": {},
     "output_type": "execute_result"
    }
   ],
   "source": [
    "adult_exam.DMARETHN.value_counts()"
   ]
  },
  {
   "cell_type": "code",
   "execution_count": 27,
   "metadata": {},
   "outputs": [
    {
     "data": {
      "text/plain": [
       "(639, 63)"
      ]
     },
     "execution_count": 27,
     "metadata": {},
     "output_type": "execute_result"
    }
   ],
   "source": [
    "adult_exam.query('2 <= SPPMANEU < 88').query('HSAGEIR < 90').query('DMARETHN == 4').shape"
   ]
  },
  {
   "cell_type": "code",
   "execution_count": 28,
   "metadata": {},
   "outputs": [
    {
     "data": {
      "text/plain": [
       "(15747, 63)"
      ]
     },
     "execution_count": 28,
     "metadata": {},
     "output_type": "execute_result"
    }
   ],
   "source": [
    "adult_exam.query('2 <= SPPMANEU < 88').query('HSAGEIR < 90').query('DMARETHN < 4').shape"
   ]
  },
  {
   "cell_type": "markdown",
   "metadata": {},
   "source": [
    "and cigarette smoker H 7,667  7,836  We have  7787 7960 (+120  +124)\n"
   ]
  },
  {
   "cell_type": "code",
   "execution_count": 29,
   "metadata": {},
   "outputs": [
    {
     "data": {
      "text/plain": [
       "2    10235\n",
       "1     9799\n",
       "8       16\n",
       "Name: HAR1, dtype: int64"
      ]
     },
     "execution_count": 29,
     "metadata": {},
     "output_type": "execute_result"
    }
   ],
   "source": [
    "adult_exam.HAR1.value_counts()"
   ]
  },
  {
   "cell_type": "markdown",
   "metadata": {},
   "source": [
    "or statement not work, so need HAR1 = 2"
   ]
  },
  {
   "cell_type": "code",
   "execution_count": 30,
   "metadata": {},
   "outputs": [
    {
     "data": {
      "text/plain": [
       "(9799, 63)"
      ]
     },
     "execution_count": 30,
     "metadata": {},
     "output_type": "execute_result"
    }
   ],
   "source": [
    "adult_exam.query('HAR1 == 1' or 'HAR1 == 8').shape"
   ]
  },
  {
   "cell_type": "code",
   "execution_count": 31,
   "metadata": {},
   "outputs": [
    {
     "data": {
      "text/plain": [
       "(10235, 63)"
      ]
     },
     "execution_count": 31,
     "metadata": {},
     "output_type": "execute_result"
    }
   ],
   "source": [
    "adult_exam.query('HAR1 == 2').shape"
   ]
  },
  {
   "cell_type": "code",
   "execution_count": 32,
   "metadata": {},
   "outputs": [
    {
     "data": {
      "text/plain": [
       "(7960, 63)"
      ]
     },
     "execution_count": 32,
     "metadata": {},
     "output_type": "execute_result"
    }
   ],
   "source": [
    "adult_exam.query('2 <= SPPMANEU < 88').query('HSAGEIR < 90').query('DMARETHN < 4').query('HAR1 ==2').shape"
   ]
  },
  {
   "cell_type": "markdown",
   "metadata": {},
   "source": [
    "and cigar or pipe smoker  H 313, 7523  for cigar we have 284, 7676 "
   ]
  },
  {
   "cell_type": "markdown",
   "metadata": {},
   "source": [
    "cigar HAR23  2 is not cigar"
   ]
  },
  {
   "cell_type": "code",
   "execution_count": 33,
   "metadata": {},
   "outputs": [
    {
     "data": {
      "text/plain": [
       "2    17951\n",
       "1     2073\n",
       "8       21\n",
       "9        5\n",
       "Name: HAR23, dtype: int64"
      ]
     },
     "execution_count": 33,
     "metadata": {},
     "output_type": "execute_result"
    }
   ],
   "source": [
    "adult_exam.HAR23.value_counts()"
   ]
  },
  {
   "cell_type": "code",
   "execution_count": 34,
   "metadata": {},
   "outputs": [
    {
     "data": {
      "text/plain": [
       "(7676, 63)"
      ]
     },
     "execution_count": 34,
     "metadata": {},
     "output_type": "execute_result"
    }
   ],
   "source": [
    "adult_exam.query('2 <= SPPMANEU < 88').query('HSAGEIR < 90').query('DMARETHN < 4').query('HAR1 ==2').query('HAR23 == 2').shape"
   ]
  },
  {
   "cell_type": "markdown",
   "metadata": {},
   "source": [
    "and pipe smoker with above H 313 7523  We have 326 7634 (+13 +111)"
   ]
  },
  {
   "cell_type": "code",
   "execution_count": 35,
   "metadata": {},
   "outputs": [
    {
     "data": {
      "text/plain": [
       "2    18411\n",
       "1     1609\n",
       "8       26\n",
       "9        4\n",
       "Name: HAR26, dtype: int64"
      ]
     },
     "execution_count": 35,
     "metadata": {},
     "output_type": "execute_result"
    }
   ],
   "source": [
    "adult_exam.HAR26.value_counts()"
   ]
  },
  {
   "cell_type": "code",
   "execution_count": 36,
   "metadata": {},
   "outputs": [
    {
     "data": {
      "text/plain": [
       "(7634, 63)"
      ]
     },
     "execution_count": 36,
     "metadata": {},
     "output_type": "execute_result"
    }
   ],
   "source": [
    "adult_exam.query('2 <= SPPMANEU < 88').query('HSAGEIR < 90').query('DMARETHN < 4').query('HAR1 == 2').query('HAR23 == 2').query('HAR26 == 2').shape"
   ]
  },
  {
   "cell_type": "markdown",
   "metadata": {},
   "source": [
    "and smoked cigarettes/cigar/pipes in 5 d prior to exam  H 408 7115  BUT this question only on Youth.  Adult has question SPPQ3 smoked, heavy meal, meds to help breathing past hour; also SPPQ4 past few day cough/cold/other acute illness; also SPPQ5 past 3 weeks respiratory infection (so want these = 2)"
   ]
  },
  {
   "cell_type": "markdown",
   "metadata": {},
   "source": [
    "We have 5965 1669 when exclude all 3"
   ]
  },
  {
   "cell_type": "code",
   "execution_count": 37,
   "metadata": {},
   "outputs": [
    {
     "data": {
      "text/plain": [
       "2.0    16565\n",
       "8.0     1320\n",
       "1.0      265\n",
       "Name: SPPQ3, dtype: int64"
      ]
     },
     "execution_count": 37,
     "metadata": {},
     "output_type": "execute_result"
    }
   ],
   "source": [
    "adult_exam.SPPQ3.value_counts()"
   ]
  },
  {
   "cell_type": "markdown",
   "metadata": {},
   "source": [
    "exclude just Q3 (past hour smoked/heavy meal/med for breathing - H not smoke 5d 7115 408 we have 7406 228 lower (+291, -180)"
   ]
  },
  {
   "cell_type": "code",
   "execution_count": 38,
   "metadata": {},
   "outputs": [
    {
     "data": {
      "text/plain": [
       "(7406, 63)"
      ]
     },
     "execution_count": 38,
     "metadata": {},
     "output_type": "execute_result"
    }
   ],
   "source": [
    "adult_exam.query('2 <= SPPMANEU < 88').query('HSAGEIR < 90').query('DMARETHN < 4').query('HAR1 == 2').query('HAR23 == 2').query('HAR26 == 2').query('SPPQ3 == 2').shape"
   ]
  },
  {
   "cell_type": "code",
   "execution_count": 39,
   "metadata": {},
   "outputs": [
    {
     "data": {
      "text/plain": [
       "2.0    13557\n",
       "1.0     3273\n",
       "8.0     1320\n",
       "Name: SPPQ4, dtype: int64"
      ]
     },
     "execution_count": 39,
     "metadata": {},
     "output_type": "execute_result"
    }
   ],
   "source": [
    "adult_exam.SPPQ4.value_counts()"
   ]
  },
  {
   "cell_type": "markdown",
   "metadata": {},
   "source": [
    "exclude Q3 and Q4"
   ]
  },
  {
   "cell_type": "code",
   "execution_count": 40,
   "metadata": {},
   "outputs": [
    {
     "data": {
      "text/plain": [
       "(6120, 63)"
      ]
     },
     "execution_count": 40,
     "metadata": {},
     "output_type": "execute_result"
    }
   ],
   "source": [
    "adult_exam.query('2 <= SPPMANEU < 88').query('HSAGEIR < 90').query('DMARETHN < 4').query('HAR1 == 2').query('HAR23 == 2').query('HAR26 == 2').query('SPPQ3 == 2').query('SPPQ4 == 2').shape"
   ]
  },
  {
   "cell_type": "markdown",
   "metadata": {},
   "source": [
    "We have 6120 1286 for exclude Q3 and Q4"
   ]
  },
  {
   "cell_type": "code",
   "execution_count": 41,
   "metadata": {},
   "outputs": [
    {
     "data": {
      "text/plain": [
       "2.0    15970\n",
       "8.0     1320\n",
       "1.0      860\n",
       "Name: SPPQ5, dtype: int64"
      ]
     },
     "execution_count": 41,
     "metadata": {},
     "output_type": "execute_result"
    }
   ],
   "source": [
    "adult_exam.SPPQ5.value_counts()"
   ]
  },
  {
   "cell_type": "code",
   "execution_count": 42,
   "metadata": {},
   "outputs": [
    {
     "data": {
      "text/plain": [
       "(5965, 63)"
      ]
     },
     "execution_count": 42,
     "metadata": {},
     "output_type": "execute_result"
    }
   ],
   "source": [
    "adult_exam.query('2 <= SPPMANEU < 88').query('HSAGEIR < 90').query('DMARETHN < 4').query('HAR1 == 2').query('HAR23 == 2').query('HAR26 == 2').query('SPPQ3 == 2').query('SPPQ4 == 2').query('SPPQ5 == 2').shape"
   ]
  },
  {
   "cell_type": "markdown",
   "metadata": {},
   "source": [
    "So go back to not excluding based on Q3 Q4 Q5 "
   ]
  },
  {
   "cell_type": "code",
   "execution_count": 43,
   "metadata": {},
   "outputs": [
    {
     "data": {
      "text/plain": [
       "(7634, 63)"
      ]
     },
     "execution_count": 43,
     "metadata": {},
     "output_type": "execute_result"
    }
   ],
   "source": [
    "(adult_exam.query('2 <= SPPMANEU < 88')\n",
    " .query('HSAGEIR < 90').query('DMARETHN < 4')\n",
    " .query('HAR1 == 2').query('HAR23 == 2').query('HAR26 == 2').shape)"
   ]
  },
  {
   "cell_type": "markdown",
   "metadata": {},
   "source": [
    "and asthma H  454  6661  query('HAC1E == 2') (which gives different that > 1"
   ]
  },
  {
   "cell_type": "code",
   "execution_count": 44,
   "metadata": {},
   "outputs": [
    {
     "data": {
      "text/plain": [
       "(7158, 63)"
      ]
     },
     "execution_count": 44,
     "metadata": {},
     "output_type": "execute_result"
    }
   ],
   "source": [
    "(adult_exam.query('2 <= SPPMANEU < 88').query('HSAGEIR < 90')\n",
    " .query('DMARETHN < 4').query('HAR1 == 2').query('HAR23 == 2')\n",
    " .query('HAR26 == 2'). query('HAC1E == 2').shape)"
   ]
  },
  {
   "cell_type": "markdown",
   "metadata": {},
   "source": [
    "and chronic bronchitis H  181, 6480  HAC1F == 2"
   ]
  },
  {
   "cell_type": "code",
   "execution_count": 45,
   "metadata": {},
   "outputs": [
    {
     "data": {
      "text/plain": [
       "(6962, 63)"
      ]
     },
     "execution_count": 45,
     "metadata": {},
     "output_type": "execute_result"
    }
   ],
   "source": [
    "(adult_exam.query('2 <= SPPMANEU < 88').query('HSAGEIR < 90')\n",
    " .query('DMARETHN < 4').query('HAR1 == 2').query('HAR23 == 2')\n",
    " .query('HAR26 == 2'). query('HAC1E == 2'). query('HAC1F == 2').shape)"
   ]
  },
  {
   "cell_type": "markdown",
   "metadata": {},
   "source": [
    "and emphysema  H 15, 6465  HAC1G == 2\n"
   ]
  },
  {
   "cell_type": "code",
   "execution_count": 46,
   "metadata": {},
   "outputs": [
    {
     "data": {
      "text/plain": [
       "(6945, 63)"
      ]
     },
     "execution_count": 46,
     "metadata": {},
     "output_type": "execute_result"
    }
   ],
   "source": [
    "adult_exam.query('2 <= SPPMANEU < 88').query('HSAGEIR < 90').query('DMARETHN < 4').query('HAR1 == 2').query('HAR23 == 2').query('HAR26 == 2'). query('HAC1E == 2'). query('HAC1F == 2').query('HAC1G == 2').shape"
   ]
  },
  {
   "cell_type": "markdown",
   "metadata": {},
   "source": [
    "and cancer H 0 6465"
   ]
  },
  {
   "cell_type": "markdown",
   "metadata": {},
   "source": [
    "## When add cancer excludes many, but Hankinson none (when lung cancer), so exclude this future analyses"
   ]
  },
  {
   "cell_type": "code",
   "execution_count": 47,
   "metadata": {},
   "outputs": [
    {
     "data": {
      "text/plain": [
       "2    19266\n",
       "1      780\n",
       "9        3\n",
       "8        1\n",
       "Name: HAC1O, dtype: int64"
      ]
     },
     "execution_count": 47,
     "metadata": {},
     "output_type": "execute_result"
    }
   ],
   "source": [
    "adult_exam.HAC1O.value_counts()"
   ]
  },
  {
   "cell_type": "code",
   "execution_count": 48,
   "metadata": {},
   "outputs": [
    {
     "data": {
      "text/plain": [
       "(6756, 63)"
      ]
     },
     "execution_count": 48,
     "metadata": {},
     "output_type": "execute_result"
    }
   ],
   "source": [
    "adult_exam.query('2 <= SPPMANEU < 88').query('HSAGEIR < 90').query('DMARETHN < 4').query('HAR1 == 2').query('HAR23 == 2').query('HAR26 == 2'). query('HAC1E == 2'). query('HAC1F == 2').query('HAC1G == 2').query('HAC1O == 2').shape"
   ]
  },
  {
   "cell_type": "markdown",
   "metadata": {},
   "source": [
    "and wheezing 6 month  H 419 6046  HAL6"
   ]
  },
  {
   "cell_type": "code",
   "execution_count": 49,
   "metadata": {},
   "outputs": [
    {
     "data": {
      "text/plain": [
       "2    17097\n",
       "1     2942\n",
       "8        8\n",
       "9        3\n",
       "Name: HAL6, dtype: int64"
      ]
     },
     "execution_count": 49,
     "metadata": {},
     "output_type": "execute_result"
    }
   ],
   "source": [
    "adult_exam.HAL6.value_counts()"
   ]
  },
  {
   "cell_type": "code",
   "execution_count": 50,
   "metadata": {},
   "outputs": [
    {
     "data": {
      "text/plain": [
       "(6495, 63)"
      ]
     },
     "execution_count": 50,
     "metadata": {},
     "output_type": "execute_result"
    }
   ],
   "source": [
    "adult_exam.query('2 <= SPPMANEU < 88').query('HSAGEIR < 90').query('DMARETHN < 4').query('HAR1 == 2').query('HAR23 == 2').query('HAR26 == 2'). query('HAC1E == 2'). query('HAC1F == 2').query('HAC1G == 2').query('HAL6 == 2').shape"
   ]
  },
  {
   "cell_type": "markdown",
   "metadata": {},
   "source": [
    "and whistling or wheezing  H 112 5934  HAL10"
   ]
  },
  {
   "cell_type": "code",
   "execution_count": 51,
   "metadata": {},
   "outputs": [
    {
     "data": {
      "text/plain": [
       "(6368, 63)"
      ]
     },
     "execution_count": 51,
     "metadata": {},
     "output_type": "execute_result"
    }
   ],
   "source": [
    "adult_exam.query('2 <= SPPMANEU < 88').query('HSAGEIR < 90').query('DMARETHN < 4').query('HAR1 == 2').query('HAR23 == 2').query('HAR26 == 2'). query('HAC1E == 2'). query('HAC1F == 2').query('HAC1G == 2').query('HAL6 == 2').query('HAL10 == 2').shape"
   ]
  },
  {
   "cell_type": "markdown",
   "metadata": {},
   "source": [
    "and persistent cough H 158, 5776  HAL1"
   ]
  },
  {
   "cell_type": "code",
   "execution_count": 52,
   "metadata": {},
   "outputs": [
    {
     "data": {
      "text/plain": [
       "(6200, 63)"
      ]
     },
     "execution_count": 52,
     "metadata": {},
     "output_type": "execute_result"
    }
   ],
   "source": [
    "adult_exam.query('2 <= SPPMANEU < 88').query('HSAGEIR < 90').query('DMARETHN < 4').query('HAR1 == 2').query('HAR23 == 2').query('HAR26 == 2'). query('HAC1E == 2'). query('HAC1F == 2').query('HAC1G == 2').query('HAL6 == 2').query('HAL10 == 2').query('HAL1 == 2').shape"
   ]
  },
  {
   "cell_type": "markdown",
   "metadata": {},
   "source": [
    "and persistent phlegm H 125  5776  HAL 3"
   ]
  },
  {
   "cell_type": "code",
   "execution_count": 53,
   "metadata": {},
   "outputs": [
    {
     "data": {
      "text/plain": [
       "(6065, 63)"
      ]
     },
     "execution_count": 53,
     "metadata": {},
     "output_type": "execute_result"
    }
   ],
   "source": [
    "adult_exam.query('2 <= SPPMANEU < 88').query('HSAGEIR < 90').query('DMARETHN < 4').query('HAR1 == 2').query('HAR23 == 2').query('HAR26 == 2'). query('HAC1E == 2'). query('HAC1F == 2').query('HAC1G == 2').query('HAL6 == 2').query('HAL10 == 2').query('HAL1 == 2').query('HAL3 == 2').shape"
   ]
  },
  {
   "cell_type": "markdown",
   "metadata": {},
   "source": [
    "and moderate shortness of breath H  848  4803  HAL5"
   ]
  },
  {
   "cell_type": "code",
   "execution_count": 54,
   "metadata": {},
   "outputs": [
    {
     "data": {
      "text/plain": [
       "2    14910\n",
       "1     5030\n",
       "8       64\n",
       "9       46\n",
       "Name: HAL5, dtype: int64"
      ]
     },
     "execution_count": 54,
     "metadata": {},
     "output_type": "execute_result"
    }
   ],
   "source": [
    "adult_exam.HAL5.value_counts()"
   ]
  },
  {
   "cell_type": "code",
   "execution_count": 55,
   "metadata": {},
   "outputs": [
    {
     "data": {
      "text/plain": [
       "(5151, 63)"
      ]
     },
     "execution_count": 55,
     "metadata": {},
     "output_type": "execute_result"
    }
   ],
   "source": [
    "adult_exam.query('2 <= SPPMANEU < 88').query('HSAGEIR < 90').query('DMARETHN < 4').query('HAR1 == 2').query('HAR23 == 2').query('HAR26 == 2'). query('HAC1E == 2'). query('HAC1F == 2').query('HAC1G == 2').query('HAL6 == 2').query('HAL10 == 2').query('HAL1 == 2').query('HAL3 == 2').query('HAL5 == 2').shape"
   ]
  },
  {
   "cell_type": "code",
   "execution_count": 56,
   "metadata": {},
   "outputs": [
    {
     "data": {
      "text/plain": [
       "(5122, 63)"
      ]
     },
     "execution_count": 56,
     "metadata": {},
     "output_type": "execute_result"
    }
   ],
   "source": [
    "adult_exam.query('2 <= SPPMANEU < 88').query('HSAGEIR < 90').query('DMARETHN < 4').query('HAR1 == 2').query('HAR23 > 1').query('HAR26 > 1').query('HAC1E > 1').query('HAC1F > 1').query('HAC1G > 1').query('HAC1O > 1').query('HAL6 > 1').query('HAL1 > 1').query('HAL3 > 1').query('HAL5 == 2').shape"
   ]
  },
  {
   "cell_type": "markdown",
   "metadata": {},
   "source": [
    "and age > 80  H  139 4634  HSAGEIR\n"
   ]
  },
  {
   "cell_type": "markdown",
   "metadata": {},
   "source": [
    "adult_exam.query('2 <= SPPMANEU < 88').query('HSAGEIR < 90').query('DMARETHN < 4').query('HAR1 == 2').query('HAR23 > 1').query('HAR26 > 1').query('HAC1E > 1').query('HAC1F > 1').query('HAC1G > 1').query('HAC1O > 1').query('HAL6 > 1').query('HAL1 > 1').query('HAL3 > 1').query('HAL5 == 2').query('HSAGEIR < 81').shape"
   ]
  },
  {
   "cell_type": "code",
   "execution_count": 57,
   "metadata": {},
   "outputs": [
    {
     "data": {
      "text/plain": [
       "(4944, 63)"
      ]
     },
     "execution_count": 57,
     "metadata": {},
     "output_type": "execute_result"
    }
   ],
   "source": [
    "(adult_exam.query('2 <= SPPMANEU < 88')\n",
    ".query('HSAGEIR < 90').query('DMARETHN < 4')\n",
    ".query('HAR1 == 2').query('HAR23 > 1')\n",
    ".query('HAR26 > 1').query('HAC1E > 1')\n",
    ".query('HAC1F > 1').query('HAC1G > 1')\n",
    ".query('HAC1O > 1').query('HAL6 > 1')\n",
    ".query('HAL1 > 1').query('HAL3 > 1')\n",
    ".query('HAL5 == 2').query('HSAGEIR < 81').shape)"
   ]
  },
  {
   "cell_type": "markdown",
   "metadata": {},
   "source": [
    "## Now create DataFrame adult_final of the final rows selected"
   ]
  },
  {
   "cell_type": "markdown",
   "metadata": {},
   "source": [
    "set AdultFinal = adult_exam.query('2 <= SPPMANEU < 88').query('HSAGEIR < 90').query('DMARETHN < 4').query('HAR1 == 2').query('HAR23 > 1').query('HAR26 > 1').query('HAC1E > 1').query('HAC1F > 1').query('HAC1G > 1').query('HAC1O > 1').query('HAL6 > 1').query('HAL1 > 1').query('HAL3 > 1').query('HAL5 == 2').query('HSAGEIR < 81').shape"
   ]
  },
  {
   "cell_type": "markdown",
   "metadata": {},
   "source": [
    "adult_final = (adult_exam.query('2 <= SPPMANEU < 88')\n",
    "                         .query('HSAGEIR < 90').query('DMARETHN < 4')\n",
    "                           .query('HAR1 == 2').query('HAR23 > 1').query('HAR26 > 1')\n",
    "                           .query('HAC1E > 1').query('HAC1F > 1').query('HAC1G > 1')\n",
    "                           .query('HAC1O > 1').query('HAL6 > 1').query('HAL1 > 1')\n",
    "                           .query('HAL3 > 1').query('HAL5 == 2').query('HSAGEIR < 81'))"
   ]
  },
  {
   "cell_type": "code",
   "execution_count": 58,
   "metadata": {},
   "outputs": [],
   "source": [
    "adult_final = (adult_exam.query('2 <= SPPMANEU < 88')\n",
    "                         .query('HSAGEIR < 90').query('DMARETHN < 4')\n",
    "                           .query('HAR1 == 2').query('HAR23 > 1').query('HAR26 > 1')\n",
    "                           .query('HAC1E > 1').query('HAC1F > 1').query('HAC1G > 1')\n",
    "                           .query('HAC1O > 1').query('HAL6 > 1').query('HAL1 > 1')\n",
    "                           .query('HAL3 > 1').query('HAL5 == 2').query('HSAGEIR < 81'))"
   ]
  },
  {
   "cell_type": "code",
   "execution_count": 59,
   "metadata": {},
   "outputs": [],
   "source": [
    "af = adult_final"
   ]
  },
  {
   "cell_type": "code",
   "execution_count": 60,
   "metadata": {},
   "outputs": [
    {
     "name": "stdout",
     "output_type": "stream",
     "text": [
      "<class 'pandas.core.frame.DataFrame'>\n",
      "Int64Index: 4944 entries, 3 to 53623\n",
      "Data columns (total 63 columns):\n",
      " #   Column         Non-Null Count  Dtype  \n",
      "---  ------         --------------  -----  \n",
      " 0   HAR1           4944 non-null   int64  \n",
      " 1   HAR23          4944 non-null   int64  \n",
      " 2   HAR26          4944 non-null   int64  \n",
      " 3   HAC1E          4944 non-null   int64  \n",
      " 4   HAC1F          4944 non-null   int64  \n",
      " 5   HAC1G          4944 non-null   int64  \n",
      " 6   HAC1O          4944 non-null   int64  \n",
      " 7   HAL6           4944 non-null   int64  \n",
      " 8   HAL10          4944 non-null   int64  \n",
      " 9   HAL1           4944 non-null   int64  \n",
      " 10  HAL3           4944 non-null   int64  \n",
      " 11  HAL5           4944 non-null   int64  \n",
      " 12  DMARACER       4944 non-null   int64  \n",
      " 13  DMARETHN       4944 non-null   int64  \n",
      " 14  DMAETHNR       4944 non-null   int64  \n",
      " 15  HSSEX          4944 non-null   int64  \n",
      " 16  HSAGEIR        4944 non-null   int64  \n",
      " 17  HSAGEU         4944 non-null   int64  \n",
      " 18  HXPAXTMR       24 non-null     float64\n",
      " 19  HXPSESSR       24 non-null     float64\n",
      " 20  HSAITMOR       4944 non-null   int64  \n",
      " 21  HAR4S          0 non-null      float64\n",
      " 22  SPPQ1          4944 non-null   float64\n",
      " 23  SPPQ2          4944 non-null   float64\n",
      " 24  SPPQ3          4944 non-null   float64\n",
      " 25  SPPQ4          4944 non-null   float64\n",
      " 26  SPPQ5          4944 non-null   float64\n",
      " 27  SPPMANEU       4944 non-null   float64\n",
      " 28  MYPB1          0 non-null      float64\n",
      " 29  MYPB3          0 non-null      float64\n",
      " 30  MYPB11         0 non-null      float64\n",
      " 31  MYPB27A        0 non-null      float64\n",
      " 32  MYPB27B        0 non-null      float64\n",
      " 33  HSAGEIR_exam   4944 non-null   float64\n",
      " 34  HSAGEU_exam    4944 non-null   float64\n",
      " 35  HXPAXTMR_exam  24 non-null     float64\n",
      " 36  HXPSESSR_exam  24 non-null     float64\n",
      " 37  HXPEJ6A2       24 non-null     float64\n",
      " 38  SPPTECH1       4944 non-null   float64\n",
      " 39  SPPTRIAL       4944 non-null   float64\n",
      " 40  SPPPEAK        4944 non-null   float64\n",
      " 41  SPPFEV05       4944 non-null   float64\n",
      " 42  SPPFEV1        4944 non-null   float64\n",
      " 43  SPPFEV3        4944 non-null   float64\n",
      " 44  SPPFEV6        4944 non-null   float64\n",
      " 45  SPPFVC         4944 non-null   float64\n",
      " 46  SPPMMEF        4944 non-null   float64\n",
      " 47  SPPFEF75       4944 non-null   float64\n",
      " 48  SPPTYPE        4944 non-null   float64\n",
      " 49  SPPREPRO       4944 non-null   float64\n",
      " 50  SPPTIME        4944 non-null   object \n",
      " 51  SPPEXPIR       4944 non-null   float64\n",
      " 52  SPPTEMP        4944 non-null   float64\n",
      " 53  HSSEX_exam     4944 non-null   float64\n",
      " 54  WTPFHX6        4944 non-null   float64\n",
      " 55  MXPAXTMR       4920 non-null   float64\n",
      " 56  BMPHT          4944 non-null   float64\n",
      " 57  BMPSITHT       4920 non-null   float64\n",
      " 58  BMPWT          4944 non-null   float64\n",
      " 59  DMARACER_exam  4944 non-null   Int64  \n",
      " 60  DMARETHN_exam  4944 non-null   float64\n",
      " 61  DMAETHNR_exam  4944 non-null   float64\n",
      " 62  HSAITMOR_exam  4944 non-null   float64\n",
      "dtypes: Int64(1), float64(42), int64(19), object(1)\n",
      "memory usage: 2.4+ MB\n"
     ]
    }
   ],
   "source": [
    "af.info()"
   ]
  },
  {
   "cell_type": "code",
   "execution_count": 61,
   "metadata": {},
   "outputs": [
    {
     "data": {
      "text/html": [
       "<div>\n",
       "<style scoped>\n",
       "    .dataframe tbody tr th:only-of-type {\n",
       "        vertical-align: middle;\n",
       "    }\n",
       "\n",
       "    .dataframe tbody tr th {\n",
       "        vertical-align: top;\n",
       "    }\n",
       "\n",
       "    .dataframe thead th {\n",
       "        text-align: right;\n",
       "    }\n",
       "</style>\n",
       "<table border=\"1\" class=\"dataframe\">\n",
       "  <thead>\n",
       "    <tr style=\"text-align: right;\">\n",
       "      <th></th>\n",
       "      <th>description</th>\n",
       "      <th>variable</th>\n",
       "      <th>position</th>\n",
       "      <th>end position</th>\n",
       "      <th>length</th>\n",
       "    </tr>\n",
       "  </thead>\n",
       "  <tbody>\n",
       "    <tr>\n",
       "      <th>157</th>\n",
       "      <td>Language used by SP in MEC</td>\n",
       "      <td>MXPLANG</td>\n",
       "      <td>1232</td>\n",
       "      <td>NaN</td>\n",
       "      <td>1</td>\n",
       "    </tr>\n",
       "    <tr>\n",
       "      <th>168</th>\n",
       "      <td>Language of family interview</td>\n",
       "      <td>HFLANG</td>\n",
       "      <td>1254</td>\n",
       "      <td>NaN</td>\n",
       "      <td>1</td>\n",
       "    </tr>\n",
       "    <tr>\n",
       "      <th>175</th>\n",
       "      <td>Type of Medicare coverage</td>\n",
       "      <td>HFB3</td>\n",
       "      <td>1263</td>\n",
       "      <td>NaN</td>\n",
       "      <td>1</td>\n",
       "    </tr>\n",
       "    <tr>\n",
       "      <th>190</th>\n",
       "      <td>Insurance coverage check item</td>\n",
       "      <td>HFB13</td>\n",
       "      <td>1278</td>\n",
       "      <td>NaN</td>\n",
       "      <td>1</td>\n",
       "    </tr>\n",
       "    <tr>\n",
       "      <th>192</th>\n",
       "      <td>No insur: poor health, illness, age(ph1)</td>\n",
       "      <td>HFB14AC</td>\n",
       "      <td>1280</td>\n",
       "      <td>NaN</td>\n",
       "      <td>1</td>\n",
       "    </tr>\n",
       "    <tr>\n",
       "      <th>218</th>\n",
       "      <td>Parent high blood cholesterol at any age</td>\n",
       "      <td>HFC6C</td>\n",
       "      <td>1308</td>\n",
       "      <td>NaN</td>\n",
       "      <td>1</td>\n",
       "    </tr>\n",
       "    <tr>\n",
       "      <th>220</th>\n",
       "      <td>Parent asthma or hay fever at any age</td>\n",
       "      <td>HFC6D</td>\n",
       "      <td>1310</td>\n",
       "      <td>NaN</td>\n",
       "      <td>1</td>\n",
       "    </tr>\n",
       "    <tr>\n",
       "      <th>222</th>\n",
       "      <td>Parent diabetes at any age</td>\n",
       "      <td>HFC6E</td>\n",
       "      <td>1312</td>\n",
       "      <td>NaN</td>\n",
       "      <td>1</td>\n",
       "    </tr>\n",
       "    <tr>\n",
       "      <th>300</th>\n",
       "      <td>Family reference person age - years</td>\n",
       "      <td>HFHAGER</td>\n",
       "      <td>1418</td>\n",
       "      <td>1420.0</td>\n",
       "      <td>3</td>\n",
       "    </tr>\n",
       "    <tr>\n",
       "      <th>308</th>\n",
       "      <td>Respondent age in years</td>\n",
       "      <td>HFAGERR</td>\n",
       "      <td>1431</td>\n",
       "      <td>1433.0</td>\n",
       "      <td>3</td>\n",
       "    </tr>\n",
       "    <tr>\n",
       "      <th>311</th>\n",
       "      <td>Language of interview</td>\n",
       "      <td>HALANG</td>\n",
       "      <td>1439</td>\n",
       "      <td>NaN</td>\n",
       "      <td>1</td>\n",
       "    </tr>\n",
       "    <tr>\n",
       "      <th>315</th>\n",
       "      <td>Check Item. Refer to age of SP</td>\n",
       "      <td>HAA3</td>\n",
       "      <td>1444</td>\n",
       "      <td>NaN</td>\n",
       "      <td>1</td>\n",
       "    </tr>\n",
       "    <tr>\n",
       "      <th>401</th>\n",
       "      <td>On average, how many units per day taken</td>\n",
       "      <td>HAD8</td>\n",
       "      <td>1571</td>\n",
       "      <td>1573.0</td>\n",
       "      <td>3</td>\n",
       "    </tr>\n",
       "    <tr>\n",
       "      <th>479</th>\n",
       "      <td>Check item. Refer to age of SP</td>\n",
       "      <td>HAG1</td>\n",
       "      <td>1671</td>\n",
       "      <td>NaN</td>\n",
       "      <td>1</td>\n",
       "    </tr>\n",
       "    <tr>\n",
       "      <th>512</th>\n",
       "      <td>Check item. Refer to age of SP</td>\n",
       "      <td>HAG13</td>\n",
       "      <td>1719</td>\n",
       "      <td>NaN</td>\n",
       "      <td>1</td>\n",
       "    </tr>\n",
       "    <tr>\n",
       "      <th>613</th>\n",
       "      <td>Check item. Refer to age of SP</td>\n",
       "      <td>HAJ0</td>\n",
       "      <td>1821</td>\n",
       "      <td>NaN</td>\n",
       "      <td>1</td>\n",
       "    </tr>\n",
       "    <tr>\n",
       "      <th>650</th>\n",
       "      <td>Check item. Refer to sex and age of SP</td>\n",
       "      <td>HAK12</td>\n",
       "      <td>1881</td>\n",
       "      <td>NaN</td>\n",
       "      <td>1</td>\n",
       "    </tr>\n",
       "    <tr>\n",
       "      <th>695</th>\n",
       "      <td>Check item. Refer to age of SP</td>\n",
       "      <td>HAM1</td>\n",
       "      <td>1944</td>\n",
       "      <td>NaN</td>\n",
       "      <td>1</td>\n",
       "    </tr>\n",
       "    <tr>\n",
       "      <th>701</th>\n",
       "      <td>Check item. Refer to age of SP</td>\n",
       "      <td>HAM7</td>\n",
       "      <td>1954</td>\n",
       "      <td>NaN</td>\n",
       "      <td>1</td>\n",
       "    </tr>\n",
       "    <tr>\n",
       "      <th>703</th>\n",
       "      <td>How much did you weigh at age 25 - lbs</td>\n",
       "      <td>HAM9S</td>\n",
       "      <td>1958</td>\n",
       "      <td>1960.0</td>\n",
       "      <td>3</td>\n",
       "    </tr>\n",
       "    <tr>\n",
       "      <th>744</th>\n",
       "      <td>Bacon/sausage/processed meats - times/mo</td>\n",
       "      <td>HAN2CS</td>\n",
       "      <td>2023</td>\n",
       "      <td>2026.0</td>\n",
       "      <td>4</td>\n",
       "    </tr>\n",
       "    <tr>\n",
       "      <th>766</th>\n",
       "      <td>Cabbage, cole slaw, sauerkraut-times/mo</td>\n",
       "      <td>HAN4IS</td>\n",
       "      <td>2090</td>\n",
       "      <td>2092.0</td>\n",
       "      <td>3</td>\n",
       "    </tr>\n",
       "    <tr>\n",
       "      <th>796</th>\n",
       "      <td>1st other food or beverage - specified</td>\n",
       "      <td>HAN8ACD</td>\n",
       "      <td>2183</td>\n",
       "      <td>2184.0</td>\n",
       "      <td>2</td>\n",
       "    </tr>\n",
       "    <tr>\n",
       "      <th>797</th>\n",
       "      <td>1st other food or beverage - times/month</td>\n",
       "      <td>HAN8AS</td>\n",
       "      <td>2185</td>\n",
       "      <td>2188.0</td>\n",
       "      <td>4</td>\n",
       "    </tr>\n",
       "    <tr>\n",
       "      <th>798</th>\n",
       "      <td>2nd other food or beverage - specified</td>\n",
       "      <td>HAN8BCD</td>\n",
       "      <td>2189</td>\n",
       "      <td>2190.0</td>\n",
       "      <td>2</td>\n",
       "    </tr>\n",
       "    <tr>\n",
       "      <th>799</th>\n",
       "      <td>2nd other food or beverage - times/month</td>\n",
       "      <td>HAN8BS</td>\n",
       "      <td>2191</td>\n",
       "      <td>2194.0</td>\n",
       "      <td>4</td>\n",
       "    </tr>\n",
       "    <tr>\n",
       "      <th>800</th>\n",
       "      <td>3rd other food or beverage - specified</td>\n",
       "      <td>HAN8CCD</td>\n",
       "      <td>2195</td>\n",
       "      <td>2196.0</td>\n",
       "      <td>2</td>\n",
       "    </tr>\n",
       "    <tr>\n",
       "      <th>801</th>\n",
       "      <td>3rd other food or beverage - times/month</td>\n",
       "      <td>HAN8CS</td>\n",
       "      <td>2197</td>\n",
       "      <td>2199.0</td>\n",
       "      <td>3</td>\n",
       "    </tr>\n",
       "    <tr>\n",
       "      <th>802</th>\n",
       "      <td>4th other food or beverage - specified</td>\n",
       "      <td>HAN8DCD</td>\n",
       "      <td>2200</td>\n",
       "      <td>2201.0</td>\n",
       "      <td>2</td>\n",
       "    </tr>\n",
       "    <tr>\n",
       "      <th>803</th>\n",
       "      <td>4th other food or beverage - times/month</td>\n",
       "      <td>HAN8DS</td>\n",
       "      <td>2202</td>\n",
       "      <td>2204.0</td>\n",
       "      <td>3</td>\n",
       "    </tr>\n",
       "    <tr>\n",
       "      <th>804</th>\n",
       "      <td>5th other food or beverage - specified</td>\n",
       "      <td>HAN8ECD</td>\n",
       "      <td>2205</td>\n",
       "      <td>2206.0</td>\n",
       "      <td>2</td>\n",
       "    </tr>\n",
       "    <tr>\n",
       "      <th>805</th>\n",
       "      <td>5th other food or beverage - times/month</td>\n",
       "      <td>HAN8ES</td>\n",
       "      <td>2207</td>\n",
       "      <td>2209.0</td>\n",
       "      <td>3</td>\n",
       "    </tr>\n",
       "    <tr>\n",
       "      <th>806</th>\n",
       "      <td>6th other food or beverage - specified</td>\n",
       "      <td>HAN8FCD</td>\n",
       "      <td>2210</td>\n",
       "      <td>2211.0</td>\n",
       "      <td>2</td>\n",
       "    </tr>\n",
       "    <tr>\n",
       "      <th>807</th>\n",
       "      <td>6th other food or beverage - times/month</td>\n",
       "      <td>HAN8FS</td>\n",
       "      <td>2212</td>\n",
       "      <td>2214.0</td>\n",
       "      <td>3</td>\n",
       "    </tr>\n",
       "    <tr>\n",
       "      <th>808</th>\n",
       "      <td>Check item. Refer to age of SP</td>\n",
       "      <td>HAN9</td>\n",
       "      <td>2215</td>\n",
       "      <td>NaN</td>\n",
       "      <td>1</td>\n",
       "    </tr>\n",
       "    <tr>\n",
       "      <th>810</th>\n",
       "      <td>How often drnk milk when teenager(13-17)</td>\n",
       "      <td>HAN10B</td>\n",
       "      <td>2217</td>\n",
       "      <td>NaN</td>\n",
       "      <td>1</td>\n",
       "    </tr>\n",
       "    <tr>\n",
       "      <th>812</th>\n",
       "      <td>How often drnk milk,mid-age adult(36-65)</td>\n",
       "      <td>HAN10D</td>\n",
       "      <td>2219</td>\n",
       "      <td>NaN</td>\n",
       "      <td>1</td>\n",
       "    </tr>\n",
       "    <tr>\n",
       "      <th>831</th>\n",
       "      <td>Check item. Refer to age of SP</td>\n",
       "      <td>HAP16</td>\n",
       "      <td>2238</td>\n",
       "      <td>NaN</td>\n",
       "      <td>1</td>\n",
       "    </tr>\n",
       "    <tr>\n",
       "      <th>859</th>\n",
       "      <td>Check item. Refer to age of SP</td>\n",
       "      <td>HAQ7</td>\n",
       "      <td>2277</td>\n",
       "      <td>NaN</td>\n",
       "      <td>1</td>\n",
       "    </tr>\n",
       "    <tr>\n",
       "      <th>928</th>\n",
       "      <td>Language you mainly speak at home</td>\n",
       "      <td>HAS28</td>\n",
       "      <td>2386</td>\n",
       "      <td>NaN</td>\n",
       "      <td>1</td>\n",
       "    </tr>\n",
       "    <tr>\n",
       "      <th>929</th>\n",
       "      <td>Language you mainly speak at work/school</td>\n",
       "      <td>HAS29</td>\n",
       "      <td>2387</td>\n",
       "      <td>2388.0</td>\n",
       "      <td>2</td>\n",
       "    </tr>\n",
       "    <tr>\n",
       "      <th>970</th>\n",
       "      <td>Active compared with men/women your age</td>\n",
       "      <td>HAT28</td>\n",
       "      <td>2499</td>\n",
       "      <td>NaN</td>\n",
       "      <td>1</td>\n",
       "    </tr>\n",
       "    <tr>\n",
       "      <th>971</th>\n",
       "      <td>Check item. Refer to age of SP</td>\n",
       "      <td>HAT29</td>\n",
       "      <td>2500</td>\n",
       "      <td>NaN</td>\n",
       "      <td>1</td>\n",
       "    </tr>\n",
       "    <tr>\n",
       "      <th>1189</th>\n",
       "      <td>Observe SP:speech problems(not language)</td>\n",
       "      <td>HAY11G</td>\n",
       "      <td>3229</td>\n",
       "      <td>NaN</td>\n",
       "      <td>1</td>\n",
       "    </tr>\n",
       "    <tr>\n",
       "      <th>1192</th>\n",
       "      <td>Observed SP:overweight, average, or thin</td>\n",
       "      <td>HAY11J</td>\n",
       "      <td>3232</td>\n",
       "      <td>NaN</td>\n",
       "      <td>1</td>\n",
       "    </tr>\n",
       "    <tr>\n",
       "      <th>1229</th>\n",
       "      <td>Average K1 BP (survey years 5 and 6)</td>\n",
       "      <td>HAZA11A</td>\n",
       "      <td>3324</td>\n",
       "      <td>3326.0</td>\n",
       "      <td>3</td>\n",
       "    </tr>\n",
       "    <tr>\n",
       "      <th>1230</th>\n",
       "      <td>Average K1 BP after data edits</td>\n",
       "      <td>HAZA11AR</td>\n",
       "      <td>3327</td>\n",
       "      <td>3329.0</td>\n",
       "      <td>3</td>\n",
       "    </tr>\n",
       "    <tr>\n",
       "      <th>1231</th>\n",
       "      <td>Average K5 BP (survey years 5-6)</td>\n",
       "      <td>HAZA11B</td>\n",
       "      <td>3330</td>\n",
       "      <td>3332.0</td>\n",
       "      <td>3</td>\n",
       "    </tr>\n",
       "    <tr>\n",
       "      <th>1232</th>\n",
       "      <td>Average K5 BP after data edits</td>\n",
       "      <td>HAZA11BR</td>\n",
       "      <td>3333</td>\n",
       "      <td>3335.0</td>\n",
       "      <td>3</td>\n",
       "    </tr>\n",
       "    <tr>\n",
       "      <th>1234</th>\n",
       "      <td>Average K1 BP from household and MEC</td>\n",
       "      <td>HAZMNK1R</td>\n",
       "      <td>3337</td>\n",
       "      <td>3339.0</td>\n",
       "      <td>3</td>\n",
       "    </tr>\n",
       "    <tr>\n",
       "      <th>1235</th>\n",
       "      <td>Number of BP's used for average K1</td>\n",
       "      <td>HAZNOK1R</td>\n",
       "      <td>3340</td>\n",
       "      <td>3341.0</td>\n",
       "      <td>2</td>\n",
       "    </tr>\n",
       "    <tr>\n",
       "      <th>1236</th>\n",
       "      <td>Average K5 BP from household and MEC</td>\n",
       "      <td>HAZMNK5R</td>\n",
       "      <td>3342</td>\n",
       "      <td>3344.0</td>\n",
       "      <td>3</td>\n",
       "    </tr>\n",
       "    <tr>\n",
       "      <th>1237</th>\n",
       "      <td>Number of BP's used for average K5</td>\n",
       "      <td>HAZNOK5R</td>\n",
       "      <td>3345</td>\n",
       "      <td>3346.0</td>\n",
       "      <td>2</td>\n",
       "    </tr>\n",
       "  </tbody>\n",
       "</table>\n",
       "</div>"
      ],
      "text/plain": [
       "                                   description  variable  position  \\\n",
       "157                 Language used by SP in MEC   MXPLANG      1232   \n",
       "168               Language of family interview    HFLANG      1254   \n",
       "175                  Type of Medicare coverage      HFB3      1263   \n",
       "190              Insurance coverage check item     HFB13      1278   \n",
       "192   No insur: poor health, illness, age(ph1)   HFB14AC      1280   \n",
       "218   Parent high blood cholesterol at any age     HFC6C      1308   \n",
       "220      Parent asthma or hay fever at any age     HFC6D      1310   \n",
       "222                 Parent diabetes at any age     HFC6E      1312   \n",
       "300        Family reference person age - years   HFHAGER      1418   \n",
       "308                    Respondent age in years   HFAGERR      1431   \n",
       "311                      Language of interview    HALANG      1439   \n",
       "315             Check Item. Refer to age of SP      HAA3      1444   \n",
       "401   On average, how many units per day taken      HAD8      1571   \n",
       "479             Check item. Refer to age of SP      HAG1      1671   \n",
       "512             Check item. Refer to age of SP     HAG13      1719   \n",
       "613             Check item. Refer to age of SP      HAJ0      1821   \n",
       "650     Check item. Refer to sex and age of SP     HAK12      1881   \n",
       "695             Check item. Refer to age of SP      HAM1      1944   \n",
       "701             Check item. Refer to age of SP      HAM7      1954   \n",
       "703     How much did you weigh at age 25 - lbs     HAM9S      1958   \n",
       "744   Bacon/sausage/processed meats - times/mo    HAN2CS      2023   \n",
       "766    Cabbage, cole slaw, sauerkraut-times/mo    HAN4IS      2090   \n",
       "796     1st other food or beverage - specified   HAN8ACD      2183   \n",
       "797   1st other food or beverage - times/month    HAN8AS      2185   \n",
       "798     2nd other food or beverage - specified   HAN8BCD      2189   \n",
       "799   2nd other food or beverage - times/month    HAN8BS      2191   \n",
       "800     3rd other food or beverage - specified   HAN8CCD      2195   \n",
       "801   3rd other food or beverage - times/month    HAN8CS      2197   \n",
       "802     4th other food or beverage - specified   HAN8DCD      2200   \n",
       "803   4th other food or beverage - times/month    HAN8DS      2202   \n",
       "804     5th other food or beverage - specified   HAN8ECD      2205   \n",
       "805   5th other food or beverage - times/month    HAN8ES      2207   \n",
       "806     6th other food or beverage - specified   HAN8FCD      2210   \n",
       "807   6th other food or beverage - times/month    HAN8FS      2212   \n",
       "808             Check item. Refer to age of SP      HAN9      2215   \n",
       "810   How often drnk milk when teenager(13-17)    HAN10B      2217   \n",
       "812   How often drnk milk,mid-age adult(36-65)    HAN10D      2219   \n",
       "831             Check item. Refer to age of SP     HAP16      2238   \n",
       "859             Check item. Refer to age of SP      HAQ7      2277   \n",
       "928          Language you mainly speak at home     HAS28      2386   \n",
       "929   Language you mainly speak at work/school     HAS29      2387   \n",
       "970    Active compared with men/women your age     HAT28      2499   \n",
       "971             Check item. Refer to age of SP     HAT29      2500   \n",
       "1189  Observe SP:speech problems(not language)    HAY11G      3229   \n",
       "1192  Observed SP:overweight, average, or thin    HAY11J      3232   \n",
       "1229      Average K1 BP (survey years 5 and 6)   HAZA11A      3324   \n",
       "1230            Average K1 BP after data edits  HAZA11AR      3327   \n",
       "1231          Average K5 BP (survey years 5-6)   HAZA11B      3330   \n",
       "1232            Average K5 BP after data edits  HAZA11BR      3333   \n",
       "1234      Average K1 BP from household and MEC  HAZMNK1R      3337   \n",
       "1235        Number of BP's used for average K1  HAZNOK1R      3340   \n",
       "1236      Average K5 BP from household and MEC  HAZMNK5R      3342   \n",
       "1237        Number of BP's used for average K5  HAZNOK5R      3345   \n",
       "\n",
       "      end position  length  \n",
       "157            NaN       1  \n",
       "168            NaN       1  \n",
       "175            NaN       1  \n",
       "190            NaN       1  \n",
       "192            NaN       1  \n",
       "218            NaN       1  \n",
       "220            NaN       1  \n",
       "222            NaN       1  \n",
       "300         1420.0       3  \n",
       "308         1433.0       3  \n",
       "311            NaN       1  \n",
       "315            NaN       1  \n",
       "401         1573.0       3  \n",
       "479            NaN       1  \n",
       "512            NaN       1  \n",
       "613            NaN       1  \n",
       "650            NaN       1  \n",
       "695            NaN       1  \n",
       "701            NaN       1  \n",
       "703         1960.0       3  \n",
       "744         2026.0       4  \n",
       "766         2092.0       3  \n",
       "796         2184.0       2  \n",
       "797         2188.0       4  \n",
       "798         2190.0       2  \n",
       "799         2194.0       4  \n",
       "800         2196.0       2  \n",
       "801         2199.0       3  \n",
       "802         2201.0       2  \n",
       "803         2204.0       3  \n",
       "804         2206.0       2  \n",
       "805         2209.0       3  \n",
       "806         2211.0       2  \n",
       "807         2214.0       3  \n",
       "808            NaN       1  \n",
       "810            NaN       1  \n",
       "812            NaN       1  \n",
       "831            NaN       1  \n",
       "859            NaN       1  \n",
       "928            NaN       1  \n",
       "929         2388.0       2  \n",
       "970            NaN       1  \n",
       "971            NaN       1  \n",
       "1189           NaN       1  \n",
       "1192           NaN       1  \n",
       "1229        3326.0       3  \n",
       "1230        3329.0       3  \n",
       "1231        3332.0       3  \n",
       "1232        3335.0       3  \n",
       "1234        3339.0       3  \n",
       "1235        3341.0       2  \n",
       "1236        3344.0       3  \n",
       "1237        3346.0       2  "
      ]
     },
     "execution_count": 61,
     "metadata": {},
     "output_type": "execute_result"
    }
   ],
   "source": [
    "nh.cols[nh.cols.description.str.contains('age')]"
   ]
  },
  {
   "cell_type": "code",
   "execution_count": 62,
   "metadata": {},
   "outputs": [
    {
     "data": {
      "text/plain": [
       "SEQN\n",
       "3        4640.0\n",
       "4        3089.0\n",
       "45       1840.0\n",
       "52       4658.0\n",
       "60       3651.0\n",
       "          ...  \n",
       "53558    2626.0\n",
       "53567    3348.0\n",
       "53592    3642.0\n",
       "53593    5214.0\n",
       "53623    3196.0\n",
       "Name: SPPFEV1, Length: 4944, dtype: float64"
      ]
     },
     "execution_count": 62,
     "metadata": {},
     "output_type": "execute_result"
    }
   ],
   "source": [
    "af.SPPFEV1"
   ]
  },
  {
   "cell_type": "markdown",
   "metadata": {},
   "source": [
    "## Now do youth exclusion"
   ]
  },
  {
   "cell_type": "code",
   "execution_count": 63,
   "metadata": {},
   "outputs": [
    {
     "data": {
      "text/plain": [
       "(13944, 57)"
      ]
     },
     "execution_count": 63,
     "metadata": {},
     "output_type": "execute_result"
    }
   ],
   "source": [
    "youth_exam.shape"
   ]
  },
  {
   "cell_type": "markdown",
   "metadata": {},
   "source": [
    "age 8-17"
   ]
  },
  {
   "cell_type": "code",
   "execution_count": 64,
   "metadata": {},
   "outputs": [
    {
     "data": {
      "text/plain": [
       "(5365, 57)"
      ]
     },
     "execution_count": 64,
     "metadata": {},
     "output_type": "execute_result"
    }
   ],
   "source": [
    "youth_exam.query('7 < HSAGEIR < 18').shape"
   ]
  },
  {
   "cell_type": "markdown",
   "metadata": {},
   "source": [
    "Youth ethnicity"
   ]
  },
  {
   "cell_type": "code",
   "execution_count": 65,
   "metadata": {},
   "outputs": [
    {
     "data": {
      "text/plain": [
       "1    4602\n",
       "3    4445\n",
       "2    4141\n",
       "4     756\n",
       "Name: DMARETHN, dtype: int64"
      ]
     },
     "execution_count": 65,
     "metadata": {},
     "output_type": "execute_result"
    }
   ],
   "source": [
    "youth_exam.DMARETHN.value_counts()"
   ]
  },
  {
   "cell_type": "markdown",
   "metadata": {},
   "source": [
    "spirometry unusable <2 curves"
   ]
  },
  {
   "cell_type": "code",
   "execution_count": 66,
   "metadata": {},
   "outputs": [
    {
     "data": {
      "text/plain": [
       "(4114, 57)"
      ]
     },
     "execution_count": 66,
     "metadata": {},
     "output_type": "execute_result"
    }
   ],
   "source": [
    "youth_exam.query('7 < HSAGEIR < 18').query('2 <= SPPMANEU < 88').shape"
   ]
  },
  {
   "cell_type": "markdown",
   "metadata": {},
   "source": [
    "ethnicity other"
   ]
  },
  {
   "cell_type": "code",
   "execution_count": 67,
   "metadata": {},
   "outputs": [
    {
     "data": {
      "text/plain": [
       "(3928, 57)"
      ]
     },
     "execution_count": 67,
     "metadata": {},
     "output_type": "execute_result"
    }
   ],
   "source": [
    "youth_exam.query('7 < HSAGEIR < 18').query('2 <= SPPMANEU < 88').query('DMARETHN < 4').shape"
   ]
  },
  {
   "cell_type": "markdown",
   "metadata": {},
   "source": [
    "try B1 ever smoker  not work exclude too many"
   ]
  },
  {
   "cell_type": "code",
   "execution_count": 68,
   "metadata": {},
   "outputs": [
    {
     "data": {
      "text/plain": [
       "(3238, 57)"
      ]
     },
     "execution_count": 68,
     "metadata": {},
     "output_type": "execute_result"
    }
   ],
   "source": [
    "youth_exam.query('7 < HSAGEIR < 18').query('2 <= SPPMANEU < 88').query('DMARETHN < 4').query('not MYPB1 == 1').shape"
   ]
  },
  {
   "cell_type": "markdown",
   "metadata": {},
   "source": [
    "smoker B1 and B3 ** B1 too many; B3 (>5 pks) OK"
   ]
  },
  {
   "cell_type": "code",
   "execution_count": 69,
   "metadata": {},
   "outputs": [
    {
     "data": {
      "text/plain": [
       "(3813, 57)"
      ]
     },
     "execution_count": 69,
     "metadata": {},
     "output_type": "execute_result"
    }
   ],
   "source": [
    "youth_exam.query('7 < HSAGEIR < 18').query('2 <= SPPMANEU < 88').query('DMARETHN < 4').query('not MYPB3 == 1').shape"
   ]
  },
  {
   "cell_type": "markdown",
   "metadata": {},
   "source": [
    "smoked 5 days B11 and B27"
   ]
  },
  {
   "cell_type": "code",
   "execution_count": 70,
   "metadata": {},
   "outputs": [
    {
     "data": {
      "text/plain": [
       "(3594, 57)"
      ]
     },
     "execution_count": 70,
     "metadata": {},
     "output_type": "execute_result"
    }
   ],
   "source": [
    "youth_exam.query('7 < HSAGEIR < 18').query('2 <= SPPMANEU < 88').query('DMARETHN < 4').query('not MYPB3 == 1').query('not MYPB11 >0').shape"
   ]
  },
  {
   "cell_type": "markdown",
   "metadata": {},
   "source": [
    "and B27"
   ]
  },
  {
   "cell_type": "code",
   "execution_count": 71,
   "metadata": {},
   "outputs": [
    {
     "data": {
      "text/plain": [
       "(3593, 57)"
      ]
     },
     "execution_count": 71,
     "metadata": {},
     "output_type": "execute_result"
    }
   ],
   "source": [
    "youth_exam.query('7 < HSAGEIR < 18').query('2 <= SPPMANEU < 88').query('DMARETHN < 4').query('not MYPB3 == 1').query('not MYPB11 >0').query('not MYPB27A >0').shape"
   ]
  },
  {
   "cell_type": "markdown",
   "metadata": {},
   "source": [
    "asthma E1g"
   ]
  },
  {
   "cell_type": "code",
   "execution_count": 72,
   "metadata": {},
   "outputs": [
    {
     "data": {
      "text/plain": [
       "(3268, 57)"
      ]
     },
     "execution_count": 72,
     "metadata": {},
     "output_type": "execute_result"
    }
   ],
   "source": [
    "youth_exam.query('7 < HSAGEIR < 18').query('2 <= SPPMANEU < 88').query('DMARETHN < 4').query('not MYPB3 == 1').query('not MYPB11 >0').query('not MYPB27A >0').query('not HYE1G == 1').shape"
   ]
  },
  {
   "cell_type": "markdown",
   "metadata": {},
   "source": [
    "chronic bronchitis E1h"
   ]
  },
  {
   "cell_type": "code",
   "execution_count": 73,
   "metadata": {},
   "outputs": [
    {
     "data": {
      "text/plain": [
       "(3180, 57)"
      ]
     },
     "execution_count": 73,
     "metadata": {},
     "output_type": "execute_result"
    }
   ],
   "source": [
    "youth_exam.query('7 < HSAGEIR < 18').query('2 <= SPPMANEU < 88').query('DMARETHN < 4').query('not MYPB3 == 1').query('not MYPB11 >0').query('not MYPB27A >0').query('not HYE1G == 1').query('not HYE1H == 1').shape"
   ]
  },
  {
   "cell_type": "markdown",
   "metadata": {},
   "source": [
    "wheezing 12 months"
   ]
  },
  {
   "cell_type": "code",
   "execution_count": 74,
   "metadata": {},
   "outputs": [
    {
     "data": {
      "text/plain": [
       "(2899, 57)"
      ]
     },
     "execution_count": 74,
     "metadata": {},
     "output_type": "execute_result"
    }
   ],
   "source": [
    "youth_exam.query('7 < HSAGEIR < 18').query('2 <= SPPMANEU < 88').query('DMARETHN < 4').query('not MYPB3 == 1').query('not MYPB11 >0').query('not MYPB27A >0').query('not HYE1G == 1').query('not HYE1H == 1').query('not HYG8 == 1').shape"
   ]
  },
  {
   "cell_type": "markdown",
   "metadata": {},
   "source": [
    "wheezing apart from colds"
   ]
  },
  {
   "cell_type": "code",
   "execution_count": 75,
   "metadata": {
    "scrolled": true
   },
   "outputs": [
    {
     "data": {
      "text/plain": [
       "(2848, 57)"
      ]
     },
     "execution_count": 75,
     "metadata": {},
     "output_type": "execute_result"
    }
   ],
   "source": [
    "youth_exam.query('7 < HSAGEIR < 18').query('2 <= SPPMANEU < 88').query('DMARETHN < 4').query('not MYPB3 == 1').query('not MYPB11 >0').query('not MYPB27A >0').query('not HYE1G == 1').query('not HYE1H == 1').query('not HYG8 == 1').query('not HYG12 == 1').shape"
   ]
  },
  {
   "cell_type": "markdown",
   "metadata": {},
   "source": [
    "Youth 12 years and older with above H 1298"
   ]
  },
  {
   "cell_type": "code",
   "execution_count": 76,
   "metadata": {},
   "outputs": [
    {
     "data": {
      "text/plain": [
       "(1305, 57)"
      ]
     },
     "execution_count": 76,
     "metadata": {},
     "output_type": "execute_result"
    }
   ],
   "source": [
    "youth_exam.query('7 < HSAGEIR < 18').query('2 <= SPPMANEU < 88').query('DMARETHN < 4').query('not MYPB3 == 1').query('not MYPB11 >0').query('not MYPB27A >0').query('not HYE1G == 1').query('not HYE1H == 1').query('not HYG8 == 1').query('not HYG12 == 1').query('HSAGEIR > 11').shape"
   ]
  },
  {
   "cell_type": "markdown",
   "metadata": {},
   "source": [
    "and not persistent cough G2 H 2816 **I all age"
   ]
  },
  {
   "cell_type": "code",
   "execution_count": 77,
   "metadata": {},
   "outputs": [
    {
     "data": {
      "text/plain": [
       "(2832, 57)"
      ]
     },
     "execution_count": 77,
     "metadata": {},
     "output_type": "execute_result"
    }
   ],
   "source": [
    "youth_exam.query('7 < HSAGEIR < 18').query('2 <= SPPMANEU < 88').query('DMARETHN < 4').query('not MYPB3 == 1').query('not MYPB11 >0').query('not MYPB27A >0').query('not HYE1G == 1').query('not HYE1H == 1').query('not HYG8 == 1').query('not HYG12 == 1').query('not HYG2 == 1').shape"
   ]
  },
  {
   "cell_type": "markdown",
   "metadata": {},
   "source": [
    "and not persistent phlegm G4 H 2806"
   ]
  },
  {
   "cell_type": "code",
   "execution_count": 78,
   "metadata": {},
   "outputs": [
    {
     "data": {
      "text/plain": [
       "(2822, 57)"
      ]
     },
     "execution_count": 78,
     "metadata": {},
     "output_type": "execute_result"
    }
   ],
   "source": [
    "youth_exam.query('7 < HSAGEIR < 18').query('2 <= SPPMANEU < 88').query('DMARETHN < 4').query('not MYPB3 == 1').query('not MYPB11 >0').query('not MYPB27A >0').query('not HYE1G == 1').query('not HYE1H == 1').query('not HYG8 == 1').query('not HYG12 == 1').query('not HYG2 == 1').query('not HYG4 == 1').shape"
   ]
  },
  {
   "cell_type": "markdown",
   "metadata": {},
   "source": [
    "and Youth age 8-under 12"
   ]
  },
  {
   "cell_type": "code",
   "execution_count": 79,
   "metadata": {},
   "outputs": [
    {
     "data": {
      "text/plain": [
       "(1543, 57)"
      ]
     },
     "execution_count": 79,
     "metadata": {},
     "output_type": "execute_result"
    }
   ],
   "source": [
    "youth_exam.query('7 < HSAGEIR < 18').query('2 <= SPPMANEU < 88').query('DMARETHN < 4').query('not MYPB3 == 1').query('not MYPB11 >0').query('not MYPB27A >0').query('not HYE1G == 1').query('not HYE1H == 1').query('not HYG8 == 1').query('not HYG12 == 1').query('not HYG2 == 1').query('not HYG4 == 1').query('HSAGEIR < 12').shape"
   ]
  },
  {
   "cell_type": "markdown",
   "metadata": {},
   "source": [
    "and not persistent cough G6 and G7"
   ]
  },
  {
   "cell_type": "code",
   "execution_count": 80,
   "metadata": {},
   "outputs": [
    {
     "data": {
      "text/plain": [
       "(2812, 57)"
      ]
     },
     "execution_count": 80,
     "metadata": {},
     "output_type": "execute_result"
    }
   ],
   "source": [
    "youth_exam.query('7 < HSAGEIR < 18').query('2 <= SPPMANEU < 88').query('DMARETHN < 4').query('not MYPB3 == 1').query('not MYPB11 >0').query('not MYPB27A >0').query('not HYE1G == 1').query('not HYE1H == 1').query('not HYG8 == 1').query('not HYG12 == 1').query('not HYG2 == 1').query('not HYG4 == 1').query('not HYG7 == 555').shape"
   ]
  },
  {
   "cell_type": "markdown",
   "metadata": {},
   "source": [
    "## Create youth_final"
   ]
  },
  {
   "cell_type": "markdown",
   "metadata": {},
   "source": [
    "youth_exam.query('7 < HSAGEIR < 18').query('2 <= SPPMANEU < 88').query('DMARETHN < 4').query('not MYPB3 == 1').query('not MYPB11 >0').query('not MYPB27A >0').query('not HYE1G == 1').query('not HYE1H == 1').query('not HYG8 == 1').query('not HYG12 == 1').query('not HYG2 == 1').query('not HYG4 == 1').query('not HYG7 == 555').shape"
   ]
  },
  {
   "cell_type": "markdown",
   "metadata": {},
   "source": [
    "youth_exam.query('7 < HSAGEIR < 18').query('2 <= SPPMANEU < 88').query('DMARETHN < 4').query('not MYPB3 == 1').query('not MYPB11 >0').query('not MYPB27A >0').query('not HYE1G == 1').query('not HYE1H == 1').query('not HYG8 == 1').query('not HYG12 == 1').query('not HYG2 == 1').query('not HYG4 == 1').query('not HYG7 == 555').shape"
   ]
  },
  {
   "cell_type": "markdown",
   "metadata": {},
   "source": [
    "youth_final = (youth_exam.query('7 < HSAGEIR < 18').query('2 <= SPPMANEU < 88')\n",
    "               .query('DMARETHN < 4').query('not MYPB3 == 1')\n",
    "               .query('not MYPB11 >0').query('not MYPB27A >0')\n",
    "               .query('not HYE1G == 1').query('not HYE1H == 1')\n",
    "               .query('not HYG8 == 1').query('not HYG12 == 1')\n",
    "               .query('not HYG2 == 1').query('not HYG4 == 1')\n",
    "               .query('not HYG7 == 555'))"
   ]
  },
  {
   "cell_type": "code",
   "execution_count": 81,
   "metadata": {},
   "outputs": [],
   "source": [
    "youth_final = (youth_exam.query('7 < HSAGEIR < 18').query('2 <= SPPMANEU < 88')\n",
    "               .query('DMARETHN < 4').query('not MYPB3 == 1')\n",
    "               .query('not MYPB11 >0').query('not MYPB27A >0')\n",
    "               .query('not HYE1G == 1').query('not HYE1H == 1')\n",
    "               .query('not HYG8 == 1').query('not HYG12 == 1')\n",
    "               .query('not HYG2 == 1').query('not HYG4 == 1')\n",
    "               .query('not HYG7 == 555'))"
   ]
  },
  {
   "cell_type": "code",
   "execution_count": 82,
   "metadata": {},
   "outputs": [
    {
     "data": {
      "text/plain": [
       "(2812, 57)"
      ]
     },
     "execution_count": 82,
     "metadata": {},
     "output_type": "execute_result"
    }
   ],
   "source": [
    "youth_final.shape"
   ]
  },
  {
   "cell_type": "code",
   "execution_count": 83,
   "metadata": {},
   "outputs": [
    {
     "data": {
      "text/html": [
       "<div>\n",
       "<style scoped>\n",
       "    .dataframe tbody tr th:only-of-type {\n",
       "        vertical-align: middle;\n",
       "    }\n",
       "\n",
       "    .dataframe tbody tr th {\n",
       "        vertical-align: top;\n",
       "    }\n",
       "\n",
       "    .dataframe thead th {\n",
       "        text-align: right;\n",
       "    }\n",
       "</style>\n",
       "<table border=\"1\" class=\"dataframe\">\n",
       "  <thead>\n",
       "    <tr style=\"text-align: right;\">\n",
       "      <th></th>\n",
       "      <th>HYE1G</th>\n",
       "      <th>HYE1H</th>\n",
       "      <th>HSSEX</th>\n",
       "      <th>HSAGEIR</th>\n",
       "      <th>HSAGEU</th>\n",
       "      <th>DMARACER</th>\n",
       "      <th>DMARETHN</th>\n",
       "      <th>DMAETHNR</th>\n",
       "      <th>HXPAXTMR</th>\n",
       "      <th>HXPSESSR</th>\n",
       "      <th>...</th>\n",
       "      <th>HSSEX_exam</th>\n",
       "      <th>WTPFHX6</th>\n",
       "      <th>MXPAXTMR</th>\n",
       "      <th>BMPHT</th>\n",
       "      <th>BMPSITHT</th>\n",
       "      <th>BMPWT</th>\n",
       "      <th>DMARACER_exam</th>\n",
       "      <th>DMARETHN_exam</th>\n",
       "      <th>DMAETHNR_exam</th>\n",
       "      <th>HSAITMOR_exam</th>\n",
       "    </tr>\n",
       "    <tr>\n",
       "      <th>SEQN</th>\n",
       "      <th></th>\n",
       "      <th></th>\n",
       "      <th></th>\n",
       "      <th></th>\n",
       "      <th></th>\n",
       "      <th></th>\n",
       "      <th></th>\n",
       "      <th></th>\n",
       "      <th></th>\n",
       "      <th></th>\n",
       "      <th></th>\n",
       "      <th></th>\n",
       "      <th></th>\n",
       "      <th></th>\n",
       "      <th></th>\n",
       "      <th></th>\n",
       "      <th></th>\n",
       "      <th></th>\n",
       "      <th></th>\n",
       "      <th></th>\n",
       "      <th></th>\n",
       "    </tr>\n",
       "  </thead>\n",
       "  <tbody>\n",
       "    <tr>\n",
       "      <th>14</th>\n",
       "      <td>2</td>\n",
       "      <td>2</td>\n",
       "      <td>2</td>\n",
       "      <td>16</td>\n",
       "      <td>2</td>\n",
       "      <td>1</td>\n",
       "      <td>1</td>\n",
       "      <td>3</td>\n",
       "      <td>NaN</td>\n",
       "      <td>NaN</td>\n",
       "      <td>...</td>\n",
       "      <td>2.0</td>\n",
       "      <td>13749.61</td>\n",
       "      <td>197.0</td>\n",
       "      <td>166.9</td>\n",
       "      <td>87.0</td>\n",
       "      <td>47.50</td>\n",
       "      <td>1</td>\n",
       "      <td>1.0</td>\n",
       "      <td>3.0</td>\n",
       "      <td>196.0</td>\n",
       "    </tr>\n",
       "    <tr>\n",
       "      <th>16</th>\n",
       "      <td>2</td>\n",
       "      <td>2</td>\n",
       "      <td>1</td>\n",
       "      <td>16</td>\n",
       "      <td>2</td>\n",
       "      <td>1</td>\n",
       "      <td>3</td>\n",
       "      <td>1</td>\n",
       "      <td>NaN</td>\n",
       "      <td>NaN</td>\n",
       "      <td>...</td>\n",
       "      <td>1.0</td>\n",
       "      <td>1792.14</td>\n",
       "      <td>200.0</td>\n",
       "      <td>167.6</td>\n",
       "      <td>89.2</td>\n",
       "      <td>62.65</td>\n",
       "      <td>1</td>\n",
       "      <td>3.0</td>\n",
       "      <td>1.0</td>\n",
       "      <td>198.0</td>\n",
       "    </tr>\n",
       "  </tbody>\n",
       "</table>\n",
       "<p>2 rows × 57 columns</p>\n",
       "</div>"
      ],
      "text/plain": [
       "      HYE1G  HYE1H  HSSEX  HSAGEIR  HSAGEU  DMARACER  DMARETHN  DMAETHNR  \\\n",
       "SEQN                                                                       \n",
       "14        2      2      2       16       2         1         1         3   \n",
       "16        2      2      1       16       2         1         3         1   \n",
       "\n",
       "      HXPAXTMR  HXPSESSR  ...  HSSEX_exam   WTPFHX6  MXPAXTMR  BMPHT  \\\n",
       "SEQN                      ...                                          \n",
       "14         NaN       NaN  ...         2.0  13749.61     197.0  166.9   \n",
       "16         NaN       NaN  ...         1.0   1792.14     200.0  167.6   \n",
       "\n",
       "      BMPSITHT  BMPWT  DMARACER_exam  DMARETHN_exam  DMAETHNR_exam  \\\n",
       "SEQN                                                                 \n",
       "14        87.0  47.50              1            1.0            3.0   \n",
       "16        89.2  62.65              1            3.0            1.0   \n",
       "\n",
       "      HSAITMOR_exam  \n",
       "SEQN                 \n",
       "14            196.0  \n",
       "16            198.0  \n",
       "\n",
       "[2 rows x 57 columns]"
      ]
     },
     "execution_count": 83,
     "metadata": {},
     "output_type": "execute_result"
    }
   ],
   "source": [
    "youth_final.head(2)"
   ]
  },
  {
   "cell_type": "markdown",
   "metadata": {},
   "source": [
    "After all of the exclusions, the youth_final dataframe has 2812 entries."
   ]
  },
  {
   "cell_type": "code",
   "execution_count": 84,
   "metadata": {},
   "outputs": [
    {
     "data": {
      "text/html": [
       "<div>\n",
       "<style scoped>\n",
       "    .dataframe tbody tr th:only-of-type {\n",
       "        vertical-align: middle;\n",
       "    }\n",
       "\n",
       "    .dataframe tbody tr th {\n",
       "        vertical-align: top;\n",
       "    }\n",
       "\n",
       "    .dataframe thead th {\n",
       "        text-align: right;\n",
       "    }\n",
       "</style>\n",
       "<table border=\"1\" class=\"dataframe\">\n",
       "  <thead>\n",
       "    <tr style=\"text-align: right;\">\n",
       "      <th></th>\n",
       "      <th>description</th>\n",
       "      <th>variable</th>\n",
       "      <th>position</th>\n",
       "      <th>end position</th>\n",
       "      <th>length</th>\n",
       "    </tr>\n",
       "  </thead>\n",
       "  <tbody>\n",
       "    <tr>\n",
       "      <th>0</th>\n",
       "      <td>Sequence number</td>\n",
       "      <td>SEQN</td>\n",
       "      <td>1</td>\n",
       "      <td>5.0</td>\n",
       "      <td>5</td>\n",
       "    </tr>\n",
       "    <tr>\n",
       "      <th>1</th>\n",
       "      <td>Family sequence number</td>\n",
       "      <td>DMPFSEQ</td>\n",
       "      <td>6</td>\n",
       "      <td>10.0</td>\n",
       "      <td>5</td>\n",
       "    </tr>\n",
       "    <tr>\n",
       "      <th>2</th>\n",
       "      <td>Examination/interview status</td>\n",
       "      <td>DMPSTAT</td>\n",
       "      <td>11</td>\n",
       "      <td>NaN</td>\n",
       "      <td>1</td>\n",
       "    </tr>\n",
       "    <tr>\n",
       "      <th>3</th>\n",
       "      <td>Race-ethnicity</td>\n",
       "      <td>DMARETHN</td>\n",
       "      <td>12</td>\n",
       "      <td>NaN</td>\n",
       "      <td>1</td>\n",
       "    </tr>\n",
       "    <tr>\n",
       "      <th>4</th>\n",
       "      <td>Race</td>\n",
       "      <td>DMARACER</td>\n",
       "      <td>13</td>\n",
       "      <td>NaN</td>\n",
       "      <td>1</td>\n",
       "    </tr>\n",
       "    <tr>\n",
       "      <th>...</th>\n",
       "      <td>...</td>\n",
       "      <td>...</td>\n",
       "      <td>...</td>\n",
       "      <td>...</td>\n",
       "      <td>...</td>\n",
       "    </tr>\n",
       "    <tr>\n",
       "      <th>682</th>\n",
       "      <td>ICD-9-CM code-9th</td>\n",
       "      <td>HYK11AO</td>\n",
       "      <td>2087</td>\n",
       "      <td>2092.0</td>\n",
       "      <td>6</td>\n",
       "    </tr>\n",
       "    <tr>\n",
       "      <th>683</th>\n",
       "      <td>For how long been taking (days)-9th</td>\n",
       "      <td>HYK12SO</td>\n",
       "      <td>2093</td>\n",
       "      <td>2097.0</td>\n",
       "      <td>5</td>\n",
       "    </tr>\n",
       "    <tr>\n",
       "      <th>684</th>\n",
       "      <td>Main respondents relationship to SP</td>\n",
       "      <td>HYM1</td>\n",
       "      <td>2098</td>\n",
       "      <td>2099.0</td>\n",
       "      <td>2</td>\n",
       "    </tr>\n",
       "    <tr>\n",
       "      <th>685</th>\n",
       "      <td>Was SP present during any of interview</td>\n",
       "      <td>HYM2</td>\n",
       "      <td>2100</td>\n",
       "      <td>NaN</td>\n",
       "      <td>1</td>\n",
       "    </tr>\n",
       "    <tr>\n",
       "      <th>686</th>\n",
       "      <td>Quality of interview</td>\n",
       "      <td>HYM3</td>\n",
       "      <td>2101</td>\n",
       "      <td>NaN</td>\n",
       "      <td>1</td>\n",
       "    </tr>\n",
       "  </tbody>\n",
       "</table>\n",
       "<p>687 rows × 5 columns</p>\n",
       "</div>"
      ],
      "text/plain": [
       "                                description  variable  position  end position  \\\n",
       "0                           Sequence number      SEQN         1           5.0   \n",
       "1                    Family sequence number   DMPFSEQ         6          10.0   \n",
       "2              Examination/interview status   DMPSTAT        11           NaN   \n",
       "3                            Race-ethnicity  DMARETHN        12           NaN   \n",
       "4                                      Race  DMARACER        13           NaN   \n",
       "..                                      ...       ...       ...           ...   \n",
       "682                       ICD-9-CM code-9th   HYK11AO      2087        2092.0   \n",
       "683     For how long been taking (days)-9th   HYK12SO      2093        2097.0   \n",
       "684     Main respondents relationship to SP      HYM1      2098        2099.0   \n",
       "685  Was SP present during any of interview      HYM2      2100           NaN   \n",
       "686                    Quality of interview      HYM3      2101           NaN   \n",
       "\n",
       "     length  \n",
       "0         5  \n",
       "1         5  \n",
       "2         1  \n",
       "3         1  \n",
       "4         1  \n",
       "..      ...  \n",
       "682       6  \n",
       "683       5  \n",
       "684       2  \n",
       "685       1  \n",
       "686       1  \n",
       "\n",
       "[687 rows x 5 columns]"
      ]
     },
     "execution_count": 84,
     "metadata": {},
     "output_type": "execute_result"
    }
   ],
   "source": [
    "youth.cols"
   ]
  },
  {
   "cell_type": "markdown",
   "metadata": {},
   "source": [
    "## Reviewing adult file"
   ]
  },
  {
   "cell_type": "code",
   "execution_count": 85,
   "metadata": {},
   "outputs": [
    {
     "data": {
      "text/html": [
       "<div>\n",
       "<style scoped>\n",
       "    .dataframe tbody tr th:only-of-type {\n",
       "        vertical-align: middle;\n",
       "    }\n",
       "\n",
       "    .dataframe tbody tr th {\n",
       "        vertical-align: top;\n",
       "    }\n",
       "\n",
       "    .dataframe thead th {\n",
       "        text-align: right;\n",
       "    }\n",
       "</style>\n",
       "<table border=\"1\" class=\"dataframe\">\n",
       "  <thead>\n",
       "    <tr style=\"text-align: right;\">\n",
       "      <th></th>\n",
       "      <th>description</th>\n",
       "      <th>variable</th>\n",
       "      <th>position</th>\n",
       "      <th>end position</th>\n",
       "      <th>length</th>\n",
       "    </tr>\n",
       "  </thead>\n",
       "  <tbody>\n",
       "    <tr>\n",
       "      <th>0</th>\n",
       "      <td>Sequence number</td>\n",
       "      <td>SEQN</td>\n",
       "      <td>1</td>\n",
       "      <td>5.0</td>\n",
       "      <td>5</td>\n",
       "    </tr>\n",
       "    <tr>\n",
       "      <th>1</th>\n",
       "      <td>Family sequence number</td>\n",
       "      <td>DMPFSEQ</td>\n",
       "      <td>6</td>\n",
       "      <td>10.0</td>\n",
       "      <td>5</td>\n",
       "    </tr>\n",
       "    <tr>\n",
       "      <th>2</th>\n",
       "      <td>Examination/interview status</td>\n",
       "      <td>DMPSTAT</td>\n",
       "      <td>11</td>\n",
       "      <td>NaN</td>\n",
       "      <td>1</td>\n",
       "    </tr>\n",
       "    <tr>\n",
       "      <th>3</th>\n",
       "      <td>Race-ethnicity</td>\n",
       "      <td>DMARETHN</td>\n",
       "      <td>12</td>\n",
       "      <td>NaN</td>\n",
       "      <td>1</td>\n",
       "    </tr>\n",
       "    <tr>\n",
       "      <th>4</th>\n",
       "      <td>Race</td>\n",
       "      <td>DMARACER</td>\n",
       "      <td>13</td>\n",
       "      <td>NaN</td>\n",
       "      <td>1</td>\n",
       "    </tr>\n",
       "    <tr>\n",
       "      <th>...</th>\n",
       "      <td>...</td>\n",
       "      <td>...</td>\n",
       "      <td>...</td>\n",
       "      <td>...</td>\n",
       "      <td>...</td>\n",
       "    </tr>\n",
       "    <tr>\n",
       "      <th>1233</th>\n",
       "      <td>BP statement read to SP (years 5 and 6)</td>\n",
       "      <td>HAZA12</td>\n",
       "      <td>3336</td>\n",
       "      <td>NaN</td>\n",
       "      <td>1</td>\n",
       "    </tr>\n",
       "    <tr>\n",
       "      <th>1234</th>\n",
       "      <td>Average K1 BP from household and MEC</td>\n",
       "      <td>HAZMNK1R</td>\n",
       "      <td>3337</td>\n",
       "      <td>3339.0</td>\n",
       "      <td>3</td>\n",
       "    </tr>\n",
       "    <tr>\n",
       "      <th>1235</th>\n",
       "      <td>Number of BP's used for average K1</td>\n",
       "      <td>HAZNOK1R</td>\n",
       "      <td>3340</td>\n",
       "      <td>3341.0</td>\n",
       "      <td>2</td>\n",
       "    </tr>\n",
       "    <tr>\n",
       "      <th>1236</th>\n",
       "      <td>Average K5 BP from household and MEC</td>\n",
       "      <td>HAZMNK5R</td>\n",
       "      <td>3342</td>\n",
       "      <td>3344.0</td>\n",
       "      <td>3</td>\n",
       "    </tr>\n",
       "    <tr>\n",
       "      <th>1237</th>\n",
       "      <td>Number of BP's used for average K5</td>\n",
       "      <td>HAZNOK5R</td>\n",
       "      <td>3345</td>\n",
       "      <td>3346.0</td>\n",
       "      <td>2</td>\n",
       "    </tr>\n",
       "  </tbody>\n",
       "</table>\n",
       "<p>1238 rows × 5 columns</p>\n",
       "</div>"
      ],
      "text/plain": [
       "                                  description  variable  position  \\\n",
       "0                             Sequence number      SEQN         1   \n",
       "1                      Family sequence number   DMPFSEQ         6   \n",
       "2                Examination/interview status   DMPSTAT        11   \n",
       "3                              Race-ethnicity  DMARETHN        12   \n",
       "4                                        Race  DMARACER        13   \n",
       "...                                       ...       ...       ...   \n",
       "1233  BP statement read to SP (years 5 and 6)    HAZA12      3336   \n",
       "1234     Average K1 BP from household and MEC  HAZMNK1R      3337   \n",
       "1235       Number of BP's used for average K1  HAZNOK1R      3340   \n",
       "1236     Average K5 BP from household and MEC  HAZMNK5R      3342   \n",
       "1237       Number of BP's used for average K5  HAZNOK5R      3345   \n",
       "\n",
       "      end position  length  \n",
       "0              5.0       5  \n",
       "1             10.0       5  \n",
       "2              NaN       1  \n",
       "3              NaN       1  \n",
       "4              NaN       1  \n",
       "...            ...     ...  \n",
       "1233           NaN       1  \n",
       "1234        3339.0       3  \n",
       "1235        3341.0       2  \n",
       "1236        3344.0       3  \n",
       "1237        3346.0       2  \n",
       "\n",
       "[1238 rows x 5 columns]"
      ]
     },
     "execution_count": 85,
     "metadata": {},
     "output_type": "execute_result"
    }
   ],
   "source": [
    "cols = nh.cols\n",
    "cols"
   ]
  },
  {
   "cell_type": "code",
   "execution_count": 86,
   "metadata": {},
   "outputs": [
    {
     "data": {
      "text/html": [
       "<div>\n",
       "<style scoped>\n",
       "    .dataframe tbody tr th:only-of-type {\n",
       "        vertical-align: middle;\n",
       "    }\n",
       "\n",
       "    .dataframe tbody tr th {\n",
       "        vertical-align: top;\n",
       "    }\n",
       "\n",
       "    .dataframe thead th {\n",
       "        text-align: right;\n",
       "    }\n",
       "</style>\n",
       "<table border=\"1\" class=\"dataframe\">\n",
       "  <thead>\n",
       "    <tr style=\"text-align: right;\">\n",
       "      <th></th>\n",
       "      <th>description</th>\n",
       "      <th>variable</th>\n",
       "      <th>position</th>\n",
       "      <th>end position</th>\n",
       "      <th>length</th>\n",
       "    </tr>\n",
       "  </thead>\n",
       "  <tbody>\n",
       "    <tr>\n",
       "      <th>259</th>\n",
       "      <td>Anyone living here smoke cigs in home</td>\n",
       "      <td>HFF1</td>\n",
       "      <td>1356</td>\n",
       "      <td>NaN</td>\n",
       "      <td>1</td>\n",
       "    </tr>\n",
       "    <tr>\n",
       "      <th>260</th>\n",
       "      <td># persons who smoke cigarettes in home</td>\n",
       "      <td>HFF2R</td>\n",
       "      <td>1357</td>\n",
       "      <td>1358.0</td>\n",
       "      <td>2</td>\n",
       "    </tr>\n",
       "    <tr>\n",
       "      <th>261</th>\n",
       "      <td>Cigarettes per day person 1 smokes</td>\n",
       "      <td>HFF3A</td>\n",
       "      <td>1359</td>\n",
       "      <td>1361.0</td>\n",
       "      <td>3</td>\n",
       "    </tr>\n",
       "    <tr>\n",
       "      <th>262</th>\n",
       "      <td>Cigarettes per day person 2 smokes</td>\n",
       "      <td>HFF3B</td>\n",
       "      <td>1362</td>\n",
       "      <td>1364.0</td>\n",
       "      <td>3</td>\n",
       "    </tr>\n",
       "    <tr>\n",
       "      <th>263</th>\n",
       "      <td>Cigarettes per day person 3 smokes</td>\n",
       "      <td>HFF3C</td>\n",
       "      <td>1365</td>\n",
       "      <td>1367.0</td>\n",
       "      <td>3</td>\n",
       "    </tr>\n",
       "    <tr>\n",
       "      <th>264</th>\n",
       "      <td>Cigarettes per day person 4 smokes</td>\n",
       "      <td>HFF3D</td>\n",
       "      <td>1368</td>\n",
       "      <td>1370.0</td>\n",
       "      <td>3</td>\n",
       "    </tr>\n",
       "    <tr>\n",
       "      <th>265</th>\n",
       "      <td>Cigarettes per day person 5 smokes</td>\n",
       "      <td>HFF3E</td>\n",
       "      <td>1371</td>\n",
       "      <td>1373.0</td>\n",
       "      <td>3</td>\n",
       "    </tr>\n",
       "    <tr>\n",
       "      <th>266</th>\n",
       "      <td>Cigarettes per day person 6 smokes</td>\n",
       "      <td>HFF3F</td>\n",
       "      <td>1374</td>\n",
       "      <td>1376.0</td>\n",
       "      <td>3</td>\n",
       "    </tr>\n",
       "    <tr>\n",
       "      <th>419</th>\n",
       "      <td>Doctor told stop smoking for HBP</td>\n",
       "      <td>HAE4D3</td>\n",
       "      <td>1606</td>\n",
       "      <td>NaN</td>\n",
       "      <td>1</td>\n",
       "    </tr>\n",
       "    <tr>\n",
       "      <th>428</th>\n",
       "      <td>Now quit smoking for high blood pressure</td>\n",
       "      <td>HAE5D3</td>\n",
       "      <td>1615</td>\n",
       "      <td>NaN</td>\n",
       "      <td>1</td>\n",
       "    </tr>\n",
       "    <tr>\n",
       "      <th>862</th>\n",
       "      <td>Have you smoked 100+ cigarettes in life</td>\n",
       "      <td>HAR1</td>\n",
       "      <td>2281</td>\n",
       "      <td>NaN</td>\n",
       "      <td>1</td>\n",
       "    </tr>\n",
       "    <tr>\n",
       "      <th>863</th>\n",
       "      <td>Age when you started smoking regularly</td>\n",
       "      <td>HAR2</td>\n",
       "      <td>2282</td>\n",
       "      <td>2284.0</td>\n",
       "      <td>3</td>\n",
       "    </tr>\n",
       "    <tr>\n",
       "      <th>864</th>\n",
       "      <td>Do you smoke cigarettes now</td>\n",
       "      <td>HAR3</td>\n",
       "      <td>2285</td>\n",
       "      <td>NaN</td>\n",
       "      <td>1</td>\n",
       "    </tr>\n",
       "    <tr>\n",
       "      <th>865</th>\n",
       "      <td># cigarettes smoked per day</td>\n",
       "      <td>HAR4S</td>\n",
       "      <td>2286</td>\n",
       "      <td>2288.0</td>\n",
       "      <td>3</td>\n",
       "    </tr>\n",
       "    <tr>\n",
       "      <th>866</th>\n",
       "      <td>How many yrs have you smoked this amount</td>\n",
       "      <td>HAR5</td>\n",
       "      <td>2289</td>\n",
       "      <td>2291.0</td>\n",
       "      <td>3</td>\n",
       "    </tr>\n",
       "    <tr>\n",
       "      <th>867</th>\n",
       "      <td>Ever period of 1+ years when smoked more</td>\n",
       "      <td>HAR6</td>\n",
       "      <td>2292</td>\n",
       "      <td>NaN</td>\n",
       "      <td>1</td>\n",
       "    </tr>\n",
       "    <tr>\n",
       "      <th>868</th>\n",
       "      <td># cigarettes per day when smoking most</td>\n",
       "      <td>HAR7S</td>\n",
       "      <td>2293</td>\n",
       "      <td>2296.0</td>\n",
       "      <td>4</td>\n",
       "    </tr>\n",
       "    <tr>\n",
       "      <th>869</th>\n",
       "      <td>How many years did you smoke that amount</td>\n",
       "      <td>HAR8</td>\n",
       "      <td>2297</td>\n",
       "      <td>2299.0</td>\n",
       "      <td>3</td>\n",
       "    </tr>\n",
       "    <tr>\n",
       "      <th>870</th>\n",
       "      <td>Ever quit smoking for one year or longer</td>\n",
       "      <td>HAR9</td>\n",
       "      <td>2300</td>\n",
       "      <td>NaN</td>\n",
       "      <td>1</td>\n",
       "    </tr>\n",
       "    <tr>\n",
       "      <th>871</th>\n",
       "      <td>How many years not smoked since started</td>\n",
       "      <td>HAR10</td>\n",
       "      <td>2301</td>\n",
       "      <td>2303.0</td>\n",
       "      <td>3</td>\n",
       "    </tr>\n",
       "    <tr>\n",
       "      <th>872</th>\n",
       "      <td>Age last smoke cigarettes reg -- yrs</td>\n",
       "      <td>HAR11R</td>\n",
       "      <td>2304</td>\n",
       "      <td>2306.0</td>\n",
       "      <td>3</td>\n",
       "    </tr>\n",
       "    <tr>\n",
       "      <th>873</th>\n",
       "      <td># cigarettes smoked per day at that time</td>\n",
       "      <td>HAR12S</td>\n",
       "      <td>2307</td>\n",
       "      <td>2309.0</td>\n",
       "      <td>3</td>\n",
       "    </tr>\n",
       "    <tr>\n",
       "      <th>874</th>\n",
       "      <td>Quit smoking,health problem from smoking</td>\n",
       "      <td>HAR13</td>\n",
       "      <td>2310</td>\n",
       "      <td>NaN</td>\n",
       "      <td>1</td>\n",
       "    </tr>\n",
       "    <tr>\n",
       "      <th>886</th>\n",
       "      <td>Ever smoke at least 20 cigars in life</td>\n",
       "      <td>HAR23</td>\n",
       "      <td>2330</td>\n",
       "      <td>NaN</td>\n",
       "      <td>1</td>\n",
       "    </tr>\n",
       "    <tr>\n",
       "      <th>887</th>\n",
       "      <td>Do you now smoke cigars</td>\n",
       "      <td>HAR24</td>\n",
       "      <td>2331</td>\n",
       "      <td>NaN</td>\n",
       "      <td>1</td>\n",
       "    </tr>\n",
       "    <tr>\n",
       "      <th>888</th>\n",
       "      <td>How many cigars do you smoke per day</td>\n",
       "      <td>HAR25</td>\n",
       "      <td>2332</td>\n",
       "      <td>2333.0</td>\n",
       "      <td>2</td>\n",
       "    </tr>\n",
       "    <tr>\n",
       "      <th>889</th>\n",
       "      <td>Ever smoke 20 pipes of tobacco in life</td>\n",
       "      <td>HAR26</td>\n",
       "      <td>2334</td>\n",
       "      <td>NaN</td>\n",
       "      <td>1</td>\n",
       "    </tr>\n",
       "    <tr>\n",
       "      <th>890</th>\n",
       "      <td>Do you now smoke a pipe</td>\n",
       "      <td>HAR27</td>\n",
       "      <td>2335</td>\n",
       "      <td>NaN</td>\n",
       "      <td>1</td>\n",
       "    </tr>\n",
       "    <tr>\n",
       "      <th>891</th>\n",
       "      <td>How many pipefuls tobacco smoke per day</td>\n",
       "      <td>HAR28</td>\n",
       "      <td>2336</td>\n",
       "      <td>2337.0</td>\n",
       "      <td>2</td>\n",
       "    </tr>\n",
       "    <tr>\n",
       "      <th>902</th>\n",
       "      <td>At work, hours per day can smell smoking</td>\n",
       "      <td>HAS14</td>\n",
       "      <td>2354</td>\n",
       "      <td>2355.0</td>\n",
       "      <td>2</td>\n",
       "    </tr>\n",
       "    <tr>\n",
       "      <th>1200</th>\n",
       "      <td>Have you smoked cigarettes last 30 min</td>\n",
       "      <td>HAZA2A4</td>\n",
       "      <td>3269</td>\n",
       "      <td>NaN</td>\n",
       "      <td>1</td>\n",
       "    </tr>\n",
       "  </tbody>\n",
       "</table>\n",
       "</div>"
      ],
      "text/plain": [
       "                                   description variable  position  \\\n",
       "259      Anyone living here smoke cigs in home     HFF1      1356   \n",
       "260     # persons who smoke cigarettes in home    HFF2R      1357   \n",
       "261         Cigarettes per day person 1 smokes    HFF3A      1359   \n",
       "262         Cigarettes per day person 2 smokes    HFF3B      1362   \n",
       "263         Cigarettes per day person 3 smokes    HFF3C      1365   \n",
       "264         Cigarettes per day person 4 smokes    HFF3D      1368   \n",
       "265         Cigarettes per day person 5 smokes    HFF3E      1371   \n",
       "266         Cigarettes per day person 6 smokes    HFF3F      1374   \n",
       "419           Doctor told stop smoking for HBP   HAE4D3      1606   \n",
       "428   Now quit smoking for high blood pressure   HAE5D3      1615   \n",
       "862    Have you smoked 100+ cigarettes in life     HAR1      2281   \n",
       "863     Age when you started smoking regularly     HAR2      2282   \n",
       "864                Do you smoke cigarettes now     HAR3      2285   \n",
       "865                # cigarettes smoked per day    HAR4S      2286   \n",
       "866   How many yrs have you smoked this amount     HAR5      2289   \n",
       "867   Ever period of 1+ years when smoked more     HAR6      2292   \n",
       "868     # cigarettes per day when smoking most    HAR7S      2293   \n",
       "869   How many years did you smoke that amount     HAR8      2297   \n",
       "870   Ever quit smoking for one year or longer     HAR9      2300   \n",
       "871    How many years not smoked since started    HAR10      2301   \n",
       "872       Age last smoke cigarettes reg -- yrs   HAR11R      2304   \n",
       "873   # cigarettes smoked per day at that time   HAR12S      2307   \n",
       "874   Quit smoking,health problem from smoking    HAR13      2310   \n",
       "886      Ever smoke at least 20 cigars in life    HAR23      2330   \n",
       "887                    Do you now smoke cigars    HAR24      2331   \n",
       "888       How many cigars do you smoke per day    HAR25      2332   \n",
       "889     Ever smoke 20 pipes of tobacco in life    HAR26      2334   \n",
       "890                    Do you now smoke a pipe    HAR27      2335   \n",
       "891    How many pipefuls tobacco smoke per day    HAR28      2336   \n",
       "902   At work, hours per day can smell smoking    HAS14      2354   \n",
       "1200    Have you smoked cigarettes last 30 min  HAZA2A4      3269   \n",
       "\n",
       "      end position  length  \n",
       "259            NaN       1  \n",
       "260         1358.0       2  \n",
       "261         1361.0       3  \n",
       "262         1364.0       3  \n",
       "263         1367.0       3  \n",
       "264         1370.0       3  \n",
       "265         1373.0       3  \n",
       "266         1376.0       3  \n",
       "419            NaN       1  \n",
       "428            NaN       1  \n",
       "862            NaN       1  \n",
       "863         2284.0       3  \n",
       "864            NaN       1  \n",
       "865         2288.0       3  \n",
       "866         2291.0       3  \n",
       "867            NaN       1  \n",
       "868         2296.0       4  \n",
       "869         2299.0       3  \n",
       "870            NaN       1  \n",
       "871         2303.0       3  \n",
       "872         2306.0       3  \n",
       "873         2309.0       3  \n",
       "874            NaN       1  \n",
       "886            NaN       1  \n",
       "887            NaN       1  \n",
       "888         2333.0       2  \n",
       "889            NaN       1  \n",
       "890            NaN       1  \n",
       "891         2337.0       2  \n",
       "902         2355.0       2  \n",
       "1200           NaN       1  "
      ]
     },
     "execution_count": 86,
     "metadata": {},
     "output_type": "execute_result"
    }
   ],
   "source": [
    "cols[cols.description.str.contains('(?:smok|cig)')]"
   ]
  },
  {
   "cell_type": "code",
   "execution_count": 87,
   "metadata": {},
   "outputs": [
    {
     "data": {
      "image/png": "[encoded data removed]",
      "text/plain": [
       "<Figure size 432x288 with 1 Axes>"
      ]
     },
     "metadata": {
      "needs_background": "light"
     },
     "output_type": "display_data"
    }
   ],
   "source": [
    "nh.hist_amount('HAR4S');"
   ]
  },
  {
   "cell_type": "code",
   "execution_count": 88,
   "metadata": {},
   "outputs": [
    {
     "data": {
      "image/png": "[encoded data removed]",
      "text/plain": [
       "<Figure size 432x288 with 1 Axes>"
      ]
     },
     "metadata": {
      "needs_background": "light"
     },
     "output_type": "display_data"
    }
   ],
   "source": [
    "nh.hist_amount('HSAITMOR',outliers=1200);"
   ]
  },
  {
   "cell_type": "code",
   "execution_count": 89,
   "metadata": {},
   "outputs": [
    {
     "data": {
      "image/png": "[encoded data removed]",
      "text/plain": [
       "<Figure size 432x288 with 1 Axes>"
      ]
     },
     "metadata": {
      "needs_background": "light"
     },
     "output_type": "display_data"
    }
   ],
   "source": [
    "nh.hist_amount('DMARETHN', outliers=25);"
   ]
  },
  {
   "cell_type": "code",
   "execution_count": 90,
   "metadata": {},
   "outputs": [
    {
     "name": "stderr",
     "output_type": "stream",
     "text": [
      "/usr/local/lib/python3.7/site-packages/pandas/core/strings.py:1952: UserWarning: This pattern has match groups. To actually get the groups, use str.extract.\n",
      "  return func(self, *args, **kwargs)\n"
     ]
    },
    {
     "data": {
      "text/html": [
       "<div>\n",
       "<style scoped>\n",
       "    .dataframe tbody tr th:only-of-type {\n",
       "        vertical-align: middle;\n",
       "    }\n",
       "\n",
       "    .dataframe tbody tr th {\n",
       "        vertical-align: top;\n",
       "    }\n",
       "\n",
       "    .dataframe thead th {\n",
       "        text-align: right;\n",
       "    }\n",
       "</style>\n",
       "<table border=\"1\" class=\"dataframe\">\n",
       "  <thead>\n",
       "    <tr style=\"text-align: right;\">\n",
       "      <th></th>\n",
       "      <th>description</th>\n",
       "      <th>variable</th>\n",
       "      <th>position</th>\n",
       "      <th>end position</th>\n",
       "      <th>length</th>\n",
       "    </tr>\n",
       "  </thead>\n",
       "  <tbody>\n",
       "    <tr>\n",
       "      <th>210</th>\n",
       "      <td>Mother's weight calculated in pounds</td>\n",
       "      <td>HFC2S</td>\n",
       "      <td>1300</td>\n",
       "      <td>NaN</td>\n",
       "      <td>1</td>\n",
       "    </tr>\n",
       "    <tr>\n",
       "      <th>212</th>\n",
       "      <td>Father's weight calculated in pounds</td>\n",
       "      <td>HFC4S</td>\n",
       "      <td>1302</td>\n",
       "      <td>NaN</td>\n",
       "      <td>1</td>\n",
       "    </tr>\n",
       "    <tr>\n",
       "      <th>414</th>\n",
       "      <td>Doctor told control/lose weight for HBP</td>\n",
       "      <td>HAE4B</td>\n",
       "      <td>1601</td>\n",
       "      <td>NaN</td>\n",
       "      <td>1</td>\n",
       "    </tr>\n",
       "    <tr>\n",
       "      <th>424</th>\n",
       "      <td>Now controlling or losing weight for HBP</td>\n",
       "      <td>HAE5B</td>\n",
       "      <td>1611</td>\n",
       "      <td>NaN</td>\n",
       "      <td>1</td>\n",
       "    </tr>\n",
       "    <tr>\n",
       "      <th>435</th>\n",
       "      <td>Doctor told lose weight for HBC</td>\n",
       "      <td>HAE8B</td>\n",
       "      <td>1622</td>\n",
       "      <td>NaN</td>\n",
       "      <td>1</td>\n",
       "    </tr>\n",
       "    <tr>\n",
       "      <th>439</th>\n",
       "      <td>Now losing weight to lower cholesterol</td>\n",
       "      <td>HAE9B</td>\n",
       "      <td>1626</td>\n",
       "      <td>NaN</td>\n",
       "      <td>1</td>\n",
       "    </tr>\n",
       "    <tr>\n",
       "      <th>444</th>\n",
       "      <td>On own for HBC, controlled/lost weight</td>\n",
       "      <td>HAE11B</td>\n",
       "      <td>1631</td>\n",
       "      <td>NaN</td>\n",
       "      <td>1</td>\n",
       "    </tr>\n",
       "    <tr>\n",
       "      <th>599</th>\n",
       "      <td>Difficulty lifting or carrying 10 pounds</td>\n",
       "      <td>HAH4</td>\n",
       "      <td>1807</td>\n",
       "      <td>NaN</td>\n",
       "      <td>1</td>\n",
       "    </tr>\n",
       "    <tr>\n",
       "      <th>705</th>\n",
       "      <td>Consider self over/under/right weight</td>\n",
       "      <td>HAM11</td>\n",
       "      <td>1964</td>\n",
       "      <td>NaN</td>\n",
       "      <td>1</td>\n",
       "    </tr>\n",
       "    <tr>\n",
       "      <th>707</th>\n",
       "      <td>Tried to lose weight in past 12 months</td>\n",
       "      <td>HAM13</td>\n",
       "      <td>1966</td>\n",
       "      <td>NaN</td>\n",
       "      <td>1</td>\n",
       "    </tr>\n",
       "    <tr>\n",
       "      <th>953</th>\n",
       "      <td>In the past month, did you lift weights</td>\n",
       "      <td>HAT16</td>\n",
       "      <td>2442</td>\n",
       "      <td>NaN</td>\n",
       "      <td>1</td>\n",
       "    </tr>\n",
       "    <tr>\n",
       "      <th>954</th>\n",
       "      <td>Lift weights activity - intensity rating</td>\n",
       "      <td>HAT16MET</td>\n",
       "      <td>2443</td>\n",
       "      <td>NaN</td>\n",
       "      <td>1</td>\n",
       "    </tr>\n",
       "    <tr>\n",
       "      <th>955</th>\n",
       "      <td>Past mo, how often did you lift weights</td>\n",
       "      <td>HAT17S</td>\n",
       "      <td>2444</td>\n",
       "      <td>2447.0</td>\n",
       "      <td>4</td>\n",
       "    </tr>\n",
       "    <tr>\n",
       "      <th>1192</th>\n",
       "      <td>Observed SP:overweight, average, or thin</td>\n",
       "      <td>HAY11J</td>\n",
       "      <td>3232</td>\n",
       "      <td>NaN</td>\n",
       "      <td>1</td>\n",
       "    </tr>\n",
       "  </tbody>\n",
       "</table>\n",
       "</div>"
      ],
      "text/plain": [
       "                                   description  variable  position  \\\n",
       "210       Mother's weight calculated in pounds     HFC2S      1300   \n",
       "212       Father's weight calculated in pounds     HFC4S      1302   \n",
       "414    Doctor told control/lose weight for HBP     HAE4B      1601   \n",
       "424   Now controlling or losing weight for HBP     HAE5B      1611   \n",
       "435            Doctor told lose weight for HBC     HAE8B      1622   \n",
       "439     Now losing weight to lower cholesterol     HAE9B      1626   \n",
       "444     On own for HBC, controlled/lost weight    HAE11B      1631   \n",
       "599   Difficulty lifting or carrying 10 pounds      HAH4      1807   \n",
       "705      Consider self over/under/right weight     HAM11      1964   \n",
       "707     Tried to lose weight in past 12 months     HAM13      1966   \n",
       "953    In the past month, did you lift weights     HAT16      2442   \n",
       "954   Lift weights activity - intensity rating  HAT16MET      2443   \n",
       "955    Past mo, how often did you lift weights    HAT17S      2444   \n",
       "1192  Observed SP:overweight, average, or thin    HAY11J      3232   \n",
       "\n",
       "      end position  length  \n",
       "210            NaN       1  \n",
       "212            NaN       1  \n",
       "414            NaN       1  \n",
       "424            NaN       1  \n",
       "435            NaN       1  \n",
       "439            NaN       1  \n",
       "444            NaN       1  \n",
       "599            NaN       1  \n",
       "705            NaN       1  \n",
       "707            NaN       1  \n",
       "953            NaN       1  \n",
       "954            NaN       1  \n",
       "955         2447.0       4  \n",
       "1192           NaN       1  "
      ]
     },
     "execution_count": 90,
     "metadata": {},
     "output_type": "execute_result"
    }
   ],
   "source": [
    "cols[cols.description.str.contains('weight|pounds') & ~cols.description.str.contains('(sample|interview|weighting|exam)')]"
   ]
  },
  {
   "cell_type": "code",
   "execution_count": 91,
   "metadata": {},
   "outputs": [
    {
     "name": "stderr",
     "output_type": "stream",
     "text": [
      "/usr/local/lib/python3.7/site-packages/pandas/core/strings.py:1952: UserWarning: This pattern has match groups. To actually get the groups, use str.extract.\n",
      "  return func(self, *args, **kwargs)\n"
     ]
    },
    {
     "data": {
      "text/html": [
       "<div>\n",
       "<style scoped>\n",
       "    .dataframe tbody tr th:only-of-type {\n",
       "        vertical-align: middle;\n",
       "    }\n",
       "\n",
       "    .dataframe tbody tr th {\n",
       "        vertical-align: top;\n",
       "    }\n",
       "\n",
       "    .dataframe thead th {\n",
       "        text-align: right;\n",
       "    }\n",
       "</style>\n",
       "<table border=\"1\" class=\"dataframe\">\n",
       "  <thead>\n",
       "    <tr style=\"text-align: right;\">\n",
       "      <th></th>\n",
       "      <th>description</th>\n",
       "      <th>variable</th>\n",
       "      <th>position</th>\n",
       "      <th>end position</th>\n",
       "      <th>length</th>\n",
       "    </tr>\n",
       "  </thead>\n",
       "  <tbody>\n",
       "    <tr>\n",
       "      <th>211</th>\n",
       "      <td>Mother's height calculated in inches</td>\n",
       "      <td>HFC3S</td>\n",
       "      <td>1301</td>\n",
       "      <td>NaN</td>\n",
       "      <td>1</td>\n",
       "    </tr>\n",
       "    <tr>\n",
       "      <th>213</th>\n",
       "      <td>Father's height calculated in inches</td>\n",
       "      <td>HFC5S</td>\n",
       "      <td>1303</td>\n",
       "      <td>NaN</td>\n",
       "      <td>1</td>\n",
       "    </tr>\n",
       "  </tbody>\n",
       "</table>\n",
       "</div>"
      ],
      "text/plain": [
       "                              description variable  position  end position  \\\n",
       "211  Mother's height calculated in inches    HFC3S      1301           NaN   \n",
       "213  Father's height calculated in inches    HFC5S      1303           NaN   \n",
       "\n",
       "     length  \n",
       "211       1  \n",
       "213       1  "
      ]
     },
     "execution_count": 91,
     "metadata": {},
     "output_type": "execute_result"
    }
   ],
   "source": [
    "cols[cols.description.str.contains('height|cm') & ~cols.description.str.contains('(sample|interview|weighting|exam)')]"
   ]
  },
  {
   "cell_type": "code",
   "execution_count": 92,
   "metadata": {},
   "outputs": [
    {
     "data": {
      "text/html": [
       "<div>\n",
       "<style scoped>\n",
       "    .dataframe tbody tr th:only-of-type {\n",
       "        vertical-align: middle;\n",
       "    }\n",
       "\n",
       "    .dataframe tbody tr th {\n",
       "        vertical-align: top;\n",
       "    }\n",
       "\n",
       "    .dataframe thead th {\n",
       "        text-align: right;\n",
       "    }\n",
       "</style>\n",
       "<table border=\"1\" class=\"dataframe\">\n",
       "  <thead>\n",
       "    <tr style=\"text-align: right;\">\n",
       "      <th></th>\n",
       "      <th>description</th>\n",
       "      <th>variable</th>\n",
       "      <th>position</th>\n",
       "      <th>end position</th>\n",
       "      <th>length</th>\n",
       "    </tr>\n",
       "  </thead>\n",
       "  <tbody>\n",
       "    <tr>\n",
       "      <th>450</th>\n",
       "      <td>If stand still is chest pain relieved</td>\n",
       "      <td>HAF5</td>\n",
       "      <td>1637</td>\n",
       "      <td>NaN</td>\n",
       "      <td>1</td>\n",
       "    </tr>\n",
       "    <tr>\n",
       "      <th>466</th>\n",
       "      <td>Leg pain begin while stand still/sitting</td>\n",
       "      <td>HAF15</td>\n",
       "      <td>1658</td>\n",
       "      <td>NaN</td>\n",
       "      <td>1</td>\n",
       "    </tr>\n",
       "    <tr>\n",
       "      <th>472</th>\n",
       "      <td>Is leg pain relieved if you stand still</td>\n",
       "      <td>HAF21</td>\n",
       "      <td>1664</td>\n",
       "      <td>NaN</td>\n",
       "      <td>1</td>\n",
       "    </tr>\n",
       "    <tr>\n",
       "      <th>478</th>\n",
       "      <td>Problem with ability to speak/understand</td>\n",
       "      <td>HAF27</td>\n",
       "      <td>1670</td>\n",
       "      <td>NaN</td>\n",
       "      <td>1</td>\n",
       "    </tr>\n",
       "    <tr>\n",
       "      <th>604</th>\n",
       "      <td>Difficulty standing from armless chair</td>\n",
       "      <td>HAH9</td>\n",
       "      <td>1812</td>\n",
       "      <td>NaN</td>\n",
       "      <td>1</td>\n",
       "    </tr>\n",
       "  </tbody>\n",
       "</table>\n",
       "</div>"
      ],
      "text/plain": [
       "                                  description variable  position  \\\n",
       "450     If stand still is chest pain relieved     HAF5      1637   \n",
       "466  Leg pain begin while stand still/sitting    HAF15      1658   \n",
       "472   Is leg pain relieved if you stand still    HAF21      1664   \n",
       "478  Problem with ability to speak/understand    HAF27      1670   \n",
       "604    Difficulty standing from armless chair     HAH9      1812   \n",
       "\n",
       "     end position  length  \n",
       "450           NaN       1  \n",
       "466           NaN       1  \n",
       "472           NaN       1  \n",
       "478           NaN       1  \n",
       "604           NaN       1  "
      ]
     },
     "execution_count": 92,
     "metadata": {},
     "output_type": "execute_result"
    }
   ],
   "source": [
    "cols[cols.description.str.contains('stand') ]"
   ]
  },
  {
   "cell_type": "markdown",
   "metadata": {},
   "source": [
    "Test Markdown"
   ]
  },
  {
   "cell_type": "code",
   "execution_count": 93,
   "metadata": {},
   "outputs": [
    {
     "data": {
      "image/png": "[encoded data removed]",
      "text/plain": [
       "<Figure size 432x288 with 1 Axes>"
      ]
     },
     "metadata": {
      "needs_background": "light"
     },
     "output_type": "display_data"
    }
   ],
   "source": [
    "nh.hist_amount('HAR4S');"
   ]
  },
  {
   "cell_type": "code",
   "execution_count": 94,
   "metadata": {},
   "outputs": [
    {
     "data": {
      "image/png": "[encoded data removed]",
      "text/plain": [
       "<Figure size 432x288 with 1 Axes>"
      ]
     },
     "metadata": {
      "needs_background": "light"
     },
     "output_type": "display_data"
    }
   ],
   "source": [
    "nh.hist_amount('HSAITMOR',outliers=1200);"
   ]
  },
  {
   "cell_type": "markdown",
   "metadata": {},
   "source": [
    "## Now analyze adult_final"
   ]
  },
  {
   "cell_type": "code",
   "execution_count": 95,
   "metadata": {},
   "outputs": [
    {
     "data": {
      "text/plain": [
       "<matplotlib.axes._subplots.AxesSubplot at 0x11c2bd210>"
      ]
     },
     "execution_count": 95,
     "metadata": {},
     "output_type": "execute_result"
    },
    {
     "data": {
      "image/png": "[encoded data removed]",
      "text/plain": [
       "<Figure size 432x288 with 1 Axes>"
      ]
     },
     "metadata": {
      "needs_background": "light"
     },
     "output_type": "display_data"
    }
   ],
   "source": [
    "adult_final.HSAITMOR.hist(bins='auto', range=(0,1200))"
   ]
  },
  {
   "cell_type": "markdown",
   "metadata": {},
   "source": [
    "## Create new fields in adult_final and youth_final"
   ]
  },
  {
   "cell_type": "markdown",
   "metadata": {},
   "source": [
    "Create new fields (XoY = X/Y) in youth_final and adult_final"
   ]
  },
  {
   "cell_type": "code",
   "execution_count": 96,
   "metadata": {},
   "outputs": [],
   "source": [
    "oldvariables = [ 'SPPFEV1', 'SPPFEV3', 'SPPFEV6', 'SPPFVC','SPPPEAK','SPPMMEF', 'SPPFEF75', 'SPPEXPIR']"
   ]
  },
  {
   "cell_type": "markdown",
   "metadata": {},
   "source": [
    "## Create new variables in adult_final final and youth_final"
   ]
  },
  {
   "cell_type": "markdown",
   "metadata": {},
   "source": [
    "newvariables = ['FEV1OFVC', 'FEV1OFEV6', 'PEFROFVC', 'PEFROFEV6', 'PEFROFEV1', 'FEV3OFVC', 'FEV6OFVC']"
   ]
  },
  {
   "cell_type": "markdown",
   "metadata": {},
   "source": [
    "def createvariables(df):\n",
    "    df['FEV1OFVC'] = df.SPPFEV1 / df.SPPFVC\n",
    "    df['FEV1OFEV6']= df.SPPFEV1 / df.SPPFEV6\n",
    "    df['PEFROFVC'] = df.SPPPEAK / df.SPPFVC\n",
    "    df['PEFROFEV6']= df.SPPPEAK / df.SPPFEV6\n",
    "    df['PEFROFEV1'] = df.SPPPEAK / df.SPPFEV1\n",
    "    df['FEV3OFVC'] = df.SPPFEV3 / df.SPPFVC\n",
    "    df['FEV6OFVC'] = df.SPPFEV6 / df.SPPFVC\n",
    "    return"
   ]
  },
  {
   "cell_type": "code",
   "execution_count": 97,
   "metadata": {},
   "outputs": [],
   "source": [
    "def createvariables(df):\n",
    "    df['FEV1OFVC'] = df.SPPFEV1 / df.SPPFVC\n",
    "    df['FEV1OFEV6']= df.SPPFEV1 / df.SPPFEV6\n",
    "    df['PEFROFVC'] = df.SPPPEAK / df.SPPFVC\n",
    "    df['PEFROFEV6']= df.SPPPEAK / df.SPPFEV6\n",
    "    df['PEFROFEV1'] = df.SPPPEAK / df.SPPFEV1\n",
    "    df['FEV3OFVC'] = df.SPPFEV3 / df.SPPFVC\n",
    "    df['FEV6OFVC'] = df.SPPFEV6 / df.SPPFVC\n",
    "    return\n",
    "    "
   ]
  },
  {
   "cell_type": "markdown",
   "metadata": {},
   "source": [
    "createvariables(adult_final) then youth_final"
   ]
  },
  {
   "cell_type": "code",
   "execution_count": 98,
   "metadata": {},
   "outputs": [],
   "source": [
    "createvariables(adult_final)"
   ]
  },
  {
   "cell_type": "code",
   "execution_count": 99,
   "metadata": {},
   "outputs": [],
   "source": [
    "createvariables(youth_final)"
   ]
  },
  {
   "cell_type": "code",
   "execution_count": 100,
   "metadata": {},
   "outputs": [
    {
     "data": {
      "text/plain": [
       "<matplotlib.axes._subplots.AxesSubplot at 0x1209ac790>"
      ]
     },
     "execution_count": 100,
     "metadata": {},
     "output_type": "execute_result"
    },
    {
     "data": {
      "image/png": "[encoded data removed]",
      "text/plain": [
       "<Figure size 432x288 with 1 Axes>"
      ]
     },
     "metadata": {
      "needs_background": "light"
     },
     "output_type": "display_data"
    }
   ],
   "source": [
    "adult_final.PEFROFVC.hist(bins='auto', range=(0,5))"
   ]
  },
  {
   "cell_type": "code",
   "execution_count": 101,
   "metadata": {},
   "outputs": [
    {
     "data": {
      "text/plain": [
       "<matplotlib.axes._subplots.AxesSubplot at 0x1206474d0>"
      ]
     },
     "execution_count": 101,
     "metadata": {},
     "output_type": "execute_result"
    },
    {
     "data": {
      "image/png": "[encoded data removed]",
      "text/plain": [
       "<Figure size 432x288 with 1 Axes>"
      ]
     },
     "metadata": {
      "needs_background": "light"
     },
     "output_type": "display_data"
    }
   ],
   "source": [
    "youth_final.PEFROFVC.hist(bins='auto', range=(0,5))"
   ]
  },
  {
   "cell_type": "code",
   "execution_count": 102,
   "metadata": {},
   "outputs": [
    {
     "data": {
      "text/plain": [
       "<matplotlib.axes._subplots.AxesSubplot at 0x120559710>"
      ]
     },
     "execution_count": 102,
     "metadata": {},
     "output_type": "execute_result"
    },
    {
     "data": {
      "image/png": "[encoded data removed]",
      "text/plain": [
       "<Figure size 432x288 with 1 Axes>"
      ]
     },
     "metadata": {
      "needs_background": "light"
     },
     "output_type": "display_data"
    }
   ],
   "source": [
    "adult_final.FEV1OFVC.hist(bins='auto')"
   ]
  },
  {
   "cell_type": "code",
   "execution_count": 103,
   "metadata": {},
   "outputs": [
    {
     "data": {
      "text/html": [
       "<div>\n",
       "<style scoped>\n",
       "    .dataframe tbody tr th:only-of-type {\n",
       "        vertical-align: middle;\n",
       "    }\n",
       "\n",
       "    .dataframe tbody tr th {\n",
       "        vertical-align: top;\n",
       "    }\n",
       "\n",
       "    .dataframe thead th {\n",
       "        text-align: right;\n",
       "    }\n",
       "</style>\n",
       "<table border=\"1\" class=\"dataframe\">\n",
       "  <thead>\n",
       "    <tr style=\"text-align: right;\">\n",
       "      <th></th>\n",
       "      <th>HAR1</th>\n",
       "      <th>HAR23</th>\n",
       "      <th>HAR26</th>\n",
       "      <th>HAC1E</th>\n",
       "      <th>HAC1F</th>\n",
       "      <th>HAC1G</th>\n",
       "      <th>HAC1O</th>\n",
       "      <th>HAL6</th>\n",
       "      <th>HAL10</th>\n",
       "      <th>HAL1</th>\n",
       "      <th>...</th>\n",
       "      <th>DMARETHN_exam</th>\n",
       "      <th>DMAETHNR_exam</th>\n",
       "      <th>HSAITMOR_exam</th>\n",
       "      <th>FEV1OFVC</th>\n",
       "      <th>FEV1OFEV6</th>\n",
       "      <th>PEFROFVC</th>\n",
       "      <th>PEFROFEV6</th>\n",
       "      <th>PEFROFEV1</th>\n",
       "      <th>FEV3OFVC</th>\n",
       "      <th>FEV6OFVC</th>\n",
       "    </tr>\n",
       "  </thead>\n",
       "  <tbody>\n",
       "    <tr>\n",
       "      <th>count</th>\n",
       "      <td>4944.0</td>\n",
       "      <td>4944.0</td>\n",
       "      <td>4944.000000</td>\n",
       "      <td>4944.0</td>\n",
       "      <td>4944.0</td>\n",
       "      <td>4944.000000</td>\n",
       "      <td>4944.000000</td>\n",
       "      <td>4944.000000</td>\n",
       "      <td>4944.000000</td>\n",
       "      <td>4944.0</td>\n",
       "      <td>...</td>\n",
       "      <td>4944.000000</td>\n",
       "      <td>4944.000000</td>\n",
       "      <td>4944.000000</td>\n",
       "      <td>4944.000000</td>\n",
       "      <td>4944.000000</td>\n",
       "      <td>4944.000000</td>\n",
       "      <td>4944.000000</td>\n",
       "      <td>4944.000000</td>\n",
       "      <td>4944.000000</td>\n",
       "      <td>4944.000000</td>\n",
       "    </tr>\n",
       "    <tr>\n",
       "      <th>mean</th>\n",
       "      <td>2.0</td>\n",
       "      <td>2.0</td>\n",
       "      <td>2.003641</td>\n",
       "      <td>2.0</td>\n",
       "      <td>2.0</td>\n",
       "      <td>2.001214</td>\n",
       "      <td>2.001416</td>\n",
       "      <td>2.001416</td>\n",
       "      <td>1.988269</td>\n",
       "      <td>2.0</td>\n",
       "      <td>...</td>\n",
       "      <td>2.040655</td>\n",
       "      <td>2.279531</td>\n",
       "      <td>461.141181</td>\n",
       "      <td>0.827377</td>\n",
       "      <td>0.837894</td>\n",
       "      <td>1.976936</td>\n",
       "      <td>2.003842</td>\n",
       "      <td>2.389732</td>\n",
       "      <td>1.119696</td>\n",
       "      <td>1.151874</td>\n",
       "    </tr>\n",
       "    <tr>\n",
       "      <th>std</th>\n",
       "      <td>0.0</td>\n",
       "      <td>0.0</td>\n",
       "      <td>0.147769</td>\n",
       "      <td>0.0</td>\n",
       "      <td>0.0</td>\n",
       "      <td>0.085332</td>\n",
       "      <td>0.099554</td>\n",
       "      <td>0.099554</td>\n",
       "      <td>0.169085</td>\n",
       "      <td>0.0</td>\n",
       "      <td>...</td>\n",
       "      <td>0.823589</td>\n",
       "      <td>0.960234</td>\n",
       "      <td>282.861426</td>\n",
       "      <td>0.073215</td>\n",
       "      <td>0.084317</td>\n",
       "      <td>0.371922</td>\n",
       "      <td>0.396056</td>\n",
       "      <td>0.402936</td>\n",
       "      <td>2.578364</td>\n",
       "      <td>2.575980</td>\n",
       "    </tr>\n",
       "    <tr>\n",
       "      <th>min</th>\n",
       "      <td>2.0</td>\n",
       "      <td>2.0</td>\n",
       "      <td>2.000000</td>\n",
       "      <td>2.0</td>\n",
       "      <td>2.0</td>\n",
       "      <td>2.000000</td>\n",
       "      <td>2.000000</td>\n",
       "      <td>2.000000</td>\n",
       "      <td>1.000000</td>\n",
       "      <td>2.0</td>\n",
       "      <td>...</td>\n",
       "      <td>1.000000</td>\n",
       "      <td>1.000000</td>\n",
       "      <td>204.000000</td>\n",
       "      <td>0.430769</td>\n",
       "      <td>0.014389</td>\n",
       "      <td>0.437173</td>\n",
       "      <td>0.026089</td>\n",
       "      <td>0.989630</td>\n",
       "      <td>0.689231</td>\n",
       "      <td>0.794219</td>\n",
       "    </tr>\n",
       "    <tr>\n",
       "      <th>25%</th>\n",
       "      <td>2.0</td>\n",
       "      <td>2.0</td>\n",
       "      <td>2.000000</td>\n",
       "      <td>2.0</td>\n",
       "      <td>2.0</td>\n",
       "      <td>2.000000</td>\n",
       "      <td>2.000000</td>\n",
       "      <td>2.000000</td>\n",
       "      <td>2.000000</td>\n",
       "      <td>2.0</td>\n",
       "      <td>...</td>\n",
       "      <td>1.000000</td>\n",
       "      <td>1.000000</td>\n",
       "      <td>287.000000</td>\n",
       "      <td>0.783432</td>\n",
       "      <td>0.803209</td>\n",
       "      <td>1.727486</td>\n",
       "      <td>1.757446</td>\n",
       "      <td>2.120506</td>\n",
       "      <td>0.926235</td>\n",
       "      <td>0.973650</td>\n",
       "    </tr>\n",
       "    <tr>\n",
       "      <th>50%</th>\n",
       "      <td>2.0</td>\n",
       "      <td>2.0</td>\n",
       "      <td>2.000000</td>\n",
       "      <td>2.0</td>\n",
       "      <td>2.0</td>\n",
       "      <td>2.000000</td>\n",
       "      <td>2.000000</td>\n",
       "      <td>2.000000</td>\n",
       "      <td>2.000000</td>\n",
       "      <td>2.0</td>\n",
       "      <td>...</td>\n",
       "      <td>2.000000</td>\n",
       "      <td>3.000000</td>\n",
       "      <td>401.000000</td>\n",
       "      <td>0.831555</td>\n",
       "      <td>0.842880</td>\n",
       "      <td>1.962849</td>\n",
       "      <td>1.997410</td>\n",
       "      <td>2.369035</td>\n",
       "      <td>0.958688</td>\n",
       "      <td>0.991842</td>\n",
       "    </tr>\n",
       "    <tr>\n",
       "      <th>75%</th>\n",
       "      <td>2.0</td>\n",
       "      <td>2.0</td>\n",
       "      <td>2.000000</td>\n",
       "      <td>2.0</td>\n",
       "      <td>2.0</td>\n",
       "      <td>2.000000</td>\n",
       "      <td>2.000000</td>\n",
       "      <td>2.000000</td>\n",
       "      <td>2.000000</td>\n",
       "      <td>2.0</td>\n",
       "      <td>...</td>\n",
       "      <td>3.000000</td>\n",
       "      <td>3.000000</td>\n",
       "      <td>579.250000</td>\n",
       "      <td>0.874832</td>\n",
       "      <td>0.880608</td>\n",
       "      <td>2.210040</td>\n",
       "      <td>2.245542</td>\n",
       "      <td>2.642060</td>\n",
       "      <td>0.985477</td>\n",
       "      <td>0.999456</td>\n",
       "    </tr>\n",
       "    <tr>\n",
       "      <th>max</th>\n",
       "      <td>2.0</td>\n",
       "      <td>2.0</td>\n",
       "      <td>8.000000</td>\n",
       "      <td>2.0</td>\n",
       "      <td>2.0</td>\n",
       "      <td>8.000000</td>\n",
       "      <td>9.000000</td>\n",
       "      <td>9.000000</td>\n",
       "      <td>8.000000</td>\n",
       "      <td>2.0</td>\n",
       "      <td>...</td>\n",
       "      <td>3.000000</td>\n",
       "      <td>3.000000</td>\n",
       "      <td>9999.000000</td>\n",
       "      <td>1.000000</td>\n",
       "      <td>1.000422</td>\n",
       "      <td>3.676483</td>\n",
       "      <td>3.588963</td>\n",
       "      <td>4.287374</td>\n",
       "      <td>66.682671</td>\n",
       "      <td>66.682671</td>\n",
       "    </tr>\n",
       "  </tbody>\n",
       "</table>\n",
       "<p>8 rows × 69 columns</p>\n",
       "</div>"
      ],
      "text/plain": [
       "         HAR1   HAR23        HAR26   HAC1E   HAC1F        HAC1G        HAC1O  \\\n",
       "count  4944.0  4944.0  4944.000000  4944.0  4944.0  4944.000000  4944.000000   \n",
       "mean      2.0     2.0     2.003641     2.0     2.0     2.001214     2.001416   \n",
       "std       0.0     0.0     0.147769     0.0     0.0     0.085332     0.099554   \n",
       "min       2.0     2.0     2.000000     2.0     2.0     2.000000     2.000000   \n",
       "25%       2.0     2.0     2.000000     2.0     2.0     2.000000     2.000000   \n",
       "50%       2.0     2.0     2.000000     2.0     2.0     2.000000     2.000000   \n",
       "75%       2.0     2.0     2.000000     2.0     2.0     2.000000     2.000000   \n",
       "max       2.0     2.0     8.000000     2.0     2.0     8.000000     9.000000   \n",
       "\n",
       "              HAL6        HAL10    HAL1  ...  DMARETHN_exam  DMAETHNR_exam  \\\n",
       "count  4944.000000  4944.000000  4944.0  ...    4944.000000    4944.000000   \n",
       "mean      2.001416     1.988269     2.0  ...       2.040655       2.279531   \n",
       "std       0.099554     0.169085     0.0  ...       0.823589       0.960234   \n",
       "min       2.000000     1.000000     2.0  ...       1.000000       1.000000   \n",
       "25%       2.000000     2.000000     2.0  ...       1.000000       1.000000   \n",
       "50%       2.000000     2.000000     2.0  ...       2.000000       3.000000   \n",
       "75%       2.000000     2.000000     2.0  ...       3.000000       3.000000   \n",
       "max       9.000000     8.000000     2.0  ...       3.000000       3.000000   \n",
       "\n",
       "       HSAITMOR_exam     FEV1OFVC    FEV1OFEV6     PEFROFVC    PEFROFEV6  \\\n",
       "count    4944.000000  4944.000000  4944.000000  4944.000000  4944.000000   \n",
       "mean      461.141181     0.827377     0.837894     1.976936     2.003842   \n",
       "std       282.861426     0.073215     0.084317     0.371922     0.396056   \n",
       "min       204.000000     0.430769     0.014389     0.437173     0.026089   \n",
       "25%       287.000000     0.783432     0.803209     1.727486     1.757446   \n",
       "50%       401.000000     0.831555     0.842880     1.962849     1.997410   \n",
       "75%       579.250000     0.874832     0.880608     2.210040     2.245542   \n",
       "max      9999.000000     1.000000     1.000422     3.676483     3.588963   \n",
       "\n",
       "         PEFROFEV1     FEV3OFVC     FEV6OFVC  \n",
       "count  4944.000000  4944.000000  4944.000000  \n",
       "mean      2.389732     1.119696     1.151874  \n",
       "std       0.402936     2.578364     2.575980  \n",
       "min       0.989630     0.689231     0.794219  \n",
       "25%       2.120506     0.926235     0.973650  \n",
       "50%       2.369035     0.958688     0.991842  \n",
       "75%       2.642060     0.985477     0.999456  \n",
       "max       4.287374    66.682671    66.682671  \n",
       "\n",
       "[8 rows x 69 columns]"
      ]
     },
     "execution_count": 103,
     "metadata": {},
     "output_type": "execute_result"
    }
   ],
   "source": [
    "adult_final.describe()"
   ]
  },
  {
   "cell_type": "code",
   "execution_count": 104,
   "metadata": {},
   "outputs": [
    {
     "data": {
      "text/plain": [
       "9.767452144892326"
      ]
     },
     "execution_count": 104,
     "metadata": {},
     "output_type": "execute_result"
    }
   ],
   "source": [
    "adult_final.BMPHT.std()"
   ]
  },
  {
   "cell_type": "code",
   "execution_count": 105,
   "metadata": {},
   "outputs": [
    {
     "data": {
      "text/html": [
       "<div>\n",
       "<style scoped>\n",
       "    .dataframe tbody tr th:only-of-type {\n",
       "        vertical-align: middle;\n",
       "    }\n",
       "\n",
       "    .dataframe tbody tr th {\n",
       "        vertical-align: top;\n",
       "    }\n",
       "\n",
       "    .dataframe thead th {\n",
       "        text-align: right;\n",
       "    }\n",
       "</style>\n",
       "<table border=\"1\" class=\"dataframe\">\n",
       "  <thead>\n",
       "    <tr style=\"text-align: right;\">\n",
       "      <th></th>\n",
       "      <th>HAR1</th>\n",
       "      <th>HAR23</th>\n",
       "      <th>HAR26</th>\n",
       "      <th>HAC1E</th>\n",
       "      <th>HAC1F</th>\n",
       "      <th>HAC1G</th>\n",
       "      <th>HAC1O</th>\n",
       "      <th>HAL6</th>\n",
       "      <th>HAL10</th>\n",
       "      <th>HAL1</th>\n",
       "      <th>...</th>\n",
       "      <th>DMARETHN_exam</th>\n",
       "      <th>DMAETHNR_exam</th>\n",
       "      <th>HSAITMOR_exam</th>\n",
       "      <th>FEV1OFVC</th>\n",
       "      <th>FEV1OFEV6</th>\n",
       "      <th>PEFROFVC</th>\n",
       "      <th>PEFROFEV6</th>\n",
       "      <th>PEFROFEV1</th>\n",
       "      <th>FEV3OFVC</th>\n",
       "      <th>FEV6OFVC</th>\n",
       "    </tr>\n",
       "  </thead>\n",
       "  <tbody>\n",
       "    <tr>\n",
       "      <th>count</th>\n",
       "      <td>4944.0</td>\n",
       "      <td>4944.0</td>\n",
       "      <td>4944.000000</td>\n",
       "      <td>4944.0</td>\n",
       "      <td>4944.0</td>\n",
       "      <td>4944.000000</td>\n",
       "      <td>4944.000000</td>\n",
       "      <td>4944.000000</td>\n",
       "      <td>4944.000000</td>\n",
       "      <td>4944.0</td>\n",
       "      <td>...</td>\n",
       "      <td>4944.000000</td>\n",
       "      <td>4944.000000</td>\n",
       "      <td>4944.000000</td>\n",
       "      <td>4944.000000</td>\n",
       "      <td>4944.000000</td>\n",
       "      <td>4944.000000</td>\n",
       "      <td>4944.000000</td>\n",
       "      <td>4944.000000</td>\n",
       "      <td>4944.000000</td>\n",
       "      <td>4944.000000</td>\n",
       "    </tr>\n",
       "    <tr>\n",
       "      <th>mean</th>\n",
       "      <td>2.0</td>\n",
       "      <td>2.0</td>\n",
       "      <td>2.003641</td>\n",
       "      <td>2.0</td>\n",
       "      <td>2.0</td>\n",
       "      <td>2.001214</td>\n",
       "      <td>2.001416</td>\n",
       "      <td>2.001416</td>\n",
       "      <td>1.988269</td>\n",
       "      <td>2.0</td>\n",
       "      <td>...</td>\n",
       "      <td>2.040655</td>\n",
       "      <td>2.279531</td>\n",
       "      <td>461.141181</td>\n",
       "      <td>0.827377</td>\n",
       "      <td>0.837894</td>\n",
       "      <td>1.976936</td>\n",
       "      <td>2.003842</td>\n",
       "      <td>2.389732</td>\n",
       "      <td>1.119696</td>\n",
       "      <td>1.151874</td>\n",
       "    </tr>\n",
       "    <tr>\n",
       "      <th>std</th>\n",
       "      <td>0.0</td>\n",
       "      <td>0.0</td>\n",
       "      <td>0.147769</td>\n",
       "      <td>0.0</td>\n",
       "      <td>0.0</td>\n",
       "      <td>0.085332</td>\n",
       "      <td>0.099554</td>\n",
       "      <td>0.099554</td>\n",
       "      <td>0.169085</td>\n",
       "      <td>0.0</td>\n",
       "      <td>...</td>\n",
       "      <td>0.823589</td>\n",
       "      <td>0.960234</td>\n",
       "      <td>282.861426</td>\n",
       "      <td>0.073215</td>\n",
       "      <td>0.084317</td>\n",
       "      <td>0.371922</td>\n",
       "      <td>0.396056</td>\n",
       "      <td>0.402936</td>\n",
       "      <td>2.578364</td>\n",
       "      <td>2.575980</td>\n",
       "    </tr>\n",
       "    <tr>\n",
       "      <th>min</th>\n",
       "      <td>2.0</td>\n",
       "      <td>2.0</td>\n",
       "      <td>2.000000</td>\n",
       "      <td>2.0</td>\n",
       "      <td>2.0</td>\n",
       "      <td>2.000000</td>\n",
       "      <td>2.000000</td>\n",
       "      <td>2.000000</td>\n",
       "      <td>1.000000</td>\n",
       "      <td>2.0</td>\n",
       "      <td>...</td>\n",
       "      <td>1.000000</td>\n",
       "      <td>1.000000</td>\n",
       "      <td>204.000000</td>\n",
       "      <td>0.430769</td>\n",
       "      <td>0.014389</td>\n",
       "      <td>0.437173</td>\n",
       "      <td>0.026089</td>\n",
       "      <td>0.989630</td>\n",
       "      <td>0.689231</td>\n",
       "      <td>0.794219</td>\n",
       "    </tr>\n",
       "    <tr>\n",
       "      <th>25%</th>\n",
       "      <td>2.0</td>\n",
       "      <td>2.0</td>\n",
       "      <td>2.000000</td>\n",
       "      <td>2.0</td>\n",
       "      <td>2.0</td>\n",
       "      <td>2.000000</td>\n",
       "      <td>2.000000</td>\n",
       "      <td>2.000000</td>\n",
       "      <td>2.000000</td>\n",
       "      <td>2.0</td>\n",
       "      <td>...</td>\n",
       "      <td>1.000000</td>\n",
       "      <td>1.000000</td>\n",
       "      <td>287.000000</td>\n",
       "      <td>0.783432</td>\n",
       "      <td>0.803209</td>\n",
       "      <td>1.727486</td>\n",
       "      <td>1.757446</td>\n",
       "      <td>2.120506</td>\n",
       "      <td>0.926235</td>\n",
       "      <td>0.973650</td>\n",
       "    </tr>\n",
       "    <tr>\n",
       "      <th>50%</th>\n",
       "      <td>2.0</td>\n",
       "      <td>2.0</td>\n",
       "      <td>2.000000</td>\n",
       "      <td>2.0</td>\n",
       "      <td>2.0</td>\n",
       "      <td>2.000000</td>\n",
       "      <td>2.000000</td>\n",
       "      <td>2.000000</td>\n",
       "      <td>2.000000</td>\n",
       "      <td>2.0</td>\n",
       "      <td>...</td>\n",
       "      <td>2.000000</td>\n",
       "      <td>3.000000</td>\n",
       "      <td>401.000000</td>\n",
       "      <td>0.831555</td>\n",
       "      <td>0.842880</td>\n",
       "      <td>1.962849</td>\n",
       "      <td>1.997410</td>\n",
       "      <td>2.369035</td>\n",
       "      <td>0.958688</td>\n",
       "      <td>0.991842</td>\n",
       "    </tr>\n",
       "    <tr>\n",
       "      <th>75%</th>\n",
       "      <td>2.0</td>\n",
       "      <td>2.0</td>\n",
       "      <td>2.000000</td>\n",
       "      <td>2.0</td>\n",
       "      <td>2.0</td>\n",
       "      <td>2.000000</td>\n",
       "      <td>2.000000</td>\n",
       "      <td>2.000000</td>\n",
       "      <td>2.000000</td>\n",
       "      <td>2.0</td>\n",
       "      <td>...</td>\n",
       "      <td>3.000000</td>\n",
       "      <td>3.000000</td>\n",
       "      <td>579.250000</td>\n",
       "      <td>0.874832</td>\n",
       "      <td>0.880608</td>\n",
       "      <td>2.210040</td>\n",
       "      <td>2.245542</td>\n",
       "      <td>2.642060</td>\n",
       "      <td>0.985477</td>\n",
       "      <td>0.999456</td>\n",
       "    </tr>\n",
       "    <tr>\n",
       "      <th>max</th>\n",
       "      <td>2.0</td>\n",
       "      <td>2.0</td>\n",
       "      <td>8.000000</td>\n",
       "      <td>2.0</td>\n",
       "      <td>2.0</td>\n",
       "      <td>8.000000</td>\n",
       "      <td>9.000000</td>\n",
       "      <td>9.000000</td>\n",
       "      <td>8.000000</td>\n",
       "      <td>2.0</td>\n",
       "      <td>...</td>\n",
       "      <td>3.000000</td>\n",
       "      <td>3.000000</td>\n",
       "      <td>9999.000000</td>\n",
       "      <td>1.000000</td>\n",
       "      <td>1.000422</td>\n",
       "      <td>3.676483</td>\n",
       "      <td>3.588963</td>\n",
       "      <td>4.287374</td>\n",
       "      <td>66.682671</td>\n",
       "      <td>66.682671</td>\n",
       "    </tr>\n",
       "  </tbody>\n",
       "</table>\n",
       "<p>8 rows × 69 columns</p>\n",
       "</div>"
      ],
      "text/plain": [
       "         HAR1   HAR23        HAR26   HAC1E   HAC1F        HAC1G        HAC1O  \\\n",
       "count  4944.0  4944.0  4944.000000  4944.0  4944.0  4944.000000  4944.000000   \n",
       "mean      2.0     2.0     2.003641     2.0     2.0     2.001214     2.001416   \n",
       "std       0.0     0.0     0.147769     0.0     0.0     0.085332     0.099554   \n",
       "min       2.0     2.0     2.000000     2.0     2.0     2.000000     2.000000   \n",
       "25%       2.0     2.0     2.000000     2.0     2.0     2.000000     2.000000   \n",
       "50%       2.0     2.0     2.000000     2.0     2.0     2.000000     2.000000   \n",
       "75%       2.0     2.0     2.000000     2.0     2.0     2.000000     2.000000   \n",
       "max       2.0     2.0     8.000000     2.0     2.0     8.000000     9.000000   \n",
       "\n",
       "              HAL6        HAL10    HAL1  ...  DMARETHN_exam  DMAETHNR_exam  \\\n",
       "count  4944.000000  4944.000000  4944.0  ...    4944.000000    4944.000000   \n",
       "mean      2.001416     1.988269     2.0  ...       2.040655       2.279531   \n",
       "std       0.099554     0.169085     0.0  ...       0.823589       0.960234   \n",
       "min       2.000000     1.000000     2.0  ...       1.000000       1.000000   \n",
       "25%       2.000000     2.000000     2.0  ...       1.000000       1.000000   \n",
       "50%       2.000000     2.000000     2.0  ...       2.000000       3.000000   \n",
       "75%       2.000000     2.000000     2.0  ...       3.000000       3.000000   \n",
       "max       9.000000     8.000000     2.0  ...       3.000000       3.000000   \n",
       "\n",
       "       HSAITMOR_exam     FEV1OFVC    FEV1OFEV6     PEFROFVC    PEFROFEV6  \\\n",
       "count    4944.000000  4944.000000  4944.000000  4944.000000  4944.000000   \n",
       "mean      461.141181     0.827377     0.837894     1.976936     2.003842   \n",
       "std       282.861426     0.073215     0.084317     0.371922     0.396056   \n",
       "min       204.000000     0.430769     0.014389     0.437173     0.026089   \n",
       "25%       287.000000     0.783432     0.803209     1.727486     1.757446   \n",
       "50%       401.000000     0.831555     0.842880     1.962849     1.997410   \n",
       "75%       579.250000     0.874832     0.880608     2.210040     2.245542   \n",
       "max      9999.000000     1.000000     1.000422     3.676483     3.588963   \n",
       "\n",
       "         PEFROFEV1     FEV3OFVC     FEV6OFVC  \n",
       "count  4944.000000  4944.000000  4944.000000  \n",
       "mean      2.389732     1.119696     1.151874  \n",
       "std       0.402936     2.578364     2.575980  \n",
       "min       0.989630     0.689231     0.794219  \n",
       "25%       2.120506     0.926235     0.973650  \n",
       "50%       2.369035     0.958688     0.991842  \n",
       "75%       2.642060     0.985477     0.999456  \n",
       "max       4.287374    66.682671    66.682671  \n",
       "\n",
       "[8 rows x 69 columns]"
      ]
     },
     "execution_count": 105,
     "metadata": {},
     "output_type": "execute_result"
    }
   ],
   "source": [
    "adult_final.describe()"
   ]
  },
  {
   "cell_type": "code",
   "execution_count": 106,
   "metadata": {},
   "outputs": [
    {
     "name": "stdout",
     "output_type": "stream",
     "text": [
      "['HAR1' 'HAR23' 'HAR26' 'HAC1E' 'HAC1F' 'HAC1G' 'HAC1O' 'HAL6' 'HAL10'\n",
      " 'HAL1' 'HAL3' 'HAL5' 'DMARACER' 'DMARETHN' 'DMAETHNR' 'HSSEX' 'HSAGEIR'\n",
      " 'HSAGEU' 'HXPAXTMR' 'HXPSESSR' 'HSAITMOR' 'HAR4S' 'SPPQ1' 'SPPQ2' 'SPPQ3'\n",
      " 'SPPQ4' 'SPPQ5' 'SPPMANEU' 'MYPB1' 'MYPB3' 'MYPB11' 'MYPB27A' 'MYPB27B'\n",
      " 'HSAGEIR_exam' 'HSAGEU_exam' 'HXPAXTMR_exam' 'HXPSESSR_exam' 'HXPEJ6A2'\n",
      " 'SPPTECH1' 'SPPTRIAL' 'SPPPEAK' 'SPPFEV05' 'SPPFEV1' 'SPPFEV3' 'SPPFEV6'\n",
      " 'SPPFVC' 'SPPMMEF' 'SPPFEF75' 'SPPTYPE' 'SPPREPRO' 'SPPTIME' 'SPPEXPIR'\n",
      " 'SPPTEMP' 'HSSEX_exam' 'WTPFHX6' 'MXPAXTMR' 'BMPHT' 'BMPSITHT' 'BMPWT'\n",
      " 'DMARACER_exam' 'DMARETHN_exam' 'DMAETHNR_exam' 'HSAITMOR_exam'\n",
      " 'FEV1OFVC' 'FEV1OFEV6' 'PEFROFVC' 'PEFROFEV6' 'PEFROFEV1' 'FEV3OFVC'\n",
      " 'FEV6OFVC']\n"
     ]
    }
   ],
   "source": [
    "print (adult_final.columns.values)"
   ]
  },
  {
   "cell_type": "code",
   "execution_count": 107,
   "metadata": {},
   "outputs": [
    {
     "name": "stdout",
     "output_type": "stream",
     "text": [
      "['HYE1G' 'HYE1H' 'HSSEX' 'HSAGEIR' 'HSAGEU' 'DMARACER' 'DMARETHN'\n",
      " 'DMAETHNR' 'HXPAXTMR' 'HXPSESSR' 'HYG2' 'HYG4' 'HYG7' 'HYG8' 'HYG12'\n",
      " 'HSAITMOR' 'SPPQ1' 'SPPQ2' 'SPPQ3' 'SPPQ4' 'SPPQ5' 'SPPMANEU' 'MYPB1'\n",
      " 'MYPB3' 'MYPB11' 'MYPB27A' 'MYPB27B' 'HSAGEIR_exam' 'HSAGEU_exam'\n",
      " 'HXPAXTMR_exam' 'HXPSESSR_exam' 'HXPEJ6A2' 'SPPTECH1' 'SPPTRIAL'\n",
      " 'SPPPEAK' 'SPPFEV05' 'SPPFEV1' 'SPPFEV3' 'SPPFEV6' 'SPPFVC' 'SPPMMEF'\n",
      " 'SPPFEF75' 'SPPTYPE' 'SPPREPRO' 'SPPTIME' 'SPPEXPIR' 'SPPTEMP'\n",
      " 'HSSEX_exam' 'WTPFHX6' 'MXPAXTMR' 'BMPHT' 'BMPSITHT' 'BMPWT'\n",
      " 'DMARACER_exam' 'DMARETHN_exam' 'DMAETHNR_exam' 'HSAITMOR_exam'\n",
      " 'FEV1OFVC' 'FEV1OFEV6' 'PEFROFVC' 'PEFROFEV6' 'PEFROFEV1' 'FEV3OFVC'\n",
      " 'FEV6OFVC']\n"
     ]
    }
   ],
   "source": [
    "print (youth_final.columns.values)"
   ]
  },
  {
   "cell_type": "code",
   "execution_count": 108,
   "metadata": {},
   "outputs": [
    {
     "data": {
      "text/html": [
       "<div>\n",
       "<style scoped>\n",
       "    .dataframe tbody tr th:only-of-type {\n",
       "        vertical-align: middle;\n",
       "    }\n",
       "\n",
       "    .dataframe tbody tr th {\n",
       "        vertical-align: top;\n",
       "    }\n",
       "\n",
       "    .dataframe thead th {\n",
       "        text-align: right;\n",
       "    }\n",
       "</style>\n",
       "<table border=\"1\" class=\"dataframe\">\n",
       "  <thead>\n",
       "    <tr style=\"text-align: right;\">\n",
       "      <th></th>\n",
       "      <th>HYE1G</th>\n",
       "      <th>HYE1H</th>\n",
       "      <th>HSSEX</th>\n",
       "      <th>HSAGEIR</th>\n",
       "      <th>HSAGEU</th>\n",
       "      <th>DMARACER</th>\n",
       "      <th>DMARETHN</th>\n",
       "      <th>DMAETHNR</th>\n",
       "      <th>HXPAXTMR</th>\n",
       "      <th>HXPSESSR</th>\n",
       "      <th>...</th>\n",
       "      <th>DMARETHN_exam</th>\n",
       "      <th>DMAETHNR_exam</th>\n",
       "      <th>HSAITMOR_exam</th>\n",
       "      <th>FEV1OFVC</th>\n",
       "      <th>FEV1OFEV6</th>\n",
       "      <th>PEFROFVC</th>\n",
       "      <th>PEFROFEV6</th>\n",
       "      <th>PEFROFEV1</th>\n",
       "      <th>FEV3OFVC</th>\n",
       "      <th>FEV6OFVC</th>\n",
       "    </tr>\n",
       "  </thead>\n",
       "  <tbody>\n",
       "    <tr>\n",
       "      <th>count</th>\n",
       "      <td>2812.0</td>\n",
       "      <td>2812.0</td>\n",
       "      <td>2812.000000</td>\n",
       "      <td>2812.000000</td>\n",
       "      <td>2812.0</td>\n",
       "      <td>2812.000000</td>\n",
       "      <td>2812.000000</td>\n",
       "      <td>2812.000000</td>\n",
       "      <td>0.0</td>\n",
       "      <td>0.0</td>\n",
       "      <td>...</td>\n",
       "      <td>2812.000000</td>\n",
       "      <td>2812.000000</td>\n",
       "      <td>2812.000000</td>\n",
       "      <td>2812.000000</td>\n",
       "      <td>2812.000000</td>\n",
       "      <td>2812.000000</td>\n",
       "      <td>2812.000000</td>\n",
       "      <td>2812.000000</td>\n",
       "      <td>2812.000000</td>\n",
       "      <td>2812.000000</td>\n",
       "    </tr>\n",
       "    <tr>\n",
       "      <th>mean</th>\n",
       "      <td>2.0</td>\n",
       "      <td>2.0</td>\n",
       "      <td>1.522760</td>\n",
       "      <td>11.535562</td>\n",
       "      <td>2.0</td>\n",
       "      <td>1.423898</td>\n",
       "      <td>2.100640</td>\n",
       "      <td>2.272404</td>\n",
       "      <td>NaN</td>\n",
       "      <td>NaN</td>\n",
       "      <td>...</td>\n",
       "      <td>2.100640</td>\n",
       "      <td>2.272404</td>\n",
       "      <td>143.881223</td>\n",
       "      <td>0.880166</td>\n",
       "      <td>0.882731</td>\n",
       "      <td>1.946408</td>\n",
       "      <td>1.952059</td>\n",
       "      <td>2.206381</td>\n",
       "      <td>0.983931</td>\n",
       "      <td>0.996933</td>\n",
       "    </tr>\n",
       "    <tr>\n",
       "      <th>std</th>\n",
       "      <td>0.0</td>\n",
       "      <td>0.0</td>\n",
       "      <td>0.499571</td>\n",
       "      <td>2.485636</td>\n",
       "      <td>0.0</td>\n",
       "      <td>0.540996</td>\n",
       "      <td>0.785523</td>\n",
       "      <td>0.962354</td>\n",
       "      <td>NaN</td>\n",
       "      <td>NaN</td>\n",
       "      <td>...</td>\n",
       "      <td>0.785523</td>\n",
       "      <td>0.962354</td>\n",
       "      <td>29.997678</td>\n",
       "      <td>0.060814</td>\n",
       "      <td>0.059107</td>\n",
       "      <td>0.339134</td>\n",
       "      <td>0.338571</td>\n",
       "      <td>0.320986</td>\n",
       "      <td>0.019944</td>\n",
       "      <td>0.007931</td>\n",
       "    </tr>\n",
       "    <tr>\n",
       "      <th>min</th>\n",
       "      <td>2.0</td>\n",
       "      <td>2.0</td>\n",
       "      <td>1.000000</td>\n",
       "      <td>8.000000</td>\n",
       "      <td>2.0</td>\n",
       "      <td>1.000000</td>\n",
       "      <td>1.000000</td>\n",
       "      <td>1.000000</td>\n",
       "      <td>NaN</td>\n",
       "      <td>NaN</td>\n",
       "      <td>...</td>\n",
       "      <td>1.000000</td>\n",
       "      <td>1.000000</td>\n",
       "      <td>96.000000</td>\n",
       "      <td>0.316216</td>\n",
       "      <td>0.413063</td>\n",
       "      <td>0.516216</td>\n",
       "      <td>0.583065</td>\n",
       "      <td>1.127809</td>\n",
       "      <td>0.581757</td>\n",
       "      <td>0.765541</td>\n",
       "    </tr>\n",
       "    <tr>\n",
       "      <th>25%</th>\n",
       "      <td>2.0</td>\n",
       "      <td>2.0</td>\n",
       "      <td>1.000000</td>\n",
       "      <td>9.000000</td>\n",
       "      <td>2.0</td>\n",
       "      <td>1.000000</td>\n",
       "      <td>1.000000</td>\n",
       "      <td>1.000000</td>\n",
       "      <td>NaN</td>\n",
       "      <td>NaN</td>\n",
       "      <td>...</td>\n",
       "      <td>1.000000</td>\n",
       "      <td>1.000000</td>\n",
       "      <td>119.000000</td>\n",
       "      <td>0.843177</td>\n",
       "      <td>0.846875</td>\n",
       "      <td>1.705966</td>\n",
       "      <td>1.712840</td>\n",
       "      <td>1.987114</td>\n",
       "      <td>0.975569</td>\n",
       "      <td>0.997822</td>\n",
       "    </tr>\n",
       "    <tr>\n",
       "      <th>50%</th>\n",
       "      <td>2.0</td>\n",
       "      <td>2.0</td>\n",
       "      <td>2.000000</td>\n",
       "      <td>11.000000</td>\n",
       "      <td>2.0</td>\n",
       "      <td>1.000000</td>\n",
       "      <td>2.000000</td>\n",
       "      <td>3.000000</td>\n",
       "      <td>NaN</td>\n",
       "      <td>NaN</td>\n",
       "      <td>...</td>\n",
       "      <td>2.000000</td>\n",
       "      <td>3.000000</td>\n",
       "      <td>139.000000</td>\n",
       "      <td>0.883417</td>\n",
       "      <td>0.885147</td>\n",
       "      <td>1.925579</td>\n",
       "      <td>1.929688</td>\n",
       "      <td>2.192586</td>\n",
       "      <td>0.989124</td>\n",
       "      <td>0.999312</td>\n",
       "    </tr>\n",
       "    <tr>\n",
       "      <th>75%</th>\n",
       "      <td>2.0</td>\n",
       "      <td>2.0</td>\n",
       "      <td>2.000000</td>\n",
       "      <td>14.000000</td>\n",
       "      <td>2.0</td>\n",
       "      <td>2.000000</td>\n",
       "      <td>3.000000</td>\n",
       "      <td>3.000000</td>\n",
       "      <td>NaN</td>\n",
       "      <td>NaN</td>\n",
       "      <td>...</td>\n",
       "      <td>3.000000</td>\n",
       "      <td>3.000000</td>\n",
       "      <td>168.000000</td>\n",
       "      <td>0.921068</td>\n",
       "      <td>0.922429</td>\n",
       "      <td>2.153725</td>\n",
       "      <td>2.161768</td>\n",
       "      <td>2.408977</td>\n",
       "      <td>0.999089</td>\n",
       "      <td>0.999575</td>\n",
       "    </tr>\n",
       "    <tr>\n",
       "      <th>max</th>\n",
       "      <td>2.0</td>\n",
       "      <td>2.0</td>\n",
       "      <td>2.000000</td>\n",
       "      <td>16.000000</td>\n",
       "      <td>2.0</td>\n",
       "      <td>3.000000</td>\n",
       "      <td>3.000000</td>\n",
       "      <td>3.000000</td>\n",
       "      <td>NaN</td>\n",
       "      <td>NaN</td>\n",
       "      <td>...</td>\n",
       "      <td>3.000000</td>\n",
       "      <td>3.000000</td>\n",
       "      <td>203.000000</td>\n",
       "      <td>1.000000</td>\n",
       "      <td>1.001080</td>\n",
       "      <td>3.369463</td>\n",
       "      <td>3.372642</td>\n",
       "      <td>3.652091</td>\n",
       "      <td>1.000000</td>\n",
       "      <td>1.000000</td>\n",
       "    </tr>\n",
       "  </tbody>\n",
       "</table>\n",
       "<p>8 rows × 63 columns</p>\n",
       "</div>"
      ],
      "text/plain": [
       "        HYE1G   HYE1H        HSSEX      HSAGEIR  HSAGEU     DMARACER  \\\n",
       "count  2812.0  2812.0  2812.000000  2812.000000  2812.0  2812.000000   \n",
       "mean      2.0     2.0     1.522760    11.535562     2.0     1.423898   \n",
       "std       0.0     0.0     0.499571     2.485636     0.0     0.540996   \n",
       "min       2.0     2.0     1.000000     8.000000     2.0     1.000000   \n",
       "25%       2.0     2.0     1.000000     9.000000     2.0     1.000000   \n",
       "50%       2.0     2.0     2.000000    11.000000     2.0     1.000000   \n",
       "75%       2.0     2.0     2.000000    14.000000     2.0     2.000000   \n",
       "max       2.0     2.0     2.000000    16.000000     2.0     3.000000   \n",
       "\n",
       "          DMARETHN     DMAETHNR  HXPAXTMR  HXPSESSR  ...  DMARETHN_exam  \\\n",
       "count  2812.000000  2812.000000       0.0       0.0  ...    2812.000000   \n",
       "mean      2.100640     2.272404       NaN       NaN  ...       2.100640   \n",
       "std       0.785523     0.962354       NaN       NaN  ...       0.785523   \n",
       "min       1.000000     1.000000       NaN       NaN  ...       1.000000   \n",
       "25%       1.000000     1.000000       NaN       NaN  ...       1.000000   \n",
       "50%       2.000000     3.000000       NaN       NaN  ...       2.000000   \n",
       "75%       3.000000     3.000000       NaN       NaN  ...       3.000000   \n",
       "max       3.000000     3.000000       NaN       NaN  ...       3.000000   \n",
       "\n",
       "       DMAETHNR_exam  HSAITMOR_exam     FEV1OFVC    FEV1OFEV6     PEFROFVC  \\\n",
       "count    2812.000000    2812.000000  2812.000000  2812.000000  2812.000000   \n",
       "mean        2.272404     143.881223     0.880166     0.882731     1.946408   \n",
       "std         0.962354      29.997678     0.060814     0.059107     0.339134   \n",
       "min         1.000000      96.000000     0.316216     0.413063     0.516216   \n",
       "25%         1.000000     119.000000     0.843177     0.846875     1.705966   \n",
       "50%         3.000000     139.000000     0.883417     0.885147     1.925579   \n",
       "75%         3.000000     168.000000     0.921068     0.922429     2.153725   \n",
       "max         3.000000     203.000000     1.000000     1.001080     3.369463   \n",
       "\n",
       "         PEFROFEV6    PEFROFEV1     FEV3OFVC     FEV6OFVC  \n",
       "count  2812.000000  2812.000000  2812.000000  2812.000000  \n",
       "mean      1.952059     2.206381     0.983931     0.996933  \n",
       "std       0.338571     0.320986     0.019944     0.007931  \n",
       "min       0.583065     1.127809     0.581757     0.765541  \n",
       "25%       1.712840     1.987114     0.975569     0.997822  \n",
       "50%       1.929688     2.192586     0.989124     0.999312  \n",
       "75%       2.161768     2.408977     0.999089     0.999575  \n",
       "max       3.372642     3.652091     1.000000     1.000000  \n",
       "\n",
       "[8 rows x 63 columns]"
      ]
     },
     "execution_count": 108,
     "metadata": {},
     "output_type": "execute_result"
    }
   ],
   "source": [
    "youth_final.describe()"
   ]
  },
  {
   "cell_type": "markdown",
   "metadata": {},
   "source": [
    "# Created other data bases to analyze"
   ]
  },
  {
   "cell_type": "markdown",
   "metadata": {},
   "source": [
    "# adult m20overb m20overcma f18overb f18overcma"
   ]
  },
  {
   "cell_type": "markdown",
   "metadata": {},
   "source": [
    "male 20 over. female 18 over; and cma (Caucasian-Mexican American) or b (black)\n",
    "NOT NEED m20over = adult_final.query('HSAGEIR >=20 & HSSEX == 1’)\n",
    "NOT NEED f18over = adult_final.query('HSAGEIR >=18 & HSSEX == 2’)\n",
    "m20overb  = adult_final.query(('HSAGEIR >= 20 & HSSEX == 1 & DMARETHN == 2'))\n",
    "m20overcma  = adult_final.query(('HSAGEIR >=20 & HSSEX == 1 & (DMARETHN == 1 | DMARETHN ==3)'))\n",
    "f18overcma = adult_final.query(('HSAGEIR >=18 & HSSEX == 2 & (DMARETHN == 1 | DMARETHN ==3)'))\n",
    "f18overb = adult_final.query(('HSAGEIR >=18 & HSSEX == 2 & DMARETHN == 2 '))\n",
    "m20overc  = adult_final.query(('HSAGEIR >= 20 & HSSEX == 1 & DMARETHN == 1'))\n",
    "m20overma  = adult_final.query(('HSAGEIR >= 20 & HSSEX == 1 & DMARETHN == 3'))\n",
    "f18overc = adult_final.query(('HSAGEIR >=18 & HSSEX == 2 & DMARETHN == 1 '))\n",
    "f18overma = adult_final.query(('HSAGEIR >=18 & HSSEX == 2 & DMARETHN == 3 '))\n",
    "\n",
    "DMARETHN – 1 non-Hispanic white, 2 non-hispanic black, 3 Mexican American, 4 other\n"
   ]
  },
  {
   "cell_type": "code",
   "execution_count": 109,
   "metadata": {},
   "outputs": [],
   "source": [
    "m20overb  = adult_final.query(('HSAGEIR >= 20 & HSSEX == 1 & DMARETHN == 2'))\n",
    "m20overcma  = adult_final.query(('HSAGEIR >=20 & HSSEX == 1 & (DMARETHN == 1 | DMARETHN ==3)'))\n",
    "f18overcma = adult_final.query(('HSAGEIR >=18 & HSSEX == 2 & (DMARETHN == 1 | DMARETHN ==3)'))\n",
    "f18overb = adult_final.query(('HSAGEIR >=18 & HSSEX == 2 & DMARETHN == 2 '))\n",
    "m20overc  = adult_final.query(('HSAGEIR >= 20 & HSSEX == 1 & DMARETHN == 1'))\n",
    "m20overma  = adult_final.query(('HSAGEIR >= 20 & HSSEX == 1 & DMARETHN == 3'))\n",
    "f18overc = adult_final.query(('HSAGEIR >=18 & HSSEX == 2 & DMARETHN == 1 '))\n",
    "f18overma = adult_final.query(('HSAGEIR >=18 & HSSEX == 2 & DMARETHN == 3 '))"
   ]
  },
  {
   "cell_type": "code",
   "execution_count": 110,
   "metadata": {},
   "outputs": [
    {
     "data": {
      "text/html": [
       "<div>\n",
       "<style scoped>\n",
       "    .dataframe tbody tr th:only-of-type {\n",
       "        vertical-align: middle;\n",
       "    }\n",
       "\n",
       "    .dataframe tbody tr th {\n",
       "        vertical-align: top;\n",
       "    }\n",
       "\n",
       "    .dataframe thead th {\n",
       "        text-align: right;\n",
       "    }\n",
       "</style>\n",
       "<table border=\"1\" class=\"dataframe\">\n",
       "  <thead>\n",
       "    <tr style=\"text-align: right;\">\n",
       "      <th></th>\n",
       "      <th>HAR1</th>\n",
       "      <th>HAR23</th>\n",
       "      <th>HAR26</th>\n",
       "      <th>HAC1E</th>\n",
       "      <th>HAC1F</th>\n",
       "      <th>HAC1G</th>\n",
       "      <th>HAC1O</th>\n",
       "      <th>HAL6</th>\n",
       "      <th>HAL10</th>\n",
       "      <th>HAL1</th>\n",
       "      <th>...</th>\n",
       "      <th>DMARETHN_exam</th>\n",
       "      <th>DMAETHNR_exam</th>\n",
       "      <th>HSAITMOR_exam</th>\n",
       "      <th>FEV1OFVC</th>\n",
       "      <th>FEV1OFEV6</th>\n",
       "      <th>PEFROFVC</th>\n",
       "      <th>PEFROFEV6</th>\n",
       "      <th>PEFROFEV1</th>\n",
       "      <th>FEV3OFVC</th>\n",
       "      <th>FEV6OFVC</th>\n",
       "    </tr>\n",
       "  </thead>\n",
       "  <tbody>\n",
       "    <tr>\n",
       "      <th>count</th>\n",
       "      <td>940.0</td>\n",
       "      <td>940.0</td>\n",
       "      <td>940.000000</td>\n",
       "      <td>940.0</td>\n",
       "      <td>940.0</td>\n",
       "      <td>940.0</td>\n",
       "      <td>940.0</td>\n",
       "      <td>940.0</td>\n",
       "      <td>940.000000</td>\n",
       "      <td>940.0</td>\n",
       "      <td>...</td>\n",
       "      <td>940.0</td>\n",
       "      <td>940.0</td>\n",
       "      <td>940.000000</td>\n",
       "      <td>940.000000</td>\n",
       "      <td>940.000000</td>\n",
       "      <td>940.000000</td>\n",
       "      <td>940.000000</td>\n",
       "      <td>940.000000</td>\n",
       "      <td>940.000000</td>\n",
       "      <td>940.000000</td>\n",
       "    </tr>\n",
       "    <tr>\n",
       "      <th>mean</th>\n",
       "      <td>2.0</td>\n",
       "      <td>2.0</td>\n",
       "      <td>2.006383</td>\n",
       "      <td>2.0</td>\n",
       "      <td>2.0</td>\n",
       "      <td>2.0</td>\n",
       "      <td>2.0</td>\n",
       "      <td>2.0</td>\n",
       "      <td>2.001064</td>\n",
       "      <td>2.0</td>\n",
       "      <td>...</td>\n",
       "      <td>2.0</td>\n",
       "      <td>3.0</td>\n",
       "      <td>454.567021</td>\n",
       "      <td>0.840877</td>\n",
       "      <td>0.849786</td>\n",
       "      <td>2.126010</td>\n",
       "      <td>2.149114</td>\n",
       "      <td>2.527313</td>\n",
       "      <td>1.161886</td>\n",
       "      <td>1.192515</td>\n",
       "    </tr>\n",
       "    <tr>\n",
       "      <th>std</th>\n",
       "      <td>0.0</td>\n",
       "      <td>0.0</td>\n",
       "      <td>0.195698</td>\n",
       "      <td>0.0</td>\n",
       "      <td>0.0</td>\n",
       "      <td>0.0</td>\n",
       "      <td>0.0</td>\n",
       "      <td>0.0</td>\n",
       "      <td>0.208955</td>\n",
       "      <td>0.0</td>\n",
       "      <td>...</td>\n",
       "      <td>0.0</td>\n",
       "      <td>0.0</td>\n",
       "      <td>365.326660</td>\n",
       "      <td>0.073238</td>\n",
       "      <td>0.083404</td>\n",
       "      <td>0.401784</td>\n",
       "      <td>0.424178</td>\n",
       "      <td>0.426289</td>\n",
       "      <td>3.257199</td>\n",
       "      <td>3.255036</td>\n",
       "    </tr>\n",
       "    <tr>\n",
       "      <th>min</th>\n",
       "      <td>2.0</td>\n",
       "      <td>2.0</td>\n",
       "      <td>2.000000</td>\n",
       "      <td>2.0</td>\n",
       "      <td>2.0</td>\n",
       "      <td>2.0</td>\n",
       "      <td>2.0</td>\n",
       "      <td>2.0</td>\n",
       "      <td>1.000000</td>\n",
       "      <td>2.0</td>\n",
       "      <td>...</td>\n",
       "      <td>2.0</td>\n",
       "      <td>3.0</td>\n",
       "      <td>216.000000</td>\n",
       "      <td>0.539349</td>\n",
       "      <td>0.014996</td>\n",
       "      <td>0.814485</td>\n",
       "      <td>0.041007</td>\n",
       "      <td>1.252341</td>\n",
       "      <td>0.763021</td>\n",
       "      <td>0.831153</td>\n",
       "    </tr>\n",
       "    <tr>\n",
       "      <th>25%</th>\n",
       "      <td>2.0</td>\n",
       "      <td>2.0</td>\n",
       "      <td>2.000000</td>\n",
       "      <td>2.0</td>\n",
       "      <td>2.0</td>\n",
       "      <td>2.0</td>\n",
       "      <td>2.0</td>\n",
       "      <td>2.0</td>\n",
       "      <td>2.000000</td>\n",
       "      <td>2.0</td>\n",
       "      <td>...</td>\n",
       "      <td>2.0</td>\n",
       "      <td>3.0</td>\n",
       "      <td>290.000000</td>\n",
       "      <td>0.796417</td>\n",
       "      <td>0.816220</td>\n",
       "      <td>1.877464</td>\n",
       "      <td>1.904474</td>\n",
       "      <td>2.242164</td>\n",
       "      <td>0.930757</td>\n",
       "      <td>0.976982</td>\n",
       "    </tr>\n",
       "    <tr>\n",
       "      <th>50%</th>\n",
       "      <td>2.0</td>\n",
       "      <td>2.0</td>\n",
       "      <td>2.000000</td>\n",
       "      <td>2.0</td>\n",
       "      <td>2.0</td>\n",
       "      <td>2.0</td>\n",
       "      <td>2.0</td>\n",
       "      <td>2.0</td>\n",
       "      <td>2.000000</td>\n",
       "      <td>2.0</td>\n",
       "      <td>...</td>\n",
       "      <td>2.0</td>\n",
       "      <td>3.0</td>\n",
       "      <td>402.500000</td>\n",
       "      <td>0.844470</td>\n",
       "      <td>0.855362</td>\n",
       "      <td>2.123378</td>\n",
       "      <td>2.150048</td>\n",
       "      <td>2.506843</td>\n",
       "      <td>0.961484</td>\n",
       "      <td>0.994880</td>\n",
       "    </tr>\n",
       "    <tr>\n",
       "      <th>75%</th>\n",
       "      <td>2.0</td>\n",
       "      <td>2.0</td>\n",
       "      <td>2.000000</td>\n",
       "      <td>2.0</td>\n",
       "      <td>2.0</td>\n",
       "      <td>2.0</td>\n",
       "      <td>2.0</td>\n",
       "      <td>2.0</td>\n",
       "      <td>2.000000</td>\n",
       "      <td>2.0</td>\n",
       "      <td>...</td>\n",
       "      <td>2.0</td>\n",
       "      <td>3.0</td>\n",
       "      <td>535.250000</td>\n",
       "      <td>0.889319</td>\n",
       "      <td>0.893043</td>\n",
       "      <td>2.366512</td>\n",
       "      <td>2.396010</td>\n",
       "      <td>2.790748</td>\n",
       "      <td>0.989477</td>\n",
       "      <td>0.999417</td>\n",
       "    </tr>\n",
       "    <tr>\n",
       "      <th>max</th>\n",
       "      <td>2.0</td>\n",
       "      <td>2.0</td>\n",
       "      <td>8.000000</td>\n",
       "      <td>2.0</td>\n",
       "      <td>2.0</td>\n",
       "      <td>2.0</td>\n",
       "      <td>2.0</td>\n",
       "      <td>2.0</td>\n",
       "      <td>8.000000</td>\n",
       "      <td>2.0</td>\n",
       "      <td>...</td>\n",
       "      <td>2.0</td>\n",
       "      <td>3.0</td>\n",
       "      <td>9999.000000</td>\n",
       "      <td>1.000000</td>\n",
       "      <td>1.000000</td>\n",
       "      <td>3.583281</td>\n",
       "      <td>3.588963</td>\n",
       "      <td>4.029915</td>\n",
       "      <td>66.682671</td>\n",
       "      <td>66.682671</td>\n",
       "    </tr>\n",
       "  </tbody>\n",
       "</table>\n",
       "<p>8 rows × 69 columns</p>\n",
       "</div>"
      ],
      "text/plain": [
       "        HAR1  HAR23       HAR26  HAC1E  HAC1F  HAC1G  HAC1O   HAL6  \\\n",
       "count  940.0  940.0  940.000000  940.0  940.0  940.0  940.0  940.0   \n",
       "mean     2.0    2.0    2.006383    2.0    2.0    2.0    2.0    2.0   \n",
       "std      0.0    0.0    0.195698    0.0    0.0    0.0    0.0    0.0   \n",
       "min      2.0    2.0    2.000000    2.0    2.0    2.0    2.0    2.0   \n",
       "25%      2.0    2.0    2.000000    2.0    2.0    2.0    2.0    2.0   \n",
       "50%      2.0    2.0    2.000000    2.0    2.0    2.0    2.0    2.0   \n",
       "75%      2.0    2.0    2.000000    2.0    2.0    2.0    2.0    2.0   \n",
       "max      2.0    2.0    8.000000    2.0    2.0    2.0    2.0    2.0   \n",
       "\n",
       "            HAL10   HAL1  ...  DMARETHN_exam  DMAETHNR_exam  HSAITMOR_exam  \\\n",
       "count  940.000000  940.0  ...          940.0          940.0     940.000000   \n",
       "mean     2.001064    2.0  ...            2.0            3.0     454.567021   \n",
       "std      0.208955    0.0  ...            0.0            0.0     365.326660   \n",
       "min      1.000000    2.0  ...            2.0            3.0     216.000000   \n",
       "25%      2.000000    2.0  ...            2.0            3.0     290.000000   \n",
       "50%      2.000000    2.0  ...            2.0            3.0     402.500000   \n",
       "75%      2.000000    2.0  ...            2.0            3.0     535.250000   \n",
       "max      8.000000    2.0  ...            2.0            3.0    9999.000000   \n",
       "\n",
       "         FEV1OFVC   FEV1OFEV6    PEFROFVC   PEFROFEV6   PEFROFEV1    FEV3OFVC  \\\n",
       "count  940.000000  940.000000  940.000000  940.000000  940.000000  940.000000   \n",
       "mean     0.840877    0.849786    2.126010    2.149114    2.527313    1.161886   \n",
       "std      0.073238    0.083404    0.401784    0.424178    0.426289    3.257199   \n",
       "min      0.539349    0.014996    0.814485    0.041007    1.252341    0.763021   \n",
       "25%      0.796417    0.816220    1.877464    1.904474    2.242164    0.930757   \n",
       "50%      0.844470    0.855362    2.123378    2.150048    2.506843    0.961484   \n",
       "75%      0.889319    0.893043    2.366512    2.396010    2.790748    0.989477   \n",
       "max      1.000000    1.000000    3.583281    3.588963    4.029915   66.682671   \n",
       "\n",
       "         FEV6OFVC  \n",
       "count  940.000000  \n",
       "mean     1.192515  \n",
       "std      3.255036  \n",
       "min      0.831153  \n",
       "25%      0.976982  \n",
       "50%      0.994880  \n",
       "75%      0.999417  \n",
       "max     66.682671  \n",
       "\n",
       "[8 rows x 69 columns]"
      ]
     },
     "execution_count": 110,
     "metadata": {},
     "output_type": "execute_result"
    }
   ],
   "source": [
    "f18overb.describe()"
   ]
  },
  {
   "cell_type": "markdown",
   "metadata": {},
   "source": [
    "## Make dataframes mlt20 and flt18 for b, c, ma and cma combining adult final and youth final"
   ]
  },
  {
   "cell_type": "markdown",
   "metadata": {},
   "source": [
    "male<20,female<18\n",
    "mlt20b = pd.concat([adult_final.query(('HSAGEIR < 20 & HSSEX == 1 & DMARETHN == 2 ')), youth_final.query(('HSSEX == 1 & DMARETHN == 2'))])\n",
    "mlt20cma = pd.concat([adult_final.query(('HSAGEIR < 20 & HSSEX == 1 & (DMARETHN == 1 | DMARETHN == 3) ')), youth_final.query(('HSSEX == 1 & (DMARETHN == 1 | DMARETHN == 3)'))])\n",
    "flt18b = pd.concat([adult_final.query(('HSAGEIR < 18 & HSSEX == 2 & DMARETHN == 2 ')), youth_final.query(('HSSEX == 2 & DMARETHN == 2'))])\n",
    "flt18cma = pd.concat([adult_final.query(('HSAGEIR < 18 & HSSEX == 2 & (DMARETHN == 1 | DMARETHN == 3) ')), youth_final.query(('HSSEX == 2 & (DMARETHN == 1 | DMARETHN == 3)'))])\n",
    "mlt20c = pd.concat([adult_final.query(('HSAGEIR < 20 & HSSEX == 1 & DMARETHN == 1 ')), youth_final.query(('HSSEX == 1 & DMARETHN == 1'))])\n",
    "mlt20ma = pd.concat([adult_final.query(('HSAGEIR < 20 & HSSEX == 1 & DMARETHN == 3 ')), youth_final.query(('HSSEX == 1 & DMARETHN == 3'))])\n",
    "flt18c = pd.concat([adult_final.query(('HSAGEIR < 18 & HSSEX == 2 & DMARETHN == 1 ')), youth_final.query(('HSSEX == 2 & DMARETHN == 1'))])\n",
    "flt18ma = pd.concat([adult_final.query(('HSAGEIR < 18 & HSSEX == 2 & DMARETHN == 3 ')), youth_final.query(('HSSEX == 2 & DMARETHN == 3'))])\n",
    "\n",
    "DMARETHN – 1 non-Hispanic white, 2 non-hispanic black, 3 Mexican American, 4 other"
   ]
  },
  {
   "cell_type": "code",
   "execution_count": 111,
   "metadata": {},
   "outputs": [],
   "source": [
    "mlt20b = pd.concat([adult_final.query(('HSAGEIR < 20 & HSSEX == 1 & DMARETHN == 2 ')), youth_final.query(('HSSEX == 1 & DMARETHN == 2'))])\n",
    "mlt20cma = pd.concat([adult_final.query(('HSAGEIR < 20 & HSSEX == 1 & (DMARETHN == 1 | DMARETHN == 3) ')), youth_final.query(('HSSEX == 1 & (DMARETHN == 1 | DMARETHN == 3)'))])\n",
    "flt18b = pd.concat([adult_final.query(('HSAGEIR < 18 & HSSEX == 2 & DMARETHN == 2 ')), youth_final.query(('HSSEX == 2 & DMARETHN == 2'))])\n",
    "flt18cma = pd.concat([adult_final.query(('HSAGEIR < 18 & HSSEX == 2 & (DMARETHN == 1 | DMARETHN == 3) ')), youth_final.query(('HSSEX == 2 & (DMARETHN == 1 | DMARETHN == 3)'))])\n",
    "mlt20c = pd.concat([adult_final.query(('HSAGEIR < 20 & HSSEX == 1 & DMARETHN == 1 ')), youth_final.query(('HSSEX == 1 & DMARETHN == 1'))])\n",
    "mlt20ma = pd.concat([adult_final.query(('HSAGEIR < 20 & HSSEX == 1 & DMARETHN == 3 ')), youth_final.query(('HSSEX == 1 & DMARETHN == 3'))])\n",
    "flt18c = pd.concat([adult_final.query(('HSAGEIR < 18 & HSSEX == 2 & DMARETHN == 1 ')), youth_final.query(('HSSEX == 2 & DMARETHN == 1'))])\n",
    "flt18ma = pd.concat([adult_final.query(('HSAGEIR < 18 & HSSEX == 2 & DMARETHN == 3 ')), youth_final.query(('HSSEX == 2 & DMARETHN == 3'))])"
   ]
  },
  {
   "cell_type": "markdown",
   "metadata": {},
   "source": [
    "# Create data bases for all male/female cma, black for ratios"
   ]
  },
  {
   "cell_type": "markdown",
   "metadata": {},
   "source": [
    "Groups for ratios\n",
    "All male cma  mallcma = pd.concat([m20overcma, mlt20cma])\n",
    "All male black  mallb = pd.concat([m20overb, mlt20b])\n",
    "All female cma  fallcma = pd.concat([f18overcma, flt18cma])\n",
    "All female black  fallb = pd.concat([f18overb, flt18b])\n",
    "All male c  mallc = pd.concat([m20overc, mlt20c])\n",
    "All male ma  mallma = pd.concat([m20overma, mlt20ma])\n",
    "All female c  fallc = pd.concat([f18overc, flt18c])\n",
    "All female ma  fallma = pd.concat([f18overma, flt18ma])"
   ]
  },
  {
   "cell_type": "code",
   "execution_count": 112,
   "metadata": {},
   "outputs": [],
   "source": [
    "mallcma = pd.concat([m20overcma, mlt20cma])\n",
    "mallb = pd.concat([m20overb, mlt20b])\n",
    "fallcma = pd.concat([f18overcma, flt18cma])\n",
    "fallb = pd.concat([f18overb, flt18b])\n",
    "mallc = pd.concat([m20overc, mlt20c])\n",
    "mallma = pd.concat([m20overma, mlt20ma])\n",
    "fallc = pd.concat([f18overc, flt18c])\n",
    "fallma = pd.concat([f18overma, flt18ma])"
   ]
  },
  {
   "cell_type": "markdown",
   "metadata": {},
   "source": [
    "## Check variable created"
   ]
  },
  {
   "cell_type": "code",
   "execution_count": 113,
   "metadata": {},
   "outputs": [
    {
     "data": {
      "text/plain": [
       "<matplotlib.axes._subplots.AxesSubplot at 0x120abce10>"
      ]
     },
     "execution_count": 113,
     "metadata": {},
     "output_type": "execute_result"
    },
    {
     "data": {
      "image/png": "[encoded data removed]",
      "text/plain": [
       "<Figure size 432x288 with 1 Axes>"
      ]
     },
     "metadata": {
      "needs_background": "light"
     },
     "output_type": "display_data"
    }
   ],
   "source": [
    "flt18b.SPPFEV1.hist(bins='auto')"
   ]
  },
  {
   "cell_type": "code",
   "execution_count": 114,
   "metadata": {},
   "outputs": [
    {
     "data": {
      "text/plain": [
       "<matplotlib.axes._subplots.AxesSubplot at 0x120810f90>"
      ]
     },
     "execution_count": 114,
     "metadata": {},
     "output_type": "execute_result"
    },
    {
     "data": {
      "image/png": "[encoded data removed]",
      "text/plain": [
       "<Figure size 432x288 with 1 Axes>"
      ]
     },
     "metadata": {
      "needs_background": "light"
     },
     "output_type": "display_data"
    }
   ],
   "source": [
    "flt18b.PEFROFVC.hist(bins='auto', range=(0,5))"
   ]
  },
  {
   "cell_type": "code",
   "execution_count": 115,
   "metadata": {},
   "outputs": [
    {
     "data": {
      "text/plain": [
       "<matplotlib.axes._subplots.AxesSubplot at 0x11d2b2dd0>"
      ]
     },
     "execution_count": 115,
     "metadata": {},
     "output_type": "execute_result"
    },
    {
     "data": {
      "image/png": "[encoded data removed]",
      "text/plain": [
       "<Figure size 432x288 with 1 Axes>"
      ]
     },
     "metadata": {
      "needs_background": "light"
     },
     "output_type": "display_data"
    }
   ],
   "source": [
    "flt18b.HSAITMOR.hist(bins='auto', range=(0,300))"
   ]
  },
  {
   "cell_type": "code",
   "execution_count": 116,
   "metadata": {},
   "outputs": [
    {
     "data": {
      "text/plain": [
       "<matplotlib.axes._subplots.AxesSubplot at 0x12035e990>"
      ]
     },
     "execution_count": 116,
     "metadata": {},
     "output_type": "execute_result"
    },
    {
     "data": {
      "image/png": "[encoded data removed]",
      "text/plain": [
       "<Figure size 432x288 with 1 Axes>"
      ]
     },
     "metadata": {
      "needs_background": "light"
     },
     "output_type": "display_data"
    }
   ],
   "source": [
    "flt18b.BMPHT.hist(bins='auto', range=(0,300))"
   ]
  },
  {
   "cell_type": "markdown",
   "metadata": {},
   "source": [
    "## Frames to Analyze"
   ]
  },
  {
   "cell_type": "markdown",
   "metadata": {},
   "source": [
    "framestoanalyze = [m20overb, m20overcma, m20overc, m20overma, f18overb, f18overcma, f18overc, f18overma, \n",
    "                   mlt20b, mlt20cma, mlt20c, mlt20ma, flt18b, flt18cma, flt18c, flt18ma, \n",
    "                   mallcma, mallb, mallc, mallma, fallcma, fallb, fallc, fallma]"
   ]
  },
  {
   "cell_type": "code",
   "execution_count": 117,
   "metadata": {},
   "outputs": [],
   "source": [
    "framestoanalyze = [m20overb, m20overcma, m20overc, m20overma, f18overb, f18overcma, f18overc, f18overma, \n",
    "                   mlt20b, mlt20cma, mlt20c, mlt20ma, flt18b, flt18cma, flt18c, flt18ma, \n",
    "                   mallcma, mallb, mallc, mallma, fallcma, fallb, fallc, fallma]"
   ]
  },
  {
   "cell_type": "markdown",
   "metadata": {},
   "source": [
    "HAD BEEN. framestoanalyze = [m20overb, m20overcma, f18overb, f18overcma, mlt20b, mlt20cma, flt18b, flt18cma, mallcma, mallb, fallcma, fallb]\n"
   ]
  },
  {
   "cell_type": "markdown",
   "metadata": {},
   "source": [
    "# framesto analyze names"
   ]
  },
  {
   "cell_type": "markdown",
   "metadata": {},
   "source": [
    "m20overb.name = 'm20overb'\n",
    "m20overcma.name = 'm20overcma'\n",
    "f18overb.name = 'f18overb'\n",
    "f18overcma.name = 'f18overcma'\n",
    "mlt20b.name = 'mlt20b'\n",
    "mlt20cma.name = 'mlt20cma'\n",
    "flt18b.name = 'flt18b'\n",
    "flt18cma.name = 'flt18cma'\n",
    "mallcma.name = 'mallcma'\n",
    "mallb.name = 'mallb'\n",
    "fallcma.name = 'fallcma'\n",
    "fallb.name = 'fallb'\n",
    "m20overc.name = 'm20overc'\n",
    "m20overma.name = 'm20ovecma'\n",
    "f18overc.name = 'f18overc'\n",
    "f18overma.name = 'f18overma'\n",
    "mlt20c.name = 'mlt20c'\n",
    "mlt20ma.name = 'mlt20ma'\n",
    "flt18c.name = 'flt18c'\n",
    "flt18ma.name = 'flt18ma'\n",
    "mallma.name = 'mallma'\n",
    "mallc.name = 'mallc'\n",
    "fallma.name = 'fallma'\n",
    "fallc.name = 'fallc'"
   ]
  },
  {
   "cell_type": "code",
   "execution_count": 118,
   "metadata": {},
   "outputs": [],
   "source": [
    "m20overb.name = 'm20overb'\n",
    "m20overcma.name = 'm20overcma'\n",
    "f18overb.name = 'f18overb'\n",
    "f18overcma.name = 'f18overcma'\n",
    "mlt20b.name = 'mlt20b'\n",
    "mlt20cma.name = 'mlt20cma'\n",
    "flt18b.name = 'flt18b'\n",
    "flt18cma.name = 'flt18cma'\n",
    "mallcma.name = 'mallcma'\n",
    "mallb.name = 'mallb'\n",
    "fallcma.name = 'fallcma'\n",
    "fallb.name = 'fallb'\n",
    "m20overc.name = 'm20overc'\n",
    "m20overma.name = 'm20ovecma'\n",
    "f18overc.name = 'f18overc'\n",
    "f18overma.name = 'f18overma'\n",
    "mlt20c.name = 'mlt20c'\n",
    "mlt20ma.name = 'mlt20ma'\n",
    "flt18c.name = 'flt18c'\n",
    "flt18ma.name = 'flt18ma'\n",
    "mallma.name = 'mallma'\n",
    "mallc.name = 'mallc'\n",
    "fallma.name = 'fallma'\n",
    "fallc.name = 'fallc'"
   ]
  },
  {
   "cell_type": "markdown",
   "metadata": {},
   "source": [
    "## Variables non-ratio"
   ]
  },
  {
   "cell_type": "markdown",
   "metadata": {},
   "source": [
    "varsnonratio = [ 'SPPFEV1', 'SPPFEV3', 'SPPFEV6', 'SPPFVC','SPPPEAK','SPPMMEF', 'SPPFEF75', 'SPPEXPIR']"
   ]
  },
  {
   "cell_type": "code",
   "execution_count": 119,
   "metadata": {},
   "outputs": [],
   "source": [
    "varsnonratio = [ 'SPPFEV1', 'SPPFEV3', 'SPPFEV6', 'SPPFVC','SPPPEAK','SPPMMEF', 'SPPFEF75', 'SPPEXPIR']"
   ]
  },
  {
   "cell_type": "code",
   "execution_count": 120,
   "metadata": {},
   "outputs": [
    {
     "name": "stdout",
     "output_type": "stream",
     "text": [
      "SPPFEV1\n"
     ]
    }
   ],
   "source": [
    "print (varsnonratio[0])"
   ]
  },
  {
   "cell_type": "markdown",
   "metadata": {},
   "source": [
    "## Variables ratio"
   ]
  },
  {
   "cell_type": "markdown",
   "metadata": {},
   "source": [
    "varsratio = ['FEV1OFVC', 'FEV1OFEV6', 'PEFROFVC', 'PEFROFEV6', 'PEFROFEV1', 'FEV3OFVC', 'FEV6OFVC']"
   ]
  },
  {
   "cell_type": "code",
   "execution_count": 121,
   "metadata": {},
   "outputs": [],
   "source": [
    "varsratio= ['FEV1OFVC', 'FEV1OFEV6', 'PEFROFVC', 'PEFROFEV6', 'PEFROFEV1', 'FEV3OFVC', 'FEV6OFVC']"
   ]
  },
  {
   "cell_type": "markdown",
   "metadata": {},
   "source": [
    "## Now fit curves"
   ]
  },
  {
   "cell_type": "markdown",
   "metadata": {},
   "source": [
    "using example in lmfit.github.io/lmfit-py/model.html"
   ]
  },
  {
   "cell_type": "markdown",
   "metadata": {},
   "source": [
    "import matplotlib.pyplot as plt"
   ]
  },
  {
   "cell_type": "code",
   "execution_count": 125,
   "metadata": {},
   "outputs": [],
   "source": [
    "import matplotlib.pyplot as plt"
   ]
  },
  {
   "cell_type": "markdown",
   "metadata": {},
   "source": [
    "## from sklearn.linear_model import LinearRegression"
   ]
  },
  {
   "cell_type": "code",
   "execution_count": 138,
   "metadata": {},
   "outputs": [],
   "source": [
    "from sklearn.linear_model import LinearRegression"
   ]
  },
  {
   "cell_type": "markdown",
   "metadata": {},
   "source": [
    "# Linear Regression Age  linear_regage (data, y_var)"
   ]
  },
  {
   "cell_type": "markdown",
   "metadata": {},
   "source": [
    "  #  height = 'BMPHT'\n",
    "# age = 'HSAGEIR'/12 - or age in months/12\n",
    "def linear_regage(data, y_var):\n",
    "    X = data['HSAITMOR']/12  # to convert to year\n",
    "    X = np.array(X).reshape(-1, 1)\n",
    "    y = data[y_var]\n",
    "    lr = LinearRegression().fit(X, y)\n",
    "        # do linear regression fit on X, y\n",
    "    print(data.name, \", \",y_var, \", \",lr.intercept_, \", \", lr.coef_, \", \", lr.score(X, y), \", \", data.loc[:,y_var].std(), \", \", data.loc[:,y_var].count())\n",
    "    return lr.intercept_, lr.coef_\n",
    "    #. prints intercept, slope, and r squared\n",
    "   # print (lr.std_)\n",
    "   # return lr\n",
    "\n",
    "# reg.coef_"
   ]
  },
  {
   "cell_type": "markdown",
   "metadata": {},
   "source": [
    "# age = 'HSAGEIR'/12 - or age in months/12\n",
    "def linear_regage(data, y_var):\n",
    "    X = data['HSAGEIR']/12  # to convert to year\n",
    "    X = np.array(X).reshape(-1, 1)\n",
    "    y = data[y_var]\n",
    "    lr = LinearRegression().fit(X, y)\n",
    "        # do linear regression fit on X, y\n",
    " #   print(data.name, \", \",y_var, \", \",lr.intercept_, \", \", lr.coef_, \", \", lr.score(X, y), \", \", data.loc[:,y_var].std(), \", \", data.loc[:,y_var].count())\n",
    " # now returns values rather than print - intercept, slope, R2, std, count\n",
    "    return lr.intercept_, lr.coef_, lr.score(X, y),  data.loc[:,y_var].std(), data.loc[:,y_var].count()"
   ]
  },
  {
   "cell_type": "code",
   "execution_count": 147,
   "metadata": {},
   "outputs": [],
   "source": [
    "# age = 'HSAGEIR'/12 - or age in months/12\n",
    "def linear_regage(data, y_var):\n",
    "    X = data['HSAITMOR_exam']/12  # to convert to year do months at exam\n",
    "    X = np.array(X).reshape(-1, 1)\n",
    "    y = data[y_var]\n",
    "    lr = LinearRegression().fit(X, y)\n",
    "        # do linear regression fit on X, y\n",
    " #   print(data.name, \", \",y_var, \", \",lr.intercept_, \", \", lr.coef_, \", \", lr.score(X, y), \", \", data.loc[:,y_var].std(), \", \", data.loc[:,y_var].count())\n",
    " # now returns values rather than print - intercept, slope, R2, std, count\n",
    "    return lr.intercept_, lr.coef_, lr.score(X, y),  data.loc[:,y_var].std(), data.loc[:,y_var].count()"
   ]
  },
  {
   "cell_type": "markdown",
   "metadata": {},
   "source": [
    "reg = linear_regage (m20overc,'FEV1OFVC')"
   ]
  },
  {
   "cell_type": "code",
   "execution_count": 148,
   "metadata": {},
   "outputs": [
    {
     "name": "stdout",
     "output_type": "stream",
     "text": [
      "FEV1OFVC\n",
      "FEV1OFEV6\n",
      "PEFROFVC\n",
      "PEFROFEV6\n",
      "PEFROFEV1\n",
      "FEV3OFVC\n",
      "FEV6OFVC\n"
     ]
    }
   ],
   "source": [
    "for x in varsratio:\n",
    "    print (x)"
   ]
  },
  {
   "cell_type": "markdown",
   "metadata": {},
   "source": [
    "## For all frames, for all ratios to analyze, do regression vs age & save in resultsratio"
   ]
  },
  {
   "cell_type": "markdown",
   "metadata": {},
   "source": [
    "print ('Linear Regression of variables in form y = intercept + slope * age')\n",
    "print ('dataframe ,  variable,        intercept,          slope,            R squared,         standard deviation')\n",
    "for y in framestoanalyze:\n",
    "Save results in dataframe resultsratio"
   ]
  },
  {
   "cell_type": "markdown",
   "metadata": {},
   "source": [
    "# First initialize resultsratio dataframe\n",
    "column_names = [\"dfnvarn\",\"dfname\", \"var\", \"intercept\", \"slope\", \"r2\", \"std\", \"count\"]\n",
    "# print (column_names)\n",
    "resultsratio = pd.DataFrame(columns = column_names)\n",
    "resultsratio.name = 'resultsratio'\n",
    "print (resultsratio)\n",
    "print ('Linear Regression of variables in form y = intercept + slope * age')\n",
    "print ('dataframe ,  variable,        intercept,          slope,            R squared,         standard deviation,  count')\n",
    "for y in framestoanalyze:\n",
    "  #  print (y.name)\n",
    "    for xx in varsratio:\n",
    " #       print(y, \" \", xx)\n",
    "        reg = linear_regage (y,xx)\n",
    "        intercept, slope, r2, std, count = reg\n",
    "        slope, = slope\n",
    "        dfnvarn = y.name + xx\n",
    "        print (dfnvarn, ' ', y.name, ', ', xx, ', ', intercept, ', ', slope, ', ', r2, ', ', std, ', ',count)\n",
    "    #   now need save these in array of dataframe.variable, intercept slope\n",
    "        var = y.name\n",
    "    \n",
    "#  Columns: [dfnvarn, dfname, var, intercept, slope, r2, std, count] \n",
    "\n",
    "        df2 = {'dfnvarn': dfnvarn, 'dfname': y.name, 'var': xx, 'intercept': intercept, 'slope':slope, 'r2':r2, 'std':std, 'count':count}                          \n",
    "        resultsratio = resultsratio.append(df2, ignore_index=True)    \n",
    "print ('at end')\n",
    "resultsratio.set_index('dfnvarn', inplace=True)\n",
    "print (resultsratio)\n",
    "    \n",
    "    \n",
    "    \n",
    "    "
   ]
  },
  {
   "cell_type": "code",
   "execution_count": null,
   "metadata": {},
   "outputs": [],
   "source": [
    "# First initialize resultsratio dataframe\n",
    "column_names = [\"dfnvarn\",\"dfname\", \"var\", \"intercept\", \"slope\", \"r2\", \"std\", \"count\"]\n",
    "# print (column_names)\n",
    "resultsratio = pd.DataFrame(columns = column_names)\n",
    "resultsratio.name = 'resultsratio'\n",
    "print (resultsratio)\n",
    "print ('Linear Regression of variables in form y = intercept + slope * age')\n",
    "print ('dataframe ,  variable,        intercept,          slope,            R squared,         standard deviation,  count')\n",
    "for y in framestoanalyze:\n",
    "  #  print (y.name)\n",
    "    for xx in varsratio:\n",
    " #       print(y, \" \", xx)\n",
    "        reg = linear_regage (y,xx)\n",
    "        intercept, slope, r2, std, count = reg\n",
    "        slope, = slope\n",
    "        dfnvarn = y.name + xx\n",
    "        print (dfnvarn, ' ', y.name, ', ', xx, ', ', intercept, ', ', slope, ', ', r2, ', ', std, ', ',count)\n",
    "    #   now need save these in array of dataframe.variable, intercept slope\n",
    "        var = y.name\n",
    "    \n",
    "#  Columns: [dfnvarn, dfname, var, intercept, slope, r2, std, count] \n",
    "\n",
    "        df2 = {'dfnvarn': dfnvarn, 'dfname': y.name, 'var': xx, 'intercept': intercept, 'slope':slope, 'r2':r2, 'std':std, 'count':count}                          \n",
    "        resultsratio = resultsratio.append(df2, ignore_index=True)    \n",
    "print ('at end')\n",
    "resultsratio.set_index('dfnvarn', inplace=True)\n",
    "print (resultsratio)\n",
    "    \n",
    "    "
   ]
  },
  {
   "cell_type": "markdown",
   "metadata": {},
   "source": [
    "# Now do regression for non-ratios height_age_reg(data, y_var)"
   ]
  },
  {
   "cell_type": "markdown",
   "metadata": {},
   "source": [
    "def height_age_reg(data, y_var):\n",
    "# convert agemonths to years\n",
    "    X_age = data['HSAGEIR']/12\n",
    "    X_age = np.array(X_age).reshape(-1, 1)\n",
    "    X_age = np.hstack((X_age, X_age**2))\n",
    "    X_height = data['BMPHT']**2\n",
    "    X_height = np.array(X_height).reshape(-1, 1)\n",
    "    X = np.concatenate((X_age, X_height), axis=1)\n",
    "    y = data[y_var]\n",
    "    lr = LinearRegression().fit(X, y)\n",
    "        # do linear regression fit on X, y\n",
    "    print(data.name, \", \",y_var, \", \",lr.intercept_, \",\", lr.coef_, \",\", lr.score(X, y), \",\",  data.loc[:,y_var].std(), \",\",  data.loc[:,y_var].count())\n",
    "    return data.name, y_var, lr.intercept_, lr.coef_, lr.score(X, y), data.loc[:,y_var].std(), data.loc[:,y_var].count()"
   ]
  },
  {
   "cell_type": "code",
   "execution_count": 159,
   "metadata": {},
   "outputs": [],
   "source": [
    "def height_age_reg(data, y_var):\n",
    "# convert agemonths to years\n",
    "    X_age = data['HSAGEIR_exam']/12\n",
    "    X_age = np.array(X_age).reshape(-1, 1)\n",
    "    X_age = np.hstack((X_age, X_age**2))\n",
    "    X_height = data['BMPHT']**2\n",
    "    X_height = np.array(X_height).reshape(-1, 1)\n",
    "    X = np.concatenate((X_age, X_height), axis=1)\n",
    "    y = data[y_var]\n",
    "    lr = LinearRegression().fit(X, y)\n",
    "        # do linear regression fit on X, y\n",
    "    print(data.name, \", \",y_var, \", \",lr.intercept_, \",\", lr.coef_, \",\", lr.score(X, y), \",\",  data.loc[:,y_var].std(), \",\",  data.loc[:,y_var].count())\n",
    "    return data.name, y_var, lr.intercept_, lr.coef_, lr.score(X, y), data.loc[:,y_var].std(), data.loc[:,y_var].count()"
   ]
  },
  {
   "cell_type": "markdown",
   "metadata": {},
   "source": [
    "# Create Resultsnonratio with all of regression results for all dataframes all nonratio variables"
   ]
  },
  {
   "cell_type": "markdown",
   "metadata": {},
   "source": [
    "# First initialize resultsratio dataframe\n",
    "column_names = [\"dfnvarn\",\"dfname\", \"var\", \"intercept\", \"b1\", \"b2\", \"b3\", \"r2\", \"std\", \"count\"]\n",
    "# print (column_names)\n",
    "resultsnonratio = pd.DataFrame(columns = column_names)\n",
    "resultsnonratio.name = 'resultsnonratio'\n",
    "print (resultsnonratio)\n",
    "print ('Linear Regression of variables in form y = intercept + b1 * age + b2 * age * age + b3 * height * height')\n",
    "print ('dataframe ,  variable,        intercept,   [b1. b2. b3]. ,            R squared,         standard deviation   count')\n",
    "for y in framestoanalyze:\n",
    "  #  print (y.name)\n",
    "    for xx in varsnonratio:\n",
    " #       print(y, \" \", xx)\n",
    "         reg = height_age_reg(y,xx)\n",
    "         dbname, var, intercept, coef, r2, std, count = reg\n",
    "         b1, b2, b3, = coef\n",
    "         print (dbname, ', ', var, ', ',intercept, ', ',b1, ', ',b2, ', ',b3, ', ',r2, ', ',std, ', ',count)\n",
    "         #  Columns: [dfnvarn, dfname, var, intercept, b1, b2, b3, r2, std, count] \n",
    "\n",
    "         dfnvarn = y.name + xx   \n",
    "            \n",
    "         df2 = {'dfnvarn': [dfnvarn], 'dfname': y.name, 'var': xx, 'intercept': intercept, 'b1': b1, 'b2': b2, 'b3': b3, 'r2':r2, 'std':std, 'count':count}                          \n",
    "         resultsnonratio = resultsnonratio.append(df2, ignore_index=True)\n",
    "print ('at end')\n",
    "resultsnonratio.set_index('dfnvarn', inplace=True)\n",
    "print (resultsnonratio)            "
   ]
  },
  {
   "cell_type": "code",
   "execution_count": 163,
   "metadata": {},
   "outputs": [
    {
     "name": "stdout",
     "output_type": "stream",
     "text": [
      "Empty DataFrame\n",
      "Columns: [dfnvarn, dfname, var, intercept, b1, b2, b3, r2, std, count]\n",
      "Index: []\n",
      "Linear Regression of variables in form y = intercept + b1 * age + b2 * age * age + b3 * height * height\n",
      "dataframe ,  variable,        intercept,   [b1. b2. b3]. ,            R squared,         standard deviation   count\n",
      "m20overb ,  SPPFEV1 ,  818.5450802528767 , [-2.99633738e+02 -5.98033876e-01  1.18232577e-01] , 0.47872744724171157 , 716.3476358369503 , 479\n",
      "m20overb ,  SPPFEV1 ,  818.5450802528767 ,  -299.6337379892999 ,  -0.5980338756359238 ,  0.11823257707515089 ,  0.47872744724171157 ,  716.3476358369503 ,  479\n",
      "m20overb ,  SPPFEV3 ,  1627.8305234507325 , [ 6.87734958e+02 -1.16770116e+02  5.98187873e-02] , 0.007064260018931234 , 3950.8674926269596 , 479\n",
      "m20overb ,  SPPFEV3 ,  1627.8305234507325 ,  687.7349575626351 ,  -116.77011581939703 ,  0.05981878727325807 ,  0.007064260018931234 ,  3950.8674926269596 ,  479\n",
      "m20overb ,  SPPFEV6 ,  1401.6771393133859 , [ 7.49324001e+02 -1.20933350e+02  6.72641145e-02] , 0.006786969618664762 , 3945.460536572536 , 479\n",
      "m20overb ,  SPPFEV6 ,  1401.6771393133859 ,  749.3240014568535 ,  -120.93334979467512 ,  0.06726411448367742 ,  0.006786969618664762 ,  3945.460536572536 ,  479\n",
      "m20overb ,  SPPFVC ,  147.6930918734388 , [-2.51166200e+02 -5.20947755e-01  1.59870763e-01] , 0.445637473937338 , 798.9771439148203 , 479\n",
      "m20overb ,  SPPFVC ,  147.6930918734388 ,  -251.16620007722616 ,  -0.5209477548407082 ,  0.1598707630227867 ,  0.445637473937338 ,  798.9771439148203 ,  479\n",
      "m20overb ,  SPPPEAK ,  1546.1770195904892 , [104.92735542 -91.13457735   0.26619942] , 0.2579329745429867 , 2020.4963916346805 , 479\n",
      "m20overb ,  SPPPEAK ,  1546.1770195904892 ,  104.92735542150263 ,  -91.13457735228931 ,  0.26619941948460735 ,  0.2579329745429867 ,  2020.4963916346805 ,  479\n",
      "m20overb ,  SPPMMEF ,  3605.598199686871 , [ 9.17369951e+02 -1.76952557e+02 -1.60860979e-02] , 0.016287872985493834 , 4104.189940828271 , 479\n",
      "m20overb ,  SPPMMEF ,  3605.598199686871 ,  917.3699512502241 ,  -176.9525567707908 ,  -0.016086097912932473 ,  0.016287872985493834 ,  4104.189940828271 ,  479\n",
      "m20overb ,  SPPFEF75 ,  2140.5227047810386 , [-4.98894034e+02  2.65612151e+01  1.57069621e-02] , 0.21680263092900953 , 790.1312830413451 , 479\n",
      "m20overb ,  SPPFEF75 ,  2140.5227047810386 ,  -498.8940336198916 ,  26.56121509568754 ,  0.01570696207169675 ,  0.21680263092900953 ,  790.1312830413451 ,  479\n",
      "m20overb ,  SPPEXPIR ,  0.47455236596807104 , [ 3.10364092e+00 -2.79631987e-01  8.21134248e-05] , 0.13481239510540188 , 3.5719851519280756 , 479\n",
      "m20overb ,  SPPEXPIR ,  0.47455236596807104 ,  3.103640916022174 ,  -0.27963198726938293 ,  8.211342479252925e-05 ,  0.13481239510540188 ,  3.5719851519280756 ,  479\n",
      "m20overcma ,  SPPFEV1 ,  781.3986780195132 , [-1.55278709e+02 -2.51565781e+01  1.33896577e-01] , 0.6379775433653347 , 772.3990272717793 , 1098\n",
      "m20overcma ,  SPPFEV1 ,  781.3986780195132 ,  -155.27870887672296 ,  -25.156578083849556 ,  0.13389657733346638 ,  0.6379775433653347 ,  772.3990272717793 ,  1098\n",
      "m20overcma ,  SPPFEV3 ,  640.8137417986245 , [-8.01382810e+02  8.40872344e+01  1.93051271e-01] , 0.016658047183953917 , 4488.828061938178 , 1098\n",
      "m20overcma ,  SPPFEV3 ,  640.8137417986245 ,  -801.382810422988 ,  84.08723441666694 ,  0.1930512710424921 ,  0.016658047183953917 ,  4488.828061938178 ,  1098\n",
      "m20overcma ,  SPPFEV6 ,  308.8000898146038 , [-6.86316589e+02  7.37399422e+01  2.01954196e-01] , 0.016758832577367655 , 4479.401173019018 , 1098\n",
      "m20overcma ,  SPPFEV6 ,  308.8000898146038 ,  -686.3165890667202 ,  73.73994223870181 ,  0.20195419588529262 ,  0.016758832577367655 ,  4479.401173019018 ,  1098\n",
      "m20overcma ,  SPPFVC ,  -254.72840599347 , [ -5.15462988 -37.1386109    0.1887659 ] , 0.588764872826024 , 870.9740124805406 , 1098\n",
      "m20overcma ,  SPPFVC ,  -254.72840599347 ,  -5.154629879309375 ,  -37.13861089509168 ,  0.18876590274461336 ,  0.588764872826024 ,  870.9740124805406 ,  1098\n",
      "m20overcma ,  SPPPEAK ,  697.3806127262214 , [ 9.51441844e+02 -1.85489535e+02  2.66124591e-01] , 0.32601395594720095 , 1858.8880142818177 , 1098\n",
      "m20overcma ,  SPPPEAK ,  697.3806127262214 ,  951.4418443011018 ,  -185.48953519114448 ,  0.2661245905237024 ,  0.32601395594720095 ,  1858.8880142818177 ,  1098\n",
      "m20overcma ,  SPPMMEF ,  3726.090769458637 , [-8.18308700e+02  5.62402497e+01  8.10172361e-02] , 0.016126356751951065 , 4633.056957145367 , 1098\n",
      "m20overcma ,  SPPMMEF ,  3726.090769458637 ,  -818.3086998805717 ,  56.240249703716934 ,  0.0810172361086714 ,  0.016126356751951065 ,  4633.056957145367 ,  1098\n",
      "m20overcma ,  SPPFEF75 ,  2127.937304004031 , [-7.82910663e+02  5.93423486e+01  3.68474436e-02] , 0.3280989156751327 , 827.1831539665462 , 1098\n",
      "m20overcma ,  SPPFEF75 ,  2127.937304004031 ,  -782.9106631050424 ,  59.342348644533736 ,  0.03684744361002856 ,  0.3280989156751327 ,  827.1831539665462 ,  1098\n",
      "m20overcma ,  SPPEXPIR ,  2.794623694547595 , [ 4.20638283e+00 -4.03560001e-01 -2.90623107e-05] , 0.14261367076624432 , 4.435852548087135 , 1098\n",
      "m20overcma ,  SPPEXPIR ,  2.794623694547595 ,  4.206382832049015 ,  -0.4035600009475685 ,  -2.9062310733463104e-05 ,  0.14261367076624432 ,  4.435852548087135 ,  1098\n",
      "m20overc ,  SPPFEV1 ,  526.1035443685118 , [-96.44907811 -30.93809451   0.13764914] , 0.6570829036019225 , 845.2944914031684 , 494\n",
      "m20overc ,  SPPFEV1 ,  526.1035443685118 ,  -96.44907811172128 ,  -30.938094510969524 ,  0.13764913590489058 ,  0.6570829036019225 ,  845.2944914031684 ,  494\n",
      "m20overc ,  SPPFEV3 ,  947.622791570745 , [-1.30872649e+03  1.64235358e+02  2.03330779e-01] , 0.010585983476506411 , 5435.217438783881 , 494\n",
      "m20overc ,  SPPFEV3 ,  947.622791570745 ,  -1308.7264915628473 ,  164.2353582262082 ,  0.20333077937505095 ,  0.010585983476506411 ,  5435.217438783881 ,  494\n",
      "m20overc ,  SPPFEV6 ,  509.00432315437047 , [-1.16676633e+03  1.51224025e+02  2.13870439e-01] , 0.010688925929609017 , 5420.008654955912 , 494\n",
      "m20overc ,  SPPFEV6 ,  509.00432315437047 ,  -1166.7663252286275 ,  151.2240248869758 ,  0.21387043905929204 ,  0.010688925929609017 ,  5420.008654955912 ,  494\n",
      "m20overc ,  SPPFVC ,  -654.4161842705453 , [ 20.84994962 -38.67579811   0.19956738] , 0.6131203491688136 , 936.1284816839889 , 494\n",
      "m20overc ,  SPPFVC ,  -654.4161842705453 ,  20.8499496156421 ,  -38.67579810620761 ,  0.1995673778251117 ,  0.6131203491688136 ,  936.1284816839889 ,  494\n",
      "m20overc ,  SPPPEAK ,  652.1364217895207 , [ 1.20976445e+03 -2.10719924e+02  2.47897527e-01] , 0.37538432932787613 , 1855.434889542861 , 494\n",
      "m20overc ,  SPPPEAK ,  652.1364217895207 ,  1209.7644453930907 ,  -210.71992381581936 ,  0.24789752747548732 ,  0.37538432932787613 ,  1855.434889542861 ,  494\n",
      "m20overc ,  SPPMMEF ,  3847.4262016097505 , [-1.17338369e+03  1.21985363e+02  8.36662727e-02] , 0.006325693506888941 , 5585.147359546331 , 494\n",
      "m20overc ,  SPPMMEF ,  3847.4262016097505 ,  -1173.3836892284362 ,  121.98536326897577 ,  0.08366627270603999 ,  0.006325693506888941 ,  5585.147359546331 ,  494\n",
      "m20overc ,  SPPFEF75 ,  2246.9906386507805 , [-7.75345216e+02  5.87729430e+01  3.16947427e-02] , 0.3051240852950323 , 875.8422710645424 , 494\n",
      "m20overc ,  SPPFEF75 ,  2246.9906386507805 ,  -775.345216140044 ,  58.77294295998772 ,  0.031694742686518396 ,  0.3051240852950323 ,  875.8422710645424 ,  494\n",
      "m20overc ,  SPPEXPIR ,  1.8362069143975894 , [ 3.56780615e+00 -3.07384543e-01  2.82374218e-05] , 0.18214118401127055 , 3.9640629089200203 , 494\n",
      "m20overc ,  SPPEXPIR ,  1.8362069143975894 ,  3.5678061488729265 ,  -0.30738454309372326 ,  2.8237421843435584e-05 ,  0.18214118401127055 ,  3.9640629089200203 ,  494\n",
      "m20ovecma ,  SPPFEV1 ,  738.6357473530306 , [-1.80184848e+02 -2.27158067e+01  1.37449106e-01] , 0.6133110343426198 , 704.3034881607231 , 604\n",
      "m20ovecma ,  SPPFEV1 ,  738.6357473530306 ,  -180.1848476871128 ,  -22.715806721005897 ,  0.13744910576247804 ,  0.6133110343426198 ,  704.3034881607231 ,  604\n",
      "m20ovecma ,  SPPFEV3 ,  -522.9008868701176 , [ 4.24055548e+02 -1.10176702e+02  1.75854903e-01] , 0.03579292640311138 , 3523.484982271625 , 604\n",
      "m20ovecma ,  SPPFEV3 ,  -522.9008868701176 ,  424.05554769530164 ,  -110.17670164374046 ,  0.17585490315968855 ,  0.03579292640311138 ,  3523.484982271625 ,  604\n",
      "m20ovecma ,  SPPFEV6 ,  -786.9424847646414 , [ 5.32961067e+02 -1.20597718e+02  1.83013443e-01] , 0.034592787210759535 , 3517.832713250555 , 604\n",
      "m20ovecma ,  SPPFEV6 ,  -786.9424847646414 ,  532.9610669670053 ,  -120.59771756019899 ,  0.18301344252392937 ,  0.034592787210759535 ,  3517.832713250555 ,  604\n",
      "m20ovecma ,  SPPFVC ,  114.04976772853661 , [ 22.70484305 -43.47968699   0.17502922] , 0.5300347675612503 , 783.1434782828148 , 604\n",
      "m20ovecma ,  SPPFVC ,  114.04976772853661 ,  22.7048430525757 ,  -43.47968699282548 ,  0.17502921774211444 ,  0.5300347675612503 ,  783.1434782828148 ,  604\n",
      "m20ovecma ,  SPPPEAK ,  -583.0168207329752 , [ 8.85572589e+02 -1.81821394e+02  3.18107003e-01] , 0.2890907638884964 , 1854.0439544339388 , 604\n",
      "m20ovecma ,  SPPPEAK ,  -583.0168207329752 ,  885.5725894544394 ,  -181.8213939308497 ,  0.3181070030206854 ,  0.2890907638884964 ,  1854.0439544339388 ,  604\n",
      "m20ovecma ,  SPPMMEF ,  1215.2820164107152 , [ 3.38226346e+02 -1.28576376e+02  1.17112162e-01] , 0.049367516857869886 , 3678.6457653574657 , 604\n",
      "m20ovecma ,  SPPMMEF ,  1215.2820164107152 ,  338.22634614904433 ,  -128.5763762910567 ,  0.11711216211674014 ,  0.049367516857869886 ,  3678.6457653574657 ,  604\n",
      "m20ovecma ,  SPPFEF75 ,  1688.6170977375386 , [-7.90038304e+02  6.12085462e+01  5.28901608e-02] , 0.3430017625637064 , 778.5365403359611 , 604\n",
      "m20ovecma ,  SPPFEF75 ,  1688.6170977375386 ,  -790.0383035896792 ,  61.208546231908066 ,  0.05289016083557385 ,  0.3430017625637064 ,  778.5365403359611 ,  604\n",
      "m20ovecma ,  SPPEXPIR ,  2.4948788073548016 , [ 5.49213411e+00 -6.02476885e-01 -8.03595682e-05] , 0.12127779771829927 , 4.770811765216133 , 604\n",
      "m20ovecma ,  SPPEXPIR ,  2.4948788073548016 ,  5.492134105312143 ,  -0.6024768850340511 ,  -8.035956816265788e-05 ,  0.12127779771829927 ,  4.770811765216133 ,  604\n",
      "f18overb ,  SPPFEV1 ,  241.0145058323933 , [-1.64371957e+02 -1.30200576e+01  1.12629146e-01] , 0.5700231999773656 , 596.049813553373 , 940\n",
      "f18overb ,  SPPFEV1 ,  241.0145058323933 ,  -164.37195665459532 ,  -13.0200576312425 ,  0.11262914596945883 ,  0.5700231999773656 ,  596.049813553373 ,  940\n",
      "f18overb ,  SPPFEV3 ,  1078.4501594788026 , [-1.15912150e+03  1.70374403e+02  1.46035725e-01] , 0.005834083693967984 , 5635.343867889951 , 940\n",
      "f18overb ,  SPPFEV3 ,  1078.4501594788026 ,  -1159.1214989789069 ,  170.37440325684747 ,  0.14603572477756188 ,  0.005834083693967984 ,  5635.343867889951 ,  940\n",
      "f18overb ,  SPPFEV6 ,  866.1205512458828 , [-1.07400301e+03  1.61914706e+02  1.51204826e-01] , 0.005892725932789222 , 5629.177412888808 , 940\n",
      "f18overb ,  SPPFEV6 ,  866.1205512458828 ,  -1074.0030068942217 ,  161.91470577556285 ,  0.15120482557802006 ,  0.005892725932789222 ,  5629.177412888808 ,  940\n",
      "f18overb ,  SPPFVC ,  -523.18036664396 , [ 41.80611824 -35.37604476   0.14532928] , 0.4947939627050155 , 650.2701149099175 , 940\n",
      "f18overb ,  SPPFVC ,  -523.18036664396 ,  41.806118235546386 ,  -35.37604475924098 ,  0.14532928428458547 ,  0.4947939627050155 ,  650.2701149099175 ,  940\n",
      "f18overb ,  SPPPEAK ,  1382.23490062564 , [ 3.89427444e+02 -1.19986954e+02  1.97317481e-01] , 0.29305715557423184 , 1592.3327627366623 , 940\n",
      "f18overb ,  SPPPEAK ,  1382.23490062564 ,  389.4274435521216 ,  -119.98695369137184 ,  0.1973174809873086 ,  0.29305715557423184 ,  1592.3327627366623 ,  940\n",
      "f18overb ,  SPPMMEF ,  3687.939085596554 , [-1.58103167e+03  1.98621606e+02  8.53734958e-02] , 0.00604605998569685 , 5708.326570354172 , 940\n",
      "f18overb ,  SPPMMEF ,  3687.939085596554 ,  -1581.031665222319 ,  198.6216057074605 ,  0.0853734958467669 ,  0.00604605998569685 ,  5708.326570354172 ,  940\n",
      "f18overb ,  SPPFEF75 ,  1854.7950215890796 , [-7.77974931e+02  7.38311482e+01  3.09997651e-02] , 0.2002144056200058 , 794.5219443053662 , 940\n",
      "f18overb ,  SPPFEF75 ,  1854.7950215890796 ,  -777.9749310287395 ,  73.83114821890216 ,  0.030999765118096434 ,  0.2002144056200058 ,  794.5219443053662 ,  940\n",
      "f18overb ,  SPPEXPIR ,  1.534481179162821 , [ 2.41483540e+00 -1.68132951e-01  7.16634299e-05] , 0.06983043261657818 , 5.953434893794109 , 940\n",
      "f18overb ,  SPPEXPIR ,  1.534481179162821 ,  2.414835403095143 ,  -0.16813295124689334 ,  7.166342990572172e-05 ,  0.06983043261657818 ,  5.953434893794109 ,  940\n",
      "f18overcma ,  SPPFEV1 ,  586.0983889127424 , [-58.74906994 -27.17287077   0.11015409] , 0.6718927728397943 , 618.3944677345147 , 2011\n",
      "f18overcma ,  SPPFEV1 ,  586.0983889127424 ,  -58.749069941853875 ,  -27.17287077435946 ,  0.11015409068264148 ,  0.6718927728397943 ,  618.3944677345147 ,  2011\n",
      "f18overcma ,  SPPFEV3 ,  4419.040448448026 , [-2.42523319e+03  3.42173408e+02  1.18492230e-01] , 0.010280888313274894 , 7644.690729786063 , 2011\n",
      "f18overcma ,  SPPFEV3 ,  4419.040448448026 ,  -2425.2331890754376 ,  342.17340810024666 ,  0.11849223010705145 ,  0.010280888313274894 ,  7644.690729786063 ,  2011\n",
      "f18overcma ,  SPPFEV6 ,  4180.807955972883 , [-2.33455726e+03  3.33778352e+02  1.24523043e-01] , 0.010475119097978158 , 7634.333094822271 , 2011\n",
      "f18overcma ,  SPPFEV6 ,  4180.807955972883 ,  -2334.55726482583 ,  333.7783521946853 ,  0.12452304306418682 ,  0.010475119097978158 ,  7634.333094822271 ,  2011\n",
      "f18overcma ,  SPPFVC ,  -195.13024539329626 , [117.2754576  -44.12915052   0.14966336] , 0.591750617005377 , 678.3683022915802 , 2011\n",
      "f18overcma ,  SPPFVC ,  -195.13024539329626 ,  117.27545759652114 ,  -44.129150517221156 ,  0.14966335847850587 ,  0.591750617005377 ,  678.3683022915802 ,  2011\n",
      "f18overcma ,  SPPPEAK ,  611.3662978283028 , [ 7.43938712e+02 -1.43418905e+02  2.05045488e-01] , 0.3521304517412259 , 1413.2023835239456 , 2011\n",
      "f18overcma ,  SPPPEAK ,  611.3662978283028 ,  743.9387117977293 ,  -143.41890508467398 ,  0.20504548758376018 ,  0.3521304517412259 ,  1413.2023835239456 ,  2011\n",
      "f18overcma ,  SPPMMEF ,  7164.511134287317 , [-2.62361003e+03  3.42441112e+02  2.89632909e-02] , 0.007623680152842206 , 7709.724619003465 , 2011\n",
      "f18overcma ,  SPPMMEF ,  7164.511134287317 ,  -2623.6100266532367 ,  342.4411123023651 ,  0.028963290875651637 ,  0.007623680152842206 ,  7709.724619003465 ,  2011\n",
      "f18overcma ,  SPPFEF75 ,  2381.2472178956523 , [-8.69570115e+02  8.07470108e+01  2.52152050e-02] , 0.17615085982573464 , 945.9800826129671 , 2011\n",
      "f18overcma ,  SPPFEF75 ,  2381.2472178956523 ,  -869.5701146867436 ,  80.74701076664496 ,  0.025215205025887144 ,  0.17615085982573464 ,  945.9800826129671 ,  2011\n",
      "f18overcma ,  SPPEXPIR ,  1.7898069840517659 , [ 3.07815880e+00 -2.72513738e-01  3.41130384e-05] , 0.1259145522438535 , 4.233762364619194 , 2011\n",
      "f18overcma ,  SPPEXPIR ,  1.7898069840517659 ,  3.0781588045992736 ,  -0.27251373847417054 ,  3.4113038394067985e-05 ,  0.1259145522438535 ,  4.233762364619194 ,  2011\n",
      "f18overc ,  SPPFEV1 ,  696.1722782212369 , [-12.72331855 -32.54050745   0.10284368] , 0.7019000137273385 , 664.6254127795577 , 991\n",
      "f18overc ,  SPPFEV1 ,  696.1722782212369 ,  -12.723318551522203 ,  -32.5405074487971 ,  0.10284367653746074 ,  0.7019000137273385 ,  664.6254127795577 ,  991\n",
      "f18overc ,  SPPFEV3 ,  2286.7316010968125 , [-2.43276951e+03  3.47090042e+02  1.96966718e-01] , 0.011255757767506869 , 8597.032749190636 , 991\n",
      "f18overc ,  SPPFEV3 ,  2286.7316010968125 ,  -2432.76950645739 ,  347.0900423820772 ,  0.19696671835191637 ,  0.011255757767506869 ,  8597.032749190636 ,  991\n",
      "f18overc ,  SPPFEV6 ,  1955.1848745314173 , [-2.31570223e+03  3.36039959e+02  2.04339898e-01] , 0.011494586908042614 , 8583.77212611472 , 991\n",
      "f18overc ,  SPPFEV6 ,  1955.1848745314173 ,  -2315.7022276519433 ,  336.0399585556447 ,  0.20433989828217136 ,  0.011494586908042614 ,  8583.77212611472 ,  991\n",
      "f18overc ,  SPPFVC ,  -295.38185110206996 , [ 2.15807934e+02 -5.53526429e+01  1.46644482e-01] , 0.6265594039123443 , 734.7922722125381 , 991\n",
      "f18overc ,  SPPFVC ,  -295.38185110206996 ,  215.80793387025193 ,  -55.35264289058894 ,  0.14664448220009518 ,  0.6265594039123443 ,  734.7922722125381 ,  991\n",
      "f18overc ,  SPPPEAK ,  1663.1082238529334 , [ 8.92025116e+02 -1.59362392e+02  1.55199901e-01] , 0.39963634559356037 , 1410.7712146343838 , 991\n",
      "f18overc ,  SPPPEAK ,  1663.1082238529334 ,  892.0251159751183 ,  -159.36239179281262 ,  0.15519990063091882 ,  0.39963634559356037 ,  1410.7712146343838 ,  991\n",
      "f18overc ,  SPPMMEF ,  5100.219238002419 , [-2.76494989e+03  3.65813223e+02  1.10324290e-01] , 0.008618031756259525 , 8678.718716572734 , 991\n",
      "f18overc ,  SPPMMEF ,  5100.219238002419 ,  -2764.9498862172522 ,  365.8132227443352 ,  0.11032429046412062 ,  0.008618031756259525 ,  8678.718716572734 ,  991\n",
      "f18overc ,  SPPFEF75 ,  2313.0846649113555 , [-9.41841311e+02  8.88051616e+01  3.28896187e-02] , 0.15937191637628126 , 1014.1762949886286 , 991\n",
      "f18overc ,  SPPFEF75 ,  2313.0846649113555 ,  -941.841311284889 ,  88.80516156479266 ,  0.03288961866100237 ,  0.15937191637628126 ,  1014.1762949886286 ,  991\n",
      "f18overc ,  SPPEXPIR ,  -1.0362778543894642 , [ 3.79215732e+00 -3.46731297e-01  8.04700065e-05] , 0.1187358724461789 , 4.6591210658447375 , 991\n",
      "f18overc ,  SPPEXPIR ,  -1.0362778543894642 ,  3.7921573216732396 ,  -0.34673129654443685 ,  8.047000654803904e-05 ,  0.1187358724461789 ,  4.6591210658447375 ,  991\n",
      "f18overma ,  SPPFEV1 ,  455.9922027429416 , [-87.6463907  -24.15621567   0.11762006] , 0.6344369121240321 , 570.1345251996632 , 1020\n",
      "f18overma ,  SPPFEV1 ,  455.9922027429416 ,  -87.6463906994064 ,  -24.156215670907624 ,  0.1176200579475335 ,  0.6344369121240321 ,  570.1345251996632 ,  1020\n",
      "f18overma ,  SPPFEV3 ,  6747.4991941241915 , [-2.47086671e+03  3.46151937e+02  2.76709161e-02] , 0.007973180031352278 , 6586.814017641234 , 1020\n",
      "f18overma ,  SPPFEV3 ,  6747.4991941241915 ,  -2470.8667115796625 ,  346.1519370869529 ,  0.027670916121621758 ,  0.007973180031352278 ,  6586.814017641234 ,  1020\n",
      "f18overma ,  SPPFEV6 ,  6554.95388647194 , [-2.39677694e+03  3.39354646e+02  3.32579943e-02] , 0.00784220938882818 , 6578.989340148012 , 1020\n",
      "f18overma ,  SPPFEV6 ,  6554.95388647194 ,  -2396.7769351798866 ,  339.3546459510977 ,  0.033257994335599506 ,  0.00784220938882818 ,  6578.989340148012 ,  1020\n",
      "f18overma ,  SPPFVC ,  -33.87309364012481 , [ 33.46701874 -34.74367172   0.14905646] , 0.5414337499051387 , 614.7085127079692 , 1020\n",
      "f18overma ,  SPPFVC ,  -33.87309364012481 ,  33.467018737831346 ,  -34.743671723949696 ,  0.149056459958679 ,  0.5414337499051387 ,  614.7085127079692 ,  1020\n",
      "f18overma ,  SPPPEAK ,  -419.22551343493524 , [ 7.90266791e+02 -1.57954256e+02  2.46553845e-01] , 0.31963476352912523 , 1412.955110350493 , 1020\n",
      "f18overma ,  SPPPEAK ,  -419.22551343493524 ,  790.2667905219895 ,  -157.95425632679172 ,  0.24655384486689513 ,  0.31963476352912523 ,  1412.955110350493 ,  1020\n",
      "f18overma ,  SPPMMEF ,  8434.520757996705 , [-2.45289763e+03  3.18763497e+02 -3.11753570e-02] , 0.0070626841691270315 , 6638.500990736473 , 1020\n",
      "f18overma ,  SPPMMEF ,  8434.520757996705 ,  -2452.897631126258 ,  318.7634969811341 ,  -0.03117535696333107 ,  0.0070626841691270315 ,  6638.500990736473 ,  1020\n",
      "f18overma ,  SPPFEF75 ,  2449.2095693199008 , [-8.30003106e+02  7.73785717e+01  1.92412845e-02] , 0.1861366357137283 , 867.741192432402 , 1020\n",
      "f18overma ,  SPPFEF75 ,  2449.2095693199008 ,  -830.0031063383968 ,  77.37857167830218 ,  0.019241284465394415 ,  0.1861366357137283 ,  867.741192432402 ,  1020\n",
      "f18overma ,  SPPEXPIR ,  2.4341064838785673 , [ 2.45902071e+00 -1.95395111e-01  5.52397166e-05] , 0.1326893979352629 , 3.7531255294970354 , 1020\n",
      "f18overma ,  SPPEXPIR ,  2.4341064838785673 ,  2.45902071131418 ,  -0.19539511090430597 ,  5.523971656426485e-05 ,  0.1326893979352629 ,  3.7531255294970354 ,  1020\n",
      "mlt20b ,  SPPFEV1 ,  -429.99844622875617 , [-1.46755392e+03  9.49335083e+02  1.38947254e-01] , 0.8480738897877577 , 984.1557174230417 , 609\n",
      "mlt20b ,  SPPFEV1 ,  -429.99844622875617 ,  -1467.5539236987656 ,  949.3350831959422 ,  0.13894725360796656 ,  0.8480738897877577 ,  984.1557174230417 ,  609\n",
      "mlt20b ,  SPPFEV3 ,  -598.9518982129903 , [-1.79646303e+03  1.06289637e+03  1.68004873e-01] , 0.8590304381587622 , 1123.7032005345077 , 609\n",
      "mlt20b ,  SPPFEV3 ,  -598.9518982129903 ,  -1796.4630257813883 ,  1062.8963727180997 ,  0.1680048731984698 ,  0.8590304381587622 ,  1123.7032005345077 ,  609\n",
      "mlt20b ,  SPPFEV6 ,  -587.8742047696996 , [-1.85148601e+03  1.07927033e+03  1.71026418e-01] , 0.8579671903305474 , 1136.61389920641 , 609\n",
      "mlt20b ,  SPPFEV6 ,  -587.8742047696996 ,  -1851.4860148384162 ,  1079.270334794225 ,  0.17102641794281226 ,  0.8579671903305474 ,  1136.61389920641 ,  609\n",
      "mlt20b ,  SPPFVC ,  -580.4836585629482 , [-1.87091902e+03  1.08887165e+03  1.71526772e-01] , 0.8576541296769504 , 1140.1983806617309 , 609\n",
      "mlt20b ,  SPPFVC ,  -580.4836585629482 ,  -1870.9190186727178 ,  1088.8716464782042 ,  0.17152677151943863 ,  0.8576541296769504 ,  1140.1983806617309 ,  609\n",
      "mlt20b ,  SPPPEAK ,  -418.38503544648484 , [-2.63954228e+03  2.42428355e+03  2.58838619e-01] , 0.7674533631101567 , 2396.645276181689 , 609\n",
      "mlt20b ,  SPPPEAK ,  -418.38503544648484 ,  -2639.542284789889 ,  2424.2835467732143 ,  0.25883861873353453 ,  0.7674533631101567 ,  2396.645276181689 ,  609\n",
      "mlt20b ,  SPPMMEF ,  -581.3412177715718 , [-3.93954338e+01  6.52052989e+02  1.15555772e-01] , 0.5514718375404009 , 1330.2560229443036 , 609\n",
      "mlt20b ,  SPPMMEF ,  -581.3412177715718 ,  -39.39543380695476 ,  652.052988728657 ,  0.11555577225124125 ,  0.5514718375404009 ,  1330.2560229443036 ,  609\n",
      "mlt20b ,  SPPFEF75 ,  -63.58831735987951 , [-8.38681171e+02  6.43394653e+02  6.03056181e-02] , 0.4286512038780309 , 726.7888151591058 , 609\n",
      "mlt20b ,  SPPFEF75 ,  -63.58831735987951 ,  -838.681171375488 ,  643.3946526172601 ,  0.060305618123720706 ,  0.4286512038780309 ,  726.7888151591058 ,  609\n",
      "mlt20b ,  SPPEXPIR ,  -1.0753126538471829 , [ 1.28792248e+01 -5.04508385e+00  3.52443080e-06] , 0.04581768653308371 , 2.798565127056044 , 609\n",
      "mlt20b ,  SPPEXPIR ,  -1.0753126538471829 ,  12.87922475565221 ,  -5.045083851298954 ,  3.524430799650702e-06 ,  0.04581768653308371 ,  2.798565127056044 ,  609\n",
      "mlt20cma ,  SPPFEV1 ,  -172.03049233274487 , [-1.79314974e+03  1.29645209e+03  1.45622549e-01] , 0.8995471134141912 , 1069.2014317312553 , 1029\n",
      "mlt20cma ,  SPPFEV1 ,  -172.03049233274487 ,  -1793.1497425789344 ,  1296.4520864625092 ,  0.14562254887550807 ,  0.8995471134141912 ,  1069.2014317312553 ,  1029\n",
      "mlt20cma ,  SPPFEV3 ,  -136.24223993807027 , [-2.36913928e+03  1.60225753e+03  1.71374494e-01] , 0.9070435693845842 , 1228.5103348905009 , 1029\n",
      "mlt20cma ,  SPPFEV3 ,  -136.24223993807027 ,  -2369.1392802600867 ,  1602.2575259178498 ,  0.17137449369829483 ,  0.9070435693845842 ,  1228.5103348905009 ,  1029\n",
      "mlt20cma ,  SPPFEV6 ,  -102.6927465560043 , [-2.39872390e+03  1.62491962e+03  1.72095777e-01] , 0.905050530517515 , 1239.1142101854923 , 1029\n",
      "mlt20cma ,  SPPFEV6 ,  -102.6927465560043 ,  -2398.7239016941994 ,  1624.919616368767 ,  0.17209577717903812 ,  0.905050530517515 ,  1239.1142101854923 ,  1029\n",
      "mlt20cma ,  SPPFVC ,  -91.00211286096737 , [-2.40407845e+03  1.63061890e+03  1.71968156e-01] , 0.9042793024924773 , 1240.8614442694895 , 1029\n",
      "mlt20cma ,  SPPFVC ,  -91.00211286096737 ,  -2404.0784540421 ,  1630.6189035456223 ,  0.17196815578631686 ,  0.9042793024924773 ,  1240.8614442694895 ,  1029\n",
      "mlt20cma ,  SPPPEAK ,  514.3082848212262 , [-4.01841787e+03  3.29820275e+03  2.52433164e-01] , 0.8080077681642674 , 2356.873443605462 , 1029\n",
      "mlt20cma ,  SPPPEAK ,  514.3082848212262 ,  -4018.417865857087 ,  3298.2027452697985 ,  0.25243316418936956 ,  0.8080077681642674 ,  2356.873443605462 ,  1029\n",
      "mlt20cma ,  SPPMMEF ,  -142.0305547625876 , [-1.26225202e+03  1.23668902e+03  1.39708836e-01] , 0.6453165817588213 , 1353.0879754499376 , 1029\n",
      "mlt20cma ,  SPPMMEF ,  -142.0305547625876 ,  -1262.2520242666228 ,  1236.6890196921079 ,  0.13970883585739102 ,  0.6453165817588213 ,  1353.0879754499376 ,  1029\n",
      "mlt20cma ,  SPPFEF75 ,  -164.72531410162105 , [-1.06037108e+03  7.05638573e+02  8.24721279e-02] , 0.5238185054404396 , 755.7353873526134 , 1029\n",
      "mlt20cma ,  SPPFEF75 ,  -164.72531410162105 ,  -1060.3710770515788 ,  705.6385731643223 ,  0.0824721279326468 ,  0.5238185054404396 ,  755.7353873526134 ,  1029\n",
      "mlt20cma ,  SPPEXPIR ,  3.6217139643537273 , [ 4.27434959e+00 -1.02108269e+00  8.14952426e-07] , 0.050439856843007 , 2.5165269573220184 , 1029\n",
      "mlt20cma ,  SPPEXPIR ,  3.6217139643537273 ,  4.274349591433202 ,  -1.0210826883693604 ,  8.149524259870589e-07 ,  0.050439856843007 ,  2.5165269573220184 ,  1029\n",
      "mlt20c ,  SPPFEV1 ,  -109.05903446103866 , [-2.01288416e+03  1.32951419e+03  1.47917193e-01] , 0.908850278131445 , 1099.2914919518828 , 421\n",
      "mlt20c ,  SPPFEV1 ,  -109.05903446103866 ,  -2012.884161737517 ,  1329.5141942859093 ,  0.14791719298295902 ,  0.908850278131445 ,  1099.2914919518828 ,  421\n",
      "mlt20c ,  SPPFEV3 ,  -74.19598310888114 , [-2.57793399e+03  1.64358086e+03  1.73794736e-01] , 0.9152887011332572 , 1277.4807652515176 , 421\n",
      "mlt20c ,  SPPFEV3 ,  -74.19598310888114 ,  -2577.9339913048234 ,  1643.5808572955716 ,  0.17379473631876863 ,  0.9152887011332572 ,  1277.4807652515176 ,  421\n",
      "mlt20c ,  SPPFEV6 ,  -77.85241986170786 , [-2.52720757e+03  1.62328382e+03  1.74751060e-01] , 0.9115991301969111 , 1287.410155741093 , 421\n",
      "mlt20c ,  SPPFEV6 ,  -77.85241986170786 ,  -2527.2075730477172 ,  1623.2838241902634 ,  0.17475105995072227 ,  0.9115991301969111 ,  1287.410155741093 ,  421\n",
      "mlt20c ,  SPPFVC ,  -44.5670913388567 , [-2.58867365e+03  1.64908735e+03  1.75161271e-01] , 0.9103343318081268 , 1289.258255266478 , 421\n",
      "mlt20c ,  SPPFVC ,  -44.5670913388567 ,  -2588.67365217956 ,  1649.0873461992535 ,  0.17516127065073306 ,  0.9103343318081268 ,  1289.258255266478 ,  421\n",
      "mlt20c ,  SPPPEAK ,  695.7640641969165 , [-4.14931391e+03  3.24298339e+03  2.48334880e-01] , 0.8195623057846622 , 2352.939294048929 , 421\n",
      "mlt20c ,  SPPPEAK ,  695.7640641969165 ,  -4149.313912678251 ,  3242.983390287667 ,  0.24833488025979022 ,  0.8195623057846622 ,  2352.939294048929 ,  421\n",
      "mlt20c ,  SPPMMEF ,  -89.34621715194999 , [-1.58342174e+03  1.27687212e+03  1.42192711e-01] , 0.6671188270312493 , 1343.3207840854695 , 421\n",
      "mlt20c ,  SPPMMEF ,  -89.34621715194999 ,  -1583.4217416352947 ,  1276.8721179602392 ,  0.1421927111750847 ,  0.6671188270312493 ,  1343.3207840854695 ,  421\n",
      "mlt20c ,  SPPFEF75 ,  103.45546705354104 , [-1.70803528e+03  9.63978037e+02  8.28488071e-02] , 0.5734122656788303 , 740.330342523884 , 421\n",
      "mlt20c ,  SPPFEF75 ,  103.45546705354104 ,  -1708.035281598106 ,  963.9780370656016 ,  0.08284880710687048 ,  0.5734122656788303 ,  740.330342523884 ,  421\n",
      "mlt20c ,  SPPEXPIR ,  6.540992103944688 , [-1.83430641e+00  1.32540658e+00  3.56946922e-05] , 0.037425416936448186 , 2.4749759927039765 , 421\n",
      "mlt20c ,  SPPEXPIR ,  6.540992103944688 ,  -1.8343064103968785 ,  1.3254065786341525 ,  3.5694692210874734e-05 ,  0.037425416936448186 ,  2.4749759927039765 ,  421\n",
      "mlt20ma ,  SPPFEV1 ,  -136.4396243852848 , [-2.18872549e+03  1.41802822e+03  1.57740589e-01] , 0.8991533745651632 , 1048.770111754407 , 608\n",
      "mlt20ma ,  SPPFEV1 ,  -136.4396243852848 ,  -2188.725487635208 ,  1418.028222183485 ,  0.15774058878832875 ,  0.8991533745651632 ,  1048.770111754407 ,  608\n",
      "mlt20ma ,  SPPFEV3 ,  -123.94391364003422 , [-2.59879485e+03  1.67220613e+03  1.78987976e-01] , 0.902767005900421 , 1193.9523371219902 , 608\n",
      "mlt20ma ,  SPPFEV3 ,  -123.94391364003422 ,  -2598.7948450795398 ,  1672.2061284163658 ,  0.17898797611042028 ,  0.902767005900421 ,  1193.9523371219902 ,  608\n",
      "mlt20ma ,  SPPFEV6 ,  -68.61749770725146 , [-2.67008841e+03  1.71939386e+03  1.79342923e-01] , 0.9019571149409527 , 1204.9891627098655 , 608\n",
      "mlt20ma ,  SPPFEV6 ,  -68.61749770725146 ,  -2670.088407189501 ,  1719.3938613377577 ,  0.17934292313975675 ,  0.9019571149409527 ,  1204.9891627098655 ,  608\n",
      "mlt20ma ,  SPPFVC ,  -70.29882310636958 , [-2.64245896e+03  1.71274001e+03  1.78936978e-01] , 0.9016009888295959 , 1206.6794364204518 , 608\n",
      "mlt20ma ,  SPPFVC ,  -70.29882310636958 ,  -2642.4589563137006 ,  1712.740011251684 ,  0.1789369777252432 ,  0.9016009888295959 ,  1206.6794364204518 ,  608\n",
      "mlt20ma ,  SPPPEAK ,  488.3372342510511 , [-4.91017131e+03  3.58475465e+03  2.82432203e-01] , 0.8053088261645103 , 2361.466761665317 , 608\n",
      "mlt20ma ,  SPPPEAK ,  488.3372342510511 ,  -4910.171311241554 ,  3584.7546464182205 ,  0.2824322028550341 ,  0.8053088261645103 ,  2361.466761665317 ,  608\n",
      "mlt20ma ,  SPPMMEF ,  15.290187701275954 , [-2.33293260e+03  1.55517931e+03  1.69943285e-01] , 0.6505418780226129 , 1355.430251392296 , 608\n",
      "mlt20ma ,  SPPMMEF ,  15.290187701275954 ,  -2332.932599849315 ,  1555.1793085073455 ,  0.16994328543273696 ,  0.6505418780226129 ,  1355.430251392296 ,  608\n",
      "mlt20ma ,  SPPFEF75 ,  -237.30791557544512 , [-1.33573780e+03  7.26051182e+02  9.96813142e-02] , 0.5112139444338211 , 764.3211074595138 , 608\n",
      "mlt20ma ,  SPPFEF75 ,  -237.30791557544512 ,  -1335.7377989596334 ,  726.0511823293069 ,  0.09968131424841431 ,  0.5112139444338211 ,  764.3211074595138 ,  608\n",
      "mlt20ma ,  SPPEXPIR ,  1.5150748026891563 , [ 8.99408830e+00 -2.79109934e+00 -3.58951910e-05] , 0.06694294911505139 , 2.5436938650605727 , 608\n",
      "mlt20ma ,  SPPEXPIR ,  1.5150748026891563 ,  8.994088302441563 ,  -2.791099341522702 ,  -3.5895191004442495e-05 ,  0.06694294911505139 ,  2.5436938650605727 ,  608\n",
      "flt18b ,  SPPFEV1 ,  -1030.8002901852683 , [ 9.02005927e+02 -8.66829723e+01  1.06070971e-01] , 0.7637464902235289 , 621.5703385237149 , 604\n",
      "flt18b ,  SPPFEV1 ,  -1030.8002901852683 ,  902.0059266620377 ,  -86.68297227144448 ,  0.10607097064030313 ,  0.7637464902235289 ,  621.5703385237149 ,  604\n",
      "flt18b ,  SPPFEV3 ,  -1005.1675721397755 , [6.73871996e+02 1.29581555e+01 1.20664340e-01] , 0.7606006817523739 , 678.4871622745378 , 604\n",
      "flt18b ,  SPPFEV3 ,  -1005.1675721397755 ,  673.8719958535156 ,  12.958155467697019 ,  0.12066433987859781 ,  0.7606006817523739 ,  678.4871622745378 ,  604\n",
      "flt18b ,  SPPFEV6 ,  -968.8757250597132 , [6.02242854e+02 3.61460327e+01 1.22400780e-01] , 0.7564224683042293 , 681.91633944846 , 604\n",
      "flt18b ,  SPPFEV6 ,  -968.8757250597132 ,  602.2428536209653 ,  36.14603267637905 ,  0.12240078021979173 ,  0.7564224683042293 ,  681.91633944846 ,  604\n",
      "flt18b ,  SPPFVC ,  -925.0874753397925 , [5.36240210e+02 6.57128616e+01 1.22348230e-01] , 0.754082978675112 , 681.281105364602 , 604\n",
      "flt18b ,  SPPFVC ,  -925.0874753397925 ,  536.2402097171542 ,  65.71286157516437 ,  0.1223482298822347 ,  0.754082978675112 ,  681.281105364602 ,  604\n",
      "flt18b ,  SPPPEAK ,  -3133.9632069895797 , [ 6.03191534e+03 -1.88861046e+03  1.88763587e-01] , 0.5978729900735211 , 1502.888282847843 , 604\n",
      "flt18b ,  SPPPEAK ,  -3133.9632069895797 ,  6031.915339475175 ,  -1888.6104555556904 ,  0.18876358745478683 ,  0.5978729900735211 ,  1502.888282847843 ,  604\n",
      "flt18b ,  SPPMMEF ,  -1549.3948641335087 , [ 2.22254806e+03 -5.00954307e+02  1.14968816e-01] , 0.4468446492253179 , 1013.9410028248869 , 604\n",
      "flt18b ,  SPPMMEF ,  -1549.3948641335087 ,  2222.5480613823024 ,  -500.95430690270894 ,  0.11496881646667134 ,  0.4468446492253179 ,  1013.9410028248869 ,  604\n",
      "flt18b ,  SPPFEF75 ,  -689.0463021374908 , [5.31319434e+02 3.42173474e+01 5.96448826e-02] , 0.3533923004244366 , 582.3377048469933 , 604\n",
      "flt18b ,  SPPFEF75 ,  -689.0463021374908 ,  531.3194339065557 ,  34.2173473542932 ,  0.05964488259203904 ,  0.3533923004244366 ,  582.3377048469933 ,  604\n",
      "flt18b ,  SPPEXPIR ,  5.507512267101687 , [-1.49727441e-01  2.92401833e-01  1.85556192e-05] , 0.003649827014672869 , 2.7537967396608685 , 604\n",
      "flt18b ,  SPPEXPIR ,  5.507512267101687 ,  -0.14972744083531547 ,  0.2924018325434186 ,  1.855561915892201e-05 ,  0.003649827014672869 ,  2.7537967396608685 ,  604\n",
      "flt18cma ,  SPPFEV1 ,  -1244.703947940961 , [ 1.14968441e+03 -2.18105547e+02  1.26921959e-01] , 0.8174817656482561 , 694.7502673510901 , 986\n",
      "flt18cma ,  SPPFEV1 ,  -1244.703947940961 ,  1149.6844097624376 ,  -218.10554663696973 ,  0.12692195861873756 ,  0.8174817656482561 ,  694.7502673510901 ,  986\n",
      "flt18cma ,  SPPFEV3 ,  -1283.3832083085945 , [ 8.80707582e+02 -7.22180743e+01  1.46104026e-01] , 0.8261702033944006 , 776.6413027268013 , 986\n",
      "flt18cma ,  SPPFEV3 ,  -1283.3832083085945 ,  880.7075819980704 ,  -72.21807429743683 ,  0.14610402578172454 ,  0.8261702033944006 ,  776.6413027268013 ,  986\n",
      "flt18cma ,  SPPFEV6 ,  -1252.1600858408588 , [ 8.24111860e+02 -4.89409617e+01  1.47392800e-01] , 0.8217505408101551 , 781.9076554739831 , 986\n",
      "flt18cma ,  SPPFEV6 ,  -1252.1600858408588 ,  824.111860449576 ,  -48.9409616813602 ,  0.14739280042208946 ,  0.8217505408101551 ,  781.9076554739831 ,  986\n",
      "flt18cma ,  SPPFVC ,  -1262.8738615468828 , [ 8.46138362e+02 -6.00155216e+01  1.47728573e-01] , 0.8206616218011396 , 783.7877853231857 , 986\n",
      "flt18cma ,  SPPFVC ,  -1262.8738615468828 ,  846.1383620943509 ,  -60.015521637664136 ,  0.14772857313085552 ,  0.8206616218011396 ,  783.7877853231857 ,  986\n",
      "flt18cma ,  SPPPEAK ,  -4117.474892605744 , [ 7.62045368e+03 -2.90432531e+03  2.18019973e-01] , 0.6167391355630414 , 1529.7388468217375 , 986\n",
      "flt18cma ,  SPPPEAK ,  -4117.474892605744 ,  7620.453681736871 ,  -2904.325314468701 ,  0.2180199734548296 ,  0.6167391355630414 ,  1529.7388468217375 ,  986\n",
      "flt18cma ,  SPPMMEF ,  -1949.1764420115364 , [ 3.87812268e+03 -1.34783147e+03  1.15442314e-01] , 0.4827783561615345 , 981.3799795030659 , 986\n",
      "flt18cma ,  SPPMMEF ,  -1949.1764420115364 ,  3878.122683987675 ,  -1347.8314693704724 ,  0.1154423137345475 ,  0.4827783561615345 ,  981.3799795030659 ,  986\n",
      "flt18cma ,  SPPFEF75 ,  -711.9284372688278 , [ 5.77601859e+02 -3.22234175e+01  7.22828482e-02] , 0.4024799066586935 , 599.1203411328579 , 986\n",
      "flt18cma ,  SPPFEF75 ,  -711.9284372688278 ,  577.6018593925075 ,  -32.22341753136976 ,  0.07228284817029618 ,  0.4024799066586935 ,  599.1203411328579 ,  986\n",
      "flt18cma ,  SPPEXPIR ,  4.267617156832063 , [ 1.48888810e-03 -4.66557647e-01  1.18823100e-04] , 0.014003124375151721 , 2.681003771232529 , 986\n",
      "flt18cma ,  SPPEXPIR ,  4.267617156832063 ,  0.0014888881036881807 ,  -0.4665576468624157 ,  0.00011882310036182009 ,  0.014003124375151721 ,  2.681003771232529 ,  986\n",
      "flt18c ,  SPPFEV1 ,  -1122.9467578100443 , [ 5.50114373e+02 -5.71006041e+01  1.38720510e-01] , 0.8499392562948954 , 721.8485777803722 , 414\n",
      "flt18c ,  SPPFEV1 ,  -1122.9467578100443 ,  550.1143731348058 ,  -57.10060407755187 ,  0.13872050957857596 ,  0.8499392562948954 ,  721.8485777803722 ,  414\n",
      "flt18c ,  SPPFEV3 ,  -963.6539685850912 , [-1.48491423e+02  2.90384064e+02  1.59621019e-01] , 0.8570908568088553 , 812.520104314685 , 414\n",
      "flt18c ,  SPPFEV3 ,  -963.6539685850912 ,  -148.49142329789598 ,  290.3840643709818 ,  0.1596210189696876 ,  0.8570908568088553 ,  812.520104314685 ,  414\n",
      "flt18c ,  SPPFEV6 ,  -902.9243403852947 , [-2.42782510e+02  3.30546427e+02  1.60484540e-01] , 0.8509891295544934 , 816.310556578534 , 414\n",
      "flt18c ,  SPPFEV6 ,  -902.9243403852947 ,  -242.78250957091132 ,  330.54642693968106 ,  0.16048454030629955 ,  0.8509891295544934 ,  816.310556578534 ,  414\n",
      "flt18c ,  SPPFVC ,  -942.9612414116045 , [-1.59526393e+02  2.89308332e+02  1.60855305e-01] , 0.8489436044212727 , 819.0234062022432 , 414\n",
      "flt18c ,  SPPFVC ,  -942.9612414116045 ,  -159.52639275086688 ,  289.3083319697104 ,  0.1608553050036221 ,  0.8489436044212727 ,  819.0234062022432 ,  414\n",
      "flt18c ,  SPPPEAK ,  -4066.79108776027 , [ 6.87221922e+03 -2.67611322e+03  2.33512906e-01] , 0.7153472707725856 , 1517.2001044549272 , 414\n",
      "flt18c ,  SPPPEAK ,  -4066.79108776027 ,  6872.219221387112 ,  -2676.1132224369685 ,  0.2335129055732068 ,  0.7153472707725856 ,  1517.2001044549272 ,  414\n",
      "flt18c ,  SPPMMEF ,  -2333.19635991824 , [ 4.02849306e+03 -1.65431872e+03  1.33911419e-01] , 0.5264244845521517 , 971.7232926439851 , 414\n",
      "flt18c ,  SPPMMEF ,  -2333.19635991824 ,  4028.4930561914034 ,  -1654.318723546391 ,  0.13391141865463396 ,  0.5264244845521517 ,  971.7232926439851 ,  414\n",
      "flt18c ,  SPPFEF75 ,  -1046.7585014665935 , [ 1.02679509e+03 -3.47184905e+02  7.86722051e-02] , 0.4402578667400555 , 594.8567587918678 , 414\n",
      "flt18c ,  SPPFEF75 ,  -1046.7585014665935 ,  1026.7950928831883 ,  -347.18490465567845 ,  0.07867220512929407 ,  0.4402578667400555 ,  594.8567587918678 ,  414\n",
      "flt18c ,  SPPEXPIR ,  2.393481390263842 , [ 7.18213434e+00 -3.44277739e+00  3.63466967e-05] , 0.009788709486322156 , 2.669035381632698 , 414\n",
      "flt18c ,  SPPEXPIR ,  2.393481390263842 ,  7.182134344642852 ,  -3.442777394353849 ,  3.634669671415125e-05 ,  0.009788709486322156 ,  2.669035381632698 ,  414\n",
      "flt18ma ,  SPPFEV1 ,  -1256.4892539564235 , [ 1.17800339e+03 -2.02910125e+02  1.26600281e-01] , 0.7959573384862603 , 675.0349008273141 , 572\n",
      "flt18ma ,  SPPFEV1 ,  -1256.4892539564235 ,  1178.0033927854195 ,  -202.91012503384692 ,  0.12660028091582376 ,  0.7959573384862603 ,  675.0349008273141 ,  572\n",
      "flt18ma ,  SPPFEV3 ,  -1469.7806045438751 , [ 1.40007037e+03 -2.68842537e+02  1.40917323e-01] , 0.8017622808324376 , 749.2584697332917 , 572\n",
      "flt18ma ,  SPPFEV3 ,  -1469.7806045438751 ,  1400.0703677595682 ,  -268.8425368592316 ,  0.14091732256395062 ,  0.8017622808324376 ,  749.2584697332917 ,  572\n",
      "flt18ma ,  SPPFEV6 ,  -1457.3169839718512 , [ 1.35506488e+03 -2.51371078e+02  1.42807697e-01] , 0.7990269371353369 , 755.6695865790554 , 572\n",
      "flt18ma ,  SPPFEV6 ,  -1457.3169839718512 ,  1355.0648793573866 ,  -251.37107827480608 ,  0.14280769726767062 ,  0.7990269371353369 ,  755.6695865790554 ,  572\n",
      "flt18ma ,  SPPFVC ,  -1449.3567643326069 , [ 1.34156429e+03 -2.44335375e+02  1.43012177e-01] , 0.7985398738883873 , 756.8412595502884 , 572\n",
      "flt18ma ,  SPPFVC ,  -1449.3567643326069 ,  1341.5642908068949 ,  -244.33537516221858 ,  0.14301217731744487 ,  0.7985398738883873 ,  756.8412595502884 ,  572\n",
      "flt18ma ,  SPPPEAK ,  -3974.5324886131875 , [ 7.28673834e+03 -2.76799825e+03  2.23398251e-01] , 0.552945037016029 , 1539.7574716157872 , 572\n",
      "flt18ma ,  SPPPEAK ,  -3974.5324886131875 ,  7286.738337525924 ,  -2767.998250563384 ,  0.22339825133167324 ,  0.552945037016029 ,  1539.7574716157872 ,  572\n",
      "flt18ma ,  SPPMMEF ,  -1431.9076220494367 , [ 2.45734654e+03 -6.79474823e+02  1.28619691e-01] , 0.4728763053232272 , 983.669277432128 , 572\n",
      "flt18ma ,  SPPMMEF ,  -1431.9076220494367 ,  2457.346535855604 ,  -679.4748225459988 ,  0.12861969087191483 ,  0.4728763053232272 ,  983.669277432128 ,  572\n",
      "flt18ma ,  SPPFEF75 ,  -345.18377487631847 , [-4.44615023e+02  4.36158649e+02  8.18364135e-02] , 0.39237460819391085 , 600.5618963851966 , 572\n",
      "flt18ma ,  SPPFEF75 ,  -345.18377487631847 ,  -444.61502297447186 ,  436.1586486099894 ,  0.08183641350098014 ,  0.39237460819391085 ,  600.5618963851966 ,  572\n",
      "flt18ma ,  SPPEXPIR ,  5.133254993406961 , [-3.22550718e+00  1.03866834e+00  1.44866114e-04] , 0.0160899770483639 , 2.6671705299230597 , 572\n",
      "flt18ma ,  SPPEXPIR ,  5.133254993406961 ,  -3.225507179209795 ,  1.0386683381590356 ,  0.00014486611422981355 ,  0.0160899770483639 ,  2.6671705299230597 ,  572\n",
      "mallcma ,  SPPFEV1 ,  -1555.8309502255183 , [ 5.12290510e+02 -1.05974557e+02  1.72262396e-01] , 0.8239014428030123 , 1063.5561249452755 , 2127\n",
      "mallcma ,  SPPFEV1 ,  -1555.8309502255183 ,  512.2905095131886 ,  -105.97455680370564 ,  0.1722623956106304 ,  0.8239014428030123 ,  1063.5561249452755 ,  2127\n",
      "mallcma ,  SPPFEV3 ,  -2019.1884071523145 , [ 2.50690532e+02 -4.25251417e+01  2.18442536e-01] , 0.11606842990757471 , 3421.7359517068944 , 2127\n",
      "mallcma ,  SPPFEV3 ,  -2019.1884071523145 ,  250.69053175811538 ,  -42.52514169836953 ,  0.21844253593429386 ,  0.11606842990757471 ,  3421.7359517068944 ,  2127\n",
      "mallcma ,  SPPFEV6 ,  -2082.1640197840998 , [ 3.47728349e+02 -5.05697743e+01  2.19283682e-01] , 0.12541834477452685 , 3432.6666433096857 , 2127\n",
      "mallcma ,  SPPFEV6 ,  -2082.1640197840998 ,  347.7283488178282 ,  -50.56977430645089 ,  0.21928368194693348 ,  0.12541834477452685 ,  3432.6666433096857 ,  2127\n",
      "mallcma ,  SPPFVC ,  -2064.8224471536287 , [ 7.29461691e+02 -1.25646115e+02  2.05004454e-01] , 0.8454843226729482 , 1310.4101538402335 , 2127\n",
      "mallcma ,  SPPFVC ,  -2064.8224471536287 ,  729.4616906814897 ,  -125.64611538219367 ,  0.2050044536280069 ,  0.8454843226729482 ,  1310.4101538402335 ,  2127\n",
      "mallcma ,  SPPPEAK ,  -3399.092305183297 , [ 2.37689623e+03 -3.57818256e+02  3.17786066e-01] , 0.7403279539954062 , 2675.5989720539483 , 2127\n",
      "mallcma ,  SPPPEAK ,  -3399.092305183297 ,  2376.8962277892333 ,  -357.81825582091625 ,  0.3177860664393961 ,  0.7403279539954062 ,  2675.5989720539483 ,  2127\n",
      "mallcma ,  SPPMMEF ,  -1077.5958418571504 , [ 2.73670734e+02 -7.62931913e+01  1.77012590e-01] , 0.06948598528906469 , 3486.874714977251 , 2127\n",
      "mallcma ,  SPPMMEF ,  -1077.5958418571504 ,  273.670733534448 ,  -76.29319134258897 ,  0.17701258966239664 ,  0.06948598528906469 ,  3486.874714977251 ,  2127\n",
      "mallcma ,  SPPFEF75 ,  -512.2753457463364 , [-3.36949375e+02  4.54790505e+00  9.94396502e-02] , 0.3619069469702061 , 794.4123797635675 , 2127\n",
      "mallcma ,  SPPFEF75 ,  -512.2753457463364 ,  -336.94937483727233 ,  4.547905049228879 ,  0.09943965016913658 ,  0.3619069469702061 ,  794.4123797635675 ,  2127\n",
      "mallcma ,  SPPEXPIR ,  4.603056583651872 , [ 3.35296347e+00 -3.01268601e-01 -3.75457198e-05] , 0.2957232216704284 , 4.06633841710996 , 2127\n",
      "mallcma ,  SPPEXPIR ,  4.603056583651872 ,  3.3529634674133963 ,  -0.3012686012619486 ,  -3.7545719772269504e-05 ,  0.2957232216704284 ,  4.06633841710996 ,  2127\n",
      "mallb ,  SPPFEV1 ,  -1522.5811176828151 , [ 3.96497278e+02 -8.71442973e+01  1.54472292e-01] , 0.7786301069590176 , 1000.6676653321681 , 1088\n",
      "mallb ,  SPPFEV1 ,  -1522.5811176828151 ,  396.4972775298369 ,  -87.14429726535018 ,  0.15447229169275545 ,  0.7786301069590176 ,  1000.6676653321681 ,  1088\n",
      "mallb ,  SPPFEV3 ,  -1518.8762249295537 , [ 9.32072068e+02 -1.45391122e+02  1.47024008e-01] , 0.1345364967290913 , 2832.982256122517 , 1088\n",
      "mallb ,  SPPFEV3 ,  -1518.8762249295537 ,  932.0720681640653 ,  -145.39112248841238 ,  0.14702400767342283 ,  0.1345364967290913 ,  2832.982256122517 ,  1088\n",
      "mallb ,  SPPFEV6 ,  -1566.3240676352816 , [ 9.94813333e+02 -1.49585369e+02  1.48504268e-01] , 0.14376661202263175 , 2844.628226663238 , 1088\n",
      "mallb ,  SPPFEV6 ,  -1566.3240676352816 ,  994.8133328917811 ,  -149.58536875499908 ,  0.14850426801658045 ,  0.14376661202263175 ,  2844.628226663238 ,  1088\n",
      "mallb ,  SPPFVC ,  -1940.4580497673805 , [ 5.28221454e+02 -9.69495205e+01  1.82754997e-01] , 0.8066436224415531 , 1205.3003586474526 , 1088\n",
      "mallb ,  SPPFVC ,  -1940.4580497673805 ,  528.2214543806274 ,  -96.94952052023116 ,  0.18275499701327647 ,  0.8066436224415531 ,  1205.3003586474526 ,  1088\n",
      "mallb ,  SPPPEAK ,  -3559.50925236061 , [ 2.06398379e+03 -3.36122676e+02  3.20919335e-01] , 0.6932766637939912 , 2698.4412370171385 , 1088\n",
      "mallb ,  SPPPEAK ,  -3559.50925236061 ,  2063.9837908433515 ,  -336.1226758871747 ,  0.3209193347639143 ,  0.6932766637939912 ,  2698.4412370171385 ,  1088\n",
      "mallb ,  SPPMMEF ,  -833.203095123411 , [ 1.14154976e+03 -2.04586246e+02  1.15426801e-01] , 0.09435587583294158 , 2936.3254873416863 , 1088\n",
      "mallb ,  SPPMMEF ,  -833.203095123411 ,  1141.5497572476781 ,  -204.58624573150325 ,  0.11542680133180738 ,  0.09435587583294158 ,  2936.3254873416863 ,  1088\n",
      "mallb ,  SPPFEF75 ,  -531.0384799469614 , [-68.78221432 -27.58679983   0.07847447] , 0.2806505652425403 , 756.1439330880482 , 1088\n",
      "mallb ,  SPPFEF75 ,  -531.0384799469614 ,  -68.78221432429659 ,  -27.586799825934705 ,  0.07847447397760376 ,  0.2806505652425403 ,  756.1439330880482 ,  1088\n",
      "mallb ,  SPPEXPIR ,  4.038745858936254 , [ 2.29162847e+00 -1.79113777e-01  1.28757223e-05] , 0.23396183761010034 , 3.4525151541141645 , 1088\n",
      "mallb ,  SPPEXPIR ,  4.038745858936254 ,  2.2916284701946577 ,  -0.17911377673403173 ,  1.2875722280647484e-05 ,  0.23396183761010034 ,  3.4525151541141645 ,  1088\n",
      "mallc ,  SPPFEV1 ,  -1600.0336038424848 , [ 4.29155031e+02 -9.02498321e+01  1.72979204e-01] , 0.8355361875233752 , 1114.7395087396799 , 915\n",
      "mallc ,  SPPFEV1 ,  -1600.0336038424848 ,  429.1550308381808 ,  -90.2498320613069 ,  0.1729792036533695 ,  0.8355361875233752 ,  1114.7395087396799 ,  915\n",
      "mallc ,  SPPFEV3 ,  -2024.256429986478 , [-2.43662988e+02  4.28993239e+01  2.32446288e-01] , 0.08852849452939293 , 4175.50719002504 , 915\n",
      "mallc ,  SPPFEV3 ,  -2024.256429986478 ,  -243.6629881713494 ,  42.89932389408631 ,  0.2324462883339109 ,  0.08852849452939293 ,  4175.50719002504 ,  915\n",
      "mallc ,  SPPFEV6 ,  -2078.2555775936853 , [-126.93053824   32.48068954    0.23232405] , 0.09701630835851294 , 4183.292175890287 , 915\n",
      "mallc ,  SPPFEV6 ,  -2078.2555775936853 ,  -126.93053823510739 ,  32.48068953841619 ,  0.2323240533942652 ,  0.09701630835851294 ,  4183.292175890287 ,  915\n",
      "mallc ,  SPPFVC ,  -2131.7447296169084 , [ 6.62305436e+02 -1.12059764e+02  2.07219303e-01] , 0.8558807951880917 , 1390.3134682950754 , 915\n",
      "mallc ,  SPPFVC ,  -2131.7447296169084 ,  662.3054356297996 ,  -112.05976428784713 ,  0.20721930314385872 ,  0.8558807951880917 ,  1390.3134682950754 ,  915\n",
      "mallc ,  SPPPEAK ,  -3167.8198143572845 , [ 2.28462589e+03 -3.32688575e+02  3.03585591e-01] , 0.7668816403617156 , 2712.6594351486783 , 915\n",
      "mallc ,  SPPPEAK ,  -3167.8198143572845 ,  2284.6258897214916 ,  -332.68857490539017 ,  0.3035855905193898 ,  0.7668816403617156 ,  2712.6594351486783 ,  915\n",
      "mallc ,  SPPMMEF ,  -1062.5078709206196 , [-3.32434114e+02  2.83801562e+01  1.88098238e-01] , 0.04391410962951481 , 4225.789483398483 , 915\n",
      "mallc ,  SPPMMEF ,  -1062.5078709206196 ,  -332.4341138858449 ,  28.38015621335627 ,  0.18809823776015122 ,  0.04391410962951481 ,  4225.789483398483 ,  915\n",
      "mallc ,  SPPFEF75 ,  -573.7121636874663 , [-4.34692322e+02  2.15186152e+01  1.00476951e-01] , 0.3683125265362317 , 817.9442376229727 , 915\n",
      "mallc ,  SPPFEF75 ,  -573.7121636874663 ,  -434.69232226149836 ,  21.518615199625206 ,  0.1004769512648096 ,  0.3683125265362317 ,  817.9442376229727 ,  915\n",
      "mallc ,  SPPEXPIR ,  4.87729485607416 , [ 2.80494214e+00 -2.21271439e-01 -2.15579744e-05] , 0.35646011835896263 , 3.878105900102491 , 915\n",
      "mallc ,  SPPEXPIR ,  4.87729485607416 ,  2.804942137866095 ,  -0.22127143947058162 ,  -2.155797436942386e-05 ,  0.35646011835896263 ,  3.878105900102491 ,  915\n",
      "mallma ,  SPPFEV1 ,  -1717.0424670141479 , [ 5.18784744e+02 -1.11578619e+02  1.81697063e-01] , 0.8268234140630999 , 1021.7172358687038 , 1212\n",
      "mallma ,  SPPFEV1 ,  -1717.0424670141479 ,  518.7847439457911 ,  -111.57861911358906 ,  0.18169706285222276 ,  0.8268234140630999 ,  1021.7172358687038 ,  1212\n",
      "mallma ,  SPPFEV3 ,  -2151.1941648144602 , [ 1.00061341e+03 -1.83612983e+02  1.98447735e-01] , 0.17670212435478294 , 2711.2957859846297 , 1212\n",
      "mallma ,  SPPFEV3 ,  -2151.1941648144602 ,  1000.6134076355762 ,  -183.61298271899014 ,  0.19844773494756396 ,  0.17670212435478294 ,  2711.2957859846297 ,  1212\n",
      "mallma ,  SPPFEV6 ,  -2199.495283102615 , [ 1.10242762e+03 -1.93142351e+02  1.98428887e-01] , 0.18620278522719158 , 2724.659571166607 , 1212\n",
      "mallma ,  SPPFEV6 ,  -2199.495283102615 ,  1102.427619469035 ,  -193.14235134087875 ,  0.19842888669339231 ,  0.18620278522719158 ,  2724.659571166607 ,  1212\n",
      "mallma ,  SPPFVC ,  -2107.9031741558924 , [ 8.03126403e+02 -1.42753931e+02  2.06123128e-01] , 0.8373188934012141 , 1235.0091171577162 , 1212\n",
      "mallma ,  SPPFVC ,  -2107.9031741558924 ,  803.126402746345 ,  -142.75393117142502 ,  0.20612312805957345 ,  0.8373188934012141 ,  1235.0091171577162 ,  1212\n",
      "mallma ,  SPPPEAK ,  -4011.424281591867 , [ 2.37371177e+03 -3.72033464e+02  3.49562476e-01] , 0.7294987374615798 , 2642.599794809899 , 1212\n",
      "mallma ,  SPPPEAK ,  -4011.424281591867 ,  2373.7117720959554 ,  -372.03346439176136 ,  0.3495624764499894 ,  0.7294987374615798 ,  2642.599794809899 ,  1212\n",
      "mallma ,  SPPMMEF ,  -1620.4004206872905 , [ 8.88649415e+02 -1.98440234e+02  1.83734776e-01] , 0.1393935038106946 , 2803.1547011524526 , 1212\n",
      "mallma ,  SPPMMEF ,  -1620.4004206872905 ,  888.6494154025655 ,  -198.4402335024968 ,  0.18373477614599665 ,  0.1393935038106946 ,  2803.1547011524526 ,  1212\n",
      "mallma ,  SPPFEF75 ,  -737.9468788564523 , [-3.96533371e+02  1.11254937e+01  1.14706489e-01] , 0.3889499077646384 , 771.595430190645 , 1212\n",
      "mallma ,  SPPFEF75 ,  -737.9468788564523 ,  -396.53337131468606 ,  11.125493661192325 ,  0.11470648898591662 ,  0.3889499077646384 ,  771.595430190645 ,  1212\n",
      "mallma ,  SPPEXPIR ,  4.533216141376418 , [ 4.15208682e+00 -4.32905623e-01 -7.02920055e-05] , 0.25509956447975457 , 4.186926107232574 , 1212\n",
      "mallma ,  SPPEXPIR ,  4.533216141376418 ,  4.1520868222185845 ,  -0.4329056226571931 ,  -7.029200550134895e-05 ,  0.25509956447975457 ,  4.186926107232574 ,  1212\n",
      "fallcma ,  SPPFEV1 ,  -794.2623212862 , [ 2.70668669e+02 -6.55280188e+01  1.40236651e-01] , 0.7098699289897739 , 656.1607831775264 , 2997\n",
      "fallcma ,  SPPFEV1 ,  -794.2623212862 ,  270.66866906463116 ,  -65.52801875437167 ,  0.1402366511796771 ,  0.7098699289897739 ,  656.1607831775264 ,  2997\n",
      "fallcma ,  SPPFEV3 ,  -799.6830083837563 , [-6.98579638e+02  1.41403639e+02  1.95445240e-01] , 0.015939964757958336 , 6298.457207122434 , 2997\n",
      "fallcma ,  SPPFEV3 ,  -799.6830083837563 ,  -698.5796382574263 ,  141.4036394740253 ,  0.1954452398185822 ,  0.015939964757958336 ,  6298.457207122434 ,  2997\n",
      "fallcma ,  SPPFEV6 ,  -855.1817591668919 , [-6.40693007e+02  1.36802292e+02  1.96699418e-01] , 0.017454427142586493 , 6293.558525071503 , 2997\n",
      "fallcma ,  SPPFEV6 ,  -855.1817591668919 ,  -640.693006766744 ,  136.80229171739037 ,  0.19669941833188886 ,  0.017454427142586493 ,  6293.558525071503 ,  2997\n",
      "fallcma ,  SPPFVC ,  -1197.9501703668966 , [ 4.32931130e+02 -8.09978383e+01  1.65856130e-01] , 0.7051886463612982 , 759.3282300260814 , 2997\n",
      "fallcma ,  SPPFVC ,  -1197.9501703668966 ,  432.9311303016999 ,  -80.9978382690827 ,  0.16585613031030277 ,  0.7051886463612982 ,  759.3282300260814 ,  2997\n",
      "fallcma ,  SPPPEAK ,  -1088.2680839012446 , [ 1.07175865e+03 -1.81521648e+02  2.47900162e-01] , 0.4935206782957763 , 1529.6001662300557 , 2997\n",
      "fallcma ,  SPPPEAK ,  -1088.2680839012446 ,  1071.758650449239 ,  -181.52164846442886 ,  0.2479001619566361 ,  0.4935206782957763 ,  1529.6001662300557 ,  2997\n",
      "fallcma ,  SPPMMEF ,  478.40618534161285 , [-7.91218864e+02  1.29753072e+02  1.55999025e-01] , 0.006522049691134901 , 6345.629704509411 , 2997\n",
      "fallcma ,  SPPMMEF ,  478.40618534161285 ,  -791.2188640480014 ,  129.75307245499354 ,  0.15599902513326924 ,  0.006522049691134901 ,  6345.629704509411 ,  2997\n",
      "fallcma ,  SPPFEF75 ,  -0.36522949722825615 , [-3.69262874e+02  2.26499590e+01  8.21112824e-02] , 0.191037820494543 , 859.9756089965491 , 2997\n",
      "fallcma ,  SPPFEF75 ,  -0.36522949722825615 ,  -369.2628743941778 ,  22.649959019996665 ,  0.08211128243302923 ,  0.191037820494543 ,  859.9756089965491 ,  2997\n",
      "fallcma ,  SPPEXPIR ,  4.489484950476925 , [ 2.13989565e+00 -1.61699411e-01 -4.13388670e-06] , 0.21319538241016014 , 4.055573556397773 , 2997\n",
      "fallcma ,  SPPEXPIR ,  4.489484950476925 ,  2.1398956511685716 ,  -0.16169941140976182 ,  -4.133886701729317e-06 ,  0.21319538241016014 ,  4.055573556397773 ,  2997\n",
      "fallb ,  SPPFEV1 ,  -1018.606272897468 , [ 2.10683793e+02 -5.89572720e+01  1.35278690e-01] , 0.6407485685583441 , 623.1098899184265 , 1544\n",
      "fallb ,  SPPFEV1 ,  -1018.606272897468 ,  210.68379327309452 ,  -58.957271962526136 ,  0.13527869008031246 ,  0.6407485685583441 ,  623.1098899184265 ,  1544\n",
      "fallb ,  SPPFEV3 ,  -1285.6460671911923 , [-2.60040794e+02  6.06691372e+01  1.74854146e-01] , 0.01742060261813505 , 4432.551030909883 , 1544\n",
      "fallb ,  SPPFEV3 ,  -1285.6460671911923 ,  -260.0407936930487 ,  60.66913720586837 ,  0.17485414619568473 ,  0.01742060261813505 ,  4432.551030909883 ,  1544\n",
      "fallb ,  SPPFEV6 ,  -1310.7495944308653 , [-2.06537722e+02  5.60411372e+01  1.75047489e-01] , 0.018886023310731304 , 4430.630009018761 , 1544\n",
      "fallb ,  SPPFEV6 ,  -1310.7495944308653 ,  -206.53772191432907 ,  56.04113716615468 ,  0.17504748891968092 ,  0.018886023310731304 ,  4430.630009018761 ,  1544\n",
      "fallb ,  SPPFVC ,  -1234.8863616314547 , [ 3.64019678e+02 -7.50098065e+01  1.50756463e-01] , 0.6349693807975682 , 705.8497498508358 , 1544\n",
      "fallb ,  SPPFVC ,  -1234.8863616314547 ,  364.0196782397797 ,  -75.00980648583298 ,  0.15075646294739897 ,  0.6349693807975682 ,  705.8497498508358 ,  1544\n",
      "fallb ,  SPPPEAK ,  -1498.2800884231292 , [ 1.17120284e+03 -2.15515088e+02  2.54072920e-01] , 0.4491357464157877 , 1647.724814337829 , 1544\n",
      "fallb ,  SPPPEAK ,  -1498.2800884231292 ,  1171.2028374563663 ,  -215.51508848155692 ,  0.2540729195689835 ,  0.4491357464157877 ,  1647.724814337829 ,  1544\n",
      "fallb ,  SPPMMEF ,  -842.7539273507286 , [-3.83529905e+02  5.30650053e+01  1.76161946e-01] , 0.012203692320270298 , 4503.542979106232 , 1544\n",
      "fallb ,  SPPMMEF ,  -842.7539273507286 ,  -383.52990543631864 ,  53.06500533447563 ,  0.17616194637803773 ,  0.012203692320270298 ,  4503.542979106232 ,  1544\n",
      "fallb ,  SPPFEF75 ,  -398.33690902041053 , [-3.18417245e+02  1.78965528e+01  8.56105983e-02] , 0.20390925850589858 , 723.6339361476712 , 1544\n",
      "fallb ,  SPPFEF75 ,  -398.33690902041053 ,  -318.4172448153005 ,  17.896552849675114 ,  0.08561059834087104 ,  0.20390925850589858 ,  723.6339361476712 ,  1544\n",
      "fallb ,  SPPEXPIR ,  4.489074231696655 , [ 1.96863882e+00 -1.13860543e-01 -1.06936934e-05] , 0.12825306789634494 , 5.143115153710836 , 1544\n",
      "fallb ,  SPPEXPIR ,  4.489074231696655 ,  1.9686388211516617 ,  -0.11386054348498534 ,  -1.0693693354393852e-05 ,  0.12825306789634494 ,  5.143115153710836 ,  1544\n",
      "fallc ,  SPPFEV1 ,  -798.993702361036 , [ 2.40335481e+02 -5.91084426e+01  1.39314217e-01] , 0.7382705784578198 , 691.0045327096224 , 1405\n",
      "fallc ,  SPPFEV1 ,  -798.993702361036 ,  240.3354813164741 ,  -59.1084426433944 ,  0.13931421731007987 ,  0.7382705784578198 ,  691.0045327096224 ,  1405\n",
      "fallc ,  SPPFEV3 ,  -1551.1157458118873 , [-1.10951613e+03  2.01308482e+02  2.40374987e-01] , 0.018321683727468785 , 7255.643310836778 , 1405\n",
      "fallc ,  SPPFEV3 ,  -1551.1157458118873 ,  -1109.5161344829621 ,  201.30848170373676 ,  0.2403749868066427 ,  0.018321683727468785 ,  7255.643310836778 ,  1405\n",
      "fallc ,  SPPFEV6 ,  -1598.3064594718899 , [-1.03910223e+03  1.95144154e+02  2.40699194e-01] , 0.01974712334465345 , 7248.373482291737 , 1405\n",
      "fallc ,  SPPFEV6 ,  -1598.3064594718899 ,  -1039.1022331736594 ,  195.14415397883926 ,  0.24069919421603458 ,  0.01974712334465345 ,  7248.373482291737 ,  1405\n",
      "fallc ,  SPPFVC ,  -1195.9769034451524 , [ 4.22450097e+02 -7.75956478e+01  1.64568793e-01] , 0.7267838834356122 , 802.2397685031829 , 1405\n",
      "fallc ,  SPPFVC ,  -1195.9769034451524 ,  422.45009657605203 ,  -77.59564781196711 ,  0.16456879345454922 ,  0.7267838834356122 ,  802.2397685031829 ,  1405\n",
      "fallc ,  SPPPEAK ,  -865.8762161686236 , [ 1.15442183e+03 -1.85176089e+02  2.29167912e-01] , 0.5441465234211527 , 1530.06090960372 , 1405\n",
      "fallc ,  SPPPEAK ,  -865.8762161686236 ,  1154.4218304319486 ,  -185.17608906016787 ,  0.2291679120176866 ,  0.5441465234211527 ,  1530.06090960372 ,  1405\n",
      "fallc ,  SPPMMEF ,  -411.74369480606947 , [-1.32177001e+03  2.09147487e+02  2.06691032e-01] , 0.009932520108323906 , 7312.8762737760835 , 1405\n",
      "fallc ,  SPPMMEF ,  -411.74369480606947 ,  -1321.770012015698 ,  209.14748721508084 ,  0.2066910321443629 ,  0.009932520108323906 ,  7312.8762737760835 ,  1405\n",
      "fallc ,  SPPFEF75 ,  -202.28381208603332 , [-4.84843587e+02  4.04456634e+01  9.19852061e-02] , 0.18679600673430719 , 924.2797023665242 , 1405\n",
      "fallc ,  SPPFEF75 ,  -202.28381208603332 ,  -484.8435867282744 ,  40.44566344937991 ,  0.09198520610068073 ,  0.18679600673430719 ,  924.2797023665242 ,  1405\n",
      "fallc ,  SPPEXPIR ,  5.2618633053775055 , [ 2.13103917e+00 -1.66092517e-01 -2.90258341e-05] , 0.18256438070833214 , 4.395193703593155 , 1405\n",
      "fallc ,  SPPEXPIR ,  5.2618633053775055 ,  2.1310391705586738 ,  -0.16609251713029685 ,  -2.902583409353232e-05 ,  0.18256438070833214 ,  4.395193703593155 ,  1405\n",
      "fallma ,  SPPFEV1 ,  -977.3801862565583 , [ 2.92417263e+02 -7.10501461e+01  1.49030416e-01] , 0.690758127862362 , 623.963232823418 , 1592\n",
      "fallma ,  SPPFEV1 ,  -977.3801862565583 ,  292.4172629999416 ,  -71.05014607113647 ,  0.14903041552805973 ,  0.690758127862362 ,  623.963232823418 ,  1592\n",
      "fallma ,  SPPFEV3 ,  -540.5571904150584 , [-3.44867775e+02  8.57016054e+01  1.71200969e-01] , 0.011652645487778113 , 5308.700081251355 , 1592\n",
      "fallma ,  SPPFEV3 ,  -540.5571904150584 ,  -344.8677749976949 ,  85.70160541178412 ,  0.1712009693704033 ,  0.011652645487778113 ,  5308.700081251355 ,  1592\n",
      "fallma ,  SPPFEV6 ,  -587.374401674364 , [-2.92366001e+02  8.15200541e+01  1.72375050e-01] , 0.012934484380528244 , 5305.675495129027 , 1592\n",
      "fallma ,  SPPFEV6 ,  -587.374401674364 ,  -292.3660005935748 ,  81.52005405796773 ,  0.1723750496938692 ,  0.012934484380528244 ,  5305.675495129027 ,  1592\n",
      "fallma ,  SPPFVC ,  -1290.2789255958892 , [ 4.56889755e+02 -8.72017758e+01  1.70093191e-01] , 0.6808210649373582 , 714.4095759483025 , 1592\n",
      "fallma ,  SPPFVC ,  -1290.2789255958892 ,  456.88975513399 ,  -87.20177584736233 ,  0.17009319122773547 ,  0.6808210649373582 ,  714.4095759483025 ,  1592\n",
      "fallma ,  SPPPEAK ,  -1523.0231774613521 , [ 1.07814377e+03 -1.93679715e+02  2.71277960e-01] , 0.45823379042090473 , 1526.5303227870663 , 1592\n",
      "fallma ,  SPPPEAK ,  -1523.0231774613521 ,  1078.1437654707781 ,  -193.67971483625715 ,  0.27127795959884793 ,  0.45823379042090473 ,  1526.5303227870663 ,  1592\n",
      "fallma ,  SPPMMEF ,  346.12081463692994 , [-4.10209644e+02  6.92952654e+01  1.51150655e-01] , 0.005451933436142364 , 5351.043500715606 , 1592\n",
      "fallma ,  SPPMMEF ,  346.12081463692994 ,  -410.20964437205623 ,  69.29526541291578 ,  0.15115065507859526 ,  0.005451933436142364 ,  5351.043500715606 ,  1592\n",
      "fallma ,  SPPFEF75 ,  -169.93334605585574 , [-3.22920416e+02  1.55591092e+01  8.98305384e-02] , 0.20253136722854304 , 792.2258464043877 , 1592\n",
      "fallma ,  SPPFEF75 ,  -169.93334605585574 ,  -322.92041605212825 ,  15.559109158503913 ,  0.08983053836800359 ,  0.20253136722854304 ,  792.2258464043877 ,  1592\n",
      "fallma ,  SPPEXPIR ,  3.8899277853348186 , [ 2.12167715e+00 -1.51493261e-01  1.75206372e-05] , 0.23676508467054225 , 3.692565127735447 , 1592\n",
      "fallma ,  SPPEXPIR ,  3.8899277853348186 ,  2.1216771467177136 ,  -0.15149326085569656 ,  1.7520637188961352e-05 ,  0.23676508467054225 ,  3.692565127735447 ,  1592\n",
      "at end\n",
      "                     dfname       var    intercept           b1          b2  \\\n",
      "dfnvarn                                                                       \n",
      "[m20overbSPPFEV1]  m20overb   SPPFEV1   818.545080  -299.633738   -0.598034   \n",
      "[m20overbSPPFEV3]  m20overb   SPPFEV3  1627.830523   687.734958 -116.770116   \n",
      "[m20overbSPPFEV6]  m20overb   SPPFEV6  1401.677139   749.324001 -120.933350   \n",
      "[m20overbSPPFVC]   m20overb    SPPFVC   147.693092  -251.166200   -0.520948   \n",
      "[m20overbSPPPEAK]  m20overb   SPPPEAK  1546.177020   104.927355  -91.134577   \n",
      "...                     ...       ...          ...          ...         ...   \n",
      "[fallmaSPPFVC]       fallma    SPPFVC -1290.278926   456.889755  -87.201776   \n",
      "[fallmaSPPPEAK]      fallma   SPPPEAK -1523.023177  1078.143765 -193.679715   \n",
      "[fallmaSPPMMEF]      fallma   SPPMMEF   346.120815  -410.209644   69.295265   \n",
      "[fallmaSPPFEF75]     fallma  SPPFEF75  -169.933346  -322.920416   15.559109   \n",
      "[fallmaSPPEXPIR]     fallma  SPPEXPIR     3.889928     2.121677   -0.151493   \n",
      "\n",
      "                         b3        r2          std count  \n",
      "dfnvarn                                                   \n",
      "[m20overbSPPFEV1]  0.118233  0.478727   716.347636   479  \n",
      "[m20overbSPPFEV3]  0.059819  0.007064  3950.867493   479  \n",
      "[m20overbSPPFEV6]  0.067264  0.006787  3945.460537   479  \n",
      "[m20overbSPPFVC]   0.159871  0.445637   798.977144   479  \n",
      "[m20overbSPPPEAK]  0.266199  0.257933  2020.496392   479  \n",
      "...                     ...       ...          ...   ...  \n",
      "[fallmaSPPFVC]     0.170093  0.680821   714.409576  1592  \n",
      "[fallmaSPPPEAK]    0.271278  0.458234  1526.530323  1592  \n",
      "[fallmaSPPMMEF]    0.151151  0.005452  5351.043501  1592  \n",
      "[fallmaSPPFEF75]   0.089831  0.202531   792.225846  1592  \n",
      "[fallmaSPPEXPIR]   0.000018  0.236765     3.692565  1592  \n",
      "\n",
      "[192 rows x 9 columns]\n"
     ]
    }
   ],
   "source": [
    "# First initialize resultsratio dataframe\n",
    "column_names = [\"dfnvarn\",\"dfname\", \"var\", \"intercept\", \"b1\", \"b2\", \"b3\", \"r2\", \"std\", \"count\"]\n",
    "# print (column_names)\n",
    "resultsnonratio = pd.DataFrame(columns = column_names)\n",
    "resultsnonratio.name = 'resultsnonratio'\n",
    "print (resultsnonratio)\n",
    "print ('Linear Regression of variables in form y = intercept + b1 * age + b2 * age * age + b3 * height * height')\n",
    "print ('dataframe ,  variable,        intercept,   [b1. b2. b3]. ,            R squared,         standard deviation   count')\n",
    "for y in framestoanalyze:\n",
    "  #  print (y.name)\n",
    "    for xx in varsnonratio:\n",
    " #       print(y, \" \", xx)\n",
    "         reg = height_age_reg(y,xx)\n",
    "         dbname, var, intercept, coef, r2, std, count = reg\n",
    "         b1, b2, b3, = coef\n",
    "         print (dbname, ', ', var, ', ',intercept, ', ',b1, ', ',b2, ', ',b3, ', ',r2, ', ',std, ', ',count)\n",
    "         #  Columns: [dfnvarn, dfname, var, intercept, b1, b2, b3, r2, std, count] \n",
    "\n",
    "         dfnvarn = y.name + xx   \n",
    "            \n",
    "         df2 = {'dfnvarn': [dfnvarn], 'dfname': y.name, 'var': xx, 'intercept': intercept, 'b1': b1, 'b2': b2, 'b3': b3, 'r2':r2, 'std':std, 'count':count}                          \n",
    "         resultsnonratio = resultsnonratio.append(df2, ignore_index=True)\n",
    "print ('at end')\n",
    "resultsnonratio.set_index('dfnvarn', inplace=True)\n",
    "print (resultsnonratio)            "
   ]
  },
  {
   "cell_type": "code",
   "execution_count": null,
   "metadata": {},
   "outputs": [],
   "source": []
  },
  {
   "cell_type": "code",
   "execution_count": null,
   "metadata": {},
   "outputs": [],
   "source": []
  },
  {
   "cell_type": "markdown",
   "metadata": {},
   "source": [
    "# Now try create new variable %predicted"
   ]
  },
  {
   "cell_type": "markdown",
   "metadata": {},
   "source": [
    "  #  height = 'BMPHT'\n",
    "# age = 'HSAGEIR'/12 - or age in months/12\n",
    "def linear_regagepp(data, y_var):\n",
    "    X = data['HSAGEIR']/12  # to convert to year\n",
    "    XOR = X\n",
    "    X = np.array(X).reshape(-1, 1)\n",
    "    y = data[y_var]\n",
    "    lr = LinearRegression().fit(X, y)\n",
    "        # do linear regression fit on X, y\n",
    "    print(data.name, \", \",y_var, \", \",lr.intercept_, \", \", lr.coef_, \", \", lr.score(X, y), \", \", data.loc[:,y_var].std(), \", \", data.loc[:,y_var].count())\n",
    "    return lr.intercept_, lr.coef_\n",
    "# create new variable percent predicted - later need have variable y_var.\"PP\"\n",
    "#    newvar = y_var + 'PP'\n",
    " #   data[newvar] = y / (lr.intercept_ + lr.coef_ * data['HSAGEIR']/12) * 100\n",
    "#. prints intercept, slope, and r squared\n",
    "   # print (lr.std_)\n",
    "   # return lr\n",
    "\n",
    "# reg.coef_"
   ]
  },
  {
   "cell_type": "code",
   "execution_count": 131,
   "metadata": {},
   "outputs": [],
   "source": [
    "  #  height = 'BMPHT'\n",
    "# age = 'HSAGEIR'/12 - or age in months/12\n",
    "def linear_regagepp(data, y_var):\n",
    "    X = data['HSAGEIR']/12  # to convert to year\n",
    "    XOR = X\n",
    "    X = np.array(X).reshape(-1, 1)\n",
    "    y = data[y_var]\n",
    "    lr = LinearRegression().fit(X, y)\n",
    "        # do linear regression fit on X, y\n",
    "    print(data.name, \", \",y_var, \", \",lr.intercept_, \", \", lr.coef_, \", \", lr.score(X, y), \", \", data.loc[:,y_var].std(), \", \", data.loc[:,y_var].count())\n",
    "    return lr.intercept_, lr.coef_\n",
    "# create new variable percent predicted - later need have variable y_var.\"PP\"\n",
    "    newvar = y_var + 'PPP'\n",
    "    data[newvar] = y / (lr.intercept_ + lr.coef_ * data['HSAGEIR']/12)\n",
    "    data[newvar] = y / (lr.intercept_ + lr.coef_ * data['HSAGEIR']/12)\n",
    "#. prints intercept, slope, and r squared\n",
    "   # print (lr.std_)\n",
    "   # return lr\n",
    "\n",
    "# reg.coef_"
   ]
  },
  {
   "cell_type": "markdown",
   "metadata": {},
   "source": [
    "Test trying percent predicted variable"
   ]
  },
  {
   "cell_type": "code",
   "execution_count": null,
   "metadata": {},
   "outputs": [],
   "source": []
  },
  {
   "cell_type": "code",
   "execution_count": null,
   "metadata": {},
   "outputs": [],
   "source": []
  },
  {
   "cell_type": "code",
   "execution_count": null,
   "metadata": {},
   "outputs": [],
   "source": []
  },
  {
   "cell_type": "code",
   "execution_count": 151,
   "metadata": {},
   "outputs": [
    {
     "data": {
      "text/plain": [
       "<matplotlib.axes._subplots.AxesSubplot at 0x121fa2450>"
      ]
     },
     "execution_count": 151,
     "metadata": {},
     "output_type": "execute_result"
    },
    {
     "data": {
      "image/png": "[encoded data removed]",
      "text/plain": [
       "<Figure size 432x288 with 1 Axes>"
      ]
     },
     "metadata": {
      "needs_background": "light"
     },
     "output_type": "display_data"
    }
   ],
   "source": [
    "m20overc.FEV1OFVC.hist(bins='auto')"
   ]
  },
  {
   "cell_type": "code",
   "execution_count": 178,
   "metadata": {},
   "outputs": [
    {
     "ename": "AttributeError",
     "evalue": "'DataFrame' object has no attribute 'FEV1OFVCPP'",
     "output_type": "error",
     "traceback": [
      "\u001b[0;31m---------------------------------------------------------------------------\u001b[0m",
      "\u001b[0;31mAttributeError\u001b[0m                            Traceback (most recent call last)",
      "\u001b[0;32m<ipython-input-178-a948683f6631>\u001b[0m in \u001b[0;36m<module>\u001b[0;34m\u001b[0m\n\u001b[0;32m----> 1\u001b[0;31m \u001b[0mm20overc\u001b[0m\u001b[0;34m.\u001b[0m\u001b[0mFEV1OFVCPP\u001b[0m\u001b[0;34m.\u001b[0m\u001b[0mhist\u001b[0m\u001b[0;34m(\u001b[0m\u001b[0mbins\u001b[0m\u001b[0;34m=\u001b[0m\u001b[0;34m'auto'\u001b[0m\u001b[0;34m)\u001b[0m\u001b[0;34m\u001b[0m\u001b[0;34m\u001b[0m\u001b[0m\n\u001b[0m",
      "\u001b[0;32m/usr/local/lib/python3.7/site-packages/pandas/core/generic.py\u001b[0m in \u001b[0;36m__getattr__\u001b[0;34m(self, name)\u001b[0m\n\u001b[1;32m   5272\u001b[0m             \u001b[0;32mif\u001b[0m \u001b[0mself\u001b[0m\u001b[0;34m.\u001b[0m\u001b[0m_info_axis\u001b[0m\u001b[0;34m.\u001b[0m\u001b[0m_can_hold_identifiers_and_holds_name\u001b[0m\u001b[0;34m(\u001b[0m\u001b[0mname\u001b[0m\u001b[0;34m)\u001b[0m\u001b[0;34m:\u001b[0m\u001b[0;34m\u001b[0m\u001b[0;34m\u001b[0m\u001b[0m\n\u001b[1;32m   5273\u001b[0m                 \u001b[0;32mreturn\u001b[0m \u001b[0mself\u001b[0m\u001b[0;34m[\u001b[0m\u001b[0mname\u001b[0m\u001b[0;34m]\u001b[0m\u001b[0;34m\u001b[0m\u001b[0;34m\u001b[0m\u001b[0m\n\u001b[0;32m-> 5274\u001b[0;31m             \u001b[0;32mreturn\u001b[0m \u001b[0mobject\u001b[0m\u001b[0;34m.\u001b[0m\u001b[0m__getattribute__\u001b[0m\u001b[0;34m(\u001b[0m\u001b[0mself\u001b[0m\u001b[0;34m,\u001b[0m \u001b[0mname\u001b[0m\u001b[0;34m)\u001b[0m\u001b[0;34m\u001b[0m\u001b[0;34m\u001b[0m\u001b[0m\n\u001b[0m\u001b[1;32m   5275\u001b[0m \u001b[0;34m\u001b[0m\u001b[0m\n\u001b[1;32m   5276\u001b[0m     \u001b[0;32mdef\u001b[0m \u001b[0m__setattr__\u001b[0m\u001b[0;34m(\u001b[0m\u001b[0mself\u001b[0m\u001b[0;34m,\u001b[0m \u001b[0mname\u001b[0m\u001b[0;34m:\u001b[0m \u001b[0mstr\u001b[0m\u001b[0;34m,\u001b[0m \u001b[0mvalue\u001b[0m\u001b[0;34m)\u001b[0m \u001b[0;34m->\u001b[0m \u001b[0;32mNone\u001b[0m\u001b[0;34m:\u001b[0m\u001b[0;34m\u001b[0m\u001b[0;34m\u001b[0m\u001b[0m\n",
      "\u001b[0;31mAttributeError\u001b[0m: 'DataFrame' object has no attribute 'FEV1OFVCPP'"
     ]
    }
   ],
   "source": [
    "m20overc.FEV1OFVCPP.hist(bins='auto')"
   ]
  },
  {
   "cell_type": "code",
   "execution_count": 153,
   "metadata": {},
   "outputs": [
    {
     "name": "stdout",
     "output_type": "stream",
     "text": [
      "0.788236891255396 0.08652781139466979 0.14233824974423182 0.6458986415111642\n",
      "0.6904955167397269\n"
     ]
    }
   ],
   "source": [
    "std = m20overc.FEV1OFVC.std()\n",
    "mean = m20overc.FEV1OFVC.mean()\n",
    "ratio = std / mean # m20overc.FEV1OFVC.std()/m20overc.FEV1OFVC.mean()\n",
    "print (mean, ratio, ratio* 1.645, mean - (ratio*1.645))\n",
    "print (.876 * mean)"
   ]
  },
  {
   "cell_type": "markdown",
   "metadata": {},
   "source": [
    "says mean FEV1/FVC .788, lower limit if use std for all data .645"
   ]
  },
  {
   "cell_type": "markdown",
   "metadata": {},
   "source": [
    "The std is smaller for %predicted than for actual value\n",
    "so to get 5% lower limit can use %predicted - 1.645 * std"
   ]
  },
  {
   "cell_type": "code",
   "execution_count": 154,
   "metadata": {},
   "outputs": [
    {
     "ename": "AttributeError",
     "evalue": "'DataFrame' object has no attribute 'FEV1OFVCPP'",
     "output_type": "error",
     "traceback": [
      "\u001b[0;31m---------------------------------------------------------------------------\u001b[0m",
      "\u001b[0;31mAttributeError\u001b[0m                            Traceback (most recent call last)",
      "\u001b[0;32m<ipython-input-154-c6fc5485c65c>\u001b[0m in \u001b[0;36m<module>\u001b[0;34m\u001b[0m\n\u001b[0;32m----> 1\u001b[0;31m \u001b[0mstd\u001b[0m \u001b[0;34m=\u001b[0m \u001b[0mm20overc\u001b[0m\u001b[0;34m.\u001b[0m\u001b[0mFEV1OFVCPP\u001b[0m\u001b[0;34m.\u001b[0m\u001b[0mstd\u001b[0m\u001b[0;34m(\u001b[0m\u001b[0;34m)\u001b[0m\u001b[0;34m\u001b[0m\u001b[0;34m\u001b[0m\u001b[0m\n\u001b[0m\u001b[1;32m      2\u001b[0m \u001b[0mmean\u001b[0m \u001b[0;34m=\u001b[0m \u001b[0mm20overc\u001b[0m\u001b[0;34m.\u001b[0m\u001b[0mFEV1OFVCPP\u001b[0m\u001b[0;34m.\u001b[0m\u001b[0mmean\u001b[0m\u001b[0;34m(\u001b[0m\u001b[0;34m)\u001b[0m\u001b[0;34m\u001b[0m\u001b[0;34m\u001b[0m\u001b[0m\n\u001b[1;32m      3\u001b[0m \u001b[0mratio\u001b[0m \u001b[0;34m=\u001b[0m \u001b[0mstd\u001b[0m\u001b[0;34m/\u001b[0m\u001b[0mmean\u001b[0m \u001b[0;31m# m20overc.FEV1OFVCPP.std()/m20overc.FEV1OFVCPP.mean()\u001b[0m\u001b[0;34m\u001b[0m\u001b[0;34m\u001b[0m\u001b[0m\n\u001b[1;32m      4\u001b[0m \u001b[0mprint\u001b[0m \u001b[0;34m(\u001b[0m\u001b[0mmean\u001b[0m\u001b[0;34m,\u001b[0m \u001b[0mratio\u001b[0m\u001b[0;34m,\u001b[0m \u001b[0mratio\u001b[0m\u001b[0;34m*\u001b[0m\u001b[0;36m1.645\u001b[0m\u001b[0;34m,\u001b[0m \u001b[0mmean\u001b[0m \u001b[0;34m-\u001b[0m \u001b[0;34m(\u001b[0m\u001b[0mratio\u001b[0m\u001b[0;34m*\u001b[0m\u001b[0;36m1.645\u001b[0m\u001b[0;34m)\u001b[0m\u001b[0;34m)\u001b[0m\u001b[0;34m\u001b[0m\u001b[0;34m\u001b[0m\u001b[0m\n",
      "\u001b[0;32m/usr/local/lib/python3.7/site-packages/pandas/core/generic.py\u001b[0m in \u001b[0;36m__getattr__\u001b[0;34m(self, name)\u001b[0m\n\u001b[1;32m   5272\u001b[0m             \u001b[0;32mif\u001b[0m \u001b[0mself\u001b[0m\u001b[0;34m.\u001b[0m\u001b[0m_info_axis\u001b[0m\u001b[0;34m.\u001b[0m\u001b[0m_can_hold_identifiers_and_holds_name\u001b[0m\u001b[0;34m(\u001b[0m\u001b[0mname\u001b[0m\u001b[0;34m)\u001b[0m\u001b[0;34m:\u001b[0m\u001b[0;34m\u001b[0m\u001b[0;34m\u001b[0m\u001b[0m\n\u001b[1;32m   5273\u001b[0m                 \u001b[0;32mreturn\u001b[0m \u001b[0mself\u001b[0m\u001b[0;34m[\u001b[0m\u001b[0mname\u001b[0m\u001b[0;34m]\u001b[0m\u001b[0;34m\u001b[0m\u001b[0;34m\u001b[0m\u001b[0m\n\u001b[0;32m-> 5274\u001b[0;31m             \u001b[0;32mreturn\u001b[0m \u001b[0mobject\u001b[0m\u001b[0;34m.\u001b[0m\u001b[0m__getattribute__\u001b[0m\u001b[0;34m(\u001b[0m\u001b[0mself\u001b[0m\u001b[0;34m,\u001b[0m \u001b[0mname\u001b[0m\u001b[0;34m)\u001b[0m\u001b[0;34m\u001b[0m\u001b[0;34m\u001b[0m\u001b[0m\n\u001b[0m\u001b[1;32m   5275\u001b[0m \u001b[0;34m\u001b[0m\u001b[0m\n\u001b[1;32m   5276\u001b[0m     \u001b[0;32mdef\u001b[0m \u001b[0m__setattr__\u001b[0m\u001b[0;34m(\u001b[0m\u001b[0mself\u001b[0m\u001b[0;34m,\u001b[0m \u001b[0mname\u001b[0m\u001b[0;34m:\u001b[0m \u001b[0mstr\u001b[0m\u001b[0;34m,\u001b[0m \u001b[0mvalue\u001b[0m\u001b[0;34m)\u001b[0m \u001b[0;34m->\u001b[0m \u001b[0;32mNone\u001b[0m\u001b[0;34m:\u001b[0m\u001b[0;34m\u001b[0m\u001b[0;34m\u001b[0m\u001b[0m\n",
      "\u001b[0;31mAttributeError\u001b[0m: 'DataFrame' object has no attribute 'FEV1OFVCPP'"
     ]
    }
   ],
   "source": [
    "std = m20overc.FEV1OFVCPP.std()\n",
    "mean = m20overc.FEV1OFVCPP.mean()\n",
    "ratio = std/mean # m20overc.FEV1OFVCPP.std()/m20overc.FEV1OFVCPP.mean()\n",
    "print (mean, ratio, ratio*1.645, mean - (ratio*1.645))"
   ]
  },
  {
   "cell_type": "markdown",
   "metadata": {},
   "source": [
    "says mean FEV1/FVC %pred is 100% and lower limit .876 of that\n",
    "if use prior mean FEV1/FVC of .788, .876 of that is .69 which is higher than .645"
   ]
  },
  {
   "cell_type": "code",
   "execution_count": 155,
   "metadata": {},
   "outputs": [
    {
     "name": "stdout",
     "output_type": "stream",
     "text": [
      "0.690288\n"
     ]
    }
   ],
   "source": [
    "print(.788*.876)"
   ]
  },
  {
   "cell_type": "code",
   "execution_count": 156,
   "metadata": {},
   "outputs": [
    {
     "ename": "SyntaxError",
     "evalue": "invalid syntax (<ipython-input-156-49ccb33d9253>, line 1)",
     "output_type": "error",
     "traceback": [
      "\u001b[0;36m  File \u001b[0;32m\"<ipython-input-156-49ccb33d9253>\"\u001b[0;36m, line \u001b[0;32m1\u001b[0m\n\u001b[0;31m    Try saving variables to array\u001b[0m\n\u001b[0m             ^\u001b[0m\n\u001b[0;31mSyntaxError\u001b[0m\u001b[0;31m:\u001b[0m invalid syntax\n"
     ]
    }
   ],
   "source": [
    "Try saving variables to array"
   ]
  },
  {
   "cell_type": "code",
   "execution_count": 157,
   "metadata": {},
   "outputs": [
    {
     "ename": "AttributeError",
     "evalue": "'DataFrame' object has no attribute 'name'",
     "output_type": "error",
     "traceback": [
      "\u001b[0;31m---------------------------------------------------------------------------\u001b[0m",
      "\u001b[0;31mAttributeError\u001b[0m                            Traceback (most recent call last)",
      "\u001b[0;32m<ipython-input-157-a343bb454e0a>\u001b[0m in \u001b[0;36m<module>\u001b[0;34m\u001b[0m\n\u001b[0;32m----> 1\u001b[0;31m \u001b[0mprint\u001b[0m \u001b[0;34m(\u001b[0m\u001b[0mm20overc\u001b[0m\u001b[0;34m.\u001b[0m\u001b[0mname\u001b[0m\u001b[0;34m)\u001b[0m\u001b[0;34m\u001b[0m\u001b[0;34m\u001b[0m\u001b[0m\n\u001b[0m\u001b[1;32m      2\u001b[0m \u001b[0mprint\u001b[0m \u001b[0;34m(\u001b[0m\u001b[0mvarsratio\u001b[0m\u001b[0;34m[\u001b[0m\u001b[0;36m1\u001b[0m\u001b[0;34m]\u001b[0m\u001b[0;34m)\u001b[0m\u001b[0;34m\u001b[0m\u001b[0;34m\u001b[0m\u001b[0m\n\u001b[1;32m      3\u001b[0m \u001b[0mdfvar\u001b[0m \u001b[0;34m=\u001b[0m \u001b[0mm20overc\u001b[0m\u001b[0;34m.\u001b[0m\u001b[0mname\u001b[0m \u001b[0;34m+\u001b[0m \u001b[0mvarsratio\u001b[0m\u001b[0;34m[\u001b[0m\u001b[0;36m1\u001b[0m\u001b[0;34m]\u001b[0m\u001b[0;34m\u001b[0m\u001b[0;34m\u001b[0m\u001b[0m\n\u001b[1;32m      4\u001b[0m \u001b[0mprint\u001b[0m \u001b[0;34m(\u001b[0m\u001b[0mdfvar\u001b[0m\u001b[0;34m)\u001b[0m\u001b[0;34m\u001b[0m\u001b[0;34m\u001b[0m\u001b[0m\n",
      "\u001b[0;32m/usr/local/lib/python3.7/site-packages/pandas/core/generic.py\u001b[0m in \u001b[0;36m__getattr__\u001b[0;34m(self, name)\u001b[0m\n\u001b[1;32m   5272\u001b[0m             \u001b[0;32mif\u001b[0m \u001b[0mself\u001b[0m\u001b[0;34m.\u001b[0m\u001b[0m_info_axis\u001b[0m\u001b[0;34m.\u001b[0m\u001b[0m_can_hold_identifiers_and_holds_name\u001b[0m\u001b[0;34m(\u001b[0m\u001b[0mname\u001b[0m\u001b[0;34m)\u001b[0m\u001b[0;34m:\u001b[0m\u001b[0;34m\u001b[0m\u001b[0;34m\u001b[0m\u001b[0m\n\u001b[1;32m   5273\u001b[0m                 \u001b[0;32mreturn\u001b[0m \u001b[0mself\u001b[0m\u001b[0;34m[\u001b[0m\u001b[0mname\u001b[0m\u001b[0;34m]\u001b[0m\u001b[0;34m\u001b[0m\u001b[0;34m\u001b[0m\u001b[0m\n\u001b[0;32m-> 5274\u001b[0;31m             \u001b[0;32mreturn\u001b[0m \u001b[0mobject\u001b[0m\u001b[0;34m.\u001b[0m\u001b[0m__getattribute__\u001b[0m\u001b[0;34m(\u001b[0m\u001b[0mself\u001b[0m\u001b[0;34m,\u001b[0m \u001b[0mname\u001b[0m\u001b[0;34m)\u001b[0m\u001b[0;34m\u001b[0m\u001b[0;34m\u001b[0m\u001b[0m\n\u001b[0m\u001b[1;32m   5275\u001b[0m \u001b[0;34m\u001b[0m\u001b[0m\n\u001b[1;32m   5276\u001b[0m     \u001b[0;32mdef\u001b[0m \u001b[0m__setattr__\u001b[0m\u001b[0;34m(\u001b[0m\u001b[0mself\u001b[0m\u001b[0;34m,\u001b[0m \u001b[0mname\u001b[0m\u001b[0;34m:\u001b[0m \u001b[0mstr\u001b[0m\u001b[0;34m,\u001b[0m \u001b[0mvalue\u001b[0m\u001b[0;34m)\u001b[0m \u001b[0;34m->\u001b[0m \u001b[0;32mNone\u001b[0m\u001b[0;34m:\u001b[0m\u001b[0;34m\u001b[0m\u001b[0;34m\u001b[0m\u001b[0m\n",
      "\u001b[0;31mAttributeError\u001b[0m: 'DataFrame' object has no attribute 'name'"
     ]
    }
   ],
   "source": [
    "print (m20overc.name)\n",
    "print (varsratio[1])\n",
    "dfvar = m20overc.name + varsratio[1]\n",
    "print (dfvar)"
   ]
  },
  {
   "cell_type": "code",
   "execution_count": 129,
   "metadata": {},
   "outputs": [
    {
     "name": "stdout",
     "output_type": "stream",
     "text": [
      "Empty DataFrame\n",
      "Columns: [dfnvarn, dfname, var, intercept, slope, r2, std, count]\n",
      "Index: []\n"
     ]
    }
   ],
   "source": [
    "print (resultsratio)"
   ]
  },
  {
   "cell_type": "markdown",
   "metadata": {},
   "source": [
    "new variable %pred ratios"
   ]
  },
  {
   "cell_type": "markdown",
   "metadata": {},
   "source": [
    "data.loc['m20overbFEV1OFVC']"
   ]
  },
  {
   "cell_type": "code",
   "execution_count": 130,
   "metadata": {},
   "outputs": [
    {
     "ename": "NameError",
     "evalue": "name 'dfname' is not defined",
     "output_type": "error",
     "traceback": [
      "\u001b[0;31m---------------------------------------------------------------------------\u001b[0m",
      "\u001b[0;31mNameError\u001b[0m                                 Traceback (most recent call last)",
      "\u001b[0;32m<ipython-input-130-8e48c62071bd>\u001b[0m in \u001b[0;36m<module>\u001b[0;34m\u001b[0m\n\u001b[0;32m----> 1\u001b[0;31m \u001b[0mprint\u001b[0m \u001b[0;34m(\u001b[0m\u001b[0mdfname\u001b[0m\u001b[0;34m)\u001b[0m\u001b[0;34m\u001b[0m\u001b[0;34m\u001b[0m\u001b[0m\n\u001b[0m",
      "\u001b[0;31mNameError\u001b[0m: name 'dfname' is not defined"
     ]
    }
   ],
   "source": [
    "print (dfname)"
   ]
  },
  {
   "cell_type": "markdown",
   "metadata": {},
   "source": [
    "# Now do regression for non-ratios height_age_reg(data, y_var)"
   ]
  },
  {
   "cell_type": "markdown",
   "metadata": {},
   "source": [
    "# Height_age_reg regression y = b0 + b1 * age + b2 * age * age + b3 * height * height"
   ]
  },
  {
   "cell_type": "markdown",
   "metadata": {},
   "source": [
    "def height_age_reg(data, y_var):\n",
    "# convert agemonths to years\n",
    "    X_age = data['HSAGEIR']/12\n",
    "    X_age = np.array(X_age).reshape(-1, 1)\n",
    "    X_age = np.hstack((X_age, X_age**2))\n",
    "    X_height = data['BMPHT']**2\n",
    "    X_height = np.array(X_height).reshape(-1, 1)\n",
    "    X = np.concatenate((X_age, X_height), axis=1)\n",
    "    y = data[y_var]\n",
    "    lr = LinearRegression().fit(X, y)\n",
    "        # do linear regression fit on X, y\n",
    "    print(data.name, \", \",y_var, \", \",lr.intercept_, \",\", lr.coef_, \",\", lr.score(X, y), \",\",  data.loc[:,y_var].std(), \",\",  data.loc[:,y_var].count())"
   ]
  },
  {
   "cell_type": "code",
   "execution_count": 161,
   "metadata": {},
   "outputs": [],
   "source": [
    "def height_age_reg(data, y_var):\n",
    "# convert agemonths to years\n",
    "    X_age = data['HSAGEIR']/12\n",
    "    X_age = np.array(X_age).reshape(-1, 1)\n",
    "    X_age = np.hstack((X_age, X_age**2))\n",
    "    X_height = data['BMPHT']**2\n",
    "    X_height = np.array(X_height).reshape(-1, 1)\n",
    "    X = np.concatenate((X_age, X_height), axis=1)\n",
    "    y = data[y_var]\n",
    "    lr = LinearRegression().fit(X, y)\n",
    "        # do linear regression fit on X, y\n",
    "    print(data.name, \", \",y_var, \", \",lr.intercept_, \",\", lr.coef_, \",\", lr.score(X, y), \",\",  data.loc[:,y_var].std(), \",\",  data.loc[:,y_var].count())\n",
    "    return data.name, y_var, lr.intercept_, lr.coef_, lr.score(X, y), data.loc[:,y_var].std(), data.loc[:,y_var].count()"
   ]
  },
  {
   "cell_type": "code",
   "execution_count": 162,
   "metadata": {},
   "outputs": [
    {
     "name": "stdout",
     "output_type": "stream",
     "text": [
      "m20overb ,  SPPFEV1 ,  818.5450802528767 , [-2.99633738e+02 -5.98033876e-01  1.18232577e-01] , 0.47872744724171157 , 716.3476358369503 , 479\n"
     ]
    },
    {
     "data": {
      "text/plain": [
       "('m20overb',\n",
       " 'SPPFEV1',\n",
       " 818.5450802528767,\n",
       " array([-2.99633738e+02, -5.98033876e-01,  1.18232577e-01]),\n",
       " 0.47872744724171157,\n",
       " 716.3476358369503,\n",
       " 479)"
      ]
     },
     "execution_count": 162,
     "metadata": {},
     "output_type": "execute_result"
    }
   ],
   "source": [
    "height_age_reg(m20overb, 'SPPFEV1')"
   ]
  },
  {
   "cell_type": "markdown",
   "metadata": {},
   "source": [
    "# Now do regression for all dataframes all nonratio variables & save resultsnonratio"
   ]
  },
  {
   "cell_type": "markdown",
   "metadata": {},
   "source": [
    "# First initialize resultsratio dataframe\n",
    "column_names = [\"dfnvarn\",\"dfname\", \"var\", \"intercept\", \"b1\", \"b2\", \"b3\", \"r2\", \"std\", \"count\"]\n",
    "# print (column_names)\n",
    "resultsnonratio = pd.DataFrame(columns = column_names)\n",
    "resultsnonratio.name = 'resultsnonratio'\n",
    "print (resultsnonratio)\n",
    "print ('Linear Regression of variables in form y = intercept + b1 * age + b2 * age * age + b3 * height * height')\n",
    "print ('dataframe ,  variable,        intercept,   [b1. b2. b3]. ,            R squared,         standard deviation   count')\n",
    "for y in framestoanalyze:\n",
    "  #  print (y.name)\n",
    "    for xx in varsnonratio:\n",
    " #       print(y, \" \", xx)\n",
    "         reg = height_age_reg(y,xx)\n",
    "         dbname, var, intercept, coef, r2, std, count = reg\n",
    "         b1, b2, b3, = coef\n",
    "         print (dbname, ', ', var, ', ',intercept, ', ',b1, ', ',b2, ', ',b3, ', ',r2, ', ',std, ', ',count)\n",
    "         #  Columns: [dfnvarn, dfname, var, intercept, b1, b2, b3, r2, std, count] \n",
    "\n",
    "         dfnvarn = y.name + xx   \n",
    "            \n",
    "         df2 = {'dfnvarn': [dfnvarn], 'dfname': y.name, 'var': xx, 'intercept': intercept, 'b1': b1, 'b2': b2, 'b3': b3, 'r2':r2, 'std':std, 'count':count}                          \n",
    "         resultsnonratio = resultsnonratio.append(df2, ignore_index=True)"
   ]
  },
  {
   "cell_type": "code",
   "execution_count": 163,
   "metadata": {},
   "outputs": [
    {
     "name": "stdout",
     "output_type": "stream",
     "text": [
      "Empty DataFrame\n",
      "Columns: [dfnvarn, dfname, var, intercept, b1, b2, b3, r2, std, count]\n",
      "Index: []\n",
      "Linear Regression of variables in form y = intercept + b1 * age + b2 * age * age + b3 * height * height\n",
      "dataframe ,  variable,        intercept,   [b1. b2. b3]. ,            R squared,         standard deviation   count\n"
     ]
    },
    {
     "ename": "NameError",
     "evalue": "name 'framestoanalyze' is not defined",
     "output_type": "error",
     "traceback": [
      "\u001b[0;31m---------------------------------------------------------------------------\u001b[0m",
      "\u001b[0;31mNameError\u001b[0m                                 Traceback (most recent call last)",
      "\u001b[0;32m<ipython-input-163-02b7c473bb67>\u001b[0m in \u001b[0;36m<module>\u001b[0;34m\u001b[0m\n\u001b[1;32m      7\u001b[0m \u001b[0mprint\u001b[0m \u001b[0;34m(\u001b[0m\u001b[0;34m'Linear Regression of variables in form y = intercept + b1 * age + b2 * age * age + b3 * height * height'\u001b[0m\u001b[0;34m)\u001b[0m\u001b[0;34m\u001b[0m\u001b[0;34m\u001b[0m\u001b[0m\n\u001b[1;32m      8\u001b[0m \u001b[0mprint\u001b[0m \u001b[0;34m(\u001b[0m\u001b[0;34m'dataframe ,  variable,        intercept,   [b1. b2. b3]. ,            R squared,         standard deviation   count'\u001b[0m\u001b[0;34m)\u001b[0m\u001b[0;34m\u001b[0m\u001b[0;34m\u001b[0m\u001b[0m\n\u001b[0;32m----> 9\u001b[0;31m \u001b[0;32mfor\u001b[0m \u001b[0my\u001b[0m \u001b[0;32min\u001b[0m \u001b[0mframestoanalyze\u001b[0m\u001b[0;34m:\u001b[0m\u001b[0;34m\u001b[0m\u001b[0;34m\u001b[0m\u001b[0m\n\u001b[0m\u001b[1;32m     10\u001b[0m   \u001b[0;31m#  print (y.name)\u001b[0m\u001b[0;34m\u001b[0m\u001b[0;34m\u001b[0m\u001b[0;34m\u001b[0m\u001b[0m\n\u001b[1;32m     11\u001b[0m     \u001b[0;32mfor\u001b[0m \u001b[0mxx\u001b[0m \u001b[0;32min\u001b[0m \u001b[0mvarsnonratio\u001b[0m\u001b[0;34m:\u001b[0m\u001b[0;34m\u001b[0m\u001b[0;34m\u001b[0m\u001b[0m\n",
      "\u001b[0;31mNameError\u001b[0m: name 'framestoanalyze' is not defined"
     ]
    }
   ],
   "source": [
    "# First initialize resultsratio dataframe\n",
    "column_names = [\"dfnvarn\",\"dfname\", \"var\", \"intercept\", \"b1\", \"b2\", \"b3\", \"r2\", \"std\", \"count\"]\n",
    "# print (column_names)\n",
    "resultsnonratio = pd.DataFrame(columns = column_names)\n",
    "resultsnonratio.name = 'resultsnonratio'\n",
    "print (resultsnonratio)\n",
    "print ('Linear Regression of variables in form y = intercept + b1 * age + b2 * age * age + b3 * height * height')\n",
    "print ('dataframe ,  variable,        intercept,   [b1. b2. b3]. ,            R squared,         standard deviation   count')\n",
    "for y in framestoanalyze:\n",
    "  #  print (y.name)\n",
    "    for xx in varsnonratio:\n",
    " #       print(y, \" \", xx)\n",
    "         reg = height_age_reg(y,xx)\n",
    "         dbname, var, intercept, coef, r2, std, count = reg\n",
    "         b1, b2, b3, = coef\n",
    "         print (dbname, ', ', var, ', ',intercept, ', ',b1, ', ',b2, ', ',b3, ', ',r2, ', ',std, ', ',count)\n",
    "         #  Columns: [dfnvarn, dfname, var, intercept, b1, b2, b3, r2, std, count] \n",
    "\n",
    "         dfnvarn = y.name + xx   \n",
    "            \n",
    "         df2 = {'dfnvarn': [dfnvarn], 'dfname': y.name, 'var': xx, 'intercept': intercept, 'b1': b1, 'b2': b2, 'b3': b3, 'r2':r2, 'std':std, 'count':count}                          \n",
    "         resultsnonratio = resultsnonratio.append(df2, ignore_index=True)"
   ]
  },
  {
   "cell_type": "code",
   "execution_count": 164,
   "metadata": {},
   "outputs": [
    {
     "name": "stdout",
     "output_type": "stream",
     "text": [
      "Empty DataFrame\n",
      "Columns: [dfnvarn, dfname, var, intercept, b1, b2, b3, r2, std, count]\n",
      "Index: []\n"
     ]
    }
   ],
   "source": [
    "print (resultsnonratio)"
   ]
  },
  {
   "cell_type": "markdown",
   "metadata": {},
   "source": [
    "# Now need calculate percent predicted variables"
   ]
  },
  {
   "cell_type": "markdown",
   "metadata": {},
   "source": [
    "#        varpp = xx + 'PP'\n",
    " #       print (var, ' ', dfvar, ' ', xx, ' ', varpp)\n",
    "    \n",
    " #   I think will need do for each variable unless can indirct       \n",
    " #  create new variable with PP at end = variable / predicted, where predicted = intercept + slope * Agemonth/12   \n",
    " #       y.varpp = y.xx / (intercept + slope * y.HSAGEIR/12)\n",
    " #       print (y.varpp.mean(), \" \", y.varpp.std())\n",
    "    \n",
    "    Need cycle through all rows in results ratio, take the database and variable and "
   ]
  },
  {
   "cell_type": "markdown",
   "metadata": {},
   "source": [
    "for each data base\n",
    "  create new variables PP pulling from resultsvar. and results nonvar\n",
    "  first resultsvar\n",
    "  "
   ]
  },
  {
   "cell_type": "markdown",
   "metadata": {},
   "source": [
    "# Try for one variable, one df"
   ]
  },
  {
   "cell_type": "code",
   "execution_count": 165,
   "metadata": {},
   "outputs": [
    {
     "name": "stdout",
     "output_type": "stream",
     "text": [
      "Empty DataFrame\n",
      "Columns: [dfnvarn, dfname, var, intercept, slope, r2, std, count]\n",
      "Index: []\n"
     ]
    }
   ],
   "source": [
    "\n",
    "print (resultsratio)"
   ]
  },
  {
   "cell_type": "code",
   "execution_count": 166,
   "metadata": {},
   "outputs": [
    {
     "data": {
      "text/plain": [
       "Series([], Name: slope, dtype: object)"
      ]
     },
     "execution_count": 166,
     "metadata": {},
     "output_type": "execute_result"
    }
   ],
   "source": [
    "resultsratio.slope"
   ]
  },
  {
   "cell_type": "code",
   "execution_count": 167,
   "metadata": {},
   "outputs": [
    {
     "ename": "KeyError",
     "evalue": "'m20overbFEV1OFVC'",
     "output_type": "error",
     "traceback": [
      "\u001b[0;31m---------------------------------------------------------------------------\u001b[0m",
      "\u001b[0;31mKeyError\u001b[0m                                  Traceback (most recent call last)",
      "\u001b[0;32m/usr/local/lib/python3.7/site-packages/pandas/core/indexes/base.py\u001b[0m in \u001b[0;36mget_loc\u001b[0;34m(self, key, method, tolerance)\u001b[0m\n\u001b[1;32m   2645\u001b[0m             \u001b[0;32mtry\u001b[0m\u001b[0;34m:\u001b[0m\u001b[0;34m\u001b[0m\u001b[0;34m\u001b[0m\u001b[0m\n\u001b[0;32m-> 2646\u001b[0;31m                 \u001b[0;32mreturn\u001b[0m \u001b[0mself\u001b[0m\u001b[0;34m.\u001b[0m\u001b[0m_engine\u001b[0m\u001b[0;34m.\u001b[0m\u001b[0mget_loc\u001b[0m\u001b[0;34m(\u001b[0m\u001b[0mkey\u001b[0m\u001b[0;34m)\u001b[0m\u001b[0;34m\u001b[0m\u001b[0;34m\u001b[0m\u001b[0m\n\u001b[0m\u001b[1;32m   2647\u001b[0m             \u001b[0;32mexcept\u001b[0m \u001b[0mKeyError\u001b[0m\u001b[0;34m:\u001b[0m\u001b[0;34m\u001b[0m\u001b[0;34m\u001b[0m\u001b[0m\n",
      "\u001b[0;32mpandas/_libs/index.pyx\u001b[0m in \u001b[0;36mpandas._libs.index.IndexEngine.get_loc\u001b[0;34m()\u001b[0m\n",
      "\u001b[0;32mpandas/_libs/index.pyx\u001b[0m in \u001b[0;36mpandas._libs.index.IndexEngine.get_loc\u001b[0;34m()\u001b[0m\n",
      "\u001b[0;32mpandas/_libs/hashtable_class_helper.pxi\u001b[0m in \u001b[0;36mpandas._libs.hashtable.PyObjectHashTable.get_item\u001b[0;34m()\u001b[0m\n",
      "\u001b[0;32mpandas/_libs/hashtable_class_helper.pxi\u001b[0m in \u001b[0;36mpandas._libs.hashtable.PyObjectHashTable.get_item\u001b[0;34m()\u001b[0m\n",
      "\u001b[0;31mKeyError\u001b[0m: 'm20overbFEV1OFVC'",
      "\nDuring handling of the above exception, another exception occurred:\n",
      "\u001b[0;31mKeyError\u001b[0m                                  Traceback (most recent call last)",
      "\u001b[0;32m<ipython-input-167-3f805bf7730c>\u001b[0m in \u001b[0;36m<module>\u001b[0;34m\u001b[0m\n\u001b[0;32m----> 1\u001b[0;31m \u001b[0mresultsratio\u001b[0m\u001b[0;34m.\u001b[0m\u001b[0mloc\u001b[0m\u001b[0;34m[\u001b[0m\u001b[0;34m'm20overbFEV1OFVC'\u001b[0m\u001b[0;34m]\u001b[0m\u001b[0;34m\u001b[0m\u001b[0;34m\u001b[0m\u001b[0m\n\u001b[0m",
      "\u001b[0;32m/usr/local/lib/python3.7/site-packages/pandas/core/indexing.py\u001b[0m in \u001b[0;36m__getitem__\u001b[0;34m(self, key)\u001b[0m\n\u001b[1;32m   1765\u001b[0m \u001b[0;34m\u001b[0m\u001b[0m\n\u001b[1;32m   1766\u001b[0m             \u001b[0mmaybe_callable\u001b[0m \u001b[0;34m=\u001b[0m \u001b[0mcom\u001b[0m\u001b[0;34m.\u001b[0m\u001b[0mapply_if_callable\u001b[0m\u001b[0;34m(\u001b[0m\u001b[0mkey\u001b[0m\u001b[0;34m,\u001b[0m \u001b[0mself\u001b[0m\u001b[0;34m.\u001b[0m\u001b[0mobj\u001b[0m\u001b[0;34m)\u001b[0m\u001b[0;34m\u001b[0m\u001b[0;34m\u001b[0m\u001b[0m\n\u001b[0;32m-> 1767\u001b[0;31m             \u001b[0;32mreturn\u001b[0m \u001b[0mself\u001b[0m\u001b[0;34m.\u001b[0m\u001b[0m_getitem_axis\u001b[0m\u001b[0;34m(\u001b[0m\u001b[0mmaybe_callable\u001b[0m\u001b[0;34m,\u001b[0m \u001b[0maxis\u001b[0m\u001b[0;34m=\u001b[0m\u001b[0maxis\u001b[0m\u001b[0;34m)\u001b[0m\u001b[0;34m\u001b[0m\u001b[0;34m\u001b[0m\u001b[0m\n\u001b[0m\u001b[1;32m   1768\u001b[0m \u001b[0;34m\u001b[0m\u001b[0m\n\u001b[1;32m   1769\u001b[0m     \u001b[0;32mdef\u001b[0m \u001b[0m_is_scalar_access\u001b[0m\u001b[0;34m(\u001b[0m\u001b[0mself\u001b[0m\u001b[0;34m,\u001b[0m \u001b[0mkey\u001b[0m\u001b[0;34m:\u001b[0m \u001b[0mTuple\u001b[0m\u001b[0;34m)\u001b[0m\u001b[0;34m:\u001b[0m\u001b[0;34m\u001b[0m\u001b[0;34m\u001b[0m\u001b[0m\n",
      "\u001b[0;32m/usr/local/lib/python3.7/site-packages/pandas/core/indexing.py\u001b[0m in \u001b[0;36m_getitem_axis\u001b[0;34m(self, key, axis)\u001b[0m\n\u001b[1;32m   1962\u001b[0m         \u001b[0;31m# fall thru to straight lookup\u001b[0m\u001b[0;34m\u001b[0m\u001b[0;34m\u001b[0m\u001b[0;34m\u001b[0m\u001b[0m\n\u001b[1;32m   1963\u001b[0m         \u001b[0mself\u001b[0m\u001b[0;34m.\u001b[0m\u001b[0m_validate_key\u001b[0m\u001b[0;34m(\u001b[0m\u001b[0mkey\u001b[0m\u001b[0;34m,\u001b[0m \u001b[0maxis\u001b[0m\u001b[0;34m)\u001b[0m\u001b[0;34m\u001b[0m\u001b[0;34m\u001b[0m\u001b[0m\n\u001b[0;32m-> 1964\u001b[0;31m         \u001b[0;32mreturn\u001b[0m \u001b[0mself\u001b[0m\u001b[0;34m.\u001b[0m\u001b[0m_get_label\u001b[0m\u001b[0;34m(\u001b[0m\u001b[0mkey\u001b[0m\u001b[0;34m,\u001b[0m \u001b[0maxis\u001b[0m\u001b[0;34m=\u001b[0m\u001b[0maxis\u001b[0m\u001b[0;34m)\u001b[0m\u001b[0;34m\u001b[0m\u001b[0;34m\u001b[0m\u001b[0m\n\u001b[0m\u001b[1;32m   1965\u001b[0m \u001b[0;34m\u001b[0m\u001b[0m\n\u001b[1;32m   1966\u001b[0m \u001b[0;34m\u001b[0m\u001b[0m\n",
      "\u001b[0;32m/usr/local/lib/python3.7/site-packages/pandas/core/indexing.py\u001b[0m in \u001b[0;36m_get_label\u001b[0;34m(self, label, axis)\u001b[0m\n\u001b[1;32m    622\u001b[0m             \u001b[0;32mraise\u001b[0m \u001b[0mIndexingError\u001b[0m\u001b[0;34m(\u001b[0m\u001b[0;34m\"no slices here, handle elsewhere\"\u001b[0m\u001b[0;34m)\u001b[0m\u001b[0;34m\u001b[0m\u001b[0;34m\u001b[0m\u001b[0m\n\u001b[1;32m    623\u001b[0m \u001b[0;34m\u001b[0m\u001b[0m\n\u001b[0;32m--> 624\u001b[0;31m         \u001b[0;32mreturn\u001b[0m \u001b[0mself\u001b[0m\u001b[0;34m.\u001b[0m\u001b[0mobj\u001b[0m\u001b[0;34m.\u001b[0m\u001b[0m_xs\u001b[0m\u001b[0;34m(\u001b[0m\u001b[0mlabel\u001b[0m\u001b[0;34m,\u001b[0m \u001b[0maxis\u001b[0m\u001b[0;34m=\u001b[0m\u001b[0maxis\u001b[0m\u001b[0;34m)\u001b[0m\u001b[0;34m\u001b[0m\u001b[0;34m\u001b[0m\u001b[0m\n\u001b[0m\u001b[1;32m    625\u001b[0m \u001b[0;34m\u001b[0m\u001b[0m\n\u001b[1;32m    626\u001b[0m     \u001b[0;32mdef\u001b[0m \u001b[0m_get_loc\u001b[0m\u001b[0;34m(\u001b[0m\u001b[0mself\u001b[0m\u001b[0;34m,\u001b[0m \u001b[0mkey\u001b[0m\u001b[0;34m:\u001b[0m \u001b[0mint\u001b[0m\u001b[0;34m,\u001b[0m \u001b[0maxis\u001b[0m\u001b[0;34m:\u001b[0m \u001b[0mint\u001b[0m\u001b[0;34m)\u001b[0m\u001b[0;34m:\u001b[0m\u001b[0;34m\u001b[0m\u001b[0;34m\u001b[0m\u001b[0m\n",
      "\u001b[0;32m/usr/local/lib/python3.7/site-packages/pandas/core/generic.py\u001b[0m in \u001b[0;36mxs\u001b[0;34m(self, key, axis, level, drop_level)\u001b[0m\n\u001b[1;32m   3535\u001b[0m             \u001b[0mloc\u001b[0m\u001b[0;34m,\u001b[0m \u001b[0mnew_index\u001b[0m \u001b[0;34m=\u001b[0m \u001b[0mself\u001b[0m\u001b[0;34m.\u001b[0m\u001b[0mindex\u001b[0m\u001b[0;34m.\u001b[0m\u001b[0mget_loc_level\u001b[0m\u001b[0;34m(\u001b[0m\u001b[0mkey\u001b[0m\u001b[0;34m,\u001b[0m \u001b[0mdrop_level\u001b[0m\u001b[0;34m=\u001b[0m\u001b[0mdrop_level\u001b[0m\u001b[0;34m)\u001b[0m\u001b[0;34m\u001b[0m\u001b[0;34m\u001b[0m\u001b[0m\n\u001b[1;32m   3536\u001b[0m         \u001b[0;32melse\u001b[0m\u001b[0;34m:\u001b[0m\u001b[0;34m\u001b[0m\u001b[0;34m\u001b[0m\u001b[0m\n\u001b[0;32m-> 3537\u001b[0;31m             \u001b[0mloc\u001b[0m \u001b[0;34m=\u001b[0m \u001b[0mself\u001b[0m\u001b[0;34m.\u001b[0m\u001b[0mindex\u001b[0m\u001b[0;34m.\u001b[0m\u001b[0mget_loc\u001b[0m\u001b[0;34m(\u001b[0m\u001b[0mkey\u001b[0m\u001b[0;34m)\u001b[0m\u001b[0;34m\u001b[0m\u001b[0;34m\u001b[0m\u001b[0m\n\u001b[0m\u001b[1;32m   3538\u001b[0m \u001b[0;34m\u001b[0m\u001b[0m\n\u001b[1;32m   3539\u001b[0m             \u001b[0;32mif\u001b[0m \u001b[0misinstance\u001b[0m\u001b[0;34m(\u001b[0m\u001b[0mloc\u001b[0m\u001b[0;34m,\u001b[0m \u001b[0mnp\u001b[0m\u001b[0;34m.\u001b[0m\u001b[0mndarray\u001b[0m\u001b[0;34m)\u001b[0m\u001b[0;34m:\u001b[0m\u001b[0;34m\u001b[0m\u001b[0;34m\u001b[0m\u001b[0m\n",
      "\u001b[0;32m/usr/local/lib/python3.7/site-packages/pandas/core/indexes/base.py\u001b[0m in \u001b[0;36mget_loc\u001b[0;34m(self, key, method, tolerance)\u001b[0m\n\u001b[1;32m   2646\u001b[0m                 \u001b[0;32mreturn\u001b[0m \u001b[0mself\u001b[0m\u001b[0;34m.\u001b[0m\u001b[0m_engine\u001b[0m\u001b[0;34m.\u001b[0m\u001b[0mget_loc\u001b[0m\u001b[0;34m(\u001b[0m\u001b[0mkey\u001b[0m\u001b[0;34m)\u001b[0m\u001b[0;34m\u001b[0m\u001b[0;34m\u001b[0m\u001b[0m\n\u001b[1;32m   2647\u001b[0m             \u001b[0;32mexcept\u001b[0m \u001b[0mKeyError\u001b[0m\u001b[0;34m:\u001b[0m\u001b[0;34m\u001b[0m\u001b[0;34m\u001b[0m\u001b[0m\n\u001b[0;32m-> 2648\u001b[0;31m                 \u001b[0;32mreturn\u001b[0m \u001b[0mself\u001b[0m\u001b[0;34m.\u001b[0m\u001b[0m_engine\u001b[0m\u001b[0;34m.\u001b[0m\u001b[0mget_loc\u001b[0m\u001b[0;34m(\u001b[0m\u001b[0mself\u001b[0m\u001b[0;34m.\u001b[0m\u001b[0m_maybe_cast_indexer\u001b[0m\u001b[0;34m(\u001b[0m\u001b[0mkey\u001b[0m\u001b[0;34m)\u001b[0m\u001b[0;34m)\u001b[0m\u001b[0;34m\u001b[0m\u001b[0;34m\u001b[0m\u001b[0m\n\u001b[0m\u001b[1;32m   2649\u001b[0m         \u001b[0mindexer\u001b[0m \u001b[0;34m=\u001b[0m \u001b[0mself\u001b[0m\u001b[0;34m.\u001b[0m\u001b[0mget_indexer\u001b[0m\u001b[0;34m(\u001b[0m\u001b[0;34m[\u001b[0m\u001b[0mkey\u001b[0m\u001b[0;34m]\u001b[0m\u001b[0;34m,\u001b[0m \u001b[0mmethod\u001b[0m\u001b[0;34m=\u001b[0m\u001b[0mmethod\u001b[0m\u001b[0;34m,\u001b[0m \u001b[0mtolerance\u001b[0m\u001b[0;34m=\u001b[0m\u001b[0mtolerance\u001b[0m\u001b[0;34m)\u001b[0m\u001b[0;34m\u001b[0m\u001b[0;34m\u001b[0m\u001b[0m\n\u001b[1;32m   2650\u001b[0m         \u001b[0;32mif\u001b[0m \u001b[0mindexer\u001b[0m\u001b[0;34m.\u001b[0m\u001b[0mndim\u001b[0m \u001b[0;34m>\u001b[0m \u001b[0;36m1\u001b[0m \u001b[0;32mor\u001b[0m \u001b[0mindexer\u001b[0m\u001b[0;34m.\u001b[0m\u001b[0msize\u001b[0m \u001b[0;34m>\u001b[0m \u001b[0;36m1\u001b[0m\u001b[0;34m:\u001b[0m\u001b[0;34m\u001b[0m\u001b[0;34m\u001b[0m\u001b[0m\n",
      "\u001b[0;32mpandas/_libs/index.pyx\u001b[0m in \u001b[0;36mpandas._libs.index.IndexEngine.get_loc\u001b[0;34m()\u001b[0m\n",
      "\u001b[0;32mpandas/_libs/index.pyx\u001b[0m in \u001b[0;36mpandas._libs.index.IndexEngine.get_loc\u001b[0;34m()\u001b[0m\n",
      "\u001b[0;32mpandas/_libs/hashtable_class_helper.pxi\u001b[0m in \u001b[0;36mpandas._libs.hashtable.PyObjectHashTable.get_item\u001b[0;34m()\u001b[0m\n",
      "\u001b[0;32mpandas/_libs/hashtable_class_helper.pxi\u001b[0m in \u001b[0;36mpandas._libs.hashtable.PyObjectHashTable.get_item\u001b[0;34m()\u001b[0m\n",
      "\u001b[0;31mKeyError\u001b[0m: 'm20overbFEV1OFVC'"
     ]
    }
   ],
   "source": [
    "resultsratio.loc['m20overbFEV1OFVC']"
   ]
  },
  {
   "cell_type": "markdown",
   "metadata": {},
   "source": [
    "def createvarspp(df):\n",
    "    vn = df.name + 'FEV1OFVC'\n",
    "  #  print (vn)\n",
    "    resultsratio.loc[['m20overbFEV1OFVC'], ['intercept']] \n",
    "  #  print (resultsratio.loc['m20overbFEV1OFVC', 'intercept'])\n",
    "  #  print (resultsratio.loc[vn, 'slope'])\n",
    "    a =  resultsratio.loc['m20overbFEV1OFVC', 'intercept'] \n",
    "    b = resultsratio.loc[vn, 'slope']\n",
    "  #  print (a)\n",
    "  #  print ('b ', b)\n",
    "    df['FEV1OFVCPP'] = df.FEV1OFVC / (a + b * (df.HSAGEIR / 12))\n",
    "  #  df['FEV1OFVCPP'] = df. FEV1OFVC / (resultsratio.loc [vn,intercept] + resultsratio.loc[vn,slope]) # * df.HSAGEIR/12)\n",
    "  #  df['FEV1OFVCPP'] = df.FEV1OFVC / 100\n",
    "  def createvarspp(df):\n",
    "    vn = df.name + 'FEV1OFVC'\n",
    "  #  print (vn)\n",
    "  #  resultsratio.loc[['m20overbFEV1OFVC'], ['intercept']] \n",
    "  #  print (resultsratio.loc['m20overbFEV1OFVC', 'intercept'])\n",
    "  #  print (resultsratio.loc[vn, 'slope'])\n",
    "  #  a =  resultsratio.loc['m20overbFEV1OFVC', 'intercept'] \n",
    "   # b = resultsratio.loc[vn, 'slope']\n",
    "  #  print (a)\n",
    "  #  print ('b ', b)\n",
    " #   df['FEV1OFVCPP'] = df.FEV1OFVC / (a + b * (df.HSAGEIR / 12))\n",
    "    df['FEV1OFVCPP'] = df.FEV1OFVC / (resultsratio.loc[vn, 'intercept'] + resultsratio.loc[vn, 'slope'] * (df.HSAGEIR / 12))\n"
   ]
  },
  {
   "cell_type": "code",
   "execution_count": 168,
   "metadata": {},
   "outputs": [],
   "source": [
    "def createvarsppone(df):\n",
    "    vn = df.name + 'FEV1OFVC'\n",
    "  #  print (vn)\n",
    "  #  resultsratio.loc[['m20overbFEV1OFVC'], ['intercept']] \n",
    "  #  print (resultsratio.loc['m20overbFEV1OFVC', 'intercept'])\n",
    "  #  print (resultsratio.loc[vn, 'slope'])\n",
    "  #  a =  resultsratio.loc['m20overbFEV1OFVC', 'intercept'] \n",
    "   # b = resultsratio.loc[vn, 'slope']\n",
    "  #  print (a)\n",
    "  #  print ('b ', b)\n",
    " #   df['FEV1OFVCPP'] = df.FEV1OFVC / (a + b * (df.HSAGEIR / 12))\n",
    "    df['FEV1OFVCPP'] = df.FEV1OFVC / (resultsratio.loc[vn, 'intercept'] + resultsratio.loc[vn, 'slope'] * (df.HSAGEIR / 12))\n",
    "    print (vn)"
   ]
  },
  {
   "cell_type": "code",
   "execution_count": 169,
   "metadata": {},
   "outputs": [
    {
     "ename": "KeyError",
     "evalue": "'m20overbFEV1OFVC'",
     "output_type": "error",
     "traceback": [
      "\u001b[0;31m---------------------------------------------------------------------------\u001b[0m",
      "\u001b[0;31mKeyError\u001b[0m                                  Traceback (most recent call last)",
      "\u001b[0;32m/usr/local/lib/python3.7/site-packages/pandas/core/indexes/base.py\u001b[0m in \u001b[0;36mget_loc\u001b[0;34m(self, key, method, tolerance)\u001b[0m\n\u001b[1;32m   2645\u001b[0m             \u001b[0;32mtry\u001b[0m\u001b[0;34m:\u001b[0m\u001b[0;34m\u001b[0m\u001b[0;34m\u001b[0m\u001b[0m\n\u001b[0;32m-> 2646\u001b[0;31m                 \u001b[0;32mreturn\u001b[0m \u001b[0mself\u001b[0m\u001b[0;34m.\u001b[0m\u001b[0m_engine\u001b[0m\u001b[0;34m.\u001b[0m\u001b[0mget_loc\u001b[0m\u001b[0;34m(\u001b[0m\u001b[0mkey\u001b[0m\u001b[0;34m)\u001b[0m\u001b[0;34m\u001b[0m\u001b[0;34m\u001b[0m\u001b[0m\n\u001b[0m\u001b[1;32m   2647\u001b[0m             \u001b[0;32mexcept\u001b[0m \u001b[0mKeyError\u001b[0m\u001b[0;34m:\u001b[0m\u001b[0;34m\u001b[0m\u001b[0;34m\u001b[0m\u001b[0m\n",
      "\u001b[0;32mpandas/_libs/index.pyx\u001b[0m in \u001b[0;36mpandas._libs.index.IndexEngine.get_loc\u001b[0;34m()\u001b[0m\n",
      "\u001b[0;32mpandas/_libs/index.pyx\u001b[0m in \u001b[0;36mpandas._libs.index.IndexEngine.get_loc\u001b[0;34m()\u001b[0m\n",
      "\u001b[0;32mpandas/_libs/hashtable_class_helper.pxi\u001b[0m in \u001b[0;36mpandas._libs.hashtable.PyObjectHashTable.get_item\u001b[0;34m()\u001b[0m\n",
      "\u001b[0;32mpandas/_libs/hashtable_class_helper.pxi\u001b[0m in \u001b[0;36mpandas._libs.hashtable.PyObjectHashTable.get_item\u001b[0;34m()\u001b[0m\n",
      "\u001b[0;31mKeyError\u001b[0m: 'm20overbFEV1OFVC'",
      "\nDuring handling of the above exception, another exception occurred:\n",
      "\u001b[0;31mKeyError\u001b[0m                                  Traceback (most recent call last)",
      "\u001b[0;32m<ipython-input-169-5180abf7637d>\u001b[0m in \u001b[0;36m<module>\u001b[0;34m\u001b[0m\n\u001b[0;32m----> 1\u001b[0;31m \u001b[0mcreatevarsppone\u001b[0m\u001b[0;34m(\u001b[0m\u001b[0mm20overb\u001b[0m\u001b[0;34m)\u001b[0m\u001b[0;34m\u001b[0m\u001b[0;34m\u001b[0m\u001b[0m\n\u001b[0m",
      "\u001b[0;32m<ipython-input-168-91635abfe30e>\u001b[0m in \u001b[0;36mcreatevarsppone\u001b[0;34m(df)\u001b[0m\n\u001b[1;32m     10\u001b[0m   \u001b[0;31m#  print ('b ', b)\u001b[0m\u001b[0;34m\u001b[0m\u001b[0;34m\u001b[0m\u001b[0;34m\u001b[0m\u001b[0m\n\u001b[1;32m     11\u001b[0m  \u001b[0;31m#   df['FEV1OFVCPP'] = df.FEV1OFVC / (a + b * (df.HSAGEIR / 12))\u001b[0m\u001b[0;34m\u001b[0m\u001b[0;34m\u001b[0m\u001b[0;34m\u001b[0m\u001b[0m\n\u001b[0;32m---> 12\u001b[0;31m     \u001b[0mdf\u001b[0m\u001b[0;34m[\u001b[0m\u001b[0;34m'FEV1OFVCPP'\u001b[0m\u001b[0;34m]\u001b[0m \u001b[0;34m=\u001b[0m \u001b[0mdf\u001b[0m\u001b[0;34m.\u001b[0m\u001b[0mFEV1OFVC\u001b[0m \u001b[0;34m/\u001b[0m \u001b[0;34m(\u001b[0m\u001b[0mresultsratio\u001b[0m\u001b[0;34m.\u001b[0m\u001b[0mloc\u001b[0m\u001b[0;34m[\u001b[0m\u001b[0mvn\u001b[0m\u001b[0;34m,\u001b[0m \u001b[0;34m'intercept'\u001b[0m\u001b[0;34m]\u001b[0m \u001b[0;34m+\u001b[0m \u001b[0mresultsratio\u001b[0m\u001b[0;34m.\u001b[0m\u001b[0mloc\u001b[0m\u001b[0;34m[\u001b[0m\u001b[0mvn\u001b[0m\u001b[0;34m,\u001b[0m \u001b[0;34m'slope'\u001b[0m\u001b[0;34m]\u001b[0m \u001b[0;34m*\u001b[0m \u001b[0;34m(\u001b[0m\u001b[0mdf\u001b[0m\u001b[0;34m.\u001b[0m\u001b[0mHSAGEIR\u001b[0m \u001b[0;34m/\u001b[0m \u001b[0;36m12\u001b[0m\u001b[0;34m)\u001b[0m\u001b[0;34m)\u001b[0m\u001b[0;34m\u001b[0m\u001b[0;34m\u001b[0m\u001b[0m\n\u001b[0m\u001b[1;32m     13\u001b[0m     \u001b[0mprint\u001b[0m \u001b[0;34m(\u001b[0m\u001b[0mvn\u001b[0m\u001b[0;34m)\u001b[0m\u001b[0;34m\u001b[0m\u001b[0;34m\u001b[0m\u001b[0m\n",
      "\u001b[0;32m/usr/local/lib/python3.7/site-packages/pandas/core/indexing.py\u001b[0m in \u001b[0;36m__getitem__\u001b[0;34m(self, key)\u001b[0m\n\u001b[1;32m   1759\u001b[0m                 \u001b[0;32mexcept\u001b[0m \u001b[0;34m(\u001b[0m\u001b[0mKeyError\u001b[0m\u001b[0;34m,\u001b[0m \u001b[0mIndexError\u001b[0m\u001b[0;34m,\u001b[0m \u001b[0mAttributeError\u001b[0m\u001b[0;34m)\u001b[0m\u001b[0;34m:\u001b[0m\u001b[0;34m\u001b[0m\u001b[0;34m\u001b[0m\u001b[0m\n\u001b[1;32m   1760\u001b[0m                     \u001b[0;32mpass\u001b[0m\u001b[0;34m\u001b[0m\u001b[0;34m\u001b[0m\u001b[0m\n\u001b[0;32m-> 1761\u001b[0;31m             \u001b[0;32mreturn\u001b[0m \u001b[0mself\u001b[0m\u001b[0;34m.\u001b[0m\u001b[0m_getitem_tuple\u001b[0m\u001b[0;34m(\u001b[0m\u001b[0mkey\u001b[0m\u001b[0;34m)\u001b[0m\u001b[0;34m\u001b[0m\u001b[0;34m\u001b[0m\u001b[0m\n\u001b[0m\u001b[1;32m   1762\u001b[0m         \u001b[0;32melse\u001b[0m\u001b[0;34m:\u001b[0m\u001b[0;34m\u001b[0m\u001b[0;34m\u001b[0m\u001b[0m\n\u001b[1;32m   1763\u001b[0m             \u001b[0;31m# we by definition only have the 0th axis\u001b[0m\u001b[0;34m\u001b[0m\u001b[0;34m\u001b[0m\u001b[0;34m\u001b[0m\u001b[0m\n",
      "\u001b[0;32m/usr/local/lib/python3.7/site-packages/pandas/core/indexing.py\u001b[0m in \u001b[0;36m_getitem_tuple\u001b[0;34m(self, tup)\u001b[0m\n\u001b[1;32m   1269\u001b[0m     \u001b[0;32mdef\u001b[0m \u001b[0m_getitem_tuple\u001b[0m\u001b[0;34m(\u001b[0m\u001b[0mself\u001b[0m\u001b[0;34m,\u001b[0m \u001b[0mtup\u001b[0m\u001b[0;34m:\u001b[0m \u001b[0mTuple\u001b[0m\u001b[0;34m)\u001b[0m\u001b[0;34m:\u001b[0m\u001b[0;34m\u001b[0m\u001b[0;34m\u001b[0m\u001b[0m\n\u001b[1;32m   1270\u001b[0m         \u001b[0;32mtry\u001b[0m\u001b[0;34m:\u001b[0m\u001b[0;34m\u001b[0m\u001b[0;34m\u001b[0m\u001b[0m\n\u001b[0;32m-> 1271\u001b[0;31m             \u001b[0;32mreturn\u001b[0m \u001b[0mself\u001b[0m\u001b[0;34m.\u001b[0m\u001b[0m_getitem_lowerdim\u001b[0m\u001b[0;34m(\u001b[0m\u001b[0mtup\u001b[0m\u001b[0;34m)\u001b[0m\u001b[0;34m\u001b[0m\u001b[0;34m\u001b[0m\u001b[0m\n\u001b[0m\u001b[1;32m   1272\u001b[0m         \u001b[0;32mexcept\u001b[0m \u001b[0mIndexingError\u001b[0m\u001b[0;34m:\u001b[0m\u001b[0;34m\u001b[0m\u001b[0;34m\u001b[0m\u001b[0m\n\u001b[1;32m   1273\u001b[0m             \u001b[0;32mpass\u001b[0m\u001b[0;34m\u001b[0m\u001b[0;34m\u001b[0m\u001b[0m\n",
      "\u001b[0;32m/usr/local/lib/python3.7/site-packages/pandas/core/indexing.py\u001b[0m in \u001b[0;36m_getitem_lowerdim\u001b[0;34m(self, tup)\u001b[0m\n\u001b[1;32m   1386\u001b[0m         \u001b[0;32mfor\u001b[0m \u001b[0mi\u001b[0m\u001b[0;34m,\u001b[0m \u001b[0mkey\u001b[0m \u001b[0;32min\u001b[0m \u001b[0menumerate\u001b[0m\u001b[0;34m(\u001b[0m\u001b[0mtup\u001b[0m\u001b[0;34m)\u001b[0m\u001b[0;34m:\u001b[0m\u001b[0;34m\u001b[0m\u001b[0;34m\u001b[0m\u001b[0m\n\u001b[1;32m   1387\u001b[0m             \u001b[0;32mif\u001b[0m \u001b[0mis_label_like\u001b[0m\u001b[0;34m(\u001b[0m\u001b[0mkey\u001b[0m\u001b[0;34m)\u001b[0m \u001b[0;32mor\u001b[0m \u001b[0misinstance\u001b[0m\u001b[0;34m(\u001b[0m\u001b[0mkey\u001b[0m\u001b[0;34m,\u001b[0m \u001b[0mtuple\u001b[0m\u001b[0;34m)\u001b[0m\u001b[0;34m:\u001b[0m\u001b[0;34m\u001b[0m\u001b[0;34m\u001b[0m\u001b[0m\n\u001b[0;32m-> 1388\u001b[0;31m                 \u001b[0msection\u001b[0m \u001b[0;34m=\u001b[0m \u001b[0mself\u001b[0m\u001b[0;34m.\u001b[0m\u001b[0m_getitem_axis\u001b[0m\u001b[0;34m(\u001b[0m\u001b[0mkey\u001b[0m\u001b[0;34m,\u001b[0m \u001b[0maxis\u001b[0m\u001b[0;34m=\u001b[0m\u001b[0mi\u001b[0m\u001b[0;34m)\u001b[0m\u001b[0;34m\u001b[0m\u001b[0;34m\u001b[0m\u001b[0m\n\u001b[0m\u001b[1;32m   1389\u001b[0m \u001b[0;34m\u001b[0m\u001b[0m\n\u001b[1;32m   1390\u001b[0m                 \u001b[0;31m# we have yielded a scalar ?\u001b[0m\u001b[0;34m\u001b[0m\u001b[0;34m\u001b[0m\u001b[0;34m\u001b[0m\u001b[0m\n",
      "\u001b[0;32m/usr/local/lib/python3.7/site-packages/pandas/core/indexing.py\u001b[0m in \u001b[0;36m_getitem_axis\u001b[0;34m(self, key, axis)\u001b[0m\n\u001b[1;32m   1962\u001b[0m         \u001b[0;31m# fall thru to straight lookup\u001b[0m\u001b[0;34m\u001b[0m\u001b[0;34m\u001b[0m\u001b[0;34m\u001b[0m\u001b[0m\n\u001b[1;32m   1963\u001b[0m         \u001b[0mself\u001b[0m\u001b[0;34m.\u001b[0m\u001b[0m_validate_key\u001b[0m\u001b[0;34m(\u001b[0m\u001b[0mkey\u001b[0m\u001b[0;34m,\u001b[0m \u001b[0maxis\u001b[0m\u001b[0;34m)\u001b[0m\u001b[0;34m\u001b[0m\u001b[0;34m\u001b[0m\u001b[0m\n\u001b[0;32m-> 1964\u001b[0;31m         \u001b[0;32mreturn\u001b[0m \u001b[0mself\u001b[0m\u001b[0;34m.\u001b[0m\u001b[0m_get_label\u001b[0m\u001b[0;34m(\u001b[0m\u001b[0mkey\u001b[0m\u001b[0;34m,\u001b[0m \u001b[0maxis\u001b[0m\u001b[0;34m=\u001b[0m\u001b[0maxis\u001b[0m\u001b[0;34m)\u001b[0m\u001b[0;34m\u001b[0m\u001b[0;34m\u001b[0m\u001b[0m\n\u001b[0m\u001b[1;32m   1965\u001b[0m \u001b[0;34m\u001b[0m\u001b[0m\n\u001b[1;32m   1966\u001b[0m \u001b[0;34m\u001b[0m\u001b[0m\n",
      "\u001b[0;32m/usr/local/lib/python3.7/site-packages/pandas/core/indexing.py\u001b[0m in \u001b[0;36m_get_label\u001b[0;34m(self, label, axis)\u001b[0m\n\u001b[1;32m    622\u001b[0m             \u001b[0;32mraise\u001b[0m \u001b[0mIndexingError\u001b[0m\u001b[0;34m(\u001b[0m\u001b[0;34m\"no slices here, handle elsewhere\"\u001b[0m\u001b[0;34m)\u001b[0m\u001b[0;34m\u001b[0m\u001b[0;34m\u001b[0m\u001b[0m\n\u001b[1;32m    623\u001b[0m \u001b[0;34m\u001b[0m\u001b[0m\n\u001b[0;32m--> 624\u001b[0;31m         \u001b[0;32mreturn\u001b[0m \u001b[0mself\u001b[0m\u001b[0;34m.\u001b[0m\u001b[0mobj\u001b[0m\u001b[0;34m.\u001b[0m\u001b[0m_xs\u001b[0m\u001b[0;34m(\u001b[0m\u001b[0mlabel\u001b[0m\u001b[0;34m,\u001b[0m \u001b[0maxis\u001b[0m\u001b[0;34m=\u001b[0m\u001b[0maxis\u001b[0m\u001b[0;34m)\u001b[0m\u001b[0;34m\u001b[0m\u001b[0;34m\u001b[0m\u001b[0m\n\u001b[0m\u001b[1;32m    625\u001b[0m \u001b[0;34m\u001b[0m\u001b[0m\n\u001b[1;32m    626\u001b[0m     \u001b[0;32mdef\u001b[0m \u001b[0m_get_loc\u001b[0m\u001b[0;34m(\u001b[0m\u001b[0mself\u001b[0m\u001b[0;34m,\u001b[0m \u001b[0mkey\u001b[0m\u001b[0;34m:\u001b[0m \u001b[0mint\u001b[0m\u001b[0;34m,\u001b[0m \u001b[0maxis\u001b[0m\u001b[0;34m:\u001b[0m \u001b[0mint\u001b[0m\u001b[0;34m)\u001b[0m\u001b[0;34m:\u001b[0m\u001b[0;34m\u001b[0m\u001b[0;34m\u001b[0m\u001b[0m\n",
      "\u001b[0;32m/usr/local/lib/python3.7/site-packages/pandas/core/generic.py\u001b[0m in \u001b[0;36mxs\u001b[0;34m(self, key, axis, level, drop_level)\u001b[0m\n\u001b[1;32m   3535\u001b[0m             \u001b[0mloc\u001b[0m\u001b[0;34m,\u001b[0m \u001b[0mnew_index\u001b[0m \u001b[0;34m=\u001b[0m \u001b[0mself\u001b[0m\u001b[0;34m.\u001b[0m\u001b[0mindex\u001b[0m\u001b[0;34m.\u001b[0m\u001b[0mget_loc_level\u001b[0m\u001b[0;34m(\u001b[0m\u001b[0mkey\u001b[0m\u001b[0;34m,\u001b[0m \u001b[0mdrop_level\u001b[0m\u001b[0;34m=\u001b[0m\u001b[0mdrop_level\u001b[0m\u001b[0;34m)\u001b[0m\u001b[0;34m\u001b[0m\u001b[0;34m\u001b[0m\u001b[0m\n\u001b[1;32m   3536\u001b[0m         \u001b[0;32melse\u001b[0m\u001b[0;34m:\u001b[0m\u001b[0;34m\u001b[0m\u001b[0;34m\u001b[0m\u001b[0m\n\u001b[0;32m-> 3537\u001b[0;31m             \u001b[0mloc\u001b[0m \u001b[0;34m=\u001b[0m \u001b[0mself\u001b[0m\u001b[0;34m.\u001b[0m\u001b[0mindex\u001b[0m\u001b[0;34m.\u001b[0m\u001b[0mget_loc\u001b[0m\u001b[0;34m(\u001b[0m\u001b[0mkey\u001b[0m\u001b[0;34m)\u001b[0m\u001b[0;34m\u001b[0m\u001b[0;34m\u001b[0m\u001b[0m\n\u001b[0m\u001b[1;32m   3538\u001b[0m \u001b[0;34m\u001b[0m\u001b[0m\n\u001b[1;32m   3539\u001b[0m             \u001b[0;32mif\u001b[0m \u001b[0misinstance\u001b[0m\u001b[0;34m(\u001b[0m\u001b[0mloc\u001b[0m\u001b[0;34m,\u001b[0m \u001b[0mnp\u001b[0m\u001b[0;34m.\u001b[0m\u001b[0mndarray\u001b[0m\u001b[0;34m)\u001b[0m\u001b[0;34m:\u001b[0m\u001b[0;34m\u001b[0m\u001b[0;34m\u001b[0m\u001b[0m\n",
      "\u001b[0;32m/usr/local/lib/python3.7/site-packages/pandas/core/indexes/base.py\u001b[0m in \u001b[0;36mget_loc\u001b[0;34m(self, key, method, tolerance)\u001b[0m\n\u001b[1;32m   2646\u001b[0m                 \u001b[0;32mreturn\u001b[0m \u001b[0mself\u001b[0m\u001b[0;34m.\u001b[0m\u001b[0m_engine\u001b[0m\u001b[0;34m.\u001b[0m\u001b[0mget_loc\u001b[0m\u001b[0;34m(\u001b[0m\u001b[0mkey\u001b[0m\u001b[0;34m)\u001b[0m\u001b[0;34m\u001b[0m\u001b[0;34m\u001b[0m\u001b[0m\n\u001b[1;32m   2647\u001b[0m             \u001b[0;32mexcept\u001b[0m \u001b[0mKeyError\u001b[0m\u001b[0;34m:\u001b[0m\u001b[0;34m\u001b[0m\u001b[0;34m\u001b[0m\u001b[0m\n\u001b[0;32m-> 2648\u001b[0;31m                 \u001b[0;32mreturn\u001b[0m \u001b[0mself\u001b[0m\u001b[0;34m.\u001b[0m\u001b[0m_engine\u001b[0m\u001b[0;34m.\u001b[0m\u001b[0mget_loc\u001b[0m\u001b[0;34m(\u001b[0m\u001b[0mself\u001b[0m\u001b[0;34m.\u001b[0m\u001b[0m_maybe_cast_indexer\u001b[0m\u001b[0;34m(\u001b[0m\u001b[0mkey\u001b[0m\u001b[0;34m)\u001b[0m\u001b[0;34m)\u001b[0m\u001b[0;34m\u001b[0m\u001b[0;34m\u001b[0m\u001b[0m\n\u001b[0m\u001b[1;32m   2649\u001b[0m         \u001b[0mindexer\u001b[0m \u001b[0;34m=\u001b[0m \u001b[0mself\u001b[0m\u001b[0;34m.\u001b[0m\u001b[0mget_indexer\u001b[0m\u001b[0;34m(\u001b[0m\u001b[0;34m[\u001b[0m\u001b[0mkey\u001b[0m\u001b[0;34m]\u001b[0m\u001b[0;34m,\u001b[0m \u001b[0mmethod\u001b[0m\u001b[0;34m=\u001b[0m\u001b[0mmethod\u001b[0m\u001b[0;34m,\u001b[0m \u001b[0mtolerance\u001b[0m\u001b[0;34m=\u001b[0m\u001b[0mtolerance\u001b[0m\u001b[0;34m)\u001b[0m\u001b[0;34m\u001b[0m\u001b[0;34m\u001b[0m\u001b[0m\n\u001b[1;32m   2650\u001b[0m         \u001b[0;32mif\u001b[0m \u001b[0mindexer\u001b[0m\u001b[0;34m.\u001b[0m\u001b[0mndim\u001b[0m \u001b[0;34m>\u001b[0m \u001b[0;36m1\u001b[0m \u001b[0;32mor\u001b[0m \u001b[0mindexer\u001b[0m\u001b[0;34m.\u001b[0m\u001b[0msize\u001b[0m \u001b[0;34m>\u001b[0m \u001b[0;36m1\u001b[0m\u001b[0;34m:\u001b[0m\u001b[0;34m\u001b[0m\u001b[0;34m\u001b[0m\u001b[0m\n",
      "\u001b[0;32mpandas/_libs/index.pyx\u001b[0m in \u001b[0;36mpandas._libs.index.IndexEngine.get_loc\u001b[0;34m()\u001b[0m\n",
      "\u001b[0;32mpandas/_libs/index.pyx\u001b[0m in \u001b[0;36mpandas._libs.index.IndexEngine.get_loc\u001b[0;34m()\u001b[0m\n",
      "\u001b[0;32mpandas/_libs/hashtable_class_helper.pxi\u001b[0m in \u001b[0;36mpandas._libs.hashtable.PyObjectHashTable.get_item\u001b[0;34m()\u001b[0m\n",
      "\u001b[0;32mpandas/_libs/hashtable_class_helper.pxi\u001b[0m in \u001b[0;36mpandas._libs.hashtable.PyObjectHashTable.get_item\u001b[0;34m()\u001b[0m\n",
      "\u001b[0;31mKeyError\u001b[0m: 'm20overbFEV1OFVC'"
     ]
    }
   ],
   "source": [
    "createvarsppone(m20overb)"
   ]
  },
  {
   "cell_type": "markdown",
   "metadata": {},
   "source": [
    "def createvarspp(df):\n",
    "    vn = df.name + 'FEV1OFVC'\n",
    "    df['FEV1OFVCPP'] = df.FEV1OFVC / (resultsratio.loc[vn, 'intercept'] + resultsratio.loc[vn, 'slope'] * (df.HSAGEIR / 12))\n",
    " #   print (vn)\n",
    " #   vn = df.name + 'FEV1OFEV6'\n",
    "#    print (vn)\n",
    "    vn = df.name + 'PEFROFVC'\n",
    "    df['PEFROFVCPP'] = df.PEFROFVC / (resultsratio.loc[vn, 'intercept'] + resultsratio.loc[vn, 'slope'] * (df.HSAGEIR / 12))\n",
    "    vn = df.name + 'FEV1OFEV6'\n",
    "    df['FEV1OFEV6PP']= df.FEV1OFEV6 / (resultsratio.loc[vn, 'intercept'] + resultsratio.loc[vn, 'slope'] * (df.HSAGEIR / 12))\n",
    "    vn = df.name + 'PEFROFVC'\n",
    "    df['PEFROFVCPP'] = df.PEFROFVC / (resultsratio.loc[vn, 'intercept'] + resultsratio.loc[vn, 'slope'] * (df.HSAGEIR / 12))\n",
    "    vn = df.name + 'PEFROFEV6'\n",
    "    df['PEFROFEV6PP']= df.PEFROFEV6 / (resultsratio.loc[vn, 'intercept'] + resultsratio.loc[vn, 'slope'] * (df.HSAGEIR / 12))\n",
    "    vn = df.name + 'PEFROFEV1'\n",
    "    df['PEFROFEV1PP'] = df.PEFROFEV1 / (resultsratio.loc[vn, 'intercept'] + resultsratio.loc[vn, 'slope'] * (df.HSAGEIR / 12))\n",
    "    vn = df.name + 'FEV3OFVC'\n",
    "    df['FEV3OFVCPP'] = df.FEV3OFVC / (resultsratio.loc[vn, 'intercept'] + resultsratio.loc[vn, 'slope'] * (df.HSAGEIR / 12))\n",
    "    vn = df.name + 'FEV6OFVC'\n",
    "    df['FEV6OFVCPP'] = df.FEV6OFVC / (resultsratio.loc[vn, 'intercept'] + resultsratio.loc[vn, 'slope'] * (df.HSAGEIR / 12))"
   ]
  },
  {
   "cell_type": "code",
   "execution_count": 175,
   "metadata": {},
   "outputs": [],
   "source": [
    "def createvarspp(df):\n",
    "    vn = df.name + 'FEV1OFVC'\n",
    "    df['FEV1OFVCPP'] = df.FEV1OFVC / (resultsratio.loc[vn, 'intercept'] + resultsratio.loc[vn, 'slope'] * (df.HSAGEIR / 12))\n",
    " #   print (vn)\n",
    " #   vn = df.name + 'FEV1OFEV6'\n",
    "#    print (vn)\n",
    "    vn = df.name + 'PEFROFVC'\n",
    "    df['PEFROFVCPP'] = df.PEFROFVC / (resultsratio.loc[vn, 'intercept'] + resultsratio.loc[vn, 'slope'] * (df.HSAGEIR / 12))\n",
    "    vn = df.name + 'FEV1OFEV6'\n",
    "    df['FEV1OFEV6PP']= df.FEV1OFEV6 / (resultsratio.loc[vn, 'intercept'] + resultsratio.loc[vn, 'slope'] * (df.HSAGEIR / 12))\n",
    "    vn = df.name + 'PEFROFVC'\n",
    "    df['PEFROFVCPP'] = df.PEFROFVC / (resultsratio.loc[vn, 'intercept'] + resultsratio.loc[vn, 'slope'] * (df.HSAGEIR / 12))\n",
    "    vn = df.name + 'PEFROFEV6'\n",
    "    df['PEFROFEV6PP']= df.PEFROFEV6 / (resultsratio.loc[vn, 'intercept'] + resultsratio.loc[vn, 'slope'] * (df.HSAGEIR / 12))\n",
    "    vn = df.name + 'PEFROFEV1'\n",
    "    df['PEFROFEV1PP'] = df.PEFROFEV1 / (resultsratio.loc[vn, 'intercept'] + resultsratio.loc[vn, 'slope'] * (df.HSAGEIR / 12))\n",
    "    vn = df.name + 'FEV3OFVC'\n",
    "    df['FEV3OFVCPP'] = df.FEV3OFVC / (resultsratio.loc[vn, 'intercept'] + resultsratio.loc[vn, 'slope'] * (df.HSAGEIR / 12))\n",
    "    vn = df.name + 'FEV6OFVC'\n",
    "    df['FEV6OFVCPP'] = df.FEV6OFVC / (resultsratio.loc[vn, 'intercept'] + resultsratio.loc[vn, 'slope'] * (df.HSAGEIR / 12))"
   ]
  },
  {
   "cell_type": "markdown",
   "metadata": {},
   "source": [
    "# The following gives message but works"
   ]
  },
  {
   "cell_type": "markdown",
   "metadata": {},
   "source": [
    "now want to do for all ratio dataframes"
   ]
  },
  {
   "cell_type": "code",
   "execution_count": 176,
   "metadata": {},
   "outputs": [
    {
     "ename": "KeyError",
     "evalue": "'m20overbFEV1OFVC'",
     "output_type": "error",
     "traceback": [
      "\u001b[0;31m---------------------------------------------------------------------------\u001b[0m",
      "\u001b[0;31mKeyError\u001b[0m                                  Traceback (most recent call last)",
      "\u001b[0;32m/usr/local/lib/python3.7/site-packages/pandas/core/indexes/base.py\u001b[0m in \u001b[0;36mget_loc\u001b[0;34m(self, key, method, tolerance)\u001b[0m\n\u001b[1;32m   2645\u001b[0m             \u001b[0;32mtry\u001b[0m\u001b[0;34m:\u001b[0m\u001b[0;34m\u001b[0m\u001b[0;34m\u001b[0m\u001b[0m\n\u001b[0;32m-> 2646\u001b[0;31m                 \u001b[0;32mreturn\u001b[0m \u001b[0mself\u001b[0m\u001b[0;34m.\u001b[0m\u001b[0m_engine\u001b[0m\u001b[0;34m.\u001b[0m\u001b[0mget_loc\u001b[0m\u001b[0;34m(\u001b[0m\u001b[0mkey\u001b[0m\u001b[0;34m)\u001b[0m\u001b[0;34m\u001b[0m\u001b[0;34m\u001b[0m\u001b[0m\n\u001b[0m\u001b[1;32m   2647\u001b[0m             \u001b[0;32mexcept\u001b[0m \u001b[0mKeyError\u001b[0m\u001b[0;34m:\u001b[0m\u001b[0;34m\u001b[0m\u001b[0;34m\u001b[0m\u001b[0m\n",
      "\u001b[0;32mpandas/_libs/index.pyx\u001b[0m in \u001b[0;36mpandas._libs.index.IndexEngine.get_loc\u001b[0;34m()\u001b[0m\n",
      "\u001b[0;32mpandas/_libs/index.pyx\u001b[0m in \u001b[0;36mpandas._libs.index.IndexEngine.get_loc\u001b[0;34m()\u001b[0m\n",
      "\u001b[0;32mpandas/_libs/hashtable_class_helper.pxi\u001b[0m in \u001b[0;36mpandas._libs.hashtable.PyObjectHashTable.get_item\u001b[0;34m()\u001b[0m\n",
      "\u001b[0;32mpandas/_libs/hashtable_class_helper.pxi\u001b[0m in \u001b[0;36mpandas._libs.hashtable.PyObjectHashTable.get_item\u001b[0;34m()\u001b[0m\n",
      "\u001b[0;31mKeyError\u001b[0m: 'm20overbFEV1OFVC'",
      "\nDuring handling of the above exception, another exception occurred:\n",
      "\u001b[0;31mKeyError\u001b[0m                                  Traceback (most recent call last)",
      "\u001b[0;32m<ipython-input-176-84e8af145105>\u001b[0m in \u001b[0;36m<module>\u001b[0;34m\u001b[0m\n\u001b[0;32m----> 1\u001b[0;31m \u001b[0mcreatevarspp\u001b[0m\u001b[0;34m(\u001b[0m\u001b[0mm20overb\u001b[0m\u001b[0;34m)\u001b[0m\u001b[0;34m\u001b[0m\u001b[0;34m\u001b[0m\u001b[0m\n\u001b[0m",
      "\u001b[0;32m<ipython-input-175-6992769edfda>\u001b[0m in \u001b[0;36mcreatevarspp\u001b[0;34m(df)\u001b[0m\n\u001b[1;32m      1\u001b[0m \u001b[0;32mdef\u001b[0m \u001b[0mcreatevarspp\u001b[0m\u001b[0;34m(\u001b[0m\u001b[0mdf\u001b[0m\u001b[0;34m)\u001b[0m\u001b[0;34m:\u001b[0m\u001b[0;34m\u001b[0m\u001b[0;34m\u001b[0m\u001b[0m\n\u001b[1;32m      2\u001b[0m     \u001b[0mvn\u001b[0m \u001b[0;34m=\u001b[0m \u001b[0mdf\u001b[0m\u001b[0;34m.\u001b[0m\u001b[0mname\u001b[0m \u001b[0;34m+\u001b[0m \u001b[0;34m'FEV1OFVC'\u001b[0m\u001b[0;34m\u001b[0m\u001b[0;34m\u001b[0m\u001b[0m\n\u001b[0;32m----> 3\u001b[0;31m     \u001b[0mdf\u001b[0m\u001b[0;34m[\u001b[0m\u001b[0;34m'FEV1OFVCPP'\u001b[0m\u001b[0;34m]\u001b[0m \u001b[0;34m=\u001b[0m \u001b[0mdf\u001b[0m\u001b[0;34m.\u001b[0m\u001b[0mFEV1OFVC\u001b[0m \u001b[0;34m/\u001b[0m \u001b[0;34m(\u001b[0m\u001b[0mresultsratio\u001b[0m\u001b[0;34m.\u001b[0m\u001b[0mloc\u001b[0m\u001b[0;34m[\u001b[0m\u001b[0mvn\u001b[0m\u001b[0;34m,\u001b[0m \u001b[0;34m'intercept'\u001b[0m\u001b[0;34m]\u001b[0m \u001b[0;34m+\u001b[0m \u001b[0mresultsratio\u001b[0m\u001b[0;34m.\u001b[0m\u001b[0mloc\u001b[0m\u001b[0;34m[\u001b[0m\u001b[0mvn\u001b[0m\u001b[0;34m,\u001b[0m \u001b[0;34m'slope'\u001b[0m\u001b[0;34m]\u001b[0m \u001b[0;34m*\u001b[0m \u001b[0;34m(\u001b[0m\u001b[0mdf\u001b[0m\u001b[0;34m.\u001b[0m\u001b[0mHSAGEIR\u001b[0m \u001b[0;34m/\u001b[0m \u001b[0;36m12\u001b[0m\u001b[0;34m)\u001b[0m\u001b[0;34m)\u001b[0m\u001b[0;34m\u001b[0m\u001b[0;34m\u001b[0m\u001b[0m\n\u001b[0m\u001b[1;32m      4\u001b[0m  \u001b[0;31m#   print (vn)\u001b[0m\u001b[0;34m\u001b[0m\u001b[0;34m\u001b[0m\u001b[0;34m\u001b[0m\u001b[0m\n\u001b[1;32m      5\u001b[0m  \u001b[0;31m#   vn = df.name + 'FEV1OFEV6'\u001b[0m\u001b[0;34m\u001b[0m\u001b[0;34m\u001b[0m\u001b[0;34m\u001b[0m\u001b[0m\n",
      "\u001b[0;32m/usr/local/lib/python3.7/site-packages/pandas/core/indexing.py\u001b[0m in \u001b[0;36m__getitem__\u001b[0;34m(self, key)\u001b[0m\n\u001b[1;32m   1759\u001b[0m                 \u001b[0;32mexcept\u001b[0m \u001b[0;34m(\u001b[0m\u001b[0mKeyError\u001b[0m\u001b[0;34m,\u001b[0m \u001b[0mIndexError\u001b[0m\u001b[0;34m,\u001b[0m \u001b[0mAttributeError\u001b[0m\u001b[0;34m)\u001b[0m\u001b[0;34m:\u001b[0m\u001b[0;34m\u001b[0m\u001b[0;34m\u001b[0m\u001b[0m\n\u001b[1;32m   1760\u001b[0m                     \u001b[0;32mpass\u001b[0m\u001b[0;34m\u001b[0m\u001b[0;34m\u001b[0m\u001b[0m\n\u001b[0;32m-> 1761\u001b[0;31m             \u001b[0;32mreturn\u001b[0m \u001b[0mself\u001b[0m\u001b[0;34m.\u001b[0m\u001b[0m_getitem_tuple\u001b[0m\u001b[0;34m(\u001b[0m\u001b[0mkey\u001b[0m\u001b[0;34m)\u001b[0m\u001b[0;34m\u001b[0m\u001b[0;34m\u001b[0m\u001b[0m\n\u001b[0m\u001b[1;32m   1762\u001b[0m         \u001b[0;32melse\u001b[0m\u001b[0;34m:\u001b[0m\u001b[0;34m\u001b[0m\u001b[0;34m\u001b[0m\u001b[0m\n\u001b[1;32m   1763\u001b[0m             \u001b[0;31m# we by definition only have the 0th axis\u001b[0m\u001b[0;34m\u001b[0m\u001b[0;34m\u001b[0m\u001b[0;34m\u001b[0m\u001b[0m\n",
      "\u001b[0;32m/usr/local/lib/python3.7/site-packages/pandas/core/indexing.py\u001b[0m in \u001b[0;36m_getitem_tuple\u001b[0;34m(self, tup)\u001b[0m\n\u001b[1;32m   1269\u001b[0m     \u001b[0;32mdef\u001b[0m \u001b[0m_getitem_tuple\u001b[0m\u001b[0;34m(\u001b[0m\u001b[0mself\u001b[0m\u001b[0;34m,\u001b[0m \u001b[0mtup\u001b[0m\u001b[0;34m:\u001b[0m \u001b[0mTuple\u001b[0m\u001b[0;34m)\u001b[0m\u001b[0;34m:\u001b[0m\u001b[0;34m\u001b[0m\u001b[0;34m\u001b[0m\u001b[0m\n\u001b[1;32m   1270\u001b[0m         \u001b[0;32mtry\u001b[0m\u001b[0;34m:\u001b[0m\u001b[0;34m\u001b[0m\u001b[0;34m\u001b[0m\u001b[0m\n\u001b[0;32m-> 1271\u001b[0;31m             \u001b[0;32mreturn\u001b[0m \u001b[0mself\u001b[0m\u001b[0;34m.\u001b[0m\u001b[0m_getitem_lowerdim\u001b[0m\u001b[0;34m(\u001b[0m\u001b[0mtup\u001b[0m\u001b[0;34m)\u001b[0m\u001b[0;34m\u001b[0m\u001b[0;34m\u001b[0m\u001b[0m\n\u001b[0m\u001b[1;32m   1272\u001b[0m         \u001b[0;32mexcept\u001b[0m \u001b[0mIndexingError\u001b[0m\u001b[0;34m:\u001b[0m\u001b[0;34m\u001b[0m\u001b[0;34m\u001b[0m\u001b[0m\n\u001b[1;32m   1273\u001b[0m             \u001b[0;32mpass\u001b[0m\u001b[0;34m\u001b[0m\u001b[0;34m\u001b[0m\u001b[0m\n",
      "\u001b[0;32m/usr/local/lib/python3.7/site-packages/pandas/core/indexing.py\u001b[0m in \u001b[0;36m_getitem_lowerdim\u001b[0;34m(self, tup)\u001b[0m\n\u001b[1;32m   1386\u001b[0m         \u001b[0;32mfor\u001b[0m \u001b[0mi\u001b[0m\u001b[0;34m,\u001b[0m \u001b[0mkey\u001b[0m \u001b[0;32min\u001b[0m \u001b[0menumerate\u001b[0m\u001b[0;34m(\u001b[0m\u001b[0mtup\u001b[0m\u001b[0;34m)\u001b[0m\u001b[0;34m:\u001b[0m\u001b[0;34m\u001b[0m\u001b[0;34m\u001b[0m\u001b[0m\n\u001b[1;32m   1387\u001b[0m             \u001b[0;32mif\u001b[0m \u001b[0mis_label_like\u001b[0m\u001b[0;34m(\u001b[0m\u001b[0mkey\u001b[0m\u001b[0;34m)\u001b[0m \u001b[0;32mor\u001b[0m \u001b[0misinstance\u001b[0m\u001b[0;34m(\u001b[0m\u001b[0mkey\u001b[0m\u001b[0;34m,\u001b[0m \u001b[0mtuple\u001b[0m\u001b[0;34m)\u001b[0m\u001b[0;34m:\u001b[0m\u001b[0;34m\u001b[0m\u001b[0;34m\u001b[0m\u001b[0m\n\u001b[0;32m-> 1388\u001b[0;31m                 \u001b[0msection\u001b[0m \u001b[0;34m=\u001b[0m \u001b[0mself\u001b[0m\u001b[0;34m.\u001b[0m\u001b[0m_getitem_axis\u001b[0m\u001b[0;34m(\u001b[0m\u001b[0mkey\u001b[0m\u001b[0;34m,\u001b[0m \u001b[0maxis\u001b[0m\u001b[0;34m=\u001b[0m\u001b[0mi\u001b[0m\u001b[0;34m)\u001b[0m\u001b[0;34m\u001b[0m\u001b[0;34m\u001b[0m\u001b[0m\n\u001b[0m\u001b[1;32m   1389\u001b[0m \u001b[0;34m\u001b[0m\u001b[0m\n\u001b[1;32m   1390\u001b[0m                 \u001b[0;31m# we have yielded a scalar ?\u001b[0m\u001b[0;34m\u001b[0m\u001b[0;34m\u001b[0m\u001b[0;34m\u001b[0m\u001b[0m\n",
      "\u001b[0;32m/usr/local/lib/python3.7/site-packages/pandas/core/indexing.py\u001b[0m in \u001b[0;36m_getitem_axis\u001b[0;34m(self, key, axis)\u001b[0m\n\u001b[1;32m   1962\u001b[0m         \u001b[0;31m# fall thru to straight lookup\u001b[0m\u001b[0;34m\u001b[0m\u001b[0;34m\u001b[0m\u001b[0;34m\u001b[0m\u001b[0m\n\u001b[1;32m   1963\u001b[0m         \u001b[0mself\u001b[0m\u001b[0;34m.\u001b[0m\u001b[0m_validate_key\u001b[0m\u001b[0;34m(\u001b[0m\u001b[0mkey\u001b[0m\u001b[0;34m,\u001b[0m \u001b[0maxis\u001b[0m\u001b[0;34m)\u001b[0m\u001b[0;34m\u001b[0m\u001b[0;34m\u001b[0m\u001b[0m\n\u001b[0;32m-> 1964\u001b[0;31m         \u001b[0;32mreturn\u001b[0m \u001b[0mself\u001b[0m\u001b[0;34m.\u001b[0m\u001b[0m_get_label\u001b[0m\u001b[0;34m(\u001b[0m\u001b[0mkey\u001b[0m\u001b[0;34m,\u001b[0m \u001b[0maxis\u001b[0m\u001b[0;34m=\u001b[0m\u001b[0maxis\u001b[0m\u001b[0;34m)\u001b[0m\u001b[0;34m\u001b[0m\u001b[0;34m\u001b[0m\u001b[0m\n\u001b[0m\u001b[1;32m   1965\u001b[0m \u001b[0;34m\u001b[0m\u001b[0m\n\u001b[1;32m   1966\u001b[0m \u001b[0;34m\u001b[0m\u001b[0m\n",
      "\u001b[0;32m/usr/local/lib/python3.7/site-packages/pandas/core/indexing.py\u001b[0m in \u001b[0;36m_get_label\u001b[0;34m(self, label, axis)\u001b[0m\n\u001b[1;32m    622\u001b[0m             \u001b[0;32mraise\u001b[0m \u001b[0mIndexingError\u001b[0m\u001b[0;34m(\u001b[0m\u001b[0;34m\"no slices here, handle elsewhere\"\u001b[0m\u001b[0;34m)\u001b[0m\u001b[0;34m\u001b[0m\u001b[0;34m\u001b[0m\u001b[0m\n\u001b[1;32m    623\u001b[0m \u001b[0;34m\u001b[0m\u001b[0m\n\u001b[0;32m--> 624\u001b[0;31m         \u001b[0;32mreturn\u001b[0m \u001b[0mself\u001b[0m\u001b[0;34m.\u001b[0m\u001b[0mobj\u001b[0m\u001b[0;34m.\u001b[0m\u001b[0m_xs\u001b[0m\u001b[0;34m(\u001b[0m\u001b[0mlabel\u001b[0m\u001b[0;34m,\u001b[0m \u001b[0maxis\u001b[0m\u001b[0;34m=\u001b[0m\u001b[0maxis\u001b[0m\u001b[0;34m)\u001b[0m\u001b[0;34m\u001b[0m\u001b[0;34m\u001b[0m\u001b[0m\n\u001b[0m\u001b[1;32m    625\u001b[0m \u001b[0;34m\u001b[0m\u001b[0m\n\u001b[1;32m    626\u001b[0m     \u001b[0;32mdef\u001b[0m \u001b[0m_get_loc\u001b[0m\u001b[0;34m(\u001b[0m\u001b[0mself\u001b[0m\u001b[0;34m,\u001b[0m \u001b[0mkey\u001b[0m\u001b[0;34m:\u001b[0m \u001b[0mint\u001b[0m\u001b[0;34m,\u001b[0m \u001b[0maxis\u001b[0m\u001b[0;34m:\u001b[0m \u001b[0mint\u001b[0m\u001b[0;34m)\u001b[0m\u001b[0;34m:\u001b[0m\u001b[0;34m\u001b[0m\u001b[0;34m\u001b[0m\u001b[0m\n",
      "\u001b[0;32m/usr/local/lib/python3.7/site-packages/pandas/core/generic.py\u001b[0m in \u001b[0;36mxs\u001b[0;34m(self, key, axis, level, drop_level)\u001b[0m\n\u001b[1;32m   3535\u001b[0m             \u001b[0mloc\u001b[0m\u001b[0;34m,\u001b[0m \u001b[0mnew_index\u001b[0m \u001b[0;34m=\u001b[0m \u001b[0mself\u001b[0m\u001b[0;34m.\u001b[0m\u001b[0mindex\u001b[0m\u001b[0;34m.\u001b[0m\u001b[0mget_loc_level\u001b[0m\u001b[0;34m(\u001b[0m\u001b[0mkey\u001b[0m\u001b[0;34m,\u001b[0m \u001b[0mdrop_level\u001b[0m\u001b[0;34m=\u001b[0m\u001b[0mdrop_level\u001b[0m\u001b[0;34m)\u001b[0m\u001b[0;34m\u001b[0m\u001b[0;34m\u001b[0m\u001b[0m\n\u001b[1;32m   3536\u001b[0m         \u001b[0;32melse\u001b[0m\u001b[0;34m:\u001b[0m\u001b[0;34m\u001b[0m\u001b[0;34m\u001b[0m\u001b[0m\n\u001b[0;32m-> 3537\u001b[0;31m             \u001b[0mloc\u001b[0m \u001b[0;34m=\u001b[0m \u001b[0mself\u001b[0m\u001b[0;34m.\u001b[0m\u001b[0mindex\u001b[0m\u001b[0;34m.\u001b[0m\u001b[0mget_loc\u001b[0m\u001b[0;34m(\u001b[0m\u001b[0mkey\u001b[0m\u001b[0;34m)\u001b[0m\u001b[0;34m\u001b[0m\u001b[0;34m\u001b[0m\u001b[0m\n\u001b[0m\u001b[1;32m   3538\u001b[0m \u001b[0;34m\u001b[0m\u001b[0m\n\u001b[1;32m   3539\u001b[0m             \u001b[0;32mif\u001b[0m \u001b[0misinstance\u001b[0m\u001b[0;34m(\u001b[0m\u001b[0mloc\u001b[0m\u001b[0;34m,\u001b[0m \u001b[0mnp\u001b[0m\u001b[0;34m.\u001b[0m\u001b[0mndarray\u001b[0m\u001b[0;34m)\u001b[0m\u001b[0;34m:\u001b[0m\u001b[0;34m\u001b[0m\u001b[0;34m\u001b[0m\u001b[0m\n",
      "\u001b[0;32m/usr/local/lib/python3.7/site-packages/pandas/core/indexes/base.py\u001b[0m in \u001b[0;36mget_loc\u001b[0;34m(self, key, method, tolerance)\u001b[0m\n\u001b[1;32m   2646\u001b[0m                 \u001b[0;32mreturn\u001b[0m \u001b[0mself\u001b[0m\u001b[0;34m.\u001b[0m\u001b[0m_engine\u001b[0m\u001b[0;34m.\u001b[0m\u001b[0mget_loc\u001b[0m\u001b[0;34m(\u001b[0m\u001b[0mkey\u001b[0m\u001b[0;34m)\u001b[0m\u001b[0;34m\u001b[0m\u001b[0;34m\u001b[0m\u001b[0m\n\u001b[1;32m   2647\u001b[0m             \u001b[0;32mexcept\u001b[0m \u001b[0mKeyError\u001b[0m\u001b[0;34m:\u001b[0m\u001b[0;34m\u001b[0m\u001b[0;34m\u001b[0m\u001b[0m\n\u001b[0;32m-> 2648\u001b[0;31m                 \u001b[0;32mreturn\u001b[0m \u001b[0mself\u001b[0m\u001b[0;34m.\u001b[0m\u001b[0m_engine\u001b[0m\u001b[0;34m.\u001b[0m\u001b[0mget_loc\u001b[0m\u001b[0;34m(\u001b[0m\u001b[0mself\u001b[0m\u001b[0;34m.\u001b[0m\u001b[0m_maybe_cast_indexer\u001b[0m\u001b[0;34m(\u001b[0m\u001b[0mkey\u001b[0m\u001b[0;34m)\u001b[0m\u001b[0;34m)\u001b[0m\u001b[0;34m\u001b[0m\u001b[0;34m\u001b[0m\u001b[0m\n\u001b[0m\u001b[1;32m   2649\u001b[0m         \u001b[0mindexer\u001b[0m \u001b[0;34m=\u001b[0m \u001b[0mself\u001b[0m\u001b[0;34m.\u001b[0m\u001b[0mget_indexer\u001b[0m\u001b[0;34m(\u001b[0m\u001b[0;34m[\u001b[0m\u001b[0mkey\u001b[0m\u001b[0;34m]\u001b[0m\u001b[0;34m,\u001b[0m \u001b[0mmethod\u001b[0m\u001b[0;34m=\u001b[0m\u001b[0mmethod\u001b[0m\u001b[0;34m,\u001b[0m \u001b[0mtolerance\u001b[0m\u001b[0;34m=\u001b[0m\u001b[0mtolerance\u001b[0m\u001b[0;34m)\u001b[0m\u001b[0;34m\u001b[0m\u001b[0;34m\u001b[0m\u001b[0m\n\u001b[1;32m   2650\u001b[0m         \u001b[0;32mif\u001b[0m \u001b[0mindexer\u001b[0m\u001b[0;34m.\u001b[0m\u001b[0mndim\u001b[0m \u001b[0;34m>\u001b[0m \u001b[0;36m1\u001b[0m \u001b[0;32mor\u001b[0m \u001b[0mindexer\u001b[0m\u001b[0;34m.\u001b[0m\u001b[0msize\u001b[0m \u001b[0;34m>\u001b[0m \u001b[0;36m1\u001b[0m\u001b[0;34m:\u001b[0m\u001b[0;34m\u001b[0m\u001b[0;34m\u001b[0m\u001b[0m\n",
      "\u001b[0;32mpandas/_libs/index.pyx\u001b[0m in \u001b[0;36mpandas._libs.index.IndexEngine.get_loc\u001b[0;34m()\u001b[0m\n",
      "\u001b[0;32mpandas/_libs/index.pyx\u001b[0m in \u001b[0;36mpandas._libs.index.IndexEngine.get_loc\u001b[0;34m()\u001b[0m\n",
      "\u001b[0;32mpandas/_libs/hashtable_class_helper.pxi\u001b[0m in \u001b[0;36mpandas._libs.hashtable.PyObjectHashTable.get_item\u001b[0;34m()\u001b[0m\n",
      "\u001b[0;32mpandas/_libs/hashtable_class_helper.pxi\u001b[0m in \u001b[0;36mpandas._libs.hashtable.PyObjectHashTable.get_item\u001b[0;34m()\u001b[0m\n",
      "\u001b[0;31mKeyError\u001b[0m: 'm20overbFEV1OFVC'"
     ]
    }
   ],
   "source": [
    "createvarspp(m20overb)"
   ]
  },
  {
   "cell_type": "raw",
   "metadata": {},
   "source": []
  },
  {
   "cell_type": "code",
   "execution_count": null,
   "metadata": {},
   "outputs": [],
   "source": []
  },
  {
   "cell_type": "raw",
   "metadata": {},
   "source": []
  },
  {
   "cell_type": "code",
   "execution_count": 177,
   "metadata": {},
   "outputs": [
    {
     "data": {
      "text/html": [
       "<div>\n",
       "<style scoped>\n",
       "    .dataframe tbody tr th:only-of-type {\n",
       "        vertical-align: middle;\n",
       "    }\n",
       "\n",
       "    .dataframe tbody tr th {\n",
       "        vertical-align: top;\n",
       "    }\n",
       "\n",
       "    .dataframe thead th {\n",
       "        text-align: right;\n",
       "    }\n",
       "</style>\n",
       "<table border=\"1\" class=\"dataframe\">\n",
       "  <thead>\n",
       "    <tr style=\"text-align: right;\">\n",
       "      <th></th>\n",
       "      <th>HAR1</th>\n",
       "      <th>HAR23</th>\n",
       "      <th>HAR26</th>\n",
       "      <th>HAC1E</th>\n",
       "      <th>HAC1F</th>\n",
       "      <th>HAC1G</th>\n",
       "      <th>HAC1O</th>\n",
       "      <th>HAL6</th>\n",
       "      <th>HAL10</th>\n",
       "      <th>HAL1</th>\n",
       "      <th>...</th>\n",
       "      <th>DMAETHNR_exam</th>\n",
       "      <th>HSAITMOR_exam</th>\n",
       "      <th>PEFROVERFVC</th>\n",
       "      <th>FEV1OFVC</th>\n",
       "      <th>FEV1OFEV6</th>\n",
       "      <th>PEFROFVC</th>\n",
       "      <th>PEFROFEV6</th>\n",
       "      <th>PEFROFEV1</th>\n",
       "      <th>FEV3OFVC</th>\n",
       "      <th>FEV6OFVC</th>\n",
       "    </tr>\n",
       "  </thead>\n",
       "  <tbody>\n",
       "    <tr>\n",
       "      <th>count</th>\n",
       "      <td>479.0</td>\n",
       "      <td>479.0</td>\n",
       "      <td>479.0</td>\n",
       "      <td>479.0</td>\n",
       "      <td>479.0</td>\n",
       "      <td>479.0</td>\n",
       "      <td>479.0</td>\n",
       "      <td>479.0</td>\n",
       "      <td>479.000000</td>\n",
       "      <td>479.0</td>\n",
       "      <td>...</td>\n",
       "      <td>479.0</td>\n",
       "      <td>479.000000</td>\n",
       "      <td>479.000000</td>\n",
       "      <td>479.000000</td>\n",
       "      <td>479.000000</td>\n",
       "      <td>479.000000</td>\n",
       "      <td>479.000000</td>\n",
       "      <td>479.000000</td>\n",
       "      <td>479.000000</td>\n",
       "      <td>479.000000</td>\n",
       "    </tr>\n",
       "    <tr>\n",
       "      <th>mean</th>\n",
       "      <td>2.0</td>\n",
       "      <td>2.0</td>\n",
       "      <td>2.0</td>\n",
       "      <td>2.0</td>\n",
       "      <td>2.0</td>\n",
       "      <td>2.0</td>\n",
       "      <td>2.0</td>\n",
       "      <td>2.0</td>\n",
       "      <td>1.987474</td>\n",
       "      <td>2.0</td>\n",
       "      <td>...</td>\n",
       "      <td>3.0</td>\n",
       "      <td>452.375783</td>\n",
       "      <td>2.122294</td>\n",
       "      <td>0.824181</td>\n",
       "      <td>0.836464</td>\n",
       "      <td>2.122294</td>\n",
       "      <td>2.153263</td>\n",
       "      <td>2.568511</td>\n",
       "      <td>1.001031</td>\n",
       "      <td>1.034814</td>\n",
       "    </tr>\n",
       "    <tr>\n",
       "      <th>std</th>\n",
       "      <td>0.0</td>\n",
       "      <td>0.0</td>\n",
       "      <td>0.0</td>\n",
       "      <td>0.0</td>\n",
       "      <td>0.0</td>\n",
       "      <td>0.0</td>\n",
       "      <td>0.0</td>\n",
       "      <td>0.0</td>\n",
       "      <td>0.111333</td>\n",
       "      <td>0.0</td>\n",
       "      <td>...</td>\n",
       "      <td>0.0</td>\n",
       "      <td>468.845329</td>\n",
       "      <td>0.387098</td>\n",
       "      <td>0.071030</td>\n",
       "      <td>0.073097</td>\n",
       "      <td>0.387098</td>\n",
       "      <td>0.397138</td>\n",
       "      <td>0.386982</td>\n",
       "      <td>1.144854</td>\n",
       "      <td>1.142839</td>\n",
       "    </tr>\n",
       "    <tr>\n",
       "      <th>min</th>\n",
       "      <td>2.0</td>\n",
       "      <td>2.0</td>\n",
       "      <td>2.0</td>\n",
       "      <td>2.0</td>\n",
       "      <td>2.0</td>\n",
       "      <td>2.0</td>\n",
       "      <td>2.0</td>\n",
       "      <td>2.0</td>\n",
       "      <td>1.000000</td>\n",
       "      <td>2.0</td>\n",
       "      <td>...</td>\n",
       "      <td>3.0</td>\n",
       "      <td>240.000000</td>\n",
       "      <td>0.584980</td>\n",
       "      <td>0.440580</td>\n",
       "      <td>0.032400</td>\n",
       "      <td>0.584980</td>\n",
       "      <td>0.103377</td>\n",
       "      <td>1.304937</td>\n",
       "      <td>0.811878</td>\n",
       "      <td>0.874781</td>\n",
       "    </tr>\n",
       "    <tr>\n",
       "      <th>25%</th>\n",
       "      <td>2.0</td>\n",
       "      <td>2.0</td>\n",
       "      <td>2.0</td>\n",
       "      <td>2.0</td>\n",
       "      <td>2.0</td>\n",
       "      <td>2.0</td>\n",
       "      <td>2.0</td>\n",
       "      <td>2.0</td>\n",
       "      <td>2.000000</td>\n",
       "      <td>2.0</td>\n",
       "      <td>...</td>\n",
       "      <td>3.0</td>\n",
       "      <td>302.000000</td>\n",
       "      <td>1.877990</td>\n",
       "      <td>0.784355</td>\n",
       "      <td>0.800738</td>\n",
       "      <td>1.877990</td>\n",
       "      <td>1.922980</td>\n",
       "      <td>2.329390</td>\n",
       "      <td>0.927933</td>\n",
       "      <td>0.974449</td>\n",
       "    </tr>\n",
       "    <tr>\n",
       "      <th>50%</th>\n",
       "      <td>2.0</td>\n",
       "      <td>2.0</td>\n",
       "      <td>2.0</td>\n",
       "      <td>2.0</td>\n",
       "      <td>2.0</td>\n",
       "      <td>2.0</td>\n",
       "      <td>2.0</td>\n",
       "      <td>2.0</td>\n",
       "      <td>2.000000</td>\n",
       "      <td>2.0</td>\n",
       "      <td>...</td>\n",
       "      <td>3.0</td>\n",
       "      <td>383.000000</td>\n",
       "      <td>2.141267</td>\n",
       "      <td>0.830542</td>\n",
       "      <td>0.842314</td>\n",
       "      <td>2.141267</td>\n",
       "      <td>2.167587</td>\n",
       "      <td>2.565379</td>\n",
       "      <td>0.954855</td>\n",
       "      <td>0.989978</td>\n",
       "    </tr>\n",
       "    <tr>\n",
       "      <th>75%</th>\n",
       "      <td>2.0</td>\n",
       "      <td>2.0</td>\n",
       "      <td>2.0</td>\n",
       "      <td>2.0</td>\n",
       "      <td>2.0</td>\n",
       "      <td>2.0</td>\n",
       "      <td>2.0</td>\n",
       "      <td>2.0</td>\n",
       "      <td>2.000000</td>\n",
       "      <td>2.0</td>\n",
       "      <td>...</td>\n",
       "      <td>3.0</td>\n",
       "      <td>506.000000</td>\n",
       "      <td>2.371775</td>\n",
       "      <td>0.869916</td>\n",
       "      <td>0.879625</td>\n",
       "      <td>2.371775</td>\n",
       "      <td>2.406732</td>\n",
       "      <td>2.803676</td>\n",
       "      <td>0.979400</td>\n",
       "      <td>0.999222</td>\n",
       "    </tr>\n",
       "    <tr>\n",
       "      <th>max</th>\n",
       "      <td>2.0</td>\n",
       "      <td>2.0</td>\n",
       "      <td>2.0</td>\n",
       "      <td>2.0</td>\n",
       "      <td>2.0</td>\n",
       "      <td>2.0</td>\n",
       "      <td>2.0</td>\n",
       "      <td>2.0</td>\n",
       "      <td>2.000000</td>\n",
       "      <td>2.0</td>\n",
       "      <td>...</td>\n",
       "      <td>3.0</td>\n",
       "      <td>9999.000000</td>\n",
       "      <td>3.272295</td>\n",
       "      <td>0.999701</td>\n",
       "      <td>1.000000</td>\n",
       "      <td>3.272295</td>\n",
       "      <td>3.279118</td>\n",
       "      <td>3.612308</td>\n",
       "      <td>25.990643</td>\n",
       "      <td>25.990643</td>\n",
       "    </tr>\n",
       "  </tbody>\n",
       "</table>\n",
       "<p>8 rows × 72 columns</p>\n",
       "</div>"
      ],
      "text/plain": [
       "        HAR1  HAR23  HAR26  HAC1E  HAC1F  HAC1G  HAC1O   HAL6       HAL10  \\\n",
       "count  479.0  479.0  479.0  479.0  479.0  479.0  479.0  479.0  479.000000   \n",
       "mean     2.0    2.0    2.0    2.0    2.0    2.0    2.0    2.0    1.987474   \n",
       "std      0.0    0.0    0.0    0.0    0.0    0.0    0.0    0.0    0.111333   \n",
       "min      2.0    2.0    2.0    2.0    2.0    2.0    2.0    2.0    1.000000   \n",
       "25%      2.0    2.0    2.0    2.0    2.0    2.0    2.0    2.0    2.000000   \n",
       "50%      2.0    2.0    2.0    2.0    2.0    2.0    2.0    2.0    2.000000   \n",
       "75%      2.0    2.0    2.0    2.0    2.0    2.0    2.0    2.0    2.000000   \n",
       "max      2.0    2.0    2.0    2.0    2.0    2.0    2.0    2.0    2.000000   \n",
       "\n",
       "        HAL1  ...  DMAETHNR_exam  HSAITMOR_exam  PEFROVERFVC    FEV1OFVC  \\\n",
       "count  479.0  ...          479.0     479.000000   479.000000  479.000000   \n",
       "mean     2.0  ...            3.0     452.375783     2.122294    0.824181   \n",
       "std      0.0  ...            0.0     468.845329     0.387098    0.071030   \n",
       "min      2.0  ...            3.0     240.000000     0.584980    0.440580   \n",
       "25%      2.0  ...            3.0     302.000000     1.877990    0.784355   \n",
       "50%      2.0  ...            3.0     383.000000     2.141267    0.830542   \n",
       "75%      2.0  ...            3.0     506.000000     2.371775    0.869916   \n",
       "max      2.0  ...            3.0    9999.000000     3.272295    0.999701   \n",
       "\n",
       "        FEV1OFEV6    PEFROFVC   PEFROFEV6   PEFROFEV1    FEV3OFVC    FEV6OFVC  \n",
       "count  479.000000  479.000000  479.000000  479.000000  479.000000  479.000000  \n",
       "mean     0.836464    2.122294    2.153263    2.568511    1.001031    1.034814  \n",
       "std      0.073097    0.387098    0.397138    0.386982    1.144854    1.142839  \n",
       "min      0.032400    0.584980    0.103377    1.304937    0.811878    0.874781  \n",
       "25%      0.800738    1.877990    1.922980    2.329390    0.927933    0.974449  \n",
       "50%      0.842314    2.141267    2.167587    2.565379    0.954855    0.989978  \n",
       "75%      0.879625    2.371775    2.406732    2.803676    0.979400    0.999222  \n",
       "max      1.000000    3.272295    3.279118    3.612308   25.990643   25.990643  \n",
       "\n",
       "[8 rows x 72 columns]"
      ]
     },
     "execution_count": 177,
     "metadata": {},
     "output_type": "execute_result"
    }
   ],
   "source": [
    "m20overb.describe()"
   ]
  },
  {
   "cell_type": "code",
   "execution_count": 173,
   "metadata": {},
   "outputs": [
    {
     "ename": "NameError",
     "evalue": "name 'X' is not defined",
     "output_type": "error",
     "traceback": [
      "\u001b[0;31m---------------------------------------------------------------------------\u001b[0m",
      "\u001b[0;31mNameError\u001b[0m                                 Traceback (most recent call last)",
      "\u001b[0;32m<ipython-input-173-d1749f3d45cc>\u001b[0m in \u001b[0;36m<module>\u001b[0;34m\u001b[0m\n\u001b[0;32m----> 1\u001b[0;31m \u001b[0mplt\u001b[0m\u001b[0;34m.\u001b[0m\u001b[0mscatter\u001b[0m\u001b[0;34m(\u001b[0m\u001b[0mX\u001b[0m\u001b[0;34m,\u001b[0m \u001b[0my\u001b[0m\u001b[0;34m)\u001b[0m\u001b[0;34m\u001b[0m\u001b[0;34m\u001b[0m\u001b[0m\n\u001b[0m",
      "\u001b[0;31mNameError\u001b[0m: name 'X' is not defined"
     ]
    }
   ],
   "source": [
    "plt.scatter(X, y)"
   ]
  },
  {
   "cell_type": "code",
   "execution_count": 174,
   "metadata": {},
   "outputs": [],
   "source": [
    "from scipy import stats"
   ]
  },
  {
   "cell_type": "markdown",
   "metadata": {},
   "source": [
    "# now plot y actual value (e.g. of PEFR/FVC) vs predicted PEFR/FVC\n",
    "first need new value PEFROFVCPRED = the regression for predicted\n",
    "  and PEFROFVCPP - %predicted of PEF\n",
    "then do linear regression of x = PEFROFVCPRED and y = PEFROFVCROFVC\n",
    "do scatter plot of X,y to see if \n",
    "do histogram of PEFROFVC\n",
    "do linear regression and scatter plot of PEFROFVCPP (y) versus age to see if the SDev varies by age\n",
    "need see if normal distribution of \n",
    "\n",
    "Also have new variables PEFRPP/FVCPP - or PEFRPP-FVCPP\n",
    "  then see if one or other has normal distribution and what is variance\n",
    "  ratio should be centered around 1; and difference around 0\n",
    "  I have been using PEFRPP-FVCPP >30 as indicator, but ratio may be better (e.g. if more than 1.3,"
   ]
  },
  {
   "cell_type": "markdown",
   "metadata": {},
   "source": [
    "do plot of actual FEV1 vs predicted FEV1 ( x vs y)\n",
    "to get lower limit, need standard deviation - first see if normal distribution\n",
    "  then fit to gaussian and sdev from that\n",
    "  \n",
    "  need check whether same sdev for each age; whether same for each height, for each height**2, for each predicted FEV1\n",
    "    by categories\n"
   ]
  },
  {
   "cell_type": "markdown",
   "metadata": {},
   "source": [
    "We're trying to replicate and update Hankinson"
   ]
  },
  {
   "cell_type": "markdown",
   "metadata": {},
   "source": [
    "We're trying to replicate and update Hankinson"
   ]
  },
  {
   "cell_type": "markdown",
   "metadata": {},
   "source": [
    "# Now need determine LLN - ?used std"
   ]
  },
  {
   "cell_type": "markdown",
   "metadata": {},
   "source": [
    "Determine lower limit of normal\n",
    "  can do this if get starndard deviation for each variable\n",
    "Assuming normal distribution get standard deviation for each variable\n",
    "Could create variable as %predicted, then do normal distribution of the %predicteds\n",
    "Would want to check if the standard deviation varied by age ?height\n",
    "Alternatively is there a way to get lower 5%\n"
   ]
  },
  {
   "cell_type": "code",
   "execution_count": null,
   "metadata": {},
   "outputs": [],
   "source": []
  },
  {
   "cell_type": "code",
   "execution_count": null,
   "metadata": {},
   "outputs": [],
   "source": []
  }
 ],
 "metadata": {
  "kernelspec": {
   "display_name": "Python 3",
   "language": "python",
   "name": "python3"
  },
  "language_info": {
   "codemirror_mode": {
    "name": "ipython",
    "version": 3
   },
   "file_extension": ".py",
   "mimetype": "text/x-python",
   "name": "python",
   "nbconvert_exporter": "python",
   "pygments_lexer": "ipython3",
   "version": "3.7.6"
  }
 },
 "nbformat": 4,
 "nbformat_minor": 4
}

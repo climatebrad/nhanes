{
 "cells": [
  {
   "cell_type": "code",
   "execution_count": 69,
   "id": "brown-administrator",
   "metadata": {},
   "outputs": [],
   "source": [
    "import pandas as pd\n",
    "import nhanes_loader\n",
    "import matplotlib.pyplot as plt\n",
    "import numpy as np\n",
    "from sklearn.linear_model import LinearRegression\n",
    "import importlib\n",
    "import nhanes.regressions\n",
    "importlib.reload(nhanes.regressions)\n",
    "from nhanes.regressions import generate_demo_group, do_regression"
   ]
  },
  {
   "cell_type": "code",
   "execution_count": 2,
   "id": "annual-spoke",
   "metadata": {},
   "outputs": [],
   "source": [
    "adult_final = pd.read_pickle('data/adult_final.pkl.gz')"
   ]
  },
  {
   "cell_type": "code",
   "execution_count": 3,
   "id": "existing-lithuania",
   "metadata": {},
   "outputs": [],
   "source": [
    "youth_final = pd.read_pickle('data/youth_final.pkl.gz')"
   ]
  },
  {
   "cell_type": "markdown",
   "id": "suitable-rwanda",
   "metadata": {},
   "source": [
    "Some of the spirometry variables of interest are not ratios."
   ]
  },
  {
   "cell_type": "code",
   "execution_count": 34,
   "id": "focal-volleyball",
   "metadata": {},
   "outputs": [],
   "source": [
    "varsnonratio = [ 'EXPIR','FEF75', 'FEV05', 'FEV1', 'FEV3', 'FEV6', 'FVC',  'MMEF', 'PEFR']"
   ]
  },
  {
   "cell_type": "markdown",
   "id": "front-possession",
   "metadata": {},
   "source": [
    "Some of the variables of interest are ratios."
   ]
  },
  {
   "cell_type": "code",
   "execution_count": 33,
   "id": "mathematical-right",
   "metadata": {},
   "outputs": [],
   "source": [
    "varsratio= ['FEF75OFVC', 'FEF75OPEFR', \n",
    "            'FEV05OFEV3', 'FEV05OFVC', \n",
    "            'FEV1OFEV3',  'FEV1OFEV6', \n",
    "            'FEV1OFVC', 'FEV3OFEV6',\n",
    "            'FEV3OFVC', 'FEV6OFVC', \n",
    "            'MMEFOFVC', 'MMEFOPEFR', \n",
    "            'PEFROFEV1', 'PEFROFEV6', \n",
    "            'PEFROFVC']"
   ]
  },
  {
   "cell_type": "markdown",
   "id": "static-negotiation",
   "metadata": {},
   "source": [
    "We want to run linear regressions for these ratio variables against age for various demographics groups.\n",
    "\n",
    "24 demographic combinations:\n",
    "* male vs female (2)\n",
    "* black vs non-black vs white-only vs mexican-only (4)\n",
    "* all ages vs over age cut-off ( 20 for men and 18 for women) vs under age cut-off (2)"
   ]
  },
  {
   "cell_type": "markdown",
   "id": "radical-graham",
   "metadata": {},
   "source": [
    "Similarly, we run linear regressions for the non-ratio variables against height, age, and age^2."
   ]
  },
  {
   "cell_type": "code",
   "execution_count": 67,
   "id": "double-indian",
   "metadata": {},
   "outputs": [],
   "source": [
    "def get_regression_results(regression_type, variables):\n",
    "    \"\"\"Generate array of regression results for various demographic combinations.\n",
    "       regression_type can be 'age' or 'height_age'\"\"\"\n",
    "    \n",
    "    regression_results = []\n",
    "\n",
    "    for sex in ('male', 'female'):\n",
    "        for ethnicity in ('black', 'non-black', 'white', 'mexican'):\n",
    "            for age_range in ('all', 'under', 'over'):\n",
    "                 # generate demographic group dataframe\n",
    "                demo_group = generate_demo_group(adult_final, youth_final, ethnicity, sex, age_range)\n",
    "\n",
    "                # do linear regression for variables\n",
    "                for var in variables:\n",
    "                    intercept, slope, r_squared = do_regression(regression_type, demo_group, var) \n",
    "                    slope = slope[0]\n",
    "                    std = demo_group.loc[:, var].std()\n",
    "                    count = demo_group.loc[:, var].count()\n",
    "                    regression_results.append({\n",
    "                        'sex' : sex,\n",
    "                        'ethnicity' : ethnicity,\n",
    "                        'age_range' : age_range,\n",
    "                        'var' : var,\n",
    "                        'intercept' : intercept,\n",
    "                        'slope' : slope,\n",
    "                        'r_squared' : r_squared,\n",
    "                        'std' : std,\n",
    "                        'count' : count\n",
    "                    })  \n",
    "    return regression_results"
   ]
  },
  {
   "cell_type": "code",
   "execution_count": 71,
   "id": "valid-carbon",
   "metadata": {},
   "outputs": [],
   "source": [
    "ratio_var_regression_results = get_regression_results('age', varsratio)"
   ]
  },
  {
   "cell_type": "code",
   "execution_count": 72,
   "id": "tender-financing",
   "metadata": {},
   "outputs": [],
   "source": [
    "pd.DataFrame(ratio_var_regression_results).to_csv('data/ratio_var_regresssions.csv')"
   ]
  },
  {
   "cell_type": "code",
   "execution_count": 73,
   "id": "final-champion",
   "metadata": {},
   "outputs": [],
   "source": [
    "nonratio_var_regression_results = get_regression_results('age_height', varsnonratio)"
   ]
  },
  {
   "cell_type": "code",
   "execution_count": 74,
   "id": "accompanied-dairy",
   "metadata": {},
   "outputs": [],
   "source": [
    "pd.DataFrame(nonratio_var_regression_results).to_csv('data/nonratio_var_regresssions.csv')"
   ]
  },
  {
   "cell_type": "code",
   "execution_count": null,
   "id": "baking-genetics",
   "metadata": {},
   "outputs": [],
   "source": []
  }
 ],
 "metadata": {
  "kernelspec": {
   "display_name": "Python 3",
   "language": "python",
   "name": "python3"
  },
  "language_info": {
   "codemirror_mode": {
    "name": "ipython",
    "version": 3
   },
   "file_extension": ".py",
   "mimetype": "text/x-python",
   "name": "python",
   "nbconvert_exporter": "python",
   "pygments_lexer": "ipython3",
   "version": "3.9.1"
  }
 },
 "nbformat": 4,
 "nbformat_minor": 5
}

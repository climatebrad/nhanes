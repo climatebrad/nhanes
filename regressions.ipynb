{
 "cells": [
  {
   "cell_type": "code",
   "execution_count": 62,
   "id": "female-organ",
   "metadata": {},
   "outputs": [],
   "source": [
    "import pandas as pd\n",
    "import nhanes_loader\n",
    "import matplotlib.pyplot as plt\n",
    "import numpy as np\n",
    "from sklearn.linear_model import LinearRegression\n",
    "from nhanes.regressions import generate_demo_group, do_age_regression"
   ]
  },
  {
   "cell_type": "code",
   "execution_count": 2,
   "id": "suffering-dealing",
   "metadata": {},
   "outputs": [],
   "source": [
    "adult_final = pd.read_pickle('data/adult_final.pkl.gz')"
   ]
  },
  {
   "cell_type": "code",
   "execution_count": 3,
   "id": "conceptual-checkout",
   "metadata": {},
   "outputs": [],
   "source": [
    "youth_final = pd.read_pickle('data/youth_final.pkl.gz')"
   ]
  },
  {
   "cell_type": "markdown",
   "id": "entertaining-journal",
   "metadata": {},
   "source": [
    "Some of the spirometry variables of interest are not ratios."
   ]
  },
  {
   "cell_type": "code",
   "execution_count": 34,
   "id": "applicable-cricket",
   "metadata": {},
   "outputs": [],
   "source": [
    "varsnonratio = [ 'EXPIR','FEF75', 'FEV05', 'FEV1', 'FEV3', 'FEV6', 'FVC',  'MMEF', 'PEFR']"
   ]
  },
  {
   "cell_type": "markdown",
   "id": "intellectual-scroll",
   "metadata": {},
   "source": [
    "Some of the variables of interest are ratios."
   ]
  },
  {
   "cell_type": "code",
   "execution_count": 33,
   "id": "welsh-principal",
   "metadata": {},
   "outputs": [],
   "source": [
    "varsratio= ['FEF75OFVC', 'FEF75OPEFR', \n",
    "            'FEV05OFEV3', 'FEV05OFVC', \n",
    "            'FEV1OFEV3',  'FEV1OFEV6', \n",
    "            'FEV1OFVC', 'FEV3OFEV6',\n",
    "            'FEV3OFVC', 'FEV6OFVC', \n",
    "            'MMEFOFVC', 'MMEFOPEFR', \n",
    "            'PEFROFEV1', 'PEFROFEV6', \n",
    "            'PEFROFVC']"
   ]
  },
  {
   "cell_type": "markdown",
   "id": "aggregate-wholesale",
   "metadata": {},
   "source": [
    "We want to run linear regressions for these ratio variables against age for various demographics groups.\n",
    "\n",
    "24 demographic combinations:\n",
    "* male vs female (2)\n",
    "* black vs non-black vs white-only vs mexican-only (4)\n",
    "* all ages vs over age cut-off ( 20 for men and 18 for women) vs under age cut-off (2)"
   ]
  },
  {
   "cell_type": "code",
   "execution_count": 63,
   "id": "polyphonic-commonwealth",
   "metadata": {},
   "outputs": [],
   "source": [
    "regression_results = []\n",
    "\n",
    "for sex in ('male', 'female'):\n",
    "    for ethnicity in ('black', 'non-black', 'white', 'mexican'):\n",
    "        for age_range in ('all', 'under', 'over'):\n",
    "             # generate demographic group dataframe\n",
    "            demo_group = generate_demo_group(adult_final, youth_final, ethnicity, sex, age_range)\n",
    "            \n",
    "            # do linear regression against age for variables\n",
    "            for ratio_var in varsratio:\n",
    "                intercept, slope, r_squared = do_age_regression(demo_group, ratio_var) \n",
    "                slope = slope[0]\n",
    "                std = demo_group.loc[:,ratio_var].std()\n",
    "                count = demo_group.loc[:,ratio_var].count()\n",
    "                regression_results.append({\n",
    "                    'sex' : sex,\n",
    "                    'ethnicity' : ethnicity,\n",
    "                    'age_range' : age_range,\n",
    "                    'ratio_var' : ratio_var,\n",
    "                    'intercept' : intercept,\n",
    "                    'slope' : slope,\n",
    "                    'r_squared' : r_squared,\n",
    "                    'std' : std,\n",
    "                    'count' : count\n",
    "                })"
   ]
  },
  {
   "cell_type": "code",
   "execution_count": 65,
   "id": "geological-second",
   "metadata": {},
   "outputs": [],
   "source": [
    "pd.DataFrame(regression_results).to_csv('data/ratio_var_regresssions.csv')"
   ]
  },
  {
   "cell_type": "code",
   "execution_count": null,
   "id": "massive-mayor",
   "metadata": {},
   "outputs": [],
   "source": []
  }
 ],
 "metadata": {
  "kernelspec": {
   "display_name": "Python 3",
   "language": "python",
   "name": "python3"
  },
  "language_info": {
   "codemirror_mode": {
    "name": "ipython",
    "version": 3
   },
   "file_extension": ".py",
   "mimetype": "text/x-python",
   "name": "python",
   "nbconvert_exporter": "python",
   "pygments_lexer": "ipython3",
   "version": "3.9.1"
  }
 },
 "nbformat": 4,
 "nbformat_minor": 5
}

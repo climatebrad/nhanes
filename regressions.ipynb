{
 "cells": [
  {
   "cell_type": "code",
   "execution_count": 69,
   "id": "dutch-tolerance",
   "metadata": {},
   "outputs": [],
   "source": [
    "import pandas as pd\n",
    "import nhanes_loader\n",
    "import matplotlib.pyplot as plt\n",
    "import numpy as np\n",
    "from sklearn.linear_model import LinearRegression\n",
    "import importlib\n",
    "import nhanes.regressions\n",
    "importlib.reload(nhanes.regressions)\n",
    "from nhanes.regressions import get_regression_results"
   ]
  },
  {
   "cell_type": "code",
   "execution_count": 2,
   "id": "relevant-drilling",
   "metadata": {},
   "outputs": [],
   "source": [
    "adult_final = pd.read_pickle('data/adult_final.pkl.gz')"
   ]
  },
  {
   "cell_type": "code",
   "execution_count": 3,
   "id": "worse-medium",
   "metadata": {},
   "outputs": [],
   "source": [
    "youth_final = pd.read_pickle('data/youth_final.pkl.gz')"
   ]
  },
  {
   "cell_type": "markdown",
   "id": "beginning-border",
   "metadata": {},
   "source": [
    "Some of the spirometry variables of interest are not ratios."
   ]
  },
  {
   "cell_type": "code",
   "execution_count": 34,
   "id": "cheap-parks",
   "metadata": {},
   "outputs": [],
   "source": [
    "varsnonratio = [ 'EXPIR','FEF75', 'FEV05', 'FEV1', 'FEV3', 'FEV6', 'FVC',  'MMEF', 'PEFR']"
   ]
  },
  {
   "cell_type": "markdown",
   "id": "dimensional-cleaner",
   "metadata": {},
   "source": [
    "Some of the variables of interest are ratios."
   ]
  },
  {
   "cell_type": "code",
   "execution_count": 33,
   "id": "alleged-transaction",
   "metadata": {},
   "outputs": [],
   "source": [
    "varsratio= ['FEF75OFVC', 'FEF75OPEFR', \n",
    "            'FEV05OFEV3', 'FEV05OFVC', \n",
    "            'FEV1OFEV3',  'FEV1OFEV6', \n",
    "            'FEV1OFVC', 'FEV3OFEV6',\n",
    "            'FEV3OFVC', 'FEV6OFVC', \n",
    "            'MMEFOFVC', 'MMEFOPEFR', \n",
    "            'PEFROFEV1', 'PEFROFEV6', \n",
    "            'PEFROFVC']"
   ]
  },
  {
   "cell_type": "markdown",
   "id": "forbidden-airport",
   "metadata": {},
   "source": [
    "We want to run linear regressions for these ratio variables against age for various demographics groups.\n",
    "\n",
    "24 demographic combinations:\n",
    "* male vs female (2)\n",
    "* black vs non-black vs white-only vs mexican-only (4)\n",
    "* all ages vs over age cut-off ( 20 for men and 18 for women) vs under age cut-off (2)"
   ]
  },
  {
   "cell_type": "code",
   "execution_count": 71,
   "id": "historical-imperial",
   "metadata": {},
   "outputs": [],
   "source": [
    "ratio_var_regression_results = get_regression_results(adult_final, youth_final, 'age', varsratio)"
   ]
  },
  {
   "cell_type": "code",
   "execution_count": 72,
   "id": "broad-calvin",
   "metadata": {},
   "outputs": [],
   "source": [
    "pd.DataFrame(ratio_var_regression_results).to_csv('data/ratio_var_regresssions.csv')"
   ]
  },
  {
   "cell_type": "markdown",
   "id": "numerical-hygiene",
   "metadata": {},
   "source": [
    "Similarly, we run linear regressions for the non-ratio variables against height, age, and age^2."
   ]
  },
  {
   "cell_type": "code",
   "execution_count": 73,
   "id": "muslim-economy",
   "metadata": {},
   "outputs": [],
   "source": [
    "nonratio_var_regression_results = get_regression_results(adult_final, youth_final, 'height_age', varsnonratio)"
   ]
  },
  {
   "cell_type": "code",
   "execution_count": 74,
   "id": "casual-actress",
   "metadata": {},
   "outputs": [],
   "source": [
    "pd.DataFrame(nonratio_var_regression_results).to_csv('data/nonratio_var_regresssions.csv')"
   ]
  },
  {
   "cell_type": "code",
   "execution_count": null,
   "id": "proper-elevation",
   "metadata": {},
   "outputs": [],
   "source": []
  }
 ],
 "metadata": {
  "kernelspec": {
   "display_name": "Python 3",
   "language": "python",
   "name": "python3"
  },
  "language_info": {
   "codemirror_mode": {
    "name": "ipython",
    "version": 3
   },
   "file_extension": ".py",
   "mimetype": "text/x-python",
   "name": "python",
   "nbconvert_exporter": "python",
   "pygments_lexer": "ipython3",
   "version": "3.9.1"
  }
 },
 "nbformat": 4,
 "nbformat_minor": 5
}
